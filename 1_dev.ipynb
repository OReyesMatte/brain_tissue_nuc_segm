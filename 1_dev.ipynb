{
 "cells": [
  {
   "cell_type": "code",
   "execution_count": 1,
   "metadata": {},
   "outputs": [],
   "source": [
    "from pathlib import Path\n",
    "import czifile\n",
    "import napari\n",
    "import numpy as np\n",
    "from scipy.ndimage import binary_erosion\n",
    "import pyclesperanto_prototype as cle\n"
   ]
  },
  {
   "cell_type": "code",
   "execution_count": 2,
   "metadata": {},
   "outputs": [],
   "source": [
    "directory_path = Path(\"./raw_data/NeuN_Calbinding_KI67\")"
   ]
  },
  {
   "cell_type": "code",
   "execution_count": 3,
   "metadata": {},
   "outputs": [
    {
     "data": {
      "text/plain": [
       "['raw_data\\\\NeuN_Calbinding_KI67\\\\HI 1  Contralateral Mouse 8  slide 6 Neun Red Calb Green KI67 Magenta 40x technical replica 1.czi',\n",
       " 'raw_data\\\\NeuN_Calbinding_KI67\\\\HI 1  Ipsilateral Mouse 8  slide 6 Neun Red Calb Green KI67 Magenta 40x technical replica 1.czi']"
      ]
     },
     "execution_count": 3,
     "metadata": {},
     "output_type": "execute_result"
    }
   ],
   "source": [
    "# Create an empty list to store all image filepaths within the dataset directory\n",
    "images = []\n",
    "\n",
    "# Iterate through the lsm files in the directory\n",
    "for file_path in directory_path.glob(\"*.czi\"):\n",
    "    images.append(str(file_path))\n",
    "    \n",
    "images"
   ]
  },
  {
   "cell_type": "code",
   "execution_count": 4,
   "metadata": {},
   "outputs": [],
   "source": [
    "image = images[0]\n",
    "\n",
    "# Read path storing raw image and extract filename\n",
    "file_path = Path(image)\n",
    "filename = file_path.stem\n",
    "\n",
    "# Read the image file\n",
    "img = czifile.imread(image)"
   ]
  },
  {
   "cell_type": "code",
   "execution_count": 5,
   "metadata": {},
   "outputs": [
    {
     "data": {
      "text/plain": [
       "(4, 14, 3803, 2891)"
      ]
     },
     "execution_count": 5,
     "metadata": {},
     "output_type": "execute_result"
    }
   ],
   "source": [
    "# Remove singleton dimensions\n",
    "img = img.squeeze()\n",
    "img.shape"
   ]
  },
  {
   "cell_type": "code",
   "execution_count": 6,
   "metadata": {},
   "outputs": [
    {
     "data": {
      "text/plain": [
       "(3803, 2891)"
      ]
     },
     "execution_count": 6,
     "metadata": {},
     "output_type": "execute_result"
    }
   ],
   "source": [
    "# Define the nuclei and markers of interest channels ('Remember in Python one starts counting from zero')\n",
    "nuclei_channel = 3\n",
    "\n",
    "nuclei_stack = img[nuclei_channel, :, :, :]\n",
    "\n",
    "# Perform maximum intensity projections\n",
    "nuclei_mip = np.max(nuclei_stack, axis=0)\n",
    "\n",
    "nuclei_mip.shape"
   ]
  },
  {
   "cell_type": "code",
   "execution_count": 7,
   "metadata": {},
   "outputs": [
    {
     "name": "stderr",
     "output_type": "stream",
     "text": [
      "Invalid schema for package 'ome-types', please run 'npe2 validate ome-types' to check for manifest errors.\n"
     ]
    },
    {
     "data": {
      "text/plain": [
       "<Image layer 'nuclei_mip' at 0x20a81b23d00>"
      ]
     },
     "execution_count": 7,
     "metadata": {},
     "output_type": "execute_result"
    }
   ],
   "source": [
    "viewer = napari.Viewer(ndisplay=2)\n",
    "viewer.add_image(img)\n",
    "viewer.add_image(nuclei_stack)\n",
    "viewer.add_image(nuclei_mip)"
   ]
  },
  {
   "cell_type": "code",
   "execution_count": 8,
   "metadata": {},
   "outputs": [],
   "source": [
    "from skimage import measure, exposure, filters\n",
    "from cellpose import models\n",
    "\n",
    "model = models.Cellpose(gpu=True, model_type=\"nuclei\")"
   ]
  },
  {
   "cell_type": "code",
   "execution_count": 9,
   "metadata": {},
   "outputs": [],
   "source": [
    "gaussian_sigma = 0\n",
    "cellpose_nuclei_diameter = None"
   ]
  },
  {
   "cell_type": "code",
   "execution_count": 10,
   "metadata": {},
   "outputs": [],
   "source": [
    "# Create a copy of nuclei_mip\n",
    "input_img = nuclei_mip.copy()\n",
    "\n",
    "# Might need to perform a Gaussian-blur before\n",
    "post_gaussian_img = filters.gaussian(\n",
    "    input_img, sigma=gaussian_sigma\n",
    ")\n",
    "\n",
    "# Apply Contrast Stretching to improve Cellpose detection of overly bright nuclei\n",
    "p2, p98 = np.percentile(post_gaussian_img, (2, 98))\n",
    "img_rescale = exposure.rescale_intensity(\n",
    "    post_gaussian_img, in_range=(p2, p98)\n",
    ")\n",
    "\n",
    "# Predict nuclei nuclei_masks using cellpose\n",
    "nuclei_masks, flows, styles, diams = model.eval(\n",
    "    img_rescale,\n",
    "    diameter=cellpose_nuclei_diameter,\n",
    "    channels=[0, 0],\n",
    "    net_avg=False,\n",
    ")"
   ]
  },
  {
   "cell_type": "code",
   "execution_count": 11,
   "metadata": {},
   "outputs": [
    {
     "data": {
      "text/plain": [
       "<Labels layer 'nuclei_masks' at 0x20a83a23d00>"
      ]
     },
     "execution_count": 11,
     "metadata": {},
     "output_type": "execute_result"
    }
   ],
   "source": [
    "viewer.add_labels(nuclei_masks)"
   ]
  },
  {
   "cell_type": "code",
   "execution_count": 12,
   "metadata": {},
   "outputs": [
    {
     "data": {
      "text/plain": [
       "<Image layer 'marker_mip' at 0x20aabad88e0>"
      ]
     },
     "execution_count": 12,
     "metadata": {},
     "output_type": "execute_result"
    }
   ],
   "source": [
    "# Define your marker of interest channel\n",
    "marker_channel = 1\n",
    "marker_channel_threshold = 100\n",
    "erosion_factor = 3\n",
    "\n",
    "marker_stack = img[marker_channel, :, :, :]\n",
    "\n",
    "# Perform maximum intensity projections\n",
    "marker_mip = np.max(marker_stack, axis=0)\n",
    "\n",
    "viewer.add_image(marker_mip)\n"
   ]
  },
  {
   "cell_type": "code",
   "execution_count": null,
   "metadata": {},
   "outputs": [],
   "source": []
  },
  {
   "cell_type": "code",
   "execution_count": 13,
   "metadata": {},
   "outputs": [
    {
     "data": {
      "text/plain": [
       "<Labels layer 'HI 1  Contralateral Mouse 8  slide 6 Neun Red Calb Green KI67 Magenta 40x technical replica 1_marker+_nuclei' at 0x20aabcb54c0>"
      ]
     },
     "execution_count": 13,
     "metadata": {},
     "output_type": "execute_result"
    }
   ],
   "source": [
    "# Erode dilated_nuclei_masks to obtain separate objects upon binarization\n",
    "eroded_nuclei_masks = cle.erode_labels(nuclei_masks, radius=1)\n",
    "\n",
    "# Set a threshold value for the pixels in microglia channel\n",
    "threshold = marker_channel_threshold  # Based on the microglia marker intensity across images\n",
    "\n",
    "# Create a new array with the same shape as nuclei_masks, initialized with False\n",
    "result_array = np.full_like(nuclei_masks, False, dtype=bool)\n",
    "\n",
    "# Find indices where values in values_array are above the threshold\n",
    "above_threshold_indices = marker_mip > threshold\n",
    "\n",
    "# Update the corresponding positions in the result_array based on the mask_array\n",
    "nuclei_masks_bool = nuclei_masks.astype(\n",
    "    bool\n",
    ")  # Make a boolean copy of nuclei_masks to be able to use logical operators\n",
    "result_array[nuclei_masks_bool & above_threshold_indices] = True\n",
    "\n",
    "# Convert the boolean array to a binary array\n",
    "binary_result_array = result_array.astype(int)\n",
    "\n",
    "# Now, result_array contains True where both conditions are satisfied, and False otherwise\n",
    "# viewer.add_labels(binary_result_array, name=f\"{filename}_nuclei+glia_coloc\")\n",
    "\n",
    "# Erode binary_result_array to get rid of small nuclei pixels colocalizing with glia branches\n",
    "# Set the structuring element for erosion\n",
    "structuring_element = np.ones(\n",
    "    (\n",
    "        erosion_factor,\n",
    "        erosion_factor,\n",
    "    ),\n",
    "    dtype=bool,\n",
    ")  # You can adjust the size and shape\n",
    "\n",
    "# Perform binary erosion\n",
    "eroded_array = binary_erosion(\n",
    "    binary_result_array, structure=structuring_element\n",
    ")\n",
    "\n",
    "# Now I want to recover just the nuclei_masks that are sitting on top of binary_results_array\n",
    "labels, num_labels = measure.label(nuclei_masks, return_num=True)\n",
    "\n",
    "# Create an array of indices corresponding to the True values in binary_result_array\n",
    "true_indices = np.where(eroded_array)\n",
    "\n",
    "# Initialize an array to store labels for each processed region\n",
    "processed_region_labels = np.zeros_like(nuclei_masks, dtype=int)\n",
    "\n",
    "# Label index for processed regions\n",
    "label_index = 1\n",
    "\n",
    "# Iterate over each connected component\n",
    "for label_ in range(1, num_labels + 1):\n",
    "    # Extract the region corresponding to the current label\n",
    "    region = labels == label_\n",
    "\n",
    "    # Check if any True value in binary_result_array is present in the region\n",
    "    if np.any(region[true_indices]):\n",
    "        # Assign a unique label to the processed region\n",
    "        processed_region_labels[region] = label_index\n",
    "        label_index += 1\n",
    "\n",
    "viewer.add_labels(processed_region_labels, name=f\"{filename}_marker+_nuclei\")\n"
   ]
  }
 ],
 "metadata": {
  "kernelspec": {
   "display_name": "microglia_GPU",
   "language": "python",
   "name": "python3"
  },
  "language_info": {
   "codemirror_mode": {
    "name": "ipython",
    "version": 3
   },
   "file_extension": ".py",
   "mimetype": "text/x-python",
   "name": "python",
   "nbconvert_exporter": "python",
   "pygments_lexer": "ipython3",
   "version": "3.9.19"
  }
 },
 "nbformat": 4,
 "nbformat_minor": 2
}
