{
 "cells": [
  {
   "cell_type": "markdown",
   "metadata": {},
   "source": [
    "<h2>3D stack to 2D MIP - Draw ROIs as labels in Napari</h2>\n",
    "\n",
    "OBS! Ignore this step if you plan to analyze the full image.\n",
    "\n",
    "The following notebook is able to process a 3D stack (.czi or .nd2 files) into a MIP and allows you to:\n",
    "\n",
    "1. Inspect your images in Napari.\n",
    "2. Define regions of interest (ROIs) using labels in Napari.\n",
    "3. Store said regions for later processing as .tiff files\n"
   ]
  },
  {
   "cell_type": "code",
   "execution_count": 1,
   "metadata": {},
   "outputs": [],
   "source": [
    "from pathlib import Path\n",
    "import tifffile\n",
    "import napari\n",
    "import os\n",
    "import numpy as np\n",
    "from utils_stardist import list_images, read_image, maximum_intensity_projection, save_rois"
   ]
  },
  {
   "cell_type": "markdown",
   "metadata": {},
   "source": [
    "<h3>Define the directory where your images are stored (.nd2 or .czi files)</h3>"
   ]
  },
  {
   "cell_type": "code",
   "execution_count": null,
   "metadata": {},
   "outputs": [
    {
     "data": {
      "text/plain": [
       "['raw_data\\\\test_data\\\\HI 1  Contralateral Mouse 8  slide 6 Neun Red Calb Green KI67 Magenta 40x technical replica 1.czi',\n",
       " 'raw_data\\\\test_data\\\\HI 1  Ipsilateral Mouse 8  slide 6 Neun Red Calb Green KI67 Magenta 40x technical replica 1.czi']"
      ]
     },
     "execution_count": 2,
     "metadata": {},
     "output_type": "execute_result"
    }
   ],
   "source": [
    "# Copy the path where your images are stored, you can use absolute or relative paths to point at other disk locations\n",
    "directory_path = Path(\"../raw_data/test_data\")\n",
    "\n",
    "# Iterate through the .czi and .nd2 files in the directory\n",
    "images = list_images(directory_path)\n",
    "\n",
    "images"
   ]
  },
  {
   "cell_type": "markdown",
   "metadata": {},
   "source": [
    "<h3>Open each image in the directory</h3>\n",
    "You can do so by changing the number within the brackets below <code>image = images[0]</code>. By changing the <code>slicing factor</code> you lose resolution but speed up processing times (check the results)."
   ]
  },
  {
   "cell_type": "code",
   "execution_count": 3,
   "metadata": {},
   "outputs": [
    {
     "name": "stdout",
     "output_type": "stream",
     "text": [
      "Image analyzed: HI 1  Contralateral Mouse 8  slide 6 Neun Red Calb Green KI67 Magenta 40x technical replica 1\n",
      "Original Array shape: (4, 14, 3803, 2891)\n",
      "Compressed Array shape: (4, 14, 3803, 2891)\n"
     ]
    },
    {
     "name": "stderr",
     "output_type": "stream",
     "text": [
      "Invalid schema for package 'ome-types', please run 'npe2 validate ome-types' to check for manifest errors.\n"
     ]
    },
    {
     "data": {
      "text/plain": [
       "<Image layer 'img_mip' at 0x17c9b6e04c0>"
      ]
     },
     "execution_count": 3,
     "metadata": {},
     "output_type": "execute_result"
    }
   ],
   "source": [
    "# Explore a different image to crop (0 defines the first image in the directory)\n",
    "image = images[0]\n",
    "\n",
    "# Image size reduction (downsampling) to improve processing times (slicing, not lossless compression)\n",
    "# Now, in addition to xy, you can downsample across your z-stack\n",
    "slicing_factor_xy = None # Use 2 or 4 for downsampling in xy (None for lossless)\n",
    "slicing_factor_z = None # Use 2 to select 1 out of every 2 z-slices\n",
    "\n",
    "# Read image, apply slicing if needed and return filename and img as a np array\n",
    "img, filename = read_image(image, slicing_factor_xy, slicing_factor_z)\n",
    "\n",
    "# Generate maximum intensity projection \n",
    "img_mip = maximum_intensity_projection(img)\n",
    "\n",
    "# Show image in Napari to define ROI\n",
    "viewer = napari.Viewer(ndisplay=2)\n",
    "viewer.add_image(img_mip)"
   ]
  },
  {
   "cell_type": "markdown",
   "metadata": {},
   "source": [
    "<h3>Label your regions of interest in Napari and explore the signal of your marker of interest</h3>\n",
    "\n",
    "Make sure to set <code>n edit dim = 3</code> so the label propagates across all channels. Name your regions of interest as i.e. <code>DG</code>, <code>CA1</code>, <code>CA3</code> or <code>HIPPO</code>. If you do not draw any ROI the entire image will be analyzed.\n",
    "\n",
    "Fnally, select the <code>img_mip</code> layer and play with the contrast limit to later set a threshold above which cells will be considered positive for said marker."
   ]
  },
  {
   "cell_type": "markdown",
   "metadata": {},
   "source": [
    "<video controls>\n",
    "  <source src=\"../assets/napari_labels.mp4\" type=\"video/mp4\">\n",
    "  Your browser does not support the video tag.\n",
    "</video>"
   ]
  },
  {
   "cell_type": "markdown",
   "metadata": {},
   "source": [
    "<h3>Save user-defined label ROIs as .tiff files</h3>"
   ]
  },
  {
   "cell_type": "code",
   "execution_count": 4,
   "metadata": {},
   "outputs": [
    {
     "name": "stdout",
     "output_type": "stream",
     "text": [
      "The following labels will be analyzed: ['DG', 'CA', 'ALL']\n"
     ]
    }
   ],
   "source": [
    "save_rois(viewer, directory_path, filename)\n",
    "viewer.close()"
   ]
  }
 ],
 "metadata": {
  "kernelspec": {
   "display_name": "microglia_GPU",
   "language": "python",
   "name": "python3"
  },
  "language_info": {
   "codemirror_mode": {
    "name": "ipython",
    "version": 3
   },
   "file_extension": ".py",
   "mimetype": "text/x-python",
   "name": "python",
   "nbconvert_exporter": "python",
   "pygments_lexer": "ipython3",
   "version": "3.9.19"
  }
 },
 "nbformat": 4,
 "nbformat_minor": 2
}
