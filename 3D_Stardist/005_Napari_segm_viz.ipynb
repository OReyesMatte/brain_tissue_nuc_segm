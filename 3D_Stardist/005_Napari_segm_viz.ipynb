{
 "cells": [
  {
   "cell_type": "markdown",
   "metadata": {},
   "source": [
    "<h2>Data Visualization in Napari - Batch Processing - Quantification of cell populations</h2>\n",
    "\n",
    "The following notebook is able to process the .csv files resulting from BP_Data_analysis (Average Intensity or Colocalization) and:\n",
    "\n",
    "1. Show the cell population definitions in Napari"
   ]
  },
  {
   "cell_type": "code",
   "execution_count": 4,
   "metadata": {},
   "outputs": [],
   "source": [
    "from pathlib import Path\n",
    "from utils_stardist import list_images, display_segm_in_napari"
   ]
  },
  {
   "cell_type": "code",
   "execution_count": 5,
   "metadata": {},
   "outputs": [],
   "source": [
    "# Copy the path where your images are stored, you can use absolute or relative paths to point at other disk locations\n",
    "directory_path = Path(\"../raw_data/test_data\")\n",
    "\n",
    "# Segmentation type (\"2D\" or \"3D\"). \n",
    "segmentation_type = \"3D\"\n",
    "\n",
    "# This is a placeholder to later choose from fine-tuned Cellpose models (default nuclei model in Cellpose 3.0)\n",
    "model_name = \"MEC0.1\"\n",
    "\n",
    "# Input the index for the datapoint/image you want to explore\n",
    "index = 0\n",
    "\n",
    "# Higher slicing factors help to display images and labels faster in Napari (xy downsampling)\n",
    "# Now, in addition to xy, you can downsample across your z-stack\n",
    "slicing_factor_xy = None # Use 2 or 4 for downsampling in xy (None for lossless)\n",
    "slicing_factor_z = None # Use 2 to select 1 out of every 2 z-slices\n",
    "\n",
    "# Input the method used to define cells as positive for a marker (\"avg_int\", \"coloc\") #TODO: \"pixel_class\"\n",
    "method = \"avg_int\"\n",
    "\n",
    "# Iterate through the .czi and .nd2 files in the raw_data directory\n",
    "images = list_images(directory_path)\n"
   ]
  },
  {
   "cell_type": "code",
   "execution_count": null,
   "metadata": {},
   "outputs": [],
   "source": [
    "display_segm_in_napari(directory_path, segmentation_type, model_name, index, slicing_factor_xy, slicing_factor_z, method, images)"
   ]
  }
 ],
 "metadata": {
  "kernelspec": {
   "display_name": "brain_nuc_stardist",
   "language": "python",
   "name": "python3"
  },
  "language_info": {
   "codemirror_mode": {
    "name": "ipython",
    "version": 3
   },
   "file_extension": ".py",
   "mimetype": "text/x-python",
   "name": "python",
   "nbconvert_exporter": "python",
   "pygments_lexer": "ipython3",
   "version": "3.9.21"
  }
 },
 "nbformat": 4,
 "nbformat_minor": 2
}
