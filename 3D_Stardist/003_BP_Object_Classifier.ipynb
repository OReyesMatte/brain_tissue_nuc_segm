{
 "cells": [
  {
   "cell_type": "markdown",
   "metadata": {},
   "source": [
    "<h2>3D stack - Batch Processing - Marker+ based on APOC Object Classifier</h2>\n",
    "\n",
    "The following notebook is able to process a 3D stack (.czi or .nd2 files) and allows you to:\n",
    "\n",
    "1. Inspect your images in Napari.\n",
    "2. Define regions of interest (ROIs) using labels in Napari. Store said ROIs as .tiff files if needed.\n",
    "3. Predict nuclei labels and store them as .tiff files for further processing.\n",
    "4. Extract numbers of cells positive for a marker based on pre-trained object classifiers (scikit random forest).\n",
    "5. Display positive cells in Napari.\n",
    "6. Extract and save number of positive cells in a .csv file (SP_marker_+_label_obj_class)."
   ]
  },
  {
   "cell_type": "code",
   "execution_count": 22,
   "metadata": {},
   "outputs": [
    {
     "name": "stdout",
     "output_type": "stream",
     "text": [
      "Device name: /device:GPU:0\n",
      "Device type: GPU\n",
      "GPU model: device: 0, name: NVIDIA GeForce RTX 4090, pci bus id: 0000:01:00.0, compute capability: 8.9\n"
     ]
    },
    {
     "data": {
      "text/plain": [
       "<NVIDIA GeForce RTX 4090 on Platform: NVIDIA CUDA (2 refs)>"
      ]
     },
     "execution_count": 22,
     "metadata": {},
     "output_type": "execute_result"
    }
   ],
   "source": [
    "from pathlib import Path\n",
    "import tifffile\n",
    "import napari\n",
    "import os\n",
    "from tqdm import tqdm\n",
    "import numpy as np\n",
    "import pandas as pd\n",
    "import pyclesperanto_prototype as cle\n",
    "import apoc\n",
    "from skimage import measure\n",
    "from utils_stardist import get_gpu_details, list_images, read_image, extract_nuclei_stack, get_stardist_model, maximum_intensity_projection, simulate_cytoplasm_chunked_3d, simulate_cell_chunked_3d, simulate_cytoplasm, simulate_cell, segment_nuclei, remove_labels_touching_roi_edge\n",
    "\n",
    "get_gpu_details()\n",
    "cle.select_device(\"RTX\")"
   ]
  },
  {
   "cell_type": "markdown",
   "metadata": {},
   "source": [
    "<h3>Define the directory where your images are stored (.nd2 or .czi files)</h3>"
   ]
  },
  {
   "cell_type": "code",
   "execution_count": 23,
   "metadata": {},
   "outputs": [
    {
     "data": {
      "text/plain": [
       "['..\\\\raw_data\\\\test_data\\\\HI1_CONTRA_M8_S6_TR1.czi',\n",
       " '..\\\\raw_data\\\\test_data\\\\HI1_CONTRA_M8_S6_TR2.czi',\n",
       " '..\\\\raw_data\\\\test_data\\\\HI1_CONTRA_M8_S7_TR1.czi',\n",
       " '..\\\\raw_data\\\\test_data\\\\HI1_CONTRA_M8_S7_TR2.czi',\n",
       " '..\\\\raw_data\\\\test_data\\\\HI1_IPSI_M8_S6_TR1.czi',\n",
       " '..\\\\raw_data\\\\test_data\\\\HI1_IPSI_M8_S6_TR2.czi',\n",
       " '..\\\\raw_data\\\\test_data\\\\HI1_IPSI_M8_S7_TR1.czi',\n",
       " '..\\\\raw_data\\\\test_data\\\\HI2_CONTRA_M10_S10_TR1.czi',\n",
       " '..\\\\raw_data\\\\test_data\\\\HI2_CONTRA_M10_S10_TR2.czi',\n",
       " '..\\\\raw_data\\\\test_data\\\\HI2_IPSI_M10_S10_TR1.czi',\n",
       " '..\\\\raw_data\\\\test_data\\\\HI2_IPSI_M10_S10_TR2.czi',\n",
       " '..\\\\raw_data\\\\test_data\\\\HI3_CONTRA_M11_S10_TR1.czi',\n",
       " '..\\\\raw_data\\\\test_data\\\\HI3_CONTRA_M11_S10_TR2.czi',\n",
       " '..\\\\raw_data\\\\test_data\\\\HI3_IPSI_M11_S10_TR1.czi',\n",
       " '..\\\\raw_data\\\\test_data\\\\HI3_IPSI_M11_S10_TR2.czi',\n",
       " '..\\\\raw_data\\\\test_data\\\\SHAM1_CONTRA_M6_S11_TR1.czi',\n",
       " '..\\\\raw_data\\\\test_data\\\\SHAM1_CONTRA_M6_S11_TR2.czi',\n",
       " '..\\\\raw_data\\\\test_data\\\\SHAM1_CONTRA_M7_S11_TR1.czi',\n",
       " '..\\\\raw_data\\\\test_data\\\\SHAM1_CONTRA_M7_S11_TR2.czi',\n",
       " '..\\\\raw_data\\\\test_data\\\\SHAM1_IPSI_M6_S11_TR1.czi',\n",
       " '..\\\\raw_data\\\\test_data\\\\SHAM1_IPSI_M6_S11_TR2.czi',\n",
       " '..\\\\raw_data\\\\test_data\\\\SHAM1_IPSI_M7_S11_TR1.czi',\n",
       " '..\\\\raw_data\\\\test_data\\\\SHAM1_IPSI_M7_S11_TR2.czi']"
      ]
     },
     "execution_count": 23,
     "metadata": {},
     "output_type": "execute_result"
    }
   ],
   "source": [
    "# Copy the path where your images are stored, you can use absolute or relative paths to point at other disk locations\n",
    "directory_path = Path(\"../raw_data/test_data\")\n",
    "\n",
    "# Define the channels you want to analyze using the following structure:\n",
    "# markers = [(channel_name, channel_nr, cellular_location),(..., ..., ...)]\n",
    "# cellular locations can be \"nucleus\", \"cytoplasm\" or \"cell\" (cell being the sum volume of nucleus and cytoplasm)\n",
    "# Remember in Python one starts counting from 0, so your first channel will be 0\n",
    "# i.e. markers = [(\"ki67\", 0, \"nucleus\"), (\"neun\", 1, \"cell\"), (\"calbindin\", 2, \"cytoplasm\")]\n",
    "markers = [(\"ki67\", 0, \"nucleus\"), (\"neun\", 1, \"cell\"), (\"calbindin\", 2, \"cytoplasm\")]\n",
    "\n",
    "# Iterate through the .czi and .nd2 files in the directory\n",
    "images = list_images(directory_path)\n",
    "\n",
    "images"
   ]
  },
  {
   "cell_type": "markdown",
   "metadata": {},
   "source": [
    "<h3>Open each image in the directory</h3>\n",
    "You can do so by changing the number within the brackets below <code>image = images[0]</code>. By changing the <code>slicing factor</code> you lose resolution but speed up processing times (check the results).\n",
    "\n",
    "If you have not generated nuclei predictions before, input <code>nuclei_channel</code>, <code>n_tiles</code>, <code>segmentation_type</code> and <code>model_name</code> values."
   ]
  },
  {
   "cell_type": "code",
   "execution_count": 24,
   "metadata": {},
   "outputs": [
    {
     "name": "stdout",
     "output_type": "stream",
     "text": [
      "Loading 3D segmentation model\n",
      "Loading network weights from 'weights_best.h5'.\n",
      "Loading thresholds from 'thresholds.json'.\n",
      "Using default values: prob_thresh=0.583933, nms_thresh=0.3.\n"
     ]
    }
   ],
   "source": [
    "# Image size reduction (downsampling) to improve processing times (slicing, not lossless compression)\n",
    "# Now, in addition to xy, you can downsample across your z-stack\n",
    "slicing_factor_xy = None # Use 2 or 4 for downsampling in xy (None for lossless)\n",
    "slicing_factor_z = None # Use 2 to select 1 out of every 2 z-slices\n",
    "\n",
    "# Define the nuclei and markers of interest channel order ('Remember in Python one starts counting from zero')\n",
    "nuclei_channel = 3\n",
    "\n",
    "# The n_tiles parameter defines the number of tiles the input volume/image will be divided into along each dimension (z, y, x) during prediction. \n",
    "# This is useful for processing large images that may not fit into memory at once.\n",
    "# While tiling can handle memory limitations, chopping the image into smaller chunks increases\n",
    "# the processing time for stitching the predictions back together. \n",
    "# Use n_tiles=(1, 1, 1) if the input volume fits in memory without tiling to minimize processing overhead.\n",
    "n_tiles=(1,4,4)\n",
    "\n",
    "# Segmentation type (\"2D\" or \"3D\"). \n",
    "# 2D takes a z-stack as input, performs MIP (Maximum Intensity Projection) and predicts nuclei from the resulting projection (faster, useful for single layers of cells)\n",
    "# 3D is more computationally expensive. Predicts 3D nuclear volumes, useful for multilayered structures\n",
    "segmentation_type = \"3D\"\n",
    "\n",
    "# Nuclear segmentation model type (\"Stardist\")\n",
    "# Choose your Stardist fine-tuned model (model_name) from stardist_models folder\n",
    "# If no custom model is present, type \"test\" and a standard pre-trained model will be loaded\n",
    "model_name = \"MEC0.1\" # Type \"test\" if you don't have a custom model trained\n",
    "\n",
    "# Model loading \n",
    "model = get_stardist_model(segmentation_type, name=model_name, basedir='stardist_models')"
   ]
  },
  {
   "cell_type": "markdown",
   "metadata": {},
   "source": [
    "<h3>Mask the input image with the user defined ROIs, apply object classifiers and extract data</h3>"
   ]
  },
  {
   "cell_type": "code",
   "execution_count": 25,
   "metadata": {},
   "outputs": [
    {
     "name": "stdout",
     "output_type": "stream",
     "text": [
      "Output folder already exists: results\\test_data\\3D\\MEC0.1\n",
      "The following regions of interest will be analyzed: ['CA', 'DG']\n"
     ]
    },
    {
     "name": "stderr",
     "output_type": "stream",
     "text": [
      "  0%|          | 0/23 [00:00<?, ?it/s]"
     ]
    },
    {
     "name": "stdout",
     "output_type": "stream",
     "text": [
      "\n",
      "\n",
      "Image analyzed: HI1_CONTRA_M8_S6_TR1\n",
      "Original Array shape: (4, 14, 3803, 2891)\n",
      "Compressed Array shape: (4, 14, 3803, 2891)\n"
     ]
    },
    {
     "name": "stderr",
     "output_type": "stream",
     "text": []
    },
    {
     "name": "stdout",
     "output_type": "stream",
     "text": [
      "\n",
      "Analyzing ROI: CA\n",
      "Pre-computed nuclei labels found for HI1_CONTRA_M8_S6_TR1\n",
      "Removing nuclei labels touching ROI edge\n",
      "Classifying labels according to ki67 intensities...\n",
      "Generating 3D cell labels for: neun\n",
      "Classifying labels according to neun intensities...\n",
      "Generating 3D cytoplasm labels for: calbindin\n",
      "Classifying labels according to calbindin intensities...\n"
     ]
    },
    {
     "name": "stderr",
     "output_type": "stream",
     "text": []
    },
    {
     "name": "stdout",
     "output_type": "stream",
     "text": [
      "\n",
      "Analyzing ROI: DG\n",
      "Pre-computed nuclei labels found for HI1_CONTRA_M8_S6_TR1\n",
      "Removing nuclei labels touching ROI edge\n",
      "Classifying labels according to ki67 intensities...\n",
      "Generating 3D cell labels for: neun\n",
      "Classifying labels according to neun intensities...\n",
      "Generating 3D cytoplasm labels for: calbindin\n"
     ]
    },
    {
     "name": "stderr",
     "output_type": "stream",
     "text": [
      "utils_stardist.py (533): \n",
      "Mismatch in label sets! Nuclei labels: 2165, Cytoplasm labels: 2125.\n",
      "Missing labels in Cytoplasm: [ 476  946 1135 1166 1416 1478 1519 1525 1541 1542]...\n",
      "1.85% of cells lost during nuclei subtraction operation.\n",
      "If this percentage is too high, consider using 'cell' instead of 'cytoplasm' for marker placement. The nuclei may be too densely packed.\n"
     ]
    },
    {
     "name": "stdout",
     "output_type": "stream",
     "text": [
      "Classifying labels according to calbindin intensities...\n"
     ]
    },
    {
     "name": "stderr",
     "output_type": "stream",
     "text": [
      "100%|██████████| 2/2 [01:34<00:00, 47.06s/it]\n",
      "  4%|▍         | 1/23 [01:34<34:38, 94.48s/it]"
     ]
    },
    {
     "name": "stdout",
     "output_type": "stream",
     "text": [
      "\n",
      "\n",
      "Image analyzed: HI1_CONTRA_M8_S6_TR2\n",
      "Original Array shape: (4, 13, 3802, 2882)\n",
      "Compressed Array shape: (4, 13, 3802, 2882)\n"
     ]
    },
    {
     "name": "stderr",
     "output_type": "stream",
     "text": []
    },
    {
     "name": "stdout",
     "output_type": "stream",
     "text": [
      "\n",
      "Analyzing ROI: CA\n",
      "Pre-computed nuclei labels found for HI1_CONTRA_M8_S6_TR2\n",
      "Removing nuclei labels touching ROI edge\n",
      "Classifying labels according to ki67 intensities...\n",
      "Generating 3D cell labels for: neun\n",
      "Classifying labels according to neun intensities...\n",
      "Generating 3D cytoplasm labels for: calbindin\n",
      "Classifying labels according to calbindin intensities...\n"
     ]
    },
    {
     "name": "stderr",
     "output_type": "stream",
     "text": []
    },
    {
     "name": "stdout",
     "output_type": "stream",
     "text": [
      "\n",
      "Analyzing ROI: DG\n",
      "Pre-computed nuclei labels found for HI1_CONTRA_M8_S6_TR2\n",
      "Removing nuclei labels touching ROI edge\n",
      "Classifying labels according to ki67 intensities...\n",
      "Generating 3D cell labels for: neun\n",
      "Classifying labels according to neun intensities...\n",
      "Generating 3D cytoplasm labels for: calbindin\n"
     ]
    },
    {
     "name": "stderr",
     "output_type": "stream",
     "text": [
      "utils_stardist.py (533): \n",
      "Mismatch in label sets! Nuclei labels: 2042, Cytoplasm labels: 1993.\n",
      "Missing labels in Cytoplasm: [ 299  680  722  854 1056 1127 1142 1194 1339 1511]...\n",
      "2.4% of cells lost during nuclei subtraction operation.\n",
      "If this percentage is too high, consider using 'cell' instead of 'cytoplasm' for marker placement. The nuclei may be too densely packed.\n"
     ]
    },
    {
     "name": "stdout",
     "output_type": "stream",
     "text": [
      "Classifying labels according to calbindin intensities...\n"
     ]
    },
    {
     "name": "stderr",
     "output_type": "stream",
     "text": [
      "100%|██████████| 2/2 [01:18<00:00, 39.23s/it]\n",
      "  9%|▊         | 2/23 [02:53<29:49, 85.20s/it]"
     ]
    },
    {
     "name": "stdout",
     "output_type": "stream",
     "text": [
      "\n",
      "\n",
      "Image analyzed: HI1_CONTRA_M8_S7_TR1\n",
      "Original Array shape: (4, 12, 3805, 2867)\n",
      "Compressed Array shape: (4, 12, 3805, 2867)\n"
     ]
    },
    {
     "name": "stderr",
     "output_type": "stream",
     "text": []
    },
    {
     "name": "stdout",
     "output_type": "stream",
     "text": [
      "\n",
      "Analyzing ROI: CA\n",
      "Pre-computed nuclei labels found for HI1_CONTRA_M8_S7_TR1\n",
      "Removing nuclei labels touching ROI edge\n",
      "Classifying labels according to ki67 intensities...\n",
      "Generating 3D cell labels for: neun\n",
      "Classifying labels according to neun intensities...\n",
      "Generating 3D cytoplasm labels for: calbindin\n",
      "Classifying labels according to calbindin intensities...\n"
     ]
    },
    {
     "name": "stderr",
     "output_type": "stream",
     "text": []
    },
    {
     "name": "stdout",
     "output_type": "stream",
     "text": [
      "\n",
      "Analyzing ROI: DG\n",
      "Pre-computed nuclei labels found for HI1_CONTRA_M8_S7_TR1\n",
      "Removing nuclei labels touching ROI edge\n",
      "Classifying labels according to ki67 intensities...\n",
      "Generating 3D cell labels for: neun\n",
      "Classifying labels according to neun intensities...\n",
      "Generating 3D cytoplasm labels for: calbindin\n"
     ]
    },
    {
     "name": "stderr",
     "output_type": "stream",
     "text": [
      "utils_stardist.py (533): \n",
      "Mismatch in label sets! Nuclei labels: 1771, Cytoplasm labels: 1729.\n",
      "Missing labels in Cytoplasm: [1043 1248 1308 1330 1341 1342 1344 1422 1423 1424]...\n",
      "2.37% of cells lost during nuclei subtraction operation.\n",
      "If this percentage is too high, consider using 'cell' instead of 'cytoplasm' for marker placement. The nuclei may be too densely packed.\n"
     ]
    },
    {
     "name": "stdout",
     "output_type": "stream",
     "text": [
      "Classifying labels according to calbindin intensities...\n"
     ]
    },
    {
     "name": "stderr",
     "output_type": "stream",
     "text": [
      "100%|██████████| 2/2 [01:03<00:00, 31.89s/it]\n",
      " 13%|█▎        | 3/23 [03:57<25:10, 75.51s/it]"
     ]
    },
    {
     "name": "stdout",
     "output_type": "stream",
     "text": [
      "\n",
      "\n",
      "Image analyzed: HI1_CONTRA_M8_S7_TR2\n",
      "Original Array shape: (4, 12, 3806, 2889)\n",
      "Compressed Array shape: (4, 12, 3806, 2889)\n"
     ]
    },
    {
     "name": "stderr",
     "output_type": "stream",
     "text": []
    },
    {
     "name": "stdout",
     "output_type": "stream",
     "text": [
      "\n",
      "Analyzing ROI: CA\n",
      "Pre-computed nuclei labels found for HI1_CONTRA_M8_S7_TR2\n",
      "Removing nuclei labels touching ROI edge\n",
      "Classifying labels according to ki67 intensities...\n",
      "Generating 3D cell labels for: neun\n",
      "Classifying labels according to neun intensities...\n",
      "Generating 3D cytoplasm labels for: calbindin\n",
      "Classifying labels according to calbindin intensities...\n"
     ]
    },
    {
     "name": "stderr",
     "output_type": "stream",
     "text": []
    },
    {
     "name": "stdout",
     "output_type": "stream",
     "text": [
      "\n",
      "Analyzing ROI: DG\n",
      "Pre-computed nuclei labels found for HI1_CONTRA_M8_S7_TR2\n",
      "Removing nuclei labels touching ROI edge\n",
      "Classifying labels according to ki67 intensities...\n",
      "Generating 3D cell labels for: neun\n",
      "Classifying labels according to neun intensities...\n",
      "Generating 3D cytoplasm labels for: calbindin\n"
     ]
    },
    {
     "name": "stderr",
     "output_type": "stream",
     "text": [
      "utils_stardist.py (533): \n",
      "Mismatch in label sets! Nuclei labels: 1736, Cytoplasm labels: 1689.\n",
      "Missing labels in Cytoplasm: [1023 1319 1321 1324 1431 1433 1439 1447 1486 1500]...\n",
      "2.71% of cells lost during nuclei subtraction operation.\n",
      "If this percentage is too high, consider using 'cell' instead of 'cytoplasm' for marker placement. The nuclei may be too densely packed.\n"
     ]
    },
    {
     "name": "stdout",
     "output_type": "stream",
     "text": [
      "Classifying labels according to calbindin intensities...\n"
     ]
    },
    {
     "name": "stderr",
     "output_type": "stream",
     "text": [
      "100%|██████████| 2/2 [00:55<00:00, 27.63s/it]\n",
      " 17%|█▋        | 4/23 [04:52<21:25, 67.65s/it]"
     ]
    },
    {
     "name": "stdout",
     "output_type": "stream",
     "text": [
      "\n",
      "\n",
      "Image analyzed: HI1_IPSI_M8_S6_TR1\n",
      "Original Array shape: (4, 12, 3798, 2877)\n",
      "Compressed Array shape: (4, 12, 3798, 2877)\n"
     ]
    },
    {
     "name": "stderr",
     "output_type": "stream",
     "text": []
    },
    {
     "name": "stdout",
     "output_type": "stream",
     "text": [
      "\n",
      "Analyzing ROI: CA\n",
      "Pre-computed nuclei labels found for HI1_IPSI_M8_S6_TR1\n",
      "Removing nuclei labels touching ROI edge\n",
      "Classifying labels according to ki67 intensities...\n",
      "Generating 3D cell labels for: neun\n",
      "Classifying labels according to neun intensities...\n",
      "Generating 3D cytoplasm labels for: calbindin\n",
      "Classifying labels according to calbindin intensities...\n"
     ]
    },
    {
     "name": "stderr",
     "output_type": "stream",
     "text": []
    },
    {
     "name": "stdout",
     "output_type": "stream",
     "text": [
      "\n",
      "Analyzing ROI: DG\n",
      "Pre-computed nuclei labels found for HI1_IPSI_M8_S6_TR1\n",
      "Removing nuclei labels touching ROI edge\n",
      "Classifying labels according to ki67 intensities...\n",
      "Generating 3D cell labels for: neun\n",
      "Classifying labels according to neun intensities...\n",
      "Generating 3D cytoplasm labels for: calbindin\n",
      "Classifying labels according to calbindin intensities...\n"
     ]
    },
    {
     "name": "stderr",
     "output_type": "stream",
     "text": [
      "100%|██████████| 2/2 [00:55<00:00, 27.71s/it]\n",
      " 22%|██▏       | 5/23 [05:48<19:00, 63.37s/it]"
     ]
    },
    {
     "name": "stdout",
     "output_type": "stream",
     "text": [
      "\n",
      "\n",
      "Image analyzed: HI1_IPSI_M8_S6_TR2\n",
      "Original Array shape: (4, 14, 3802, 2876)\n",
      "Compressed Array shape: (4, 14, 3802, 2876)\n"
     ]
    },
    {
     "name": "stderr",
     "output_type": "stream",
     "text": []
    },
    {
     "name": "stdout",
     "output_type": "stream",
     "text": [
      "\n",
      "Analyzing ROI: CA\n",
      "Pre-computed nuclei labels found for HI1_IPSI_M8_S6_TR2\n",
      "Removing nuclei labels touching ROI edge\n",
      "Classifying labels according to ki67 intensities...\n",
      "Generating 3D cell labels for: neun\n",
      "Classifying labels according to neun intensities...\n",
      "Generating 3D cytoplasm labels for: calbindin\n",
      "Classifying labels according to calbindin intensities...\n"
     ]
    },
    {
     "name": "stderr",
     "output_type": "stream",
     "text": []
    },
    {
     "name": "stdout",
     "output_type": "stream",
     "text": [
      "\n",
      "Analyzing ROI: DG\n",
      "Pre-computed nuclei labels found for HI1_IPSI_M8_S6_TR2\n",
      "Removing nuclei labels touching ROI edge\n",
      "Classifying labels according to ki67 intensities...\n",
      "Generating 3D cell labels for: neun\n",
      "Classifying labels according to neun intensities...\n",
      "Generating 3D cytoplasm labels for: calbindin\n"
     ]
    },
    {
     "name": "stderr",
     "output_type": "stream",
     "text": [
      "utils_stardist.py (533): \n",
      "Mismatch in label sets! Nuclei labels: 1958, Cytoplasm labels: 1938.\n",
      "Missing labels in Cytoplasm: [ 983 1106 1108 1160 1192 1215 1328 1442 1457 1458]...\n",
      "1.02% of cells lost during nuclei subtraction operation.\n",
      "If this percentage is too high, consider using 'cell' instead of 'cytoplasm' for marker placement. The nuclei may be too densely packed.\n"
     ]
    },
    {
     "name": "stdout",
     "output_type": "stream",
     "text": [
      "Classifying labels according to calbindin intensities...\n"
     ]
    },
    {
     "name": "stderr",
     "output_type": "stream",
     "text": [
      "100%|██████████| 2/2 [01:11<00:00, 35.79s/it]\n",
      " 26%|██▌       | 6/23 [07:00<18:47, 66.30s/it]"
     ]
    },
    {
     "name": "stdout",
     "output_type": "stream",
     "text": [
      "\n",
      "\n",
      "Image analyzed: HI1_IPSI_M8_S7_TR1\n",
      "Original Array shape: (4, 12, 2874, 1950)\n",
      "Compressed Array shape: (4, 12, 2874, 1950)\n"
     ]
    },
    {
     "name": "stderr",
     "output_type": "stream",
     "text": []
    },
    {
     "name": "stdout",
     "output_type": "stream",
     "text": [
      "\n",
      "Analyzing ROI: CA\n",
      "Pre-computed nuclei labels found for HI1_IPSI_M8_S7_TR1\n",
      "Removing nuclei labels touching ROI edge\n",
      "Classifying labels according to ki67 intensities...\n",
      "Generating 3D cell labels for: neun\n",
      "Classifying labels according to neun intensities...\n",
      "Generating 3D cytoplasm labels for: calbindin\n",
      "Classifying labels according to calbindin intensities...\n"
     ]
    },
    {
     "name": "stderr",
     "output_type": "stream",
     "text": []
    },
    {
     "name": "stdout",
     "output_type": "stream",
     "text": [
      "\n",
      "Analyzing ROI: DG\n",
      "Pre-computed nuclei labels found for HI1_IPSI_M8_S7_TR1\n",
      "Removing nuclei labels touching ROI edge\n",
      "Classifying labels according to ki67 intensities...\n",
      "Generating 3D cell labels for: neun\n",
      "Classifying labels according to neun intensities...\n",
      "Generating 3D cytoplasm labels for: calbindin\n",
      "Classifying labels according to calbindin intensities...\n"
     ]
    },
    {
     "name": "stderr",
     "output_type": "stream",
     "text": [
      "100%|██████████| 2/2 [00:27<00:00, 13.93s/it]\n",
      " 30%|███       | 7/23 [07:28<14:20, 53.79s/it]"
     ]
    },
    {
     "name": "stdout",
     "output_type": "stream",
     "text": [
      "\n",
      "\n",
      "Image analyzed: HI2_CONTRA_M10_S10_TR1\n",
      "Original Array shape: (4, 14, 3799, 2874)\n",
      "Compressed Array shape: (4, 14, 3799, 2874)\n"
     ]
    },
    {
     "name": "stderr",
     "output_type": "stream",
     "text": []
    },
    {
     "name": "stdout",
     "output_type": "stream",
     "text": [
      "\n",
      "Analyzing ROI: CA\n",
      "Pre-computed nuclei labels found for HI2_CONTRA_M10_S10_TR1\n",
      "Removing nuclei labels touching ROI edge\n",
      "Classifying labels according to ki67 intensities...\n",
      "Generating 3D cell labels for: neun\n",
      "Classifying labels according to neun intensities...\n",
      "Generating 3D cytoplasm labels for: calbindin\n",
      "Classifying labels according to calbindin intensities...\n"
     ]
    },
    {
     "name": "stderr",
     "output_type": "stream",
     "text": []
    },
    {
     "name": "stdout",
     "output_type": "stream",
     "text": [
      "\n",
      "Analyzing ROI: DG\n",
      "Pre-computed nuclei labels found for HI2_CONTRA_M10_S10_TR1\n",
      "Removing nuclei labels touching ROI edge\n",
      "Classifying labels according to ki67 intensities...\n",
      "Generating 3D cell labels for: neun\n",
      "Classifying labels according to neun intensities...\n",
      "Generating 3D cytoplasm labels for: calbindin\n"
     ]
    },
    {
     "name": "stderr",
     "output_type": "stream",
     "text": [
      "utils_stardist.py (533): \n",
      "Mismatch in label sets! Nuclei labels: 1747, Cytoplasm labels: 1662.\n",
      "Missing labels in Cytoplasm: [585 609 785 856 857 951 957 958 960 963]...\n",
      "4.87% of cells lost during nuclei subtraction operation.\n",
      "If this percentage is too high, consider using 'cell' instead of 'cytoplasm' for marker placement. The nuclei may be too densely packed.\n"
     ]
    },
    {
     "name": "stdout",
     "output_type": "stream",
     "text": [
      "Classifying labels according to calbindin intensities...\n"
     ]
    },
    {
     "name": "stderr",
     "output_type": "stream",
     "text": [
      "100%|██████████| 2/2 [01:22<00:00, 41.36s/it]\n",
      " 35%|███▍      | 8/23 [08:51<15:46, 63.13s/it]"
     ]
    },
    {
     "name": "stdout",
     "output_type": "stream",
     "text": [
      "\n",
      "\n",
      "Image analyzed: HI2_CONTRA_M10_S10_TR2\n",
      "Original Array shape: (4, 14, 3813, 2891)\n",
      "Compressed Array shape: (4, 14, 3813, 2891)\n"
     ]
    },
    {
     "name": "stderr",
     "output_type": "stream",
     "text": []
    },
    {
     "name": "stdout",
     "output_type": "stream",
     "text": [
      "\n",
      "Analyzing ROI: CA\n",
      "Pre-computed nuclei labels found for HI2_CONTRA_M10_S10_TR2\n",
      "Removing nuclei labels touching ROI edge\n",
      "Classifying labels according to ki67 intensities...\n",
      "Generating 3D cell labels for: neun\n",
      "Classifying labels according to neun intensities...\n",
      "Generating 3D cytoplasm labels for: calbindin\n",
      "Classifying labels according to calbindin intensities...\n"
     ]
    },
    {
     "name": "stderr",
     "output_type": "stream",
     "text": []
    },
    {
     "name": "stdout",
     "output_type": "stream",
     "text": [
      "\n",
      "Analyzing ROI: DG\n",
      "Pre-computed nuclei labels found for HI2_CONTRA_M10_S10_TR2\n",
      "Removing nuclei labels touching ROI edge\n",
      "Classifying labels according to ki67 intensities...\n",
      "Generating 3D cell labels for: neun\n",
      "Classifying labels according to neun intensities...\n",
      "Generating 3D cytoplasm labels for: calbindin\n"
     ]
    },
    {
     "name": "stderr",
     "output_type": "stream",
     "text": [
      "utils_stardist.py (533): \n",
      "Mismatch in label sets! Nuclei labels: 1579, Cytoplasm labels: 1530.\n",
      "Missing labels in Cytoplasm: [ 733  734  784  848  870  942 1022 1119 1150 1189]...\n",
      "3.1% of cells lost during nuclei subtraction operation.\n",
      "If this percentage is too high, consider using 'cell' instead of 'cytoplasm' for marker placement. The nuclei may be too densely packed.\n"
     ]
    },
    {
     "name": "stdout",
     "output_type": "stream",
     "text": [
      "Classifying labels according to calbindin intensities...\n"
     ]
    },
    {
     "name": "stderr",
     "output_type": "stream",
     "text": [
      "100%|██████████| 2/2 [01:20<00:00, 40.01s/it]\n",
      " 39%|███▉      | 9/23 [10:12<15:59, 68.55s/it]"
     ]
    },
    {
     "name": "stdout",
     "output_type": "stream",
     "text": [
      "\n",
      "\n",
      "Image analyzed: HI2_IPSI_M10_S10_TR1\n",
      "Original Array shape: (4, 13, 2878, 2879)\n",
      "Compressed Array shape: (4, 13, 2878, 2879)\n"
     ]
    },
    {
     "name": "stderr",
     "output_type": "stream",
     "text": []
    },
    {
     "name": "stdout",
     "output_type": "stream",
     "text": [
      "\n",
      "Analyzing ROI: CA\n",
      "Pre-computed nuclei labels found for HI2_IPSI_M10_S10_TR1\n",
      "Removing nuclei labels touching ROI edge\n",
      "Classifying labels according to ki67 intensities...\n",
      "Generating 3D cell labels for: neun\n",
      "Classifying labels according to neun intensities...\n",
      "Generating 3D cytoplasm labels for: calbindin\n",
      "Classifying labels according to calbindin intensities...\n"
     ]
    },
    {
     "name": "stderr",
     "output_type": "stream",
     "text": []
    },
    {
     "name": "stdout",
     "output_type": "stream",
     "text": [
      "\n",
      "Analyzing ROI: DG\n",
      "Pre-computed nuclei labels found for HI2_IPSI_M10_S10_TR1\n",
      "Removing nuclei labels touching ROI edge\n",
      "Classifying labels according to ki67 intensities...\n",
      "Generating 3D cell labels for: neun\n",
      "Classifying labels according to neun intensities...\n",
      "Generating 3D cytoplasm labels for: calbindin\n"
     ]
    },
    {
     "name": "stderr",
     "output_type": "stream",
     "text": [
      "utils_stardist.py (533): \n",
      "Mismatch in label sets! Nuclei labels: 1117, Cytoplasm labels: 1089.\n",
      "Missing labels in Cytoplasm: [634 635 639 680 714 854 856 869 890 891]...\n",
      "2.51% of cells lost during nuclei subtraction operation.\n",
      "If this percentage is too high, consider using 'cell' instead of 'cytoplasm' for marker placement. The nuclei may be too densely packed.\n"
     ]
    },
    {
     "name": "stdout",
     "output_type": "stream",
     "text": [
      "Classifying labels according to calbindin intensities...\n"
     ]
    },
    {
     "name": "stderr",
     "output_type": "stream",
     "text": [
      "100%|██████████| 2/2 [00:46<00:00, 23.36s/it]\n",
      " 43%|████▎     | 10/23 [10:59<13:24, 61.89s/it]"
     ]
    },
    {
     "name": "stdout",
     "output_type": "stream",
     "text": [
      "\n",
      "\n",
      "Image analyzed: HI2_IPSI_M10_S10_TR2\n",
      "Original Array shape: (4, 15, 2880, 1959)\n",
      "Compressed Array shape: (4, 15, 2880, 1959)\n"
     ]
    },
    {
     "name": "stderr",
     "output_type": "stream",
     "text": []
    },
    {
     "name": "stdout",
     "output_type": "stream",
     "text": [
      "\n",
      "Analyzing ROI: CA\n",
      "Pre-computed nuclei labels found for HI2_IPSI_M10_S10_TR2\n",
      "Removing nuclei labels touching ROI edge\n",
      "Classifying labels according to ki67 intensities...\n",
      "Generating 3D cell labels for: neun\n",
      "Classifying labels according to neun intensities...\n",
      "Generating 3D cytoplasm labels for: calbindin\n",
      "Classifying labels according to calbindin intensities...\n"
     ]
    },
    {
     "name": "stderr",
     "output_type": "stream",
     "text": []
    },
    {
     "name": "stdout",
     "output_type": "stream",
     "text": [
      "\n",
      "Analyzing ROI: DG\n",
      "Pre-computed nuclei labels found for HI2_IPSI_M10_S10_TR2\n",
      "Removing nuclei labels touching ROI edge\n",
      "Classifying labels according to ki67 intensities...\n",
      "Generating 3D cell labels for: neun\n",
      "Classifying labels according to neun intensities...\n",
      "Generating 3D cytoplasm labels for: calbindin\n",
      "Classifying labels according to calbindin intensities...\n"
     ]
    },
    {
     "name": "stderr",
     "output_type": "stream",
     "text": [
      "100%|██████████| 2/2 [00:34<00:00, 17.15s/it]\n",
      " 48%|████▊     | 11/23 [11:33<10:41, 53.50s/it]"
     ]
    },
    {
     "name": "stdout",
     "output_type": "stream",
     "text": [
      "\n",
      "\n",
      "Image analyzed: HI3_CONTRA_M11_S10_TR1\n",
      "Original Array shape: (4, 13, 2884, 2879)\n",
      "Compressed Array shape: (4, 13, 2884, 2879)\n"
     ]
    },
    {
     "name": "stderr",
     "output_type": "stream",
     "text": []
    },
    {
     "name": "stdout",
     "output_type": "stream",
     "text": [
      "\n",
      "Analyzing ROI: CA\n",
      "Pre-computed nuclei labels found for HI3_CONTRA_M11_S10_TR1\n",
      "Removing nuclei labels touching ROI edge\n",
      "Classifying labels according to ki67 intensities...\n",
      "Generating 3D cell labels for: neun\n",
      "Classifying labels according to neun intensities...\n",
      "Generating 3D cytoplasm labels for: calbindin\n",
      "Classifying labels according to calbindin intensities...\n"
     ]
    },
    {
     "name": "stderr",
     "output_type": "stream",
     "text": []
    },
    {
     "name": "stdout",
     "output_type": "stream",
     "text": [
      "\n",
      "Analyzing ROI: DG\n",
      "Pre-computed nuclei labels found for HI3_CONTRA_M11_S10_TR1\n",
      "Removing nuclei labels touching ROI edge\n",
      "Classifying labels according to ki67 intensities...\n",
      "Generating 3D cell labels for: neun\n",
      "Classifying labels according to neun intensities...\n",
      "Generating 3D cytoplasm labels for: calbindin\n"
     ]
    },
    {
     "name": "stderr",
     "output_type": "stream",
     "text": [
      "utils_stardist.py (533): \n",
      "Mismatch in label sets! Nuclei labels: 2106, Cytoplasm labels: 2075.\n",
      "Missing labels in Cytoplasm: [1397 1452 1507 1585 1627 1640 1648 1684 1788 1799]...\n",
      "1.47% of cells lost during nuclei subtraction operation.\n",
      "If this percentage is too high, consider using 'cell' instead of 'cytoplasm' for marker placement. The nuclei may be too densely packed.\n"
     ]
    },
    {
     "name": "stdout",
     "output_type": "stream",
     "text": [
      "Classifying labels according to calbindin intensities...\n"
     ]
    },
    {
     "name": "stderr",
     "output_type": "stream",
     "text": [
      "100%|██████████| 2/2 [00:52<00:00, 26.19s/it]\n",
      " 52%|█████▏    | 12/23 [12:26<09:45, 53.24s/it]"
     ]
    },
    {
     "name": "stdout",
     "output_type": "stream",
     "text": [
      "\n",
      "\n",
      "Image analyzed: HI3_CONTRA_M11_S10_TR2\n",
      "Original Array shape: (4, 11, 2881, 2882)\n",
      "Compressed Array shape: (4, 11, 2881, 2882)\n"
     ]
    },
    {
     "name": "stderr",
     "output_type": "stream",
     "text": []
    },
    {
     "name": "stdout",
     "output_type": "stream",
     "text": [
      "\n",
      "Analyzing ROI: CA\n",
      "Pre-computed nuclei labels found for HI3_CONTRA_M11_S10_TR2\n",
      "Removing nuclei labels touching ROI edge\n",
      "Classifying labels according to ki67 intensities...\n",
      "Generating 3D cell labels for: neun\n",
      "Classifying labels according to neun intensities...\n",
      "Generating 3D cytoplasm labels for: calbindin\n",
      "Classifying labels according to calbindin intensities...\n"
     ]
    },
    {
     "name": "stderr",
     "output_type": "stream",
     "text": []
    },
    {
     "name": "stdout",
     "output_type": "stream",
     "text": [
      "\n",
      "Analyzing ROI: DG\n",
      "Pre-computed nuclei labels found for HI3_CONTRA_M11_S10_TR2\n",
      "Removing nuclei labels touching ROI edge\n",
      "Classifying labels according to ki67 intensities...\n",
      "Generating 3D cell labels for: neun\n",
      "Classifying labels according to neun intensities...\n",
      "Generating 3D cytoplasm labels for: calbindin\n",
      "Classifying labels according to calbindin intensities...\n"
     ]
    },
    {
     "name": "stderr",
     "output_type": "stream",
     "text": [
      "100%|██████████| 2/2 [00:40<00:00, 20.09s/it]\n",
      " 57%|█████▋    | 13/23 [13:06<08:13, 49.35s/it]"
     ]
    },
    {
     "name": "stdout",
     "output_type": "stream",
     "text": [
      "\n",
      "\n",
      "Image analyzed: HI3_IPSI_M11_S10_TR1\n",
      "Original Array shape: (4, 14, 2880, 2880)\n",
      "Compressed Array shape: (4, 14, 2880, 2880)\n"
     ]
    },
    {
     "name": "stderr",
     "output_type": "stream",
     "text": []
    },
    {
     "name": "stdout",
     "output_type": "stream",
     "text": [
      "\n",
      "Analyzing ROI: CA\n",
      "Pre-computed nuclei labels found for HI3_IPSI_M11_S10_TR1\n",
      "Removing nuclei labels touching ROI edge\n",
      "Classifying labels according to ki67 intensities...\n",
      "Generating 3D cell labels for: neun\n",
      "Classifying labels according to neun intensities...\n",
      "Generating 3D cytoplasm labels for: calbindin\n",
      "Classifying labels according to calbindin intensities...\n"
     ]
    },
    {
     "name": "stderr",
     "output_type": "stream",
     "text": []
    },
    {
     "name": "stdout",
     "output_type": "stream",
     "text": [
      "\n",
      "Analyzing ROI: DG\n",
      "Pre-computed nuclei labels found for HI3_IPSI_M11_S10_TR1\n",
      "Removing nuclei labels touching ROI edge\n",
      "Classifying labels according to ki67 intensities...\n",
      "Generating 3D cell labels for: neun\n",
      "Classifying labels according to neun intensities...\n",
      "Generating 3D cytoplasm labels for: calbindin\n",
      "Classifying labels according to calbindin intensities...\n"
     ]
    },
    {
     "name": "stderr",
     "output_type": "stream",
     "text": [
      "100%|██████████| 2/2 [00:50<00:00, 25.39s/it]\n",
      " 61%|██████    | 14/23 [13:57<07:28, 49.87s/it]"
     ]
    },
    {
     "name": "stdout",
     "output_type": "stream",
     "text": [
      "\n",
      "\n",
      "Image analyzed: HI3_IPSI_M11_S10_TR2\n",
      "Original Array shape: (4, 15, 2880, 2875)\n",
      "Compressed Array shape: (4, 15, 2880, 2875)\n"
     ]
    },
    {
     "name": "stderr",
     "output_type": "stream",
     "text": []
    },
    {
     "name": "stdout",
     "output_type": "stream",
     "text": [
      "\n",
      "Analyzing ROI: CA\n",
      "Pre-computed nuclei labels found for HI3_IPSI_M11_S10_TR2\n",
      "Removing nuclei labels touching ROI edge\n",
      "Classifying labels according to ki67 intensities...\n",
      "Generating 3D cell labels for: neun\n",
      "Classifying labels according to neun intensities...\n",
      "Generating 3D cytoplasm labels for: calbindin\n",
      "Classifying labels according to calbindin intensities...\n"
     ]
    },
    {
     "name": "stderr",
     "output_type": "stream",
     "text": []
    },
    {
     "name": "stdout",
     "output_type": "stream",
     "text": [
      "\n",
      "Analyzing ROI: DG\n",
      "Pre-computed nuclei labels found for HI3_IPSI_M11_S10_TR2\n",
      "Removing nuclei labels touching ROI edge\n",
      "Classifying labels according to ki67 intensities...\n",
      "Generating 3D cell labels for: neun\n",
      "Classifying labels according to neun intensities...\n",
      "Generating 3D cytoplasm labels for: calbindin\n"
     ]
    },
    {
     "name": "stderr",
     "output_type": "stream",
     "text": [
      "utils_stardist.py (533): \n",
      "Mismatch in label sets! Nuclei labels: 1379, Cytoplasm labels: 1362.\n",
      "Missing labels in Cytoplasm: [ 600 1016 1033 1112 1126 1161 1190 1203 1247 1276]...\n",
      "1.23% of cells lost during nuclei subtraction operation.\n",
      "If this percentage is too high, consider using 'cell' instead of 'cytoplasm' for marker placement. The nuclei may be too densely packed.\n"
     ]
    },
    {
     "name": "stdout",
     "output_type": "stream",
     "text": [
      "Classifying labels according to calbindin intensities...\n"
     ]
    },
    {
     "name": "stderr",
     "output_type": "stream",
     "text": [
      "100%|██████████| 2/2 [00:53<00:00, 26.88s/it]\n",
      " 65%|██████▌   | 15/23 [14:51<06:49, 51.13s/it]"
     ]
    },
    {
     "name": "stdout",
     "output_type": "stream",
     "text": [
      "\n",
      "\n",
      "Image analyzed: SHAM1_CONTRA_M6_S11_TR1\n",
      "Original Array shape: (4, 16, 2872, 2884)\n",
      "Compressed Array shape: (4, 16, 2872, 2884)\n"
     ]
    },
    {
     "name": "stderr",
     "output_type": "stream",
     "text": []
    },
    {
     "name": "stdout",
     "output_type": "stream",
     "text": [
      "\n",
      "Analyzing ROI: CA\n",
      "Pre-computed nuclei labels found for SHAM1_CONTRA_M6_S11_TR1\n",
      "Removing nuclei labels touching ROI edge\n",
      "Classifying labels according to ki67 intensities...\n",
      "Generating 3D cell labels for: neun\n",
      "Classifying labels according to neun intensities...\n",
      "Generating 3D cytoplasm labels for: calbindin\n",
      "Classifying labels according to calbindin intensities...\n"
     ]
    },
    {
     "name": "stderr",
     "output_type": "stream",
     "text": []
    },
    {
     "name": "stdout",
     "output_type": "stream",
     "text": [
      "\n",
      "Analyzing ROI: DG\n",
      "Pre-computed nuclei labels found for SHAM1_CONTRA_M6_S11_TR1\n",
      "Removing nuclei labels touching ROI edge\n",
      "Classifying labels according to ki67 intensities...\n",
      "Generating 3D cell labels for: neun\n",
      "Classifying labels according to neun intensities...\n",
      "Generating 3D cytoplasm labels for: calbindin\n"
     ]
    },
    {
     "name": "stderr",
     "output_type": "stream",
     "text": [
      "utils_stardist.py (533): \n",
      "Mismatch in label sets! Nuclei labels: 1839, Cytoplasm labels: 1779.\n",
      "Missing labels in Cytoplasm: [ 315  760  769  962  972  975  978 1021 1100 1169]...\n",
      "3.26% of cells lost during nuclei subtraction operation.\n",
      "If this percentage is too high, consider using 'cell' instead of 'cytoplasm' for marker placement. The nuclei may be too densely packed.\n"
     ]
    },
    {
     "name": "stdout",
     "output_type": "stream",
     "text": [
      "Classifying labels according to calbindin intensities...\n"
     ]
    },
    {
     "name": "stderr",
     "output_type": "stream",
     "text": [
      "100%|██████████| 2/2 [01:00<00:00, 30.37s/it]\n",
      " 70%|██████▉   | 16/23 [15:52<06:18, 54.13s/it]"
     ]
    },
    {
     "name": "stdout",
     "output_type": "stream",
     "text": [
      "\n",
      "\n",
      "Image analyzed: SHAM1_CONTRA_M6_S11_TR2\n",
      "Original Array shape: (4, 14, 2878, 2875)\n",
      "Compressed Array shape: (4, 14, 2878, 2875)\n"
     ]
    },
    {
     "name": "stderr",
     "output_type": "stream",
     "text": []
    },
    {
     "name": "stdout",
     "output_type": "stream",
     "text": [
      "\n",
      "Analyzing ROI: CA\n",
      "Pre-computed nuclei labels found for SHAM1_CONTRA_M6_S11_TR2\n",
      "Removing nuclei labels touching ROI edge\n",
      "Classifying labels according to ki67 intensities...\n",
      "Generating 3D cell labels for: neun\n",
      "Classifying labels according to neun intensities...\n",
      "Generating 3D cytoplasm labels for: calbindin\n",
      "Classifying labels according to calbindin intensities...\n"
     ]
    },
    {
     "name": "stderr",
     "output_type": "stream",
     "text": []
    },
    {
     "name": "stdout",
     "output_type": "stream",
     "text": [
      "\n",
      "Analyzing ROI: DG\n",
      "Pre-computed nuclei labels found for SHAM1_CONTRA_M6_S11_TR2\n",
      "Removing nuclei labels touching ROI edge\n",
      "Classifying labels according to ki67 intensities...\n",
      "Generating 3D cell labels for: neun\n",
      "Classifying labels according to neun intensities...\n",
      "Generating 3D cytoplasm labels for: calbindin\n"
     ]
    },
    {
     "name": "stderr",
     "output_type": "stream",
     "text": [
      "utils_stardist.py (533): \n",
      "Mismatch in label sets! Nuclei labels: 1991, Cytoplasm labels: 1919.\n",
      "Missing labels in Cytoplasm: [ 726  910  998 1000 1021 1043 1044 1048 1049 1050]...\n",
      "3.62% of cells lost during nuclei subtraction operation.\n",
      "If this percentage is too high, consider using 'cell' instead of 'cytoplasm' for marker placement. The nuclei may be too densely packed.\n"
     ]
    },
    {
     "name": "stdout",
     "output_type": "stream",
     "text": [
      "Classifying labels according to calbindin intensities...\n"
     ]
    },
    {
     "name": "stderr",
     "output_type": "stream",
     "text": [
      "100%|██████████| 2/2 [00:47<00:00, 23.90s/it]\n",
      " 74%|███████▍  | 17/23 [16:40<05:13, 52.32s/it]"
     ]
    },
    {
     "name": "stdout",
     "output_type": "stream",
     "text": [
      "\n",
      "\n",
      "Image analyzed: SHAM1_CONTRA_M7_S11_TR1\n",
      "Original Array shape: (4, 15, 2884, 3805)\n",
      "Compressed Array shape: (4, 15, 2884, 3805)\n"
     ]
    },
    {
     "name": "stderr",
     "output_type": "stream",
     "text": []
    },
    {
     "name": "stdout",
     "output_type": "stream",
     "text": [
      "\n",
      "Analyzing ROI: CA\n",
      "Pre-computed nuclei labels found for SHAM1_CONTRA_M7_S11_TR1\n",
      "Removing nuclei labels touching ROI edge\n",
      "Classifying labels according to ki67 intensities...\n",
      "Generating 3D cell labels for: neun\n",
      "Classifying labels according to neun intensities...\n",
      "Generating 3D cytoplasm labels for: calbindin\n",
      "Classifying labels according to calbindin intensities...\n"
     ]
    },
    {
     "name": "stderr",
     "output_type": "stream",
     "text": []
    },
    {
     "name": "stdout",
     "output_type": "stream",
     "text": [
      "\n",
      "Analyzing ROI: DG\n",
      "Pre-computed nuclei labels found for SHAM1_CONTRA_M7_S11_TR1\n",
      "Removing nuclei labels touching ROI edge\n",
      "Classifying labels according to ki67 intensities...\n",
      "Generating 3D cell labels for: neun\n",
      "Classifying labels according to neun intensities...\n",
      "Generating 3D cytoplasm labels for: calbindin\n"
     ]
    },
    {
     "name": "stderr",
     "output_type": "stream",
     "text": [
      "utils_stardist.py (533): \n",
      "Mismatch in label sets! Nuclei labels: 3077, Cytoplasm labels: 2945.\n",
      "Missing labels in Cytoplasm: [ 688  713  852 1329 1354 1389 1404 1475 1557 1613]...\n",
      "4.29% of cells lost during nuclei subtraction operation.\n",
      "If this percentage is too high, consider using 'cell' instead of 'cytoplasm' for marker placement. The nuclei may be too densely packed.\n"
     ]
    },
    {
     "name": "stdout",
     "output_type": "stream",
     "text": [
      "Classifying labels according to calbindin intensities...\n"
     ]
    },
    {
     "name": "stderr",
     "output_type": "stream",
     "text": [
      "100%|██████████| 2/2 [01:11<00:00, 35.71s/it]\n",
      " 78%|███████▊  | 18/23 [17:52<04:50, 58.18s/it]"
     ]
    },
    {
     "name": "stdout",
     "output_type": "stream",
     "text": [
      "\n",
      "\n",
      "Image analyzed: SHAM1_CONTRA_M7_S11_TR2\n",
      "Original Array shape: (4, 14, 2877, 3808)\n",
      "Compressed Array shape: (4, 14, 2877, 3808)\n"
     ]
    },
    {
     "name": "stderr",
     "output_type": "stream",
     "text": []
    },
    {
     "name": "stdout",
     "output_type": "stream",
     "text": [
      "\n",
      "Analyzing ROI: CA\n",
      "Pre-computed nuclei labels found for SHAM1_CONTRA_M7_S11_TR2\n",
      "Removing nuclei labels touching ROI edge\n",
      "Classifying labels according to ki67 intensities...\n",
      "Generating 3D cell labels for: neun\n",
      "Classifying labels according to neun intensities...\n",
      "Generating 3D cytoplasm labels for: calbindin\n",
      "Classifying labels according to calbindin intensities...\n"
     ]
    },
    {
     "name": "stderr",
     "output_type": "stream",
     "text": []
    },
    {
     "name": "stdout",
     "output_type": "stream",
     "text": [
      "\n",
      "Analyzing ROI: DG\n",
      "Pre-computed nuclei labels found for SHAM1_CONTRA_M7_S11_TR2\n",
      "Removing nuclei labels touching ROI edge\n",
      "Classifying labels according to ki67 intensities...\n",
      "Generating 3D cell labels for: neun\n",
      "Classifying labels according to neun intensities...\n",
      "Generating 3D cytoplasm labels for: calbindin\n"
     ]
    },
    {
     "name": "stderr",
     "output_type": "stream",
     "text": [
      "utils_stardist.py (533): \n",
      "Mismatch in label sets! Nuclei labels: 2507, Cytoplasm labels: 2434.\n",
      "Missing labels in Cytoplasm: [1456 1512 1513 1575 1591 1592 1605 1631 1786 1788]...\n",
      "2.91% of cells lost during nuclei subtraction operation.\n",
      "If this percentage is too high, consider using 'cell' instead of 'cytoplasm' for marker placement. The nuclei may be too densely packed.\n"
     ]
    },
    {
     "name": "stdout",
     "output_type": "stream",
     "text": [
      "Classifying labels according to calbindin intensities...\n"
     ]
    },
    {
     "name": "stderr",
     "output_type": "stream",
     "text": [
      "100%|██████████| 2/2 [01:06<00:00, 33.04s/it]\n",
      " 83%|████████▎ | 19/23 [18:59<04:02, 60.67s/it]"
     ]
    },
    {
     "name": "stdout",
     "output_type": "stream",
     "text": [
      "\n",
      "\n",
      "Image analyzed: SHAM1_IPSI_M6_S11_TR1\n",
      "Original Array shape: (4, 17, 3807, 3801)\n",
      "Compressed Array shape: (4, 17, 3807, 3801)\n"
     ]
    },
    {
     "name": "stderr",
     "output_type": "stream",
     "text": []
    },
    {
     "name": "stdout",
     "output_type": "stream",
     "text": [
      "\n",
      "Analyzing ROI: CA\n",
      "Pre-computed nuclei labels found for SHAM1_IPSI_M6_S11_TR1\n",
      "Removing nuclei labels touching ROI edge\n",
      "Classifying labels according to ki67 intensities...\n",
      "Generating 3D cell labels for: neun\n",
      "Classifying labels according to neun intensities...\n",
      "Generating 3D cytoplasm labels for: calbindin\n",
      "Classifying labels according to calbindin intensities...\n"
     ]
    },
    {
     "name": "stderr",
     "output_type": "stream",
     "text": []
    },
    {
     "name": "stdout",
     "output_type": "stream",
     "text": [
      "\n",
      "Analyzing ROI: DG\n",
      "Pre-computed nuclei labels found for SHAM1_IPSI_M6_S11_TR1\n",
      "Removing nuclei labels touching ROI edge\n",
      "Classifying labels according to ki67 intensities...\n",
      "Generating 3D cell labels for: neun\n",
      "Classifying labels according to neun intensities...\n",
      "Generating 3D cytoplasm labels for: calbindin\n"
     ]
    },
    {
     "name": "stderr",
     "output_type": "stream",
     "text": [
      "utils_stardist.py (533): \n",
      "Mismatch in label sets! Nuclei labels: 1519, Cytoplasm labels: 1490.\n",
      "Missing labels in Cytoplasm: [ 461  473  476  799  827  948 1032 1060 1209 1231]...\n",
      "1.91% of cells lost during nuclei subtraction operation.\n",
      "If this percentage is too high, consider using 'cell' instead of 'cytoplasm' for marker placement. The nuclei may be too densely packed.\n"
     ]
    },
    {
     "name": "stdout",
     "output_type": "stream",
     "text": [
      "Classifying labels according to calbindin intensities...\n"
     ]
    },
    {
     "name": "stderr",
     "output_type": "stream",
     "text": [
      "100%|██████████| 2/2 [01:48<00:00, 54.48s/it]\n",
      " 87%|████████▋ | 20/23 [20:48<03:46, 75.34s/it]"
     ]
    },
    {
     "name": "stdout",
     "output_type": "stream",
     "text": [
      "\n",
      "\n",
      "Image analyzed: SHAM1_IPSI_M6_S11_TR2\n",
      "Original Array shape: (4, 15, 2882, 2886)\n",
      "Compressed Array shape: (4, 15, 2882, 2886)\n"
     ]
    },
    {
     "name": "stderr",
     "output_type": "stream",
     "text": []
    },
    {
     "name": "stdout",
     "output_type": "stream",
     "text": [
      "\n",
      "Analyzing ROI: CA\n",
      "Pre-computed nuclei labels found for SHAM1_IPSI_M6_S11_TR2\n",
      "Removing nuclei labels touching ROI edge\n",
      "Classifying labels according to ki67 intensities...\n",
      "Generating 3D cell labels for: neun\n",
      "Classifying labels according to neun intensities...\n",
      "Generating 3D cytoplasm labels for: calbindin\n",
      "Classifying labels according to calbindin intensities...\n"
     ]
    },
    {
     "name": "stderr",
     "output_type": "stream",
     "text": []
    },
    {
     "name": "stdout",
     "output_type": "stream",
     "text": [
      "\n",
      "Analyzing ROI: DG\n",
      "Pre-computed nuclei labels found for SHAM1_IPSI_M6_S11_TR2\n",
      "Removing nuclei labels touching ROI edge\n",
      "Classifying labels according to ki67 intensities...\n",
      "Generating 3D cell labels for: neun\n",
      "Classifying labels according to neun intensities...\n",
      "Generating 3D cytoplasm labels for: calbindin\n"
     ]
    },
    {
     "name": "stderr",
     "output_type": "stream",
     "text": [
      "utils_stardist.py (533): \n",
      "Mismatch in label sets! Nuclei labels: 1314, Cytoplasm labels: 1292.\n",
      "Missing labels in Cytoplasm: [ 645  717  786  823  911  920  921  944  945 1038]...\n",
      "1.67% of cells lost during nuclei subtraction operation.\n",
      "If this percentage is too high, consider using 'cell' instead of 'cytoplasm' for marker placement. The nuclei may be too densely packed.\n"
     ]
    },
    {
     "name": "stdout",
     "output_type": "stream",
     "text": [
      "Classifying labels according to calbindin intensities...\n"
     ]
    },
    {
     "name": "stderr",
     "output_type": "stream",
     "text": [
      "100%|██████████| 2/2 [00:52<00:00, 26.32s/it]\n",
      " 91%|█████████▏| 21/23 [21:41<02:17, 68.62s/it]"
     ]
    },
    {
     "name": "stdout",
     "output_type": "stream",
     "text": [
      "\n",
      "\n",
      "Image analyzed: SHAM1_IPSI_M7_S11_TR1\n",
      "Original Array shape: (4, 17, 2879, 3813)\n",
      "Compressed Array shape: (4, 17, 2879, 3813)\n"
     ]
    },
    {
     "name": "stderr",
     "output_type": "stream",
     "text": []
    },
    {
     "name": "stdout",
     "output_type": "stream",
     "text": [
      "\n",
      "Analyzing ROI: CA\n",
      "Pre-computed nuclei labels found for SHAM1_IPSI_M7_S11_TR1\n",
      "Removing nuclei labels touching ROI edge\n",
      "Classifying labels according to ki67 intensities...\n",
      "Generating 3D cell labels for: neun\n",
      "Classifying labels according to neun intensities...\n",
      "Generating 3D cytoplasm labels for: calbindin\n",
      "Classifying labels according to calbindin intensities...\n"
     ]
    },
    {
     "name": "stderr",
     "output_type": "stream",
     "text": []
    },
    {
     "name": "stdout",
     "output_type": "stream",
     "text": [
      "\n",
      "Analyzing ROI: DG\n",
      "Pre-computed nuclei labels found for SHAM1_IPSI_M7_S11_TR1\n",
      "Removing nuclei labels touching ROI edge\n",
      "Classifying labels according to ki67 intensities...\n",
      "Generating 3D cell labels for: neun\n",
      "Classifying labels according to neun intensities...\n",
      "Generating 3D cytoplasm labels for: calbindin\n"
     ]
    },
    {
     "name": "stderr",
     "output_type": "stream",
     "text": [
      "utils_stardist.py (533): \n",
      "Mismatch in label sets! Nuclei labels: 1876, Cytoplasm labels: 1830.\n",
      "Missing labels in Cytoplasm: [ 342  792  959 1083 1106 1394 1417 1431 1432 1545]...\n",
      "2.45% of cells lost during nuclei subtraction operation.\n",
      "If this percentage is too high, consider using 'cell' instead of 'cytoplasm' for marker placement. The nuclei may be too densely packed.\n"
     ]
    },
    {
     "name": "stdout",
     "output_type": "stream",
     "text": [
      "Classifying labels according to calbindin intensities...\n"
     ]
    },
    {
     "name": "stderr",
     "output_type": "stream",
     "text": [
      "100%|██████████| 2/2 [01:22<00:00, 41.32s/it]\n",
      " 96%|█████████▌| 22/23 [23:04<01:12, 72.97s/it]"
     ]
    },
    {
     "name": "stdout",
     "output_type": "stream",
     "text": [
      "\n",
      "\n",
      "Image analyzed: SHAM1_IPSI_M7_S11_TR2\n",
      "Original Array shape: (4, 15, 2883, 2889)\n",
      "Compressed Array shape: (4, 15, 2883, 2889)\n"
     ]
    },
    {
     "name": "stderr",
     "output_type": "stream",
     "text": []
    },
    {
     "name": "stdout",
     "output_type": "stream",
     "text": [
      "\n",
      "Analyzing ROI: CA\n",
      "Pre-computed nuclei labels found for SHAM1_IPSI_M7_S11_TR2\n",
      "Removing nuclei labels touching ROI edge\n",
      "Classifying labels according to ki67 intensities...\n",
      "Generating 3D cell labels for: neun\n",
      "Classifying labels according to neun intensities...\n",
      "Generating 3D cytoplasm labels for: calbindin\n",
      "Classifying labels according to calbindin intensities...\n"
     ]
    },
    {
     "name": "stderr",
     "output_type": "stream",
     "text": []
    },
    {
     "name": "stdout",
     "output_type": "stream",
     "text": [
      "\n",
      "Analyzing ROI: DG\n",
      "Pre-computed nuclei labels found for SHAM1_IPSI_M7_S11_TR2\n",
      "Removing nuclei labels touching ROI edge\n",
      "Classifying labels according to ki67 intensities...\n",
      "Generating 3D cell labels for: neun\n",
      "Classifying labels according to neun intensities...\n",
      "Generating 3D cytoplasm labels for: calbindin\n"
     ]
    },
    {
     "name": "stderr",
     "output_type": "stream",
     "text": [
      "utils_stardist.py (533): \n",
      "Mismatch in label sets! Nuclei labels: 1332, Cytoplasm labels: 1305.\n",
      "Missing labels in Cytoplasm: [ 349  683  874  920  921  944  962 1077 1166 1168]...\n",
      "2.03% of cells lost during nuclei subtraction operation.\n",
      "If this percentage is too high, consider using 'cell' instead of 'cytoplasm' for marker placement. The nuclei may be too densely packed.\n"
     ]
    },
    {
     "name": "stdout",
     "output_type": "stream",
     "text": [
      "Classifying labels according to calbindin intensities...\n"
     ]
    },
    {
     "name": "stderr",
     "output_type": "stream",
     "text": [
      "100%|██████████| 2/2 [00:51<00:00, 25.55s/it]\n",
      "100%|██████████| 23/23 [23:56<00:00, 62.45s/it]\n"
     ]
    },
    {
     "data": {
      "text/html": [
       "<div>\n",
       "<style scoped>\n",
       "    .dataframe tbody tr th:only-of-type {\n",
       "        vertical-align: middle;\n",
       "    }\n",
       "\n",
       "    .dataframe tbody tr th {\n",
       "        vertical-align: top;\n",
       "    }\n",
       "\n",
       "    .dataframe thead th {\n",
       "        text-align: right;\n",
       "    }\n",
       "</style>\n",
       "<table border=\"1\" class=\"dataframe\">\n",
       "  <thead>\n",
       "    <tr style=\"text-align: right;\">\n",
       "      <th></th>\n",
       "      <th>filename</th>\n",
       "      <th>ROI</th>\n",
       "      <th>population</th>\n",
       "      <th>marker</th>\n",
       "      <th>marker_location</th>\n",
       "      <th>total_cells</th>\n",
       "      <th>marker+_cells</th>\n",
       "      <th>%_marker+_cells</th>\n",
       "      <th>nuclei_ch</th>\n",
       "      <th>marker_ch</th>\n",
       "      <th>slicing_factor_xy</th>\n",
       "      <th>slicing_factor_z</th>\n",
       "    </tr>\n",
       "  </thead>\n",
       "  <tbody>\n",
       "    <tr>\n",
       "      <th>0</th>\n",
       "      <td>HI1_CONTRA_M8_S6_TR1</td>\n",
       "      <td>CA</td>\n",
       "      <td>ki67_1</td>\n",
       "      <td>ki67</td>\n",
       "      <td>nucleus</td>\n",
       "      <td>1509</td>\n",
       "      <td>1472</td>\n",
       "      <td>97.548045</td>\n",
       "      <td>3</td>\n",
       "      <td>0</td>\n",
       "      <td>NaN</td>\n",
       "      <td>NaN</td>\n",
       "    </tr>\n",
       "    <tr>\n",
       "      <th>1</th>\n",
       "      <td>HI1_CONTRA_M8_S6_TR1</td>\n",
       "      <td>CA</td>\n",
       "      <td>ki67_2</td>\n",
       "      <td>ki67</td>\n",
       "      <td>nucleus</td>\n",
       "      <td>1509</td>\n",
       "      <td>35</td>\n",
       "      <td>2.319417</td>\n",
       "      <td>3</td>\n",
       "      <td>0</td>\n",
       "      <td>NaN</td>\n",
       "      <td>NaN</td>\n",
       "    </tr>\n",
       "    <tr>\n",
       "      <th>2</th>\n",
       "      <td>HI1_CONTRA_M8_S6_TR1</td>\n",
       "      <td>CA</td>\n",
       "      <td>neun_1</td>\n",
       "      <td>neun</td>\n",
       "      <td>cell</td>\n",
       "      <td>1509</td>\n",
       "      <td>142</td>\n",
       "      <td>9.410205</td>\n",
       "      <td>3</td>\n",
       "      <td>1</td>\n",
       "      <td>NaN</td>\n",
       "      <td>NaN</td>\n",
       "    </tr>\n",
       "    <tr>\n",
       "      <th>3</th>\n",
       "      <td>HI1_CONTRA_M8_S6_TR1</td>\n",
       "      <td>CA</td>\n",
       "      <td>neun_2</td>\n",
       "      <td>neun</td>\n",
       "      <td>cell</td>\n",
       "      <td>1509</td>\n",
       "      <td>456</td>\n",
       "      <td>30.218688</td>\n",
       "      <td>3</td>\n",
       "      <td>1</td>\n",
       "      <td>NaN</td>\n",
       "      <td>NaN</td>\n",
       "    </tr>\n",
       "    <tr>\n",
       "      <th>4</th>\n",
       "      <td>HI1_CONTRA_M8_S6_TR1</td>\n",
       "      <td>CA</td>\n",
       "      <td>neun_3</td>\n",
       "      <td>neun</td>\n",
       "      <td>cell</td>\n",
       "      <td>1509</td>\n",
       "      <td>908</td>\n",
       "      <td>60.172300</td>\n",
       "      <td>3</td>\n",
       "      <td>1</td>\n",
       "      <td>NaN</td>\n",
       "      <td>NaN</td>\n",
       "    </tr>\n",
       "    <tr>\n",
       "      <th>...</th>\n",
       "      <td>...</td>\n",
       "      <td>...</td>\n",
       "      <td>...</td>\n",
       "      <td>...</td>\n",
       "      <td>...</td>\n",
       "      <td>...</td>\n",
       "      <td>...</td>\n",
       "      <td>...</td>\n",
       "      <td>...</td>\n",
       "      <td>...</td>\n",
       "      <td>...</td>\n",
       "      <td>...</td>\n",
       "    </tr>\n",
       "    <tr>\n",
       "      <th>313</th>\n",
       "      <td>SHAM1_IPSI_M7_S11_TR2</td>\n",
       "      <td>DG</td>\n",
       "      <td>neun_1</td>\n",
       "      <td>neun</td>\n",
       "      <td>cell</td>\n",
       "      <td>1331</td>\n",
       "      <td>41</td>\n",
       "      <td>3.080391</td>\n",
       "      <td>3</td>\n",
       "      <td>1</td>\n",
       "      <td>NaN</td>\n",
       "      <td>NaN</td>\n",
       "    </tr>\n",
       "    <tr>\n",
       "      <th>314</th>\n",
       "      <td>SHAM1_IPSI_M7_S11_TR2</td>\n",
       "      <td>DG</td>\n",
       "      <td>neun_2</td>\n",
       "      <td>neun</td>\n",
       "      <td>cell</td>\n",
       "      <td>1331</td>\n",
       "      <td>697</td>\n",
       "      <td>52.366642</td>\n",
       "      <td>3</td>\n",
       "      <td>1</td>\n",
       "      <td>NaN</td>\n",
       "      <td>NaN</td>\n",
       "    </tr>\n",
       "    <tr>\n",
       "      <th>315</th>\n",
       "      <td>SHAM1_IPSI_M7_S11_TR2</td>\n",
       "      <td>DG</td>\n",
       "      <td>neun_3</td>\n",
       "      <td>neun</td>\n",
       "      <td>cell</td>\n",
       "      <td>1331</td>\n",
       "      <td>590</td>\n",
       "      <td>44.327573</td>\n",
       "      <td>3</td>\n",
       "      <td>1</td>\n",
       "      <td>NaN</td>\n",
       "      <td>NaN</td>\n",
       "    </tr>\n",
       "    <tr>\n",
       "      <th>316</th>\n",
       "      <td>SHAM1_IPSI_M7_S11_TR2</td>\n",
       "      <td>DG</td>\n",
       "      <td>calbindin_1</td>\n",
       "      <td>calbindin</td>\n",
       "      <td>cytoplasm</td>\n",
       "      <td>1304</td>\n",
       "      <td>176</td>\n",
       "      <td>13.496933</td>\n",
       "      <td>3</td>\n",
       "      <td>2</td>\n",
       "      <td>NaN</td>\n",
       "      <td>NaN</td>\n",
       "    </tr>\n",
       "    <tr>\n",
       "      <th>317</th>\n",
       "      <td>SHAM1_IPSI_M7_S11_TR2</td>\n",
       "      <td>DG</td>\n",
       "      <td>calbindin_2</td>\n",
       "      <td>calbindin</td>\n",
       "      <td>cytoplasm</td>\n",
       "      <td>1304</td>\n",
       "      <td>1126</td>\n",
       "      <td>86.349693</td>\n",
       "      <td>3</td>\n",
       "      <td>2</td>\n",
       "      <td>NaN</td>\n",
       "      <td>NaN</td>\n",
       "    </tr>\n",
       "  </tbody>\n",
       "</table>\n",
       "<p>318 rows × 12 columns</p>\n",
       "</div>"
      ],
      "text/plain": [
       "                  filename ROI   population     marker marker_location  \\\n",
       "0     HI1_CONTRA_M8_S6_TR1  CA       ki67_1       ki67         nucleus   \n",
       "1     HI1_CONTRA_M8_S6_TR1  CA       ki67_2       ki67         nucleus   \n",
       "2     HI1_CONTRA_M8_S6_TR1  CA       neun_1       neun            cell   \n",
       "3     HI1_CONTRA_M8_S6_TR1  CA       neun_2       neun            cell   \n",
       "4     HI1_CONTRA_M8_S6_TR1  CA       neun_3       neun            cell   \n",
       "..                     ...  ..          ...        ...             ...   \n",
       "313  SHAM1_IPSI_M7_S11_TR2  DG       neun_1       neun            cell   \n",
       "314  SHAM1_IPSI_M7_S11_TR2  DG       neun_2       neun            cell   \n",
       "315  SHAM1_IPSI_M7_S11_TR2  DG       neun_3       neun            cell   \n",
       "316  SHAM1_IPSI_M7_S11_TR2  DG  calbindin_1  calbindin       cytoplasm   \n",
       "317  SHAM1_IPSI_M7_S11_TR2  DG  calbindin_2  calbindin       cytoplasm   \n",
       "\n",
       "     total_cells  marker+_cells  %_marker+_cells  nuclei_ch  marker_ch  \\\n",
       "0           1509           1472        97.548045          3          0   \n",
       "1           1509             35         2.319417          3          0   \n",
       "2           1509            142         9.410205          3          1   \n",
       "3           1509            456        30.218688          3          1   \n",
       "4           1509            908        60.172300          3          1   \n",
       "..           ...            ...              ...        ...        ...   \n",
       "313         1331             41         3.080391          3          1   \n",
       "314         1331            697        52.366642          3          1   \n",
       "315         1331            590        44.327573          3          1   \n",
       "316         1304            176        13.496933          3          2   \n",
       "317         1304           1126        86.349693          3          2   \n",
       "\n",
       "     slicing_factor_xy  slicing_factor_z  \n",
       "0                  NaN               NaN  \n",
       "1                  NaN               NaN  \n",
       "2                  NaN               NaN  \n",
       "3                  NaN               NaN  \n",
       "4                  NaN               NaN  \n",
       "..                 ...               ...  \n",
       "313                NaN               NaN  \n",
       "314                NaN               NaN  \n",
       "315                NaN               NaN  \n",
       "316                NaN               NaN  \n",
       "317                NaN               NaN  \n",
       "\n",
       "[318 rows x 12 columns]"
      ]
     },
     "execution_count": 25,
     "metadata": {},
     "output_type": "execute_result"
    }
   ],
   "source": [
    "# Construct ROI and nuclei predictions paths from directory_path above\n",
    "roi_path = directory_path / \"ROIs\"\n",
    "nuclei_preds_path = directory_path / \"nuclei_preds\" / segmentation_type / model_name\n",
    "\n",
    "# Extract the experiment name from the data directory path\n",
    "experiment_id = directory_path.name\n",
    "\n",
    "# Construct the object classifier path\n",
    "obj_class_path = Path(\"./APOC_ObjectClassifiers\") / experiment_id\n",
    "\n",
    "# Define output folder for results\n",
    "results_folder = Path(\"results\") / experiment_id / segmentation_type / model_name\n",
    "\n",
    "# Create the necessary folder structure if it does not exist\n",
    "try:\n",
    "    os.makedirs(str(results_folder))\n",
    "    print(f\"Output folder created: {results_folder}\")\n",
    "except FileExistsError:\n",
    "    print(f\"Output folder already exists: {results_folder}\")\n",
    "\n",
    "# List of subfolder names\n",
    "try:\n",
    "    roi_names = [folder.name for folder in roi_path.iterdir() if folder.is_dir()]\n",
    "\n",
    "except FileNotFoundError:\n",
    "    roi_names = [\"full_image\"]\n",
    "        \n",
    "print(f\"The following regions of interest will be analyzed: {roi_names}\")\n",
    "\n",
    "for image in tqdm(images):\n",
    "\n",
    "    # Create an empty list to store all stats extracted from each image\n",
    "    stats = []\n",
    "\n",
    "    # Read image, apply slicing if needed and return filename and img as a np array\n",
    "    img, filename = read_image(image, slicing_factor_xy, slicing_factor_z)\n",
    "\n",
    "    # Generate maximum intensity projection \n",
    "    img_mip = maximum_intensity_projection(img)\n",
    "\n",
    "    for roi_name in tqdm(roi_names):\n",
    "        print(f\"\\nAnalyzing ROI: {roi_name}\")\n",
    "\n",
    "        # Read the user defined ROIs, in case of full image analysis generate a label covering the entire image\n",
    "        try:\n",
    "            # Read previously defined ROIs\n",
    "            user_roi = tifffile.imread(roi_path / roi_name / f\"{filename}.tiff\")\n",
    "\n",
    "        except FileNotFoundError:\n",
    "            # Extract the xy dimensions of the input image \n",
    "            img_shape = img_mip.shape\n",
    "            img_xy_dims = img_shape[-2:]\n",
    "\n",
    "            # Create a label covering the entire image\n",
    "            user_roi = np.ones(img_xy_dims).astype(np.uint8)\n",
    "\n",
    "        # Read previously predicted nuclei labels, if not present generate nuclei predictions and save them\n",
    "        try:\n",
    "            # Read the nuclei predictions per ROI\n",
    "            labels = tifffile.imread(nuclei_preds_path / roi_name / f\"{filename}.tiff\")\n",
    "            print(f\"Pre-computed nuclei labels found for {filename}\")\n",
    "            # Remove labels touching ROI edge (in place for nuclei predictions generated before \"remove_labels_touchin_roi_edge\" was implemented)\n",
    "            print(\"Removing nuclei labels touching ROI edge\")\n",
    "            labels = remove_labels_touching_roi_edge(labels, user_roi)\n",
    "\n",
    "        except FileNotFoundError:\n",
    "            print(f\"Generating nuclei labels for {filename}\")\n",
    "\n",
    "            # If 3D-segmentation input nuclei_img is a 3D-stack\n",
    "            if segmentation_type == \"3D\":\n",
    "                # Slice the nuclei stack\n",
    "                nuclei_img = extract_nuclei_stack(img, nuclei_channel)\n",
    "\n",
    "            # If 2D-segmentation input nuclei_img is a max intensity projection of said 3D-stack\n",
    "            elif segmentation_type == \"2D\":\n",
    "                # Slice the nuclei stack\n",
    "                nuclei_img = extract_nuclei_stack(img, nuclei_channel)\n",
    "                nuclei_img = np.max(nuclei_img, axis=0)\n",
    "\n",
    "            # We will create a mask where roi is greater than or equal to 1\n",
    "            mask = (user_roi >= 1).astype(np.uint8)\n",
    "\n",
    "            # 3D segmentation logic, extend 2D mask across the entire stack volume\n",
    "            if segmentation_type == \"3D\":\n",
    "                # Extract the number of z-slices to extend the mask\n",
    "                slice_nr = img.shape[1]\n",
    "                # Extend the mask across the entire volume\n",
    "                mask = np.tile(mask, (slice_nr, 1, 1))\n",
    "                # Apply the mask to nuclei_img, setting all other pixels to 0\n",
    "                masked_nuclei_img = np.where(mask, nuclei_img, 0)\n",
    "            elif segmentation_type == \"2D\":\n",
    "                # Apply the mask to nuclei_img, setting all other pixels to 0\n",
    "                masked_nuclei_img = np.where(mask, nuclei_img, 0)\n",
    "\n",
    "            # Segment nuclei and return labels\n",
    "            labels = segment_nuclei(masked_nuclei_img, segmentation_type, model, n_tiles)\n",
    "\n",
    "            # Remove labels touching ROI edge\n",
    "            print(\"Removing nuclei labels touching ROI edge\")\n",
    "            labels = remove_labels_touching_roi_edge(labels, user_roi)\n",
    "\n",
    "            # Save nuclei labels as .tiff files to reuse them later\n",
    "            try:\n",
    "                os.makedirs(nuclei_preds_path / roi_name, exist_ok=True)\n",
    "            except Exception as e:\n",
    "                print(f\"Error creating directory {nuclei_preds_path / roi_name}: {e}\")\n",
    "\n",
    "            # Construct path to store\n",
    "            path_to_store = nuclei_preds_path / roi_name / f\"{filename}.tiff\"\n",
    "            print(f\"Saving nuclei labels to {path_to_store}\")\n",
    "            try:\n",
    "                tifffile.imwrite(path_to_store, labels)\n",
    "            except Exception as e:\n",
    "                print(f\"Error saving file {path_to_store}: {e}\")\n",
    "\n",
    "        # Loop through each marker\n",
    "        for marker in markers:\n",
    "\n",
    "            # Extract marker_name\n",
    "            marker_name = marker[0] \n",
    "\n",
    "            # Retrieve the first and second values (channel and location) of the corresponding tuple in markers\n",
    "            for item in markers:\n",
    "                if item[0] == marker_name:\n",
    "                    marker_channel = item[1]\n",
    "                    location = item[2]\n",
    "                    break  # Stop searching once the marker is found\n",
    "\n",
    "            if location == \"cytoplasm\":\n",
    "                if segmentation_type == \"3D\":\n",
    "                    print(f\"Generating {segmentation_type} cytoplasm labels for: {marker_name}\")\n",
    "                    # Simulate a cytoplasm by dilating the nuclei and subtracting the nuclei mask afterwards\n",
    "                    labels = simulate_cytoplasm_chunked_3d(labels, dilation_radius=2, erosion_radius=0, chunk_size=(1, 1024, 1024))\n",
    "\n",
    "                elif segmentation_type == \"2D\":\n",
    "                    print(f\"Generating {segmentation_type} cytoplasm labels for: {marker_name}\")\n",
    "                    # Simulate a cytoplasm by dilating the nuclei and subtracting the nuclei mask afterwards\n",
    "                    labels = simulate_cytoplasm(labels, dilation_radius=2, erosion_radius=0)\n",
    "\n",
    "            elif location == \"cell\":\n",
    "                if segmentation_type == \"3D\":\n",
    "                    print(f\"Generating {segmentation_type} cell labels for: {marker_name}\")\n",
    "                    # Simulate a cell volume by dilating the nuclei \n",
    "                    labels = simulate_cell_chunked_3d(labels, dilation_radius=2, erosion_radius=0, chunk_size=(1, 1024, 1024))\n",
    "\n",
    "                elif segmentation_type == \"2D\":\n",
    "                    print(f\"Generating {segmentation_type} cell labels for: {marker_name}\")\n",
    "                    # Simulate a cytoplasm by dilating the nuclei and subtracting the nuclei mask afterwards\n",
    "                    labels = simulate_cell(labels, dilation_radius=2, erosion_radius=0)\n",
    "\n",
    "            # Classify labels based on their corresponding object classifier\n",
    "            cl_filename = f\"./{obj_class_path}/ObjClass_{segmentation_type}_ch{marker_channel}.cl\"\n",
    "\n",
    "            # Load the classifier from disc to use the latest version\n",
    "            classifier = apoc.ObjectClassifier(cl_filename)\n",
    "\n",
    "            # If 3D-segmentation input marker_img is a 3D-stack\n",
    "            if segmentation_type == \"3D\":\n",
    "                # Slice the img stack\n",
    "                marker_img = img[marker_channel]\n",
    "\n",
    "            # If 2D-segmentation input marker_img is a max intensity projection of said 3D-stack\n",
    "            elif segmentation_type == \"2D\":\n",
    "                # Slice the img stack\n",
    "                marker_img = img_mip[marker_channel]\n",
    "\n",
    "            # Determine object classification\n",
    "            print(f\"Classifying labels according to {marker_name} intensities...\")\n",
    "            result = classifier.predict(labels, marker_img)\n",
    "\n",
    "            # Extract unique class values from result and loop through them\n",
    "            unique_classes = np.unique(result)\n",
    "            unique_classes = unique_classes[unique_classes != 0]  # Exclude background label\n",
    "\n",
    "            for label in unique_classes:\n",
    "\n",
    "                # Retrieve class and transform into a string\n",
    "                subpopulation = str(label)\n",
    "\n",
    "                # Create a boolean array (mask) where values match the label (class) in result\n",
    "                class_mask = cle.pull(result) == label\n",
    "                class_mask = class_mask.astype(bool) # Convert into boolean to allow for indexing later on\n",
    "\n",
    "                # Display resulting masks for each class in Napari \n",
    "                # viewer.add_labels(class_mask, name=f'{marker_name}{subpopulation}_class')\n",
    "\n",
    "                # Find nuclei labels that colocalize with said class (mask) using Numpy indexing\n",
    "                positive_labels = np.unique(labels[class_mask])\n",
    "                positive_labels = positive_labels[positive_labels != 0]  # Remove background label\n",
    "\n",
    "                # Extract your information of interest\n",
    "                total_cells = len(np.unique(labels)) - 1\n",
    "                marker_pos_cells = len(np.unique(positive_labels)) - 1\n",
    "\n",
    "                # Calculate \"%_marker+_cells\" and avoid division by zero errors\n",
    "                try:\n",
    "                    perc_marker_pos_cells = (marker_pos_cells * 100) / total_cells\n",
    "                except ZeroDivisionError:\n",
    "                    perc_marker_pos_cells = 0\n",
    "\n",
    "                # Create a dictionary containing all extracted info per masked image\n",
    "                stats_dict = {\n",
    "                            \"filename\": filename,\n",
    "                            \"ROI\": roi_name,\n",
    "                            \"population\": f'{marker_name}_{subpopulation}',\n",
    "                            \"marker\": marker_name,\n",
    "                            \"marker_location\":location,\n",
    "                            \"total_cells\": total_cells,\n",
    "                            \"marker+_cells\": marker_pos_cells,\n",
    "                            \"%_marker+_cells\": perc_marker_pos_cells,\n",
    "                            \"nuclei_ch\": nuclei_channel,\n",
    "                            \"marker_ch\": marker_channel,\n",
    "                            \"slicing_factor_xy\": slicing_factor_xy,\n",
    "                            \"slicing_factor_z\": slicing_factor_z\n",
    "                            }\n",
    "\n",
    "                # Append the current data point to the stats_list\n",
    "                stats.append(stats_dict)\n",
    "\n",
    "    # Transform into a dataframe to store it as .csv later\n",
    "    df = pd.DataFrame(stats)\n",
    "\n",
    "    # Define the .csv path\n",
    "    csv_path = results_folder / f\"BP_marker_+_label_obj_class.csv\"\n",
    "\n",
    "    # Append to the .csv with new data points each round\n",
    "    df.to_csv(csv_path, mode=\"a\", index=False, header=not os.path.isfile(csv_path))\n",
    "\n",
    "# Show the updated .csv \n",
    "csv_df = pd.read_csv(csv_path)\n",
    "\n",
    "csv_df    "
   ]
  },
  {
   "cell_type": "code",
   "execution_count": 26,
   "metadata": {},
   "outputs": [
    {
     "name": "stdout",
     "output_type": "stream",
     "text": [
      "CSV has been updated and saved as 'data_updated.csv'\n"
     ]
    }
   ],
   "source": [
    "import pandas as pd\n",
    "\n",
    "# Load the CSV file (update the filename as needed)\n",
    "df = pd.read_csv(csv_path)\n",
    "\n",
    "# 1. Get all unique population values\n",
    "unique_populations = sorted(df[\"population\"].unique())\n",
    "\n",
    "# 2. Create a lookup for marker and marker_location for each population.\n",
    "pop_info = df.drop_duplicates(\"population\").set_index(\"population\")[[\"marker\", \"marker_location\"]].to_dict(\"index\")\n",
    "\n",
    "# 3. Group the data by 'filename' and 'ROI'\n",
    "group_keys = [\"filename\", \"ROI\"]\n",
    "updated_groups = []\n",
    "\n",
    "for (filename, roi), group in df.groupby(group_keys):\n",
    "    # Assume that within each group, these columns are consistent.\n",
    "    common_values = group.iloc[0][[\"total_cells\", \"nuclei_ch\", \"marker_ch\", \"slicing_factor_xy\", \"slicing_factor_z\"]].to_dict()\n",
    "    \n",
    "    # Identify which populations are missing in this group.\n",
    "    present_populations = set(group[\"population\"])\n",
    "    missing_populations = set(unique_populations) - present_populations\n",
    "    \n",
    "    # Create new rows for each missing population.\n",
    "    new_rows = []\n",
    "    for pop in missing_populations:\n",
    "        new_row = {\n",
    "            \"filename\": filename,\n",
    "            \"ROI\": roi,\n",
    "            \"population\": pop,\n",
    "            \"marker\": pop_info[pop][\"marker\"],\n",
    "            \"marker_location\": pop_info[pop][\"marker_location\"],\n",
    "            \"total_cells\": common_values[\"total_cells\"],\n",
    "            \"marker+_cells\": 0,\n",
    "            \"%_marker+_cells\": 0,\n",
    "            \"nuclei_ch\": common_values[\"nuclei_ch\"],\n",
    "            \"marker_ch\": common_values[\"marker_ch\"],\n",
    "            \"slicing_factor_xy\": common_values[\"slicing_factor_xy\"],\n",
    "            \"slicing_factor_z\": common_values[\"slicing_factor_z\"]\n",
    "        }\n",
    "        new_rows.append(new_row)\n",
    "    \n",
    "    # Append the new rows to the existing group\n",
    "    group_updated = pd.concat([group, pd.DataFrame(new_rows)], ignore_index=True)\n",
    "    updated_groups.append(group_updated)\n",
    "\n",
    "# 4. Combine all groups back into a single DataFrame.\n",
    "result = pd.concat(updated_groups, ignore_index=True)\n",
    "\n",
    "# Sort the DataFrame (for example by filename, ROI, population) for clarity.\n",
    "result = result.sort_values(by=[\"filename\", \"ROI\", \"population\"]).reset_index(drop=True)\n",
    "\n",
    "# Save the result back to a CSV file if needed\n",
    "result.to_csv(\"data_updated.csv\", index=False)\n",
    "\n",
    "print(\"CSV has been updated and saved as 'data_updated.csv'\")"
   ]
  }
 ],
 "metadata": {
  "kernelspec": {
   "display_name": "brain_nuc_stardist",
   "language": "python",
   "name": "python3"
  },
  "language_info": {
   "codemirror_mode": {
    "name": "ipython",
    "version": 3
   },
   "file_extension": ".py",
   "mimetype": "text/x-python",
   "name": "python",
   "nbconvert_exporter": "python",
   "pygments_lexer": "ipython3",
   "version": "3.10.16"
  }
 },
 "nbformat": 4,
 "nbformat_minor": 2
}
