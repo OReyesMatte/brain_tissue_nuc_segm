{
 "cells": [
  {
   "cell_type": "markdown",
   "metadata": {},
   "source": [
    "<h2>3D stack - Batch Processing - Marker+ based on APOC Object Classifier</h2>\n",
    "\n",
    "The following notebook is able to process a 3D stack (.czi or .nd2 files) and allows you to:\n",
    "\n",
    "1. Inspect your images in Napari.\n",
    "2. Define regions of interest (ROIs) using labels in Napari. Store said ROIs as .tiff files if needed.\n",
    "3. Predict nuclei labels and store them as .tiff files for further processing.\n",
    "4. Extract numbers of cells positive for a marker based on pre-trained object classifiers (scikit random forest).\n",
    "5. Display positive cells in Napari.\n",
    "6. Extract and save number of positive cells in a .csv file (SP_marker_+_label_obj_class)."
   ]
  },
  {
   "cell_type": "code",
   "execution_count": 22,
   "metadata": {},
   "outputs": [
    {
     "name": "stdout",
     "output_type": "stream",
     "text": [
      "Device name: /device:GPU:0\n",
      "Device type: GPU\n",
      "GPU model: device: 0, name: NVIDIA GeForce RTX 4090, pci bus id: 0000:01:00.0, compute capability: 8.9\n"
     ]
    },
    {
     "data": {
      "text/plain": [
       "<NVIDIA GeForce RTX 4090 on Platform: NVIDIA CUDA (2 refs)>"
      ]
     },
     "execution_count": 22,
     "metadata": {},
     "output_type": "execute_result"
    }
   ],
   "source": [
    "from pathlib import Path\n",
    "import tifffile\n",
    "import napari\n",
    "import os\n",
    "from tqdm import tqdm\n",
    "import numpy as np\n",
    "import pandas as pd\n",
    "import pyclesperanto_prototype as cle\n",
    "import apoc\n",
    "from skimage import measure\n",
    "from utils_stardist import get_gpu_details, list_images, read_image, extract_nuclei_stack, get_stardist_model, maximum_intensity_projection, simulate_cytoplasm_chunked_3d, simulate_cell_chunked_3d, simulate_cytoplasm, simulate_cell, segment_nuclei, remove_labels_touching_roi_edge\n",
    "\n",
    "get_gpu_details()\n",
    "cle.select_device(\"RTX\")"
   ]
  },
  {
   "cell_type": "markdown",
   "metadata": {},
   "source": [
    "<h3>Define the directory where your images are stored (.nd2 or .czi files)</h3>"
   ]
  },
  {
   "cell_type": "code",
   "execution_count": 23,
   "metadata": {},
   "outputs": [
    {
     "data": {
      "text/plain": [
       "['..\\\\raw_data\\\\test_data\\\\HI1_CONTRA_M8_S6_TR1.czi',\n",
       " '..\\\\raw_data\\\\test_data\\\\HI1_CONTRA_M8_S6_TR2.czi',\n",
       " '..\\\\raw_data\\\\test_data\\\\HI1_CONTRA_M8_S7_TR1.czi',\n",
       " '..\\\\raw_data\\\\test_data\\\\HI1_CONTRA_M8_S7_TR2.czi',\n",
       " '..\\\\raw_data\\\\test_data\\\\HI1_IPSI_M8_S6_TR1.czi',\n",
       " '..\\\\raw_data\\\\test_data\\\\HI1_IPSI_M8_S6_TR2.czi',\n",
       " '..\\\\raw_data\\\\test_data\\\\HI1_IPSI_M8_S7_TR1.czi',\n",
       " '..\\\\raw_data\\\\test_data\\\\HI2_CONTRA_M10_S10_TR1.czi',\n",
       " '..\\\\raw_data\\\\test_data\\\\HI2_CONTRA_M10_S10_TR2.czi',\n",
       " '..\\\\raw_data\\\\test_data\\\\HI2_IPSI_M10_S10_TR1.czi',\n",
       " '..\\\\raw_data\\\\test_data\\\\HI2_IPSI_M10_S10_TR2.czi',\n",
       " '..\\\\raw_data\\\\test_data\\\\HI3_CONTRA_M11_S10_TR1.czi',\n",
       " '..\\\\raw_data\\\\test_data\\\\HI3_CONTRA_M11_S10_TR2.czi',\n",
       " '..\\\\raw_data\\\\test_data\\\\HI3_IPSI_M11_S10_TR1.czi',\n",
       " '..\\\\raw_data\\\\test_data\\\\HI3_IPSI_M11_S10_TR2.czi',\n",
       " '..\\\\raw_data\\\\test_data\\\\SHAM1_CONTRA_M6_S11_TR1.czi',\n",
       " '..\\\\raw_data\\\\test_data\\\\SHAM1_CONTRA_M6_S11_TR2.czi',\n",
       " '..\\\\raw_data\\\\test_data\\\\SHAM1_CONTRA_M7_S11_TR1.czi',\n",
       " '..\\\\raw_data\\\\test_data\\\\SHAM1_CONTRA_M7_S11_TR2.czi',\n",
       " '..\\\\raw_data\\\\test_data\\\\SHAM1_IPSI_M6_S11_TR1.czi',\n",
       " '..\\\\raw_data\\\\test_data\\\\SHAM1_IPSI_M6_S11_TR2.czi',\n",
       " '..\\\\raw_data\\\\test_data\\\\SHAM1_IPSI_M7_S11_TR1.czi',\n",
       " '..\\\\raw_data\\\\test_data\\\\SHAM1_IPSI_M7_S11_TR2.czi']"
      ]
     },
     "execution_count": 23,
     "metadata": {},
     "output_type": "execute_result"
    }
   ],
   "source": [
    "# Copy the path where your images are stored, you can use absolute or relative paths to point at other disk locations\n",
    "directory_path = Path(\"../raw_data/test_data\")\n",
    "\n",
    "# Define the channels you want to analyze using the following structure:\n",
    "# markers = [(channel_name, channel_nr, cellular_location),(..., ..., ...)]\n",
    "# cellular locations can be \"nucleus\", \"cytoplasm\" or \"cell\" (cell being the sum volume of nucleus and cytoplasm)\n",
    "# Remember in Python one starts counting from 0, so your first channel will be 0\n",
    "# i.e. markers = [(\"ki67\", 0, \"nucleus\"), (\"neun\", 1, \"cell\"), (\"calbindin\", 2, \"cytoplasm\")]\n",
    "markers = [(\"ki67\", 0, \"nucleus\"), (\"neun\", 1, \"cell\"), (\"calbindin\", 2, \"cytoplasm\")]\n",
    "\n",
    "# Iterate through the .czi and .nd2 files in the directory\n",
    "images = list_images(directory_path)\n",
    "\n",
    "images"
   ]
  },
  {
   "cell_type": "markdown",
   "metadata": {},
   "source": [
    "<h3>Open each image in the directory</h3>\n",
    "You can do so by changing the number within the brackets below <code>image = images[0]</code>. By changing the <code>slicing factor</code> you lose resolution but speed up processing times (check the results).\n",
    "\n",
    "If you have not generated nuclei predictions before, input <code>nuclei_channel</code>, <code>n_tiles</code>, <code>segmentation_type</code> and <code>model_name</code> values."
   ]
  },
  {
   "cell_type": "code",
   "execution_count": 24,
   "metadata": {},
   "outputs": [
    {
     "name": "stdout",
     "output_type": "stream",
     "text": [
      "Loading 3D segmentation model\n",
      "Loading network weights from 'weights_best.h5'.\n",
      "Loading thresholds from 'thresholds.json'.\n",
      "Using default values: prob_thresh=0.583933, nms_thresh=0.3.\n"
     ]
    }
   ],
   "source": [
    "# Image size reduction (downsampling) to improve processing times (slicing, not lossless compression)\n",
    "# Now, in addition to xy, you can downsample across your z-stack\n",
    "slicing_factor_xy = None # Use 2 or 4 for downsampling in xy (None for lossless)\n",
    "slicing_factor_z = None # Use 2 to select 1 out of every 2 z-slices\n",
    "\n",
    "# Define the nuclei and markers of interest channel order ('Remember in Python one starts counting from zero')\n",
    "nuclei_channel = 3\n",
    "\n",
    "# The n_tiles parameter defines the number of tiles the input volume/image will be divided into along each dimension (z, y, x) during prediction. \n",
    "# This is useful for processing large images that may not fit into memory at once.\n",
    "# While tiling can handle memory limitations, chopping the image into smaller chunks increases\n",
    "# the processing time for stitching the predictions back together. \n",
    "# Use n_tiles=(1, 1, 1) if the input volume fits in memory without tiling to minimize processing overhead.\n",
    "n_tiles=(1,4,4)\n",
    "\n",
    "# Segmentation type (\"2D\" or \"3D\"). \n",
    "# 2D takes a z-stack as input, performs MIP (Maximum Intensity Projection) and predicts nuclei from the resulting projection (faster, useful for single layers of cells)\n",
    "# 3D is more computationally expensive. Predicts 3D nuclear volumes, useful for multilayered structures\n",
    "segmentation_type = \"3D\"\n",
    "\n",
    "# Nuclear segmentation model type (\"Stardist\")\n",
    "# Choose your Stardist fine-tuned model (model_name) from stardist_models folder\n",
    "# If no custom model is present, type \"test\" and a standard pre-trained model will be loaded\n",
    "model_name = \"MEC0.1\" # Type \"test\" if you don't have a custom model trained\n",
    "\n",
    "# Model loading \n",
    "model = get_stardist_model(segmentation_type, name=model_name, basedir='stardist_models')"
   ]
  },
  {
   "cell_type": "markdown",
   "metadata": {},
   "source": [
    "<h3>Mask the input image with the user defined ROIs, apply object classifiers and extract data</h3>"
   ]
  },
  {
   "cell_type": "code",
   "execution_count": null,
   "metadata": {},
   "outputs": [
    {
     "name": "stdout",
     "output_type": "stream",
     "text": [
      "Output folder already exists: results\\test_data\\3D\\MEC0.1\n",
      "The following regions of interest will be analyzed: ['CA', 'DG']\n"
     ]
    },
    {
     "name": "stderr",
     "output_type": "stream",
     "text": [
      "  0%|          | 0/23 [00:00<?, ?it/s]"
     ]
    },
    {
     "name": "stdout",
     "output_type": "stream",
     "text": [
      "\n",
      "\n",
      "Image analyzed: HI1_CONTRA_M8_S6_TR1\n",
      "Original Array shape: (4, 14, 3803, 2891)\n",
      "Compressed Array shape: (4, 14, 3803, 2891)\n"
     ]
    },
    {
     "name": "stderr",
     "output_type": "stream",
     "text": []
    },
    {
     "name": "stdout",
     "output_type": "stream",
     "text": [
      "\n",
      "Analyzing ROI: CA\n",
      "Pre-computed nuclei labels found for HI1_CONTRA_M8_S6_TR1\n",
      "Removing nuclei labels touching ROI edge\n",
      "Classifying labels according to ki67 intensities...\n",
      "Generating 3D cell labels for: neun\n",
      "Classifying labels according to neun intensities...\n",
      "Generating 3D cytoplasm labels for: calbindin\n",
      "Classifying labels according to calbindin intensities...\n"
     ]
    },
    {
     "name": "stderr",
     "output_type": "stream",
     "text": []
    },
    {
     "name": "stdout",
     "output_type": "stream",
     "text": [
      "\n",
      "Analyzing ROI: DG\n",
      "Pre-computed nuclei labels found for HI1_CONTRA_M8_S6_TR1\n",
      "Removing nuclei labels touching ROI edge\n",
      "Classifying labels according to ki67 intensities...\n",
      "Generating 3D cell labels for: neun\n",
      "Classifying labels according to neun intensities...\n",
      "Generating 3D cytoplasm labels for: calbindin\n"
     ]
    },
    {
     "name": "stderr",
     "output_type": "stream",
     "text": [
      "utils_stardist.py (533): \n",
      "Mismatch in label sets! Nuclei labels: 2165, Cytoplasm labels: 2125.\n",
      "Missing labels in Cytoplasm: [ 476  946 1135 1166 1416 1478 1519 1525 1541 1542]...\n",
      "1.85% of cells lost during nuclei subtraction operation.\n",
      "If this percentage is too high, consider using 'cell' instead of 'cytoplasm' for marker placement. The nuclei may be too densely packed.\n"
     ]
    },
    {
     "name": "stdout",
     "output_type": "stream",
     "text": [
      "Classifying labels according to calbindin intensities...\n"
     ]
    },
    {
     "name": "stderr",
     "output_type": "stream",
     "text": [
      "100%|██████████| 2/2 [01:34<00:00, 47.06s/it]\n",
      "  4%|▍         | 1/23 [01:34<34:38, 94.48s/it]"
     ]
    },
    {
     "name": "stdout",
     "output_type": "stream",
     "text": [
      "\n",
      "\n",
      "Image analyzed: HI1_CONTRA_M8_S6_TR2\n",
      "Original Array shape: (4, 13, 3802, 2882)\n",
      "Compressed Array shape: (4, 13, 3802, 2882)\n"
     ]
    },
    {
     "name": "stderr",
     "output_type": "stream",
     "text": []
    },
    {
     "name": "stdout",
     "output_type": "stream",
     "text": [
      "\n",
      "Analyzing ROI: CA\n",
      "Pre-computed nuclei labels found for HI1_CONTRA_M8_S6_TR2\n",
      "Removing nuclei labels touching ROI edge\n",
      "Classifying labels according to ki67 intensities...\n",
      "Generating 3D cell labels for: neun\n",
      "Classifying labels according to neun intensities...\n",
      "Generating 3D cytoplasm labels for: calbindin\n",
      "Classifying labels according to calbindin intensities...\n"
     ]
    },
    {
     "name": "stderr",
     "output_type": "stream",
     "text": []
    },
    {
     "name": "stdout",
     "output_type": "stream",
     "text": [
      "\n",
      "Analyzing ROI: DG\n",
      "Pre-computed nuclei labels found for HI1_CONTRA_M8_S6_TR2\n",
      "Removing nuclei labels touching ROI edge\n",
      "Classifying labels according to ki67 intensities...\n",
      "Generating 3D cell labels for: neun\n",
      "Classifying labels according to neun intensities...\n",
      "Generating 3D cytoplasm labels for: calbindin\n"
     ]
    },
    {
     "name": "stderr",
     "output_type": "stream",
     "text": [
      "utils_stardist.py (533): \n",
      "Mismatch in label sets! Nuclei labels: 2042, Cytoplasm labels: 1993.\n",
      "Missing labels in Cytoplasm: [ 299  680  722  854 1056 1127 1142 1194 1339 1511]...\n",
      "2.4% of cells lost during nuclei subtraction operation.\n",
      "If this percentage is too high, consider using 'cell' instead of 'cytoplasm' for marker placement. The nuclei may be too densely packed.\n"
     ]
    },
    {
     "name": "stdout",
     "output_type": "stream",
     "text": [
      "Classifying labels according to calbindin intensities...\n"
     ]
    },
    {
     "name": "stderr",
     "output_type": "stream",
     "text": [
      "100%|██████████| 2/2 [01:18<00:00, 39.23s/it]\n",
      "  9%|▊         | 2/23 [02:53<29:49, 85.20s/it]"
     ]
    },
    {
     "name": "stdout",
     "output_type": "stream",
     "text": [
      "\n",
      "\n",
      "Image analyzed: HI1_CONTRA_M8_S7_TR1\n",
      "Original Array shape: (4, 12, 3805, 2867)\n",
      "Compressed Array shape: (4, 12, 3805, 2867)\n"
     ]
    },
    {
     "name": "stderr",
     "output_type": "stream",
     "text": []
    },
    {
     "name": "stdout",
     "output_type": "stream",
     "text": [
      "\n",
      "Analyzing ROI: CA\n",
      "Pre-computed nuclei labels found for HI1_CONTRA_M8_S7_TR1\n",
      "Removing nuclei labels touching ROI edge\n",
      "Classifying labels according to ki67 intensities...\n",
      "Generating 3D cell labels for: neun\n",
      "Classifying labels according to neun intensities...\n",
      "Generating 3D cytoplasm labels for: calbindin\n",
      "Classifying labels according to calbindin intensities...\n"
     ]
    },
    {
     "name": "stderr",
     "output_type": "stream",
     "text": []
    },
    {
     "name": "stdout",
     "output_type": "stream",
     "text": [
      "\n",
      "Analyzing ROI: DG\n",
      "Pre-computed nuclei labels found for HI1_CONTRA_M8_S7_TR1\n",
      "Removing nuclei labels touching ROI edge\n",
      "Classifying labels according to ki67 intensities...\n",
      "Generating 3D cell labels for: neun\n",
      "Classifying labels according to neun intensities...\n",
      "Generating 3D cytoplasm labels for: calbindin\n"
     ]
    },
    {
     "name": "stderr",
     "output_type": "stream",
     "text": [
      "utils_stardist.py (533): \n",
      "Mismatch in label sets! Nuclei labels: 1771, Cytoplasm labels: 1729.\n",
      "Missing labels in Cytoplasm: [1043 1248 1308 1330 1341 1342 1344 1422 1423 1424]...\n",
      "2.37% of cells lost during nuclei subtraction operation.\n",
      "If this percentage is too high, consider using 'cell' instead of 'cytoplasm' for marker placement. The nuclei may be too densely packed.\n"
     ]
    },
    {
     "name": "stdout",
     "output_type": "stream",
     "text": [
      "Classifying labels according to calbindin intensities...\n"
     ]
    },
    {
     "name": "stderr",
     "output_type": "stream",
     "text": [
      "100%|██████████| 2/2 [01:03<00:00, 31.89s/it]\n",
      " 13%|█▎        | 3/23 [03:57<25:10, 75.51s/it]"
     ]
    },
    {
     "name": "stdout",
     "output_type": "stream",
     "text": [
      "\n",
      "\n",
      "Image analyzed: HI1_CONTRA_M8_S7_TR2\n",
      "Original Array shape: (4, 12, 3806, 2889)\n",
      "Compressed Array shape: (4, 12, 3806, 2889)\n"
     ]
    },
    {
     "name": "stderr",
     "output_type": "stream",
     "text": []
    },
    {
     "name": "stdout",
     "output_type": "stream",
     "text": [
      "\n",
      "Analyzing ROI: CA\n",
      "Pre-computed nuclei labels found for HI1_CONTRA_M8_S7_TR2\n",
      "Removing nuclei labels touching ROI edge\n",
      "Classifying labels according to ki67 intensities...\n",
      "Generating 3D cell labels for: neun\n",
      "Classifying labels according to neun intensities...\n",
      "Generating 3D cytoplasm labels for: calbindin\n",
      "Classifying labels according to calbindin intensities...\n"
     ]
    },
    {
     "name": "stderr",
     "output_type": "stream",
     "text": []
    },
    {
     "name": "stdout",
     "output_type": "stream",
     "text": [
      "\n",
      "Analyzing ROI: DG\n",
      "Pre-computed nuclei labels found for HI1_CONTRA_M8_S7_TR2\n",
      "Removing nuclei labels touching ROI edge\n",
      "Classifying labels according to ki67 intensities...\n",
      "Generating 3D cell labels for: neun\n",
      "Classifying labels according to neun intensities...\n",
      "Generating 3D cytoplasm labels for: calbindin\n"
     ]
    },
    {
     "name": "stderr",
     "output_type": "stream",
     "text": [
      "utils_stardist.py (533): \n",
      "Mismatch in label sets! Nuclei labels: 1736, Cytoplasm labels: 1689.\n",
      "Missing labels in Cytoplasm: [1023 1319 1321 1324 1431 1433 1439 1447 1486 1500]...\n",
      "2.71% of cells lost during nuclei subtraction operation.\n",
      "If this percentage is too high, consider using 'cell' instead of 'cytoplasm' for marker placement. The nuclei may be too densely packed.\n"
     ]
    },
    {
     "name": "stdout",
     "output_type": "stream",
     "text": [
      "Classifying labels according to calbindin intensities...\n"
     ]
    },
    {
     "name": "stderr",
     "output_type": "stream",
     "text": [
      "100%|██████████| 2/2 [00:55<00:00, 27.63s/it]\n",
      " 17%|█▋        | 4/23 [04:52<21:25, 67.65s/it]"
     ]
    },
    {
     "name": "stdout",
     "output_type": "stream",
     "text": [
      "\n",
      "\n",
      "Image analyzed: HI1_IPSI_M8_S6_TR1\n",
      "Original Array shape: (4, 12, 3798, 2877)\n",
      "Compressed Array shape: (4, 12, 3798, 2877)\n"
     ]
    },
    {
     "name": "stderr",
     "output_type": "stream",
     "text": []
    },
    {
     "name": "stdout",
     "output_type": "stream",
     "text": [
      "\n",
      "Analyzing ROI: CA\n",
      "Pre-computed nuclei labels found for HI1_IPSI_M8_S6_TR1\n",
      "Removing nuclei labels touching ROI edge\n",
      "Classifying labels according to ki67 intensities...\n",
      "Generating 3D cell labels for: neun\n",
      "Classifying labels according to neun intensities...\n",
      "Generating 3D cytoplasm labels for: calbindin\n",
      "Classifying labels according to calbindin intensities...\n"
     ]
    },
    {
     "name": "stderr",
     "output_type": "stream",
     "text": []
    },
    {
     "name": "stdout",
     "output_type": "stream",
     "text": [
      "\n",
      "Analyzing ROI: DG\n",
      "Pre-computed nuclei labels found for HI1_IPSI_M8_S6_TR1\n",
      "Removing nuclei labels touching ROI edge\n",
      "Classifying labels according to ki67 intensities...\n",
      "Generating 3D cell labels for: neun\n",
      "Classifying labels according to neun intensities...\n",
      "Generating 3D cytoplasm labels for: calbindin\n",
      "Classifying labels according to calbindin intensities...\n"
     ]
    },
    {
     "name": "stderr",
     "output_type": "stream",
     "text": [
      "100%|██████████| 2/2 [00:55<00:00, 27.71s/it]\n",
      " 22%|██▏       | 5/23 [05:48<19:00, 63.37s/it]"
     ]
    },
    {
     "name": "stdout",
     "output_type": "stream",
     "text": [
      "\n",
      "\n",
      "Image analyzed: HI1_IPSI_M8_S6_TR2\n",
      "Original Array shape: (4, 14, 3802, 2876)\n",
      "Compressed Array shape: (4, 14, 3802, 2876)\n"
     ]
    },
    {
     "name": "stderr",
     "output_type": "stream",
     "text": []
    },
    {
     "name": "stdout",
     "output_type": "stream",
     "text": [
      "\n",
      "Analyzing ROI: CA\n",
      "Pre-computed nuclei labels found for HI1_IPSI_M8_S6_TR2\n",
      "Removing nuclei labels touching ROI edge\n",
      "Classifying labels according to ki67 intensities...\n",
      "Generating 3D cell labels for: neun\n",
      "Classifying labels according to neun intensities...\n",
      "Generating 3D cytoplasm labels for: calbindin\n",
      "Classifying labels according to calbindin intensities...\n"
     ]
    },
    {
     "name": "stderr",
     "output_type": "stream",
     "text": []
    },
    {
     "name": "stdout",
     "output_type": "stream",
     "text": [
      "\n",
      "Analyzing ROI: DG\n",
      "Pre-computed nuclei labels found for HI1_IPSI_M8_S6_TR2\n",
      "Removing nuclei labels touching ROI edge\n",
      "Classifying labels according to ki67 intensities...\n",
      "Generating 3D cell labels for: neun\n",
      "Classifying labels according to neun intensities...\n",
      "Generating 3D cytoplasm labels for: calbindin\n"
     ]
    },
    {
     "name": "stderr",
     "output_type": "stream",
     "text": [
      "utils_stardist.py (533): \n",
      "Mismatch in label sets! Nuclei labels: 1958, Cytoplasm labels: 1938.\n",
      "Missing labels in Cytoplasm: [ 983 1106 1108 1160 1192 1215 1328 1442 1457 1458]...\n",
      "1.02% of cells lost during nuclei subtraction operation.\n",
      "If this percentage is too high, consider using 'cell' instead of 'cytoplasm' for marker placement. The nuclei may be too densely packed.\n"
     ]
    },
    {
     "name": "stdout",
     "output_type": "stream",
     "text": [
      "Classifying labels according to calbindin intensities...\n"
     ]
    },
    {
     "name": "stderr",
     "output_type": "stream",
     "text": [
      "100%|██████████| 2/2 [01:11<00:00, 35.79s/it]\n",
      " 26%|██▌       | 6/23 [07:00<18:47, 66.30s/it]"
     ]
    },
    {
     "name": "stdout",
     "output_type": "stream",
     "text": [
      "\n",
      "\n",
      "Image analyzed: HI1_IPSI_M8_S7_TR1\n",
      "Original Array shape: (4, 12, 2874, 1950)\n",
      "Compressed Array shape: (4, 12, 2874, 1950)\n"
     ]
    },
    {
     "name": "stderr",
     "output_type": "stream",
     "text": []
    },
    {
     "name": "stdout",
     "output_type": "stream",
     "text": [
      "\n",
      "Analyzing ROI: CA\n",
      "Pre-computed nuclei labels found for HI1_IPSI_M8_S7_TR1\n",
      "Removing nuclei labels touching ROI edge\n",
      "Classifying labels according to ki67 intensities...\n",
      "Generating 3D cell labels for: neun\n",
      "Classifying labels according to neun intensities...\n",
      "Generating 3D cytoplasm labels for: calbindin\n",
      "Classifying labels according to calbindin intensities...\n"
     ]
    },
    {
     "name": "stderr",
     "output_type": "stream",
     "text": []
    },
    {
     "name": "stdout",
     "output_type": "stream",
     "text": [
      "\n",
      "Analyzing ROI: DG\n",
      "Pre-computed nuclei labels found for HI1_IPSI_M8_S7_TR1\n",
      "Removing nuclei labels touching ROI edge\n",
      "Classifying labels according to ki67 intensities...\n",
      "Generating 3D cell labels for: neun\n",
      "Classifying labels according to neun intensities...\n",
      "Generating 3D cytoplasm labels for: calbindin\n",
      "Classifying labels according to calbindin intensities...\n"
     ]
    },
    {
     "name": "stderr",
     "output_type": "stream",
     "text": [
      "100%|██████████| 2/2 [00:27<00:00, 13.93s/it]\n",
      " 30%|███       | 7/23 [07:28<14:20, 53.79s/it]"
     ]
    },
    {
     "name": "stdout",
     "output_type": "stream",
     "text": [
      "\n",
      "\n",
      "Image analyzed: HI2_CONTRA_M10_S10_TR1\n",
      "Original Array shape: (4, 14, 3799, 2874)\n",
      "Compressed Array shape: (4, 14, 3799, 2874)\n"
     ]
    },
    {
     "name": "stderr",
     "output_type": "stream",
     "text": []
    },
    {
     "name": "stdout",
     "output_type": "stream",
     "text": [
      "\n",
      "Analyzing ROI: CA\n",
      "Pre-computed nuclei labels found for HI2_CONTRA_M10_S10_TR1\n",
      "Removing nuclei labels touching ROI edge\n",
      "Classifying labels according to ki67 intensities...\n",
      "Generating 3D cell labels for: neun\n",
      "Classifying labels according to neun intensities...\n",
      "Generating 3D cytoplasm labels for: calbindin\n",
      "Classifying labels according to calbindin intensities...\n"
     ]
    },
    {
     "name": "stderr",
     "output_type": "stream",
     "text": []
    },
    {
     "name": "stdout",
     "output_type": "stream",
     "text": [
      "\n",
      "Analyzing ROI: DG\n",
      "Pre-computed nuclei labels found for HI2_CONTRA_M10_S10_TR1\n",
      "Removing nuclei labels touching ROI edge\n",
      "Classifying labels according to ki67 intensities...\n",
      "Generating 3D cell labels for: neun\n",
      "Classifying labels according to neun intensities...\n",
      "Generating 3D cytoplasm labels for: calbindin\n"
     ]
    },
    {
     "name": "stderr",
     "output_type": "stream",
     "text": [
      "utils_stardist.py (533): \n",
      "Mismatch in label sets! Nuclei labels: 1747, Cytoplasm labels: 1662.\n",
      "Missing labels in Cytoplasm: [585 609 785 856 857 951 957 958 960 963]...\n",
      "4.87% of cells lost during nuclei subtraction operation.\n",
      "If this percentage is too high, consider using 'cell' instead of 'cytoplasm' for marker placement. The nuclei may be too densely packed.\n"
     ]
    },
    {
     "name": "stdout",
     "output_type": "stream",
     "text": [
      "Classifying labels according to calbindin intensities...\n"
     ]
    },
    {
     "name": "stderr",
     "output_type": "stream",
     "text": [
      "100%|██████████| 2/2 [01:22<00:00, 41.36s/it]\n",
      " 35%|███▍      | 8/23 [08:51<15:46, 63.13s/it]"
     ]
    },
    {
     "name": "stdout",
     "output_type": "stream",
     "text": [
      "\n",
      "\n",
      "Image analyzed: HI2_CONTRA_M10_S10_TR2\n",
      "Original Array shape: (4, 14, 3813, 2891)\n",
      "Compressed Array shape: (4, 14, 3813, 2891)\n"
     ]
    },
    {
     "name": "stderr",
     "output_type": "stream",
     "text": []
    },
    {
     "name": "stdout",
     "output_type": "stream",
     "text": [
      "\n",
      "Analyzing ROI: CA\n",
      "Pre-computed nuclei labels found for HI2_CONTRA_M10_S10_TR2\n",
      "Removing nuclei labels touching ROI edge\n",
      "Classifying labels according to ki67 intensities...\n",
      "Generating 3D cell labels for: neun\n",
      "Classifying labels according to neun intensities...\n",
      "Generating 3D cytoplasm labels for: calbindin\n",
      "Classifying labels according to calbindin intensities...\n"
     ]
    },
    {
     "name": "stderr",
     "output_type": "stream",
     "text": []
    },
    {
     "name": "stdout",
     "output_type": "stream",
     "text": [
      "\n",
      "Analyzing ROI: DG\n",
      "Pre-computed nuclei labels found for HI2_CONTRA_M10_S10_TR2\n",
      "Removing nuclei labels touching ROI edge\n",
      "Classifying labels according to ki67 intensities...\n",
      "Generating 3D cell labels for: neun\n",
      "Classifying labels according to neun intensities...\n",
      "Generating 3D cytoplasm labels for: calbindin\n"
     ]
    },
    {
     "name": "stderr",
     "output_type": "stream",
     "text": [
      "utils_stardist.py (533): \n",
      "Mismatch in label sets! Nuclei labels: 1579, Cytoplasm labels: 1530.\n",
      "Missing labels in Cytoplasm: [ 733  734  784  848  870  942 1022 1119 1150 1189]...\n",
      "3.1% of cells lost during nuclei subtraction operation.\n",
      "If this percentage is too high, consider using 'cell' instead of 'cytoplasm' for marker placement. The nuclei may be too densely packed.\n"
     ]
    },
    {
     "name": "stdout",
     "output_type": "stream",
     "text": [
      "Classifying labels according to calbindin intensities...\n"
     ]
    },
    {
     "name": "stderr",
     "output_type": "stream",
     "text": [
      "100%|██████████| 2/2 [01:20<00:00, 40.01s/it]\n",
      " 39%|███▉      | 9/23 [10:12<15:59, 68.55s/it]"
     ]
    },
    {
     "name": "stdout",
     "output_type": "stream",
     "text": [
      "\n",
      "\n",
      "Image analyzed: HI2_IPSI_M10_S10_TR1\n",
      "Original Array shape: (4, 13, 2878, 2879)\n",
      "Compressed Array shape: (4, 13, 2878, 2879)\n"
     ]
    },
    {
     "name": "stderr",
     "output_type": "stream",
     "text": []
    },
    {
     "name": "stdout",
     "output_type": "stream",
     "text": [
      "\n",
      "Analyzing ROI: CA\n",
      "Pre-computed nuclei labels found for HI2_IPSI_M10_S10_TR1\n",
      "Removing nuclei labels touching ROI edge\n",
      "Classifying labels according to ki67 intensities...\n",
      "Generating 3D cell labels for: neun\n",
      "Classifying labels according to neun intensities...\n",
      "Generating 3D cytoplasm labels for: calbindin\n",
      "Classifying labels according to calbindin intensities...\n"
     ]
    },
    {
     "name": "stderr",
     "output_type": "stream",
     "text": []
    },
    {
     "name": "stdout",
     "output_type": "stream",
     "text": [
      "\n",
      "Analyzing ROI: DG\n",
      "Pre-computed nuclei labels found for HI2_IPSI_M10_S10_TR1\n",
      "Removing nuclei labels touching ROI edge\n",
      "Classifying labels according to ki67 intensities...\n",
      "Generating 3D cell labels for: neun\n",
      "Classifying labels according to neun intensities...\n",
      "Generating 3D cytoplasm labels for: calbindin\n"
     ]
    },
    {
     "name": "stderr",
     "output_type": "stream",
     "text": [
      "utils_stardist.py (533): \n",
      "Mismatch in label sets! Nuclei labels: 1117, Cytoplasm labels: 1089.\n",
      "Missing labels in Cytoplasm: [634 635 639 680 714 854 856 869 890 891]...\n",
      "2.51% of cells lost during nuclei subtraction operation.\n",
      "If this percentage is too high, consider using 'cell' instead of 'cytoplasm' for marker placement. The nuclei may be too densely packed.\n"
     ]
    },
    {
     "name": "stdout",
     "output_type": "stream",
     "text": [
      "Classifying labels according to calbindin intensities...\n"
     ]
    },
    {
     "name": "stderr",
     "output_type": "stream",
     "text": [
      "100%|██████████| 2/2 [00:46<00:00, 23.36s/it]\n",
      " 43%|████▎     | 10/23 [10:59<13:24, 61.89s/it]"
     ]
    },
    {
     "name": "stdout",
     "output_type": "stream",
     "text": [
      "\n",
      "\n",
      "Image analyzed: HI2_IPSI_M10_S10_TR2\n",
      "Original Array shape: (4, 15, 2880, 1959)\n",
      "Compressed Array shape: (4, 15, 2880, 1959)\n"
     ]
    },
    {
     "name": "stderr",
     "output_type": "stream",
     "text": []
    },
    {
     "name": "stdout",
     "output_type": "stream",
     "text": [
      "\n",
      "Analyzing ROI: CA\n",
      "Pre-computed nuclei labels found for HI2_IPSI_M10_S10_TR2\n",
      "Removing nuclei labels touching ROI edge\n",
      "Classifying labels according to ki67 intensities...\n",
      "Generating 3D cell labels for: neun\n",
      "Classifying labels according to neun intensities...\n",
      "Generating 3D cytoplasm labels for: calbindin\n",
      "Classifying labels according to calbindin intensities...\n"
     ]
    },
    {
     "name": "stderr",
     "output_type": "stream",
     "text": []
    },
    {
     "name": "stdout",
     "output_type": "stream",
     "text": [
      "\n",
      "Analyzing ROI: DG\n",
      "Pre-computed nuclei labels found for HI2_IPSI_M10_S10_TR2\n",
      "Removing nuclei labels touching ROI edge\n",
      "Classifying labels according to ki67 intensities...\n",
      "Generating 3D cell labels for: neun\n",
      "Classifying labels according to neun intensities...\n",
      "Generating 3D cytoplasm labels for: calbindin\n",
      "Classifying labels according to calbindin intensities...\n"
     ]
    },
    {
     "name": "stderr",
     "output_type": "stream",
     "text": [
      "100%|██████████| 2/2 [00:34<00:00, 17.15s/it]\n",
      " 48%|████▊     | 11/23 [11:33<10:41, 53.50s/it]"
     ]
    },
    {
     "name": "stdout",
     "output_type": "stream",
     "text": [
      "\n",
      "\n",
      "Image analyzed: HI3_CONTRA_M11_S10_TR1\n",
      "Original Array shape: (4, 13, 2884, 2879)\n",
      "Compressed Array shape: (4, 13, 2884, 2879)\n"
     ]
    },
    {
     "name": "stderr",
     "output_type": "stream",
     "text": []
    },
    {
     "name": "stdout",
     "output_type": "stream",
     "text": [
      "\n",
      "Analyzing ROI: CA\n",
      "Pre-computed nuclei labels found for HI3_CONTRA_M11_S10_TR1\n",
      "Removing nuclei labels touching ROI edge\n",
      "Classifying labels according to ki67 intensities...\n",
      "Generating 3D cell labels for: neun\n",
      "Classifying labels according to neun intensities...\n",
      "Generating 3D cytoplasm labels for: calbindin\n",
      "Classifying labels according to calbindin intensities...\n"
     ]
    },
    {
     "name": "stderr",
     "output_type": "stream",
     "text": []
    },
    {
     "name": "stdout",
     "output_type": "stream",
     "text": [
      "\n",
      "Analyzing ROI: DG\n",
      "Pre-computed nuclei labels found for HI3_CONTRA_M11_S10_TR1\n",
      "Removing nuclei labels touching ROI edge\n",
      "Classifying labels according to ki67 intensities...\n",
      "Generating 3D cell labels for: neun\n",
      "Classifying labels according to neun intensities...\n",
      "Generating 3D cytoplasm labels for: calbindin\n"
     ]
    },
    {
     "name": "stderr",
     "output_type": "stream",
     "text": [
      "utils_stardist.py (533): \n",
      "Mismatch in label sets! Nuclei labels: 2106, Cytoplasm labels: 2075.\n",
      "Missing labels in Cytoplasm: [1397 1452 1507 1585 1627 1640 1648 1684 1788 1799]...\n",
      "1.47% of cells lost during nuclei subtraction operation.\n",
      "If this percentage is too high, consider using 'cell' instead of 'cytoplasm' for marker placement. The nuclei may be too densely packed.\n"
     ]
    },
    {
     "name": "stdout",
     "output_type": "stream",
     "text": [
      "Classifying labels according to calbindin intensities...\n"
     ]
    },
    {
     "name": "stderr",
     "output_type": "stream",
     "text": [
      "100%|██████████| 2/2 [00:52<00:00, 26.19s/it]\n",
      " 52%|█████▏    | 12/23 [12:26<09:45, 53.24s/it]"
     ]
    },
    {
     "name": "stdout",
     "output_type": "stream",
     "text": [
      "\n",
      "\n",
      "Image analyzed: HI3_CONTRA_M11_S10_TR2\n",
      "Original Array shape: (4, 11, 2881, 2882)\n",
      "Compressed Array shape: (4, 11, 2881, 2882)\n"
     ]
    },
    {
     "name": "stderr",
     "output_type": "stream",
     "text": []
    },
    {
     "name": "stdout",
     "output_type": "stream",
     "text": [
      "\n",
      "Analyzing ROI: CA\n",
      "Pre-computed nuclei labels found for HI3_CONTRA_M11_S10_TR2\n",
      "Removing nuclei labels touching ROI edge\n",
      "Classifying labels according to ki67 intensities...\n",
      "Generating 3D cell labels for: neun\n",
      "Classifying labels according to neun intensities...\n",
      "Generating 3D cytoplasm labels for: calbindin\n",
      "Classifying labels according to calbindin intensities...\n"
     ]
    },
    {
     "name": "stderr",
     "output_type": "stream",
     "text": []
    },
    {
     "name": "stdout",
     "output_type": "stream",
     "text": [
      "\n",
      "Analyzing ROI: DG\n",
      "Pre-computed nuclei labels found for HI3_CONTRA_M11_S10_TR2\n",
      "Removing nuclei labels touching ROI edge\n",
      "Classifying labels according to ki67 intensities...\n",
      "Generating 3D cell labels for: neun\n",
      "Classifying labels according to neun intensities...\n",
      "Generating 3D cytoplasm labels for: calbindin\n",
      "Classifying labels according to calbindin intensities...\n"
     ]
    },
    {
     "name": "stderr",
     "output_type": "stream",
     "text": [
      "100%|██████████| 2/2 [00:40<00:00, 20.09s/it]\n",
      " 57%|█████▋    | 13/23 [13:06<08:13, 49.35s/it]"
     ]
    },
    {
     "name": "stdout",
     "output_type": "stream",
     "text": [
      "\n",
      "\n",
      "Image analyzed: HI3_IPSI_M11_S10_TR1\n",
      "Original Array shape: (4, 14, 2880, 2880)\n",
      "Compressed Array shape: (4, 14, 2880, 2880)\n"
     ]
    },
    {
     "name": "stderr",
     "output_type": "stream",
     "text": []
    },
    {
     "name": "stdout",
     "output_type": "stream",
     "text": [
      "\n",
      "Analyzing ROI: CA\n",
      "Pre-computed nuclei labels found for HI3_IPSI_M11_S10_TR1\n",
      "Removing nuclei labels touching ROI edge\n",
      "Classifying labels according to ki67 intensities...\n"
     ]
    }
   ],
   "source": [
    "# Construct ROI and nuclei predictions paths from directory_path above\n",
    "roi_path = directory_path / \"ROIs\"\n",
    "nuclei_preds_path = directory_path / \"nuclei_preds\" / segmentation_type / model_name\n",
    "\n",
    "# Extract the experiment name from the data directory path\n",
    "experiment_id = directory_path.name\n",
    "\n",
    "# Construct the object classifier path\n",
    "obj_class_path = Path(\"./APOC_ObjectClassifiers\") / experiment_id\n",
    "\n",
    "# Define output folder for results\n",
    "results_folder = Path(\"results\") / experiment_id / segmentation_type / model_name\n",
    "\n",
    "# Create the necessary folder structure if it does not exist\n",
    "try:\n",
    "    os.makedirs(str(results_folder))\n",
    "    print(f\"Output folder created: {results_folder}\")\n",
    "except FileExistsError:\n",
    "    print(f\"Output folder already exists: {results_folder}\")\n",
    "\n",
    "# List of subfolder names\n",
    "try:\n",
    "    roi_names = [folder.name for folder in roi_path.iterdir() if folder.is_dir()]\n",
    "\n",
    "except FileNotFoundError:\n",
    "    roi_names = [\"full_image\"]\n",
    "        \n",
    "print(f\"The following regions of interest will be analyzed: {roi_names}\")\n",
    "\n",
    "for image in tqdm(images):\n",
    "\n",
    "    # Create an empty list to store all stats extracted from each image\n",
    "    stats = []\n",
    "\n",
    "    # Read image, apply slicing if needed and return filename and img as a np array\n",
    "    img, filename = read_image(image, slicing_factor_xy, slicing_factor_z)\n",
    "\n",
    "    # Generate maximum intensity projection \n",
    "    img_mip = maximum_intensity_projection(img)\n",
    "\n",
    "    for roi_name in tqdm(roi_names):\n",
    "        print(f\"\\nAnalyzing ROI: {roi_name}\")\n",
    "\n",
    "        # Read the user defined ROIs, in case of full image analysis generate a label covering the entire image\n",
    "        try:\n",
    "            # Read previously defined ROIs\n",
    "            user_roi = tifffile.imread(roi_path / roi_name / f\"{filename}.tiff\")\n",
    "\n",
    "        except FileNotFoundError:\n",
    "            # Extract the xy dimensions of the input image \n",
    "            img_shape = img_mip.shape\n",
    "            img_xy_dims = img_shape[-2:]\n",
    "\n",
    "            # Create a label covering the entire image\n",
    "            user_roi = np.ones(img_xy_dims).astype(np.uint8)\n",
    "\n",
    "        # Read previously predicted nuclei labels, if not present generate nuclei predictions and save them\n",
    "        try:\n",
    "            # Read the nuclei predictions per ROI\n",
    "            labels = tifffile.imread(nuclei_preds_path / roi_name / f\"{filename}.tiff\")\n",
    "            print(f\"Pre-computed nuclei labels found for {filename}\")\n",
    "            # Remove labels touching ROI edge (in place for nuclei predictions generated before \"remove_labels_touchin_roi_edge\" was implemented)\n",
    "            print(\"Removing nuclei labels touching ROI edge\")\n",
    "            labels = remove_labels_touching_roi_edge(labels, user_roi)\n",
    "\n",
    "        except FileNotFoundError:\n",
    "            print(f\"Generating nuclei labels for {filename}\")\n",
    "\n",
    "            # If 3D-segmentation input nuclei_img is a 3D-stack\n",
    "            if segmentation_type == \"3D\":\n",
    "                # Slice the nuclei stack\n",
    "                nuclei_img = extract_nuclei_stack(img, nuclei_channel)\n",
    "\n",
    "            # If 2D-segmentation input nuclei_img is a max intensity projection of said 3D-stack\n",
    "            elif segmentation_type == \"2D\":\n",
    "                # Slice the nuclei stack\n",
    "                nuclei_img = extract_nuclei_stack(img, nuclei_channel)\n",
    "                nuclei_img = np.max(nuclei_img, axis=0)\n",
    "\n",
    "            # We will create a mask where roi is greater than or equal to 1\n",
    "            mask = (user_roi >= 1).astype(np.uint8)\n",
    "\n",
    "            # 3D segmentation logic, extend 2D mask across the entire stack volume\n",
    "            if segmentation_type == \"3D\":\n",
    "                # Extract the number of z-slices to extend the mask\n",
    "                slice_nr = img.shape[1]\n",
    "                # Extend the mask across the entire volume\n",
    "                mask = np.tile(mask, (slice_nr, 1, 1))\n",
    "                # Apply the mask to nuclei_img, setting all other pixels to 0\n",
    "                masked_nuclei_img = np.where(mask, nuclei_img, 0)\n",
    "            elif segmentation_type == \"2D\":\n",
    "                # Apply the mask to nuclei_img, setting all other pixels to 0\n",
    "                masked_nuclei_img = np.where(mask, nuclei_img, 0)\n",
    "\n",
    "            # Segment nuclei and return labels\n",
    "            labels = segment_nuclei(masked_nuclei_img, segmentation_type, model, n_tiles)\n",
    "\n",
    "            # Remove labels touching ROI edge\n",
    "            print(\"Removing nuclei labels touching ROI edge\")\n",
    "            labels = remove_labels_touching_roi_edge(labels, user_roi)\n",
    "\n",
    "            # Save nuclei labels as .tiff files to reuse them later\n",
    "            try:\n",
    "                os.makedirs(nuclei_preds_path / roi_name, exist_ok=True)\n",
    "            except Exception as e:\n",
    "                print(f\"Error creating directory {nuclei_preds_path / roi_name}: {e}\")\n",
    "\n",
    "            # Construct path to store\n",
    "            path_to_store = nuclei_preds_path / roi_name / f\"{filename}.tiff\"\n",
    "            print(f\"Saving nuclei labels to {path_to_store}\")\n",
    "            try:\n",
    "                tifffile.imwrite(path_to_store, labels)\n",
    "            except Exception as e:\n",
    "                print(f\"Error saving file {path_to_store}: {e}\")\n",
    "\n",
    "        # Loop through each marker\n",
    "        for marker in markers:\n",
    "\n",
    "            # Extract marker_name\n",
    "            marker_name = marker[0] \n",
    "\n",
    "            # Retrieve the first and second values (channel and location) of the corresponding tuple in markers\n",
    "            for item in markers:\n",
    "                if item[0] == marker_name:\n",
    "                    marker_channel = item[1]\n",
    "                    location = item[2]\n",
    "                    break  # Stop searching once the marker is found\n",
    "\n",
    "            if location == \"cytoplasm\":\n",
    "                if segmentation_type == \"3D\":\n",
    "                    print(f\"Generating {segmentation_type} cytoplasm labels for: {marker_name}\")\n",
    "                    # Simulate a cytoplasm by dilating the nuclei and subtracting the nuclei mask afterwards\n",
    "                    labels = simulate_cytoplasm_chunked_3d(labels, dilation_radius=2, erosion_radius=0, chunk_size=(1, 1024, 1024))\n",
    "\n",
    "                elif segmentation_type == \"2D\":\n",
    "                    print(f\"Generating {segmentation_type} cytoplasm labels for: {marker_name}\")\n",
    "                    # Simulate a cytoplasm by dilating the nuclei and subtracting the nuclei mask afterwards\n",
    "                    labels = simulate_cytoplasm(labels, dilation_radius=2, erosion_radius=0)\n",
    "\n",
    "            elif location == \"cell\":\n",
    "                if segmentation_type == \"3D\":\n",
    "                    print(f\"Generating {segmentation_type} cell labels for: {marker_name}\")\n",
    "                    # Simulate a cell volume by dilating the nuclei \n",
    "                    labels = simulate_cell_chunked_3d(labels, dilation_radius=2, erosion_radius=0, chunk_size=(1, 1024, 1024))\n",
    "\n",
    "                elif segmentation_type == \"2D\":\n",
    "                    print(f\"Generating {segmentation_type} cell labels for: {marker_name}\")\n",
    "                    # Simulate a cytoplasm by dilating the nuclei and subtracting the nuclei mask afterwards\n",
    "                    labels = simulate_cell(labels, dilation_radius=2, erosion_radius=0)\n",
    "\n",
    "            # Classify labels based on their corresponding object classifier\n",
    "            cl_filename = f\"./{obj_class_path}/ObjClass_{segmentation_type}_ch{marker_channel}.cl\"\n",
    "\n",
    "            # Load the classifier from disc to use the latest version\n",
    "            classifier = apoc.ObjectClassifier(cl_filename)\n",
    "\n",
    "            # If 3D-segmentation input marker_img is a 3D-stack\n",
    "            if segmentation_type == \"3D\":\n",
    "                # Slice the img stack\n",
    "                marker_img = img[marker_channel]\n",
    "\n",
    "            # If 2D-segmentation input marker_img is a max intensity projection of said 3D-stack\n",
    "            elif segmentation_type == \"2D\":\n",
    "                # Slice the img stack\n",
    "                marker_img = img_mip[marker_channel]\n",
    "\n",
    "            # Determine object classification\n",
    "            print(f\"Classifying labels according to {marker_name} intensities...\")\n",
    "            result = classifier.predict(labels, marker_img)\n",
    "\n",
    "            # Extract unique class values from result and loop through them\n",
    "            unique_classes = np.unique(result)\n",
    "            unique_classes = unique_classes[unique_classes != 0]  # Exclude background label\n",
    "\n",
    "            for label in unique_classes:\n",
    "\n",
    "                # Retrieve class and transform into a string\n",
    "                subpopulation = str(label)\n",
    "\n",
    "                # Create a boolean array (mask) where values match the label (class) in result\n",
    "                class_mask = cle.pull(result) == label\n",
    "                class_mask = class_mask.astype(bool) # Convert into boolean to allow for indexing later on\n",
    "\n",
    "                # Display resulting masks for each class in Napari \n",
    "                # viewer.add_labels(class_mask, name=f'{marker_name}{subpopulation}_class')\n",
    "\n",
    "                # Find nuclei labels that colocalize with said class (mask) using Numpy indexing\n",
    "                positive_labels = np.unique(labels[class_mask])\n",
    "                positive_labels = positive_labels[positive_labels != 0]  # Remove background label\n",
    "\n",
    "                # Extract your information of interest\n",
    "                total_cells = len(np.unique(labels)) - 1\n",
    "                marker_pos_cells = len(np.unique(positive_labels)) - 1\n",
    "\n",
    "                # Calculate \"%_marker+_cells\" and avoid division by zero errors\n",
    "                try:\n",
    "                    perc_marker_pos_cells = (marker_pos_cells * 100) / total_cells\n",
    "                except ZeroDivisionError:\n",
    "                    perc_marker_pos_cells = 0\n",
    "\n",
    "                # Create a dictionary containing all extracted info per masked image\n",
    "                stats_dict = {\n",
    "                            \"filename\": filename,\n",
    "                            \"ROI\": roi_name,\n",
    "                            \"population\": f'{marker_name}_{subpopulation}',\n",
    "                            \"marker\": marker_name,\n",
    "                            \"marker_location\":location,\n",
    "                            \"total_cells\": total_cells,\n",
    "                            \"marker+_cells\": marker_pos_cells,\n",
    "                            \"%_marker+_cells\": perc_marker_pos_cells,\n",
    "                            \"nuclei_ch\": nuclei_channel,\n",
    "                            \"marker_ch\": marker_channel,\n",
    "                            \"slicing_factor_xy\": slicing_factor_xy,\n",
    "                            \"slicing_factor_z\": slicing_factor_z\n",
    "                            }\n",
    "\n",
    "                # Append the current data point to the stats_list\n",
    "                stats.append(stats_dict)\n",
    "\n",
    "    # Transform into a dataframe to store it as .csv later\n",
    "    df = pd.DataFrame(stats)\n",
    "\n",
    "    # Define the .csv path\n",
    "    csv_path = results_folder / f\"BP_marker_+_label_obj_class.csv\"\n",
    "\n",
    "    # Append to the .csv with new data points each round\n",
    "    df.to_csv(csv_path, mode=\"a\", index=False, header=not os.path.isfile(csv_path))\n",
    "\n",
    "# Show the updated .csv \n",
    "csv_df = pd.read_csv(csv_path)\n",
    "\n",
    "csv_df    "
   ]
  }
 ],
 "metadata": {
  "kernelspec": {
   "display_name": "brain_nuc_stardist",
   "language": "python",
   "name": "python3"
  },
  "language_info": {
   "codemirror_mode": {
    "name": "ipython",
    "version": 3
   },
   "file_extension": ".py",
   "mimetype": "text/x-python",
   "name": "python",
   "nbconvert_exporter": "python",
   "pygments_lexer": "ipython3",
   "version": "3.10.16"
  }
 },
 "nbformat": 4,
 "nbformat_minor": 2
}
