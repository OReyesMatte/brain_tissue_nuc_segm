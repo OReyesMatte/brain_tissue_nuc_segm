{
 "cells": [
  {
   "cell_type": "markdown",
   "metadata": {},
   "source": [
    "<h2>Mask nuclei labels from full_image predictions</h2>\n",
    "\n",
    "This notebook is useful if you have generated the nuclei predictions for the full image but did not draw the ROIs in advance.\n",
    "\n",
    "In order to use this notebook you will need to run 002_BP_Predict_nuclei_labels.ipynb to generate the full_image nuclei labels"
   ]
  },
  {
   "cell_type": "code",
   "execution_count": null,
   "metadata": {},
   "outputs": [],
   "source": [
    "from pathlib import Path\n",
    "import tifffile\n",
    "import os\n",
    "import numpy as np\n",
    "from tqdm import tqdm\n",
    "from utils_stardist import list_images"
   ]
  },
  {
   "cell_type": "code",
   "execution_count": 52,
   "metadata": {},
   "outputs": [
    {
     "data": {
      "text/plain": [
       "['..\\\\raw_data\\\\test_big_data\\\\1482_naive_TR1.nd2',\n",
       " '..\\\\raw_data\\\\test_big_data\\\\1482_naive_TR2.nd2',\n",
       " '..\\\\raw_data\\\\test_big_data\\\\2106_conditioned_TR1.nd2',\n",
       " '..\\\\raw_data\\\\test_big_data\\\\2106_conditioned_TR2.nd2',\n",
       " '..\\\\raw_data\\\\test_big_data\\\\2107_conditioned_TR1.nd2',\n",
       " '..\\\\raw_data\\\\test_big_data\\\\2107_conditioned_TR2.nd2',\n",
       " '..\\\\raw_data\\\\test_big_data\\\\2108_conditioned_TR1.nd2']"
      ]
     },
     "execution_count": 52,
     "metadata": {},
     "output_type": "execute_result"
    }
   ],
   "source": [
    "# Copy the path where your images are stored, you can use absolute or relative paths to point at other disk locations\n",
    "directory_path = Path(\"../raw_data/test_big_data\")\n",
    "\n",
    "# Construct ROI path from directory_path above\n",
    "input_roi_path = directory_path / \"ROIs\"\n",
    "\n",
    "# Segmentation type (\"2D\" or \"3D\"). \n",
    "# 2D takes a z-stack as input, performs MIP (Maximum Intensity Projection) and predicts nuclei from the resulting projection (faster, useful for single layers of cells)\n",
    "# 3D is more computationally expensive. Predicts 3D nuclear volumes, useful for multilayered structures\n",
    "segmentation_type = \"3D\"\n",
    "\n",
    "# Nuclear segmentation model type (\"Stardist\")\n",
    "# Choose your Stardist fine-tuned model (model_name) from stardist_models folder\n",
    "model_name = \"3D_seg_stardist_v1.8\"\n",
    "\n",
    "# TODO: Set remove_edge_labels to True if you want to discard labels touching the edge of the ROI\n",
    "remove_edge_labels = False\n",
    "\n",
    "# Iterate through the .czi and .nd2 files in the raw_data directory\n",
    "images = list_images(directory_path)\n",
    "\n",
    "images"
   ]
  },
  {
   "cell_type": "code",
   "execution_count": 53,
   "metadata": {},
   "outputs": [
    {
     "name": "stdout",
     "output_type": "stream",
     "text": [
      "The following regions of interest will be applied over the full image nuclei: ['CA', 'DG']\n"
     ]
    }
   ],
   "source": [
    "# List of subfolder names\n",
    "try:\n",
    "    roi_names = [folder.name for folder in input_roi_path.iterdir() if folder.is_dir()]\n",
    "    print(f\"The following regions of interest will be applied over the full image nuclei: {roi_names}\")\n",
    "except FileNotFoundError:\n",
    "    print(\"You have not defined any regions of interest. Please define them in '001_BP_Draw_ROIs.ipynb'\")"
   ]
  },
  {
   "cell_type": "code",
   "execution_count": null,
   "metadata": {},
   "outputs": [],
   "source": [
    "for image in tqdm(images):\n",
    "\n",
    "    try:\n",
    "        # Generate Path object and extract filename\n",
    "        file_path = Path(image)\n",
    "        filename = file_path.stem\n",
    "        # Read full_iamge nuclei_preds label image\n",
    "        nuclei_labels = tifffile.imread(directory_path / \"nuclei_preds\" / segmentation_type / model_name / \"full_image\" / f\"{filename}.tiff\")\n",
    "        print(f\"Found full_image nuclei labels for: {filename}\")\n",
    "\n",
    "    except FileNotFoundError:\n",
    "        print (\"First you need to generate the full_image nuclei predictions in '002_BP_Predict_nuclei_labels.ipynb'\")\n",
    "\n",
    "    for roi_name in roi_names:\n",
    "\n",
    "        if roi_name == \"full_image\":\n",
    "            continue  # Skip the \"full_image\" roi_name\n",
    "\n",
    "        # Check if the ROI prediction has already been generated\n",
    "        try:\n",
    "            tifffile.imread(directory_path / \"nuclei_preds\" / segmentation_type / model_name / roi_name / f\"{filename}.tiff\")\n",
    "            print(f\"\\nWARNING: Nuclei predictions already found for: {filename} ROI: {roi_name}\")\n",
    "            print(\"Make sure nuclei labels were generated using the same settings.\")\n",
    "            continue  # Skip to the next roi_name if the prediction exists\n",
    "        except FileNotFoundError:\n",
    "\n",
    "            # Construct path to read ROI\n",
    "            roi_path = directory_path / \"ROIs\" / roi_name / f\"{filename}.tiff\"\n",
    "\n",
    "            try:\n",
    "                # Read the .tiff files containing the user-defined ROIs\n",
    "                roi = tifffile.imread(roi_path)\n",
    "            except FileNotFoundError:\n",
    "                print(f\"Missing ROI '{roi_name}'  for: '{filename}'\")\n",
    "                continue # Skip to the next roi_name if the ROI is not defined\n",
    "\n",
    "            print(f\"Generating masked nuclei labels for: {filename} ROI: {roi_name}\")\n",
    "\n",
    "            # We will create a mask where roi is greater than or equal to 1\n",
    "            mask = (roi >= 1).astype(np.uint8)\n",
    "\n",
    "            # 3D segmentation logic, extend 2D mask across the entire stack volume\n",
    "            if segmentation_type == \"3D\":\n",
    "                # Extract the number of z-slices to extend the mask\n",
    "                slice_nr = nuclei_labels.shape[0]\n",
    "\n",
    "                # Extend the mask across the entire volume\n",
    "                mask = np.tile(mask, (slice_nr, 1, 1))\n",
    "\n",
    "                # Apply the mask to nuclei_labels, setting all other pixels to 0\n",
    "                masked_nuclei_labels = np.where(mask, nuclei_labels, 0)\n",
    "            else:\n",
    "                # Apply the mask to nuclei_labels, setting all other pixels to 0\n",
    "                masked_nuclei_labels = np.where(mask, nuclei_labels, 0)\n",
    "\n",
    "            # Save nuclei labels as .tiff files to reuse them later\n",
    "            # Create nuclei_predictions directory if it does not exist\n",
    "            try:\n",
    "                os.makedirs(directory_path / \"nuclei_preds\" / segmentation_type / model_name / roi_name)\n",
    "            except FileExistsError:\n",
    "                pass\n",
    "\n",
    "            # Construct path to store\n",
    "            nuclei_preds_path = directory_path / \"nuclei_preds\" / segmentation_type / model_name / roi_name / f\"{filename}.tiff\"\n",
    "\n",
    "            # Save nuclei labels as .tiff\n",
    "            tifffile.imwrite(nuclei_preds_path, masked_nuclei_labels)      "
   ]
  }
 ],
 "metadata": {
  "kernelspec": {
   "display_name": "brain_nuc_stardist",
   "language": "python",
   "name": "python3"
  },
  "language_info": {
   "codemirror_mode": {
    "name": "ipython",
    "version": 3
   },
   "file_extension": ".py",
   "mimetype": "text/x-python",
   "name": "python",
   "nbconvert_exporter": "python",
   "pygments_lexer": "ipython3",
   "version": "3.9.21"
  }
 },
 "nbformat": 4,
 "nbformat_minor": 2
}
