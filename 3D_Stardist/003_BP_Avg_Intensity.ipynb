{
 "cells": [
  {
   "cell_type": "markdown",
   "metadata": {},
   "source": [
    "<h2>3D stack - Batch processing - Marker+ based on average intensity</h2>\n",
    "\n",
    "The following notebook is able to process a 3D stack (.czi or .nd2 files) and using the parameters tested in <code>000_SP_Avg_Intensity</code> allows you to:\n",
    "\n",
    "1. Read previously defined ROIs, if not present, full image is analyzed.\n",
    "2. Read previously predicted nuclei labels, if not present, generates them.\n",
    "3. Extract numbers of cells positive for all marker based on signal average intensity within the nuclear or cytoplasmic compartments (using a user-defined min-max range).\n",
    "4. Extract and save per label per ROI per marker data in a .csv file (filename_per_label_avg_int_.csv).\n",
    "5. Extract and save number and % of positive cells in a .csv file (BP_marker_+_label_avg_int.csv)."
   ]
  },
  {
   "cell_type": "code",
   "execution_count": 1,
   "metadata": {},
   "outputs": [
    {
     "name": "stdout",
     "output_type": "stream",
     "text": [
      "Device name: /device:GPU:0\n",
      "Device type: GPU\n",
      "GPU model: device: 0, name: NVIDIA GeForce RTX 4090, pci bus id: 0000:01:00.0, compute capability: 8.9\n"
     ]
    }
   ],
   "source": [
    "from pathlib import Path\n",
    "import tifffile\n",
    "import napari\n",
    "import os\n",
    "from tqdm import tqdm\n",
    "import numpy as np\n",
    "import pandas as pd\n",
    "from skimage.measure import regionprops_table\n",
    "from stardist.models import StarDist3D\n",
    "from utils_stardist import get_gpu_details, list_images, read_image, maximum_intensity_projection, extract_nuclei_stack, simulate_cytoplasm_chunked_3d, segment_nuclei_3d\n",
    "\n",
    "get_gpu_details()"
   ]
  },
  {
   "cell_type": "markdown",
   "metadata": {},
   "source": [
    "<h3>Define the directory for your images (.nd2 or .czi files) and cell marker info</h3>"
   ]
  },
  {
   "cell_type": "code",
   "execution_count": 2,
   "metadata": {},
   "outputs": [
    {
     "data": {
      "text/plain": [
       "['..\\\\raw_data\\\\test_data\\\\HI 1  Contralateral Mouse 8  slide 6 Neun Red Calb Green KI67 Magenta 40x technical replica 1.czi',\n",
       " '..\\\\raw_data\\\\test_data\\\\HI 1  Contralateral Mouse 8  slide 6 Neun Red Calb Green KI67 Magenta 40x technical replica 2.czi',\n",
       " '..\\\\raw_data\\\\test_data\\\\HI 1  Contralateral Mouse 8  slide 7 Neun Red Calb Green KI67 Magenta 40x technical replica 1.czi',\n",
       " '..\\\\raw_data\\\\test_data\\\\HI 1  Contralateral Mouse 8 slide 7 Neun Red Calb Green KI67 Magenta 40x technical replica 2.czi',\n",
       " '..\\\\raw_data\\\\test_data\\\\HI 1  Ipsilateral Mouse 8  slide 6 Neun Red Calb Green KI67 Magenta 40x technical replica 1.czi',\n",
       " '..\\\\raw_data\\\\test_data\\\\HI 1  Ipsilateral Mouse 8  slide 6 Neun Red Calb Green KI67 Magenta 40x technical replica 2.czi',\n",
       " '..\\\\raw_data\\\\test_data\\\\HI 1 Ipsilateral Mouse 8 slide 7 Neun Red Calb Green KI67 Magenta 40x technical replica 1.czi',\n",
       " '..\\\\raw_data\\\\test_data\\\\HI 2  Ipsilateral Mouse 10 slide 10 Neun Red Calb Green KI67 Magenta 40x technical replica 2.czi',\n",
       " '..\\\\raw_data\\\\test_data\\\\HI 2 Contralateral Mouse 10 slide 10 Neun Red Calb Green KI67 Magenta 40x technical replica 1.czi',\n",
       " '..\\\\raw_data\\\\test_data\\\\HI 2 Contralateral Mouse 10 slide 10 Neun Red Calb Green KI67 Magenta 40x technical replica 2.czi',\n",
       " '..\\\\raw_data\\\\test_data\\\\HI 2 Ipsilateral Mouse 10 slide 10 Neun Red Calb Green KI67 Magenta 40x technical replica 1.czi',\n",
       " '..\\\\raw_data\\\\test_data\\\\HI 3 contralateral mouse 11 slide 10 Neun red Calb green KI67 magenta 40x 3x3 technical replicate 1.czi',\n",
       " '..\\\\raw_data\\\\test_data\\\\HI 3 contralateral mouse 11 slide 10 Neun red Calb green KI67 magenta 40x 3x3 technical replicate 2.czi',\n",
       " '..\\\\raw_data\\\\test_data\\\\HI 3 Ipsilateral  mouse 11 slide 10 Neun red Calb green KI67 magenta 40x 3x3 technical replicate 1.czi',\n",
       " '..\\\\raw_data\\\\test_data\\\\HI 3 Ipsilateral  mouse 11 slide 10 Neun red Calb green KI67 magenta 40x 3x3 technical replicate 2.czi',\n",
       " '..\\\\raw_data\\\\test_data\\\\Sham 1 contralateral Mouse 6 Slide 11  NeunRed Calb Green KI67 Magenta 40x 3x3 technical replica 1.czi',\n",
       " '..\\\\raw_data\\\\test_data\\\\Sham 1 Contralateral Mouse 6 Slide 11  NeunRed Calb Green KI67 Magenta 40x 3x3 technical replica 2.czi',\n",
       " '..\\\\raw_data\\\\test_data\\\\Sham 1 Ipsilateral Mouse 6 Slide 11  NeunRed Calb Green KI67 Magenta 40x 3x3 technical replica 2.czi',\n",
       " '..\\\\raw_data\\\\test_data\\\\Sham 1 Ipsilateral Mouse 6 Slide 11  NeunRed Calb Green KI67 Magenta 40x 4x4 technical replica 1.czi',\n",
       " '..\\\\raw_data\\\\test_data\\\\Sham 2 Contralateral Mouse 7 Slide 11  NeunRed Calb Green KI67 Magenta 40x 3x3 technical replica 1.czi',\n",
       " '..\\\\raw_data\\\\test_data\\\\Sham 2 Contralateral Mouse 7 Slide 11  NeunRed Calb Green KI67 Magenta 40x 3x3 technical replica 2.czi',\n",
       " '..\\\\raw_data\\\\test_data\\\\Sham 2 Ipsilateral Mouse 7 Slide 11  NeunRed Calb Green KI67 Magenta 40x 3x3 technical replica 1.czi',\n",
       " '..\\\\raw_data\\\\test_data\\\\Sham 2 Ipsilateral Mouse 7 Slide 11  NeunRed Calb Green KI67 Magenta 40x 3x3 technical replica 2.czi']"
      ]
     },
     "execution_count": 2,
     "metadata": {},
     "output_type": "execute_result"
    }
   ],
   "source": [
    "# Copy the path where your images are stored, you can use absolute or relative paths to point at other disk locations\n",
    "directory_path = Path(\"../raw_data/test_data\")\n",
    "\n",
    "# Define the channels you want to analyze using the following structure:\n",
    "# markers = [(channel_name, channel_nr, cellular_location),(..., ..., ...)]\n",
    "# Remember in Python one starts counting from 0, so your first channel will be 0\n",
    "# markers = [(\"ki67\", 0, \"nucleus\"), (\"neun\", 1, \"nucleus\"), (\"calbindin\", 2, \"cytoplasm\")]\n",
    "markers = [(\"ki67\", 0, \"nucleus\"), (\"neun\", 1, \"nucleus\"), (\"calbindin\", 2, \"cytoplasm\")]\n",
    "\n",
    "# Iterate through the .czi and .nd2 files in the raw_data directory\n",
    "images = list_images(directory_path)\n",
    "\n",
    "images"
   ]
  },
  {
   "cell_type": "markdown",
   "metadata": {},
   "source": [
    "<h3>Define you batch analysis parameters</h3>\n",
    "\n",
    "If you have generated nuclei predictions already, make sure to input the same <code>slicing factor</code> you used when generating nuclei predictions. \n",
    "\n",
    "If you have not generated nuclei predictions before, input <code>nuclei_channel</code>, <code>cellpose_nuclei_diameter</code> and <code>gaussian_sigma</code> values."
   ]
  },
  {
   "cell_type": "code",
   "execution_count": 3,
   "metadata": {},
   "outputs": [
    {
     "name": "stdout",
     "output_type": "stream",
     "text": [
      "Loading network weights from 'weights_best.h5'.\n",
      "Loading thresholds from 'thresholds.json'.\n",
      "Using default values: prob_thresh=0.583933, nms_thresh=0.3.\n"
     ]
    }
   ],
   "source": [
    "# Image size reduction to improve processing times (slicing, not lossless compression)\n",
    "slicing_factor = None # Use 2 or 4 for compression (None for lossless)\n",
    "\n",
    "# Define the nuclei and markers of interest channel order ('Remember in Python one starts counting from zero')\n",
    "nuclei_channel = 3\n",
    "\n",
    "n_tiles=(6,6,3)\n",
    "\n",
    "# Segmentation type (\"2D\" or \"3D\"). \n",
    "# 2D takes a z-stack as input, performs MIP (Maximum Intensity Projection) and predicts nuclei from the resulting projection (faster, useful for single layers of cells)\n",
    "# 3D is more computationally expensive. Predicts 3D nuclear volumes, useful for multilayered structures\n",
    "segmentation_type = \"3D\"\n",
    "\n",
    "# Nuclear segmentation model type (\"Stardist\")\n",
    "# Choose your Stardist fine-tuned model (model_name) from stardist_models folder\n",
    "model_name = \"MEC0.1\"\n",
    "\n",
    "# Model loading \n",
    "model = StarDist3D(None, name=model_name, basedir='stardist_models')"
   ]
  },
  {
   "cell_type": "markdown",
   "metadata": {},
   "source": [
    "Define in <code>min_max_per_marker</code> the <code>marker</code> you want to use to define your cell populations of interest, the <code>min_max</code> range of avg_int and the <code>population</code> name."
   ]
  },
  {
   "cell_type": "code",
   "execution_count": 4,
   "metadata": {},
   "outputs": [],
   "source": [
    " # Define the min_max average intensity parameters to select your populations of interest\n",
    "# You have the possibility to define populations for the same marker (i.e. neun high and neun low)\n",
    "# max_values are set to 255 since the test input images are 8-bit, higher bit depths can result in higher max avg_int values\n",
    "\n",
    "min_max_per_marker = [{\"marker\": \"ki67\", \"min_max\": (110,255), \"population\":\"ki67\"},\n",
    "                      {\"marker\": \"neun\", \"min_max\": (20,80), \"population\":\"neun_low\"},\n",
    "                      {\"marker\": \"neun\", \"min_max\": (80,255), \"population\":\"neun_high\"},\n",
    "                      {\"marker\": \"calbindin\", \"min_max\": (40,255), \"population\":\"calbindin\"},]"
   ]
  },
  {
   "cell_type": "markdown",
   "metadata": {},
   "source": [
    "<h3>Run Batch Analysis</h3>"
   ]
  },
  {
   "cell_type": "code",
   "execution_count": 5,
   "metadata": {},
   "outputs": [
    {
     "name": "stdout",
     "output_type": "stream",
     "text": [
      "The following regions of interest will be analyzed: ['full_image']\n"
     ]
    },
    {
     "name": "stderr",
     "output_type": "stream",
     "text": [
      "  0%|          | 0/23 [00:00<?, ?it/s]"
     ]
    },
    {
     "name": "stdout",
     "output_type": "stream",
     "text": [
      "\n",
      "\n",
      "Image analyzed: HI 1  Contralateral Mouse 8  slide 6 Neun Red Calb Green KI67 Magenta 40x technical replica 1\n",
      "Original Array shape: (4, 14, 3803, 2891)\n",
      "Compressed Array shape: (4, 14, 3803, 2891)\n",
      "\n",
      "Analyzing ROI: full_image\n",
      "Pre-computed nuclei labels found for HI 1  Contralateral Mouse 8  slide 6 Neun Red Calb Green KI67 Magenta 40x technical replica 1\n",
      "Analyzing channel: ki67\n",
      "Analyzing channel: neun\n",
      "Analyzing channel: calbindin\n",
      "Generating cytoplasm labels for: calbindin\n",
      "'results\\test_data\\3D\\MEC0.1' folder already exists.\n"
     ]
    },
    {
     "name": "stderr",
     "output_type": "stream",
     "text": [
      "  4%|▍         | 1/23 [00:40<14:48, 40.41s/it]"
     ]
    },
    {
     "name": "stdout",
     "output_type": "stream",
     "text": [
      "Output folder already exists: results\\test_data\\3D\\MEC0.1\n",
      "\n",
      "\n",
      "Image analyzed: HI 1  Contralateral Mouse 8  slide 6 Neun Red Calb Green KI67 Magenta 40x technical replica 2\n",
      "Original Array shape: (4, 13, 3802, 2882)\n",
      "Compressed Array shape: (4, 13, 3802, 2882)\n",
      "\n",
      "Analyzing ROI: full_image\n",
      "Pre-computed nuclei labels found for HI 1  Contralateral Mouse 8  slide 6 Neun Red Calb Green KI67 Magenta 40x technical replica 2\n",
      "Analyzing channel: ki67\n",
      "Analyzing channel: neun\n",
      "Analyzing channel: calbindin\n",
      "Generating cytoplasm labels for: calbindin\n",
      "'results\\test_data\\3D\\MEC0.1' folder already exists.\n"
     ]
    },
    {
     "name": "stderr",
     "output_type": "stream",
     "text": [
      "  9%|▊         | 2/23 [01:11<12:17, 35.14s/it]"
     ]
    },
    {
     "name": "stdout",
     "output_type": "stream",
     "text": [
      "Output folder already exists: results\\test_data\\3D\\MEC0.1\n",
      "\n",
      "\n",
      "Image analyzed: HI 1  Contralateral Mouse 8  slide 7 Neun Red Calb Green KI67 Magenta 40x technical replica 1\n",
      "Original Array shape: (4, 12, 3805, 2867)\n",
      "Compressed Array shape: (4, 12, 3805, 2867)\n",
      "\n",
      "Analyzing ROI: full_image\n",
      "Pre-computed nuclei labels found for HI 1  Contralateral Mouse 8  slide 7 Neun Red Calb Green KI67 Magenta 40x technical replica 1\n",
      "Analyzing channel: ki67\n",
      "Analyzing channel: neun\n",
      "Analyzing channel: calbindin\n",
      "Generating cytoplasm labels for: calbindin\n",
      "'results\\test_data\\3D\\MEC0.1' folder already exists.\n"
     ]
    },
    {
     "name": "stderr",
     "output_type": "stream",
     "text": [
      " 13%|█▎        | 3/23 [01:37<10:11, 30.59s/it]"
     ]
    },
    {
     "name": "stdout",
     "output_type": "stream",
     "text": [
      "Output folder already exists: results\\test_data\\3D\\MEC0.1\n",
      "\n",
      "\n",
      "Image analyzed: HI 1  Contralateral Mouse 8 slide 7 Neun Red Calb Green KI67 Magenta 40x technical replica 2\n",
      "Original Array shape: (4, 12, 3806, 2889)\n",
      "Compressed Array shape: (4, 12, 3806, 2889)\n",
      "\n",
      "Analyzing ROI: full_image\n",
      "Pre-computed nuclei labels found for HI 1  Contralateral Mouse 8 slide 7 Neun Red Calb Green KI67 Magenta 40x technical replica 2\n",
      "Analyzing channel: ki67\n",
      "Analyzing channel: neun\n",
      "Analyzing channel: calbindin\n",
      "Generating cytoplasm labels for: calbindin\n",
      "'results\\test_data\\3D\\MEC0.1' folder already exists.\n"
     ]
    },
    {
     "name": "stderr",
     "output_type": "stream",
     "text": [
      " 17%|█▋        | 4/23 [02:05<09:28, 29.90s/it]"
     ]
    },
    {
     "name": "stdout",
     "output_type": "stream",
     "text": [
      "Output folder already exists: results\\test_data\\3D\\MEC0.1\n",
      "\n",
      "\n",
      "Image analyzed: HI 1  Ipsilateral Mouse 8  slide 6 Neun Red Calb Green KI67 Magenta 40x technical replica 1\n",
      "Original Array shape: (4, 12, 3798, 2877)\n",
      "Compressed Array shape: (4, 12, 3798, 2877)\n",
      "\n",
      "Analyzing ROI: full_image\n",
      "Pre-computed nuclei labels found for HI 1  Ipsilateral Mouse 8  slide 6 Neun Red Calb Green KI67 Magenta 40x technical replica 1\n",
      "Analyzing channel: ki67\n",
      "Analyzing channel: neun\n",
      "Analyzing channel: calbindin\n",
      "Generating cytoplasm labels for: calbindin\n",
      "'results\\test_data\\3D\\MEC0.1' folder already exists.\n"
     ]
    },
    {
     "name": "stderr",
     "output_type": "stream",
     "text": [
      " 22%|██▏       | 5/23 [02:42<09:43, 32.43s/it]"
     ]
    },
    {
     "name": "stdout",
     "output_type": "stream",
     "text": [
      "Output folder already exists: results\\test_data\\3D\\MEC0.1\n",
      "\n",
      "\n",
      "Image analyzed: HI 1  Ipsilateral Mouse 8  slide 6 Neun Red Calb Green KI67 Magenta 40x technical replica 2\n",
      "Original Array shape: (4, 14, 3802, 2876)\n",
      "Compressed Array shape: (4, 14, 3802, 2876)\n",
      "\n",
      "Analyzing ROI: full_image\n",
      "Pre-computed nuclei labels found for HI 1  Ipsilateral Mouse 8  slide 6 Neun Red Calb Green KI67 Magenta 40x technical replica 2\n",
      "Analyzing channel: ki67\n",
      "Analyzing channel: neun\n",
      "Analyzing channel: calbindin\n",
      "Generating cytoplasm labels for: calbindin\n",
      "'results\\test_data\\3D\\MEC0.1' folder already exists.\n"
     ]
    },
    {
     "name": "stderr",
     "output_type": "stream",
     "text": [
      " 26%|██▌       | 6/23 [03:23<09:56, 35.08s/it]"
     ]
    },
    {
     "name": "stdout",
     "output_type": "stream",
     "text": [
      "Output folder already exists: results\\test_data\\3D\\MEC0.1\n",
      "\n",
      "\n",
      "Image analyzed: HI 1 Ipsilateral Mouse 8 slide 7 Neun Red Calb Green KI67 Magenta 40x technical replica 1\n",
      "Original Array shape: (4, 12, 2874, 1950)\n",
      "Compressed Array shape: (4, 12, 2874, 1950)\n",
      "\n",
      "Analyzing ROI: full_image\n",
      "Pre-computed nuclei labels found for HI 1 Ipsilateral Mouse 8 slide 7 Neun Red Calb Green KI67 Magenta 40x technical replica 1\n",
      "Analyzing channel: ki67\n",
      "Analyzing channel: neun\n",
      "Analyzing channel: calbindin\n",
      "Generating cytoplasm labels for: calbindin\n",
      "'results\\test_data\\3D\\MEC0.1' folder already exists.\n"
     ]
    },
    {
     "name": "stderr",
     "output_type": "stream",
     "text": [
      " 30%|███       | 7/23 [03:36<07:27, 27.97s/it]"
     ]
    },
    {
     "name": "stdout",
     "output_type": "stream",
     "text": [
      "Output folder already exists: results\\test_data\\3D\\MEC0.1\n",
      "\n",
      "\n",
      "Image analyzed: HI 2  Ipsilateral Mouse 10 slide 10 Neun Red Calb Green KI67 Magenta 40x technical replica 2\n",
      "Original Array shape: (4, 15, 2880, 1959)\n",
      "Compressed Array shape: (4, 15, 2880, 1959)\n",
      "\n",
      "Analyzing ROI: full_image\n",
      "Pre-computed nuclei labels found for HI 2  Ipsilateral Mouse 10 slide 10 Neun Red Calb Green KI67 Magenta 40x technical replica 2\n",
      "Analyzing channel: ki67\n",
      "Analyzing channel: neun\n",
      "Analyzing channel: calbindin\n",
      "Generating cytoplasm labels for: calbindin\n",
      "'results\\test_data\\3D\\MEC0.1' folder already exists.\n"
     ]
    },
    {
     "name": "stderr",
     "output_type": "stream",
     "text": [
      " 35%|███▍      | 8/23 [03:52<06:03, 24.23s/it]"
     ]
    },
    {
     "name": "stdout",
     "output_type": "stream",
     "text": [
      "Output folder already exists: results\\test_data\\3D\\MEC0.1\n",
      "\n",
      "\n",
      "Image analyzed: HI 2 Contralateral Mouse 10 slide 10 Neun Red Calb Green KI67 Magenta 40x technical replica 1\n",
      "Original Array shape: (4, 14, 3799, 2874)\n",
      "Compressed Array shape: (4, 14, 3799, 2874)\n",
      "\n",
      "Analyzing ROI: full_image\n",
      "Pre-computed nuclei labels found for HI 2 Contralateral Mouse 10 slide 10 Neun Red Calb Green KI67 Magenta 40x technical replica 1\n",
      "Analyzing channel: ki67\n",
      "Analyzing channel: neun\n",
      "Analyzing channel: calbindin\n",
      "Generating cytoplasm labels for: calbindin\n",
      "'results\\test_data\\3D\\MEC0.1' folder already exists.\n"
     ]
    },
    {
     "name": "stderr",
     "output_type": "stream",
     "text": [
      " 39%|███▉      | 9/23 [04:24<06:11, 26.51s/it]"
     ]
    },
    {
     "name": "stdout",
     "output_type": "stream",
     "text": [
      "Output folder already exists: results\\test_data\\3D\\MEC0.1\n",
      "\n",
      "\n",
      "Image analyzed: HI 2 Contralateral Mouse 10 slide 10 Neun Red Calb Green KI67 Magenta 40x technical replica 2\n",
      "Original Array shape: (4, 14, 3813, 2891)\n",
      "Compressed Array shape: (4, 14, 3813, 2891)\n",
      "\n",
      "Analyzing ROI: full_image\n",
      "Pre-computed nuclei labels found for HI 2 Contralateral Mouse 10 slide 10 Neun Red Calb Green KI67 Magenta 40x technical replica 2\n",
      "Analyzing channel: ki67\n",
      "Analyzing channel: neun\n",
      "Analyzing channel: calbindin\n",
      "Generating cytoplasm labels for: calbindin\n",
      "'results\\test_data\\3D\\MEC0.1' folder already exists.\n"
     ]
    },
    {
     "name": "stderr",
     "output_type": "stream",
     "text": [
      " 43%|████▎     | 10/23 [05:01<06:26, 29.73s/it]"
     ]
    },
    {
     "name": "stdout",
     "output_type": "stream",
     "text": [
      "Output folder already exists: results\\test_data\\3D\\MEC0.1\n",
      "\n",
      "\n",
      "Image analyzed: HI 2 Ipsilateral Mouse 10 slide 10 Neun Red Calb Green KI67 Magenta 40x technical replica 1\n",
      "Original Array shape: (4, 13, 2878, 2879)\n",
      "Compressed Array shape: (4, 13, 2878, 2879)\n",
      "\n",
      "Analyzing ROI: full_image\n",
      "Pre-computed nuclei labels found for HI 2 Ipsilateral Mouse 10 slide 10 Neun Red Calb Green KI67 Magenta 40x technical replica 1\n",
      "Analyzing channel: ki67\n",
      "Analyzing channel: neun\n",
      "Analyzing channel: calbindin\n",
      "Generating cytoplasm labels for: calbindin\n",
      "'results\\test_data\\3D\\MEC0.1' folder already exists.\n"
     ]
    },
    {
     "name": "stderr",
     "output_type": "stream",
     "text": [
      " 48%|████▊     | 11/23 [05:19<05:15, 26.31s/it]"
     ]
    },
    {
     "name": "stdout",
     "output_type": "stream",
     "text": [
      "Output folder already exists: results\\test_data\\3D\\MEC0.1\n",
      "\n",
      "\n",
      "Image analyzed: HI 3 contralateral mouse 11 slide 10 Neun red Calb green KI67 magenta 40x 3x3 technical replicate 1\n",
      "Original Array shape: (4, 13, 2884, 2879)\n",
      "Compressed Array shape: (4, 13, 2884, 2879)\n",
      "\n",
      "Analyzing ROI: full_image\n",
      "Pre-computed nuclei labels found for HI 3 contralateral mouse 11 slide 10 Neun red Calb green KI67 magenta 40x 3x3 technical replicate 1\n",
      "Analyzing channel: ki67\n",
      "Analyzing channel: neun\n",
      "Analyzing channel: calbindin\n",
      "Generating cytoplasm labels for: calbindin\n",
      "'results\\test_data\\3D\\MEC0.1' folder already exists.\n"
     ]
    },
    {
     "name": "stderr",
     "output_type": "stream",
     "text": [
      " 52%|█████▏    | 12/23 [05:43<04:42, 25.69s/it]"
     ]
    },
    {
     "name": "stdout",
     "output_type": "stream",
     "text": [
      "Output folder already exists: results\\test_data\\3D\\MEC0.1\n",
      "\n",
      "\n",
      "Image analyzed: HI 3 contralateral mouse 11 slide 10 Neun red Calb green KI67 magenta 40x 3x3 technical replicate 2\n",
      "Original Array shape: (4, 11, 2881, 2882)\n",
      "Compressed Array shape: (4, 11, 2881, 2882)\n",
      "\n",
      "Analyzing ROI: full_image\n",
      "Pre-computed nuclei labels found for HI 3 contralateral mouse 11 slide 10 Neun red Calb green KI67 magenta 40x 3x3 technical replicate 2\n",
      "Analyzing channel: ki67\n",
      "Analyzing channel: neun\n",
      "Analyzing channel: calbindin\n",
      "Generating cytoplasm labels for: calbindin\n",
      "'results\\test_data\\3D\\MEC0.1' folder already exists.\n"
     ]
    },
    {
     "name": "stderr",
     "output_type": "stream",
     "text": [
      " 57%|█████▋    | 13/23 [06:02<03:54, 23.45s/it]"
     ]
    },
    {
     "name": "stdout",
     "output_type": "stream",
     "text": [
      "Output folder already exists: results\\test_data\\3D\\MEC0.1\n",
      "\n",
      "\n",
      "Image analyzed: HI 3 Ipsilateral  mouse 11 slide 10 Neun red Calb green KI67 magenta 40x 3x3 technical replicate 1\n",
      "Original Array shape: (4, 14, 2880, 2880)\n",
      "Compressed Array shape: (4, 14, 2880, 2880)\n",
      "\n",
      "Analyzing ROI: full_image\n",
      "Pre-computed nuclei labels found for HI 3 Ipsilateral  mouse 11 slide 10 Neun red Calb green KI67 magenta 40x 3x3 technical replicate 1\n",
      "Analyzing channel: ki67\n",
      "Analyzing channel: neun\n",
      "Analyzing channel: calbindin\n",
      "Generating cytoplasm labels for: calbindin\n",
      "'results\\test_data\\3D\\MEC0.1' folder already exists.\n"
     ]
    },
    {
     "name": "stderr",
     "output_type": "stream",
     "text": [
      " 61%|██████    | 14/23 [06:32<03:50, 25.61s/it]"
     ]
    },
    {
     "name": "stdout",
     "output_type": "stream",
     "text": [
      "Output folder already exists: results\\test_data\\3D\\MEC0.1\n",
      "\n",
      "\n",
      "Image analyzed: HI 3 Ipsilateral  mouse 11 slide 10 Neun red Calb green KI67 magenta 40x 3x3 technical replicate 2\n",
      "Original Array shape: (4, 15, 2880, 2875)\n",
      "Compressed Array shape: (4, 15, 2880, 2875)\n",
      "\n",
      "Analyzing ROI: full_image\n",
      "Pre-computed nuclei labels found for HI 3 Ipsilateral  mouse 11 slide 10 Neun red Calb green KI67 magenta 40x 3x3 technical replicate 2\n",
      "Analyzing channel: ki67\n",
      "Analyzing channel: neun\n",
      "Analyzing channel: calbindin\n",
      "Generating cytoplasm labels for: calbindin\n",
      "'results\\test_data\\3D\\MEC0.1' folder already exists.\n"
     ]
    },
    {
     "name": "stderr",
     "output_type": "stream",
     "text": [
      " 65%|██████▌   | 15/23 [06:58<03:25, 25.64s/it]"
     ]
    },
    {
     "name": "stdout",
     "output_type": "stream",
     "text": [
      "Output folder already exists: results\\test_data\\3D\\MEC0.1\n",
      "\n",
      "\n",
      "Image analyzed: Sham 1 contralateral Mouse 6 Slide 11  NeunRed Calb Green KI67 Magenta 40x 3x3 technical replica 1\n",
      "Original Array shape: (4, 16, 2872, 2884)\n",
      "Compressed Array shape: (4, 16, 2872, 2884)\n",
      "\n",
      "Analyzing ROI: full_image\n",
      "Pre-computed nuclei labels found for Sham 1 contralateral Mouse 6 Slide 11  NeunRed Calb Green KI67 Magenta 40x 3x3 technical replica 1\n",
      "Analyzing channel: ki67\n",
      "Analyzing channel: neun\n",
      "Analyzing channel: calbindin\n",
      "Generating cytoplasm labels for: calbindin\n",
      "'results\\test_data\\3D\\MEC0.1' folder already exists.\n"
     ]
    },
    {
     "name": "stderr",
     "output_type": "stream",
     "text": [
      " 70%|██████▉   | 16/23 [07:28<03:09, 27.00s/it]"
     ]
    },
    {
     "name": "stdout",
     "output_type": "stream",
     "text": [
      "Output folder already exists: results\\test_data\\3D\\MEC0.1\n",
      "\n",
      "\n",
      "Image analyzed: Sham 1 Contralateral Mouse 6 Slide 11  NeunRed Calb Green KI67 Magenta 40x 3x3 technical replica 2\n",
      "Original Array shape: (4, 14, 2878, 2875)\n",
      "Compressed Array shape: (4, 14, 2878, 2875)\n",
      "\n",
      "Analyzing ROI: full_image\n",
      "Pre-computed nuclei labels found for Sham 1 Contralateral Mouse 6 Slide 11  NeunRed Calb Green KI67 Magenta 40x 3x3 technical replica 2\n",
      "Analyzing channel: ki67\n",
      "Analyzing channel: neun\n",
      "Analyzing channel: calbindin\n",
      "Generating cytoplasm labels for: calbindin\n",
      "'results\\test_data\\3D\\MEC0.1' folder already exists.\n"
     ]
    },
    {
     "name": "stderr",
     "output_type": "stream",
     "text": [
      " 74%|███████▍  | 17/23 [07:52<02:36, 26.15s/it]"
     ]
    },
    {
     "name": "stdout",
     "output_type": "stream",
     "text": [
      "Output folder already exists: results\\test_data\\3D\\MEC0.1\n",
      "\n",
      "\n",
      "Image analyzed: Sham 1 Ipsilateral Mouse 6 Slide 11  NeunRed Calb Green KI67 Magenta 40x 3x3 technical replica 2\n",
      "Original Array shape: (4, 15, 2882, 2886)\n",
      "Compressed Array shape: (4, 15, 2882, 2886)\n",
      "\n",
      "Analyzing ROI: full_image\n",
      "Pre-computed nuclei labels found for Sham 1 Ipsilateral Mouse 6 Slide 11  NeunRed Calb Green KI67 Magenta 40x 3x3 technical replica 2\n",
      "Analyzing channel: ki67\n",
      "Analyzing channel: neun\n",
      "Analyzing channel: calbindin\n",
      "Generating cytoplasm labels for: calbindin\n",
      "'results\\test_data\\3D\\MEC0.1' folder already exists.\n"
     ]
    },
    {
     "name": "stderr",
     "output_type": "stream",
     "text": [
      " 78%|███████▊  | 18/23 [08:20<02:13, 26.61s/it]"
     ]
    },
    {
     "name": "stdout",
     "output_type": "stream",
     "text": [
      "Output folder already exists: results\\test_data\\3D\\MEC0.1\n",
      "\n",
      "\n",
      "Image analyzed: Sham 1 Ipsilateral Mouse 6 Slide 11  NeunRed Calb Green KI67 Magenta 40x 4x4 technical replica 1\n",
      "Original Array shape: (4, 17, 3807, 3801)\n",
      "Compressed Array shape: (4, 17, 3807, 3801)\n",
      "\n",
      "Analyzing ROI: full_image\n",
      "Pre-computed nuclei labels found for Sham 1 Ipsilateral Mouse 6 Slide 11  NeunRed Calb Green KI67 Magenta 40x 4x4 technical replica 1\n",
      "Analyzing channel: ki67\n",
      "Analyzing channel: neun\n",
      "Analyzing channel: calbindin\n",
      "Generating cytoplasm labels for: calbindin\n",
      "'results\\test_data\\3D\\MEC0.1' folder already exists.\n"
     ]
    },
    {
     "name": "stderr",
     "output_type": "stream",
     "text": [
      " 83%|████████▎ | 19/23 [09:25<02:32, 38.19s/it]"
     ]
    },
    {
     "name": "stdout",
     "output_type": "stream",
     "text": [
      "Output folder already exists: results\\test_data\\3D\\MEC0.1\n",
      "\n",
      "\n",
      "Image analyzed: Sham 2 Contralateral Mouse 7 Slide 11  NeunRed Calb Green KI67 Magenta 40x 3x3 technical replica 1\n",
      "Original Array shape: (4, 15, 2884, 3805)\n",
      "Compressed Array shape: (4, 15, 2884, 3805)\n",
      "\n",
      "Analyzing ROI: full_image\n",
      "Pre-computed nuclei labels found for Sham 2 Contralateral Mouse 7 Slide 11  NeunRed Calb Green KI67 Magenta 40x 3x3 technical replica 1\n",
      "Analyzing channel: ki67\n",
      "Analyzing channel: neun\n",
      "Analyzing channel: calbindin\n",
      "Generating cytoplasm labels for: calbindin\n",
      "'results\\test_data\\3D\\MEC0.1' folder already exists.\n"
     ]
    },
    {
     "name": "stderr",
     "output_type": "stream",
     "text": [
      " 87%|████████▋ | 20/23 [09:57<01:49, 36.35s/it]"
     ]
    },
    {
     "name": "stdout",
     "output_type": "stream",
     "text": [
      "Output folder already exists: results\\test_data\\3D\\MEC0.1\n",
      "\n",
      "\n",
      "Image analyzed: Sham 2 Contralateral Mouse 7 Slide 11  NeunRed Calb Green KI67 Magenta 40x 3x3 technical replica 2\n",
      "Original Array shape: (4, 14, 2877, 3808)\n",
      "Compressed Array shape: (4, 14, 2877, 3808)\n",
      "\n",
      "Analyzing ROI: full_image\n",
      "Pre-computed nuclei labels found for Sham 2 Contralateral Mouse 7 Slide 11  NeunRed Calb Green KI67 Magenta 40x 3x3 technical replica 2\n",
      "Analyzing channel: ki67\n",
      "Analyzing channel: neun\n",
      "Analyzing channel: calbindin\n",
      "Generating cytoplasm labels for: calbindin\n",
      "'results\\test_data\\3D\\MEC0.1' folder already exists.\n"
     ]
    },
    {
     "name": "stderr",
     "output_type": "stream",
     "text": [
      " 91%|█████████▏| 21/23 [10:28<01:09, 34.78s/it]"
     ]
    },
    {
     "name": "stdout",
     "output_type": "stream",
     "text": [
      "Output folder already exists: results\\test_data\\3D\\MEC0.1\n",
      "\n",
      "\n",
      "Image analyzed: Sham 2 Ipsilateral Mouse 7 Slide 11  NeunRed Calb Green KI67 Magenta 40x 3x3 technical replica 1\n",
      "Original Array shape: (4, 17, 2879, 3813)\n",
      "Compressed Array shape: (4, 17, 2879, 3813)\n",
      "\n",
      "Analyzing ROI: full_image\n",
      "Pre-computed nuclei labels found for Sham 2 Ipsilateral Mouse 7 Slide 11  NeunRed Calb Green KI67 Magenta 40x 3x3 technical replica 1\n",
      "Analyzing channel: ki67\n",
      "Analyzing channel: neun\n",
      "Analyzing channel: calbindin\n",
      "Generating cytoplasm labels for: calbindin\n",
      "'results\\test_data\\3D\\MEC0.1' folder already exists.\n"
     ]
    },
    {
     "name": "stderr",
     "output_type": "stream",
     "text": [
      " 96%|█████████▌| 22/23 [11:08<00:36, 36.15s/it]"
     ]
    },
    {
     "name": "stdout",
     "output_type": "stream",
     "text": [
      "Output folder already exists: results\\test_data\\3D\\MEC0.1\n",
      "\n",
      "\n",
      "Image analyzed: Sham 2 Ipsilateral Mouse 7 Slide 11  NeunRed Calb Green KI67 Magenta 40x 3x3 technical replica 2\n",
      "Original Array shape: (4, 15, 2883, 2889)\n",
      "Compressed Array shape: (4, 15, 2883, 2889)\n",
      "\n",
      "Analyzing ROI: full_image\n",
      "Pre-computed nuclei labels found for Sham 2 Ipsilateral Mouse 7 Slide 11  NeunRed Calb Green KI67 Magenta 40x 3x3 technical replica 2\n",
      "Analyzing channel: ki67\n",
      "Analyzing channel: neun\n",
      "Analyzing channel: calbindin\n",
      "Generating cytoplasm labels for: calbindin\n",
      "'results\\test_data\\3D\\MEC0.1' folder already exists.\n"
     ]
    },
    {
     "name": "stderr",
     "output_type": "stream",
     "text": [
      "100%|██████████| 23/23 [11:33<00:00, 30.16s/it]"
     ]
    },
    {
     "name": "stdout",
     "output_type": "stream",
     "text": [
      "Output folder already exists: results\\test_data\\3D\\MEC0.1\n"
     ]
    },
    {
     "name": "stderr",
     "output_type": "stream",
     "text": [
      "\n"
     ]
    },
    {
     "data": {
      "text/html": [
       "<div>\n",
       "<style scoped>\n",
       "    .dataframe tbody tr th:only-of-type {\n",
       "        vertical-align: middle;\n",
       "    }\n",
       "\n",
       "    .dataframe tbody tr th {\n",
       "        vertical-align: top;\n",
       "    }\n",
       "\n",
       "    .dataframe thead th {\n",
       "        text-align: right;\n",
       "    }\n",
       "</style>\n",
       "<table border=\"1\" class=\"dataframe\">\n",
       "  <thead>\n",
       "    <tr style=\"text-align: right;\">\n",
       "      <th></th>\n",
       "      <th>filename</th>\n",
       "      <th>ROI</th>\n",
       "      <th>based_on</th>\n",
       "      <th>marker</th>\n",
       "      <th>population</th>\n",
       "      <th>marker_ch</th>\n",
       "      <th>location</th>\n",
       "      <th>min_max_avg_int</th>\n",
       "      <th>total_nuclei</th>\n",
       "      <th>marker+_nuclei</th>\n",
       "      <th>%_marker+_cells</th>\n",
       "      <th>slicing_factor</th>\n",
       "    </tr>\n",
       "  </thead>\n",
       "  <tbody>\n",
       "    <tr>\n",
       "      <th>0</th>\n",
       "      <td>HI 1  Contralateral Mouse 8  slide 6 Neun Red ...</td>\n",
       "      <td>full_image</td>\n",
       "      <td>nucleus_ki67_avg_int</td>\n",
       "      <td>ki67</td>\n",
       "      <td>ki67</td>\n",
       "      <td>0</td>\n",
       "      <td>nucleus</td>\n",
       "      <td>(110, 255)</td>\n",
       "      <td>6152</td>\n",
       "      <td>455</td>\n",
       "      <td>7.395969</td>\n",
       "      <td>NaN</td>\n",
       "    </tr>\n",
       "    <tr>\n",
       "      <th>1</th>\n",
       "      <td>HI 1  Contralateral Mouse 8  slide 6 Neun Red ...</td>\n",
       "      <td>full_image</td>\n",
       "      <td>nucleus_neun_avg_int</td>\n",
       "      <td>neun</td>\n",
       "      <td>neun_low</td>\n",
       "      <td>1</td>\n",
       "      <td>nucleus</td>\n",
       "      <td>(20, 80)</td>\n",
       "      <td>6152</td>\n",
       "      <td>2030</td>\n",
       "      <td>32.997399</td>\n",
       "      <td>NaN</td>\n",
       "    </tr>\n",
       "    <tr>\n",
       "      <th>2</th>\n",
       "      <td>HI 1  Contralateral Mouse 8  slide 6 Neun Red ...</td>\n",
       "      <td>full_image</td>\n",
       "      <td>nucleus_neun_avg_int</td>\n",
       "      <td>neun</td>\n",
       "      <td>neun_high</td>\n",
       "      <td>1</td>\n",
       "      <td>nucleus</td>\n",
       "      <td>(80, 255)</td>\n",
       "      <td>6152</td>\n",
       "      <td>1286</td>\n",
       "      <td>20.903771</td>\n",
       "      <td>NaN</td>\n",
       "    </tr>\n",
       "    <tr>\n",
       "      <th>3</th>\n",
       "      <td>HI 1  Contralateral Mouse 8  slide 6 Neun Red ...</td>\n",
       "      <td>full_image</td>\n",
       "      <td>cytoplasm_calbindin_avg_int</td>\n",
       "      <td>calbindin</td>\n",
       "      <td>calbindin</td>\n",
       "      <td>2</td>\n",
       "      <td>cytoplasm</td>\n",
       "      <td>(25, 255)</td>\n",
       "      <td>6152</td>\n",
       "      <td>260</td>\n",
       "      <td>4.226268</td>\n",
       "      <td>NaN</td>\n",
       "    </tr>\n",
       "    <tr>\n",
       "      <th>4</th>\n",
       "      <td>HI 1  Contralateral Mouse 8  slide 6 Neun Red ...</td>\n",
       "      <td>full_image</td>\n",
       "      <td>nucleus_ki67_avg_int</td>\n",
       "      <td>ki67</td>\n",
       "      <td>ki67</td>\n",
       "      <td>0</td>\n",
       "      <td>nucleus</td>\n",
       "      <td>(110, 255)</td>\n",
       "      <td>6205</td>\n",
       "      <td>731</td>\n",
       "      <td>11.780822</td>\n",
       "      <td>NaN</td>\n",
       "    </tr>\n",
       "    <tr>\n",
       "      <th>...</th>\n",
       "      <td>...</td>\n",
       "      <td>...</td>\n",
       "      <td>...</td>\n",
       "      <td>...</td>\n",
       "      <td>...</td>\n",
       "      <td>...</td>\n",
       "      <td>...</td>\n",
       "      <td>...</td>\n",
       "      <td>...</td>\n",
       "      <td>...</td>\n",
       "      <td>...</td>\n",
       "      <td>...</td>\n",
       "    </tr>\n",
       "    <tr>\n",
       "      <th>87</th>\n",
       "      <td>Sham 2 Ipsilateral Mouse 7 Slide 11  NeunRed C...</td>\n",
       "      <td>full_image</td>\n",
       "      <td>cytoplasm_calbindin_avg_int</td>\n",
       "      <td>calbindin</td>\n",
       "      <td>calbindin</td>\n",
       "      <td>2</td>\n",
       "      <td>cytoplasm</td>\n",
       "      <td>(25, 255)</td>\n",
       "      <td>7647</td>\n",
       "      <td>5373</td>\n",
       "      <td>70.262848</td>\n",
       "      <td>NaN</td>\n",
       "    </tr>\n",
       "    <tr>\n",
       "      <th>88</th>\n",
       "      <td>Sham 2 Ipsilateral Mouse 7 Slide 11  NeunRed C...</td>\n",
       "      <td>full_image</td>\n",
       "      <td>nucleus_ki67_avg_int</td>\n",
       "      <td>ki67</td>\n",
       "      <td>ki67</td>\n",
       "      <td>0</td>\n",
       "      <td>nucleus</td>\n",
       "      <td>(110, 255)</td>\n",
       "      <td>5328</td>\n",
       "      <td>79</td>\n",
       "      <td>1.482733</td>\n",
       "      <td>NaN</td>\n",
       "    </tr>\n",
       "    <tr>\n",
       "      <th>89</th>\n",
       "      <td>Sham 2 Ipsilateral Mouse 7 Slide 11  NeunRed C...</td>\n",
       "      <td>full_image</td>\n",
       "      <td>nucleus_neun_avg_int</td>\n",
       "      <td>neun</td>\n",
       "      <td>neun_low</td>\n",
       "      <td>1</td>\n",
       "      <td>nucleus</td>\n",
       "      <td>(20, 80)</td>\n",
       "      <td>5328</td>\n",
       "      <td>1476</td>\n",
       "      <td>27.702703</td>\n",
       "      <td>NaN</td>\n",
       "    </tr>\n",
       "    <tr>\n",
       "      <th>90</th>\n",
       "      <td>Sham 2 Ipsilateral Mouse 7 Slide 11  NeunRed C...</td>\n",
       "      <td>full_image</td>\n",
       "      <td>nucleus_neun_avg_int</td>\n",
       "      <td>neun</td>\n",
       "      <td>neun_high</td>\n",
       "      <td>1</td>\n",
       "      <td>nucleus</td>\n",
       "      <td>(80, 255)</td>\n",
       "      <td>5328</td>\n",
       "      <td>1678</td>\n",
       "      <td>31.493994</td>\n",
       "      <td>NaN</td>\n",
       "    </tr>\n",
       "    <tr>\n",
       "      <th>91</th>\n",
       "      <td>Sham 2 Ipsilateral Mouse 7 Slide 11  NeunRed C...</td>\n",
       "      <td>full_image</td>\n",
       "      <td>cytoplasm_calbindin_avg_int</td>\n",
       "      <td>calbindin</td>\n",
       "      <td>calbindin</td>\n",
       "      <td>2</td>\n",
       "      <td>cytoplasm</td>\n",
       "      <td>(25, 255)</td>\n",
       "      <td>5328</td>\n",
       "      <td>3353</td>\n",
       "      <td>62.931682</td>\n",
       "      <td>NaN</td>\n",
       "    </tr>\n",
       "  </tbody>\n",
       "</table>\n",
       "<p>92 rows × 12 columns</p>\n",
       "</div>"
      ],
      "text/plain": [
       "                                             filename         ROI  \\\n",
       "0   HI 1  Contralateral Mouse 8  slide 6 Neun Red ...  full_image   \n",
       "1   HI 1  Contralateral Mouse 8  slide 6 Neun Red ...  full_image   \n",
       "2   HI 1  Contralateral Mouse 8  slide 6 Neun Red ...  full_image   \n",
       "3   HI 1  Contralateral Mouse 8  slide 6 Neun Red ...  full_image   \n",
       "4   HI 1  Contralateral Mouse 8  slide 6 Neun Red ...  full_image   \n",
       "..                                                ...         ...   \n",
       "87  Sham 2 Ipsilateral Mouse 7 Slide 11  NeunRed C...  full_image   \n",
       "88  Sham 2 Ipsilateral Mouse 7 Slide 11  NeunRed C...  full_image   \n",
       "89  Sham 2 Ipsilateral Mouse 7 Slide 11  NeunRed C...  full_image   \n",
       "90  Sham 2 Ipsilateral Mouse 7 Slide 11  NeunRed C...  full_image   \n",
       "91  Sham 2 Ipsilateral Mouse 7 Slide 11  NeunRed C...  full_image   \n",
       "\n",
       "                       based_on     marker population  marker_ch   location  \\\n",
       "0          nucleus_ki67_avg_int       ki67       ki67          0    nucleus   \n",
       "1          nucleus_neun_avg_int       neun   neun_low          1    nucleus   \n",
       "2          nucleus_neun_avg_int       neun  neun_high          1    nucleus   \n",
       "3   cytoplasm_calbindin_avg_int  calbindin  calbindin          2  cytoplasm   \n",
       "4          nucleus_ki67_avg_int       ki67       ki67          0    nucleus   \n",
       "..                          ...        ...        ...        ...        ...   \n",
       "87  cytoplasm_calbindin_avg_int  calbindin  calbindin          2  cytoplasm   \n",
       "88         nucleus_ki67_avg_int       ki67       ki67          0    nucleus   \n",
       "89         nucleus_neun_avg_int       neun   neun_low          1    nucleus   \n",
       "90         nucleus_neun_avg_int       neun  neun_high          1    nucleus   \n",
       "91  cytoplasm_calbindin_avg_int  calbindin  calbindin          2  cytoplasm   \n",
       "\n",
       "   min_max_avg_int  total_nuclei  marker+_nuclei  %_marker+_cells  \\\n",
       "0       (110, 255)          6152             455         7.395969   \n",
       "1         (20, 80)          6152            2030        32.997399   \n",
       "2        (80, 255)          6152            1286        20.903771   \n",
       "3        (25, 255)          6152             260         4.226268   \n",
       "4       (110, 255)          6205             731        11.780822   \n",
       "..             ...           ...             ...              ...   \n",
       "87       (25, 255)          7647            5373        70.262848   \n",
       "88      (110, 255)          5328              79         1.482733   \n",
       "89        (20, 80)          5328            1476        27.702703   \n",
       "90       (80, 255)          5328            1678        31.493994   \n",
       "91       (25, 255)          5328            3353        62.931682   \n",
       "\n",
       "    slicing_factor  \n",
       "0              NaN  \n",
       "1              NaN  \n",
       "2              NaN  \n",
       "3              NaN  \n",
       "4              NaN  \n",
       "..             ...  \n",
       "87             NaN  \n",
       "88             NaN  \n",
       "89             NaN  \n",
       "90             NaN  \n",
       "91             NaN  \n",
       "\n",
       "[92 rows x 12 columns]"
      ]
     },
     "execution_count": 5,
     "metadata": {},
     "output_type": "execute_result"
    }
   ],
   "source": [
    "# Construct ROI and nuclei predictions paths from directory_path above\n",
    "roi_path = directory_path / \"ROIs\"\n",
    "nuclei_preds_path =  directory_path / \"nuclei_preds\" / segmentation_type / model_name\n",
    "\n",
    "# Extract the experiment name from the data directory path\n",
    "experiment_id = directory_path.name\n",
    "\n",
    "# List of subfolder names\n",
    "try:\n",
    "    roi_names = [folder.name for folder in roi_path.iterdir() if folder.is_dir()]\n",
    "\n",
    "except FileNotFoundError:\n",
    "    roi_names = [\"full_image\"]\n",
    "        \n",
    "print(f\"The following regions of interest will be analyzed: {roi_names}\")\n",
    "\n",
    "for image in tqdm(images):\n",
    "\n",
    "    # Generate maximum intensity projection and extract filename\n",
    "    img, filename = read_image (image, slicing_factor)\n",
    "\n",
    "    # Generate maximum intensity projection \n",
    "    img_mip = maximum_intensity_projection(img)\n",
    "\n",
    "    # Initialize an empty list to hold the extracted dataframes on a per ROI basis\n",
    "    per_roi_props = []\n",
    "\n",
    "    for roi_name in roi_names:\n",
    "\n",
    "        print(f\"\\nAnalyzing ROI: {roi_name}\")\n",
    "\n",
    "        # Initialize an empty list to hold the extracted dataframes on a per channel basis\n",
    "        props_list = []\n",
    "\n",
    "        # Read the user defined ROIs, in case of full image analysis generate a label covering the entire image\n",
    "        try:\n",
    "            # Read previously defined ROIs\n",
    "            user_roi = tifffile.imread(roi_path / roi_name / f\"{filename}.tiff\")\n",
    "\n",
    "        except FileNotFoundError:\n",
    "            # Extract the xy dimensions of the input image \n",
    "            img_shape = img_mip.shape\n",
    "            img_xy_dims = img_shape[-2:]\n",
    "\n",
    "            # Create a label covering the entire image\n",
    "            user_roi = np.ones(img_xy_dims).astype(np.uint8)\n",
    "\n",
    "        # Read previously predicted nuclei labels, if not present generate nuclei predictions and save them\n",
    "        try:\n",
    "            # Read the nuclei predictions per ROI\n",
    "            nuclei_labels = tifffile.imread(nuclei_preds_path / roi_name / f\"{filename}.tiff\")\n",
    "            print(f\"Pre-computed nuclei labels found for {filename}\")\n",
    "\n",
    "        except FileNotFoundError:\n",
    "\n",
    "            print(f\"Generating nuclei labels for {filename}\")\n",
    "            \n",
    "            # Slice the nuclei stack\n",
    "            nuclei_img = extract_nuclei_stack(img, nuclei_channel)\n",
    "\n",
    "            # We will create a mask where roi is greater than or equal to 1\n",
    "            mask = (user_roi >= 1).astype(np.uint8)\n",
    "\n",
    "            # 3D segmentation logic, extend 2D mask across the entire stack volume\n",
    "            if segmentation_type == \"3D\":\n",
    "                # Extract the number of z-slices to extend the mask\n",
    "                slice_nr = img.shape[1]\n",
    "                # Extend the mask across the entire volume\n",
    "                mask = np.tile(mask, (slice_nr, 1, 1))\n",
    "                # Apply the mask to nuclei_img, setting all other pixels to 0\n",
    "                masked_nuclei_img = np.where(mask, nuclei_img, 0)\n",
    "            else:\n",
    "                # Apply the mask to nuclei_img, setting all other pixels to 0\n",
    "                masked_nuclei_img = np.where(mask, nuclei_img, 0)\n",
    "\n",
    "            # Segment nuclei and return labels\n",
    "            nuclei_labels = segment_nuclei_3d(masked_nuclei_img, model, n_tiles)\n",
    "\n",
    "            # Save nuclei labels as .tiff files to reuse them later\n",
    "            try:\n",
    "                os.makedirs(nuclei_preds_path / roi_name, exist_ok=True)\n",
    "            except Exception as e:\n",
    "                print(f\"Error creating directory {nuclei_preds_path / roi_name}: {e}\")\n",
    "\n",
    "            # Construct path to store\n",
    "            path_to_store = nuclei_preds_path / roi_name / f\"{filename}.tiff\"\n",
    "            print(f\"Saving nuclei labels to {path_to_store}\")\n",
    "            try:\n",
    "                tifffile.imwrite(path_to_store, nuclei_labels)\n",
    "            except Exception as e:\n",
    "                print(f\"Error saving file {path_to_store}: {e}\")\n",
    "\n",
    "        # Create a dictionary containing all image descriptors\n",
    "        descriptor_dict = {\n",
    "                    \"filename\": filename,\n",
    "                    \"ROI\": roi_name,\n",
    "                    }\n",
    "\n",
    "        # Loop through each channel and extract the average intensity within either nuclei or cytoplasmic regions\n",
    "        for tuple in markers:\n",
    "\n",
    "            channel_name = tuple[0]\n",
    "            ch_nr = tuple[1]\n",
    "            location = tuple[2]\n",
    "\n",
    "            print(f\"Analyzing channel: {channel_name}\")\n",
    "\n",
    "            if location == \"cytoplasm\":\n",
    "\n",
    "                print(f\"Generating cytoplasm labels for: {channel_name}\")\n",
    "\n",
    "                # Simulate a cytoplasm by dilating the nuclei and substracting the nuclei mask afterwards\n",
    "                cytoplasm_labels = simulate_cytoplasm_chunked_3d(nuclei_labels, dilation_radius = 2, erosion_radius = 0)\n",
    "\n",
    "                # Extract intensity information from each marker channel\n",
    "                props = regionprops_table(label_image=cytoplasm_labels,\n",
    "                                    intensity_image=img[ch_nr],\n",
    "                                    properties=[\"label\", \"intensity_mean\"])\n",
    "            \n",
    "            elif location == \"nucleus\":\n",
    "\n",
    "                # Extract intensity information from each marker channel\n",
    "                props = regionprops_table(label_image=nuclei_labels,\n",
    "                                    intensity_image=img[ch_nr],\n",
    "                                    properties=[\"label\", \"intensity_mean\"])\n",
    "            \n",
    "\n",
    "            # Convert to dataframe\n",
    "            props_df = pd.DataFrame(props)\n",
    "\n",
    "            # Rename intensity_mean column to indicate the specific image\n",
    "            props_df.rename(columns={\"intensity_mean\": f\"{location}_{channel_name}_avg_int\"}, inplace=True)\n",
    "\n",
    "            # Append each props_df to props_list\n",
    "            props_list.append(props_df)\n",
    "\n",
    "            # Initialize the df with the first df in the list\n",
    "            props_df = props_list[0]\n",
    "            # Start looping from the second df in the list\n",
    "            for df in props_list[1:]:\n",
    "                props_df = props_df.merge(df, on=\"label\")\n",
    "\n",
    "        # Add each key-value pair from descriptor_dict to props_df at the specified position\n",
    "        insertion_position = 0    \n",
    "        for key, value in descriptor_dict.items():\n",
    "            props_df.insert(insertion_position, key, value)\n",
    "            insertion_position += 1  # Increment position to maintain the order of keys in descriptor_dict\n",
    "\n",
    "        # Append each props_df to props_list\n",
    "        per_roi_props.append(props_df)\n",
    "\n",
    "    final_df = pd.concat(per_roi_props, ignore_index=True)\n",
    "\n",
    "    # Create a 'results' folder in the root directory\n",
    "    results_folder = Path(\"results\") / experiment_id / segmentation_type / model_name\n",
    "\n",
    "    try:\n",
    "        os.makedirs(results_folder)\n",
    "        print(f\"'{results_folder}' folder created successfully.\")\n",
    "    except FileExistsError:\n",
    "        print(f\"'{results_folder}' folder already exists.\")\n",
    "\n",
    "    # Save the df containing per_label results into a CSV file\n",
    "    final_df.to_csv(results_folder / f'{filename}_per_label_avg_int.csv')\n",
    "\n",
    "    # Select all column names in 'final_df' that contain the substring 'avg_int'\n",
    "    avg_int_columns = [col for col in final_df.columns if 'avg_int' in col]\n",
    "\n",
    "    # Create an empty list to store all stats extracted from each image\n",
    "    stats = []\n",
    "\n",
    "    for marker_analysis in min_max_per_marker:\n",
    "\n",
    "        marker = marker_analysis[\"marker\"]\n",
    "        min_max_avg_int = marker_analysis[\"min_max\"]\n",
    "        population = marker_analysis[\"population\"]\n",
    "\n",
    "        # Retrieve the column name from which the avg_int values should be read\n",
    "        for column in avg_int_columns:\n",
    "            if marker in column:\n",
    "                column_name = column\n",
    "\n",
    "        for roi_name in roi_names:\n",
    "\n",
    "            # Initialize an empty list to hold the extracted dataframes on a per channel basis\n",
    "            props_list = []\n",
    "\n",
    "            # Retrieve the first and second values (channel and location) of the corresponding tuple in markers\n",
    "            for item in markers:\n",
    "                if item[0] == marker:\n",
    "                    channel = item[1]\n",
    "                    location = item[2]\n",
    "                    break  # Stop searching once the marker is found\n",
    "\n",
    "            # Read the nuclei predictions per ROI\n",
    "            nuclei_labels = tifffile.imread(nuclei_preds_path / roi_name / f\"{filename}.tiff\")\n",
    "\n",
    "            # Filter rows in final_df where ROI matches roi_name and column_name is higher than threshold\n",
    "            filtered_df = final_df[(final_df[\"ROI\"] == roi_name) & (final_df[column_name] > min_max_avg_int[0]) & (final_df[column_name] < min_max_avg_int[1])]\n",
    "\n",
    "            # Get the values of the 'label' column in filtered_df as a list\n",
    "            label_values = filtered_df[\"label\"].tolist()\n",
    "\n",
    "            # Create a boolean mask where each element is True if the corresponding value in 'nuclei_labels' \n",
    "            # is found in 'label_values', and False otherwise\n",
    "            mask = np.isin(nuclei_labels, label_values)\n",
    "\n",
    "            # Use the mask to set values in 'nuclei_labels' that are not in 'label_values' to 0,\n",
    "            # creating a new array 'filtered_labels' with only the specified values retained\n",
    "            filtered_labels = np.where(mask, nuclei_labels, 0)\n",
    "\n",
    "            # Extract your information of interest\n",
    "            total_nuclei = len(np.unique(nuclei_labels)) - 1\n",
    "            marker_pos_nuclei = len(np.unique(filtered_labels)) - 1\n",
    "\n",
    "            # Calculate \"%_marker+_cells\" and avoid division by zero errors\n",
    "            try:\n",
    "                perc_marker_pos_cells = (marker_pos_nuclei * 100) / total_nuclei\n",
    "            except ZeroDivisionError:\n",
    "                perc_marker_pos_cells = 0\n",
    "\n",
    "            # Create a dictionary containing all extracted info per masked image\n",
    "            stats_dict = {\n",
    "                        \"filename\": filename,\n",
    "                        \"ROI\": roi_name,\n",
    "                        \"based_on\": column_name,\n",
    "                        \"marker\": marker,\n",
    "                        \"population\":population,\n",
    "                        \"marker_ch\": channel,\n",
    "                        \"location\": location,\n",
    "                        \"min_max_avg_int\": min_max_avg_int,\n",
    "                        \"total_nuclei\": total_nuclei,\n",
    "                        \"marker+_nuclei\": marker_pos_nuclei,\n",
    "                        \"%_marker+_cells\": perc_marker_pos_cells,\n",
    "                        \"slicing_factor\": slicing_factor\n",
    "                        }\n",
    "            \n",
    "            # Append the current data point to the stats_list\n",
    "            stats.append(stats_dict)  \n",
    "\n",
    "    # Create the necessary folder structure if it does not exist\n",
    "    try:\n",
    "        os.makedirs(str(results_folder))\n",
    "        print(f\"Output folder created: {results_folder}\")\n",
    "    except FileExistsError:\n",
    "        print(f\"Output folder already exists: {results_folder}\")\n",
    "\n",
    "    # Transform into a dataframe to store it as .csv later\n",
    "    df = pd.DataFrame(stats)\n",
    "\n",
    "    # Define the .csv path\n",
    "    csv_path = results_folder / f\"BP_marker_+_label_avg_int.csv\"\n",
    "\n",
    "    # Append to the .csv with new data points each round\n",
    "    df.to_csv(csv_path, mode=\"a\", index=False, header=not os.path.isfile(csv_path))\n",
    "\n",
    "# Show the updated .csv \n",
    "csv_df = pd.read_csv(csv_path)\n",
    "\n",
    "csv_df "
   ]
  }
 ],
 "metadata": {
  "kernelspec": {
   "display_name": "brain_nuc_stardist",
   "language": "python",
   "name": "python3"
  },
  "language_info": {
   "codemirror_mode": {
    "name": "ipython",
    "version": 3
   },
   "file_extension": ".py",
   "mimetype": "text/x-python",
   "name": "python",
   "nbconvert_exporter": "python",
   "pygments_lexer": "ipython3",
   "version": "3.9.21"
  }
 },
 "nbformat": 4,
 "nbformat_minor": 2
}
