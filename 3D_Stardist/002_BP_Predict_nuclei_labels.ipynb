{
 "cells": [
  {
   "cell_type": "code",
   "execution_count": 1,
   "metadata": {},
   "outputs": [
    {
     "name": "stdout",
     "output_type": "stream",
     "text": [
      "Device name: /device:GPU:0\n",
      "Device type: GPU\n",
      "GPU model: device: 0, name: NVIDIA GeForce RTX 4090, pci bus id: 0000:01:00.0, compute capability: 8.9\n"
     ]
    }
   ],
   "source": [
    "from pathlib import Path\n",
    "import tifffile\n",
    "import os\n",
    "import gc\n",
    "import numpy as np\n",
    "from tqdm import tqdm\n",
    "from stardist.models import StarDist3D\n",
    "from utils_stardist import get_gpu_details, list_images, read_image, extract_nuclei_stack, segment_nuclei_3d\n",
    "\n",
    "get_gpu_details()"
   ]
  },
  {
   "cell_type": "markdown",
   "metadata": {},
   "source": [
    "<h3>Define the directory where your images are stored (.nd2 or .czi files)</h3>"
   ]
  },
  {
   "cell_type": "code",
   "execution_count": 2,
   "metadata": {},
   "outputs": [
    {
     "data": {
      "text/plain": [
       "['..\\\\raw_data\\\\test_big_data\\\\1482_naive_TR1.nd2',\n",
       " '..\\\\raw_data\\\\test_big_data\\\\1482_naive_TR2.nd2',\n",
       " '..\\\\raw_data\\\\test_big_data\\\\2106_conditioned_TR1.nd2',\n",
       " '..\\\\raw_data\\\\test_big_data\\\\2106_conditioned_TR2.nd2',\n",
       " '..\\\\raw_data\\\\test_big_data\\\\2107_conditioned_TR1.nd2',\n",
       " '..\\\\raw_data\\\\test_big_data\\\\2107_conditioned_TR2.nd2',\n",
       " '..\\\\raw_data\\\\test_big_data\\\\2108_conditioned_TR1.nd2',\n",
       " '..\\\\raw_data\\\\test_big_data\\\\2108_conditioned_TR2.nd2',\n",
       " '..\\\\raw_data\\\\test_big_data\\\\2109_naive_TR1.nd2',\n",
       " '..\\\\raw_data\\\\test_big_data\\\\2109_naive_TR2.nd2',\n",
       " '..\\\\raw_data\\\\test_big_data\\\\2110_naive_TR1.nd2',\n",
       " '..\\\\raw_data\\\\test_big_data\\\\2110_naive_TR2.nd2',\n",
       " '..\\\\raw_data\\\\test_big_data\\\\3066_retrival_TR1.nd2',\n",
       " '..\\\\raw_data\\\\test_big_data\\\\3066_retrival_TR2.nd2',\n",
       " '..\\\\raw_data\\\\test_big_data\\\\3069_extinction_TR1.nd2',\n",
       " '..\\\\raw_data\\\\test_big_data\\\\3069_extinction_TR2.nd2',\n",
       " '..\\\\raw_data\\\\test_big_data\\\\3070_extinction_TR1.nd2',\n",
       " '..\\\\raw_data\\\\test_big_data\\\\3070_extinction_TR2.nd2',\n",
       " '..\\\\raw_data\\\\test_big_data\\\\3071_extinction_TR1.nd2',\n",
       " '..\\\\raw_data\\\\test_big_data\\\\3071_extinction_TR2.nd2',\n",
       " '..\\\\raw_data\\\\test_big_data\\\\3089_retrival_TR1.nd2',\n",
       " '..\\\\raw_data\\\\test_big_data\\\\3089_retrival_TR2.nd2',\n",
       " '..\\\\raw_data\\\\test_big_data\\\\3090_retrival_TR1.nd2',\n",
       " '..\\\\raw_data\\\\test_big_data\\\\3090_retrival_TR2.nd2']"
      ]
     },
     "execution_count": 2,
     "metadata": {},
     "output_type": "execute_result"
    }
   ],
   "source": [
    "# Copy the path where your images are stored, you can use absolute or relative paths to point at other disk locations\n",
    "directory_path = Path(\"../raw_data/test_big_data\")\n",
    "\n",
    "# Construct ROI path from directory_path above\n",
    "roi_path = directory_path / \"ROIs\"\n",
    "\n",
    "# Iterate through the .czi and .nd2 files in the raw_data directory\n",
    "images = list_images(directory_path)\n",
    "\n",
    "images"
   ]
  },
  {
   "cell_type": "markdown",
   "metadata": {},
   "source": [
    "<h3>Define your nuclei channel and your nuclear segmentation parameters</h3>\n",
    "\n",
    "Modify the values for <code>slicing factor</code>, <code>nuclei_channel</code>, <code>segmentation_type</code> and your Stardist <code>model_name</code>\n"
   ]
  },
  {
   "cell_type": "code",
   "execution_count": 3,
   "metadata": {},
   "outputs": [
    {
     "name": "stdout",
     "output_type": "stream",
     "text": [
      "Loading network weights from 'weights_best.h5'.\n",
      "Loading thresholds from 'thresholds.json'.\n",
      "Using default values: prob_thresh=0.388346, nms_thresh=0.3.\n"
     ]
    }
   ],
   "source": [
    "# Image size reduction to improve processing times (slicing, not lossless compression)\n",
    "slicing_factor = None # Use 2 or 4 for compression (None for lossless)\n",
    "\n",
    "# Define the nuclei and markers of interest channel order ('Remember in Python one starts counting from zero')\n",
    "nuclei_channel = 3\n",
    "\n",
    "n_tiles=(3,8,8)\n",
    "\n",
    "# Segmentation type (\"2D\" or \"3D\"). \n",
    "# 2D takes a z-stack as input, performs MIP (Maximum Intensity Projection) and predicts nuclei from the resulting projection (faster, useful for single layers of cells)\n",
    "# 3D is more computationally expensive. Predicts 3D nuclear volumes, useful for multilayered structures\n",
    "segmentation_type = \"3D\"\n",
    "\n",
    "# Nuclear segmentation model type (\"Stardist\")\n",
    "# Choose your Stardist fine-tuned model (model_name) from stardist_models folder\n",
    "model_name = \"3D_seg_stardist_v1.8\"\n",
    "\n",
    "# Model loading \n",
    "model = StarDist3D(None, name=model_name, basedir='stardist_models')"
   ]
  },
  {
   "cell_type": "markdown",
   "metadata": {},
   "source": [
    "<h3>Predict nuclei labels and store them as .tiff files</h3>"
   ]
  },
  {
   "cell_type": "code",
   "execution_count": 4,
   "metadata": {},
   "outputs": [
    {
     "name": "stderr",
     "output_type": "stream",
     "text": [
      "  0%|          | 0/24 [00:00<?, ?it/s]"
     ]
    },
    {
     "name": "stdout",
     "output_type": "stream",
     "text": [
      "\n",
      "WARNING: Nuclei predictions already found for: 1482_naive_TR1 ROI: full_image\n",
      "Make sure nuclei labels were generated using the same settings.\n",
      "\n",
      "WARNING: Nuclei predictions already found for: 1482_naive_TR2 ROI: full_image\n",
      "Make sure nuclei labels were generated using the same settings.\n",
      "\n",
      "WARNING: Nuclei predictions already found for: 2106_conditioned_TR1 ROI: full_image\n",
      "Make sure nuclei labels were generated using the same settings.\n",
      "\n",
      "WARNING: Nuclei predictions already found for: 2106_conditioned_TR2 ROI: full_image\n",
      "Make sure nuclei labels were generated using the same settings.\n",
      "\n",
      "\n",
      "Image analyzed: 2107_conditioned_TR1\n",
      "Original Array shape: (4, 13, 14960, 7616)\n",
      "Compressed Array shape: (4, 13, 14960, 7616)\n",
      "Generating nuclei predictions for full_image ROI\n"
     ]
    },
    {
     "name": "stderr",
     "output_type": "stream",
     "text": [
      "100%|██████████| 64/64 [01:12<00:00,  1.13s/it]\n",
      " 21%|██        | 5/24 [4:09:06<15:46:38, 2989.40s/it]"
     ]
    },
    {
     "name": "stdout",
     "output_type": "stream",
     "text": [
      "\n",
      "\n",
      "Image analyzed: 2107_conditioned_TR2\n",
      "Original Array shape: (4, 13, 14960, 7616)\n",
      "Compressed Array shape: (4, 13, 14960, 7616)\n",
      "Generating nuclei predictions for full_image ROI\n"
     ]
    },
    {
     "name": "stderr",
     "output_type": "stream",
     "text": [
      "100%|██████████| 64/64 [01:09<00:00,  1.08s/it]\n",
      " 25%|██▌       | 6/24 [9:06:33<31:27:18, 6291.01s/it]"
     ]
    },
    {
     "name": "stdout",
     "output_type": "stream",
     "text": [
      "\n",
      "\n",
      "Image analyzed: 2108_conditioned_TR1\n",
      "Original Array shape: (4, 10, 14960, 7616)\n",
      "Compressed Array shape: (4, 10, 14960, 7616)\n",
      "Generating nuclei predictions for full_image ROI\n"
     ]
    },
    {
     "name": "stderr",
     "output_type": "stream",
     "text": [
      "100%|██████████| 64/64 [00:52<00:00,  1.23it/s]\n",
      " 29%|██▉       | 7/24 [13:14:33<39:28:52, 8360.71s/it]"
     ]
    },
    {
     "name": "stdout",
     "output_type": "stream",
     "text": [
      "\n",
      "\n",
      "Image analyzed: 2108_conditioned_TR2\n",
      "Original Array shape: (4, 11, 14960, 7616)\n",
      "Compressed Array shape: (4, 11, 14960, 7616)\n",
      "Generating nuclei predictions for full_image ROI\n"
     ]
    },
    {
     "name": "stderr",
     "output_type": "stream",
     "text": [
      "100%|██████████| 64/64 [00:51<00:00,  1.25it/s]\n",
      " 33%|███▎      | 8/24 [16:36:39<41:26:36, 9324.79s/it]"
     ]
    },
    {
     "name": "stdout",
     "output_type": "stream",
     "text": [
      "\n",
      "\n",
      "Image analyzed: 2109_naive_TR1\n",
      "Original Array shape: (4, 10, 12512, 10064)\n",
      "Compressed Array shape: (4, 10, 12512, 10064)\n",
      "Generating nuclei predictions for full_image ROI\n"
     ]
    },
    {
     "name": "stderr",
     "output_type": "stream",
     "text": [
      "100%|██████████| 64/64 [00:56<00:00,  1.13it/s]\n",
      " 38%|███▊      | 9/24 [21:30:56<48:09:07, 11556.47s/it]"
     ]
    },
    {
     "name": "stdout",
     "output_type": "stream",
     "text": [
      "\n",
      "\n",
      "Image analyzed: 2109_naive_TR2\n",
      "Original Array shape: (4, 10, 12512, 10064)\n",
      "Compressed Array shape: (4, 10, 12512, 10064)\n",
      "Generating nuclei predictions for full_image ROI\n"
     ]
    },
    {
     "name": "stderr",
     "output_type": "stream",
     "text": [
      "100%|██████████| 64/64 [00:56<00:00,  1.14it/s]\n",
      " 42%|████▏     | 10/24 [28:07:43<58:07:33, 14946.70s/it]"
     ]
    },
    {
     "name": "stdout",
     "output_type": "stream",
     "text": [
      "\n",
      "\n",
      "Image analyzed: 2110_naive_TR1\n",
      "Original Array shape: (4, 10, 10064, 7616)\n",
      "Compressed Array shape: (4, 10, 10064, 7616)\n",
      "Generating nuclei predictions for full_image ROI\n"
     ]
    },
    {
     "name": "stderr",
     "output_type": "stream",
     "text": [
      "100%|██████████| 64/64 [01:02<00:00,  1.02it/s]\n",
      " 46%|████▌     | 11/24 [34:13:58<61:09:55, 16938.15s/it]"
     ]
    },
    {
     "name": "stdout",
     "output_type": "stream",
     "text": [
      "\n",
      "\n",
      "Image analyzed: 2110_naive_TR2\n",
      "Original Array shape: (4, 10, 10064, 7616)\n",
      "Compressed Array shape: (4, 10, 10064, 7616)\n",
      "Generating nuclei predictions for full_image ROI\n"
     ]
    },
    {
     "name": "stderr",
     "output_type": "stream",
     "text": [
      "100%|██████████| 64/64 [00:37<00:00,  1.70it/s]\n",
      " 50%|█████     | 12/24 [37:23:56<51:08:23, 15341.92s/it]"
     ]
    },
    {
     "name": "stdout",
     "output_type": "stream",
     "text": [
      "\n",
      "\n",
      "Image analyzed: 3066_retrival_TR1\n",
      "Original Array shape: (4, 10, 14960, 10064)\n",
      "Compressed Array shape: (4, 10, 14960, 10064)\n",
      "Generating nuclei predictions for full_image ROI\n"
     ]
    },
    {
     "name": "stderr",
     "output_type": "stream",
     "text": [
      "100%|██████████| 64/64 [01:08<00:00,  1.07s/it]\n",
      " 54%|█████▍    | 13/24 [41:03:00<44:55:09, 14700.85s/it]"
     ]
    },
    {
     "name": "stdout",
     "output_type": "stream",
     "text": [
      "\n",
      "\n",
      "Image analyzed: 3066_retrival_TR2\n",
      "Original Array shape: (4, 10, 12512, 7616)\n",
      "Compressed Array shape: (4, 10, 12512, 7616)\n",
      "Generating nuclei predictions for full_image ROI\n"
     ]
    },
    {
     "name": "stderr",
     "output_type": "stream",
     "text": [
      "100%|██████████| 64/64 [00:45<00:00,  1.41it/s]\n",
      " 58%|█████▊    | 14/24 [44:07:20<37:51:44, 13630.44s/it]"
     ]
    },
    {
     "name": "stdout",
     "output_type": "stream",
     "text": [
      "\n",
      "\n",
      "Image analyzed: 3069_extinction_TR1\n",
      "Original Array shape: (4, 11, 12512, 7616)\n",
      "Compressed Array shape: (4, 11, 12512, 7616)\n",
      "Generating nuclei predictions for full_image ROI\n"
     ]
    },
    {
     "name": "stderr",
     "output_type": "stream",
     "text": [
      "100%|██████████| 64/64 [00:44<00:00,  1.43it/s]\n",
      " 62%|██████▎   | 15/24 [47:04:15<31:50:44, 12738.23s/it]"
     ]
    },
    {
     "name": "stdout",
     "output_type": "stream",
     "text": [
      "\n",
      "\n",
      "Image analyzed: 3069_extinction_TR2\n",
      "Original Array shape: (4, 9, 12512, 7616)\n",
      "Compressed Array shape: (4, 9, 12512, 7616)\n",
      "Generating nuclei predictions for full_image ROI\n"
     ]
    },
    {
     "name": "stderr",
     "output_type": "stream",
     "text": [
      "100%|██████████| 64/64 [00:45<00:00,  1.42it/s]\n",
      " 67%|██████▋   | 16/24 [50:56:58<29:06:56, 13102.11s/it]"
     ]
    },
    {
     "name": "stdout",
     "output_type": "stream",
     "text": [
      "\n",
      "\n",
      "Image analyzed: 3070_extinction_TR1\n",
      "Original Array shape: (4, 10, 12512, 10064)\n",
      "Compressed Array shape: (4, 10, 12512, 10064)\n",
      "Generating nuclei predictions for full_image ROI\n"
     ]
    },
    {
     "name": "stderr",
     "output_type": "stream",
     "text": [
      "100%|██████████| 64/64 [00:56<00:00,  1.13it/s]\n",
      " 71%|███████   | 17/24 [55:15:07<26:51:31, 13813.11s/it]"
     ]
    },
    {
     "name": "stdout",
     "output_type": "stream",
     "text": [
      "\n",
      "\n",
      "Image analyzed: 3070_extinction_TR2\n",
      "Original Array shape: (4, 11, 14960, 12512)\n",
      "Compressed Array shape: (4, 11, 14960, 12512)\n",
      "Generating nuclei predictions for full_image ROI\n"
     ]
    },
    {
     "name": "stderr",
     "output_type": "stream",
     "text": [
      "100%|██████████| 64/64 [01:21<00:00,  1.28s/it]\n",
      " 75%|███████▌  | 18/24 [59:57:49<24:35:20, 14753.42s/it]"
     ]
    },
    {
     "name": "stdout",
     "output_type": "stream",
     "text": [
      "\n",
      "\n",
      "Image analyzed: 3071_extinction_TR1\n",
      "Original Array shape: (4, 11, 12512, 7616)\n",
      "Compressed Array shape: (4, 11, 12512, 7616)\n",
      "Generating nuclei predictions for full_image ROI\n"
     ]
    },
    {
     "name": "stderr",
     "output_type": "stream",
     "text": [
      "100%|██████████| 64/64 [00:43<00:00,  1.45it/s]\n",
      " 79%|███████▉  | 19/24 [62:26:46<18:04:31, 13014.35s/it]"
     ]
    },
    {
     "name": "stdout",
     "output_type": "stream",
     "text": [
      "\n",
      "\n",
      "Image analyzed: 3071_extinction_TR2\n",
      "Original Array shape: (4, 10, 12512, 10064)\n",
      "Compressed Array shape: (4, 10, 12512, 10064)\n",
      "Generating nuclei predictions for full_image ROI\n"
     ]
    },
    {
     "name": "stderr",
     "output_type": "stream",
     "text": [
      "100%|██████████| 64/64 [00:56<00:00,  1.14it/s]\n",
      " 83%|████████▎ | 20/24 [65:55:39<14:18:00, 12870.19s/it]"
     ]
    },
    {
     "name": "stdout",
     "output_type": "stream",
     "text": [
      "\n",
      "\n",
      "Image analyzed: 3089_retrival_TR1\n",
      "Original Array shape: (4, 9, 14960, 12512)\n",
      "Compressed Array shape: (4, 9, 14960, 12512)\n",
      "Generating nuclei predictions for full_image ROI\n"
     ]
    },
    {
     "name": "stderr",
     "output_type": "stream",
     "text": [
      "100%|██████████| 64/64 [01:23<00:00,  1.30s/it]\n",
      " 88%|████████▊ | 21/24 [75:01:53<15:41:34, 18831.37s/it]"
     ]
    },
    {
     "name": "stdout",
     "output_type": "stream",
     "text": [
      "\n",
      "\n",
      "Image analyzed: 3089_retrival_TR2\n",
      "Original Array shape: (4, 9, 14960, 10064)\n",
      "Compressed Array shape: (4, 9, 14960, 10064)\n",
      "Generating nuclei predictions for full_image ROI\n"
     ]
    },
    {
     "name": "stderr",
     "output_type": "stream",
     "text": [
      "100%|██████████| 64/64 [01:08<00:00,  1.07s/it]\n",
      " 92%|█████████▏| 22/24 [80:04:32<10:21:00, 18630.12s/it]"
     ]
    },
    {
     "name": "stdout",
     "output_type": "stream",
     "text": [
      "\n",
      "\n",
      "Image analyzed: 3090_retrival_TR1\n",
      "Original Array shape: (4, 9, 12512, 7616)\n",
      "Compressed Array shape: (4, 9, 12512, 7616)\n",
      "Generating nuclei predictions for full_image ROI\n"
     ]
    },
    {
     "name": "stderr",
     "output_type": "stream",
     "text": [
      "100%|██████████| 64/64 [00:44<00:00,  1.43it/s]\n",
      " 96%|█████████▌| 23/24 [83:58:22<4:47:31, 17251.01s/it] "
     ]
    },
    {
     "name": "stdout",
     "output_type": "stream",
     "text": [
      "\n",
      "\n",
      "Image analyzed: 3090_retrival_TR2\n",
      "Original Array shape: (4, 12, 12512, 7616)\n",
      "Compressed Array shape: (4, 12, 12512, 7616)\n",
      "Generating nuclei predictions for full_image ROI\n"
     ]
    },
    {
     "name": "stderr",
     "output_type": "stream",
     "text": [
      "100%|██████████| 64/64 [00:43<00:00,  1.45it/s]\n",
      "100%|██████████| 24/24 [86:29:14<00:00, 12973.12s/it]  "
     ]
    },
    {
     "name": "stdout",
     "output_type": "stream",
     "text": [
      "\n",
      "Nuclei prediction completed\n"
     ]
    },
    {
     "name": "stderr",
     "output_type": "stream",
     "text": [
      "\n"
     ]
    }
   ],
   "source": [
    "# List of subfolder names\n",
    "try:\n",
    "    roi_names = [folder.name for folder in roi_path.iterdir() if folder.is_dir()]\n",
    "    print(f\"The following regions of interest will be analyzed: {roi_names}\")\n",
    "except FileNotFoundError:\n",
    "    roi_names = [\"full_image\"]\n",
    "\n",
    "for image in tqdm(images):\n",
    "    for roi_name in roi_names:\n",
    "        \n",
    "        # Check if the prediction has already been generated\n",
    "        file_path = Path(image)\n",
    "        filename = file_path.stem\n",
    "        pred_file = directory_path / \"nuclei_preds\" / segmentation_type / model_name / roi_name / f\"{filename}.tiff\"\n",
    "        \n",
    "        if pred_file.exists():\n",
    "            print(f\"\\nWARNING: Nuclei predictions already found for: {filename} ROI: {roi_name}\")\n",
    "            print(\"Make sure nuclei labels were generated using the same settings.\")\n",
    "            continue  # Skip to the next roi_name if the prediction exists\n",
    "        # Proceed to generate predictions if the file is not found\n",
    "\n",
    "        # Read image stack and extract filename\n",
    "        img, filename = read_image(image, slicing_factor)\n",
    "\n",
    "        # Slice the nuclei stack\n",
    "        nuclei_img = extract_nuclei_stack(img, nuclei_channel)\n",
    "\n",
    "        print(f\"Generating nuclei predictions for {roi_name} ROI\")\n",
    "\n",
    "        # Construct path to read ROI\n",
    "        roi_path = directory_path / \"ROIs\" / roi_name / f\"{filename}.tiff\"\n",
    "\n",
    "        try:\n",
    "            # Read the .tiff files containing the user-defined ROIs\n",
    "            roi = tifffile.imread(roi_path)\n",
    "\n",
    "            # We will create a mask where roi is greater than or equal to 1\n",
    "            mask = (roi >= 1).astype(np.uint8)\n",
    "\n",
    "            # 3D segmentation logic, extend 2D mask across the entire stack volume\n",
    "            if segmentation_type == \"3D\":\n",
    "                # Extract the number of z-slices to extend the mask\n",
    "                slice_nr = img.shape[1]\n",
    "\n",
    "                # Extend the mask across the entire volume\n",
    "                mask = np.tile(mask, (slice_nr, 1, 1))\n",
    "\n",
    "                # Apply the mask to nuclei_img and marker_img, setting all other pixels to 0\n",
    "                masked_nuclei_img = np.where(mask, nuclei_img, 0)\n",
    "            else:\n",
    "                # Apply the mask to nuclei_img and marker_img, setting all other pixels to 0\n",
    "                masked_nuclei_img = np.where(mask, nuclei_img, 0)\n",
    "\n",
    "            # Clean up variables to free memory\n",
    "            del roi, mask\n",
    "            gc.collect()\n",
    "\n",
    "        except FileNotFoundError:\n",
    "            # If no ROI is saved the script will predict nuclei in the entire nuclei_img input\n",
    "            masked_nuclei_img = nuclei_img\n",
    "\n",
    "        # Segment nuclei and return labels\n",
    "        nuclei_labels = segment_nuclei_3d(masked_nuclei_img, model, n_tiles)\n",
    "\n",
    "        # Save nuclei labels as .tiff files to reuse them later\n",
    "        # Create nuclei_predictions directory if it does not exist\n",
    "        try:\n",
    "            os.makedirs(directory_path / \"nuclei_preds\" / segmentation_type / model_name / roi_name)\n",
    "        except FileExistsError:\n",
    "            pass\n",
    "\n",
    "        # Construct path to store\n",
    "        nuclei_preds_path = directory_path / \"nuclei_preds\" / segmentation_type / model_name / roi_name / f\"{filename}.tiff\"\n",
    "\n",
    "        # Save nuclei labels as .tiff\n",
    "        tifffile.imwrite(nuclei_preds_path, nuclei_labels)\n",
    "\n",
    "        # Clean up variables to free memory\n",
    "        del img, nuclei_img, masked_nuclei_img, nuclei_labels\n",
    "        gc.collect()\n",
    "\n",
    "print(\"\\nNuclei prediction completed\")"
   ]
  }
 ],
 "metadata": {
  "kernelspec": {
   "display_name": "brain_nuc_stardist",
   "language": "python",
   "name": "python3"
  },
  "language_info": {
   "codemirror_mode": {
    "name": "ipython",
    "version": 3
   },
   "file_extension": ".py",
   "mimetype": "text/x-python",
   "name": "python",
   "nbconvert_exporter": "python",
   "pygments_lexer": "ipython3",
   "version": "3.9.21"
  }
 },
 "nbformat": 4,
 "nbformat_minor": 2
}
