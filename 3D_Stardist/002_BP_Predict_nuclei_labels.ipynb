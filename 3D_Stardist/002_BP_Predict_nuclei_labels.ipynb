{
 "cells": [
  {
   "cell_type": "code",
   "execution_count": 1,
   "metadata": {},
   "outputs": [
    {
     "name": "stdout",
     "output_type": "stream",
     "text": [
      "Device name: /device:GPU:0\n",
      "Device type: GPU\n",
      "GPU model: device: 0, name: NVIDIA GeForce RTX 4090, pci bus id: 0000:01:00.0, compute capability: 8.9\n"
     ]
    }
   ],
   "source": [
    "from pathlib import Path\n",
    "import tifffile\n",
    "import os\n",
    "import numpy as np\n",
    "from tqdm import tqdm\n",
    "from stardist.models import StarDist3D\n",
    "from utils_stardist import get_gpu_details, list_images, read_image, extract_nuclei_stack, segment_nuclei_3d\n",
    "\n",
    "get_gpu_details()"
   ]
  },
  {
   "cell_type": "markdown",
   "metadata": {},
   "source": [
    "<h3>Define the directory where your images are stored (.nd2 or .czi files)</h3>"
   ]
  },
  {
   "cell_type": "code",
   "execution_count": 2,
   "metadata": {},
   "outputs": [
    {
     "data": {
      "text/plain": [
       "['..\\\\raw_data\\\\test_data\\\\HI1_CONTRA_M8_S6_TR1.czi',\n",
       " '..\\\\raw_data\\\\test_data\\\\HI1_CONTRA_M8_S6_TR2.czi',\n",
       " '..\\\\raw_data\\\\test_data\\\\HI1_CONTRA_M8_S7_TR1.czi',\n",
       " '..\\\\raw_data\\\\test_data\\\\HI1_CONTRA_M8_S7_TR2.czi',\n",
       " '..\\\\raw_data\\\\test_data\\\\HI1_IPSI_M8_S6_TR1.czi',\n",
       " '..\\\\raw_data\\\\test_data\\\\HI1_IPSI_M8_S6_TR2.czi',\n",
       " '..\\\\raw_data\\\\test_data\\\\HI1_IPSI_M8_S7_TR1.czi',\n",
       " '..\\\\raw_data\\\\test_data\\\\HI2_CONTRA_M10_S10_TR1.czi',\n",
       " '..\\\\raw_data\\\\test_data\\\\HI2_CONTRA_M10_S10_TR2.czi',\n",
       " '..\\\\raw_data\\\\test_data\\\\HI2_IPSI_M10_S10_TR1.czi',\n",
       " '..\\\\raw_data\\\\test_data\\\\HI2_IPSI_M10_S10_TR2.czi',\n",
       " '..\\\\raw_data\\\\test_data\\\\HI3_CONTRA_M11_S10_TR1.czi',\n",
       " '..\\\\raw_data\\\\test_data\\\\HI3_CONTRA_M11_S10_TR2.czi',\n",
       " '..\\\\raw_data\\\\test_data\\\\HI3_IPSI_M11_S10_TR1.czi',\n",
       " '..\\\\raw_data\\\\test_data\\\\HI3_IPSI_M11_S10_TR2.czi',\n",
       " '..\\\\raw_data\\\\test_data\\\\SHAM1_CONTRA_M6_S11_TR1.czi',\n",
       " '..\\\\raw_data\\\\test_data\\\\SHAM1_CONTRA_M6_S11_TR2.czi',\n",
       " '..\\\\raw_data\\\\test_data\\\\SHAM1_CONTRA_M7_S11_TR1.czi',\n",
       " '..\\\\raw_data\\\\test_data\\\\SHAM1_CONTRA_M7_S11_TR2.czi',\n",
       " '..\\\\raw_data\\\\test_data\\\\SHAM1_IPSI_M6_S11_TR1.czi',\n",
       " '..\\\\raw_data\\\\test_data\\\\SHAM1_IPSI_M6_S11_TR2.czi',\n",
       " '..\\\\raw_data\\\\test_data\\\\SHAM1_IPSI_M7_S11_TR1.czi',\n",
       " '..\\\\raw_data\\\\test_data\\\\SHAM1_IPSI_M7_S11_TR2.czi']"
      ]
     },
     "execution_count": 2,
     "metadata": {},
     "output_type": "execute_result"
    }
   ],
   "source": [
    "# Copy the path where your images are stored, you can use absolute or relative paths to point at other disk locations\n",
    "directory_path = Path(\"../raw_data/test_data\")\n",
    "\n",
    "# Construct ROI path from directory_path above\n",
    "roi_path = directory_path / \"ROIs\"\n",
    "\n",
    "# Iterate through the .czi and .nd2 files in the raw_data directory\n",
    "images = list_images(directory_path)\n",
    "\n",
    "images"
   ]
  },
  {
   "cell_type": "markdown",
   "metadata": {},
   "source": [
    "<h3>Define your nuclei channel and your nuclear segmentation parameters</h3>\n",
    "\n",
    "Modify the values for <code>slicing factor</code>, <code>nuclei_channel</code>, <code>segmentation_type</code> and your Stardist <code>model_name</code>\n"
   ]
  },
  {
   "cell_type": "code",
   "execution_count": 3,
   "metadata": {},
   "outputs": [
    {
     "name": "stdout",
     "output_type": "stream",
     "text": [
      "Loading network weights from 'weights_best.h5'.\n",
      "Loading thresholds from 'thresholds.json'.\n",
      "Using default values: prob_thresh=0.583933, nms_thresh=0.3.\n"
     ]
    }
   ],
   "source": [
    "# Image size reduction to improve processing times (slicing, not lossless compression)\n",
    "slicing_factor = None # Use 2 or 4 for compression (None for lossless)\n",
    "\n",
    "# Define the nuclei and markers of interest channel order ('Remember in Python one starts counting from zero')\n",
    "nuclei_channel = 3\n",
    "\n",
    "n_tiles=(6,6,3)\n",
    "\n",
    "# Segmentation type (\"2D\" or \"3D\"). \n",
    "# 2D takes a z-stack as input, performs MIP (Maximum Intensity Projection) and predicts nuclei from the resulting projection (faster, useful for single layers of cells)\n",
    "# 3D is more computationally expensive. Predicts 3D nuclear volumes, useful for multilayered structures\n",
    "segmentation_type = \"3D\"\n",
    "\n",
    "# Nuclear segmentation model type (\"Stardist\")\n",
    "# Choose your Stardist fine-tuned model (model_name) from stardist_models folder\n",
    "model_name = \"MEC0.1\"\n",
    "\n",
    "# Model loading \n",
    "model = StarDist3D(None, name=model_name, basedir='stardist_models')"
   ]
  },
  {
   "cell_type": "markdown",
   "metadata": {},
   "source": [
    "<h3>Predict nuclei labels and store them as .tiff files</h3>"
   ]
  },
  {
   "cell_type": "code",
   "execution_count": 4,
   "metadata": {},
   "outputs": [
    {
     "name": "stdout",
     "output_type": "stream",
     "text": [
      "The following regions of interest will be analyzed: ['CA', 'DG']\n"
     ]
    },
    {
     "name": "stderr",
     "output_type": "stream",
     "text": [
      "  0%|          | 0/23 [00:00<?, ?it/s]"
     ]
    },
    {
     "name": "stdout",
     "output_type": "stream",
     "text": [
      "\n",
      "\n",
      "Image analyzed: HI1_CONTRA_M8_S6_TR1\n",
      "Original Array shape: (4, 14, 3803, 2891)\n",
      "Compressed Array shape: (4, 14, 3803, 2891)\n",
      "Generating nuclei predictions for CA ROI\n"
     ]
    },
    {
     "name": "stderr",
     "output_type": "stream",
     "text": [
      "100%|██████████| 18/18 [00:13<00:00,  1.34it/s]\n"
     ]
    },
    {
     "name": "stdout",
     "output_type": "stream",
     "text": [
      "\n",
      "\n",
      "Image analyzed: HI1_CONTRA_M8_S6_TR1\n",
      "Original Array shape: (4, 14, 3803, 2891)\n",
      "Compressed Array shape: (4, 14, 3803, 2891)\n",
      "Generating nuclei predictions for DG ROI\n"
     ]
    },
    {
     "name": "stderr",
     "output_type": "stream",
     "text": [
      "100%|██████████| 18/18 [00:14<00:00,  1.23it/s]\n",
      "  4%|▍         | 1/23 [02:52<1:03:19, 172.69s/it]"
     ]
    },
    {
     "name": "stdout",
     "output_type": "stream",
     "text": [
      "\n",
      "\n",
      "Image analyzed: HI1_CONTRA_M8_S6_TR2\n",
      "Original Array shape: (4, 13, 3802, 2882)\n",
      "Compressed Array shape: (4, 13, 3802, 2882)\n",
      "Generating nuclei predictions for CA ROI\n"
     ]
    },
    {
     "name": "stderr",
     "output_type": "stream",
     "text": [
      "100%|██████████| 18/18 [00:15<00:00,  1.15it/s]\n"
     ]
    },
    {
     "name": "stdout",
     "output_type": "stream",
     "text": [
      "\n",
      "\n",
      "Image analyzed: HI1_CONTRA_M8_S6_TR2\n",
      "Original Array shape: (4, 13, 3802, 2882)\n",
      "Compressed Array shape: (4, 13, 3802, 2882)\n",
      "Generating nuclei predictions for DG ROI\n"
     ]
    },
    {
     "name": "stderr",
     "output_type": "stream",
     "text": [
      "100%|██████████| 18/18 [00:12<00:00,  1.47it/s]\n",
      "  9%|▊         | 2/23 [05:31<57:33, 164.48s/it]  "
     ]
    },
    {
     "name": "stdout",
     "output_type": "stream",
     "text": [
      "\n",
      "\n",
      "Image analyzed: HI1_CONTRA_M8_S7_TR1\n",
      "Original Array shape: (4, 12, 3805, 2867)\n",
      "Compressed Array shape: (4, 12, 3805, 2867)\n",
      "Generating nuclei predictions for CA ROI\n"
     ]
    },
    {
     "name": "stderr",
     "output_type": "stream",
     "text": [
      "100%|██████████| 18/18 [00:05<00:00,  3.36it/s]\n"
     ]
    },
    {
     "name": "stdout",
     "output_type": "stream",
     "text": [
      "\n",
      "\n",
      "Image analyzed: HI1_CONTRA_M8_S7_TR1\n",
      "Original Array shape: (4, 12, 3805, 2867)\n",
      "Compressed Array shape: (4, 12, 3805, 2867)\n",
      "Generating nuclei predictions for DG ROI\n"
     ]
    },
    {
     "name": "stderr",
     "output_type": "stream",
     "text": [
      "100%|██████████| 18/18 [00:04<00:00,  3.96it/s]\n",
      " 13%|█▎        | 3/23 [07:42<49:41, 149.10s/it]"
     ]
    },
    {
     "name": "stdout",
     "output_type": "stream",
     "text": [
      "\n",
      "\n",
      "Image analyzed: HI1_CONTRA_M8_S7_TR2\n",
      "Original Array shape: (4, 12, 3806, 2889)\n",
      "Compressed Array shape: (4, 12, 3806, 2889)\n",
      "Generating nuclei predictions for CA ROI\n"
     ]
    },
    {
     "name": "stderr",
     "output_type": "stream",
     "text": [
      "100%|██████████| 18/18 [00:05<00:00,  3.03it/s]\n"
     ]
    },
    {
     "name": "stdout",
     "output_type": "stream",
     "text": [
      "\n",
      "\n",
      "Image analyzed: HI1_CONTRA_M8_S7_TR2\n",
      "Original Array shape: (4, 12, 3806, 2889)\n",
      "Compressed Array shape: (4, 12, 3806, 2889)\n",
      "Generating nuclei predictions for DG ROI\n"
     ]
    },
    {
     "name": "stderr",
     "output_type": "stream",
     "text": [
      "100%|██████████| 18/18 [00:05<00:00,  3.02it/s]\n",
      " 17%|█▋        | 4/23 [10:03<46:12, 145.91s/it]"
     ]
    },
    {
     "name": "stdout",
     "output_type": "stream",
     "text": [
      "\n",
      "\n",
      "Image analyzed: HI1_IPSI_M8_S6_TR1\n",
      "Original Array shape: (4, 12, 3798, 2877)\n",
      "Compressed Array shape: (4, 12, 3798, 2877)\n",
      "Generating nuclei predictions for CA ROI\n"
     ]
    },
    {
     "name": "stderr",
     "output_type": "stream",
     "text": [
      "100%|██████████| 18/18 [00:05<00:00,  3.22it/s]\n"
     ]
    },
    {
     "name": "stdout",
     "output_type": "stream",
     "text": [
      "\n",
      "\n",
      "Image analyzed: HI1_IPSI_M8_S6_TR1\n",
      "Original Array shape: (4, 12, 3798, 2877)\n",
      "Compressed Array shape: (4, 12, 3798, 2877)\n",
      "Generating nuclei predictions for DG ROI\n"
     ]
    },
    {
     "name": "stderr",
     "output_type": "stream",
     "text": [
      "100%|██████████| 18/18 [00:04<00:00,  3.71it/s]\n",
      " 22%|██▏       | 5/23 [11:05<34:45, 115.88s/it]"
     ]
    },
    {
     "name": "stdout",
     "output_type": "stream",
     "text": [
      "\n",
      "\n",
      "Image analyzed: HI1_IPSI_M8_S6_TR2\n",
      "Original Array shape: (4, 14, 3802, 2876)\n",
      "Compressed Array shape: (4, 14, 3802, 2876)\n",
      "Generating nuclei predictions for CA ROI\n"
     ]
    },
    {
     "name": "stderr",
     "output_type": "stream",
     "text": [
      "100%|██████████| 18/18 [00:06<00:00,  2.79it/s]\n"
     ]
    },
    {
     "name": "stdout",
     "output_type": "stream",
     "text": [
      "\n",
      "\n",
      "Image analyzed: HI1_IPSI_M8_S6_TR2\n",
      "Original Array shape: (4, 14, 3802, 2876)\n",
      "Compressed Array shape: (4, 14, 3802, 2876)\n",
      "Generating nuclei predictions for DG ROI\n"
     ]
    },
    {
     "name": "stderr",
     "output_type": "stream",
     "text": [
      "100%|██████████| 18/18 [00:08<00:00,  2.15it/s]\n",
      " 26%|██▌       | 6/23 [12:26<29:25, 103.88s/it]"
     ]
    },
    {
     "name": "stdout",
     "output_type": "stream",
     "text": [
      "\n",
      "\n",
      "Image analyzed: HI1_IPSI_M8_S7_TR1\n",
      "Original Array shape: (4, 12, 2874, 1950)\n",
      "Compressed Array shape: (4, 12, 2874, 1950)\n",
      "Generating nuclei predictions for CA ROI\n"
     ]
    },
    {
     "name": "stderr",
     "output_type": "stream",
     "text": [
      "100%|██████████| 18/18 [00:05<00:00,  3.20it/s]\n"
     ]
    },
    {
     "name": "stdout",
     "output_type": "stream",
     "text": [
      "\n",
      "\n",
      "Image analyzed: HI1_IPSI_M8_S7_TR1\n",
      "Original Array shape: (4, 12, 2874, 1950)\n",
      "Compressed Array shape: (4, 12, 2874, 1950)\n",
      "Generating nuclei predictions for DG ROI\n"
     ]
    },
    {
     "name": "stderr",
     "output_type": "stream",
     "text": [
      "100%|██████████| 18/18 [00:10<00:00,  1.78it/s]\n",
      " 30%|███       | 7/23 [12:55<21:11, 79.45s/it] "
     ]
    },
    {
     "name": "stdout",
     "output_type": "stream",
     "text": [
      "\n",
      "\n",
      "Image analyzed: HI2_CONTRA_M10_S10_TR1\n",
      "Original Array shape: (4, 14, 3799, 2874)\n",
      "Compressed Array shape: (4, 14, 3799, 2874)\n",
      "Generating nuclei predictions for CA ROI\n"
     ]
    },
    {
     "name": "stderr",
     "output_type": "stream",
     "text": [
      "100%|██████████| 18/18 [00:16<00:00,  1.09it/s]\n"
     ]
    },
    {
     "name": "stdout",
     "output_type": "stream",
     "text": [
      "\n",
      "\n",
      "Image analyzed: HI2_CONTRA_M10_S10_TR1\n",
      "Original Array shape: (4, 14, 3799, 2874)\n",
      "Compressed Array shape: (4, 14, 3799, 2874)\n",
      "Generating nuclei predictions for DG ROI\n"
     ]
    },
    {
     "name": "stderr",
     "output_type": "stream",
     "text": [
      "100%|██████████| 18/18 [00:11<00:00,  1.55it/s]\n",
      " 35%|███▍      | 8/23 [15:49<27:20, 109.38s/it]"
     ]
    },
    {
     "name": "stdout",
     "output_type": "stream",
     "text": [
      "\n",
      "\n",
      "Image analyzed: HI2_CONTRA_M10_S10_TR2\n",
      "Original Array shape: (4, 14, 3813, 2891)\n",
      "Compressed Array shape: (4, 14, 3813, 2891)\n",
      "Generating nuclei predictions for CA ROI\n"
     ]
    },
    {
     "name": "stderr",
     "output_type": "stream",
     "text": [
      "100%|██████████| 18/18 [00:12<00:00,  1.41it/s]\n"
     ]
    },
    {
     "name": "stdout",
     "output_type": "stream",
     "text": [
      "\n",
      "\n",
      "Image analyzed: HI2_CONTRA_M10_S10_TR2\n",
      "Original Array shape: (4, 14, 3813, 2891)\n",
      "Compressed Array shape: (4, 14, 3813, 2891)\n",
      "Generating nuclei predictions for DG ROI\n"
     ]
    },
    {
     "name": "stderr",
     "output_type": "stream",
     "text": [
      "100%|██████████| 18/18 [00:11<00:00,  1.54it/s]\n",
      " 39%|███▉      | 9/23 [18:34<29:35, 126.79s/it]"
     ]
    },
    {
     "name": "stdout",
     "output_type": "stream",
     "text": [
      "\n",
      "\n",
      "Image analyzed: HI2_IPSI_M10_S10_TR1\n",
      "Original Array shape: (4, 13, 2878, 2879)\n",
      "Compressed Array shape: (4, 13, 2878, 2879)\n",
      "Generating nuclei predictions for CA ROI\n"
     ]
    },
    {
     "name": "stderr",
     "output_type": "stream",
     "text": [
      "100%|██████████| 18/18 [00:15<00:00,  1.18it/s]\n"
     ]
    },
    {
     "name": "stdout",
     "output_type": "stream",
     "text": [
      "\n",
      "\n",
      "Image analyzed: HI2_IPSI_M10_S10_TR1\n",
      "Original Array shape: (4, 13, 2878, 2879)\n",
      "Compressed Array shape: (4, 13, 2878, 2879)\n",
      "Generating nuclei predictions for DG ROI\n"
     ]
    },
    {
     "name": "stderr",
     "output_type": "stream",
     "text": [
      "100%|██████████| 18/18 [00:11<00:00,  1.55it/s]\n",
      " 43%|████▎     | 10/23 [19:41<23:31, 108.58s/it]"
     ]
    },
    {
     "name": "stdout",
     "output_type": "stream",
     "text": [
      "\n",
      "\n",
      "Image analyzed: HI2_IPSI_M10_S10_TR2\n",
      "Original Array shape: (4, 15, 2880, 1959)\n",
      "Compressed Array shape: (4, 15, 2880, 1959)\n",
      "Generating nuclei predictions for CA ROI\n"
     ]
    },
    {
     "name": "stderr",
     "output_type": "stream",
     "text": [
      "100%|██████████| 18/18 [00:05<00:00,  3.00it/s]\n"
     ]
    },
    {
     "name": "stdout",
     "output_type": "stream",
     "text": [
      "\n",
      "\n",
      "Image analyzed: HI2_IPSI_M10_S10_TR2\n",
      "Original Array shape: (4, 15, 2880, 1959)\n",
      "Compressed Array shape: (4, 15, 2880, 1959)\n",
      "Generating nuclei predictions for DG ROI\n"
     ]
    },
    {
     "name": "stderr",
     "output_type": "stream",
     "text": [
      "100%|██████████| 18/18 [00:08<00:00,  2.04it/s]\n",
      " 48%|████▊     | 11/23 [20:36<18:25, 92.09s/it] "
     ]
    },
    {
     "name": "stdout",
     "output_type": "stream",
     "text": [
      "\n",
      "\n",
      "Image analyzed: HI3_CONTRA_M11_S10_TR1\n",
      "Original Array shape: (4, 13, 2884, 2879)\n",
      "Compressed Array shape: (4, 13, 2884, 2879)\n",
      "Generating nuclei predictions for CA ROI\n"
     ]
    },
    {
     "name": "stderr",
     "output_type": "stream",
     "text": [
      "100%|██████████| 18/18 [00:06<00:00,  2.99it/s]\n"
     ]
    },
    {
     "name": "stdout",
     "output_type": "stream",
     "text": [
      "\n",
      "\n",
      "Image analyzed: HI3_CONTRA_M11_S10_TR1\n",
      "Original Array shape: (4, 13, 2884, 2879)\n",
      "Compressed Array shape: (4, 13, 2884, 2879)\n",
      "Generating nuclei predictions for DG ROI\n"
     ]
    },
    {
     "name": "stderr",
     "output_type": "stream",
     "text": [
      "100%|██████████| 18/18 [00:05<00:00,  3.17it/s]\n",
      " 52%|█████▏    | 12/23 [22:52<19:19, 105.37s/it]"
     ]
    },
    {
     "name": "stdout",
     "output_type": "stream",
     "text": [
      "\n",
      "\n",
      "Image analyzed: HI3_CONTRA_M11_S10_TR2\n",
      "Original Array shape: (4, 11, 2881, 2882)\n",
      "Compressed Array shape: (4, 11, 2881, 2882)\n",
      "Generating nuclei predictions for CA ROI\n"
     ]
    },
    {
     "name": "stderr",
     "output_type": "stream",
     "text": [
      "100%|██████████| 18/18 [00:04<00:00,  3.69it/s]\n"
     ]
    },
    {
     "name": "stdout",
     "output_type": "stream",
     "text": [
      "\n",
      "\n",
      "Image analyzed: HI3_CONTRA_M11_S10_TR2\n",
      "Original Array shape: (4, 11, 2881, 2882)\n",
      "Compressed Array shape: (4, 11, 2881, 2882)\n",
      "Generating nuclei predictions for DG ROI\n"
     ]
    },
    {
     "name": "stderr",
     "output_type": "stream",
     "text": [
      "100%|██████████| 18/18 [00:05<00:00,  3.55it/s]\n",
      " 57%|█████▋    | 13/23 [24:45<17:56, 107.69s/it]"
     ]
    },
    {
     "name": "stdout",
     "output_type": "stream",
     "text": [
      "\n",
      "\n",
      "Image analyzed: HI3_IPSI_M11_S10_TR1\n",
      "Original Array shape: (4, 14, 2880, 2880)\n",
      "Compressed Array shape: (4, 14, 2880, 2880)\n",
      "Generating nuclei predictions for CA ROI\n"
     ]
    },
    {
     "name": "stderr",
     "output_type": "stream",
     "text": [
      "100%|██████████| 18/18 [00:05<00:00,  3.10it/s]\n"
     ]
    },
    {
     "name": "stdout",
     "output_type": "stream",
     "text": [
      "\n",
      "\n",
      "Image analyzed: HI3_IPSI_M11_S10_TR1\n",
      "Original Array shape: (4, 14, 2880, 2880)\n",
      "Compressed Array shape: (4, 14, 2880, 2880)\n",
      "Generating nuclei predictions for DG ROI\n"
     ]
    },
    {
     "name": "stderr",
     "output_type": "stream",
     "text": [
      "100%|██████████| 18/18 [00:06<00:00,  2.96it/s]\n",
      " 61%|██████    | 14/23 [25:32<13:23, 89.24s/it] "
     ]
    },
    {
     "name": "stdout",
     "output_type": "stream",
     "text": [
      "\n",
      "\n",
      "Image analyzed: HI3_IPSI_M11_S10_TR2\n",
      "Original Array shape: (4, 15, 2880, 2875)\n",
      "Compressed Array shape: (4, 15, 2880, 2875)\n",
      "Generating nuclei predictions for CA ROI\n"
     ]
    },
    {
     "name": "stderr",
     "output_type": "stream",
     "text": [
      "100%|██████████| 18/18 [00:06<00:00,  2.98it/s]\n"
     ]
    },
    {
     "name": "stdout",
     "output_type": "stream",
     "text": [
      "\n",
      "\n",
      "Image analyzed: HI3_IPSI_M11_S10_TR2\n",
      "Original Array shape: (4, 15, 2880, 2875)\n",
      "Compressed Array shape: (4, 15, 2880, 2875)\n",
      "Generating nuclei predictions for DG ROI\n"
     ]
    },
    {
     "name": "stderr",
     "output_type": "stream",
     "text": [
      "100%|██████████| 18/18 [00:05<00:00,  3.12it/s]\n",
      " 65%|██████▌   | 15/23 [26:25<10:28, 78.56s/it]"
     ]
    },
    {
     "name": "stdout",
     "output_type": "stream",
     "text": [
      "\n",
      "\n",
      "Image analyzed: SHAM1_CONTRA_M6_S11_TR1\n",
      "Original Array shape: (4, 16, 2872, 2884)\n",
      "Compressed Array shape: (4, 16, 2872, 2884)\n",
      "Generating nuclei predictions for CA ROI\n"
     ]
    },
    {
     "name": "stderr",
     "output_type": "stream",
     "text": [
      "100%|██████████| 18/18 [00:05<00:00,  3.09it/s]\n"
     ]
    },
    {
     "name": "stdout",
     "output_type": "stream",
     "text": [
      "\n",
      "\n",
      "Image analyzed: SHAM1_CONTRA_M6_S11_TR1\n",
      "Original Array shape: (4, 16, 2872, 2884)\n",
      "Compressed Array shape: (4, 16, 2872, 2884)\n",
      "Generating nuclei predictions for DG ROI\n"
     ]
    },
    {
     "name": "stderr",
     "output_type": "stream",
     "text": [
      "100%|██████████| 18/18 [00:06<00:00,  2.78it/s]\n",
      " 70%|██████▉   | 16/23 [28:42<11:12, 96.03s/it]"
     ]
    },
    {
     "name": "stdout",
     "output_type": "stream",
     "text": [
      "\n",
      "\n",
      "Image analyzed: SHAM1_CONTRA_M6_S11_TR2\n",
      "Original Array shape: (4, 14, 2878, 2875)\n",
      "Compressed Array shape: (4, 14, 2878, 2875)\n",
      "Generating nuclei predictions for CA ROI\n"
     ]
    },
    {
     "name": "stderr",
     "output_type": "stream",
     "text": [
      "100%|██████████| 18/18 [00:06<00:00,  2.60it/s]\n"
     ]
    },
    {
     "name": "stdout",
     "output_type": "stream",
     "text": [
      "\n",
      "\n",
      "Image analyzed: SHAM1_CONTRA_M6_S11_TR2\n",
      "Original Array shape: (4, 14, 2878, 2875)\n",
      "Compressed Array shape: (4, 14, 2878, 2875)\n",
      "Generating nuclei predictions for DG ROI\n"
     ]
    },
    {
     "name": "stderr",
     "output_type": "stream",
     "text": [
      "100%|██████████| 18/18 [00:07<00:00,  2.52it/s]\n",
      " 74%|███████▍  | 17/23 [31:07<11:04, 110.75s/it]"
     ]
    },
    {
     "name": "stdout",
     "output_type": "stream",
     "text": [
      "\n",
      "\n",
      "Image analyzed: SHAM1_CONTRA_M7_S11_TR1\n",
      "Original Array shape: (4, 15, 2884, 3805)\n",
      "Compressed Array shape: (4, 15, 2884, 3805)\n",
      "Generating nuclei predictions for CA ROI\n"
     ]
    },
    {
     "name": "stderr",
     "output_type": "stream",
     "text": [
      "100%|██████████| 18/18 [00:08<00:00,  2.08it/s]\n"
     ]
    },
    {
     "name": "stdout",
     "output_type": "stream",
     "text": [
      "\n",
      "\n",
      "Image analyzed: SHAM1_CONTRA_M7_S11_TR1\n",
      "Original Array shape: (4, 15, 2884, 3805)\n",
      "Compressed Array shape: (4, 15, 2884, 3805)\n",
      "Generating nuclei predictions for DG ROI\n"
     ]
    },
    {
     "name": "stderr",
     "output_type": "stream",
     "text": [
      "100%|██████████| 18/18 [00:07<00:00,  2.31it/s]\n",
      " 78%|███████▊  | 18/23 [34:38<11:44, 140.91s/it]"
     ]
    },
    {
     "name": "stdout",
     "output_type": "stream",
     "text": [
      "\n",
      "\n",
      "Image analyzed: SHAM1_CONTRA_M7_S11_TR2\n",
      "Original Array shape: (4, 14, 2877, 3808)\n",
      "Compressed Array shape: (4, 14, 2877, 3808)\n",
      "Generating nuclei predictions for CA ROI\n"
     ]
    },
    {
     "name": "stderr",
     "output_type": "stream",
     "text": [
      "100%|██████████| 18/18 [00:07<00:00,  2.35it/s]\n"
     ]
    },
    {
     "name": "stdout",
     "output_type": "stream",
     "text": [
      "\n",
      "\n",
      "Image analyzed: SHAM1_CONTRA_M7_S11_TR2\n",
      "Original Array shape: (4, 14, 2877, 3808)\n",
      "Compressed Array shape: (4, 14, 2877, 3808)\n",
      "Generating nuclei predictions for DG ROI\n"
     ]
    },
    {
     "name": "stderr",
     "output_type": "stream",
     "text": [
      "100%|██████████| 18/18 [00:07<00:00,  2.41it/s]\n",
      " 83%|████████▎ | 19/23 [37:44<10:18, 154.55s/it]"
     ]
    },
    {
     "name": "stdout",
     "output_type": "stream",
     "text": [
      "\n",
      "\n",
      "Image analyzed: SHAM1_IPSI_M6_S11_TR1\n",
      "Original Array shape: (4, 17, 3807, 3801)\n",
      "Compressed Array shape: (4, 17, 3807, 3801)\n",
      "Generating nuclei predictions for CA ROI\n"
     ]
    },
    {
     "name": "stderr",
     "output_type": "stream",
     "text": [
      "100%|██████████| 18/18 [00:18<00:00,  1.01s/it]\n"
     ]
    },
    {
     "name": "stdout",
     "output_type": "stream",
     "text": [
      "\n",
      "\n",
      "Image analyzed: SHAM1_IPSI_M6_S11_TR1\n",
      "Original Array shape: (4, 17, 3807, 3801)\n",
      "Compressed Array shape: (4, 17, 3807, 3801)\n",
      "Generating nuclei predictions for DG ROI\n"
     ]
    },
    {
     "name": "stderr",
     "output_type": "stream",
     "text": [
      "100%|██████████| 18/18 [00:16<00:00,  1.09it/s]\n",
      " 87%|████████▋ | 20/23 [40:08<07:33, 151.29s/it]"
     ]
    },
    {
     "name": "stdout",
     "output_type": "stream",
     "text": [
      "\n",
      "\n",
      "Image analyzed: SHAM1_IPSI_M6_S11_TR2\n",
      "Original Array shape: (4, 15, 2882, 2886)\n",
      "Compressed Array shape: (4, 15, 2882, 2886)\n",
      "Generating nuclei predictions for CA ROI\n"
     ]
    },
    {
     "name": "stderr",
     "output_type": "stream",
     "text": [
      "100%|██████████| 18/18 [00:06<00:00,  2.80it/s]\n"
     ]
    },
    {
     "name": "stdout",
     "output_type": "stream",
     "text": [
      "\n",
      "\n",
      "Image analyzed: SHAM1_IPSI_M6_S11_TR2\n",
      "Original Array shape: (4, 15, 2882, 2886)\n",
      "Compressed Array shape: (4, 15, 2882, 2886)\n",
      "Generating nuclei predictions for DG ROI\n"
     ]
    },
    {
     "name": "stderr",
     "output_type": "stream",
     "text": [
      "100%|██████████| 18/18 [00:05<00:00,  3.09it/s]\n",
      " 91%|█████████▏| 21/23 [42:04<04:41, 140.79s/it]"
     ]
    },
    {
     "name": "stdout",
     "output_type": "stream",
     "text": [
      "\n",
      "\n",
      "Image analyzed: SHAM1_IPSI_M7_S11_TR1\n",
      "Original Array shape: (4, 17, 2879, 3813)\n",
      "Compressed Array shape: (4, 17, 2879, 3813)\n",
      "Generating nuclei predictions for CA ROI\n"
     ]
    },
    {
     "name": "stderr",
     "output_type": "stream",
     "text": [
      "100%|██████████| 18/18 [00:11<00:00,  1.64it/s]\n"
     ]
    },
    {
     "name": "stdout",
     "output_type": "stream",
     "text": [
      "\n",
      "\n",
      "Image analyzed: SHAM1_IPSI_M7_S11_TR1\n",
      "Original Array shape: (4, 17, 2879, 3813)\n",
      "Compressed Array shape: (4, 17, 2879, 3813)\n",
      "Generating nuclei predictions for DG ROI\n"
     ]
    },
    {
     "name": "stderr",
     "output_type": "stream",
     "text": [
      "100%|██████████| 18/18 [00:09<00:00,  1.92it/s]\n",
      " 96%|█████████▌| 22/23 [44:30<02:22, 142.30s/it]"
     ]
    },
    {
     "name": "stdout",
     "output_type": "stream",
     "text": [
      "\n",
      "\n",
      "Image analyzed: SHAM1_IPSI_M7_S11_TR2\n",
      "Original Array shape: (4, 15, 2883, 2889)\n",
      "Compressed Array shape: (4, 15, 2883, 2889)\n",
      "Generating nuclei predictions for CA ROI\n"
     ]
    },
    {
     "name": "stderr",
     "output_type": "stream",
     "text": [
      "100%|██████████| 18/18 [00:05<00:00,  3.27it/s]\n"
     ]
    },
    {
     "name": "stdout",
     "output_type": "stream",
     "text": [
      "\n",
      "\n",
      "Image analyzed: SHAM1_IPSI_M7_S11_TR2\n",
      "Original Array shape: (4, 15, 2883, 2889)\n",
      "Compressed Array shape: (4, 15, 2883, 2889)\n",
      "Generating nuclei predictions for DG ROI\n"
     ]
    },
    {
     "name": "stderr",
     "output_type": "stream",
     "text": [
      "100%|██████████| 18/18 [00:06<00:00,  2.91it/s]\n",
      "100%|██████████| 23/23 [46:21<00:00, 120.93s/it]"
     ]
    },
    {
     "name": "stdout",
     "output_type": "stream",
     "text": [
      "\n",
      "Nuclei prediction completed\n"
     ]
    },
    {
     "name": "stderr",
     "output_type": "stream",
     "text": [
      "\n"
     ]
    }
   ],
   "source": [
    "# List of subfolder names\n",
    "try:\n",
    "    roi_names = [folder.name for folder in roi_path.iterdir() if folder.is_dir()]\n",
    "    print(f\"The following regions of interest will be analyzed: {roi_names}\")\n",
    "except FileNotFoundError:\n",
    "    roi_names = [\"full_image\"]\n",
    "\n",
    "for image in tqdm(images):\n",
    "    for roi_name in roi_names:\n",
    "        # Check if the prediction has already been generated\n",
    "        try:\n",
    "            file_path = Path(image)\n",
    "            filename = file_path.stem\n",
    "            tifffile.imread(directory_path / \"nuclei_preds\" / segmentation_type / model_name / roi_name / f\"{filename}.tiff\")\n",
    "            print(f\"\\nWARNING: Nuclei predictions already found for: {filename} ROI: {roi_name}\")\n",
    "            print(\"Make sure nuclei labels were generated using the same settings.\")\n",
    "            continue  # Skip to the next roi_name if the prediction exists\n",
    "        except FileNotFoundError:\n",
    "            pass  # Proceed to generate predictions if the file is not found\n",
    "\n",
    "        # Read image stack and extract filename\n",
    "        img, filename = read_image(image, slicing_factor)\n",
    "\n",
    "        # Slice the nuclei stack\n",
    "        nuclei_img = extract_nuclei_stack(img, nuclei_channel)\n",
    "\n",
    "        print(f\"Generating nuclei predictions for {roi_name} ROI\")\n",
    "\n",
    "        # Construct path to read ROI\n",
    "        roi_path = directory_path / \"ROIs\" / roi_name / f\"{filename}.tiff\"\n",
    "\n",
    "        try:\n",
    "            # Read the .tiff files containing the user-defined ROIs\n",
    "            roi = tifffile.imread(roi_path)\n",
    "\n",
    "            # We will create a mask where roi is greater than or equal to 1\n",
    "            mask = (roi >= 1).astype(np.uint8)\n",
    "\n",
    "            # 3D segmentation logic, extend 2D mask across the entire stack volume\n",
    "            if segmentation_type == \"3D\":\n",
    "                # Extract the number of z-slices to extend the mask\n",
    "                slice_nr = img.shape[1]\n",
    "\n",
    "                # Extend the mask across the entire volume\n",
    "                mask = np.tile(mask, (slice_nr, 1, 1))\n",
    "\n",
    "                # Apply the mask to nuclei_img and marker_img, setting all other pixels to 0\n",
    "                masked_nuclei_img = np.where(mask, nuclei_img, 0)\n",
    "            else:\n",
    "                # Apply the mask to nuclei_img and marker_img, setting all other pixels to 0\n",
    "                masked_nuclei_img = np.where(mask, nuclei_img, 0)\n",
    "\n",
    "        except FileNotFoundError:\n",
    "            # If no ROI is saved the script will predict nuclei in the entire nuclei_img input\n",
    "            masked_nuclei_img = nuclei_img\n",
    "\n",
    "        # Segment nuclei and return labels\n",
    "        nuclei_labels = segment_nuclei_3d(masked_nuclei_img, model, n_tiles)\n",
    "\n",
    "        # Save nuclei labels as .tiff files to reuse them later\n",
    "        # Create nuclei_predictions directory if it does not exist\n",
    "        try:\n",
    "            os.makedirs(directory_path / \"nuclei_preds\" / segmentation_type / model_name / roi_name)\n",
    "        except FileExistsError:\n",
    "            pass\n",
    "\n",
    "        # Construct path to store\n",
    "        nuclei_preds_path = directory_path / \"nuclei_preds\" / segmentation_type / model_name / roi_name / f\"{filename}.tiff\"\n",
    "\n",
    "        # Save nuclei labels as .tiff\n",
    "        tifffile.imwrite(nuclei_preds_path, nuclei_labels)\n",
    "\n",
    "print(\"\\nNuclei prediction completed\")\n",
    "\n"
   ]
  }
 ],
 "metadata": {
  "kernelspec": {
   "display_name": "brain_nuc_stardist",
   "language": "python",
   "name": "python3"
  },
  "language_info": {
   "codemirror_mode": {
    "name": "ipython",
    "version": 3
   },
   "file_extension": ".py",
   "mimetype": "text/x-python",
   "name": "python",
   "nbconvert_exporter": "python",
   "pygments_lexer": "ipython3",
   "version": "3.9.21"
  }
 },
 "nbformat": 4,
 "nbformat_minor": 2
}
