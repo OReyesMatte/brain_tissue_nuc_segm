{
 "cells": [
  {
   "cell_type": "markdown",
   "metadata": {},
   "source": [
    "<h2>Data Analysis - Batch Processing - Quantification of cell populations</h2>\n",
    "\n",
    "The following notebook is able to process the .csv files resulting from Batch Processing (Average Intensity or Colocalization) and:\n",
    "\n",
    "1. Define cell populations based on single or multiple markers (positive, negative or a combination of both)\n",
    "2. Plot resulting data using Plotly.\n",
    "3. Extract numbers of cells positive for a marker based on colocalization (using a user-defined threshold).\n",
    "4. Save results in .csv file (find a name for this)."
   ]
  },
  {
   "cell_type": "code",
   "execution_count": 41,
   "metadata": {},
   "outputs": [],
   "source": [
    "from pathlib import Path\n",
    "import pandas as pd\n",
    "import os \n",
    "# from utils_data_analysis"
   ]
  },
  {
   "cell_type": "code",
   "execution_count": 42,
   "metadata": {},
   "outputs": [],
   "source": [
    "# Define the path containing your results\n",
    "results_path = Path(\"./results/test_data/3D/MEC0.1\")\n",
    "\n",
    "# Input the method used to define cells as positive for a marker (\"avg_int\", \"coloc\") #TODO: \"pixel_class\"\n",
    "method = \"avg_int\"\n",
    "\n",
    "# Define the channels you want to analyze using the following structure:\n",
    "# markers = [(channel_name, channel_nr, cellular_location),(..., ..., ...)]\n",
    "markers = [(\"ki67\", 0, \"nucleus\"), (\"neun\", 1, \"nucleus\"), (\"calbindin\", 2, \"cytoplasm\")]\n",
    "\n",
    "# Define the min_max average intensity parameters to select your populations of interest\n",
    "# You have the possibility to define populations for the same marker (i.e. neun high and neun low)\n",
    "# max_values are set to 255 since the test input images are 8-bit, higher bit depths can result in higher max avg_int values\n",
    "min_max_per_marker = [\n",
    "    {\"marker\": \"ki67\", \"min_max\": (110,255), \"population\":\"ki67\"},\n",
    "    {\"marker\": \"neun\", \"min_max\": (20,80), \"population\":\"neun_low\"},\n",
    "    {\"marker\": \"neun\", \"min_max\": (80,255), \"population\":\"neun_high\"},\n",
    "    {\"marker\": \"calbindin\", \"min_max\": (10,255), \"population\":\"calbindin\"},]\n",
    "\n",
    "# Define cell populations based on multiple markers (i.e. double marker positive (True) or marker positive (True) and marker2 negative (False))\n",
    "# Based on populations in min_max_per_marker in case multiple pops per marker are defined, as in the case of \"neun\"\n",
    "# For cell_pop defined by a single populations marker add a + so it does not have the same name as population in min_max_per_marker\n",
    "cell_populations = [\n",
    "    {\"cell_pop\": \"neun_high+\", \"subpopulations\": [(\"neun_high\", True)]},\n",
    "    {\"cell_pop\": \"neun_low+\", \"subpopulations\": [(\"neun_low\", True)]},\n",
    "    {\"cell_pop\": \"non_prolif\", \"subpopulations\": [(\"ki67\", False)]},\n",
    "    {\"cell_pop\": \"prolif_neun_high\", \"subpopulations\": [(\"neun_high\", True), (\"ki67\", True)]},\n",
    "    {\"cell_pop\": \"prolif_neun_low\", \"subpopulations\": [(\"neun_low\", True), (\"ki67\", True)]},\n",
    "    {\"cell_pop\": \"non_prolif_neun_high\", \"subpopulations\": [(\"neun_high\", True), (\"ki67\", False)]},\n",
    "    {\"cell_pop\": \"non_prolif_neun_low\", \"subpopulations\": [(\"neun_low\", True), (\"ki67\", False)]},\n",
    "    {\"cell_pop\": \"neun_high_+_calbindin_+\", \"subpopulations\": [(\"neun_high\", True), (\"calbindin\", True)]},\n",
    "    {\"cell_pop\": \"neun_low_+_calbindin_+\", \"subpopulations\": [(\"neun_low\", True), (\"calbindin\", True)]},]"
   ]
  },
  {
   "cell_type": "code",
   "execution_count": 43,
   "metadata": {},
   "outputs": [],
   "source": [
    "def classify_cells(df, method, min_max_per_marker, cell_populations):\n",
    "\n",
    "    # Select all column names in 'final_df' that contain the substring method (i.e. 'avg_int')\n",
    "    avg_int_columns = [col for col in df.columns if method in col]\n",
    "\n",
    "    for marker_analysis in min_max_per_marker:\n",
    "\n",
    "        marker = marker_analysis[\"marker\"]\n",
    "        min_max_avg_int = marker_analysis[\"min_max\"]\n",
    "        population = marker_analysis[\"population\"]\n",
    "\n",
    "        # Retrieve the column name from which the avg_int values should be read\n",
    "        for column in avg_int_columns:\n",
    "            if marker in column:\n",
    "                column_name = column\n",
    "\n",
    "        # Define if each nuclei label is positive (True) or negative (False) for a particular marker/population\n",
    "        df[population] = (df[column_name] > min_max_avg_int[0]) & (df[column_name] < min_max_avg_int[1])\n",
    "\n",
    "    # Define populations based on subpopulations\n",
    "    for cell_population in cell_populations:\n",
    "        # Extract population name and \n",
    "        cell_pop_name = cell_population[\"cell_pop\"]\n",
    "        subpopulations = cell_population[\"subpopulations\"]\n",
    "        \n",
    "        # Initialize the column for this cell population and set all values to True\n",
    "        df[cell_pop_name] = True\n",
    "\n",
    "        # Loop through each subpopulation and its corresponding status (tuple)\n",
    "        for subpop, status in subpopulations:\n",
    "            # If the status is True, the cell should be positive for this subpopulation\n",
    "            if status:\n",
    "                # Perform a logical AND between the current column and the subpopulation column\n",
    "                # This keeps only the rows where both conditions are True\n",
    "                df[cell_pop_name] &= df[subpop]\n",
    "            else:\n",
    "                # If the status is False, the cell should be negative for this subpopulation\n",
    "                # Negate the subpopulation column and perform a logical AND\n",
    "                # This keeps only the rows where the subpopulation is False and the previous conditions are True\n",
    "                df[cell_pop_name] &= ~df[subpop]\n",
    "\n",
    "    return df"
   ]
  },
  {
   "cell_type": "code",
   "execution_count": 44,
   "metadata": {},
   "outputs": [
    {
     "data": {
      "text/plain": [
       "[WindowsPath('results/test_data/3D/MEC0.1/HI 1  Contralateral Mouse 8  slide 6 Neun Red Calb Green KI67 Magenta 40x technical replica 1_per_label_avg_int.csv'),\n",
       " WindowsPath('results/test_data/3D/MEC0.1/HI 1  Ipsilateral Mouse 8  slide 6 Neun Red Calb Green KI67 Magenta 40x technical replica 1_per_label_avg_int.csv')]"
      ]
     },
     "execution_count": 44,
     "metadata": {},
     "output_type": "execute_result"
    }
   ],
   "source": [
    "# Extract model_name and segmentation type from the results path\n",
    "\n",
    "model_name = results_path.parts[-1]\n",
    "segmentation_type = results_path.parts[-2]\n",
    "\n",
    "# Extract a list of filenames from the results path\n",
    "per_label_csvs = []\n",
    "\n",
    "for file_path in results_path.glob(\"*.csv\"):\n",
    "    if method in str(file_path) and \"BP\" not in str(file_path) and \"SP\" not in str(file_path):\n",
    "        per_label_csvs.append(file_path)\n",
    "\n",
    "per_label_csvs"
   ]
  },
  {
   "cell_type": "code",
   "execution_count": 45,
   "metadata": {},
   "outputs": [],
   "source": [
    "# Define the .csv path\n",
    "csv_path = results_path / f\"BP_populations_marker_+_label_avg_int.csv\"\n",
    "\n",
    "for csv in per_label_csvs:\n",
    "\n",
    "    # Read the original per_label .csv\n",
    "    df = pd.read_csv(csv, index_col=0)\n",
    "\n",
    "    # Classify cells based on subpopulations\n",
    "    df = classify_cells(df, method, min_max_per_marker, cell_populations)\n",
    "\n",
    "    # Append to the .csv with new data points each round\n",
    "    df.to_csv(csv_path, mode=\"a\", index=False, header=not os.path.isfile(csv_path))\n"
   ]
  },
  {
   "cell_type": "code",
   "execution_count": 46,
   "metadata": {},
   "outputs": [],
   "source": [
    "# Extract ROIs\n",
    "rois = list(df[\"ROI\"].unique())"
   ]
  }
 ],
 "metadata": {
  "kernelspec": {
   "display_name": "brain_nuc_stardist",
   "language": "python",
   "name": "python3"
  },
  "language_info": {
   "codemirror_mode": {
    "name": "ipython",
    "version": 3
   },
   "file_extension": ".py",
   "mimetype": "text/x-python",
   "name": "python",
   "nbconvert_exporter": "python",
   "pygments_lexer": "ipython3",
   "version": "3.9.21"
  }
 },
 "nbformat": 4,
 "nbformat_minor": 2
}
