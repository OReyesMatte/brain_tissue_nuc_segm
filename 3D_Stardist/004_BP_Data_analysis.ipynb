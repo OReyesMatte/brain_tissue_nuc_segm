{
 "cells": [
  {
   "cell_type": "markdown",
   "metadata": {},
   "source": [
    "<h2>Data Analysis - Batch Processing - Quantification of cell populations</h2>\n",
    "\n",
    "The following notebook is able to process the .csv files resulting from Batch Processing (Average Intensity or Colocalization) and:\n",
    "\n",
    "1. Define cell populations based on single or multiple markers (positive, negative or a combination of both)\n",
    "2. Plot resulting data using Plotly.\n",
    "3. Extract numbers of cells positive for a marker based on colocalization (using a user-defined threshold).\n",
    "4. Save results in .csv file (find a name for this)."
   ]
  },
  {
   "cell_type": "code",
   "execution_count": 1,
   "metadata": {},
   "outputs": [],
   "source": [
    "from pathlib import Path\n",
    "import pandas as pd\n",
    "# from utils_data_analysis"
   ]
  },
  {
   "cell_type": "code",
   "execution_count": 15,
   "metadata": {},
   "outputs": [],
   "source": [
    "# Define the path containing your results\n",
    "results_path = Path(\"./results/test_data/3D/MEC0.1\")\n",
    "\n",
    "# Input the method used to define cells as positive for a marker (\"avg_int\", \"coloc\") #TODO: \"pixel_class\"\n",
    "method = \"avg_int\"\n",
    "\n",
    "# Define the channels you want to analyze using the following structure:\n",
    "# markers = [(channel_name, channel_nr, cellular_location),(..., ..., ...)]\n",
    "markers = [(\"ki67\", 0, \"nucleus\"), (\"neun\", 1, \"nucleus\"), (\"calbindin\", 2, \"cytoplasm\")]\n",
    "\n",
    "# Define the min_max average intensity parameters to select your populations of interest\n",
    "# You have the possibility to define populations for the same marker (i.e. neun high and neun low)\n",
    "# max_values are set to 255 since the test input images are 8-bit, higher bit depths can result in higher max avg_int values\n",
    "min_max_per_marker = [\n",
    "    {\"marker\": \"ki67\", \"min_max\": (110,255), \"population\":\"ki67\"},\n",
    "    {\"marker\": \"neun\", \"min_max\": (20,80), \"population\":\"neun_low\"},\n",
    "    {\"marker\": \"neun\", \"min_max\": (80,255), \"population\":\"neun_high\"},\n",
    "    {\"marker\": \"calbindin\", \"min_max\": (10,255), \"population\":\"calbindin\"},]\n",
    "\n",
    "# Define cell populations based on multiple markers (i.e. double marker positive (True) or marker positive (True) and marker2 negative (False))\n",
    "# Based on populations in min_max_per_marker in case multiple pops per marker are defined, as in the case of \"neun\"\n",
    "cell_populations = [\n",
    "    {\"cell_pop\": \"neun_high\", \"populations\": [(\"neun_high\", True)]},\n",
    "    {\"cell_pop\": \"neun_low\", \"populations\": [(\"neun_low\", True)]},\n",
    "    {\"cell_pop\": \"non_prolif\", \"populations\": [(\"ki67\", False)]},\n",
    "    {\"cell_pop\": \"prolif_neun_high\", \"populations\": [(\"neun_high\", True), (\"ki67\", True)]},\n",
    "    {\"cell_pop\": \"prolif_neun_low\", \"populations\": [(\"neun_low\", True), (\"ki67\", True)]},\n",
    "    {\"cell_pop\": \"non_prolif_neun_high\", \"populations\": [(\"neun_high\", True), (\"ki67\", False)]},\n",
    "    {\"cell_pop\": \"non_prolif_neun_low\", \"populations\": [(\"neun_low\", True), (\"ki67\", False)]},\n",
    "    {\"cell_pop\": \"neun_high_+_calbindin_+\", \"populations\": [(\"neun_high\", True), (\"calbindin\", True)]},\n",
    "    {\"cell_pop\": \"neun_low_+_calbindin_+\", \"populations\": [(\"neun_low\", True), (\"calbindin\", True)]},]"
   ]
  },
  {
   "cell_type": "code",
   "execution_count": 22,
   "metadata": {},
   "outputs": [
    {
     "data": {
      "text/plain": [
       "[WindowsPath('results/test_data/3D/MEC0.1/HI 1  Contralateral Mouse 8  slide 6 Neun Red Calb Green KI67 Magenta 40x technical replica 1_per_label_avg_int.csv'),\n",
       " WindowsPath('results/test_data/3D/MEC0.1/HI 1  Ipsilateral Mouse 8  slide 6 Neun Red Calb Green KI67 Magenta 40x technical replica 1_per_label_avg_int.csv')]"
      ]
     },
     "execution_count": 22,
     "metadata": {},
     "output_type": "execute_result"
    }
   ],
   "source": [
    "# Extract model_name and segmentation type from the results path\n",
    "\n",
    "model_name = results_path.parts[-1]\n",
    "segmentation_type = results_path.parts[-2]\n",
    "\n",
    "# Extract a list of filenames from the results path\n",
    "per_label_csvs = []\n",
    "\n",
    "for file_path in results_path.glob(\"*.csv\"):\n",
    "    if method in str(file_path) and \"BP\" not in str(file_path) and \"SP\" not in str(file_path):\n",
    "        per_label_csvs.append(file_path)\n",
    "\n",
    "per_label_csvs"
   ]
  },
  {
   "cell_type": "code",
   "execution_count": 27,
   "metadata": {},
   "outputs": [
    {
     "data": {
      "text/plain": [
       "['CA', 'DG']"
      ]
     },
     "execution_count": 27,
     "metadata": {},
     "output_type": "execute_result"
    }
   ],
   "source": [
    "df = pd.read_csv(per_label_csvs[0], index_col=0)\n",
    "\n",
    "# Extract ROIs\n",
    "rois = list(df[\"ROI\"].unique())"
   ]
  },
  {
   "cell_type": "code",
   "execution_count": 28,
   "metadata": {},
   "outputs": [
    {
     "data": {
      "text/html": [
       "<div>\n",
       "<style scoped>\n",
       "    .dataframe tbody tr th:only-of-type {\n",
       "        vertical-align: middle;\n",
       "    }\n",
       "\n",
       "    .dataframe tbody tr th {\n",
       "        vertical-align: top;\n",
       "    }\n",
       "\n",
       "    .dataframe thead th {\n",
       "        text-align: right;\n",
       "    }\n",
       "</style>\n",
       "<table border=\"1\" class=\"dataframe\">\n",
       "  <thead>\n",
       "    <tr style=\"text-align: right;\">\n",
       "      <th></th>\n",
       "      <th>filename</th>\n",
       "      <th>ROI</th>\n",
       "      <th>label</th>\n",
       "      <th>nucleus_ki67_avg_int</th>\n",
       "      <th>nucleus_neun_avg_int</th>\n",
       "      <th>cytoplasm_calbindin_avg_int</th>\n",
       "    </tr>\n",
       "  </thead>\n",
       "  <tbody>\n",
       "    <tr>\n",
       "      <th>0</th>\n",
       "      <td>HI 1  Contralateral Mouse 8  slide 6 Neun Red ...</td>\n",
       "      <td>CA</td>\n",
       "      <td>1</td>\n",
       "      <td>90.665614</td>\n",
       "      <td>191.079125</td>\n",
       "      <td>21.777857</td>\n",
       "    </tr>\n",
       "    <tr>\n",
       "      <th>1</th>\n",
       "      <td>HI 1  Contralateral Mouse 8  slide 6 Neun Red ...</td>\n",
       "      <td>CA</td>\n",
       "      <td>2</td>\n",
       "      <td>67.898912</td>\n",
       "      <td>88.685856</td>\n",
       "      <td>10.829655</td>\n",
       "    </tr>\n",
       "    <tr>\n",
       "      <th>2</th>\n",
       "      <td>HI 1  Contralateral Mouse 8  slide 6 Neun Red ...</td>\n",
       "      <td>CA</td>\n",
       "      <td>3</td>\n",
       "      <td>83.431005</td>\n",
       "      <td>151.437089</td>\n",
       "      <td>20.449377</td>\n",
       "    </tr>\n",
       "    <tr>\n",
       "      <th>3</th>\n",
       "      <td>HI 1  Contralateral Mouse 8  slide 6 Neun Red ...</td>\n",
       "      <td>CA</td>\n",
       "      <td>4</td>\n",
       "      <td>72.215565</td>\n",
       "      <td>136.073774</td>\n",
       "      <td>18.086357</td>\n",
       "    </tr>\n",
       "    <tr>\n",
       "      <th>4</th>\n",
       "      <td>HI 1  Contralateral Mouse 8  slide 6 Neun Red ...</td>\n",
       "      <td>CA</td>\n",
       "      <td>5</td>\n",
       "      <td>89.546484</td>\n",
       "      <td>149.361235</td>\n",
       "      <td>20.512121</td>\n",
       "    </tr>\n",
       "    <tr>\n",
       "      <th>...</th>\n",
       "      <td>...</td>\n",
       "      <td>...</td>\n",
       "      <td>...</td>\n",
       "      <td>...</td>\n",
       "      <td>...</td>\n",
       "      <td>...</td>\n",
       "    </tr>\n",
       "    <tr>\n",
       "      <th>3535</th>\n",
       "      <td>HI 1  Contralateral Mouse 8  slide 6 Neun Red ...</td>\n",
       "      <td>DG</td>\n",
       "      <td>2100</td>\n",
       "      <td>68.080780</td>\n",
       "      <td>38.710306</td>\n",
       "      <td>4.465306</td>\n",
       "    </tr>\n",
       "    <tr>\n",
       "      <th>3536</th>\n",
       "      <td>HI 1  Contralateral Mouse 8  slide 6 Neun Red ...</td>\n",
       "      <td>DG</td>\n",
       "      <td>2101</td>\n",
       "      <td>77.199660</td>\n",
       "      <td>28.836075</td>\n",
       "      <td>5.104869</td>\n",
       "    </tr>\n",
       "    <tr>\n",
       "      <th>3537</th>\n",
       "      <td>HI 1  Contralateral Mouse 8  slide 6 Neun Red ...</td>\n",
       "      <td>DG</td>\n",
       "      <td>2102</td>\n",
       "      <td>55.474522</td>\n",
       "      <td>34.073248</td>\n",
       "      <td>3.339535</td>\n",
       "    </tr>\n",
       "    <tr>\n",
       "      <th>3538</th>\n",
       "      <td>HI 1  Contralateral Mouse 8  slide 6 Neun Red ...</td>\n",
       "      <td>DG</td>\n",
       "      <td>2103</td>\n",
       "      <td>59.618042</td>\n",
       "      <td>39.621881</td>\n",
       "      <td>4.599237</td>\n",
       "    </tr>\n",
       "    <tr>\n",
       "      <th>3539</th>\n",
       "      <td>HI 1  Contralateral Mouse 8  slide 6 Neun Red ...</td>\n",
       "      <td>DG</td>\n",
       "      <td>2104</td>\n",
       "      <td>61.880342</td>\n",
       "      <td>12.982906</td>\n",
       "      <td>3.162850</td>\n",
       "    </tr>\n",
       "  </tbody>\n",
       "</table>\n",
       "<p>3540 rows × 6 columns</p>\n",
       "</div>"
      ],
      "text/plain": [
       "                                               filename ROI  label  \\\n",
       "0     HI 1  Contralateral Mouse 8  slide 6 Neun Red ...  CA      1   \n",
       "1     HI 1  Contralateral Mouse 8  slide 6 Neun Red ...  CA      2   \n",
       "2     HI 1  Contralateral Mouse 8  slide 6 Neun Red ...  CA      3   \n",
       "3     HI 1  Contralateral Mouse 8  slide 6 Neun Red ...  CA      4   \n",
       "4     HI 1  Contralateral Mouse 8  slide 6 Neun Red ...  CA      5   \n",
       "...                                                 ...  ..    ...   \n",
       "3535  HI 1  Contralateral Mouse 8  slide 6 Neun Red ...  DG   2100   \n",
       "3536  HI 1  Contralateral Mouse 8  slide 6 Neun Red ...  DG   2101   \n",
       "3537  HI 1  Contralateral Mouse 8  slide 6 Neun Red ...  DG   2102   \n",
       "3538  HI 1  Contralateral Mouse 8  slide 6 Neun Red ...  DG   2103   \n",
       "3539  HI 1  Contralateral Mouse 8  slide 6 Neun Red ...  DG   2104   \n",
       "\n",
       "      nucleus_ki67_avg_int  nucleus_neun_avg_int  cytoplasm_calbindin_avg_int  \n",
       "0                90.665614            191.079125                    21.777857  \n",
       "1                67.898912             88.685856                    10.829655  \n",
       "2                83.431005            151.437089                    20.449377  \n",
       "3                72.215565            136.073774                    18.086357  \n",
       "4                89.546484            149.361235                    20.512121  \n",
       "...                    ...                   ...                          ...  \n",
       "3535             68.080780             38.710306                     4.465306  \n",
       "3536             77.199660             28.836075                     5.104869  \n",
       "3537             55.474522             34.073248                     3.339535  \n",
       "3538             59.618042             39.621881                     4.599237  \n",
       "3539             61.880342             12.982906                     3.162850  \n",
       "\n",
       "[3540 rows x 6 columns]"
      ]
     },
     "execution_count": 28,
     "metadata": {},
     "output_type": "execute_result"
    }
   ],
   "source": [
    "df"
   ]
  },
  {
   "cell_type": "code",
   "execution_count": null,
   "metadata": {},
   "outputs": [],
   "source": [
    "for roi_name in rois:\n",
    "\n",
    "    "
   ]
  }
 ],
 "metadata": {
  "kernelspec": {
   "display_name": "brain_nuc_stardist",
   "language": "python",
   "name": "python3"
  },
  "language_info": {
   "codemirror_mode": {
    "name": "ipython",
    "version": 3
   },
   "file_extension": ".py",
   "mimetype": "text/x-python",
   "name": "python",
   "nbconvert_exporter": "python",
   "pygments_lexer": "ipython3",
   "version": "3.9.21"
  }
 },
 "nbformat": 4,
 "nbformat_minor": 2
}
