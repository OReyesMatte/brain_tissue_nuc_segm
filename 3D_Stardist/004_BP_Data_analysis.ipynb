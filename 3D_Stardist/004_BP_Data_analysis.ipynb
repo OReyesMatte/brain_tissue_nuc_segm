{
 "cells": [
  {
   "cell_type": "markdown",
   "metadata": {},
   "source": [
    "<h2>Data Analysis - Batch Processing - Quantification of cell populations</h2>\n",
    "\n",
    "The following notebook is able to process the .csv files resulting from Batch Processing (Average Intensity or Colocalization) and:\n",
    "\n",
    "1. Define cell populations based on single or multiple markers (positive, negative or a combination of both)\n",
    "2. Plot resulting data using Plotly.\n",
    "3. Extract numbers of cells positive for a marker based on colocalization (using a user-defined threshold).\n",
    "4. Aggregate all per labels results in a single .csv file (\"BP_populations_marker_+_summary_{method}.csv\")\n",
    "4. Save summary % results on a cell population basis in .csv file (\"BP_populations_marker_+_summary_{method}.csv\")."
   ]
  },
  {
   "cell_type": "code",
   "execution_count": 11,
   "metadata": {},
   "outputs": [],
   "source": [
    "from pathlib import Path\n",
    "from utils_data_analysis import calculate_perc_pops, plot_perc_pop_per_filename_roi"
   ]
  },
  {
   "cell_type": "code",
   "execution_count": 12,
   "metadata": {},
   "outputs": [],
   "source": [
    "# Define the path containing your results\n",
    "results_path = Path(\"./results/test_data/3D/MEC0.1\")\n",
    "\n",
    "# Input the method used to define cells as positive for a marker (\"avg_int\", \"coloc\") #TODO: \"pixel_class\"\n",
    "method = \"avg_int\"\n",
    "\n",
    "# Define the channels you want to analyze using the following structure:\n",
    "# markers = [(channel_name, channel_nr, cellular_location),(..., ..., ...)]\n",
    "markers = [(\"ki67\", 0, \"nucleus\"), (\"neun\", 1, \"nucleus\"), (\"calbindin\", 2, \"cytoplasm\")]\n",
    "\n",
    "# Define the min_max average intensity parameters to select your populations of interest\n",
    "# You have the possibility to define populations for the same marker (i.e. neun high and neun low)\n",
    "# max_values are set to 255 since the test input images are 8-bit, higher bit depths can result in higher max avg_int values\n",
    "min_max_per_marker = [\n",
    "    {\"marker\": \"ki67\", \"min_max\": (110,255), \"population\":\"ki67\"},\n",
    "    {\"marker\": \"neun\", \"min_max\": (20,80), \"population\":\"neun_low\"},\n",
    "    {\"marker\": \"neun\", \"min_max\": (80,255), \"population\":\"neun_high\"},\n",
    "    {\"marker\": \"calbindin\", \"min_max\": (10,255), \"population\":\"calbindin\"},]\n",
    "\n",
    "# Define cell populations based on multiple markers (i.e. double marker positive (True) or marker positive (True) and marker2 negative (False))\n",
    "# Based on populations in min_max_per_marker in case multiple pops per marker are defined, as in the case of \"neun\"\n",
    "# For cell_pop defined by a single populations marker add a + so it does not have the same name as population in min_max_per_marker\n",
    "cell_populations = [\n",
    "    {\"cell_pop\": \"neun_high+\", \"subpopulations\": [(\"neun_high\", True)]},\n",
    "    {\"cell_pop\": \"neun_low+\", \"subpopulations\": [(\"neun_low\", True)]},\n",
    "    {\"cell_pop\": \"non_prolif\", \"subpopulations\": [(\"ki67\", False)]},\n",
    "    {\"cell_pop\": \"prolif_neun_high\", \"subpopulations\": [(\"neun_high\", True), (\"ki67\", True)]},\n",
    "    {\"cell_pop\": \"prolif_neun_low\", \"subpopulations\": [(\"neun_low\", True), (\"ki67\", True)]},\n",
    "    {\"cell_pop\": \"non_prolif_neun_high\", \"subpopulations\": [(\"neun_high\", True), (\"ki67\", False)]},\n",
    "    {\"cell_pop\": \"non_prolif_neun_low\", \"subpopulations\": [(\"neun_low\", True), (\"ki67\", False)]},\n",
    "    {\"cell_pop\": \"neun_high_+_calbindin_+\", \"subpopulations\": [(\"neun_high\", True), (\"calbindin\", True)]},\n",
    "    {\"cell_pop\": \"neun_low_+_calbindin_+\", \"subpopulations\": [(\"neun_low\", True), (\"calbindin\", True)]},]"
   ]
  },
  {
   "cell_type": "code",
   "execution_count": null,
   "metadata": {},
   "outputs": [],
   "source": [
    "# Extract model and segmentation type from results Path\n",
    "# Calculate percentages of each cell population, save them as a summary .csv\n",
    "percentage_true, model_name, segmentation_type = calculate_perc_pops(results_path, method, min_max_per_marker, cell_populations)\n",
    "\n",
    "percentage_true"
   ]
  },
  {
   "cell_type": "code",
   "execution_count": null,
   "metadata": {},
   "outputs": [],
   "source": [
    "# Plot the resulting cell population percentages of a per filename per ROI basis\n",
    "plot_perc_pop_per_filename_roi(percentage_true, model_name, segmentation_type)"
   ]
  }
 ],
 "metadata": {
  "kernelspec": {
   "display_name": "brain_nuc_cellpose",
   "language": "python",
   "name": "python3"
  },
  "language_info": {
   "codemirror_mode": {
    "name": "ipython",
    "version": 3
   },
   "file_extension": ".py",
   "mimetype": "text/x-python",
   "name": "python",
   "nbconvert_exporter": "python",
   "pygments_lexer": "ipython3",
   "version": "3.11.11"
  }
 },
 "nbformat": 4,
 "nbformat_minor": 2
}
