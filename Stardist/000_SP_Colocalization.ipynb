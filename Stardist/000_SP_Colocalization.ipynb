{
 "cells": [
  {
   "cell_type": "markdown",
   "metadata": {},
   "source": [
    "<h2>3D stack - Single image - Marker+ based on colocalization</h2>\n",
    "\n",
    "The following notebook is able to process a 3D stack (.czi or .nd2 files) and allows you to:\n",
    "\n",
    "1. Inspect your images in Napari.\n",
    "2. Define regions of interest (ROIs) using labels in Napari. Store said ROIs as .tiff files if needed.\n",
    "3. Predict nuclei labels and store them as .tiff files for further processing.\n",
    "4. Extract numbers of cells positive for a marker based on colocalization (using a user-defined min_max range).\n",
    "5. Display positive cells in Napari.\n",
    "6. Extract and save number of positive cells in a .csv file (SP_marker_+_label_coloc)."
   ]
  },
  {
   "cell_type": "code",
   "execution_count": 1,
   "metadata": {},
   "outputs": [
    {
     "name": "stdout",
     "output_type": "stream",
     "text": [
      "Device name: /device:GPU:0\n",
      "Device type: GPU\n",
      "GPU model: device: 0, name: NVIDIA GeForce RTX 4090, pci bus id: 0000:01:00.0, compute capability: 8.9\n"
     ]
    },
    {
     "data": {
      "text/plain": [
       "<NVIDIA GeForce RTX 4090 on Platform: NVIDIA CUDA (1 refs)>"
      ]
     },
     "execution_count": 1,
     "metadata": {},
     "output_type": "execute_result"
    }
   ],
   "source": [
    "from pathlib import Path\n",
    "import tifffile\n",
    "import napari\n",
    "import os\n",
    "from tqdm import tqdm\n",
    "import numpy as np\n",
    "import pandas as pd\n",
    "import pyclesperanto_prototype as cle\n",
    "from utils_stardist import get_gpu_details, list_images, read_image, extract_nuclei_stack, get_stardist_model, maximum_intensity_projection, save_rois, simulate_cytoplasm_chunked_3d, simulate_cell_chunked_3d, simulate_cytoplasm, simulate_cell, segment_marker_positive_labels, segment_nuclei, remove_labels_touching_roi_edge\n",
    "\n",
    "get_gpu_details()\n",
    "cle.select_device(\"RTX\")"
   ]
  },
  {
   "cell_type": "markdown",
   "metadata": {},
   "source": [
    "<h3>Define the directory where your images are stored (.nd2 or .czi files)</h3>"
   ]
  },
  {
   "cell_type": "code",
   "execution_count": 2,
   "metadata": {},
   "outputs": [
    {
     "data": {
      "text/plain": [
       "['..\\\\raw_data\\\\test_data\\\\HI1_CONTRA_M8_S6_TR1.czi',\n",
       " '..\\\\raw_data\\\\test_data\\\\HI1_CONTRA_M8_S6_TR2.czi',\n",
       " '..\\\\raw_data\\\\test_data\\\\HI1_CONTRA_M8_S7_TR1.czi',\n",
       " '..\\\\raw_data\\\\test_data\\\\HI1_CONTRA_M8_S7_TR2.czi',\n",
       " '..\\\\raw_data\\\\test_data\\\\HI1_IPSI_M8_S6_TR1.czi',\n",
       " '..\\\\raw_data\\\\test_data\\\\HI1_IPSI_M8_S6_TR2.czi',\n",
       " '..\\\\raw_data\\\\test_data\\\\HI1_IPSI_M8_S7_TR1.czi',\n",
       " '..\\\\raw_data\\\\test_data\\\\HI2_CONTRA_M10_S10_TR1.czi',\n",
       " '..\\\\raw_data\\\\test_data\\\\HI2_CONTRA_M10_S10_TR2.czi',\n",
       " '..\\\\raw_data\\\\test_data\\\\HI2_IPSI_M10_S10_TR1.czi',\n",
       " '..\\\\raw_data\\\\test_data\\\\HI2_IPSI_M10_S10_TR2.czi',\n",
       " '..\\\\raw_data\\\\test_data\\\\HI3_CONTRA_M11_S10_TR1.czi',\n",
       " '..\\\\raw_data\\\\test_data\\\\HI3_CONTRA_M11_S10_TR2.czi',\n",
       " '..\\\\raw_data\\\\test_data\\\\HI3_IPSI_M11_S10_TR1.czi',\n",
       " '..\\\\raw_data\\\\test_data\\\\HI3_IPSI_M11_S10_TR2.czi',\n",
       " '..\\\\raw_data\\\\test_data\\\\SHAM1_CONTRA_M6_S11_TR1.czi',\n",
       " '..\\\\raw_data\\\\test_data\\\\SHAM1_CONTRA_M6_S11_TR2.czi',\n",
       " '..\\\\raw_data\\\\test_data\\\\SHAM1_CONTRA_M7_S11_TR1.czi',\n",
       " '..\\\\raw_data\\\\test_data\\\\SHAM1_CONTRA_M7_S11_TR2.czi',\n",
       " '..\\\\raw_data\\\\test_data\\\\SHAM1_IPSI_M6_S11_TR1.czi',\n",
       " '..\\\\raw_data\\\\test_data\\\\SHAM1_IPSI_M6_S11_TR2.czi',\n",
       " '..\\\\raw_data\\\\test_data\\\\SHAM1_IPSI_M7_S11_TR1.czi',\n",
       " '..\\\\raw_data\\\\test_data\\\\SHAM1_IPSI_M7_S11_TR2.czi']"
      ]
     },
     "execution_count": 2,
     "metadata": {},
     "output_type": "execute_result"
    }
   ],
   "source": [
    "# Copy the path where your images are stored, you can use absolute or relative paths to point at other disk locations\n",
    "directory_path = Path(\"../raw_data/test_data\")\n",
    "\n",
    "# Define the channels you want to analyze using the following structure:\n",
    "# markers = [(channel_name, channel_nr, cellular_location),(..., ..., ...)]\n",
    "# cellular locations can be \"nucleus\", \"cytoplasm\" or \"cell\" (cell being the sum volume of nucleus and cytoplasm)\n",
    "# Remember in Python one starts counting from 0, so your first channel will be 0\n",
    "# i.e. markers = [(\"ki67\", 0, \"nucleus\"), (\"neun\", 1, \"cell\"), (\"calbindin\", 2, \"cytoplasm\")]\n",
    "markers = [(\"ki67\", 0, \"nucleus\"), (\"neun\", 1, \"cell\"), (\"calbindin\", 2, \"cytoplasm\")]\n",
    "\n",
    "# Iterate through the .czi and .nd2 files in the directory\n",
    "images = list_images(directory_path)\n",
    "\n",
    "images"
   ]
  },
  {
   "cell_type": "markdown",
   "metadata": {},
   "source": [
    "<h3>Open each image in the directory</h3>\n",
    "You can do so by changing the number within the brackets below <code>image = images[0]</code>. By changing the <code>slicing factor</code> you lose resolution but speed up processing times (check the results).\n",
    "\n",
    "If you have not generated nuclei predictions before, input <code>nuclei_channel</code>, <code>n_tiles</code>, <code>segmentation_type</code> and <code>model_name</code> values."
   ]
  },
  {
   "cell_type": "code",
   "execution_count": null,
   "metadata": {},
   "outputs": [
    {
     "name": "stdout",
     "output_type": "stream",
     "text": [
      "Loading 3D segmentation model\n",
      "Loading network weights from 'weights_best.h5'.\n",
      "Loading thresholds from 'thresholds.json'.\n",
      "Using default values: prob_thresh=0.583933, nms_thresh=0.3.\n",
      "\n",
      "\n",
      "Image analyzed: HI1_CONTRA_M8_S6_TR1\n",
      "Original Array shape: (4, 14, 3803, 2891)\n",
      "Compressed Array shape: (4, 14, 3803, 2891)\n"
     ]
    },
    {
     "data": {
      "text/plain": [
       "<Image layer 'img_mip' at 0x20dabf03220>"
      ]
     },
     "execution_count": 3,
     "metadata": {},
     "output_type": "execute_result"
    }
   ],
   "source": [
    "# Explore each image to analyze (0 defines the first image in the directory)\n",
    "image = images[0]\n",
    "\n",
    "# Image size reduction (downsampling) to improve processing times (slicing, not lossless compression)\n",
    "# Now, in addition to xy, you can downsample across your z-stack\n",
    "slicing_factor_xy = None # Use 2 or 4 for downsampling in xy (None for lossless)\n",
    "slicing_factor_z = None # Use 2 to select 1 out of every 2 z-slices\n",
    "\n",
    "# Define the nuclei and markers of interest channel order ('Remember in Python one starts counting from zero')\n",
    "nuclei_channel = 3\n",
    "\n",
    "# The n_tiles parameter defines the number of tiles the input volume/image will be divided into along each dimension (z, y, x) during prediction. \n",
    "# This is useful for processing large images that may not fit into memory at once.\n",
    "# While tiling can handle memory limitations, chopping the image into smaller chunks increases\n",
    "# the processing time for stitching the predictions back together. \n",
    "# Use n_tiles=(1, 1, 1) if the input volume fits in memory without tiling to minimize processing overhead.\n",
    "n_tiles=(1,4,4)\n",
    "\n",
    "# Segmentation type (\"2D\" or \"3D\"). \n",
    "# 2D takes a z-stack as input, performs MIP (Maximum Intensity Projection) and predicts nuclei from the resulting projection (faster, useful for single layers of cells)\n",
    "# 3D is more computationally expensive. Predicts 3D nuclear volumes, useful for multilayered structures\n",
    "segmentation_type = \"3D\"\n",
    "\n",
    "# Nuclear segmentation model type (\"Stardist\")\n",
    "# Choose your Stardist fine-tuned model (model_name) from stardist_models folder\n",
    "# If no custom model is present, type \"test\" and a standard pre-trained model will be loaded\n",
    "model_name = \"MEC0.1\" # Type \"test\" if you don't have a custom model trained\n",
    "\n",
    "# Read image, apply slicing if needed and return filename and img as a np array\n",
    "img, filename = read_image(image, slicing_factor_xy, slicing_factor_z)\n",
    "\n",
    "# Slice the nuclei stack\n",
    "nuclei_img = extract_nuclei_stack(img, nuclei_channel)\n",
    "\n",
    "# Generate maximum intensity projection \n",
    "img_mip = maximum_intensity_projection(img)\n",
    "\n",
    "# Show image in Napari\n",
    "viewer = napari.Viewer(ndisplay=2)\n",
    "viewer.add_image(img_mip)"
   ]
  },
  {
   "cell_type": "markdown",
   "metadata": {},
   "source": [
    "<h3>Label your regions of interest in Napari and explore the signal of your marker of interest</h3>\n",
    "\n",
    "Make sure to set <code>n edit dim = 3</code> so the label propagates across all channels. Name your regions of interest as i.e. <code>DG</code>, <code>CA1</code>, <code>CA3</code> or <code>HIPPO</code>. If you do not draw any ROI the entire image will be analyzed.\n",
    "\n",
    "Fnally, select the <code>img_mip</code> layer and play with the contrast limit to later set a min_max range of intensities within which cells will be considered positive for said marker."
   ]
  },
  {
   "cell_type": "markdown",
   "metadata": {},
   "source": [
    "<video controls>\n",
    "  <source src=\"../assets/napari_labels.mp4\" type=\"video/mp4\">\n",
    "  Your browser does not support the video tag.\n",
    "</video>"
   ]
  },
  {
   "cell_type": "markdown",
   "metadata": {},
   "source": [
    "<h3>Save user-defined label ROIs as .tiff files</h3>"
   ]
  },
  {
   "cell_type": "code",
   "execution_count": null,
   "metadata": {},
   "outputs": [],
   "source": [
    "save_rois(viewer, directory_path, filename)"
   ]
  },
  {
   "cell_type": "markdown",
   "metadata": {},
   "source": [
    "<h3>Define your analysis parameters</h3>\n",
    "\n",
    "Modify the values for <code>nuclei_channel</code>, <code>marker_name</code>, <code>min_max_range</code> and <code>erosion_factor</code>\n",
    "\n",
    "Define marker <code>location</code> as either \"cytoplasm\" or \"nucleus\", and the <code>cytoplasm_dil_radius</code>."
   ]
  },
  {
   "cell_type": "code",
   "execution_count": 4,
   "metadata": {},
   "outputs": [
    {
     "data": {
      "text/plain": [
       "[('ki67', 0, 'nucleus'), ('neun', 1, 'cell'), ('calbindin', 2, 'cytoplasm')]"
      ]
     },
     "execution_count": 4,
     "metadata": {},
     "output_type": "execute_result"
    }
   ],
   "source": [
    "# You can choose markers from the following list\n",
    "markers"
   ]
  },
  {
   "cell_type": "code",
   "execution_count": null,
   "metadata": {},
   "outputs": [
    {
     "name": "stdout",
     "output_type": "stream",
     "text": [
      "Highest intensity value in your marker image: 255\n"
     ]
    }
   ],
   "source": [
    "# Type the marker you want to analyze from the list above\n",
    "marker_name = 'calbindin'\n",
    "\n",
    "# Define the pixel intensity min_max range within which a cell is considered positive for a marker\n",
    "# Useful for i.e. ignoring unspecific bright spots\n",
    "# Be aware of the bit depth of your images (8-bit, 12-bit and 16-bit have different max intensity values)\n",
    "min_max_range = (65, 255)\n",
    "\n",
    "# Sets the amount of erosion that is applied to areas where the marker+ signal colocalizes with nuclear signal\n",
    "# The higher the value, the stricter the conditions to consider a nuclei as marker+ \n",
    "erosion_factor = 4 #min_value is 2\n",
    "\n",
    "# Define the amount of pixels you want to add around the nuclei to simulate the cytoplasm\n",
    "cytoplasm_dilation_radius = 2\n",
    "\n",
    "# Retrieve the first and second values (channel and location) of the corresponding tuple in markers\n",
    "for item in markers:\n",
    "    if item[0] == marker_name:\n",
    "        marker_channel = item[1]\n",
    "        location = item[2]\n",
    "        break  # Stop searching once the marker is found\n",
    "\n",
    "# Slice marker stack\n",
    "marker_img = img[marker_channel, :, :, :]\n",
    "\n",
    "# Highest intensity value in your marker_img\n",
    "print(f\"Highest intensity value in your marker image: {np.max(marker_img)}\")"
   ]
  },
  {
   "cell_type": "markdown",
   "metadata": {},
   "source": [
    "<h3>Mask the input image with the user defined labels and extract data</h3>"
   ]
  },
  {
   "cell_type": "code",
   "execution_count": null,
   "metadata": {},
   "outputs": [
    {
     "name": "stdout",
     "output_type": "stream",
     "text": [
      "The following regions of interest will be analyzed: ['CA', 'DG']\n"
     ]
    },
    {
     "name": "stderr",
     "output_type": "stream",
     "text": [
      "  0%|          | 0/2 [00:00<?, ?it/s]"
     ]
    },
    {
     "name": "stdout",
     "output_type": "stream",
     "text": [
      "\n",
      "Analyzing ROI: CA\n",
      "Pre-computed nuclei labels found for HI1_CONTRA_M8_S6_TR1\n",
      "Removing nuclei labels touching ROI edge\n",
      "Generating 3D cytoplasm labels for: calbindin\n",
      "1509 1509\n"
     ]
    },
    {
     "name": "stderr",
     "output_type": "stream",
     "text": [
      " 50%|█████     | 1/2 [00:09<00:09,  9.14s/it]"
     ]
    },
    {
     "name": "stdout",
     "output_type": "stream",
     "text": [
      "\n",
      "Analyzing ROI: DG\n",
      "Pre-computed nuclei labels found for HI1_CONTRA_M8_S6_TR1\n",
      "Removing nuclei labels touching ROI edge\n",
      "Generating 3D cytoplasm labels for: calbindin\n",
      "2164 2164\n"
     ]
    },
    {
     "name": "stderr",
     "output_type": "stream",
     "text": [
      "100%|██████████| 2/2 [00:18<00:00,  9.04s/it]\n"
     ]
    }
   ],
   "source": [
    "# Add the 3D-stack into Napari\n",
    "if segmentation_type == \"3D\":\n",
    "    # Remove the 'img_mip' layer if it exists\n",
    "    if 'img_mip' in viewer.layers:\n",
    "        viewer.layers.remove('img_mip')\n",
    "    # Add the 'img' stack\n",
    "    viewer.add_image(img)\n",
    "\n",
    "# If 3D-segmentation input nuclei_img is a 3D-stack\n",
    "if segmentation_type == \"3D\":\n",
    "    # Slice the nuclei stack\n",
    "    nuclei_img = extract_nuclei_stack(img, nuclei_channel)\n",
    "\n",
    "# If 2D-segmentation input nuclei_img is a max intensity projection of said 3D-stack\n",
    "elif segmentation_type == \"2D\":\n",
    "    # Slice the nuclei stack\n",
    "    nuclei_img = extract_nuclei_stack(img, nuclei_channel)\n",
    "    nuclei_img = np.max(nuclei_img, axis=0)\n",
    "\n",
    "# Construct ROI and nuclei predictions paths from directory_path above\n",
    "roi_path = directory_path / \"ROIs\"\n",
    "nuclei_preds_path =  directory_path / \"nuclei_preds\" / segmentation_type / model_name\n",
    "\n",
    "# Extract the experiment name from the data directory path\n",
    "experiment_id = directory_path.name\n",
    "\n",
    "# List of subfolder names\n",
    "try:\n",
    "    roi_names = [folder.name for folder in roi_path.iterdir() if folder.is_dir()]\n",
    "\n",
    "except FileNotFoundError:\n",
    "    roi_names = [\"full_image\"]\n",
    "        \n",
    "print(f\"The following regions of interest will be analyzed: {roi_names}\")\n",
    "\n",
    "# Create an empty list to store all stats extracted from each image\n",
    "stats = []\n",
    "\n",
    "for roi_name in tqdm(roi_names):\n",
    "    print(f\"\\nAnalyzing ROI: {roi_name}\")\n",
    "\n",
    "    # Read the user defined ROIs, in case of full image analysis generate a label covering the entire image\n",
    "    try:\n",
    "        # Read previously defined ROIs\n",
    "        user_roi = tifffile.imread(roi_path / roi_name / f\"{filename}.tiff\")\n",
    "\n",
    "    except FileNotFoundError:\n",
    "        # Extract the xy dimensions of the input image \n",
    "        img_shape = img_mip.shape\n",
    "        img_xy_dims = img_shape[-2:]\n",
    "\n",
    "        # Create a label covering the entire image\n",
    "        user_roi = np.ones(img_xy_dims).astype(np.uint8)\n",
    "\n",
    "    # Read previously predicted nuclei labels, if not present generate nuclei predictions and save them\n",
    "    try:\n",
    "        # Read the nuclei predictions per ROI\n",
    "        nuclei_labels = tifffile.imread(nuclei_preds_path / roi_name / f\"{filename}.tiff\")\n",
    "        print(f\"Pre-computed nuclei labels found for {filename}\")\n",
    "        # Remove labels touching ROI edge (in place for nuclei predictions generated before \"remove_labels_touchin_roi_edge\" was implemented)\n",
    "        print(\"Removing nuclei labels touching ROI edge\")\n",
    "        nuclei_labels = remove_labels_touching_roi_edge(nuclei_labels, user_roi)\n",
    "\n",
    "    except FileNotFoundError:\n",
    "        print(f\"Generating nuclei labels for {filename}\")\n",
    "\n",
    "        # We will create a mask where roi is greater than or equal to 1\n",
    "        mask = (user_roi >= 1).astype(np.uint8)\n",
    "\n",
    "        # 3D segmentation logic, extend 2D mask across the entire stack volume\n",
    "        if segmentation_type == \"3D\":\n",
    "            # Extract the number of z-slices to extend the mask\n",
    "            slice_nr = img.shape[1]\n",
    "            # Extend the mask across the entire volume\n",
    "            mask = np.tile(mask, (slice_nr, 1, 1))\n",
    "            # Apply the mask to nuclei_img, setting all other pixels to 0\n",
    "            masked_nuclei_img = np.where(mask, nuclei_img, 0)\n",
    "        elif segmentation_type == \"2D\":\n",
    "            # Apply the mask to nuclei_img, setting all other pixels to 0\n",
    "            masked_nuclei_img = np.where(mask, nuclei_img, 0)\n",
    "\n",
    "        # Model loading \n",
    "        model = get_stardist_model(segmentation_type, name=model_name, basedir='stardist_models')\n",
    "\n",
    "        # Segment nuclei and return labels\n",
    "        nuclei_labels = segment_nuclei(masked_nuclei_img, segmentation_type, model, n_tiles)\n",
    "\n",
    "        # Remove labels touching ROI edge\n",
    "        print(\"Removing nuclei labels touching ROI edge\")\n",
    "        nuclei_labels = remove_labels_touching_roi_edge(nuclei_labels, user_roi)\n",
    "\n",
    "        # Save nuclei labels as .tiff files to reuse them later\n",
    "        try:\n",
    "            os.makedirs(nuclei_preds_path / roi_name, exist_ok=True)\n",
    "        except Exception as e:\n",
    "            print(f\"Error creating directory {nuclei_preds_path / roi_name}: {e}\")\n",
    "\n",
    "        # Construct path to store\n",
    "        path_to_store = nuclei_preds_path / roi_name / f\"{filename}.tiff\"\n",
    "        print(f\"Saving nuclei labels to {path_to_store}\")\n",
    "        try:\n",
    "            tifffile.imwrite(path_to_store, nuclei_labels)\n",
    "        except Exception as e:\n",
    "            print(f\"Error saving file {path_to_store}: {e}\")\n",
    "\n",
    "    # Add the predicted nuclei as labels into Napari\n",
    "    viewer.add_labels(nuclei_labels, name=f\"{roi_name}_nuclei\")\n",
    "\n",
    "    # Add the ROIs as labels into Napari\n",
    "    viewer.add_labels(user_roi, name=f\"{roi_name}_ROI\", opacity=0.4)\n",
    "\n",
    "    if location == \"nucleus\":\n",
    "        # Select marker positive nuclei\n",
    "        nuclei_and_marker, eroded_nuclei_and_marker, marker, processed_region_labels = segment_marker_positive_labels(nuclei_labels, marker_img, min_max_range, erosion_factor, segmentation_type)\n",
    "        viewer.add_image(nuclei_and_marker, name=f\"{roi_name}_{marker_name}_nuclei_coloc\")\n",
    "        viewer.add_image(eroded_nuclei_and_marker, name=f\"{roi_name}_{marker_name}_nuclei_eroded\")\n",
    "        viewer.add_labels(processed_region_labels, name=f\"{roi_name}_{marker_name}+_nuclei\")\n",
    "\n",
    "    # Simulate a cytoplasm by growing the nuclei_labels and masking out the inner nucleus\n",
    "    if location == \"cytoplasm\":\n",
    "        if segmentation_type == \"3D\":\n",
    "            print(f\"Generating {segmentation_type} cytoplasm labels for: {marker_name}\")\n",
    "            # Simulate a cytoplasm by dilating the nuclei and subtracting the nuclei mask afterwards\n",
    "            cytoplasm_labels = simulate_cytoplasm_chunked_3d(nuclei_labels, dilation_radius=cytoplasm_dilation_radius, erosion_radius=0, chunk_size=(nuclei_labels.shape[0], 1024, 1024))\n",
    "\n",
    "        elif segmentation_type == \"2D\":\n",
    "            print(f\"Generating {segmentation_type} cytoplasm labels for: {marker_name}\")\n",
    "            # Simulate a cytoplasm by dilating the nuclei and subtracting the nuclei mask afterwards\n",
    "            cytoplasm_labels = simulate_cytoplasm(nuclei_labels, dilation_radius=cytoplasm_dilation_radius, erosion_radius=0)\n",
    "\n",
    "        # Add the predicted cytoplasm labels into Napari\n",
    "        viewer.add_labels(cytoplasm_labels, name=f\"{roi_name}_cytoplasm\")\n",
    "\n",
    "        # Select marker positive cytoplasms\n",
    "        cytoplasm_and_marker, eroded_cytoplasm_and_marker, marker, processed_region_labels = segment_marker_positive_labels(cytoplasm_labels, marker_img, min_max_range, erosion_factor, segmentation_type)\n",
    "        viewer.add_image(cytoplasm_and_marker, name=f\"{roi_name}_{marker_name}_cytoplasm_coloc\")\n",
    "        viewer.add_image(eroded_cytoplasm_and_marker, name=f\"{roi_name}_{marker_name}_cytoplasm_eroded\")\n",
    "        viewer.add_labels(processed_region_labels, name=f\"{roi_name}_{marker_name}+_cytoplasm\")\n",
    "\n",
    "    # Simulate a cell by growing the nuclei_labels\n",
    "    elif location == \"cell\":\n",
    "        if segmentation_type == \"3D\":\n",
    "            print(f\"Generating {segmentation_type} cell labels for: {marker_name}\")\n",
    "            # Simulate a cell volume by dilating the nuclei \n",
    "            cell_labels = simulate_cell_chunked_3d(nuclei_labels, dilation_radius=cytoplasm_dilation_radius, erosion_radius=0, chunk_size=(nuclei_labels.shape[0], 1024, 1024))\n",
    "\n",
    "        elif segmentation_type == \"2D\":\n",
    "            print(f\"Generating {segmentation_type} cell labels for: {marker_name}\")\n",
    "            # Simulate a cytoplasm by dilating the nuclei and subtracting the nuclei mask afterwards\n",
    "            cell_labels = simulate_cell(nuclei_labels, dilation_radius=cytoplasm_dilation_radius, erosion_radius=0)\n",
    "\n",
    "        # Add the predicted cell labels into Napari\n",
    "        viewer.add_labels(cell_labels, name=f\"{roi_name}_cell\")\n",
    "\n",
    "        # Select marker positive cells\n",
    "        cell_and_marker, eroded_cell_and_marker, marker, processed_region_labels = segment_marker_positive_labels(cell_labels, marker_img, min_max_range, erosion_factor, segmentation_type)\n",
    "        viewer.add_image(cell_and_marker, name=f\"{roi_name}_{marker_name}_cell_coloc\")\n",
    "        viewer.add_image(eroded_cell_and_marker, name=f\"{roi_name}_{marker_name}_cell_eroded\")\n",
    "        viewer.add_labels(processed_region_labels, name=f\"{roi_name}_{marker_name}+_cell\")\n",
    "\n",
    "    # Extract your information of interest\n",
    "    total_nuclei = len(np.unique(nuclei_labels)) - 1\n",
    "    marker_pos_nuclei = len(np.unique(processed_region_labels)) - 1\n",
    "\n",
    "    # Calculate \"%_marker+_cells\" and avoid division by zero errors\n",
    "    try:\n",
    "        perc_marker_pos_cells = (marker_pos_nuclei * 100) / total_nuclei\n",
    "    except ZeroDivisionError:\n",
    "        perc_marker_pos_cells = 0\n",
    "\n",
    "    # Create a dictionary containing all extracted info per masked image\n",
    "    stats_dict = {\n",
    "                \"filename\": filename,\n",
    "                \"ROI\": roi_name,\n",
    "                \"marker\": marker_name,\n",
    "                \"marker_location\":location,\n",
    "                \"total_nuclei\": total_nuclei,\n",
    "                \"marker+_nuclei\": marker_pos_nuclei,\n",
    "                \"%_marker+_cells\": perc_marker_pos_cells,\n",
    "                \"nuclei_ch\": nuclei_channel,\n",
    "                \"marker_ch\": marker_channel,\n",
    "                \"marker_min_max\": min_max_range,\n",
    "                \"cytoplasm_dilation\":cytoplasm_dilation_radius,\n",
    "                \"erosion_factor\": erosion_factor,\n",
    "                \"slicing_factor_xy\": slicing_factor_xy,\n",
    "                \"slicing_factor_z\": slicing_factor_z\n",
    "                }\n",
    "\n",
    "    # Append the current data point to the stats_list\n",
    "    stats.append(stats_dict)    "
   ]
  },
  {
   "cell_type": "markdown",
   "metadata": {},
   "source": [
    "<h3>Data saving</h3>\n"
   ]
  },
  {
   "cell_type": "code",
   "execution_count": null,
   "metadata": {},
   "outputs": [],
   "source": [
    "# Define output folder for results\n",
    "results_folder = Path(\"results\") / experiment_id / segmentation_type / model_name\n",
    "\n",
    "# Create the necessary folder structure if it does not exist\n",
    "try:\n",
    "    os.makedirs(str(results_folder))\n",
    "    print(f\"Output folder created: {results_folder}\")\n",
    "except FileExistsError:\n",
    "    print(f\"Output folder already exists: {results_folder}\")\n",
    "\n",
    "# Transform into a dataframe to store it as .csv later\n",
    "df = pd.DataFrame(stats)\n",
    "\n",
    "# Define the .csv path\n",
    "csv_path = results_folder / f\"SP_marker_+_label_coloc.csv\"\n",
    "\n",
    "# Append to the .csv with new data points each round\n",
    "df.to_csv(csv_path, mode=\"a\", index=False, header=not os.path.isfile(csv_path))\n",
    "\n",
    "# Show the updated .csv \n",
    "csv_df = pd.read_csv(csv_path)\n",
    "\n",
    "csv_df"
   ]
  }
 ],
 "metadata": {
  "kernelspec": {
   "display_name": "brain_nuc_stardist",
   "language": "python",
   "name": "python3"
  },
  "language_info": {
   "codemirror_mode": {
    "name": "ipython",
    "version": 3
   },
   "file_extension": ".py",
   "mimetype": "text/x-python",
   "name": "python",
   "nbconvert_exporter": "python",
   "pygments_lexer": "ipython3",
   "version": "3.10.16"
  }
 },
 "nbformat": 4,
 "nbformat_minor": 2
}
