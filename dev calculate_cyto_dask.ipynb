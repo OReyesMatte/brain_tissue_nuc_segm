{
 "cells": [
  {
   "cell_type": "code",
   "execution_count": 1,
   "metadata": {},
   "outputs": [],
   "source": [
    "from utils_cellpose import list_images\n",
    "from pathlib import Path"
   ]
  },
  {
   "cell_type": "code",
   "execution_count": 2,
   "metadata": {},
   "outputs": [],
   "source": [
    "# Copy the path where your images are stored, ideally inside the raw_data directory\n",
    "directory_path = Path(\"../raw_data/test_data\")\n",
    "\n",
    "# Iterate through the .czi and .nd2 files in the raw_data directory\n",
    "images = list_images(directory_path)\n",
    "\n",
    "images\n",
    "\n",
    "nuclei_preds_path =  directory_path / \"nuclei_preds\""
   ]
  },
  {
   "cell_type": "code",
   "execution_count": 3,
   "metadata": {},
   "outputs": [],
   "source": [
    "import tifffile\n",
    "\n",
    "roi_name = \"full_image\"\n",
    "\n",
    "filename = Path(images[0]).stem\n",
    "\n",
    "# Read the nuclei predictions per ROI\n",
    "nuclei_labels = tifffile.imread(nuclei_preds_path / roi_name / f\"{filename}.tiff\")\n"
   ]
  },
  {
   "cell_type": "code",
   "execution_count": 4,
   "metadata": {},
   "outputs": [],
   "source": [
    "import dask.array as da\n",
    "import numpy as np\n",
    "import pyclesperanto_prototype as cle\n",
    "\n",
    "def simulate_cytoplasm_dask(nuclei_labels, dilation_radius=2, erosion_radius=0, chunk_size=(512, 512)):\n",
    "    \"\"\"\n",
    "    Simulate the cytoplasm from nuclei labels using Dask for large datasets.\n",
    "\n",
    "    Args:\n",
    "        nuclei_labels (ndarray or dask.array): Input nuclei labels array.\n",
    "        dilation_radius (int): Radius for dilating nuclei.\n",
    "        erosion_radius (int): Radius for eroding nuclei.\n",
    "        chunk_size (tuple): Chunk size for Dask array.\n",
    "\n",
    "    Returns:\n",
    "        dask.array: Cytoplasm simulation as a Dask array.\n",
    "    \"\"\"\n",
    "    # Convert nuclei_labels to a Dask array if not already\n",
    "    if not isinstance(nuclei_labels, da.Array):\n",
    "        nuclei_labels = da.from_array(nuclei_labels, chunks=chunk_size)\n",
    "\n",
    "    # Function to process each chunk\n",
    "    def process_chunk(chunk, dilation_radius, erosion_radius):\n",
    "        # Dilate nuclei labels\n",
    "        dilated = cle.dilate_labels(chunk, radius=dilation_radius)\n",
    "        dilated = cle.pull(dilated)\n",
    "\n",
    "        # Optionally erode nuclei labels\n",
    "        if erosion_radius > 0:\n",
    "            eroded = cle.erode_labels(chunk, radius=erosion_radius)\n",
    "            eroded = cle.pull(eroded)\n",
    "            nuclei = eroded\n",
    "        else:\n",
    "            nuclei = chunk\n",
    "\n",
    "        # Subtract the nuclei from the dilated regions\n",
    "        cytoplasm = dilated.copy()\n",
    "        unique_labels = np.unique(nuclei)\n",
    "        for label in unique_labels:\n",
    "            if label != 0:  # Ignore background\n",
    "                cytoplasm[nuclei == label] = 0\n",
    "        return cytoplasm\n",
    "\n",
    "    # Map the processing function to each chunk\n",
    "    cytoplasm = nuclei_labels.map_blocks(\n",
    "        process_chunk,\n",
    "        dtype=nuclei_labels.dtype,\n",
    "        dilation_radius=dilation_radius,\n",
    "        erosion_radius=erosion_radius,\n",
    "    )\n",
    "\n",
    "    return cytoplasm\n"
   ]
  },
  {
   "cell_type": "code",
   "execution_count": 5,
   "metadata": {},
   "outputs": [],
   "source": [
    "cytoplasm = simulate_cytoplasm_dask(nuclei_labels, dilation_radius=2, erosion_radius=0, chunk_size=(512, 512))"
   ]
  },
  {
   "cell_type": "code",
   "execution_count": 6,
   "metadata": {},
   "outputs": [],
   "source": [
    "from utils_cellpose import simulate_cytoplasm"
   ]
  },
  {
   "cell_type": "code",
   "execution_count": 7,
   "metadata": {},
   "outputs": [
    {
     "name": "stderr",
     "output_type": "stream",
     "text": [
      "c:\\Users\\adiezsanchez\\miniforge3\\envs\\microglia_GPU\\lib\\site-packages\\pyopencl\\cache.py:495: CompilerWarning: Non-empty compiler output encountered. Set the environment variable PYOPENCL_COMPILER_OUTPUT=1 to see more.\n",
      "  _create_built_program_from_source_cached(\n"
     ]
    }
   ],
   "source": [
    "cytoplasm_og = simulate_cytoplasm(nuclei_labels, dilation_radius = 2, erosion_radius = 0)"
   ]
  },
  {
   "cell_type": "code",
   "execution_count": 8,
   "metadata": {},
   "outputs": [],
   "source": [
    "import napari"
   ]
  },
  {
   "cell_type": "code",
   "execution_count": 9,
   "metadata": {},
   "outputs": [
    {
     "name": "stderr",
     "output_type": "stream",
     "text": [
      "Invalid schema for package 'ome-types', please run 'npe2 validate ome-types' to check for manifest errors.\n"
     ]
    },
    {
     "data": {
      "text/plain": [
       "<Labels layer 'cytoplasm' at 0x1f940ea4250>"
      ]
     },
     "execution_count": 9,
     "metadata": {},
     "output_type": "execute_result"
    }
   ],
   "source": [
    "viewer = napari.Viewer(ndisplay=2)\n",
    "\n",
    "viewer.add_labels(nuclei_labels)\n",
    "viewer.add_labels(cytoplasm_og)\n",
    "viewer.add_labels(cytoplasm)"
   ]
  },
  {
   "cell_type": "code",
   "execution_count": 11,
   "metadata": {},
   "outputs": [
    {
     "data": {
      "text/html": [
       "<table>\n",
       "    <tr>\n",
       "        <td>\n",
       "            <table style=\"border-collapse: collapse;\">\n",
       "                <thead>\n",
       "                    <tr>\n",
       "                        <td> </td>\n",
       "                        <th> Array </th>\n",
       "                        <th> Chunk </th>\n",
       "                    </tr>\n",
       "                </thead>\n",
       "                <tbody>\n",
       "                    \n",
       "                    <tr>\n",
       "                        <th> Bytes </th>\n",
       "                        <td> 20.97 MiB </td>\n",
       "                        <td> 512.00 kiB </td>\n",
       "                    </tr>\n",
       "                    \n",
       "                    <tr>\n",
       "                        <th> Shape </th>\n",
       "                        <td> (3803, 2891) </td>\n",
       "                        <td> (512, 512) </td>\n",
       "                    </tr>\n",
       "                    <tr>\n",
       "                        <th> Dask graph </th>\n",
       "                        <td colspan=\"2\"> 48 chunks in 2 graph layers </td>\n",
       "                    </tr>\n",
       "                    <tr>\n",
       "                        <th> Data type </th>\n",
       "                        <td colspan=\"2\"> uint16 numpy.ndarray </td>\n",
       "                    </tr>\n",
       "                </tbody>\n",
       "            </table>\n",
       "        </td>\n",
       "        <td>\n",
       "        <svg width=\"141\" height=\"170\" style=\"stroke:rgb(0,0,0);stroke-width:1\" >\n",
       "\n",
       "  <!-- Horizontal lines -->\n",
       "  <line x1=\"0\" y1=\"0\" x2=\"91\" y2=\"0\" style=\"stroke-width:2\" />\n",
       "  <line x1=\"0\" y1=\"16\" x2=\"91\" y2=\"16\" />\n",
       "  <line x1=\"0\" y1=\"32\" x2=\"91\" y2=\"32\" />\n",
       "  <line x1=\"0\" y1=\"48\" x2=\"91\" y2=\"48\" />\n",
       "  <line x1=\"0\" y1=\"64\" x2=\"91\" y2=\"64\" />\n",
       "  <line x1=\"0\" y1=\"80\" x2=\"91\" y2=\"80\" />\n",
       "  <line x1=\"0\" y1=\"96\" x2=\"91\" y2=\"96\" />\n",
       "  <line x1=\"0\" y1=\"113\" x2=\"91\" y2=\"113\" />\n",
       "  <line x1=\"0\" y1=\"120\" x2=\"91\" y2=\"120\" style=\"stroke-width:2\" />\n",
       "\n",
       "  <!-- Vertical lines -->\n",
       "  <line x1=\"0\" y1=\"0\" x2=\"0\" y2=\"120\" style=\"stroke-width:2\" />\n",
       "  <line x1=\"16\" y1=\"0\" x2=\"16\" y2=\"120\" />\n",
       "  <line x1=\"32\" y1=\"0\" x2=\"32\" y2=\"120\" />\n",
       "  <line x1=\"48\" y1=\"0\" x2=\"48\" y2=\"120\" />\n",
       "  <line x1=\"64\" y1=\"0\" x2=\"64\" y2=\"120\" />\n",
       "  <line x1=\"80\" y1=\"0\" x2=\"80\" y2=\"120\" />\n",
       "  <line x1=\"91\" y1=\"0\" x2=\"91\" y2=\"120\" style=\"stroke-width:2\" />\n",
       "\n",
       "  <!-- Colored Rectangle -->\n",
       "  <polygon points=\"0.0,0.0 91.22271890612673,0.0 91.22271890612673,120.0 0.0,120.0\" style=\"fill:#ECB172A0;stroke-width:0\"/>\n",
       "\n",
       "  <!-- Text -->\n",
       "  <text x=\"45.611359\" y=\"140.000000\" font-size=\"1.0rem\" font-weight=\"100\" text-anchor=\"middle\" >2891</text>\n",
       "  <text x=\"111.222719\" y=\"60.000000\" font-size=\"1.0rem\" font-weight=\"100\" text-anchor=\"middle\" transform=\"rotate(-90,111.222719,60.000000)\">3803</text>\n",
       "</svg>\n",
       "        </td>\n",
       "    </tr>\n",
       "</table>"
      ],
      "text/plain": [
       "dask.array<process_chunk, shape=(3803, 2891), dtype=uint16, chunksize=(512, 512), chunktype=numpy.ndarray>"
      ]
     },
     "execution_count": 11,
     "metadata": {},
     "output_type": "execute_result"
    }
   ],
   "source": [
    "cytoplasm"
   ]
  },
  {
   "cell_type": "code",
   "execution_count": 12,
   "metadata": {},
   "outputs": [
    {
     "data": {
      "text/plain": [
       "array([[0, 0, 0, ..., 0, 0, 0],\n",
       "       [0, 0, 0, ..., 0, 0, 0],\n",
       "       [0, 0, 0, ..., 0, 0, 0],\n",
       "       ...,\n",
       "       [0, 0, 0, ..., 0, 0, 0],\n",
       "       [0, 0, 0, ..., 0, 0, 0],\n",
       "       [0, 0, 0, ..., 0, 0, 0]], dtype=uint32)"
      ]
     },
     "execution_count": 12,
     "metadata": {},
     "output_type": "execute_result"
    }
   ],
   "source": [
    "cytoplasm_og"
   ]
  },
  {
   "cell_type": "code",
   "execution_count": 13,
   "metadata": {},
   "outputs": [
    {
     "name": "stderr",
     "output_type": "stream",
     "text": [
      "c:\\Users\\adiezsanchez\\miniforge3\\envs\\microglia_GPU\\lib\\site-packages\\pyopencl\\cache.py:417: CompilerWarning: Non-empty compiler output encountered. Set the environment variable PYOPENCL_COMPILER_OUTPUT=1 to see more.\n",
      "  prg.build(options_bytes, [devices[i] for i in to_be_built_indices])\n",
      "c:\\Users\\adiezsanchez\\miniforge3\\envs\\microglia_GPU\\lib\\site-packages\\pyopencl\\cache.py:495: CompilerWarning: Non-empty compiler output encountered. Set the environment variable PYOPENCL_COMPILER_OUTPUT=1 to see more.\n",
      "  _create_built_program_from_source_cached(\n"
     ]
    }
   ],
   "source": [
    "cytoplasm_ero = simulate_cytoplasm_dask(nuclei_labels, dilation_radius=2, erosion_radius=1, chunk_size=(512, 512))"
   ]
  },
  {
   "cell_type": "code",
   "execution_count": null,
   "metadata": {},
   "outputs": [],
   "source": [
    "import dask.array as da\n",
    "import numpy as np\n",
    "import pyclesperanto_prototype as cle\n",
    "from dask.diagnostics import ProgressBar\n",
    "from dask.distributed import Client\n",
    "\n",
    "def simulate_cytoplasm_dask_with_progress(nuclei_labels, dilation_radius=2, erosion_radius=0, chunk_size=(512, 512)):\n",
    "    \"\"\"\n",
    "    Simulate the cytoplasm from nuclei labels using Dask for large datasets and monitor progress.\n",
    "\n",
    "    Args:\n",
    "        nuclei_labels (ndarray or dask.array): Input nuclei labels array.\n",
    "        dilation_radius (int): Radius for dilating nuclei.\n",
    "        erosion_radius (int): Radius for eroding nuclei.\n",
    "        chunk_size (tuple): Chunk size for Dask array.\n",
    "\n",
    "    Returns:\n",
    "        ndarray: Cytoplasm simulation as a NumPy array (computed).\n",
    "    \"\"\"\n",
    "    # Convert nuclei_labels to a Dask array if not already\n",
    "    if not isinstance(nuclei_labels, da.Array):\n",
    "        nuclei_labels = da.from_array(nuclei_labels, chunks=chunk_size)\n",
    "\n",
    "    # Function to process each chunk\n",
    "    def process_chunk(chunk, dilation_radius, erosion_radius):\n",
    "        # Dilate nuclei labels\n",
    "        dilated = cle.dilate_labels(chunk, radius=dilation_radius)\n",
    "        dilated = cle.pull(dilated)\n",
    "\n",
    "        # Optionally erode nuclei labels\n",
    "        if erosion_radius > 0:\n",
    "            eroded = cle.erode_labels(chunk, radius=erosion_radius)\n",
    "            eroded = cle.pull(eroded)\n",
    "            nuclei = eroded\n",
    "        else:\n",
    "            nuclei = chunk\n",
    "\n",
    "        # Subtract the nuclei from the dilated regions\n",
    "        cytoplasm = dilated.copy()\n",
    "        unique_labels = np.unique(nuclei)\n",
    "        for label in unique_labels:\n",
    "            if label != 0:  # Ignore background\n",
    "                cytoplasm[nuclei == label] = 0\n",
    "        return cytoplasm\n",
    "\n",
    "    # Map the processing function to each chunk\n",
    "    cytoplasm = nuclei_labels.map_blocks(\n",
    "        process_chunk,\n",
    "        dtype=nuclei_labels.dtype,\n",
    "        dilation_radius=dilation_radius,\n",
    "        erosion_radius=erosion_radius,\n",
    "    )\n",
    "\n",
    "    # Start the Dask client\n",
    "    with Client() as client:\n",
    "        print(f\"Dask dashboard running at: {client.dashboard_link}\")\n",
    "\n",
    "        # Use the progress bar to monitor computation\n",
    "        with ProgressBar():\n",
    "            result = cytoplasm.compute()  # Trigger computation\n",
    "\n",
    "    return result\n"
   ]
  }
 ],
 "metadata": {
  "kernelspec": {
   "display_name": "microglia_GPU",
   "language": "python",
   "name": "python3"
  },
  "language_info": {
   "codemirror_mode": {
    "name": "ipython",
    "version": 3
   },
   "file_extension": ".py",
   "mimetype": "text/x-python",
   "name": "python",
   "nbconvert_exporter": "python",
   "pygments_lexer": "ipython3",
   "version": "3.9.19"
  }
 },
 "nbformat": 4,
 "nbformat_minor": 2
}
