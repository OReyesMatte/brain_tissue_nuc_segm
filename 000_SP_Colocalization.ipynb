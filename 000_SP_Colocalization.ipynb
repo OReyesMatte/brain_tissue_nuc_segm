{
 "cells": [
  {
   "cell_type": "markdown",
   "metadata": {},
   "source": [
    "<h2>3D stack to 2D MIP - Single image - Marker+ based on colocalization</h2>\n",
    "\n",
    "The following notebook is able to process a 3D stack (.czi or .nd2 files) into a MIP and allows you to:\n",
    "\n",
    "1. Inspect your images in Napari.\n",
    "2. Define regions of interest (ROIs) using labels in Napari. Store said ROIs as .tiff files if needed.\n",
    "3. Predict nuclei labels and store them as .tiff files for further processing.\n",
    "4. Extract numbers of cells positive for a marker based on colocalization (using a user-defined threshold).\n",
    "5. Display positive cells in Napari.\n",
    "6. Extract and save number of positive cells in a .csv file (marker_+_label_coloc_2D)."
   ]
  },
  {
   "cell_type": "code",
   "execution_count": 9,
   "metadata": {},
   "outputs": [
    {
     "data": {
      "text/plain": [
       "<NVIDIA GeForce RTX 4090 Laptop GPU on Platform: NVIDIA CUDA (1 refs)>"
      ]
     },
     "execution_count": 9,
     "metadata": {},
     "output_type": "execute_result"
    }
   ],
   "source": [
    "from pathlib import Path\n",
    "from tqdm import tqdm\n",
    "import tifffile\n",
    "import napari\n",
    "import os\n",
    "import numpy as np\n",
    "import pandas as pd\n",
    "import pyclesperanto_prototype as cle\n",
    "from utils import list_images, read_image, save_rois, segment_nuclei_2d, segment_marker_positive_nuclei\n",
    "\n",
    "cle.select_device(\"RTX\")"
   ]
  },
  {
   "cell_type": "markdown",
   "metadata": {},
   "source": [
    "<h3>Define the directory where your images are stored (.nd2 or .czi files)</h3>"
   ]
  },
  {
   "cell_type": "code",
   "execution_count": 10,
   "metadata": {},
   "outputs": [
    {
     "data": {
      "text/plain": [
       "['raw_data\\\\test_data\\\\HI 1  Contralateral Mouse 8  slide 6 Neun Red Calb Green KI67 Magenta 40x technical replica 1.czi',\n",
       " 'raw_data\\\\test_data\\\\HI 1  Ipsilateral Mouse 8  slide 6 Neun Red Calb Green KI67 Magenta 40x technical replica 1.czi']"
      ]
     },
     "execution_count": 10,
     "metadata": {},
     "output_type": "execute_result"
    }
   ],
   "source": [
    "# Copy the path where your images are stored, ideally inside the raw_data directory\n",
    "directory_path = Path(\"./raw_data/test_data\")\n",
    "\n",
    "# Construct ROI and nuclei predictions paths from directory_path above\n",
    "roi_path = directory_path / \"ROIs\"\n",
    "nuclei_preds_path =  directory_path / \"nuclei_preds\"\n",
    "\n",
    "# Iterate through the .czi and .nd2 files in the directory\n",
    "images = list_images(directory_path)\n",
    "\n",
    "images"
   ]
  },
  {
   "cell_type": "markdown",
   "metadata": {},
   "source": [
    "<h3>Open each image in the directory</h3>\n",
    "You can do so by changing the number within the brackets below <code>image = images[0]</code>. By changing the <code>slicing factor</code> you lose resolution but speed up processing times (check the results)."
   ]
  },
  {
   "cell_type": "code",
   "execution_count": 11,
   "metadata": {},
   "outputs": [
    {
     "name": "stderr",
     "output_type": "stream",
     "text": [
      "WARNING: DirectWrite: CreateFontFaceFromHDC() failed (Indicates an error in an input file such as a font file.) for QFontDef(Family=\"\", pointsize=12, pixelsize=16, styleHint=5, weight=50, stretch=100, hintingPreference=0) LOGFONT(\"MS Sans Serif\", lfWidth=0, lfHeight=-16) dpi=96\n"
     ]
    },
    {
     "name": "stdout",
     "output_type": "stream",
     "text": [
      "Image analyzed: HI 1  Contralateral Mouse 8  slide 6 Neun Red Calb Green KI67 Magenta 40x technical replica 1\n",
      "Original Array shape: (4, 14, 3803, 2891)\n",
      "MIP Array shape: (4, 3803, 2891)\n"
     ]
    },
    {
     "name": "stderr",
     "output_type": "stream",
     "text": [
      "WARNING: QWindowsWindow::setGeometry: Unable to set geometry 2172x1310+1906+934 (frame: 2194x1366+1895+889) on QWidgetWindow/\"_QtMainWindowClassWindow\" on \"\\\\.\\DISPLAY1\". Resulting geometry: 3260x1968+1909+948 (frame: 3282x2024+1898+903) margins: 11, 45, 11, 11 minimum size: 385x484 MINMAXINFO maxSize=0,0 maxpos=0,0 mintrack=792,1024 maxtrack=0,0)\n"
     ]
    },
    {
     "data": {
      "text/plain": [
       "<Image layer 'img_mip' at 0x1f368daa910>"
      ]
     },
     "execution_count": 11,
     "metadata": {},
     "output_type": "execute_result"
    }
   ],
   "source": [
    "# Explore a different image to crop (0 defines the first image in the directory)\n",
    "image = images[0]\n",
    "\n",
    "# Image size reduction to improve processing times (slicing, not lossless compression)\n",
    "slicing_factor = None # Use 2 or 4 for compression (None for lossless)\n",
    "\n",
    "# Generate maximum intensity projection and extract filename\n",
    "img_mip, filename = read_image(image, slicing_factor)\n",
    "\n",
    "# Show image in Napari to define ROI\n",
    "viewer = napari.Viewer(ndisplay=2)\n",
    "viewer.add_image(img_mip)"
   ]
  },
  {
   "cell_type": "markdown",
   "metadata": {},
   "source": [
    "<h3>Label your regions of interest in Napari and explore the signal of your marker of interest</h3>\n",
    "\n",
    "Make sure to set <code>n edit dim = 3</code> so the label propagates across all channels. Name your regions of interest as i.e. <code>DG</code>, <code>CA1</code>, <code>CA3</code> or <code>HIPPO</code>. If you do not draw any ROI the entire image will be analyzed.\n",
    "\n",
    "Fnally, select the <code>img_mip</code> layer and play with the contrast limit to later set a threshold above which cells will be considered positive for said marker."
   ]
  },
  {
   "cell_type": "markdown",
   "metadata": {},
   "source": [
    "<video controls>\n",
    "  <source src=\"./assets/napari_labels.mp4\" type=\"video/mp4\">\n",
    "  Your browser does not support the video tag.\n",
    "</video>"
   ]
  },
  {
   "cell_type": "markdown",
   "metadata": {},
   "source": [
    "<h3>Save user-defined label ROIs as .tiff files</h3>"
   ]
  },
  {
   "cell_type": "code",
   "execution_count": 12,
   "metadata": {},
   "outputs": [
    {
     "name": "stdout",
     "output_type": "stream",
     "text": [
      "No user-defined ROIs have been stored\n"
     ]
    }
   ],
   "source": [
    "save_rois(viewer, directory_path, filename)"
   ]
  },
  {
   "cell_type": "code",
   "execution_count": 13,
   "metadata": {},
   "outputs": [
    {
     "name": "stdout",
     "output_type": "stream",
     "text": [
      "The following regions of interest will be analyzed: ['ALL', 'CA', 'DG']\n"
     ]
    }
   ],
   "source": [
    "# List of subfolder names\n",
    "try:\n",
    "    roi_names = [folder.name for folder in roi_path.iterdir() if folder.is_dir()]\n",
    "\n",
    "except FileNotFoundError:\n",
    "    roi_names = [\"full_image\"]\n",
    "        \n",
    "print(f\"The following regions of interest will be analyzed: {roi_names}\")"
   ]
  },
  {
   "cell_type": "markdown",
   "metadata": {},
   "source": [
    "<h3>Define your nuclei/marker stacks and your marker/erosion thresholds</h3>\n",
    "\n",
    "Modify the values for <code>nuclei_channel</code>, <code>marker_channel</code>, <code>nuclei_channel_threshold</code> and <code>erosion_factor</code>\n",
    "\n",
    "Define marker <code>location</code> as either \"cytoplasm\" or \"nucleus\", and the <code>cytoplasm_dil_radius</code>."
   ]
  },
  {
   "cell_type": "code",
   "execution_count": 14,
   "metadata": {},
   "outputs": [],
   "source": [
    "# Define the nuclei and markers of interest channel order ('Remember in Python one starts counting from zero')\n",
    "nuclei_channel = 3\n",
    "marker_channel = 1\n",
    "\n",
    "# Define the intensity threshold above which a cell is considered positive for a marker\n",
    "marker_channel_threshold = 40\n",
    "\n",
    "# Define your nuclei diameter, it speeds up nuclei detection, if unknown leave it as None\n",
    "cellpose_nuclei_diameter = None\n",
    "\n",
    "# Define the amount of blur applied to nuclei\n",
    "# Blurs the mip_nuclei image to even out high intensity foci within the nucleus, the higher the value blurriness increases\n",
    "# High values help segment sparse nuclei (CA and CTX regions) but as a drawback it merges nuclei entities that are very close together (DG region)\n",
    "gaussian_sigma = 0\n",
    "\n",
    "# Sets the amount of erosion that is applied to areas where the marker+ signal colocalizes with nuclear signal\n",
    "# The higher the value, the stricter the conditions to consider a nuclei as marker+\n",
    "erosion_factor = 4\n",
    "\n",
    "# Define marker location (\"nucleus or \"cytoplasm\")\n",
    "location = \"nucleus\"\n",
    "\n",
    "# Define the amount of pixels you want to add around the nuclei to simulate the cytoplasm\n",
    "cytoplasm_dilation_radius = 2\n",
    "\n",
    "# Slice the nuclei and marker stack\n",
    "nuclei_img = img_mip[nuclei_channel, :, :]\n",
    "marker_img = img_mip[marker_channel, :, :]"
   ]
  },
  {
   "cell_type": "markdown",
   "metadata": {},
   "source": [
    "<h3>Mask the input image with the user defined labels and extract data</h3>"
   ]
  },
  {
   "cell_type": "code",
   "execution_count": 15,
   "metadata": {},
   "outputs": [
    {
     "name": "stderr",
     "output_type": "stream",
     "text": [
      "100%|██████████| 3/3 [00:54<00:00, 18.32s/it]\n"
     ]
    }
   ],
   "source": [
    "# Create an empty list to store all stats extracted from each image\n",
    "stats = []\n",
    "\n",
    "for roi_name in tqdm(roi_names):\n",
    "\n",
    "    # Read the user defined ROIs, in case of full image analysis generate a label covering the entire image\n",
    "    try:\n",
    "        # Read previously defined ROIs\n",
    "        user_roi = tifffile.imread(roi_path / roi_name / f\"{filename}.tiff\")\n",
    "\n",
    "    except FileNotFoundError:\n",
    "        # Extract the xy dimensions of the input image \n",
    "        img_shape = img_mip.shape\n",
    "        img_xy_dims = img_shape[-2:]\n",
    "\n",
    "        # Create a label covering the entire image\n",
    "        user_roi = np.ones(img_xy_dims).astype(np.uint8)\n",
    "\n",
    "    # Read previously predicted nuclei labels, if not present generate nuclei predictions and save them\n",
    "    try:\n",
    "        # Read the nuclei predictions per ROI\n",
    "        nuclei_labels = tifffile.imread(nuclei_preds_path / roi_name / f\"{filename}.tiff\")\n",
    "\n",
    "    except FileNotFoundError:\n",
    "\n",
    "        # Slice the nuclei stack\n",
    "        nuclei_img = img_mip[nuclei_channel, :, :]\n",
    "\n",
    "        # We will create a mask where roi is greater than or equal to 1\n",
    "        mask = (user_roi >= 1).astype(np.uint8)\n",
    "\n",
    "        # Apply the mask to nuclei_img and marker_img, setting all other pixels to 0\n",
    "        masked_nuclei_img = np.where(mask, nuclei_img, 0)\n",
    "\n",
    "        # Segment nuclei and return labels\n",
    "        nuclei_labels = segment_nuclei_2d(masked_nuclei_img, gaussian_sigma, cellpose_nuclei_diameter)\n",
    "\n",
    "        # Save nuclei labels as .tiff files to reuse them later\n",
    "        # Create nuclei_predictions directory if it does not exist\n",
    "        try:\n",
    "            os.makedirs(directory_path / \"nuclei_preds\" / roi_name)\n",
    "        except FileExistsError:\n",
    "            pass\n",
    "\n",
    "        # Construct path to store\n",
    "        path_to_store = directory_path / \"nuclei_preds\" / roi_name / f\"{filename}.tiff\"\n",
    "\n",
    "        # Save mask (binary image)\n",
    "        tifffile.imwrite(path_to_store, nuclei_labels)\n",
    "\n",
    "    # Add the predicted nuclei as labels into Napari\n",
    "    viewer.add_labels(nuclei_labels, name=f\"{roi_name}_nuclei\")\n",
    "\n",
    "    # Add the ROIs as labels into Napari\n",
    "    viewer.add_labels(user_roi, name=f\"{roi_name}_ROI\", opacity=0.4)\n",
    "\n",
    "    # Simulate a cytoplasm by growing the nuclei_labels\n",
    "    if location == \"cytoplasm\":\n",
    "        \n",
    "        nuclei_labels = cle.dilate_labels(nuclei_labels, radius=cytoplasm_dilation_radius)\n",
    "        nuclei_labels = cle.pull(nuclei_labels)\n",
    "\n",
    "    # Select marker positive nuclei\n",
    "    nuclei_and_marker, eroded_nuclei_and_marker, marker_mip, processed_region_labels = segment_marker_positive_nuclei (nuclei_labels, marker_img, marker_channel_threshold, erosion_factor)\n",
    "    viewer.add_image(nuclei_and_marker, name=f\"{roi_name}_marker_nuclei_coloc\")\n",
    "    viewer.add_image(eroded_nuclei_and_marker, name=f\"{roi_name}_marker_nuclei_eroded\")\n",
    "    viewer.add_labels(processed_region_labels, name=f\"{roi_name}_marker+_nuclei\")\n",
    "\n",
    "    # Extract your information of interest\n",
    "    total_nuclei = len(np.unique(nuclei_labels)) - 1\n",
    "    marker_pos_nuclei = len(np.unique(processed_region_labels)) - 1\n",
    "\n",
    "    # Calculate \"%_marker+_cells\" and avoid division by zero errors\n",
    "    try:\n",
    "        perc_marker_pos_cells = (marker_pos_nuclei * 100) / total_nuclei\n",
    "    except ZeroDivisionError:\n",
    "        perc_marker_pos_cells = 0\n",
    "\n",
    "    # Create a dictionary containing all extracted info per masked image\n",
    "    stats_dict = {\n",
    "                \"filename\": filename,\n",
    "                \"ROI\": roi_name,\n",
    "                \"total_nuclei\": total_nuclei,\n",
    "                \"marker+_nuclei\": marker_pos_nuclei,\n",
    "                \"%_marker+_cells\": perc_marker_pos_cells,\n",
    "                \"nuclei_ch\": nuclei_channel,\n",
    "                \"marker_ch\": marker_channel,\n",
    "                \"marker_int_threshold\": marker_channel_threshold,\n",
    "                \"marker_location\":location,\n",
    "                \"cytoplasm_dilation\":cytoplasm_dilation_radius,\n",
    "                \"erosion_factor\": erosion_factor,\n",
    "                \"cellpose_nuclei_diameter\": cellpose_nuclei_diameter,\n",
    "                \"gaussian_sigma\": gaussian_sigma,\n",
    "                \"slicing_factor\": slicing_factor\n",
    "                }\n",
    "\n",
    "    # Append the current data point to the stats_list\n",
    "    stats.append(stats_dict)    "
   ]
  },
  {
   "cell_type": "markdown",
   "metadata": {},
   "source": [
    "<h3>Data saving</h3>\n"
   ]
  },
  {
   "cell_type": "code",
   "execution_count": 16,
   "metadata": {},
   "outputs": [
    {
     "name": "stdout",
     "output_type": "stream",
     "text": [
      "Output folder created: ./results/\n"
     ]
    },
    {
     "data": {
      "text/html": [
       "<div>\n",
       "<style scoped>\n",
       "    .dataframe tbody tr th:only-of-type {\n",
       "        vertical-align: middle;\n",
       "    }\n",
       "\n",
       "    .dataframe tbody tr th {\n",
       "        vertical-align: top;\n",
       "    }\n",
       "\n",
       "    .dataframe thead th {\n",
       "        text-align: right;\n",
       "    }\n",
       "</style>\n",
       "<table border=\"1\" class=\"dataframe\">\n",
       "  <thead>\n",
       "    <tr style=\"text-align: right;\">\n",
       "      <th></th>\n",
       "      <th>filename</th>\n",
       "      <th>ROI</th>\n",
       "      <th>total_nuclei</th>\n",
       "      <th>marker+_nuclei</th>\n",
       "      <th>%_marker+_cells</th>\n",
       "      <th>nuclei_ch</th>\n",
       "      <th>marker_ch</th>\n",
       "      <th>marker_int_threshold</th>\n",
       "      <th>marker_location</th>\n",
       "      <th>cytoplasm_dilation</th>\n",
       "      <th>erosion_factor</th>\n",
       "      <th>cellpose_nuclei_diameter</th>\n",
       "      <th>gaussian_sigma</th>\n",
       "      <th>slicing_factor</th>\n",
       "    </tr>\n",
       "  </thead>\n",
       "  <tbody>\n",
       "    <tr>\n",
       "      <th>0</th>\n",
       "      <td>HI 1  Contralateral Mouse 8  slide 6 Neun Red ...</td>\n",
       "      <td>ALL</td>\n",
       "      <td>5054</td>\n",
       "      <td>2782</td>\n",
       "      <td>55.045509</td>\n",
       "      <td>3</td>\n",
       "      <td>1</td>\n",
       "      <td>40</td>\n",
       "      <td>nucleus</td>\n",
       "      <td>2</td>\n",
       "      <td>4</td>\n",
       "      <td>NaN</td>\n",
       "      <td>0</td>\n",
       "      <td>NaN</td>\n",
       "    </tr>\n",
       "    <tr>\n",
       "      <th>1</th>\n",
       "      <td>HI 1  Contralateral Mouse 8  slide 6 Neun Red ...</td>\n",
       "      <td>CA</td>\n",
       "      <td>1223</td>\n",
       "      <td>1103</td>\n",
       "      <td>90.188062</td>\n",
       "      <td>3</td>\n",
       "      <td>1</td>\n",
       "      <td>40</td>\n",
       "      <td>nucleus</td>\n",
       "      <td>2</td>\n",
       "      <td>4</td>\n",
       "      <td>NaN</td>\n",
       "      <td>0</td>\n",
       "      <td>NaN</td>\n",
       "    </tr>\n",
       "    <tr>\n",
       "      <th>2</th>\n",
       "      <td>HI 1  Contralateral Mouse 8  slide 6 Neun Red ...</td>\n",
       "      <td>DG</td>\n",
       "      <td>1912</td>\n",
       "      <td>1473</td>\n",
       "      <td>77.039749</td>\n",
       "      <td>3</td>\n",
       "      <td>1</td>\n",
       "      <td>40</td>\n",
       "      <td>nucleus</td>\n",
       "      <td>2</td>\n",
       "      <td>4</td>\n",
       "      <td>NaN</td>\n",
       "      <td>0</td>\n",
       "      <td>NaN</td>\n",
       "    </tr>\n",
       "  </tbody>\n",
       "</table>\n",
       "</div>"
      ],
      "text/plain": [
       "                                            filename  ROI  total_nuclei  \\\n",
       "0  HI 1  Contralateral Mouse 8  slide 6 Neun Red ...  ALL          5054   \n",
       "1  HI 1  Contralateral Mouse 8  slide 6 Neun Red ...   CA          1223   \n",
       "2  HI 1  Contralateral Mouse 8  slide 6 Neun Red ...   DG          1912   \n",
       "\n",
       "   marker+_nuclei  %_marker+_cells  nuclei_ch  marker_ch  \\\n",
       "0            2782        55.045509          3          1   \n",
       "1            1103        90.188062          3          1   \n",
       "2            1473        77.039749          3          1   \n",
       "\n",
       "   marker_int_threshold marker_location  cytoplasm_dilation  erosion_factor  \\\n",
       "0                    40         nucleus                   2               4   \n",
       "1                    40         nucleus                   2               4   \n",
       "2                    40         nucleus                   2               4   \n",
       "\n",
       "   cellpose_nuclei_diameter  gaussian_sigma  slicing_factor  \n",
       "0                       NaN               0             NaN  \n",
       "1                       NaN               0             NaN  \n",
       "2                       NaN               0             NaN  "
      ]
     },
     "execution_count": 16,
     "metadata": {},
     "output_type": "execute_result"
    }
   ],
   "source": [
    "# Define output folder for results\n",
    "results_folder = \"./results/\"\n",
    "\n",
    "# Create the necessary folder structure if it does not exist\n",
    "try:\n",
    "    os.mkdir(str(results_folder))\n",
    "    print(f\"Output folder created: {results_folder}\")\n",
    "except FileExistsError:\n",
    "    print(f\"Output folder already exists: {results_folder}\")\n",
    "\n",
    "# Transform into a dataframe to store it as .csv later\n",
    "df = pd.DataFrame(stats)\n",
    "\n",
    "# Define the .csv path\n",
    "csv_path = \"./results/marker_+_label_coloc_2D.csv\"\n",
    "\n",
    "# Append to the .csv with new data points each round\n",
    "df.to_csv(csv_path, mode=\"a\", index=False, header=not os.path.isfile(csv_path))\n",
    "\n",
    "# Show the updated .csv \n",
    "csv_df = pd.read_csv(csv_path)\n",
    "\n",
    "csv_df"
   ]
  }
 ],
 "metadata": {
  "kernelspec": {
   "display_name": "microglia_GPU",
   "language": "python",
   "name": "python3"
  },
  "language_info": {
   "codemirror_mode": {
    "name": "ipython",
    "version": 3
   },
   "file_extension": ".py",
   "mimetype": "text/x-python",
   "name": "python",
   "nbconvert_exporter": "python",
   "pygments_lexer": "ipython3",
   "version": "3.9.19"
  }
 },
 "nbformat": 4,
 "nbformat_minor": 2
}
