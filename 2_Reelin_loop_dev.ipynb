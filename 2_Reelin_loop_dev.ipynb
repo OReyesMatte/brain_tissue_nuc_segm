{
 "cells": [
  {
   "cell_type": "code",
   "execution_count": 1,
   "metadata": {},
   "outputs": [],
   "source": [
    "from pathlib import Path\n",
    "import czifile\n",
    "import napari\n",
    "import os\n",
    "import numpy as np\n",
    "import pandas as pd\n",
    "from utils import check_filenames, segment_nuclei_2d, segment_marker_positive_nuclei"
   ]
  },
  {
   "cell_type": "code",
   "execution_count": 2,
   "metadata": {},
   "outputs": [
    {
     "name": "stdout",
     "output_type": "stream",
     "text": [
      "No files missing in images list.\n",
      "No files missing in rois list.\n"
     ]
    }
   ],
   "source": [
    "# Copy the path where your images are stored, ideally inside the raw_data directory\n",
    "directory_path = Path(\"./raw_data/Reelin\")\n",
    "roi_directory_path = Path(\"./raw_data/Reelin/ROI\")\n",
    "\n",
    "# Define the subdirectories containing your data\n",
    "subdirectories = [\"Contra\", \"Ipsi\", \"Sham\"]\n",
    "\n",
    "# Create empty lists to store all image filepaths and ROIs within the dataset directory\n",
    "images = []\n",
    "rois = []\n",
    "\n",
    "# Create an empty list to store all stats extracted from each image\n",
    "stats = []\n",
    "\n",
    "# Scan subdirectories and add paths to images fitting certain conditions\n",
    "for subdir in subdirectories:\n",
    "    # Construct the subdirectory path\n",
    "    image_path = directory_path / subdir\n",
    "    # Iterate through the .czi files in the subdirectories\n",
    "    for file_path in image_path.glob(\"*.czi\"):\n",
    "        # Remove unwanted images\n",
    "        if \"AWT\" not in str(file_path) and \"BWT\" not in str(file_path):\n",
    "            images.append(str(file_path))\n",
    "\n",
    "# Scan ROI directory and add paths to the list\n",
    "for file_path in roi_directory_path.glob(\"*.tif\"):\n",
    "    # Remove unwanted images\n",
    "        if \"AWT\" not in str(file_path) and \"BWT\" not in str(file_path):\n",
    "            rois.append(str(file_path))\n",
    "\n",
    "# Check if there is any missing ROI or image file in their corresponding directories\n",
    "check_filenames(images, rois) "
   ]
  }
 ],
 "metadata": {
  "kernelspec": {
   "display_name": "microglia_GPU",
   "language": "python",
   "name": "python3"
  },
  "language_info": {
   "codemirror_mode": {
    "name": "ipython",
    "version": 3
   },
   "file_extension": ".py",
   "mimetype": "text/x-python",
   "name": "python",
   "nbconvert_exporter": "python",
   "pygments_lexer": "ipython3",
   "version": "3.9.19"
  }
 },
 "nbformat": 4,
 "nbformat_minor": 2
}
