{
 "cells": [
  {
   "cell_type": "code",
   "execution_count": 5,
   "metadata": {},
   "outputs": [],
   "source": [
    "from pathlib import Path\n",
    "import czifile\n",
    "import tifffile\n",
    "import napari\n",
    "import os\n",
    "import numpy as np\n",
    "import pandas as pd\n",
    "from utils import check_filenames, segment_nuclei_2d, segment_marker_positive_nuclei"
   ]
  },
  {
   "cell_type": "code",
   "execution_count": 2,
   "metadata": {},
   "outputs": [
    {
     "name": "stdout",
     "output_type": "stream",
     "text": [
      "No files missing in images list.\n",
      "No files missing in rois list.\n"
     ]
    }
   ],
   "source": [
    "# Copy the path where your images are stored, ideally inside the raw_data directory\n",
    "directory_path = Path(\"./raw_data/Reelin\")\n",
    "roi_directory_path = Path(\"./raw_data/Reelin/ROI\")\n",
    "\n",
    "# Define the subdirectories containing your data\n",
    "subdirectories = [\"Contra\", \"Ipsi\", \"Sham\"]\n",
    "\n",
    "# Create empty lists to store all image filepaths and ROIs within the dataset directory\n",
    "images = []\n",
    "rois = []\n",
    "\n",
    "# Create an empty list to store all stats extracted from each image\n",
    "stats = []\n",
    "\n",
    "# Scan subdirectories and add paths to images fitting certain conditions\n",
    "for subdir in subdirectories:\n",
    "    # Construct the subdirectory path\n",
    "    image_path = directory_path / subdir\n",
    "    # Iterate through the .czi files in the subdirectories\n",
    "    for file_path in image_path.glob(\"*.czi\"):\n",
    "        # Remove unwanted images\n",
    "        if \"AWT\" not in str(file_path) and \"BWT\" not in str(file_path):\n",
    "            images.append(str(file_path))\n",
    "\n",
    "# Scan ROI directory and add paths to the list\n",
    "for file_path in roi_directory_path.glob(\"*.tif\"):\n",
    "    # Remove unwanted images\n",
    "        if \"AWT\" not in str(file_path) and \"BWT\" not in str(file_path):\n",
    "            rois.append(str(file_path))\n",
    "\n",
    "# Check if there is any missing ROI or image file in their corresponding directories\n",
    "check_filenames(images, rois) "
   ]
  },
  {
   "cell_type": "code",
   "execution_count": null,
   "metadata": {},
   "outputs": [],
   "source": [
    "for image_path, roi_path in zip(images, rois):\n",
    "    #TODO: Include the full loop here\n",
    "    print (image_path)\n",
    "    print(roi_path)         "
   ]
  },
  {
   "cell_type": "code",
   "execution_count": 14,
   "metadata": {},
   "outputs": [],
   "source": [
    "image_path = images[0]\n",
    "roi_path = rois[0]\n",
    "\n",
    "# Read image and ROI files into Numpy arrays\n",
    "img = czifile.imread(image_path)\n",
    "roi = tifffile.imread(roi_path)\n",
    "\n",
    "# Remove singleton dimensions and perform MIP on input image\n",
    "img = img.squeeze()\n",
    "img_mip = np.max(img, axis=1)\n",
    "\n",
    "# Perform MIP for the region of interest\n",
    "roi_mip = np.max(roi, axis=0)\n",
    "\n",
    "# We will create a mask where label_mip is greater than or equal to 1\n",
    "mask = roi_mip >= 1\n",
    "\n",
    "# Apply the mask to img_mip\n",
    "masked_img = np.where(mask, img_mip, 0)\n",
    "\n"
   ]
  },
  {
   "cell_type": "code",
   "execution_count": 15,
   "metadata": {},
   "outputs": [
    {
     "data": {
      "text/plain": [
       "<Image layer 'roi_mip' at 0x1c88d6a55e0>"
      ]
     },
     "execution_count": 15,
     "metadata": {},
     "output_type": "execute_result"
    }
   ],
   "source": [
    "viewer = napari.Viewer(ndisplay=2)\n",
    "viewer.add_image(img_mip)\n",
    "viewer.add_image(roi_mip)\n",
    "viewer.add_image(masked_img)"
   ]
  },
  {
   "cell_type": "code",
   "execution_count": 17,
   "metadata": {},
   "outputs": [],
   "source": [
    "# Mask input image with the user defined ROI\n",
    "\n"
   ]
  },
  {
   "cell_type": "code",
   "execution_count": 18,
   "metadata": {},
   "outputs": [
    {
     "data": {
      "text/plain": [
       "<Image layer 'masked_img' at 0x1c8bac1e220>"
      ]
     },
     "execution_count": 18,
     "metadata": {},
     "output_type": "execute_result"
    }
   ],
   "source": []
  },
  {
   "cell_type": "code",
   "execution_count": null,
   "metadata": {},
   "outputs": [],
   "source": [
    "# Extract each of the channels separately\n",
    "neun_mip = img_mip[0, :, :, :]\n",
    "reelin_mip = img_mip[1, :, :, :]\n",
    "gad67_mip = img_mip[2, :, :, :]\n",
    "nuclei_mip = img_mip[3, :, :, :] "
   ]
  }
 ],
 "metadata": {
  "kernelspec": {
   "display_name": "microglia_GPU",
   "language": "python",
   "name": "python3"
  },
  "language_info": {
   "codemirror_mode": {
    "name": "ipython",
    "version": 3
   },
   "file_extension": ".py",
   "mimetype": "text/x-python",
   "name": "python",
   "nbconvert_exporter": "python",
   "pygments_lexer": "ipython3",
   "version": "3.9.19"
  }
 },
 "nbformat": 4,
 "nbformat_minor": 2
}
