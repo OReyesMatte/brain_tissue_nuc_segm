{
 "cells": [
  {
   "cell_type": "code",
   "execution_count": 20,
   "metadata": {},
   "outputs": [],
   "source": [
    "from pathlib import Path\n",
    "import czifile\n",
    "import tifffile\n",
    "import napari\n",
    "import pyclesperanto_prototype as cle\n",
    "import numpy as np\n",
    "import pandas as pd\n",
    "from utils import check_filenames, segment_nuclei_2d, segment_marker_positive_nuclei"
   ]
  },
  {
   "cell_type": "code",
   "execution_count": 15,
   "metadata": {},
   "outputs": [],
   "source": [
    "# Define the intensity threshold above which a cell is considered positive for a marker\n",
    "neun_channel_threshold = 30\n",
    "reelin_channel_threshold = 40\n",
    "gad67_channel_threshold = 40\n",
    "\n",
    "# Sets the amount of erosion that is applied to areas where the marker+ signal colocalizes with nuclear signal\n",
    "# The higher the value, the stricter the conditions to consider a nuclei as marker+\n",
    "neun_erosion_factor = 3\n",
    "reelin_erosion_factor = 3\n",
    "gad67_erosion_factor = 3"
   ]
  },
  {
   "cell_type": "code",
   "execution_count": null,
   "metadata": {},
   "outputs": [],
   "source": [
    "# Copy the path where your images are stored, ideally inside the raw_data directory\n",
    "directory_path = Path(\"./raw_data/Reelin\")\n",
    "roi_directory_path = Path(\"./raw_data/Reelin/ROI\")\n",
    "\n",
    "# Define the subdirectories containing your data\n",
    "subdirectories = [\"Contra\", \"Ipsi\", \"Sham\"]\n",
    "\n",
    "# Create empty lists to store all image filepaths and ROIs within the dataset directory\n",
    "images = []\n",
    "rois = []\n",
    "\n",
    "# Create an empty list to store all stats extracted from each image\n",
    "stats = []\n",
    "\n",
    "# Scan subdirectories and add paths to images fitting certain conditions\n",
    "for subdir in subdirectories:\n",
    "    # Construct the subdirectory path\n",
    "    image_path = directory_path / subdir\n",
    "    # Iterate through the .czi files in the subdirectories\n",
    "    for file_path in image_path.glob(\"*.czi\"):\n",
    "        # Remove unwanted images\n",
    "        if \"AWT\" not in str(file_path) and \"BWT\" not in str(file_path):\n",
    "            images.append(str(file_path))\n",
    "\n",
    "# Scan ROI directory and add paths to the list\n",
    "for file_path in roi_directory_path.glob(\"*.tif\"):\n",
    "    # Remove unwanted images\n",
    "        if \"AWT\" not in str(file_path) and \"BWT\" not in str(file_path):\n",
    "            rois.append(str(file_path))\n",
    "\n",
    "# Check if there is any missing ROI or image file in their corresponding directories\n",
    "check_filenames(images, rois) "
   ]
  },
  {
   "cell_type": "code",
   "execution_count": null,
   "metadata": {},
   "outputs": [],
   "source": [
    "for image_path, roi_path in zip(images, rois):\n",
    "    #TODO: Include the full loop here\n",
    "    print (image_path)\n",
    "    print(roi_path)         "
   ]
  },
  {
   "cell_type": "code",
   "execution_count": null,
   "metadata": {},
   "outputs": [],
   "source": [
    "image_path = images[0]\n",
    "roi_path = rois[0]\n",
    "\n",
    "# Read image and ROI files into Numpy arrays\n",
    "img = czifile.imread(image_path)\n",
    "roi = tifffile.imread(roi_path)\n",
    "\n",
    "# Remove singleton dimensions and perform MIP on input image\n",
    "img = img.squeeze()\n",
    "img_mip = np.max(img, axis=1)\n",
    "\n",
    "# Perform MIP for the region of interest\n",
    "roi_mip = np.max(roi, axis=0)\n",
    "\n",
    "# We will create a mask where label_mip is greater than or equal to 1\n",
    "mask = roi_mip >= 1\n",
    "\n",
    "# Apply the mask to img_mip\n",
    "masked_img = np.where(mask, img_mip, 0)\n",
    "\n",
    "# Extract each of the channels separately\n",
    "neun_mip = masked_img[0, :, :]\n",
    "reelin_mip = masked_img[1, :, :]\n",
    "gad67_mip = masked_img[2, :, :]\n",
    "nuclei_mip = masked_img[3, :, :]\n",
    "\n",
    "# Segment nuclei inside the ROI\n",
    "nuclei_labels = segment_nuclei_2d(nuclei_mip)\n",
    "\n",
    "# Dilate or erode nuclei to check for cytoplasmic or nuclear marker colocalization\n",
    "cyto_nuclei_labels = cle.dilate_labels(nuclei_labels, radius=2)\n",
    "cyto_nuclei_labels = cle.pull(cyto_nuclei_labels)\n",
    "eroded_nuclei_labels = cle.erode_labels(nuclei_labels, radius=2)\n",
    "eroded_nuclei_labels = cle.pull(eroded_nuclei_labels)\n",
    "\n",
    "# Select marker positive nuclei\n",
    "neun_tuple = segment_marker_positive_nuclei (nuclei_labels, neun_mip, neun_channel_threshold, neun_erosion_factor)\n",
    "reelin_tuple = segment_marker_positive_nuclei (cyto_nuclei_labels, reelin_mip, reelin_channel_threshold, reelin_erosion_factor)\n",
    "gad67_tuple = segment_marker_positive_nuclei (cyto_nuclei_labels, gad67_mip, gad67_channel_threshold, gad67_erosion_factor)\n"
   ]
  },
  {
   "cell_type": "code",
   "execution_count": null,
   "metadata": {},
   "outputs": [],
   "source": [
    "viewer = napari.Viewer(ndisplay=2)\n",
    "viewer.add_image(img_mip)\n",
    "viewer.add_image(roi_mip)\n",
    "viewer.add_image(masked_img)\n",
    "viewer.add_labels(nuclei_labels)\n",
    "viewer.add_labels(cyto_nuclei_labels)\n",
    "viewer.add_labels(eroded_nuclei_labels)\n",
    "viewer.add_labels(neun_tuple[1], name=\"neun_+_nuclei\")\n",
    "viewer.add_labels(reelin_tuple[1], name=\"reelin_+_nuclei\")\n",
    "viewer.add_labels(gad67_tuple[1], name=\"gad67_+_nuclei\")"
   ]
  }
 ],
 "metadata": {
  "kernelspec": {
   "display_name": "microglia_GPU",
   "language": "python",
   "name": "python3"
  },
  "language_info": {
   "codemirror_mode": {
    "name": "ipython",
    "version": 3
   },
   "file_extension": ".py",
   "mimetype": "text/x-python",
   "name": "python",
   "nbconvert_exporter": "python",
   "pygments_lexer": "ipython3",
   "version": "3.9.19"
  }
 },
 "nbformat": 4,
 "nbformat_minor": 2
}
