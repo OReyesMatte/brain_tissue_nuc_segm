{
 "cells": [
  {
   "cell_type": "markdown",
   "metadata": {},
   "source": [
    "<h2>3D stack to 2D MIP - Single image - Marker+ based on average intensity</h2>\n",
    "\n",
    "The following notebook is able to process a 3D stack (.czi or .nd2 files) into a MIP and allows you to:\n",
    "\n",
    "1. Inspect your images in Napari.\n",
    "2. Define ROIs if needed.\n",
    "3. Read previously defined ROIs, if not present, full image is analyzed.\n",
    "4. Read previously predicted nuclei labels, if not present, generates them.\n",
    "5. Plot cytoplasmic and nuclear average intensities of all markers in all ROIs to later on set a threshold for classification.\n",
    "6. Extract numbers of cells positive for all marker based on signal average intensity within the nuclear or cytoplasmic compartments (using a user-defined min-max range).\n",
    "6. Display positive cells in Napari.\n",
    "7. Extract and save per label per ROI per marker data in a .csv file (filename_per_label_avg_int.csv).\n",
    "8. Extract and save number of positive cells in a .csv file (SP_marker_+_label_avg_int.csv)."
   ]
  },
  {
   "cell_type": "code",
   "execution_count": 1,
   "metadata": {},
   "outputs": [
    {
     "name": "stderr",
     "output_type": "stream",
     "text": [
      "c:\\Users\\adiez_cmic\\miniforge3\\envs\\brain_nuc_cellpose\\Lib\\site-packages\\cellpose\\resnet_torch.py:276: FutureWarning: You are using `torch.load` with `weights_only=False` (the current default value), which uses the default pickle module implicitly. It is possible to construct malicious pickle data which will execute arbitrary code during unpickling (See https://github.com/pytorch/pytorch/blob/main/SECURITY.md#untrusted-models for more details). In a future release, the default value for `weights_only` will be flipped to `True`. This limits the functions that could be executed during unpickling. Arbitrary objects will no longer be allowed to be loaded via this mode unless they are explicitly allowlisted by the user via `torch.serialization.add_safe_globals`. We recommend you start setting `weights_only=True` for any use case where you don't have full control of the loaded file. Please open an issue on GitHub for any issues related to this experimental feature.\n",
      "  state_dict = torch.load(filename, map_location=device)\n"
     ]
    }
   ],
   "source": [
    "from pathlib import Path\n",
    "import tifffile\n",
    "import napari\n",
    "import os\n",
    "from tqdm import tqdm\n",
    "import numpy as np\n",
    "import pandas as pd\n",
    "from skimage.measure import regionprops_table\n",
    "import plotly.express as px\n",
    "from utils_cellpose import list_images, read_image, save_rois, simulate_cytoplasm, segment_nuclei_2d"
   ]
  },
  {
   "cell_type": "markdown",
   "metadata": {},
   "source": [
    "<h3>Define the directory for your images (.nd2 or .czi files) and cell marker info</h3>"
   ]
  },
  {
   "cell_type": "code",
   "execution_count": 2,
   "metadata": {},
   "outputs": [
    {
     "data": {
      "text/plain": [
       "['..\\\\raw_data\\\\test_data\\\\HI1_CONTRA_M8_S6_TR1.czi',\n",
       " '..\\\\raw_data\\\\test_data\\\\HI1_CONTRA_M8_S6_TR2.czi',\n",
       " '..\\\\raw_data\\\\test_data\\\\HI1_CONTRA_M8_S7_TR1.czi',\n",
       " '..\\\\raw_data\\\\test_data\\\\HI1_CONTRA_M8_S7_TR2.czi',\n",
       " '..\\\\raw_data\\\\test_data\\\\HI1_IPSI_M8_S6_TR1.czi',\n",
       " '..\\\\raw_data\\\\test_data\\\\HI1_IPSI_M8_S6_TR2.czi',\n",
       " '..\\\\raw_data\\\\test_data\\\\HI1_IPSI_M8_S7_TR1.czi',\n",
       " '..\\\\raw_data\\\\test_data\\\\HI2_CONTRA_M10_S10_TR1.czi',\n",
       " '..\\\\raw_data\\\\test_data\\\\HI2_CONTRA_M10_S10_TR2.czi',\n",
       " '..\\\\raw_data\\\\test_data\\\\HI2_IPSI_M10_S10_TR1.czi',\n",
       " '..\\\\raw_data\\\\test_data\\\\HI2_IPSI_M10_S10_TR2.czi',\n",
       " '..\\\\raw_data\\\\test_data\\\\HI3_CONTRA_M11_S10_TR1.czi',\n",
       " '..\\\\raw_data\\\\test_data\\\\HI3_CONTRA_M11_S10_TR2.czi',\n",
       " '..\\\\raw_data\\\\test_data\\\\HI3_IPSI_M11_S10_TR1.czi',\n",
       " '..\\\\raw_data\\\\test_data\\\\HI3_IPSI_M11_S10_TR2.czi',\n",
       " '..\\\\raw_data\\\\test_data\\\\SHAM1_CONTRA_M6_S11_TR1.czi',\n",
       " '..\\\\raw_data\\\\test_data\\\\SHAM1_CONTRA_M6_S11_TR2.czi',\n",
       " '..\\\\raw_data\\\\test_data\\\\SHAM1_CONTRA_M7_S11_TR1.czi',\n",
       " '..\\\\raw_data\\\\test_data\\\\SHAM1_CONTRA_M7_S11_TR2.czi',\n",
       " '..\\\\raw_data\\\\test_data\\\\SHAM1_IPSI_M6_S11_TR1.czi',\n",
       " '..\\\\raw_data\\\\test_data\\\\SHAM1_IPSI_M6_S11_TR2.czi',\n",
       " '..\\\\raw_data\\\\test_data\\\\SHAM1_IPSI_M7_S11_TR1.czi',\n",
       " '..\\\\raw_data\\\\test_data\\\\SHAM1_IPSI_M7_S11_TR2.czi']"
      ]
     },
     "execution_count": 2,
     "metadata": {},
     "output_type": "execute_result"
    }
   ],
   "source": [
    "# Copy the path where your images are stored, you can use absolute or relative paths to point at other disk locations\n",
    "directory_path = Path(\"../raw_data/test_data\")\n",
    "\n",
    "# Define the channels you want to analyze using the following structure:\n",
    "# markers = [(channel_name, channel_nr, cellular_location),(..., ..., ...)]\n",
    "# Remember in Python one starts counting from 0, so your first channel will be 0\n",
    "# markers = [(\"ki67\", 0, \"nucleus\"), (\"neun\", 1, \"nucleus\"), (\"calbindin\", 2, \"cytoplasm\")]\n",
    "markers = [(\"ki67\", 0, \"nucleus\"), (\"neun\", 1, \"nucleus\"), (\"calbindin\", 2, \"cytoplasm\")]\n",
    "\n",
    "# Iterate through the .czi and .nd2 files in the raw_data directory\n",
    "images = list_images(directory_path)\n",
    "\n",
    "images"
   ]
  },
  {
   "cell_type": "markdown",
   "metadata": {},
   "source": [
    "<h3>Open each image in the directory</h3>\n",
    "You can do so by changing the number within the brackets below <code>image = images[0]</code>. Make sure to input the same <code>slicing factor</code> you used when generating nuclei predictions. \n",
    "\n",
    "If you have not generated nuclei predictions already, input <code>nuclei_channel</code>, <code>cellpose_nuclei_diameter</code> and <code>gaussian_sigma</code> values."
   ]
  },
  {
   "cell_type": "code",
   "execution_count": 3,
   "metadata": {},
   "outputs": [
    {
     "name": "stdout",
     "output_type": "stream",
     "text": [
      "\n",
      "\n",
      "Image analyzed: HI1_CONTRA_M8_S6_TR1\n",
      "Original Array shape: (4, 14, 3803, 2891)\n",
      "MIP Array shape: (4, 3803, 2891)\n"
     ]
    },
    {
     "name": "stderr",
     "output_type": "stream",
     "text": [
      "Invalid schema for package 'ome-types', please run 'npe2 validate ome-types' to check for manifest errors.\n"
     ]
    },
    {
     "data": {
      "text/plain": [
       "<Image layer 'img_mip' at 0x1bedfcdecd0>"
      ]
     },
     "execution_count": 3,
     "metadata": {},
     "output_type": "execute_result"
    }
   ],
   "source": [
    "# Explore each image to analyze (0 defines the first image in the directory)\n",
    "image = images[0]\n",
    "\n",
    "# Remember to input the same slicing factor you used when generating the nuclei predictions\n",
    "slicing_factor = None # Use 2 or 4 for compression (None for lossless)\n",
    "\n",
    "# Define the nuclei and markers of interest channel order ('Remember in Python one starts counting from zero')\n",
    "nuclei_channel = 3\n",
    "\n",
    "# Segmentation type (\"2D\" or \"3D\"). \n",
    "# 2D takes a z-stack as input, performs MIP (Maximum Intensity Projection) and predicts nuclei from the resulting projection (faster, useful for single layers of cells)\n",
    "# 3D is more computationally expensive. Predicts 3D nuclear volumes, useful for multilayered structures\n",
    "segmentation_type = \"2D\"\n",
    "\n",
    "# This is a placeholder to later choose from fine-tuned Cellpose models (default nuclei model in Cellpose 3.0)\n",
    "model_name = \"Cellpose\"\n",
    "\n",
    "# Define your nuclei diameter, it speeds up nuclei detection, if unknown leave it as None\n",
    "cellpose_nuclei_diameter = None\n",
    "\n",
    "# Define the amount of blur applied to nuclei\n",
    "# Blurs the mip_nuclei image to even out high intensity foci within the nucleus, the higher the value blurriness increases\n",
    "# High values help segment sparse nuclei (CA and CTX regions) but as a drawback it merges nuclei entities that are very close together (DG region)\n",
    "gaussian_sigma = 0 \n",
    "\n",
    "# Generate maximum intensity projection and extract filename\n",
    "img_mip, filename = read_image(image, slicing_factor)\n",
    "\n",
    "# Show image in Napari\n",
    "viewer = napari.Viewer(ndisplay=2)\n",
    "viewer.add_image(img_mip)"
   ]
  },
  {
   "cell_type": "markdown",
   "metadata": {},
   "source": [
    "<h3>Label your regions of interest in Napari and explore the signal of your marker of interest</h3>\n",
    "\n",
    "Make sure to set <code>n edit dim = 3</code> so the label propagates across all channels. Name your regions of interest as i.e. <code>DG</code>, <code>CA1</code>, <code>CA3</code> or <code>HIPPO</code>. If you do not draw any ROI the entire image will be analyzed."
   ]
  },
  {
   "cell_type": "markdown",
   "metadata": {},
   "source": [
    "<video controls>\n",
    "  <source src=\"../assets/napari_labels.mp4\" type=\"video/mp4\">\n",
    "  Your browser does not support the video tag.\n",
    "</video>"
   ]
  },
  {
   "cell_type": "markdown",
   "metadata": {},
   "source": [
    "<h3>Save user-defined label ROIs as .tiff files</h3>"
   ]
  },
  {
   "cell_type": "code",
   "execution_count": 4,
   "metadata": {},
   "outputs": [
    {
     "name": "stdout",
     "output_type": "stream",
     "text": [
      "No user-defined ROIs have been stored\n"
     ]
    }
   ],
   "source": [
    "save_rois(viewer, directory_path, filename)"
   ]
  },
  {
   "cell_type": "markdown",
   "metadata": {},
   "source": [
    "<h3>Extract average intensities of markers within each defined cell compartment and ROI</h3>"
   ]
  },
  {
   "cell_type": "code",
   "execution_count": 5,
   "metadata": {},
   "outputs": [
    {
     "name": "stdout",
     "output_type": "stream",
     "text": [
      "The following regions of interest will be analyzed: ['CA', 'DG']\n"
     ]
    },
    {
     "name": "stderr",
     "output_type": "stream",
     "text": [
      "  0%|          | 0/2 [00:00<?, ?it/s]"
     ]
    },
    {
     "name": "stdout",
     "output_type": "stream",
     "text": [
      "\n",
      "Analyzing ROI: CA\n",
      "Pre-computed nuclei labels found for HI1_CONTRA_M8_S6_TR1\n",
      "Analyzing channel: ki67\n",
      "Analyzing channel: neun\n",
      "Analyzing channel: calbindin\n",
      "Generating cytoplasm labels for: calbindin\n"
     ]
    },
    {
     "name": "stderr",
     "output_type": "stream",
     "text": [
      " 50%|█████     | 1/2 [00:01<00:01,  1.13s/it]"
     ]
    },
    {
     "name": "stdout",
     "output_type": "stream",
     "text": [
      "\n",
      "Analyzing ROI: DG\n",
      "Pre-computed nuclei labels found for HI1_CONTRA_M8_S6_TR1\n",
      "Analyzing channel: ki67\n",
      "Analyzing channel: neun\n",
      "Analyzing channel: calbindin\n",
      "Generating cytoplasm labels for: calbindin\n"
     ]
    },
    {
     "name": "stderr",
     "output_type": "stream",
     "text": [
      "100%|██████████| 2/2 [00:01<00:00,  1.03it/s]\n"
     ]
    },
    {
     "data": {
      "text/html": [
       "<div>\n",
       "<style scoped>\n",
       "    .dataframe tbody tr th:only-of-type {\n",
       "        vertical-align: middle;\n",
       "    }\n",
       "\n",
       "    .dataframe tbody tr th {\n",
       "        vertical-align: top;\n",
       "    }\n",
       "\n",
       "    .dataframe thead th {\n",
       "        text-align: right;\n",
       "    }\n",
       "</style>\n",
       "<table border=\"1\" class=\"dataframe\">\n",
       "  <thead>\n",
       "    <tr style=\"text-align: right;\">\n",
       "      <th></th>\n",
       "      <th>filename</th>\n",
       "      <th>ROI</th>\n",
       "      <th>label</th>\n",
       "      <th>nucleus_ki67_avg_int</th>\n",
       "      <th>nucleus_neun_avg_int</th>\n",
       "      <th>cytoplasm_calbindin_avg_int</th>\n",
       "    </tr>\n",
       "  </thead>\n",
       "  <tbody>\n",
       "    <tr>\n",
       "      <th>0</th>\n",
       "      <td>HI1_CONTRA_M8_S6_TR1</td>\n",
       "      <td>CA</td>\n",
       "      <td>1</td>\n",
       "      <td>86.300962</td>\n",
       "      <td>97.016346</td>\n",
       "      <td>15.955224</td>\n",
       "    </tr>\n",
       "    <tr>\n",
       "      <th>1</th>\n",
       "      <td>HI1_CONTRA_M8_S6_TR1</td>\n",
       "      <td>CA</td>\n",
       "      <td>2</td>\n",
       "      <td>65.091667</td>\n",
       "      <td>16.241667</td>\n",
       "      <td>8.528302</td>\n",
       "    </tr>\n",
       "    <tr>\n",
       "      <th>2</th>\n",
       "      <td>HI1_CONTRA_M8_S6_TR1</td>\n",
       "      <td>CA</td>\n",
       "      <td>3</td>\n",
       "      <td>64.604167</td>\n",
       "      <td>39.833333</td>\n",
       "      <td>9.206897</td>\n",
       "    </tr>\n",
       "    <tr>\n",
       "      <th>3</th>\n",
       "      <td>HI1_CONTRA_M8_S6_TR1</td>\n",
       "      <td>CA</td>\n",
       "      <td>4</td>\n",
       "      <td>86.377637</td>\n",
       "      <td>90.877637</td>\n",
       "      <td>11.417582</td>\n",
       "    </tr>\n",
       "    <tr>\n",
       "      <th>4</th>\n",
       "      <td>HI1_CONTRA_M8_S6_TR1</td>\n",
       "      <td>CA</td>\n",
       "      <td>5</td>\n",
       "      <td>108.471429</td>\n",
       "      <td>46.031429</td>\n",
       "      <td>16.793893</td>\n",
       "    </tr>\n",
       "    <tr>\n",
       "      <th>...</th>\n",
       "      <td>...</td>\n",
       "      <td>...</td>\n",
       "      <td>...</td>\n",
       "      <td>...</td>\n",
       "      <td>...</td>\n",
       "      <td>...</td>\n",
       "    </tr>\n",
       "    <tr>\n",
       "      <th>2849</th>\n",
       "      <td>HI1_CONTRA_M8_S6_TR1</td>\n",
       "      <td>DG</td>\n",
       "      <td>1580</td>\n",
       "      <td>94.090411</td>\n",
       "      <td>14.279452</td>\n",
       "      <td>14.977143</td>\n",
       "    </tr>\n",
       "    <tr>\n",
       "      <th>2850</th>\n",
       "      <td>HI1_CONTRA_M8_S6_TR1</td>\n",
       "      <td>DG</td>\n",
       "      <td>1581</td>\n",
       "      <td>111.038462</td>\n",
       "      <td>155.445344</td>\n",
       "      <td>30.577236</td>\n",
       "    </tr>\n",
       "    <tr>\n",
       "      <th>2851</th>\n",
       "      <td>HI1_CONTRA_M8_S6_TR1</td>\n",
       "      <td>DG</td>\n",
       "      <td>1582</td>\n",
       "      <td>135.163934</td>\n",
       "      <td>23.846995</td>\n",
       "      <td>15.620370</td>\n",
       "    </tr>\n",
       "    <tr>\n",
       "      <th>2852</th>\n",
       "      <td>HI1_CONTRA_M8_S6_TR1</td>\n",
       "      <td>DG</td>\n",
       "      <td>1583</td>\n",
       "      <td>97.029748</td>\n",
       "      <td>39.167048</td>\n",
       "      <td>20.030303</td>\n",
       "    </tr>\n",
       "    <tr>\n",
       "      <th>2853</th>\n",
       "      <td>HI1_CONTRA_M8_S6_TR1</td>\n",
       "      <td>DG</td>\n",
       "      <td>1584</td>\n",
       "      <td>190.660000</td>\n",
       "      <td>22.260000</td>\n",
       "      <td>21.118644</td>\n",
       "    </tr>\n",
       "  </tbody>\n",
       "</table>\n",
       "<p>2854 rows × 6 columns</p>\n",
       "</div>"
      ],
      "text/plain": [
       "                  filename ROI  label  nucleus_ki67_avg_int  \\\n",
       "0     HI1_CONTRA_M8_S6_TR1  CA      1             86.300962   \n",
       "1     HI1_CONTRA_M8_S6_TR1  CA      2             65.091667   \n",
       "2     HI1_CONTRA_M8_S6_TR1  CA      3             64.604167   \n",
       "3     HI1_CONTRA_M8_S6_TR1  CA      4             86.377637   \n",
       "4     HI1_CONTRA_M8_S6_TR1  CA      5            108.471429   \n",
       "...                    ...  ..    ...                   ...   \n",
       "2849  HI1_CONTRA_M8_S6_TR1  DG   1580             94.090411   \n",
       "2850  HI1_CONTRA_M8_S6_TR1  DG   1581            111.038462   \n",
       "2851  HI1_CONTRA_M8_S6_TR1  DG   1582            135.163934   \n",
       "2852  HI1_CONTRA_M8_S6_TR1  DG   1583             97.029748   \n",
       "2853  HI1_CONTRA_M8_S6_TR1  DG   1584            190.660000   \n",
       "\n",
       "      nucleus_neun_avg_int  cytoplasm_calbindin_avg_int  \n",
       "0                97.016346                    15.955224  \n",
       "1                16.241667                     8.528302  \n",
       "2                39.833333                     9.206897  \n",
       "3                90.877637                    11.417582  \n",
       "4                46.031429                    16.793893  \n",
       "...                    ...                          ...  \n",
       "2849             14.279452                    14.977143  \n",
       "2850            155.445344                    30.577236  \n",
       "2851             23.846995                    15.620370  \n",
       "2852             39.167048                    20.030303  \n",
       "2853             22.260000                    21.118644  \n",
       "\n",
       "[2854 rows x 6 columns]"
      ]
     },
     "execution_count": 5,
     "metadata": {},
     "output_type": "execute_result"
    }
   ],
   "source": [
    "# Construct ROI and nuclei predictions paths from directory_path above\n",
    "roi_path = directory_path / \"ROIs\"\n",
    "nuclei_preds_path =  directory_path / \"nuclei_preds\" / segmentation_type / model_name\n",
    "\n",
    "# Extract the experiment name from the data directory path\n",
    "experiment_id = directory_path.name\n",
    "\n",
    "# List of subfolder names\n",
    "try:\n",
    "    roi_names = [folder.name for folder in roi_path.iterdir() if folder.is_dir()]\n",
    "\n",
    "except FileNotFoundError:\n",
    "    roi_names = [\"full_image\"]\n",
    "        \n",
    "print(f\"The following regions of interest will be analyzed: {roi_names}\")\n",
    "\n",
    "# Initialize an empty list to hold the extracted dataframes on a per ROI basis\n",
    "per_roi_props = []\n",
    "\n",
    "for roi_name in tqdm(roi_names):\n",
    "    print(f\"\\nAnalyzing ROI: {roi_name}\")\n",
    "\n",
    "    # Initialize an empty list to hold the extracted dataframes on a per channel basis\n",
    "    props_list = []\n",
    "\n",
    "    # Read the user defined ROIs, in case of full image analysis generate a label covering the entire image\n",
    "    try:\n",
    "        # Read previously defined ROIs\n",
    "        user_roi = tifffile.imread(roi_path / roi_name / f\"{filename}.tiff\")\n",
    "\n",
    "    except FileNotFoundError:\n",
    "        # Extract the xy dimensions of the input image \n",
    "        img_shape = img_mip.shape\n",
    "        img_xy_dims = img_shape[-2:]\n",
    "\n",
    "        # Create a label covering the entire image\n",
    "        user_roi = np.ones(img_xy_dims).astype(np.uint8)\n",
    "\n",
    "    # Read previously predicted nuclei labels, if not present generate nuclei predictions and save them\n",
    "    try:\n",
    "        # Read the nuclei predictions per ROI\n",
    "        nuclei_labels = tifffile.imread(nuclei_preds_path / roi_name / f\"{filename}.tiff\")\n",
    "        print(f\"Pre-computed nuclei labels found for {filename}\")\n",
    "    except FileNotFoundError:\n",
    "        print(f\"Generating nuclei labels for {filename}\")\n",
    "        # Slice the nuclei stack\n",
    "        nuclei_img = img_mip[nuclei_channel, :, :]\n",
    "\n",
    "        # We will create a mask where roi is greater than or equal to 1\n",
    "        mask = (user_roi >= 1).astype(np.uint8)\n",
    "\n",
    "        # Apply the mask to nuclei_img and marker_img, setting all other pixels to 0\n",
    "        masked_nuclei_img = np.where(mask, nuclei_img, 0)\n",
    "\n",
    "        # Segment nuclei and return labels\n",
    "        nuclei_labels = segment_nuclei_2d(masked_nuclei_img, gaussian_sigma, cellpose_nuclei_diameter)\n",
    "\n",
    "        # Save nuclei labels as .tiff files to reuse them later\n",
    "        # Create nuclei_predictions directory if it does not exist\n",
    "        try:\n",
    "            os.makedirs(nuclei_preds_path / roi_name)\n",
    "        except FileExistsError:\n",
    "            pass\n",
    "\n",
    "        # Construct path to store\n",
    "        path_to_store = nuclei_preds_path / roi_name / f\"{filename}.tiff\"\n",
    "\n",
    "        # Save mask (binary image)\n",
    "        tifffile.imwrite(path_to_store, nuclei_labels)\n",
    "\n",
    "    # Add the predicted nuclei as labels into Napari\n",
    "    viewer.add_labels(nuclei_labels, name=f\"{roi_name}_nuclei\")\n",
    "\n",
    "    # Add the ROIs as labels into Napari\n",
    "    viewer.add_labels(user_roi, name=f\"{roi_name}_ROI\", opacity=0.4)\n",
    "\n",
    "    # Create a dictionary containing all image descriptors\n",
    "    descriptor_dict = {\n",
    "                \"filename\": filename,\n",
    "                \"ROI\": roi_name,\n",
    "                }\n",
    "\n",
    "    # Loop through each channel and extract the average intensity within either nuclei or cytoplasmic regions\n",
    "    for tuple in markers:\n",
    "\n",
    "        channel_name = tuple[0]\n",
    "        ch_nr = tuple[1]\n",
    "        location = tuple[2]\n",
    "\n",
    "        print(f\"Analyzing channel: {channel_name}\")\n",
    "\n",
    "        if location == \"cytoplasm\":\n",
    "            print(f\"Generating cytoplasm labels for: {channel_name}\")\n",
    "            # Simulate a cytoplasm by dilating the nuclei and substracting the nuclei mask afterwards\n",
    "            cytoplasm_labels = simulate_cytoplasm(nuclei_labels, dilation_radius = 2, erosion_radius = 0)\n",
    "\n",
    "            # Add the predicted nuclei as labels into Napari\n",
    "            viewer.add_labels(cytoplasm_labels, name=f\"{roi_name}_cytoplasm\")\n",
    "\n",
    "            # Extract intensity information from each marker channel\n",
    "            props = regionprops_table(label_image=cytoplasm_labels,\n",
    "                                intensity_image=img_mip[ch_nr],\n",
    "                                properties=[\"label\", \"intensity_mean\"])\n",
    "        \n",
    "        elif location == \"nucleus\":\n",
    "\n",
    "            # Extract intensity information from each marker channel\n",
    "            props = regionprops_table(label_image=nuclei_labels,\n",
    "                                intensity_image=img_mip[ch_nr],\n",
    "                                properties=[\"label\", \"intensity_mean\"])\n",
    "        \n",
    "\n",
    "        # Convert to dataframe\n",
    "        props_df = pd.DataFrame(props)\n",
    "\n",
    "        # Rename intensity_mean column to indicate the specific image\n",
    "        props_df.rename(columns={\"intensity_mean\": f\"{location}_{channel_name}_avg_int\"}, inplace=True)\n",
    "\n",
    "        # Append each props_df to props_list\n",
    "        props_list.append(props_df)\n",
    "\n",
    "        # Initialize the df with the first df in the list\n",
    "        props_df = props_list[0]\n",
    "        # Start looping from the second df in the list\n",
    "        for df in props_list[1:]:\n",
    "            props_df = props_df.merge(df, on=\"label\")\n",
    "\n",
    "    # Add each key-value pair from descriptor_dict to props_df at the specified position\n",
    "    insertion_position = 0    \n",
    "    for key, value in descriptor_dict.items():\n",
    "        props_df.insert(insertion_position, key, value)\n",
    "        insertion_position += 1  # Increment position to maintain the order of keys in descriptor_dict\n",
    "\n",
    "    # Append each props_df to props_list\n",
    "    per_roi_props.append(props_df)\n",
    "\n",
    "final_df = pd.concat(per_roi_props, ignore_index=True)\n",
    "\n",
    "final_df"
   ]
  },
  {
   "cell_type": "markdown",
   "metadata": {},
   "source": [
    "<h3>Save per label per ROI per marker data</h3>"
   ]
  },
  {
   "cell_type": "code",
   "execution_count": 6,
   "metadata": {},
   "outputs": [
    {
     "name": "stdout",
     "output_type": "stream",
     "text": [
      "'results\\test_data\\2D\\Cellpose' folder created successfully.\n"
     ]
    }
   ],
   "source": [
    "# Create a 'results' folder in the root directory\n",
    "results_folder = Path(\"results\") / experiment_id / segmentation_type / model_name\n",
    "\n",
    "try:\n",
    "    os.makedirs(results_folder)\n",
    "    print(f\"'{results_folder}' folder created successfully.\")\n",
    "except FileExistsError:\n",
    "    print(f\"'{results_folder}' folder already exists.\")\n",
    "\n",
    "# Save the df containing per_label results into a CSV file\n",
    "final_df.to_csv(results_folder / f'{filename}_per_label_avg_int.csv')"
   ]
  },
  {
   "cell_type": "markdown",
   "metadata": {},
   "source": [
    "<h3>Plot average intensities</h3>"
   ]
  },
  {
   "cell_type": "code",
   "execution_count": 7,
   "metadata": {},
   "outputs": [
    {
     "data": {
      "application/vnd.plotly.v1+json": {
       "config": {
        "plotlyServerURL": "https://plot.ly"
       },
       "data": [
        {
         "alignmentgroup": "True",
         "bingroup": "x",
         "hovertemplate": "variable=nucleus_ki67_avg_int<br>nucleus_ki67_avg_int=%{x}<br>count=%{y}<extra></extra>",
         "legendgroup": "nucleus_ki67_avg_int",
         "marker": {
          "color": "#636efa",
          "pattern": {
           "shape": ""
          }
         },
         "name": "nucleus_ki67_avg_int",
         "nbinsx": 256,
         "offsetgroup": "nucleus_ki67_avg_int",
         "orientation": "v",
         "showlegend": true,
         "type": "histogram",
         "x": [
          86.30096153846154,
          65.09166666666667,
          64.60416666666667,
          86.37763713080169,
          108.47142857142858,
          85.91299677765844,
          83.74056603773585,
          103.85233918128655,
          98.03410230692076,
          86.05845181674566,
          92.24694376528117,
          102.10581395348837,
          109.15714285714286,
          89.26948775055679,
          104.49700598802396,
          107.8757225433526,
          99.39873417721519,
          102.14367816091954,
          88.4319248826291,
          92.73588709677419,
          92.02718446601942,
          108.77578475336323,
          103.60362694300518,
          73.18773234200744,
          123.49678111587983,
          104.52785923753666,
          81.14414414414415,
          98.81369248035915,
          97.63372093023256,
          103.85500575373993,
          88.89433962264151,
          96.08361774744027,
          116.19277108433735,
          230.8063063063063,
          102.6923076923077,
          129.88719153936546,
          125.11522633744856,
          134.31491712707182,
          105.92929292929293,
          124.9578783151326,
          84.33448873483536,
          120.83059418457648,
          120.94763092269326,
          127.5079365079365,
          120.99503105590063,
          135.1001494768311,
          97.12869822485207,
          129.1657824933687,
          107.71908396946564,
          127.02225755166931,
          130.74193548387098,
          111.15384615384616,
          122.17080291970802,
          116.02439024390245,
          90.98884758364312,
          120.2549537648613,
          138.29394387001477,
          124.82456140350877,
          126.36590038314176,
          138.41466666666668,
          130.05544147843943,
          134.0569105691057,
          88.56875,
          98.85046728971963,
          143.27457627118645,
          138.57951482479785,
          136.75340136054422,
          140.58802816901408,
          161.91392405063291,
          121.65753424657534,
          126.44743276283619,
          106.9073359073359,
          135.86058981233245,
          144.57538035961272,
          133.8846153846154,
          138.35160427807486,
          130.71614583333334,
          136.8400646203554,
          137.17345132743364,
          144.14545454545456,
          130.005698005698,
          139.96696696696696,
          147.6560975609756,
          101.5564024390244,
          139.24820659971306,
          127.07142857142857,
          143.03048780487805,
          146.41654135338345,
          141.0057306590258,
          123.90586932447397,
          134.21341463414635,
          148.7680981595092,
          146.59604190919674,
          151.20618556701032,
          148.49059139784947,
          154.02295081967213,
          137.07162921348313,
          115.3058568329718,
          133.9628252788104,
          136.82008368200837,
          148.97278911564626,
          149.91382405745063,
          155.24313725490197,
          127.32938388625593,
          145.26734104046244,
          155.72624798711755,
          154.6988727858293,
          151.19724137931036,
          150.5795297372061,
          132.29947916666666,
          160.5340699815838,
          137.841620626151,
          131.335952848723,
          147.8081534772182,
          155.86006289308176,
          129.69892473118279,
          137.00779220779222,
          144.4950495049505,
          111.63802083333333,
          150.62409638554217,
          147.78843788437885,
          123.64905660377359,
          139.55878928987195,
          152.80112834978843,
          151.04470938897168,
          144.40975609756097,
          151.10903873744618,
          126.62429378531074,
          104.10746812386157,
          129.31926121372032,
          147.4109090909091,
          144.72535211267606,
          141.7953795379538,
          101.1590909090909,
          137.04225352112675,
          145.07413793103447,
          151.56652360515022,
          140.08267090620032,
          137.30623306233062,
          137.00462249614793,
          159.1170431211499,
          144.35378031383738,
          129.43709677419355,
          125.66176470588235,
          141.11151960784315,
          148.89233576642334,
          143.23584905660377,
          150.8860353130016,
          150.297247706422,
          145.87947882736157,
          100.07142857142857,
          130.1786197564276,
          141.56984785615492,
          135.67307692307693,
          159.43683083511777,
          163.4361493123772,
          132.16363636363636,
          141.09850374064837,
          114.19557195571956,
          134.74917127071822,
          140.43620178041542,
          138.03125,
          145.75782155272307,
          137.37912673056442,
          144.15245901639344,
          122.98245614035088,
          141.5371794871795,
          110.1952861952862,
          133.5888888888889,
          145.25882352941176,
          144.0037037037037,
          143.86475409836066,
          138.89280868385347,
          143.87405541561714,
          128.12255772646537,
          137.25692307692307,
          128.62165963431787,
          143.02439024390245,
          133.35026737967914,
          125.87150837988827,
          105.88305489260144,
          131.51536312849163,
          133.23419540229884,
          131.4490909090909,
          143.4806517311609,
          154.33777777777777,
          141.00498753117208,
          141.90524193548387,
          145.56962025316454,
          136.63219895287958,
          133.62470862470863,
          133.22795969773298,
          140.19874804381845,
          146.71302816901408,
          138.39319470699434,
          120.09580838323353,
          138.756,
          151.10723860589812,
          123.34117647058824,
          139.0766016713092,
          124.88876404494383,
          170.9752808988764,
          148.34677419354838,
          120.01869158878505,
          135.19456066945608,
          176.247582205029,
          117.9876160990712,
          124.64621968616262,
          132.93454038997214,
          122.84531886024423,
          106.31600831600832,
          98.2020905923345,
          92.59677419354838,
          143.2859450726979,
          148.00150829562594,
          141.28954423592492,
          128.0909090909091,
          124.83703703703704,
          127.98603839441536,
          132.43337819650068,
          81.43434343434343,
          134.50803212851406,
          140.65033407572383,
          134.98067632850243,
          135.75510204081633,
          153.32820512820513,
          146.63431542461007,
          71.55660377358491,
          127.53380281690141,
          122.5225102319236,
          91.66265060240964,
          135.47042253521127,
          123.6146095717884,
          134.90961262553802,
          128.09150326797385,
          75.70722433460077,
          117.37132352941177,
          133.36824324324326,
          126.842287694974,
          121.49855072463768,
          122.07794361525704,
          119.24877450980392,
          136.06946454413892,
          120.9625520110957,
          125.22979797979798,
          120.43529411764706,
          109.55792276964048,
          64.22857142857143,
          110.71621621621621,
          115.77162293488824,
          100.23521505376344,
          99.53896961690884,
          105.11845730027548,
          76.66156462585035,
          113.76283618581907,
          121.79399727148704,
          116.94607843137256,
          110.24801061007958,
          118.45664739884393,
          115.53418803418803,
          107.58294573643411,
          101.54347826086956,
          124.42793462109955,
          123.60526315789474,
          127.5778748180495,
          132.96903225806452,
          115.91617473435656,
          138.47292418772562,
          119.47305389221557,
          119.74829931972789,
          119.69320066334991,
          88.03225806451613,
          124.31684981684981,
          134.46644664466447,
          122.30640668523677,
          91.0545746388443,
          127.29349269588313,
          142.02669039145908,
          178.27619047619046,
          125.53648648648648,
          117.71100164203612,
          133.58280657395701,
          143.1225806451613,
          129.76279069767443,
          123.34428383705651,
          142.95465994962217,
          152.93543307086614,
          129.573055028463,
          135.30152671755727,
          132.21815008726003,
          135.38125,
          143.29813664596273,
          150.95045045045046,
          124.90796703296704,
          132.1762114537445,
          133.3801652892562,
          125.78755074424899,
          122.34150612959719,
          127.05555555555556,
          111.17788461538461,
          106.47553816046967,
          117.2125340599455,
          123.34969325153374,
          130.10382513661202,
          146.53311258278146,
          131.97946611909651,
          133.56760563380283,
          132.8797736916549,
          86.46067415730337,
          136.5411622276029,
          120.05174825174825,
          121.87896253602305,
          138.77198697068403,
          133.656,
          124.00771208226222,
          132.97067901234567,
          140.02892561983472,
          145.4943820224719,
          132.5893909626719,
          119.78884462151395,
          129.12048192771084,
          132.01560062402496,
          130.68198529411765,
          114.02304147465438,
          128.0547263681592,
          136.7247340425532,
          130.27012987012986,
          105.98239436619718,
          158.50244698205546,
          130.9861635220126,
          136.76165113182424,
          148.13544668587897,
          140.96296296296296,
          109.52830188679245,
          171.12021857923497,
          98.13888888888889,
          137.20804195804195,
          135.1732745961821,
          132.41252006420547,
          127.30174563591022,
          134.9808306709265,
          141.4520725388601,
          125.29040404040404,
          134.3230198019802,
          136.9008746355685,
          126.68980477223427,
          142.95421245421247,
          134.268115942029,
          136.85778781038374,
          133.54978354978354,
          119.65439093484419,
          129.70113493064312,
          138.75550122249388,
          127.4593220338983,
          151.66056910569105,
          133.21176470588236,
          135.41176470588235,
          117.05504587155963,
          129.90230905861458,
          145.28553459119496,
          138.27323943661972,
          141.05181347150258,
          143.91954022988506,
          136.7889447236181,
          117.2396694214876,
          238.8125,
          134.73190789473685,
          147.03733766233765,
          78.42512077294685,
          129.64452644526446,
          174.24561403508773,
          100.11548556430446,
          84.58987783595113,
          121.45405405405405,
          140.66255144032922,
          83.38425925925925,
          150.4508670520231,
          131.13050075872533,
          150.66726943942135,
          159.52380952380952,
          137.70702179176754,
          134.04132231404958,
          117.34261838440112,
          139.17292006525287,
          146.4318181818182,
          138.98948751642575,
          123.77333333333333,
          113.81428571428572,
          127.58105939004815,
          128.66203703703704,
          150.6417910447761,
          125.71815718157181,
          96.91304347826087,
          114.04953560371517,
          223.60655737704917,
          129.46288209606988,
          119.52380952380952,
          136.75688816855754,
          138.23415977961432,
          116.01104972375691,
          116.37037037037037,
          136.63883847549909,
          114.0374149659864,
          195.63616071428572,
          130.8062234794908,
          134.35401459854015,
          100.41666666666667,
          178.83665338645417,
          138.84080370942814,
          117.8944365192582,
          113.8739946380697,
          165.24444444444444,
          134.47249647390692,
          117.6015132408575,
          126.40707964601769,
          100.27459016393442,
          115.95739014647137,
          125.61060802069858,
          141.72146739130434,
          107.5695067264574,
          121.79666160849773,
          135.3387314439946,
          128.0744248985115,
          134.95295902883157,
          133.08014354066987,
          172.79457364341084,
          119.03508771929825,
          126.19166666666666,
          120.60143884892086,
          139.76897689768978,
          131.12690355329948,
          120.7089552238806,
          127.35651214128035,
          115.96105383734249,
          129.9663394109397,
          135.1462140992167,
          128.86802030456852,
          124.00773195876289,
          124.37841043890866,
          115.5,
          131.70221606648198,
          113.12358276643991,
          127.39679358717434,
          122.30283911671924,
          153.8153078202995,
          120.19777158774373,
          131.62264150943398,
          102.74473684210527,
          92.90641711229947,
          115.92417582417582,
          121.1412213740458,
          134.20404411764707,
          138.57575757575756,
          145.84895833333334,
          112.8359659781288,
          113.55878284923928,
          127.45548961424332,
          90.65480427046263,
          128.15665796344646,
          97.15492957746478,
          142.08777429467085,
          127.25760286225403,
          122.59633027522936,
          143.0381679389313,
          132.02826086956523,
          141.7380352644836,
          144.91842900302115,
          113.9304347826087,
          138.2422839506173,
          111.75043029259896,
          145.98319327731093,
          123.53915275994865,
          140.33379310344827,
          115.7128712871287,
          128.93490054249548,
          132.36041939711666,
          113.05454545454545,
          137.77272727272728,
          136.3149779735683,
          132.57760814249363,
          125.63195435092724,
          84.53284671532846,
          111.45622119815668,
          115.49169435215947,
          133.76939655172413,
          109.82249173098126,
          118.34358974358975,
          123.95905172413794,
          138.86567164179104,
          119.5485636114911,
          125.78985507246377,
          114.06756756756756,
          125.76579925650557,
          128.0073664825046,
          127.8913043478261,
          117.8,
          106.74949494949495,
          124.58641975308642,
          114.6,
          90.32010582010582,
          105.00133689839572,
          104.49086161879896,
          110.4257555847569,
          108.98064516129033,
          107.29491525423728,
          112.74350086655113,
          99.94375,
          101.01726263871764,
          104.89727722772277,
          97.34891304347826,
          103.4455732946299,
          111.65217391304348,
          76.60169491525424,
          105.47832369942196,
          107.94347826086957,
          118.42842535787321,
          102.86767485822307,
          97.79064587973274,
          102.96433878157504,
          102.35838150289017,
          108.28407643312102,
          100.60909090909091,
          99.1531393568147,
          109.21585903083701,
          106.10714285714286,
          99.21370967741936,
          113.44701086956522,
          97.60907127429806,
          126.27027027027027,
          107.31514324693042,
          65.87065120428188,
          109.9809663250366,
          133.88288288288288,
          116.7567084078712,
          104.61078998073218,
          107.99876237623762,
          130.53506493506492,
          68.22687224669603,
          125.518,
          107.16481069042317,
          115.51869158878505,
          110.49184782608695,
          126.3104761904762,
          81.81176470588235,
          98.76346604215456,
          117.35253054101221,
          113.54301075268818,
          82.43782837127846,
          117.33293556085918,
          108.03588907014682,
          111.84948979591837,
          104.64485981308411,
          105.66770186335404,
          100.65633802816902,
          121.9647495361781,
          109.01338199513383,
          114.83804627249357,
          113.53915275994865,
          120.6375,
          106.8910569105691,
          121.06622516556291,
          118.06811145510837,
          120.7983193277311,
          107.28538011695906,
          115.91666666666667,
          101.84323432343234,
          122.96138996138995,
          119.34205933682374,
          113.1025641025641,
          111.26016260162602,
          93.53012048192771,
          105.94392523364486,
          186.96732026143792,
          119.58303249097473,
          108.88839285714286,
          76.68261562998406,
          110.78205128205128,
          124.85499058380414,
          122.79922279792746,
          116.59530791788856,
          112.9811542991755,
          84.99656357388317,
          110.64102564102564,
          101.6236559139785,
          106.73936899862825,
          121.66491228070176,
          119.0854961832061,
          126.62040816326531,
          120.6507747318236,
          133.52336448598132,
          111.8217967599411,
          255,
          99.04304160688666,
          116.80024813895781,
          94.60548523206751,
          129.48489425981873,
          135.51931330472104,
          134.728624535316,
          84.57798165137615,
          237.4777777777778,
          92.07692307692308,
          148.15681818181818,
          123.2550911039657,
          113.11739745403112,
          120.13461538461539,
          135.63597122302158,
          114.47169811320755,
          120.94520547945206,
          118.17364016736401,
          117.01213171577123,
          116.79847908745248,
          105.40636704119851,
          122.78540772532189,
          142.34920634920636,
          121.37352245862884,
          131.71289274106175,
          127.36662106703146,
          108.12410841654778,
          119.71428571428571,
          120.2457627118644,
          138.01873048907387,
          120,
          116.20765027322405,
          104.42696629213484,
          133.0731707317073,
          142.17124735729388,
          122.30727272727273,
          129.02037845705968,
          112.51499118165785,
          128.8732970027248,
          129.1472,
          136.87152777777777,
          107.92465753424658,
          253.9042904290429,
          130.470334412082,
          125.171974522293,
          136.3148688046647,
          162.2391629297459,
          128.80529300567107,
          122.87886597938144,
          127.4796875,
          129.0775681341719,
          133.05424528301887,
          131.09784411276948,
          128.13549039433772,
          132.69781931464175,
          103.09148264984228,
          139.3525179856115,
          103.61923847695391,
          113.49213161659513,
          120.85655737704919,
          135.86546184738955,
          137.6491862567812,
          138.9756345177665,
          127.03603603603604,
          120.91015625,
          120.87078651685393,
          104.445,
          127.10792349726776,
          147.60495283018867,
          124.25954198473282,
          135.2380073800738,
          118.7534059945504,
          110.65912117177098,
          147.826780021254,
          125.18594436310396,
          123.83301343570058,
          138.69519343493553,
          126.9133611691023,
          135.64070351758795,
          124.50277777777778,
          129.1159420289855,
          143.06949152542373,
          125.61052631578947,
          128.39389920424404,
          140.72622779519332,
          123.24760601915185,
          115.45008183306055,
          130.12942779291552,
          127.87240829346092,
          143.0750469043152,
          204.13793103448276,
          132.8388625592417,
          134.59701492537314,
          130.66213151927437,
          91.46575342465754,
          131.68879668049792,
          119.57971014492753,
          119.30620689655173,
          158.73891625615764,
          241.64356435643563,
          136.00275482093664,
          143.6399217221135,
          152.91477272727272,
          127.52299829642249,
          124.95753424657535,
          119.36679536679537,
          146.11037735849055,
          148.87798742138364,
          136.5814266487214,
          131.73697916666666,
          122.34604519774011,
          138.55743243243242,
          130.7018498367791,
          117.88486842105263,
          126.71727019498607,
          134.0563758389262,
          132.63221476510068,
          128.00913242009133,
          151.8918640576725,
          130.94690265486724,
          138.63501483679525,
          151.25,
          132.77862595419847,
          151.5703544575725,
          129.70099667774087,
          103.94431554524363,
          135.68041237113403,
          131.9826203208556,
          96.78341013824885,
          204.9290780141844,
          145.5691056910569,
          128.5974025974026,
          130.1716738197425,
          146.50837438423645,
          135.18358208955223,
          107.55319148936171,
          117.86335403726709,
          106.34,
          126.6234096692112,
          119.72746331236897,
          152.0255033557047,
          150.65916398713827,
          133.68965517241378,
          119.76700680272108,
          130.43103448275863,
          132.9782945736434,
          88.73741794310722,
          152.12479201331115,
          122.53418803418803,
          132.058524173028,
          91.046,
          132.67763157894737,
          144.92480211081795,
          146.02766393442624,
          131.71951219512195,
          146.43361188486537,
          119.53822152886116,
          145.98674521354934,
          110.09712230215827,
          125.96190476190476,
          135.2496714848883,
          147.99689119170984,
          143.15376676986585,
          125.82047685834502,
          119.81818181818181,
          139.9620253164557,
          136.49933065595715,
          152.08477842003853,
          139.99856527977045,
          134.20212765957447,
          154.76973684210526,
          131.34167893961708,
          136.90824261275273,
          110.06909788867563,
          113.8422619047619,
          153.58551941238196,
          119.00139082058415,
          131.9452830188679,
          147.73090909090908,
          132.95663956639567,
          133.13118811881188,
          138.0531914893617,
          186.99141630901286,
          135.42898550724638,
          125.72050561797752,
          137.1413043478261,
          107.9362186788155,
          193.83908045977012,
          131.67664670658684,
          135.3716814159292,
          138.44259818731118,
          140.86195995785036,
          143.9894419306184,
          133.1821862348178,
          137.06598984771574,
          141.3239875389408,
          114.29882352941176,
          119.82528735632184,
          142.87319884726224,
          118.72749391727494,
          126.16353111432706,
          131.62387387387386,
          127.52846715328467,
          123.33024118738405,
          127.53162853297442,
          105.68328445747801,
          123.7075,
          143.22857142857143,
          117.92241379310344,
          137.50331125827816,
          139.31072210065645,
          158.60041841004184,
          124.00827586206897,
          123.46208530805687,
          147.94163090128757,
          130.16666666666666,
          120.24801587301587,
          125.63093145869948,
          112.82112068965517,
          136.66594827586206,
          128.72823218997362,
          146.00110253583242,
          152.40358744394618,
          119.4235294117647,
          139.20292347377472,
          148.66165413533835,
          131.86166666666668,
          123.0479704797048,
          111.71550497866288,
          118.59657701711491,
          136.3175182481752,
          137.1936507936508,
          136.79245283018867,
          122.57214554579674,
          151.24207011686144,
          170.90538573508005,
          128.55633802816902,
          141.05199306759098,
          134.58203125,
          117.7057761732852,
          126.51605995717345,
          132.298,
          122.83795309168444,
          119.19362186788155,
          96.71830985915493,
          114.86855670103093,
          132.72324159021406,
          127.44223107569721,
          150.7401392111369,
          128.38732394366198,
          115.64248704663213,
          126.27398720682302,
          105.44753086419753,
          121.47446457990115,
          132.4808219178082,
          141.48821218074656,
          133.17698154180238,
          78.96716417910447,
          125.7045203969129,
          121.35081967213115,
          120.09114583333333,
          135.54849884526558,
          130.05676328502415,
          167.31788079470198,
          129.61022927689595,
          144.71142109851786,
          120.7722602739726,
          117.24242424242425,
          139.47351694915255,
          152.62307692307692,
          124.55541561712846,
          141.5228290062668,
          118.02032520325203,
          100.16911764705883,
          117.46008119079838,
          55.805882352941175,
          92.81316725978648,
          128.19649805447472,
          129.89,
          122.89353099730458,
          110.85238095238095,
          190.71611721611723,
          112.58262108262109,
          121.00735294117646,
          130.35336976320582,
          131.215,
          77.99074074074075,
          139.44651162790697,
          119.83179297597043,
          117.26261467889908,
          136.46388443017656,
          131.75730337078653,
          117.60687022900764,
          111.49631811487481,
          141.6216216216216,
          117.27406199021208,
          103.21731748726656,
          116.15466101694915,
          142.42940320232896,
          103.87867647058823,
          131.24812030075188,
          130.6853252647504,
          131.25947867298578,
          136.6887159533074,
          100.94285714285714,
          124.23131170662906,
          114.67780172413794,
          116.59452054794521,
          130.02388535031847,
          135.96428571428572,
          184.3939393939394,
          109.72895277207392,
          118.12449799196787,
          126.05782792665727,
          114.18607954545455,
          118.9737609329446,
          109.04761904761905,
          105.28313253012048,
          194.78333333333333,
          133.53873873873874,
          122.12928348909658,
          138.36257309941521,
          120.68812589413447,
          117.01555869872702,
          108.06797853309482,
          132.93247269116188,
          122.49404761904762,
          111.02916666666667,
          117.0448307410796,
          127.36515151515151,
          120.70454545454545,
          108.65853658536585,
          114.24498886414254,
          106.05061559507524,
          109.60939597315436,
          119.15077605321508,
          102.30579710144927,
          130.6656804733728,
          119.87935034802784,
          83.58,
          108.1485380116959,
          117.90344827586208,
          103.56495828367103,
          117.9556724267468,
          112.84273504273504,
          93.33764940239044,
          118.9384236453202,
          98.51968503937007,
          103.89917695473251,
          116.70543478260869,
          109.47280799112097,
          99.9030303030303,
          106.34868421052632,
          111.71243523316062,
          115.34908700322234,
          110.38823529411765,
          118.51156812339332,
          117.53747161241483,
          113.1076923076923,
          113.52877307274701,
          125.17782026768643,
          113.55811277330265,
          113.55371900826447,
          116.85474308300395,
          84.54826254826254,
          109.2202447163515,
          114.7038043478261,
          103.46545454545455,
          103.94091903719912,
          124.47118155619597,
          111.86591606960081,
          99.144578313253,
          115.9888888888889,
          115.71875,
          85.5452016689847,
          99.37866666666666,
          109.95074946466809,
          122.01734104046243,
          112.63577023498695,
          124.92315680166148,
          109.98525073746313,
          116.8725925925926,
          114.58273381294964,
          126.4002828854314,
          121.05378486055777,
          115.62680683311433,
          105.77982779827798,
          121.44330949948927,
          91.62719298245614,
          126.02237136465324,
          115.64147909967846,
          130.2836398838335,
          124.58350305498982,
          128.81028368794327,
          125.06188925081433,
          108.52278177458034,
          108.13592233009709,
          126.65471698113207,
          79.12307692307692,
          135.9367816091954,
          116.8672032193159,
          121.73751600512163,
          96.53872053872054,
          111.20569210866753,
          127.25168539325843,
          123.62769784172662,
          108.08548931383577,
          141.1457627118644,
          116.66352201257861,
          131.01254480286738,
          115.43957968476357,
          180.71487603305786,
          120.54794520547945,
          119.58874878758486,
          110.56880733944953,
          85.97064220183486,
          108.50628930817611,
          105.87417218543047,
          100.23095525997581,
          137.49511400651465,
          107.05405405405405,
          96.45155393053017,
          131.86469072164948,
          119.987922705314,
          113.19973890339426,
          119.34661354581674,
          109.53558052434457,
          103.30869565217391,
          110.36074561403508,
          127.51669941060904,
          97.5191637630662,
          125.45088161209068,
          113.99247176913426,
          125.19955654101996,
          114.86610878661088,
          123.02696629213483,
          130.37966417910448,
          62.3875,
          125.69364161849711,
          121.1929347826087,
          104.18181818181819,
          136.4266517357223,
          101.77613776137761,
          122.60688836104514,
          89.9766355140187,
          109.14123006833712,
          119.78220140515222,
          114.37981651376147,
          123.54275741710296,
          124.65523156089193,
          134.24498886414253,
          112.72919254658385,
          112.18454935622317,
          120.74273255813954,
          144.19837232960325,
          123.65073529411765,
          111.67922497308935,
          120.11995753715499,
          136.30826369545034,
          102.66959064327486,
          130.3242105263158,
          132.3815789473684,
          122.57858769931663,
          118.6737400530504,
          99.3920704845815,
          124.18483412322274,
          119.34860050890585,
          101.01347708894879,
          119.02220077220078,
          104.84957882069796,
          131.6912955465587,
          127.59235668789809,
          156.36363636363637,
          120.30952380952381,
          102.86774193548388,
          132.7055785123967,
          139.52221125370187,
          126.45130641330167,
          122.27395934172314,
          109.52700348432056,
          125.75746268656717,
          130.741357234315,
          125.13469387755102,
          112.91285714285715,
          117.4779411764706,
          101.24111675126903,
          137.9078073089701,
          114.98653610771113,
          134.56540084388186,
          127.27686472819217,
          140.4068825910931,
          140.09145129224652,
          127.00740740740741,
          144.79135618479881,
          70.04301075268818,
          120.10194730813288,
          106.02290076335878,
          139.9683908045977,
          116.86224489795919,
          139.67430441898526,
          130.05191256830602,
          112.63859981078524,
          142.21808510638297,
          126.52602436323366,
          138.09439124487005,
          131.22018348623854,
          126.36464646464647,
          132.78904665314403,
          145.13253012048193,
          147.34709931170107,
          132.5705596107056,
          123.45124282982792,
          135.75184016824394,
          113.0045871559633,
          122.43400713436385,
          158.4142259414226,
          104.92290748898678,
          145.7152034261242,
          121.41603053435115,
          137.28884826325412,
          131.92100192678228,
          123.13831967213115,
          133.1051175656985,
          141.2404255319149,
          132.06666666666666,
          124.06766917293233,
          135.43211334120426,
          118.55844155844156,
          129.5894105894106,
          136.16369710467706,
          143.28233438485805,
          121.2136563876652,
          151.84439608269858,
          91.89007092198581,
          99.80652173913043,
          130.55020920502093,
          125.5545905707196,
          103.12375249500998,
          145.91587901701322,
          127.18318965517241,
          142.17468105986262,
          107.37947494033413,
          140.58964143426294,
          139.03098591549295,
          97.53151618398637,
          123.07094133697134,
          140.9937984496124,
          131.89300998573466,
          131.61904761904762,
          112.24536082474226,
          127.70408163265306,
          120.92670157068063,
          113.92426850258175,
          142.0129990714949,
          137.1723700887199,
          162.99888017917132,
          124.18506493506493,
          126.02751423149905,
          120.08167770419426,
          132.87444444444444,
          130.9100529100529,
          140.05752212389382,
          131.5775577557756,
          134.22326674500587,
          155.67385444743934,
          134.73858921161826,
          137.9809885931559,
          150.80129390018485,
          128.40609137055839,
          154.9440337909187,
          137.24197860962568,
          140.15320334261838,
          122.2532299741602,
          125.625,
          80.57027027027027,
          142.3872679045093,
          110.5711009174312,
          119.48624535315984,
          129.5763688760807,
          139.57029702970297,
          150.12879581151833,
          153.22175732217573,
          139.3271375464684,
          127.02540650406505,
          154.66489361702128,
          140.0721649484536,
          110.47321428571429,
          148.01333333333332,
          124.65035971223021,
          136.92161820480405,
          109.95686900958466,
          142.51497005988023,
          143.64453961456104,
          143.84237461617195,
          129.02369200394867,
          126.24442736356649,
          137.79186602870814,
          137.30427631578948,
          118.99445471349352,
          139.0463733650416,
          126.25641025641026,
          113.22025316455696,
          147.32409012131717,
          137.82746878547107,
          145.63809523809525,
          146.49165848871442,
          139.6379647749511,
          142.07319587628865,
          138.7135306553911,
          107.62285714285714,
          91.11344537815125,
          140.8176291793313,
          143.3346994535519,
          124.54411764705883,
          138.90940766550523,
          142.10420475319927,
          142.4968619246862,
          142.96096096096096,
          140.78851963746223,
          135.6766917293233,
          123.54021608643457,
          131.27815315315314,
          135.10243902439024,
          125.06300484652665,
          149.34971644612477,
          134.60152284263958,
          137.9611510791367,
          149.8582089552239,
          132.7865275142315,
          150.49690721649483,
          148.34048780487805,
          152.12785388127853,
          145.2468085106383,
          153.48812664907652,
          138.5482233502538,
          93.97077922077922,
          147.81573896353166,
          149.25635593220338,
          143.9922822491731,
          110.13186813186813,
          139.31431431431432,
          150.27173913043478,
          95.41095890410959,
          123.60355987055016,
          143.53935860058309,
          95.98181818181818,
          142.61731843575419,
          116.03381642512078,
          137.39634703196347,
          151.83984867591425,
          154.28928046989722,
          143.15261472785485,
          141.98702702702704,
          105.81741573033707,
          117.17791411042944,
          135.3633841886269,
          151.69532908704883,
          138.6251830161054,
          109.27765726681127,
          145.8985915492958,
          110.86623164763458,
          139.59574468085106,
          136.46330275229357,
          125.18823529411765,
          134.34632034632034,
          154.93729372937293,
          141.57566462167688,
          93.88166666666666,
          94.0117994100295,
          135.73557692307693,
          133.68941504178272,
          153.55885588558857,
          145.32367632367632,
          216.70440251572327,
          101.61467889908256,
          149.33928571428572,
          101.7457627118644,
          138.15702479338842,
          121.4375
         ],
         "xaxis": "x",
         "yaxis": "y"
        }
       ],
       "layout": {
        "barmode": "relative",
        "legend": {
         "title": {
          "text": "variable"
         },
         "tracegroupgap": 0
        },
        "template": {
         "data": {
          "bar": [
           {
            "error_x": {
             "color": "#2a3f5f"
            },
            "error_y": {
             "color": "#2a3f5f"
            },
            "marker": {
             "line": {
              "color": "#E5ECF6",
              "width": 0.5
             },
             "pattern": {
              "fillmode": "overlay",
              "size": 10,
              "solidity": 0.2
             }
            },
            "type": "bar"
           }
          ],
          "barpolar": [
           {
            "marker": {
             "line": {
              "color": "#E5ECF6",
              "width": 0.5
             },
             "pattern": {
              "fillmode": "overlay",
              "size": 10,
              "solidity": 0.2
             }
            },
            "type": "barpolar"
           }
          ],
          "carpet": [
           {
            "aaxis": {
             "endlinecolor": "#2a3f5f",
             "gridcolor": "white",
             "linecolor": "white",
             "minorgridcolor": "white",
             "startlinecolor": "#2a3f5f"
            },
            "baxis": {
             "endlinecolor": "#2a3f5f",
             "gridcolor": "white",
             "linecolor": "white",
             "minorgridcolor": "white",
             "startlinecolor": "#2a3f5f"
            },
            "type": "carpet"
           }
          ],
          "choropleth": [
           {
            "colorbar": {
             "outlinewidth": 0,
             "ticks": ""
            },
            "type": "choropleth"
           }
          ],
          "contour": [
           {
            "colorbar": {
             "outlinewidth": 0,
             "ticks": ""
            },
            "colorscale": [
             [
              0,
              "#0d0887"
             ],
             [
              0.1111111111111111,
              "#46039f"
             ],
             [
              0.2222222222222222,
              "#7201a8"
             ],
             [
              0.3333333333333333,
              "#9c179e"
             ],
             [
              0.4444444444444444,
              "#bd3786"
             ],
             [
              0.5555555555555556,
              "#d8576b"
             ],
             [
              0.6666666666666666,
              "#ed7953"
             ],
             [
              0.7777777777777778,
              "#fb9f3a"
             ],
             [
              0.8888888888888888,
              "#fdca26"
             ],
             [
              1,
              "#f0f921"
             ]
            ],
            "type": "contour"
           }
          ],
          "contourcarpet": [
           {
            "colorbar": {
             "outlinewidth": 0,
             "ticks": ""
            },
            "type": "contourcarpet"
           }
          ],
          "heatmap": [
           {
            "colorbar": {
             "outlinewidth": 0,
             "ticks": ""
            },
            "colorscale": [
             [
              0,
              "#0d0887"
             ],
             [
              0.1111111111111111,
              "#46039f"
             ],
             [
              0.2222222222222222,
              "#7201a8"
             ],
             [
              0.3333333333333333,
              "#9c179e"
             ],
             [
              0.4444444444444444,
              "#bd3786"
             ],
             [
              0.5555555555555556,
              "#d8576b"
             ],
             [
              0.6666666666666666,
              "#ed7953"
             ],
             [
              0.7777777777777778,
              "#fb9f3a"
             ],
             [
              0.8888888888888888,
              "#fdca26"
             ],
             [
              1,
              "#f0f921"
             ]
            ],
            "type": "heatmap"
           }
          ],
          "heatmapgl": [
           {
            "colorbar": {
             "outlinewidth": 0,
             "ticks": ""
            },
            "colorscale": [
             [
              0,
              "#0d0887"
             ],
             [
              0.1111111111111111,
              "#46039f"
             ],
             [
              0.2222222222222222,
              "#7201a8"
             ],
             [
              0.3333333333333333,
              "#9c179e"
             ],
             [
              0.4444444444444444,
              "#bd3786"
             ],
             [
              0.5555555555555556,
              "#d8576b"
             ],
             [
              0.6666666666666666,
              "#ed7953"
             ],
             [
              0.7777777777777778,
              "#fb9f3a"
             ],
             [
              0.8888888888888888,
              "#fdca26"
             ],
             [
              1,
              "#f0f921"
             ]
            ],
            "type": "heatmapgl"
           }
          ],
          "histogram": [
           {
            "marker": {
             "pattern": {
              "fillmode": "overlay",
              "size": 10,
              "solidity": 0.2
             }
            },
            "type": "histogram"
           }
          ],
          "histogram2d": [
           {
            "colorbar": {
             "outlinewidth": 0,
             "ticks": ""
            },
            "colorscale": [
             [
              0,
              "#0d0887"
             ],
             [
              0.1111111111111111,
              "#46039f"
             ],
             [
              0.2222222222222222,
              "#7201a8"
             ],
             [
              0.3333333333333333,
              "#9c179e"
             ],
             [
              0.4444444444444444,
              "#bd3786"
             ],
             [
              0.5555555555555556,
              "#d8576b"
             ],
             [
              0.6666666666666666,
              "#ed7953"
             ],
             [
              0.7777777777777778,
              "#fb9f3a"
             ],
             [
              0.8888888888888888,
              "#fdca26"
             ],
             [
              1,
              "#f0f921"
             ]
            ],
            "type": "histogram2d"
           }
          ],
          "histogram2dcontour": [
           {
            "colorbar": {
             "outlinewidth": 0,
             "ticks": ""
            },
            "colorscale": [
             [
              0,
              "#0d0887"
             ],
             [
              0.1111111111111111,
              "#46039f"
             ],
             [
              0.2222222222222222,
              "#7201a8"
             ],
             [
              0.3333333333333333,
              "#9c179e"
             ],
             [
              0.4444444444444444,
              "#bd3786"
             ],
             [
              0.5555555555555556,
              "#d8576b"
             ],
             [
              0.6666666666666666,
              "#ed7953"
             ],
             [
              0.7777777777777778,
              "#fb9f3a"
             ],
             [
              0.8888888888888888,
              "#fdca26"
             ],
             [
              1,
              "#f0f921"
             ]
            ],
            "type": "histogram2dcontour"
           }
          ],
          "mesh3d": [
           {
            "colorbar": {
             "outlinewidth": 0,
             "ticks": ""
            },
            "type": "mesh3d"
           }
          ],
          "parcoords": [
           {
            "line": {
             "colorbar": {
              "outlinewidth": 0,
              "ticks": ""
             }
            },
            "type": "parcoords"
           }
          ],
          "pie": [
           {
            "automargin": true,
            "type": "pie"
           }
          ],
          "scatter": [
           {
            "fillpattern": {
             "fillmode": "overlay",
             "size": 10,
             "solidity": 0.2
            },
            "type": "scatter"
           }
          ],
          "scatter3d": [
           {
            "line": {
             "colorbar": {
              "outlinewidth": 0,
              "ticks": ""
             }
            },
            "marker": {
             "colorbar": {
              "outlinewidth": 0,
              "ticks": ""
             }
            },
            "type": "scatter3d"
           }
          ],
          "scattercarpet": [
           {
            "marker": {
             "colorbar": {
              "outlinewidth": 0,
              "ticks": ""
             }
            },
            "type": "scattercarpet"
           }
          ],
          "scattergeo": [
           {
            "marker": {
             "colorbar": {
              "outlinewidth": 0,
              "ticks": ""
             }
            },
            "type": "scattergeo"
           }
          ],
          "scattergl": [
           {
            "marker": {
             "colorbar": {
              "outlinewidth": 0,
              "ticks": ""
             }
            },
            "type": "scattergl"
           }
          ],
          "scattermapbox": [
           {
            "marker": {
             "colorbar": {
              "outlinewidth": 0,
              "ticks": ""
             }
            },
            "type": "scattermapbox"
           }
          ],
          "scatterpolar": [
           {
            "marker": {
             "colorbar": {
              "outlinewidth": 0,
              "ticks": ""
             }
            },
            "type": "scatterpolar"
           }
          ],
          "scatterpolargl": [
           {
            "marker": {
             "colorbar": {
              "outlinewidth": 0,
              "ticks": ""
             }
            },
            "type": "scatterpolargl"
           }
          ],
          "scatterternary": [
           {
            "marker": {
             "colorbar": {
              "outlinewidth": 0,
              "ticks": ""
             }
            },
            "type": "scatterternary"
           }
          ],
          "surface": [
           {
            "colorbar": {
             "outlinewidth": 0,
             "ticks": ""
            },
            "colorscale": [
             [
              0,
              "#0d0887"
             ],
             [
              0.1111111111111111,
              "#46039f"
             ],
             [
              0.2222222222222222,
              "#7201a8"
             ],
             [
              0.3333333333333333,
              "#9c179e"
             ],
             [
              0.4444444444444444,
              "#bd3786"
             ],
             [
              0.5555555555555556,
              "#d8576b"
             ],
             [
              0.6666666666666666,
              "#ed7953"
             ],
             [
              0.7777777777777778,
              "#fb9f3a"
             ],
             [
              0.8888888888888888,
              "#fdca26"
             ],
             [
              1,
              "#f0f921"
             ]
            ],
            "type": "surface"
           }
          ],
          "table": [
           {
            "cells": {
             "fill": {
              "color": "#EBF0F8"
             },
             "line": {
              "color": "white"
             }
            },
            "header": {
             "fill": {
              "color": "#C8D4E3"
             },
             "line": {
              "color": "white"
             }
            },
            "type": "table"
           }
          ]
         },
         "layout": {
          "annotationdefaults": {
           "arrowcolor": "#2a3f5f",
           "arrowhead": 0,
           "arrowwidth": 1
          },
          "autotypenumbers": "strict",
          "coloraxis": {
           "colorbar": {
            "outlinewidth": 0,
            "ticks": ""
           }
          },
          "colorscale": {
           "diverging": [
            [
             0,
             "#8e0152"
            ],
            [
             0.1,
             "#c51b7d"
            ],
            [
             0.2,
             "#de77ae"
            ],
            [
             0.3,
             "#f1b6da"
            ],
            [
             0.4,
             "#fde0ef"
            ],
            [
             0.5,
             "#f7f7f7"
            ],
            [
             0.6,
             "#e6f5d0"
            ],
            [
             0.7,
             "#b8e186"
            ],
            [
             0.8,
             "#7fbc41"
            ],
            [
             0.9,
             "#4d9221"
            ],
            [
             1,
             "#276419"
            ]
           ],
           "sequential": [
            [
             0,
             "#0d0887"
            ],
            [
             0.1111111111111111,
             "#46039f"
            ],
            [
             0.2222222222222222,
             "#7201a8"
            ],
            [
             0.3333333333333333,
             "#9c179e"
            ],
            [
             0.4444444444444444,
             "#bd3786"
            ],
            [
             0.5555555555555556,
             "#d8576b"
            ],
            [
             0.6666666666666666,
             "#ed7953"
            ],
            [
             0.7777777777777778,
             "#fb9f3a"
            ],
            [
             0.8888888888888888,
             "#fdca26"
            ],
            [
             1,
             "#f0f921"
            ]
           ],
           "sequentialminus": [
            [
             0,
             "#0d0887"
            ],
            [
             0.1111111111111111,
             "#46039f"
            ],
            [
             0.2222222222222222,
             "#7201a8"
            ],
            [
             0.3333333333333333,
             "#9c179e"
            ],
            [
             0.4444444444444444,
             "#bd3786"
            ],
            [
             0.5555555555555556,
             "#d8576b"
            ],
            [
             0.6666666666666666,
             "#ed7953"
            ],
            [
             0.7777777777777778,
             "#fb9f3a"
            ],
            [
             0.8888888888888888,
             "#fdca26"
            ],
            [
             1,
             "#f0f921"
            ]
           ]
          },
          "colorway": [
           "#636efa",
           "#EF553B",
           "#00cc96",
           "#ab63fa",
           "#FFA15A",
           "#19d3f3",
           "#FF6692",
           "#B6E880",
           "#FF97FF",
           "#FECB52"
          ],
          "font": {
           "color": "#2a3f5f"
          },
          "geo": {
           "bgcolor": "white",
           "lakecolor": "white",
           "landcolor": "#E5ECF6",
           "showlakes": true,
           "showland": true,
           "subunitcolor": "white"
          },
          "hoverlabel": {
           "align": "left"
          },
          "hovermode": "closest",
          "mapbox": {
           "style": "light"
          },
          "paper_bgcolor": "white",
          "plot_bgcolor": "#E5ECF6",
          "polar": {
           "angularaxis": {
            "gridcolor": "white",
            "linecolor": "white",
            "ticks": ""
           },
           "bgcolor": "#E5ECF6",
           "radialaxis": {
            "gridcolor": "white",
            "linecolor": "white",
            "ticks": ""
           }
          },
          "scene": {
           "xaxis": {
            "backgroundcolor": "#E5ECF6",
            "gridcolor": "white",
            "gridwidth": 2,
            "linecolor": "white",
            "showbackground": true,
            "ticks": "",
            "zerolinecolor": "white"
           },
           "yaxis": {
            "backgroundcolor": "#E5ECF6",
            "gridcolor": "white",
            "gridwidth": 2,
            "linecolor": "white",
            "showbackground": true,
            "ticks": "",
            "zerolinecolor": "white"
           },
           "zaxis": {
            "backgroundcolor": "#E5ECF6",
            "gridcolor": "white",
            "gridwidth": 2,
            "linecolor": "white",
            "showbackground": true,
            "ticks": "",
            "zerolinecolor": "white"
           }
          },
          "shapedefaults": {
           "line": {
            "color": "#2a3f5f"
           }
          },
          "ternary": {
           "aaxis": {
            "gridcolor": "white",
            "linecolor": "white",
            "ticks": ""
           },
           "baxis": {
            "gridcolor": "white",
            "linecolor": "white",
            "ticks": ""
           },
           "bgcolor": "#E5ECF6",
           "caxis": {
            "gridcolor": "white",
            "linecolor": "white",
            "ticks": ""
           }
          },
          "title": {
           "x": 0.05
          },
          "xaxis": {
           "automargin": true,
           "gridcolor": "white",
           "linecolor": "white",
           "ticks": "",
           "title": {
            "standoff": 15
           },
           "zerolinecolor": "white",
           "zerolinewidth": 2
          },
          "yaxis": {
           "automargin": true,
           "gridcolor": "white",
           "linecolor": "white",
           "ticks": "",
           "title": {
            "standoff": 15
           },
           "zerolinecolor": "white",
           "zerolinewidth": 2
          }
         }
        },
        "title": {
         "text": "nucleus_ki67_avg_int_in_CA"
        },
        "xaxis": {
         "anchor": "y",
         "domain": [
          0,
          1
         ],
         "range": [
          0,
          255
         ],
         "title": {
          "text": "nucleus_ki67_avg_int"
         }
        },
        "yaxis": {
         "anchor": "x",
         "domain": [
          0,
          1
         ],
         "title": {
          "text": "count"
         }
        }
       }
      }
     },
     "metadata": {},
     "output_type": "display_data"
    },
    {
     "data": {
      "application/vnd.plotly.v1+json": {
       "config": {
        "plotlyServerURL": "https://plot.ly"
       },
       "data": [
        {
         "alignmentgroup": "True",
         "bingroup": "x",
         "hovertemplate": "variable=nucleus_ki67_avg_int<br>nucleus_ki67_avg_int=%{x}<br>count=%{y}<extra></extra>",
         "legendgroup": "nucleus_ki67_avg_int",
         "marker": {
          "color": "#636efa",
          "pattern": {
           "shape": ""
          }
         },
         "name": "nucleus_ki67_avg_int",
         "nbinsx": 256,
         "offsetgroup": "nucleus_ki67_avg_int",
         "orientation": "v",
         "showlegend": true,
         "type": "histogram",
         "x": [
          117.52769679300292,
          121.47252747252747,
          89.11267605633803,
          119.9304084720121,
          124.97241379310344,
          131.54561717352416,
          93.42857142857143,
          125.08088235294117,
          134.91634241245137,
          91.24087591240875,
          119.16745655608214,
          122.12266666666666,
          121.68478260869566,
          95.78508771929825,
          98.17692307692307,
          123.1706783369803,
          124.314696485623,
          110.30456852791878,
          137.77403846153845,
          106.69197396963123,
          126.26729559748428,
          128.10033444816054,
          95.75308641975309,
          227.79710144927537,
          105.29953917050692,
          114.5703125,
          87.58637469586375,
          93.60189573459715,
          120.62207357859532,
          118.81591263650546,
          163.6883116883117,
          125.487922705314,
          99.22865013774104,
          172.46588235294118,
          108.47692307692307,
          114.23448275862069,
          124.32446808510639,
          101.0989010989011,
          121.68831168831169,
          132.8201754385965,
          130.85060975609755,
          87.3409090909091,
          127.7196261682243,
          114.09338521400778,
          100.5665529010239,
          116.22155688622755,
          137.01453488372093,
          99.26184538653366,
          124.45366795366796,
          142.07323943661973,
          92.75147928994083,
          254.5772357723577,
          114.33333333333333,
          131.53703703703704,
          121.74897959183673,
          107.80668257756564,
          253.59627329192546,
          124.90461538461538,
          120.87472035794184,
          130.6360759493671,
          136.33226837060704,
          119.02049180327869,
          110.13095238095238,
          107.2491103202847,
          117.47457627118644,
          145.98929336188436,
          124.40298507462687,
          124.49462365591398,
          129.85343228200372,
          132.07534246575344,
          115.97609561752988,
          131.07396449704143,
          115.28518518518518,
          106.421768707483,
          121.21505376344086,
          107.51083591331269,
          102.12037037037037,
          111.64766839378238,
          106.86111111111111,
          130.32361516034985,
          129.4421768707483,
          120.39779005524862,
          103.5041095890411,
          137.272921108742,
          110.76203966005666,
          169.85889570552146,
          121.06827309236948,
          140.455525606469,
          93.18361581920904,
          95.52331606217616,
          138.44444444444446,
          118.75563909774436,
          118.18362282878412,
          233.4268292682927,
          91.3415300546448,
          127.87749287749288,
          140.04803493449782,
          124.83411214953271,
          85.22099447513813,
          115.17948717948718,
          135.23958333333334,
          109.52363636363637,
          148.42011834319527,
          89.4753086419753,
          106.9501246882793,
          124.92733564013841,
          123.32142857142857,
          132.41336633663366,
          100.77037037037037,
          128.36016949152543,
          145.09215017064847,
          102.37086092715232,
          245.73469387755102,
          107.93548387096774,
          132.55555555555554,
          123.67076923076922,
          124.40996168582376,
          133.9375,
          122,
          115.75593952483801,
          120.64516129032258,
          129.96246648793564,
          133.6530612244898,
          105.67857142857143,
          129.7168458781362,
          117.48648648648648,
          137.6919315403423,
          142.0036496350365,
          124.20413436692506,
          128.5187969924812,
          123.06844106463879,
          129.37813620071685,
          119.49137931034483,
          95.81205673758865,
          139.343163538874,
          132.8279132791328,
          78.75190839694656,
          132.5730659025788,
          130.13416815742397,
          113.43611111111112,
          121.2132701421801,
          141.37190082644628,
          121.21212121212122,
          126.7741935483871,
          115.25263157894737,
          101.06565656565657,
          100.62376237623762,
          156.26252983293557,
          139.17156105100463,
          125.90066225165563,
          129.1037037037037,
          116.65925925925926,
          254.234756097561,
          104.62837837837837,
          117.03166226912928,
          104.28389830508475,
          115.25,
          143.37151702786377,
          128.00200400801603,
          119.64356435643565,
          138.50996015936255,
          132.33256351039262,
          253.56944444444446,
          101.94907407407408,
          146.1070707070707,
          155.07142857142858,
          123.44012944983818,
          119.36965811965813,
          93.42735042735043,
          139.36265432098764,
          142.47214854111405,
          86.26775956284153,
          114.26735218508998,
          227.42922374429224,
          196.74311926605503,
          254.8671875,
          130.6236559139785,
          128.08379888268158,
          134.16207951070336,
          130.9515306122449,
          140.91168831168832,
          163.82846715328466,
          108.76551724137931,
          120.25925925925925,
          112.23367697594502,
          96.21004566210046,
          134.07073170731707,
          121.47441860465116,
          104.74358974358974,
          117.12542372881356,
          125.71666666666667,
          143.96246648793564,
          127.59154929577464,
          103.92941176470588,
          116.52447552447552,
          127.19591836734693,
          94.21789883268482,
          114.26946107784431,
          94.00549450549451,
          130.09798270893373,
          135.8589928057554,
          105.73431734317343,
          148.05882352941177,
          108.90588235294118,
          137.5358851674641,
          140.7732342007435,
          137.31475409836065,
          129.45562130177515,
          109.89811320754717,
          140.37313432835822,
          128.56216216216217,
          118.07239819004525,
          150.69911504424778,
          115.80737704918033,
          101,
          139.6522842639594,
          143.70811744386873,
          109.24853801169591,
          117.35483870967742,
          100.31746031746032,
          92.06896551724138,
          191.37254901960785,
          123.07361963190183,
          119.96923076923076,
          131.21791767554478,
          99.38311688311688,
          132.6127946127946,
          135.29347826086956,
          170.9467455621302,
          178.63505747126436,
          101.73107049608355,
          128.50252525252526,
          128.63959390862945,
          137.65384615384616,
          117.79933665008292,
          128.1125,
          132.1014492753623,
          105.04232804232804,
          128.8821138211382,
          147.6010101010101,
          118.18899521531101,
          135.44416243654823,
          144.5759312320917,
          129.0990099009901,
          127.82905982905983,
          128.50602409638554,
          124.21187800963082,
          121.448,
          121.65326633165829,
          121.90962099125365,
          132.25595238095238,
          126.80201342281879,
          105.32440476190476,
          122.84931506849315,
          163.11609498680738,
          126.24827586206897,
          135.8191056910569,
          126.9197247706422,
          132.90828402366864,
          120.72324723247233,
          124.99668874172185,
          219.26190476190476,
          136.51908396946564,
          171.06375838926175,
          138.27640845070422,
          121.65676567656766,
          99.6243654822335,
          104.40140845070422,
          159.34622823984526,
          99.06626506024097,
          152.97692307692307,
          133.3684210526316,
          125.8370607028754,
          114.24407582938389,
          137.84220183486238,
          175.92088607594937,
          230.08860759493672,
          131.68852459016392,
          129.77011494252875,
          139.8376811594203,
          130.23783783783784,
          137.68170426065163,
          126.25323475046211,
          117.8559670781893,
          73.34715025906736,
          146.65660377358492,
          177.5686274509804,
          90.75151515151515,
          131.3939393939394,
          185.8421052631579,
          98.9734219269103,
          90.8559670781893,
          143.86243386243387,
          151.4228855721393,
          122.92743764172336,
          142.88598574821853,
          126.83934426229509,
          121.40880503144655,
          80.63101604278074,
          106.20578778135048,
          223.8991935483871,
          129.77173913043478,
          133.1563126252505,
          129.54798761609908,
          108.08312342569269,
          125.25,
          146.8680981595092,
          131.56770833333334,
          181.57142857142858,
          163.15,
          166.50200803212851,
          231.8695652173913,
          139.66129032258064,
          118.66666666666667,
          95.46666666666667,
          129.09893992932862,
          84.3103448275862,
          125.14659685863874,
          105.92682926829268,
          156.54357798165137,
          73.10828025477707,
          89.31944444444444,
          131.61570247933884,
          134.76470588235293,
          90.05555555555556,
          76.91666666666667,
          226.90816326530611,
          129.33519553072625,
          110.7622641509434,
          140.76675603217157,
          86.27149321266968,
          108.83030303030303,
          155.21119592875317,
          134.665625,
          121.98019801980197,
          144.3972602739726,
          93.85117493472585,
          112.1603498542274,
          106.86451612903225,
          125.06013363028953,
          114.92409240924093,
          138.08510638297872,
          119.828418230563,
          139.17275747508305,
          183.5632911392405,
          125.0565371024735,
          131.69747899159663,
          103.25,
          117.04780876494024,
          124.35911602209944,
          115.74074074074075,
          120.16236162361623,
          142.47955390334573,
          136.92546583850933,
          122.34185303514377,
          128.67567567567568,
          124.14076246334311,
          139.1023102310231,
          83.67391304347827,
          98.77854671280276,
          143.7661971830986,
          134.5420054200542,
          123.87054409005628,
          135.32038834951456,
          143.53194888178913,
          117.04046242774567,
          88.65441176470588,
          112.59302325581395,
          136.7025641025641,
          110.3076923076923,
          124.6217105263158,
          132.49367088607596,
          139.2482993197279,
          109.66666666666667,
          131.7759336099585,
          121.8659420289855,
          196.91794871794872,
          106.83937823834196,
          124.29357798165138,
          143.3662374821173,
          150.8954802259887,
          135.00189753320683,
          118.51704545454545,
          113.72549019607843,
          119.00444444444445,
          128.59117647058824,
          133.92411924119241,
          115.93922651933701,
          114.96141479099678,
          138.2919540229885,
          135.22906403940885,
          135.31517509727627,
          111.5311203319502,
          136.984496124031,
          120.25581395348837,
          89.13636363636364,
          113.53141361256544,
          146.40374331550802,
          108.75,
          125.80508474576271,
          221.98366013071896,
          83.59183673469387,
          250.64233576642334,
          132.00397614314116,
          134.0520607375271,
          110.14830508474576,
          128.4784946236559,
          130.29166666666666,
          113.44390243902438,
          251.0716049382716,
          105.85046728971963,
          111.54508196721312,
          118.01033591731266,
          130.22027972027973,
          131.576112412178,
          149.40674603174602,
          123.42492012779553,
          114.33473684210526,
          71.58974358974359,
          108.08457711442786,
          107.20805369127517,
          118.80246913580247,
          143.31807780320366,
          123.1669658886894,
          106.68524590163935,
          125.51750972762646,
          129.3872340425532,
          134.5601173020528,
          151.10880829015545,
          127.54174067495559,
          103.32835820895522,
          123.03180212014134,
          120.96585365853659,
          116.05442176870748,
          138.89492753623188,
          129.19322033898305,
          120.6593886462882,
          128.08908045977012,
          99.20202020202021,
          76.84705882352941,
          110.34939759036145,
          149.3393665158371,
          172.21241830065358,
          98.24556962025316,
          143.37844611528823,
          102.06,
          184.33333333333334,
          106.90588235294118,
          133.67777777777778,
          124.49771689497717,
          166.72277227722773,
          108.696,
          130.275,
          119.13265306122449,
          120.51001821493625,
          123.96934865900383,
          125.70962199312714,
          131.53225806451613,
          124.31308411214954,
          88.52549889135256,
          86.4423076923077,
          120.48372093023256,
          147.09176470588235,
          107.6304347826087,
          145.66117647058823,
          119.73094170403587,
          93.46341463414635,
          112.37301587301587,
          107.44893111638955,
          101.856,
          128.75,
          129.1974358974359,
          123.0952380952381,
          101.88582677165354,
          227.69082125603865,
          120.55,
          130.9738562091503,
          112.69759450171821,
          145.401766004415,
          188.41666666666666,
          105.58371040723982,
          128.70481927710844,
          114.64133738601824,
          119.3596214511041,
          142.18721461187215,
          137.6968085106383,
          128.91489361702128,
          127.85403050108933,
          202.76237623762376,
          120.69736842105263,
          112.72131147540983,
          126.21485411140584,
          142.97979797979798,
          119.98823529411764,
          82.78813559322033,
          114.72324723247233,
          162.82142857142858,
          112.96838602329451,
          108.53233830845771,
          254.31974921630095,
          99.99521531100478,
          96.04301075268818,
          126.76356589147287,
          106.49230769230769,
          117.83838383838383,
          129.30483271375465,
          83.79078014184397,
          112.78688524590164,
          117.61316872427983,
          111.1027027027027,
          90.15819209039547,
          131.12,
          122.16164383561645,
          127.98533007334963,
          151.0125,
          113.04568527918782,
          140.26904761904763,
          125.98852772466539,
          83.54166666666667,
          126.56435643564356,
          124.47457627118644,
          115.91156462585035,
          122.67224880382776,
          130.47093023255815,
          112.51420454545455,
          108.93313069908815,
          108.8768115942029,
          91.81818181818181,
          127.3125,
          123.69767441860465,
          140.57466063348417,
          109.12753623188406,
          120.65483870967742,
          140.08771929824562,
          129.62585034013605,
          108.58064516129032,
          113.92695214105794,
          113.07317073170732,
          110.93086419753087,
          84.92307692307692,
          112.86390532544378,
          113.52727272727273,
          120.6970802919708,
          110.25316455696202,
          109.6975806451613,
          176.51234567901236,
          131.5938566552901,
          188.04727272727274,
          121.63636363636364,
          106.78299776286353,
          116.83561643835617,
          107.45390070921985,
          107.31648936170212,
          132.79511278195488,
          106.94240837696336,
          151.98153846153846,
          114.03365384615384,
          100.68553459119497,
          186.13868613138686,
          104.22751322751323,
          95.82352941176471,
          113.0381679389313,
          107.12432432432432,
          96.66310160427807,
          108.78917378917379,
          94.49122807017544,
          105.3425925925926,
          88.91818181818182,
          94.6355421686747,
          102.17514124293785,
          100.37518684603886,
          111.27669902912622,
          101.7824427480916,
          89.2625,
          106.2320819112628,
          106.92283950617283,
          91.19877675840979,
          119.09009009009009,
          98.78175895765472,
          97.51712328767124,
          100.51320132013201,
          98.8961937716263,
          103.51636363636364,
          101.0327868852459,
          113.62669245647969,
          95.10333333333334,
          248.36690647482015,
          101.71815718157181,
          98.24295774647888,
          99.4921630094044,
          120.46774193548387,
          95.37354085603113,
          103.43705463182899,
          219.04395604395606,
          135.09871244635193,
          111.06981519507187,
          114.55067567567568,
          105.73305084745763,
          77.04411764705883,
          123.69135802469135,
          76.09704641350211,
          120.2846975088968,
          97.46753246753246,
          109.22748815165876,
          121.57272727272728,
          94.8649193548387,
          127.81553398058253,
          107.87671232876713,
          65.10396039603961,
          101.57278481012658,
          98.7258064516129,
          123.63333333333334,
          100.75641025641026,
          123.275,
          114.90361445783132,
          102.09693877551021,
          134.5615866388309,
          111.92699115044248,
          134.54819277108433,
          136.22680412371133,
          129.8822393822394,
          100.36950146627566,
          115.88510638297872,
          99.89224137931035,
          82.27748691099477,
          105.40526315789474,
          139.15129151291512,
          111.49180327868852,
          95.28110599078342,
          125.5258358662614,
          101.47540983606558,
          121.03956834532374,
          126.584375,
          119.3905109489051,
          117.99299474605955,
          128.1735849056604,
          108.6632860040568,
          114.23333333333333,
          104.49066666666667,
          114.42441860465117,
          101.65732758620689,
          113.3890410958904,
          128.14325068870522,
          186.76991150442478,
          96.21908127208481,
          107.78097982708934,
          105.46385542168674,
          167.35714285714286,
          103.01108033240997,
          212.3063063063063,
          104.91329479768787,
          119.87581699346406,
          121.24027459954233,
          102.7,
          166.53898305084746,
          137.31808731808732,
          111.14285714285714,
          133.69776119402985,
          144.00689655172414,
          228.75278396436525,
          145.28338762214983,
          90.52258064516128,
          96.60330578512396,
          104.54729729729729,
          115.07954545454545,
          96.00433839479393,
          151.10044642857142,
          89.19672131147541,
          128.22727272727272,
          113.9512893982808,
          151.06191950464395,
          154.8985507246377,
          68.82384823848238,
          123.38235294117646,
          154.74778761061947,
          122.47961630695444,
          113.21782178217822,
          126.45245901639345,
          118.4080459770115,
          127.23385300668151,
          110.84615384615384,
          129.986328125,
          121.83582089552239,
          103.15161290322581,
          137.8262910798122,
          80.5,
          128.1283783783784,
          108.90714285714286,
          116.18768328445748,
          136.8418079096045,
          139.09302325581396,
          113.06012658227849,
          108.41176470588235,
          154.28348909657322,
          112.87671232876713,
          115.83068783068784,
          126.47792207792207,
          96.66925064599484,
          109,
          123.9405684754522,
          127.15584415584415,
          114.824,
          114.92280701754386,
          97.63095238095238,
          139.63725490196077,
          107.47509578544062,
          129.06210191082803,
          122.92285714285714,
          113.66184971098266,
          136.45722713864308,
          127.34745762711864,
          189.68444444444444,
          120.20967741935483,
          105.90491803278688,
          118.56338028169014,
          121.76524390243902,
          136.5174129353234,
          125.80714285714286,
          116.36140350877193,
          110.19834710743801,
          129.55985915492957,
          122.35875706214689,
          113.13468013468014,
          120.9429347826087,
          130.16052060737528,
          111.62475442043223,
          111.46020761245674,
          125.22769230769231,
          91.15243902439025,
          140.25892857142858,
          95.62368421052632,
          115.27384615384615,
          133.53177257525084,
          125.57142857142857,
          115.63002114164905,
          125.19060052219321,
          125.31920903954803,
          122.80478087649402,
          139.21830985915494,
          144.1341463414634,
          142.72906403940885,
          161.59375,
          131.44634146341463,
          123.95171026156942,
          67.38888888888889,
          126.54065040650407,
          134.23880597014926,
          124.5952380952381,
          130.86029411764707,
          222.22058823529412,
          229.57309941520467,
          123.36528497409327,
          137.004662004662,
          108.43911439114392,
          114.8359375,
          142.86746987951807,
          137.1865889212828,
          166.62724014336916,
          104.16346153846153,
          126.27979274611398,
          118.80373831775701,
          139.66173752310536,
          126.3325,
          128.25333333333333,
          101.09072580645162,
          120.49169435215947,
          117.6416539050536,
          133.02285714285713,
          122.11552346570397,
          114.61133603238866,
          128.27272727272728,
          118.67391304347827,
          151.47368421052633,
          151.21640091116174,
          112.4089552238806,
          137.56701030927834,
          105.45070422535211,
          126.80113636363636,
          117.95468277945619,
          135.0888382687927,
          154.05291005291005,
          137.4572864321608,
          214.3955223880597,
          140.92582417582418,
          127.36159600997506,
          129.0060606060606,
          138.40765391014975,
          123.18181818181819,
          146.66666666666666,
          114.4875,
          131.36315789473684,
          145.01457725947523,
          126.8377659574468,
          130.21678321678323,
          133.50129198966408,
          238.0034129692833,
          123.66304347826087,
          118.05806451612904,
          119.35911602209944,
          116.33333333333333,
          154.15277777777777,
          126.32369942196532,
          144.60289389067523,
          245.94759825327512,
          135.0275590551181,
          127.4875,
          128.768,
          125.36538461538461,
          121.56869009584665,
          117.29977628635346,
          119.33701657458563,
          113.23883928571429,
          155.7780082987552,
          139.19143576826195,
          128.846875,
          131.89162561576356,
          119.0721649484536,
          95.89759036144578,
          139.69508196721313,
          151.1370826010545,
          122.04347826086956,
          114.89717223650386,
          144.90338164251207,
          136.21188630490957,
          134.20243902439023,
          101.39393939393939,
          72.97124600638978,
          154.4112554112554,
          136.2439024390244,
          168.04022988505747,
          148.3265306122449,
          109.375,
          132.2192393736018,
          138.54285714285714,
          142.54212454212455,
          137.63694267515925,
          159.73636363636365,
          132.78494623655914,
          143.98214285714286,
          151.3465909090909,
          142.48058252427185,
          129.14229249011856,
          120.10480349344978,
          119.3282208588957,
          124.22988505747126,
          135.1578947368421,
          164.751677852349,
          147.5982404692082,
          119.020366598778,
          122.53672316384181,
          126.56405693950178,
          133.16065573770493,
          128.69924812030075,
          145.88620689655173,
          136.61027190332325,
          120.13067150635209,
          136.03006012024048,
          144.98744769874477,
          128.81944444444446,
          108.08064516129032,
          145.28474576271188,
          133.91689008042894,
          176.18279569892474,
          145.45482866043614,
          150.86808510638298,
          124.48529411764706,
          90.81318681318682,
          123.05555555555556,
          124.95454545454545,
          127.38864628820961,
          129.70411985018725,
          137.46891191709844,
          126.98106060606061,
          138.134438305709,
          131.96231155778895,
          137.26243093922653,
          148.82654867256636,
          107.84886649874055,
          123.48763250883393,
          113.2784090909091,
          142.4621513944223,
          133.42049469964664,
          205.71875,
          127.77844311377245,
          123.02626262626262,
          220.4747474747475,
          247.93333333333334,
          228.14973262032086,
          131.455,
          127.61618257261411,
          140.57707509881422,
          134.95951417004048,
          222.20426829268294,
          142.82753623188407,
          130.92635658914728,
          142.83072100313478,
          145.5639344262295,
          124.51190476190476,
          133.40944881889763,
          135.234404536862,
          124.45679012345678,
          140.0721153846154,
          140.57894736842104,
          114.88418079096046,
          129.19742489270385,
          135.73508353221956,
          118.38247863247864,
          138.61829652996846,
          222.58403361344537,
          158.06887755102042,
          134.52777777777777,
          133.41616161616162,
          132.34848484848484,
          125.83196721311475,
          105.66666666666667,
          127.12082262210797,
          130.38006756756758,
          127.33333333333333,
          137.37160120845923,
          101.60130718954248,
          156.1798245614035,
          145.95305164319248,
          154.7015873015873,
          109.02415458937197,
          148.78895463510847,
          152.20257234726688,
          147.89461883408072,
          128.7806691449814,
          132.55731225296444,
          140.6346153846154,
          117.20179372197309,
          142.65808823529412,
          150.3409090909091,
          190.75877192982455,
          130.45962732919256,
          135.99726775956285,
          125.23890784982935,
          129.15432098765433,
          94.01941747572816,
          131.45652173913044,
          209.56940509915015,
          156.84641638225256,
          137.0609756097561,
          122.51475409836065,
          113.56338028169014,
          145.65836298932385,
          128.5491651205937,
          153.77178423236515,
          146.9778911564626,
          147.85807504078304,
          134.67948717948718,
          135.51940298507463,
          248.26470588235293,
          121.74561403508773,
          117.05696202531645,
          139.99264705882354,
          124.22433460076046,
          128.63352272727272,
          135.109649122807,
          155.73293768545994,
          214.72395833333334,
          113.73426573426573,
          122.41221374045801,
          125.63461538461539,
          174.8711111111111,
          139.1578947368421,
          250.36760124610592,
          155.88853503184714,
          148.185,
          168.6225352112676,
          141.84848484848484,
          146.92361111111111,
          155.5243445692884,
          141.8385269121813,
          137.09714285714287,
          139.04456824512536,
          127.60880829015544,
          137.3804347826087,
          126.58990536277602,
          206.74253731343285,
          133.6171003717472,
          127.41304347826087,
          106.80625,
          141.1491935483871,
          110.01320132013201,
          128.35294117647058,
          148.73056994818654,
          129.7418655097614,
          134.73243243243243,
          118.61616161616162,
          124.76923076923077,
          146.34459459459458,
          135.50819672131146,
          138.38297872340425,
          134.69007633587788,
          139.16307692307691,
          141.05872756933115,
          136.36153846153846,
          128.49068322981367,
          115.89622641509433,
          127.93055555555556,
          120.36666666666666,
          139.0495283018868,
          131.0201612903226,
          145.6412213740458,
          127.69668246445498,
          146.75615763546799,
          143.6790352504638,
          130.20220588235293,
          120.855421686747,
          129.01340996168582,
          123.64183381088826,
          126.59622641509434,
          138.50588235294117,
          128.22471910112358,
          137.57954545454547,
          223.02461538461537,
          136.75704989154013,
          140.07142857142858,
          218.1259842519685,
          127.42953020134229,
          147.87461773700306,
          137.9718309859155,
          139.4879518072289,
          115.92307692307692,
          141.53795379537954,
          159.52742616033754,
          150.40356083086053,
          155.91369047619048,
          120.94965675057209,
          154.7641196013289,
          108.88113695090439,
          130.94811320754718,
          152.94666666666666,
          139.00732600732601,
          127.53757225433526,
          128.59600997506234,
          124.14285714285714,
          133.33333333333334,
          130.35675675675677,
          207.27272727272728,
          121.48571428571428,
          137.9121338912134,
          128.72439024390243,
          133.55240793201133,
          139.25833333333333,
          147.57894736842104,
          135.83068783068782,
          148.2565445026178,
          134.80851063829786,
          142.9271523178808,
          241.51891891891893,
          106.68637532133675,
          130.84463894967178,
          153.80904522613065,
          141.8125,
          140.4090909090909,
          144.121875,
          136.78446601941747,
          128.33734939759037,
          132.40980735551665,
          140.10623556581987,
          121.57476635514018,
          117.92765273311898,
          127.836,
          162.46598639455783,
          91.14529914529915,
          138.12280701754386,
          136.66390041493776,
          130.78064516129032,
          139.31034482758622,
          146.79569892473117,
          137.9795918367347,
          167.22049689440993,
          235.4437086092715,
          144.02657004830917,
          140.34420289855072,
          128.5462962962963,
          119.89047619047619,
          150.7250470809793,
          120.42105263157895,
          131.65656565656565,
          149.90972222222223,
          128.17924528301887,
          135.86225402504473,
          146.3181818181818,
          121.68098159509202,
          130.03432494279176,
          100.41796875,
          118.5360824742268,
          132.73529411764707,
          141.55737704918033,
          138.07692307692307,
          135.01955990220048,
          138.6642156862745,
          135.16091954022988,
          145.33540372670808,
          116.01869158878505,
          132.51839464882943,
          163.4101876675603,
          142.3209549071618,
          130.15196078431373,
          112.88659793814433,
          151.13317757009347,
          189.9251497005988,
          142.708674304419,
          146.5142857142857,
          136.27848101265823,
          125.28728070175438,
          114.52248394004283,
          130.80736543909347,
          143.4492385786802,
          116.62142857142857,
          131.6039119804401,
          106.93617021276596,
          126.47142857142858,
          139.18143459915612,
          123.64082687338501,
          122.92780748663101,
          147.4723926380368,
          135.6917098445596,
          146.6402266288952,
          145.7578475336323,
          139.51594746716697,
          137.9889135254989,
          113.84634760705289,
          143.51054852320675,
          223.0258064516129,
          127.18450184501845,
          126.11475409836065,
          139.90697674418604,
          127.96855345911949,
          126.36853932584269,
          165.5623188405797,
          121.98203592814372,
          147.7201166180758,
          132.85119047619048,
          131.4390243902439,
          210.76315789473685,
          133.7543103448276,
          127.6313725490196,
          144.5121951219512,
          117.10762331838565,
          136.9318181818182,
          135.2989247311828,
          161.5,
          161.1125541125541,
          144.6843373493976,
          164.1205479452055,
          142.368,
          143.5064935064935,
          141.54362416107384,
          152.81372549019608,
          135.00571428571428,
          161.53395061728395,
          203.3189189189189,
          135.0180412371134,
          131.32006920415225,
          147.82083333333333,
          136.84012539184954,
          132.23469387755102,
          128.49892933618844,
          220.75641025641025,
          111.55263157894737,
          135.82112068965517,
          130.74103585657372,
          134.47178329571105,
          154.58139534883722,
          129.85371179039302,
          122.38738738738739,
          121.04626334519573,
          144.1562082777036,
          111.47560975609755,
          117.0938864628821,
          127.4205298013245,
          112.37748344370861,
          118.98726114649682,
          124.01732673267327,
          130.6734693877551,
          144.10179640718562,
          127.28610354223433,
          122.99807692307692,
          133.90021231422506,
          236.65027322404373,
          196.82846003898635,
          141.8716814159292,
          107.60606060606061,
          115.23605150214593,
          133.62258953168043,
          127.878612716763,
          126.7455919395466,
          126.62870159453303,
          145.41947565543072,
          152.76349614395886,
          128.33259423503327,
          121.96166134185303,
          90.28415300546447,
          139.1822429906542,
          134.63636363636363,
          136.20567375886526,
          128.64528301886793,
          120.59383033419023,
          134.95,
          124.87931034482759,
          88.48842592592592,
          118.429203539823,
          131.10955056179776,
          125.55182072829132,
          108.77926421404682,
          134.31743119266056,
          139.83506944444446,
          130.651376146789,
          104.86783042394015,
          125.06389776357827,
          129.03654485049833,
          117.76536312849161,
          117.90851735015772,
          122.77729257641921,
          162.0936599423631,
          146.98220640569394,
          126.47341337907376,
          123.03048780487805,
          148.1523178807947,
          137.6684350132626,
          123.74545454545455,
          201.14285714285714,
          113.64775413711584,
          125.00911854103343,
          140.86486486486487,
          106.20093457943925,
          228.4,
          184.2310606060606,
          122.83870967741936,
          128.94956140350877,
          141.47540983606558,
          132.25,
          127.77675276752767,
          114.32758620689656,
          134.23931623931625,
          142.4060606060606,
          143.4185303514377,
          130.62739726027397,
          96.62566844919786,
          117.77027027027027,
          113.77397260273973,
          116.15294117647059,
          149.25825825825825,
          123.05367231638418,
          117.88157894736842,
          129.4867256637168,
          103.85964912280701,
          112.28879310344827,
          123.5475,
          139.21983914209116,
          105.01577909270218,
          140.96979865771812,
          137.76111111111112,
          144.59876543209876,
          130.05592841163312,
          122.95,
          143.02828282828284,
          118.73745173745174,
          221.72368421052633,
          227.22489959839356,
          144.05379746835442,
          121.06122448979592,
          119.28787878787878,
          131,
          143.83238636363637,
          122.7949790794979,
          132.17418032786884,
          127.54669703872437,
          133.0893203883495,
          125.6349614395887,
          128.345,
          139.76807980049875,
          106.34782608695652,
          129.10763888888889,
          135.99212598425197,
          161.27450980392157,
          138.51,
          120.94658119658119,
          141.50093457943925,
          123.36686390532545,
          106.8896103896104,
          139.99794661190964,
          149.48295454545453,
          126.36094674556213,
          128.21153846153845,
          124.98907103825137,
          122.13526570048309,
          216.5447570332481,
          193.49127906976744,
          122.38571428571429,
          112.88805970149254,
          145.19354838709677,
          125.2798833819242,
          111.42911153119093,
          232.89285714285714,
          126.15306122448979,
          137.2164948453608,
          115.76410835214448,
          104.30021141649048,
          121.23832923832924,
          129.57926829268294,
          116.35654008438819,
          118.25,
          104.352,
          163.2224880382775,
          194.83641975308643,
          157.76666666666668,
          120.95266272189349,
          131.84,
          156.98736842105262,
          120.023598820059,
          185.8909090909091,
          121.99444444444444,
          182.04545454545453,
          104.05698005698005,
          120.30344827586207,
          128.68897637795277,
          118.72680412371135,
          101.5524861878453,
          120.30466830466831,
          103.48648648648648,
          95.67441860465117,
          136.73153153153154,
          130.40329218106996,
          102.34796238244515,
          117.1556886227545,
          128.46733668341707,
          126.33232628398791,
          104.21951219512195,
          124.875,
          126.22250639386189,
          126.00277008310249,
          128.205574912892,
          117.17892156862744,
          121.27906976744185,
          141.07553366174056,
          101.82467532467533,
          105.83941605839416,
          94.74358974358974,
          137.82428940568477,
          131.61853448275863,
          106.45384615384616,
          133.8227424749164,
          126.91304347826087,
          114.5284090909091,
          119.08360128617363,
          121.11512415349887,
          99.98689956331877,
          134.3135593220339,
          121.703125,
          115.57788944723617,
          137.47115384615384,
          117.77731092436974,
          133.16446124763706,
          117.71238938053098,
          104.7928870292887,
          111.46969696969697,
          130.76829268292684,
          100.83807829181495,
          117.81788079470199,
          113.81176470588235,
          138.82155477031802,
          127.30275229357798,
          117.32283464566929,
          128.60169491525423,
          114.625,
          121.96845425867508,
          96.67613636363636,
          115.31746031746032,
          90.95918367346938,
          122.87699316628702,
          122.58035714285714,
          211.22105263157894,
          127.97018970189701,
          114.78157894736842,
          111.09681881051176,
          116.96306068601584,
          120.64809384164222,
          118.62470308788599,
          98.45,
          141.27083333333334,
          123.17789757412399,
          98.1602787456446,
          98.0379241516966,
          238.33502538071065,
          242.51263537906138,
          100.98402555910543,
          99.03322259136213,
          104.46715328467154,
          96.89285714285714,
          239.78600823045267,
          87.00434782608696,
          99.42613636363636,
          104.1542750929368,
          73.22325581395349,
          250.4513274336283,
          102.23107569721115,
          103.01408450704226,
          93.94797687861272,
          106.59183673469387,
          88.83076923076923,
          97.84455958549223,
          97.01295336787565,
          76.57928802588997,
          110.03935599284436,
          90.58555133079848,
          212.30769230769232,
          102.83941605839416,
          96.4570765661253,
          69.40526315789474,
          95.96085409252669,
          88.06423982869379,
          90.13023255813954,
          99.68110918544194,
          85.50950570342205,
          78.62989323843416,
          89.23384615384616,
          79.56774193548387,
          79.43875278396436,
          101.534375,
          79.25773195876289,
          104.92905405405405,
          91.52592592592593,
          86.22458628841608,
          107.32754342431762,
          74.97058823529412,
          91.97658862876254,
          109.07305194805195,
          89.86501377410468,
          90.85714285714286,
          73.0509977827051,
          84.32,
          101.76470588235294,
          87.55,
          87.23809523809524,
          101.5111111111111,
          100.3103448275862,
          103.25154639175258,
          99.25815217391305,
          90.20446096654275,
          161.63636363636363,
          102.74924471299094,
          106.87822878228782,
          95.02052785923753,
          99.6149193548387,
          81.33255269320843,
          128.71052631578948,
          99.70725388601036,
          104.66260869565217,
          121.45626477541371,
          101.35180055401662,
          92.51041666666667,
          91.6,
          96.20588235294117,
          100.2566371681416,
          112.32122905027933,
          114.10684931506849,
          106.83405172413794,
          94.92,
          104.86974789915966,
          102.74309392265194,
          121.97685185185185,
          96.84410646387833,
          119.65094339622641,
          105.03485838779956,
          108.34415584415585,
          99.32384341637011,
          99.85310734463278,
          100.58888888888889,
          92.59114583333333,
          74.12228260869566,
          125.8152753108348,
          108.03988603988604,
          107.931718061674,
          93.75879396984925,
          108.6923076923077,
          90.89589905362776,
          97.19679633867277,
          112.41176470588235,
          116.61674008810573,
          245.7462686567164,
          97.65625,
          109.88842105263159,
          113.11764705882354,
          99.72727272727273,
          104.32894736842105,
          55.082191780821915,
          117.67100371747212,
          94.56818181818181,
          237.95979899497488,
          113.88283378746594,
          105.91891891891892,
          115.64285714285714,
          108.69660194174757,
          119.36217948717949,
          104.77746478873239,
          106.45945945945945,
          103.25263157894737,
          99.70833333333333,
          98.55693581780538,
          110.79342723004694,
          106.29230769230769,
          105.24065040650406,
          107.81506849315069,
          97.12698412698413,
          113.86853448275862,
          104.66451612903226,
          89.80104712041884,
          114.71980676328502,
          97.91022443890274,
          75.84496124031008,
          99.77142857142857,
          113.07624633431085,
          106.88471849865952,
          115.16538461538461,
          93.4572864321608,
          118.61695906432749,
          129.2910602910603,
          112.71052631578948,
          114.82675438596492,
          122.27044025157232,
          106.77300613496932,
          106.36827586206897,
          113.65322580645162,
          109.10204081632654,
          105.89497716894977,
          108.31073446327683,
          97.93650793650794,
          129.21598639455783,
          124.34165067178503,
          102.87898089171975,
          119.75053304904051,
          126.40562248995984,
          108.53186274509804,
          83.98412698412699,
          120.51142857142857,
          77.2,
          117.17226890756302,
          114.82729805013928,
          84.83440860215053,
          80.98561151079137,
          122.75837320574162,
          121.84756097560975,
          107.86643835616438,
          171.45454545454547,
          111.8716577540107,
          106.42384105960265,
          130.0134529147982,
          90.70567375886525,
          123.1015873015873,
          129.76726726726727,
          144.76014109347443,
          91.82978723404256,
          97,
          103.18787878787879,
          122.06583629893238,
          115.56473214285714,
          135.7877094972067,
          117.12562814070351,
          77.88541666666667,
          253.07067137809187,
          83.47422680412372,
          111.85411140583554,
          97.16842105263157,
          84.34010152284264,
          125.61217391304348,
          120.6178861788618,
          122.88299531981279,
          131.95176848874598,
          134.2734082397004,
          81.80645161290323,
          182.11379310344827,
          98.53378378378379,
          174.42857142857142,
          107.12393162393163,
          94.09041095890412,
          111.03846153846153,
          135.1639344262295,
          97.02974828375287,
          190.66
         ],
         "xaxis": "x",
         "yaxis": "y"
        }
       ],
       "layout": {
        "barmode": "relative",
        "legend": {
         "title": {
          "text": "variable"
         },
         "tracegroupgap": 0
        },
        "template": {
         "data": {
          "bar": [
           {
            "error_x": {
             "color": "#2a3f5f"
            },
            "error_y": {
             "color": "#2a3f5f"
            },
            "marker": {
             "line": {
              "color": "#E5ECF6",
              "width": 0.5
             },
             "pattern": {
              "fillmode": "overlay",
              "size": 10,
              "solidity": 0.2
             }
            },
            "type": "bar"
           }
          ],
          "barpolar": [
           {
            "marker": {
             "line": {
              "color": "#E5ECF6",
              "width": 0.5
             },
             "pattern": {
              "fillmode": "overlay",
              "size": 10,
              "solidity": 0.2
             }
            },
            "type": "barpolar"
           }
          ],
          "carpet": [
           {
            "aaxis": {
             "endlinecolor": "#2a3f5f",
             "gridcolor": "white",
             "linecolor": "white",
             "minorgridcolor": "white",
             "startlinecolor": "#2a3f5f"
            },
            "baxis": {
             "endlinecolor": "#2a3f5f",
             "gridcolor": "white",
             "linecolor": "white",
             "minorgridcolor": "white",
             "startlinecolor": "#2a3f5f"
            },
            "type": "carpet"
           }
          ],
          "choropleth": [
           {
            "colorbar": {
             "outlinewidth": 0,
             "ticks": ""
            },
            "type": "choropleth"
           }
          ],
          "contour": [
           {
            "colorbar": {
             "outlinewidth": 0,
             "ticks": ""
            },
            "colorscale": [
             [
              0,
              "#0d0887"
             ],
             [
              0.1111111111111111,
              "#46039f"
             ],
             [
              0.2222222222222222,
              "#7201a8"
             ],
             [
              0.3333333333333333,
              "#9c179e"
             ],
             [
              0.4444444444444444,
              "#bd3786"
             ],
             [
              0.5555555555555556,
              "#d8576b"
             ],
             [
              0.6666666666666666,
              "#ed7953"
             ],
             [
              0.7777777777777778,
              "#fb9f3a"
             ],
             [
              0.8888888888888888,
              "#fdca26"
             ],
             [
              1,
              "#f0f921"
             ]
            ],
            "type": "contour"
           }
          ],
          "contourcarpet": [
           {
            "colorbar": {
             "outlinewidth": 0,
             "ticks": ""
            },
            "type": "contourcarpet"
           }
          ],
          "heatmap": [
           {
            "colorbar": {
             "outlinewidth": 0,
             "ticks": ""
            },
            "colorscale": [
             [
              0,
              "#0d0887"
             ],
             [
              0.1111111111111111,
              "#46039f"
             ],
             [
              0.2222222222222222,
              "#7201a8"
             ],
             [
              0.3333333333333333,
              "#9c179e"
             ],
             [
              0.4444444444444444,
              "#bd3786"
             ],
             [
              0.5555555555555556,
              "#d8576b"
             ],
             [
              0.6666666666666666,
              "#ed7953"
             ],
             [
              0.7777777777777778,
              "#fb9f3a"
             ],
             [
              0.8888888888888888,
              "#fdca26"
             ],
             [
              1,
              "#f0f921"
             ]
            ],
            "type": "heatmap"
           }
          ],
          "heatmapgl": [
           {
            "colorbar": {
             "outlinewidth": 0,
             "ticks": ""
            },
            "colorscale": [
             [
              0,
              "#0d0887"
             ],
             [
              0.1111111111111111,
              "#46039f"
             ],
             [
              0.2222222222222222,
              "#7201a8"
             ],
             [
              0.3333333333333333,
              "#9c179e"
             ],
             [
              0.4444444444444444,
              "#bd3786"
             ],
             [
              0.5555555555555556,
              "#d8576b"
             ],
             [
              0.6666666666666666,
              "#ed7953"
             ],
             [
              0.7777777777777778,
              "#fb9f3a"
             ],
             [
              0.8888888888888888,
              "#fdca26"
             ],
             [
              1,
              "#f0f921"
             ]
            ],
            "type": "heatmapgl"
           }
          ],
          "histogram": [
           {
            "marker": {
             "pattern": {
              "fillmode": "overlay",
              "size": 10,
              "solidity": 0.2
             }
            },
            "type": "histogram"
           }
          ],
          "histogram2d": [
           {
            "colorbar": {
             "outlinewidth": 0,
             "ticks": ""
            },
            "colorscale": [
             [
              0,
              "#0d0887"
             ],
             [
              0.1111111111111111,
              "#46039f"
             ],
             [
              0.2222222222222222,
              "#7201a8"
             ],
             [
              0.3333333333333333,
              "#9c179e"
             ],
             [
              0.4444444444444444,
              "#bd3786"
             ],
             [
              0.5555555555555556,
              "#d8576b"
             ],
             [
              0.6666666666666666,
              "#ed7953"
             ],
             [
              0.7777777777777778,
              "#fb9f3a"
             ],
             [
              0.8888888888888888,
              "#fdca26"
             ],
             [
              1,
              "#f0f921"
             ]
            ],
            "type": "histogram2d"
           }
          ],
          "histogram2dcontour": [
           {
            "colorbar": {
             "outlinewidth": 0,
             "ticks": ""
            },
            "colorscale": [
             [
              0,
              "#0d0887"
             ],
             [
              0.1111111111111111,
              "#46039f"
             ],
             [
              0.2222222222222222,
              "#7201a8"
             ],
             [
              0.3333333333333333,
              "#9c179e"
             ],
             [
              0.4444444444444444,
              "#bd3786"
             ],
             [
              0.5555555555555556,
              "#d8576b"
             ],
             [
              0.6666666666666666,
              "#ed7953"
             ],
             [
              0.7777777777777778,
              "#fb9f3a"
             ],
             [
              0.8888888888888888,
              "#fdca26"
             ],
             [
              1,
              "#f0f921"
             ]
            ],
            "type": "histogram2dcontour"
           }
          ],
          "mesh3d": [
           {
            "colorbar": {
             "outlinewidth": 0,
             "ticks": ""
            },
            "type": "mesh3d"
           }
          ],
          "parcoords": [
           {
            "line": {
             "colorbar": {
              "outlinewidth": 0,
              "ticks": ""
             }
            },
            "type": "parcoords"
           }
          ],
          "pie": [
           {
            "automargin": true,
            "type": "pie"
           }
          ],
          "scatter": [
           {
            "fillpattern": {
             "fillmode": "overlay",
             "size": 10,
             "solidity": 0.2
            },
            "type": "scatter"
           }
          ],
          "scatter3d": [
           {
            "line": {
             "colorbar": {
              "outlinewidth": 0,
              "ticks": ""
             }
            },
            "marker": {
             "colorbar": {
              "outlinewidth": 0,
              "ticks": ""
             }
            },
            "type": "scatter3d"
           }
          ],
          "scattercarpet": [
           {
            "marker": {
             "colorbar": {
              "outlinewidth": 0,
              "ticks": ""
             }
            },
            "type": "scattercarpet"
           }
          ],
          "scattergeo": [
           {
            "marker": {
             "colorbar": {
              "outlinewidth": 0,
              "ticks": ""
             }
            },
            "type": "scattergeo"
           }
          ],
          "scattergl": [
           {
            "marker": {
             "colorbar": {
              "outlinewidth": 0,
              "ticks": ""
             }
            },
            "type": "scattergl"
           }
          ],
          "scattermapbox": [
           {
            "marker": {
             "colorbar": {
              "outlinewidth": 0,
              "ticks": ""
             }
            },
            "type": "scattermapbox"
           }
          ],
          "scatterpolar": [
           {
            "marker": {
             "colorbar": {
              "outlinewidth": 0,
              "ticks": ""
             }
            },
            "type": "scatterpolar"
           }
          ],
          "scatterpolargl": [
           {
            "marker": {
             "colorbar": {
              "outlinewidth": 0,
              "ticks": ""
             }
            },
            "type": "scatterpolargl"
           }
          ],
          "scatterternary": [
           {
            "marker": {
             "colorbar": {
              "outlinewidth": 0,
              "ticks": ""
             }
            },
            "type": "scatterternary"
           }
          ],
          "surface": [
           {
            "colorbar": {
             "outlinewidth": 0,
             "ticks": ""
            },
            "colorscale": [
             [
              0,
              "#0d0887"
             ],
             [
              0.1111111111111111,
              "#46039f"
             ],
             [
              0.2222222222222222,
              "#7201a8"
             ],
             [
              0.3333333333333333,
              "#9c179e"
             ],
             [
              0.4444444444444444,
              "#bd3786"
             ],
             [
              0.5555555555555556,
              "#d8576b"
             ],
             [
              0.6666666666666666,
              "#ed7953"
             ],
             [
              0.7777777777777778,
              "#fb9f3a"
             ],
             [
              0.8888888888888888,
              "#fdca26"
             ],
             [
              1,
              "#f0f921"
             ]
            ],
            "type": "surface"
           }
          ],
          "table": [
           {
            "cells": {
             "fill": {
              "color": "#EBF0F8"
             },
             "line": {
              "color": "white"
             }
            },
            "header": {
             "fill": {
              "color": "#C8D4E3"
             },
             "line": {
              "color": "white"
             }
            },
            "type": "table"
           }
          ]
         },
         "layout": {
          "annotationdefaults": {
           "arrowcolor": "#2a3f5f",
           "arrowhead": 0,
           "arrowwidth": 1
          },
          "autotypenumbers": "strict",
          "coloraxis": {
           "colorbar": {
            "outlinewidth": 0,
            "ticks": ""
           }
          },
          "colorscale": {
           "diverging": [
            [
             0,
             "#8e0152"
            ],
            [
             0.1,
             "#c51b7d"
            ],
            [
             0.2,
             "#de77ae"
            ],
            [
             0.3,
             "#f1b6da"
            ],
            [
             0.4,
             "#fde0ef"
            ],
            [
             0.5,
             "#f7f7f7"
            ],
            [
             0.6,
             "#e6f5d0"
            ],
            [
             0.7,
             "#b8e186"
            ],
            [
             0.8,
             "#7fbc41"
            ],
            [
             0.9,
             "#4d9221"
            ],
            [
             1,
             "#276419"
            ]
           ],
           "sequential": [
            [
             0,
             "#0d0887"
            ],
            [
             0.1111111111111111,
             "#46039f"
            ],
            [
             0.2222222222222222,
             "#7201a8"
            ],
            [
             0.3333333333333333,
             "#9c179e"
            ],
            [
             0.4444444444444444,
             "#bd3786"
            ],
            [
             0.5555555555555556,
             "#d8576b"
            ],
            [
             0.6666666666666666,
             "#ed7953"
            ],
            [
             0.7777777777777778,
             "#fb9f3a"
            ],
            [
             0.8888888888888888,
             "#fdca26"
            ],
            [
             1,
             "#f0f921"
            ]
           ],
           "sequentialminus": [
            [
             0,
             "#0d0887"
            ],
            [
             0.1111111111111111,
             "#46039f"
            ],
            [
             0.2222222222222222,
             "#7201a8"
            ],
            [
             0.3333333333333333,
             "#9c179e"
            ],
            [
             0.4444444444444444,
             "#bd3786"
            ],
            [
             0.5555555555555556,
             "#d8576b"
            ],
            [
             0.6666666666666666,
             "#ed7953"
            ],
            [
             0.7777777777777778,
             "#fb9f3a"
            ],
            [
             0.8888888888888888,
             "#fdca26"
            ],
            [
             1,
             "#f0f921"
            ]
           ]
          },
          "colorway": [
           "#636efa",
           "#EF553B",
           "#00cc96",
           "#ab63fa",
           "#FFA15A",
           "#19d3f3",
           "#FF6692",
           "#B6E880",
           "#FF97FF",
           "#FECB52"
          ],
          "font": {
           "color": "#2a3f5f"
          },
          "geo": {
           "bgcolor": "white",
           "lakecolor": "white",
           "landcolor": "#E5ECF6",
           "showlakes": true,
           "showland": true,
           "subunitcolor": "white"
          },
          "hoverlabel": {
           "align": "left"
          },
          "hovermode": "closest",
          "mapbox": {
           "style": "light"
          },
          "paper_bgcolor": "white",
          "plot_bgcolor": "#E5ECF6",
          "polar": {
           "angularaxis": {
            "gridcolor": "white",
            "linecolor": "white",
            "ticks": ""
           },
           "bgcolor": "#E5ECF6",
           "radialaxis": {
            "gridcolor": "white",
            "linecolor": "white",
            "ticks": ""
           }
          },
          "scene": {
           "xaxis": {
            "backgroundcolor": "#E5ECF6",
            "gridcolor": "white",
            "gridwidth": 2,
            "linecolor": "white",
            "showbackground": true,
            "ticks": "",
            "zerolinecolor": "white"
           },
           "yaxis": {
            "backgroundcolor": "#E5ECF6",
            "gridcolor": "white",
            "gridwidth": 2,
            "linecolor": "white",
            "showbackground": true,
            "ticks": "",
            "zerolinecolor": "white"
           },
           "zaxis": {
            "backgroundcolor": "#E5ECF6",
            "gridcolor": "white",
            "gridwidth": 2,
            "linecolor": "white",
            "showbackground": true,
            "ticks": "",
            "zerolinecolor": "white"
           }
          },
          "shapedefaults": {
           "line": {
            "color": "#2a3f5f"
           }
          },
          "ternary": {
           "aaxis": {
            "gridcolor": "white",
            "linecolor": "white",
            "ticks": ""
           },
           "baxis": {
            "gridcolor": "white",
            "linecolor": "white",
            "ticks": ""
           },
           "bgcolor": "#E5ECF6",
           "caxis": {
            "gridcolor": "white",
            "linecolor": "white",
            "ticks": ""
           }
          },
          "title": {
           "x": 0.05
          },
          "xaxis": {
           "automargin": true,
           "gridcolor": "white",
           "linecolor": "white",
           "ticks": "",
           "title": {
            "standoff": 15
           },
           "zerolinecolor": "white",
           "zerolinewidth": 2
          },
          "yaxis": {
           "automargin": true,
           "gridcolor": "white",
           "linecolor": "white",
           "ticks": "",
           "title": {
            "standoff": 15
           },
           "zerolinecolor": "white",
           "zerolinewidth": 2
          }
         }
        },
        "title": {
         "text": "nucleus_ki67_avg_int_in_DG"
        },
        "xaxis": {
         "anchor": "y",
         "domain": [
          0,
          1
         ],
         "range": [
          0,
          255
         ],
         "title": {
          "text": "nucleus_ki67_avg_int"
         }
        },
        "yaxis": {
         "anchor": "x",
         "domain": [
          0,
          1
         ],
         "title": {
          "text": "count"
         }
        }
       }
      }
     },
     "metadata": {},
     "output_type": "display_data"
    },
    {
     "data": {
      "application/vnd.plotly.v1+json": {
       "config": {
        "plotlyServerURL": "https://plot.ly"
       },
       "data": [
        {
         "alignmentgroup": "True",
         "bingroup": "x",
         "hovertemplate": "variable=nucleus_neun_avg_int<br>nucleus_neun_avg_int=%{x}<br>count=%{y}<extra></extra>",
         "legendgroup": "nucleus_neun_avg_int",
         "marker": {
          "color": "#636efa",
          "pattern": {
           "shape": ""
          }
         },
         "name": "nucleus_neun_avg_int",
         "nbinsx": 256,
         "offsetgroup": "nucleus_neun_avg_int",
         "orientation": "v",
         "showlegend": true,
         "type": "histogram",
         "x": [
          97.01634615384616,
          16.241666666666667,
          39.833333333333336,
          90.87763713080169,
          46.03142857142857,
          95.8453276047261,
          113.83018867924528,
          95.69005847953217,
          113.63390170511535,
          9.638230647709321,
          69.88508557457213,
          139.8546511627907,
          132.6,
          48.71269487750557,
          120.58682634730539,
          12.017341040462428,
          53.449367088607595,
          121.12413793103448,
          31.072769953051644,
          67.9616935483871,
          13.275728155339806,
          132.28101644245143,
          123.30310880829016,
          6.4609665427509295,
          160.35300429184548,
          91.71847507331378,
          15.693693693693694,
          107.56677890011224,
          23.947674418604652,
          127.64326812428078,
          8.245283018867925,
          8.58703071672355,
          146.9132530120482,
          53.91216216216216,
          60.93269230769231,
          171.81903642773207,
          132.60493827160494,
          174.33977900552486,
          13.386363636363637,
          98.92355694227768,
          55.79722703639515,
          169.5158027812895,
          171.643391521197,
          146.79818594104307,
          119.60745341614907,
          168.76233183856502,
          63.09763313609467,
          171.54641909814325,
          58.454961832061066,
          143.0095389507154,
          171.5470430107527,
          113.54945054945055,
          162.64671532846717,
          136.8754813863928,
          65.09479553903346,
          143.5904887714663,
          172.43870014771048,
          149.93684210526317,
          148.68007662835248,
          191.29333333333332,
          55.7700205338809,
          184.12059620596207,
          14.8875,
          17.149532710280372,
          164.96610169491527,
          193.60916442048517,
          129.35034013605443,
          133.19014084507043,
          69.12911392405063,
          119.18181818181819,
          130.23716381418092,
          80.15572715572715,
          171.7975871313673,
          198.16044260027664,
          156.27692307692308,
          175.75935828877004,
          156.26692708333334,
          162.78836833602585,
          108.13628318584071,
          187.74405594405596,
          105.48860398860398,
          116.10210210210211,
          145.45609756097562,
          10.452743902439025,
          170.79196556671448,
          120.79953917050692,
          122.7469512195122,
          163.13984962406016,
          213.74928366762177,
          104.47397563676634,
          91.09756097560975,
          182.639263803681,
          194.69150174621652,
          152.6701030927835,
          196.51612903225808,
          137.69180327868852,
          147.98876404494382,
          16.06941431670282,
          187.1350681536555,
          109.5258019525802,
          165.10068027210883,
          180.46858168761221,
          140.23921568627452,
          14.725118483412322,
          177.3020231213873,
          175.53140096618358,
          159.92109500805154,
          172.54758620689654,
          192.25726141078837,
          143.546875,
          111.83241252302025,
          168.60036832412524,
          105.11787819253438,
          170.67865707434052,
          155.42767295597486,
          77.1146953405018,
          146.3090909090909,
          129.77722772277227,
          12.203125,
          187.2710843373494,
          201.97785977859778,
          98.59622641509434,
          124.39115250291036,
          208.37517630465445,
          143.94187779433682,
          18.970731707317075,
          162.03012912482066,
          95.72457627118644,
          12.992714025500911,
          90.92744063324538,
          176.4309090909091,
          155.16901408450704,
          116.23102310231023,
          12.659090909090908,
          166.48732394366198,
          167.22241379310344,
          219.74964234620887,
          152.91732909379968,
          93.10569105691057,
          111.64869029275809,
          202.15400410677617,
          150.2453637660485,
          89.36129032258064,
          14.470588235294118,
          181.57598039215685,
          112.40693430656934,
          100.79245283018868,
          195.22953451043338,
          188.83119266055047,
          178.41368078175896,
          113.92857142857143,
          82.56698240866035,
          190.23789764868604,
          113.83916083916084,
          194.18201284796575,
          213.8212180746562,
          138.5260606060606,
          166.6770573566085,
          10.287822878228782,
          95.87624309392265,
          85.6379821958457,
          174.06875,
          178.09617612977985,
          151.39829605963791,
          176.25409836065575,
          63.45175438596491,
          134.29358974358973,
          12.646464646464647,
          185.5,
          156.21470588235294,
          158.75555555555556,
          155.73360655737704,
          177.1370420624152,
          111.92443324937028,
          118.41030195381883,
          195.66153846153847,
          156.098452883263,
          87.65853658536585,
          157.60294117647058,
          115.69832402234637,
          35.417661097852026,
          168.90083798882682,
          112.20114942528735,
          93.60545454545455,
          185.85743380855396,
          156.3022222222222,
          148.8865336658354,
          138.4858870967742,
          186.13037974683544,
          108.93455497382199,
          158.63053613053614,
          160.52770780856423,
          151.49452269170578,
          118.18485915492958,
          101.55576559546314,
          56.56287425149701,
          126.472,
          138.23056300268095,
          74.26911764705882,
          168.3676880222841,
          177.40337078651686,
          14.177528089887641,
          184.15,
          18.38317757009346,
          56.58995815899581,
          244.7678916827853,
          26.012383900928793,
          141.64764621968615,
          166.24512534818942,
          110.82903663500679,
          34.82952182952183,
          56.1184668989547,
          15.350806451612904,
          156.24232633279482,
          113.81146304675717,
          143.96380697050938,
          114.5993265993266,
          129.46913580246914,
          96.06457242582897,
          164.485868102288,
          9.535353535353535,
          142.38152610441767,
          162.34075723830736,
          100.24315619967794,
          174.23537414965986,
          54.54358974358974,
          180.02253032928942,
          16.047169811320753,
          154.87605633802818,
          164.60709413369713,
          14.135542168674698,
          169.5267605633803,
          136.50629722921914,
          185.74175035868006,
          166.62091503267973,
          12.05703422053232,
          152.79044117647058,
          173.20101351351352,
          152.6481802426343,
          157.8536231884058,
          122,
          165.3517156862745,
          127.55861070911722,
          138.03883495145632,
          124.72474747474747,
          122.05294117647058,
          138.30492676431425,
          49.86666666666667,
          144.12702702702703,
          137.3148688046647,
          74.25537634408602,
          64.62747688243064,
          138.73553719008265,
          12.251700680272108,
          111.04156479217603,
          121.94679399727148,
          146.40563725490196,
          104.41114058355437,
          117.9364161849711,
          118.89209401709402,
          82.27906976744185,
          20.35054347826087,
          173.15750371471026,
          137.44035087719297,
          191.5414847161572,
          173.9909677419355,
          129.44273907910272,
          96.75631768953069,
          94.45808383233533,
          160.79183673469387,
          145.49419568822555,
          15.838709677419354,
          151.05860805860806,
          137.4070407040704,
          170.533426183844,
          50.818619582664525,
          117.0398406374502,
          191.99466192170817,
          31.16190476190476,
          177.31621621621622,
          172.89162561576356,
          171.8394437420986,
          42.08387096774194,
          133.94651162790697,
          75.61103810775296,
          172.80100755667507,
          154.7527559055118,
          135.52182163187857,
          178.32824427480915,
          183.90052356020942,
          164.2475,
          200.30745341614906,
          121.24324324324324,
          186.1414835164835,
          157.19530102790014,
          140.69834710743802,
          170.3464140730717,
          111.22066549912434,
          158.36111111111111,
          191.75480769230768,
          88.86105675146771,
          48.58038147138964,
          95.15950920245399,
          181.87978142076503,
          142.09933774834437,
          166.7546201232033,
          168.07183098591548,
          195.2942008486563,
          10.932584269662922,
          177.05205811138015,
          86.72447552447552,
          163.29971181556195,
          161.82247557003257,
          171.56933333333333,
          162.09640102827763,
          132.3780864197531,
          219.89256198347107,
          199.7191011235955,
          134.335952848723,
          123.42629482071713,
          66.65301204819278,
          135.8424336973479,
          164.53860294117646,
          126.47695852534562,
          153.43407960199005,
          181.50531914893617,
          188.21818181818182,
          69.77112676056338,
          236.41435562805873,
          94.63270440251573,
          183.10785619174433,
          208.4092219020173,
          178.58479532163742,
          130.11320754716982,
          13.396174863387978,
          49.09722222222222,
          184.4265734265734,
          149.19089574155655,
          175.77046548956662,
          156.356608478803,
          72.08306709265176,
          184.1619170984456,
          175.62878787878788,
          195.8700495049505,
          191.69387755102042,
          129.70281995661605,
          196.8150183150183,
          189.82608695652175,
          157.24604966139955,
          100.45743145743145,
          110.8243626062323,
          172.2421185372005,
          156.17603911980441,
          83.73728813559322,
          166.0609756097561,
          182.43660130718953,
          177.07509386733418,
          95.79685452162516,
          104.93072824156306,
          115.04528301886792,
          142.97464788732395,
          150.10362694300517,
          178.01313628899837,
          182.321608040201,
          135.4,
          20.90073529411765,
          176.47368421052633,
          128.53571428571428,
          21.8719806763285,
          177.1057810578106,
          188.66666666666666,
          84.50393700787401,
          15.335078534031414,
          162.1927927927928,
          160.2469135802469,
          11.789351851851851,
          211.15992292870905,
          115.62215477996965,
          182.20433996383363,
          179.15809523809523,
          184.35593220338984,
          159.1611570247934,
          118.83844011142061,
          189.82544861337684,
          185.256993006993,
          163.70039421813402,
          71.97481481481482,
          11.242857142857142,
          99.41573033707866,
          179.08024691358025,
          192.67014925373135,
          165.75067750677508,
          48.13193403298351,
          12.191950464396285,
          38.75409836065574,
          140.51237263464338,
          150.28354978354977,
          207.9578606158833,
          155.5785123966942,
          69.06353591160222,
          21.18342151675485,
          170.84936479128856,
          127.42063492063492,
          26.571428571428573,
          158.69589816124468,
          116.52189781021897,
          9.885416666666666,
          30.673306772908365,
          157.77125193199382,
          125.11269614835949,
          168.46782841823057,
          22.711111111111112,
          183.02397743300423,
          78.48045397225725,
          102.57227138643069,
          9.940573770491802,
          52.46870838881491,
          153.8033635187581,
          214.1820652173913,
          11.347533632286995,
          179.6949924127466,
          133.40890688259108,
          179.88227334235452,
          168.07587253414263,
          170.82057416267943,
          29.606589147286822,
          32.05555555555556,
          137.135,
          192.5525179856115,
          132.35313531353134,
          95.78680203045685,
          46.708955223880594,
          166.5187637969095,
          99.9278350515464,
          203.37166900420758,
          164.76892950391644,
          160.751269035533,
          141.23969072164948,
          105.74258600237248,
          71.72727272727273,
          210.60803324099723,
          129.4297052154195,
          174.5751503006012,
          81.57570977917982,
          219.40099833610648,
          162.62813370473538,
          17.81132075471698,
          12.373684210526315,
          17.32620320855615,
          71.17362637362638,
          177.35750636132315,
          167.79779411764707,
          195.48071625344352,
          18.807291666666668,
          108.955042527339,
          85.44398340248962,
          161.80860534124628,
          32.80071174377224,
          177.5691906005222,
          12.366197183098592,
          101.15830721003135,
          193.46153846153845,
          136.11009174311926,
          181.26526717557252,
          159.29347826086956,
          163.0037783375315,
          127.68580060422961,
          163.91521739130434,
          158.80864197530863,
          105.08089500860585,
          160.78991596638656,
          147.31578947368422,
          199.46344827586208,
          91.0990099009901,
          104.66546112115732,
          180.99475753604193,
          25.577272727272728,
          198.6098484848485,
          179.90528634361235,
          168.30152671755727,
          168.07417974322397,
          11.85948905109489,
          154.98617511520737,
          138.17774086378736,
          203.26185344827587,
          112.13561190738699,
          129.8948717948718,
          15.357758620689655,
          204.91940298507464,
          148.9452804377565,
          177.03478260869565,
          88.46846846846847,
          169.07063197026022,
          96.5340699815838,
          161.15415019762847,
          123.46052631578948,
          147.13232323232324,
          133.61111111111111,
          107.91869158878505,
          16.24867724867725,
          141.88235294117646,
          127.71932114882506,
          138.1471747700394,
          114.01548387096774,
          125.14406779661017,
          154.68630849220105,
          55.38125,
          126.88409371146733,
          146.0470297029703,
          128.1478260869565,
          117.6255442670537,
          59.09239130434783,
          13.51271186440678,
          151.8757225433526,
          162.0804347826087,
          201.3844580777096,
          81.06427221172022,
          45.12694877505568,
          165.34323922734026,
          172.6864161849711,
          149.3987261146497,
          53.21818181818182,
          126.83001531393568,
          133.40528634361235,
          152.66396103896105,
          25.766129032258064,
          169.53396739130434,
          101.74082073434126,
          223.38851351351352,
          135.64392905866302,
          29.030330062444246,
          88.48755490483163,
          200.79150579150578,
          173.25939177101966,
          85.51059730250482,
          146.77351485148515,
          150.44415584415583,
          6.508810572687224,
          132.196,
          151.67371937639197,
          135.66355140186917,
          90.25271739130434,
          14.754285714285714,
          22.352941176470587,
          15.611241217798595,
          159.36998254799303,
          129.3991935483871,
          8.656742556917688,
          154.8257756563246,
          17.432300163132137,
          153.77295918367346,
          16.12461059190031,
          27.440993788819874,
          28.777464788732395,
          143.6382189239332,
          161.20559610705595,
          62.7814910025707,
          146.9589216944801,
          139.72840909090908,
          111.89430894308943,
          168.39205298013246,
          80.86068111455108,
          166.6358543417367,
          133.8514619883041,
          13.716666666666667,
          124.50990099009901,
          141.992277992278,
          144.3630017452007,
          88.19444444444444,
          70.42276422764228,
          40.748493975903614,
          14.380841121495328,
          98.37908496732027,
          174.09025270758121,
          145.1279761904762,
          9.121212121212121,
          127.4017094017094,
          126.5894538606403,
          173.27720207253887,
          135.5425219941349,
          146.6383981154299,
          6.457044673539519,
          147.95604395604394,
          110.10035842293907,
          142.7448559670782,
          180.46666666666667,
          106.09160305343511,
          172.19455782312926,
          173.35876042908225,
          153,
          126.77025036818851,
          77.50925925925925,
          118.03873744619798,
          178.68238213399505,
          36.4789029535865,
          201.71601208459214,
          180.57510729613733,
          199.9460966542751,
          15.926605504587156,
          12.205555555555556,
          37.98557692307692,
          85,
          223.87138263665594,
          137.57142857142858,
          40.98557692307692,
          192.01726618705035,
          16.711590296495956,
          161.16552511415526,
          128.53347280334728,
          148.39688041594454,
          169.2534854245881,
          77.23595505617978,
          158.05722460658083,
          184.70634920634922,
          140.1725768321513,
          199.4257854821235,
          166.55677154582764,
          107.60912981455064,
          128.19604863221883,
          105.42796610169492,
          209.51092611862643,
          120.16289592760181,
          162.79781420765028,
          87.71161048689139,
          196.5660569105691,
          222.49894291754757,
          132.68727272727273,
          172.863173216885,
          71.41446208112875,
          212.3692098092643,
          201.904,
          72.17361111111111,
          49.42465753424658,
          38.46864686468647,
          163.9633225458468,
          165.30573248407643,
          212.04956268221574,
          9.506726457399104,
          163.22873345935727,
          199.2487113402062,
          177.309375,
          110.23270440251572,
          166.60495283018867,
          197.86069651741295,
          213.2345803842265,
          210.46209761163033,
          41.056782334384856,
          181.95323741007195,
          92.06412825651303,
          176.80400572246066,
          166.077868852459,
          218.8393574297189,
          158.36708860759492,
          233.88629441624366,
          97.22342342342343,
          158.203125,
          146.27528089887642,
          18.296666666666667,
          184.9672131147541,
          201.9375,
          146.26717557251908,
          193.71771217712177,
          197.2465940054496,
          103.65778961384821,
          213.56960680127523,
          130.61786237188872,
          182.58829174664106,
          163.14185228604924,
          167.96450939457202,
          188.22738693467338,
          143.30277777777778,
          218.0768115942029,
          122.54745762711865,
          82.63157894736842,
          177.06896551724137,
          224.67920585161966,
          184.82626538987688,
          71.88052373158756,
          213.50544959128067,
          159.75438596491227,
          188.41463414634146,
          108.37931034482759,
          125.23459715639811,
          203.6588486140725,
          111.68253968253968,
          15.075342465753424,
          162.15629322268327,
          94.91787439613526,
          174.73793103448276,
          198.29064039408868,
          58.24752475247525,
          99.89807162534436,
          131.83953033268102,
          225.3068181818182,
          187.26916524701875,
          117.95342465753424,
          46.463320463320464,
          219.55283018867925,
          209.25408805031446,
          139.59084791386272,
          191.74609375,
          119.87853107344633,
          31.06756756756757,
          67.04243743199129,
          66.3125,
          174.5,
          150.40134228187918,
          182.33422818791945,
          53.65296803652968,
          234.88362512873326,
          212.6637168141593,
          212.07715133531158,
          62.660714285714285,
          116.33015267175573,
          237.79162191192268,
          180.80398671096344,
          26.354988399071924,
          125.606529209622,
          188.0360962566845,
          14.52995391705069,
          54.659574468085104,
          93.5040650406504,
          127.58008658008659,
          182.62947067238912,
          237.98522167487684,
          149.13134328358208,
          50.72644376899696,
          24.577639751552795,
          18.77,
          14.844783715012722,
          189.23480083857442,
          236.4765100671141,
          174.69935691318327,
          168.56650246305418,
          137.98469387755102,
          191.9655172413793,
          166.07441860465116,
          33.161925601750546,
          221.33943427620633,
          109.85470085470085,
          104.13740458015268,
          36.92,
          18.164473684210527,
          233.7598944591029,
          214.1454918032787,
          183.8617886178862,
          227.49396471680595,
          110.63026521060843,
          190.2459499263623,
          157.7068345323741,
          151.33015873015873,
          188.95532194480947,
          167.16269430051813,
          221.07430340557275,
          123.24964936886396,
          23.37272727272727,
          160.23206751054852,
          208.27710843373495,
          178.84778420038535,
          177.23098995695838,
          156.4494680851064,
          228.48355263157896,
          180.76141384388808,
          200.5272161741835,
          56.09021113243762,
          84.4077380952381,
          218.8237145855194,
          172.3240611961057,
          125.78679245283018,
          157.27272727272728,
          192.5149051490515,
          197.90841584158414,
          206.47340425531914,
          68.36909871244636,
          220.71884057971013,
          111.1685393258427,
          169.22282608695653,
          41.69020501138952,
          237.2969348659004,
          126.18962075848303,
          203.36283185840708,
          216.66767371601208,
          211.24236037934668,
          173.82805429864254,
          201.085020242915,
          219.50964467005076,
          158.78504672897196,
          102.9929411764706,
          107.35862068965517,
          158.12391930835736,
          74.7043795620438,
          181.19102749638205,
          170.70045045045046,
          181.02335766423357,
          162.44526901669758,
          195.04845222072677,
          21.6158357771261,
          169.78375,
          38.17142857142857,
          101.91594827586206,
          148.6208609271523,
          166.68271334792124,
          246.2154811715481,
          160.02758620689656,
          153.3791469194313,
          178.50815450643776,
          167.36444444444444,
          15.785714285714286,
          105.8365553602812,
          17.357758620689655,
          103.01508620689656,
          199.6174142480211,
          226.8092613009923,
          240.77040358744395,
          90.59411764705882,
          189.70335339638865,
          211.3251879699248,
          214.03166666666667,
          171.19680196801968,
          96.7724039829303,
          160.38630806845967,
          175.60827250608273,
          188.63492063492063,
          205.9811320754717,
          112.90338770388959,
          225.85141903171953,
          234.48762736535662,
          168.50704225352112,
          169.89081455805893,
          196.23046875,
          105.88086642599278,
          172.60599571734474,
          174.428,
          148.40298507462686,
          168.49658314350796,
          90.03201024327785,
          28.721649484536083,
          191.2308868501529,
          181.89110225763613,
          241.0997679814385,
          146.69190140845072,
          79.29533678756476,
          157.61194029850745,
          12.751543209876543,
          141.04942339373972,
          182.5150684931507,
          221.17092337917487,
          223.74918566775244,
          21.67462686567164,
          198.19294377067254,
          106.32131147540984,
          131.97005208333334,
          212.47459584295612,
          152.69565217391303,
          13.7682119205298,
          145.08818342151676,
          231.3496076721883,
          174.66438356164383,
          97.28535353535354,
          234.03919491525423,
          185.88717948717948,
          174.24433249370276,
          218.72157564906,
          176.289972899729,
          17.852941176470587,
          152.91610284167794,
          3.947058823529412,
          21.06761565836299,
          192.18677042801556,
          109.80125,
          165.05929919137466,
          95.11904761904762,
          40.95238095238095,
          146.43732193732194,
          189.03799019607843,
          161.59562841530055,
          144.607,
          33.6712962962963,
          174.4077519379845,
          20.097966728280962,
          159.48509174311926,
          229.9341894060995,
          106.88539325842697,
          118.92748091603053,
          129.40353460972017,
          188.0972972972973,
          164.24959216965743,
          18.30560271646859,
          164.58898305084745,
          217.71470160116448,
          60.45955882352941,
          170.15413533834587,
          141.56127080181543,
          134.10900473933648,
          171.38715953307394,
          118.88857142857142,
          179.4132581100141,
          129.25538793103448,
          170.27260273972604,
          177.85031847133757,
          84.30357142857143,
          114.86147186147186,
          59.06570841889117,
          149.72690763052208,
          158.212976022567,
          76.22585227272727,
          181.25510204081633,
          61.860426929392446,
          85.78313253012048,
          81.78333333333333,
          133.67747747747748,
          185.12928348909657,
          218.06315789473683,
          181.5450643776824,
          164.94766619519095,
          30.443649373881932,
          238.8043694141013,
          162.703373015873,
          117.44166666666666,
          168.20860018298262,
          193.4212121212121,
          143.9383116883117,
          108.1602787456446,
          132.12472160356347,
          124.80437756497948,
          157.0765100671141,
          191.0931263858093,
          116.62753623188406,
          164.9215976331361,
          167.28654292343387,
          12.05,
          171.08304093567253,
          137.2183908045977,
          129.23599523241955,
          186.75356874530428,
          140.41367521367522,
          86.19621513944223,
          149.7167487684729,
          11.48031496062992,
          107.30658436213992,
          183.03804347826087,
          163.7591564927858,
          108.36363636363636,
          94.86184210526316,
          176.9818652849741,
          164.52631578947367,
          197.29313725490195,
          140.219794344473,
          184.46479939439817,
          118.56752136752137,
          183.18241042345278,
          203.13001912045888,
          138.27848101265823,
          162.6969696969697,
          173.5800395256917,
          27.405405405405407,
          143.74972191323693,
          157.9375,
          72.20727272727272,
          132.26039387308535,
          181.1729106628242,
          158.0890481064483,
          86.37349397590361,
          120.98095238095237,
          115.48863636363636,
          16.13490959666203,
          20.226666666666667,
          66.6509635974304,
          194.51445086705203,
          127.49347258485639,
          217.13603322949118,
          96.05309734513274,
          109.91703703703703,
          145.70503597122303,
          192.06930693069307,
          127.58565737051792,
          129.13272010512483,
          129.78966789667896,
          151.91317671092952,
          16.81578947368421,
          142.2192393736018,
          109.16077170418006,
          224.6834462729913,
          160.60183299389,
          175.17730496453902,
          161.63355048859935,
          140.9892086330935,
          28.104368932038835,
          154.04716981132074,
          17.175384615384615,
          214.455938697318,
          162.56539235412475,
          179.0998719590269,
          76.26767676767676,
          122.58861578266495,
          136.79550561797754,
          176.3929856115108,
          133.53318335208098,
          166.8237288135593,
          161.22012578616352,
          177.7437275985663,
          132.6077057793345,
          35.16528925619835,
          175.82374429223745,
          182.9980601357905,
          39.892201834862384,
          10.895412844036697,
          25.22012578616352,
          108.1037527593819,
          111.26723095525998,
          221.87730727470142,
          142.97297297297297,
          120.35648994515539,
          164.01546391752578,
          130.67632850241546,
          149.42428198433421,
          155.95086321381143,
          150.11610486891385,
          77.63695652173914,
          146.07456140350877,
          161.30058939096267,
          101.66550522648083,
          141.6272040302267,
          160.069008782936,
          186.9822616407982,
          79.90167364016736,
          175.02247191011236,
          206.23787313432837,
          10.15,
          184.8115606936416,
          205.98233695652175,
          53.561736770691994,
          183.18477043673013,
          96.51414514145141,
          185.3646080760095,
          53.799065420560744,
          127.88382687927107,
          121.37939110070258,
          125.50091743119266,
          130.41884816753927,
          126.31217838765009,
          180.51893095768375,
          153.45590062111802,
          136.66738197424894,
          146.57122093023256,
          224.5412004069176,
          148.90992647058823,
          138.8923573735199,
          145.08386411889597,
          179.04178272980502,
          18.906432748538013,
          194.33052631578948,
          121.85197368421052,
          132.63325740318908,
          162.25729442970822,
          86.94713656387665,
          146.23696682464455,
          183.49745547073792,
          16.528301886792452,
          159.36679536679537,
          113.06016847172081,
          176.63360323886639,
          129.04458598726114,
          109.0790513833992,
          72.86755952380952,
          21.33225806451613,
          191.48347107438016,
          238.09674234945706,
          106.31947743467933,
          193.18199419167473,
          145.2116724738676,
          137.0273631840796,
          153.43277848911652,
          183.3938775510204,
          153.65142857142857,
          161.72426470588235,
          32.1497461928934,
          178.39285714285714,
          157.60709914320685,
          33.77215189873418,
          161.9039190897598,
          234.414979757085,
          163.16699801192843,
          103.73333333333333,
          153.40983606557376,
          15.419354838709678,
          133.66208476517755,
          26.31679389312977,
          237.22030651340995,
          113.54081632653062,
          150.7201309328969,
          147.2513661202186,
          157.8713339640492,
          191.05744680851063,
          203.50498338870432,
          163.63337893296853,
          173.9043250327654,
          204.58585858585857,
          147.35294117647058,
          148.2429718875502,
          188.00196656833825,
          161.6301703163017,
          180.763862332696,
          197.41009463722398,
          38.64678899082569,
          145.39476813317478,
          194.72803347280336,
          62.31057268722467,
          172.86402569593147,
          191.0209923664122,
          219.26416819012798,
          154.51830443159923,
          150.36577868852459,
          132.1825726141079,
          220.2031914893617,
          161.0022988505747,
          56.11278195488722,
          185.75442739079102,
          62.47186147186147,
          199.3876123876124,
          162.56681514476614,
          169.06782334384857,
          115.79735682819383,
          179.70729053318826,
          12.432624113475176,
          61.06086956521739,
          173.79707112970712,
          167.9516129032258,
          12.798403193612774,
          176.92533081285444,
          17.032327586206897,
          230.33267909715408,
          21.143198090692124,
          200.8296812749004,
          163.29859154929576,
          12.298126064735946,
          122.99590723055934,
          143.50542635658914,
          174.55206847360913,
          157.8304761904762,
          82.84742268041236,
          180.02857142857144,
          57.13089005235602,
          148.50688468158347,
          209.95078922934076,
          105.65272496831432,
          217.8073908174692,
          68.125,
          160.5246679316888,
          57.60044150110375,
          186.9488888888889,
          31.835978835978835,
          139.46017699115043,
          141.8910891089109,
          163.8307873090482,
          191.0822102425876,
          177.79460580912863,
          193.71863117870723,
          214.00092421441775,
          121.3248730964467,
          209.76029567053854,
          184.15374331550802,
          175.93314763231197,
          139.0297157622739,
          77.10377358490567,
          8.87027027027027,
          153.42175066312998,
          49.79816513761468,
          187.6899628252788,
          121.55475504322767,
          195.3059405940594,
          237.15811518324608,
          216.06335923490735,
          187.68897149938041,
          174.77845528455285,
          164.01063829787233,
          200.05904404873476,
          41.42857142857143,
          190.164,
          126.88920863309353,
          182.06573957016434,
          63.79392971246006,
          225.5109780439122,
          192.29122055674517,
          155.12077789150462,
          155.6989141164857,
          200.1160645657187,
          172.20933014354068,
          165.14802631578948,
          132.06099815157117,
          181.9655172413793,
          141.23865877712032,
          51.78607594936709,
          185.5736568457539,
          208.4472190692395,
          209.1547619047619,
          210.648675171737,
          206.27788649706457,
          203.18453608247424,
          200.62579281183932,
          76.3104761904762,
          12.762605042016807,
          233.81864235055724,
          180.79234972677597,
          59.07843137254902,
          178.57375145180023,
          180.1672760511883,
          189.96966527196653,
          122.73573573573573,
          199.58912386706947,
          209.63721804511277,
          118.10564225690275,
          186.05743243243242,
          184.09365853658537,
          191.37075928917608,
          213.19470699432893,
          161.40609137055839,
          158.4115107913669,
          235.56289978678038,
          204.51992409867174,
          204.6,
          203.4419512195122,
          195.57534246575344,
          196.4340425531915,
          120.9736147757256,
          187.5617597292724,
          11.4512987012987,
          223.6612284069098,
          181.22033898305085,
          189.38478500551267,
          36.331868131868134,
          215.95195195195194,
          233.4001976284585,
          51.77739726027397,
          198.42233009708738,
          199.3187560738581,
          13.4,
          193.50418994413408,
          124.79227053140097,
          175.3662100456621,
          213.3669609079445,
          224.19236417033773,
          219.96691568836712,
          223.5091891891892,
          25.435393258426966,
          80.55828220858896,
          185.06796116504853,
          219.54989384288749,
          174.0878477306003,
          21.364425162689805,
          223.9042253521127,
          49.36867862969005,
          167.21985815602838,
          48.25229357798165,
          43.95294117647059,
          187.46536796536796,
          197.88888888888889,
          215.7474437627812,
          12.505,
          42.80825958702065,
          156.2403846153846,
          180.008356545961,
          230.31353135313532,
          228.44455544455545,
          116.20125786163523,
          30.53211009174312,
          235.32983193277312,
          40.41694915254237,
          142.7741046831956,
          24.735416666666666
         ],
         "xaxis": "x",
         "yaxis": "y"
        }
       ],
       "layout": {
        "barmode": "relative",
        "legend": {
         "title": {
          "text": "variable"
         },
         "tracegroupgap": 0
        },
        "template": {
         "data": {
          "bar": [
           {
            "error_x": {
             "color": "#2a3f5f"
            },
            "error_y": {
             "color": "#2a3f5f"
            },
            "marker": {
             "line": {
              "color": "#E5ECF6",
              "width": 0.5
             },
             "pattern": {
              "fillmode": "overlay",
              "size": 10,
              "solidity": 0.2
             }
            },
            "type": "bar"
           }
          ],
          "barpolar": [
           {
            "marker": {
             "line": {
              "color": "#E5ECF6",
              "width": 0.5
             },
             "pattern": {
              "fillmode": "overlay",
              "size": 10,
              "solidity": 0.2
             }
            },
            "type": "barpolar"
           }
          ],
          "carpet": [
           {
            "aaxis": {
             "endlinecolor": "#2a3f5f",
             "gridcolor": "white",
             "linecolor": "white",
             "minorgridcolor": "white",
             "startlinecolor": "#2a3f5f"
            },
            "baxis": {
             "endlinecolor": "#2a3f5f",
             "gridcolor": "white",
             "linecolor": "white",
             "minorgridcolor": "white",
             "startlinecolor": "#2a3f5f"
            },
            "type": "carpet"
           }
          ],
          "choropleth": [
           {
            "colorbar": {
             "outlinewidth": 0,
             "ticks": ""
            },
            "type": "choropleth"
           }
          ],
          "contour": [
           {
            "colorbar": {
             "outlinewidth": 0,
             "ticks": ""
            },
            "colorscale": [
             [
              0,
              "#0d0887"
             ],
             [
              0.1111111111111111,
              "#46039f"
             ],
             [
              0.2222222222222222,
              "#7201a8"
             ],
             [
              0.3333333333333333,
              "#9c179e"
             ],
             [
              0.4444444444444444,
              "#bd3786"
             ],
             [
              0.5555555555555556,
              "#d8576b"
             ],
             [
              0.6666666666666666,
              "#ed7953"
             ],
             [
              0.7777777777777778,
              "#fb9f3a"
             ],
             [
              0.8888888888888888,
              "#fdca26"
             ],
             [
              1,
              "#f0f921"
             ]
            ],
            "type": "contour"
           }
          ],
          "contourcarpet": [
           {
            "colorbar": {
             "outlinewidth": 0,
             "ticks": ""
            },
            "type": "contourcarpet"
           }
          ],
          "heatmap": [
           {
            "colorbar": {
             "outlinewidth": 0,
             "ticks": ""
            },
            "colorscale": [
             [
              0,
              "#0d0887"
             ],
             [
              0.1111111111111111,
              "#46039f"
             ],
             [
              0.2222222222222222,
              "#7201a8"
             ],
             [
              0.3333333333333333,
              "#9c179e"
             ],
             [
              0.4444444444444444,
              "#bd3786"
             ],
             [
              0.5555555555555556,
              "#d8576b"
             ],
             [
              0.6666666666666666,
              "#ed7953"
             ],
             [
              0.7777777777777778,
              "#fb9f3a"
             ],
             [
              0.8888888888888888,
              "#fdca26"
             ],
             [
              1,
              "#f0f921"
             ]
            ],
            "type": "heatmap"
           }
          ],
          "heatmapgl": [
           {
            "colorbar": {
             "outlinewidth": 0,
             "ticks": ""
            },
            "colorscale": [
             [
              0,
              "#0d0887"
             ],
             [
              0.1111111111111111,
              "#46039f"
             ],
             [
              0.2222222222222222,
              "#7201a8"
             ],
             [
              0.3333333333333333,
              "#9c179e"
             ],
             [
              0.4444444444444444,
              "#bd3786"
             ],
             [
              0.5555555555555556,
              "#d8576b"
             ],
             [
              0.6666666666666666,
              "#ed7953"
             ],
             [
              0.7777777777777778,
              "#fb9f3a"
             ],
             [
              0.8888888888888888,
              "#fdca26"
             ],
             [
              1,
              "#f0f921"
             ]
            ],
            "type": "heatmapgl"
           }
          ],
          "histogram": [
           {
            "marker": {
             "pattern": {
              "fillmode": "overlay",
              "size": 10,
              "solidity": 0.2
             }
            },
            "type": "histogram"
           }
          ],
          "histogram2d": [
           {
            "colorbar": {
             "outlinewidth": 0,
             "ticks": ""
            },
            "colorscale": [
             [
              0,
              "#0d0887"
             ],
             [
              0.1111111111111111,
              "#46039f"
             ],
             [
              0.2222222222222222,
              "#7201a8"
             ],
             [
              0.3333333333333333,
              "#9c179e"
             ],
             [
              0.4444444444444444,
              "#bd3786"
             ],
             [
              0.5555555555555556,
              "#d8576b"
             ],
             [
              0.6666666666666666,
              "#ed7953"
             ],
             [
              0.7777777777777778,
              "#fb9f3a"
             ],
             [
              0.8888888888888888,
              "#fdca26"
             ],
             [
              1,
              "#f0f921"
             ]
            ],
            "type": "histogram2d"
           }
          ],
          "histogram2dcontour": [
           {
            "colorbar": {
             "outlinewidth": 0,
             "ticks": ""
            },
            "colorscale": [
             [
              0,
              "#0d0887"
             ],
             [
              0.1111111111111111,
              "#46039f"
             ],
             [
              0.2222222222222222,
              "#7201a8"
             ],
             [
              0.3333333333333333,
              "#9c179e"
             ],
             [
              0.4444444444444444,
              "#bd3786"
             ],
             [
              0.5555555555555556,
              "#d8576b"
             ],
             [
              0.6666666666666666,
              "#ed7953"
             ],
             [
              0.7777777777777778,
              "#fb9f3a"
             ],
             [
              0.8888888888888888,
              "#fdca26"
             ],
             [
              1,
              "#f0f921"
             ]
            ],
            "type": "histogram2dcontour"
           }
          ],
          "mesh3d": [
           {
            "colorbar": {
             "outlinewidth": 0,
             "ticks": ""
            },
            "type": "mesh3d"
           }
          ],
          "parcoords": [
           {
            "line": {
             "colorbar": {
              "outlinewidth": 0,
              "ticks": ""
             }
            },
            "type": "parcoords"
           }
          ],
          "pie": [
           {
            "automargin": true,
            "type": "pie"
           }
          ],
          "scatter": [
           {
            "fillpattern": {
             "fillmode": "overlay",
             "size": 10,
             "solidity": 0.2
            },
            "type": "scatter"
           }
          ],
          "scatter3d": [
           {
            "line": {
             "colorbar": {
              "outlinewidth": 0,
              "ticks": ""
             }
            },
            "marker": {
             "colorbar": {
              "outlinewidth": 0,
              "ticks": ""
             }
            },
            "type": "scatter3d"
           }
          ],
          "scattercarpet": [
           {
            "marker": {
             "colorbar": {
              "outlinewidth": 0,
              "ticks": ""
             }
            },
            "type": "scattercarpet"
           }
          ],
          "scattergeo": [
           {
            "marker": {
             "colorbar": {
              "outlinewidth": 0,
              "ticks": ""
             }
            },
            "type": "scattergeo"
           }
          ],
          "scattergl": [
           {
            "marker": {
             "colorbar": {
              "outlinewidth": 0,
              "ticks": ""
             }
            },
            "type": "scattergl"
           }
          ],
          "scattermapbox": [
           {
            "marker": {
             "colorbar": {
              "outlinewidth": 0,
              "ticks": ""
             }
            },
            "type": "scattermapbox"
           }
          ],
          "scatterpolar": [
           {
            "marker": {
             "colorbar": {
              "outlinewidth": 0,
              "ticks": ""
             }
            },
            "type": "scatterpolar"
           }
          ],
          "scatterpolargl": [
           {
            "marker": {
             "colorbar": {
              "outlinewidth": 0,
              "ticks": ""
             }
            },
            "type": "scatterpolargl"
           }
          ],
          "scatterternary": [
           {
            "marker": {
             "colorbar": {
              "outlinewidth": 0,
              "ticks": ""
             }
            },
            "type": "scatterternary"
           }
          ],
          "surface": [
           {
            "colorbar": {
             "outlinewidth": 0,
             "ticks": ""
            },
            "colorscale": [
             [
              0,
              "#0d0887"
             ],
             [
              0.1111111111111111,
              "#46039f"
             ],
             [
              0.2222222222222222,
              "#7201a8"
             ],
             [
              0.3333333333333333,
              "#9c179e"
             ],
             [
              0.4444444444444444,
              "#bd3786"
             ],
             [
              0.5555555555555556,
              "#d8576b"
             ],
             [
              0.6666666666666666,
              "#ed7953"
             ],
             [
              0.7777777777777778,
              "#fb9f3a"
             ],
             [
              0.8888888888888888,
              "#fdca26"
             ],
             [
              1,
              "#f0f921"
             ]
            ],
            "type": "surface"
           }
          ],
          "table": [
           {
            "cells": {
             "fill": {
              "color": "#EBF0F8"
             },
             "line": {
              "color": "white"
             }
            },
            "header": {
             "fill": {
              "color": "#C8D4E3"
             },
             "line": {
              "color": "white"
             }
            },
            "type": "table"
           }
          ]
         },
         "layout": {
          "annotationdefaults": {
           "arrowcolor": "#2a3f5f",
           "arrowhead": 0,
           "arrowwidth": 1
          },
          "autotypenumbers": "strict",
          "coloraxis": {
           "colorbar": {
            "outlinewidth": 0,
            "ticks": ""
           }
          },
          "colorscale": {
           "diverging": [
            [
             0,
             "#8e0152"
            ],
            [
             0.1,
             "#c51b7d"
            ],
            [
             0.2,
             "#de77ae"
            ],
            [
             0.3,
             "#f1b6da"
            ],
            [
             0.4,
             "#fde0ef"
            ],
            [
             0.5,
             "#f7f7f7"
            ],
            [
             0.6,
             "#e6f5d0"
            ],
            [
             0.7,
             "#b8e186"
            ],
            [
             0.8,
             "#7fbc41"
            ],
            [
             0.9,
             "#4d9221"
            ],
            [
             1,
             "#276419"
            ]
           ],
           "sequential": [
            [
             0,
             "#0d0887"
            ],
            [
             0.1111111111111111,
             "#46039f"
            ],
            [
             0.2222222222222222,
             "#7201a8"
            ],
            [
             0.3333333333333333,
             "#9c179e"
            ],
            [
             0.4444444444444444,
             "#bd3786"
            ],
            [
             0.5555555555555556,
             "#d8576b"
            ],
            [
             0.6666666666666666,
             "#ed7953"
            ],
            [
             0.7777777777777778,
             "#fb9f3a"
            ],
            [
             0.8888888888888888,
             "#fdca26"
            ],
            [
             1,
             "#f0f921"
            ]
           ],
           "sequentialminus": [
            [
             0,
             "#0d0887"
            ],
            [
             0.1111111111111111,
             "#46039f"
            ],
            [
             0.2222222222222222,
             "#7201a8"
            ],
            [
             0.3333333333333333,
             "#9c179e"
            ],
            [
             0.4444444444444444,
             "#bd3786"
            ],
            [
             0.5555555555555556,
             "#d8576b"
            ],
            [
             0.6666666666666666,
             "#ed7953"
            ],
            [
             0.7777777777777778,
             "#fb9f3a"
            ],
            [
             0.8888888888888888,
             "#fdca26"
            ],
            [
             1,
             "#f0f921"
            ]
           ]
          },
          "colorway": [
           "#636efa",
           "#EF553B",
           "#00cc96",
           "#ab63fa",
           "#FFA15A",
           "#19d3f3",
           "#FF6692",
           "#B6E880",
           "#FF97FF",
           "#FECB52"
          ],
          "font": {
           "color": "#2a3f5f"
          },
          "geo": {
           "bgcolor": "white",
           "lakecolor": "white",
           "landcolor": "#E5ECF6",
           "showlakes": true,
           "showland": true,
           "subunitcolor": "white"
          },
          "hoverlabel": {
           "align": "left"
          },
          "hovermode": "closest",
          "mapbox": {
           "style": "light"
          },
          "paper_bgcolor": "white",
          "plot_bgcolor": "#E5ECF6",
          "polar": {
           "angularaxis": {
            "gridcolor": "white",
            "linecolor": "white",
            "ticks": ""
           },
           "bgcolor": "#E5ECF6",
           "radialaxis": {
            "gridcolor": "white",
            "linecolor": "white",
            "ticks": ""
           }
          },
          "scene": {
           "xaxis": {
            "backgroundcolor": "#E5ECF6",
            "gridcolor": "white",
            "gridwidth": 2,
            "linecolor": "white",
            "showbackground": true,
            "ticks": "",
            "zerolinecolor": "white"
           },
           "yaxis": {
            "backgroundcolor": "#E5ECF6",
            "gridcolor": "white",
            "gridwidth": 2,
            "linecolor": "white",
            "showbackground": true,
            "ticks": "",
            "zerolinecolor": "white"
           },
           "zaxis": {
            "backgroundcolor": "#E5ECF6",
            "gridcolor": "white",
            "gridwidth": 2,
            "linecolor": "white",
            "showbackground": true,
            "ticks": "",
            "zerolinecolor": "white"
           }
          },
          "shapedefaults": {
           "line": {
            "color": "#2a3f5f"
           }
          },
          "ternary": {
           "aaxis": {
            "gridcolor": "white",
            "linecolor": "white",
            "ticks": ""
           },
           "baxis": {
            "gridcolor": "white",
            "linecolor": "white",
            "ticks": ""
           },
           "bgcolor": "#E5ECF6",
           "caxis": {
            "gridcolor": "white",
            "linecolor": "white",
            "ticks": ""
           }
          },
          "title": {
           "x": 0.05
          },
          "xaxis": {
           "automargin": true,
           "gridcolor": "white",
           "linecolor": "white",
           "ticks": "",
           "title": {
            "standoff": 15
           },
           "zerolinecolor": "white",
           "zerolinewidth": 2
          },
          "yaxis": {
           "automargin": true,
           "gridcolor": "white",
           "linecolor": "white",
           "ticks": "",
           "title": {
            "standoff": 15
           },
           "zerolinecolor": "white",
           "zerolinewidth": 2
          }
         }
        },
        "title": {
         "text": "nucleus_neun_avg_int_in_CA"
        },
        "xaxis": {
         "anchor": "y",
         "domain": [
          0,
          1
         ],
         "range": [
          0,
          255
         ],
         "title": {
          "text": "nucleus_neun_avg_int"
         }
        },
        "yaxis": {
         "anchor": "x",
         "domain": [
          0,
          1
         ],
         "title": {
          "text": "count"
         }
        }
       }
      }
     },
     "metadata": {},
     "output_type": "display_data"
    },
    {
     "data": {
      "application/vnd.plotly.v1+json": {
       "config": {
        "plotlyServerURL": "https://plot.ly"
       },
       "data": [
        {
         "alignmentgroup": "True",
         "bingroup": "x",
         "hovertemplate": "variable=nucleus_neun_avg_int<br>nucleus_neun_avg_int=%{x}<br>count=%{y}<extra></extra>",
         "legendgroup": "nucleus_neun_avg_int",
         "marker": {
          "color": "#636efa",
          "pattern": {
           "shape": ""
          }
         },
         "name": "nucleus_neun_avg_int",
         "nbinsx": 256,
         "offsetgroup": "nucleus_neun_avg_int",
         "orientation": "v",
         "showlegend": true,
         "type": "histogram",
         "x": [
          32.629737609329446,
          71.6007326007326,
          115.68209255533199,
          180.15279878971256,
          62.641379310344824,
          213.5438282647585,
          115.88850174216027,
          185.0128676470588,
          202.80350194552528,
          44.75182481751825,
          171.5560821484992,
          119.98933333333333,
          174.1801242236025,
          24.789473684210527,
          48.61538461538461,
          165.35886214442013,
          199.9664536741214,
          124.98477157360406,
          200.46634615384616,
          127.66594360086768,
          159.67924528301887,
          190.71070234113714,
          58.098765432098766,
          23.257246376811594,
          135.98617511520737,
          82.04296875,
          81.83211678832117,
          77.5086887835703,
          86.22575250836121,
          200.79251170046803,
          57.61038961038961,
          170.66183574879227,
          98.51239669421487,
          33.99764705882353,
          135.63296703296703,
          120.22528735632184,
          186.47340425531914,
          88.13461538461539,
          67.48051948051948,
          36.33771929824562,
          101.85365853658537,
          72.36363636363636,
          166.12383177570092,
          89.27237354085604,
          107.00682593856655,
          94.87724550898204,
          65.13662790697674,
          51.48379052369077,
          185.1872586872587,
          220.56901408450705,
          16.085798816568047,
          25.548780487804876,
          53.82010582010582,
          38.23148148148148,
          159.64285714285714,
          90.19809069212411,
          28.13664596273292,
          73.68923076923078,
          127.70469798657719,
          120.90189873417721,
          219.0926517571885,
          86.81147540983606,
          73.30952380952381,
          74.37010676156584,
          43.05508474576271,
          186.66167023554604,
          198.4278606965174,
          137.88709677419354,
          201.28942486085344,
          211.3595890410959,
          70.86055776892431,
          88.08875739644971,
          67.12962962962963,
          58.519274376417236,
          21.704301075268816,
          73.70588235294117,
          63.879629629629626,
          99.87564766839378,
          38.739583333333336,
          193.9475218658892,
          86.64625850340136,
          93.04604051565377,
          65.77534246575343,
          210.81449893390192,
          67.91218130311614,
          86.2678936605317,
          84.79518072289157,
          183.62264150943398,
          66.01412429378531,
          8.22279792746114,
          198.07156308851225,
          102.94736842105263,
          78.17369727047146,
          50.71544715447155,
          62.17486338797814,
          101.32478632478633,
          77.06113537117903,
          105.34345794392523,
          54.69613259668508,
          95.17663817663818,
          198.3046875,
          72.05454545454545,
          76.30177514792899,
          44.54320987654321,
          74.19950124688279,
          101.21453287197232,
          53.107142857142854,
          100.9009900990099,
          51.925925925925924,
          135.85593220338984,
          104.12286689419795,
          14.463576158940397,
          58.015306122448976,
          93.86803519061584,
          107.18627450980392,
          101.64923076923077,
          100.59578544061303,
          152.09134615384616,
          35.51677852348993,
          117.52051835853132,
          70.9758064516129,
          82.94369973190348,
          157.22448979591837,
          66.93506493506493,
          101.6989247311828,
          11.253378378378379,
          70.40586797066015,
          95.21167883211679,
          79.46770025839793,
          95.24812030075188,
          73.44866920152091,
          185.8405017921147,
          89.66666666666667,
          51.226950354609926,
          113.83109919571045,
          181.5379403794038,
          37.583969465648856,
          118.48137535816619,
          128.6457960644007,
          20.136111111111113,
          76.10426540284361,
          67.65289256198348,
          96.10606060606061,
          36.17204301075269,
          74.34736842105264,
          58.63131313131313,
          17.97029702970297,
          85.55608591885442,
          203.68778979907265,
          100.20529801324503,
          42.86666666666667,
          87.31111111111112,
          89.67073170731707,
          58.304054054054056,
          68.05277044854881,
          64.6822033898305,
          14.869565217391305,
          80.9969040247678,
          99.75150300601203,
          86.46864686468646,
          103.9601593625498,
          145.1039260969977,
          52.629629629629626,
          86.82870370370371,
          197.35555555555555,
          83,
          75.47249190938511,
          81.16666666666667,
          11.752136752136753,
          195.42283950617283,
          33.62334217506631,
          9.726775956284152,
          65.280205655527,
          67.34018264840182,
          20.376146788990827,
          41.658203125,
          91.80645161290323,
          84.51675977653632,
          107.84709480122324,
          141.6173469387755,
          167.3038961038961,
          147.20437956204378,
          66.13793103448276,
          95.88888888888889,
          58.66323024054983,
          63.2648401826484,
          170.59268292682927,
          65.12558139534883,
          77.67307692307692,
          86.26440677966102,
          155.175,
          183.16890080428954,
          75.68075117370893,
          70.71764705882353,
          71.26573426573427,
          110.35102040816327,
          56.34630350194553,
          11.55688622754491,
          69.9010989010989,
          112.71757925072046,
          186.63597122302158,
          55.93357933579336,
          67.1283422459893,
          64.52941176470588,
          133.42583732057417,
          99.55762081784387,
          194.7639344262295,
          135.4378698224852,
          67.8188679245283,
          34.656716417910445,
          82.74594594594595,
          101.10407239819004,
          112.65044247787611,
          51.93032786885246,
          59.08080808080808,
          140.93654822335026,
          198.0189982728843,
          70.24853801169591,
          100.79139784946237,
          69.82936507936508,
          11.992042440318302,
          73.14901960784314,
          84.1042944785276,
          39.184615384615384,
          105.83777239709443,
          14.068181818181818,
          90.41414141414141,
          86.2445652173913,
          218.02366863905326,
          56.64367816091954,
          71.28720626631853,
          107.41666666666667,
          80.47969543147208,
          91.62179487179488,
          103.93200663349917,
          156.4,
          81.6086956521739,
          18.835978835978835,
          80.6951219512195,
          190.45454545454547,
          86.06698564593302,
          104.01269035532995,
          125.78223495702005,
          85.44554455445545,
          121.06267806267806,
          87.94779116465864,
          163.47993579454254,
          42.564,
          104.53266331658291,
          84.0204081632653,
          106.48214285714286,
          98.54697986577182,
          65.60119047619048,
          92.21232876712328,
          53.78627968337731,
          112.74827586206897,
          172.1768292682927,
          128.12614678899084,
          86.51775147928994,
          14.84870848708487,
          77.81456953642385,
          58.801587301587304,
          89.70610687022901,
          69.20805369127517,
          177.43838028169014,
          92.56765676567657,
          33.83756345177665,
          65.07394366197182,
          181.77562862669245,
          41.71686746987952,
          77.08461538461539,
          58.421052631578945,
          73.10543130990415,
          31.61137440758294,
          160.16880733944953,
          42.765822784810126,
          15.80379746835443,
          91.03512880562062,
          181.1168582375479,
          100.3913043478261,
          146.99279279279278,
          152.1578947368421,
          149.80776340110907,
          60.23045267489712,
          48.031088082901555,
          79.71320754716982,
          235.6450980392157,
          10.781818181818181,
          82.93181818181819,
          59.515037593984964,
          85.63455149501661,
          13.958847736625515,
          132.64021164021165,
          196.77114427860695,
          92.44444444444444,
          142.80047505938242,
          86.41967213114754,
          55.333333333333336,
          13.449197860962567,
          66.41157556270096,
          60.858870967741936,
          111.34130434782608,
          118.48897795591182,
          149.55108359133126,
          52.486146095717885,
          116.98924731182795,
          97.45398773006134,
          78.11458333333333,
          46.035714285714285,
          228.94736842105263,
          73.06827309236948,
          30.012422360248447,
          101.00537634408602,
          83.8995983935743,
          9.366666666666667,
          182.96996466431096,
          7.316614420062696,
          86.67539267015707,
          62.957317073170735,
          125.84862385321101,
          8.433121019108281,
          87.34166666666667,
          117.96900826446281,
          67.17647058823529,
          9.437037037037037,
          84.08333333333333,
          58.30612244897959,
          67.58659217877096,
          66.27924528301887,
          113.17694369973191,
          73.94570135746606,
          90.43939393939394,
          157.95419847328245,
          141.459375,
          80.04620462046205,
          30.08219178082192,
          13.10704960835509,
          76.3731778425656,
          82.34516129032258,
          110.79510022271715,
          151.3795379537954,
          132.02482269503545,
          77.13941018766756,
          94.38538205980066,
          17.955696202531644,
          56.62190812720848,
          100.90756302521008,
          86.94672131147541,
          82.26294820717132,
          80.39779005524862,
          44.74718196457327,
          93.32472324723247,
          211.11524163568774,
          143.8447204968944,
          103.5814696485623,
          94.7945945945946,
          75.18181818181819,
          117.23102310231023,
          44.18115942028985,
          78.71280276816609,
          115.01408450704226,
          71.59349593495935,
          167.3939962476548,
          77.81553398058253,
          191.68370607028754,
          20.00578034682081,
          65.33088235294117,
          86.94961240310077,
          82.3051282051282,
          64.58173076923077,
          75.81907894736842,
          99.9620253164557,
          111.35714285714286,
          44.333333333333336,
          88.35684647302905,
          82.01086956521739,
          62.96923076923077,
          71.87046632124353,
          59.678899082568805,
          199.08726752503577,
          120.9322033898305,
          187.28273244781784,
          97.6590909090909,
          76.26143790849673,
          119.53111111111112,
          72.70294117647059,
          177.47425474254743,
          55.386740331491715,
          66.7620578778135,
          165.1080459770115,
          117.13054187192118,
          72.90661478599222,
          72.76348547717842,
          97.10852713178295,
          84.59593023255815,
          9.96694214876033,
          99.70680628272251,
          159.2058823529412,
          61.7421875,
          69.59604519774011,
          55.5,
          50.59183673469388,
          38.386861313868614,
          185.4055666003976,
          138.91540130151844,
          91.19915254237289,
          91.42204301075269,
          125.80555555555556,
          133.31463414634146,
          37.46666666666667,
          89.25233644859813,
          68.28688524590164,
          74.01808785529715,
          78.72377622377623,
          102.5807962529274,
          194.39880952380952,
          93.73482428115015,
          74.0421052631579,
          9.41025641025641,
          45.91044776119403,
          95.24496644295301,
          95.57613168724279,
          166.91304347826087,
          137.38240574506284,
          69.8327868852459,
          82.39299610894942,
          82.9063829787234,
          99.79472140762464,
          13.917098445595855,
          139.20426287744226,
          65.7860696517413,
          128.23674911660777,
          104.02682926829269,
          90.02721088435374,
          144.31159420289856,
          61.389830508474574,
          77.39301310043668,
          97.4080459770115,
          50.90909090909091,
          82.85882352941177,
          16.099397590361445,
          146.34841628959276,
          18.107843137254903,
          61.653164556962025,
          173.98997493734336,
          54.49,
          11.622222222222222,
          16.023529411764706,
          200.60555555555555,
          68.65296803652969,
          105.69059405940594,
          57.204,
          86.77,
          81.0374149659864,
          148.36247723132968,
          74.76628352490421,
          194.7680412371134,
          85.9274193548387,
          122.14953271028037,
          16.37028824833703,
          40.33974358974359,
          68.98139534883721,
          176.40941176470588,
          15.581521739130435,
          172.53882352941176,
          36.17040358744394,
          40.201219512195124,
          64.5515873015873,
          86.21140142517815,
          25.864,
          121.99761904761905,
          74.9076923076923,
          56.958333333333336,
          42.92913385826772,
          28.584541062801932,
          87.97291666666666,
          93.7516339869281,
          88.42611683848797,
          170.62472406181016,
          31.51969696969697,
          54.2579185520362,
          72.87349397590361,
          99.63373860182371,
          13.220820189274448,
          136.324200913242,
          146.56737588652481,
          70.06914893617021,
          90.0479302832244,
          40.54950495049505,
          92.30263157894737,
          12.655737704918034,
          97.92307692307692,
          169.5151515151515,
          64.05490196078432,
          8.326271186440678,
          82.8450184501845,
          207.85491071428572,
          173.0881863560732,
          43.70646766169154,
          83.13009404388714,
          12.933014354066986,
          21.25,
          77.94186046511628,
          74.97692307692307,
          61.39393939393939,
          92.23791821561338,
          10.063829787234043,
          70.06967213114754,
          73.15637860082305,
          84.91891891891892,
          76.17231638418079,
          68.29142857142857,
          114.56438356164384,
          75.39853300733496,
          71.7975,
          85.69035532994924,
          181.73095238095237,
          186.09369024856596,
          44.5,
          109.53465346534654,
          104.57627118644068,
          29.727891156462587,
          102.88516746411483,
          202.95736434108528,
          77.89204545454545,
          61.59574468085106,
          51.54347826086956,
          17.402097902097903,
          82.95833333333333,
          107.65327695560254,
          116.77828054298642,
          84.18840579710145,
          178.76451612903224,
          10.263157894736842,
          161.64897959183673,
          120.83010752688172,
          87,
          74.89634146341463,
          97.7358024691358,
          12.375,
          59.928994082840234,
          49.89090909090909,
          98.72262773722628,
          22.82278481012658,
          111.79838709677419,
          61.858024691358025,
          36.35494880546075,
          48.71272727272727,
          155.65764023210832,
          84.59284116331096,
          136.324200913242,
          75.65011820330969,
          88.86968085106383,
          162.50187969924812,
          69.70680628272251,
          39.04,
          75.53846153846153,
          48.62264150943396,
          31.014598540145986,
          91.11111111111111,
          19.61764705882353,
          10.064885496183207,
          12.07027027027027,
          51.844919786096256,
          86.4957264957265,
          117.67105263157895,
          61.99382716049383,
          68.43636363636364,
          86.394578313253,
          25.90960451977401,
          162.84902840059792,
          68.00970873786407,
          115.0973282442748,
          46.6375,
          131.6518771331058,
          86.35802469135803,
          24.29051987767584,
          89.71171171171171,
          80.00977198697069,
          70.58219178082192,
          136.76897689768978,
          76.1280276816609,
          85.04,
          17.14344262295082,
          140.50483558994196,
          63.61666666666667,
          28.363309352517987,
          17.609756097560975,
          48.2887323943662,
          47.06583072100314,
          96.1774193548387,
          89.49027237354086,
          92.93111638954869,
          12.355311355311356,
          24.23175965665236,
          66.73305954825462,
          136.83783783783784,
          57.1228813559322,
          53.85294117647059,
          134.30246913580248,
          43.29957805907173,
          133.98932384341637,
          27.653679653679653,
          80.86255924170617,
          91.16818181818182,
          62.73588709677419,
          51.650485436893206,
          13.434931506849315,
          9.549504950495049,
          68.27215189873418,
          48.956989247311824,
          103.63939393939394,
          118.65865384615384,
          74.575,
          94.10843373493977,
          70.70918367346938,
          183.50313152400835,
          60.08185840707964,
          188.6370481927711,
          145.09278350515464,
          177.08687258687257,
          10.175953079178885,
          63.01276595744681,
          65.69396551724138,
          21.07591623036649,
          53.43684210526316,
          55.33210332103321,
          52.814207650273225,
          79.76036866359448,
          147.74468085106383,
          59.4655737704918,
          96.5863309352518,
          78.30625,
          74.44160583941606,
          141.03327495621716,
          88.70188679245283,
          103.2028397565923,
          84.41666666666667,
          63.352,
          109.91279069767442,
          27.260775862068964,
          86.16438356164383,
          88.60606060606061,
          13.610619469026549,
          15.02826855123675,
          51.68876080691643,
          56.88253012048193,
          67.57142857142857,
          66.22160664819944,
          54.57657657657658,
          23.921965317919074,
          74.02614379084967,
          80.41189931350114,
          85.884,
          61.21694915254237,
          144.0956340956341,
          113.28571428571429,
          207.29664179104478,
          123.09655172413792,
          83.80400890868597,
          57.986970684039086,
          20.634408602150536,
          51.95454545454545,
          78.32770270270271,
          91.4403409090909,
          63.59219088937093,
          180.16517857142858,
          59.614754098360656,
          74.07954545454545,
          62.35816618911175,
          11.061919504643964,
          121.51014492753623,
          45.77506775067751,
          94.97058823529412,
          137.71681415929203,
          73.23501199040767,
          65.29372937293729,
          104.5672131147541,
          107.61206896551724,
          111.0890868596882,
          115.94331983805668,
          161.736328125,
          72.30970149253731,
          39.116129032258065,
          179.3638497652582,
          37.98780487804878,
          92.03828828828829,
          97.84285714285714,
          83.80058651026393,
          109.01129943502825,
          20.209302325581394,
          64.8006329113924,
          90.87468030690538,
          57.26791277258567,
          63.273972602739725,
          71.88888888888889,
          104.34545454545454,
          14.891472868217054,
          51.92340425531915,
          71.60206718346254,
          147.87012987012986,
          98.76,
          61.90877192982456,
          13.202380952380953,
          105.34313725490196,
          117.90038314176245,
          145.56050955414014,
          152.16285714285715,
          91.76878612716763,
          95.69616519174042,
          102.72598870056497,
          89.64444444444445,
          98.40322580645162,
          34.24918032786885,
          76.3887323943662,
          78.75914634146342,
          171.22056384742953,
          168.86607142857142,
          83.16140350877193,
          89.11019283746556,
          98.93661971830986,
          83.98022598870057,
          71.4006734006734,
          87.3804347826087,
          172.8177874186551,
          100.69941060903733,
          61.29065743944636,
          59.84923076923077,
          60.93292682926829,
          98.88839285714286,
          14.115789473684211,
          77.38461538461539,
          167.84615384615384,
          43.285714285714285,
          123.17124735729386,
          79.29503916449086,
          108.38418079096046,
          67.37051792828686,
          100.81338028169014,
          154.87317073170732,
          159.07389162561577,
          18.0625,
          42.91219512195122,
          151.94164989939637,
          48.878787878787875,
          107.72154471544715,
          113.69776119402985,
          185.64795918367346,
          73.34191176470588,
          21.611344537815125,
          68.81871345029239,
          108.41709844559585,
          171.99067599067598,
          67.05535055350553,
          22.09765625,
          124.50602409638554,
          96.10204081632654,
          18.107526881720432,
          13.256410256410257,
          102.45077720207254,
          146.7336448598131,
          172.82624768946397,
          82.5825,
          89.70666666666666,
          41.9375,
          79.12292358803987,
          143.47779479326186,
          99.54285714285714,
          100.8086642599278,
          52.202429149797574,
          94.17897727272727,
          98.72282608695652,
          69.7280701754386,
          188.44419134396355,
          36.113432835820895,
          116.99484536082474,
          43.12676056338028,
          103.60227272727273,
          42.65256797583081,
          130.6492027334852,
          105.93121693121694,
          83.73869346733669,
          26.847014925373134,
          103.68681318681318,
          105.79052369077307,
          127.42424242424242,
          179.76871880199667,
          79.48363636363636,
          92.17479674796748,
          81.83125,
          107.91315789473684,
          209.0874635568513,
          103.88829787234043,
          100.81118881118881,
          133.2764857881137,
          64.84300341296928,
          101.76739130434783,
          56.193548387096776,
          29.239410681399633,
          56.172222222222224,
          64.72916666666667,
          156.02312138728323,
          205.81350482315113,
          45.98689956331878,
          172.46259842519686,
          78.025,
          84.496,
          145.73290598290598,
          74.75718849840256,
          23.3579418344519,
          104.12154696132596,
          15.404017857142858,
          218.5,
          136.91435768261965,
          95.990625,
          174.28735632183907,
          88.95876288659794,
          11.22289156626506,
          92.32131147540984,
          187.80492091388402,
          71.37154150197628,
          63.55012853470437,
          98.94202898550725,
          102.84754521963825,
          109.96829268292683,
          9.555555555555555,
          28.690095846645367,
          16.056277056277057,
          82.6829268292683,
          31.867816091954023,
          198.85102040816327,
          69.75255102040816,
          124.51454138702461,
          75.97857142857143,
          150.77289377289378,
          83.4267515923567,
          68.07727272727273,
          84.48924731182795,
          28.5,
          65.01988636363636,
          110.81553398058253,
          74.31225296442688,
          67.64192139737992,
          75.91104294478528,
          88.63984674329502,
          110.62406015037594,
          225.83053691275168,
          61.794721407624635,
          141.21995926680245,
          78.54802259887006,
          155.33985765124555,
          82.84918032786885,
          117.22932330827068,
          120.26896551724138,
          78.26888217522658,
          83.08348457350272,
          130.8436873747495,
          57.77824267782427,
          54.798611111111114,
          82.33064516129032,
          109.52542372881356,
          106.02949061662198,
          51.47849462365591,
          17.850467289719628,
          127.58723404255319,
          118.27731092436974,
          9.56043956043956,
          68.84126984126983,
          84.38181818181818,
          65.31004366812228,
          148.48314606741573,
          129.74093264248705,
          68.78787878787878,
          110.46777163904235,
          122.30402010050251,
          113.4060773480663,
          206.8230088495575,
          75.78589420654912,
          91.5583038869258,
          18.926136363636363,
          166.53386454183266,
          102.91872791519435,
          68.234375,
          158.83632734530937,
          105.35757575757576,
          62.45454545454545,
          45.04074074074074,
          70.1711229946524,
          117.0575,
          121.47510373443983,
          77.03557312252964,
          118.86234817813765,
          71.60670731707317,
          89.2695652173913,
          91.74806201550388,
          103.05956112852665,
          208.05901639344262,
          81.24404761904762,
          82.5748031496063,
          163.42533081285444,
          91.10493827160494,
          134.8846153846154,
          99.10526315789474,
          25.771186440677965,
          103.74248927038627,
          153.9021479713604,
          122.39529914529915,
          100.84858044164038,
          60.35294117647059,
          46.66581632653061,
          91.18181818181819,
          131.22828282828283,
          63.55555555555556,
          87.05737704918033,
          40.74193548387097,
          80.88174807197943,
          165.59797297297297,
          75.67768595041322,
          114.54984894259819,
          55.6437908496732,
          119.41228070175438,
          65.44600938967136,
          168.68571428571428,
          49.371980676328505,
          191.19329388560158,
          90.95498392282958,
          130.32286995515696,
          84.80669144981412,
          137.97628458498025,
          80.94615384615385,
          83.51121076233184,
          192.1139705882353,
          221.05113636363637,
          33.51315789473684,
          21.093167701863354,
          149.53825136612022,
          75.02047781569966,
          140.179012345679,
          10.883495145631068,
          90.04782608695652,
          62.671388101983005,
          88.84982935153583,
          66.10975609756098,
          93.2655737704918,
          11.915492957746478,
          90.30249110320284,
          99.00927643784787,
          107.41078838174273,
          224.2687074829932,
          203.38662316476345,
          100.84615384615384,
          72.11641791044777,
          17.422794117647058,
          47.09649122807018,
          70.57594936708861,
          157.50367647058823,
          26.163498098859314,
          92.68181818181819,
          114.85526315789474,
          82.53115727002967,
          20.588541666666668,
          55.54545454545455,
          120.56488549618321,
          70.56410256410257,
          35.59111111111111,
          108.66052631578947,
          18.074766355140188,
          66.84713375796179,
          27.21,
          23.76619718309859,
          182.0930735930736,
          118.23611111111111,
          210.0936329588015,
          75.91218130311614,
          63.677142857142854,
          115.86350974930362,
          80.36269430051813,
          58.41304347826087,
          51.495268138801265,
          44.8134328358209,
          72,
          85.41787439613526,
          17.675,
          138.21774193548387,
          68.66006600660066,
          133.61990950226243,
          61.70984455958549,
          91.42733188720173,
          90.65135135135135,
          81.39057239057239,
          99.79230769230769,
          123.38288288288288,
          93.20901639344262,
          89.86626139817629,
          150.2610687022901,
          105.14153846153846,
          140.58401305057097,
          118.88461538461539,
          57.04968944099379,
          33.79874213836478,
          95.88095238095238,
          71.14166666666667,
          116.28301886792453,
          26.254032258064516,
          65.69465648854961,
          72.75829383886256,
          193.37192118226602,
          193.7513914656772,
          87.74816176470588,
          18.97590361445783,
          131.39655172413794,
          76.87679083094555,
          98.57735849056604,
          97.43823529411765,
          48.60299625468165,
          154.43344155844156,
          48.723076923076924,
          152.1236442516269,
          23.261904761904763,
          40.514435695538054,
          44.58389261744966,
          83.14067278287462,
          19.739436619718308,
          65.92168674698796,
          20.721153846153847,
          80.40924092409242,
          104.62025316455696,
          102.83086053412462,
          162.66666666666666,
          17.409610983981693,
          175.32890365448506,
          56.987080103359176,
          77.55188679245283,
          102.54666666666667,
          110.54945054945055,
          40.127167630057805,
          69.4139650872818,
          41.964285714285715,
          94.89501312335958,
          106.6891891891892,
          35.303030303030305,
          97.45357142857142,
          118.97071129707113,
          71.14390243902439,
          115.79886685552408,
          126.32777777777778,
          60.87719298245614,
          99.29100529100529,
          106.36387434554973,
          78.91489361702128,
          53.675496688741724,
          54.65405405405406,
          10.300771208226221,
          82.48796498905908,
          43.91959798994975,
          100.64880952380952,
          156.3444055944056,
          98.359375,
          25.41747572815534,
          141.7934595524957,
          142.0367775831874,
          98.5635103926097,
          78.08878504672897,
          123.39228295819936,
          98.676,
          32.61904761904762,
          56.81196581196581,
          95.92397660818713,
          106.78008298755186,
          98.70967741935483,
          93.75862068965517,
          166.35752688172042,
          204.79748822605964,
          32.35403726708075,
          25.63907284768212,
          110.11352657004831,
          97.34420289855072,
          94.82638888888889,
          77.43333333333334,
          177.71374764595103,
          14.201754385964913,
          77.45202020202021,
          46.916666666666664,
          81.14150943396227,
          163.345259391771,
          127.72994652406418,
          17.736196319018404,
          103.80320366132723,
          22.8125,
          14.206185567010309,
          41.76470588235294,
          12.098360655737705,
          44.97902097902098,
          91.72616136919315,
          126.55882352941177,
          112.95402298850574,
          100.53416149068323,
          109.26869158878505,
          144.08695652173913,
          52.75871313672922,
          146.17506631299736,
          94.24509803921569,
          56.94845360824742,
          154.27803738317758,
          19.362275449101798,
          190.93780687397708,
          66.77460317460317,
          17.020253164556962,
          82.65350877192982,
          93.40899357601712,
          173.3682719546742,
          93.89593908629442,
          15.392857142857142,
          168.53789731051344,
          13.736170212765957,
          81.60952380952381,
          64.60337552742617,
          81.99483204134367,
          22.70855614973262,
          176.3926380368098,
          168.53886010362694,
          65.46742209631728,
          130.05829596412556,
          109.24765478424015,
          130.89356984478937,
          16.71284634760705,
          168.48523206751054,
          36.20645161290322,
          92.0479704797048,
          11.475409836065573,
          173.22790697674418,
          120.72327044025157,
          17.451685393258426,
          62.28115942028985,
          57.47904191616767,
          50.13119533527697,
          106.67261904761905,
          78.94715447154472,
          27.533492822966508,
          62.043103448275865,
          147.45098039215685,
          89.03252032520325,
          73.74439461883408,
          70.51988636363636,
          146.4236559139785,
          70.52150537634408,
          165.95454545454547,
          138.1277108433735,
          70.28767123287672,
          53.688,
          91.46753246753246,
          49.12080536912752,
          164.51470588235293,
          116.37142857142857,
          168.64197530864197,
          35.58378378378379,
          79.59278350515464,
          152.61245674740485,
          82.9875,
          165.60344827586206,
          90.65986394557824,
          116.87580299785867,
          51.702564102564104,
          22.152631578947368,
          139.26293103448276,
          67.99601593625498,
          135.16704288939053,
          61.52325581395349,
          113.3056768558952,
          39.711711711711715,
          89.09252669039147,
          157.77703604806408,
          55.951219512195124,
          72.41921397379913,
          52.50662251655629,
          48.59933774834437,
          29.585987261146496,
          66.92574257425743,
          92.74052478134111,
          87.40419161676647,
          62.76566757493188,
          171.6346153846154,
          159.87898089171975,
          20.75136612021858,
          28.214424951267056,
          51.18141592920354,
          11.194444444444445,
          76.50214592274678,
          83.37741046831955,
          71.41811175337187,
          79.58438287153652,
          123.37585421412301,
          91.30711610486891,
          63.63753213367609,
          121.93791574279379,
          65.00958466453675,
          10.032786885245901,
          82.91121495327103,
          90.88068181818181,
          118.60520094562648,
          55.30566037735849,
          100.84061696658098,
          25.05,
          65.03448275862068,
          10.733796296296296,
          132.03982300884957,
          111.8932584269663,
          94.24929971988796,
          80.86789297658864,
          180.37064220183487,
          193.71701388888889,
          111.74311926605505,
          18.678304239401495,
          65.71884984025559,
          110.98338870431894,
          23.195530726256983,
          145.74132492113566,
          84.34497816593887,
          164.9048991354467,
          65.72241992882562,
          109.69639794168096,
          84.07926829268293,
          130.03311258278146,
          91.84615384615384,
          52.75454545454546,
          61.773809523809526,
          119.2482269503546,
          104.50759878419453,
          83.65675675675676,
          12.813084112149532,
          43.31764705882353,
          14.037878787878787,
          80.02304147465438,
          184.9078947368421,
          91.88524590163935,
          12.555555555555555,
          181.37638376383765,
          56.62068965517241,
          104.24786324786325,
          86.97575757575757,
          75.02875399361022,
          79.24657534246575,
          9.363636363636363,
          56.994594594594595,
          10.561643835616438,
          94.1029411764706,
          99.90990990990991,
          119.85593220338983,
          97.98026315789474,
          103.46902654867256,
          71.14035087719299,
          86.76293103448276,
          75.6625,
          147.96782841823057,
          12.970414201183432,
          94.51006711409396,
          75.12777777777778,
          165.07716049382717,
          92.19910514541387,
          34.19375,
          181.4969696969697,
          82.57528957528957,
          65.00877192982456,
          40.032128514056225,
          127.56012658227849,
          83.88662131519274,
          33.89393939393939,
          101.1967654986523,
          93.51988636363636,
          109.06485355648536,
          120.12909836065573,
          124.66514806378132,
          73.46990291262136,
          72.63753213367609,
          73.835,
          69.99501246882792,
          9.58695652173913,
          77.98958333333333,
          95.3753280839895,
          254.33333333333334,
          107.7375,
          147.85470085470087,
          204.78878504672898,
          46.71597633136095,
          89.05194805194805,
          172.15605749486653,
          124.50568181818181,
          96.84023668639053,
          83.0260989010989,
          36.91256830601093,
          61.888888888888886,
          40.34526854219949,
          75.05523255813954,
          42.082142857142856,
          42.850746268656714,
          81.39784946236558,
          90.26822157434403,
          102.32703213610586,
          16.8125,
          91.29591836734694,
          95.41237113402062,
          81.40857787810384,
          46.62367864693446,
          95.53316953316953,
          90.2560975609756,
          129.6054852320675,
          70.44718309859155,
          23.112,
          20.28708133971292,
          44.416666666666664,
          53.7,
          94.01183431952663,
          101.4523076923077,
          206.14315789473685,
          100.18879056047197,
          25.21818181818182,
          80.74444444444444,
          78.27272727272727,
          60.11965811965812,
          91.19310344827586,
          73.75196850393701,
          110.03092783505154,
          9.787292817679559,
          88.08108108108108,
          38.990990990990994,
          22.651162790697676,
          195.30990990990992,
          150.03497942386832,
          15.877742946708464,
          12.559880239520957,
          40.30402010050251,
          87.7643504531722,
          18.41951219512195,
          68.3798076923077,
          86.08184143222506,
          81.64542936288089,
          53.714285714285715,
          88.45833333333333,
          95.65891472868218,
          159.02134646962233,
          68.09740259740259,
          89.23114355231144,
          9.37475345167653,
          155.1343669250646,
          111.0646551724138,
          60.707692307692305,
          82.87290969899665,
          92.77493606138107,
          19.454545454545453,
          83.88745980707395,
          143.16704288939053,
          36.17467248908297,
          82.4364406779661,
          49.8875,
          103.53266331658291,
          56.87980769230769,
          91.36134453781513,
          195.21361058601136,
          85.40707964601769,
          78.82426778242677,
          11.484848484848484,
          115.5640243902439,
          68.98042704626334,
          24.960264900662253,
          72.7,
          180.85159010600708,
          79.0137614678899,
          12.26771653543307,
          99.02824858757062,
          33.30555555555556,
          71.05047318611987,
          11.176136363636363,
          71.27777777777777,
          25.714285714285715,
          18.963553530751707,
          158.28720238095238,
          48.810526315789474,
          76.60433604336043,
          103.12368421052632,
          87.9612724757953,
          72.35356200527704,
          78.72434017595307,
          88.50118764845605,
          26.418181818181818,
          54.46875,
          80.11320754716981,
          28.024390243902438,
          69.40518962075848,
          27.467005076142133,
          42.7870036101083,
          50.86261980830671,
          77.5514950166113,
          74.94525547445255,
          41.77040816326531,
          21.91769547325103,
          12.539130434782608,
          78.14488636363636,
          158.66728624535315,
          38.14883720930233,
          18.51769911504425,
          51.06772908366534,
          73.6056338028169,
          54.27167630057804,
          94.43265306122449,
          10.569230769230769,
          42.34455958549223,
          7.551813471502591,
          12.614886731391586,
          161.50447227191412,
          73.27756653992395,
          11.067307692307692,
          96.33333333333333,
          66.93735498839906,
          6.173684210526316,
          127.12811387900356,
          34.4475374732334,
          61.586046511627906,
          136.84575389948006,
          54.89733840304182,
          46.19928825622776,
          26.74153846153846,
          53.04838709677419,
          60.41870824053452,
          65.15,
          51.43298969072165,
          100.38851351351352,
          37.955555555555556,
          64.04728132387707,
          74.85359801488833,
          41.588235294117645,
          57.03344481605351,
          135.3603896103896,
          52.22314049586777,
          74.51785714285714,
          6.281596452328159,
          24.64,
          75.40896358543418,
          65.63055555555556,
          50.82539682539682,
          108.21234567901234,
          98.55632183908045,
          101.75670103092783,
          76.1929347826087,
          65.05947955390334,
          7.845959595959596,
          153.40332326283988,
          73.56088560885608,
          60.551319648093845,
          58.778225806451616,
          10.46135831381733,
          158.44473684210527,
          65.12435233160622,
          105.56869565217391,
          138.70212765957447,
          80.70637119113573,
          63.35,
          72.96666666666667,
          64.6470588235294,
          66.06858407079646,
          52.38268156424581,
          83.65479452054795,
          109.29741379310344,
          68.632,
          82.10084033613445,
          73.40331491712708,
          75.30092592592592,
          55.372623574144484,
          79.40094339622641,
          72.83660130718954,
          81.64935064935065,
          57.612099644128115,
          39.73446327683616,
          17.055555555555557,
          79.41145833333333,
          8.657608695652174,
          158.28063943161635,
          72.08547008547009,
          74.0330396475771,
          112.94974874371859,
          123.91666666666667,
          64.15457413249212,
          74.79862700228833,
          111.13507625272331,
          123.2863436123348,
          13.253731343283581,
          55.09375,
          99.46947368421053,
          170.55042016806723,
          41.65,
          36.824561403508774,
          42.02739726027397,
          177.2806691449814,
          13.742424242424242,
          13.603015075376884,
          105.47683923705722,
          73.68168168168168,
          14.377551020408163,
          58.64563106796116,
          158.20032051282053,
          73.2338028169014,
          99.79536679536679,
          55.25964912280702,
          56.661764705882355,
          59.49896480331263,
          82.41079812206573,
          57.1025641025641,
          160.75121951219512,
          81.81506849315069,
          9.134920634920634,
          85.6875,
          72.75806451612904,
          7.649214659685864,
          78.7584541062802,
          66.77306733167082,
          7.780361757105943,
          43.994285714285716,
          85.24046920821114,
          75.01608579088472,
          85.73846153846154,
          8.341708542713567,
          73.85672514619883,
          143.0873180873181,
          68.63486842105263,
          109.34429824561404,
          93.41823899371069,
          77.90490797546012,
          87.7503448275862,
          75.73387096774194,
          74.19897959183673,
          58.09132420091324,
          67.15254237288136,
          13.166666666666666,
          155.9812925170068,
          153.97696737044146,
          75.15286624203821,
          105.35394456289978,
          86.429718875502,
          72.47058823529412,
          14.44047619047619,
          27.48857142857143,
          12.071428571428571,
          68.09243697478992,
          79.2033426183844,
          9.675268817204302,
          7.64748201438849,
          97.61722488038278,
          120.08333333333333,
          94.97945205479452,
          60.97607655502392,
          54.16577540106952,
          74.560706401766,
          175.07324364723468,
          52.12056737588652,
          92.06984126984128,
          160.36186186186185,
          138.37566137566137,
          45.712765957446805,
          27.626126126126128,
          12.236363636363636,
          165.80604982206407,
          75.90625,
          84.75977653631286,
          82.62814070351759,
          12.229166666666666,
          16.796819787985864,
          23.36082474226804,
          58.08488063660477,
          10.957894736842105,
          13.431472081218274,
          192.75130434782608,
          157.2439024390244,
          184.63182527301092,
          153.5016077170418,
          164.99812734082397,
          9.483870967741936,
          105.03793103448275,
          73.14189189189189,
          19.318681318681318,
          62.162393162393165,
          14.27945205479452,
          155.44534412955466,
          23.846994535519126,
          39.16704805491991,
          22.26
         ],
         "xaxis": "x",
         "yaxis": "y"
        }
       ],
       "layout": {
        "barmode": "relative",
        "legend": {
         "title": {
          "text": "variable"
         },
         "tracegroupgap": 0
        },
        "template": {
         "data": {
          "bar": [
           {
            "error_x": {
             "color": "#2a3f5f"
            },
            "error_y": {
             "color": "#2a3f5f"
            },
            "marker": {
             "line": {
              "color": "#E5ECF6",
              "width": 0.5
             },
             "pattern": {
              "fillmode": "overlay",
              "size": 10,
              "solidity": 0.2
             }
            },
            "type": "bar"
           }
          ],
          "barpolar": [
           {
            "marker": {
             "line": {
              "color": "#E5ECF6",
              "width": 0.5
             },
             "pattern": {
              "fillmode": "overlay",
              "size": 10,
              "solidity": 0.2
             }
            },
            "type": "barpolar"
           }
          ],
          "carpet": [
           {
            "aaxis": {
             "endlinecolor": "#2a3f5f",
             "gridcolor": "white",
             "linecolor": "white",
             "minorgridcolor": "white",
             "startlinecolor": "#2a3f5f"
            },
            "baxis": {
             "endlinecolor": "#2a3f5f",
             "gridcolor": "white",
             "linecolor": "white",
             "minorgridcolor": "white",
             "startlinecolor": "#2a3f5f"
            },
            "type": "carpet"
           }
          ],
          "choropleth": [
           {
            "colorbar": {
             "outlinewidth": 0,
             "ticks": ""
            },
            "type": "choropleth"
           }
          ],
          "contour": [
           {
            "colorbar": {
             "outlinewidth": 0,
             "ticks": ""
            },
            "colorscale": [
             [
              0,
              "#0d0887"
             ],
             [
              0.1111111111111111,
              "#46039f"
             ],
             [
              0.2222222222222222,
              "#7201a8"
             ],
             [
              0.3333333333333333,
              "#9c179e"
             ],
             [
              0.4444444444444444,
              "#bd3786"
             ],
             [
              0.5555555555555556,
              "#d8576b"
             ],
             [
              0.6666666666666666,
              "#ed7953"
             ],
             [
              0.7777777777777778,
              "#fb9f3a"
             ],
             [
              0.8888888888888888,
              "#fdca26"
             ],
             [
              1,
              "#f0f921"
             ]
            ],
            "type": "contour"
           }
          ],
          "contourcarpet": [
           {
            "colorbar": {
             "outlinewidth": 0,
             "ticks": ""
            },
            "type": "contourcarpet"
           }
          ],
          "heatmap": [
           {
            "colorbar": {
             "outlinewidth": 0,
             "ticks": ""
            },
            "colorscale": [
             [
              0,
              "#0d0887"
             ],
             [
              0.1111111111111111,
              "#46039f"
             ],
             [
              0.2222222222222222,
              "#7201a8"
             ],
             [
              0.3333333333333333,
              "#9c179e"
             ],
             [
              0.4444444444444444,
              "#bd3786"
             ],
             [
              0.5555555555555556,
              "#d8576b"
             ],
             [
              0.6666666666666666,
              "#ed7953"
             ],
             [
              0.7777777777777778,
              "#fb9f3a"
             ],
             [
              0.8888888888888888,
              "#fdca26"
             ],
             [
              1,
              "#f0f921"
             ]
            ],
            "type": "heatmap"
           }
          ],
          "heatmapgl": [
           {
            "colorbar": {
             "outlinewidth": 0,
             "ticks": ""
            },
            "colorscale": [
             [
              0,
              "#0d0887"
             ],
             [
              0.1111111111111111,
              "#46039f"
             ],
             [
              0.2222222222222222,
              "#7201a8"
             ],
             [
              0.3333333333333333,
              "#9c179e"
             ],
             [
              0.4444444444444444,
              "#bd3786"
             ],
             [
              0.5555555555555556,
              "#d8576b"
             ],
             [
              0.6666666666666666,
              "#ed7953"
             ],
             [
              0.7777777777777778,
              "#fb9f3a"
             ],
             [
              0.8888888888888888,
              "#fdca26"
             ],
             [
              1,
              "#f0f921"
             ]
            ],
            "type": "heatmapgl"
           }
          ],
          "histogram": [
           {
            "marker": {
             "pattern": {
              "fillmode": "overlay",
              "size": 10,
              "solidity": 0.2
             }
            },
            "type": "histogram"
           }
          ],
          "histogram2d": [
           {
            "colorbar": {
             "outlinewidth": 0,
             "ticks": ""
            },
            "colorscale": [
             [
              0,
              "#0d0887"
             ],
             [
              0.1111111111111111,
              "#46039f"
             ],
             [
              0.2222222222222222,
              "#7201a8"
             ],
             [
              0.3333333333333333,
              "#9c179e"
             ],
             [
              0.4444444444444444,
              "#bd3786"
             ],
             [
              0.5555555555555556,
              "#d8576b"
             ],
             [
              0.6666666666666666,
              "#ed7953"
             ],
             [
              0.7777777777777778,
              "#fb9f3a"
             ],
             [
              0.8888888888888888,
              "#fdca26"
             ],
             [
              1,
              "#f0f921"
             ]
            ],
            "type": "histogram2d"
           }
          ],
          "histogram2dcontour": [
           {
            "colorbar": {
             "outlinewidth": 0,
             "ticks": ""
            },
            "colorscale": [
             [
              0,
              "#0d0887"
             ],
             [
              0.1111111111111111,
              "#46039f"
             ],
             [
              0.2222222222222222,
              "#7201a8"
             ],
             [
              0.3333333333333333,
              "#9c179e"
             ],
             [
              0.4444444444444444,
              "#bd3786"
             ],
             [
              0.5555555555555556,
              "#d8576b"
             ],
             [
              0.6666666666666666,
              "#ed7953"
             ],
             [
              0.7777777777777778,
              "#fb9f3a"
             ],
             [
              0.8888888888888888,
              "#fdca26"
             ],
             [
              1,
              "#f0f921"
             ]
            ],
            "type": "histogram2dcontour"
           }
          ],
          "mesh3d": [
           {
            "colorbar": {
             "outlinewidth": 0,
             "ticks": ""
            },
            "type": "mesh3d"
           }
          ],
          "parcoords": [
           {
            "line": {
             "colorbar": {
              "outlinewidth": 0,
              "ticks": ""
             }
            },
            "type": "parcoords"
           }
          ],
          "pie": [
           {
            "automargin": true,
            "type": "pie"
           }
          ],
          "scatter": [
           {
            "fillpattern": {
             "fillmode": "overlay",
             "size": 10,
             "solidity": 0.2
            },
            "type": "scatter"
           }
          ],
          "scatter3d": [
           {
            "line": {
             "colorbar": {
              "outlinewidth": 0,
              "ticks": ""
             }
            },
            "marker": {
             "colorbar": {
              "outlinewidth": 0,
              "ticks": ""
             }
            },
            "type": "scatter3d"
           }
          ],
          "scattercarpet": [
           {
            "marker": {
             "colorbar": {
              "outlinewidth": 0,
              "ticks": ""
             }
            },
            "type": "scattercarpet"
           }
          ],
          "scattergeo": [
           {
            "marker": {
             "colorbar": {
              "outlinewidth": 0,
              "ticks": ""
             }
            },
            "type": "scattergeo"
           }
          ],
          "scattergl": [
           {
            "marker": {
             "colorbar": {
              "outlinewidth": 0,
              "ticks": ""
             }
            },
            "type": "scattergl"
           }
          ],
          "scattermapbox": [
           {
            "marker": {
             "colorbar": {
              "outlinewidth": 0,
              "ticks": ""
             }
            },
            "type": "scattermapbox"
           }
          ],
          "scatterpolar": [
           {
            "marker": {
             "colorbar": {
              "outlinewidth": 0,
              "ticks": ""
             }
            },
            "type": "scatterpolar"
           }
          ],
          "scatterpolargl": [
           {
            "marker": {
             "colorbar": {
              "outlinewidth": 0,
              "ticks": ""
             }
            },
            "type": "scatterpolargl"
           }
          ],
          "scatterternary": [
           {
            "marker": {
             "colorbar": {
              "outlinewidth": 0,
              "ticks": ""
             }
            },
            "type": "scatterternary"
           }
          ],
          "surface": [
           {
            "colorbar": {
             "outlinewidth": 0,
             "ticks": ""
            },
            "colorscale": [
             [
              0,
              "#0d0887"
             ],
             [
              0.1111111111111111,
              "#46039f"
             ],
             [
              0.2222222222222222,
              "#7201a8"
             ],
             [
              0.3333333333333333,
              "#9c179e"
             ],
             [
              0.4444444444444444,
              "#bd3786"
             ],
             [
              0.5555555555555556,
              "#d8576b"
             ],
             [
              0.6666666666666666,
              "#ed7953"
             ],
             [
              0.7777777777777778,
              "#fb9f3a"
             ],
             [
              0.8888888888888888,
              "#fdca26"
             ],
             [
              1,
              "#f0f921"
             ]
            ],
            "type": "surface"
           }
          ],
          "table": [
           {
            "cells": {
             "fill": {
              "color": "#EBF0F8"
             },
             "line": {
              "color": "white"
             }
            },
            "header": {
             "fill": {
              "color": "#C8D4E3"
             },
             "line": {
              "color": "white"
             }
            },
            "type": "table"
           }
          ]
         },
         "layout": {
          "annotationdefaults": {
           "arrowcolor": "#2a3f5f",
           "arrowhead": 0,
           "arrowwidth": 1
          },
          "autotypenumbers": "strict",
          "coloraxis": {
           "colorbar": {
            "outlinewidth": 0,
            "ticks": ""
           }
          },
          "colorscale": {
           "diverging": [
            [
             0,
             "#8e0152"
            ],
            [
             0.1,
             "#c51b7d"
            ],
            [
             0.2,
             "#de77ae"
            ],
            [
             0.3,
             "#f1b6da"
            ],
            [
             0.4,
             "#fde0ef"
            ],
            [
             0.5,
             "#f7f7f7"
            ],
            [
             0.6,
             "#e6f5d0"
            ],
            [
             0.7,
             "#b8e186"
            ],
            [
             0.8,
             "#7fbc41"
            ],
            [
             0.9,
             "#4d9221"
            ],
            [
             1,
             "#276419"
            ]
           ],
           "sequential": [
            [
             0,
             "#0d0887"
            ],
            [
             0.1111111111111111,
             "#46039f"
            ],
            [
             0.2222222222222222,
             "#7201a8"
            ],
            [
             0.3333333333333333,
             "#9c179e"
            ],
            [
             0.4444444444444444,
             "#bd3786"
            ],
            [
             0.5555555555555556,
             "#d8576b"
            ],
            [
             0.6666666666666666,
             "#ed7953"
            ],
            [
             0.7777777777777778,
             "#fb9f3a"
            ],
            [
             0.8888888888888888,
             "#fdca26"
            ],
            [
             1,
             "#f0f921"
            ]
           ],
           "sequentialminus": [
            [
             0,
             "#0d0887"
            ],
            [
             0.1111111111111111,
             "#46039f"
            ],
            [
             0.2222222222222222,
             "#7201a8"
            ],
            [
             0.3333333333333333,
             "#9c179e"
            ],
            [
             0.4444444444444444,
             "#bd3786"
            ],
            [
             0.5555555555555556,
             "#d8576b"
            ],
            [
             0.6666666666666666,
             "#ed7953"
            ],
            [
             0.7777777777777778,
             "#fb9f3a"
            ],
            [
             0.8888888888888888,
             "#fdca26"
            ],
            [
             1,
             "#f0f921"
            ]
           ]
          },
          "colorway": [
           "#636efa",
           "#EF553B",
           "#00cc96",
           "#ab63fa",
           "#FFA15A",
           "#19d3f3",
           "#FF6692",
           "#B6E880",
           "#FF97FF",
           "#FECB52"
          ],
          "font": {
           "color": "#2a3f5f"
          },
          "geo": {
           "bgcolor": "white",
           "lakecolor": "white",
           "landcolor": "#E5ECF6",
           "showlakes": true,
           "showland": true,
           "subunitcolor": "white"
          },
          "hoverlabel": {
           "align": "left"
          },
          "hovermode": "closest",
          "mapbox": {
           "style": "light"
          },
          "paper_bgcolor": "white",
          "plot_bgcolor": "#E5ECF6",
          "polar": {
           "angularaxis": {
            "gridcolor": "white",
            "linecolor": "white",
            "ticks": ""
           },
           "bgcolor": "#E5ECF6",
           "radialaxis": {
            "gridcolor": "white",
            "linecolor": "white",
            "ticks": ""
           }
          },
          "scene": {
           "xaxis": {
            "backgroundcolor": "#E5ECF6",
            "gridcolor": "white",
            "gridwidth": 2,
            "linecolor": "white",
            "showbackground": true,
            "ticks": "",
            "zerolinecolor": "white"
           },
           "yaxis": {
            "backgroundcolor": "#E5ECF6",
            "gridcolor": "white",
            "gridwidth": 2,
            "linecolor": "white",
            "showbackground": true,
            "ticks": "",
            "zerolinecolor": "white"
           },
           "zaxis": {
            "backgroundcolor": "#E5ECF6",
            "gridcolor": "white",
            "gridwidth": 2,
            "linecolor": "white",
            "showbackground": true,
            "ticks": "",
            "zerolinecolor": "white"
           }
          },
          "shapedefaults": {
           "line": {
            "color": "#2a3f5f"
           }
          },
          "ternary": {
           "aaxis": {
            "gridcolor": "white",
            "linecolor": "white",
            "ticks": ""
           },
           "baxis": {
            "gridcolor": "white",
            "linecolor": "white",
            "ticks": ""
           },
           "bgcolor": "#E5ECF6",
           "caxis": {
            "gridcolor": "white",
            "linecolor": "white",
            "ticks": ""
           }
          },
          "title": {
           "x": 0.05
          },
          "xaxis": {
           "automargin": true,
           "gridcolor": "white",
           "linecolor": "white",
           "ticks": "",
           "title": {
            "standoff": 15
           },
           "zerolinecolor": "white",
           "zerolinewidth": 2
          },
          "yaxis": {
           "automargin": true,
           "gridcolor": "white",
           "linecolor": "white",
           "ticks": "",
           "title": {
            "standoff": 15
           },
           "zerolinecolor": "white",
           "zerolinewidth": 2
          }
         }
        },
        "title": {
         "text": "nucleus_neun_avg_int_in_DG"
        },
        "xaxis": {
         "anchor": "y",
         "domain": [
          0,
          1
         ],
         "range": [
          0,
          255
         ],
         "title": {
          "text": "nucleus_neun_avg_int"
         }
        },
        "yaxis": {
         "anchor": "x",
         "domain": [
          0,
          1
         ],
         "title": {
          "text": "count"
         }
        }
       }
      }
     },
     "metadata": {},
     "output_type": "display_data"
    },
    {
     "data": {
      "application/vnd.plotly.v1+json": {
       "config": {
        "plotlyServerURL": "https://plot.ly"
       },
       "data": [
        {
         "alignmentgroup": "True",
         "bingroup": "x",
         "hovertemplate": "variable=cytoplasm_calbindin_avg_int<br>cytoplasm_calbindin_avg_int=%{x}<br>count=%{y}<extra></extra>",
         "legendgroup": "cytoplasm_calbindin_avg_int",
         "marker": {
          "color": "#636efa",
          "pattern": {
           "shape": ""
          }
         },
         "name": "cytoplasm_calbindin_avg_int",
         "nbinsx": 256,
         "offsetgroup": "cytoplasm_calbindin_avg_int",
         "orientation": "v",
         "showlegend": true,
         "type": "histogram",
         "x": [
          15.955223880597014,
          8.528301886792454,
          9.206896551724139,
          11.417582417582418,
          16.793893129770993,
          10.357429718875501,
          12.673553719008265,
          16.915178571428573,
          15.92050209205021,
          8.850678733031675,
          11.166666666666666,
          12.580487804878048,
          13.160869565217391,
          17.174242424242426,
          17.394495412844037,
          14.231707317073171,
          10.69078947368421,
          16.636,
          13.276422764227643,
          15.469613259668508,
          12.115789473684211,
          18.188235294117646,
          17.77956989247312,
          10.282178217821782,
          19,
          16.833333333333332,
          11.525252525252526,
          18.232954545454547,
          18.784615384615385,
          19.75,
          14.246666666666666,
          11.995098039215685,
          24.4247311827957,
          23.948387096774194,
          11.798882681564246,
          20.095435684647303,
          16.235668789808916,
          30.033898305084747,
          13.087719298245615,
          17.21014492753623,
          10.12,
          31.153846153846153,
          26.21030042918455,
          21.182608695652174,
          19.808988764044944,
          18,
          13.511111111111111,
          26.860696517412936,
          13.985714285714286,
          16.461904761904762,
          20.365,
          24.309278350515463,
          30.736363636363638,
          24.39189189189189,
          17.947712418300654,
          26.174698795180724,
          27.761194029850746,
          25.063063063063062,
          26.92753623188406,
          28.903614457831324,
          13.35064935064935,
          28.310344827586206,
          17.00763358778626,
          20.155844155844157,
          28.716216216216218,
          28.59171597633136,
          23.428571428571427,
          31.158620689655173,
          21.96938775510204,
          23.30808080808081,
          32.21052631578947,
          23.288793103448278,
          28.15702479338843,
          21.764367816091955,
          25.256410256410255,
          25.089201877934272,
          26.488,
          31.458015267175572,
          41.1958762886598,
          23.391025641025642,
          28.577142857142857,
          27.525,
          32.31,
          12.81981981981982,
          32.41242937853107,
          27.613636363636363,
          30.551181102362204,
          32.89156626506024,
          26.203821656050955,
          27.25625,
          25.056962025316455,
          25.23728813559322,
          39.60666666666667,
          32.48888888888889,
          23.29192546583851,
          35.83720930232558,
          25.666666666666668,
          21.46951219512195,
          35.954337899543376,
          31.190751445086704,
          34.06923076923077,
          20.801242236024844,
          31.49137931034483,
          22.69047619047619,
          25.4792899408284,
          37.359375,
          35.53488372093023,
          28.859060402684563,
          19.883248730964468,
          23.78723404255319,
          25.58682634730539,
          32.92567567567568,
          29.629032258064516,
          22.439655172413794,
          32.445544554455445,
          19.719298245614034,
          15.7682119205298,
          25.304347826086957,
          11.783625730994151,
          34.163636363636364,
          26.639269406392692,
          20.638297872340427,
          30.74863387978142,
          35.47142857142857,
          28.49645390070922,
          19.90728476821192,
          18.217877094972067,
          15.908333333333333,
          13.598984771573605,
          21.39644970414201,
          28.21965317919075,
          26.685,
          35.38834951456311,
          17.790697674418606,
          32.19642857142857,
          30.375,
          23.143790849673202,
          30.38323353293413,
          25.72093023255814,
          26.616666666666667,
          19.964102564102564,
          27.708108108108107,
          27.35036496350365,
          14.111940298507463,
          20.225641025641025,
          29.304347826086957,
          33.19607843137255,
          28.233532934131738,
          30.882978723404257,
          27.06086956521739,
          19.373333333333335,
          30.08695652173913,
          27.376884422110553,
          30.29050279329609,
          23.423076923076923,
          30.914728682170544,
          30.521929824561404,
          27.772972972972973,
          22.86904761904762,
          29.886138613861387,
          23.70731707317073,
          25.931972789115648,
          16.853061224489796,
          30.45098039215686,
          32.27363184079602,
          19.329896907216494,
          25.99206349206349,
          22.685897435897434,
          18.776119402985074,
          32.08520179372197,
          23.951541850220263,
          34.13414634146341,
          34.944,
          27.83743842364532,
          23.512953367875646,
          24.8268156424581,
          23.147435897435898,
          21.73846153846154,
          22.065116279069766,
          20.63225806451613,
          11.748091603053435,
          23.778378378378378,
          21.92948717948718,
          18.59259259259259,
          22.56338028169014,
          31.608695652173914,
          29.152941176470588,
          24.310344827586206,
          19.574074074074073,
          23.928571428571427,
          27.636363636363637,
          32.480176211453745,
          24.757894736842104,
          25.467336683417084,
          28.78205128205128,
          21.801324503311257,
          22.572413793103447,
          27.043478260869566,
          22.647368421052633,
          20.042194092827003,
          27.477272727272727,
          19.70807453416149,
          26.604026845637584,
          26.109756097560975,
          16.884615384615383,
          26.572327044025158,
          11.676190476190476,
          18.77181208053691,
          27.262569832402235,
          25.009478672985782,
          19.97087378640777,
          21.647435897435898,
          18.963503649635037,
          22.915584415584416,
          24.747474747474747,
          27.97340425531915,
          20.401639344262296,
          12.472727272727273,
          26.416666666666668,
          24.423357664233578,
          7.813186813186813,
          17.568181818181817,
          32.3625,
          22.522222222222222,
          10.045112781954888,
          27.188524590163933,
          34.80530973451327,
          10.563829787234043,
          36.57692307692308,
          28.675675675675677,
          18.508064516129032,
          30.31111111111111,
          31.225806451612904,
          19.68148148148148,
          35.55555555555556,
          17.17142857142857,
          18.24137931034483,
          29.055555555555557,
          29.169354838709676,
          10.862244897959183,
          27.81512605042017,
          18.607142857142858,
          23.392265193370164,
          27.313253012048193,
          11.377906976744185,
          19.610169491525422,
          14.533333333333333,
          6.508474576271187,
          14.705479452054794,
          18.572413793103447,
          14.652542372881356,
          20.324742268041238,
          14.886227544910179,
          4.679611650485437,
          21.071428571428573,
          20.235668789808916,
          12.042857142857143,
          15.909774436090226,
          11.244444444444444,
          23.637254901960784,
          24.682926829268293,
          10.13855421686747,
          21.387096774193548,
          29.90344827586207,
          38.137362637362635,
          16.0622009569378,
          26.139130434782608,
          25.741176470588236,
          27.900709219858157,
          26.564444444444444,
          17.49,
          15.848101265822784,
          23.103174603174605,
          28.68,
          20.627450980392158,
          22.145631067961165,
          30.58256880733945,
          31.808333333333334,
          18.931972789115648,
          33.45890410958904,
          24.08108108108108,
          16.985576923076923,
          27.42528735632184,
          20.40909090909091,
          25.120535714285715,
          37.31428571428572,
          23.146853146853147,
          34.424870466321245,
          25.310344827586206,
          33.56375838926174,
          19.97752808988764,
          29.342723004694836,
          28.16346153846154,
          28.3,
          31,
          21.489583333333332,
          19.20886075949367,
          31.44144144144144,
          27.09433962264151,
          22.285714285714285,
          15.643564356435643,
          10.015151515151516,
          22.523809523809526,
          22.213333333333335,
          26.77848101265823,
          23.26178010471204,
          29.31578947368421,
          22.401960784313726,
          14.090909090909092,
          27.261363636363637,
          22.941747572815533,
          28.931578947368422,
          24.42361111111111,
          12.840909090909092,
          36.78756476683938,
          27.039800995024876,
          18.29090909090909,
          23.028985507246375,
          29.279411764705884,
          25.742138364779873,
          18.486842105263158,
          28.062857142857144,
          21.624,
          19.962406015037594,
          31.35031847133758,
          24.8159509202454,
          21.896551724137932,
          25.9468085106383,
          36.358823529411765,
          23.90909090909091,
          41.048780487804876,
          29.224806201550386,
          28.926666666666666,
          28.852941176470587,
          13.228915662650602,
          13.128440366972477,
          30.646706586826348,
          15.61878453038674,
          27.6875,
          23.897959183673468,
          18.3015873015873,
          29.940425531914894,
          21.6993006993007,
          40.62882096069869,
          27.86857142857143,
          34.56953642384106,
          28.366412213740457,
          39.43103448275862,
          34.55701754385965,
          25.707142857142856,
          16.490066225165563,
          20.762820512820515,
          33.06164383561644,
          30.860103626943005,
          35.716981132075475,
          31.37735849056604,
          26.781094527363184,
          30.127167630057805,
          25.520661157024794,
          22.06111111111111,
          29.980582524271846,
          27.366197183098592,
          30.125925925925927,
          28.726315789473684,
          19.125925925925927,
          15.181818181818182,
          29.622448979591837,
          22.74590163934426,
          14.951219512195122,
          28.936708860759495,
          28.571428571428573,
          23.898203592814372,
          17.904761904761905,
          26.48170731707317,
          34.593582887700535,
          10.08974358974359,
          28.852941176470587,
          28.82442748091603,
          34.256410256410255,
          28.77900552486188,
          27.08235294117647,
          34.25,
          18.3109756097561,
          25.92,
          33.50967741935484,
          23.801324503311257,
          24.304568527918782,
          13.213675213675213,
          14.642857142857142,
          23.847457627118644,
          20.99033816425121,
          27.857142857142858,
          18.86697247706422,
          20.45625,
          20.074468085106382,
          24.823529411764707,
          26.296511627906977,
          28.561643835616437,
          22.43558282208589,
          18.231404958677686,
          18.39240506329114,
          27.053097345132745,
          23.99497487437186,
          17.154362416107382,
          28.14351851851852,
          33.631147540983605,
          19.981366459627328,
          16.37864077669903,
          31.111675126903553,
          18.81294964028777,
          26.204301075268816,
          27.31578947368421,
          28.3,
          20.416666666666668,
          21.854545454545455,
          19.20408163265306,
          22.80327868852459,
          24.883870967741935,
          24.085308056872037,
          20.664233576642335,
          27.485714285714284,
          24,
          31.101796407185628,
          23.72222222222222,
          25.80246913580247,
          23.146341463414632,
          21.923076923076923,
          24.448275862068964,
          25.935185185185187,
          24.92452830188679,
          31.54471544715447,
          26.2,
          28.5531914893617,
          22.421455938697317,
          30.664473684210527,
          22.55793991416309,
          34.837606837606835,
          28.028776978417266,
          28.89075630252101,
          19.881720430107528,
          26.04054054054054,
          18.446428571428573,
          28.74820143884892,
          22.059139784946236,
          39.2046783625731,
          23.394160583941606,
          20.829457364341085,
          25.947674418604652,
          17.066265060240966,
          30.036290322580644,
          26.539473684210527,
          30.93006993006993,
          27.93984962406015,
          20.43046357615894,
          23.154166666666665,
          27.93582887700535,
          33.88333333333333,
          15.098039215686274,
          20.24074074074074,
          16.131147540983605,
          28.028436018957347,
          26.596273291925467,
          28,
          23.59550561797753,
          23.91949152542373,
          39.58015267175573,
          33.51086956521739,
          21.759615384615383,
          25.488262910798124,
          22.57843137254902,
          32.58762886597938,
          23.7319587628866,
          32.57,
          30.072916666666668,
          31.835443037974684,
          23.963730569948186,
          19.496402877697843,
          36.59602649006622,
          35.58536585365854,
          28.413265306122447,
          27.654135338345863,
          13.07177033492823,
          26.042857142857144,
          21.85,
          37.59362549800797,
          23.575418994413408,
          30.306818181818183,
          11.006666666666666,
          33.83168316831683,
          29.7027027027027,
          23.535135135135135,
          14.658536585365853,
          32.30769230769231,
          21.258928571428573,
          26.245283018867923,
          24.174603174603174,
          21.787330316742082,
          20.23076923076923,
          21.200819672131146,
          22.00588235294118,
          24.212435233160623,
          27.107784431137723,
          19.951515151515153,
          17.286821705426355,
          19.30075187969925,
          16.473684210526315,
          25.536082474226806,
          23.245,
          14.079470198675496,
          18.807291666666668,
          22.691891891891892,
          20.991869918699187,
          12.43918918918919,
          19.352941176470587,
          22.561728395061728,
          25.471264367816094,
          15.034965034965035,
          8.204081632653061,
          22.654867256637168,
          18.74418604651163,
          18.691891891891892,
          19.202247191011235,
          19.247863247863247,
          21.96875,
          17.350993377483444,
          15.042016806722689,
          18.251908396946565,
          15.18095238095238,
          33.698019801980195,
          19.928057553956833,
          13.512820512820513,
          17.594771241830067,
          37.08955223880597,
          26.38255033557047,
          19.82183908045977,
          25.69060773480663,
          29.39,
          10.192090395480227,
          23.58011049723757,
          22.915841584158414,
          26.30952380952381,
          21.580246913580247,
          17.22994652406417,
          16.132075471698112,
          22.05521472392638,
          24.10919540229885,
          21.944881889763778,
          11.662650602409638,
          30.06217616580311,
          13.223214285714286,
          25.950310559006212,
          21.485436893203882,
          19.333333333333332,
          18.242857142857144,
          25.07246376811594,
          15.95397489539749,
          27.737179487179485,
          26.297101449275363,
          25.970338983050848,
          21.710743801652892,
          25.53939393939394,
          13.12987012987013,
          29.58682634730539,
          23.05263157894737,
          17.136752136752136,
          15.375,
          27.523809523809526,
          22.5875,
          23.14569536423841,
          18.650793650793652,
          18.814285714285713,
          19.388571428571428,
          26.535211267605632,
          29.228571428571428,
          28.089285714285715,
          16.83177570093458,
          20.266666666666666,
          24.852941176470587,
          28.952879581151834,
          24.90566037735849,
          28.154255319148938,
          5.773006134969325,
          23.042944785276074,
          5.310344827586207,
          19.133928571428573,
          24.433566433566433,
          21.405797101449274,
          26.82608695652174,
          33.492063492063494,
          32,
          24.370967741935484,
          23.766871165644172,
          24.989473684210527,
          34.81,
          16.531380753138077,
          34.9622641509434,
          39.21739130434783,
          37.12676056338028,
          24,
          8.381642512077295,
          21.111888111888113,
          22.634285714285713,
          38.194117647058825,
          22.794736842105262,
          23.516483516483518,
          34.62732919254658,
          14.077669902912621,
          29.89451476793249,
          29.60909090909091,
          25.939393939393938,
          25.2,
          22.14765100671141,
          25.955156950672645,
          37.515151515151516,
          21.153846153846153,
          32.08612440191388,
          35.59405940594059,
          22.285714285714285,
          20.93103448275862,
          32.35227272727273,
          41.40298507462686,
          26.946153846153845,
          29.841772151898734,
          24.12264150943396,
          39.29296875,
          37.81481481481482,
          27.70731707317073,
          23.966480446927374,
          17.88144329896907,
          36.15137614678899,
          37.59310344827586,
          25.188235294117646,
          26.121951219512194,
          25.016666666666666,
          33.285714285714285,
          29.768115942028984,
          34.48947368421052,
          14.643835616438356,
          29.914529914529915,
          25.10731707317073,
          31.88888888888889,
          30.53529411764706,
          46.465753424657535,
          19.6,
          30.699604743083004,
          38.62280701754386,
          14.437908496732026,
          35.95628415300546,
          24.59090909090909,
          30.678571428571427,
          31.449704142011836,
          38.93693693693694,
          31.210884353741495,
          44.40236686390533,
          22.776119402985074,
          30.2972972972973,
          24.675675675675677,
          20.916666666666668,
          34.47115384615385,
          43.3948717948718,
          22.768,
          22.74436090225564,
          34.91891891891892,
          27.616883116883116,
          38.15873015873016,
          19.766304347826086,
          33.5,
          36.902325581395345,
          30.03125,
          35.68018018018018,
          28.486486486486488,
          31.95945945945946,
          38.17224880382775,
          16.966666666666665,
          33.37362637362637,
          41.318897637795274,
          25.967567567567567,
          13.11111111111111,
          23.6010101010101,
          33.86013986013986,
          40.0974358974359,
          33.19526627218935,
          32.31794871794872,
          23.54794520547945,
          34.51282051282051,
          22.93859649122807,
          31.584415584415584,
          24.972027972027973,
          25.614525139664803,
          31.474747474747474,
          26.085714285714285,
          26.032258064516128,
          28.094202898550726,
          42.17791411042945,
          31.666666666666668,
          26.765625,
          23.876923076923077,
          42.432330827067666,
          37.285714285714285,
          26.25,
          25.802325581395348,
          23.4,
          27.632653061224488,
          31.78306878306878,
          22.541284403669724,
          29.466666666666665,
          36.92018779342723,
          30.315533980582526,
          25.93548387096774,
          39.944954128440365,
          29.926470588235293,
          39.265060240963855,
          27.92436974789916,
          23.944444444444443,
          43.910994764397905,
          22.392265193370164,
          23.496644295302012,
          30.975247524752476,
          31.073529411764707,
          22.463276836158194,
          34.08181818181818,
          30.621052631578948,
          27.842105263157894,
          33.85643564356435,
          43.07112970711297,
          24.354609929078013,
          24.406015037593985,
          25.09027777777778,
          17.904761904761905,
          19.623595505617978,
          27.76991150442478,
          43.863013698630134,
          49.25609756097561,
          31.563218390804597,
          23.486725663716815,
          33.54609929078014,
          22.333333333333332,
          17.243589743589745,
          32.74333333333333,
          25.11464968152866,
          25.527638190954775,
          32.14736842105263,
          22.62280701754386,
          35.04385964912281,
          34.828054298642535,
          27.80536912751678,
          38.78333333333333,
          18.941935483870967,
          30.70731707317073,
          23.85,
          21.34158415841584,
          40.885245901639344,
          37.41538461538462,
          41.89655172413793,
          25.582857142857144,
          18.594771241830067,
          34.748387096774195,
          33.31976744186046,
          36.791666666666664,
          40.973262032085564,
          29.013333333333332,
          42.01255230125523,
          33.607142857142854,
          36.1044776119403,
          36.2710843373494,
          23.401515151515152,
          42.720238095238095,
          36.7037037037037,
          28.54954954954955,
          36.31468531468531,
          29.821192052980134,
          36.775510204081634,
          33.92857142857143,
          38.38461538461539,
          39.10606060606061,
          24.310734463276837,
          21.443438914027148,
          24.316666666666666,
          42.742990654205606,
          26.506944444444443,
          38.39877300613497,
          32.61224489795919,
          38.407407407407405,
          37.343023255813954,
          26.31192660550459,
          41.86381322957198,
          32.97385620915033,
          24.705882352941178,
          12.35483870967742,
          27.952,
          29.27111111111111,
          30.733333333333334,
          32.47727272727273,
          29.025252525252526,
          41.06611570247934,
          30.233128834355828,
          26.024390243902438,
          35.96067415730337,
          29.625,
          37.18867924528302,
          33.507462686567166,
          36.441489361702125,
          43.6,
          27.152,
          38.121428571428574,
          40.204633204633204,
          31.540697674418606,
          21.955882352941178,
          29.4,
          31.19672131147541,
          25.35,
          27.833333333333332,
          44.93627450980392,
          42.13409961685824,
          27.592,
          31.284,
          34.61864406779661,
          35.08433734939759,
          19.961702127659574,
          25.262626262626263,
          30.651515151515152,
          26.666666666666668,
          40.02777777777778,
          37.34117647058824,
          29.95035460992908,
          39.65232974910394,
          28.071748878923767,
          34.45238095238095,
          28.40625,
          35.82666666666667,
          32.81578947368421,
          38.39795918367347,
          38.41379310344828,
          25.774725274725274,
          35.58181818181818,
          23.147727272727273,
          23.35542168674699,
          30.751724137931035,
          36.86776859504132,
          35.420833333333334,
          31.076612903225808,
          27.267241379310345,
          31.365384615384617,
          22.959016393442624,
          37.031007751937985,
          35.231884057971016,
          37.45075757575758,
          42.78606965174129,
          17.660377358490567,
          29.393700787401574,
          35.43689320388349,
          29.955974842767297,
          34.85892116182573,
          35.3771186440678,
          18.077464788732396,
          35.04827586206896,
          42.849137931034484,
          40.36220472440945,
          33.27972027972028,
          47.36032388663968,
          40.566523605150216,
          30.540372670807454,
          45.247933884297524,
          32.71951219512195,
          27.38888888888889,
          33.92156862745098,
          3.6,
          12.707317073170731,
          42.782442748091604,
          27.253731343283583,
          22.558823529411764,
          40.12765957446808,
          25.18974358974359,
          35.19724770642202,
          28.939814814814813,
          32.15873015873016,
          31.336405529953918,
          29.643939393939394,
          33.69711538461539,
          22.933673469387756,
          33.842592592592595,
          27.71153846153846,
          31.48936170212766,
          30.308139534883722,
          30.605405405405406,
          31.224489795918366,
          33.04032258064516,
          25.43062200956938,
          34.376344086021504,
          38.26943005181347,
          24.697183098591548,
          37.11904761904762,
          40.65405405405406,
          28.243697478991596,
          36.01140684410647,
          23.161290322580644,
          32.07746478873239,
          29.36,
          43.1900826446281,
          36.054794520547944,
          23.973684210526315,
          46.142857142857146,
          27.048387096774192,
          31.64814814814815,
          29.846625766871167,
          31.61392405063291,
          30.43362831858407,
          29.145539906103288,
          33.291666666666664,
          23.897196261682243,
          20.12578616352201,
          24.580645161290324,
          33.67364016736402,
          41.0609756097561,
          37.87596899224806,
          25.979591836734695,
          42.18666666666667,
          34.89340101522843,
          21.253012048192772,
          31.983333333333334,
          26.25462962962963,
          25.482142857142858,
          24.762295081967213,
          32.03787878787879,
          33.91935483870968,
          31.984455958549223,
          35.265625,
          28.420091324200914,
          34.31944444444444,
          33.06741573033708,
          17.13274336283186,
          23.682795698924732,
          27.67105263157895,
          27.037190082644628,
          27.48562300319489,
          20.68243243243243,
          21.75229357798165,
          26.866071428571427,
          11.826530612244898,
          17.27461139896373,
          26.006410256410255,
          22.094240837696336,
          25.846534653465348,
          24.446540880503143,
          28.319327731092436,
          24.138461538461538,
          27.24413145539906,
          17.825757575757574,
          22.754208754208754,
          27.925619834710744,
          26.65432098765432,
          17.664383561643834,
          32.89820359281437,
          27.288888888888888,
          22.15137614678899,
          13.802919708029197,
          27.190243902439025,
          32.758426966292134,
          12.692307692307692,
          30.152173913043477,
          26.760233918128655,
          30.265560165975103,
          18.178571428571427,
          33.74626865671642,
          34.564516129032256,
          22.246636771300448,
          16.117283950617285,
          30.01923076923077,
          33.33990147783251,
          21.412844036697248,
          32.93675889328063,
          25.16025641025641,
          29.990610328638496,
          30.02469135802469,
          32.55944055944056,
          33.25179856115108,
          37.61635220125786,
          32.579268292682926,
          32.61224489795919,
          16.855172413793102,
          37.44444444444444,
          26.434285714285714,
          35.40449438202247,
          29.315589353612168,
          25.201219512195124,
          32.578947368421055,
          24.335195530726256,
          27.26775956284153,
          30.239583333333332,
          15.878205128205128,
          32.74339622641509,
          38.67857142857143,
          32.60897435897436,
          19.527093596059114,
          30.82162162162162,
          27.52258064516129,
          33.78599221789883,
          27.011173184357542,
          36.27272727272727,
          35.1875,
          35.319148936170215,
          29.133333333333333,
          19.21527777777778,
          29.458955223880597,
          32.900763358778626,
          26.78767123287671,
          21.86,
          22.841772151898734,
          25.514705882352942,
          30.541322314049587,
          36.56053811659193,
          32.6078431372549,
          21.242268041237114,
          33.074074074074076,
          31.708333333333332,
          30.57046979865772,
          31.56149732620321,
          30.07547169811321,
          32.36879432624114,
          27.76,
          34.547528517110266,
          25.055944055944057,
          25.214285714285715,
          40.19170984455958,
          35.31395348837209,
          28.711627906976744,
          36.59126984126984,
          34.768382352941174,
          13.705357142857142,
          33.14912280701754,
          34.421965317919074,
          24.628440366972477,
          43.13559322033898,
          23.740425531914894,
          36.11940298507463,
          23.590476190476192,
          37.9296875,
          21.634285714285713,
          36.99074074074074,
          30.606896551724137,
          41.354497354497354,
          47.41085271317829,
          43.354330708661415,
          38.732394366197184,
          30.77578475336323,
          38.189189189189186,
          31.437908496732025,
          27.867549668874172,
          36.51086956521739,
          44.032863849765256,
          23.675,
          33.57510729613734,
          22.77777777777778,
          54.50837988826816,
          34.663101604278076,
          29.16759776536313,
          43.44086021505376,
          38.95631067961165,
          28.666666666666668,
          39.24226804123711,
          29.10648148148148,
          38.80753138075314,
          45.116883116883116,
          26.78846153846154,
          28.987951807228917,
          18.083870967741934,
          38.7890625,
          39.66798418972332,
          47.392405063291136,
          47.049429657794676,
          29.13991769547325,
          41.338541666666664,
          39.339285714285715,
          47.07174887892376,
          38.764367816091955,
          32.1063829787234,
          27.15527950310559,
          41.758893280632414,
          33.994680851063826,
          37.16778523489933,
          38.238297872340425,
          36.22171945701358,
          45.81212121212121,
          31.63888888888889,
          37.485849056603776,
          21.556451612903224,
          26.86904761904762,
          46.0709219858156,
          42.973094170403584,
          33.57142857142857,
          43.59615384615385,
          36.00869565217391,
          34.54504504504504,
          36.730593607305934,
          31.550898203592816,
          47.13716814159292,
          44.161572052401745,
          42.52284263959391,
          47.481283422459896,
          43.16931216931217,
          45.30888030888031,
          49.51464435146443,
          35.710407239819006,
          32.86666666666667,
          27.19634703196347,
          42.107883817427386,
          36.1968085106383,
          38.3235294117647,
          51.72047244094488,
          29.70149253731343,
          41.64,
          43.77651515151515,
          35.90272373540856,
          40.35267857142857,
          36.15294117647059,
          33.89080459770115,
          32.54716981132076,
          45.096916299559474,
          27.78030303030303,
          36.54022988505747,
          34.20816326530612,
          44.502857142857145,
          45.26896551724138,
          45.76518218623482,
          24.536312849162012,
          34.622950819672134,
          31.577464788732396,
          30.590243902439024,
          23.933673469387756,
          49.96376811594203,
          31.885572139303484,
          38.934615384615384,
          34.32275132275132,
          37.12135922330097,
          44.45059288537549,
          29.69,
          29.013761467889907,
          40.586854460093896,
          35.99310344827586,
          38.839285714285715,
          31.539267015706805,
          32.1953125,
          42.91869918699187,
          26.640625,
          43.52808988764045,
          44.54891304347826,
          52.256038647343,
          30.438095238095237,
          38.785714285714285,
          30.928571428571427,
          34.027522935779814,
          30.878260869565217,
          49.15151515151515,
          34.93464052287582,
          39.22282608695652,
          48.44117647058823,
          42.71206225680934,
          36.77720207253886,
          50.887005649717516,
          35.58064516129032,
          47.85096153846154,
          35.93478260869565,
          48.13170731707317,
          33.03389830508475,
          31.806122448979593,
          20.462962962962962,
          43.705069124423964,
          38.22099447513812,
          29.176029962546817,
          36.28915662650602,
          45.77651515151515,
          49.86666666666667,
          48.79050279329609,
          42.30379746835443,
          36.5990990990991,
          55.056,
          45.95925925925926,
          45.04040404040404,
          43.15862068965517,
          34.486363636363635,
          45.47641509433962,
          27.085714285714285,
          40.77431906614786,
          48.33201581027668,
          42.833333333333336,
          37.724890829694324,
          34.2961373390558,
          50.23870967741936,
          45.516746411483254,
          28.7680412371134,
          39.93427230046948,
          26.343949044585987,
          35.16595744680851,
          45.73762376237624,
          38.25,
          50.504950495049506,
          41.78544061302682,
          48.20912547528517,
          41.205,
          40.76262626262626,
          44.883720930232556,
          35.08510638297872,
          38.12173913043478,
          37.89473684210526,
          42.007751937984494,
          40.663366336633665,
          40.87603305785124,
          45.14572864321608,
          38.36129032258064,
          41.95918367346939,
          34.81609195402299,
          46.898305084745765,
          43.56345177664975,
          39.57587548638132,
          30.333333333333332,
          46.77067669172932,
          54.695402298850574,
          44,
          46.86697247706422,
          40.071698113207546,
          42.785714285714285,
          43.49236641221374,
          45.52229299363057,
          42.20779220779221,
          27.983333333333334,
          40.96363636363636,
          23.079754601226995,
          49.650190114068444,
          52.072463768115945,
          48.48837209302326,
          36.861635220125784,
          40.988416988416986,
          45.466981132075475,
          37.584070796460175,
          31.753424657534246,
          52.41379310344828,
          13.397435897435898,
          42.18857142857143,
          38.419117647058826,
          44.789855072463766,
          42.493562231759654,
          38.78604651162791,
          46.58893280632411,
          42.333333333333336,
          31.224806201550386,
          44.670967741935485,
          37.93636363636364,
          56.333333333333336,
          43.357142857142854,
          30.91346153846154,
          49.7859778597786,
          35.98295454545455,
          35.58940397350993,
          37.76381909547739,
          33.9080459770115,
          43.44979919678715,
          46.330882352941174,
          43.73684210526316,
          33.03414634146341,
          33.5,
          35.382165605095544,
          33.80888888888889,
          43.16867469879518,
          44.59514170040486,
          40.10322580645161,
          33.828125,
          43.94758064516129,
          33.78947368421053,
          39.298611111111114,
          33.33609958506224
         ],
         "xaxis": "x",
         "yaxis": "y"
        }
       ],
       "layout": {
        "barmode": "relative",
        "legend": {
         "title": {
          "text": "variable"
         },
         "tracegroupgap": 0
        },
        "template": {
         "data": {
          "bar": [
           {
            "error_x": {
             "color": "#2a3f5f"
            },
            "error_y": {
             "color": "#2a3f5f"
            },
            "marker": {
             "line": {
              "color": "#E5ECF6",
              "width": 0.5
             },
             "pattern": {
              "fillmode": "overlay",
              "size": 10,
              "solidity": 0.2
             }
            },
            "type": "bar"
           }
          ],
          "barpolar": [
           {
            "marker": {
             "line": {
              "color": "#E5ECF6",
              "width": 0.5
             },
             "pattern": {
              "fillmode": "overlay",
              "size": 10,
              "solidity": 0.2
             }
            },
            "type": "barpolar"
           }
          ],
          "carpet": [
           {
            "aaxis": {
             "endlinecolor": "#2a3f5f",
             "gridcolor": "white",
             "linecolor": "white",
             "minorgridcolor": "white",
             "startlinecolor": "#2a3f5f"
            },
            "baxis": {
             "endlinecolor": "#2a3f5f",
             "gridcolor": "white",
             "linecolor": "white",
             "minorgridcolor": "white",
             "startlinecolor": "#2a3f5f"
            },
            "type": "carpet"
           }
          ],
          "choropleth": [
           {
            "colorbar": {
             "outlinewidth": 0,
             "ticks": ""
            },
            "type": "choropleth"
           }
          ],
          "contour": [
           {
            "colorbar": {
             "outlinewidth": 0,
             "ticks": ""
            },
            "colorscale": [
             [
              0,
              "#0d0887"
             ],
             [
              0.1111111111111111,
              "#46039f"
             ],
             [
              0.2222222222222222,
              "#7201a8"
             ],
             [
              0.3333333333333333,
              "#9c179e"
             ],
             [
              0.4444444444444444,
              "#bd3786"
             ],
             [
              0.5555555555555556,
              "#d8576b"
             ],
             [
              0.6666666666666666,
              "#ed7953"
             ],
             [
              0.7777777777777778,
              "#fb9f3a"
             ],
             [
              0.8888888888888888,
              "#fdca26"
             ],
             [
              1,
              "#f0f921"
             ]
            ],
            "type": "contour"
           }
          ],
          "contourcarpet": [
           {
            "colorbar": {
             "outlinewidth": 0,
             "ticks": ""
            },
            "type": "contourcarpet"
           }
          ],
          "heatmap": [
           {
            "colorbar": {
             "outlinewidth": 0,
             "ticks": ""
            },
            "colorscale": [
             [
              0,
              "#0d0887"
             ],
             [
              0.1111111111111111,
              "#46039f"
             ],
             [
              0.2222222222222222,
              "#7201a8"
             ],
             [
              0.3333333333333333,
              "#9c179e"
             ],
             [
              0.4444444444444444,
              "#bd3786"
             ],
             [
              0.5555555555555556,
              "#d8576b"
             ],
             [
              0.6666666666666666,
              "#ed7953"
             ],
             [
              0.7777777777777778,
              "#fb9f3a"
             ],
             [
              0.8888888888888888,
              "#fdca26"
             ],
             [
              1,
              "#f0f921"
             ]
            ],
            "type": "heatmap"
           }
          ],
          "heatmapgl": [
           {
            "colorbar": {
             "outlinewidth": 0,
             "ticks": ""
            },
            "colorscale": [
             [
              0,
              "#0d0887"
             ],
             [
              0.1111111111111111,
              "#46039f"
             ],
             [
              0.2222222222222222,
              "#7201a8"
             ],
             [
              0.3333333333333333,
              "#9c179e"
             ],
             [
              0.4444444444444444,
              "#bd3786"
             ],
             [
              0.5555555555555556,
              "#d8576b"
             ],
             [
              0.6666666666666666,
              "#ed7953"
             ],
             [
              0.7777777777777778,
              "#fb9f3a"
             ],
             [
              0.8888888888888888,
              "#fdca26"
             ],
             [
              1,
              "#f0f921"
             ]
            ],
            "type": "heatmapgl"
           }
          ],
          "histogram": [
           {
            "marker": {
             "pattern": {
              "fillmode": "overlay",
              "size": 10,
              "solidity": 0.2
             }
            },
            "type": "histogram"
           }
          ],
          "histogram2d": [
           {
            "colorbar": {
             "outlinewidth": 0,
             "ticks": ""
            },
            "colorscale": [
             [
              0,
              "#0d0887"
             ],
             [
              0.1111111111111111,
              "#46039f"
             ],
             [
              0.2222222222222222,
              "#7201a8"
             ],
             [
              0.3333333333333333,
              "#9c179e"
             ],
             [
              0.4444444444444444,
              "#bd3786"
             ],
             [
              0.5555555555555556,
              "#d8576b"
             ],
             [
              0.6666666666666666,
              "#ed7953"
             ],
             [
              0.7777777777777778,
              "#fb9f3a"
             ],
             [
              0.8888888888888888,
              "#fdca26"
             ],
             [
              1,
              "#f0f921"
             ]
            ],
            "type": "histogram2d"
           }
          ],
          "histogram2dcontour": [
           {
            "colorbar": {
             "outlinewidth": 0,
             "ticks": ""
            },
            "colorscale": [
             [
              0,
              "#0d0887"
             ],
             [
              0.1111111111111111,
              "#46039f"
             ],
             [
              0.2222222222222222,
              "#7201a8"
             ],
             [
              0.3333333333333333,
              "#9c179e"
             ],
             [
              0.4444444444444444,
              "#bd3786"
             ],
             [
              0.5555555555555556,
              "#d8576b"
             ],
             [
              0.6666666666666666,
              "#ed7953"
             ],
             [
              0.7777777777777778,
              "#fb9f3a"
             ],
             [
              0.8888888888888888,
              "#fdca26"
             ],
             [
              1,
              "#f0f921"
             ]
            ],
            "type": "histogram2dcontour"
           }
          ],
          "mesh3d": [
           {
            "colorbar": {
             "outlinewidth": 0,
             "ticks": ""
            },
            "type": "mesh3d"
           }
          ],
          "parcoords": [
           {
            "line": {
             "colorbar": {
              "outlinewidth": 0,
              "ticks": ""
             }
            },
            "type": "parcoords"
           }
          ],
          "pie": [
           {
            "automargin": true,
            "type": "pie"
           }
          ],
          "scatter": [
           {
            "fillpattern": {
             "fillmode": "overlay",
             "size": 10,
             "solidity": 0.2
            },
            "type": "scatter"
           }
          ],
          "scatter3d": [
           {
            "line": {
             "colorbar": {
              "outlinewidth": 0,
              "ticks": ""
             }
            },
            "marker": {
             "colorbar": {
              "outlinewidth": 0,
              "ticks": ""
             }
            },
            "type": "scatter3d"
           }
          ],
          "scattercarpet": [
           {
            "marker": {
             "colorbar": {
              "outlinewidth": 0,
              "ticks": ""
             }
            },
            "type": "scattercarpet"
           }
          ],
          "scattergeo": [
           {
            "marker": {
             "colorbar": {
              "outlinewidth": 0,
              "ticks": ""
             }
            },
            "type": "scattergeo"
           }
          ],
          "scattergl": [
           {
            "marker": {
             "colorbar": {
              "outlinewidth": 0,
              "ticks": ""
             }
            },
            "type": "scattergl"
           }
          ],
          "scattermapbox": [
           {
            "marker": {
             "colorbar": {
              "outlinewidth": 0,
              "ticks": ""
             }
            },
            "type": "scattermapbox"
           }
          ],
          "scatterpolar": [
           {
            "marker": {
             "colorbar": {
              "outlinewidth": 0,
              "ticks": ""
             }
            },
            "type": "scatterpolar"
           }
          ],
          "scatterpolargl": [
           {
            "marker": {
             "colorbar": {
              "outlinewidth": 0,
              "ticks": ""
             }
            },
            "type": "scatterpolargl"
           }
          ],
          "scatterternary": [
           {
            "marker": {
             "colorbar": {
              "outlinewidth": 0,
              "ticks": ""
             }
            },
            "type": "scatterternary"
           }
          ],
          "surface": [
           {
            "colorbar": {
             "outlinewidth": 0,
             "ticks": ""
            },
            "colorscale": [
             [
              0,
              "#0d0887"
             ],
             [
              0.1111111111111111,
              "#46039f"
             ],
             [
              0.2222222222222222,
              "#7201a8"
             ],
             [
              0.3333333333333333,
              "#9c179e"
             ],
             [
              0.4444444444444444,
              "#bd3786"
             ],
             [
              0.5555555555555556,
              "#d8576b"
             ],
             [
              0.6666666666666666,
              "#ed7953"
             ],
             [
              0.7777777777777778,
              "#fb9f3a"
             ],
             [
              0.8888888888888888,
              "#fdca26"
             ],
             [
              1,
              "#f0f921"
             ]
            ],
            "type": "surface"
           }
          ],
          "table": [
           {
            "cells": {
             "fill": {
              "color": "#EBF0F8"
             },
             "line": {
              "color": "white"
             }
            },
            "header": {
             "fill": {
              "color": "#C8D4E3"
             },
             "line": {
              "color": "white"
             }
            },
            "type": "table"
           }
          ]
         },
         "layout": {
          "annotationdefaults": {
           "arrowcolor": "#2a3f5f",
           "arrowhead": 0,
           "arrowwidth": 1
          },
          "autotypenumbers": "strict",
          "coloraxis": {
           "colorbar": {
            "outlinewidth": 0,
            "ticks": ""
           }
          },
          "colorscale": {
           "diverging": [
            [
             0,
             "#8e0152"
            ],
            [
             0.1,
             "#c51b7d"
            ],
            [
             0.2,
             "#de77ae"
            ],
            [
             0.3,
             "#f1b6da"
            ],
            [
             0.4,
             "#fde0ef"
            ],
            [
             0.5,
             "#f7f7f7"
            ],
            [
             0.6,
             "#e6f5d0"
            ],
            [
             0.7,
             "#b8e186"
            ],
            [
             0.8,
             "#7fbc41"
            ],
            [
             0.9,
             "#4d9221"
            ],
            [
             1,
             "#276419"
            ]
           ],
           "sequential": [
            [
             0,
             "#0d0887"
            ],
            [
             0.1111111111111111,
             "#46039f"
            ],
            [
             0.2222222222222222,
             "#7201a8"
            ],
            [
             0.3333333333333333,
             "#9c179e"
            ],
            [
             0.4444444444444444,
             "#bd3786"
            ],
            [
             0.5555555555555556,
             "#d8576b"
            ],
            [
             0.6666666666666666,
             "#ed7953"
            ],
            [
             0.7777777777777778,
             "#fb9f3a"
            ],
            [
             0.8888888888888888,
             "#fdca26"
            ],
            [
             1,
             "#f0f921"
            ]
           ],
           "sequentialminus": [
            [
             0,
             "#0d0887"
            ],
            [
             0.1111111111111111,
             "#46039f"
            ],
            [
             0.2222222222222222,
             "#7201a8"
            ],
            [
             0.3333333333333333,
             "#9c179e"
            ],
            [
             0.4444444444444444,
             "#bd3786"
            ],
            [
             0.5555555555555556,
             "#d8576b"
            ],
            [
             0.6666666666666666,
             "#ed7953"
            ],
            [
             0.7777777777777778,
             "#fb9f3a"
            ],
            [
             0.8888888888888888,
             "#fdca26"
            ],
            [
             1,
             "#f0f921"
            ]
           ]
          },
          "colorway": [
           "#636efa",
           "#EF553B",
           "#00cc96",
           "#ab63fa",
           "#FFA15A",
           "#19d3f3",
           "#FF6692",
           "#B6E880",
           "#FF97FF",
           "#FECB52"
          ],
          "font": {
           "color": "#2a3f5f"
          },
          "geo": {
           "bgcolor": "white",
           "lakecolor": "white",
           "landcolor": "#E5ECF6",
           "showlakes": true,
           "showland": true,
           "subunitcolor": "white"
          },
          "hoverlabel": {
           "align": "left"
          },
          "hovermode": "closest",
          "mapbox": {
           "style": "light"
          },
          "paper_bgcolor": "white",
          "plot_bgcolor": "#E5ECF6",
          "polar": {
           "angularaxis": {
            "gridcolor": "white",
            "linecolor": "white",
            "ticks": ""
           },
           "bgcolor": "#E5ECF6",
           "radialaxis": {
            "gridcolor": "white",
            "linecolor": "white",
            "ticks": ""
           }
          },
          "scene": {
           "xaxis": {
            "backgroundcolor": "#E5ECF6",
            "gridcolor": "white",
            "gridwidth": 2,
            "linecolor": "white",
            "showbackground": true,
            "ticks": "",
            "zerolinecolor": "white"
           },
           "yaxis": {
            "backgroundcolor": "#E5ECF6",
            "gridcolor": "white",
            "gridwidth": 2,
            "linecolor": "white",
            "showbackground": true,
            "ticks": "",
            "zerolinecolor": "white"
           },
           "zaxis": {
            "backgroundcolor": "#E5ECF6",
            "gridcolor": "white",
            "gridwidth": 2,
            "linecolor": "white",
            "showbackground": true,
            "ticks": "",
            "zerolinecolor": "white"
           }
          },
          "shapedefaults": {
           "line": {
            "color": "#2a3f5f"
           }
          },
          "ternary": {
           "aaxis": {
            "gridcolor": "white",
            "linecolor": "white",
            "ticks": ""
           },
           "baxis": {
            "gridcolor": "white",
            "linecolor": "white",
            "ticks": ""
           },
           "bgcolor": "#E5ECF6",
           "caxis": {
            "gridcolor": "white",
            "linecolor": "white",
            "ticks": ""
           }
          },
          "title": {
           "x": 0.05
          },
          "xaxis": {
           "automargin": true,
           "gridcolor": "white",
           "linecolor": "white",
           "ticks": "",
           "title": {
            "standoff": 15
           },
           "zerolinecolor": "white",
           "zerolinewidth": 2
          },
          "yaxis": {
           "automargin": true,
           "gridcolor": "white",
           "linecolor": "white",
           "ticks": "",
           "title": {
            "standoff": 15
           },
           "zerolinecolor": "white",
           "zerolinewidth": 2
          }
         }
        },
        "title": {
         "text": "cytoplasm_calbindin_avg_int_in_CA"
        },
        "xaxis": {
         "anchor": "y",
         "domain": [
          0,
          1
         ],
         "range": [
          0,
          255
         ],
         "title": {
          "text": "cytoplasm_calbindin_avg_int"
         }
        },
        "yaxis": {
         "anchor": "x",
         "domain": [
          0,
          1
         ],
         "title": {
          "text": "count"
         }
        }
       }
      }
     },
     "metadata": {},
     "output_type": "display_data"
    },
    {
     "data": {
      "application/vnd.plotly.v1+json": {
       "config": {
        "plotlyServerURL": "https://plot.ly"
       },
       "data": [
        {
         "alignmentgroup": "True",
         "bingroup": "x",
         "hovertemplate": "variable=cytoplasm_calbindin_avg_int<br>cytoplasm_calbindin_avg_int=%{x}<br>count=%{y}<extra></extra>",
         "legendgroup": "cytoplasm_calbindin_avg_int",
         "marker": {
          "color": "#636efa",
          "pattern": {
           "shape": ""
          }
         },
         "name": "cytoplasm_calbindin_avg_int",
         "nbinsx": 256,
         "offsetgroup": "cytoplasm_calbindin_avg_int",
         "orientation": "v",
         "showlegend": true,
         "type": "histogram",
         "x": [
          10.096,
          14.647058823529411,
          21,
          32.146596858638745,
          14.793893129770993,
          45.43478260869565,
          27.54225352112676,
          35.88356164383562,
          50.90728476821192,
          14.587155963302752,
          27.4,
          23.02247191011236,
          43.69230769230769,
          16.607843137254903,
          16.155339805825243,
          26.86875,
          41.66451612903226,
          22.92207792207792,
          39.125,
          22.00578034682081,
          34.25806451612903,
          35.795918367346935,
          18.83050847457627,
          14.881987577639752,
          25.7012987012987,
          17.796610169491526,
          11.208955223880597,
          10.553571428571429,
          13.797619047619047,
          59.92372881355932,
          24.87878787878788,
          33.773809523809526,
          14.932432432432432,
          21.76086956521739,
          32.89385474860335,
          20.690322580645162,
          51.25,
          13.4,
          20.377551020408163,
          24.976744186046513,
          13.107843137254902,
          9.919540229885058,
          30.027027027027028,
          6.477064220183486,
          9.585365853658537,
          8.136842105263158,
          10.85897435897436,
          7.300970873786408,
          31.704545454545453,
          48.910714285714285,
          6.384615384615385,
          21.08609271523179,
          13.272727272727273,
          32.173469387755105,
          43.15,
          8.503937007874017,
          12.606060606060606,
          20.369565217391305,
          17.19083969465649,
          19.84873949579832,
          61.84324324324324,
          7.057142857142857,
          13.63953488372093,
          12.25,
          8.128712871287128,
          40,
          45.074829931972786,
          32.666666666666664,
          40.01648351648352,
          60.88235294117647,
          7.926470588235294,
          9.3,
          7.612244897959184,
          15.54054054054054,
          13.725274725274724,
          15.885245901639344,
          10.714285714285714,
          16.205298013245034,
          7.280373831775701,
          45.602739726027394,
          7.081081081081081,
          29.6046511627907,
          13.524137931034483,
          65.93859649122807,
          15.465648854961833,
          10.255172413793103,
          15.691056910569106,
          23.26241134751773,
          8.069230769230769,
          5.106060606060606,
          47.16428571428571,
          26.98936170212766,
          10.839285714285714,
          22.23611111111111,
          9.701149425287356,
          14.748148148148148,
          12.858490566037736,
          30.71900826446281,
          7.235955056179775,
          21.614035087719298,
          47.56310679611651,
          23.304347826086957,
          14.984848484848484,
          18.333333333333332,
          8.04054054054054,
          22.5125,
          14.23611111111111,
          25.425,
          31.127659574468087,
          34.407407407407405,
          10.578947368421053,
          21.563636363636363,
          12.402439024390244,
          8.743119266055047,
          15.567164179104477,
          24.528455284552845,
          31.884615384615383,
          34.287234042553195,
          21.416107382550337,
          22.808695652173913,
          15.701149425287356,
          16.615384615384617,
          30.44,
          11.075471698113208,
          6.320754716981132,
          17.805825242718445,
          15.097826086956522,
          11.018018018018019,
          16.070588235294117,
          12.339449541284404,
          28.11377245508982,
          44.87735849056604,
          19.682926829268293,
          10.965277777777779,
          24.81188118811881,
          44.26237623762376,
          9.142857142857142,
          28.70940170940171,
          10.22754491017964,
          15.518248175182482,
          9.543478260869565,
          8.361702127659575,
          16.242424242424242,
          12.58695652173913,
          8.165354330708661,
          12.777777777777779,
          8.057142857142857,
          26.047619047619047,
          67.08064516129032,
          39.142857142857146,
          7.425925925925926,
          26.734939759036145,
          31.336206896551722,
          32.81609195402299,
          8.427480916030534,
          9.56842105263158,
          9.121495327102803,
          30.47482014388489,
          18.68235294117647,
          14.22,
          21.736263736263737,
          32.411764705882355,
          19.86904761904762,
          20.31111111111111,
          52.8968253968254,
          30.613333333333333,
          11.344827586206897,
          13.357142857142858,
          11.868421052631579,
          37.747058823529414,
          27.583333333333332,
          13.586776859504132,
          10.195652173913043,
          18.18320610687023,
          12.434343434343434,
          27.616438356164384,
          32.527027027027025,
          23.72289156626506,
          19.982905982905983,
          23.129310344827587,
          61.17142857142857,
          71.48979591836735,
          32.527272727272724,
          11.586776859504132,
          8.825581395348838,
          12.469565217391304,
          40.45794392523364,
          20.866666666666667,
          8.672566371681416,
          25.216666666666665,
          26.017857142857142,
          54.80451127819549,
          10.329113924050633,
          7.666666666666667,
          19.057692307692307,
          33.795918367346935,
          9.485714285714286,
          16.64367816091954,
          18.316239316239315,
          9.384615384615385,
          51.123655913978496,
          14.813186813186814,
          20.416666666666668,
          25.673076923076923,
          21.553571428571427,
          3.0303030303030303,
          69.07352941176471,
          40.527472527472526,
          13.424657534246576,
          26.34090909090909,
          27.826446280991735,
          10.284403669724771,
          28.742424242424242,
          17.94495412844037,
          12.63,
          43.467213114754095,
          58.71666666666667,
          7.087837837837838,
          17.29850746268657,
          14.017241379310345,
          15.483870967741936,
          15.300653594771243,
          16.863247863247864,
          24.773722627737225,
          15.331428571428571,
          8.183206106870228,
          17.38961038961039,
          30.193877551020407,
          59.76767676767677,
          19.512345679012345,
          16.073333333333334,
          21.23780487804878,
          17.506849315068493,
          19.503937007874015,
          27.85576923076923,
          33.4822695035461,
          21.057971014492754,
          9.87012987012987,
          18.474137931034484,
          44,
          20.12,
          25.258823529411764,
          41.50847457627118,
          28.298850574712645,
          15.20353982300885,
          17.075757575757574,
          55.56172839506173,
          20.65891472868217,
          25.805309734513273,
          22.415204678362574,
          15.265822784810126,
          9.535714285714286,
          26.395833333333332,
          10.832,
          12.675862068965516,
          13.830188679245284,
          41.78333333333333,
          36.067669172932334,
          19.424242424242426,
          10.63963963963964,
          12.514492753623188,
          12.672268907563025,
          22.70940170940171,
          12.527950310559007,
          45.68556701030928,
          18.139130434782608,
          15.34020618556701,
          11.037313432835822,
          52.5625,
          17.580952380952382,
          27.523076923076925,
          14.743421052631579,
          11.475728155339805,
          12.436170212765957,
          40.04347826086956,
          14.03968253968254,
          9.534090909090908,
          16.953333333333333,
          42.8421052631579,
          14.597938144329897,
          26.833333333333332,
          47.541666666666664,
          26.79375,
          18.85,
          10.058823529411764,
          19.65979381443299,
          70.52229299363057,
          13.090909090909092,
          12.524590163934427,
          43.5,
          4.801526717557252,
          7.324324324324325,
          23.93859649122807,
          50.63559322033898,
          9.205673758865249,
          26.666666666666668,
          15.966386554621849,
          23.46825396825397,
          10.223300970873787,
          19.53846153846154,
          21.157894736842106,
          33.07339449541284,
          29.680851063829788,
          43.357142857142854,
          10.708333333333334,
          26.08433734939759,
          11.912698412698413,
          26.282828282828284,
          11.72289156626506,
          52.77710843373494,
          25.2,
          16.20618556701031,
          23.135922330097088,
          14.829457364341085,
          11.676470588235293,
          28.10126582278481,
          11.246753246753247,
          17.093023255813954,
          15.191176470588236,
          39.980582524271846,
          7.217948717948718,
          27.177570093457945,
          27.168316831683168,
          18.586206896551722,
          16.451923076923077,
          9.392857142857142,
          30.76923076923077,
          21.976470588235294,
          16.40776699029126,
          23.12,
          11.69,
          15.561904761904762,
          48.55862068965517,
          36.18627450980392,
          14.616161616161616,
          9.186813186813186,
          17.47826086956522,
          10.87962962962963,
          42.03921568627451,
          18.545454545454547,
          26.208333333333332,
          43.2,
          17.329545454545453,
          26.869230769230768,
          15.882352941176471,
          22.771428571428572,
          16.28,
          13.05691056910569,
          12.641221374045802,
          24.913978494623656,
          16.311475409836067,
          8.38125,
          58.57575757575758,
          36.24691358024691,
          19.18881118881119,
          17.155172413793103,
          7.336842105263158,
          30.125,
          11.2,
          14.509677419354839,
          35.00990099009901,
          16.96946564885496,
          38.839572192513366,
          24.504,
          57.65584415584416,
          19.746268656716417,
          11.012345679012345,
          9.825688073394495,
          17.228571428571428,
          14.340425531914894,
          21.78616352201258,
          13.11111111111111,
          22.375,
          11.611940298507463,
          17.10958904109589,
          18.858823529411765,
          25.11764705882353,
          17.666666666666668,
          24.429906542056074,
          69.66666666666667,
          32.343434343434346,
          58.920245398773005,
          7.771929824561403,
          5.455696202531645,
          30.57843137254902,
          19.69503546099291,
          52.09090909090909,
          16.95402298850575,
          14.851428571428572,
          54.154411764705884,
          30.857142857142858,
          18.058333333333334,
          14.436974789915967,
          16.556338028169016,
          13.338345864661655,
          10.60204081632653,
          10.71774193548387,
          51.83516483516483,
          20.72093023255814,
          19.78448275862069,
          20.065040650406505,
          8.176470588235293,
          13.509803921568627,
          47.160493827160494,
          41.16935483870968,
          12.275862068965518,
          29.69465648854962,
          37.97,
          40.08496732026144,
          17.16949152542373,
          24.05504587155963,
          13.385714285714286,
          10.424242424242424,
          12.523255813953488,
          21.62162162162162,
          50.875,
          19.662790697674417,
          19.951923076923077,
          8.421052631578947,
          10.678571428571429,
          7.636363636363637,
          12.571428571428571,
          60.009433962264154,
          52.217948717948715,
          16.123376623376622,
          17.25874125874126,
          9.175257731958762,
          34.18333333333333,
          18.843537414965986,
          35.008620689655174,
          11.029850746268657,
          45.11224489795919,
          30.49532710280374,
          9.743119266055047,
          46.42307692307692,
          22.395061728395063,
          21.16875,
          21.27433628318584,
          19.902654867256636,
          11.329787234042554,
          26.486486486486488,
          40.172413793103445,
          6.534883720930233,
          12.354166666666666,
          51.645833333333336,
          15.561643835616438,
          13.676646706586826,
          23.22972972972973,
          48.00769230769231,
          17.88235294117647,
          46.27131782945737,
          12.391304347826088,
          31.694736842105264,
          11.708333333333334,
          47.06930693069307,
          26.692307692307693,
          53.37931034482759,
          36.71311475409836,
          32.07079646017699,
          22.034965034965033,
          17.15,
          13.717647058823529,
          55.00961538461539,
          18.85,
          55.91240875912409,
          15.26086956521739,
          26.19047619047619,
          15.317073170731707,
          14.576923076923077,
          7.032608695652174,
          28.295238095238094,
          22.755905511811022,
          10.329787234042554,
          12.232142857142858,
          18.106796116504853,
          9.487603305785123,
          31.178571428571427,
          20.575757575757574,
          47.411764705882355,
          15.732954545454545,
          14.935779816513762,
          12.666666666666666,
          16.220588235294116,
          18.53503184713376,
          51.30275229357798,
          28.486486486486488,
          13.953488372093023,
          10.136690647482014,
          18.31851851851852,
          31.967741935483872,
          17.7125,
          29.620689655172413,
          36.37096774193548,
          32.271929824561404,
          6.855555555555555,
          13.5,
          57.534246575342465,
          41.8203125,
          21.333333333333332,
          43.54666666666667,
          9.230088495575222,
          20.942857142857143,
          19.202898550724637,
          22.232876712328768,
          22.233333333333334,
          20.100775193798448,
          18.845637583892618,
          26.78640776699029,
          19.607142857142858,
          13.126315789473685,
          12.381443298969073,
          14.606741573033707,
          12.101190476190476,
          25.79020979020979,
          14.82010582010582,
          19.666666666666668,
          48.698113207547166,
          24.42,
          14.341772151898734,
          51.90243902439025,
          23.4,
          16.471910112359552,
          20.5974025974026,
          44.044444444444444,
          14.05109489051095,
          8.052238805970148,
          10.950495049504951,
          18.93125,
          14.034013605442176,
          36.09848484848485,
          37.68354430379747,
          17.80392156862745,
          47.45112781954887,
          20.649350649350648,
          54.462765957446805,
          29.03921568627451,
          10.342857142857143,
          21.683760683760685,
          10.352459016393443,
          7.417391304347826,
          12.537037037037036,
          11.192307692307692,
          29.466666666666665,
          6.945652173913044,
          27.214285714285715,
          14.579831932773109,
          19.930434782608696,
          18.303571428571427,
          34.719424460431654,
          15.942196531791907,
          32.421875,
          37.9811320754717,
          7.253731343283582,
          59.78125,
          6.5476190476190474,
          19.393617021276597,
          24.055555555555557,
          16.64367816091954,
          13.05952380952381,
          13.386075949367088,
          8.983870967741936,
          20.294117647058822,
          20.455555555555556,
          9.3,
          4.913043478260869,
          20.433333333333334,
          16.302325581395348,
          10.948387096774194,
          8.239583333333334,
          14.830188679245284,
          33.49101796407186,
          12.951923076923077,
          27.481203007518797,
          12.595238095238095,
          27.615384615384617,
          18.794642857142858,
          7.567164179104478,
          12.245098039215685,
          26.308641975308642,
          7.490196078431373,
          31.285714285714285,
          12.770992366412214,
          8.638297872340425,
          15.327868852459016,
          30.725490196078432,
          14.267857142857142,
          13.859649122807017,
          5.836363636363636,
          10.017857142857142,
          9.616279069767442,
          16.15,
          10.146341463414634,
          17.465346534653467,
          7.065217391304348,
          9.666666666666666,
          11.383928571428571,
          38.63265306122449,
          16.54237288135593,
          16.8125,
          31.114942528735632,
          11.779411764705882,
          29.56140350877193,
          11.234375,
          8.305263157894737,
          13.137614678899082,
          24.44927536231884,
          8.04054054054054,
          13.703703703703704,
          9.904761904761905,
          16.1015625,
          7.775862068965517,
          8.179245283018869,
          35.099173553719005,
          12.96938775510204,
          15.123711340206185,
          14.783216783216783,
          37.81981981981982,
          8.664383561643836,
          35.49166666666667,
          28.989247311827956,
          52.157575757575756,
          12.132075471698114,
          10.653846153846153,
          11.227722772277227,
          13.763975155279503,
          14.177966101694915,
          24.555555555555557,
          16.40909090909091,
          10.23076923076923,
          27.66304347826087,
          3.8815789473684212,
          13.160919540229886,
          21.703703703703702,
          14.26605504587156,
          40.17857142857143,
          15.526315789473685,
          34.95348837209303,
          33.207317073170735,
          8.131944444444445,
          26.08641975308642,
          10.672131147540984,
          23.471014492753625,
          12.534246575342467,
          17.21875,
          10.143939393939394,
          20.068376068376068,
          12.696551724137931,
          25.58695652173913,
          14.38888888888889,
          14.513513513513514,
          13.24,
          5.955357142857143,
          15.838028169014084,
          13.185185185185185,
          15.835443037974683,
          47.42666666666667,
          37.48,
          39.644171779141104,
          40.25714285714286,
          35.319148936170215,
          9.992592592592592,
          16.18888888888889,
          10.16504854368932,
          20.078651685393258,
          22.073684210526316,
          9.603174603174603,
          37.16111111111111,
          13.013333333333334,
          17.953488372093023,
          16.555555555555557,
          17.5177304964539,
          46.65467625899281,
          6.620689655172414,
          15.724409448818898,
          50.493975903614455,
          16.741935483870968,
          23,
          19.663793103448278,
          12.34108527131783,
          20.581818181818182,
          22.333333333333332,
          40.8,
          25.893203883495147,
          14.857142857142858,
          45.614754098360656,
          12.30232558139535,
          14.49438202247191,
          26.872093023255815,
          11.696629213483146,
          37.589285714285715,
          11.289473684210526,
          22.016806722689076,
          17.166666666666668,
          13.712328767123287,
          15.169811320754716,
          23.41747572815534,
          23.849462365591396,
          6.512195121951219,
          17.76923076923077,
          19.6,
          44.07692307692308,
          18.697916666666668,
          14.293103448275861,
          18.964912280701753,
          11.573170731707316,
          35.99009900990099,
          53.07142857142857,
          35.86538461538461,
          24.351063829787233,
          21.189473684210526,
          26.37735849056604,
          9.938931297709924,
          25.009174311926607,
          14.27659574468085,
          20.11764705882353,
          10.032967032967033,
          35.210144927536234,
          38.93129770992366,
          15.40677966101695,
          25.737704918032787,
          19.157894736842106,
          13.992805755395683,
          19.067226890756302,
          18.06086956521739,
          39.413333333333334,
          31.984615384615385,
          25.62135922330097,
          20.767241379310345,
          14.689320388349515,
          22.307692307692307,
          18.802816901408452,
          26.353982300884955,
          58.877906976744185,
          16.179775280898877,
          23.496503496503497,
          15.899328859060402,
          12.35,
          11.676470588235293,
          21.514563106796118,
          50.5,
          38.917159763313606,
          16.555555555555557,
          28.37162162162162,
          37.4,
          8.023809523809524,
          27.690265486725664,
          12.417910447761194,
          56.87341772151899,
          19.094594594594593,
          25.18064516129032,
          20.624113475177303,
          22.971153846153847,
          35.8,
          14.443478260869565,
          9.325581395348838,
          50.016949152542374,
          14.893939393939394,
          13.04516129032258,
          16.71875,
          22.9625,
          32.40495867768595,
          48.248520710059175,
          8.691176470588236,
          37.563025210084035,
          17.316901408450704,
          24.376344086021504,
          30.705882352941178,
          29.82300884955752,
          11.538461538461538,
          22.62037037037037,
          17.393548387096775,
          22.813186813186814,
          24.253333333333334,
          52.97604790419162,
          37.59154929577465,
          41.274193548387096,
          18.58888888888889,
          26.646464646464647,
          20.347560975609756,
          42.875,
          32.56521739130435,
          17.54054054054054,
          15.346534653465346,
          16.71818181818182,
          27.03614457831325,
          26.4,
          57.06153846153846,
          15,
          18.307692307692307,
          24,
          18.104895104895103,
          46.78125,
          26.169014084507044,
          25.123966942148762,
          28.65686274509804,
          21.30392156862745,
          36.154639175257735,
          16.682242990654206,
          34.264044943820224,
          15.17094017094017,
          16.11764705882353,
          41.875,
          70.2,
          28.793650793650794,
          42.17910447761194,
          13.224489795918368,
          18.71917808219178,
          32.46666666666667,
          19.37391304347826,
          11.796992481203008,
          11.781954887218046,
          14.014285714285714,
          60.94957983193277,
          51.59139784946237,
          25.76388888888889,
          47.60606060606061,
          20.792207792207794,
          18.028301886792452,
          15.347222222222221,
          50.11363636363637,
          17.575,
          27.024390243902438,
          36.148514851485146,
          16.451127819548873,
          24.197916666666668,
          12.977011494252874,
          19.448979591836736,
          14.91970802919708,
          37.965753424657535,
          13.088,
          56.55244755244755,
          12.344827586206897,
          29.44943820224719,
          16.130841121495326,
          46.30952380952381,
          27.661290322580644,
          18.29787234042553,
          22.15625,
          11.777777777777779,
          28.763157894736842,
          26.4,
          15.226190476190476,
          20.72566371681416,
          18.272727272727273,
          11.457943925233645,
          24.024793388429753,
          62.6497461928934,
          22.211382113821138,
          21.583333333333332,
          16.293478260869566,
          44.00609756097561,
          18.924050632911392,
          23.387096774193548,
          43.55434782608695,
          20.03361344537815,
          18.406417112299465,
          39.375,
          25.942622950819672,
          17.670731707317074,
          26.417910447761194,
          10.592592592592593,
          22.282608695652176,
          17.90277777777778,
          18.65573770491803,
          45.39823008849557,
          42.201492537313435,
          8.045454545454545,
          19.728813559322035,
          24.2027027027027,
          20.46031746031746,
          32.77777777777778,
          42.34782608695652,
          20.816666666666666,
          23.154716981132076,
          44.958333333333336,
          27.524475524475523,
          73.60625,
          14.707317073170731,
          19.956989247311828,
          17.673076923076923,
          40.330357142857146,
          18.89156626506024,
          44.18518518518518,
          53.06944444444444,
          40.66423357664234,
          22.60377358490566,
          26.471830985915492,
          30.881720430107528,
          34.01307189542484,
          34.85454545454545,
          20.223021582733814,
          16.822580645161292,
          40.13483146067416,
          20.688,
          22.716216216216218,
          31.310344827586206,
          27.61783439490446,
          20.428571428571427,
          33.36842105263158,
          56.76377952755905,
          15.716049382716049,
          47.29770992366412,
          23.486842105263158,
          17.788235294117648,
          19.970588235294116,
          53.64935064935065,
          36.18478260869565,
          27.727272727272727,
          25.403508771929825,
          22.703125,
          20.536,
          37.596638655462186,
          19.433962264150942,
          29.5,
          31.211111111111112,
          24.794701986754966,
          45.86708860759494,
          23.703703703703702,
          17.11881188118812,
          19.860759493670887,
          16.367346938775512,
          20.65277777777778,
          60.08403361344538,
          24.516129032258064,
          47.12837837837838,
          26.352564102564102,
          35.651785714285715,
          21.96969696969697,
          41.830882352941174,
          20.948275862068964,
          13.757352941176471,
          48.11764705882353,
          73.11702127659575,
          49.76190476190476,
          12.147058823529411,
          39.65,
          25.04032258064516,
          43.888888888888886,
          14.31,
          17.133333333333333,
          24.917355371900825,
          27.25974025974026,
          20.224137931034484,
          12.37410071942446,
          13.908333333333333,
          28.006369426751593,
          21.925925925925927,
          40.86538461538461,
          70.43243243243244,
          59.8515625,
          24.58730158730159,
          15.068965517241379,
          17.467532467532468,
          20.64,
          9.176829268292684,
          40.45762711864407,
          12.789473684210526,
          17.527397260273972,
          35.30434782608695,
          33.549019607843135,
          21.842105263157894,
          34.30555555555556,
          31.386363636363637,
          18.761904761904763,
          21.77037037037037,
          26.208695652173912,
          24.06122448979592,
          39.83116883116883,
          18.596774193548388,
          17.643356643356643,
          44.83582089552239,
          38.091743119266056,
          59.21830985915493,
          23.647058823529413,
          25.61904761904762,
          40.69230769230769,
          33.36666666666667,
          32.93069306930693,
          23.22222222222222,
          21.5472972972973,
          29.89622641509434,
          21.56953642384106,
          17.020833333333332,
          36.445378151260506,
          11.630952380952381,
          29.615384615384617,
          26.275229357798164,
          12.835714285714285,
          23.038961038961038,
          13.020833333333334,
          21.1,
          37.834782608695654,
          22.775510204081634,
          16.813333333333333,
          45.3046875,
          23.216666666666665,
          50.899521531100476,
          42.99090909090909,
          17.675675675675677,
          14.016129032258064,
          16.8768115942029,
          17.988095238095237,
          25.008,
          22.3375,
          23.97142857142857,
          21.65137614678899,
          45.24242424242424,
          50.185792349726775,
          19.807947019867548,
          22.06015037593985,
          33.56692913385827,
          23.429411764705883,
          10.192982456140351,
          42.127272727272725,
          15.18018018018018,
          41.883495145631066,
          24.52173913043478,
          31.757575757575758,
          19.96,
          22.961290322580645,
          26.41176470588235,
          20.427083333333332,
          12.738636363636363,
          19.361702127659573,
          23.233333333333334,
          17.68217054263566,
          31.71641791044776,
          31.446153846153845,
          41.907407407407405,
          19.763157894736842,
          50.541666666666664,
          21.174698795180724,
          19.690265486725664,
          28.738636363636363,
          21.020408163265305,
          21.03846153846154,
          32.01639344262295,
          16.98507462686567,
          23.580882352941178,
          22.8,
          26.29032258064516,
          22.956521739130434,
          40.37222222222222,
          30.152542372881356,
          9.857142857142858,
          40.59349593495935,
          21.15972222222222,
          14.557377049180328,
          18.71764705882353,
          21.434426229508198,
          23.479674796747968,
          17.69298245614035,
          15.5,
          18.435114503816795,
          25.24,
          25.91764705882353,
          45.89230769230769,
          18.094890510948904,
          25.769784172661872,
          32.43609022556391,
          36.11764705882353,
          27.99342105263158,
          9.964028776978417,
          38.23243243243243,
          24.3125,
          24,
          15.797979797979798,
          37.048780487804876,
          22.333333333333332,
          19.43243243243243,
          24.43801652892562,
          28.431506849315067,
          65.90229885057471,
          14.798076923076923,
          16.24137931034483,
          20.384615384615383,
          14.6,
          33.119565217391305,
          16.375,
          40.32592592592592,
          21.13,
          26.59016393442623,
          17.27536231884058,
          7.05050505050505,
          46.30882352941177,
          15.525179856115107,
          25.33974358974359,
          33.57251908396947,
          21.440366972477065,
          15.49056603773585,
          29.91891891891892,
          20.3875,
          35.53448275862069,
          20.576642335766422,
          22.14074074074074,
          14.651515151515152,
          21.618181818181817,
          30.98165137614679,
          33.9375,
          28.258992805755394,
          36.774647887323944,
          13.462882096069869,
          19.859154929577464,
          33.50847457627118,
          24.09259259259259,
          58.351190476190474,
          28.76923076923077,
          18.18235294117647,
          31.843478260869563,
          28.62589928057554,
          31.225806451612904,
          29.391304347826086,
          10.836206896551724,
          50.95,
          11.097560975609756,
          22.892857142857142,
          18.901785714285715,
          33.6,
          6.574712643678161,
          52.67272727272727,
          38.925925925925924,
          32.95333333333333,
          13.023255813953488,
          22.319634703196346,
          34.229007633587784,
          15.513513513513514,
          45.07070707070707,
          19.016,
          24.132530120481928,
          24.067961165048544,
          27.861386138613863,
          24.567307692307693,
          17.797385620915033,
          24.022727272727273,
          22.623853211009173,
          13.505376344086022,
          38.089171974522294,
          16.794117647058822,
          16.68452380952381,
          21.743589743589745,
          34.25,
          18.676470588235293,
          8.617021276595745,
          16.81578947368421,
          48.13274336283186,
          25.51388888888889,
          53.5578231292517,
          27.832,
          28.817518248175183,
          16.564356435643564,
          19.387596899224807,
          24,
          39.30769230769231,
          21.62608695652174,
          50.438202247191015,
          22.85820895522388,
          13.553846153846154,
          37.32236842105263,
          18.576470588235296,
          41.00666666666667,
          27.574468085106382,
          38.435064935064936,
          20.310344827586206,
          19.885057471264368,
          21.984962406015036,
          20.797752808988765,
          29.081818181818182,
          24.11111111111111,
          33.15862068965517,
          20.051948051948052,
          33.09090909090909,
          49.77403846153846,
          15.813725490196079,
          14.10897435897436,
          26,
          17.165137614678898,
          39.075,
          26.44078947368421,
          10.427184466019417,
          21.56779661016949,
          16.805309734513273,
          38.80952380952381,
          36.01960784313726,
          16.655172413793103,
          16.645390070921987,
          20.48148148148148,
          23.304597701149426,
          15.672897196261681,
          25.54,
          17.901515151515152,
          18,
          30.48913043478261,
          39.35344827586207,
          20.03125,
          35.37931034482759,
          19.73267326732673,
          11.94059405940594,
          17.806451612903224,
          21.70886075949367,
          24.071428571428573,
          23.27027027027027,
          19.952380952380953,
          21.392857142857142,
          23.792792792792792,
          22.54385964912281,
          23.316326530612244,
          23.363636363636363,
          20.508333333333333,
          35.00704225352113,
          48.53703703703704,
          60.19186046511628,
          19.78301886792453,
          21.649006622516556,
          22.79591836734694,
          32.598591549295776,
          20.957264957264957,
          26.483333333333334,
          27.171875,
          38.166666666666664,
          29.666666666666668,
          34.856115107913666,
          18.66216216216216,
          13.791666666666666,
          12.480519480519481,
          19.13186813186813,
          24.17910447761194,
          27.857142857142858,
          33.142857142857146,
          27.15527950310559,
          16.16867469879518,
          22.511627906976745,
          14.813725490196079,
          26.905405405405407,
          36.213592233009706,
          15.046728971962617,
          18.49230769230769,
          53.47027027027027,
          40.1578947368421,
          25.92,
          18.093525179856115,
          14.39622641509434,
          28.046875,
          19.587719298245613,
          17.005917159763314,
          21.597826086956523,
          28.779816513761467,
          23.272058823529413,
          19.984126984126984,
          17.378048780487806,
          16.83206106870229,
          9.657142857142857,
          31.174242424242426,
          15.271428571428572,
          43.78787878787879,
          18.538961038961038,
          9.949579831932773,
          22.152173913043477,
          55.03125,
          27.96153846153846,
          20.91176470588235,
          48.19580419580419,
          24.294117647058822,
          20.732394366197184,
          31.536585365853657,
          22.80821917808219,
          19.91329479768786,
          16.378947368421052,
          18.634920634920636,
          19.74380165289256,
          35.92215568862275,
          27.55944055944056,
          31.3302752293578,
          23.66990291262136,
          20.82758620689655,
          18.383333333333333,
          16.104395604395606,
          18.903614457831324,
          31.333333333333332,
          39.84615384615385,
          42.042857142857144,
          20.575,
          28.942196531791907,
          66.18041237113403,
          21.20359281437126,
          9.897810218978103,
          47.54744525547445,
          51.65413533834587,
          25.4811320754717,
          26.087209302325583,
          21.304761904761904,
          19.44943820224719,
          26.821138211382113,
          24.06153846153846,
          20.97222222222222,
          14,
          21,
          18.801652892561982,
          34.16969696969697,
          9.274193548387096,
          33.784946236559136,
          25,
          20.79741379310345,
          37.73873873873874,
          27.9438202247191,
          25.746153846153845,
          25.963768115942027,
          21.467532467532468,
          15.064516129032258,
          14.019607843137255,
          18.79381443298969,
          28.21818181818182,
          23.54945054945055,
          22.178861788617887,
          46.49689440993789,
          22.019801980198018,
          24.594594594594593,
          19.68695652173913,
          29.804878048780488,
          13.338842975206612,
          12.94059405940594,
          26.363636363636363,
          26.20967741935484,
          13.632352941176471,
          14.457142857142857,
          18.05263157894737,
          8.586206896551724,
          55.0655737704918,
          51,
          26.18285714285714,
          22.292397660818715,
          25.476635514018692,
          20.916030534351144,
          13.103703703703705,
          15.658536585365853,
          20.606936416184972,
          18.991666666666667,
          31.142857142857142,
          19.294797687861273,
          22.28368794326241,
          44.976331360946745,
          13.130434782608695,
          26.75221238938053,
          19.20812182741117,
          55.422764227642276,
          17.757575757575758,
          20.58823529411765,
          13.979166666666666,
          15.363636363636363,
          11.369047619047619,
          28.341176470588234,
          19.858156028368793,
          28.714285714285715,
          15.941747572815533,
          15.129032258064516,
          20.883211678832115,
          17.818181818181817,
          36.25,
          55.46808510638298,
          15.294117647058824,
          8.76271186440678,
          10.847457627118644,
          42.96153846153846,
          21.52820512820513,
          23.508064516129032,
          22.185185185185187,
          48.42424242424242,
          17.724137931034484,
          12.463917525773196,
          28.02857142857143,
          13.378947368421052,
          14.537313432835822,
          9.33125,
          34.26829268292683,
          19.346938775510203,
          16.69047619047619,
          47.8,
          18.0531914893617,
          15.648351648351648,
          12.760736196319018,
          37.81578947368421,
          16.784,
          19.09090909090909,
          12.053030303030303,
          26.918181818181818,
          17.536082474226806,
          17.32,
          18.533980582524272,
          20.71527777777778,
          21.990384615384617,
          18.22,
          9.37704918032787,
          11.943396226415095,
          18.12295081967213,
          14.444444444444445,
          21.360902255639097,
          10.782608695652174,
          20.813186813186814,
          32.627737226277375,
          7.825396825396825,
          15.434782608695652,
          19.857142857142858,
          11.230088495575222,
          19.5,
          26.192307692307693,
          8.857142857142858,
          12.203821656050955,
          10.632183908045977,
          13.75,
          39.792307692307695,
          15.519607843137255,
          7.3671875,
          17.724409448818896,
          18.3768115942029,
          7.52,
          24.5,
          9.890322580645162,
          17.50561797752809,
          36.88275862068966,
          11.795454545454545,
          10.669724770642201,
          9.480519480519481,
          10.623529411764705,
          15.01526717557252,
          10.712328767123287,
          6.515151515151516,
          32.21052631578947,
          6.757142857142857,
          25.796116504854368,
          16.392638036809817,
          5.686274509803922,
          8.26241134751773,
          26.67142857142857,
          8.50561797752809,
          6.181818181818182,
          1.9714285714285715,
          10.33695652173913,
          9.2109375,
          13.504273504273504,
          13.32258064516129,
          17.583333333333332,
          28.38095238095238,
          28.03125,
          13.504065040650406,
          5.5576923076923075,
          5.323170731707317,
          53.046728971962615,
          9.517241379310345,
          16.77027027027027,
          17.45578231292517,
          11.670588235294117,
          35.49640287769784,
          11.650602409638553,
          24.982608695652175,
          29.988505747126435,
          12.154545454545454,
          18.32456140350877,
          18,
          13.467213114754099,
          13.102272727272727,
          17.089385474860336,
          10.2890625,
          22.2803738317757,
          10.247706422018348,
          14.085106382978724,
          15.477777777777778,
          15.923809523809524,
          12.91891891891892,
          27.46808510638298,
          14.381679389312977,
          15.927272727272728,
          16.220183486238533,
          15.266129032258064,
          12.857142857142858,
          15.136752136752136,
          19.181286549707604,
          38.111675126903556,
          11.94392523364486,
          11.474576271186441,
          14.761111111111111,
          24.22077922077922,
          10.122302158273381,
          20.185185185185187,
          29.3768115942029,
          24.483606557377048,
          10.244444444444444,
          7.088235294117647,
          11.933884297520661,
          35.98076923076923,
          11.716216216216216,
          14.789473684210526,
          8.294117647058824,
          58.656976744186046,
          11.596153846153847,
          12.373333333333333,
          9.666666666666666,
          22.916666666666668,
          12.722222222222221,
          10.90990990990991,
          49.15183246073298,
          9.211267605633802,
          16.311827956989248,
          23.90983606557377,
          7.68,
          16.932773109243698,
          8.340909090909092,
          16.51388888888889,
          37.576470588235296,
          10.674157303370787,
          8.556701030927835,
          22.430939226519335,
          8.325581395348838,
          10.838461538461539,
          14.049586776859504,
          7.092783505154639,
          12,
          9.53012048192771,
          26.64566929133858,
          13.006410256410257,
          11.104651162790697,
          17.785714285714285,
          8.943181818181818,
          49.224043715846996,
          7.920634920634921,
          26.883495145631066,
          10.802919708029197,
          11.514018691588785,
          18.335164835164836,
          20.28235294117647,
          20.262135922330096,
          17.5,
          16.42,
          22.753968253968253,
          33.75,
          43.82539682539682,
          12.63888888888889,
          26.07246376811594,
          9.456140350877194,
          18.919354838709676,
          18.00735294117647,
          3.789473684210526,
          11.051546391752577,
          26.88,
          21.08955223880597,
          23.17989417989418,
          5.2631578947368425,
          29.7248322147651,
          28.66386554621849,
          13.473684210526315,
          12.492063492063492,
          15.727272727272727,
          21.43243243243243,
          48.522935779816514,
          9.43298969072165,
          27.25862068965517,
          44.38164251207729,
          34.3921568627451,
          20.263157894736842,
          28.82758620689655,
          14.295652173913043,
          39.89820359281437,
          15.615384615384615,
          25.175824175824175,
          17.212389380530972,
          25.811475409836067,
          17.01098901098901,
          14.01010101010101,
          17.529032258064515,
          15.279411764705882,
          18.0703125,
          40.31976744186046,
          24.98830409356725,
          36.27748691099477,
          40.08620689655172,
          41.609137055837564,
          14.830985915492958,
          30.972027972027973,
          18.426966292134832,
          18.861702127659573,
          33.28409090909091,
          14.977142857142857,
          30.577235772357724,
          15.62037037037037,
          20.03030303030303,
          21.11864406779661
         ],
         "xaxis": "x",
         "yaxis": "y"
        }
       ],
       "layout": {
        "barmode": "relative",
        "legend": {
         "title": {
          "text": "variable"
         },
         "tracegroupgap": 0
        },
        "template": {
         "data": {
          "bar": [
           {
            "error_x": {
             "color": "#2a3f5f"
            },
            "error_y": {
             "color": "#2a3f5f"
            },
            "marker": {
             "line": {
              "color": "#E5ECF6",
              "width": 0.5
             },
             "pattern": {
              "fillmode": "overlay",
              "size": 10,
              "solidity": 0.2
             }
            },
            "type": "bar"
           }
          ],
          "barpolar": [
           {
            "marker": {
             "line": {
              "color": "#E5ECF6",
              "width": 0.5
             },
             "pattern": {
              "fillmode": "overlay",
              "size": 10,
              "solidity": 0.2
             }
            },
            "type": "barpolar"
           }
          ],
          "carpet": [
           {
            "aaxis": {
             "endlinecolor": "#2a3f5f",
             "gridcolor": "white",
             "linecolor": "white",
             "minorgridcolor": "white",
             "startlinecolor": "#2a3f5f"
            },
            "baxis": {
             "endlinecolor": "#2a3f5f",
             "gridcolor": "white",
             "linecolor": "white",
             "minorgridcolor": "white",
             "startlinecolor": "#2a3f5f"
            },
            "type": "carpet"
           }
          ],
          "choropleth": [
           {
            "colorbar": {
             "outlinewidth": 0,
             "ticks": ""
            },
            "type": "choropleth"
           }
          ],
          "contour": [
           {
            "colorbar": {
             "outlinewidth": 0,
             "ticks": ""
            },
            "colorscale": [
             [
              0,
              "#0d0887"
             ],
             [
              0.1111111111111111,
              "#46039f"
             ],
             [
              0.2222222222222222,
              "#7201a8"
             ],
             [
              0.3333333333333333,
              "#9c179e"
             ],
             [
              0.4444444444444444,
              "#bd3786"
             ],
             [
              0.5555555555555556,
              "#d8576b"
             ],
             [
              0.6666666666666666,
              "#ed7953"
             ],
             [
              0.7777777777777778,
              "#fb9f3a"
             ],
             [
              0.8888888888888888,
              "#fdca26"
             ],
             [
              1,
              "#f0f921"
             ]
            ],
            "type": "contour"
           }
          ],
          "contourcarpet": [
           {
            "colorbar": {
             "outlinewidth": 0,
             "ticks": ""
            },
            "type": "contourcarpet"
           }
          ],
          "heatmap": [
           {
            "colorbar": {
             "outlinewidth": 0,
             "ticks": ""
            },
            "colorscale": [
             [
              0,
              "#0d0887"
             ],
             [
              0.1111111111111111,
              "#46039f"
             ],
             [
              0.2222222222222222,
              "#7201a8"
             ],
             [
              0.3333333333333333,
              "#9c179e"
             ],
             [
              0.4444444444444444,
              "#bd3786"
             ],
             [
              0.5555555555555556,
              "#d8576b"
             ],
             [
              0.6666666666666666,
              "#ed7953"
             ],
             [
              0.7777777777777778,
              "#fb9f3a"
             ],
             [
              0.8888888888888888,
              "#fdca26"
             ],
             [
              1,
              "#f0f921"
             ]
            ],
            "type": "heatmap"
           }
          ],
          "heatmapgl": [
           {
            "colorbar": {
             "outlinewidth": 0,
             "ticks": ""
            },
            "colorscale": [
             [
              0,
              "#0d0887"
             ],
             [
              0.1111111111111111,
              "#46039f"
             ],
             [
              0.2222222222222222,
              "#7201a8"
             ],
             [
              0.3333333333333333,
              "#9c179e"
             ],
             [
              0.4444444444444444,
              "#bd3786"
             ],
             [
              0.5555555555555556,
              "#d8576b"
             ],
             [
              0.6666666666666666,
              "#ed7953"
             ],
             [
              0.7777777777777778,
              "#fb9f3a"
             ],
             [
              0.8888888888888888,
              "#fdca26"
             ],
             [
              1,
              "#f0f921"
             ]
            ],
            "type": "heatmapgl"
           }
          ],
          "histogram": [
           {
            "marker": {
             "pattern": {
              "fillmode": "overlay",
              "size": 10,
              "solidity": 0.2
             }
            },
            "type": "histogram"
           }
          ],
          "histogram2d": [
           {
            "colorbar": {
             "outlinewidth": 0,
             "ticks": ""
            },
            "colorscale": [
             [
              0,
              "#0d0887"
             ],
             [
              0.1111111111111111,
              "#46039f"
             ],
             [
              0.2222222222222222,
              "#7201a8"
             ],
             [
              0.3333333333333333,
              "#9c179e"
             ],
             [
              0.4444444444444444,
              "#bd3786"
             ],
             [
              0.5555555555555556,
              "#d8576b"
             ],
             [
              0.6666666666666666,
              "#ed7953"
             ],
             [
              0.7777777777777778,
              "#fb9f3a"
             ],
             [
              0.8888888888888888,
              "#fdca26"
             ],
             [
              1,
              "#f0f921"
             ]
            ],
            "type": "histogram2d"
           }
          ],
          "histogram2dcontour": [
           {
            "colorbar": {
             "outlinewidth": 0,
             "ticks": ""
            },
            "colorscale": [
             [
              0,
              "#0d0887"
             ],
             [
              0.1111111111111111,
              "#46039f"
             ],
             [
              0.2222222222222222,
              "#7201a8"
             ],
             [
              0.3333333333333333,
              "#9c179e"
             ],
             [
              0.4444444444444444,
              "#bd3786"
             ],
             [
              0.5555555555555556,
              "#d8576b"
             ],
             [
              0.6666666666666666,
              "#ed7953"
             ],
             [
              0.7777777777777778,
              "#fb9f3a"
             ],
             [
              0.8888888888888888,
              "#fdca26"
             ],
             [
              1,
              "#f0f921"
             ]
            ],
            "type": "histogram2dcontour"
           }
          ],
          "mesh3d": [
           {
            "colorbar": {
             "outlinewidth": 0,
             "ticks": ""
            },
            "type": "mesh3d"
           }
          ],
          "parcoords": [
           {
            "line": {
             "colorbar": {
              "outlinewidth": 0,
              "ticks": ""
             }
            },
            "type": "parcoords"
           }
          ],
          "pie": [
           {
            "automargin": true,
            "type": "pie"
           }
          ],
          "scatter": [
           {
            "fillpattern": {
             "fillmode": "overlay",
             "size": 10,
             "solidity": 0.2
            },
            "type": "scatter"
           }
          ],
          "scatter3d": [
           {
            "line": {
             "colorbar": {
              "outlinewidth": 0,
              "ticks": ""
             }
            },
            "marker": {
             "colorbar": {
              "outlinewidth": 0,
              "ticks": ""
             }
            },
            "type": "scatter3d"
           }
          ],
          "scattercarpet": [
           {
            "marker": {
             "colorbar": {
              "outlinewidth": 0,
              "ticks": ""
             }
            },
            "type": "scattercarpet"
           }
          ],
          "scattergeo": [
           {
            "marker": {
             "colorbar": {
              "outlinewidth": 0,
              "ticks": ""
             }
            },
            "type": "scattergeo"
           }
          ],
          "scattergl": [
           {
            "marker": {
             "colorbar": {
              "outlinewidth": 0,
              "ticks": ""
             }
            },
            "type": "scattergl"
           }
          ],
          "scattermapbox": [
           {
            "marker": {
             "colorbar": {
              "outlinewidth": 0,
              "ticks": ""
             }
            },
            "type": "scattermapbox"
           }
          ],
          "scatterpolar": [
           {
            "marker": {
             "colorbar": {
              "outlinewidth": 0,
              "ticks": ""
             }
            },
            "type": "scatterpolar"
           }
          ],
          "scatterpolargl": [
           {
            "marker": {
             "colorbar": {
              "outlinewidth": 0,
              "ticks": ""
             }
            },
            "type": "scatterpolargl"
           }
          ],
          "scatterternary": [
           {
            "marker": {
             "colorbar": {
              "outlinewidth": 0,
              "ticks": ""
             }
            },
            "type": "scatterternary"
           }
          ],
          "surface": [
           {
            "colorbar": {
             "outlinewidth": 0,
             "ticks": ""
            },
            "colorscale": [
             [
              0,
              "#0d0887"
             ],
             [
              0.1111111111111111,
              "#46039f"
             ],
             [
              0.2222222222222222,
              "#7201a8"
             ],
             [
              0.3333333333333333,
              "#9c179e"
             ],
             [
              0.4444444444444444,
              "#bd3786"
             ],
             [
              0.5555555555555556,
              "#d8576b"
             ],
             [
              0.6666666666666666,
              "#ed7953"
             ],
             [
              0.7777777777777778,
              "#fb9f3a"
             ],
             [
              0.8888888888888888,
              "#fdca26"
             ],
             [
              1,
              "#f0f921"
             ]
            ],
            "type": "surface"
           }
          ],
          "table": [
           {
            "cells": {
             "fill": {
              "color": "#EBF0F8"
             },
             "line": {
              "color": "white"
             }
            },
            "header": {
             "fill": {
              "color": "#C8D4E3"
             },
             "line": {
              "color": "white"
             }
            },
            "type": "table"
           }
          ]
         },
         "layout": {
          "annotationdefaults": {
           "arrowcolor": "#2a3f5f",
           "arrowhead": 0,
           "arrowwidth": 1
          },
          "autotypenumbers": "strict",
          "coloraxis": {
           "colorbar": {
            "outlinewidth": 0,
            "ticks": ""
           }
          },
          "colorscale": {
           "diverging": [
            [
             0,
             "#8e0152"
            ],
            [
             0.1,
             "#c51b7d"
            ],
            [
             0.2,
             "#de77ae"
            ],
            [
             0.3,
             "#f1b6da"
            ],
            [
             0.4,
             "#fde0ef"
            ],
            [
             0.5,
             "#f7f7f7"
            ],
            [
             0.6,
             "#e6f5d0"
            ],
            [
             0.7,
             "#b8e186"
            ],
            [
             0.8,
             "#7fbc41"
            ],
            [
             0.9,
             "#4d9221"
            ],
            [
             1,
             "#276419"
            ]
           ],
           "sequential": [
            [
             0,
             "#0d0887"
            ],
            [
             0.1111111111111111,
             "#46039f"
            ],
            [
             0.2222222222222222,
             "#7201a8"
            ],
            [
             0.3333333333333333,
             "#9c179e"
            ],
            [
             0.4444444444444444,
             "#bd3786"
            ],
            [
             0.5555555555555556,
             "#d8576b"
            ],
            [
             0.6666666666666666,
             "#ed7953"
            ],
            [
             0.7777777777777778,
             "#fb9f3a"
            ],
            [
             0.8888888888888888,
             "#fdca26"
            ],
            [
             1,
             "#f0f921"
            ]
           ],
           "sequentialminus": [
            [
             0,
             "#0d0887"
            ],
            [
             0.1111111111111111,
             "#46039f"
            ],
            [
             0.2222222222222222,
             "#7201a8"
            ],
            [
             0.3333333333333333,
             "#9c179e"
            ],
            [
             0.4444444444444444,
             "#bd3786"
            ],
            [
             0.5555555555555556,
             "#d8576b"
            ],
            [
             0.6666666666666666,
             "#ed7953"
            ],
            [
             0.7777777777777778,
             "#fb9f3a"
            ],
            [
             0.8888888888888888,
             "#fdca26"
            ],
            [
             1,
             "#f0f921"
            ]
           ]
          },
          "colorway": [
           "#636efa",
           "#EF553B",
           "#00cc96",
           "#ab63fa",
           "#FFA15A",
           "#19d3f3",
           "#FF6692",
           "#B6E880",
           "#FF97FF",
           "#FECB52"
          ],
          "font": {
           "color": "#2a3f5f"
          },
          "geo": {
           "bgcolor": "white",
           "lakecolor": "white",
           "landcolor": "#E5ECF6",
           "showlakes": true,
           "showland": true,
           "subunitcolor": "white"
          },
          "hoverlabel": {
           "align": "left"
          },
          "hovermode": "closest",
          "mapbox": {
           "style": "light"
          },
          "paper_bgcolor": "white",
          "plot_bgcolor": "#E5ECF6",
          "polar": {
           "angularaxis": {
            "gridcolor": "white",
            "linecolor": "white",
            "ticks": ""
           },
           "bgcolor": "#E5ECF6",
           "radialaxis": {
            "gridcolor": "white",
            "linecolor": "white",
            "ticks": ""
           }
          },
          "scene": {
           "xaxis": {
            "backgroundcolor": "#E5ECF6",
            "gridcolor": "white",
            "gridwidth": 2,
            "linecolor": "white",
            "showbackground": true,
            "ticks": "",
            "zerolinecolor": "white"
           },
           "yaxis": {
            "backgroundcolor": "#E5ECF6",
            "gridcolor": "white",
            "gridwidth": 2,
            "linecolor": "white",
            "showbackground": true,
            "ticks": "",
            "zerolinecolor": "white"
           },
           "zaxis": {
            "backgroundcolor": "#E5ECF6",
            "gridcolor": "white",
            "gridwidth": 2,
            "linecolor": "white",
            "showbackground": true,
            "ticks": "",
            "zerolinecolor": "white"
           }
          },
          "shapedefaults": {
           "line": {
            "color": "#2a3f5f"
           }
          },
          "ternary": {
           "aaxis": {
            "gridcolor": "white",
            "linecolor": "white",
            "ticks": ""
           },
           "baxis": {
            "gridcolor": "white",
            "linecolor": "white",
            "ticks": ""
           },
           "bgcolor": "#E5ECF6",
           "caxis": {
            "gridcolor": "white",
            "linecolor": "white",
            "ticks": ""
           }
          },
          "title": {
           "x": 0.05
          },
          "xaxis": {
           "automargin": true,
           "gridcolor": "white",
           "linecolor": "white",
           "ticks": "",
           "title": {
            "standoff": 15
           },
           "zerolinecolor": "white",
           "zerolinewidth": 2
          },
          "yaxis": {
           "automargin": true,
           "gridcolor": "white",
           "linecolor": "white",
           "ticks": "",
           "title": {
            "standoff": 15
           },
           "zerolinecolor": "white",
           "zerolinewidth": 2
          }
         }
        },
        "title": {
         "text": "cytoplasm_calbindin_avg_int_in_DG"
        },
        "xaxis": {
         "anchor": "y",
         "domain": [
          0,
          1
         ],
         "range": [
          0,
          255
         ],
         "title": {
          "text": "cytoplasm_calbindin_avg_int"
         }
        },
        "yaxis": {
         "anchor": "x",
         "domain": [
          0,
          1
         ],
         "title": {
          "text": "count"
         }
        }
       }
      }
     },
     "metadata": {},
     "output_type": "display_data"
    }
   ],
   "source": [
    "# Select all column names in 'final_df' that contain the substring 'avg_int'\n",
    "avg_int_columns = [col for col in final_df.columns if 'avg_int' in col]\n",
    "\n",
    "# Loop over all extracted channel average intensities\n",
    "for column_name in avg_int_columns:\n",
    "\n",
    "    # Plot the average_intensity distribution in order to make an informed decision on the threshold\n",
    "    for roi_name in roi_names:\n",
    "\n",
    "        # Filter rows in final_df where ROI matches roi_name \n",
    "        filtered_df = final_df[(final_df[\"ROI\"] == roi_name)]\n",
    "\n",
    "        # Get the values of the 'label' column in filtered_df as a list\n",
    "        avg_int_values = filtered_df[column_name]\n",
    "\n",
    "        # Plot a histogram with 256 bins and a title indicating the column and ROI\n",
    "        fig = px.histogram(avg_int_values, nbins=256, \n",
    "                           title=f\"{column_name}_in_{roi_name}\",\n",
    "                           labels={'value': column_name, 'count': 'Frequency'},\n",
    "                           range_x=[0, avg_int_values.max()])\n",
    "        \n",
    "        # Show the plot\n",
    "        fig.show() "
   ]
  },
  {
   "cell_type": "markdown",
   "metadata": {},
   "source": [
    "<h3>Select cells positive for a marker based on average intensity</h3>\n",
    "\n",
    "Define in <code>min_max_per_marker</code> the <code>marker</code> you want to use to define your cell populations of interest, the <code>min_max</code> range of avg_int and the <code>population</code> name.\n"
   ]
  },
  {
   "cell_type": "code",
   "execution_count": 8,
   "metadata": {},
   "outputs": [
    {
     "data": {
      "text/plain": [
       "[('ki67', 0, 'nucleus'), ('neun', 1, 'nucleus'), ('calbindin', 2, 'cytoplasm')]"
      ]
     },
     "execution_count": 8,
     "metadata": {},
     "output_type": "execute_result"
    }
   ],
   "source": [
    "# You can choose markers from the following list\n",
    "markers"
   ]
  },
  {
   "cell_type": "code",
   "execution_count": 9,
   "metadata": {},
   "outputs": [],
   "source": [
    "# Create a dictionary with min_max_avg_int for each channel\n",
    "# Give the possibility to define populations for the same marker (i.e. neun high and neun low)\n",
    "# max_values are set to 255 since the test input images are 8-bit, higher bit depths can result in higher max avg_int values\n",
    "\n",
    "min_max_per_marker = [{\"marker\": \"ki67\", \"min_max\": (200,255), \"population\":\"ki67\"},\n",
    "                      {\"marker\": \"neun\", \"min_max\": (50,115), \"population\":\"neun_low\"},\n",
    "                      {\"marker\": \"neun\", \"min_max\": (115,255), \"population\":\"neun_high\"},\n",
    "                      {\"marker\": \"calbindin\", \"min_max\": (65,255), \"population\":\"calbindin\"},]"
   ]
  },
  {
   "cell_type": "code",
   "execution_count": 10,
   "metadata": {},
   "outputs": [],
   "source": [
    "# Create an empty list to store all stats extracted from each image\n",
    "stats = []\n",
    "\n",
    "for marker_analysis in min_max_per_marker:\n",
    "\n",
    "    marker = marker_analysis[\"marker\"]\n",
    "    min_max_avg_int = marker_analysis[\"min_max\"]\n",
    "    population = marker_analysis[\"population\"]\n",
    "\n",
    "    # Retrieve the column name from which the avg_int values should be read\n",
    "    for column in avg_int_columns:\n",
    "        if marker in column:\n",
    "            column_name = column\n",
    "\n",
    "    for roi_name in roi_names:\n",
    "\n",
    "        # Initialize an empty list to hold the extracted dataframes on a per channel basis\n",
    "        props_list = []\n",
    "\n",
    "        # Retrieve the first and second values (channel and location) of the corresponding tuple in markers\n",
    "        for item in markers:\n",
    "            if item[0] == marker:\n",
    "                channel = item[1]\n",
    "                location = item[2]\n",
    "                break  # Stop searching once the marker is found\n",
    "\n",
    "        # Read the nuclei predictions per ROI\n",
    "        nuclei_labels = tifffile.imread(nuclei_preds_path / roi_name / f\"{filename}.tiff\")\n",
    "\n",
    "        # Filter rows in final_df where ROI matches roi_name and column_name is within min < avg_int <= max values.\n",
    "        filtered_df = final_df[(final_df[\"ROI\"] == roi_name) & (final_df[column_name] > min_max_avg_int[0]) & (final_df[column_name] <= min_max_avg_int[1])]\n",
    "\n",
    "        # Get the values of the 'label' column in filtered_df as a list\n",
    "        label_values = filtered_df[\"label\"].tolist()\n",
    "\n",
    "        # Create a boolean mask where each element is True if the corresponding value in 'nuclei_labels' \n",
    "        # is found in 'label_values', and False otherwise\n",
    "        mask = np.isin(nuclei_labels, label_values)\n",
    "\n",
    "        # Use the mask to set values in 'nuclei_labels' that are not in 'label_values' to 0,\n",
    "        # creating a new array 'filtered_labels' with only the specified values retained\n",
    "        filtered_labels = np.where(mask, nuclei_labels, 0)\n",
    "\n",
    "        viewer.add_labels(filtered_labels, name=f\"{population}_+_in_{roi_name}\")\n",
    "\n",
    "        # Extract your information of interest\n",
    "        total_nuclei = len(np.unique(nuclei_labels)) - 1\n",
    "        marker_pos_nuclei = len(np.unique(filtered_labels)) - 1\n",
    "\n",
    "        # Calculate \"%_marker+_cells\" and avoid division by zero errors\n",
    "        try:\n",
    "            perc_marker_pos_cells = (marker_pos_nuclei * 100) / total_nuclei\n",
    "        except ZeroDivisionError:\n",
    "            perc_marker_pos_cells = 0\n",
    "\n",
    "        # Create a dictionary containing all extracted info per masked image\n",
    "        stats_dict = {\n",
    "                    \"filename\": filename,\n",
    "                    \"ROI\": roi_name,\n",
    "                    \"based_on\": column_name,\n",
    "                    \"marker\": marker,\n",
    "                    \"population\":population,\n",
    "                    \"marker_ch\": channel,\n",
    "                    \"location\": location,\n",
    "                    \"min_max_avg_int\": min_max_avg_int,\n",
    "                    \"total_nuclei\": total_nuclei,\n",
    "                    \"marker+_nuclei\": marker_pos_nuclei,\n",
    "                    \"%_marker+_cells\": perc_marker_pos_cells,\n",
    "                    \"slicing_factor\": slicing_factor\n",
    "                    }\n",
    "        \n",
    "        # Append the current data point to the stats_list\n",
    "        stats.append(stats_dict)  "
   ]
  },
  {
   "cell_type": "markdown",
   "metadata": {},
   "source": [
    "<h3>Save number of positive cells based on each marker</h3>"
   ]
  },
  {
   "cell_type": "code",
   "execution_count": 11,
   "metadata": {},
   "outputs": [
    {
     "name": "stdout",
     "output_type": "stream",
     "text": [
      "Output folder already exists: results\\test_data\\2D\\Cellpose\n"
     ]
    },
    {
     "data": {
      "text/html": [
       "<div>\n",
       "<style scoped>\n",
       "    .dataframe tbody tr th:only-of-type {\n",
       "        vertical-align: middle;\n",
       "    }\n",
       "\n",
       "    .dataframe tbody tr th {\n",
       "        vertical-align: top;\n",
       "    }\n",
       "\n",
       "    .dataframe thead th {\n",
       "        text-align: right;\n",
       "    }\n",
       "</style>\n",
       "<table border=\"1\" class=\"dataframe\">\n",
       "  <thead>\n",
       "    <tr style=\"text-align: right;\">\n",
       "      <th></th>\n",
       "      <th>filename</th>\n",
       "      <th>ROI</th>\n",
       "      <th>based_on</th>\n",
       "      <th>marker</th>\n",
       "      <th>population</th>\n",
       "      <th>marker_ch</th>\n",
       "      <th>location</th>\n",
       "      <th>min_max_avg_int</th>\n",
       "      <th>total_nuclei</th>\n",
       "      <th>marker+_nuclei</th>\n",
       "      <th>%_marker+_cells</th>\n",
       "      <th>slicing_factor</th>\n",
       "    </tr>\n",
       "  </thead>\n",
       "  <tbody>\n",
       "    <tr>\n",
       "      <th>0</th>\n",
       "      <td>HI1_CONTRA_M8_S6_TR1</td>\n",
       "      <td>CA</td>\n",
       "      <td>nucleus_ki67_avg_int</td>\n",
       "      <td>ki67</td>\n",
       "      <td>ki67</td>\n",
       "      <td>0</td>\n",
       "      <td>nucleus</td>\n",
       "      <td>(200, 255)</td>\n",
       "      <td>1270</td>\n",
       "      <td>10</td>\n",
       "      <td>0.787402</td>\n",
       "      <td>NaN</td>\n",
       "    </tr>\n",
       "    <tr>\n",
       "      <th>1</th>\n",
       "      <td>HI1_CONTRA_M8_S6_TR1</td>\n",
       "      <td>DG</td>\n",
       "      <td>nucleus_ki67_avg_int</td>\n",
       "      <td>ki67</td>\n",
       "      <td>ki67</td>\n",
       "      <td>0</td>\n",
       "      <td>nucleus</td>\n",
       "      <td>(200, 255)</td>\n",
       "      <td>1584</td>\n",
       "      <td>65</td>\n",
       "      <td>4.103535</td>\n",
       "      <td>NaN</td>\n",
       "    </tr>\n",
       "    <tr>\n",
       "      <th>2</th>\n",
       "      <td>HI1_CONTRA_M8_S6_TR1</td>\n",
       "      <td>CA</td>\n",
       "      <td>nucleus_neun_avg_int</td>\n",
       "      <td>neun</td>\n",
       "      <td>neun_low</td>\n",
       "      <td>1</td>\n",
       "      <td>nucleus</td>\n",
       "      <td>(50, 115)</td>\n",
       "      <td>1270</td>\n",
       "      <td>223</td>\n",
       "      <td>17.559055</td>\n",
       "      <td>NaN</td>\n",
       "    </tr>\n",
       "    <tr>\n",
       "      <th>3</th>\n",
       "      <td>HI1_CONTRA_M8_S6_TR1</td>\n",
       "      <td>DG</td>\n",
       "      <td>nucleus_neun_avg_int</td>\n",
       "      <td>neun</td>\n",
       "      <td>neun_low</td>\n",
       "      <td>1</td>\n",
       "      <td>nucleus</td>\n",
       "      <td>(50, 115)</td>\n",
       "      <td>1584</td>\n",
       "      <td>891</td>\n",
       "      <td>56.250000</td>\n",
       "      <td>NaN</td>\n",
       "    </tr>\n",
       "    <tr>\n",
       "      <th>4</th>\n",
       "      <td>HI1_CONTRA_M8_S6_TR1</td>\n",
       "      <td>CA</td>\n",
       "      <td>nucleus_neun_avg_int</td>\n",
       "      <td>neun</td>\n",
       "      <td>neun_high</td>\n",
       "      <td>1</td>\n",
       "      <td>nucleus</td>\n",
       "      <td>(115, 255)</td>\n",
       "      <td>1270</td>\n",
       "      <td>871</td>\n",
       "      <td>68.582677</td>\n",
       "      <td>NaN</td>\n",
       "    </tr>\n",
       "    <tr>\n",
       "      <th>5</th>\n",
       "      <td>HI1_CONTRA_M8_S6_TR1</td>\n",
       "      <td>DG</td>\n",
       "      <td>nucleus_neun_avg_int</td>\n",
       "      <td>neun</td>\n",
       "      <td>neun_high</td>\n",
       "      <td>1</td>\n",
       "      <td>nucleus</td>\n",
       "      <td>(115, 255)</td>\n",
       "      <td>1584</td>\n",
       "      <td>363</td>\n",
       "      <td>22.916667</td>\n",
       "      <td>NaN</td>\n",
       "    </tr>\n",
       "    <tr>\n",
       "      <th>6</th>\n",
       "      <td>HI1_CONTRA_M8_S6_TR1</td>\n",
       "      <td>CA</td>\n",
       "      <td>cytoplasm_calbindin_avg_int</td>\n",
       "      <td>calbindin</td>\n",
       "      <td>calbindin</td>\n",
       "      <td>2</td>\n",
       "      <td>cytoplasm</td>\n",
       "      <td>(65, 255)</td>\n",
       "      <td>1270</td>\n",
       "      <td>0</td>\n",
       "      <td>0.000000</td>\n",
       "      <td>NaN</td>\n",
       "    </tr>\n",
       "    <tr>\n",
       "      <th>7</th>\n",
       "      <td>HI1_CONTRA_M8_S6_TR1</td>\n",
       "      <td>DG</td>\n",
       "      <td>cytoplasm_calbindin_avg_int</td>\n",
       "      <td>calbindin</td>\n",
       "      <td>calbindin</td>\n",
       "      <td>2</td>\n",
       "      <td>cytoplasm</td>\n",
       "      <td>(65, 255)</td>\n",
       "      <td>1584</td>\n",
       "      <td>12</td>\n",
       "      <td>0.757576</td>\n",
       "      <td>NaN</td>\n",
       "    </tr>\n",
       "  </tbody>\n",
       "</table>\n",
       "</div>"
      ],
      "text/plain": [
       "               filename ROI                     based_on     marker  \\\n",
       "0  HI1_CONTRA_M8_S6_TR1  CA         nucleus_ki67_avg_int       ki67   \n",
       "1  HI1_CONTRA_M8_S6_TR1  DG         nucleus_ki67_avg_int       ki67   \n",
       "2  HI1_CONTRA_M8_S6_TR1  CA         nucleus_neun_avg_int       neun   \n",
       "3  HI1_CONTRA_M8_S6_TR1  DG         nucleus_neun_avg_int       neun   \n",
       "4  HI1_CONTRA_M8_S6_TR1  CA         nucleus_neun_avg_int       neun   \n",
       "5  HI1_CONTRA_M8_S6_TR1  DG         nucleus_neun_avg_int       neun   \n",
       "6  HI1_CONTRA_M8_S6_TR1  CA  cytoplasm_calbindin_avg_int  calbindin   \n",
       "7  HI1_CONTRA_M8_S6_TR1  DG  cytoplasm_calbindin_avg_int  calbindin   \n",
       "\n",
       "  population  marker_ch   location min_max_avg_int  total_nuclei  \\\n",
       "0       ki67          0    nucleus      (200, 255)          1270   \n",
       "1       ki67          0    nucleus      (200, 255)          1584   \n",
       "2   neun_low          1    nucleus       (50, 115)          1270   \n",
       "3   neun_low          1    nucleus       (50, 115)          1584   \n",
       "4  neun_high          1    nucleus      (115, 255)          1270   \n",
       "5  neun_high          1    nucleus      (115, 255)          1584   \n",
       "6  calbindin          2  cytoplasm       (65, 255)          1270   \n",
       "7  calbindin          2  cytoplasm       (65, 255)          1584   \n",
       "\n",
       "   marker+_nuclei  %_marker+_cells  slicing_factor  \n",
       "0              10         0.787402             NaN  \n",
       "1              65         4.103535             NaN  \n",
       "2             223        17.559055             NaN  \n",
       "3             891        56.250000             NaN  \n",
       "4             871        68.582677             NaN  \n",
       "5             363        22.916667             NaN  \n",
       "6               0         0.000000             NaN  \n",
       "7              12         0.757576             NaN  "
      ]
     },
     "execution_count": 11,
     "metadata": {},
     "output_type": "execute_result"
    }
   ],
   "source": [
    "# Define output folder for results\n",
    "results_folder = Path(\"results\") / experiment_id / segmentation_type / model_name\n",
    "\n",
    "# Create the necessary folder structure if it does not exist\n",
    "try:\n",
    "    os.makedirs(str(results_folder))\n",
    "    print(f\"Output folder created: {results_folder}\")\n",
    "except FileExistsError:\n",
    "    print(f\"Output folder already exists: {results_folder}\")\n",
    "\n",
    "# Transform into a dataframe to store it as .csv later\n",
    "df = pd.DataFrame(stats)\n",
    "\n",
    "# Define the .csv path\n",
    "csv_path = results_folder / f\"SP_marker_+_label_avg_int.csv\"\n",
    "\n",
    "# Append to the .csv with new data points each round\n",
    "df.to_csv(csv_path, mode=\"a\", index=False, header=not os.path.isfile(csv_path))\n",
    "\n",
    "# Show the updated .csv \n",
    "csv_df = pd.read_csv(csv_path)\n",
    "\n",
    "csv_df"
   ]
  }
 ],
 "metadata": {
  "kernelspec": {
   "display_name": "brain_nuc_cellpose",
   "language": "python",
   "name": "python3"
  },
  "language_info": {
   "codemirror_mode": {
    "name": "ipython",
    "version": 3
   },
   "file_extension": ".py",
   "mimetype": "text/x-python",
   "name": "python",
   "nbconvert_exporter": "python",
   "pygments_lexer": "ipython3",
   "version": "3.11.11"
  }
 },
 "nbformat": 4,
 "nbformat_minor": 2
}
