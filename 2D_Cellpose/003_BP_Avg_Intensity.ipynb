{
 "cells": [
  {
   "cell_type": "markdown",
   "metadata": {},
   "source": [
    "<h2>3D stack to 2D MIP - Batch processing - Marker+ based on average intensity</h2>\n",
    "\n",
    "The following notebook is able to process a 3D stack (.czi or .nd2 files) into a MIP and using the parameters tested in <code>000_SP_Avg_Intensity</code> allows you to:\n",
    "\n",
    "1. Read previously defined ROIs, if not present, full image is analyzed.\n",
    "2. Read previously predicted nuclei labels, if not present, generates them.\n",
    "3. Extract numbers of cells positive for all marker based on signal average intensity within the nuclear or cytoplasmic compartments (using a user-defined min-max range).\n",
    "4. Extract and save per label per ROI per marker data in a .csv file (filename_per_label_avg_int.csv).\n",
    "5. Extract and save number and % of positive cells in a .csv file (BP_marker_+_label_avg_int.csv)."
   ]
  },
  {
   "cell_type": "code",
   "execution_count": 1,
   "metadata": {},
   "outputs": [
    {
     "name": "stderr",
     "output_type": "stream",
     "text": [
      "c:\\Users\\adiez_cmic\\miniforge3\\envs\\brain_nuc_cellpose\\Lib\\site-packages\\cellpose\\resnet_torch.py:276: FutureWarning: You are using `torch.load` with `weights_only=False` (the current default value), which uses the default pickle module implicitly. It is possible to construct malicious pickle data which will execute arbitrary code during unpickling (See https://github.com/pytorch/pytorch/blob/main/SECURITY.md#untrusted-models for more details). In a future release, the default value for `weights_only` will be flipped to `True`. This limits the functions that could be executed during unpickling. Arbitrary objects will no longer be allowed to be loaded via this mode unless they are explicitly allowlisted by the user via `torch.serialization.add_safe_globals`. We recommend you start setting `weights_only=True` for any use case where you don't have full control of the loaded file. Please open an issue on GitHub for any issues related to this experimental feature.\n",
      "  state_dict = torch.load(filename, map_location=device)\n"
     ]
    }
   ],
   "source": [
    "from pathlib import Path\n",
    "import tifffile\n",
    "import napari\n",
    "import os\n",
    "from tqdm import tqdm\n",
    "import numpy as np\n",
    "import pandas as pd\n",
    "from skimage.measure import regionprops_table\n",
    "import plotly.express as px\n",
    "from utils_cellpose import list_images, read_image, simulate_cytoplasm, segment_nuclei_2d"
   ]
  },
  {
   "cell_type": "markdown",
   "metadata": {},
   "source": [
    "<h3>Define the directory for your images (.nd2 or .czi files) and cell marker info</h3>"
   ]
  },
  {
   "cell_type": "code",
   "execution_count": 2,
   "metadata": {},
   "outputs": [
    {
     "data": {
      "text/plain": [
       "['..\\\\raw_data\\\\070824 x\\\\A1_Brain1_TR1.czi',\n",
       " '..\\\\raw_data\\\\070824 x\\\\A1_Brain1_TR2.czi',\n",
       " '..\\\\raw_data\\\\070824 x\\\\A1_Brain2_TR1.czi',\n",
       " '..\\\\raw_data\\\\070824 x\\\\A1_Brain2_TR2.czi',\n",
       " '..\\\\raw_data\\\\070824 x\\\\A2_Brain1_TR1_HipSub.czi',\n",
       " '..\\\\raw_data\\\\070824 x\\\\A2_Brain1_TR1_SVZ.czi',\n",
       " '..\\\\raw_data\\\\070824 x\\\\A2_Brain1_TR2_HipSub.czi',\n",
       " '..\\\\raw_data\\\\070824 x\\\\A2_Brain1_TR2_SVZ.czi',\n",
       " '..\\\\raw_data\\\\070824 x\\\\A2_Brain2_TR1_HipSub.czi',\n",
       " '..\\\\raw_data\\\\070824 x\\\\A2_Brain2_TR1_SVZ.czi',\n",
       " '..\\\\raw_data\\\\070824 x\\\\A2_Brain2_TR2_HipSub.czi',\n",
       " '..\\\\raw_data\\\\070824 x\\\\A2_Brain2_TR2_SVZ.czi',\n",
       " '..\\\\raw_data\\\\070824 x\\\\B1_Brain1_TR1_HibSub.czi',\n",
       " '..\\\\raw_data\\\\070824 x\\\\B1_Brain1_TR1_SVZ.czi',\n",
       " '..\\\\raw_data\\\\070824 x\\\\B1_Brain1_TR2_HibSub.czi',\n",
       " '..\\\\raw_data\\\\070824 x\\\\B1_Brain2_TR1_HibSub.czi',\n",
       " '..\\\\raw_data\\\\070824 x\\\\B1_Brain2_TR2_HibSub.czi',\n",
       " '..\\\\raw_data\\\\070824 x\\\\B2_Brain1_TR1_HibSub.czi',\n",
       " '..\\\\raw_data\\\\070824 x\\\\B2_Brain1_TR2_HipSub.czi',\n",
       " '..\\\\raw_data\\\\070824 x\\\\B2_Brain2_TR1_HibSub.czi',\n",
       " '..\\\\raw_data\\\\070824 x\\\\B2_Brain2_TR2_HipSub.czi']"
      ]
     },
     "execution_count": 2,
     "metadata": {},
     "output_type": "execute_result"
    }
   ],
   "source": [
    "# Copy the path where your images are stored, you can use absolute or relative paths to point at other disk locations\n",
    "directory_path = Path(\"../raw_data/070824 x\")\n",
    "\n",
    "# Define the channels you want to analyze using the following structure:\n",
    "# markers = [(channel_name, channel_nr, cellular_location),(..., ..., ...)]\n",
    "# Remember in Python one starts counting from 0, so your first channel will be 0\n",
    "markers = [(\"neun\", 0, \"nucleus\"), (\"sox2\", 1, \"nucleus\")]\n",
    "\n",
    "# Iterate through the .czi and .nd2 files in the raw_data directory\n",
    "images = list_images(directory_path)\n",
    "\n",
    "images"
   ]
  },
  {
   "cell_type": "markdown",
   "metadata": {},
   "source": [
    "<h3>Define you batch analysis parameters</h3>\n",
    "\n",
    "If you have generated nuclei predictions already, make sure to input the same <code>slicing factor</code> you used when generating nuclei predictions. \n",
    "\n",
    "If you have not generated nuclei predictions before, input <code>nuclei_channel</code>, <code>cellpose_nuclei_diameter</code> and <code>gaussian_sigma</code> values."
   ]
  },
  {
   "cell_type": "code",
   "execution_count": 3,
   "metadata": {},
   "outputs": [],
   "source": [
    "# Remember to input the same slicing factor you used when generating the nuclei predictions\n",
    "slicing_factor = None # Use 2 or 4 for compression (None for lossless)\n",
    "\n",
    "# Define the nuclei and markers of interest channel order ('Remember in Python one starts counting from zero')\n",
    "nuclei_channel = 2\n",
    "\n",
    "# Segmentation type (\"2D\" or \"3D\"). \n",
    "# 2D takes a z-stack as input, performs MIP (Maximum Intensity Projection) and predicts nuclei from the resulting projection (faster, useful for single layers of cells)\n",
    "# 3D is more computationally expensive. Predicts 3D nuclear volumes, useful for multilayered structures\n",
    "segmentation_type = \"2D\"\n",
    "\n",
    "# This is a placeholder to later choose from fine-tuned Cellpose models (default nuclei model in Cellpose 3.0)\n",
    "model_name = \"Cellpose\"\n",
    "\n",
    "# Define your nuclei diameter, it speeds up nuclei detection, if unknown leave it as None\n",
    "cellpose_nuclei_diameter = None\n",
    "\n",
    "# Define the amount of blur applied to nuclei\n",
    "# Blurs the mip_nuclei image to even out high intensity foci within the nucleus, the higher the value blurriness increases\n",
    "# High values help segment sparse nuclei (CA and CTX regions) but as a drawback it merges nuclei entities that are very close together (DG region)\n",
    "gaussian_sigma = 0"
   ]
  },
  {
   "cell_type": "markdown",
   "metadata": {},
   "source": [
    "Define in <code>min_max_per_marker</code> the <code>marker</code> you want to use to define your cell populations of interest, the <code>min_max</code> range of avg_int and the <code>population</code> name."
   ]
  },
  {
   "cell_type": "code",
   "execution_count": 4,
   "metadata": {},
   "outputs": [],
   "source": [
    "# Create a dictionary with min_max_avg_int for each channel\n",
    "# Give the possibility to define populations for the same marker (i.e. neun high and neun low)\n",
    "# max_values are set to 255 since the test input images are 8-bit, higher bit depths can result in higher max avg_int values\n",
    "\n",
    "min_max_per_marker = [{\"marker\": \"neun\", \"min_max\": (50,115), \"population\":\"neun_low\"},\n",
    "                      {\"marker\": \"neun\", \"min_max\": (115,255), \"population\":\"neun_high\"},\n",
    "                      {\"marker\": \"sox2\", \"min_max\": (65,255), \"population\":\"sox2\"},]"
   ]
  },
  {
   "cell_type": "markdown",
   "metadata": {},
   "source": [
    "<h3>Run Batch Analysis</h3>"
   ]
  },
  {
   "cell_type": "code",
   "execution_count": 5,
   "metadata": {},
   "outputs": [
    {
     "name": "stdout",
     "output_type": "stream",
     "text": [
      "The following regions of interest will be analyzed: ['full_image']\n"
     ]
    },
    {
     "name": "stderr",
     "output_type": "stream",
     "text": [
      "  0%|          | 0/21 [00:00<?, ?it/s]"
     ]
    },
    {
     "name": "stdout",
     "output_type": "stream",
     "text": [
      "\n",
      "\n",
      "Image analyzed: A1_Brain1_TR1\n",
      "Original Array shape: (3, 12, 4732, 3812)\n",
      "MIP Array shape: (3, 4732, 3812)\n",
      "\n",
      "Analyzing ROI: full_image\n",
      "Pre-computed nuclei labels found for A1_Brain1_TR1\n",
      "Analyzing channel: neun\n",
      "Analyzing channel: sox2\n",
      "'results\\070824 x\\2D\\Cellpose' folder already exists.\n"
     ]
    },
    {
     "name": "stderr",
     "output_type": "stream",
     "text": [
      "  5%|▍         | 1/21 [00:02<00:48,  2.44s/it]"
     ]
    },
    {
     "name": "stdout",
     "output_type": "stream",
     "text": [
      "Output folder already exists: results\\070824 x\\2D\\Cellpose\n",
      "\n",
      "\n",
      "Image analyzed: A1_Brain1_TR2\n",
      "Original Array shape: (3, 10, 4730, 3815)\n",
      "MIP Array shape: (3, 4730, 3815)\n",
      "\n",
      "Analyzing ROI: full_image\n",
      "Pre-computed nuclei labels found for A1_Brain1_TR2\n",
      "Analyzing channel: neun\n",
      "Analyzing channel: sox2\n",
      "'results\\070824 x\\2D\\Cellpose' folder already exists.\n"
     ]
    },
    {
     "name": "stderr",
     "output_type": "stream",
     "text": [
      " 10%|▉         | 2/21 [00:04<00:44,  2.36s/it]"
     ]
    },
    {
     "name": "stdout",
     "output_type": "stream",
     "text": [
      "Output folder already exists: results\\070824 x\\2D\\Cellpose\n",
      "\n",
      "\n",
      "Image analyzed: A1_Brain2_TR1\n",
      "Original Array shape: (3, 14, 4732, 3813)\n",
      "MIP Array shape: (3, 4732, 3813)\n",
      "\n",
      "Analyzing ROI: full_image\n",
      "Pre-computed nuclei labels found for A1_Brain2_TR1\n",
      "Analyzing channel: neun\n",
      "Analyzing channel: sox2\n",
      "'results\\070824 x\\2D\\Cellpose' folder already exists.\n"
     ]
    },
    {
     "name": "stderr",
     "output_type": "stream",
     "text": [
      " 14%|█▍        | 3/21 [00:07<00:42,  2.38s/it]"
     ]
    },
    {
     "name": "stdout",
     "output_type": "stream",
     "text": [
      "Output folder already exists: results\\070824 x\\2D\\Cellpose\n",
      "\n",
      "\n",
      "Image analyzed: A1_Brain2_TR2\n",
      "Original Array shape: (3, 8, 3788, 2866)\n",
      "MIP Array shape: (3, 3788, 2866)\n",
      "\n",
      "Analyzing ROI: full_image\n",
      "Pre-computed nuclei labels found for A1_Brain2_TR2\n",
      "Analyzing channel: neun\n",
      "Analyzing channel: sox2\n",
      "'results\\070824 x\\2D\\Cellpose' folder already exists.\n"
     ]
    },
    {
     "name": "stderr",
     "output_type": "stream",
     "text": [
      " 19%|█▉        | 4/21 [00:08<00:34,  2.01s/it]"
     ]
    },
    {
     "name": "stdout",
     "output_type": "stream",
     "text": [
      "Output folder already exists: results\\070824 x\\2D\\Cellpose\n",
      "\n",
      "\n",
      "Image analyzed: A2_Brain1_TR1_HipSub\n",
      "Original Array shape: (3, 7, 3788, 4710)\n",
      "MIP Array shape: (3, 3788, 4710)\n",
      "\n",
      "Analyzing ROI: full_image\n",
      "Pre-computed nuclei labels found for A2_Brain1_TR1_HipSub\n",
      "Analyzing channel: neun\n",
      "Analyzing channel: sox2\n",
      "'results\\070824 x\\2D\\Cellpose' folder already exists.\n"
     ]
    },
    {
     "name": "stderr",
     "output_type": "stream",
     "text": [
      " 24%|██▍       | 5/21 [00:10<00:34,  2.14s/it]"
     ]
    },
    {
     "name": "stdout",
     "output_type": "stream",
     "text": [
      "Output folder already exists: results\\070824 x\\2D\\Cellpose\n",
      "\n",
      "\n",
      "Image analyzed: A2_Brain1_TR1_SVZ\n",
      "Original Array shape: (3, 8, 2866, 2866)\n",
      "MIP Array shape: (3, 2866, 2866)\n",
      "\n",
      "Analyzing ROI: full_image\n",
      "Pre-computed nuclei labels found for A2_Brain1_TR1_SVZ\n",
      "Analyzing channel: neun\n",
      "Analyzing channel: sox2\n",
      "'results\\070824 x\\2D\\Cellpose' folder already exists.\n"
     ]
    },
    {
     "name": "stderr",
     "output_type": "stream",
     "text": [
      " 29%|██▊       | 6/21 [00:11<00:26,  1.73s/it]"
     ]
    },
    {
     "name": "stdout",
     "output_type": "stream",
     "text": [
      "Output folder already exists: results\\070824 x\\2D\\Cellpose\n",
      "\n",
      "\n",
      "Image analyzed: A2_Brain1_TR2_HipSub\n",
      "Original Array shape: (3, 10, 3788, 6552)\n",
      "MIP Array shape: (3, 3788, 6552)\n",
      "\n",
      "Analyzing ROI: full_image\n",
      "Pre-computed nuclei labels found for A2_Brain1_TR2_HipSub\n",
      "Analyzing channel: neun\n",
      "Analyzing channel: sox2\n",
      "'results\\070824 x\\2D\\Cellpose' folder already exists.\n"
     ]
    },
    {
     "name": "stderr",
     "output_type": "stream",
     "text": [
      " 33%|███▎      | 7/21 [00:15<00:34,  2.43s/it]"
     ]
    },
    {
     "name": "stdout",
     "output_type": "stream",
     "text": [
      "Output folder already exists: results\\070824 x\\2D\\Cellpose\n",
      "\n",
      "\n",
      "Image analyzed: A2_Brain1_TR2_SVZ\n",
      "Original Array shape: (3, 10, 4710, 4710)\n",
      "MIP Array shape: (3, 4710, 4710)\n",
      "\n",
      "Analyzing ROI: full_image\n",
      "Pre-computed nuclei labels found for A2_Brain1_TR2_SVZ\n",
      "Analyzing channel: neun\n",
      "Analyzing channel: sox2\n",
      "'results\\070824 x\\2D\\Cellpose' folder already exists.\n"
     ]
    },
    {
     "name": "stderr",
     "output_type": "stream",
     "text": [
      " 38%|███▊      | 8/21 [00:18<00:33,  2.61s/it]"
     ]
    },
    {
     "name": "stdout",
     "output_type": "stream",
     "text": [
      "Output folder already exists: results\\070824 x\\2D\\Cellpose\n",
      "\n",
      "\n",
      "Image analyzed: A2_Brain2_TR1_HipSub\n",
      "Original Array shape: (3, 9, 3788, 7474)\n",
      "MIP Array shape: (3, 3788, 7474)\n",
      "\n",
      "Analyzing ROI: full_image\n",
      "Pre-computed nuclei labels found for A2_Brain2_TR1_HipSub\n",
      "Analyzing channel: neun\n",
      "Analyzing channel: sox2\n",
      "'results\\070824 x\\2D\\Cellpose' folder already exists.\n"
     ]
    },
    {
     "name": "stderr",
     "output_type": "stream",
     "text": [
      " 43%|████▎     | 9/21 [00:23<00:37,  3.16s/it]"
     ]
    },
    {
     "name": "stdout",
     "output_type": "stream",
     "text": [
      "Output folder already exists: results\\070824 x\\2D\\Cellpose\n",
      "\n",
      "\n",
      "Image analyzed: A2_Brain2_TR1_SVZ\n",
      "Original Array shape: (3, 6, 3788, 3788)\n",
      "MIP Array shape: (3, 3788, 3788)\n",
      "\n",
      "Analyzing ROI: full_image\n",
      "Pre-computed nuclei labels found for A2_Brain2_TR1_SVZ\n",
      "Analyzing channel: neun\n",
      "Analyzing channel: sox2\n",
      "'results\\070824 x\\2D\\Cellpose' folder already exists.\n"
     ]
    },
    {
     "name": "stderr",
     "output_type": "stream",
     "text": [
      " 48%|████▊     | 10/21 [00:24<00:29,  2.71s/it]"
     ]
    },
    {
     "name": "stdout",
     "output_type": "stream",
     "text": [
      "Output folder already exists: results\\070824 x\\2D\\Cellpose\n",
      "\n",
      "\n",
      "Image analyzed: A2_Brain2_TR2_HipSub\n",
      "Original Array shape: (3, 13, 3788, 4710)\n",
      "MIP Array shape: (3, 3788, 4710)\n",
      "\n",
      "Analyzing ROI: full_image\n",
      "Pre-computed nuclei labels found for A2_Brain2_TR2_HipSub\n",
      "Analyzing channel: neun\n",
      "Analyzing channel: sox2\n",
      "'results\\070824 x\\2D\\Cellpose' folder already exists.\n"
     ]
    },
    {
     "name": "stderr",
     "output_type": "stream",
     "text": [
      " 52%|█████▏    | 11/21 [00:27<00:26,  2.64s/it]"
     ]
    },
    {
     "name": "stdout",
     "output_type": "stream",
     "text": [
      "Output folder already exists: results\\070824 x\\2D\\Cellpose\n",
      "\n",
      "\n",
      "Image analyzed: A2_Brain2_TR2_SVZ\n",
      "Original Array shape: (3, 13, 3788, 3788)\n",
      "MIP Array shape: (3, 3788, 3788)\n",
      "\n",
      "Analyzing ROI: full_image\n",
      "Pre-computed nuclei labels found for A2_Brain2_TR2_SVZ\n",
      "Analyzing channel: neun\n",
      "Analyzing channel: sox2\n",
      "'results\\070824 x\\2D\\Cellpose' folder already exists.\n"
     ]
    },
    {
     "name": "stderr",
     "output_type": "stream",
     "text": [
      " 57%|█████▋    | 12/21 [00:29<00:21,  2.41s/it]"
     ]
    },
    {
     "name": "stdout",
     "output_type": "stream",
     "text": [
      "Output folder already exists: results\\070824 x\\2D\\Cellpose\n",
      "\n",
      "\n",
      "Image analyzed: B1_Brain1_TR1_HibSub\n",
      "Original Array shape: (3, 11, 5632, 3788)\n",
      "MIP Array shape: (3, 5632, 3788)\n",
      "\n",
      "Analyzing ROI: full_image\n",
      "Pre-computed nuclei labels found for B1_Brain1_TR1_HibSub\n",
      "Analyzing channel: neun\n",
      "Analyzing channel: sox2\n",
      "'results\\070824 x\\2D\\Cellpose' folder already exists.\n"
     ]
    },
    {
     "name": "stderr",
     "output_type": "stream",
     "text": [
      " 62%|██████▏   | 13/21 [00:32<00:21,  2.66s/it]"
     ]
    },
    {
     "name": "stdout",
     "output_type": "stream",
     "text": [
      "Output folder already exists: results\\070824 x\\2D\\Cellpose\n",
      "\n",
      "\n",
      "Image analyzed: B1_Brain1_TR1_SVZ\n",
      "Original Array shape: (3, 11, 5632, 5632)\n",
      "MIP Array shape: (3, 5632, 5632)\n",
      "\n",
      "Analyzing ROI: full_image\n",
      "Pre-computed nuclei labels found for B1_Brain1_TR1_SVZ\n",
      "Analyzing channel: neun\n",
      "Analyzing channel: sox2\n",
      "'results\\070824 x\\2D\\Cellpose' folder already exists.\n"
     ]
    },
    {
     "name": "stderr",
     "output_type": "stream",
     "text": [
      " 67%|██████▋   | 14/21 [00:37<00:23,  3.40s/it]"
     ]
    },
    {
     "name": "stdout",
     "output_type": "stream",
     "text": [
      "Output folder already exists: results\\070824 x\\2D\\Cellpose\n",
      "\n",
      "\n",
      "Image analyzed: B1_Brain1_TR2_HibSub\n",
      "Original Array shape: (3, 9, 5632, 3788)\n",
      "MIP Array shape: (3, 5632, 3788)\n",
      "\n",
      "Analyzing ROI: full_image\n",
      "Pre-computed nuclei labels found for B1_Brain1_TR2_HibSub\n",
      "Analyzing channel: neun\n",
      "Analyzing channel: sox2\n",
      "'results\\070824 x\\2D\\Cellpose' folder already exists.\n"
     ]
    },
    {
     "name": "stderr",
     "output_type": "stream",
     "text": [
      " 71%|███████▏  | 15/21 [00:40<00:19,  3.30s/it]"
     ]
    },
    {
     "name": "stdout",
     "output_type": "stream",
     "text": [
      "Output folder already exists: results\\070824 x\\2D\\Cellpose\n",
      "\n",
      "\n",
      "Image analyzed: B1_Brain2_TR1_HibSub\n",
      "Original Array shape: (3, 9, 4710, 3788)\n",
      "MIP Array shape: (3, 4710, 3788)\n",
      "\n",
      "Analyzing ROI: full_image\n",
      "Pre-computed nuclei labels found for B1_Brain2_TR1_HibSub\n",
      "Analyzing channel: neun\n",
      "Analyzing channel: sox2\n",
      "'results\\070824 x\\2D\\Cellpose' folder already exists.\n"
     ]
    },
    {
     "name": "stderr",
     "output_type": "stream",
     "text": [
      " 76%|███████▌  | 16/21 [00:43<00:15,  3.03s/it]"
     ]
    },
    {
     "name": "stdout",
     "output_type": "stream",
     "text": [
      "Output folder already exists: results\\070824 x\\2D\\Cellpose\n",
      "\n",
      "\n",
      "Image analyzed: B1_Brain2_TR2_HibSub\n",
      "Original Array shape: (3, 9, 3788, 3788)\n",
      "MIP Array shape: (3, 3788, 3788)\n",
      "\n",
      "Analyzing ROI: full_image\n",
      "Pre-computed nuclei labels found for B1_Brain2_TR2_HibSub\n",
      "Analyzing channel: neun\n",
      "Analyzing channel: sox2\n",
      "'results\\070824 x\\2D\\Cellpose' folder already exists.\n"
     ]
    },
    {
     "name": "stderr",
     "output_type": "stream",
     "text": [
      " 81%|████████  | 17/21 [00:44<00:10,  2.68s/it]"
     ]
    },
    {
     "name": "stdout",
     "output_type": "stream",
     "text": [
      "Output folder already exists: results\\070824 x\\2D\\Cellpose\n",
      "\n",
      "\n",
      "Image analyzed: B2_Brain1_TR1_HibSub\n",
      "Original Array shape: (3, 8, 6552, 3788)\n",
      "MIP Array shape: (3, 6552, 3788)\n",
      "\n",
      "Analyzing ROI: full_image\n",
      "Pre-computed nuclei labels found for B2_Brain1_TR1_HibSub\n",
      "Analyzing channel: neun\n",
      "Analyzing channel: sox2\n",
      "'results\\070824 x\\2D\\Cellpose' folder already exists.\n"
     ]
    },
    {
     "name": "stderr",
     "output_type": "stream",
     "text": [
      " 86%|████████▌ | 18/21 [00:48<00:08,  2.87s/it]"
     ]
    },
    {
     "name": "stdout",
     "output_type": "stream",
     "text": [
      "Output folder already exists: results\\070824 x\\2D\\Cellpose\n",
      "\n",
      "\n",
      "Image analyzed: B2_Brain1_TR2_HipSub\n",
      "Original Array shape: (3, 9, 4710, 3788)\n",
      "MIP Array shape: (3, 4710, 3788)\n",
      "\n",
      "Analyzing ROI: full_image\n",
      "Pre-computed nuclei labels found for B2_Brain1_TR2_HipSub\n",
      "Analyzing channel: neun\n",
      "Analyzing channel: sox2\n",
      "'results\\070824 x\\2D\\Cellpose' folder already exists.\n"
     ]
    },
    {
     "name": "stderr",
     "output_type": "stream",
     "text": [
      " 90%|█████████ | 19/21 [00:50<00:05,  2.72s/it]"
     ]
    },
    {
     "name": "stdout",
     "output_type": "stream",
     "text": [
      "Output folder already exists: results\\070824 x\\2D\\Cellpose\n",
      "\n",
      "\n",
      "Image analyzed: B2_Brain2_TR1_HibSub\n",
      "Original Array shape: (3, 8, 5632, 3788)\n",
      "MIP Array shape: (3, 5632, 3788)\n",
      "\n",
      "Analyzing ROI: full_image\n",
      "Pre-computed nuclei labels found for B2_Brain2_TR1_HibSub\n",
      "Analyzing channel: neun\n",
      "Analyzing channel: sox2\n",
      "'results\\070824 x\\2D\\Cellpose' folder already exists.\n"
     ]
    },
    {
     "name": "stderr",
     "output_type": "stream",
     "text": [
      " 95%|█████████▌| 20/21 [00:53<00:02,  2.75s/it]"
     ]
    },
    {
     "name": "stdout",
     "output_type": "stream",
     "text": [
      "Output folder already exists: results\\070824 x\\2D\\Cellpose\n",
      "\n",
      "\n",
      "Image analyzed: B2_Brain2_TR2_HipSub\n",
      "Original Array shape: (3, 9, 5631, 3788)\n",
      "MIP Array shape: (3, 5631, 3788)\n",
      "\n",
      "Analyzing ROI: full_image\n",
      "Pre-computed nuclei labels found for B2_Brain2_TR2_HipSub\n",
      "Analyzing channel: neun\n",
      "Analyzing channel: sox2\n",
      "'results\\070824 x\\2D\\Cellpose' folder already exists.\n"
     ]
    },
    {
     "name": "stderr",
     "output_type": "stream",
     "text": [
      "100%|██████████| 21/21 [00:56<00:00,  2.68s/it]"
     ]
    },
    {
     "name": "stdout",
     "output_type": "stream",
     "text": [
      "Output folder already exists: results\\070824 x\\2D\\Cellpose\n"
     ]
    },
    {
     "name": "stderr",
     "output_type": "stream",
     "text": [
      "\n"
     ]
    },
    {
     "data": {
      "text/html": [
       "<div>\n",
       "<style scoped>\n",
       "    .dataframe tbody tr th:only-of-type {\n",
       "        vertical-align: middle;\n",
       "    }\n",
       "\n",
       "    .dataframe tbody tr th {\n",
       "        vertical-align: top;\n",
       "    }\n",
       "\n",
       "    .dataframe thead th {\n",
       "        text-align: right;\n",
       "    }\n",
       "</style>\n",
       "<table border=\"1\" class=\"dataframe\">\n",
       "  <thead>\n",
       "    <tr style=\"text-align: right;\">\n",
       "      <th></th>\n",
       "      <th>filename</th>\n",
       "      <th>ROI</th>\n",
       "      <th>based_on</th>\n",
       "      <th>marker</th>\n",
       "      <th>population</th>\n",
       "      <th>marker_ch</th>\n",
       "      <th>location</th>\n",
       "      <th>min_max_avg_int</th>\n",
       "      <th>total_nuclei</th>\n",
       "      <th>marker+_nuclei</th>\n",
       "      <th>%_marker+_cells</th>\n",
       "      <th>slicing_factor</th>\n",
       "    </tr>\n",
       "  </thead>\n",
       "  <tbody>\n",
       "    <tr>\n",
       "      <th>0</th>\n",
       "      <td>A1_Brain1_TR1</td>\n",
       "      <td>full_image</td>\n",
       "      <td>nucleus_neun_avg_int</td>\n",
       "      <td>neun</td>\n",
       "      <td>neun_low</td>\n",
       "      <td>0</td>\n",
       "      <td>nucleus</td>\n",
       "      <td>(50, 115)</td>\n",
       "      <td>5661</td>\n",
       "      <td>1992</td>\n",
       "      <td>35.188129</td>\n",
       "      <td>NaN</td>\n",
       "    </tr>\n",
       "    <tr>\n",
       "      <th>1</th>\n",
       "      <td>A1_Brain1_TR1</td>\n",
       "      <td>full_image</td>\n",
       "      <td>nucleus_neun_avg_int</td>\n",
       "      <td>neun</td>\n",
       "      <td>neun_high</td>\n",
       "      <td>0</td>\n",
       "      <td>nucleus</td>\n",
       "      <td>(115, 255)</td>\n",
       "      <td>5661</td>\n",
       "      <td>710</td>\n",
       "      <td>12.541954</td>\n",
       "      <td>NaN</td>\n",
       "    </tr>\n",
       "    <tr>\n",
       "      <th>2</th>\n",
       "      <td>A1_Brain1_TR1</td>\n",
       "      <td>full_image</td>\n",
       "      <td>nucleus_sox2_avg_int</td>\n",
       "      <td>sox2</td>\n",
       "      <td>sox2</td>\n",
       "      <td>1</td>\n",
       "      <td>nucleus</td>\n",
       "      <td>(65, 255)</td>\n",
       "      <td>5661</td>\n",
       "      <td>1802</td>\n",
       "      <td>31.831832</td>\n",
       "      <td>NaN</td>\n",
       "    </tr>\n",
       "    <tr>\n",
       "      <th>3</th>\n",
       "      <td>A1_Brain1_TR2</td>\n",
       "      <td>full_image</td>\n",
       "      <td>nucleus_neun_avg_int</td>\n",
       "      <td>neun</td>\n",
       "      <td>neun_low</td>\n",
       "      <td>0</td>\n",
       "      <td>nucleus</td>\n",
       "      <td>(50, 115)</td>\n",
       "      <td>5872</td>\n",
       "      <td>1993</td>\n",
       "      <td>33.940736</td>\n",
       "      <td>NaN</td>\n",
       "    </tr>\n",
       "    <tr>\n",
       "      <th>4</th>\n",
       "      <td>A1_Brain1_TR2</td>\n",
       "      <td>full_image</td>\n",
       "      <td>nucleus_neun_avg_int</td>\n",
       "      <td>neun</td>\n",
       "      <td>neun_high</td>\n",
       "      <td>0</td>\n",
       "      <td>nucleus</td>\n",
       "      <td>(115, 255)</td>\n",
       "      <td>5872</td>\n",
       "      <td>471</td>\n",
       "      <td>8.021117</td>\n",
       "      <td>NaN</td>\n",
       "    </tr>\n",
       "    <tr>\n",
       "      <th>...</th>\n",
       "      <td>...</td>\n",
       "      <td>...</td>\n",
       "      <td>...</td>\n",
       "      <td>...</td>\n",
       "      <td>...</td>\n",
       "      <td>...</td>\n",
       "      <td>...</td>\n",
       "      <td>...</td>\n",
       "      <td>...</td>\n",
       "      <td>...</td>\n",
       "      <td>...</td>\n",
       "      <td>...</td>\n",
       "    </tr>\n",
       "    <tr>\n",
       "      <th>58</th>\n",
       "      <td>B2_Brain2_TR1_HibSub</td>\n",
       "      <td>full_image</td>\n",
       "      <td>nucleus_neun_avg_int</td>\n",
       "      <td>neun</td>\n",
       "      <td>neun_high</td>\n",
       "      <td>0</td>\n",
       "      <td>nucleus</td>\n",
       "      <td>(115, 255)</td>\n",
       "      <td>6083</td>\n",
       "      <td>1274</td>\n",
       "      <td>20.943613</td>\n",
       "      <td>NaN</td>\n",
       "    </tr>\n",
       "    <tr>\n",
       "      <th>59</th>\n",
       "      <td>B2_Brain2_TR1_HibSub</td>\n",
       "      <td>full_image</td>\n",
       "      <td>nucleus_sox2_avg_int</td>\n",
       "      <td>sox2</td>\n",
       "      <td>sox2</td>\n",
       "      <td>1</td>\n",
       "      <td>nucleus</td>\n",
       "      <td>(65, 255)</td>\n",
       "      <td>6083</td>\n",
       "      <td>2254</td>\n",
       "      <td>37.054085</td>\n",
       "      <td>NaN</td>\n",
       "    </tr>\n",
       "    <tr>\n",
       "      <th>60</th>\n",
       "      <td>B2_Brain2_TR2_HipSub</td>\n",
       "      <td>full_image</td>\n",
       "      <td>nucleus_neun_avg_int</td>\n",
       "      <td>neun</td>\n",
       "      <td>neun_low</td>\n",
       "      <td>0</td>\n",
       "      <td>nucleus</td>\n",
       "      <td>(50, 115)</td>\n",
       "      <td>6452</td>\n",
       "      <td>2002</td>\n",
       "      <td>31.029138</td>\n",
       "      <td>NaN</td>\n",
       "    </tr>\n",
       "    <tr>\n",
       "      <th>61</th>\n",
       "      <td>B2_Brain2_TR2_HipSub</td>\n",
       "      <td>full_image</td>\n",
       "      <td>nucleus_neun_avg_int</td>\n",
       "      <td>neun</td>\n",
       "      <td>neun_high</td>\n",
       "      <td>0</td>\n",
       "      <td>nucleus</td>\n",
       "      <td>(115, 255)</td>\n",
       "      <td>6452</td>\n",
       "      <td>1125</td>\n",
       "      <td>17.436454</td>\n",
       "      <td>NaN</td>\n",
       "    </tr>\n",
       "    <tr>\n",
       "      <th>62</th>\n",
       "      <td>B2_Brain2_TR2_HipSub</td>\n",
       "      <td>full_image</td>\n",
       "      <td>nucleus_sox2_avg_int</td>\n",
       "      <td>sox2</td>\n",
       "      <td>sox2</td>\n",
       "      <td>1</td>\n",
       "      <td>nucleus</td>\n",
       "      <td>(65, 255)</td>\n",
       "      <td>6452</td>\n",
       "      <td>1376</td>\n",
       "      <td>21.326720</td>\n",
       "      <td>NaN</td>\n",
       "    </tr>\n",
       "  </tbody>\n",
       "</table>\n",
       "<p>63 rows × 12 columns</p>\n",
       "</div>"
      ],
      "text/plain": [
       "                filename         ROI              based_on marker population  \\\n",
       "0          A1_Brain1_TR1  full_image  nucleus_neun_avg_int   neun   neun_low   \n",
       "1          A1_Brain1_TR1  full_image  nucleus_neun_avg_int   neun  neun_high   \n",
       "2          A1_Brain1_TR1  full_image  nucleus_sox2_avg_int   sox2       sox2   \n",
       "3          A1_Brain1_TR2  full_image  nucleus_neun_avg_int   neun   neun_low   \n",
       "4          A1_Brain1_TR2  full_image  nucleus_neun_avg_int   neun  neun_high   \n",
       "..                   ...         ...                   ...    ...        ...   \n",
       "58  B2_Brain2_TR1_HibSub  full_image  nucleus_neun_avg_int   neun  neun_high   \n",
       "59  B2_Brain2_TR1_HibSub  full_image  nucleus_sox2_avg_int   sox2       sox2   \n",
       "60  B2_Brain2_TR2_HipSub  full_image  nucleus_neun_avg_int   neun   neun_low   \n",
       "61  B2_Brain2_TR2_HipSub  full_image  nucleus_neun_avg_int   neun  neun_high   \n",
       "62  B2_Brain2_TR2_HipSub  full_image  nucleus_sox2_avg_int   sox2       sox2   \n",
       "\n",
       "    marker_ch location min_max_avg_int  total_nuclei  marker+_nuclei  \\\n",
       "0           0  nucleus       (50, 115)          5661            1992   \n",
       "1           0  nucleus      (115, 255)          5661             710   \n",
       "2           1  nucleus       (65, 255)          5661            1802   \n",
       "3           0  nucleus       (50, 115)          5872            1993   \n",
       "4           0  nucleus      (115, 255)          5872             471   \n",
       "..        ...      ...             ...           ...             ...   \n",
       "58          0  nucleus      (115, 255)          6083            1274   \n",
       "59          1  nucleus       (65, 255)          6083            2254   \n",
       "60          0  nucleus       (50, 115)          6452            2002   \n",
       "61          0  nucleus      (115, 255)          6452            1125   \n",
       "62          1  nucleus       (65, 255)          6452            1376   \n",
       "\n",
       "    %_marker+_cells  slicing_factor  \n",
       "0         35.188129             NaN  \n",
       "1         12.541954             NaN  \n",
       "2         31.831832             NaN  \n",
       "3         33.940736             NaN  \n",
       "4          8.021117             NaN  \n",
       "..              ...             ...  \n",
       "58        20.943613             NaN  \n",
       "59        37.054085             NaN  \n",
       "60        31.029138             NaN  \n",
       "61        17.436454             NaN  \n",
       "62        21.326720             NaN  \n",
       "\n",
       "[63 rows x 12 columns]"
      ]
     },
     "execution_count": 5,
     "metadata": {},
     "output_type": "execute_result"
    }
   ],
   "source": [
    "# Construct ROI and nuclei predictions paths from directory_path above\n",
    "roi_path = directory_path / \"ROIs\"\n",
    "nuclei_preds_path =  directory_path / \"nuclei_preds\" / segmentation_type / model_name\n",
    "\n",
    "# Extract the experiment name from the data directory path\n",
    "experiment_id = directory_path.name\n",
    "\n",
    "# List of subfolder names\n",
    "try:\n",
    "    roi_names = [folder.name for folder in roi_path.iterdir() if folder.is_dir()]\n",
    "\n",
    "except FileNotFoundError:\n",
    "    roi_names = [\"full_image\"]\n",
    "        \n",
    "print(f\"The following regions of interest will be analyzed: {roi_names}\")\n",
    "\n",
    "for image in tqdm(images):\n",
    "\n",
    "    # Generate maximum intensity projection and extract filename\n",
    "    img_mip, filename = read_image(image, slicing_factor)\n",
    "\n",
    "    # Initialize an empty list to hold the extracted dataframes on a per ROI basis\n",
    "    per_roi_props = []\n",
    "\n",
    "    for roi_name in roi_names:\n",
    "        print(f\"\\nAnalyzing ROI: {roi_name}\")\n",
    "        # Initialize an empty list to hold the extracted dataframes on a per channel basis\n",
    "        props_list = []\n",
    "\n",
    "        # Read the user defined ROIs, in case of full image analysis generate a label covering the entire image\n",
    "        try:\n",
    "            # Read previously defined ROIs\n",
    "            user_roi = tifffile.imread(roi_path / roi_name / f\"{filename}.tiff\")\n",
    "\n",
    "        except FileNotFoundError:\n",
    "            # Extract the xy dimensions of the input image \n",
    "            img_shape = img_mip.shape\n",
    "            img_xy_dims = img_shape[-2:]\n",
    "\n",
    "            # Create a label covering the entire image\n",
    "            user_roi = np.ones(img_xy_dims).astype(np.uint8)\n",
    "\n",
    "        # Read previously predicted nuclei labels, if not present generate nuclei predictions and save them\n",
    "        try:\n",
    "            # Read the nuclei predictions per ROI\n",
    "            nuclei_labels = tifffile.imread(nuclei_preds_path / roi_name / f\"{filename}.tiff\")\n",
    "            print(f\"Pre-computed nuclei labels found for {filename}\")\n",
    "        except FileNotFoundError:\n",
    "            print(f\"Generating nuclei labels for {filename}\")\n",
    "            # Slice the nuclei stack\n",
    "            nuclei_img = img_mip[nuclei_channel, :, :]\n",
    "\n",
    "            # We will create a mask where roi is greater than or equal to 1\n",
    "            mask = (user_roi >= 1).astype(np.uint8)\n",
    "\n",
    "            # Apply the mask to nuclei_img and marker_img, setting all other pixels to 0\n",
    "            masked_nuclei_img = np.where(mask, nuclei_img, 0)\n",
    "\n",
    "            # Segment nuclei and return labels\n",
    "            nuclei_labels = segment_nuclei_2d(masked_nuclei_img, gaussian_sigma, cellpose_nuclei_diameter)\n",
    "\n",
    "            # Save nuclei labels as .tiff files to reuse them later\n",
    "            # Create nuclei_predictions directory if it does not exist\n",
    "            try:\n",
    "                os.makedirs(nuclei_preds_path / roi_name)\n",
    "            except FileExistsError:\n",
    "                pass\n",
    "\n",
    "            # Construct path to store\n",
    "            path_to_store = nuclei_preds_path / roi_name / f\"{filename}.tiff\"\n",
    "\n",
    "            # Save mask (binary image)\n",
    "            tifffile.imwrite(path_to_store, nuclei_labels)\n",
    "\n",
    "        # Create a dictionary containing all image descriptors\n",
    "        descriptor_dict = {\n",
    "                    \"filename\": filename,\n",
    "                    \"ROI\": roi_name,\n",
    "                    }\n",
    "\n",
    "        # Loop through each channel and extract the average intensity within either nuclei or cytoplasmic regions\n",
    "        for tuple in markers:\n",
    "\n",
    "            channel_name = tuple[0]\n",
    "            ch_nr = tuple[1]\n",
    "            location = tuple[2]\n",
    "\n",
    "            print(f\"Analyzing channel: {channel_name}\")\n",
    "\n",
    "            if location == \"cytoplasm\":\n",
    "                print(f\"Generating cytoplasm labels for: {channel_name}\")\n",
    "                # Simulate a cytoplasm by dilating the nuclei and substracting the nuclei mask afterwards\n",
    "                cytoplasm_labels = simulate_cytoplasm(nuclei_labels, dilation_radius = 2, erosion_radius = 0)\n",
    "\n",
    "                # Extract intensity information from each marker channel\n",
    "                props = regionprops_table(label_image=cytoplasm_labels,\n",
    "                                    intensity_image=img_mip[ch_nr],\n",
    "                                    properties=[\"label\", \"intensity_mean\"])\n",
    "            \n",
    "            elif location == \"nucleus\":\n",
    "\n",
    "                # Extract intensity information from each marker channel\n",
    "                props = regionprops_table(label_image=nuclei_labels,\n",
    "                                    intensity_image=img_mip[ch_nr],\n",
    "                                    properties=[\"label\", \"intensity_mean\"])\n",
    "            \n",
    "\n",
    "            # Convert to dataframe\n",
    "            props_df = pd.DataFrame(props)\n",
    "\n",
    "            # Rename intensity_mean column to indicate the specific image\n",
    "            props_df.rename(columns={\"intensity_mean\": f\"{location}_{channel_name}_avg_int\"}, inplace=True)\n",
    "\n",
    "            # Append each props_df to props_list\n",
    "            props_list.append(props_df)\n",
    "\n",
    "            # Initialize the df with the first df in the list\n",
    "            props_df = props_list[0]\n",
    "            # Start looping from the second df in the list\n",
    "            for df in props_list[1:]:\n",
    "                props_df = props_df.merge(df, on=\"label\")\n",
    "\n",
    "        # Add each key-value pair from descriptor_dict to props_df at the specified position\n",
    "        insertion_position = 0    \n",
    "        for key, value in descriptor_dict.items():\n",
    "            props_df.insert(insertion_position, key, value)\n",
    "            insertion_position += 1  # Increment position to maintain the order of keys in descriptor_dict\n",
    "\n",
    "        # Append each props_df to props_list\n",
    "        per_roi_props.append(props_df)\n",
    "\n",
    "    final_df = pd.concat(per_roi_props, ignore_index=True)\n",
    "\n",
    "    # Create a 'results' folder in the root directory\n",
    "    results_folder = Path(\"results\") / experiment_id / segmentation_type / model_name\n",
    "\n",
    "    try:\n",
    "        os.makedirs(results_folder)\n",
    "        print(f\"'{results_folder}' folder created successfully.\")\n",
    "    except FileExistsError:\n",
    "        print(f\"'{results_folder}' folder already exists.\")\n",
    "\n",
    "    # Save the df containing per_label results into a CSV file\n",
    "    final_df.to_csv(results_folder / f'{filename}_per_label_avg_int.csv')\n",
    "\n",
    "    # Select all column names in 'final_df' that contain the substring 'avg_int'\n",
    "    avg_int_columns = [col for col in final_df.columns if 'avg_int' in col]\n",
    "\n",
    "    # Create an empty list to store all stats extracted from each image\n",
    "    stats = []\n",
    "\n",
    "    for marker_analysis in min_max_per_marker:\n",
    "\n",
    "        marker = marker_analysis[\"marker\"]\n",
    "        min_max_avg_int = marker_analysis[\"min_max\"]\n",
    "        population = marker_analysis[\"population\"]\n",
    "\n",
    "        # Retrieve the column name from which the avg_int values should be read\n",
    "        for column in avg_int_columns:\n",
    "            if marker in column:\n",
    "                column_name = column\n",
    "\n",
    "        for roi_name in roi_names:\n",
    "\n",
    "            # Initialize an empty list to hold the extracted dataframes on a per channel basis\n",
    "            props_list = []\n",
    "\n",
    "            # Retrieve the first and second values (channel and location) of the corresponding tuple in markers\n",
    "            for item in markers:\n",
    "                if item[0] == marker:\n",
    "                    channel = item[1]\n",
    "                    location = item[2]\n",
    "                    break  # Stop searching once the marker is found\n",
    "\n",
    "            # Read the nuclei predictions per ROI\n",
    "            nuclei_labels = tifffile.imread(nuclei_preds_path / roi_name / f\"{filename}.tiff\")\n",
    "\n",
    "            # Filter rows in final_df where ROI matches roi_name and column_name is higher than threshold\n",
    "            filtered_df = final_df[(final_df[\"ROI\"] == roi_name) & (final_df[column_name] > min_max_avg_int[0]) & (final_df[column_name] < min_max_avg_int[1])]\n",
    "\n",
    "            # Get the values of the 'label' column in filtered_df as a list\n",
    "            label_values = filtered_df[\"label\"].tolist()\n",
    "\n",
    "            # Create a boolean mask where each element is True if the corresponding value in 'nuclei_labels' \n",
    "            # is found in 'label_values', and False otherwise\n",
    "            mask = np.isin(nuclei_labels, label_values)\n",
    "\n",
    "            # Use the mask to set values in 'nuclei_labels' that are not in 'label_values' to 0,\n",
    "            # creating a new array 'filtered_labels' with only the specified values retained\n",
    "            filtered_labels = np.where(mask, nuclei_labels, 0)\n",
    "\n",
    "            # Extract your information of interest\n",
    "            total_nuclei = len(np.unique(nuclei_labels)) - 1\n",
    "            marker_pos_nuclei = len(np.unique(filtered_labels)) - 1\n",
    "\n",
    "            # Calculate \"%_marker+_cells\" and avoid division by zero errors\n",
    "            try:\n",
    "                perc_marker_pos_cells = (marker_pos_nuclei * 100) / total_nuclei\n",
    "            except ZeroDivisionError:\n",
    "                perc_marker_pos_cells = 0\n",
    "\n",
    "            # Create a dictionary containing all extracted info per masked image\n",
    "            stats_dict = {\n",
    "                        \"filename\": filename,\n",
    "                        \"ROI\": roi_name,\n",
    "                        \"based_on\": column_name,\n",
    "                        \"marker\": marker,\n",
    "                        \"population\":population,\n",
    "                        \"marker_ch\": channel,\n",
    "                        \"location\": location,\n",
    "                        \"min_max_avg_int\": min_max_avg_int,\n",
    "                        \"total_nuclei\": total_nuclei,\n",
    "                        \"marker+_nuclei\": marker_pos_nuclei,\n",
    "                        \"%_marker+_cells\": perc_marker_pos_cells,\n",
    "                        \"slicing_factor\": slicing_factor\n",
    "                        }\n",
    "            \n",
    "            # Append the current data point to the stats_list\n",
    "            stats.append(stats_dict)  \n",
    "\n",
    "    # Create the necessary folder structure if it does not exist\n",
    "    try:\n",
    "        os.makedirs(str(results_folder))\n",
    "        print(f\"Output folder created: {results_folder}\")\n",
    "    except FileExistsError:\n",
    "        print(f\"Output folder already exists: {results_folder}\")\n",
    "\n",
    "    # Transform into a dataframe to store it as .csv later\n",
    "    df = pd.DataFrame(stats)\n",
    "\n",
    "    # Define the .csv path\n",
    "    csv_path = results_folder / f\"BP_marker_+_label_avg_int.csv\"\n",
    "\n",
    "    # Append to the .csv with new data points each round\n",
    "    df.to_csv(csv_path, mode=\"a\", index=False, header=not os.path.isfile(csv_path))\n",
    "\n",
    "# Show the updated .csv \n",
    "csv_df = pd.read_csv(csv_path)\n",
    "\n",
    "csv_df "
   ]
  }
 ],
 "metadata": {
  "kernelspec": {
   "display_name": "brain_nuc_cellpose",
   "language": "python",
   "name": "python3"
  },
  "language_info": {
   "codemirror_mode": {
    "name": "ipython",
    "version": 3
   },
   "file_extension": ".py",
   "mimetype": "text/x-python",
   "name": "python",
   "nbconvert_exporter": "python",
   "pygments_lexer": "ipython3",
   "version": "3.11.11"
  }
 },
 "nbformat": 4,
 "nbformat_minor": 2
}
