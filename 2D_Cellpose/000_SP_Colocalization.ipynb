{
 "cells": [
  {
   "cell_type": "markdown",
   "metadata": {},
   "source": [
    "<h2>3D stack to 2D MIP - Single image - Marker+ based on colocalization</h2>\n",
    "\n",
    "The following notebook is able to process a 3D stack (.czi or .nd2 files) into a MIP and allows you to:\n",
    "\n",
    "1. Inspect your images in Napari.\n",
    "2. Define regions of interest (ROIs) using labels in Napari. Store said ROIs as .tiff files if needed.\n",
    "3. Predict nuclei labels and store them as .tiff files for further processing.\n",
    "4. Extract numbers of cells positive for a marker based on colocalization (using a user-defined min_max range).\n",
    "5. Display positive cells in Napari.\n",
    "6. Extract and save number of positive cells in a .csv file (SP_marker_+_label_coloc)."
   ]
  },
  {
   "cell_type": "code",
   "execution_count": null,
   "metadata": {},
   "outputs": [],
   "source": [
    "from pathlib import Path\n",
    "from tqdm import tqdm\n",
    "import tifffile\n",
    "import napari\n",
    "import os\n",
    "import numpy as np\n",
    "import pandas as pd\n",
    "import pyclesperanto_prototype as cle\n",
    "from utils_cellpose import list_images, read_image, save_rois, segment_nuclei_2d, segment_marker_positive_nuclei\n",
    "\n",
    "cle.select_device(\"RTX\")"
   ]
  },
  {
   "cell_type": "markdown",
   "metadata": {},
   "source": [
    "<h3>Define the directory where your images are stored (.nd2 or .czi files)</h3>"
   ]
  },
  {
   "cell_type": "code",
   "execution_count": null,
   "metadata": {},
   "outputs": [],
   "source": [
    "# Copy the path where your images are stored, you can use absolute or relative paths to point at other disk locations\n",
    "directory_path = Path(\"../raw_data/test_data\")\n",
    "\n",
    "# Define the channels you want to analyze using the following structure:\n",
    "# markers = [(channel_name, channel_nr, cellular_location),(..., ..., ...)]\n",
    "# Remember in Python one starts counting from 0, so your first channel will be 0\n",
    "markers = [(\"ki67\", 0, \"nucleus\"), (\"neun\", 1, \"nucleus\"), (\"calbindin\", 2, \"cytoplasm\")]\n",
    "\n",
    "# Iterate through the .czi and .nd2 files in the directory\n",
    "images = list_images(directory_path)\n",
    "\n",
    "images"
   ]
  },
  {
   "cell_type": "markdown",
   "metadata": {},
   "source": [
    "<h3>Open each image in the directory</h3>\n",
    "You can do so by changing the number within the brackets below <code>image = images[0]</code>. By changing the <code>slicing factor</code> you lose resolution but speed up processing times (check the results)."
   ]
  },
  {
   "cell_type": "code",
   "execution_count": null,
   "metadata": {},
   "outputs": [],
   "source": [
    "# Explore a different image to crop (0 defines the first image in the directory)\n",
    "image = images[0]\n",
    "\n",
    "# Image size reduction to improve processing times (slicing, not lossless compression)\n",
    "slicing_factor = None # Use 2 or 4 for compression (None for lossless)\n",
    "\n",
    "# Segmentation type (\"2D\" or \"3D\"). \n",
    "# 2D takes a z-stack as input, performs MIP (Maximum Intensity Projection) and predicts nuclei from the resulting projection (faster, useful for single layers of cells)\n",
    "# 3D is more computationally expensive. Predicts 3D nuclear volumes, useful for multilayered structures\n",
    "segmentation_type = \"2D\"\n",
    "\n",
    "# This is a placeholder to later choose from fine-tuned Cellpose models (default nuclei model in Cellpose 3.0)\n",
    "model_name = \"Cellpose\"\n",
    "\n",
    "# Generate maximum intensity projection and extract filename\n",
    "img_mip, filename = read_image(image, slicing_factor)\n",
    "\n",
    "# Show image in Napari to define ROI\n",
    "viewer = napari.Viewer(ndisplay=2)\n",
    "viewer.add_image(img_mip)"
   ]
  },
  {
   "cell_type": "markdown",
   "metadata": {},
   "source": [
    "<h3>Label your regions of interest in Napari and explore the signal of your marker of interest</h3>\n",
    "\n",
    "Make sure to set <code>n edit dim = 3</code> so the label propagates across all channels. Name your regions of interest as i.e. <code>DG</code>, <code>CA1</code>, <code>CA3</code> or <code>HIPPO</code>. If you do not draw any ROI the entire image will be analyzed.\n",
    "\n",
    "Fnally, select the <code>img_mip</code> layer and play with the contrast limit to later set a min_max range of intensities within which cells will be considered positive for said marker."
   ]
  },
  {
   "cell_type": "markdown",
   "metadata": {},
   "source": [
    "<video controls>\n",
    "  <source src=\"../assets/napari_labels.mp4\" type=\"video/mp4\">\n",
    "  Your browser does not support the video tag.\n",
    "</video>"
   ]
  },
  {
   "cell_type": "markdown",
   "metadata": {},
   "source": [
    "<h3>Save user-defined label ROIs as .tiff files</h3>"
   ]
  },
  {
   "cell_type": "code",
   "execution_count": null,
   "metadata": {},
   "outputs": [],
   "source": [
    "save_rois(viewer, directory_path, filename)"
   ]
  },
  {
   "cell_type": "markdown",
   "metadata": {},
   "source": [
    "<h3>Define your analysis parameters</h3>\n",
    "\n",
    "Modify the values for <code>nuclei_channel</code>, <code>marker_name</code>, <code>min_max_range</code> and <code>erosion_factor</code>\n",
    "\n",
    "Define marker <code>location</code> as either \"cytoplasm\" or \"nucleus\", and the <code>cytoplasm_dil_radius</code>."
   ]
  },
  {
   "cell_type": "code",
   "execution_count": null,
   "metadata": {},
   "outputs": [],
   "source": [
    "# You can choose markers from the following list\n",
    "markers"
   ]
  },
  {
   "cell_type": "code",
   "execution_count": null,
   "metadata": {},
   "outputs": [],
   "source": [
    "# Define the nuclei channel order ('Remember in Python one starts counting from zero')\n",
    "nuclei_channel = 3\n",
    "\n",
    "# Type the marker you want to analyze from the list above\n",
    "marker_name = 'neun'\n",
    "\n",
    "# Define the intensity min_max range within which a cell is considered positive for a marker\n",
    "# Useful for i.e. ignoring unspecific bright spots\n",
    "min_max_range = (40, 100)\n",
    "\n",
    "# Define your nuclei diameter, it speeds up nuclei detection, if unknown leave it as None\n",
    "cellpose_nuclei_diameter = None\n",
    "\n",
    "# Define the amount of blur applied to nuclei\n",
    "# Blurs the mip_nuclei image to even out high intensity foci within the nucleus, the higher the value blurriness increases\n",
    "# High values help segment sparse nuclei (CA and CTX regions) but as a drawback it merges nuclei entities that are very close together (DG region)\n",
    "gaussian_sigma = 0\n",
    "\n",
    "# Sets the amount of erosion that is applied to areas where the marker+ signal colocalizes with nuclear signal\n",
    "# The higher the value, the stricter the conditions to consider a nuclei as marker+\n",
    "erosion_factor = 4\n",
    "\n",
    "# Define the amount of pixels you want to add around the nuclei to simulate the cytoplasm\n",
    "cytoplasm_dilation_radius = 2\n",
    "\n",
    "# Retrieve the first and second values (channel and location) of the corresponding tuple in markers\n",
    "for item in markers:\n",
    "    if item[0] == marker_name:\n",
    "        marker_channel = item[1]\n",
    "        location = item[2]\n",
    "        break  # Stop searching once the marker is found\n",
    "\n",
    "# Slice the nuclei and marker stack\n",
    "nuclei_img = img_mip[nuclei_channel, :, :]\n",
    "marker_img = img_mip[marker_channel, :, :]"
   ]
  },
  {
   "cell_type": "markdown",
   "metadata": {},
   "source": [
    "<h3>Mask the input image with the user defined labels and extract data</h3>"
   ]
  },
  {
   "cell_type": "code",
   "execution_count": null,
   "metadata": {},
   "outputs": [],
   "source": [
    "# Construct ROI and nuclei predictions paths from directory_path above\n",
    "roi_path = directory_path / \"ROIs\"\n",
    "nuclei_preds_path =  directory_path / \"nuclei_preds\" / segmentation_type / model_name\n",
    "\n",
    "# Extract the experiment name from the data directory path\n",
    "experiment_id = directory_path.name\n",
    "\n",
    "# List of subfolder names\n",
    "try:\n",
    "    roi_names = [folder.name for folder in roi_path.iterdir() if folder.is_dir()]\n",
    "\n",
    "except FileNotFoundError:\n",
    "    roi_names = [\"full_image\"]\n",
    "        \n",
    "print(f\"The following regions of interest will be analyzed: {roi_names}\")\n",
    "\n",
    "# Create an empty list to store all stats extracted from each image\n",
    "stats = []\n",
    "\n",
    "for roi_name in tqdm(roi_names):\n",
    "\n",
    "    # Read the user defined ROIs, in case of full image analysis generate a label covering the entire image\n",
    "    try:\n",
    "        # Read previously defined ROIs\n",
    "        user_roi = tifffile.imread(roi_path / roi_name / f\"{filename}.tiff\")\n",
    "\n",
    "    except FileNotFoundError:\n",
    "        # Extract the xy dimensions of the input image \n",
    "        img_shape = img_mip.shape\n",
    "        img_xy_dims = img_shape[-2:]\n",
    "\n",
    "        # Create a label covering the entire image\n",
    "        user_roi = np.ones(img_xy_dims).astype(np.uint8)\n",
    "\n",
    "    # Read previously predicted nuclei labels, if not present generate nuclei predictions and save them\n",
    "    try:\n",
    "        # Read the nuclei predictions per ROI\n",
    "        nuclei_labels = tifffile.imread(nuclei_preds_path / roi_name / f\"{filename}.tiff\")\n",
    "\n",
    "    except FileNotFoundError:\n",
    "\n",
    "        # Slice the nuclei stack\n",
    "        nuclei_img = img_mip[nuclei_channel, :, :]\n",
    "\n",
    "        # We will create a mask where roi is greater than or equal to 1\n",
    "        mask = (user_roi >= 1).astype(np.uint8)\n",
    "\n",
    "        # Apply the mask to nuclei_img and marker_img, setting all other pixels to 0\n",
    "        masked_nuclei_img = np.where(mask, nuclei_img, 0)\n",
    "\n",
    "        # Segment nuclei and return labels\n",
    "        nuclei_labels = segment_nuclei_2d(masked_nuclei_img, gaussian_sigma, cellpose_nuclei_diameter)\n",
    "\n",
    "        # Save nuclei labels as .tiff files to reuse them later\n",
    "        # Create nuclei_predictions directory if it does not exist\n",
    "        try:\n",
    "            os.makedirs(directory_path / \"nuclei_preds\" / roi_name)\n",
    "        except FileExistsError:\n",
    "            pass\n",
    "\n",
    "        # Construct path to store\n",
    "        path_to_store = nuclei_preds_path / roi_name / f\"{filename}.tiff\"\n",
    "\n",
    "        # Save mask (binary image)\n",
    "        tifffile.imwrite(path_to_store, nuclei_labels)\n",
    "\n",
    "    # Add the predicted nuclei as labels into Napari\n",
    "    viewer.add_labels(nuclei_labels, name=f\"{roi_name}_nuclei\")\n",
    "\n",
    "    # Add the ROIs as labels into Napari\n",
    "    viewer.add_labels(user_roi, name=f\"{roi_name}_ROI\", opacity=0.4)\n",
    "\n",
    "    # Simulate a cytoplasm by growing the nuclei_labels\n",
    "    if location == \"cytoplasm\":\n",
    "        \n",
    "        nuclei_labels = cle.dilate_labels(nuclei_labels, radius=cytoplasm_dilation_radius)\n",
    "        nuclei_labels = cle.pull(nuclei_labels)\n",
    "\n",
    "    # Select marker positive nuclei\n",
    "    nuclei_and_marker, eroded_nuclei_and_marker, marker_mip, processed_region_labels = segment_marker_positive_nuclei (nuclei_labels, marker_img, min_max_range, erosion_factor)\n",
    "    viewer.add_image(nuclei_and_marker, name=f\"{roi_name}_{marker_name}_nuclei_coloc\")\n",
    "    viewer.add_image(eroded_nuclei_and_marker, name=f\"{roi_name}_{marker_name}_nuclei_eroded\")\n",
    "    viewer.add_labels(processed_region_labels, name=f\"{roi_name}_{marker_name}+_nuclei\")\n",
    "\n",
    "    # Extract your information of interest\n",
    "    total_nuclei = len(np.unique(nuclei_labels)) - 1\n",
    "    marker_pos_nuclei = len(np.unique(processed_region_labels)) - 1\n",
    "\n",
    "    # Calculate \"%_marker+_cells\" and avoid division by zero errors\n",
    "    try:\n",
    "        perc_marker_pos_cells = (marker_pos_nuclei * 100) / total_nuclei\n",
    "    except ZeroDivisionError:\n",
    "        perc_marker_pos_cells = 0\n",
    "\n",
    "    # Create a dictionary containing all extracted info per masked image\n",
    "    stats_dict = {\n",
    "                \"filename\": filename,\n",
    "                \"ROI\": roi_name,\n",
    "                \"marker\": marker_name,\n",
    "                \"marker_location\":location,\n",
    "                \"total_nuclei\": total_nuclei,\n",
    "                \"marker+_nuclei\": marker_pos_nuclei,\n",
    "                \"%_marker+_cells\": perc_marker_pos_cells,\n",
    "                \"nuclei_ch\": nuclei_channel,\n",
    "                \"marker_ch\": marker_channel,\n",
    "                \"marker_min_max\": min_max_range,\n",
    "                \"cytoplasm_dilation\":cytoplasm_dilation_radius,\n",
    "                \"erosion_factor\": erosion_factor,\n",
    "                \"cellpose_nuclei_diameter\": cellpose_nuclei_diameter,\n",
    "                \"gaussian_sigma\": gaussian_sigma,\n",
    "                \"slicing_factor\": slicing_factor\n",
    "                }\n",
    "\n",
    "    # Append the current data point to the stats_list\n",
    "    stats.append(stats_dict)    "
   ]
  },
  {
   "cell_type": "markdown",
   "metadata": {},
   "source": [
    "<h3>Data saving</h3>\n"
   ]
  },
  {
   "cell_type": "code",
   "execution_count": null,
   "metadata": {},
   "outputs": [],
   "source": [
    "# Define output folder for results\n",
    "results_folder = Path(\"results\") / experiment_id / segmentation_type / model_name\n",
    "\n",
    "# Create the necessary folder structure if it does not exist\n",
    "try:\n",
    "    os.makedirs(str(results_folder))\n",
    "    print(f\"Output folder created: {results_folder}\")\n",
    "except FileExistsError:\n",
    "    print(f\"Output folder already exists: {results_folder}\")\n",
    "\n",
    "# Transform into a dataframe to store it as .csv later\n",
    "df = pd.DataFrame(stats)\n",
    "\n",
    "# Define the .csv path\n",
    "csv_path = results_folder / f\"SP_marker_+_label_coloc.csv\"\n",
    "\n",
    "# Append to the .csv with new data points each round\n",
    "df.to_csv(csv_path, mode=\"a\", index=False, header=not os.path.isfile(csv_path))\n",
    "\n",
    "# Show the updated .csv \n",
    "csv_df = pd.read_csv(csv_path)\n",
    "\n",
    "csv_df"
   ]
  }
 ],
 "metadata": {
  "kernelspec": {
   "display_name": "brain_nuc_cellpose",
   "language": "python",
   "name": "python3"
  },
  "language_info": {
   "codemirror_mode": {
    "name": "ipython",
    "version": 3
   },
   "file_extension": ".py",
   "mimetype": "text/x-python",
   "name": "python",
   "nbconvert_exporter": "python",
   "pygments_lexer": "ipython3",
   "version": "3.11.11"
  }
 },
 "nbformat": 4,
 "nbformat_minor": 2
}
