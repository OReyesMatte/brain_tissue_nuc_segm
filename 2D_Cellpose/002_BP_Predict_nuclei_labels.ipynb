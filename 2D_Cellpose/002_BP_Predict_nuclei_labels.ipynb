{
 "cells": [
  {
   "cell_type": "code",
   "execution_count": 1,
   "metadata": {},
   "outputs": [
    {
     "name": "stderr",
     "output_type": "stream",
     "text": [
      "c:\\Users\\adiez_cmic\\miniforge3\\envs\\brain_nuc_cellpose\\Lib\\site-packages\\cellpose\\resnet_torch.py:276: FutureWarning: You are using `torch.load` with `weights_only=False` (the current default value), which uses the default pickle module implicitly. It is possible to construct malicious pickle data which will execute arbitrary code during unpickling (See https://github.com/pytorch/pytorch/blob/main/SECURITY.md#untrusted-models for more details). In a future release, the default value for `weights_only` will be flipped to `True`. This limits the functions that could be executed during unpickling. Arbitrary objects will no longer be allowed to be loaded via this mode unless they are explicitly allowlisted by the user via `torch.serialization.add_safe_globals`. We recommend you start setting `weights_only=True` for any use case where you don't have full control of the loaded file. Please open an issue on GitHub for any issues related to this experimental feature.\n",
      "  state_dict = torch.load(filename, map_location=device)\n"
     ]
    },
    {
     "data": {
      "text/plain": [
       "<NVIDIA GeForce RTX 4090 on Platform: NVIDIA CUDA (1 refs)>"
      ]
     },
     "execution_count": 1,
     "metadata": {},
     "output_type": "execute_result"
    }
   ],
   "source": [
    "from pathlib import Path\n",
    "import tifffile\n",
    "import os\n",
    "from tqdm import tqdm\n",
    "import numpy as np\n",
    "import pandas as pd\n",
    "import pyclesperanto_prototype as cle\n",
    "from utils_cellpose import list_images, read_image, segment_nuclei_2d\n",
    "\n",
    "cle.select_device(\"RTX\")"
   ]
  },
  {
   "cell_type": "markdown",
   "metadata": {},
   "source": [
    "<h3>Define the directory where your images are stored (.nd2 or .czi files)</h3>"
   ]
  },
  {
   "cell_type": "code",
   "execution_count": 2,
   "metadata": {},
   "outputs": [
    {
     "data": {
      "text/plain": [
       "['..\\\\raw_data\\\\070824 x\\\\A1_Brain1_TR1.czi',\n",
       " '..\\\\raw_data\\\\070824 x\\\\A1_Brain1_TR2.czi',\n",
       " '..\\\\raw_data\\\\070824 x\\\\A1_Brain2_TR1.czi',\n",
       " '..\\\\raw_data\\\\070824 x\\\\A1_Brain2_TR2.czi',\n",
       " '..\\\\raw_data\\\\070824 x\\\\A2_Brain1_TR1_HipSub.czi',\n",
       " '..\\\\raw_data\\\\070824 x\\\\A2_Brain1_TR1_SVZ.czi',\n",
       " '..\\\\raw_data\\\\070824 x\\\\A2_Brain1_TR2_HipSub.czi',\n",
       " '..\\\\raw_data\\\\070824 x\\\\A2_Brain1_TR2_SVZ.czi',\n",
       " '..\\\\raw_data\\\\070824 x\\\\A2_Brain2_TR1_HipSub.czi',\n",
       " '..\\\\raw_data\\\\070824 x\\\\A2_Brain2_TR1_SVZ.czi',\n",
       " '..\\\\raw_data\\\\070824 x\\\\A2_Brain2_TR2_HipSub.czi',\n",
       " '..\\\\raw_data\\\\070824 x\\\\A2_Brain2_TR2_SVZ.czi',\n",
       " '..\\\\raw_data\\\\070824 x\\\\B1_Brain1_TR1_HibSub.czi',\n",
       " '..\\\\raw_data\\\\070824 x\\\\B1_Brain1_TR1_SVZ.czi',\n",
       " '..\\\\raw_data\\\\070824 x\\\\B1_Brain1_TR2_HibSub.czi',\n",
       " '..\\\\raw_data\\\\070824 x\\\\B1_Brain2_TR1_HibSub.czi',\n",
       " '..\\\\raw_data\\\\070824 x\\\\B1_Brain2_TR2_HibSub.czi',\n",
       " '..\\\\raw_data\\\\070824 x\\\\B2_Brain1_TR1_HibSub.czi',\n",
       " '..\\\\raw_data\\\\070824 x\\\\B2_Brain1_TR2_HipSub.czi',\n",
       " '..\\\\raw_data\\\\070824 x\\\\B2_Brain2_TR1_HibSub.czi',\n",
       " '..\\\\raw_data\\\\070824 x\\\\B2_Brain2_TR2_HipSub.czi']"
      ]
     },
     "execution_count": 2,
     "metadata": {},
     "output_type": "execute_result"
    }
   ],
   "source": [
    "# Copy the path where your images are stored, you can use absolute or relative paths to point at other disk locations\n",
    "directory_path = Path(\"../raw_data/070824 x\")\n",
    "\n",
    "# Construct ROI path from directory_path above\n",
    "roi_path = directory_path / \"ROIs\"\n",
    "\n",
    "# Iterate through the .czi and .nd2 files in the raw_data directory\n",
    "images = list_images(directory_path)\n",
    "\n",
    "images"
   ]
  },
  {
   "cell_type": "markdown",
   "metadata": {},
   "source": [
    "<h3>Define your nuclei channel and your nuclear segmentation parameters</h3>\n",
    "\n",
    "Modify the values for <code>slicing factor</code>, <code>nuclei_channel</code>, <code>cellpose_nuclei_diameter</code> and <code>gaussian_sigma</code>\n"
   ]
  },
  {
   "cell_type": "code",
   "execution_count": 3,
   "metadata": {},
   "outputs": [],
   "source": [
    "# Image size reduction to improve processing times (slicing, not lossless compression)\n",
    "slicing_factor = None # Use 2 or 4 for compression (None for lossless)\n",
    "\n",
    "# Define the nuclei and markers of interest channel order ('Remember in Python one starts counting from zero')\n",
    "nuclei_channel = 2\n",
    "\n",
    "# Segmentation type (\"2D\" or \"3D\"). \n",
    "# 2D takes a z-stack as input, performs MIP (Maximum Intensity Projection) and predicts nuclei from the resulting projection (faster, useful for single layers of cells)\n",
    "# 3D is more computationally expensive. Predicts 3D nuclear volumes, useful for multilayered structures\n",
    "segmentation_type = \"2D\"\n",
    "\n",
    "# This is a placeholder to later choose from fine-tuned Cellpose models (default nuclei model in Cellpose 3.0)\n",
    "model_name = \"Cellpose\"\n",
    "\n",
    "# Define your nuclei diameter, it speeds up nuclei detection, if unknown leave it as None\n",
    "cellpose_nuclei_diameter = None\n",
    "\n",
    "# Define the amount of blur applied to nuclei\n",
    "# Blurs the mip_nuclei image to even out high intensity foci within the nucleus, the higher the value blurriness increases\n",
    "# High values help segment sparse nuclei (CA and CTX regions) but as a drawback it merges nuclei entities that are very close together (DG region)\n",
    "gaussian_sigma = 0"
   ]
  },
  {
   "cell_type": "markdown",
   "metadata": {},
   "source": [
    "<h3>Predict nuclei labels and store them as .tiff files</h3>"
   ]
  },
  {
   "cell_type": "code",
   "execution_count": 4,
   "metadata": {},
   "outputs": [
    {
     "name": "stderr",
     "output_type": "stream",
     "text": [
      "  0%|          | 0/21 [00:00<?, ?it/s]"
     ]
    },
    {
     "name": "stdout",
     "output_type": "stream",
     "text": [
      "\n",
      "\n",
      "Image analyzed: A1_Brain1_TR1\n",
      "Original Array shape: (3, 12, 4732, 3812)\n",
      "MIP Array shape: (3, 4732, 3812)\n",
      "Generating nuclei predictions for full_image ROI\n"
     ]
    },
    {
     "name": "stderr",
     "output_type": "stream",
     "text": [
      "  5%|▍         | 1/21 [00:19<06:22, 19.10s/it]"
     ]
    },
    {
     "name": "stdout",
     "output_type": "stream",
     "text": [
      "\n",
      "\n",
      "Image analyzed: A1_Brain1_TR2\n",
      "Original Array shape: (3, 10, 4730, 3815)\n",
      "MIP Array shape: (3, 4730, 3815)\n",
      "Generating nuclei predictions for full_image ROI\n"
     ]
    },
    {
     "name": "stderr",
     "output_type": "stream",
     "text": [
      " 10%|▉         | 2/21 [00:35<05:29, 17.32s/it]"
     ]
    },
    {
     "name": "stdout",
     "output_type": "stream",
     "text": [
      "\n",
      "\n",
      "Image analyzed: A1_Brain2_TR1\n",
      "Original Array shape: (3, 14, 4732, 3813)\n",
      "MIP Array shape: (3, 4732, 3813)\n",
      "Generating nuclei predictions for full_image ROI\n"
     ]
    },
    {
     "name": "stderr",
     "output_type": "stream",
     "text": [
      " 14%|█▍        | 3/21 [00:54<05:26, 18.13s/it]"
     ]
    },
    {
     "name": "stdout",
     "output_type": "stream",
     "text": [
      "\n",
      "\n",
      "Image analyzed: A1_Brain2_TR2\n",
      "Original Array shape: (3, 8, 3788, 2866)\n",
      "MIP Array shape: (3, 3788, 2866)\n",
      "Generating nuclei predictions for full_image ROI\n"
     ]
    },
    {
     "name": "stderr",
     "output_type": "stream",
     "text": [
      " 19%|█▉        | 4/21 [01:05<04:20, 15.32s/it]"
     ]
    },
    {
     "name": "stdout",
     "output_type": "stream",
     "text": [
      "\n",
      "\n",
      "Image analyzed: A2_Brain1_TR1_HipSub\n",
      "Original Array shape: (3, 7, 3788, 4710)\n",
      "MIP Array shape: (3, 3788, 4710)\n",
      "Generating nuclei predictions for full_image ROI\n"
     ]
    },
    {
     "name": "stderr",
     "output_type": "stream",
     "text": [
      " 24%|██▍       | 5/21 [01:23<04:22, 16.44s/it]"
     ]
    },
    {
     "name": "stdout",
     "output_type": "stream",
     "text": [
      "\n",
      "\n",
      "Image analyzed: A2_Brain1_TR1_SVZ\n",
      "Original Array shape: (3, 8, 2866, 2866)\n",
      "MIP Array shape: (3, 2866, 2866)\n",
      "Generating nuclei predictions for full_image ROI\n"
     ]
    },
    {
     "name": "stderr",
     "output_type": "stream",
     "text": [
      " 29%|██▊       | 6/21 [01:30<03:17, 13.16s/it]"
     ]
    },
    {
     "name": "stdout",
     "output_type": "stream",
     "text": [
      "\n",
      "\n",
      "Image analyzed: A2_Brain1_TR2_HipSub\n",
      "Original Array shape: (3, 10, 3788, 6552)\n",
      "MIP Array shape: (3, 3788, 6552)\n",
      "Generating nuclei predictions for full_image ROI\n"
     ]
    },
    {
     "name": "stderr",
     "output_type": "stream",
     "text": [
      " 33%|███▎      | 7/21 [01:56<04:01, 17.28s/it]"
     ]
    },
    {
     "name": "stdout",
     "output_type": "stream",
     "text": [
      "\n",
      "\n",
      "Image analyzed: A2_Brain1_TR2_SVZ\n",
      "Original Array shape: (3, 10, 4710, 4710)\n",
      "MIP Array shape: (3, 4710, 4710)\n",
      "Generating nuclei predictions for full_image ROI\n"
     ]
    },
    {
     "name": "stderr",
     "output_type": "stream",
     "text": [
      " 38%|███▊      | 8/21 [02:16<03:57, 18.28s/it]"
     ]
    },
    {
     "name": "stdout",
     "output_type": "stream",
     "text": [
      "\n",
      "\n",
      "Image analyzed: A2_Brain2_TR1_HipSub\n",
      "Original Array shape: (3, 9, 3788, 7474)\n",
      "MIP Array shape: (3, 3788, 7474)\n",
      "Generating nuclei predictions for full_image ROI\n"
     ]
    },
    {
     "name": "stderr",
     "output_type": "stream",
     "text": [
      " 43%|████▎     | 9/21 [02:46<04:22, 21.86s/it]"
     ]
    },
    {
     "name": "stdout",
     "output_type": "stream",
     "text": [
      "\n",
      "\n",
      "Image analyzed: A2_Brain2_TR1_SVZ\n",
      "Original Array shape: (3, 6, 3788, 3788)\n",
      "MIP Array shape: (3, 3788, 3788)\n",
      "Generating nuclei predictions for full_image ROI\n"
     ]
    },
    {
     "name": "stderr",
     "output_type": "stream",
     "text": [
      " 48%|████▊     | 10/21 [02:58<03:28, 18.99s/it]"
     ]
    },
    {
     "name": "stdout",
     "output_type": "stream",
     "text": [
      "\n",
      "\n",
      "Image analyzed: A2_Brain2_TR2_HipSub\n",
      "Original Array shape: (3, 13, 3788, 4710)\n",
      "MIP Array shape: (3, 3788, 4710)\n",
      "Generating nuclei predictions for full_image ROI\n"
     ]
    },
    {
     "name": "stderr",
     "output_type": "stream",
     "text": [
      " 52%|█████▏    | 11/21 [03:16<03:03, 18.39s/it]"
     ]
    },
    {
     "name": "stdout",
     "output_type": "stream",
     "text": [
      "\n",
      "\n",
      "Image analyzed: A2_Brain2_TR2_SVZ\n",
      "Original Array shape: (3, 13, 3788, 3788)\n",
      "MIP Array shape: (3, 3788, 3788)\n",
      "Generating nuclei predictions for full_image ROI\n"
     ]
    },
    {
     "name": "stderr",
     "output_type": "stream",
     "text": [
      " 57%|█████▋    | 12/21 [03:27<02:26, 16.28s/it]"
     ]
    },
    {
     "name": "stdout",
     "output_type": "stream",
     "text": [
      "\n",
      "\n",
      "Image analyzed: B1_Brain1_TR1_HibSub\n",
      "Original Array shape: (3, 11, 5632, 3788)\n",
      "MIP Array shape: (3, 5632, 3788)\n",
      "Generating nuclei predictions for full_image ROI\n"
     ]
    },
    {
     "name": "stderr",
     "output_type": "stream",
     "text": [
      " 62%|██████▏   | 13/21 [04:04<03:01, 22.63s/it]"
     ]
    },
    {
     "name": "stdout",
     "output_type": "stream",
     "text": [
      "\n",
      "\n",
      "Image analyzed: B1_Brain1_TR1_SVZ\n",
      "Original Array shape: (3, 11, 5632, 5632)\n",
      "MIP Array shape: (3, 5632, 5632)\n",
      "Generating nuclei predictions for full_image ROI\n"
     ]
    },
    {
     "name": "stderr",
     "output_type": "stream",
     "text": [
      " 67%|██████▋   | 14/21 [04:43<03:13, 27.62s/it]"
     ]
    },
    {
     "name": "stdout",
     "output_type": "stream",
     "text": [
      "\n",
      "\n",
      "Image analyzed: B1_Brain1_TR2_HibSub\n",
      "Original Array shape: (3, 9, 5632, 3788)\n",
      "MIP Array shape: (3, 5632, 3788)\n",
      "Generating nuclei predictions for full_image ROI\n"
     ]
    },
    {
     "name": "stderr",
     "output_type": "stream",
     "text": [
      " 71%|███████▏  | 15/21 [05:13<02:49, 28.21s/it]"
     ]
    },
    {
     "name": "stdout",
     "output_type": "stream",
     "text": [
      "\n",
      "\n",
      "Image analyzed: B1_Brain2_TR1_HibSub\n",
      "Original Array shape: (3, 9, 4710, 3788)\n",
      "MIP Array shape: (3, 4710, 3788)\n",
      "Generating nuclei predictions for full_image ROI\n"
     ]
    },
    {
     "name": "stderr",
     "output_type": "stream",
     "text": [
      " 76%|███████▌  | 16/21 [05:37<02:14, 26.90s/it]"
     ]
    },
    {
     "name": "stdout",
     "output_type": "stream",
     "text": [
      "\n",
      "\n",
      "Image analyzed: B1_Brain2_TR2_HibSub\n",
      "Original Array shape: (3, 9, 3788, 3788)\n",
      "MIP Array shape: (3, 3788, 3788)\n",
      "Generating nuclei predictions for full_image ROI\n"
     ]
    },
    {
     "name": "stderr",
     "output_type": "stream",
     "text": [
      " 81%|████████  | 17/21 [05:52<01:33, 23.47s/it]"
     ]
    },
    {
     "name": "stdout",
     "output_type": "stream",
     "text": [
      "\n",
      "\n",
      "Image analyzed: B2_Brain1_TR1_HibSub\n",
      "Original Array shape: (3, 8, 6552, 3788)\n",
      "MIP Array shape: (3, 6552, 3788)\n",
      "Generating nuclei predictions for full_image ROI\n"
     ]
    },
    {
     "name": "stderr",
     "output_type": "stream",
     "text": [
      " 86%|████████▌ | 18/21 [06:19<01:12, 24.32s/it]"
     ]
    },
    {
     "name": "stdout",
     "output_type": "stream",
     "text": [
      "\n",
      "\n",
      "Image analyzed: B2_Brain1_TR2_HipSub\n",
      "Original Array shape: (3, 9, 4710, 3788)\n",
      "MIP Array shape: (3, 4710, 3788)\n",
      "Generating nuclei predictions for full_image ROI\n"
     ]
    },
    {
     "name": "stderr",
     "output_type": "stream",
     "text": [
      " 90%|█████████ | 19/21 [06:36<00:44, 22.36s/it]"
     ]
    },
    {
     "name": "stdout",
     "output_type": "stream",
     "text": [
      "\n",
      "\n",
      "Image analyzed: B2_Brain2_TR1_HibSub\n",
      "Original Array shape: (3, 8, 5632, 3788)\n",
      "MIP Array shape: (3, 5632, 3788)\n",
      "Generating nuclei predictions for full_image ROI\n"
     ]
    },
    {
     "name": "stderr",
     "output_type": "stream",
     "text": [
      " 95%|█████████▌| 20/21 [06:57<00:21, 21.81s/it]"
     ]
    },
    {
     "name": "stdout",
     "output_type": "stream",
     "text": [
      "\n",
      "\n",
      "Image analyzed: B2_Brain2_TR2_HipSub\n",
      "Original Array shape: (3, 9, 5631, 3788)\n",
      "MIP Array shape: (3, 5631, 3788)\n",
      "Generating nuclei predictions for full_image ROI\n"
     ]
    },
    {
     "name": "stderr",
     "output_type": "stream",
     "text": [
      "100%|██████████| 21/21 [07:19<00:00, 20.91s/it]\n"
     ]
    }
   ],
   "source": [
    "# List of subfolder names\n",
    "try: \n",
    "    roi_names = [folder.name for folder in roi_path.iterdir() if folder.is_dir()]\n",
    "    print(f\"The following regions of interest will be analyzed: {roi_names}\")\n",
    "\n",
    "except FileNotFoundError:\n",
    "    roi_names = [\"full_image\"]\n",
    "\n",
    "for image in tqdm(images):\n",
    "\n",
    "    # Generate maximum intensity projection and extract filename\n",
    "    img_mip, filename = read_image(image, slicing_factor)\n",
    "\n",
    "    # Slice the nuclei stack\n",
    "    nuclei_img = img_mip[nuclei_channel, :, :]\n",
    "    \n",
    "    for roi_name in roi_names:\n",
    "    \n",
    "        print(f\"Generating nuclei predictions for {roi_name} ROI\")\n",
    "\n",
    "        # Construct path to read ROI\n",
    "        roi_path = directory_path / \"ROIs\" / roi_name / f\"{filename}.tiff\"\n",
    "\n",
    "        try:\n",
    "\n",
    "            # Read the .tiff files containing the user-defined ROIs\n",
    "            roi = tifffile.imread(roi_path)\n",
    "\n",
    "            # We will create a mask where roi is greater than or equal to 1\n",
    "            mask = (roi >= 1).astype(np.uint8)\n",
    "\n",
    "            # Apply the mask to nuclei_img and marker_img, setting all other pixels to 0\n",
    "            masked_nuclei_img = np.where(mask, nuclei_img, 0)\n",
    "\n",
    "        except FileNotFoundError:\n",
    "            # If no ROI is saved the script will predict nuclei in the entire nuclei_img input\n",
    "            masked_nuclei_img = nuclei_img\n",
    "\n",
    "        # Segment nuclei and return labels\n",
    "        nuclei_labels = segment_nuclei_2d(masked_nuclei_img, gaussian_sigma, cellpose_nuclei_diameter)\n",
    "\n",
    "        # Save nuclei labels as .tiff files to reuse them later\n",
    "        # Create nuclei_predictions directory if it does not exist\n",
    "        try:\n",
    "            os.makedirs(directory_path / \"nuclei_preds\" / segmentation_type / model_name / roi_name)\n",
    "        except FileExistsError:\n",
    "            pass\n",
    "\n",
    "        # Construct path to store\n",
    "        nuclei_preds_path = directory_path / \"nuclei_preds\" / segmentation_type / model_name / roi_name / f\"{filename}.tiff\"\n",
    "\n",
    "        # Save mask (binary image)\n",
    "        tifffile.imwrite(nuclei_preds_path, nuclei_labels)"
   ]
  }
 ],
 "metadata": {
  "kernelspec": {
   "display_name": "brain_nuc_cellpose",
   "language": "python",
   "name": "python3"
  },
  "language_info": {
   "codemirror_mode": {
    "name": "ipython",
    "version": 3
   },
   "file_extension": ".py",
   "mimetype": "text/x-python",
   "name": "python",
   "nbconvert_exporter": "python",
   "pygments_lexer": "ipython3",
   "version": "3.11.11"
  }
 },
 "nbformat": 4,
 "nbformat_minor": 2
}
