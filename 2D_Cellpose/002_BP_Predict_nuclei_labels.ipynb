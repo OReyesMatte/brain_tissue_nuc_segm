{
 "cells": [
  {
   "cell_type": "code",
   "execution_count": null,
   "metadata": {},
   "outputs": [],
   "source": [
    "from pathlib import Path\n",
    "import tifffile\n",
    "import os\n",
    "from tqdm import tqdm\n",
    "import numpy as np\n",
    "import pandas as pd\n",
    "import pyclesperanto_prototype as cle\n",
    "from utils_cellpose import list_images, read_image, segment_nuclei_2d\n",
    "\n",
    "cle.select_device(\"RTX\")"
   ]
  },
  {
   "cell_type": "markdown",
   "metadata": {},
   "source": [
    "<h3>Define the directory where your images are stored (.nd2 or .czi files)</h3>"
   ]
  },
  {
   "cell_type": "code",
   "execution_count": null,
   "metadata": {},
   "outputs": [],
   "source": [
    "# Copy the path where your images are stored, you can use absolute or relative paths to point at other disk locations\n",
    "directory_path = Path(\"../raw_data/test_data\")\n",
    "\n",
    "# Construct ROI path from directory_path above\n",
    "roi_path = directory_path / \"ROIs\"\n",
    "\n",
    "# Iterate through the .czi and .nd2 files in the raw_data directory\n",
    "images = list_images(directory_path)\n",
    "\n",
    "images"
   ]
  },
  {
   "cell_type": "markdown",
   "metadata": {},
   "source": [
    "<h3>Define your nuclei channel and your nuclear segmentation parameters</h3>\n",
    "\n",
    "Modify the values for <code>slicing factor</code>, <code>nuclei_channel</code>, <code>cellpose_nuclei_diameter</code> and <code>gaussian_sigma</code>\n"
   ]
  },
  {
   "cell_type": "code",
   "execution_count": 17,
   "metadata": {},
   "outputs": [],
   "source": [
    "# Image size reduction to improve processing times (slicing, not lossless compression)\n",
    "slicing_factor = None # Use 2 or 4 for compression (None for lossless)\n",
    "\n",
    "# Define the nuclei and markers of interest channel order ('Remember in Python one starts counting from zero')\n",
    "nuclei_channel = 2\n",
    "\n",
    "# Segmentation type (\"2D\" or \"3D\"). \n",
    "# 2D takes a z-stack as input, performs MIP (Maximum Intensity Projection) and predicts nuclei from the resulting projection (faster, useful for single layers of cells)\n",
    "# 3D is more computationally expensive. Predicts 3D nuclear volumes, useful for multilayered structures\n",
    "segmentation_type = \"2D\"\n",
    "\n",
    "# This is a placeholder to later choose from fine-tuned Cellpose models (default nuclei model in Cellpose 3.0)\n",
    "model_name = \"Cellpose\"\n",
    "\n",
    "# Define your nuclei diameter, it speeds up nuclei detection, if unknown leave it as None\n",
    "cellpose_nuclei_diameter = None\n",
    "\n",
    "# Define the amount of blur applied to nuclei\n",
    "# Blurs the mip_nuclei image to even out high intensity foci within the nucleus, the higher the value blurriness increases\n",
    "# High values help segment sparse nuclei (CA and CTX regions) but as a drawback it merges nuclei entities that are very close together (DG region)\n",
    "gaussian_sigma = 0"
   ]
  },
  {
   "cell_type": "markdown",
   "metadata": {},
   "source": [
    "<h3>Predict nuclei labels and store them as .tiff files</h3>"
   ]
  },
  {
   "cell_type": "code",
   "execution_count": null,
   "metadata": {},
   "outputs": [],
   "source": [
    "# List of subfolder names\n",
    "try: \n",
    "    roi_names = [folder.name for folder in roi_path.iterdir() if folder.is_dir()]\n",
    "    print(f\"The following regions of interest will be analyzed: {roi_names}\")\n",
    "\n",
    "except FileNotFoundError:\n",
    "    roi_names = [\"full_image\"]\n",
    "\n",
    "for image in tqdm(images):\n",
    "\n",
    "    for roi_name in roi_names:\n",
    "        # Check if the prediction has already been generated\n",
    "        try:\n",
    "            file_path = Path(image)\n",
    "            filename = file_path.stem\n",
    "            tifffile.imread(directory_path / \"nuclei_preds\" / segmentation_type / model_name / roi_name / f\"{filename}.tiff\")\n",
    "            print(f\"\\nWARNING: Nuclei predictions already found for: {filename} ROI: {roi_name}\")\n",
    "            print(\"Make sure nuclei labels were generated using the same settings.\")\n",
    "\n",
    "        except FileNotFoundError:\n",
    "\n",
    "            # Generate maximum intensity projection and extract filename\n",
    "            img_mip, filename = read_image(image, slicing_factor)\n",
    "\n",
    "            # Slice the nuclei stack\n",
    "            nuclei_img = img_mip[nuclei_channel, :, :]\n",
    "            \n",
    "            for roi_name in roi_names:\n",
    "            \n",
    "                print(f\"Generating nuclei predictions for {roi_name} ROI\")\n",
    "\n",
    "                # Construct path to read ROI\n",
    "                roi_path = directory_path / \"ROIs\" / roi_name / f\"{filename}.tiff\"\n",
    "\n",
    "                try:\n",
    "\n",
    "                    # Read the .tiff files containing the user-defined ROIs\n",
    "                    roi = tifffile.imread(roi_path)\n",
    "\n",
    "                    # We will create a mask where roi is greater than or equal to 1\n",
    "                    mask = (roi >= 1).astype(np.uint8)\n",
    "\n",
    "                    # Apply the mask to nuclei_img and marker_img, setting all other pixels to 0\n",
    "                    masked_nuclei_img = np.where(mask, nuclei_img, 0)\n",
    "\n",
    "                except FileNotFoundError:\n",
    "                    # If no ROI is saved the script will predict nuclei in the entire nuclei_img input\n",
    "                    masked_nuclei_img = nuclei_img\n",
    "\n",
    "                # Segment nuclei and return labels\n",
    "                nuclei_labels = segment_nuclei_2d(masked_nuclei_img, gaussian_sigma, cellpose_nuclei_diameter)\n",
    "\n",
    "                # Save nuclei labels as .tiff files to reuse them later\n",
    "                # Create nuclei_predictions directory if it does not exist\n",
    "                try:\n",
    "                    os.makedirs(directory_path / \"nuclei_preds\" / segmentation_type / model_name / roi_name)\n",
    "                except FileExistsError:\n",
    "                    pass\n",
    "\n",
    "                # Construct path to store\n",
    "                nuclei_preds_path = directory_path / \"nuclei_preds\" / segmentation_type / model_name / roi_name / f\"{filename}.tiff\"\n",
    "\n",
    "                # Save mask (binary image)\n",
    "                tifffile.imwrite(nuclei_preds_path, nuclei_labels)\n",
    "\n",
    "print(\"\\nNuclei prediction completed\")"
   ]
  }
 ],
 "metadata": {
  "kernelspec": {
   "display_name": "brain_nuc_cellpose",
   "language": "python",
   "name": "python3"
  },
  "language_info": {
   "codemirror_mode": {
    "name": "ipython",
    "version": 3
   },
   "file_extension": ".py",
   "mimetype": "text/x-python",
   "name": "python",
   "nbconvert_exporter": "python",
   "pygments_lexer": "ipython3",
   "version": "3.11.11"
  }
 },
 "nbformat": 4,
 "nbformat_minor": 2
}
