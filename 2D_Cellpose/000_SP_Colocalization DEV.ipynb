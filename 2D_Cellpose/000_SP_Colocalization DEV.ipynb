{
 "cells": [
  {
   "cell_type": "markdown",
   "metadata": {},
   "source": [
    "<h2>3D stack to 2D MIP - Single image - Marker+ based on colocalization</h2>\n",
    "\n",
    "The following notebook is able to process a 3D stack (.czi or .nd2 files) into a MIP and allows you to:\n",
    "\n",
    "1. Inspect your images in Napari.\n",
    "2. Define regions of interest (ROIs) using labels in Napari. Store said ROIs as .tiff files if needed.\n",
    "3. Predict nuclei labels and store them as .tiff files for further processing.\n",
    "4. Extract numbers of cells positive for a marker based on colocalization (using a user-defined min_max range).\n",
    "5. Display positive cells in Napari.\n",
    "6. Extract and save number of positive cells in a .csv file (SP_marker_+_label_coloc)."
   ]
  },
  {
   "cell_type": "code",
   "execution_count": 88,
   "metadata": {},
   "outputs": [
    {
     "data": {
      "text/plain": [
       "<NVIDIA GeForce RTX 4090 on Platform: NVIDIA CUDA (1 refs)>"
      ]
     },
     "execution_count": 88,
     "metadata": {},
     "output_type": "execute_result"
    }
   ],
   "source": [
    "from pathlib import Path\n",
    "from tqdm import tqdm\n",
    "import tifffile\n",
    "import napari\n",
    "import os\n",
    "import numpy as np\n",
    "import pandas as pd\n",
    "import pyclesperanto_prototype as cle\n",
    "from utils_cellpose import list_images, read_image, save_rois, segment_nuclei_2d, segment_marker_positive_nuclei\n",
    "\n",
    "cle.select_device(\"RTX\")"
   ]
  },
  {
   "cell_type": "markdown",
   "metadata": {},
   "source": [
    "<h3>Define the directory where your images are stored (.nd2 or .czi files)</h3>"
   ]
  },
  {
   "cell_type": "code",
   "execution_count": 89,
   "metadata": {},
   "outputs": [
    {
     "data": {
      "text/plain": [
       "['..\\\\raw_data\\\\test_data\\\\HI1_CONTRA_M8_S6_TR1.czi',\n",
       " '..\\\\raw_data\\\\test_data\\\\HI1_CONTRA_M8_S6_TR2.czi',\n",
       " '..\\\\raw_data\\\\test_data\\\\HI1_CONTRA_M8_S7_TR1.czi',\n",
       " '..\\\\raw_data\\\\test_data\\\\HI1_CONTRA_M8_S7_TR2.czi',\n",
       " '..\\\\raw_data\\\\test_data\\\\HI1_IPSI_M8_S6_TR1.czi',\n",
       " '..\\\\raw_data\\\\test_data\\\\HI1_IPSI_M8_S6_TR2.czi',\n",
       " '..\\\\raw_data\\\\test_data\\\\HI1_IPSI_M8_S7_TR1.czi',\n",
       " '..\\\\raw_data\\\\test_data\\\\HI2_CONTRA_M10_S10_TR1.czi',\n",
       " '..\\\\raw_data\\\\test_data\\\\HI2_CONTRA_M10_S10_TR2.czi',\n",
       " '..\\\\raw_data\\\\test_data\\\\HI2_IPSI_M10_S10_TR1.czi',\n",
       " '..\\\\raw_data\\\\test_data\\\\HI2_IPSI_M10_S10_TR2.czi',\n",
       " '..\\\\raw_data\\\\test_data\\\\HI3_CONTRA_M11_S10_TR1.czi',\n",
       " '..\\\\raw_data\\\\test_data\\\\HI3_CONTRA_M11_S10_TR2.czi',\n",
       " '..\\\\raw_data\\\\test_data\\\\HI3_IPSI_M11_S10_TR1.czi',\n",
       " '..\\\\raw_data\\\\test_data\\\\HI3_IPSI_M11_S10_TR2.czi',\n",
       " '..\\\\raw_data\\\\test_data\\\\SHAM1_CONTRA_M6_S11_TR1.czi',\n",
       " '..\\\\raw_data\\\\test_data\\\\SHAM1_CONTRA_M6_S11_TR2.czi',\n",
       " '..\\\\raw_data\\\\test_data\\\\SHAM1_CONTRA_M7_S11_TR1.czi',\n",
       " '..\\\\raw_data\\\\test_data\\\\SHAM1_CONTRA_M7_S11_TR2.czi',\n",
       " '..\\\\raw_data\\\\test_data\\\\SHAM1_IPSI_M6_S11_TR1.czi',\n",
       " '..\\\\raw_data\\\\test_data\\\\SHAM1_IPSI_M6_S11_TR2.czi',\n",
       " '..\\\\raw_data\\\\test_data\\\\SHAM1_IPSI_M7_S11_TR1.czi',\n",
       " '..\\\\raw_data\\\\test_data\\\\SHAM1_IPSI_M7_S11_TR2.czi']"
      ]
     },
     "execution_count": 89,
     "metadata": {},
     "output_type": "execute_result"
    }
   ],
   "source": [
    "# Copy the path where your images are stored, you can use absolute or relative paths to point at other disk locations\n",
    "directory_path = Path(\"../raw_data/test_data\")\n",
    "\n",
    "# Define the channels you want to analyze using the following structure:\n",
    "# markers = [(channel_name, channel_nr, cellular_location),(..., ..., ...)]\n",
    "# Remember in Python one starts counting from 0, so your first channel will be 0\n",
    "markers = [(\"ki67\", 0, \"nucleus\"), (\"neun\", 1, \"nucleus\"), (\"calbindin\", 2, \"cytoplasm\")]\n",
    "\n",
    "# Iterate through the .czi and .nd2 files in the directory\n",
    "images = list_images(directory_path)\n",
    "\n",
    "images"
   ]
  },
  {
   "cell_type": "markdown",
   "metadata": {},
   "source": [
    "<h3>Open each image in the directory</h3>\n",
    "You can do so by changing the number within the brackets below <code>image = images[0]</code>. By changing the <code>slicing factor</code> you lose resolution but speed up processing times (check the results)."
   ]
  },
  {
   "cell_type": "code",
   "execution_count": 90,
   "metadata": {},
   "outputs": [
    {
     "name": "stdout",
     "output_type": "stream",
     "text": [
      "\n",
      "\n",
      "Image analyzed: HI1_CONTRA_M8_S6_TR1\n",
      "Original Array shape: (4, 14, 3803, 2891)\n",
      "MIP Array shape: (4, 3803, 2891)\n"
     ]
    },
    {
     "data": {
      "text/plain": [
       "<Image layer 'img_mip' at 0x22c701ccfd0>"
      ]
     },
     "execution_count": 90,
     "metadata": {},
     "output_type": "execute_result"
    }
   ],
   "source": [
    "# Explore a different image to crop (0 defines the first image in the directory)\n",
    "image = images[0]\n",
    "\n",
    "# Image size reduction to improve processing times (slicing, not lossless compression)\n",
    "slicing_factor = None # Use 2 or 4 for compression (None for lossless)\n",
    "\n",
    "# Segmentation type (\"2D\" or \"3D\"). \n",
    "# 2D takes a z-stack as input, performs MIP (Maximum Intensity Projection) and predicts nuclei from the resulting projection (faster, useful for single layers of cells)\n",
    "# 3D is more computationally expensive. Predicts 3D nuclear volumes, useful for multilayered structures\n",
    "segmentation_type = \"2D\"\n",
    "\n",
    "# This is a placeholder to later choose from fine-tuned Cellpose models (default nuclei model in Cellpose 3.0)\n",
    "model_name = \"Cellpose\"\n",
    "\n",
    "# Generate maximum intensity projection and extract filename\n",
    "img_mip, filename = read_image(image, slicing_factor)\n",
    "\n",
    "# Show image in Napari to define ROI\n",
    "viewer = napari.Viewer(ndisplay=2)\n",
    "viewer.add_image(img_mip)"
   ]
  },
  {
   "cell_type": "markdown",
   "metadata": {},
   "source": [
    "<h3>Label your regions of interest in Napari and explore the signal of your marker of interest</h3>\n",
    "\n",
    "Make sure to set <code>n edit dim = 3</code> so the label propagates across all channels. Name your regions of interest as i.e. <code>DG</code>, <code>CA1</code>, <code>CA3</code> or <code>HIPPO</code>. If you do not draw any ROI the entire image will be analyzed.\n",
    "\n",
    "Fnally, select the <code>img_mip</code> layer and play with the contrast limit to later set a min_max range of intensities within which cells will be considered positive for said marker."
   ]
  },
  {
   "cell_type": "markdown",
   "metadata": {},
   "source": [
    "<video controls>\n",
    "  <source src=\"../assets/napari_labels.mp4\" type=\"video/mp4\">\n",
    "  Your browser does not support the video tag.\n",
    "</video>"
   ]
  },
  {
   "cell_type": "markdown",
   "metadata": {},
   "source": [
    "<h3>Save user-defined label ROIs as .tiff files</h3>"
   ]
  },
  {
   "cell_type": "code",
   "execution_count": 91,
   "metadata": {},
   "outputs": [
    {
     "name": "stdout",
     "output_type": "stream",
     "text": [
      "No user-defined ROIs have been stored\n"
     ]
    }
   ],
   "source": [
    "save_rois(viewer, directory_path, filename)"
   ]
  },
  {
   "cell_type": "markdown",
   "metadata": {},
   "source": [
    "<h3>Define your analysis parameters</h3>\n",
    "\n",
    "Modify the values for <code>nuclei_channel</code>, <code>marker_name</code>, <code>min_max_range</code> and <code>erosion_factor</code>\n",
    "\n",
    "Define marker <code>location</code> as either \"cytoplasm\" or \"nucleus\", and the <code>cytoplasm_dil_radius</code>."
   ]
  },
  {
   "cell_type": "code",
   "execution_count": 92,
   "metadata": {},
   "outputs": [
    {
     "data": {
      "text/plain": [
       "[('ki67', 0, 'nucleus'), ('neun', 1, 'nucleus'), ('calbindin', 2, 'cytoplasm')]"
      ]
     },
     "execution_count": 92,
     "metadata": {},
     "output_type": "execute_result"
    }
   ],
   "source": [
    "# You can choose markers from the following list\n",
    "markers"
   ]
  },
  {
   "cell_type": "code",
   "execution_count": 93,
   "metadata": {},
   "outputs": [],
   "source": [
    "# Define the nuclei channel order ('Remember in Python one starts counting from zero')\n",
    "nuclei_channel = 3\n",
    "\n",
    "# Type the marker you want to analyze from the list above\n",
    "marker_name = 'neun'\n",
    "\n",
    "# Define the intensity min_max range within which a cell is considered positive for a marker\n",
    "# Useful for i.e. ignoring unspecific bright spots\n",
    "min_max_range = (50, 115)\n",
    "\n",
    "# Define your nuclei diameter, it speeds up nuclei detection, if unknown leave it as None\n",
    "cellpose_nuclei_diameter = None\n",
    "\n",
    "# Define the amount of blur applied to nuclei\n",
    "# Blurs the mip_nuclei image to even out high intensity foci within the nucleus, the higher the value blurriness increases\n",
    "# High values help segment sparse nuclei (CA and CTX regions) but as a drawback it merges nuclei entities that are very close together (DG region)\n",
    "gaussian_sigma = 0\n",
    "\n",
    "# Sets the amount of erosion that is applied to areas where the marker+ signal colocalizes with nuclear signal\n",
    "# The higher the value, the stricter the conditions to consider a nuclei as marker+\n",
    "erosion_factor = 4\n",
    "\n",
    "# Define the amount of pixels you want to add around the nuclei to simulate the cytoplasm\n",
    "cytoplasm_dilation_radius = 2\n",
    "\n",
    "# Retrieve the first and second values (channel and location) of the corresponding tuple in markers\n",
    "for item in markers:\n",
    "    if item[0] == marker_name:\n",
    "        marker_channel = item[1]\n",
    "        location = item[2]\n",
    "        break  # Stop searching once the marker is found\n",
    "\n",
    "# Slice the nuclei and marker stack\n",
    "nuclei_img = img_mip[nuclei_channel, :, :]\n",
    "marker_img = img_mip[marker_channel, :, :]"
   ]
  },
  {
   "cell_type": "markdown",
   "metadata": {},
   "source": [
    "<h3>Mask the input image with the user defined labels and extract data</h3>"
   ]
  },
  {
   "cell_type": "code",
   "execution_count": 94,
   "metadata": {},
   "outputs": [
    {
     "name": "stdout",
     "output_type": "stream",
     "text": [
      "The following regions of interest will be analyzed: ['CA', 'DG']\n"
     ]
    },
    {
     "name": "stderr",
     "output_type": "stream",
     "text": [
      "100%|██████████| 2/2 [00:11<00:00,  5.57s/it]\n"
     ]
    }
   ],
   "source": [
    "# Construct ROI and nuclei predictions paths from directory_path above\n",
    "roi_path = directory_path / \"ROIs\"\n",
    "nuclei_preds_path =  directory_path / \"nuclei_preds\" / segmentation_type / model_name\n",
    "\n",
    "# Extract the experiment name from the data directory path\n",
    "experiment_id = directory_path.name\n",
    "\n",
    "# List of subfolder names\n",
    "try:\n",
    "    roi_names = [folder.name for folder in roi_path.iterdir() if folder.is_dir()]\n",
    "\n",
    "except FileNotFoundError:\n",
    "    roi_names = [\"full_image\"]\n",
    "        \n",
    "print(f\"The following regions of interest will be analyzed: {roi_names}\")\n",
    "\n",
    "# Create an empty list to store all stats extracted from each image\n",
    "stats = []\n",
    "\n",
    "for roi_name in tqdm(roi_names):\n",
    "\n",
    "    # Read the user defined ROIs, in case of full image analysis generate a label covering the entire image\n",
    "    try:\n",
    "        # Read previously defined ROIs\n",
    "        user_roi = tifffile.imread(roi_path / roi_name / f\"{filename}.tiff\")\n",
    "\n",
    "    except FileNotFoundError:\n",
    "        # Extract the xy dimensions of the input image \n",
    "        img_shape = img_mip.shape\n",
    "        img_xy_dims = img_shape[-2:]\n",
    "\n",
    "        # Create a label covering the entire image\n",
    "        user_roi = np.ones(img_xy_dims).astype(np.uint8)\n",
    "\n",
    "    # Read previously predicted nuclei labels, if not present generate nuclei predictions and save them\n",
    "    try:\n",
    "        # Read the nuclei predictions per ROI\n",
    "        nuclei_labels = tifffile.imread(nuclei_preds_path / roi_name / f\"{filename}.tiff\")\n",
    "\n",
    "    except FileNotFoundError:\n",
    "\n",
    "        # Slice the nuclei stack\n",
    "        nuclei_img = img_mip[nuclei_channel, :, :]\n",
    "\n",
    "        # We will create a mask where roi is greater than or equal to 1\n",
    "        mask = (user_roi >= 1).astype(np.uint8)\n",
    "\n",
    "        # Apply the mask to nuclei_img and marker_img, setting all other pixels to 0\n",
    "        masked_nuclei_img = np.where(mask, nuclei_img, 0)\n",
    "\n",
    "        # Segment nuclei and return labels\n",
    "        nuclei_labels = segment_nuclei_2d(masked_nuclei_img, gaussian_sigma, cellpose_nuclei_diameter)\n",
    "\n",
    "        # Save nuclei labels as .tiff files to reuse them later\n",
    "        # Create nuclei_predictions directory if it does not exist\n",
    "        try:\n",
    "            os.makedirs(directory_path / \"nuclei_preds\" / roi_name)\n",
    "        except FileExistsError:\n",
    "            pass\n",
    "\n",
    "        # Construct path to store\n",
    "        path_to_store = nuclei_preds_path / roi_name / f\"{filename}.tiff\"\n",
    "\n",
    "        # Save mask (binary image)\n",
    "        tifffile.imwrite(path_to_store, nuclei_labels)\n",
    "\n",
    "    # Add the predicted nuclei as labels into Napari\n",
    "    viewer.add_labels(nuclei_labels, name=f\"{roi_name}_nuclei\")\n",
    "\n",
    "    # Add the ROIs as labels into Napari\n",
    "    viewer.add_labels(user_roi, name=f\"{roi_name}_ROI\", opacity=0.4)\n",
    "\n",
    "    # Simulate a cytoplasm by growing the nuclei_labels\n",
    "    if location == \"cytoplasm\":\n",
    "        \n",
    "        nuclei_labels = cle.dilate_labels(nuclei_labels, radius=cytoplasm_dilation_radius)\n",
    "        nuclei_labels = cle.pull(nuclei_labels)\n",
    "\n",
    "    # Select marker positive nuclei\n",
    "    nuclei_and_marker, eroded_nuclei_and_marker, marker_mip, processed_region_labels = segment_marker_positive_nuclei (nuclei_labels, marker_img, min_max_range, erosion_factor)\n",
    "    viewer.add_image(nuclei_and_marker, name=f\"{roi_name}_{marker_name}_nuclei_coloc\")\n",
    "    viewer.add_image(eroded_nuclei_and_marker, name=f\"{roi_name}_{marker_name}_nuclei_eroded\")\n",
    "    viewer.add_labels(processed_region_labels, name=f\"{roi_name}_{marker_name}+_nuclei\")\n",
    "\n",
    "    # Extract your information of interest\n",
    "    total_nuclei = len(np.unique(nuclei_labels)) - 1\n",
    "    marker_pos_nuclei = len(np.unique(processed_region_labels)) - 1\n",
    "\n",
    "    # Calculate \"%_marker+_cells\" and avoid division by zero errors\n",
    "    try:\n",
    "        perc_marker_pos_cells = (marker_pos_nuclei * 100) / total_nuclei\n",
    "    except ZeroDivisionError:\n",
    "        perc_marker_pos_cells = 0\n",
    "\n",
    "    # Create a dictionary containing all extracted info per masked image\n",
    "    stats_dict = {\n",
    "                \"filename\": filename,\n",
    "                \"ROI\": roi_name,\n",
    "                \"marker\": marker_name,\n",
    "                \"marker_location\":location,\n",
    "                \"total_nuclei\": total_nuclei,\n",
    "                \"marker+_nuclei\": marker_pos_nuclei,\n",
    "                \"%_marker+_cells\": perc_marker_pos_cells,\n",
    "                \"nuclei_ch\": nuclei_channel,\n",
    "                \"marker_ch\": marker_channel,\n",
    "                \"marker_min_max\": min_max_range,\n",
    "                \"cytoplasm_dilation\":cytoplasm_dilation_radius,\n",
    "                \"erosion_factor\": erosion_factor,\n",
    "                \"cellpose_nuclei_diameter\": cellpose_nuclei_diameter,\n",
    "                \"gaussian_sigma\": gaussian_sigma,\n",
    "                \"slicing_factor\": slicing_factor\n",
    "                }\n",
    "\n",
    "    # Append the current data point to the stats_list\n",
    "    stats.append(stats_dict)    "
   ]
  },
  {
   "cell_type": "code",
   "execution_count": 95,
   "metadata": {},
   "outputs": [
    {
     "data": {
      "text/plain": [
       "array([   2,    3,    5,    7,   10,   11,   15,   20,   26,   27,   28,\n",
       "         29,   33,   35,   38,   39,   41,   42,   46,   47,   48,   53,\n",
       "         56,   58,   59,   62,   63,   64,   68,   71,   72,   73,   74,\n",
       "         76,   77,   78,   81,   82,   83,   85,   86,   87,   89,   92,\n",
       "         93,   95,   97,   98,   99,  100,  102,  103,  104,  105,  106,\n",
       "        108,  109,  111,  113,  114,  116,  117,  121,  122,  124,  127,\n",
       "        128,  129,  130,  131,  133,  134,  139,  141,  142,  143,  145,\n",
       "        146,  148,  150,  151,  152,  153,  154,  155,  156,  158,  159,\n",
       "        160,  161,  163,  164,  166,  167,  168,  171,  173,  174,  177,\n",
       "        178,  183,  184,  185,  186,  188,  189,  190,  193,  194,  195,\n",
       "        196,  197,  200,  202,  203,  209,  211,  212,  214,  215,  216,\n",
       "        218,  219,  220,  222,  223,  227,  228,  230,  231,  232,  233,\n",
       "        234,  235,  237,  238,  239,  241,  242,  243,  244,  245,  246,\n",
       "        250,  252,  254,  255,  259,  261,  262,  263,  264,  266,  268,\n",
       "        271,  272,  273,  278,  280,  284,  286,  289,  291,  295,  297,\n",
       "        298,  300,  301,  303,  305,  306,  308,  311,  313,  318,  319,\n",
       "        322,  323,  324,  327,  328,  329,  330,  331,  332,  335,  338,\n",
       "        339,  340,  342,  343,  344,  346,  348,  349,  350,  351,  352,\n",
       "        356,  357,  359,  360,  361,  362,  364,  367,  368,  369,  370,\n",
       "        371,  372,  373,  375,  376,  377,  378,  379,  381,  383,  385,\n",
       "        386,  388,  389,  390,  391,  392,  393,  394,  395,  397,  399,\n",
       "        400,  401,  406,  407,  409,  411,  412,  413,  414,  415,  417,\n",
       "        418,  420,  421,  422,  425,  426,  427,  428,  431,  432,  433,\n",
       "        434,  436,  437,  438,  439,  444,  446,  450,  451,  452,  453,\n",
       "        454,  456,  458,  459,  462,  468,  469,  470,  472,  473,  474,\n",
       "        476,  477,  478,  480,  481,  483,  487,  488,  490,  492,  494,\n",
       "        496,  500,  503,  505,  506,  508,  509,  510,  511,  512,  514,\n",
       "        515,  516,  519,  521,  523,  525,  526,  527,  529,  530,  531,\n",
       "        532,  536,  537,  539,  541,  543,  545,  546,  548,  550,  552,\n",
       "        553,  555,  557,  558,  560,  564,  565,  567,  568,  569,  572,\n",
       "        576,  578,  579,  580,  582,  583,  586,  587,  588,  589,  590,\n",
       "        591,  592,  593,  596,  598,  604,  605,  606,  607,  610,  611,\n",
       "        613,  614,  615,  616,  618,  623,  624,  626,  627,  629,  630,\n",
       "        631,  632,  633,  634,  636,  637,  638,  639,  640,  642,  643,\n",
       "        646,  647,  648,  649,  650,  651,  652,  653,  654,  655,  657,\n",
       "        660,  661,  663,  664,  665,  666,  670,  672,  674,  676,  677,\n",
       "        678,  681,  683,  687,  688,  689,  690,  692,  694,  695,  696,\n",
       "        699,  700,  703,  705,  709,  710,  711,  712,  713,  714,  715,\n",
       "        716,  719,  720,  722,  723,  724,  726,  727,  728,  729,  730,\n",
       "        732,  736,  737,  738,  739,  745,  749,  751,  752,  754,  757,\n",
       "        760,  763,  764,  765,  766,  767,  768,  769,  770,  771,  773,\n",
       "        776,  777,  778,  780,  782,  784,  785,  788,  789,  790,  791,\n",
       "        793,  794,  796,  797,  800,  801,  806,  807,  809,  815,  817,\n",
       "        819,  821,  822,  823,  824,  829,  832,  834,  836,  837,  838,\n",
       "        840,  842,  843,  844,  845,  848,  852,  853,  854,  855,  856,\n",
       "        858,  860,  861,  862,  863,  866,  868,  870,  872,  873,  874,\n",
       "        876,  878,  879,  882,  883,  885,  886,  888,  891,  893,  894,\n",
       "        895,  896,  899,  903,  908,  909,  910,  911,  913,  914,  916,\n",
       "        918,  920,  924,  928,  930,  931,  937,  941,  942,  944,  946,\n",
       "        947,  951,  952,  955,  958,  959,  960,  963,  964,  966,  968,\n",
       "        974,  975,  977,  978,  979,  981,  982,  985,  987,  989,  990,\n",
       "        991,  993,  994,  996,  999, 1001, 1002, 1003, 1005, 1006, 1009,\n",
       "       1012, 1013, 1014, 1015, 1016, 1022, 1024, 1026, 1027, 1032, 1033,\n",
       "       1037, 1039, 1040, 1042, 1043, 1044, 1045, 1047, 1048, 1049, 1050,\n",
       "       1051, 1052, 1054, 1056, 1062, 1063, 1064, 1065, 1067, 1068, 1071,\n",
       "       1076, 1077, 1078, 1082, 1083, 1084, 1088, 1094, 1097, 1098, 1100,\n",
       "       1102, 1103, 1107, 1109, 1110, 1112, 1116, 1117, 1118, 1122, 1124,\n",
       "       1129, 1132, 1135, 1136, 1137, 1138, 1140, 1141, 1142, 1143, 1144,\n",
       "       1146, 1149, 1150, 1157, 1159, 1161, 1162, 1163, 1166, 1167, 1169,\n",
       "       1171, 1172, 1173, 1174, 1175, 1178, 1179, 1180, 1181, 1186, 1188,\n",
       "       1189, 1190, 1191, 1193, 1194, 1196, 1198, 1199, 1202, 1204, 1208,\n",
       "       1209, 1214, 1218, 1221, 1222, 1224, 1225, 1228, 1229, 1233, 1235,\n",
       "       1239, 1240, 1241, 1242, 1244, 1246, 1247, 1249, 1251, 1252, 1253,\n",
       "       1257, 1259, 1262, 1263, 1264, 1266, 1268, 1269, 1270, 1273, 1274,\n",
       "       1275, 1276, 1278, 1279, 1281, 1284, 1285, 1287, 1288, 1289, 1291,\n",
       "       1292, 1293, 1294, 1297, 1298, 1301, 1302, 1304, 1305, 1306, 1307,\n",
       "       1310, 1313, 1315, 1317, 1319, 1320, 1321, 1324, 1332, 1333, 1334,\n",
       "       1335, 1336, 1337, 1338, 1339, 1341, 1342, 1345, 1346, 1347, 1348,\n",
       "       1350, 1353, 1354, 1355, 1356, 1357, 1360, 1362, 1363, 1365, 1367,\n",
       "       1369, 1371, 1373, 1378, 1379, 1380, 1381, 1382, 1383, 1385, 1386,\n",
       "       1388, 1390, 1392, 1393, 1397, 1399, 1401, 1402, 1403, 1404, 1410,\n",
       "       1412, 1413, 1415, 1417, 1419, 1422, 1423, 1424, 1425, 1426, 1428,\n",
       "       1429, 1431, 1433, 1434, 1437, 1438, 1439, 1440, 1441, 1442, 1443,\n",
       "       1444, 1447, 1448, 1449, 1452, 1453, 1455, 1456, 1458, 1459, 1460,\n",
       "       1461, 1462, 1463, 1464, 1465, 1466, 1467, 1468, 1469, 1470, 1474,\n",
       "       1477, 1478, 1479, 1480, 1481, 1482, 1483, 1484, 1487, 1495, 1496,\n",
       "       1498, 1500, 1502, 1503, 1504, 1505, 1506, 1508, 1510, 1511, 1513,\n",
       "       1514, 1517, 1518, 1519, 1521, 1522, 1523, 1524, 1525, 1526, 1527,\n",
       "       1528, 1529, 1531, 1535, 1536, 1538, 1542, 1543, 1546, 1547, 1548,\n",
       "       1549, 1551, 1553, 1554, 1561, 1562, 1563, 1567, 1574, 1576, 1577,\n",
       "       1579])"
      ]
     },
     "execution_count": 95,
     "metadata": {},
     "output_type": "execute_result"
    }
   ],
   "source": [
    "def unique_with_filtering(arr):\n",
    "    \"Finds unique values in an array and removes background label (0)\"\n",
    "    return np.unique(arr[arr != 0])\n",
    "\n",
    "positive_labels = unique_with_filtering(processed_region_labels)\n",
    "\n",
    "positive_labels"
   ]
  },
  {
   "cell_type": "code",
   "execution_count": 96,
   "metadata": {},
   "outputs": [
    {
     "data": {
      "text/html": [
       "<div>\n",
       "<style scoped>\n",
       "    .dataframe tbody tr th:only-of-type {\n",
       "        vertical-align: middle;\n",
       "    }\n",
       "\n",
       "    .dataframe tbody tr th {\n",
       "        vertical-align: top;\n",
       "    }\n",
       "\n",
       "    .dataframe thead th {\n",
       "        text-align: right;\n",
       "    }\n",
       "</style>\n",
       "<table border=\"1\" class=\"dataframe\">\n",
       "  <thead>\n",
       "    <tr style=\"text-align: right;\">\n",
       "      <th></th>\n",
       "      <th>filename</th>\n",
       "      <th>ROI</th>\n",
       "      <th>label</th>\n",
       "      <th>neun</th>\n",
       "    </tr>\n",
       "  </thead>\n",
       "  <tbody>\n",
       "    <tr>\n",
       "      <th>0</th>\n",
       "      <td>HI1_CONTRA_M8_S6_TR1</td>\n",
       "      <td>DG</td>\n",
       "      <td>1</td>\n",
       "      <td>False</td>\n",
       "    </tr>\n",
       "    <tr>\n",
       "      <th>1</th>\n",
       "      <td>HI1_CONTRA_M8_S6_TR1</td>\n",
       "      <td>DG</td>\n",
       "      <td>2</td>\n",
       "      <td>True</td>\n",
       "    </tr>\n",
       "    <tr>\n",
       "      <th>2</th>\n",
       "      <td>HI1_CONTRA_M8_S6_TR1</td>\n",
       "      <td>DG</td>\n",
       "      <td>3</td>\n",
       "      <td>True</td>\n",
       "    </tr>\n",
       "    <tr>\n",
       "      <th>3</th>\n",
       "      <td>HI1_CONTRA_M8_S6_TR1</td>\n",
       "      <td>DG</td>\n",
       "      <td>4</td>\n",
       "      <td>False</td>\n",
       "    </tr>\n",
       "    <tr>\n",
       "      <th>4</th>\n",
       "      <td>HI1_CONTRA_M8_S6_TR1</td>\n",
       "      <td>DG</td>\n",
       "      <td>5</td>\n",
       "      <td>True</td>\n",
       "    </tr>\n",
       "    <tr>\n",
       "      <th>...</th>\n",
       "      <td>...</td>\n",
       "      <td>...</td>\n",
       "      <td>...</td>\n",
       "      <td>...</td>\n",
       "    </tr>\n",
       "    <tr>\n",
       "      <th>1579</th>\n",
       "      <td>HI1_CONTRA_M8_S6_TR1</td>\n",
       "      <td>DG</td>\n",
       "      <td>1580</td>\n",
       "      <td>False</td>\n",
       "    </tr>\n",
       "    <tr>\n",
       "      <th>1580</th>\n",
       "      <td>HI1_CONTRA_M8_S6_TR1</td>\n",
       "      <td>DG</td>\n",
       "      <td>1581</td>\n",
       "      <td>False</td>\n",
       "    </tr>\n",
       "    <tr>\n",
       "      <th>1581</th>\n",
       "      <td>HI1_CONTRA_M8_S6_TR1</td>\n",
       "      <td>DG</td>\n",
       "      <td>1582</td>\n",
       "      <td>False</td>\n",
       "    </tr>\n",
       "    <tr>\n",
       "      <th>1582</th>\n",
       "      <td>HI1_CONTRA_M8_S6_TR1</td>\n",
       "      <td>DG</td>\n",
       "      <td>1583</td>\n",
       "      <td>False</td>\n",
       "    </tr>\n",
       "    <tr>\n",
       "      <th>1583</th>\n",
       "      <td>HI1_CONTRA_M8_S6_TR1</td>\n",
       "      <td>DG</td>\n",
       "      <td>1584</td>\n",
       "      <td>False</td>\n",
       "    </tr>\n",
       "  </tbody>\n",
       "</table>\n",
       "<p>1584 rows × 4 columns</p>\n",
       "</div>"
      ],
      "text/plain": [
       "                  filename ROI  label   neun\n",
       "0     HI1_CONTRA_M8_S6_TR1  DG      1  False\n",
       "1     HI1_CONTRA_M8_S6_TR1  DG      2   True\n",
       "2     HI1_CONTRA_M8_S6_TR1  DG      3   True\n",
       "3     HI1_CONTRA_M8_S6_TR1  DG      4  False\n",
       "4     HI1_CONTRA_M8_S6_TR1  DG      5   True\n",
       "...                    ...  ..    ...    ...\n",
       "1579  HI1_CONTRA_M8_S6_TR1  DG   1580  False\n",
       "1580  HI1_CONTRA_M8_S6_TR1  DG   1581  False\n",
       "1581  HI1_CONTRA_M8_S6_TR1  DG   1582  False\n",
       "1582  HI1_CONTRA_M8_S6_TR1  DG   1583  False\n",
       "1583  HI1_CONTRA_M8_S6_TR1  DG   1584  False\n",
       "\n",
       "[1584 rows x 4 columns]"
      ]
     },
     "execution_count": 96,
     "metadata": {},
     "output_type": "execute_result"
    }
   ],
   "source": [
    "# Get unique positive labels\n",
    "positive_labels = unique_with_filtering(processed_region_labels)\n",
    "\n",
    "# Generate the label column with all labels\n",
    "max_label = nuclei_labels.max()\n",
    "label_column = np.arange(1, max_label + 1)\n",
    "\n",
    "# Check if positive_labels is in label_column and set values to True \n",
    "channel_column = np.isin(label_column, positive_labels)\n",
    "\n",
    "# Create the DataFrame to hold per label data\n",
    "df = pd.DataFrame({\n",
    "    \"filename\": filename,\n",
    "    \"ROI\":roi_name,\n",
    "    'label': label_column,\n",
    "    marker_name: channel_column\n",
    "})\n",
    "\n",
    "df"
   ]
  },
  {
   "cell_type": "code",
   "execution_count": 97,
   "metadata": {},
   "outputs": [
    {
     "data": {
      "text/plain": [
       "1584"
      ]
     },
     "execution_count": 97,
     "metadata": {},
     "output_type": "execute_result"
    }
   ],
   "source": [
    "max_label"
   ]
  },
  {
   "cell_type": "code",
   "execution_count": 98,
   "metadata": {},
   "outputs": [
    {
     "data": {
      "text/plain": [
       "array([   1,    2,    3, ..., 1582, 1583, 1584])"
      ]
     },
     "execution_count": 98,
     "metadata": {},
     "output_type": "execute_result"
    }
   ],
   "source": [
    "label_column"
   ]
  },
  {
   "cell_type": "markdown",
   "metadata": {},
   "source": [
    "<h3>Data saving</h3>\n"
   ]
  },
  {
   "cell_type": "code",
   "execution_count": 99,
   "metadata": {},
   "outputs": [
    {
     "name": "stdout",
     "output_type": "stream",
     "text": [
      "Output folder already exists: results\\test_data\\2D\\Cellpose\n"
     ]
    },
    {
     "data": {
      "text/html": [
       "<div>\n",
       "<style scoped>\n",
       "    .dataframe tbody tr th:only-of-type {\n",
       "        vertical-align: middle;\n",
       "    }\n",
       "\n",
       "    .dataframe tbody tr th {\n",
       "        vertical-align: top;\n",
       "    }\n",
       "\n",
       "    .dataframe thead th {\n",
       "        text-align: right;\n",
       "    }\n",
       "</style>\n",
       "<table border=\"1\" class=\"dataframe\">\n",
       "  <thead>\n",
       "    <tr style=\"text-align: right;\">\n",
       "      <th></th>\n",
       "      <th>filename</th>\n",
       "      <th>ROI</th>\n",
       "      <th>marker</th>\n",
       "      <th>marker_location</th>\n",
       "      <th>total_nuclei</th>\n",
       "      <th>marker+_nuclei</th>\n",
       "      <th>%_marker+_cells</th>\n",
       "      <th>nuclei_ch</th>\n",
       "      <th>marker_ch</th>\n",
       "      <th>marker_min_max</th>\n",
       "      <th>cytoplasm_dilation</th>\n",
       "      <th>erosion_factor</th>\n",
       "      <th>cellpose_nuclei_diameter</th>\n",
       "      <th>gaussian_sigma</th>\n",
       "      <th>slicing_factor</th>\n",
       "    </tr>\n",
       "  </thead>\n",
       "  <tbody>\n",
       "    <tr>\n",
       "      <th>0</th>\n",
       "      <td>HI1_CONTRA_M8_S6_TR1</td>\n",
       "      <td>CA</td>\n",
       "      <td>neun</td>\n",
       "      <td>nucleus</td>\n",
       "      <td>1270</td>\n",
       "      <td>302</td>\n",
       "      <td>23.779528</td>\n",
       "      <td>3</td>\n",
       "      <td>1</td>\n",
       "      <td>(50, 115)</td>\n",
       "      <td>2</td>\n",
       "      <td>4</td>\n",
       "      <td>NaN</td>\n",
       "      <td>0</td>\n",
       "      <td>NaN</td>\n",
       "    </tr>\n",
       "    <tr>\n",
       "      <th>1</th>\n",
       "      <td>HI1_CONTRA_M8_S6_TR1</td>\n",
       "      <td>DG</td>\n",
       "      <td>neun</td>\n",
       "      <td>nucleus</td>\n",
       "      <td>1584</td>\n",
       "      <td>881</td>\n",
       "      <td>55.618687</td>\n",
       "      <td>3</td>\n",
       "      <td>1</td>\n",
       "      <td>(50, 115)</td>\n",
       "      <td>2</td>\n",
       "      <td>4</td>\n",
       "      <td>NaN</td>\n",
       "      <td>0</td>\n",
       "      <td>NaN</td>\n",
       "    </tr>\n",
       "    <tr>\n",
       "      <th>2</th>\n",
       "      <td>HI1_CONTRA_M8_S6_TR1</td>\n",
       "      <td>CA</td>\n",
       "      <td>neun</td>\n",
       "      <td>nucleus</td>\n",
       "      <td>1270</td>\n",
       "      <td>302</td>\n",
       "      <td>23.779528</td>\n",
       "      <td>3</td>\n",
       "      <td>1</td>\n",
       "      <td>(50, 115)</td>\n",
       "      <td>2</td>\n",
       "      <td>4</td>\n",
       "      <td>NaN</td>\n",
       "      <td>0</td>\n",
       "      <td>NaN</td>\n",
       "    </tr>\n",
       "    <tr>\n",
       "      <th>3</th>\n",
       "      <td>HI1_CONTRA_M8_S6_TR1</td>\n",
       "      <td>DG</td>\n",
       "      <td>neun</td>\n",
       "      <td>nucleus</td>\n",
       "      <td>1584</td>\n",
       "      <td>881</td>\n",
       "      <td>55.618687</td>\n",
       "      <td>3</td>\n",
       "      <td>1</td>\n",
       "      <td>(50, 115)</td>\n",
       "      <td>2</td>\n",
       "      <td>4</td>\n",
       "      <td>NaN</td>\n",
       "      <td>0</td>\n",
       "      <td>NaN</td>\n",
       "    </tr>\n",
       "  </tbody>\n",
       "</table>\n",
       "</div>"
      ],
      "text/plain": [
       "               filename ROI marker marker_location  total_nuclei  \\\n",
       "0  HI1_CONTRA_M8_S6_TR1  CA   neun         nucleus          1270   \n",
       "1  HI1_CONTRA_M8_S6_TR1  DG   neun         nucleus          1584   \n",
       "2  HI1_CONTRA_M8_S6_TR1  CA   neun         nucleus          1270   \n",
       "3  HI1_CONTRA_M8_S6_TR1  DG   neun         nucleus          1584   \n",
       "\n",
       "   marker+_nuclei  %_marker+_cells  nuclei_ch  marker_ch marker_min_max  \\\n",
       "0             302        23.779528          3          1      (50, 115)   \n",
       "1             881        55.618687          3          1      (50, 115)   \n",
       "2             302        23.779528          3          1      (50, 115)   \n",
       "3             881        55.618687          3          1      (50, 115)   \n",
       "\n",
       "   cytoplasm_dilation  erosion_factor  cellpose_nuclei_diameter  \\\n",
       "0                   2               4                       NaN   \n",
       "1                   2               4                       NaN   \n",
       "2                   2               4                       NaN   \n",
       "3                   2               4                       NaN   \n",
       "\n",
       "   gaussian_sigma  slicing_factor  \n",
       "0               0             NaN  \n",
       "1               0             NaN  \n",
       "2               0             NaN  \n",
       "3               0             NaN  "
      ]
     },
     "execution_count": 99,
     "metadata": {},
     "output_type": "execute_result"
    }
   ],
   "source": [
    "# Define output folder for results\n",
    "results_folder = Path(\"results\") / experiment_id / segmentation_type / model_name\n",
    "\n",
    "# Create the necessary folder structure if it does not exist\n",
    "try:\n",
    "    os.makedirs(str(results_folder))\n",
    "    print(f\"Output folder created: {results_folder}\")\n",
    "except FileExistsError:\n",
    "    print(f\"Output folder already exists: {results_folder}\")\n",
    "\n",
    "# Transform into a dataframe to store it as .csv later\n",
    "df = pd.DataFrame(stats)\n",
    "\n",
    "# Define the .csv path\n",
    "csv_path = results_folder / f\"SP_marker_+_label_coloc.csv\"\n",
    "\n",
    "# Append to the .csv with new data points each round\n",
    "df.to_csv(csv_path, mode=\"a\", index=False, header=not os.path.isfile(csv_path))\n",
    "\n",
    "# Show the updated .csv \n",
    "csv_df = pd.read_csv(csv_path)\n",
    "\n",
    "csv_df"
   ]
  }
 ],
 "metadata": {
  "kernelspec": {
   "display_name": "brain_nuc_cellpose",
   "language": "python",
   "name": "python3"
  },
  "language_info": {
   "codemirror_mode": {
    "name": "ipython",
    "version": 3
   },
   "file_extension": ".py",
   "mimetype": "text/x-python",
   "name": "python",
   "nbconvert_exporter": "python",
   "pygments_lexer": "ipython3",
   "version": "3.11.11"
  }
 },
 "nbformat": 4,
 "nbformat_minor": 2
}
