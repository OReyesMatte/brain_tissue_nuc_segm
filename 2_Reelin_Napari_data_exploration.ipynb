{
 "cells": [
  {
   "cell_type": "code",
   "execution_count": 27,
   "metadata": {},
   "outputs": [],
   "source": [
    "from pathlib import Path\n",
    "import czifile\n",
    "import tifffile\n",
    "import napari\n",
    "import pyclesperanto_prototype as cle\n",
    "import numpy as np\n",
    "import pandas as pd\n",
    "from utils import check_filenames, segment_nuclei_2d, segment_marker_positive_nuclei"
   ]
  },
  {
   "cell_type": "code",
   "execution_count": 28,
   "metadata": {},
   "outputs": [],
   "source": [
    "# From the results.csv, define the index of the image you want to explore in detail\n",
    "image_index = 2\n",
    "\n",
    "# Define the intensity threshold above which a cell is considered positive for a marker\n",
    "neun_channel_threshold = 30\n",
    "reelin_channel_threshold = 40\n",
    "gad67_channel_threshold = 40\n",
    "\n",
    "# Sets the amount of erosion that is applied to areas where the marker+ signal colocalizes with nuclear signal\n",
    "# The higher the value, the stricter the conditions to consider a nuclei as marker+\n",
    "neun_erosion_factor = 3\n",
    "reelin_erosion_factor = 3\n",
    "gad67_erosion_factor = 4"
   ]
  },
  {
   "cell_type": "code",
   "execution_count": 29,
   "metadata": {},
   "outputs": [
    {
     "name": "stdout",
     "output_type": "stream",
     "text": [
      "No files missing in images list.\n",
      "No files missing in rois list.\n"
     ]
    }
   ],
   "source": [
    "# Copy the path where your images are stored, ideally inside the raw_data directory\n",
    "directory_path = Path(\"./raw_data/Reelin\")\n",
    "roi_directory_path = Path(\"./raw_data/Reelin/ROI\")\n",
    "\n",
    "# Define the subdirectories containing your data\n",
    "subdirectories = [\"Contra\", \"Ipsi\", \"Sham\"]\n",
    "\n",
    "# Create empty lists to store all image filepaths and ROIs within the dataset directory\n",
    "images = []\n",
    "rois = []\n",
    "\n",
    "# Create an empty list to store all stats extracted from each image\n",
    "stats = []\n",
    "\n",
    "# Scan subdirectories and add paths to images fitting certain conditions\n",
    "for subdir in subdirectories:\n",
    "    # Construct the subdirectory path\n",
    "    image_path = directory_path / subdir\n",
    "    # Iterate through the .czi files in the subdirectories\n",
    "    for file_path in image_path.glob(\"*.czi\"):\n",
    "        # Remove unwanted images\n",
    "        if \"AWT\" not in str(file_path) and \"BWT\" not in str(file_path):\n",
    "            images.append(str(file_path))\n",
    "\n",
    "# Scan ROI directory and add paths to the list\n",
    "for file_path in roi_directory_path.glob(\"*.tif\"):\n",
    "    # Remove unwanted images\n",
    "        if \"AWT\" not in str(file_path) and \"BWT\" not in str(file_path):\n",
    "            rois.append(str(file_path))\n",
    "\n",
    "# Check if there is any missing ROI or image file in their corresponding directories\n",
    "check_filenames(images, rois)\n",
    "\n",
    "# Extract filenames without extensions and sort the lists so they appear in the same order\n",
    "images_sorted = sorted(images, key=lambda x: Path(x).stem)\n",
    "rois_sorted = sorted(rois, key=lambda x: Path(x).stem)"
   ]
  },
  {
   "cell_type": "code",
   "execution_count": 30,
   "metadata": {},
   "outputs": [],
   "source": [
    "# Select image to analyze based on the user-defined index\n",
    "image_path = images_sorted[image_index]\n",
    "roi_path = rois_sorted[image_index]\n",
    "\n",
    "# Read path storing raw image and extract filename\n",
    "file_path = Path(image_path)\n",
    "filename = file_path.stem\n",
    "\n",
    "# Get rid of double spaces in the filename\n",
    "filename = filename.replace(\"  \", \" \")\n",
    "\n",
    "# Extract experimental conditions from the filename\n",
    "descriptors = filename.split(\" \")\n",
    "condition = descriptors[0]\n",
    "condition_nr = int(descriptors[1])\n",
    "brain_location = descriptors[2]\n",
    "mouse_id = int(descriptors[4])\n",
    "slide = int(descriptors[5][-1])\n",
    "tech_replica = int(descriptors[-1])\n",
    "\n",
    "# Read image and ROI files into Numpy arrays\n",
    "img = czifile.imread(image_path)\n",
    "roi = tifffile.imread(roi_path)\n",
    "\n",
    "# Remove singleton dimensions and perform MIP on input image\n",
    "img = img.squeeze()\n",
    "img_mip = np.max(img, axis=1)\n",
    "\n",
    "# Perform MIP for the region of interest\n",
    "roi_mip = np.max(roi, axis=0)\n",
    "\n",
    "# We will create a mask where label_mip is greater than or equal to 1\n",
    "mask = roi_mip >= 1\n",
    "\n",
    "# Apply the mask to img_mip\n",
    "masked_img = np.where(mask, img_mip, 0)\n",
    "\n",
    "# Extract each of the channels separately\n",
    "neun_mip = masked_img[0, :, :]\n",
    "reelin_mip = masked_img[1, :, :]\n",
    "gad67_mip = masked_img[2, :, :]\n",
    "nuclei_mip = masked_img[3, :, :]\n",
    "\n",
    "# Segment nuclei inside the ROI\n",
    "nuclei_labels = segment_nuclei_2d(nuclei_mip)\n",
    "\n",
    "# Dilate or erode nuclei to check for cytoplasmic or nuclear marker colocalization\n",
    "cyto_nuclei_labels = cle.dilate_labels(nuclei_labels, radius=2)\n",
    "cyto_nuclei_labels = cle.pull(cyto_nuclei_labels)\n",
    "eroded_nuclei_labels = cle.erode_labels(nuclei_labels, radius=2)\n",
    "eroded_nuclei_labels = cle.pull(eroded_nuclei_labels)\n",
    "\n",
    "# Select marker positive nuclei\n",
    "neun_tuple = segment_marker_positive_nuclei (nuclei_labels, neun_mip, neun_channel_threshold, neun_erosion_factor)\n",
    "reelin_tuple = segment_marker_positive_nuclei (cyto_nuclei_labels, reelin_mip, reelin_channel_threshold, reelin_erosion_factor)\n",
    "gad67_tuple = segment_marker_positive_nuclei (cyto_nuclei_labels, gad67_mip, gad67_channel_threshold, gad67_erosion_factor)\n",
    "\n",
    "# Select Cajal cells by removing Reelin+ cells that are also positive for Neun\n",
    "\n",
    "# Convert neun labels into a mask\n",
    "neun_mask = neun_tuple[1] >= 1\n",
    "\n",
    "# Check the shape of the arrays to ensure they match\n",
    "assert reelin_tuple[1].shape == neun_mask.shape, \"Label image and mask must have the same shape.\"\n",
    "\n",
    "# Create a copy of the reelin label image to prevent modifying the original\n",
    "cajal_cells = reelin_tuple[1].copy()\n",
    "\n",
    "# Remove labels where the mask is True (or 1) by setting them to background values (0)\n",
    "cajal_cells[neun_mask] = 0  \n",
    "\n",
    "# Previous operation leaves residual cytoplasmic region of Neun+ cells (perform an erosion and dilation cycle)\n",
    "cajal_cells = cle.erode_labels(cajal_cells, radius=2)\n",
    "cajal_cells = cle.dilate_labels(cajal_cells, radius=2)\n",
    "cajal_cells = cle.pull(cajal_cells)\n"
   ]
  },
  {
   "cell_type": "code",
   "execution_count": 31,
   "metadata": {},
   "outputs": [
    {
     "data": {
      "text/plain": [
       "<Labels layer 'cajal_cells' at 0x2305bdb3ee0>"
      ]
     },
     "execution_count": 31,
     "metadata": {},
     "output_type": "execute_result"
    }
   ],
   "source": [
    "viewer = napari.Viewer(ndisplay=2)\n",
    "viewer.add_image(img_mip)\n",
    "viewer.add_image(roi_mip)\n",
    "viewer.add_image(masked_img)\n",
    "viewer.add_labels(nuclei_labels)\n",
    "viewer.add_labels(cyto_nuclei_labels)\n",
    "viewer.add_labels(eroded_nuclei_labels)\n",
    "viewer.add_labels(neun_tuple[1], name=\"neun_+_nuclei\")\n",
    "viewer.add_labels(reelin_tuple[1], name=\"reelin_+_nuclei\")\n",
    "viewer.add_labels(gad67_tuple[1], name=\"gad67_+_nuclei\")\n",
    "viewer.add_labels(cajal_cells, name=\"cajal_cells\")"
   ]
  },
  {
   "cell_type": "code",
   "execution_count": 32,
   "metadata": {},
   "outputs": [
    {
     "data": {
      "text/plain": [
       "{'filename': 'HI 1 Ipsilateral Mouse 8 Slide16 GAD67green NeuNpink Reelinred 40x 4x4 technical replica 1',\n",
       " 'condition': 'HI',\n",
       " 'condition_nr': 1,\n",
       " 'brain_location': 'Ipsilateral',\n",
       " 'mouse_id': 8,\n",
       " 'slide_nr': 6,\n",
       " 'tech_replica': 1,\n",
       " 'total_nuclei': 3591,\n",
       " 'neun+_nuclei': 1796,\n",
       " 'reelin+_nuclei': 109,\n",
       " 'gad67+_nuclei': 115,\n",
       " 'cajal_nuclei': 68,\n",
       " '%_neun+_cells': 50.01392369813423,\n",
       " '%_reelin+_cells': 3.03536619326093,\n",
       " '%_gad67+_cells': 3.2024505708716235,\n",
       " '%_cajal_cells': 1.893622946254525}"
      ]
     },
     "execution_count": 32,
     "metadata": {},
     "output_type": "execute_result"
    }
   ],
   "source": [
    "# Count the number of positive cells for each marker (or cell population)\n",
    "total_nuclei_count = len(np.unique(nuclei_labels)) - 1\n",
    "neun_nuclei_count = len(np.unique(neun_tuple[1])) - 1\n",
    "reelin_nuclei_count = len(np.unique(reelin_tuple[1])) - 1\n",
    "gad67_nuclei_count = len(np.unique(gad67_tuple[1])) - 1\n",
    "cajal_nuclei_count = len(np.unique(cajal_cells)) - 1\n",
    "\n",
    "# Create a dictionary containing all extracted info per masked image\n",
    "stats_dict = {\n",
    "            \"filename\": filename,\n",
    "            \"condition\": condition,\n",
    "            \"condition_nr\": condition_nr,\n",
    "            \"brain_location\": brain_location,\n",
    "            \"mouse_id\": mouse_id,\n",
    "            \"slide_nr\": slide,\n",
    "            \"tech_replica\": tech_replica,\n",
    "            \"total_nuclei\": total_nuclei_count,\n",
    "            \"neun+_nuclei\": neun_nuclei_count,\n",
    "            \"reelin+_nuclei\": reelin_nuclei_count,\n",
    "            \"gad67+_nuclei\": gad67_nuclei_count,\n",
    "            \"cajal_nuclei\": cajal_nuclei_count,\n",
    "            \"%_neun+_cells\": (neun_nuclei_count * 100) / total_nuclei_count,\n",
    "            \"%_reelin+_cells\": (reelin_nuclei_count * 100) / total_nuclei_count,\n",
    "            \"%_gad67+_cells\": (gad67_nuclei_count * 100) / total_nuclei_count,\n",
    "            \"%_cajal_cells\": (cajal_nuclei_count * 100) / total_nuclei_count\n",
    "            }\n",
    "\n",
    "# Append the current data point to the stats_list\n",
    "stats.append(stats_dict)\n",
    "\n",
    "stats_dict"
   ]
  }
 ],
 "metadata": {
  "kernelspec": {
   "display_name": "microglia_GPU",
   "language": "python",
   "name": "python3"
  },
  "language_info": {
   "codemirror_mode": {
    "name": "ipython",
    "version": 3
   },
   "file_extension": ".py",
   "mimetype": "text/x-python",
   "name": "python",
   "nbconvert_exporter": "python",
   "pygments_lexer": "ipython3",
   "version": "3.9.19"
  }
 },
 "nbformat": 4,
 "nbformat_minor": 2
}
