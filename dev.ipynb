{
 "cells": [
  {
   "cell_type": "code",
   "execution_count": 1,
   "metadata": {},
   "outputs": [],
   "source": [
    "from pathlib import Path\n",
    "import czifile\n",
    "import nd2\n",
    "import tifffile\n",
    "import napari\n",
    "import numpy as np\n",
    "import os\n",
    "from skimage import exposure, filters, measure\n",
    "from scipy.ndimage import binary_erosion\n",
    "import pyclesperanto_prototype as cle\n",
    "from stardist.models import StarDist3D\n",
    "from csbdeep.utils import normalize\n",
    "import glob\n",
    "import tensorflow as tf"
   ]
  },
  {
   "cell_type": "code",
   "execution_count": 2,
   "metadata": {},
   "outputs": [],
   "source": [
    "def read_image (image, slicing_factor):\n",
    "    \"\"\"Read raw image microscope files and return a numpy array \"\"\"\n",
    "    # Read path storing raw image and extract filename\n",
    "    file_path = Path(image)\n",
    "    filename = file_path.stem\n",
    "\n",
    "    # Extract file extension\n",
    "    extension = file_path.suffix\n",
    "\n",
    "    # Read the image file (either .czi or .nd2)\n",
    "    if extension == \".czi\":\n",
    "        # Stack from .czi (ch, z, x, y)\n",
    "        img = czifile.imread(image)\n",
    "        # Remove singleton dimensions\n",
    "        img = img.squeeze()\n",
    "\n",
    "    elif extension == \".nd2\":\n",
    "        # Stack from .nd2 (z, ch, x, y)\n",
    "        img = nd2.imread(image)\n",
    "        # Transpose to output (ch, z, x, y)\n",
    "        img = img.transpose(1, 0, 2, 3)\n",
    "\n",
    "    else:\n",
    "        print (\"Implement new file reader\")\n",
    "\n",
    "    # Apply slicing trick to reduce image size (xy resolution)\n",
    "    img = img[:, :, ::slicing_factor, ::slicing_factor]\n",
    "\n",
    "    # Feedback for researcher\n",
    "    print(f\"Image analyzed: {filename}\")\n",
    "    print(f\"Original Array shape: {img.shape}\")\n",
    "    print(f\"Compressed Array shape: {img.shape}\")\n",
    "\n",
    "    return img, filename"
   ]
  },
  {
   "cell_type": "code",
   "execution_count": 3,
   "metadata": {},
   "outputs": [],
   "source": [
    "def maximum_intensity_projection (img):\n",
    "\n",
    "    # Perform MIP on all channels \n",
    "    img_mip = np.max(img, axis=1)\n",
    "\n",
    "    return  img_mip"
   ]
  },
  {
   "cell_type": "code",
   "execution_count": 4,
   "metadata": {},
   "outputs": [],
   "source": [
    "def extract_nuclei_stack (img, nuclei_channel):\n",
    "\n",
    "    # Extract nuclei stack from a multichannel z-stack (ch, z, x, y)\n",
    "    nuclei_img = img[nuclei_channel, :, :, :]\n",
    "\n",
    "    return nuclei_img"
   ]
  },
  {
   "cell_type": "code",
   "execution_count": 5,
   "metadata": {},
   "outputs": [],
   "source": [
    "def list_images (directory_path):\n",
    "\n",
    "    # Create an empty list to store all image filepaths within the dataset directory\n",
    "    images = []\n",
    "\n",
    "    # Iterate through the .czi and .nd2 files in the directory\n",
    "    for file_path in directory_path.glob(\"*.czi\"):\n",
    "        images.append(str(file_path))\n",
    "        \n",
    "    for file_path in directory_path.glob(\"*.nd2\"):\n",
    "        images.append(str(file_path))\n",
    "\n",
    "    return images"
   ]
  },
  {
   "cell_type": "code",
   "execution_count": 6,
   "metadata": {},
   "outputs": [
    {
     "name": "stdout",
     "output_type": "stream",
     "text": [
      "available devices:  [PhysicalDevice(name='/physical_device:GPU:0', device_type='GPU')]\n",
      "Loading network weights from 'weights_best.h5'.\n",
      "Loading thresholds from 'thresholds.json'.\n",
      "Using default values: prob_thresh=0.388346, nms_thresh=0.3.\n"
     ]
    }
   ],
   "source": [
    "print(\"available devices: \",tf.config.list_physical_devices('GPU'))\n",
    "\n",
    "model = StarDist3D(None, name='3D_seg_stardist_v1.8', basedir='stardist_models')"
   ]
  },
  {
   "cell_type": "code",
   "execution_count": 7,
   "metadata": {},
   "outputs": [],
   "source": [
    "def segment_nuclei_3d(nuclei_img):\n",
    "    \n",
    "    normalized = normalize(nuclei_img)\n",
    "\n",
    "    nuclei_labels, _ = model.predict_instances(normalized, n_tiles=(6,6,3), show_tile_progress=True)\n",
    "\n",
    "    return nuclei_labels"
   ]
  },
  {
   "cell_type": "code",
   "execution_count": 8,
   "metadata": {},
   "outputs": [
    {
     "data": {
      "text/plain": [
       "['raw_data\\\\test_data\\\\HI 1  Contralateral Mouse 8  slide 6 Neun Red Calb Green KI67 Magenta 40x technical replica 1.czi',\n",
       " 'raw_data\\\\test_data\\\\HI 1  Ipsilateral Mouse 8  slide 6 Neun Red Calb Green KI67 Magenta 40x technical replica 1.czi',\n",
       " 'raw_data\\\\test_data\\\\MLD_7.5_GFAP_20X 1.500.nd2']"
      ]
     },
     "execution_count": 8,
     "metadata": {},
     "output_type": "execute_result"
    }
   ],
   "source": [
    "# Copy the path where your images are stored, ideally inside the raw_data directory\n",
    "directory_path = Path(\"./raw_data/test_data\")\n",
    "\n",
    "# Construct ROI path from directory_path above\n",
    "roi_path = directory_path / \"ROIs\"\n",
    "\n",
    "# Iterate through the .czi and .nd2 files in the raw_data directory\n",
    "images = list_images(directory_path)\n",
    "\n",
    "images"
   ]
  },
  {
   "cell_type": "code",
   "execution_count": 9,
   "metadata": {},
   "outputs": [],
   "source": [
    "nuclei_channel = 1"
   ]
  },
  {
   "cell_type": "code",
   "execution_count": 10,
   "metadata": {},
   "outputs": [
    {
     "name": "stdout",
     "output_type": "stream",
     "text": [
      "Image analyzed: MLD_7.5_GFAP_20X 1.500\n",
      "Original Array shape: (2, 13, 1904, 1904)\n",
      "Compressed Array shape: (2, 13, 1904, 1904)\n"
     ]
    }
   ],
   "source": [
    "img, filename = read_image (images[2], slicing_factor=4)\n",
    "\n",
    "# Slice the nuclei stack\n",
    "nuclei_img = extract_nuclei_stack(img, nuclei_channel)"
   ]
  },
  {
   "cell_type": "code",
   "execution_count": 11,
   "metadata": {},
   "outputs": [
    {
     "name": "stdout",
     "output_type": "stream",
     "text": [
      "Assistant skips harvesting pyclesperanto as it's not installed.\n"
     ]
    },
    {
     "data": {
      "text/plain": [
       "<Image layer 'nuclei_img' at 0x24397f9f8b0>"
      ]
     },
     "execution_count": 11,
     "metadata": {},
     "output_type": "execute_result"
    }
   ],
   "source": [
    "viewer = napari.Viewer(ndisplay=2)\n",
    "\n",
    "viewer.add_image(nuclei_img)"
   ]
  },
  {
   "cell_type": "code",
   "execution_count": 12,
   "metadata": {},
   "outputs": [
    {
     "data": {
      "text/plain": [
       "(2, 13, 1904, 1904)"
      ]
     },
     "execution_count": 12,
     "metadata": {},
     "output_type": "execute_result"
    }
   ],
   "source": [
    "img.shape"
   ]
  },
  {
   "cell_type": "code",
   "execution_count": 13,
   "metadata": {},
   "outputs": [
    {
     "name": "stderr",
     "output_type": "stream",
     "text": [
      "100%|██████████| 18/18 [00:07<00:00,  2.42it/s]\n"
     ]
    }
   ],
   "source": [
    "nuclei_labels = segment_nuclei_3d(nuclei_img)"
   ]
  },
  {
   "cell_type": "code",
   "execution_count": null,
   "metadata": {},
   "outputs": [],
   "source": [
    "# Guess tiles logic\n",
    "\n",
    "#n_tiles = model.predict_instancs(nuclei_img, n_tiles=model._guess_n_tiles(nuclei_img))"
   ]
  },
  {
   "cell_type": "code",
   "execution_count": 14,
   "metadata": {},
   "outputs": [
    {
     "data": {
      "text/plain": [
       "<Labels layer 'nuclei_labels' at 0x2474b086670>"
      ]
     },
     "execution_count": 14,
     "metadata": {},
     "output_type": "execute_result"
    }
   ],
   "source": [
    "viewer.add_image(nuclei_img)\n",
    "viewer.add_labels(nuclei_labels)"
   ]
  },
  {
   "cell_type": "code",
   "execution_count": 15,
   "metadata": {},
   "outputs": [
    {
     "data": {
      "text/plain": [
       "<Image layer 'img' at 0x2474b086c10>"
      ]
     },
     "execution_count": 15,
     "metadata": {},
     "output_type": "execute_result"
    }
   ],
   "source": [
    "viewer.add_image(img)"
   ]
  },
  {
   "cell_type": "code",
   "execution_count": 16,
   "metadata": {},
   "outputs": [],
   "source": [
    "# Simulate a cytoplasm by dilating the nuclei and substracting the nuclei mask afterwards\n",
    "def simulate_cytoplasm(nuclei_labels, dilation_radius = 2, erosion_radius = 0):\n",
    "\n",
    "    # Dilate nuclei labels to simulate the surrounding cytoplasm\n",
    "    cyto_nuclei_labels = cle.dilate_labels(nuclei_labels, radius=dilation_radius)\n",
    "    cyto_nuclei_labels = cle.pull(cyto_nuclei_labels)\n",
    "    cytoplasm = cyto_nuclei_labels\n",
    "\n",
    "    # Create a copy of dilated_nuclei to modify\n",
    "    # cytoplasm = cyto_nuclei_labels.copy()\n",
    "\n",
    "    # Get unique labels (excluding 0 which is background)\n",
    "    unique_labels = np.unique(nuclei_labels)\n",
    "    unique_labels = unique_labels[unique_labels != 0]\n",
    "\n",
    "    if erosion_radius >= 1:\n",
    "\n",
    "        # Erode nuclei_labels to maintain a closed cytoplasmic region when labels are touching (if needed)\n",
    "        eroded_nuclei_labels = cle.erode_labels(nuclei_labels, radius=erosion_radius)\n",
    "        eroded_nuclei_labels = cle.pull(eroded_nuclei_labels)\n",
    "        nuclei_labels = eroded_nuclei_labels\n",
    "\n",
    "    # Iterate over each label and remove the corresponding pixels from dilated_nuclei\n",
    "    for label in unique_labels:\n",
    "        # Create a mask for the current label in filtered_nuclei\n",
    "        mask = (nuclei_labels == label)\n",
    "        # Set corresponding pixels in resulting_nuclei to zero\n",
    "        cytoplasm[mask] = 0\n",
    "\n",
    "    return cytoplasm\n",
    "\n",
    "cytoplasm_labels = simulate_cytoplasm(nuclei_labels, dilation_radius = 2, erosion_radius = 0)"
   ]
  },
  {
   "cell_type": "code",
   "execution_count": 17,
   "metadata": {},
   "outputs": [
    {
     "data": {
      "text/plain": [
       "<Labels layer 'cytoplasm_labels' at 0x2475d413610>"
      ]
     },
     "execution_count": 17,
     "metadata": {},
     "output_type": "execute_result"
    }
   ],
   "source": [
    "viewer.add_labels(cytoplasm_labels)"
   ]
  },
  {
   "cell_type": "code",
   "execution_count": null,
   "metadata": {},
   "outputs": [],
   "source": []
  }
 ],
 "metadata": {
  "kernelspec": {
   "display_name": "brain_nuc_stardist",
   "language": "python",
   "name": "python3"
  },
  "language_info": {
   "codemirror_mode": {
    "name": "ipython",
    "version": 3
   },
   "file_extension": ".py",
   "mimetype": "text/x-python",
   "name": "python",
   "nbconvert_exporter": "python",
   "pygments_lexer": "ipython3",
   "version": "3.9.20"
  }
 },
 "nbformat": 4,
 "nbformat_minor": 2
}
