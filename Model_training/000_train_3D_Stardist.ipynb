{
 "cells": [
  {
   "cell_type": "markdown",
   "metadata": {},
   "source": [
    "Please shutdown all other training/prediction notebooks before running this notebook (as those might occupy the GPU memory otherwise)."
   ]
  },
  {
   "cell_type": "code",
   "execution_count": 22,
   "metadata": {},
   "outputs": [],
   "source": [
    "from matplotlib import pyplot as plt\n",
    "import numpy as np\n",
    "import napari\n",
    "from sklearn.model_selection import train_test_split\n",
    "\n",
    "from glob import glob\n",
    "from tqdm import tqdm\n",
    "from csbdeep.utils import normalize\n",
    "\n",
    "from stardist import fill_label_holes, random_label_cmap, calculate_extents\n",
    "from stardist import Rays_GoldenSpiral\n",
    "from stardist.matching import matching_dataset\n",
    "from stardist.models import Config3D, StarDist3D\n",
    "\n",
    "from utils_training_stardist import process_images, plot_img_label, augmenter\n",
    "\n",
    "lbl_cmap = random_label_cmap()"
   ]
  },
  {
   "cell_type": "markdown",
   "metadata": {},
   "source": [
    "<h3>Data loading and normalization</h3>"
   ]
  },
  {
   "cell_type": "code",
   "execution_count": 23,
   "metadata": {},
   "outputs": [],
   "source": [
    "# Point to the disk location where your images and ground truth labels (masks) are located\n",
    "X = sorted(glob('../training_data/thick_brain_sections_Nikon/images/*.tif'))\n",
    "Y = sorted(glob('../training_data/thick_brain_sections_Nikon/masks/*.tif'))\n",
    "\n",
    "# Set a slicing factor for training a model using compressed versions of your images (i.e. 2 or 4)\n",
    "slicing_factor = None"
   ]
  },
  {
   "cell_type": "code",
   "execution_count": 24,
   "metadata": {},
   "outputs": [
    {
     "name": "stdout",
     "output_type": "stream",
     "text": [
      "Normalizing input images...\n"
     ]
    },
    {
     "name": "stderr",
     "output_type": "stream",
     "text": [
      "100%|██████████| 43/43 [00:00<00:00, 126.27it/s]\n"
     ]
    },
    {
     "name": "stdout",
     "output_type": "stream",
     "text": [
      "\n",
      "Filling label holes...\n"
     ]
    },
    {
     "name": "stderr",
     "output_type": "stream",
     "text": [
      "100%|██████████| 43/43 [00:00<00:00, 280.68it/s]"
     ]
    },
    {
     "name": "stdout",
     "output_type": "stream",
     "text": [
      "\n",
      "Number of images: 43\n",
      "- Training: 34\n",
      "- Validation: 9\n",
      "\n",
      "Slicing factor applied: None\n"
     ]
    },
    {
     "name": "stderr",
     "output_type": "stream",
     "text": [
      "\n"
     ]
    }
   ],
   "source": [
    "# Training data is provided via a list of Numpy arrays, it consists of pairs of input images (X) and label (Y) instances\n",
    "X = process_images(X, slicing_factor)\n",
    "Y = process_images(Y, slicing_factor)\n",
    "\n",
    "# Normalize images and fill small label holes if present\n",
    "axis_norm = (0,1,2)   # normalize channels independently\n",
    "print(\"Normalizing input images...\")\n",
    "X = [normalize(x,1,99.8,axis=axis_norm) for x in tqdm(X)]\n",
    "print(\"\\nFilling label holes...\")\n",
    "Y = [fill_label_holes(y) for y in tqdm(Y)]\n",
    "\n",
    "# Perform an 80/20 training/validation split \n",
    "X_trn, X_val, Y_trn, Y_val = train_test_split(X, Y, test_size=0.2, random_state=42)\n",
    "print(f\"\\nNumber of images: {len(X)}\")\n",
    "print(f\"- Training: {len(X_trn)}\")\n",
    "print(f\"- Validation: {len(X_val)}\")\n",
    "print(f\"\\nSlicing factor applied: {slicing_factor}\")"
   ]
  },
  {
   "cell_type": "markdown",
   "metadata": {},
   "source": [
    "<h3>Image and ground truth visualization</h3>"
   ]
  },
  {
   "cell_type": "code",
   "execution_count": 25,
   "metadata": {},
   "outputs": [
    {
     "data": {
      "text/plain": [
       "<Labels layer 'Labels' at 0x18218dab310>"
      ]
     },
     "execution_count": 25,
     "metadata": {},
     "output_type": "execute_result"
    }
   ],
   "source": [
    "# Explore individual image/label pairs in Napari by setting an index value\n",
    "index = 0\n",
    "\n",
    "viewer = napari.Viewer(ndisplay=2)\n",
    "viewer.add_image(X_trn[index])\n",
    "viewer.add_labels(Y_trn[index])"
   ]
  },
  {
   "cell_type": "markdown",
   "metadata": {},
   "source": [
    "<h3>Model Configuration</h3>"
   ]
  },
  {
   "cell_type": "code",
   "execution_count": 26,
   "metadata": {},
   "outputs": [
    {
     "name": "stdout",
     "output_type": "stream",
     "text": [
      "empirical anisotropy of labeled objects = (12.666666666666666, 1.0178571428571428, 1.0)\n"
     ]
    }
   ],
   "source": [
    "# Close the previous Napari viewer\n",
    "viewer.close()\n",
    "\n",
    "# Calculate Anisotropy\n",
    "extents = calculate_extents(Y)\n",
    "anisotropy = tuple(np.max(extents) / extents)\n",
    "print('empirical anisotropy of labeled objects = %s' % str(anisotropy))"
   ]
  },
  {
   "cell_type": "code",
   "execution_count": 27,
   "metadata": {},
   "outputs": [
    {
     "name": "stdout",
     "output_type": "stream",
     "text": [
      "Config3D(n_dim=3, axes='ZYXC', n_channel_in=1, n_channel_out=97, train_checkpoint='weights_best.h5', train_checkpoint_last='weights_last.h5', train_checkpoint_epoch='weights_now.h5', n_rays=96, grid=(1, 2, 2), anisotropy=(12.666666666666666, 1.0178571428571428, 1.0), backbone='unet', rays_json={'name': 'Rays_GoldenSpiral', 'kwargs': {'n': 96, 'anisotropy': (12.666666666666666, 1.0178571428571428, 1.0)}}, n_classes=None, unet_n_depth=2, unet_kernel_size=(3, 3, 3), unet_n_filter_base=32, unet_n_conv_per_depth=2, unet_pool=(2, 2, 2), unet_activation='relu', unet_last_activation='relu', unet_batch_norm=False, unet_dropout=0.0, unet_prefix='', net_conv_after_unet=128, net_input_shape=(None, None, None, 1), net_mask_shape=(None, None, None, 1), train_patch_size=(4, 64, 64), train_background_reg=0.0001, train_foreground_only=0.9, train_sample_cache=True, train_dist_loss='mae', train_loss_weights=(1, 0.2), train_class_weights=(1, 1), train_epochs=400, train_steps_per_epoch=100, train_learning_rate=0.0003, train_batch_size=2, train_n_val_patches=None, train_tensorboard=True, train_reduce_lr={'factor': 0.5, 'patience': 40, 'min_delta': 0}, use_gpu=False)\n"
     ]
    },
    {
     "data": {
      "text/plain": [
       "{'n_dim': 3,\n",
       " 'axes': 'ZYXC',\n",
       " 'n_channel_in': 1,\n",
       " 'n_channel_out': 97,\n",
       " 'train_checkpoint': 'weights_best.h5',\n",
       " 'train_checkpoint_last': 'weights_last.h5',\n",
       " 'train_checkpoint_epoch': 'weights_now.h5',\n",
       " 'n_rays': 96,\n",
       " 'grid': (1, 2, 2),\n",
       " 'anisotropy': (12.666666666666666, 1.0178571428571428, 1.0),\n",
       " 'backbone': 'unet',\n",
       " 'rays_json': {'name': 'Rays_GoldenSpiral',\n",
       "  'kwargs': {'n': 96,\n",
       "   'anisotropy': (12.666666666666666, 1.0178571428571428, 1.0)}},\n",
       " 'n_classes': None,\n",
       " 'unet_n_depth': 2,\n",
       " 'unet_kernel_size': (3, 3, 3),\n",
       " 'unet_n_filter_base': 32,\n",
       " 'unet_n_conv_per_depth': 2,\n",
       " 'unet_pool': (2, 2, 2),\n",
       " 'unet_activation': 'relu',\n",
       " 'unet_last_activation': 'relu',\n",
       " 'unet_batch_norm': False,\n",
       " 'unet_dropout': 0.0,\n",
       " 'unet_prefix': '',\n",
       " 'net_conv_after_unet': 128,\n",
       " 'net_input_shape': (None, None, None, 1),\n",
       " 'net_mask_shape': (None, None, None, 1),\n",
       " 'train_patch_size': (4, 64, 64),\n",
       " 'train_background_reg': 0.0001,\n",
       " 'train_foreground_only': 0.9,\n",
       " 'train_sample_cache': True,\n",
       " 'train_dist_loss': 'mae',\n",
       " 'train_loss_weights': (1, 0.2),\n",
       " 'train_class_weights': (1, 1),\n",
       " 'train_epochs': 400,\n",
       " 'train_steps_per_epoch': 100,\n",
       " 'train_learning_rate': 0.0003,\n",
       " 'train_batch_size': 2,\n",
       " 'train_n_val_patches': None,\n",
       " 'train_tensorboard': True,\n",
       " 'train_reduce_lr': {'factor': 0.5, 'patience': 40, 'min_delta': 0},\n",
       " 'use_gpu': False}"
      ]
     },
     "execution_count": 27,
     "metadata": {},
     "output_type": "execute_result"
    }
   ],
   "source": [
    "# 96 is a good default choice (see 1_data.ipynb)\n",
    "n_rays = 96\n",
    "\n",
    "# Use OpenCL-based computations for data generator during training (requires 'gputools') - Not implemented\n",
    "use_gpu = False\n",
    "\n",
    "# Predict on subsampled grid for increased efficiency and larger field of view\n",
    "grid = tuple(1 if a > 1.5 else 2 for a in anisotropy)\n",
    "\n",
    "# Use rays on a Fibonacci lattice adjusted for measured anisotropy of the training data\n",
    "rays = Rays_GoldenSpiral(n_rays, anisotropy=anisotropy)\n",
    "\n",
    "conf = Config3D (\n",
    "    rays             = rays,\n",
    "    grid             = grid, # You might need to manually adjust if the object size is larger than the FOV of the network (i.e. (1, 4, 4))\n",
    "    anisotropy       = anisotropy,\n",
    "    use_gpu          = use_gpu,\n",
    "    n_channel_in     = 1,\n",
    "    train_patch_size = (4,64,64), # Adjust for your data (make patch size as large as possible)\n",
    "    train_batch_size = 2,\n",
    ")\n",
    "print(conf)\n",
    "vars(conf)"
   ]
  },
  {
   "cell_type": "code",
   "execution_count": 28,
   "metadata": {},
   "outputs": [
    {
     "name": "stdout",
     "output_type": "stream",
     "text": [
      "Using default values: prob_thresh=0.5, nms_thresh=0.4.\n"
     ]
    }
   ],
   "source": [
    "model = StarDist3D(conf, name=f'3D_brain_sf_{slicing_factor}', basedir='../3D_Stardist/stardist_models')"
   ]
  },
  {
   "cell_type": "code",
   "execution_count": 29,
   "metadata": {},
   "outputs": [
    {
     "name": "stdout",
     "output_type": "stream",
     "text": [
      "median object size:      [ 4.5 56.  57. ]\n",
      "network field of view :  [26 46 46]\n",
      "WARNING: median object size larger than field of view of the neural network. Increase the grid parameter\n"
     ]
    }
   ],
   "source": [
    "# Check if the neural network has a large enough field of view to see up to the boundary of most objects.\n",
    "\n",
    "median_size = calculate_extents(Y, np.median)\n",
    "fov = np.array(model._axes_tile_overlap('ZYX'))\n",
    "print(f\"median object size:      {median_size}\")\n",
    "print(f\"network field of view :  {fov}\")\n",
    "if any(median_size > fov):\n",
    "    print(\"WARNING: median object size larger than field of view of the neural network. Increase the grid parameter\")"
   ]
  },
  {
   "cell_type": "markdown",
   "metadata": {},
   "source": [
    "<h3>Data Augmentation and Training</h3>\n",
    "\n",
    "You can define a function/callable that applies augmentation to each batch of the data generator (see <code>utils_training_stardist.py</code>).\n",
    "We here use an <code>augmenter</code> that applies random rotations, flips, and intensity changes, which are typically sensible for (3D) microscopy images (but you can disable augmentation by setting <code>augmenter = None</code>).\n",
    "\n",
    "You can monitor the progress during training in a separate JN by launching a Tensorboard instance."
   ]
  },
  {
   "cell_type": "code",
   "execution_count": null,
   "metadata": {},
   "outputs": [
    {
     "name": "stdout",
     "output_type": "stream",
     "text": [
      "Epoch 1/400\n",
      "100/100 [==============================] - 20s 194ms/step - loss: 2.4485 - prob_loss: 0.4406 - dist_loss: 10.0393 - prob_kld: 0.3418 - dist_relevant_mae: 10.0389 - dist_relevant_mse: 187.3152 - dist_dist_iou_metric: 0.0933 - val_loss: 1.6098 - val_prob_loss: 0.2778 - val_dist_loss: 6.6599 - val_prob_kld: 0.1860 - val_dist_relevant_mae: 6.6592 - val_dist_relevant_mse: 99.5888 - val_dist_dist_iou_metric: 0.2496 - lr: 3.0000e-04\n",
      "Epoch 2/400\n",
      "100/100 [==============================] - 18s 186ms/step - loss: 1.5484 - prob_loss: 0.2949 - dist_loss: 6.2673 - prob_kld: 0.1944 - dist_relevant_mae: 6.2663 - dist_relevant_mse: 86.6898 - dist_dist_iou_metric: 0.3107 - val_loss: 1.4672 - val_prob_loss: 0.2236 - val_dist_loss: 6.2176 - val_prob_kld: 0.1309 - val_dist_relevant_mae: 6.2167 - val_dist_relevant_mse: 86.8051 - val_dist_dist_iou_metric: 0.2828 - lr: 3.0000e-04\n",
      "Epoch 3/400\n",
      "100/100 [==============================] - 19s 188ms/step - loss: 1.5198 - prob_loss: 0.2883 - dist_loss: 6.1576 - prob_kld: 0.1879 - dist_relevant_mae: 6.1565 - dist_relevant_mse: 88.4441 - dist_dist_iou_metric: 0.3155 - val_loss: 1.6473 - val_prob_loss: 0.2862 - val_dist_loss: 6.8056 - val_prob_kld: 0.1865 - val_dist_relevant_mae: 6.8042 - val_dist_relevant_mse: 86.1560 - val_dist_dist_iou_metric: 0.3604 - lr: 3.0000e-04\n",
      "Epoch 4/400\n",
      "100/100 [==============================] - 15s 153ms/step - loss: 1.4167 - prob_loss: 0.2588 - dist_loss: 5.7891 - prob_kld: 0.1746 - dist_relevant_mae: 5.7880 - dist_relevant_mse: 75.2610 - dist_dist_iou_metric: 0.3233 - val_loss: 1.3125 - val_prob_loss: 0.1880 - val_dist_loss: 5.6227 - val_prob_kld: 0.0950 - val_dist_relevant_mae: 5.6217 - val_dist_relevant_mse: 70.4341 - val_dist_dist_iou_metric: 0.3561 - lr: 3.0000e-04\n",
      "Epoch 5/400\n",
      "100/100 [==============================] - 19s 188ms/step - loss: 1.4359 - prob_loss: 0.2462 - dist_loss: 5.9488 - prob_kld: 0.1404 - dist_relevant_mae: 5.9477 - dist_relevant_mse: 80.7847 - dist_dist_iou_metric: 0.3447 - val_loss: 1.2753 - val_prob_loss: 0.1762 - val_dist_loss: 5.4951 - val_prob_kld: 0.0837 - val_dist_relevant_mae: 5.4940 - val_dist_relevant_mse: 66.7371 - val_dist_dist_iou_metric: 0.3755 - lr: 3.0000e-04\n",
      "Epoch 6/400\n",
      "100/100 [==============================] - 19s 186ms/step - loss: 1.3591 - prob_loss: 0.2381 - dist_loss: 5.6046 - prob_kld: 0.1340 - dist_relevant_mae: 5.6035 - dist_relevant_mse: 74.7304 - dist_dist_iou_metric: 0.3538 - val_loss: 1.2749 - val_prob_loss: 0.1675 - val_dist_loss: 5.5374 - val_prob_kld: 0.0758 - val_dist_relevant_mae: 5.5362 - val_dist_relevant_mse: 60.3879 - val_dist_dist_iou_metric: 0.4177 - lr: 3.0000e-04\n",
      "Epoch 7/400\n",
      "100/100 [==============================] - 17s 166ms/step - loss: 1.3366 - prob_loss: 0.2457 - dist_loss: 5.4545 - prob_kld: 0.1544 - dist_relevant_mae: 5.4535 - dist_relevant_mse: 72.3903 - dist_dist_iou_metric: 0.3538 - val_loss: 1.2276 - val_prob_loss: 0.1982 - val_dist_loss: 5.1467 - val_prob_kld: 0.1047 - val_dist_relevant_mae: 5.1461 - val_dist_relevant_mse: 63.5417 - val_dist_dist_iou_metric: 0.3355 - lr: 3.0000e-04\n",
      "Epoch 8/400\n",
      "100/100 [==============================] - 16s 164ms/step - loss: 1.2779 - prob_loss: 0.2200 - dist_loss: 5.2894 - prob_kld: 0.1283 - dist_relevant_mae: 5.2884 - dist_relevant_mse: 65.8616 - dist_dist_iou_metric: 0.3765 - val_loss: 1.1292 - val_prob_loss: 0.1768 - val_dist_loss: 4.7619 - val_prob_kld: 0.0854 - val_dist_relevant_mae: 4.7610 - val_dist_relevant_mse: 54.6677 - val_dist_dist_iou_metric: 0.4112 - lr: 3.0000e-04\n",
      "Epoch 9/400\n",
      "100/100 [==============================] - 17s 172ms/step - loss: 1.3083 - prob_loss: 0.2509 - dist_loss: 5.2871 - prob_kld: 0.1529 - dist_relevant_mae: 5.2860 - dist_relevant_mse: 65.3372 - dist_dist_iou_metric: 0.3874 - val_loss: 1.1546 - val_prob_loss: 0.1700 - val_dist_loss: 4.9228 - val_prob_kld: 0.0784 - val_dist_relevant_mae: 4.9217 - val_dist_relevant_mse: 55.0730 - val_dist_dist_iou_metric: 0.4308 - lr: 3.0000e-04\n",
      "Epoch 10/400\n",
      "100/100 [==============================] - 17s 165ms/step - loss: 1.2089 - prob_loss: 0.2310 - dist_loss: 4.8895 - prob_kld: 0.1346 - dist_relevant_mae: 4.8884 - dist_relevant_mse: 58.1499 - dist_dist_iou_metric: 0.3961 - val_loss: 1.1426 - val_prob_loss: 0.1668 - val_dist_loss: 4.8790 - val_prob_kld: 0.0743 - val_dist_relevant_mae: 4.8778 - val_dist_relevant_mse: 52.7262 - val_dist_dist_iou_metric: 0.4502 - lr: 3.0000e-04\n",
      "Epoch 11/400\n",
      "100/100 [==============================] - 19s 195ms/step - loss: 1.2228 - prob_loss: 0.2472 - dist_loss: 4.8779 - prob_kld: 0.1423 - dist_relevant_mae: 4.8768 - dist_relevant_mse: 57.7711 - dist_dist_iou_metric: 0.4283 - val_loss: 1.0662 - val_prob_loss: 0.1621 - val_dist_loss: 4.5204 - val_prob_kld: 0.0701 - val_dist_relevant_mae: 4.5191 - val_dist_relevant_mse: 47.3995 - val_dist_dist_iou_metric: 0.4732 - lr: 3.0000e-04\n",
      "Epoch 12/400\n",
      "100/100 [==============================] - 17s 171ms/step - loss: 1.1741 - prob_loss: 0.2473 - dist_loss: 4.6338 - prob_kld: 0.1480 - dist_relevant_mae: 4.6326 - dist_relevant_mse: 51.7900 - dist_dist_iou_metric: 0.4457 - val_loss: 1.0427 - val_prob_loss: 0.1802 - val_dist_loss: 4.3122 - val_prob_kld: 0.0876 - val_dist_relevant_mae: 4.3112 - val_dist_relevant_mse: 47.8481 - val_dist_dist_iou_metric: 0.4567 - lr: 3.0000e-04\n",
      "Epoch 13/400\n",
      "100/100 [==============================] - 18s 181ms/step - loss: 1.0992 - prob_loss: 0.2171 - dist_loss: 4.4106 - prob_kld: 0.1182 - dist_relevant_mae: 4.4095 - dist_relevant_mse: 47.2009 - dist_dist_iou_metric: 0.4540 - val_loss: 1.0265 - val_prob_loss: 0.1875 - val_dist_loss: 4.1949 - val_prob_kld: 0.0926 - val_dist_relevant_mae: 4.1938 - val_dist_relevant_mse: 36.7847 - val_dist_dist_iou_metric: 0.5257 - lr: 3.0000e-04\n",
      "Epoch 14/400\n",
      "100/100 [==============================] - 20s 197ms/step - loss: 1.1979 - prob_loss: 0.2584 - dist_loss: 4.6977 - prob_kld: 0.1524 - dist_relevant_mae: 4.6966 - dist_relevant_mse: 52.4713 - dist_dist_iou_metric: 0.4571 - val_loss: 1.0375 - val_prob_loss: 0.1624 - val_dist_loss: 4.3755 - val_prob_kld: 0.0701 - val_dist_relevant_mae: 4.3741 - val_dist_relevant_mse: 42.0731 - val_dist_dist_iou_metric: 0.5056 - lr: 3.0000e-04\n",
      "Epoch 15/400\n",
      "100/100 [==============================] - 18s 178ms/step - loss: 1.0827 - prob_loss: 0.2197 - dist_loss: 4.3150 - prob_kld: 0.1229 - dist_relevant_mae: 4.3137 - dist_relevant_mse: 45.7724 - dist_dist_iou_metric: 0.4786 - val_loss: 0.9699 - val_prob_loss: 0.1422 - val_dist_loss: 4.1383 - val_prob_kld: 0.0507 - val_dist_relevant_mae: 4.1372 - val_dist_relevant_mse: 42.1549 - val_dist_dist_iou_metric: 0.4821 - lr: 3.0000e-04\n",
      "Epoch 16/400\n",
      "100/100 [==============================] - 19s 189ms/step - loss: 1.1119 - prob_loss: 0.2287 - dist_loss: 4.4156 - prob_kld: 0.1296 - dist_relevant_mae: 4.4145 - dist_relevant_mse: 47.4504 - dist_dist_iou_metric: 0.4675 - val_loss: 0.9565 - val_prob_loss: 0.1536 - val_dist_loss: 4.0149 - val_prob_kld: 0.0612 - val_dist_relevant_mae: 4.0139 - val_dist_relevant_mse: 39.2572 - val_dist_dist_iou_metric: 0.4852 - lr: 3.0000e-04\n",
      "Epoch 17/400\n",
      "100/100 [==============================] - 20s 202ms/step - loss: 1.1196 - prob_loss: 0.2425 - dist_loss: 4.3854 - prob_kld: 0.1323 - dist_relevant_mae: 4.3843 - dist_relevant_mse: 47.4634 - dist_dist_iou_metric: 0.4650 - val_loss: 0.9242 - val_prob_loss: 0.1526 - val_dist_loss: 3.8581 - val_prob_kld: 0.0601 - val_dist_relevant_mae: 3.8571 - val_dist_relevant_mse: 34.7929 - val_dist_dist_iou_metric: 0.5198 - lr: 3.0000e-04\n",
      "Epoch 18/400\n",
      "100/100 [==============================] - 19s 191ms/step - loss: 1.0662 - prob_loss: 0.2297 - dist_loss: 4.1824 - prob_kld: 0.1229 - dist_relevant_mae: 4.1812 - dist_relevant_mse: 42.4241 - dist_dist_iou_metric: 0.4964 - val_loss: 0.9694 - val_prob_loss: 0.1390 - val_dist_loss: 4.1517 - val_prob_kld: 0.0476 - val_dist_relevant_mae: 4.1504 - val_dist_relevant_mse: 38.5565 - val_dist_dist_iou_metric: 0.5232 - lr: 3.0000e-04\n",
      "Epoch 19/400\n",
      "100/100 [==============================] - 18s 183ms/step - loss: 1.0528 - prob_loss: 0.2106 - dist_loss: 4.2114 - prob_kld: 0.1128 - dist_relevant_mae: 4.2101 - dist_relevant_mse: 43.0827 - dist_dist_iou_metric: 0.4898 - val_loss: 0.9852 - val_prob_loss: 0.1572 - val_dist_loss: 4.1400 - val_prob_kld: 0.0641 - val_dist_relevant_mae: 4.1389 - val_dist_relevant_mse: 40.4993 - val_dist_dist_iou_metric: 0.4708 - lr: 3.0000e-04\n",
      "Epoch 20/400\n",
      "100/100 [==============================] - 19s 190ms/step - loss: 1.1029 - prob_loss: 0.2478 - dist_loss: 4.2754 - prob_kld: 0.1416 - dist_relevant_mae: 4.2742 - dist_relevant_mse: 43.9718 - dist_dist_iou_metric: 0.4884 - val_loss: 1.0134 - val_prob_loss: 0.1674 - val_dist_loss: 4.2296 - val_prob_kld: 0.0739 - val_dist_relevant_mae: 4.2283 - val_dist_relevant_mse: 37.6886 - val_dist_dist_iou_metric: 0.5308 - lr: 3.0000e-04\n",
      "Epoch 21/400\n",
      "100/100 [==============================] - 18s 186ms/step - loss: 1.0384 - prob_loss: 0.2206 - dist_loss: 4.0892 - prob_kld: 0.1194 - dist_relevant_mae: 4.0880 - dist_relevant_mse: 39.8963 - dist_dist_iou_metric: 0.5041 - val_loss: 0.9113 - val_prob_loss: 0.1536 - val_dist_loss: 3.7886 - val_prob_kld: 0.0627 - val_dist_relevant_mae: 3.7875 - val_dist_relevant_mse: 34.5951 - val_dist_dist_iou_metric: 0.5295 - lr: 3.0000e-04\n",
      "Epoch 22/400\n",
      "100/100 [==============================] - 16s 160ms/step - loss: 0.9909 - prob_loss: 0.1992 - dist_loss: 3.9583 - prob_kld: 0.1091 - dist_relevant_mae: 3.9571 - dist_relevant_mse: 38.8166 - dist_dist_iou_metric: 0.4919 - val_loss: 0.9040 - val_prob_loss: 0.1359 - val_dist_loss: 3.8403 - val_prob_kld: 0.0448 - val_dist_relevant_mae: 3.8391 - val_dist_relevant_mse: 37.2771 - val_dist_dist_iou_metric: 0.5179 - lr: 3.0000e-04\n",
      "Epoch 23/400\n",
      "100/100 [==============================] - 19s 183ms/step - loss: 0.9963 - prob_loss: 0.2139 - dist_loss: 3.9121 - prob_kld: 0.1134 - dist_relevant_mae: 3.9109 - dist_relevant_mse: 39.0280 - dist_dist_iou_metric: 0.4952 - val_loss: 0.9660 - val_prob_loss: 0.1353 - val_dist_loss: 4.1532 - val_prob_kld: 0.0440 - val_dist_relevant_mae: 4.1523 - val_dist_relevant_mse: 42.1133 - val_dist_dist_iou_metric: 0.4543 - lr: 3.0000e-04\n",
      "Epoch 24/400\n",
      "100/100 [==============================] - 19s 192ms/step - loss: 1.0069 - prob_loss: 0.2134 - dist_loss: 3.9671 - prob_kld: 0.1116 - dist_relevant_mae: 3.9660 - dist_relevant_mse: 39.6123 - dist_dist_iou_metric: 0.5075 - val_loss: 0.8706 - val_prob_loss: 0.1434 - val_dist_loss: 3.6360 - val_prob_kld: 0.0516 - val_dist_relevant_mae: 3.6351 - val_dist_relevant_mse: 30.4840 - val_dist_dist_iou_metric: 0.5337 - lr: 3.0000e-04\n",
      "Epoch 25/400\n",
      "100/100 [==============================] - 19s 188ms/step - loss: 0.9553 - prob_loss: 0.1987 - dist_loss: 3.7830 - prob_kld: 0.1009 - dist_relevant_mae: 3.7820 - dist_relevant_mse: 35.7869 - dist_dist_iou_metric: 0.5159 - val_loss: 0.9117 - val_prob_loss: 0.1312 - val_dist_loss: 3.9025 - val_prob_kld: 0.0398 - val_dist_relevant_mae: 3.9014 - val_dist_relevant_mse: 34.3009 - val_dist_dist_iou_metric: 0.5467 - lr: 3.0000e-04\n",
      "Epoch 26/400\n",
      "100/100 [==============================] - 17s 169ms/step - loss: 0.9503 - prob_loss: 0.1937 - dist_loss: 3.7832 - prob_kld: 0.1006 - dist_relevant_mae: 3.7821 - dist_relevant_mse: 36.1272 - dist_dist_iou_metric: 0.5137 - val_loss: 0.8665 - val_prob_loss: 0.1490 - val_dist_loss: 3.5876 - val_prob_kld: 0.0556 - val_dist_relevant_mae: 3.5867 - val_dist_relevant_mse: 30.7351 - val_dist_dist_iou_metric: 0.5295 - lr: 3.0000e-04\n",
      "Epoch 27/400\n",
      "100/100 [==============================] - 20s 199ms/step - loss: 0.9583 - prob_loss: 0.2019 - dist_loss: 3.7820 - prob_kld: 0.0970 - dist_relevant_mae: 3.7809 - dist_relevant_mse: 36.0353 - dist_dist_iou_metric: 0.5220 - val_loss: 0.8608 - val_prob_loss: 0.1354 - val_dist_loss: 3.6268 - val_prob_kld: 0.0444 - val_dist_relevant_mae: 3.6257 - val_dist_relevant_mse: 29.9821 - val_dist_dist_iou_metric: 0.5519 - lr: 3.0000e-04\n",
      "Epoch 28/400\n",
      "100/100 [==============================] - 17s 171ms/step - loss: 0.9637 - prob_loss: 0.1841 - dist_loss: 3.8980 - prob_kld: 0.0890 - dist_relevant_mae: 3.8969 - dist_relevant_mse: 37.0514 - dist_dist_iou_metric: 0.5068 - val_loss: 0.8398 - val_prob_loss: 0.1257 - val_dist_loss: 3.5708 - val_prob_kld: 0.0352 - val_dist_relevant_mae: 3.5698 - val_dist_relevant_mse: 31.9998 - val_dist_dist_iou_metric: 0.5398 - lr: 3.0000e-04\n",
      "Epoch 29/400\n",
      "100/100 [==============================] - 19s 188ms/step - loss: 0.9674 - prob_loss: 0.2067 - dist_loss: 3.8040 - prob_kld: 0.1051 - dist_relevant_mae: 3.8029 - dist_relevant_mse: 36.3315 - dist_dist_iou_metric: 0.5222 - val_loss: 0.8646 - val_prob_loss: 0.1379 - val_dist_loss: 3.6336 - val_prob_kld: 0.0468 - val_dist_relevant_mae: 3.6325 - val_dist_relevant_mse: 31.0415 - val_dist_dist_iou_metric: 0.5491 - lr: 3.0000e-04\n",
      "Epoch 30/400\n",
      "100/100 [==============================] - 17s 170ms/step - loss: 0.9571 - prob_loss: 0.1915 - dist_loss: 3.8283 - prob_kld: 0.0975 - dist_relevant_mae: 3.8272 - dist_relevant_mse: 37.0290 - dist_dist_iou_metric: 0.5116 - val_loss: 0.8534 - val_prob_loss: 0.1311 - val_dist_loss: 3.6111 - val_prob_kld: 0.0406 - val_dist_relevant_mae: 3.6099 - val_dist_relevant_mse: 31.6753 - val_dist_dist_iou_metric: 0.5322 - lr: 3.0000e-04\n",
      "Epoch 31/400\n",
      "100/100 [==============================] - 17s 168ms/step - loss: 0.9204 - prob_loss: 0.1863 - dist_loss: 3.6708 - prob_kld: 0.0943 - dist_relevant_mae: 3.6697 - dist_relevant_mse: 33.9818 - dist_dist_iou_metric: 0.5220 - val_loss: 0.8188 - val_prob_loss: 0.1385 - val_dist_loss: 3.4015 - val_prob_kld: 0.0477 - val_dist_relevant_mae: 3.4003 - val_dist_relevant_mse: 28.6552 - val_dist_dist_iou_metric: 0.5720 - lr: 3.0000e-04\n",
      "Epoch 32/400\n",
      "100/100 [==============================] - 16s 162ms/step - loss: 0.8775 - prob_loss: 0.1762 - dist_loss: 3.5065 - prob_kld: 0.0884 - dist_relevant_mae: 3.5054 - dist_relevant_mse: 32.0618 - dist_dist_iou_metric: 0.5197 - val_loss: 0.8407 - val_prob_loss: 0.1261 - val_dist_loss: 3.5729 - val_prob_kld: 0.0358 - val_dist_relevant_mae: 3.5718 - val_dist_relevant_mse: 30.0758 - val_dist_dist_iou_metric: 0.5702 - lr: 3.0000e-04\n",
      "Epoch 33/400\n",
      "100/100 [==============================] - 19s 187ms/step - loss: 0.9157 - prob_loss: 0.1857 - dist_loss: 3.6499 - prob_kld: 0.0884 - dist_relevant_mae: 3.6489 - dist_relevant_mse: 33.8794 - dist_dist_iou_metric: 0.5328 - val_loss: 0.9579 - val_prob_loss: 0.1576 - val_dist_loss: 4.0013 - val_prob_kld: 0.0664 - val_dist_relevant_mae: 4.0003 - val_dist_relevant_mse: 37.7108 - val_dist_dist_iou_metric: 0.4670 - lr: 3.0000e-04\n",
      "Epoch 34/400\n",
      "100/100 [==============================] - 18s 183ms/step - loss: 0.8873 - prob_loss: 0.1738 - dist_loss: 3.5678 - prob_kld: 0.0775 - dist_relevant_mae: 3.5667 - dist_relevant_mse: 31.8740 - dist_dist_iou_metric: 0.5364 - val_loss: 0.8857 - val_prob_loss: 0.1289 - val_dist_loss: 3.7840 - val_prob_kld: 0.0382 - val_dist_relevant_mae: 3.7830 - val_dist_relevant_mse: 35.0040 - val_dist_dist_iou_metric: 0.5408 - lr: 3.0000e-04\n",
      "Epoch 35/400\n",
      "100/100 [==============================] - 16s 159ms/step - loss: 0.9188 - prob_loss: 0.1866 - dist_loss: 3.6609 - prob_kld: 0.0967 - dist_relevant_mae: 3.6599 - dist_relevant_mse: 35.0757 - dist_dist_iou_metric: 0.5321 - val_loss: 0.7787 - val_prob_loss: 0.1285 - val_dist_loss: 3.2511 - val_prob_kld: 0.0377 - val_dist_relevant_mae: 3.2501 - val_dist_relevant_mse: 26.6396 - val_dist_dist_iou_metric: 0.5684 - lr: 3.0000e-04\n",
      "Epoch 36/400\n",
      "100/100 [==============================] - 18s 181ms/step - loss: 0.8756 - prob_loss: 0.1786 - dist_loss: 3.4849 - prob_kld: 0.0814 - dist_relevant_mae: 3.4838 - dist_relevant_mse: 31.3692 - dist_dist_iou_metric: 0.5518 - val_loss: 0.8284 - val_prob_loss: 0.1332 - val_dist_loss: 3.4762 - val_prob_kld: 0.0416 - val_dist_relevant_mae: 3.4751 - val_dist_relevant_mse: 33.3132 - val_dist_dist_iou_metric: 0.5622 - lr: 3.0000e-04\n",
      "Epoch 37/400\n",
      "100/100 [==============================] - 18s 185ms/step - loss: 0.9245 - prob_loss: 0.1887 - dist_loss: 3.6792 - prob_kld: 0.0890 - dist_relevant_mae: 3.6780 - dist_relevant_mse: 35.2412 - dist_dist_iou_metric: 0.5491 - val_loss: 0.8002 - val_prob_loss: 0.1231 - val_dist_loss: 3.3854 - val_prob_kld: 0.0323 - val_dist_relevant_mae: 3.3843 - val_dist_relevant_mse: 27.1047 - val_dist_dist_iou_metric: 0.5480 - lr: 3.0000e-04\n",
      "Epoch 38/400\n",
      "100/100 [==============================] - 18s 183ms/step - loss: 0.9419 - prob_loss: 0.2100 - dist_loss: 3.6594 - prob_kld: 0.1179 - dist_relevant_mae: 3.6583 - dist_relevant_mse: 33.4950 - dist_dist_iou_metric: 0.5322 - val_loss: 0.7640 - val_prob_loss: 0.1294 - val_dist_loss: 3.1729 - val_prob_kld: 0.0394 - val_dist_relevant_mae: 3.1720 - val_dist_relevant_mse: 25.1121 - val_dist_dist_iou_metric: 0.5894 - lr: 3.0000e-04\n",
      "Epoch 39/400\n",
      "100/100 [==============================] - 16s 159ms/step - loss: 0.8158 - prob_loss: 0.1640 - dist_loss: 3.2588 - prob_kld: 0.0724 - dist_relevant_mae: 3.2578 - dist_relevant_mse: 27.7198 - dist_dist_iou_metric: 0.5446 - val_loss: 0.7803 - val_prob_loss: 0.1225 - val_dist_loss: 3.2893 - val_prob_kld: 0.0321 - val_dist_relevant_mae: 3.2882 - val_dist_relevant_mse: 25.8692 - val_dist_dist_iou_metric: 0.5872 - lr: 3.0000e-04\n",
      "Epoch 40/400\n",
      "100/100 [==============================] - 19s 191ms/step - loss: 0.8653 - prob_loss: 0.1737 - dist_loss: 3.4583 - prob_kld: 0.0722 - dist_relevant_mae: 3.4572 - dist_relevant_mse: 31.3001 - dist_dist_iou_metric: 0.5572 - val_loss: 0.7557 - val_prob_loss: 0.1235 - val_dist_loss: 3.1611 - val_prob_kld: 0.0331 - val_dist_relevant_mae: 3.1601 - val_dist_relevant_mse: 26.0802 - val_dist_dist_iou_metric: 0.5774 - lr: 3.0000e-04\n",
      "Epoch 41/400\n",
      "100/100 [==============================] - 21s 208ms/step - loss: 0.8646 - prob_loss: 0.1820 - dist_loss: 3.4134 - prob_kld: 0.0735 - dist_relevant_mae: 3.4123 - dist_relevant_mse: 31.4692 - dist_dist_iou_metric: 0.5628 - val_loss: 0.8124 - val_prob_loss: 0.1240 - val_dist_loss: 3.4422 - val_prob_kld: 0.0337 - val_dist_relevant_mae: 3.4409 - val_dist_relevant_mse: 27.6212 - val_dist_dist_iou_metric: 0.5898 - lr: 3.0000e-04\n",
      "Epoch 42/400\n",
      "100/100 [==============================] - 21s 207ms/step - loss: 0.8237 - prob_loss: 0.1766 - dist_loss: 3.2352 - prob_kld: 0.0691 - dist_relevant_mae: 3.2342 - dist_relevant_mse: 28.2101 - dist_dist_iou_metric: 0.5654 - val_loss: 0.7912 - val_prob_loss: 0.1284 - val_dist_loss: 3.3138 - val_prob_kld: 0.0382 - val_dist_relevant_mae: 3.3128 - val_dist_relevant_mse: 29.7715 - val_dist_dist_iou_metric: 0.5772 - lr: 3.0000e-04\n",
      "Epoch 43/400\n",
      "100/100 [==============================] - 20s 197ms/step - loss: 0.8387 - prob_loss: 0.1720 - dist_loss: 3.3339 - prob_kld: 0.0707 - dist_relevant_mae: 3.3329 - dist_relevant_mse: 29.0761 - dist_dist_iou_metric: 0.5765 - val_loss: 0.7819 - val_prob_loss: 0.1464 - val_dist_loss: 3.1771 - val_prob_kld: 0.0570 - val_dist_relevant_mae: 3.1759 - val_dist_relevant_mse: 25.9617 - val_dist_dist_iou_metric: 0.5929 - lr: 3.0000e-04\n",
      "Epoch 44/400\n",
      "100/100 [==============================] - 18s 182ms/step - loss: 0.8380 - prob_loss: 0.1798 - dist_loss: 3.2912 - prob_kld: 0.0763 - dist_relevant_mae: 3.2901 - dist_relevant_mse: 28.9516 - dist_dist_iou_metric: 0.5707 - val_loss: 0.7583 - val_prob_loss: 0.1254 - val_dist_loss: 3.1644 - val_prob_kld: 0.0348 - val_dist_relevant_mae: 3.1633 - val_dist_relevant_mse: 26.3487 - val_dist_dist_iou_metric: 0.5950 - lr: 3.0000e-04\n",
      "Epoch 45/400\n",
      "100/100 [==============================] - 19s 189ms/step - loss: 0.8107 - prob_loss: 0.1582 - dist_loss: 3.2625 - prob_kld: 0.0547 - dist_relevant_mae: 3.2615 - dist_relevant_mse: 28.1908 - dist_dist_iou_metric: 0.5813 - val_loss: 0.8899 - val_prob_loss: 0.1514 - val_dist_loss: 3.6925 - val_prob_kld: 0.0580 - val_dist_relevant_mae: 3.6915 - val_dist_relevant_mse: 39.0806 - val_dist_dist_iou_metric: 0.5497 - lr: 3.0000e-04\n",
      "Epoch 46/400\n",
      "100/100 [==============================] - 18s 185ms/step - loss: 0.8588 - prob_loss: 0.1824 - dist_loss: 3.3819 - prob_kld: 0.0801 - dist_relevant_mae: 3.3808 - dist_relevant_mse: 30.7156 - dist_dist_iou_metric: 0.5676 - val_loss: 0.7762 - val_prob_loss: 0.1222 - val_dist_loss: 3.2703 - val_prob_kld: 0.0316 - val_dist_relevant_mae: 3.2691 - val_dist_relevant_mse: 26.3401 - val_dist_dist_iou_metric: 0.5970 - lr: 3.0000e-04\n",
      "Epoch 47/400\n",
      "100/100 [==============================] - 17s 169ms/step - loss: 0.8025 - prob_loss: 0.1574 - dist_loss: 3.2256 - prob_kld: 0.0635 - dist_relevant_mae: 3.2245 - dist_relevant_mse: 27.3939 - dist_dist_iou_metric: 0.5717 - val_loss: 0.7590 - val_prob_loss: 0.1160 - val_dist_loss: 3.2150 - val_prob_kld: 0.0259 - val_dist_relevant_mae: 3.2138 - val_dist_relevant_mse: 27.5024 - val_dist_dist_iou_metric: 0.6040 - lr: 3.0000e-04\n",
      "Epoch 48/400\n",
      "100/100 [==============================] - 20s 197ms/step - loss: 0.8066 - prob_loss: 0.1722 - dist_loss: 3.1720 - prob_kld: 0.0678 - dist_relevant_mae: 3.1709 - dist_relevant_mse: 26.5283 - dist_dist_iou_metric: 0.5937 - val_loss: 0.8140 - val_prob_loss: 0.1253 - val_dist_loss: 3.4431 - val_prob_kld: 0.0343 - val_dist_relevant_mae: 3.4421 - val_dist_relevant_mse: 35.8206 - val_dist_dist_iou_metric: 0.5646 - lr: 3.0000e-04\n",
      "Epoch 49/400\n",
      "100/100 [==============================] - 18s 182ms/step - loss: 0.8089 - prob_loss: 0.1637 - dist_loss: 3.2262 - prob_kld: 0.0673 - dist_relevant_mae: 3.2252 - dist_relevant_mse: 28.3761 - dist_dist_iou_metric: 0.5619 - val_loss: 0.7232 - val_prob_loss: 0.1197 - val_dist_loss: 3.0175 - val_prob_kld: 0.0294 - val_dist_relevant_mae: 3.0165 - val_dist_relevant_mse: 25.0909 - val_dist_dist_iou_metric: 0.5957 - lr: 3.0000e-04\n",
      "Epoch 50/400\n",
      "100/100 [==============================] - 18s 178ms/step - loss: 0.8410 - prob_loss: 0.1736 - dist_loss: 3.3374 - prob_kld: 0.0785 - dist_relevant_mae: 3.3363 - dist_relevant_mse: 30.5549 - dist_dist_iou_metric: 0.5754 - val_loss: 0.7610 - val_prob_loss: 0.1144 - val_dist_loss: 3.2330 - val_prob_kld: 0.0246 - val_dist_relevant_mae: 3.2320 - val_dist_relevant_mse: 27.1686 - val_dist_dist_iou_metric: 0.5614 - lr: 3.0000e-04\n",
      "Epoch 51/400\n",
      "100/100 [==============================] - 16s 159ms/step - loss: 0.8018 - prob_loss: 0.1567 - dist_loss: 3.2255 - prob_kld: 0.0698 - dist_relevant_mae: 3.2245 - dist_relevant_mse: 28.2729 - dist_dist_iou_metric: 0.5672 - val_loss: 0.7446 - val_prob_loss: 0.1196 - val_dist_loss: 3.1255 - val_prob_kld: 0.0290 - val_dist_relevant_mae: 3.1245 - val_dist_relevant_mse: 26.2071 - val_dist_dist_iou_metric: 0.5967 - lr: 3.0000e-04\n",
      "Epoch 52/400\n",
      "100/100 [==============================] - 17s 168ms/step - loss: 0.7904 - prob_loss: 0.1589 - dist_loss: 3.1574 - prob_kld: 0.0678 - dist_relevant_mae: 3.1564 - dist_relevant_mse: 27.3409 - dist_dist_iou_metric: 0.5730 - val_loss: 0.7775 - val_prob_loss: 0.1284 - val_dist_loss: 3.2456 - val_prob_kld: 0.0380 - val_dist_relevant_mae: 3.2444 - val_dist_relevant_mse: 27.7667 - val_dist_dist_iou_metric: 0.5976 - lr: 3.0000e-04\n",
      "Epoch 53/400\n",
      "100/100 [==============================] - 18s 183ms/step - loss: 0.7871 - prob_loss: 0.1619 - dist_loss: 3.1262 - prob_kld: 0.0647 - dist_relevant_mae: 3.1251 - dist_relevant_mse: 26.9133 - dist_dist_iou_metric: 0.5883 - val_loss: 0.7428 - val_prob_loss: 0.1217 - val_dist_loss: 3.1054 - val_prob_kld: 0.0313 - val_dist_relevant_mae: 3.1043 - val_dist_relevant_mse: 25.7864 - val_dist_dist_iou_metric: 0.6123 - lr: 3.0000e-04\n",
      "Epoch 54/400\n",
      "100/100 [==============================] - 20s 203ms/step - loss: 0.8090 - prob_loss: 0.1814 - dist_loss: 3.1381 - prob_kld: 0.0747 - dist_relevant_mae: 3.1369 - dist_relevant_mse: 27.6384 - dist_dist_iou_metric: 0.5980 - val_loss: 0.8183 - val_prob_loss: 0.1275 - val_dist_loss: 3.4539 - val_prob_kld: 0.0364 - val_dist_relevant_mae: 3.4528 - val_dist_relevant_mse: 35.8151 - val_dist_dist_iou_metric: 0.5766 - lr: 3.0000e-04\n",
      "Epoch 55/400\n",
      "100/100 [==============================] - 18s 185ms/step - loss: 0.7648 - prob_loss: 0.1562 - dist_loss: 3.0434 - prob_kld: 0.0608 - dist_relevant_mae: 3.0423 - dist_relevant_mse: 26.0789 - dist_dist_iou_metric: 0.5958 - val_loss: 0.7219 - val_prob_loss: 0.1269 - val_dist_loss: 2.9750 - val_prob_kld: 0.0364 - val_dist_relevant_mae: 2.9740 - val_dist_relevant_mse: 22.9556 - val_dist_dist_iou_metric: 0.6112 - lr: 3.0000e-04\n",
      "Epoch 56/400\n",
      "100/100 [==============================] - 18s 171ms/step - loss: 0.7701 - prob_loss: 0.1583 - dist_loss: 3.0587 - prob_kld: 0.0619 - dist_relevant_mae: 3.0576 - dist_relevant_mse: 24.9832 - dist_dist_iou_metric: 0.5933 - val_loss: 0.7492 - val_prob_loss: 0.1209 - val_dist_loss: 3.1416 - val_prob_kld: 0.0304 - val_dist_relevant_mae: 3.1407 - val_dist_relevant_mse: 28.2548 - val_dist_dist_iou_metric: 0.6019 - lr: 3.0000e-04\n",
      "Epoch 57/400\n",
      "100/100 [==============================] - 18s 185ms/step - loss: 0.7892 - prob_loss: 0.1636 - dist_loss: 3.1281 - prob_kld: 0.0623 - dist_relevant_mae: 3.1271 - dist_relevant_mse: 27.2446 - dist_dist_iou_metric: 0.5806 - val_loss: 0.7474 - val_prob_loss: 0.1269 - val_dist_loss: 3.1026 - val_prob_kld: 0.0366 - val_dist_relevant_mae: 3.1015 - val_dist_relevant_mse: 26.2766 - val_dist_dist_iou_metric: 0.6083 - lr: 3.0000e-04\n",
      "Epoch 58/400\n",
      "100/100 [==============================] - 20s 195ms/step - loss: 0.7962 - prob_loss: 0.1724 - dist_loss: 3.1191 - prob_kld: 0.0635 - dist_relevant_mae: 3.1181 - dist_relevant_mse: 26.8415 - dist_dist_iou_metric: 0.6032 - val_loss: 0.7007 - val_prob_loss: 0.1265 - val_dist_loss: 2.8707 - val_prob_kld: 0.0357 - val_dist_relevant_mae: 2.8697 - val_dist_relevant_mse: 21.5261 - val_dist_dist_iou_metric: 0.6218 - lr: 3.0000e-04\n",
      "Epoch 59/400\n",
      "100/100 [==============================] - 20s 197ms/step - loss: 0.8014 - prob_loss: 0.1749 - dist_loss: 3.1328 - prob_kld: 0.0685 - dist_relevant_mae: 3.1317 - dist_relevant_mse: 26.0654 - dist_dist_iou_metric: 0.5869 - val_loss: 0.7134 - val_prob_loss: 0.1223 - val_dist_loss: 2.9556 - val_prob_kld: 0.0316 - val_dist_relevant_mae: 2.9546 - val_dist_relevant_mse: 24.8965 - val_dist_dist_iou_metric: 0.6109 - lr: 3.0000e-04\n",
      "Epoch 60/400\n",
      "100/100 [==============================] - 20s 200ms/step - loss: 0.7567 - prob_loss: 0.1665 - dist_loss: 2.9511 - prob_kld: 0.0598 - dist_relevant_mae: 2.9501 - dist_relevant_mse: 23.6716 - dist_dist_iou_metric: 0.6128 - val_loss: 0.7142 - val_prob_loss: 0.1163 - val_dist_loss: 2.9894 - val_prob_kld: 0.0263 - val_dist_relevant_mae: 2.9884 - val_dist_relevant_mse: 26.2917 - val_dist_dist_iou_metric: 0.5983 - lr: 3.0000e-04\n",
      "Epoch 61/400\n",
      "100/100 [==============================] - 17s 170ms/step - loss: 0.7342 - prob_loss: 0.1480 - dist_loss: 2.9312 - prob_kld: 0.0545 - dist_relevant_mae: 2.9302 - dist_relevant_mse: 23.6758 - dist_dist_iou_metric: 0.6037 - val_loss: 0.7444 - val_prob_loss: 0.1174 - val_dist_loss: 3.1350 - val_prob_kld: 0.0272 - val_dist_relevant_mae: 3.1341 - val_dist_relevant_mse: 28.2252 - val_dist_dist_iou_metric: 0.5750 - lr: 3.0000e-04\n",
      "Epoch 62/400\n",
      "100/100 [==============================] - 20s 197ms/step - loss: 0.7811 - prob_loss: 0.1743 - dist_loss: 3.0343 - prob_kld: 0.0712 - dist_relevant_mae: 3.0333 - dist_relevant_mse: 25.5191 - dist_dist_iou_metric: 0.5990 - val_loss: 0.7526 - val_prob_loss: 0.1315 - val_dist_loss: 3.1055 - val_prob_kld: 0.0404 - val_dist_relevant_mae: 3.1043 - val_dist_relevant_mse: 26.6974 - val_dist_dist_iou_metric: 0.5867 - lr: 3.0000e-04\n",
      "Epoch 63/400\n",
      "100/100 [==============================] - 17s 169ms/step - loss: 0.7690 - prob_loss: 0.1486 - dist_loss: 3.1019 - prob_kld: 0.0596 - dist_relevant_mae: 3.1008 - dist_relevant_mse: 25.2864 - dist_dist_iou_metric: 0.5963 - val_loss: 0.7086 - val_prob_loss: 0.1159 - val_dist_loss: 2.9635 - val_prob_kld: 0.0255 - val_dist_relevant_mae: 2.9623 - val_dist_relevant_mse: 24.3698 - val_dist_dist_iou_metric: 0.6064 - lr: 3.0000e-04\n",
      "Epoch 64/400\n",
      "100/100 [==============================] - 17s 173ms/step - loss: 0.7629 - prob_loss: 0.1618 - dist_loss: 3.0054 - prob_kld: 0.0656 - dist_relevant_mae: 3.0043 - dist_relevant_mse: 25.2943 - dist_dist_iou_metric: 0.6050 - val_loss: 0.6693 - val_prob_loss: 0.1148 - val_dist_loss: 2.7721 - val_prob_kld: 0.0247 - val_dist_relevant_mae: 2.7710 - val_dist_relevant_mse: 20.0077 - val_dist_dist_iou_metric: 0.6214 - lr: 3.0000e-04\n",
      "Epoch 65/400\n",
      "100/100 [==============================] - 18s 179ms/step - loss: 0.7585 - prob_loss: 0.1540 - dist_loss: 3.0224 - prob_kld: 0.0601 - dist_relevant_mae: 3.0212 - dist_relevant_mse: 25.1012 - dist_dist_iou_metric: 0.6052 - val_loss: 0.7827 - val_prob_loss: 0.1349 - val_dist_loss: 3.2394 - val_prob_kld: 0.0429 - val_dist_relevant_mae: 3.2384 - val_dist_relevant_mse: 29.6879 - val_dist_dist_iou_metric: 0.5980 - lr: 3.0000e-04\n",
      "Epoch 66/400\n",
      "100/100 [==============================] - 18s 178ms/step - loss: 0.7554 - prob_loss: 0.1642 - dist_loss: 2.9562 - prob_kld: 0.0652 - dist_relevant_mae: 2.9552 - dist_relevant_mse: 24.7043 - dist_dist_iou_metric: 0.6020 - val_loss: 0.7143 - val_prob_loss: 0.1163 - val_dist_loss: 2.9900 - val_prob_kld: 0.0261 - val_dist_relevant_mae: 2.9889 - val_dist_relevant_mse: 26.3384 - val_dist_dist_iou_metric: 0.6068 - lr: 3.0000e-04\n",
      "Epoch 67/400\n",
      "100/100 [==============================] - 17s 173ms/step - loss: 0.7067 - prob_loss: 0.1476 - dist_loss: 2.7953 - prob_kld: 0.0568 - dist_relevant_mae: 2.7942 - dist_relevant_mse: 22.5518 - dist_dist_iou_metric: 0.6044 - val_loss: 0.7563 - val_prob_loss: 0.1277 - val_dist_loss: 3.1428 - val_prob_kld: 0.0371 - val_dist_relevant_mae: 3.1417 - val_dist_relevant_mse: 26.7124 - val_dist_dist_iou_metric: 0.6107 - lr: 3.0000e-04\n",
      "Epoch 68/400\n",
      "100/100 [==============================] - 16s 164ms/step - loss: 0.7320 - prob_loss: 0.1442 - dist_loss: 2.9390 - prob_kld: 0.0544 - dist_relevant_mae: 2.9379 - dist_relevant_mse: 24.0135 - dist_dist_iou_metric: 0.6007 - val_loss: 0.7431 - val_prob_loss: 0.1209 - val_dist_loss: 3.1113 - val_prob_kld: 0.0302 - val_dist_relevant_mae: 3.1103 - val_dist_relevant_mse: 23.9515 - val_dist_dist_iou_metric: 0.6299 - lr: 3.0000e-04\n",
      "Epoch 69/400\n",
      " 39/100 [==========>...................] - ETA: 10s - loss: 0.6940 - prob_loss: 0.1410 - dist_loss: 2.7650 - prob_kld: 0.0548 - dist_relevant_mae: 2.7640 - dist_relevant_mse: 20.8742 - dist_dist_iou_metric: 0.6140"
     ]
    }
   ],
   "source": [
    "model.train(X_trn, Y_trn, validation_data=(X_val,Y_val), augmenter=augmenter)"
   ]
  },
  {
   "cell_type": "markdown",
   "metadata": {},
   "source": [
    "<h3>Threshold optimization</h3>\n",
    "\n",
    "While the default values for the probability and non-maximum suppression thresholds already yield good results in many cases, we still recommend to adapt the thresholds to your data. The optimized threshold values are saved to disk and will be automatically loaded with the model."
   ]
  },
  {
   "cell_type": "code",
   "execution_count": null,
   "metadata": {},
   "outputs": [],
   "source": [
    "model.optimize_thresholds(X_val, Y_val)"
   ]
  },
  {
   "cell_type": "markdown",
   "metadata": {},
   "source": [
    "<h3>Evaluation and Detection Performance</h3>\n",
    "\n",
    "Besides the losses and metrics during training, we can also quantitatively evaluate the actual detection/segmentation performance on the validation data by considering objects in the ground truth to be correctly matched if there are predicted objects with overlap (here [intersection over union (IoU)](https://en.wikipedia.org/wiki/Jaccard_index)) beyond a chosen IoU threshold $\\tau$.\n",
    "\n",
    "The corresponding matching statistics (average overlap, accuracy, recall, precision, etc.) are typically of greater practical relevance than the losses/metrics computed during training (but harder to formulate as a loss function). \n",
    "The value of $\\tau$ can be between 0 (even slightly overlapping objects count as correctly predicted) and 1 (only pixel-perfectly overlapping objects count) and which $\\tau$ to use depends on the needed segmentation precision/application.\n",
    "\n",
    "Please see `help(matching)` for definitions of the abbreviations used in the evaluation below and see the Wikipedia page on [Sensitivity and specificity](https://en.wikipedia.org/wiki/Sensitivity_and_specificity) for further details."
   ]
  },
  {
   "cell_type": "code",
   "execution_count": null,
   "metadata": {},
   "outputs": [],
   "source": [
    "Y_val_pred = [model.predict_instances(x, n_tiles=model._guess_n_tiles(x), show_tile_progress=False)[0]\n",
    "              for x in tqdm(X_val)]"
   ]
  },
  {
   "cell_type": "code",
   "execution_count": null,
   "metadata": {},
   "outputs": [],
   "source": [
    "# Plot a Ground Truth (GT) / Prediction example\n",
    "plot_img_label(X_val[0],Y_val[0], lbl_title=\"label GT (XY slice)\")\n",
    "plot_img_label(X_val[0],Y_val_pred[0], lbl_title=\"label Pred (XY slice)\")"
   ]
  },
  {
   "cell_type": "code",
   "execution_count": null,
   "metadata": {},
   "outputs": [],
   "source": [
    "# Choose several IoU thresholds $\\tau$ that might be of interest and for each compute matching statistics for the validation data.\n",
    "taus = [0.1, 0.2, 0.3, 0.4, 0.5, 0.6, 0.7, 0.8, 0.9]\n",
    "stats = [matching_dataset(Y_val, Y_val_pred, thresh=t, show_progress=False) for t in tqdm(taus)]"
   ]
  },
  {
   "cell_type": "code",
   "execution_count": null,
   "metadata": {},
   "outputs": [],
   "source": [
    "# Example: Print all available matching statistics for tau=0.7\n",
    "stats[taus.index(0.7)]"
   ]
  },
  {
   "cell_type": "code",
   "execution_count": null,
   "metadata": {},
   "outputs": [],
   "source": [
    "# Plot the matching statistics and the number of true/false positives/negatives as a function of the IoU threshold\n",
    "fig, (ax1,ax2) = plt.subplots(1,2, figsize=(15,5))\n",
    "\n",
    "for m in ('precision', 'recall', 'accuracy', 'f1', 'mean_true_score', 'mean_matched_score', 'panoptic_quality'):\n",
    "    ax1.plot(taus, [s._asdict()[m] for s in stats], '.-', lw=2, label=m)\n",
    "ax1.set_xlabel(r'IoU threshold $\\tau$')\n",
    "ax1.set_ylabel('Metric value')\n",
    "ax1.grid()\n",
    "ax1.legend()\n",
    "\n",
    "for m in ('fp', 'tp', 'fn'):\n",
    "    ax2.plot(taus, [s._asdict()[m] for s in stats], '.-', lw=2, label=m)\n",
    "ax2.set_xlabel(r'IoU threshold $\\tau$')\n",
    "ax2.set_ylabel('Number #')\n",
    "ax2.grid()\n",
    "ax2.legend();"
   ]
  }
 ],
 "metadata": {
  "kernelspec": {
   "display_name": "brain_nuc_stardist",
   "language": "python",
   "name": "python3"
  },
  "language_info": {
   "codemirror_mode": {
    "name": "ipython",
    "version": 3
   },
   "file_extension": ".py",
   "mimetype": "text/x-python",
   "name": "python",
   "nbconvert_exporter": "python",
   "pygments_lexer": "ipython3",
   "version": "3.9.21"
  }
 },
 "nbformat": 4,
 "nbformat_minor": 2
}
