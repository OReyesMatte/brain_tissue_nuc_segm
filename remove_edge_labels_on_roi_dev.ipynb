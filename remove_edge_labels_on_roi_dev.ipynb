{
 "cells": [
  {
   "cell_type": "code",
   "execution_count": 26,
   "metadata": {},
   "outputs": [],
   "source": [
    "from tifffile import imread, imwrite\n",
    "import napari\n",
    "from skimage import measure"
   ]
  },
  {
   "cell_type": "code",
   "execution_count": 4,
   "metadata": {},
   "outputs": [],
   "source": [
    "labels = imread('./training_data/thick_brain_Nikon_dagnysd_0.5/y(512x512)/X_15.tif')"
   ]
  },
  {
   "cell_type": "code",
   "execution_count": 5,
   "metadata": {},
   "outputs": [
    {
     "name": "stdout",
     "output_type": "stream",
     "text": [
      "Assistant skips harvesting pyclesperanto as it's not installed.\n"
     ]
    },
    {
     "data": {
      "text/plain": [
       "<Labels layer 'labels' at 0x23b1fa1cf70>"
      ]
     },
     "execution_count": 5,
     "metadata": {},
     "output_type": "execute_result"
    }
   ],
   "source": [
    "viewer = napari.Viewer(ndisplay=2)\n",
    "viewer.add_labels(labels)"
   ]
  },
  {
   "cell_type": "code",
   "execution_count": 6,
   "metadata": {},
   "outputs": [
    {
     "data": {
      "text/plain": [
       "(15, 512, 512)"
      ]
     },
     "execution_count": 6,
     "metadata": {},
     "output_type": "execute_result"
    }
   ],
   "source": [
    "labels.shape"
   ]
  },
  {
   "cell_type": "code",
   "execution_count": 11,
   "metadata": {},
   "outputs": [],
   "source": [
    "import numpy as np"
   ]
  },
  {
   "cell_type": "code",
   "execution_count": 12,
   "metadata": {},
   "outputs": [],
   "source": [
    "roi = viewer.layers[1].data\n",
    "# Perform maximum intensity projection (MIP) from the label stack\n",
    "label_mip = np.max(roi, axis=0)\n",
    "\n",
    "# We will create a mask where label_mip is greater than or equal to 1\n",
    "mask = (label_mip >= 1).astype(np.uint8)"
   ]
  },
  {
   "cell_type": "code",
   "execution_count": 13,
   "metadata": {},
   "outputs": [],
   "source": [
    "labels_2D = labels[0,:,:]"
   ]
  },
  {
   "cell_type": "code",
   "execution_count": 14,
   "metadata": {},
   "outputs": [
    {
     "data": {
      "text/plain": [
       "(512, 512)"
      ]
     },
     "execution_count": 14,
     "metadata": {},
     "output_type": "execute_result"
    }
   ],
   "source": [
    "labels_2D.shape"
   ]
  },
  {
   "cell_type": "code",
   "execution_count": 15,
   "metadata": {},
   "outputs": [
    {
     "data": {
      "text/plain": [
       "<Labels layer 'labels_2D' at 0x23b1899f2b0>"
      ]
     },
     "execution_count": 15,
     "metadata": {},
     "output_type": "execute_result"
    }
   ],
   "source": [
    "viewer.add_labels(labels_2D)"
   ]
  },
  {
   "cell_type": "code",
   "execution_count": 16,
   "metadata": {},
   "outputs": [
    {
     "data": {
      "text/plain": [
       "<Image layer 'mask' at 0x23b2e910b80>"
      ]
     },
     "execution_count": 16,
     "metadata": {},
     "output_type": "execute_result"
    }
   ],
   "source": [
    "viewer.add_image(mask)"
   ]
  },
  {
   "cell_type": "code",
   "execution_count": 20,
   "metadata": {},
   "outputs": [],
   "source": [
    "# Save mask (binary image)\n",
    "imwrite(\"./test_mask.tiff\", mask)"
   ]
  },
  {
   "cell_type": "code",
   "execution_count": 21,
   "metadata": {},
   "outputs": [],
   "source": [
    "# Load roi from tiff\n",
    "roi = imread(\"./test_mask.tiff\")"
   ]
  },
  {
   "cell_type": "code",
   "execution_count": 22,
   "metadata": {},
   "outputs": [
    {
     "data": {
      "text/plain": [
       "<Labels layer 'roi' at 0x23b30185e80>"
      ]
     },
     "execution_count": 22,
     "metadata": {},
     "output_type": "execute_result"
    }
   ],
   "source": [
    "viewer.add_labels(roi)"
   ]
  },
  {
   "cell_type": "code",
   "execution_count": 31,
   "metadata": {},
   "outputs": [],
   "source": [
    "def extract_contour(roi: np.ndarray) -> np.ndarray:\n",
    "    \"\"\"\n",
    "    Extracts the contour of a binary ROI image and returns a binary mask \n",
    "    where the contour pixels are set to 1.\n",
    "\n",
    "    Parameters:\n",
    "    -----------\n",
    "    roi : np.ndarray\n",
    "        A 2D NumPy array of dtype int8 representing the binary region of interest (ROI),\n",
    "        where nonzero values indicate the foreground.\n",
    "\n",
    "    Returns:\n",
    "    --------\n",
    "    np.ndarray\n",
    "        A binary mask of the same shape as `roi`, where contour pixels are set to 1,\n",
    "        and all other pixels are 0.\n",
    "\n",
    "    Notes:\n",
    "    ------\n",
    "    - Uses `skimage.measure.find_contours` to detect continuous contour points.\n",
    "    - Vectorized operations are used for efficiency.\n",
    "    - The function assumes that `roi` is a binary image (values of 0 or 1).\n",
    "\n",
    "    Example:\n",
    "    --------\n",
    "    >>> import numpy as np\n",
    "    >>> from skimage.draw import disk\n",
    "    >>> roi = np.zeros((100, 100), dtype=np.int8)\n",
    "    >>> rr, cc = disk((50, 50), 20)\n",
    "    >>> roi[rr, cc] = 1\n",
    "    >>> contour_mask = extract_contour(roi)\n",
    "    >>> print(contour_mask.sum())  # Nonzero values represent contour pixels\n",
    "    \"\"\"\n",
    "    # Find contours, output is a list of (N, 2) arrays representing continuous (x, y) coordinates of contour points\n",
    "    contours = measure.find_contours(roi, level=0.5)\n",
    "\n",
    "    # Concatenate all contour points\n",
    "    all_contours = np.vstack(contours)  # Shape: (N, 2)\n",
    "\n",
    "    # Round to integer pixel indices\n",
    "    all_contours = np.round(all_contours).astype(int)\n",
    "\n",
    "    # Clip to ensure indices are within image bounds\n",
    "    all_contours[:, 0] = np.clip(all_contours[:, 0], 0, roi.shape[0] - 1)\n",
    "    all_contours[:, 1] = np.clip(all_contours[:, 1], 0, roi.shape[1] - 1)\n",
    "\n",
    "    # Create an empty binary mask\n",
    "    contour_mask = np.zeros_like(roi, dtype=np.uint8)\n",
    "\n",
    "    # Set pixels at contour locations to 1 using NumPy advanced indexing\n",
    "    contour_mask[all_contours[:, 0], all_contours[:, 1]] = 1\n",
    "    \n",
    "    return contour_mask\n"
   ]
  },
  {
   "cell_type": "code",
   "execution_count": 32,
   "metadata": {},
   "outputs": [],
   "source": [
    "contour_mask = extract_contour(roi)"
   ]
  },
  {
   "cell_type": "code",
   "execution_count": 33,
   "metadata": {},
   "outputs": [
    {
     "data": {
      "text/plain": [
       "<Labels layer 'contour_mask' at 0x23b2cffd9d0>"
      ]
     },
     "execution_count": 33,
     "metadata": {},
     "output_type": "execute_result"
    }
   ],
   "source": [
    "viewer.add_labels(contour_mask)"
   ]
  }
 ],
 "metadata": {
  "kernelspec": {
   "display_name": "brain_nuc_stardist",
   "language": "python",
   "name": "python3"
  },
  "language_info": {
   "codemirror_mode": {
    "name": "ipython",
    "version": 3
   },
   "file_extension": ".py",
   "mimetype": "text/x-python",
   "name": "python",
   "nbconvert_exporter": "python",
   "pygments_lexer": "ipython3",
   "version": "3.9.20"
  }
 },
 "nbformat": 4,
 "nbformat_minor": 2
}
