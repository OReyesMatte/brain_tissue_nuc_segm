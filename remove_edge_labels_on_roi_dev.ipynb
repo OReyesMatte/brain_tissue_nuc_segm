{
 "cells": [
  {
   "cell_type": "code",
   "execution_count": 132,
   "metadata": {},
   "outputs": [],
   "source": [
    "from tifffile import imread, imwrite\n",
    "import napari\n",
    "from skimage import measure\n",
    "import numpy as np"
   ]
  },
  {
   "cell_type": "code",
   "execution_count": 133,
   "metadata": {},
   "outputs": [],
   "source": [
    "labels = imread('./training_data/thick_brain_Nikon_dagnysd_0.5/y(512x512)/X_15.tif')"
   ]
  },
  {
   "cell_type": "code",
   "execution_count": 134,
   "metadata": {},
   "outputs": [
    {
     "name": "stderr",
     "output_type": "stream",
     "text": [
      "WARNING: QWindowsWindow::setGeometry: Unable to set geometry 1920x1322+2106+719 (frame: 1942x1378+2095+674) on QWidgetWindow/\"_QtMainWindowClassWindow\" on \"\\\\.\\DISPLAY1\". Resulting geometry: 2882x1986+2109+733 (frame: 2904x2042+2098+688) margins: 11, 45, 11, 11 minimum size: 385x489 MINMAXINFO maxSize=0,0 maxpos=0,0 mintrack=792,1034 maxtrack=0,0)\n"
     ]
    },
    {
     "data": {
      "text/plain": [
       "<Labels layer 'labels' at 0x23c1ec54820>"
      ]
     },
     "execution_count": 134,
     "metadata": {},
     "output_type": "execute_result"
    }
   ],
   "source": [
    "viewer = napari.Viewer(ndisplay=2)\n",
    "viewer.add_labels(labels)"
   ]
  },
  {
   "cell_type": "code",
   "execution_count": 135,
   "metadata": {},
   "outputs": [],
   "source": [
    "labels_2D = labels[0,:,:]"
   ]
  },
  {
   "cell_type": "code",
   "execution_count": 136,
   "metadata": {},
   "outputs": [
    {
     "data": {
      "text/plain": [
       "<Labels layer 'labels_2D' at 0x23c1ec54f10>"
      ]
     },
     "execution_count": 136,
     "metadata": {},
     "output_type": "execute_result"
    }
   ],
   "source": [
    "viewer.add_labels(labels_2D)"
   ]
  },
  {
   "cell_type": "code",
   "execution_count": 137,
   "metadata": {},
   "outputs": [],
   "source": [
    "# Load roi from tiff\n",
    "roi = imread(\"./test_mask.tiff\")"
   ]
  },
  {
   "cell_type": "code",
   "execution_count": 138,
   "metadata": {},
   "outputs": [],
   "source": [
    "# Simulate a full_image roi\n",
    "# Create an array of ones with the same shape as roi\n",
    "ones_array = np.ones_like(roi, dtype=np.int8)\n",
    "roi = ones_array"
   ]
  },
  {
   "cell_type": "code",
   "execution_count": 139,
   "metadata": {},
   "outputs": [
    {
     "data": {
      "text/plain": [
       "<Labels layer 'roi' at 0x23c1f45c400>"
      ]
     },
     "execution_count": 139,
     "metadata": {},
     "output_type": "execute_result"
    }
   ],
   "source": [
    "viewer.add_labels(roi)"
   ]
  },
  {
   "cell_type": "code",
   "execution_count": 140,
   "metadata": {},
   "outputs": [],
   "source": [
    "def extract_contour(roi: np.ndarray) -> np.ndarray:\n",
    "    \"\"\"\n",
    "    Extracts the contour of a binary ROI image and returns a binary mask \n",
    "    where the contour pixels are set to 1.\n",
    "\n",
    "    Parameters:\n",
    "    -----------\n",
    "    roi : np.ndarray\n",
    "        A 2D NumPy array of dtype int8 representing the binary region of interest (ROI),\n",
    "        where nonzero values indicate the foreground.\n",
    "\n",
    "    Returns:\n",
    "    --------\n",
    "    np.ndarray\n",
    "        A binary mask of the same shape as `roi`, where contour pixels are set to 1,\n",
    "        and all other pixels are 0.\n",
    "\n",
    "    Notes:\n",
    "    ------\n",
    "    - Uses `skimage.measure.find_contours` to detect continuous contour points.\n",
    "    - Vectorized operations are used for efficiency.\n",
    "    - The function assumes that `roi` is a binary image (values of 0 or 1).\n",
    "\n",
    "    Example:\n",
    "    --------\n",
    "    >>> import numpy as np\n",
    "    >>> from skimage.draw import disk\n",
    "    >>> roi = np.zeros((100, 100), dtype=np.int8)\n",
    "    >>> rr, cc = disk((50, 50), 20)\n",
    "    >>> roi[rr, cc] = 1\n",
    "    >>> contour_mask = extract_contour(roi)\n",
    "    >>> print(contour_mask.sum())  # Nonzero values represent contour pixels\n",
    "    \"\"\"\n",
    "    # Find contours, output is a list of (N, 2) arrays representing continuous (x, y) coordinates of contour points\n",
    "    contours = measure.find_contours(roi, level=0.5)\n",
    "\n",
    "    # Concatenate all contour points\n",
    "    all_contours = np.vstack(contours)  # Shape: (N, 2)\n",
    "\n",
    "    # Round to integer pixel indices\n",
    "    all_contours = np.round(all_contours).astype(int)\n",
    "\n",
    "    # Clip to ensure indices are within image bounds\n",
    "    all_contours[:, 0] = np.clip(all_contours[:, 0], 0, roi.shape[0] - 1)\n",
    "    all_contours[:, 1] = np.clip(all_contours[:, 1], 0, roi.shape[1] - 1)\n",
    "\n",
    "    # Create an empty binary mask\n",
    "    contour_mask = np.zeros_like(roi, dtype=np.uint8)\n",
    "\n",
    "    # Set pixels at contour locations to 1 using NumPy advanced indexing\n",
    "    contour_mask[all_contours[:, 0], all_contours[:, 1]] = 1\n",
    "    \n",
    "    return contour_mask\n",
    "\n",
    "def remove_labels_touching_roi_edge(labels, roi):\n",
    "\n",
    "    # Check if roi covers the entire image (all values stored in roi == 1):\n",
    "    if np.all(roi == 1):\n",
    "        #  Generate a contour that covers the border of the image\n",
    "        contour_mask = np.zeros(roi.shape, dtype=np.int8)\n",
    "\n",
    "        # Set the outer border to 1 \n",
    "        contour_mask[0, :] = 1  # Top edge\n",
    "        contour_mask[-1, :] = 1  # Bottom edge\n",
    "        contour_mask[:, 0] = 1  # Left edge\n",
    "        contour_mask[:, -1] = 1  # Right edge\n",
    "\n",
    "    # Otherwise extract the contour of a user-defined roi:\n",
    "    else:\n",
    "        contour_mask = extract_contour(roi)\n",
    "\n",
    "    # 3D segmentation logic, extend 2D mask across the entire stack volume\n",
    "    if len(labels.shape) == 3:\n",
    "        # Extract the number of z-slices to extend the mask into a 3D-volume\n",
    "        slice_nr = labels.shape[0]\n",
    "\n",
    "        # Extend the mask across the entire volume\n",
    "        contour_mask = np.tile(contour_mask, (slice_nr, 1, 1))\n",
    "\n",
    "    # Convert contour_mask to boolean mask\n",
    "    contour_mask_bool = contour_mask.astype(bool)\n",
    "\n",
    "    # Use NumPy's advanced indexing to identify labels that intersect with the roi contour\n",
    "    intersecting_labels = np.unique(labels[contour_mask_bool])\n",
    "    intersecting_labels = intersecting_labels[intersecting_labels != 0]  # Remove background label\n",
    "\n",
    "    # Create a mask where labels are in intersecting_labels\n",
    "    mask = np.isin(labels, intersecting_labels)\n",
    "\n",
    "    # Set labels intersecting with the contour to 0\n",
    "    filtered_labels = np.where(mask, 0, labels)\n",
    "\n",
    "    # Relabel filtered labels so labels are identified by continous and not sparse integers\n",
    "    filtered_labels = measure.label(filtered_labels)\n",
    "\n",
    "    return filtered_labels\n"
   ]
  },
  {
   "cell_type": "code",
   "execution_count": 141,
   "metadata": {},
   "outputs": [
    {
     "data": {
      "text/plain": [
       "<Labels layer 'filtered_labels' at 0x23c239569a0>"
      ]
     },
     "execution_count": 141,
     "metadata": {},
     "output_type": "execute_result"
    }
   ],
   "source": [
    "filtered_labels = remove_labels_touching_roi_edge(labels, roi)\n",
    "viewer.add_labels(filtered_labels)"
   ]
  },
  {
   "cell_type": "code",
   "execution_count": 142,
   "metadata": {},
   "outputs": [
    {
     "data": {
      "text/plain": [
       "<Labels layer 'filtered_labels [1]' at 0x23c239bc760>"
      ]
     },
     "execution_count": 142,
     "metadata": {},
     "output_type": "execute_result"
    }
   ],
   "source": [
    "filtered_labels = remove_labels_touching_roi_edge(labels_2D, roi)\n",
    "viewer.add_labels(filtered_labels)"
   ]
  }
 ],
 "metadata": {
  "kernelspec": {
   "display_name": "brain_nuc_stardist",
   "language": "python",
   "name": "python3"
  },
  "language_info": {
   "codemirror_mode": {
    "name": "ipython",
    "version": 3
   },
   "file_extension": ".py",
   "mimetype": "text/x-python",
   "name": "python",
   "nbconvert_exporter": "python",
   "pygments_lexer": "ipython3",
   "version": "3.9.20"
  }
 },
 "nbformat": 4,
 "nbformat_minor": 2
}
