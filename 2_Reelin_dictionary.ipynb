{
 "cells": [
  {
   "cell_type": "code",
   "execution_count": null,
   "metadata": {},
   "outputs": [],
   "source": [
    "from pathlib import Path\n",
    "from tqdm import tqdm\n",
    "\n",
    "# Assuming 'images' and 'rois' are your lists\n",
    "images = [\n",
    "    # Add your image paths here\n",
    "]\n",
    "rois = [\n",
    "    # Add your ROI paths here\n",
    "]\n",
    "\n",
    "# Create a dictionary for ROI paths\n",
    "roi_dict = {Path(roi).stem: roi for roi in rois}\n",
    "\n",
    "# Loop through image paths and find the corresponding ROI path using the dictionary\n",
    "for image_path in tqdm(images):\n",
    "    file_path = Path(image_path)\n",
    "    filename = file_path.stem\n",
    "    roi_path = roi_dict.get(filename)  # Find the matching ROI path\n",
    "    \n",
    "    if roi_path:\n",
    "        print(f\"Image: {file_path}\")\n",
    "        print(f\"ROI: {roi_path}\")\n",
    "    else:\n",
    "        print(f\"No matching ROI for image: {file_path}\")\n"
   ]
  }
 ],
 "metadata": {
  "language_info": {
   "name": "python"
  }
 },
 "nbformat": 4,
 "nbformat_minor": 2
}
