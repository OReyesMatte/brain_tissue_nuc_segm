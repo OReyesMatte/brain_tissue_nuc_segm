{
 "cells": [
  {
   "cell_type": "markdown",
   "metadata": {},
   "source": [
    "<h2>Manually inspect images, crop ROI and extract nuclei numbers positive for a cell marker (3D stack to 2D MIP)</h2>"
   ]
  },
  {
   "cell_type": "code",
   "execution_count": 1,
   "metadata": {},
   "outputs": [],
   "source": [
    "from pathlib import Path\n",
    "import czifile\n",
    "import napari\n",
    "import os\n",
    "import numpy as np\n",
    "import pandas as pd\n",
    "from utils import segment_nuclei_2d, segment_marker_positive_nuclei"
   ]
  },
  {
   "cell_type": "markdown",
   "metadata": {},
   "source": [
    "<h3>Define the directory where your images are stored</h3>"
   ]
  },
  {
   "cell_type": "code",
   "execution_count": 2,
   "metadata": {},
   "outputs": [
    {
     "data": {
      "text/plain": [
       "['raw_data\\\\NeuN_Calbinding_KI67\\\\HI 1  Contralateral Mouse 8  slide 6 Neun Red Calb Green KI67 Magenta 40x technical replica 1.czi',\n",
       " 'raw_data\\\\NeuN_Calbinding_KI67\\\\HI 1  Ipsilateral Mouse 8  slide 6 Neun Red Calb Green KI67 Magenta 40x technical replica 1.czi']"
      ]
     },
     "execution_count": 2,
     "metadata": {},
     "output_type": "execute_result"
    }
   ],
   "source": [
    "# Copy the path where your images are stored, ideally inside the raw_data directory\n",
    "directory_path = Path(\"./raw_data/NeuN_Calbinding_KI67\")\n",
    "\n",
    "# Create an empty list to store all image filepaths within the dataset directory\n",
    "images = []\n",
    "\n",
    "# Create an empty list to store all stats extracted from each image\n",
    "stats = []\n",
    "\n",
    "# Iterate through the .czi files in the directory\n",
    "for file_path in directory_path.glob(\"*.czi\"):\n",
    "    images.append(str(file_path))\n",
    "    \n",
    "images"
   ]
  },
  {
   "cell_type": "markdown",
   "metadata": {},
   "source": [
    "<h3>Open each image in the directory</h3>\n",
    "You can do so by changing the number within the brackets below <code>image = images[0]</code>"
   ]
  },
  {
   "cell_type": "code",
   "execution_count": 9,
   "metadata": {},
   "outputs": [
    {
     "name": "stdout",
     "output_type": "stream",
     "text": [
      "Image displayed: HI 1  Contralateral Mouse 8  slide 6 Neun Red Calb Green KI67 Magenta 40x technical replica 1\n",
      "Array shape: (4, 14, 3803, 2891)\n"
     ]
    }
   ],
   "source": [
    "# Explore a different image to crop (0 defines the first image in the directory)\n",
    "image = images[0]\n",
    "\n",
    "# Read path storing raw image and extract filename\n",
    "file_path = Path(image)\n",
    "filename = file_path.stem\n",
    "\n",
    "# Read the image file\n",
    "img = czifile.imread(image)\n",
    "\n",
    "# Remove singleton dimensions\n",
    "img = img.squeeze()\n",
    "\n",
    "# Show image in Napari to define ROI\n",
    "viewer = napari.Viewer(ndisplay=2)\n",
    "viewer.add_image(img)\n",
    "\n",
    "# Feedback for researcher\n",
    "print(f\"Image displayed: {filename}\")\n",
    "print(f\"Array shape: {img.shape}\")"
   ]
  },
  {
   "cell_type": "markdown",
   "metadata": {},
   "source": [
    "<h3>Crop your regions of interest</h3>\n",
    "\n",
    "If you are using complex polygons instead of a rectangle to define your ROI, give Napari some time to perform the cropping. Then come back and continue running the analysis pipeline"
   ]
  },
  {
   "cell_type": "markdown",
   "metadata": {},
   "source": [
    "<video controls>\n",
    "  <source src=\"./assets/napari_crop.mp4\" type=\"video/mp4\">\n",
    "  Your browser does not support the video tag.\n",
    "</video>"
   ]
  },
  {
   "cell_type": "code",
   "execution_count": 10,
   "metadata": {},
   "outputs": [
    {
     "name": "stdout",
     "output_type": "stream",
     "text": [
      "No ROI selected. Whole image will be analyzed.\n"
     ]
    }
   ],
   "source": [
    "# Code snippet to analyze cropped regions (ROIs) instead of the full image\n",
    "\n",
    "try:\n",
    "    # Access the specific layer by name\n",
    "    cropped_layer = viewer.layers['img cropped [0]']\n",
    "\n",
    "    # Get the image data as a NumPy array\n",
    "    img = cropped_layer.data\n",
    "    print(\"ROI selected.\")\n",
    "    \n",
    "except:\n",
    "    print(\"No ROI selected. Whole image will be analyzed.\")\n"
   ]
  },
  {
   "cell_type": "markdown",
   "metadata": {},
   "source": [
    "<h3>Define your nuclei/marker stacks and your marker/erosion thresholds</h3>\n",
    "\n",
    "Modify the values for <code>nuclei_channel</code>, <code>marker_channel</code>, <code>nuclei_channel_threshold</code> and <code>erosion_factor</code>"
   ]
  },
  {
   "cell_type": "code",
   "execution_count": 11,
   "metadata": {},
   "outputs": [],
   "source": [
    "# Define the nuclei and markers of interest channel order ('Remember in Python one starts counting from zero')\n",
    "nuclei_channel = 3\n",
    "marker_channel = 1\n",
    "\n",
    "# Define the intensity threshold above which a cell is considered positive for a marker\n",
    "marker_channel_threshold = 40\n",
    "\n",
    "# Sets the amount of erosion that is applied to areas where the marker+ signal colocalizes with nuclear signal\n",
    "# The higher the value, the stricter the conditions to consider a nuclei as marker+\n",
    "erosion_factor = 3\n",
    "\n",
    "# Slice the nuclei and marker stack\n",
    "nuclei_stack = img[nuclei_channel, :, :, :]\n",
    "marker_stack = img[marker_channel, :, :, :]\n",
    "\n",
    "# Segment nuclei and return labels\n",
    "nuclei_mip, nuclei_labels = segment_nuclei_2d(nuclei_stack)\n",
    "\n",
    "# Select marker positive nuclei\n",
    "marker_mip, processed_region_labels = segment_marker_positive_nuclei (nuclei_labels, marker_stack, marker_channel_threshold, erosion_factor)"
   ]
  },
  {
   "cell_type": "markdown",
   "metadata": {},
   "source": [
    "<h3>Visualize the results in Napari</h3>"
   ]
  },
  {
   "cell_type": "code",
   "execution_count": 12,
   "metadata": {},
   "outputs": [
    {
     "data": {
      "text/plain": [
       "<Labels layer 'marker+_nuclei' at 0x23ab0b19790>"
      ]
     },
     "execution_count": 12,
     "metadata": {},
     "output_type": "execute_result"
    }
   ],
   "source": [
    "viewer = napari.Viewer(ndisplay=2)\n",
    "viewer.add_image(img)\n",
    "viewer.add_image(nuclei_stack)\n",
    "viewer.add_image(nuclei_mip)\n",
    "viewer.add_labels(nuclei_labels)\n",
    "viewer.add_image(marker_mip)\n",
    "viewer.add_labels(processed_region_labels, name=f\"marker+_nuclei\")"
   ]
  },
  {
   "cell_type": "markdown",
   "metadata": {},
   "source": [
    "<h3>Data extraction</h3>\n"
   ]
  },
  {
   "cell_type": "code",
   "execution_count": 14,
   "metadata": {},
   "outputs": [
    {
     "name": "stdout",
     "output_type": "stream",
     "text": [
      "Output folder already exists: ./results/\n"
     ]
    },
    {
     "data": {
      "text/html": [
       "<div>\n",
       "<style scoped>\n",
       "    .dataframe tbody tr th:only-of-type {\n",
       "        vertical-align: middle;\n",
       "    }\n",
       "\n",
       "    .dataframe tbody tr th {\n",
       "        vertical-align: top;\n",
       "    }\n",
       "\n",
       "    .dataframe thead th {\n",
       "        text-align: right;\n",
       "    }\n",
       "</style>\n",
       "<table border=\"1\" class=\"dataframe\">\n",
       "  <thead>\n",
       "    <tr style=\"text-align: right;\">\n",
       "      <th></th>\n",
       "      <th>filename</th>\n",
       "      <th>total_nuclei</th>\n",
       "      <th>marker+_nuclei</th>\n",
       "      <th>%_marker+_cells</th>\n",
       "    </tr>\n",
       "  </thead>\n",
       "  <tbody>\n",
       "    <tr>\n",
       "      <th>0</th>\n",
       "      <td>HI 1  Ipsilateral Mouse 8  slide 6 Neun Red Ca...</td>\n",
       "      <td>2154</td>\n",
       "      <td>5172</td>\n",
       "      <td>41.647332</td>\n",
       "    </tr>\n",
       "    <tr>\n",
       "      <th>1</th>\n",
       "      <td>HI 1  Contralateral Mouse 8  slide 6 Neun Red ...</td>\n",
       "      <td>2920</td>\n",
       "      <td>5054</td>\n",
       "      <td>57.776019</td>\n",
       "    </tr>\n",
       "    <tr>\n",
       "      <th>2</th>\n",
       "      <td>HI 1  Contralateral Mouse 8  slide 6 Neun Red ...</td>\n",
       "      <td>2920</td>\n",
       "      <td>5054</td>\n",
       "      <td>57.776019</td>\n",
       "    </tr>\n",
       "  </tbody>\n",
       "</table>\n",
       "</div>"
      ],
      "text/plain": [
       "                                            filename  total_nuclei  \\\n",
       "0  HI 1  Ipsilateral Mouse 8  slide 6 Neun Red Ca...          2154   \n",
       "1  HI 1  Contralateral Mouse 8  slide 6 Neun Red ...          2920   \n",
       "2  HI 1  Contralateral Mouse 8  slide 6 Neun Red ...          2920   \n",
       "\n",
       "   marker+_nuclei  %_marker+_cells  \n",
       "0            5172        41.647332  \n",
       "1            5054        57.776019  \n",
       "2            5054        57.776019  "
      ]
     },
     "execution_count": 14,
     "metadata": {},
     "output_type": "execute_result"
    }
   ],
   "source": [
    "# Define output folder for results\n",
    "results_folder = \"./results/\"\n",
    "\n",
    "# Create the necessary folder structure if it does not exist\n",
    "try:\n",
    "    os.mkdir(str(results_folder))\n",
    "    print(f\"Output folder created: {results_folder}\")\n",
    "except FileExistsError:\n",
    "    print(f\"Output folder already exists: {results_folder}\")\n",
    "\n",
    "# Extract your information of interest\n",
    "total_nuclei = len(np.unique(processed_region_labels)) - 1\n",
    "marker_pos_nuclei = len(np.unique(nuclei_labels)) - 1\n",
    "\n",
    "# Create a dictionary containing all extracted info per image\n",
    "stats_dict = {\n",
    "            \"filename\": filename,\n",
    "            \"total_nuclei\": total_nuclei,\n",
    "            \"marker+_nuclei\": marker_pos_nuclei,\n",
    "            \"%_marker+_cells\": (total_nuclei * 100) / marker_pos_nuclei\n",
    "            }\n",
    "\n",
    "# Append the current data point to the stats_list\n",
    "stats.append(stats_dict)\n",
    "\n",
    "# Transform into a dataframe to store it as .csv later\n",
    "df = pd.DataFrame(stats)\n",
    "\n",
    "# Overwrite the .csv with new data points each round\n",
    "df.to_csv(\"./results/marker_+_manual_2D.csv\", index=True)\n",
    "\n",
    "df"
   ]
  }
 ],
 "metadata": {
  "kernelspec": {
   "display_name": "microglia_GPU",
   "language": "python",
   "name": "python3"
  },
  "language_info": {
   "codemirror_mode": {
    "name": "ipython",
    "version": 3
   },
   "file_extension": ".py",
   "mimetype": "text/x-python",
   "name": "python",
   "nbconvert_exporter": "python",
   "pygments_lexer": "ipython3",
   "version": "3.9.19"
  }
 },
 "nbformat": 4,
 "nbformat_minor": 2
}
