{
 "cells": [
  {
   "cell_type": "code",
   "execution_count": null,
   "metadata": {},
   "outputs": [],
   "source": [
    "from pathlib import Path\n",
    "import tifffile\n",
    "import napari\n",
    "import os\n",
    "import numpy as np\n",
    "import pandas as pd\n",
    "from skimage.measure import regionprops_table\n",
    "from utils import list_images, read_image"
   ]
  },
  {
   "cell_type": "code",
   "execution_count": 33,
   "metadata": {},
   "outputs": [
    {
     "data": {
      "text/plain": [
       "['raw_data\\\\test_data\\\\HI 1  Contralateral Mouse 8  slide 6 Neun Red Calb Green KI67 Magenta 40x technical replica 1.czi',\n",
       " 'raw_data\\\\test_data\\\\HI 1  Ipsilateral Mouse 8  slide 6 Neun Red Calb Green KI67 Magenta 40x technical replica 1.czi']"
      ]
     },
     "execution_count": 33,
     "metadata": {},
     "output_type": "execute_result"
    }
   ],
   "source": [
    "# Copy the path where your images are stored, ideally inside the raw_data directory\n",
    "directory_path = Path(\"./raw_data/test_data\")\n",
    "\n",
    "# Construct ROI and nuclei predictions paths from directory_path above\n",
    "roi_path = directory_path / \"ROIs\"\n",
    "nuclei_preds_path =  directory_path / \"nuclei_preds\"\n",
    "\n",
    "# Iterate through the .czi and .nd2 files in the raw_data directory\n",
    "images = list_images(directory_path)\n",
    "\n",
    "images"
   ]
  },
  {
   "cell_type": "code",
   "execution_count": 34,
   "metadata": {},
   "outputs": [
    {
     "name": "stdout",
     "output_type": "stream",
     "text": [
      "Image displayed: HI 1  Contralateral Mouse 8  slide 6 Neun Red Calb Green KI67 Magenta 40x technical replica 1\n",
      "Original Array shape: (4, 14, 3803, 2891)\n",
      "MIP Array shape: (4, 3803, 2891)\n"
     ]
    },
    {
     "data": {
      "text/plain": [
       "<Image layer 'img_mip' at 0x29b043e4880>"
      ]
     },
     "execution_count": 34,
     "metadata": {},
     "output_type": "execute_result"
    }
   ],
   "source": [
    "# Explore each image to analyze (0 defines the first image in the directory)\n",
    "image = images[0]\n",
    "\n",
    "# Remember to input the same slicing factor you used when generating the nuclei predictions\n",
    "slicing_factor = None # Use 2 or 4 for compression (None for lossless)\n",
    "\n",
    "# Generate maximum intensity projection and extract filename\n",
    "img_mip, filename = read_image(image, slicing_factor)\n",
    "\n",
    "# Extract filename with extension\n",
    "file_and_ext = Path(image).stem\n",
    "\n",
    "# Show image in Napari\n",
    "viewer = napari.Viewer(ndisplay=2)\n",
    "viewer.add_image(img_mip)"
   ]
  },
  {
   "cell_type": "code",
   "execution_count": 35,
   "metadata": {},
   "outputs": [
    {
     "name": "stdout",
     "output_type": "stream",
     "text": [
      "The following regions of interest will be analyzed: ['CA', 'DG', 'full_image']\n"
     ]
    }
   ],
   "source": [
    "# List of subfolder names\n",
    "roi_names = [folder.name for folder in nuclei_preds_path.iterdir() if folder.is_dir()]\n",
    "print(f\"The following regions of interest will be analyzed: {roi_names}\")"
   ]
  },
  {
   "cell_type": "code",
   "execution_count": 37,
   "metadata": {},
   "outputs": [],
   "source": [
    "# Define the channels you want to analyze using the following structure:\n",
    "# markers = [(channel_name, channel_nr, cellular_location),(..., ..., ...)]\n",
    "# Remember in Python one starts counting from 0, so your first channel will be 0\n",
    "\n",
    "markers = [(\"ki_67\", 0, \"nucleus\"), (\"neun\", 1, \"nucleus\"), (\"calbindin\", 2, \"cytoplasm\")]"
   ]
  },
  {
   "cell_type": "code",
   "execution_count": null,
   "metadata": {},
   "outputs": [
    {
     "name": "stdout",
     "output_type": "stream",
     "text": [
      "ki_67 0 nucleus\n",
      "neun 1 nucleus\n",
      "calbindin 2 cytoplasm\n"
     ]
    }
   ],
   "source": [
    "for tuple in markers:\n",
    "\n",
    "    channel_name = tuple[0]\n",
    "    ch_nr = tuple[1]\n",
    "    location = tuple[2]\n",
    "\n"
   ]
  },
  {
   "cell_type": "code",
   "execution_count": 50,
   "metadata": {},
   "outputs": [],
   "source": [
    "for roi_name in roi_names:\n",
    "\n",
    "    # Initialize an empty list to hold the extracted dataframes\n",
    "    props_list = []\n",
    "\n",
    "    # Read the nuclei predictions per ROI\n",
    "    nuclei_labels = tifffile.imread(nuclei_preds_path / roi_name / f\"{file_and_ext}.tiff\")\n",
    "\n",
    "    # Read the user defined ROIs, in case of full image analysis generate a label covering the entire image\n",
    "    try:\n",
    "        user_roi = tifffile.imread(roi_path / roi_name / f\"{file_and_ext}.tiff\")\n",
    "    except FileNotFoundError:\n",
    "        # Extract the xy dimensions of the input image (from nuclei_labels)\n",
    "        img_shape = nuclei_labels.shape\n",
    "        img_xy_dims = img_shape[-2:]\n",
    "\n",
    "        # Create a label covering the entire image\n",
    "        user_roi = np.ones(img_xy_dims).astype(np.uint8)\n",
    "\n",
    "    # Add the predicted nuclei as labels into Napari\n",
    "    viewer.add_labels(nuclei_labels, name=f\"{roi_name}_nuclei\")\n",
    "\n",
    "    # Add the predicted nuclei as labels into Napari\n",
    "    viewer.add_labels(user_roi, name=f\"{roi_name}_ROI\", opacity=0.4)\n",
    "\n",
    "    # Loop through each channel and extract the average intensity within either nuclei or cytoplasmic regions\n",
    "    for tuple in markers:\n",
    "\n",
    "        channel_name = tuple[0]\n",
    "        ch_nr = tuple[1]\n",
    "        location = tuple[2]\n",
    "\n",
    "        # Extract intensity information from each marker channel\n",
    "        props = regionprops_table(label_image=nuclei_labels,\n",
    "                            intensity_image=img_mip[ch_nr],\n",
    "                            properties=[\"label\", \"intensity_mean\"])\n",
    "        \n",
    "        # Convert to dataframe\n",
    "        props_df = pd.DataFrame(props)\n",
    "\n",
    "        # Rename intensity_mean column to indicate the specific image\n",
    "        props_df.rename(columns={\"intensity_mean\": f\"{channel_name}_intensity_mean\"}, inplace=True)\n",
    "\n",
    "        # Append each props_df to props_list\n",
    "        props_list.append(props_df)\n",
    "\n",
    "        props_df\n"
   ]
  },
  {
   "cell_type": "code",
   "execution_count": 51,
   "metadata": {},
   "outputs": [
    {
     "data": {
      "text/plain": [
       "3"
      ]
     },
     "execution_count": 51,
     "metadata": {},
     "output_type": "execute_result"
    }
   ],
   "source": [
    "len(props_list)"
   ]
  }
 ],
 "metadata": {
  "kernelspec": {
   "display_name": "microglia_GPU",
   "language": "python",
   "name": "python3"
  },
  "language_info": {
   "codemirror_mode": {
    "name": "ipython",
    "version": 3
   },
   "file_extension": ".py",
   "mimetype": "text/x-python",
   "name": "python",
   "nbconvert_exporter": "python",
   "pygments_lexer": "ipython3",
   "version": "3.9.19"
  }
 },
 "nbformat": 4,
 "nbformat_minor": 2
}
