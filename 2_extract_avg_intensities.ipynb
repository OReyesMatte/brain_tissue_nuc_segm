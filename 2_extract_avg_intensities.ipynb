{
 "cells": [
  {
   "cell_type": "markdown",
   "metadata": {},
   "source": [
    "<h2>3D stack to 2D MIP - Single image - Marker+ based on average intensity</h2>\n",
    "\n",
    "The following notebook is able to process a 3D stack (.czi or .nd2 files) into a MIP and allows you to:\n",
    "\n",
    "1. Inspect your images in Napari.\n",
    "2. Read previously defined ROIs in notebook 1, if not present, full image is analyzed.\n",
    "3. Read previously predicted nuclei labels in notebook 1, if not present, generates them.\n",
    "4. Plot cytoplasmic and nuclear average intensities of all markers in all ROIs to later on set a threshold for classification.\n",
    "5. Extract numbers of cells positive for a marker based on signal average intensity within the nuclear or cytoplasmic compartments (using a user-defined threshold).\n",
    "6. Display positive cells in Napari.\n",
    "7. Extract and save per label per ROI per marker data in a .csv file.\n",
    "8. Extract and save number of positive cells in a .csv file (marker_+_label_avg_int_2D.csv)."
   ]
  },
  {
   "cell_type": "code",
   "execution_count": 43,
   "metadata": {},
   "outputs": [],
   "source": [
    "from pathlib import Path\n",
    "import tifffile\n",
    "import napari\n",
    "import os\n",
    "from tqdm import tqdm\n",
    "import numpy as np\n",
    "import pandas as pd\n",
    "from skimage.measure import regionprops_table\n",
    "import plotly.express as px\n",
    "from utils import list_images, read_image, simulate_cytoplasm, segment_nuclei_2d"
   ]
  },
  {
   "cell_type": "markdown",
   "metadata": {},
   "source": [
    "<h3>Define the directory for your images (.nd2 or .czi files) and cell marker info</h3>"
   ]
  },
  {
   "cell_type": "code",
   "execution_count": 44,
   "metadata": {},
   "outputs": [
    {
     "data": {
      "text/plain": [
       "['raw_data\\\\test_data\\\\HI 1  Contralateral Mouse 8  slide 6 Neun Red Calb Green KI67 Magenta 40x technical replica 1.czi',\n",
       " 'raw_data\\\\test_data\\\\HI 1  Ipsilateral Mouse 8  slide 6 Neun Red Calb Green KI67 Magenta 40x technical replica 1.czi']"
      ]
     },
     "execution_count": 44,
     "metadata": {},
     "output_type": "execute_result"
    }
   ],
   "source": [
    "# Copy the path where your images are stored, ideally inside the raw_data directory\n",
    "directory_path = Path(\"./raw_data/test_data\")\n",
    "\n",
    "# Define the channels you want to analyze using the following structure:\n",
    "# markers = [(channel_name, channel_nr, cellular_location),(..., ..., ...)]\n",
    "# Remember in Python one starts counting from 0, so your first channel will be 0\n",
    "markers = [(\"ki67\", 0, \"nucleus\"), (\"neun\", 1, \"nucleus\"), (\"calbindin\", 2, \"cytoplasm\")]\n",
    "\n",
    "# Construct ROI and nuclei predictions paths from directory_path above\n",
    "roi_path = directory_path / \"ROIs\"\n",
    "nuclei_preds_path =  directory_path / \"nuclei_preds\"\n",
    "\n",
    "# Iterate through the .czi and .nd2 files in the raw_data directory\n",
    "images = list_images(directory_path)\n",
    "\n",
    "images"
   ]
  },
  {
   "cell_type": "markdown",
   "metadata": {},
   "source": [
    "<h3>Open each image in the directory</h3>\n",
    "You can do so by changing the number within the brackets below <code>image = images[0]</code>. Make sure to input the same <code>slicing factor</code> you used when generating nuclei predictions. \n",
    "\n",
    "If you have not generated nuclei predictions input <code>nuclei_channel</code>, <code>cellpose_nuclei_diameter</code> and <code>gaussian_sigma</code> values."
   ]
  },
  {
   "cell_type": "code",
   "execution_count": 45,
   "metadata": {},
   "outputs": [
    {
     "name": "stdout",
     "output_type": "stream",
     "text": [
      "Image analyzed: HI 1  Contralateral Mouse 8  slide 6 Neun Red Calb Green KI67 Magenta 40x technical replica 1\n",
      "Original Array shape: (4, 14, 3803, 2891)\n",
      "MIP Array shape: (4, 3803, 2891)\n"
     ]
    },
    {
     "data": {
      "text/plain": [
       "<Image layer 'img_mip' at 0x1de55456f70>"
      ]
     },
     "execution_count": 45,
     "metadata": {},
     "output_type": "execute_result"
    }
   ],
   "source": [
    "# Explore each image to analyze (0 defines the first image in the directory)\n",
    "image = images[0]\n",
    "\n",
    "# Remember to input the same slicing factor you used when generating the nuclei predictions\n",
    "slicing_factor = None # Use 2 or 4 for compression (None for lossless)\n",
    "\n",
    "# Define the nuclei and markers of interest channel order ('Remember in Python one starts counting from zero')\n",
    "nuclei_channel = 3\n",
    "\n",
    "# Define your nuclei diameter, it speeds up nuclei detection, if unknown leave it as None\n",
    "cellpose_nuclei_diameter = None\n",
    "\n",
    "# Define the amount of blur applied to nuclei\n",
    "# Blurs the mip_nuclei image to even out high intensity foci within the nucleus, the higher the value blurriness increases\n",
    "# High values help segment sparse nuclei (CA and CTX regions) but as a drawback it merges nuclei entities that are very close together (DG region)\n",
    "gaussian_sigma = 0 \n",
    "\n",
    "# Generate maximum intensity projection and extract filename\n",
    "img_mip, filename = read_image(image, slicing_factor)\n",
    "\n",
    "# Extract filename with extension\n",
    "file_and_ext = Path(image).stem\n",
    "\n",
    "# Show image in Napari\n",
    "viewer = napari.Viewer(ndisplay=2)\n",
    "viewer.add_image(img_mip)"
   ]
  },
  {
   "cell_type": "code",
   "execution_count": 46,
   "metadata": {},
   "outputs": [
    {
     "name": "stdout",
     "output_type": "stream",
     "text": [
      "The following regions of interest will be analyzed: ['CA', 'DG']\n"
     ]
    }
   ],
   "source": [
    "# List of subfolder names\n",
    "try:\n",
    "    roi_names = [folder.name for folder in roi_path.iterdir() if folder.is_dir()]\n",
    "\n",
    "except FileNotFoundError:\n",
    "    roi_names = [\"full_image\"]\n",
    "        \n",
    "print(f\"The following regions of interest will be analyzed: {roi_names}\")"
   ]
  },
  {
   "cell_type": "markdown",
   "metadata": {},
   "source": [
    "<h3>Extract average intensities of markers within each defined cell compartment and ROI</h3>"
   ]
  },
  {
   "cell_type": "code",
   "execution_count": 47,
   "metadata": {},
   "outputs": [
    {
     "name": "stderr",
     "output_type": "stream",
     "text": [
      "100%|██████████| 2/2 [00:18<00:00,  9.45s/it]\n"
     ]
    },
    {
     "data": {
      "text/html": [
       "<div>\n",
       "<style scoped>\n",
       "    .dataframe tbody tr th:only-of-type {\n",
       "        vertical-align: middle;\n",
       "    }\n",
       "\n",
       "    .dataframe tbody tr th {\n",
       "        vertical-align: top;\n",
       "    }\n",
       "\n",
       "    .dataframe thead th {\n",
       "        text-align: right;\n",
       "    }\n",
       "</style>\n",
       "<table border=\"1\" class=\"dataframe\">\n",
       "  <thead>\n",
       "    <tr style=\"text-align: right;\">\n",
       "      <th></th>\n",
       "      <th>filename</th>\n",
       "      <th>ROI</th>\n",
       "      <th>label</th>\n",
       "      <th>nucleus_ki67_avg_int</th>\n",
       "      <th>nucleus_neun_avg_int</th>\n",
       "      <th>cytoplasm_calbindin_avg_int</th>\n",
       "    </tr>\n",
       "  </thead>\n",
       "  <tbody>\n",
       "    <tr>\n",
       "      <th>0</th>\n",
       "      <td>HI 1  Contralateral Mouse 8  slide 6 Neun Red ...</td>\n",
       "      <td>CA</td>\n",
       "      <td>1</td>\n",
       "      <td>93.302419</td>\n",
       "      <td>100.520161</td>\n",
       "      <td>12.485149</td>\n",
       "    </tr>\n",
       "    <tr>\n",
       "      <th>1</th>\n",
       "      <td>HI 1  Contralateral Mouse 8  slide 6 Neun Red ...</td>\n",
       "      <td>CA</td>\n",
       "      <td>2</td>\n",
       "      <td>109.193662</td>\n",
       "      <td>160.524648</td>\n",
       "      <td>14.086705</td>\n",
       "    </tr>\n",
       "    <tr>\n",
       "      <th>2</th>\n",
       "      <td>HI 1  Contralateral Mouse 8  slide 6 Neun Red ...</td>\n",
       "      <td>CA</td>\n",
       "      <td>3</td>\n",
       "      <td>86.524465</td>\n",
       "      <td>91.558104</td>\n",
       "      <td>15.710280</td>\n",
       "    </tr>\n",
       "    <tr>\n",
       "      <th>3</th>\n",
       "      <td>HI 1  Contralateral Mouse 8  slide 6 Neun Red ...</td>\n",
       "      <td>CA</td>\n",
       "      <td>4</td>\n",
       "      <td>60.469697</td>\n",
       "      <td>15.094697</td>\n",
       "      <td>8.805755</td>\n",
       "    </tr>\n",
       "    <tr>\n",
       "      <th>4</th>\n",
       "      <td>HI 1  Contralateral Mouse 8  slide 6 Neun Red ...</td>\n",
       "      <td>CA</td>\n",
       "      <td>5</td>\n",
       "      <td>86.252907</td>\n",
       "      <td>97.027132</td>\n",
       "      <td>15.851145</td>\n",
       "    </tr>\n",
       "    <tr>\n",
       "      <th>...</th>\n",
       "      <td>...</td>\n",
       "      <td>...</td>\n",
       "      <td>...</td>\n",
       "      <td>...</td>\n",
       "      <td>...</td>\n",
       "      <td>...</td>\n",
       "    </tr>\n",
       "    <tr>\n",
       "      <th>3073</th>\n",
       "      <td>HI 1  Contralateral Mouse 8  slide 6 Neun Red ...</td>\n",
       "      <td>DG</td>\n",
       "      <td>1743</td>\n",
       "      <td>94.752066</td>\n",
       "      <td>14.283747</td>\n",
       "      <td>14.752874</td>\n",
       "    </tr>\n",
       "    <tr>\n",
       "      <th>3074</th>\n",
       "      <td>HI 1  Contralateral Mouse 8  slide 6 Neun Red ...</td>\n",
       "      <td>DG</td>\n",
       "      <td>1744</td>\n",
       "      <td>111.054545</td>\n",
       "      <td>155.880808</td>\n",
       "      <td>30.288000</td>\n",
       "    </tr>\n",
       "    <tr>\n",
       "      <th>3075</th>\n",
       "      <td>HI 1  Contralateral Mouse 8  slide 6 Neun Red ...</td>\n",
       "      <td>DG</td>\n",
       "      <td>1745</td>\n",
       "      <td>136.708108</td>\n",
       "      <td>23.772973</td>\n",
       "      <td>15.714286</td>\n",
       "    </tr>\n",
       "    <tr>\n",
       "      <th>3076</th>\n",
       "      <td>HI 1  Contralateral Mouse 8  slide 6 Neun Red ...</td>\n",
       "      <td>DG</td>\n",
       "      <td>1746</td>\n",
       "      <td>96.565116</td>\n",
       "      <td>38.776744</td>\n",
       "      <td>20.472868</td>\n",
       "    </tr>\n",
       "    <tr>\n",
       "      <th>3077</th>\n",
       "      <td>HI 1  Contralateral Mouse 8  slide 6 Neun Red ...</td>\n",
       "      <td>DG</td>\n",
       "      <td>1747</td>\n",
       "      <td>145.293860</td>\n",
       "      <td>12.214912</td>\n",
       "      <td>18.942857</td>\n",
       "    </tr>\n",
       "  </tbody>\n",
       "</table>\n",
       "<p>3078 rows × 6 columns</p>\n",
       "</div>"
      ],
      "text/plain": [
       "                                               filename ROI  label  \\\n",
       "0     HI 1  Contralateral Mouse 8  slide 6 Neun Red ...  CA      1   \n",
       "1     HI 1  Contralateral Mouse 8  slide 6 Neun Red ...  CA      2   \n",
       "2     HI 1  Contralateral Mouse 8  slide 6 Neun Red ...  CA      3   \n",
       "3     HI 1  Contralateral Mouse 8  slide 6 Neun Red ...  CA      4   \n",
       "4     HI 1  Contralateral Mouse 8  slide 6 Neun Red ...  CA      5   \n",
       "...                                                 ...  ..    ...   \n",
       "3073  HI 1  Contralateral Mouse 8  slide 6 Neun Red ...  DG   1743   \n",
       "3074  HI 1  Contralateral Mouse 8  slide 6 Neun Red ...  DG   1744   \n",
       "3075  HI 1  Contralateral Mouse 8  slide 6 Neun Red ...  DG   1745   \n",
       "3076  HI 1  Contralateral Mouse 8  slide 6 Neun Red ...  DG   1746   \n",
       "3077  HI 1  Contralateral Mouse 8  slide 6 Neun Red ...  DG   1747   \n",
       "\n",
       "      nucleus_ki67_avg_int  nucleus_neun_avg_int  cytoplasm_calbindin_avg_int  \n",
       "0                93.302419            100.520161                    12.485149  \n",
       "1               109.193662            160.524648                    14.086705  \n",
       "2                86.524465             91.558104                    15.710280  \n",
       "3                60.469697             15.094697                     8.805755  \n",
       "4                86.252907             97.027132                    15.851145  \n",
       "...                    ...                   ...                          ...  \n",
       "3073             94.752066             14.283747                    14.752874  \n",
       "3074            111.054545            155.880808                    30.288000  \n",
       "3075            136.708108             23.772973                    15.714286  \n",
       "3076             96.565116             38.776744                    20.472868  \n",
       "3077            145.293860             12.214912                    18.942857  \n",
       "\n",
       "[3078 rows x 6 columns]"
      ]
     },
     "execution_count": 47,
     "metadata": {},
     "output_type": "execute_result"
    }
   ],
   "source": [
    "# Initialize an empty list to hold the extracted dataframes on a per ROI basis\n",
    "per_roi_props = []\n",
    "\n",
    "for roi_name in tqdm(roi_names):\n",
    "\n",
    "    # Initialize an empty list to hold the extracted dataframes on a per channel basis\n",
    "    props_list = []\n",
    "\n",
    "    # Read the user defined ROIs, in case of full image analysis generate a label covering the entire image\n",
    "    try:\n",
    "        # Read previously defined ROIs\n",
    "        user_roi = tifffile.imread(roi_path / roi_name / f\"{file_and_ext}.tiff\")\n",
    "\n",
    "    except FileNotFoundError:\n",
    "        # Extract the xy dimensions of the input image (from nuclei_labels)\n",
    "        img_shape = img_mip.shape\n",
    "        img_xy_dims = img_shape[-2:]\n",
    "\n",
    "        # Create a label covering the entire image\n",
    "        user_roi = np.ones(img_xy_dims).astype(np.uint8)\n",
    "\n",
    "    # Read previously predicted nuclei labels, if not present generate nuclei predictions and save them\n",
    "    try:\n",
    "        # Read the nuclei predictions per ROI\n",
    "        nuclei_labels = tifffile.imread(nuclei_preds_path / roi_name / f\"{file_and_ext}.tiff\")\n",
    "\n",
    "    except FileNotFoundError:\n",
    "\n",
    "        # Slice the nuclei stack\n",
    "        nuclei_img = img_mip[nuclei_channel, :, :]\n",
    "\n",
    "        # We will create a mask where roi is greater than or equal to 1\n",
    "        mask = (user_roi >= 1).astype(np.uint8)\n",
    "\n",
    "        # Apply the mask to nuclei_img and marker_img, setting all other pixels to 0\n",
    "        masked_nuclei_img = np.where(mask, nuclei_img, 0)\n",
    "\n",
    "        # Segment nuclei and return labels\n",
    "        nuclei_labels = segment_nuclei_2d(masked_nuclei_img, gaussian_sigma, cellpose_nuclei_diameter)\n",
    "\n",
    "        # Save nuclei labels as .tiff files to reuse them later\n",
    "        # Create nuclei_predictions directory if it does not exist\n",
    "        try:\n",
    "            os.makedirs(directory_path / \"nuclei_preds\" / roi_name)\n",
    "        except FileExistsError:\n",
    "            pass\n",
    "\n",
    "        # Construct path to store\n",
    "        path_to_store = directory_path / \"nuclei_preds\" / roi_name / f\"{filename}.tiff\"\n",
    "\n",
    "        # Save mask (binary image)\n",
    "        tifffile.imwrite(path_to_store, nuclei_labels)\n",
    "\n",
    "    # Add the predicted nuclei as labels into Napari\n",
    "    viewer.add_labels(nuclei_labels, name=f\"{roi_name}_nuclei\")\n",
    "\n",
    "    # Add the ROIs as labels into Napari\n",
    "    viewer.add_labels(user_roi, name=f\"{roi_name}_ROI\", opacity=0.4)\n",
    "\n",
    "    # Create a dictionary containing all image descriptors\n",
    "    descriptor_dict = {\n",
    "                \"filename\": filename,\n",
    "                \"ROI\": roi_name,\n",
    "                }\n",
    "\n",
    "    # Loop through each channel and extract the average intensity within either nuclei or cytoplasmic regions\n",
    "    for tuple in markers:\n",
    "\n",
    "        channel_name = tuple[0]\n",
    "        ch_nr = tuple[1]\n",
    "        location = tuple[2]\n",
    "\n",
    "        if location == \"cytoplasm\":\n",
    "\n",
    "            # Simulate a cytoplasm by dilating the nuclei and substracting the nuclei mask afterwards\n",
    "            cytoplasm_labels = simulate_cytoplasm(nuclei_labels, dilation_radius = 2, erosion_radius = 0)\n",
    "\n",
    "            # Add the predicted nuclei as labels into Napari\n",
    "            viewer.add_labels(cytoplasm_labels, name=f\"{roi_name}_cytoplasm\")\n",
    "\n",
    "            # Extract intensity information from each marker channel\n",
    "            props = regionprops_table(label_image=cytoplasm_labels,\n",
    "                                intensity_image=img_mip[ch_nr],\n",
    "                                properties=[\"label\", \"intensity_mean\"])\n",
    "        \n",
    "        elif location == \"nucleus\":\n",
    "\n",
    "            # Extract intensity information from each marker channel\n",
    "            props = regionprops_table(label_image=nuclei_labels,\n",
    "                                intensity_image=img_mip[ch_nr],\n",
    "                                properties=[\"label\", \"intensity_mean\"])\n",
    "        \n",
    "\n",
    "        # Convert to dataframe\n",
    "        props_df = pd.DataFrame(props)\n",
    "\n",
    "        # Rename intensity_mean column to indicate the specific image\n",
    "        props_df.rename(columns={\"intensity_mean\": f\"{location}_{channel_name}_avg_int\"}, inplace=True)\n",
    "\n",
    "        # Append each props_df to props_list\n",
    "        props_list.append(props_df)\n",
    "\n",
    "        # Initialize the df with the first df in the list\n",
    "        props_df = props_list[0]\n",
    "        # Start looping from the second df in the list\n",
    "        for df in props_list[1:]:\n",
    "            props_df = props_df.merge(df, on=\"label\")\n",
    "\n",
    "    # Add each key-value pair from descriptor_dict to props_df at the specified position\n",
    "    insertion_position = 0    \n",
    "    for key, value in descriptor_dict.items():\n",
    "        props_df.insert(insertion_position, key, value)\n",
    "        insertion_position += 1  # Increment position to maintain the order of keys in descriptor_dict\n",
    "\n",
    "    # Append each props_df to props_list\n",
    "    per_roi_props.append(props_df)\n",
    "\n",
    "final_df = pd.concat(per_roi_props, ignore_index=True)\n",
    "\n",
    "final_df"
   ]
  },
  {
   "cell_type": "markdown",
   "metadata": {},
   "source": [
    "<h3>Save per label per ROI per marker data</h3>"
   ]
  },
  {
   "cell_type": "code",
   "execution_count": 48,
   "metadata": {},
   "outputs": [
    {
     "name": "stdout",
     "output_type": "stream",
     "text": [
      "'results' folder already exists.\n"
     ]
    }
   ],
   "source": [
    "# Create a 'results' folder in the root directory\n",
    "results_folder = 'results'\n",
    "\n",
    "try:\n",
    "    os.makedirs(results_folder)\n",
    "    print(f\"'{results_folder}' folder created successfully.\")\n",
    "except FileExistsError:\n",
    "    print(f\"'{results_folder}' folder already exists.\")\n",
    "\n",
    "# Save the df containing per_label results into a CSV file\n",
    "final_df.to_csv(f'./results/{filename}_per_label.csv')"
   ]
  },
  {
   "cell_type": "markdown",
   "metadata": {},
   "source": [
    "<h3>Plot average intensities</h3>"
   ]
  },
  {
   "cell_type": "code",
   "execution_count": 49,
   "metadata": {},
   "outputs": [
    {
     "data": {
      "application/vnd.plotly.v1+json": {
       "config": {
        "plotlyServerURL": "https://plot.ly"
       },
       "data": [
        {
         "alignmentgroup": "True",
         "bingroup": "x",
         "hovertemplate": "variable=nucleus_ki67_avg_int<br>nucleus_ki67_avg_int=%{x}<br>count=%{y}<extra></extra>",
         "legendgroup": "nucleus_ki67_avg_int",
         "marker": {
          "color": "#636efa",
          "pattern": {
           "shape": ""
          }
         },
         "name": "nucleus_ki67_avg_int",
         "nbinsx": 256,
         "offsetgroup": "nucleus_ki67_avg_int",
         "orientation": "v",
         "showlegend": true,
         "type": "histogram",
         "x": [
          93.3024193548387,
          109.19366197183099,
          86.52446483180428,
          60.46969696969697,
          86.25290697674419,
          88.31428571428572,
          86.50429184549357,
          108.91691394658754,
          49.65432098765432,
          85.871875,
          83.80764635603346,
          103.7645259938838,
          98.08913934426229,
          122.3544061302682,
          86.53957996768982,
          92.36383928571429,
          102.42075892857143,
          109.11183355006501,
          88.34762979683973,
          104.46412884333822,
          71.03571428571429,
          107.40495867768595,
          98.53097345132744,
          102.2420091324201,
          88.4952380952381,
          94.318359375,
          91.97385620915033,
          92.03703703703704,
          108.98203592814372,
          103.82306684141547,
          74.96219931271477,
          73.00894454382826,
          123.77306468716861,
          105.04838709677419,
          82.78125,
          104.3109756097561,
          98.58639910813824,
          97.86297376093295,
          103.64982373678026,
          91.19910514541387,
          95.98861788617886,
          116.35611510791367,
          230.8273542600897,
          101.29460580912863,
          130.05046948356807,
          126.6858407079646,
          106.64507772020725,
          134.61470588235295,
          125.41390205371248,
          84.05772495755518,
          120.25452196382429,
          120.62641509433962,
          128.60283687943263,
          121.12771392081737,
          134.17450682852808,
          98.28816199376946,
          129.3378016085791,
          107.3984962406015,
          126.9728,
          130.82234185733512,
          112.19267299864315,
          64.5984251968504,
          122.55409356725146,
          115.76356589147287,
          91.63518518518518,
          120.4228791773779,
          138.5506419400856,
          126.70216962524655,
          138.45212765957447,
          129.4575569358178,
          94.2877358490566,
          101.94901960784314,
          134.00404858299595,
          144.06624605678235,
          89.027950310559,
          94.12443438914028,
          99.375,
          138.73648648648648,
          136.56770833333334,
          140.32797427652733,
          161.95052083333334,
          106.20447284345047,
          120.8425,
          127.27403846153847,
          106.45844155844156,
          135.8727034120735,
          144.61401098901098,
          133.83182406209573,
          138.2284196547145,
          92.25,
          130.36945169712794,
          136.6887755102041,
          137.7171171171171,
          144.44444444444446,
          130.42836879432625,
          139.76407914764079,
          147.8533653846154,
          101.7758887171561,
          139.08137931034483,
          127.98627002288329,
          142.58703071672355,
          146.1337386018237,
          141.01573676680974,
          122.67420814479638,
          134.42226890756302,
          148.45909645909646,
          146.49187935034803,
          151.1343669250646,
          148.15436241610738,
          153.81566068515497,
          137.27113702623907,
          115.11904761904762,
          133.77171215880892,
          136.55292479108635,
          148.90054495912807,
          149.96453900709218,
          155.6597510373444,
          127.97572815533981,
          145.77147016011645,
          155.328968903437,
          154.29478827361564,
          151.04867872044505,
          150.57592339261285,
          132.4018087855297,
          160.19553072625698,
          138.0054644808743,
          131.3629191321499,
          147.46394230769232,
          93.11111111111111,
          155.77115987460814,
          130.15641476274166,
          136.29873417721518,
          146.27380952380952,
          117,
          149.98275862068965,
          125.38194444444444,
          148.35766423357666,
          139.5288574793875,
          135.36363636363637,
          152.29184549356222,
          152.1497093023256,
          149.71153846153845,
          150.71827057182705,
          104.56959706959707,
          125.62409288824384,
          129.68218085106383,
          146.58983666061707,
          144.7206896551724,
          141.63252032520325,
          132.364161849711,
          137.23044096728307,
          144.64521739130436,
          151.56997084548104,
          139.9731437598736,
          136.83190883190883,
          137.12989045383412,
          144.58087201125176,
          163.83783783783784,
          124.44334975369458,
          146.41504854368932,
          149.2595978062157,
          140.84217016029592,
          142.03864734299518,
          150.97936507936507,
          149.4418604651163,
          145.2987012987013,
          130.34599728629578,
          142.45963541666666,
          135.89565217391305,
          159.36730360934183,
          163.76290630975143,
          132.13992762364293,
          141.33672172808133,
          112.72151898734177,
          134.6670493685419,
          140.32911392405063,
          138.10852713178295,
          127.85576923076923,
          145.72196796338673,
          137.75715800636266,
          143.37459807073955,
          121.72850678733032,
          142.00631313131314,
          103.57516339869281,
          133.47852760736197,
          145.35912408759125,
          144.1355721393035,
          144.42548596112312,
          138.65294924554183,
          143.6425855513308,
          129.15022761760244,
          136.94656488549617,
          128.73475177304965,
          136.97619047619048,
          133.31662269129288,
          126.29711141678129,
          105.73479318734793,
          131.5495118549512,
          133.8777614138439,
          131.06216696269982,
          143.40540540540542,
          154.81935483870967,
          140.60355781448538,
          143.5211267605634,
          145.57921419518377,
          136.48280423280423,
          133.56794425087108,
          133.31367628607276,
          135.23853211009174,
          140.89147286821705,
          146.65499124343256,
          139.11904761904762,
          118.82388059701492,
          142.28301886792454,
          123.22470238095238,
          139.73423423423424,
          124.93932584269663,
          148.0184331797235,
          171.5477272727273,
          120.48333333333333,
          134.9248434237996,
          176.52745098039216,
          116.58576051779936,
          133.37110481586402,
          125.07947976878613,
          123.12432432432432,
          106.70121951219512,
          107.57837837837837,
          92.60743801652893,
          143.3792,
          148.1129518072289,
          86.93506493506493,
          141.0648148148148,
          127.66089965397924,
          124.31770833333333,
          128.0421792618629,
          133.92399049881234,
          81.86458333333333,
          136.03696498054475,
          135.29186602870814,
          135.7050754458162,
          152.92268041237114,
          146.68892794376097,
          75.28181818181818,
          127.72307692307692,
          122.64779005524862,
          135.06629834254144,
          123.2945638432364,
          134.71304347826086,
          128.94078947368422,
          116.32081911262799,
          133.39666666666668,
          125.87150837988827,
          122.29239766081871,
          122.5967213114754,
          119.54912099276112,
          135.93741109530583,
          120.9753086419753,
          125.04785894206549,
          109.69015957446808,
          63.91162790697675,
          110.50136239782016,
          115.85770363101079,
          99.9103448275862,
          99.21744966442952,
          76.5109243697479,
          104.92050209205021,
          112.98637602179836,
          122.06233062330624,
          116.6105651105651,
          110.74811083123426,
          118.7063339731286,
          115.53333333333333,
          107.40845070422536,
          100.84251968503936,
          124.3088455772114,
          123.26901669758813,
          127.55813953488372,
          132.55194805194805,
          115.61071428571428,
          138.09172661870502,
          119.94219653179191,
          120.04217687074829,
          119.74471544715448,
          124.623869801085,
          134.27692307692308,
          121.76966292134831,
          91.18064516129033,
          127.08,
          141.69892473118279,
          160.64772727272728,
          125.56912751677852,
          117.30232558139535,
          133.46451612903226,
          129.1267942583732,
          122.98064516129033,
          142.3152709359606,
          153.09967845659165,
          132.53885480572598,
          134.990099009901,
          132.22222222222223,
          135.45,
          150.91479820627802,
          142.98587127158555,
          125.01515151515152,
          132.01333333333332,
          133.53203342618386,
          125.28741721854304,
          121.6436170212766,
          127.19204152249135,
          110.7258883248731,
          107.1327967806841,
          117.8655462184874,
          123.9367469879518,
          146.74493243243242,
          129.84117647058824,
          129.9806701030928,
          133.2958748221906,
          133.23020527859236,
          88.0632911392405,
          136.5219512195122,
          119.99447513812154,
          121.12931034482759,
          138.15833333333333,
          134.36595174262735,
          123.0171052631579,
          132.8531684698609,
          139.86091794158554,
          145.4120443740095,
          132.80278884462152,
          119.62064343163539,
          128.44146341463414,
          132.09591194968553,
          130.2868068833652,
          113.39485981308411,
          127.86533665835411,
          136.58133333333333,
          107.6396103896104,
          158.3476112026359,
          131.07556675062972,
          137.85858585858585,
          148.91316526610643,
          141.13926499032883,
          116.31333333333333,
          171.12885154061624,
          97.52247191011236,
          136.7809187279152,
          135.25379939209728,
          132.05228758169935,
          128.1769436997319,
          135.14920634920634,
          132.4561403508772,
          141.20077720207254,
          125.9396551724138,
          125.1457800511509,
          134.66254635352286,
          136.4779299847793,
          143.17472118959108,
          123.30749682337992,
          133.18796992481202,
          136.72686230248306,
          133.6433770014556,
          119.89801699716713,
          129.90117035110532,
          138.9115479115479,
          127.39393939393939,
          151.84759916492692,
          133.30971128608923,
          135.56695869837296,
          116.36877523553163,
          129.6851520572451,
          145.33375314861462,
          141.81233933161954,
          137.67741935483872,
          144.19806763285024,
          137.31409168081495,
          115.89930555555556,
          242.8464566929134,
          147.10534846029174,
          134.92491467576792,
          78.80582524271844,
          129.38181818181818,
          174.03056768558952,
          99.37467018469657,
          83.82425307557118,
          121.35916824196597,
          140.7041095890411,
          83.79761904761905,
          150.77704918032788,
          130.92073170731706,
          150.790990990991,
          159.6796875,
          137.52948717948718,
          133.58519553072625,
          117.5252808988764,
          141.50621669626997,
          143.5413907284768,
          139.09293193717278,
          124.13030746705711,
          120.0625,
          99.45833333333333,
          128.54666666666665,
          151.07886904761904,
          125.33514246947082,
          179.06060606060606,
          129.19145802650957,
          121.5997666277713,
          93.56422018348624,
          138.75,
          137.2428810720268,
          209.20232558139534,
          135.13937282229966,
          114.77491408934708,
          113.56447963800905,
          131.22566995768688,
          100.66137566137566,
          133.1627906976744,
          138.80123266563945,
          118.17062937062937,
          114.068,
          134.46628407460545,
          148.15068493150685,
          87.85915492957747,
          117.74841972187104,
          105.15384615384616,
          126.72485207100591,
          116.06719367588933,
          125.43933588761175,
          141.82967032967034,
          121.87057010785824,
          135.43800539083557,
          128.2156334231806,
          134.9195751138088,
          132.90119047619046,
          143.84969696969696,
          173.26171875,
          118.79640718562874,
          126.06045751633987,
          120.66332378223495,
          131.1183879093199,
          140.05519480519482,
          120.2741935483871,
          116.02485875706215,
          126.91265397536394,
          129.92233009708738,
          134.76671035386633,
          128.6100795755968,
          124.12258064516129,
          124.6120283018868,
          115.12,
          131.36863823933976,
          128.81441441441441,
          113.22800925925925,
          122.1441717791411,
          141.2792207792208,
          153.24668874172184,
          120.48209366391184,
          102.87239583333333,
          130.6422018348624,
          93.06233062330624,
          116.05021834061135,
          110.80148423005566,
          120.58555133079848,
          133.68068833652006,
          138.3584379358438,
          145.43718592964825,
          112.71908763505402,
          113.35408022130014,
          121.52434456928839,
          127.62278106508876,
          90.23157894736842,
          127.96953642384106,
          97.77627118644068,
          142.12868217054265,
          127.09927797833934,
          121.53448275862068,
          143.02824858757063,
          132.21397379912665,
          142.25,
          145.6355140186916,
          114.10348583877996,
          137.76360808709177,
          111.66842105263157,
          148.89814814814815,
          110.32727272727273,
          123.82262210796915,
          113.90298507462687,
          140.8808864265928,
          128.9855855855856,
          94.7312925170068,
          132.9264705882353,
          137.53229974160206,
          136.47096774193548,
          132.31994981179423,
          126.37110481586403,
          85.43575418994413,
          111.353125,
          122.16774193548387,
          106.40350877192982,
          119.60442260442261,
          133.78378378378378,
          115.52047781569966,
          109.33972911963883,
          124.02178649237473,
          138.6795827123696,
          118.9744966442953,
          99.8,
          113.43891402714932,
          124.9219440353461,
          125.76102941176471,
          127.1839530332681,
          128.38138686131387,
          115.96954314720813,
          100.70893970893971,
          106.52923076923076,
          124.875,
          114.68878504672897,
          104.87967914438502,
          89.9489247311828,
          104.188654353562,
          110.66622691292876,
          109.45006657789614,
          98.44957983193277,
          112.34500875656742,
          107.34380453752182,
          100.81846153846153,
          100.96564417177915,
          104.29606099110546,
          97.36717062634989,
          104.78453038674033,
          103.29245283018868,
          111.83798882681565,
          78.22222222222223,
          105.50887573964496,
          92.46575342465754,
          118.5455486542443,
          102.96118299445472,
          107.88539325842697,
          84.50762527233115,
          98.36842105263158,
          102.67307692307692,
          102.3433908045977,
          108.15979381443299,
          100.26818181818182,
          98.75718849840256,
          84.77245508982035,
          109.50436046511628,
          139.2687747035573,
          106.36655948553054,
          99.41928721174004,
          113.5006711409396,
          97.66390041493776,
          102.11875693673696,
          126.5478841870824,
          107.46879334257974,
          65.80322003577818,
          110.29061102831595,
          133.94025974025973,
          116.51838235294117,
          105.07392996108949,
          107.71302149178256,
          130.1580310880829,
          71.5274949083503,
          124.09019607843138,
          106.84503901895206,
          89.05376344086021,
          110.56906077348066,
          128.08761904761906,
          98.59313725490196,
          118.18718381112984,
          113.64814814814815,
          82.41783216783217,
          106.04580152671755,
          117.02573529411765,
          104.86186186186187,
          111.87752355316286,
          105.14285714285714,
          100.80736543909349,
          122.15742397137745,
          109.07230392156863,
          74.65319865319866,
          114.25897435897436,
          113.64569961489089,
          120.73112128146452,
          106.77076411960132,
          121.0911528150134,
          118.39308176100629,
          120.48158640226629,
          107.09741784037558,
          115.05555555555556,
          101.65159128978225,
          123.22178988326849,
          119.27225130890052,
          112.87445887445888,
          111.36032388663968,
          94.05295007564297,
          106.11529411764705,
          188.8552036199095,
          119.62062937062937,
          108.95252679938744,
          76.9312,
          110.36263736263736,
          124.29206963249517,
          124.42335766423358,
          122.8218465539662,
          116.6261980830671,
          112.32810615199035,
          110.77657657657657,
          106.48797736916549,
          101.88013698630137,
          122.68810289389067,
          119.10105580693816,
          126.40890125173853,
          120.58481613285883,
          135.6701030927835,
          255,
          111.31147540983606,
          99.13086770981508,
          117.04422604422605,
          93.0824295010846,
          119.14285714285714,
          129.64496124031007,
          135.34855769230768,
          135.21139705882354,
          84.54807692307692,
          233.51520572450806,
          92.183879093199,
          147.95391705069125,
          123.17289220917823,
          112.98992805755395,
          119.16901408450704,
          136.08071748878925,
          114.84657534246575,
          120.80320366132723,
          118.27916666666667,
          116.8365553602812,
          116.96110414052697,
          104.47637051039698,
          122.91857142857143,
          141.74603174603175,
          121.9050925925926,
          131.61007667031762,
          127.38841807909604,
          108.12714285714286,
          119.71212121212122,
          119.22413793103448,
          138.215625,
          119.91479820627802,
          116.08,
          104.71268656716418,
          133.1382113821138,
          142.04656084656085,
          122.75942549371634,
          128.59011627906978,
          112.0956678700361,
          128.48275862068965,
          128.47222222222223,
          107.02816901408451,
          135.5674740484429,
          253.6038338658147,
          130.0707182320442,
          125.24038461538461,
          136.49704142011834,
          170.08713692946057,
          128.7697974217311,
          123.08667529107373,
          127.27586206896552,
          129.01263157894738,
          132.86428571428573,
          131.53231292517006,
          128.26742976066598,
          132.47021943573668,
          103.23174603174603,
          139.55575539568346,
          109.96883852691218,
          104.37860082304526,
          113.85877318116975,
          120.79010695187166,
          135.87048192771084,
          137.86996336996336,
          127.21109123434705,
          138.68356997971603,
          120.32223701731026,
          121.4836956521739,
          104.58108108108108,
          127.23724137931035,
          147.25947867298578,
          124.6561135371179,
          118.21780821917808,
          135.05936920222635,
          110.42302543507363,
          147.70425531914893,
          125.88775510204081,
          123.93774319066148,
          138.93341260404281,
          126.42721518987342,
          135.87755102040816,
          124.24930747922437,
          129.45234708392604,
          143.18864774624373,
          125.97008547008546,
          129.15424836601306,
          140.389651531151,
          123.1103448275862,
          115.14910858995138,
          130.5203804347826,
          128.12579617834396,
          143.0209523809524,
          204.3218085106383,
          133.35637663885578,
          134.43541666666667,
          130.13625866050808,
          92.05479452054794,
          131.7434842249657,
          119.50123456790124,
          119.04728789986092,
          158.31909547738692,
          243.00340136054422,
          136.00828729281767,
          143.96114519427402,
          153.32584269662922,
          127.62248322147651,
          125.42231075697211,
          119.36647173489278,
          145.6460945033751,
          148.56131479140328,
          136.53142076502732,
          131.8722294654498,
          122.19295774647887,
          133.9255898366606,
          130.89116379310346,
          117.9041095890411,
          158.40983606557376,
          126.64979480164159,
          134.03120759837176,
          132.15994623655914,
          128.46082949308754,
          151.96326530612245,
          139.81661891117477,
          151.4191616766467,
          133.0433962264151,
          152.13169164882228,
          129.68060200668896,
          104.59447004608295,
          135.24173913043478,
          131.99338624338625,
          96.97441860465116,
          206.21052631578948,
          145.064,
          129.966618287373,
          128.45833333333334,
          146.49457058242842,
          107.67278287461774,
          135.14008941877793,
          117.41509433962264,
          98.54065040650407,
          126.97969543147208,
          119.2621359223301,
          152.08748317631225,
          150.7942122186495,
          132.15938303341903,
          131.23164556962024,
          133.4754358161648,
          119.52363636363637,
          88.83405172413794,
          152.12707641196013,
          130.33333333333334,
          122.38095238095238,
          132.02046035805625,
          90.8855421686747,
          116.01742160278745,
          144.8245382585752,
          146,
          131.90669371196753,
          146.30139534883722,
          119.2776911076443,
          146.28592375366568,
          125.74169184290031,
          110.23467600700525,
          135.29172141918528,
          148.2389289392379,
          142.85488958990535,
          126.25416666666666,
          120.27134146341463,
          139.61997226074897,
          136.63575268817203,
          152.40934579439252,
          138.46932515337423,
          154.48847420417124,
          132.29633113828785,
          136.65289256198346,
          109.25581395348837,
          114.31412103746398,
          153.9219934994583,
          118.76569037656904,
          131.8059405940594,
          147.90036900369003,
          133.00134770889488,
          133.14901477832512,
          137.917089678511,
          186.4255319148936,
          135.73069498069498,
          125.99165507649514,
          137.03013698630136,
          108.28280542986425,
          194.31543624161074,
          132.3032967032967,
          136.11046511627907,
          138.52608047690015,
          140.93802521008402,
          143.512012012012,
          133.1912568306011,
          136.90286298568506,
          140.6273291925466,
          97.79324894514768,
          114.63744075829383,
          112.64593301435407,
          142.56304985337243,
          101.74528301886792,
          118.20198265179678,
          130.04328358208954,
          126.0158273381295,
          127.53519061583577,
          123.63754646840148,
          128.1218206157965,
          105.19590643274854,
          123.36696090794452,
          146.09677419354838,
          119.07643312101911,
          137.1006711409396,
          139.02921348314607,
          159.41095890410958,
          123.44117647058823,
          123.67045454545455,
          147.73958333333334,
          130.470715835141,
          120.12896825396825,
          125.1842105263158,
          113.75161987041037,
          136.84233261339094,
          102.42585551330798,
          129.03116883116883,
          145.9855715871254,
          152.40036068530208,
          138.77740016992354,
          118.80701754385964,
          148.98907103825135,
          131.2491961414791,
          123.26348039215686,
          118.7132530120482,
          111.5701754385965,
          136.2844387755102,
          138.7305389221557,
          136.83908045977012,
          122.21586475942783,
          152.37070938215103,
          171.39705882352942,
          149.21885521885523,
          128.26771653543307,
          141.09138840070298,
          132.41826923076923,
          118.03411131059246,
          126.6949494949495,
          132.5595238095238,
          122.58478260869565,
          97.85868263473054,
          115.06544502617801,
          133.4862518089725,
          127.94102228047183,
          150.70276497695852,
          123.01851851851852,
          128.34361233480178,
          115.29381443298969,
          176.53846153846155,
          129.23690476190475,
          121.81210191082802,
          132.5875169606513,
          141.50885826771653,
          132.82950819672132,
          78.6755162241888,
          125.79012345679013,
          175.85401459854015,
          121.53135313531354,
          93.53125,
          120.02086049543676,
          135.57961053837343,
          130.3265306122449,
          129.3458110516934,
          145.04317789291883,
          117.43358395989975,
          139.44856839872747,
          121.3079365079365,
          152.4954954954955,
          141.3901147396293,
          124.22389937106918,
          96.82638888888889,
          117.74697173620457,
          100.08730158730158,
          120.23148148148148,
          117.22100954979535,
          57.22727272727273,
          92.62886597938144,
          215.64383561643837,
          128.20275590551182,
          123.27173913043478,
          129.42684401451027,
          190.6052141527002,
          121.16625916870416,
          112.45791726105564,
          130.80343511450383,
          131.0937188434696,
          77.63333333333334,
          139.17840375586854,
          119.83738317757009,
          117.0909090909091,
          136.25842696629215,
          131.23488372093024,
          111.38578680203045,
          118.11764705882354,
          142.2556917688266,
          110.9304347826087,
          121.20205479452055,
          103.23946037099495,
          116.27896995708154,
          142.38945827232797,
          103.63805970149254,
          130.99537750385207,
          130.92716049382716,
          137.03761755485894,
          100.81481481481481,
          123.63083451202263,
          114.50273224043715,
          116.85155195681511,
          130.24961479198768,
          136.7037037037037,
          183.80658436213992,
          109.54732510288066,
          117.78073770491804,
          125.72752808988764,
          114.07082152974505,
          118.68155619596541,
          109.14759535655058,
          105.53125,
          196.54621848739495,
          134.12226277372264,
          121.78247734138972,
          138.61627906976744,
          120.56834532374101,
          117.05586592178771,
          107.49473684210527,
          133.06958250497019,
          122.37213930348258,
          107.29111338100103,
          116.89575645756457,
          127.04242424242425,
          122.15384615384616,
          107.8532423208191,
          113.83219954648526,
          109.64489795918368,
          118.86990950226244,
          102.0632183908046,
          130.6978851963746,
          119.93906420021763,
          85.98698481561821,
          108.2995283018868,
          118.67734553775743,
          103.41696113074205,
          118.14761544284633,
          112.77055449330784,
          93.3015873015873,
          118.21865889212827,
          103.6701680672269,
          116.61015118790496,
          109.45297297297297,
          70.5223880597015,
          115.2016806722689,
          112.60552763819095,
          105.80681818181819,
          119.10280373831776,
          99.73875598086124,
          110.09218436873748,
          117.40767386091127,
          113.15870307167235,
          125.32765151515152,
          113.54171301446051,
          113.13218390804597,
          113.32754010695187,
          116.99109792284867,
          84.53281853281854,
          109.5674778761062,
          114.84032476319351,
          91,
          101.7811320754717,
          103.69330453563715,
          125.06960227272727,
          111.4364012409514,
          104.77622377622377,
          99.2800788954635,
          116.61551433389545,
          115.3048780487805,
          85.72253521126761,
          99.24734042553192,
          109.65350877192982,
          122.26124818577648,
          112.74252275682704,
          124.82078472958642,
          110.26666666666667,
          114.53921568627452,
          116.8125,
          121.68076923076923,
          126.4493580599144,
          116.07994757536042,
          105.33665835411472,
          121.07246376811594,
          101.20108695652173,
          92.27350427350427,
          126.13333333333334,
          115.78617363344051,
          130.33107454017426,
          124.70734229576009,
          128.6422018348624,
          124.85113268608414,
          108.55436081242533,
          107.02518891687657,
          126.8021978021978,
          101.16037735849056,
          79.56973293768546,
          136.08925143953934,
          116.2484076433121,
          96.25085324232082,
          121.96839443742098,
          111.2772667542707,
          127.2561797752809,
          124.07364685004437,
          107.91083521444695,
          130.7249134948097,
          117.54896142433235,
          115.06514084507042,
          181.69747899159663,
          120.20092592592593,
          119.36301369863014,
          110.58643326039387,
          85.85714285714286,
          109.48101265822785,
          100.3135593220339,
          104.46579804560261,
          137.46784922394679,
          107.70157068062828,
          96.31569343065694,
          132.14877102199225,
          121.18287037037037,
          112.94940079893475,
          119.16310160427807,
          109.95505617977528,
          103.73960612691467,
          110.65720524017468,
          127.77626459143968,
          125.3225806451613,
          113.80690537084399,
          86.02816901408451,
          125.50111607142857,
          114.93205944798301,
          123.11534154535275,
          129.9142857142857,
          61.993197278911566,
          125.96248534583822,
          120.8543956043956,
          104.50826446280992,
          136.1753031973539,
          103.63594470046083,
          101.81077694235589,
          123.00118623962041,
          89.37470167064438,
          108.64489795918368,
          119.21627906976744,
          113.68128161888701,
          124.74074074074075,
          132.23180428134557,
          134.38584474885846,
          112.56439393939394,
          112.07657657657657,
          120.37764350453172,
          144.04708290685772,
          102.47536945812809,
          123.44360902255639,
          112.0738255033557,
          119.38100320170757,
          101.48192771084338,
          130.4147121535181,
          130.74846625766872,
          122.48081264108352,
          118.83705650459922,
          99.22624434389141,
          124.16568742655699,
          119.29860228716646,
          118.03076923076924,
          100.38196286472149,
          122.07207207207207,
          118.7969387755102,
          104.64573459715639,
          131.68621399176953,
          127.13924050632912,
          157.58008658008657,
          120.5113808801214,
          103.18245614035088,
          132.92339979013641,
          139.46481665014866,
          126.63915094339623,
          122.33237271853987,
          109.3477508650519,
          125.57506361323155,
          104.02250803858522,
          78.48958333333333,
          130.46296296296296,
          124.81333333333333,
          112.80367231638418,
          118.71851851851852,
          127.1,
          109.43703703703704,
          101.40469973890339,
          137.4746192893401,
          133.6678966789668,
          114.69154228855722,
          127.375,
          140.4764344262295,
          139.81973434535104,
          179.10404624277456,
          129.0737704918033,
          144.8622291021672,
          125.27164685908319,
          69.20744680851064,
          108.29411764705883,
          118.95536791314836,
          105.04330708661418,
          139.78864970645793,
          131.3819628647215,
          139.5730897009967,
          142.07486631016042,
          113.32838283828383,
          117.55723905723906,
          126.20951302378256,
          137.66526610644257,
          132.1046511627907,
          107.58920187793427,
          137.763698630137,
          131.25228758169933,
          115.71646341463415,
          126.08582834331337,
          144.5875,
          132.97560975609755,
          147.34489593657085,
          131.5551330798479,
          123.09344894026975,
          135.35106382978722,
          75.625,
          112.72408536585365,
          122.30492196878751,
          158.99139784946237,
          104.78602620087337,
          145.50055493895672,
          121.43448275862069,
          136.79627906976745,
          131.8985221674877,
          122.98562628336755,
          133.00275862068966,
          141.09868421052633,
          132.13942307692307,
          124.46212121212122,
          135.62097735399286,
          119.14864864864865,
          129.1078629032258,
          135.46864310148231,
          141.6611295681063,
          106.11913357400722,
          123.81893004115226,
          151.9890350877193,
          91.17735849056604,
          100.0349344978166,
          131.12987012987014,
          125.1715374841169,
          103.81837160751566,
          145.5520534861509,
          126.87082405345211,
          142.04848484848486,
          125.37588652482269,
          140.0298353909465,
          139.06054872280038,
          96.75,
          122.35643564356435,
          140.8949843260188,
          131.7316384180791,
          130.75806451612902,
          111.28033472803347,
          127.66767676767677,
          120.51832460732984,
          113.39376218323586,
          141.66729500471254,
          138.34174022698613,
          162.3382519863791,
          124.36867088607595,
          110.20370370370371,
          125.88421052631578,
          119.03153153153153,
          132.8608695652174,
          109,
          132.25,
          140.31944444444446,
          131.9616724738676,
          133.70798569725864,
          134.64791666666667,
          138.0387755102041,
          155.3181818181818,
          151.0173833485819,
          129.42239185750637,
          154.32943676939425,
          140.50344827586207,
          169.26940639269407,
          137.5358592692828,
          122.34928848641655,
          124.73255813953489,
          80.14864864864865,
          142.48666666666668,
          110.23218390804598,
          119.42325227963526,
          129.5712187958884,
          139.88182720953327,
          149.8117770767613,
          155.5323981295925,
          139.50877192982455,
          127.33808553971487,
          154.71428571428572,
          139.88709677419354,
          147.64344262295083,
          125.33284457478005,
          136.96267696267697,
          110.03924646781789,
          142.51564076690212,
          143.63498920086394,
          143.7172342621259,
          128.79296482412062,
          125.73729476153245,
          137.270207852194,
          136.78887070376433,
          118.3289224952741,
          139.27175208581644,
          126.54077253218884,
          137.99194476409667,
          112.8582474226804,
          147.3578947368421,
          145.49411764705883,
          146.25882352941176,
          139.59244917715392,
          141.94731182795698,
          138.77513513513514,
          94.34541984732824,
          106.7485604606526,
          140.05383022774328,
          144.22625698324023,
          123.92307692307692,
          141.93686165273908,
          142.55717255717255,
          138.58194774346794,
          143.40694006309147,
          140.79365079365078,
          136.98473282442748,
          123.34296028880867,
          131.31,
          125.69494290375204,
          135.0108695652174,
          149.52304797742238,
          138.70687237026647,
          132.14634146341464,
          149.90160427807487,
          132.73859315589354,
          150.0711252653928,
          145.0592485549133,
          148.52750491159136,
          153.52205882352942,
          148.57142857142858,
          138.45438898450948,
          92.89137380191693,
          147.5772200772201,
          103.07126948775056,
          149.16772823779192,
          143.92920353982302,
          109.59910913140311,
          139.5953815261044,
          150.32292682926828,
          94.90102389078498,
          123.6636438582028,
          143.64181994191674,
          82.10691823899371,
          142.4401650618982,
          116.31172069825436,
          137.9128160418483,
          152.17146433041302,
          153.5796460176991,
          143.10127931769722,
          141.82561894510226,
          106.0028328611898,
          117.14461538461538,
          135.2219140083218,
          151.85026737967914,
          138.76692913385827,
          110.313769751693,
          145.758231420508,
          109.81198003327788,
          125.7784090909091,
          136.3932584269663,
          136.56781609195403,
          124.36470588235294,
          134.31041890440386,
          154.99556541019956,
          141.4890965732087,
          93.97882736156352,
          93.93768545994065,
          135.30805687203792,
          133.66436464088397,
          153.73047304730474,
          145.37751004016064,
          215.628125,
          100.3,
          148.86610878661088,
          102.30844155844156,
          138.36388888888888,
          122.271484375,
          87.51351351351352,
          95.70347003154573,
          255,
          121.76923076923077,
          89.12903225806451
         ],
         "xaxis": "x",
         "yaxis": "y"
        }
       ],
       "layout": {
        "barmode": "relative",
        "legend": {
         "title": {
          "text": "variable"
         },
         "tracegroupgap": 0
        },
        "template": {
         "data": {
          "bar": [
           {
            "error_x": {
             "color": "#2a3f5f"
            },
            "error_y": {
             "color": "#2a3f5f"
            },
            "marker": {
             "line": {
              "color": "#E5ECF6",
              "width": 0.5
             },
             "pattern": {
              "fillmode": "overlay",
              "size": 10,
              "solidity": 0.2
             }
            },
            "type": "bar"
           }
          ],
          "barpolar": [
           {
            "marker": {
             "line": {
              "color": "#E5ECF6",
              "width": 0.5
             },
             "pattern": {
              "fillmode": "overlay",
              "size": 10,
              "solidity": 0.2
             }
            },
            "type": "barpolar"
           }
          ],
          "carpet": [
           {
            "aaxis": {
             "endlinecolor": "#2a3f5f",
             "gridcolor": "white",
             "linecolor": "white",
             "minorgridcolor": "white",
             "startlinecolor": "#2a3f5f"
            },
            "baxis": {
             "endlinecolor": "#2a3f5f",
             "gridcolor": "white",
             "linecolor": "white",
             "minorgridcolor": "white",
             "startlinecolor": "#2a3f5f"
            },
            "type": "carpet"
           }
          ],
          "choropleth": [
           {
            "colorbar": {
             "outlinewidth": 0,
             "ticks": ""
            },
            "type": "choropleth"
           }
          ],
          "contour": [
           {
            "colorbar": {
             "outlinewidth": 0,
             "ticks": ""
            },
            "colorscale": [
             [
              0,
              "#0d0887"
             ],
             [
              0.1111111111111111,
              "#46039f"
             ],
             [
              0.2222222222222222,
              "#7201a8"
             ],
             [
              0.3333333333333333,
              "#9c179e"
             ],
             [
              0.4444444444444444,
              "#bd3786"
             ],
             [
              0.5555555555555556,
              "#d8576b"
             ],
             [
              0.6666666666666666,
              "#ed7953"
             ],
             [
              0.7777777777777778,
              "#fb9f3a"
             ],
             [
              0.8888888888888888,
              "#fdca26"
             ],
             [
              1,
              "#f0f921"
             ]
            ],
            "type": "contour"
           }
          ],
          "contourcarpet": [
           {
            "colorbar": {
             "outlinewidth": 0,
             "ticks": ""
            },
            "type": "contourcarpet"
           }
          ],
          "heatmap": [
           {
            "colorbar": {
             "outlinewidth": 0,
             "ticks": ""
            },
            "colorscale": [
             [
              0,
              "#0d0887"
             ],
             [
              0.1111111111111111,
              "#46039f"
             ],
             [
              0.2222222222222222,
              "#7201a8"
             ],
             [
              0.3333333333333333,
              "#9c179e"
             ],
             [
              0.4444444444444444,
              "#bd3786"
             ],
             [
              0.5555555555555556,
              "#d8576b"
             ],
             [
              0.6666666666666666,
              "#ed7953"
             ],
             [
              0.7777777777777778,
              "#fb9f3a"
             ],
             [
              0.8888888888888888,
              "#fdca26"
             ],
             [
              1,
              "#f0f921"
             ]
            ],
            "type": "heatmap"
           }
          ],
          "heatmapgl": [
           {
            "colorbar": {
             "outlinewidth": 0,
             "ticks": ""
            },
            "colorscale": [
             [
              0,
              "#0d0887"
             ],
             [
              0.1111111111111111,
              "#46039f"
             ],
             [
              0.2222222222222222,
              "#7201a8"
             ],
             [
              0.3333333333333333,
              "#9c179e"
             ],
             [
              0.4444444444444444,
              "#bd3786"
             ],
             [
              0.5555555555555556,
              "#d8576b"
             ],
             [
              0.6666666666666666,
              "#ed7953"
             ],
             [
              0.7777777777777778,
              "#fb9f3a"
             ],
             [
              0.8888888888888888,
              "#fdca26"
             ],
             [
              1,
              "#f0f921"
             ]
            ],
            "type": "heatmapgl"
           }
          ],
          "histogram": [
           {
            "marker": {
             "pattern": {
              "fillmode": "overlay",
              "size": 10,
              "solidity": 0.2
             }
            },
            "type": "histogram"
           }
          ],
          "histogram2d": [
           {
            "colorbar": {
             "outlinewidth": 0,
             "ticks": ""
            },
            "colorscale": [
             [
              0,
              "#0d0887"
             ],
             [
              0.1111111111111111,
              "#46039f"
             ],
             [
              0.2222222222222222,
              "#7201a8"
             ],
             [
              0.3333333333333333,
              "#9c179e"
             ],
             [
              0.4444444444444444,
              "#bd3786"
             ],
             [
              0.5555555555555556,
              "#d8576b"
             ],
             [
              0.6666666666666666,
              "#ed7953"
             ],
             [
              0.7777777777777778,
              "#fb9f3a"
             ],
             [
              0.8888888888888888,
              "#fdca26"
             ],
             [
              1,
              "#f0f921"
             ]
            ],
            "type": "histogram2d"
           }
          ],
          "histogram2dcontour": [
           {
            "colorbar": {
             "outlinewidth": 0,
             "ticks": ""
            },
            "colorscale": [
             [
              0,
              "#0d0887"
             ],
             [
              0.1111111111111111,
              "#46039f"
             ],
             [
              0.2222222222222222,
              "#7201a8"
             ],
             [
              0.3333333333333333,
              "#9c179e"
             ],
             [
              0.4444444444444444,
              "#bd3786"
             ],
             [
              0.5555555555555556,
              "#d8576b"
             ],
             [
              0.6666666666666666,
              "#ed7953"
             ],
             [
              0.7777777777777778,
              "#fb9f3a"
             ],
             [
              0.8888888888888888,
              "#fdca26"
             ],
             [
              1,
              "#f0f921"
             ]
            ],
            "type": "histogram2dcontour"
           }
          ],
          "mesh3d": [
           {
            "colorbar": {
             "outlinewidth": 0,
             "ticks": ""
            },
            "type": "mesh3d"
           }
          ],
          "parcoords": [
           {
            "line": {
             "colorbar": {
              "outlinewidth": 0,
              "ticks": ""
             }
            },
            "type": "parcoords"
           }
          ],
          "pie": [
           {
            "automargin": true,
            "type": "pie"
           }
          ],
          "scatter": [
           {
            "fillpattern": {
             "fillmode": "overlay",
             "size": 10,
             "solidity": 0.2
            },
            "type": "scatter"
           }
          ],
          "scatter3d": [
           {
            "line": {
             "colorbar": {
              "outlinewidth": 0,
              "ticks": ""
             }
            },
            "marker": {
             "colorbar": {
              "outlinewidth": 0,
              "ticks": ""
             }
            },
            "type": "scatter3d"
           }
          ],
          "scattercarpet": [
           {
            "marker": {
             "colorbar": {
              "outlinewidth": 0,
              "ticks": ""
             }
            },
            "type": "scattercarpet"
           }
          ],
          "scattergeo": [
           {
            "marker": {
             "colorbar": {
              "outlinewidth": 0,
              "ticks": ""
             }
            },
            "type": "scattergeo"
           }
          ],
          "scattergl": [
           {
            "marker": {
             "colorbar": {
              "outlinewidth": 0,
              "ticks": ""
             }
            },
            "type": "scattergl"
           }
          ],
          "scattermapbox": [
           {
            "marker": {
             "colorbar": {
              "outlinewidth": 0,
              "ticks": ""
             }
            },
            "type": "scattermapbox"
           }
          ],
          "scatterpolar": [
           {
            "marker": {
             "colorbar": {
              "outlinewidth": 0,
              "ticks": ""
             }
            },
            "type": "scatterpolar"
           }
          ],
          "scatterpolargl": [
           {
            "marker": {
             "colorbar": {
              "outlinewidth": 0,
              "ticks": ""
             }
            },
            "type": "scatterpolargl"
           }
          ],
          "scatterternary": [
           {
            "marker": {
             "colorbar": {
              "outlinewidth": 0,
              "ticks": ""
             }
            },
            "type": "scatterternary"
           }
          ],
          "surface": [
           {
            "colorbar": {
             "outlinewidth": 0,
             "ticks": ""
            },
            "colorscale": [
             [
              0,
              "#0d0887"
             ],
             [
              0.1111111111111111,
              "#46039f"
             ],
             [
              0.2222222222222222,
              "#7201a8"
             ],
             [
              0.3333333333333333,
              "#9c179e"
             ],
             [
              0.4444444444444444,
              "#bd3786"
             ],
             [
              0.5555555555555556,
              "#d8576b"
             ],
             [
              0.6666666666666666,
              "#ed7953"
             ],
             [
              0.7777777777777778,
              "#fb9f3a"
             ],
             [
              0.8888888888888888,
              "#fdca26"
             ],
             [
              1,
              "#f0f921"
             ]
            ],
            "type": "surface"
           }
          ],
          "table": [
           {
            "cells": {
             "fill": {
              "color": "#EBF0F8"
             },
             "line": {
              "color": "white"
             }
            },
            "header": {
             "fill": {
              "color": "#C8D4E3"
             },
             "line": {
              "color": "white"
             }
            },
            "type": "table"
           }
          ]
         },
         "layout": {
          "annotationdefaults": {
           "arrowcolor": "#2a3f5f",
           "arrowhead": 0,
           "arrowwidth": 1
          },
          "autotypenumbers": "strict",
          "coloraxis": {
           "colorbar": {
            "outlinewidth": 0,
            "ticks": ""
           }
          },
          "colorscale": {
           "diverging": [
            [
             0,
             "#8e0152"
            ],
            [
             0.1,
             "#c51b7d"
            ],
            [
             0.2,
             "#de77ae"
            ],
            [
             0.3,
             "#f1b6da"
            ],
            [
             0.4,
             "#fde0ef"
            ],
            [
             0.5,
             "#f7f7f7"
            ],
            [
             0.6,
             "#e6f5d0"
            ],
            [
             0.7,
             "#b8e186"
            ],
            [
             0.8,
             "#7fbc41"
            ],
            [
             0.9,
             "#4d9221"
            ],
            [
             1,
             "#276419"
            ]
           ],
           "sequential": [
            [
             0,
             "#0d0887"
            ],
            [
             0.1111111111111111,
             "#46039f"
            ],
            [
             0.2222222222222222,
             "#7201a8"
            ],
            [
             0.3333333333333333,
             "#9c179e"
            ],
            [
             0.4444444444444444,
             "#bd3786"
            ],
            [
             0.5555555555555556,
             "#d8576b"
            ],
            [
             0.6666666666666666,
             "#ed7953"
            ],
            [
             0.7777777777777778,
             "#fb9f3a"
            ],
            [
             0.8888888888888888,
             "#fdca26"
            ],
            [
             1,
             "#f0f921"
            ]
           ],
           "sequentialminus": [
            [
             0,
             "#0d0887"
            ],
            [
             0.1111111111111111,
             "#46039f"
            ],
            [
             0.2222222222222222,
             "#7201a8"
            ],
            [
             0.3333333333333333,
             "#9c179e"
            ],
            [
             0.4444444444444444,
             "#bd3786"
            ],
            [
             0.5555555555555556,
             "#d8576b"
            ],
            [
             0.6666666666666666,
             "#ed7953"
            ],
            [
             0.7777777777777778,
             "#fb9f3a"
            ],
            [
             0.8888888888888888,
             "#fdca26"
            ],
            [
             1,
             "#f0f921"
            ]
           ]
          },
          "colorway": [
           "#636efa",
           "#EF553B",
           "#00cc96",
           "#ab63fa",
           "#FFA15A",
           "#19d3f3",
           "#FF6692",
           "#B6E880",
           "#FF97FF",
           "#FECB52"
          ],
          "font": {
           "color": "#2a3f5f"
          },
          "geo": {
           "bgcolor": "white",
           "lakecolor": "white",
           "landcolor": "#E5ECF6",
           "showlakes": true,
           "showland": true,
           "subunitcolor": "white"
          },
          "hoverlabel": {
           "align": "left"
          },
          "hovermode": "closest",
          "mapbox": {
           "style": "light"
          },
          "paper_bgcolor": "white",
          "plot_bgcolor": "#E5ECF6",
          "polar": {
           "angularaxis": {
            "gridcolor": "white",
            "linecolor": "white",
            "ticks": ""
           },
           "bgcolor": "#E5ECF6",
           "radialaxis": {
            "gridcolor": "white",
            "linecolor": "white",
            "ticks": ""
           }
          },
          "scene": {
           "xaxis": {
            "backgroundcolor": "#E5ECF6",
            "gridcolor": "white",
            "gridwidth": 2,
            "linecolor": "white",
            "showbackground": true,
            "ticks": "",
            "zerolinecolor": "white"
           },
           "yaxis": {
            "backgroundcolor": "#E5ECF6",
            "gridcolor": "white",
            "gridwidth": 2,
            "linecolor": "white",
            "showbackground": true,
            "ticks": "",
            "zerolinecolor": "white"
           },
           "zaxis": {
            "backgroundcolor": "#E5ECF6",
            "gridcolor": "white",
            "gridwidth": 2,
            "linecolor": "white",
            "showbackground": true,
            "ticks": "",
            "zerolinecolor": "white"
           }
          },
          "shapedefaults": {
           "line": {
            "color": "#2a3f5f"
           }
          },
          "ternary": {
           "aaxis": {
            "gridcolor": "white",
            "linecolor": "white",
            "ticks": ""
           },
           "baxis": {
            "gridcolor": "white",
            "linecolor": "white",
            "ticks": ""
           },
           "bgcolor": "#E5ECF6",
           "caxis": {
            "gridcolor": "white",
            "linecolor": "white",
            "ticks": ""
           }
          },
          "title": {
           "x": 0.05
          },
          "xaxis": {
           "automargin": true,
           "gridcolor": "white",
           "linecolor": "white",
           "ticks": "",
           "title": {
            "standoff": 15
           },
           "zerolinecolor": "white",
           "zerolinewidth": 2
          },
          "yaxis": {
           "automargin": true,
           "gridcolor": "white",
           "linecolor": "white",
           "ticks": "",
           "title": {
            "standoff": 15
           },
           "zerolinecolor": "white",
           "zerolinewidth": 2
          }
         }
        },
        "title": {
         "text": "nucleus_ki67_avg_int_in_CA"
        },
        "xaxis": {
         "anchor": "y",
         "domain": [
          0,
          1
         ],
         "range": [
          0,
          255
         ],
         "title": {
          "text": "nucleus_ki67_avg_int"
         }
        },
        "yaxis": {
         "anchor": "x",
         "domain": [
          0,
          1
         ],
         "title": {
          "text": "count"
         }
        }
       }
      }
     },
     "metadata": {},
     "output_type": "display_data"
    },
    {
     "data": {
      "application/vnd.plotly.v1+json": {
       "config": {
        "plotlyServerURL": "https://plot.ly"
       },
       "data": [
        {
         "alignmentgroup": "True",
         "bingroup": "x",
         "hovertemplate": "variable=nucleus_ki67_avg_int<br>nucleus_ki67_avg_int=%{x}<br>count=%{y}<extra></extra>",
         "legendgroup": "nucleus_ki67_avg_int",
         "marker": {
          "color": "#636efa",
          "pattern": {
           "shape": ""
          }
         },
         "name": "nucleus_ki67_avg_int",
         "nbinsx": 256,
         "offsetgroup": "nucleus_ki67_avg_int",
         "orientation": "v",
         "showlegend": true,
         "type": "histogram",
         "x": [
          131.26910299003322,
          118.75077881619937,
          122.56204379562044,
          90.27070707070708,
          132.00588235294117,
          120.09531013615734,
          109.34375,
          124.22955974842768,
          249.96923076923076,
          131.65124555160142,
          134.33986928104576,
          93.56140350877193,
          135.01174168297456,
          125.52798507462687,
          91.62406015037594,
          96.35249042145594,
          121.15963855421687,
          118.99032258064516,
          120.99193548387096,
          80.54375,
          98.08823529411765,
          114.33983739837399,
          124.8232484076433,
          137.85917721518987,
          105.71822033898304,
          126.56927710843374,
          114.36952714535902,
          128.3846153846154,
          108.72521246458923,
          229.29710144927537,
          107.44600938967136,
          85.97380952380952,
          99.54739336492891,
          120.4201680672269,
          118.85757575757576,
          125.19834710743801,
          162.6993670886076,
          100.90026954177898,
          116.9809885931559,
          172.0568720379147,
          108.49372384937239,
          113.6,
          124.25354609929079,
          100.43544303797468,
          134.6147186147186,
          131.32615384615386,
          85.3568281938326,
          128.19829424307036,
          113.02325581395348,
          100.79783393501805,
          116.5539358600583,
          133.80672268907563,
          99.9234693877551,
          124.341796875,
          142.23661971830987,
          91.90487804878049,
          253.35632183908046,
          112.43877551020408,
          122.03413654618474,
          107.40533980582525,
          133.50502512562815,
          252.63690476190476,
          126.08064516129032,
          134.5091463414634,
          121,
          136.828125,
          118.8961038961039,
          106.60536398467433,
          109.60509554140127,
          117.69294605809128,
          124.51554828150573,
          145.4900497512438,
          130.44801512287336,
          115.47058823529412,
          132.7016393442623,
          116.66666666666667,
          130.6695652173913,
          105.56306306306307,
          141.07083333333333,
          107.09907120743034,
          103.4934497816594,
          115.90196078431373,
          113.27642276422765,
          130.31384615384616,
          130.14827586206897,
          120.24431818181819,
          103.80225988700565,
          121.96428571428571,
          136.47638603696097,
          110.64,
          170.39271255060729,
          140.57608695652175,
          93.90962099125365,
          91.41350210970464,
          138.1340782122905,
          117.68503937007874,
          117.43877551020408,
          234.859649122807,
          93.51724137931035,
          127.51810584958217,
          91.07056451612904,
          125.06280193236715,
          136.74324324324326,
          85.86046511627907,
          114.31428571428572,
          135.8733850129199,
          110.07829181494662,
          123.81642512077295,
          143.30769230769232,
          89.48466257668711,
          107.10051546391753,
          241.8186046511628,
          125.42553191489361,
          131.71813725490196,
          128.5859872611465,
          145.0653594771242,
          99.8092105263158,
          108.2870090634441,
          123.74174174174175,
          131.76333333333332,
          124.841796875,
          133.90049751243782,
          122.8780487804878,
          115.18640350877193,
          120.65758754863813,
          130.30748663101605,
          133.69859813084113,
          106.99712643678161,
          130.06463878326997,
          117.09830508474576,
          140.6086956521739,
          136.90513833992094,
          124.70637119113573,
          122.83458646616542,
          129.25316455696202,
          128.17287234042553,
          158.33125,
          119.71554252199414,
          96.5631067961165,
          137.92348284960423,
          95.04332129963899,
          137.29375,
          132.56521739130434,
          122.88888888888889,
          78.77946768060836,
          133.32748538011697,
          130.68058076225046,
          113.20218579234972,
          111.90849673202614,
          121.4220623501199,
          144.1283185840708,
          121.73293768545994,
          128.42857142857142,
          115.62228260869566,
          102.80555555555556,
          155.21809744779583,
          138.99386503067484,
          130.29056603773586,
          116.28624535315986,
          253.84592145015105,
          115.41207349081365,
          103.75102040816327,
          111.75919732441471,
          99.0548780487805,
          144.02866242038218,
          119.06535947712419,
          129.798755186722,
          68.52127659574468,
          137.609243697479,
          132.17782909930716,
          253.00900900900902,
          100.31904761904762,
          114.74285714285715,
          145.92738589211618,
          119.99483204134367,
          156.66037735849056,
          117.75,
          122.00980392156863,
          139.44773790951638,
          141.74525745257452,
          93.52212389380531,
          85.58947368421053,
          114.60559796437659,
          224.09465020576133,
          87.24242424242425,
          195.14537444933922,
          132.47272727272727,
          254.76348547717842,
          130.50943396226415,
          128.5672514619883,
          130.54219948849104,
          142.9928057553957,
          165.93950177935943,
          121.87745098039215,
          107.65753424657534,
          114.58513931888545,
          99.47161572052401,
          131.9,
          122.0836820083682,
          106.8258064516129,
          117.44039735099338,
          141.16140350877194,
          125.81777777777778,
          106.87931034482759,
          116.41258741258741,
          106.61960784313726,
          128.53271028037383,
          94.32156862745099,
          115.01307189542484,
          127.58356940509915,
          135.75400291120815,
          105.61048689138576,
          147.2967032967033,
          103.64583333333333,
          140.98518518518517,
          137.42345276872965,
          130.2159090909091,
          109.2089552238806,
          138.52564102564102,
          139.55833333333334,
          129.04098360655738,
          117.82286995515695,
          149.63291139240508,
          108,
          116.4342105263158,
          254.97910447761194,
          139.32663316582915,
          143.9417808219178,
          204.1642857142857,
          109.06916426512969,
          117.12826086956522,
          100.89024390243902,
          91.47411444141689,
          185.30827067669173,
          118.57692307692308,
          131.8038740920097,
          98.41269841269842,
          132.19463087248323,
          137.05555555555554,
          170.44985673352434,
          179.12609970674487,
          101.55352480417754,
          133.6822429906542,
          129.1032863849765,
          137.8469387755102,
          128.04301075268816,
          116.64878892733564,
          132.75849056603772,
          104.02770780856423,
          128.14869888475837,
          147.0779569892473,
          118.87640449438203,
          134.47164948453607,
          145.23901098901098,
          128.23123123123122,
          124.29523809523809,
          121.5219123505976,
          122.6039119804401,
          127.12040133779264,
          104.4451219512195,
          121.47402597402598,
          163.9544235924933,
          125.1571906354515,
          119.99662162162163,
          126.68396226415095,
          133.4592145015106,
          135.7741935483871,
          134.79518072289156,
          125.3344262295082,
          137.35335689045937,
          170.99013157894737,
          137.1478260869565,
          223.4625,
          122.68316831683168,
          233.96350364963504,
          97.4401913875598,
          159.0978886756238,
          103.56491228070175,
          101.10659898477158,
          153.52777777777777,
          132.37412587412587,
          125.78796561604585,
          137.7392120075047,
          113.05764411027569,
          175.02208201892745,
          227.44375,
          130.2004608294931,
          129.69379844961242,
          139.43823529411765,
          130.57866184448463,
          137.4775,
          126.20856610800745,
          114.16,
          118.39776951672863,
          73.04975124378109,
          114.7909090909091,
          146.1093117408907,
          134.7970479704797,
          97.9723076923077,
          177.48627450980393,
          89.653125,
          184.94252873563218,
          90.99212598425197,
          144.7216216216216,
          151.32518337408314,
          124.85576923076923,
          127.32876712328768,
          144.25432098765432,
          123.15032679738562,
          115.72649572649573,
          81.671875,
          106.10725552050474,
          221.956,
          129.83842794759826,
          133.9544513457557,
          130.41860465116278,
          126.51776649746193,
          125.6256830601093,
          146.4390243902439,
          131.58445040214477,
          103.8076923076923,
          182.16666666666666,
          99.04697986577182,
          163,
          231.9937888198758,
          117.81818181818181,
          140.78028169014084,
          129.15532286212914,
          230.93023255813952,
          169.87892376681614,
          83.35087719298245,
          97.29824561403508,
          156.4041095890411,
          73.1103896103896,
          89.18836565096953,
          130.8512396694215,
          121.28115942028985,
          89.86861313868613,
          229.79545454545453,
          128.29714285714286,
          142.22527472527472,
          112.14960629921259,
          86.38009049773756,
          164.05164319248826,
          140.4139941690962,
          107.77926421404682,
          133.33753943217667,
          94.60835509138381,
          122.10666666666667,
          145,
          112.7304347826087,
          124.8639455782313,
          116.91554054054055,
          103.65480427046263,
          137.73835125448028,
          119.78904109589041,
          135.2625,
          182.565625,
          125.34671532846716,
          134.74125874125875,
          102.88135593220339,
          87.6842105263158,
          125.32222222222222,
          117.90393013100437,
          115.61138211382114,
          119.01263537906136,
          142.66917293233084,
          134.85792349726776,
          119.94654088050315,
          130.6242774566474,
          125.49740932642487,
          124.14329268292683,
          139.26845637583892,
          98.65529010238907,
          144.18153846153845,
          135.5593220338983,
          123.24571428571429,
          98.97093023255815,
          131.40932642487047,
          143.66666666666666,
          87.86092715231788,
          112.09055118110236,
          119.60264900662251,
          76.7124183006536,
          139.26988636363637,
          110.09004739336493,
          110.70093457943925,
          133.13333333333333,
          139.26599326599327,
          132.484126984127,
          121.73818181818181,
          105.53,
          197.84816753926702,
          123.90993788819875,
          143.3102453102453,
          150.99714285714285,
          135.00566037735848,
          71.41558441558442,
          118.73295454545455,
          118.20273348519362,
          123.1981981981982,
          128.1904761904762,
          133.8186813186813,
          113.68229166666667,
          111.70603674540682,
          158.1315789473684,
          138.32045454545454,
          135.01980198019803,
          134.79607843137254,
          110.93951612903226,
          137.21134020618555,
          142.425,
          120.44674556213018,
          89.52479338842976,
          113.66931216931216,
          147.30188679245282,
          105.82692307692308,
          109.83333333333333,
          62.29090909090909,
          141.27506426735218,
          124.90201729106629,
          221.97106109324758,
          86.19587628865979,
          252.46768060836501,
          104.10472972972973,
          132.1515748031496,
          134.21691973969632,
          109.34080717488789,
          128.8032345013477,
          127.03012048192771,
          130.16857142857143,
          113.47277227722772,
          250.2688679245283,
          130.13684210526316,
          111.2107438016529,
          117.70460704607046,
          131.47417840375587,
          105.91082802547771,
          149.67624521072796,
          112.03380281690141,
          108.9423076923077,
          72.17424242424242,
          123.54347826086956,
          107.56089743589743,
          92.576,
          100.40064102564102,
          118.85714285714286,
          143.5055679287305,
          122.76344086021506,
          107.48675496688742,
          95.97931034482758,
          98.35866261398176,
          124.62083333333334,
          129.85897435897436,
          135.05555555555554,
          150.5445292620865,
          127.96213425129088,
          108.64541832669323,
          122.12237762237763,
          120.89073634204276,
          113.42490842490842,
          195.5796178343949,
          204.04651162790697,
          124.81497797356828,
          126.28358208955224,
          120.47084233261339,
          87.02240896358543,
          128.459940652819,
          75.32022471910112,
          98.56632653061224,
          146.88636363636363,
          142.42307692307693,
          110.9420731707317,
          173.5185185185185,
          98.16020671834626,
          100.80508474576271,
          175.20980392156864,
          143.58629441624365,
          120.19675456389453,
          111.39090909090909,
          133.39591078066914,
          123.8,
          165.6390243902439,
          108.77911646586345,
          130.71428571428572,
          122.7532894736842,
          120.26739926739927,
          123.82170542635659,
          125.88849557522124,
          179.79508196721312,
          129.1157894736842,
          130.02949061662198,
          86.31807780320366,
          85.49677419354839,
          123.57244655581948,
          92.1118881118881,
          122.84313725490196,
          146.22610722610722,
          106.0880829015544,
          145.5752427184466,
          119.79828326180258,
          111.9581881533101,
          108.16216216216216,
          128.8791469194313,
          128.82396088019559,
          102.21052631578948,
          106.20790378006873,
          105.63305322128852,
          231.11155378486055,
          120.59389671361502,
          130.5843373493976,
          144.6943820224719,
          199,
          142.5438596491228,
          106.20869565217392,
          126.19540229885058,
          117.13373860182371,
          136.74328859060404,
          91.46447140381282,
          127.99009900990099,
          127.25965665236052,
          205.39285714285714,
          120.18461538461538,
          138.2982456140351,
          113.55992141453831,
          108.9208211143695,
          120.4136546184739,
          116.18844984802432,
          73.16627634660422,
          161.09339407744875,
          112.9463986599665,
          105.38461538461539,
          254.54603174603176,
          98.61377245508982,
          107.92612612612612,
          124.31407942238268,
          83.3854748603352,
          108.9090909090909,
          116.11627906976744,
          128.14341085271317,
          83.38214285714285,
          114.19166666666666,
          116.95670995670996,
          111.89460154241645,
          133.8629550321199,
          90.37391304347825,
          151.4969818913481,
          122.73045822102426,
          130.83847980997623,
          139.91923990498813,
          124.71204188481676,
          124.86538461538461,
          113.18320610687023,
          84.56370656370656,
          94.36666666666666,
          127.57674418604651,
          117.28571428571429,
          122.74038461538461,
          130.41453831041258,
          107.77873563218391,
          112.64942528735632,
          92.25903614457832,
          109.35820895522389,
          78.27160493827161,
          128.98639455782313,
          136.04268292682926,
          123.01327433628319,
          142.601593625498,
          108.87179487179488,
          88.37991266375546,
          120.5551948051948,
          129.83039348710992,
          108.51391862955032,
          113.48223350253807,
          61.72697368421053,
          85.32701421800948,
          111.20100502512562,
          102.99585062240664,
          108.14626865671642,
          113.3646408839779,
          165.69127516778522,
          118.16742081447964,
          119.61952861952862,
          109.15968063872255,
          131.0267558528428,
          187.38162544169612,
          120.85860655737704,
          106.87782805429865,
          106.8125,
          117.09480812641084,
          77.55425219941348,
          107.44988344988344,
          107.69589041095891,
          132.90413533834587,
          81.13274336283186,
          61.21666666666667,
          104.02267573696145,
          152.5506329113924,
          108.42248062015504,
          103.29545454545455,
          214.07755102040815,
          183.50359712230215,
          104.2609819121447,
          94.59281437125749,
          96.79752066115702,
          110.3711111111111,
          73.74782608695652,
          79.8626198083067,
          108.24929971988796,
          106.17307692307692,
          88.90936555891238,
          92.81272084805654,
          102.40183486238531,
          96.34069400630915,
          100.8302752293578,
          102.26127819548873,
          111.75925925925925,
          92.95061728395062,
          89.57142857142857,
          103.25235109717869,
          105.36065573770492,
          90.63235294117646,
          107.38819875776397,
          118.63095238095238,
          64.57534246575342,
          100.55016181229773,
          96.44772727272728,
          97.26351351351352,
          100.55756578947368,
          102.73076923076923,
          80.00666666666666,
          113.27480916030534,
          71.54347826086956,
          96.3768115942029,
          250.29128440366972,
          102.30133333333333,
          98.86759581881533,
          99.46728971962617,
          120.17252396166134,
          95.44128113879003,
          90.80536912751678,
          103.08133971291866,
          112.18093385214007,
          135.14705882352942,
          113.87755102040816,
          104.73563218390805,
          106.71836734693878,
          101.37959183673469,
          120.34697508896797,
          76.77049180327869,
          97.11065573770492,
          100.20109689213893,
          108.35240274599542,
          123.239608801956,
          94.66334661354581,
          68.38709677419355,
          90.4,
          103.4878892733564,
          127.69082125603865,
          102.06230529595015,
          114.18546845124283,
          123.71165644171779,
          100.56850393700788,
          114.36950146627566,
          134.63906581740977,
          102.30051813471502,
          112.1,
          131.50246913580247,
          135.43,
          129.9631067961165,
          99.64080459770115,
          114.99570815450643,
          100.18775510204081,
          82.42708333333333,
          94.97727272727273,
          111.03157894736842,
          100.92265193370166,
          138.59774436090225,
          95.12962962962963,
          125.9595015576324,
          126.53562005277045,
          101.52348993288591,
          120.43494423791822,
          97.4391891891892,
          120.01766784452296,
          119.32,
          128.15241635687732,
          117.70270270270271,
          107.9308943089431,
          104.07368421052631,
          115.46153846153847,
          113.67924528301887,
          112.98637602179836,
          230.37275985663084,
          101.30443974630022,
          127.82352941176471,
          186.8673469387755,
          96.59367396593674,
          108.34124629080118,
          111.12251655629139,
          99.65945945945946,
          105.91379310344827,
          164.80645161290323,
          102.76795580110497,
          212.42512077294685,
          105.4235294117647,
          90.53571428571429,
          119.84838709677419,
          105.47775175644028,
          83.85806451612903,
          122.24884792626727,
          102.3529411764706,
          127.41812865497076,
          167.2899022801303,
          146.16195856873824,
          112.36879432624113,
          147.15548780487805,
          133.23495145631068,
          143.7269624573379,
          227.7025,
          90.17505030181087,
          115.51440329218107,
          170.1996086105675,
          103.53525641025641,
          97.10743801652893,
          116.54545454545455,
          83.59832635983264,
          96.1716738197425,
          151.4516129032258,
          125.81052631578947,
          113.48633879781421,
          88.59839357429719,
          152.9639889196676,
          69.42391304347827,
          154.93823529411765,
          122.60576923076923,
          107.06976744186046,
          154.37446808510637,
          93.80666666666667,
          123.68585131894484,
          114.51132686084142,
          124.35240963855422,
          117.27170868347339,
          77.84982935153583,
          127.1370786516854,
          110.5326530612245,
          129.96055226824458,
          115.78964401294499,
          121.54744525547446,
          104.94082840236686,
          136.9,
          128.8088578088578,
          90.06516290726817,
          116.14071856287426,
          108.818401937046,
          136.22941176470587,
          108.23684210526316,
          138.51937984496124,
          112.18649517684888,
          109.0383631713555,
          153.7030303030303,
          116.11282051282052,
          111.77251184834124,
          94.68115942028986,
          124.16077170418006,
          251.21236559139786,
          123.70332480818415,
          127.26115702479339,
          118.38607594936708,
          114.40425531914893,
          139.01898734177215,
          108.91071428571429,
          121.80758017492711,
          85.78313253012048,
          129.0810810810811,
          113.85754985754986,
          136.23314606741573,
          126.76151761517615,
          182.62926829268292,
          120.56913183279742,
          101.31007751937985,
          105.25433526011561,
          119.99680511182109,
          122.09174311926606,
          135.83333333333334,
          128.35897435897436,
          125.34946236559139,
          94.12234042553192,
          124.11971830985915,
          108.87905604719764,
          116.33214285714286,
          129.7081850533808,
          122.71988795518207,
          110.35913312693498,
          113.79139072847683,
          110.79401993355482,
          120.5,
          130.16157205240174,
          111.712,
          111.5,
          125.75617283950618,
          92.2295918367347,
          140.30396475770925,
          96.19896640826873,
          134.93164933135216,
          123.11458333333333,
          115.16806722689076,
          129.05882352941177,
          82.46052631578948,
          125.4639175257732,
          124.93698630136986,
          147.07220216606498,
          122.29285714285714,
          139.7705479452055,
          145.19444444444446,
          85.88349514563107,
          235.3667820069204,
          142.66004962779155,
          97.11392405063292,
          196.7405857740586,
          132.00232558139535,
          124.11287128712871,
          67.57575757575758,
          83.70731707317073,
          124.92608695652174,
          125.54233870967742,
          131.78571428571428,
          132.94466403162056,
          96.81995133819952,
          103.30593607305936,
          124.59868421052632,
          105.44808743169399,
          123.68929503916449,
          221.11909650924025,
          136.0096153846154,
          108.95904436860069,
          115.13358778625954,
          136.6073619631902,
          176.03252032520325,
          239.14197530864197,
          125.70984455958549,
          112.44680851063829,
          126.66256157635468,
          119.31905465288035,
          139.39703153988867,
          233.06563706563708,
          87.20238095238095,
          129.47619047619048,
          160.83805668016194,
          85.24285714285715,
          102.38167938931298,
          120.38620689655173,
          119.15384615384616,
          116.06006493506493,
          132.76368876080693,
          243.55492957746478,
          121.82857142857142,
          104.88056206088993,
          115.22764227642277,
          137.69633507853402,
          128.62269938650306,
          124.28205128205128,
          119.37899543378995,
          150.32340425531916,
          151.24537037037038,
          113.26409495548961,
          105.86222222222223,
          138.64588528678306,
          102.26208651399492,
          126.07848837209302,
          135.37875288683603,
          116.99339933993399,
          153.80978260869566,
          132.05194805194805,
          208.58441558441558,
          242.68316831683168,
          126.69651741293532,
          128.8846153846154,
          140.7642276422764,
          138.13477537437603,
          121.57839721254355,
          97.17073170731707,
          147.65531914893617,
          130.57372654155495,
          144.54046242774567,
          131.01333333333332,
          126.70460704607046,
          133.7545219638243,
          236.61146496815286,
          98.95402298850574,
          129.50413223140495,
          117.57051282051282,
          119.47785977859779,
          116.42631578947369,
          153.875,
          129.4278846153846,
          144.63047001620745,
          117.92151162790698,
          129.18333333333334,
          247.0608695652174,
          143.7324840764331,
          133.95325203252034,
          226.45182724252493,
          120.05421686746988,
          126.1474358974359,
          127.89265536723164,
          125.23370786516854,
          116.99342105263158,
          122.64893617021276,
          182.45248868778282,
          113.02876106194691,
          155.53125,
          137.36962025316456,
          128.83647798742138,
          115.65306122448979,
          139.6590163934426,
          151.09717314487634,
          130.9,
          115.42739726027398,
          115.59736842105264,
          130.0754039497307,
          151.53153153153153,
          146.16981132075472,
          112.91395348837209,
          115.69026548672566,
          138.12060301507537,
          133.43961352657004,
          71.77450980392157,
          153.49356223175965,
          136.76486486486488,
          177.76900584795322,
          233.53571428571428,
          148.4390243902439,
          109.74484536082474,
          138.80272108843536,
          132.09633027522935,
          141.18120805369128,
          137.85303514376997,
          152.93827160493828,
          150.41739130434783,
          130.6812227074236,
          110.03076923076924,
          150.17532467532467,
          140.37878787878788,
          129.38866396761134,
          119.58823529411765,
          137.46453900709218,
          116.62271062271063,
          165.04152823920265,
          127.32575757575758,
          147.51840490797545,
          118.58958333333334,
          122.70744680851064,
          126.90196078431373,
          133.94498381877023,
          129.3040293040293,
          147.06571428571428,
          136.7643504531722,
          124.10461538461539,
          137.5301724137931,
          130.68571428571428,
          120.68131868131869,
          135.82965931863728,
          144.74056603773585,
          130.6386554621849,
          107.70270270270271,
          145.3255033557047,
          131.55376344086022,
          96.63523573200993,
          114.87403598971723,
          176.52747252747253,
          104.88311688311688,
          145.85443037974684,
          151.24347826086955,
          124.31645569620254,
          129.73076923076923,
          128.15068493150685,
          136.95,
          126.28571428571429,
          138.83756345177665,
          132.53041362530413,
          138.19815668202764,
          108.51554404145078,
          148.91829484902308,
          139.17253521126761,
          122.95306859205776,
          113.16304347826087,
          130.11020408163265,
          142.29330708661416,
          100.375,
          132.9612676056338,
          203.56716417910448,
          129.04615384615386,
          127.79540709812109,
          123.35102040816327,
          219.4607843137255,
          247.6886446886447,
          227.91712707182322,
          131.8578431372549,
          127.36942675159236,
          140.859437751004,
          118.0131926121372,
          134.76793248945148,
          222.5090909090909,
          130.55479452054794,
          130.4508670520231,
          142.3483870967742,
          133.328125,
          124.87951807228916,
          135.33584905660376,
          124.4753086419753,
          139.88636363636363,
          140.04215456674473,
          102.73144104803494,
          139.98706896551724,
          114.9021164021164,
          130.016,
          134.79862700228833,
          118.46367521367522,
          138.10645161290321,
          221.80851063829786,
          89.4809885931559,
          158.0831234256927,
          136.49101796407186,
          133.31610337972168,
          149.32222222222222,
          131.94845360824743,
          130.5503144654088,
          105.02247191011236,
          127.56330749354005,
          130.56672443674177,
          127.95904436860069,
          137.78899082568807,
          100.0690909090909,
          107.15463917525773,
          155.71304347826086,
          110.69756097560976,
          154.4063492063492,
          148.9941060903733,
          153.12987012987014,
          146.8668171557562,
          132.12031558185404,
          139.16974169741698,
          196.76758409785933,
          117.44392523364486,
          142.24593128390597,
          110.2929061784897,
          150.4858757062147,
          192.5,
          130.74539877300614,
          103.65357967667437,
          137.14177215189872,
          100.73170731707317,
          125.54285714285714,
          128.49565217391304,
          131.30172413793105,
          207.77399380804954,
          137.61764705882354,
          137.57327586206895,
          116.09137055837563,
          156.41666666666666,
          131.16875,
          143.57142857142858,
          98.25249169435216,
          115.06666666666666,
          113.3646408839779,
          147.58333333333334,
          154.11507936507937,
          128.58333333333334,
          146.95883361921096,
          148.40418679549114,
          106.76650943396227,
          86.40298507462687,
          134.5659574468085,
          135.56666666666666,
          248.239852398524,
          119.47107438016529,
          115.29649595687331,
          140.11851851851853,
          128.0222222222222,
          124.20973782771536,
          119.28904428904428,
          134.68942731277534,
          155.03658536585365,
          147.59259259259258,
          194.03333333333333,
          121.77543186180422,
          112.83393501805054,
          125.96296296296296,
          138.9012987012987,
          250.96190476190475,
          155.80769230769232,
          148.365,
          169.33333333333334,
          146.68551236749116,
          141.17117117117118,
          165.04112554112555,
          155.18401486988847,
          153.22590361445782,
          140.95043731778426,
          117.64593301435407,
          139.27714285714285,
          134.08727272727273,
          125.97506925207756,
          204.98576512455517,
          105.43867924528301,
          138.05204460966542,
          127.03488372093024,
          140.9712525667351,
          110.64666666666666,
          128.59132420091325,
          149.5703125,
          129.99118942731278,
          134.85,
          117.99339933993399,
          124.46946564885496,
          146.00447427293065,
          124.11144578313252,
          149.1290322580645,
          138.1619937694704,
          133.49333333333334,
          134.62006079027356,
          238.836820083682,
          136.83585858585857,
          141.06010016694492,
          135.76395939086294,
          129.0433436532508,
          116.76780185758514,
          128.33116883116884,
          120.59556786703601,
          149.92361111111111,
          130.71259842519686,
          138.19331742243438,
          145.46280991735537,
          127.60326086956522,
          146.9974293059126,
          143.78026070763502,
          137.32916666666668,
          130.31034482758622,
          99.55151515151515,
          138.52151898734178,
          129.02321083172146,
          123.02881844380403,
          125.78228782287823,
          137.98823529411766,
          127.95,
          137.60163934426228,
          226.45686900958466,
          136.5926724137931,
          216.80050505050505,
          246.75709779179812,
          121.93700787401575,
          148.51282051282053,
          136.87285223367698,
          124.0042194092827,
          141.25,
          163.80782918149467,
          114.97087378640776,
          150.57291666666666,
          160.54285714285714,
          150.57716049382717,
          155.60059171597632,
          120.4123006833713,
          154.74328859060404,
          108.41239892183289,
          130.46462264150944,
          155.4842105263158,
          92.33680555555556,
          139.76258992805757,
          134.23076923076923,
          128.65809768637533,
          133.76546391752578,
          129.6312849162011,
          204.8673469387755,
          136.87037037037038,
          138.05307855626327,
          120.33716475095785,
          128.40694789081886,
          133.63276836158192,
          139.6543909348442,
          143.4144144144144,
          135.93298969072166,
          136.20973782771534,
          136.46037735849058,
          147.66666666666666,
          106.46882793017457,
          242.6590909090909,
          153.76381909547737,
          126.78688524590164,
          245.63571428571427,
          140.14260563380282,
          144.30599369085172,
          143.51875,
          137.12720156555773,
          128.90123456790124,
          241.18815331010452,
          132.3448275862069,
          108.92814371257485,
          140.11137440758293,
          127.48062015503876,
          120.46774193548387,
          118.00483870967741,
          164.73170731707316,
          133.83137254901962,
          137.95811518324606,
          111.95454545454545,
          139.5943396226415,
          129.30769230769232,
          114.31958762886597,
          133.3110599078341,
          137.8006329113924,
          148.41954022988506,
          132.33333333333334,
          167.83962264150944,
          106.6086956521739,
          235.74754098360657,
          140.25886524822695,
          139.472049689441,
          128.6241134751773,
          127.34653465346534,
          122.53684210526316,
          151.4990723562152,
          157.0091463414634,
          112.91093117408907,
          147.78378378378378,
          131.78205128205127,
          146.70503597122303,
          85.34745762711864,
          130.04054054054055,
          135.25688073394497,
          146.18579234972677,
          129.1891891891892,
          130.1662817551963,
          98.68199233716476,
          116.27272727272727,
          124.67207792207792,
          133.1290322580645,
          137.89583333333334,
          134.9131455399061,
          138.79186602870814,
          208.61666666666667,
          144.41176470588235,
          131.7079646017699,
          116.07451923076923,
          120.95744680851064,
          163.56486486486486,
          142.73655913978496,
          133.53488372093022,
          133.68810916179336,
          141.78695652173914,
          110.75,
          117.2312925170068,
          151.96682464454977,
          191.5276073619632,
          146.4433656957929,
          97.02222222222223,
          125.27433628318585,
          144.92670157068062,
          114.34261241970022,
          129.84177215189874,
          143.64735516372795,
          116.94497607655502,
          134.34763948497854,
          106.93617021276596,
          126.15348837209302,
          107.1487414187643,
          94.0299003322259,
          141.22058823529412,
          124.52574525745257,
          117.58307210031347,
          147.53824362606233,
          143.1013215859031,
          145.2622950819672,
          137.79596412556054,
          113.9746192893401,
          220.78978978978978,
          127.2059925093633,
          133.28481012658227,
          128.22792022792024,
          143.43260869565216,
          140.99665551839465,
          125.5691056910569,
          128.01960784313727,
          110.30695443645084,
          113.55474452554745,
          120.38513513513513,
          166.67505720823797,
          122.43708609271523,
          132.59674134419552,
          141.36438356164385,
          149.0060422960725,
          131.05882352941177,
          134.60775862068965,
          130.5814889336016,
          97.6853448275862,
          126.7381404174573,
          143.88095238095238,
          118.02734375,
          136.93714285714285,
          162.35135135135135,
          134.27727272727273,
          161.28918322295806,
          143.81712962962962,
          247.7357723577236,
          164.5891891891892,
          139.79518072289156,
          196.91735537190084,
          139.03305785123968,
          142.31219512195122,
          152.9874686716792,
          134.0327380952381,
          162.05329153605015,
          134.96756756756756,
          131.29565217391306,
          147.82083333333333,
          136.85759493670886,
          131.75438596491227,
          128.3197424892704,
          222.73138297872342,
          135.66596638655463,
          132.20746887966806,
          133.98181818181817,
          121.08411214953271,
          129.450110864745,
          121.01454545454546,
          143.8985313751669,
          111.60580912863071,
          126.07357859531773,
          123.09,
          130.01719197707737,
          124.83490566037736,
          98.96428571428571,
          144.4924924924925,
          126.78693181818181,
          94.19031141868513,
          122.94666666666667,
          134.06263498920086,
          237.5323943661972,
          197.80241935483872,
          141.4763948497854,
          105.21166306695464,
          133.7292817679558,
          128.21333333333334,
          126.79518072289157,
          127.08986175115207,
          143.91333333333333,
          140.7806267806268,
          128.12698412698413,
          122.38688524590164,
          90.91830985915493,
          71.82068965517242,
          138.5045871559633,
          242.8181818181818,
          136.1609756097561,
          129.97047970479704,
          119.49736842105263,
          125.20792079207921,
          143.55714285714285,
          116.86936936936937,
          130.25068870523415,
          124.00589970501476,
          110.91573926868044,
          134.06238532110092,
          139.7085514834206,
          130.78703703703704,
          105.57356608478803,
          116.70053475935829,
          124.96932515337423,
          129.51351351351352,
          118.29325513196481,
          123.03791469194313,
          162.11815561959654,
          148.39385474860336,
          118.54896907216495,
          126.56131260794473,
          151.2582159624413,
          133.72761194029852,
          121.34628975265018,
          113.00232018561485,
          125.41358024691358,
          141.37391304347827,
          185.11832061068702,
          123.23113207547169,
          128.27716186252772,
          132.78968253968253,
          249.94262295081967,
          136.97692307692307,
          127.93877551020408,
          108.8409090909091,
          140.47335423197492,
          136.16304347826087,
          128.63716814159292,
          130.43804034582132,
          97.39855072463769,
          117.20588235294117,
          108.52851711026616,
          248.6986301369863,
          123.88449848024317,
          116.43059490084985,
          150.07303370786516,
          122.60382513661202,
          118.68944099378882,
          155.64423076923077,
          129.8419689119171,
          112.57872340425531,
          139.28342245989305,
          123.31088082901555,
          105.44249512670565,
          141.14886731391584,
          132.78378378378378,
          133.9897435897436,
          98.69727891156462,
          145.49079754601226,
          130.27358490566039,
          142.9857723577236,
          122.21768707482993,
          119.01034482758621,
          229.44635193133047,
          143.45238095238096,
          130.87262872628727,
          120.89598108747045,
          143.4144144144144,
          123.24845995893224,
          132.1045081967213,
          129.40088105726872,
          125.85488126649076,
          129.53714285714287,
          140.4886075949367,
          84.42748091603053,
          132.0968858131488,
          137.02631578947367,
          138.3984962406015,
          141.4,
          119.98090692124104,
          98.53170731707317,
          141.42644320297953,
          122.50662251655629,
          139.53719008264463,
          107.64788732394366,
          149.2921348314607,
          127.60593792172739,
          126.01333333333334,
          141.9142857142857,
          125.86096256684492,
          122.8409090909091,
          213.8287153652393,
          122.68592057761732,
          205.11926605504587,
          111.85760517799353,
          125.59872611464968,
          111.57328385899814,
          126.3225806451613,
          100.10094637223975,
          126.38805970149254,
          135.94545454545454,
          105.48326359832636,
          115.81271282633371,
          130.93260473588342,
          120.8701923076923,
          116.94758909853249,
          117.98932384341637,
          87.80097087378641,
          192.0408163265306,
          120.61621621621622,
          132.53086419753086,
          157.53846153846155,
          120.18154761904762,
          122.37569060773481,
          138.37869822485206,
          176.8272727272727,
          104.87535410764872,
          119.83143507972665,
          119.1514360313316,
          128.22540983606558,
          101.54775280898876,
          101.96078431372548,
          123.82736156351791,
          84.24942263279446,
          136.7375,
          130.3089770354906,
          123.2636815920398,
          107.82758620689656,
          126.4093567251462,
          106.31359649122807,
          125.00462962962963,
          126.1497461928934,
          124.58620689655173,
          130.0241379310345,
          102.38495575221239,
          116.45528455284553,
          121.14450867052022,
          140.50726978998384,
          100.75483870967741,
          105.07868020304568,
          93.68388429752066,
          137.75063613231552,
          129.47397260273974,
          105.46875,
          134.42700729927006,
          117.5,
          126.60731707317073,
          103.85975609756098,
          238.93243243243242,
          174.24870466321244,
          121.18409090909091,
          119.65757575757576,
          111.58095238095238,
          99.82068965517242,
          134.359649122807,
          132.30434782608697,
          115.44360902255639,
          117.18859649122807,
          133.21988527724665,
          108.152,
          102.80172413793103,
          118.79057591623037,
          130.60371517027863,
          113.54237288135593,
          119.29391891891892,
          100.82022471910112,
          138.8185053380783,
          128.47293447293447,
          82.0618556701031,
          113.24242424242425,
          114.05673758865248,
          121.384375,
          102.7,
          96.77297297297298,
          115.45118733509234,
          121.48,
          122.4171686746988,
          98.34,
          210.24242424242425,
          169.2972972972973,
          127.5945945945946,
          112.26739926739927,
          110.54077253218884,
          117.04569892473118,
          120.2065868263473,
          119.29055690072639,
          108.70866141732283,
          98.21719457013575,
          140.12144702842377,
          122.84939759036145,
          94.98972602739725,
          115.72222222222223,
          252.5110294117647,
          97.85140562248996,
          238.44387755102042,
          52.49112426035503,
          101.36392405063292,
          246.31924882629107,
          101.19035532994924,
          94.66533864541833,
          104.30181818181818,
          95.17587939698493,
          238.79841897233203,
          87.80582524271844,
          254.60283687943263,
          99.39942528735632,
          72.42201834862385,
          104.28838951310861,
          100.1556420233463,
          102.01574803149606,
          103.51246537396122,
          105.96078431372548,
          92.75167785234899,
          97.7984693877551,
          91.12270803949224,
          76.50322580645161,
          89.29850746268657,
          68.35514018691589,
          110.03214285714286,
          229.03757225433526,
          90.29389312977099,
          102.72154963680387,
          96.22954545454546,
          64.24358974358974,
          105.71069182389937,
          96.15696649029982,
          89.86654135338345,
          90.32745591939546,
          99.77147766323024,
          101.12121212121212,
          85.12334801762114,
          79.69705882352942,
          80.06299212598425,
          239.64473684210526,
          238.7037037037037,
          84.6159420289855,
          112.375,
          79.91721132897604,
          100.28358208955224,
          76,
          105.58333333333333,
          92.52521008403362,
          106.56716417910448,
          86.9322033898305,
          108.97314375987362,
          89.35714285714286,
          91.63487738419619,
          72.92117117117117,
          101.10526315789474,
          89.26086956521739,
          132.87179487179486,
          87.82465753424657,
          101.25672371638142,
          103.03319502074689,
          100.43896713615024,
          98.00911161731207,
          90.31954887218045,
          162.784,
          102.86989409984871,
          107.10431654676259,
          94.40672782874617,
          99.56389452332657,
          78.6625386996904,
          128.59473684210528,
          99.77536231884058,
          104.7311072056239,
          121.28235294117647,
          101.53221288515407,
          92.57731958762886,
          89.88888888888889,
          95.22522522522523,
          113.05902777777777,
          113.73109243697479,
          106.72245762711864,
          94.42105263157895,
          105.14678899082568,
          101.38395415472779,
          120.58482142857143,
          119.62962962962963,
          102.9015873015873,
          104.45353982300885,
          107.71153846153847,
          99.11486486486487,
          100.00581395348837,
          92.72307692307692,
          75.47961630695444,
          125.56785714285714,
          107.63736263736264,
          107.13895216400911,
          82.359375,
          109.93655589123867,
          97.22818791946308,
          111.79325842696629,
          116.81674208144797,
          246.5084745762712,
          98.47619047619048,
          109.72058823529412,
          113.10040983606558,
          103.8135593220339,
          117.43796992481202,
          89.53559322033898,
          238.7835051546392,
          121.39565217391305,
          113.44166666666666,
          105.33639143730886,
          114.375,
          119.40806451612903,
          110.03307888040712,
          104.43019943019944,
          106.54330708661418,
          103.48581560283688,
          99.35073068893529,
          100.38461538461539,
          113.3048128342246,
          105.20361990950227,
          104.77166666666666,
          107.86505190311419,
          100.07777777777778,
          96.964,
          113.13090128755364,
          104.83828382838284,
          88.52868852459017,
          114.60941176470588,
          98.53316326530613,
          76.03626943005182,
          100.17045454545455,
          112.28947368421052,
          106.2992125984252,
          115.2078431372549,
          93.79601990049751,
          118.7565982404692,
          129.4390756302521,
          114.98695652173913,
          112.89761092150171,
          122.20123839009288,
          107.16949152542372,
          113.11299435028249,
          106.41850828729282,
          109.5725,
          102.9920634920635,
          106.92571428571429,
          92.40645161290323,
          126.1321243523316,
          124.07003891050584,
          102.13650793650794,
          119.58747300215983,
          126.47389558232932,
          108.61772151898734,
          84.128,
          118.14344262295081,
          123.144578313253,
          79.76785714285714,
          115.12680115273776,
          84.80085653104925,
          78.67567567567568,
          122.51558752997602,
          121.63453815261045,
          108.67507886435331,
          172.22790697674418,
          111.22751322751323,
          106.13747228381375,
          130.38145896656536,
          90.29749103942652,
          122.48397435897436,
          129.6813353566009,
          144.94055944055944,
          96.96261682242991,
          103.72435897435898,
          115.94877505567929,
          121.95752212389381,
          135.20621468926555,
          116.1788990825688,
          73.86585365853658,
          253.51612903225808,
          83.67586206896551,
          112.05645161290323,
          97.16981132075472,
          84.37823834196891,
          125.46515679442508,
          120.69918699186992,
          123.086887835703,
          131.83360258481423,
          95.20697674418605,
          134.01883239171374,
          181.97682119205297,
          98.77777777777777,
          177.3793103448276,
          106.75431034482759,
          94.75206611570248,
          111.05454545454545,
          136.70810810810812,
          96.56511627906977,
          145.2938596491228
         ],
         "xaxis": "x",
         "yaxis": "y"
        }
       ],
       "layout": {
        "barmode": "relative",
        "legend": {
         "title": {
          "text": "variable"
         },
         "tracegroupgap": 0
        },
        "template": {
         "data": {
          "bar": [
           {
            "error_x": {
             "color": "#2a3f5f"
            },
            "error_y": {
             "color": "#2a3f5f"
            },
            "marker": {
             "line": {
              "color": "#E5ECF6",
              "width": 0.5
             },
             "pattern": {
              "fillmode": "overlay",
              "size": 10,
              "solidity": 0.2
             }
            },
            "type": "bar"
           }
          ],
          "barpolar": [
           {
            "marker": {
             "line": {
              "color": "#E5ECF6",
              "width": 0.5
             },
             "pattern": {
              "fillmode": "overlay",
              "size": 10,
              "solidity": 0.2
             }
            },
            "type": "barpolar"
           }
          ],
          "carpet": [
           {
            "aaxis": {
             "endlinecolor": "#2a3f5f",
             "gridcolor": "white",
             "linecolor": "white",
             "minorgridcolor": "white",
             "startlinecolor": "#2a3f5f"
            },
            "baxis": {
             "endlinecolor": "#2a3f5f",
             "gridcolor": "white",
             "linecolor": "white",
             "minorgridcolor": "white",
             "startlinecolor": "#2a3f5f"
            },
            "type": "carpet"
           }
          ],
          "choropleth": [
           {
            "colorbar": {
             "outlinewidth": 0,
             "ticks": ""
            },
            "type": "choropleth"
           }
          ],
          "contour": [
           {
            "colorbar": {
             "outlinewidth": 0,
             "ticks": ""
            },
            "colorscale": [
             [
              0,
              "#0d0887"
             ],
             [
              0.1111111111111111,
              "#46039f"
             ],
             [
              0.2222222222222222,
              "#7201a8"
             ],
             [
              0.3333333333333333,
              "#9c179e"
             ],
             [
              0.4444444444444444,
              "#bd3786"
             ],
             [
              0.5555555555555556,
              "#d8576b"
             ],
             [
              0.6666666666666666,
              "#ed7953"
             ],
             [
              0.7777777777777778,
              "#fb9f3a"
             ],
             [
              0.8888888888888888,
              "#fdca26"
             ],
             [
              1,
              "#f0f921"
             ]
            ],
            "type": "contour"
           }
          ],
          "contourcarpet": [
           {
            "colorbar": {
             "outlinewidth": 0,
             "ticks": ""
            },
            "type": "contourcarpet"
           }
          ],
          "heatmap": [
           {
            "colorbar": {
             "outlinewidth": 0,
             "ticks": ""
            },
            "colorscale": [
             [
              0,
              "#0d0887"
             ],
             [
              0.1111111111111111,
              "#46039f"
             ],
             [
              0.2222222222222222,
              "#7201a8"
             ],
             [
              0.3333333333333333,
              "#9c179e"
             ],
             [
              0.4444444444444444,
              "#bd3786"
             ],
             [
              0.5555555555555556,
              "#d8576b"
             ],
             [
              0.6666666666666666,
              "#ed7953"
             ],
             [
              0.7777777777777778,
              "#fb9f3a"
             ],
             [
              0.8888888888888888,
              "#fdca26"
             ],
             [
              1,
              "#f0f921"
             ]
            ],
            "type": "heatmap"
           }
          ],
          "heatmapgl": [
           {
            "colorbar": {
             "outlinewidth": 0,
             "ticks": ""
            },
            "colorscale": [
             [
              0,
              "#0d0887"
             ],
             [
              0.1111111111111111,
              "#46039f"
             ],
             [
              0.2222222222222222,
              "#7201a8"
             ],
             [
              0.3333333333333333,
              "#9c179e"
             ],
             [
              0.4444444444444444,
              "#bd3786"
             ],
             [
              0.5555555555555556,
              "#d8576b"
             ],
             [
              0.6666666666666666,
              "#ed7953"
             ],
             [
              0.7777777777777778,
              "#fb9f3a"
             ],
             [
              0.8888888888888888,
              "#fdca26"
             ],
             [
              1,
              "#f0f921"
             ]
            ],
            "type": "heatmapgl"
           }
          ],
          "histogram": [
           {
            "marker": {
             "pattern": {
              "fillmode": "overlay",
              "size": 10,
              "solidity": 0.2
             }
            },
            "type": "histogram"
           }
          ],
          "histogram2d": [
           {
            "colorbar": {
             "outlinewidth": 0,
             "ticks": ""
            },
            "colorscale": [
             [
              0,
              "#0d0887"
             ],
             [
              0.1111111111111111,
              "#46039f"
             ],
             [
              0.2222222222222222,
              "#7201a8"
             ],
             [
              0.3333333333333333,
              "#9c179e"
             ],
             [
              0.4444444444444444,
              "#bd3786"
             ],
             [
              0.5555555555555556,
              "#d8576b"
             ],
             [
              0.6666666666666666,
              "#ed7953"
             ],
             [
              0.7777777777777778,
              "#fb9f3a"
             ],
             [
              0.8888888888888888,
              "#fdca26"
             ],
             [
              1,
              "#f0f921"
             ]
            ],
            "type": "histogram2d"
           }
          ],
          "histogram2dcontour": [
           {
            "colorbar": {
             "outlinewidth": 0,
             "ticks": ""
            },
            "colorscale": [
             [
              0,
              "#0d0887"
             ],
             [
              0.1111111111111111,
              "#46039f"
             ],
             [
              0.2222222222222222,
              "#7201a8"
             ],
             [
              0.3333333333333333,
              "#9c179e"
             ],
             [
              0.4444444444444444,
              "#bd3786"
             ],
             [
              0.5555555555555556,
              "#d8576b"
             ],
             [
              0.6666666666666666,
              "#ed7953"
             ],
             [
              0.7777777777777778,
              "#fb9f3a"
             ],
             [
              0.8888888888888888,
              "#fdca26"
             ],
             [
              1,
              "#f0f921"
             ]
            ],
            "type": "histogram2dcontour"
           }
          ],
          "mesh3d": [
           {
            "colorbar": {
             "outlinewidth": 0,
             "ticks": ""
            },
            "type": "mesh3d"
           }
          ],
          "parcoords": [
           {
            "line": {
             "colorbar": {
              "outlinewidth": 0,
              "ticks": ""
             }
            },
            "type": "parcoords"
           }
          ],
          "pie": [
           {
            "automargin": true,
            "type": "pie"
           }
          ],
          "scatter": [
           {
            "fillpattern": {
             "fillmode": "overlay",
             "size": 10,
             "solidity": 0.2
            },
            "type": "scatter"
           }
          ],
          "scatter3d": [
           {
            "line": {
             "colorbar": {
              "outlinewidth": 0,
              "ticks": ""
             }
            },
            "marker": {
             "colorbar": {
              "outlinewidth": 0,
              "ticks": ""
             }
            },
            "type": "scatter3d"
           }
          ],
          "scattercarpet": [
           {
            "marker": {
             "colorbar": {
              "outlinewidth": 0,
              "ticks": ""
             }
            },
            "type": "scattercarpet"
           }
          ],
          "scattergeo": [
           {
            "marker": {
             "colorbar": {
              "outlinewidth": 0,
              "ticks": ""
             }
            },
            "type": "scattergeo"
           }
          ],
          "scattergl": [
           {
            "marker": {
             "colorbar": {
              "outlinewidth": 0,
              "ticks": ""
             }
            },
            "type": "scattergl"
           }
          ],
          "scattermapbox": [
           {
            "marker": {
             "colorbar": {
              "outlinewidth": 0,
              "ticks": ""
             }
            },
            "type": "scattermapbox"
           }
          ],
          "scatterpolar": [
           {
            "marker": {
             "colorbar": {
              "outlinewidth": 0,
              "ticks": ""
             }
            },
            "type": "scatterpolar"
           }
          ],
          "scatterpolargl": [
           {
            "marker": {
             "colorbar": {
              "outlinewidth": 0,
              "ticks": ""
             }
            },
            "type": "scatterpolargl"
           }
          ],
          "scatterternary": [
           {
            "marker": {
             "colorbar": {
              "outlinewidth": 0,
              "ticks": ""
             }
            },
            "type": "scatterternary"
           }
          ],
          "surface": [
           {
            "colorbar": {
             "outlinewidth": 0,
             "ticks": ""
            },
            "colorscale": [
             [
              0,
              "#0d0887"
             ],
             [
              0.1111111111111111,
              "#46039f"
             ],
             [
              0.2222222222222222,
              "#7201a8"
             ],
             [
              0.3333333333333333,
              "#9c179e"
             ],
             [
              0.4444444444444444,
              "#bd3786"
             ],
             [
              0.5555555555555556,
              "#d8576b"
             ],
             [
              0.6666666666666666,
              "#ed7953"
             ],
             [
              0.7777777777777778,
              "#fb9f3a"
             ],
             [
              0.8888888888888888,
              "#fdca26"
             ],
             [
              1,
              "#f0f921"
             ]
            ],
            "type": "surface"
           }
          ],
          "table": [
           {
            "cells": {
             "fill": {
              "color": "#EBF0F8"
             },
             "line": {
              "color": "white"
             }
            },
            "header": {
             "fill": {
              "color": "#C8D4E3"
             },
             "line": {
              "color": "white"
             }
            },
            "type": "table"
           }
          ]
         },
         "layout": {
          "annotationdefaults": {
           "arrowcolor": "#2a3f5f",
           "arrowhead": 0,
           "arrowwidth": 1
          },
          "autotypenumbers": "strict",
          "coloraxis": {
           "colorbar": {
            "outlinewidth": 0,
            "ticks": ""
           }
          },
          "colorscale": {
           "diverging": [
            [
             0,
             "#8e0152"
            ],
            [
             0.1,
             "#c51b7d"
            ],
            [
             0.2,
             "#de77ae"
            ],
            [
             0.3,
             "#f1b6da"
            ],
            [
             0.4,
             "#fde0ef"
            ],
            [
             0.5,
             "#f7f7f7"
            ],
            [
             0.6,
             "#e6f5d0"
            ],
            [
             0.7,
             "#b8e186"
            ],
            [
             0.8,
             "#7fbc41"
            ],
            [
             0.9,
             "#4d9221"
            ],
            [
             1,
             "#276419"
            ]
           ],
           "sequential": [
            [
             0,
             "#0d0887"
            ],
            [
             0.1111111111111111,
             "#46039f"
            ],
            [
             0.2222222222222222,
             "#7201a8"
            ],
            [
             0.3333333333333333,
             "#9c179e"
            ],
            [
             0.4444444444444444,
             "#bd3786"
            ],
            [
             0.5555555555555556,
             "#d8576b"
            ],
            [
             0.6666666666666666,
             "#ed7953"
            ],
            [
             0.7777777777777778,
             "#fb9f3a"
            ],
            [
             0.8888888888888888,
             "#fdca26"
            ],
            [
             1,
             "#f0f921"
            ]
           ],
           "sequentialminus": [
            [
             0,
             "#0d0887"
            ],
            [
             0.1111111111111111,
             "#46039f"
            ],
            [
             0.2222222222222222,
             "#7201a8"
            ],
            [
             0.3333333333333333,
             "#9c179e"
            ],
            [
             0.4444444444444444,
             "#bd3786"
            ],
            [
             0.5555555555555556,
             "#d8576b"
            ],
            [
             0.6666666666666666,
             "#ed7953"
            ],
            [
             0.7777777777777778,
             "#fb9f3a"
            ],
            [
             0.8888888888888888,
             "#fdca26"
            ],
            [
             1,
             "#f0f921"
            ]
           ]
          },
          "colorway": [
           "#636efa",
           "#EF553B",
           "#00cc96",
           "#ab63fa",
           "#FFA15A",
           "#19d3f3",
           "#FF6692",
           "#B6E880",
           "#FF97FF",
           "#FECB52"
          ],
          "font": {
           "color": "#2a3f5f"
          },
          "geo": {
           "bgcolor": "white",
           "lakecolor": "white",
           "landcolor": "#E5ECF6",
           "showlakes": true,
           "showland": true,
           "subunitcolor": "white"
          },
          "hoverlabel": {
           "align": "left"
          },
          "hovermode": "closest",
          "mapbox": {
           "style": "light"
          },
          "paper_bgcolor": "white",
          "plot_bgcolor": "#E5ECF6",
          "polar": {
           "angularaxis": {
            "gridcolor": "white",
            "linecolor": "white",
            "ticks": ""
           },
           "bgcolor": "#E5ECF6",
           "radialaxis": {
            "gridcolor": "white",
            "linecolor": "white",
            "ticks": ""
           }
          },
          "scene": {
           "xaxis": {
            "backgroundcolor": "#E5ECF6",
            "gridcolor": "white",
            "gridwidth": 2,
            "linecolor": "white",
            "showbackground": true,
            "ticks": "",
            "zerolinecolor": "white"
           },
           "yaxis": {
            "backgroundcolor": "#E5ECF6",
            "gridcolor": "white",
            "gridwidth": 2,
            "linecolor": "white",
            "showbackground": true,
            "ticks": "",
            "zerolinecolor": "white"
           },
           "zaxis": {
            "backgroundcolor": "#E5ECF6",
            "gridcolor": "white",
            "gridwidth": 2,
            "linecolor": "white",
            "showbackground": true,
            "ticks": "",
            "zerolinecolor": "white"
           }
          },
          "shapedefaults": {
           "line": {
            "color": "#2a3f5f"
           }
          },
          "ternary": {
           "aaxis": {
            "gridcolor": "white",
            "linecolor": "white",
            "ticks": ""
           },
           "baxis": {
            "gridcolor": "white",
            "linecolor": "white",
            "ticks": ""
           },
           "bgcolor": "#E5ECF6",
           "caxis": {
            "gridcolor": "white",
            "linecolor": "white",
            "ticks": ""
           }
          },
          "title": {
           "x": 0.05
          },
          "xaxis": {
           "automargin": true,
           "gridcolor": "white",
           "linecolor": "white",
           "ticks": "",
           "title": {
            "standoff": 15
           },
           "zerolinecolor": "white",
           "zerolinewidth": 2
          },
          "yaxis": {
           "automargin": true,
           "gridcolor": "white",
           "linecolor": "white",
           "ticks": "",
           "title": {
            "standoff": 15
           },
           "zerolinecolor": "white",
           "zerolinewidth": 2
          }
         }
        },
        "title": {
         "text": "nucleus_ki67_avg_int_in_DG"
        },
        "xaxis": {
         "anchor": "y",
         "domain": [
          0,
          1
         ],
         "range": [
          0,
          255
         ],
         "title": {
          "text": "nucleus_ki67_avg_int"
         }
        },
        "yaxis": {
         "anchor": "x",
         "domain": [
          0,
          1
         ],
         "title": {
          "text": "count"
         }
        }
       }
      }
     },
     "metadata": {},
     "output_type": "display_data"
    },
    {
     "data": {
      "application/vnd.plotly.v1+json": {
       "config": {
        "plotlyServerURL": "https://plot.ly"
       },
       "data": [
        {
         "alignmentgroup": "True",
         "bingroup": "x",
         "hovertemplate": "variable=nucleus_neun_avg_int<br>nucleus_neun_avg_int=%{x}<br>count=%{y}<extra></extra>",
         "legendgroup": "nucleus_neun_avg_int",
         "marker": {
          "color": "#636efa",
          "pattern": {
           "shape": ""
          }
         },
         "name": "nucleus_neun_avg_int",
         "nbinsx": 256,
         "offsetgroup": "nucleus_neun_avg_int",
         "orientation": "v",
         "showlegend": true,
         "type": "histogram",
         "x": [
          100.52016129032258,
          160.52464788732394,
          91.55810397553516,
          15.094696969696969,
          97.02713178294573,
          46.251948051948055,
          91.3519313304721,
          45.359050445103854,
          4.728395061728395,
          94.846875,
          114.09080047789725,
          96.02905198776759,
          113.83913934426229,
          130.52298850574712,
          9.663974151857834,
          67.64732142857143,
          137.96205357142858,
          132.5227568270481,
          47.88261851015801,
          120.43484626647145,
          13.40079365079365,
          12.115702479338843,
          53.0117994100295,
          121.09703196347031,
          30.652380952380952,
          118.349609375,
          68.24400871459694,
          13.222222222222221,
          132.5568862275449,
          123.8256880733945,
          6.74914089347079,
          6.509838998211091,
          160.14316012725345,
          92.34457478005865,
          15.9609375,
          7.7926829268292686,
          107.26644370122631,
          24.483965014577258,
          127.8108108108108,
          9.389261744966444,
          8.59349593495935,
          146.77098321342925,
          53.33408071748879,
          55.80082987551867,
          171.95070422535213,
          137.358407079646,
          13.422279792746114,
          176.71176470588236,
          99.33807266982622,
          55.146010186757216,
          169.23514211886305,
          171.56352201257863,
          147.98345153664303,
          120.52745849297574,
          170.15022761760244,
          63.967289719626166,
          171.75871313672923,
          58.59398496240601,
          143.2992,
          171.349932705249,
          113.82225237449119,
          7.559055118110236,
          163.06286549707602,
          136.69121447028425,
          65.31666666666666,
          143.62210796915167,
          171.81597717546362,
          148.96055226824458,
          191.12632978723406,
          54.60662525879917,
          9.66745283018868,
          8.466666666666667,
          183.63427800269906,
          165.35331230283913,
          15.043478260869565,
          10.377828054298643,
          16.951923076923077,
          193.65675675675675,
          129.17013888888889,
          133.92282958199357,
          67.22395833333333,
          110.14696485623003,
          119.06625,
          128.76201923076923,
          80.3,
          170.85564304461943,
          197.4532967032967,
          156.5019404915912,
          175.136786188579,
          12.256944444444445,
          156.09660574412533,
          163.97108843537416,
          107.84504504504504,
          187.11805555555554,
          105.49929078014185,
          116.09741248097413,
          146.8533653846154,
          10.434312210200927,
          170.49655172413793,
          120.64759725400458,
          118.89078498293516,
          163.3145896656535,
          213.88555078683834,
          104.45475113122171,
          90.97899159663865,
          182.47863247863248,
          194.51624129930394,
          152.4935400516796,
          196.17986577181208,
          137.4094616639478,
          147.0728862973761,
          16.06926406926407,
          187.07692307692307,
          109.44846796657382,
          165.03950953678475,
          180.35283687943263,
          141.36514522821577,
          14.429611650485437,
          178.46579330422125,
          175.61211129296237,
          160.60097719869708,
          172.78303198887343,
          191.99726402188782,
          143.25839793281654,
          112.32588454376165,
          168.96357012750457,
          104.93491124260355,
          169.5528846153846,
          9.493540051679586,
          155.07210031347964,
          77.88224956063269,
          144.50632911392404,
          132.01666666666668,
          12.490022172949002,
          187.82142857142858,
          100.61805555555556,
          201.58759124087592,
          124.77620730270907,
          109.51515151515152,
          208.59656652360516,
          143.26889534883722,
          15.11013986013986,
          162.53277545327754,
          13.010989010989011,
          94.91872278664731,
          91.11170212765957,
          174.79491833030852,
          154.87758620689655,
          115.8,
          14.476878612716764,
          166.60881934566146,
          167.5704347826087,
          219.7930029154519,
          152.76461295418642,
          93.58404558404558,
          112.07042253521126,
          150.0112517580872,
          201.06756756756758,
          14.22167487684729,
          155.48300970873785,
          112.47897623400365,
          182.134401972873,
          100.30434782608695,
          195.20634920634922,
          188.0948121645796,
          177.8116883116883,
          82.38263229308005,
          188.67708333333334,
          113.85739130434783,
          193.81740976645435,
          212.62141491395795,
          139.13992762364293,
          166.98729351969504,
          9.868354430379746,
          93.98163030998852,
          86.53164556962025,
          171.60077519379846,
          12.185897435897436,
          177.56178489702518,
          151.73594909862143,
          176.02090032154342,
          61.86877828054298,
          134.2171717171717,
          11.418300653594772,
          184.97668711656442,
          157.4978102189781,
          159.02114427860695,
          156.99784017278617,
          177.36351165980795,
          111.88593155893535,
          120.24582701062215,
          194.86564885496182,
          156.37304964539007,
          86.4047619047619,
          156.90237467018468,
          115.72902338376892,
          34.61800486618005,
          168.63598326359832,
          113.33136966126656,
          92.76376554174068,
          186.63409563409564,
          156.68817204301075,
          148.24396442185514,
          138.89336016096578,
          185.99239543726236,
          109.1494708994709,
          158.40534262485482,
          160.58469259723964,
          82.38073394495413,
          151.87906976744185,
          117.88966725043782,
          103.47802197802197,
          56.62686567164179,
          124.91509433962264,
          74.43005952380952,
          170.85135135135135,
          177.14269662921348,
          181.6082949308756,
          14.238636363636363,
          19.141666666666666,
          56.62839248434238,
          245.79019607843136,
          25.977346278317153,
          167.08781869688386,
          142.2008670520231,
          110.60135135135135,
          35.890243902439025,
          58.24324324324324,
          15.309917355371901,
          156.1392,
          113.70180722891567,
          49.701298701298704,
          143.74603174603175,
          115.49134948096886,
          128.84114583333334,
          96.23198594024605,
          165.1353919239905,
          9.635416666666666,
          142.6770428015564,
          100.02232854864434,
          174.79835390946502,
          54.54639175257732,
          180.3251318101933,
          15.045454545454545,
          154.32587412587412,
          164.78591160220995,
          169.1657458563536,
          136.0126422250316,
          186.5144927536232,
          166.83223684210526,
          151.68941979522185,
          173.18333333333334,
          154.3612662942272,
          158.65350877192984,
          121.31311475409836,
          158.94002068252325,
          127.5433854907539,
          137.94787379972564,
          124.33501259445843,
          138.5997340425532,
          49.19069767441861,
          144.20980926430516,
          137.58881256133463,
          73.91724137931034,
          64.54496644295303,
          12.295798319327732,
          139.32357043235703,
          110.13896457765668,
          121.74525745257452,
          146.46068796068795,
          105.18891687657431,
          117.10364683301344,
          118.97419354838709,
          82.32081377151799,
          20.703412073490814,
          173.37631184407797,
          137.85343228200372,
          191.59156976744185,
          174.36103896103896,
          129.32142857142858,
          96.55935251798562,
          93.76878612716763,
          160.83945578231294,
          144.85528455284552,
          150.98191681735986,
          137.25494505494507,
          170.69522471910113,
          50.498387096774195,
          117.07066666666667,
          192.1326164874552,
          21.386363636363637,
          177.29530201342283,
          173.53820598006644,
          172.87870967741935,
          135.11004784688996,
          75.49290322580646,
          171.51724137931035,
          155.2524115755627,
          151.02658486707566,
          179.7980198019802,
          183.15451388888889,
          161.50833333333333,
          122.27802690582959,
          200.44427001569858,
          185.9724517906336,
          157.23703703703703,
          140.21727019498607,
          168.33112582781456,
          110.29078014184397,
          158.47404844290656,
          191.9492385786802,
          90.06036217303823,
          46.568627450980394,
          94.58433734939759,
          143.47804054054055,
          182.83529411764707,
          160.79381443298968,
          168.33997155049786,
          195.01612903225808,
          10.455696202531646,
          177.17560975609757,
          86.43646408839778,
          163.0632183908046,
          162.59666666666666,
          173.14343163538874,
          162.7092105263158,
          132.13910355486863,
          219.43254520166897,
          198.96513470681458,
          134.36852589641435,
          123.50938337801608,
          65.69024390243902,
          136.08805031446542,
          165.12237093690248,
          126.92056074766356,
          153.22568578553617,
          181.64933333333335,
          71.68506493506493,
          236.8978583196046,
          94.47858942065491,
          184.97727272727272,
          208.24649859943978,
          178.3036750483559,
          134.96,
          13.322128851540617,
          48.7247191011236,
          184.5565371024735,
          150.86018237082067,
          176.09803921568627,
          157.23056300268095,
          71.83174603174604,
          166.17543859649123,
          184.2163212435233,
          165.29310344827587,
          176.8145780051151,
          195.72558714462298,
          193.40943683409438,
          198.36059479553904,
          124.63786531130877,
          189.0751879699248,
          157.0270880361174,
          100.20524017467248,
          112.10339943342777,
          173.4252275682705,
          156.48894348894348,
          83.58417508417509,
          166.49478079331942,
          182.60892388451444,
          176.88861076345432,
          95.08613728129205,
          104.1520572450805,
          114.81234256926952,
          150.89203084832906,
          143.4926686217009,
          177.04186795491142,
          183.10865874363327,
          137,
          21.37795275590551,
          128.4003241491086,
          177.28498293515358,
          22.50485436893204,
          176.24969696969697,
          188.39737991266375,
          84.08970976253298,
          15.400702987697715,
          164.60302457466918,
          160.3095890410959,
          11.780952380952382,
          204.81803278688525,
          115.51524390243902,
          182.3045045045045,
          180.14453125,
          184.6102564102564,
          159.43435754189943,
          118.92696629213484,
          189.79396092362344,
          185.68708609271522,
          163.8259162303665,
          72.06588579795022,
          164.6153846153846,
          19.88888888888889,
          180.74814814814815,
          192.6577380952381,
          165.94979647218454,
          25.7979797979798,
          141.0176730486009,
          140.8693115519253,
          45.972477064220186,
          156.51404494382024,
          208.33500837520938,
          22.804651162790698,
          169.04181184668988,
          30.3127147766323,
          126.83710407239819,
          158.44710860366715,
          9.80952380952381,
          115.82170542635659,
          157.48073959938367,
          124.76643356643356,
          168.424,
          183.5380200860832,
          22.80821917808219,
          21.507042253521128,
          78.46902654867256,
          38.83076923076923,
          102.58875739644971,
          52.54940711462451,
          153.27969348659005,
          215.0096153846154,
          179.83359013867488,
          133.544474393531,
          179.76819407008085,
          168.30045523520485,
          170.31190476190477,
          142.36121212121213,
          29.75,
          32.01497005988024,
          136.29901960784315,
          192.46131805157594,
          95.69017632241814,
          131.9025974025974,
          46.00806451612903,
          99.52429378531073,
          166.70884658454648,
          203.1373092926491,
          165.32896461336827,
          159.89124668435014,
          141.52129032258065,
          105.58018867924528,
          72.79333333333334,
          210.29573590096285,
          172.8036036036036,
          130.88078703703704,
          81.46472392638037,
          102.84415584415585,
          219.30132450331126,
          163.43801652892563,
          12.40625,
          19.201834862385322,
          17.43089430894309,
          71.14082969432314,
          59.43599257884972,
          176.49049429657794,
          167.32313575525814,
          195.4058577405858,
          19.08040201005025,
          108.74069627851141,
          85.49515905947442,
          99.59176029962546,
          161.88313609467457,
          32.59649122807018,
          178.2225165562914,
          12.135593220338983,
          100.68062015503875,
          193.971119133574,
          134.1551724137931,
          180.55743879472692,
          159.5491266375546,
          162.94059405940595,
          128.37071651090343,
          163.8769063180828,
          158.9362363919129,
          105.76491228070175,
          164.84259259259258,
          20.36,
          147.80848329048843,
          79.0223880597015,
          199.27146814404432,
          104.65405405405406,
          9.97278911564626,
          182.4264705882353,
          199.55426356589146,
          179.63870967741934,
          167.53074027603512,
          168.70396600566573,
          13.072625698324023,
          155.221875,
          12.96774193548387,
          39.31897926634769,
          131.86732186732186,
          203.79783783783785,
          138.88225255972696,
          112.5158013544018,
          14.616557734204793,
          204.56780923994037,
          148.6268456375839,
          13.1475,
          86.75113122171946,
          176.46833578792342,
          168.6017156862745,
          159.25636007827788,
          96.8485401459854,
          124.76903553299492,
          37.82744282744283,
          147.94974358974358,
          133.9125,
          107.63084112149532,
          142.1524064171123,
          16.00537634408602,
          128.155672823219,
          138.31530343007915,
          113.10918774966711,
          50.92857142857143,
          154.2136602451839,
          125.03839441535777,
          55.37538461538462,
          126.95950920245399,
          146.29479034307496,
          127.84233261339092,
          116.4171270718232,
          96.69182389937107,
          59.04469273743017,
          15.024943310657596,
          152.3594674556213,
          50.205479452054796,
          203.48343685300208,
          80.89833641404806,
          163.27865168539327,
          38.145969498910674,
          44.67505720823799,
          165.07692307692307,
          171.97701149425288,
          149.79896907216494,
          52.92727272727273,
          126.43929712460064,
          54.395209580838326,
          133.2485465116279,
          41.426877470355734,
          152.4887459807074,
          25.337526205450732,
          168.1530201342282,
          101.85477178423237,
          151.6803551609323,
          222.74164810690422,
          136.16920943134537,
          29.132379248658317,
          88.5886736214605,
          201.32077922077923,
          173.93933823529412,
          85.75875486381322,
          146.6472819216182,
          150.25129533678756,
          6.843177189409369,
          130.20980392156864,
          151.4459308807135,
          22.7078853046595,
          90.10220994475138,
          15.116190476190477,
          15.534313725490197,
          159.43001686340642,
          128.8968253968254,
          8.736013986013987,
          13.473282442748092,
          155.54044117647058,
          15.97897897897898,
          154.22341857335127,
          28.077639751552795,
          29.51274787535411,
          143.5581395348837,
          161.40441176470588,
          6.235690235690235,
          62.62820512820513,
          146.59050064184854,
          140.17848970251717,
          112.15448504983388,
          169.4785522788204,
          81.29874213836477,
          166.90226628895184,
          133.81924882629107,
          13.772727272727273,
          124.84924623115577,
          142.1945525291829,
          144.43630017452006,
          88.1103896103896,
          70.06275303643724,
          40.62783661119516,
          14.701176470588235,
          98.23076923076923,
          173.39335664335664,
          146.53598774885145,
          9.1648,
          126.57802197802198,
          126.1237911025145,
          22.722627737226276,
          173.40832249674904,
          136.41214057507986,
          146.41375150784077,
          147.75495495495497,
          143.22772277227722,
          110.20890410958904,
          179.2604501607717,
          106.02865761689291,
          172.90125173852573,
          173.44602609727164,
          152.3659793814433,
          78.23624595469256,
          126.99552906110283,
          117.80796586059743,
          178.54299754299754,
          36.29934924078091,
          71.14092664092664,
          203.07131782945737,
          182.01682692307693,
          200.12132352941177,
          16.052884615384617,
          12.334525939177102,
          36.62468513853904,
          85.25345622119816,
          223.95410885805762,
          138.1841726618705,
          40.291079812206576,
          193.45291479820628,
          16.632876712328766,
          161.18306636155606,
          128.31875,
          149.30228471001757,
          168.5746549560853,
          76.9773156899811,
          158.31,
          183.82539682539684,
          139.0625,
          199.97590361445782,
          166.02966101694915,
          107.64142857142858,
          128.12272727272727,
          105.58189655172414,
          209.55,
          119.86547085201794,
          162.77793103448275,
          87.94029850746269,
          196.6209349593496,
          222.4814814814815,
          132.45960502692998,
          172.6046511627907,
          71.61010830324909,
          213.16275862068966,
          202.26797385620915,
          46.91549295774648,
          72.34256055363322,
          39.4408945686901,
          164.58895027624308,
          164.91826923076923,
          212.83136094674558,
          9.87136929460581,
          163.81031307550646,
          199.78137128072444,
          177.40595611285266,
          110.19368421052631,
          166.65833333333333,
          199.68027210884352,
          214.32986472424557,
          210.6185997910136,
          41.453968253968256,
          181.9496402877698,
          14.762039660056658,
          93.18312757201646,
          176.84450784593437,
          165.02139037433156,
          218.79819277108433,
          159.46336996336996,
          96.91592128801432,
          233.66024340770792,
          151.88415446071903,
          145.61141304347825,
          18.33445945945946,
          185.78758620689655,
          202.13151658767774,
          146.67576419213975,
          197.4753424657534,
          193.75881261595546,
          103.67737617135208,
          213.17978723404255,
          130.65597667638485,
          183.33657587548637,
          163.59215219976218,
          167.10970464135022,
          188.7640306122449,
          143.19113573407202,
          217.4637268847795,
          122.42904841402337,
          80.58760683760684,
          178.01045751633987,
          225.18796198521648,
          185.32413793103447,
          71.71312803889789,
          213.46875,
          159.10031847133757,
          188.81333333333333,
          108.57180851063829,
          125.80095351609059,
          203.325,
          111.90300230946882,
          14.979452054794521,
          161.98902606310014,
          94.96296296296296,
          175.20166898470097,
          197.9145728643216,
          57.79251700680272,
          99.57734806629834,
          132.78118609406954,
          225.21629213483146,
          187.05536912751677,
          117.6746347941567,
          46.32163742690059,
          219.61041465766635,
          209.34134007585334,
          139.3620218579235,
          191.84224250325946,
          119.60985915492958,
          31.720508166969147,
          68.31896551724138,
          66.47260273972603,
          154.72131147540983,
          174.2530779753762,
          150.29036635006784,
          182.125,
          53.94009216589862,
          234.7642857142857,
          213.73065902578796,
          62.92215568862275,
          116.04528301886792,
          238.09743040685225,
          180.84782608695653,
          26.92626728110599,
          125.74434782608695,
          187.80026455026456,
          14.490697674418605,
          53.578947368421055,
          95.36,
          182.4165457184325,
          127.66008771929825,
          238.13030602171767,
          50.85932721712538,
          149.25633383010432,
          23.849056603773583,
          14.296747967479675,
          14.842639593908629,
          189.72038834951456,
          236.67294751009422,
          174.94533762057878,
          166.88946015424165,
          191.02784810126582,
          167.51347068145802,
          133.70545454545456,
          33.560344827586206,
          220.86461794019934,
          179.752688172043,
          110.22222222222223,
          104.59335038363172,
          36.55020080321285,
          14.895470383275262,
          233.62664907651714,
          214.21913580246914,
          183.88843813387425,
          227.55069767441861,
          110.3603744149766,
          190.3841642228739,
          149.6404833836858,
          157.30647985989492,
          188.7214191852825,
          167.7157569515963,
          222.46792849631967,
          123.06527777777778,
          23.35670731707317,
          159.5492371705964,
          208.41935483870967,
          177.71028037383178,
          177.73006134969324,
          228.390779363337,
          172.13734713076198,
          200.0297520661157,
          56.395348837209305,
          85.94236311239193,
          219.8732394366197,
          172.36959553695957,
          123.96435643564357,
          157.66051660516604,
          192.3935309973046,
          197.6576354679803,
          206.63282571912015,
          68.08085106382978,
          220.94015444015443,
          111.41863699582754,
          169.61780821917807,
          41.63122171945702,
          237.41610738255034,
          127.33406593406593,
          202.55523255813952,
          215.8315946348733,
          211.46638655462183,
          173.66966966966967,
          201.3360655737705,
          219.9723926380368,
          157.91304347826087,
          12.759493670886076,
          102.78436018957346,
          76.86602870813397,
          158.54545454545453,
          16.471698113207548,
          74.77075588599752,
          158.84776119402986,
          180.9611510791367,
          181.20527859237538,
          162.25650557620818,
          195.28781793842035,
          21.789473684210527,
          169.53972257250945,
          38.58064516129032,
          103.05095541401273,
          147.83053691275168,
          167.72134831460673,
          245.17416829745596,
          159.91456582633054,
          153.32045454545454,
          178.67534722222223,
          166.13882863340564,
          15.698412698412698,
          106.2280701754386,
          17.339092872570195,
          103.14686825053995,
          21.121673003802282,
          198.76103896103896,
          227.1320754716981,
          240.8990081154193,
          189.17247238742567,
          89.14619883040936,
          210.22040072859744,
          212.33601286173632,
          170.625,
          159.73734939759035,
          96.15643274853801,
          177.60076530612244,
          190.04790419161677,
          205.16379310344828,
          111.7633289986996,
          227.7711670480549,
          235.1779411764706,
          228.02020202020202,
          168.31102362204723,
          171.77152899824253,
          197.42548076923077,
          106.23339317773788,
          172.16161616161617,
          174.75892857142858,
          149.45434782608694,
          91.77365269461077,
          28.50261780104712,
          191.6107091172214,
          181.70117955439056,
          240.83294930875576,
          86.84953703703704,
          146.73656387665199,
          78.97938144329896,
          22.89010989010989,
          160.46428571428572,
          142.12898089171975,
          181.96472184531885,
          221.2746062992126,
          223.73879781420766,
          20.949852507374633,
          197.64085297418632,
          15.47080291970803,
          106.57095709570957,
          12.166118421052632,
          131.84224250325946,
          212.23024054982818,
          152.66746698679472,
          145.3903743315508,
          231.25215889464593,
          97.55388471177945,
          234.13573700954402,
          174.7015873015873,
          185.8867438867439,
          217.9532215357458,
          174.09182389937106,
          9.5,
          175.721399730821,
          17.27777777777778,
          114.75925925925925,
          153.71214188267393,
          4.045454545454546,
          22.522336769759452,
          12.287671232876713,
          192.54232283464566,
          165.33559782608697,
          109.75695284159613,
          38.798882681564244,
          188.66748166259168,
          146.80884450784595,
          162.68129770992365,
          144.65603190428715,
          33.4,
          174.7887323943662,
          19.885981308411214,
          159.17376294591483,
          229.6597110754414,
          107.08372093023256,
          38.39593908629442,
          118.59411764705882,
          187.46409807355516,
          129.7231884057971,
          165.74543378995435,
          18.505902192242832,
          164.97210300429185,
          218.21376281112737,
          60.276119402985074,
          142.06471494607086,
          135.38148148148147,
          172.86729362591433,
          119.06837606837607,
          179.37482319660538,
          129.18360655737706,
          170.23346828609988,
          177.00616332819723,
          84.5,
          114.33744855967078,
          59.19135802469136,
          147.90368852459017,
          158.1067415730337,
          76.41784702549575,
          180.06051873198848,
          61.45771144278607,
          86.10625,
          81.64145658263305,
          134.28284671532847,
          184.7371601208459,
          217.7953488372093,
          181.3884892086331,
          164.83379888268158,
          30.37719298245614,
          238.76739562624255,
          162.59303482587066,
          122.81818181818181,
          168.5452029520295,
          193.23939393939395,
          145.3846153846154,
          107.33788395904436,
          131.68027210884352,
          157.05850340136055,
          191.31447963800906,
          116.38218390804597,
          165.297583081571,
          166.68117519042437,
          11.281995661605206,
          170.62146226415095,
          136.9061784897025,
          129.05889281507655,
          187.16426949280847,
          142.49904397705544,
          86.25595238095238,
          147.97667638483966,
          107.64075630252101,
          183.3390928725702,
          162.8335135135135,
          6.6318407960199,
          164.06827731092437,
          179.15577889447235,
          88.7784090909091,
          140.83711615487317,
          109.63157894736842,
          197.2304609218437,
          185.9496402877698,
          119.89078498293516,
          202.46022727272728,
          183.96774193548387,
          138.0609195402299,
          161.82754010695186,
          173.56379821958458,
          27.424710424710426,
          143.87057522123894,
          158.03924221921517,
          8.617924528301886,
          70.28679245283018,
          130.74298056155507,
          181.5213068181818,
          157.38055842812824,
          13.241258741258742,
          86.03353057199212,
          120.93423271500843,
          115.53048780487805,
          16.077464788732396,
          20.23936170212766,
          66.1030701754386,
          194.71407837445574,
          127.40312093628089,
          218.79215270413573,
          96.7304347826087,
          145.57843137254903,
          109.27896341463415,
          127.4076923076923,
          192.07703281027105,
          128.92398427260812,
          129.9226932668329,
          152.416149068323,
          12.796195652173912,
          16.77777777777778,
          142.86666666666667,
          109.18488745980707,
          224.36011616650532,
          161.23164426059978,
          176.84770642201835,
          161.6747572815534,
          141.0442054958184,
          27.181360201511335,
          153.5018315018315,
          15.943396226415095,
          17.335311572700295,
          214.51247600767755,
          163.39490445859872,
          76.53754266211604,
          179.52212389380531,
          122.56373193166885,
          136.9303370786517,
          175.5119787045253,
          133.40744920993228,
          176.82525951557093,
          160.85163204747775,
          132.43661971830986,
          34.39495798319328,
          175.87685185185185,
          183.15166340508807,
          40.87527352297593,
          10.672932330827068,
          25.518987341772153,
          111.44430992736078,
          105.61237785016287,
          222.75388026607538,
          142.86387434554973,
          120.21532846715328,
          163.5575679172057,
          131.3912037037037,
          149.67376830892144,
          155.9090909090909,
          150.7677902621723,
          77.91903719912473,
          146.09606986899564,
          160.90758754863813,
          140.36724565756825,
          160.19693094629156,
          10.732394366197184,
          187.43638392857142,
          79.64755838641189,
          175.3684210526316,
          206.73238095238096,
          9.857142857142858,
          185.42907385697538,
          205.8585164835165,
          53.73278236914601,
          182.0231532524807,
          18.304147465437786,
          96.60401002506266,
          185.5065243179122,
          52.501193317422434,
          128.2734693877551,
          120.65813953488372,
          125.27487352445193,
          125.53872053872054,
          162.92293577981653,
          181.5205479452055,
          153.71969696969697,
          136.88288288288288,
          146.11480362537765,
          224.77482088024564,
          11.051724137931034,
          149,
          139.0503355704698,
          143.98932764140875,
          18.43975903614458,
          195.08848614072494,
          121.45092024539878,
          132.67945823927766,
          161.9382391590013,
          86.97737556561086,
          145.91186839012926,
          183.56035578144855,
          38.774358974358975,
          16.519893899204245,
          26.423423423423422,
          159.49081632653062,
          112.78791469194313,
          176.95987654320987,
          129.02215189873417,
          108.9090909090909,
          72.02731411229135,
          21.392982456140352,
          192.2392444910808,
          238.30525272547075,
          106.30070754716981,
          192.96829971181558,
          144.93771626297578,
          136.91857506361322,
          14.212218649517684,
          24.625,
          153.74603174603175,
          183.33846153846153,
          153.0677966101695,
          161.21851851851852,
          30.3,
          13.241975308641976,
          31.715404699738905,
          178.89001692047378,
          32.33579335793358,
          157.82960199004975,
          162.33163265306123,
          234.91290983606558,
          162.70777988614802,
          22.705202312138727,
          106.36065573770492,
          152.77554179566565,
          106.98811544991511,
          15.074468085106384,
          18.705882352941178,
          135.10494571773222,
          25.96062992125984,
          237.78473581213308,
          146.83819628647214,
          150.95182724252493,
          191.19358288770053,
          155.0552805280528,
          109.68013468013469,
          204.25707814269535,
          164.21988795518206,
          66,
          12.19718309859155,
          119.55479452054794,
          173.82875816993464,
          24.60670731707317,
          203.59680638722554,
          148.93125,
          147.8882113821138,
          188.53815659068385,
          161.4233206590621,
          180.76493256262043,
          197.88510638297873,
          16.6875,
          38.28810975609756,
          145.84753901560623,
          196.28172043010753,
          62.73580786026201,
          173.8945615982242,
          192.2334975369458,
          219.7013953488372,
          155.42364532019704,
          150.35010266940452,
          132.00689655172414,
          221.047149122807,
          161.72355769230768,
          55.878787878787875,
          186.11323003575686,
          61.95945945945946,
          199.35685483870967,
          163.40250855188143,
          169.62126245847176,
          16.36462093862816,
          116.86213991769547,
          180.06469298245614,
          12.10943396226415,
          61.01528384279476,
          173.7900432900433,
          167.89326556543838,
          13.116910229645095,
          177.0792741165234,
          16.6369710467706,
          231.23131313131313,
          39.00709219858156,
          199.3127572016461,
          163.56764427625356,
          12.261986301369863,
          124.42857142857143,
          144.13636363636363,
          173.85310734463278,
          157.78225806451613,
          80.85774058577405,
          179.88282828282829,
          57.03664921465968,
          149.94054580896687,
          210.72101790763432,
          106.84615384615384,
          218.31782065834278,
          69.1503164556962,
          15.333333333333334,
          160.90813397129187,
          56.056306306306304,
          186.6641304347826,
          14.415254237288135,
          27.232142857142858,
          139.75,
          140.90940766550523,
          163.88915375446962,
          177.94166666666666,
          192.45102040816326,
          191.6831955922865,
          213.836230558097,
          121.75826972010178,
          209.8682252922423,
          175.48,
          14.506849315068493,
          184.91880920162382,
          138.9948253557568,
          77.93255813953489,
          8.881081081081081,
          153.612,
          49,
          187.911094224924,
          121.79295154185021,
          195.480635551142,
          236.9411146161935,
          221.24248496993988,
          188.01378446115288,
          174.76272912423624,
          163.86813186813185,
          200.20872865275143,
          190.10109289617486,
          126.82844574780059,
          181.68597168597168,
          63.7723704866562,
          225.84964682139253,
          193.01511879049676,
          155.1341589267286,
          155.7608040201005,
          200.1422986708366,
          171.82448036951502,
          164.99672667757775,
          132.47826086956522,
          181.80452920143028,
          142.64377682403435,
          209.58688147295743,
          52.001288659793815,
          185.45263157894738,
          208.63882352941175,
          210.54607843137254,
          205.79961277831558,
          205.1462365591398,
          200.21297297297298,
          13.068702290076336,
          75.65642994241843,
          234.63664596273293,
          181.20251396648044,
          58.04807692307692,
          180.56917363045497,
          189.50727650727652,
          178.65676959619952,
          123.20504731861199,
          198.96924603174602,
          214.67393675027262,
          118.09867629362215,
          186.65,
          192.25938009787927,
          184.81422924901185,
          213.01505174035748,
          159.14165497896212,
          166.801393728223,
          235.57647058823528,
          204.72148288973384,
          205.67409766454352,
          197.6242774566474,
          203.84086444007858,
          196.03529411764706,
          116.92436974789916,
          187.57831325301206,
          11.348242811501597,
          224.04054054054055,
          41.74832962138085,
          180.95753715498938,
          189.52986725663717,
          36.209354120267264,
          216.00803212851406,
          232.77268292682928,
          51.25255972696246,
          199.7262984336356,
          199.08228460793805,
          12.968553459119496,
          193.16231086657496,
          124.91521197007481,
          174.9136878814298,
          212.88610763454318,
          223.98230088495575,
          220.2185501066098,
          223.4768568353068,
          25.271954674220964,
          80.53846153846153,
          184.85714285714286,
          219.9711229946524,
          175.06141732283464,
          21.64785553047404,
          224.11853245531515,
          49.3810316139767,
          14.3125,
          170.9943820224719,
          48.60919540229885,
          44.03529411764706,
          187.34908700322234,
          198.16186252771618,
          216.57009345794393,
          12.456026058631922,
          42.45103857566765,
          155.8436018957346,
          179.57044198895028,
          230.40594059405942,
          228.929718875502,
          116.05625,
          28.461904761904762,
          235.11297071129707,
          41.535714285714285,
          142.61944444444444,
          25.517578125,
          13.72972972972973,
          12.602523659305994,
          40.05263157894737,
          35.46153846153846,
          12.112903225806452
         ],
         "xaxis": "x",
         "yaxis": "y"
        }
       ],
       "layout": {
        "barmode": "relative",
        "legend": {
         "title": {
          "text": "variable"
         },
         "tracegroupgap": 0
        },
        "template": {
         "data": {
          "bar": [
           {
            "error_x": {
             "color": "#2a3f5f"
            },
            "error_y": {
             "color": "#2a3f5f"
            },
            "marker": {
             "line": {
              "color": "#E5ECF6",
              "width": 0.5
             },
             "pattern": {
              "fillmode": "overlay",
              "size": 10,
              "solidity": 0.2
             }
            },
            "type": "bar"
           }
          ],
          "barpolar": [
           {
            "marker": {
             "line": {
              "color": "#E5ECF6",
              "width": 0.5
             },
             "pattern": {
              "fillmode": "overlay",
              "size": 10,
              "solidity": 0.2
             }
            },
            "type": "barpolar"
           }
          ],
          "carpet": [
           {
            "aaxis": {
             "endlinecolor": "#2a3f5f",
             "gridcolor": "white",
             "linecolor": "white",
             "minorgridcolor": "white",
             "startlinecolor": "#2a3f5f"
            },
            "baxis": {
             "endlinecolor": "#2a3f5f",
             "gridcolor": "white",
             "linecolor": "white",
             "minorgridcolor": "white",
             "startlinecolor": "#2a3f5f"
            },
            "type": "carpet"
           }
          ],
          "choropleth": [
           {
            "colorbar": {
             "outlinewidth": 0,
             "ticks": ""
            },
            "type": "choropleth"
           }
          ],
          "contour": [
           {
            "colorbar": {
             "outlinewidth": 0,
             "ticks": ""
            },
            "colorscale": [
             [
              0,
              "#0d0887"
             ],
             [
              0.1111111111111111,
              "#46039f"
             ],
             [
              0.2222222222222222,
              "#7201a8"
             ],
             [
              0.3333333333333333,
              "#9c179e"
             ],
             [
              0.4444444444444444,
              "#bd3786"
             ],
             [
              0.5555555555555556,
              "#d8576b"
             ],
             [
              0.6666666666666666,
              "#ed7953"
             ],
             [
              0.7777777777777778,
              "#fb9f3a"
             ],
             [
              0.8888888888888888,
              "#fdca26"
             ],
             [
              1,
              "#f0f921"
             ]
            ],
            "type": "contour"
           }
          ],
          "contourcarpet": [
           {
            "colorbar": {
             "outlinewidth": 0,
             "ticks": ""
            },
            "type": "contourcarpet"
           }
          ],
          "heatmap": [
           {
            "colorbar": {
             "outlinewidth": 0,
             "ticks": ""
            },
            "colorscale": [
             [
              0,
              "#0d0887"
             ],
             [
              0.1111111111111111,
              "#46039f"
             ],
             [
              0.2222222222222222,
              "#7201a8"
             ],
             [
              0.3333333333333333,
              "#9c179e"
             ],
             [
              0.4444444444444444,
              "#bd3786"
             ],
             [
              0.5555555555555556,
              "#d8576b"
             ],
             [
              0.6666666666666666,
              "#ed7953"
             ],
             [
              0.7777777777777778,
              "#fb9f3a"
             ],
             [
              0.8888888888888888,
              "#fdca26"
             ],
             [
              1,
              "#f0f921"
             ]
            ],
            "type": "heatmap"
           }
          ],
          "heatmapgl": [
           {
            "colorbar": {
             "outlinewidth": 0,
             "ticks": ""
            },
            "colorscale": [
             [
              0,
              "#0d0887"
             ],
             [
              0.1111111111111111,
              "#46039f"
             ],
             [
              0.2222222222222222,
              "#7201a8"
             ],
             [
              0.3333333333333333,
              "#9c179e"
             ],
             [
              0.4444444444444444,
              "#bd3786"
             ],
             [
              0.5555555555555556,
              "#d8576b"
             ],
             [
              0.6666666666666666,
              "#ed7953"
             ],
             [
              0.7777777777777778,
              "#fb9f3a"
             ],
             [
              0.8888888888888888,
              "#fdca26"
             ],
             [
              1,
              "#f0f921"
             ]
            ],
            "type": "heatmapgl"
           }
          ],
          "histogram": [
           {
            "marker": {
             "pattern": {
              "fillmode": "overlay",
              "size": 10,
              "solidity": 0.2
             }
            },
            "type": "histogram"
           }
          ],
          "histogram2d": [
           {
            "colorbar": {
             "outlinewidth": 0,
             "ticks": ""
            },
            "colorscale": [
             [
              0,
              "#0d0887"
             ],
             [
              0.1111111111111111,
              "#46039f"
             ],
             [
              0.2222222222222222,
              "#7201a8"
             ],
             [
              0.3333333333333333,
              "#9c179e"
             ],
             [
              0.4444444444444444,
              "#bd3786"
             ],
             [
              0.5555555555555556,
              "#d8576b"
             ],
             [
              0.6666666666666666,
              "#ed7953"
             ],
             [
              0.7777777777777778,
              "#fb9f3a"
             ],
             [
              0.8888888888888888,
              "#fdca26"
             ],
             [
              1,
              "#f0f921"
             ]
            ],
            "type": "histogram2d"
           }
          ],
          "histogram2dcontour": [
           {
            "colorbar": {
             "outlinewidth": 0,
             "ticks": ""
            },
            "colorscale": [
             [
              0,
              "#0d0887"
             ],
             [
              0.1111111111111111,
              "#46039f"
             ],
             [
              0.2222222222222222,
              "#7201a8"
             ],
             [
              0.3333333333333333,
              "#9c179e"
             ],
             [
              0.4444444444444444,
              "#bd3786"
             ],
             [
              0.5555555555555556,
              "#d8576b"
             ],
             [
              0.6666666666666666,
              "#ed7953"
             ],
             [
              0.7777777777777778,
              "#fb9f3a"
             ],
             [
              0.8888888888888888,
              "#fdca26"
             ],
             [
              1,
              "#f0f921"
             ]
            ],
            "type": "histogram2dcontour"
           }
          ],
          "mesh3d": [
           {
            "colorbar": {
             "outlinewidth": 0,
             "ticks": ""
            },
            "type": "mesh3d"
           }
          ],
          "parcoords": [
           {
            "line": {
             "colorbar": {
              "outlinewidth": 0,
              "ticks": ""
             }
            },
            "type": "parcoords"
           }
          ],
          "pie": [
           {
            "automargin": true,
            "type": "pie"
           }
          ],
          "scatter": [
           {
            "fillpattern": {
             "fillmode": "overlay",
             "size": 10,
             "solidity": 0.2
            },
            "type": "scatter"
           }
          ],
          "scatter3d": [
           {
            "line": {
             "colorbar": {
              "outlinewidth": 0,
              "ticks": ""
             }
            },
            "marker": {
             "colorbar": {
              "outlinewidth": 0,
              "ticks": ""
             }
            },
            "type": "scatter3d"
           }
          ],
          "scattercarpet": [
           {
            "marker": {
             "colorbar": {
              "outlinewidth": 0,
              "ticks": ""
             }
            },
            "type": "scattercarpet"
           }
          ],
          "scattergeo": [
           {
            "marker": {
             "colorbar": {
              "outlinewidth": 0,
              "ticks": ""
             }
            },
            "type": "scattergeo"
           }
          ],
          "scattergl": [
           {
            "marker": {
             "colorbar": {
              "outlinewidth": 0,
              "ticks": ""
             }
            },
            "type": "scattergl"
           }
          ],
          "scattermapbox": [
           {
            "marker": {
             "colorbar": {
              "outlinewidth": 0,
              "ticks": ""
             }
            },
            "type": "scattermapbox"
           }
          ],
          "scatterpolar": [
           {
            "marker": {
             "colorbar": {
              "outlinewidth": 0,
              "ticks": ""
             }
            },
            "type": "scatterpolar"
           }
          ],
          "scatterpolargl": [
           {
            "marker": {
             "colorbar": {
              "outlinewidth": 0,
              "ticks": ""
             }
            },
            "type": "scatterpolargl"
           }
          ],
          "scatterternary": [
           {
            "marker": {
             "colorbar": {
              "outlinewidth": 0,
              "ticks": ""
             }
            },
            "type": "scatterternary"
           }
          ],
          "surface": [
           {
            "colorbar": {
             "outlinewidth": 0,
             "ticks": ""
            },
            "colorscale": [
             [
              0,
              "#0d0887"
             ],
             [
              0.1111111111111111,
              "#46039f"
             ],
             [
              0.2222222222222222,
              "#7201a8"
             ],
             [
              0.3333333333333333,
              "#9c179e"
             ],
             [
              0.4444444444444444,
              "#bd3786"
             ],
             [
              0.5555555555555556,
              "#d8576b"
             ],
             [
              0.6666666666666666,
              "#ed7953"
             ],
             [
              0.7777777777777778,
              "#fb9f3a"
             ],
             [
              0.8888888888888888,
              "#fdca26"
             ],
             [
              1,
              "#f0f921"
             ]
            ],
            "type": "surface"
           }
          ],
          "table": [
           {
            "cells": {
             "fill": {
              "color": "#EBF0F8"
             },
             "line": {
              "color": "white"
             }
            },
            "header": {
             "fill": {
              "color": "#C8D4E3"
             },
             "line": {
              "color": "white"
             }
            },
            "type": "table"
           }
          ]
         },
         "layout": {
          "annotationdefaults": {
           "arrowcolor": "#2a3f5f",
           "arrowhead": 0,
           "arrowwidth": 1
          },
          "autotypenumbers": "strict",
          "coloraxis": {
           "colorbar": {
            "outlinewidth": 0,
            "ticks": ""
           }
          },
          "colorscale": {
           "diverging": [
            [
             0,
             "#8e0152"
            ],
            [
             0.1,
             "#c51b7d"
            ],
            [
             0.2,
             "#de77ae"
            ],
            [
             0.3,
             "#f1b6da"
            ],
            [
             0.4,
             "#fde0ef"
            ],
            [
             0.5,
             "#f7f7f7"
            ],
            [
             0.6,
             "#e6f5d0"
            ],
            [
             0.7,
             "#b8e186"
            ],
            [
             0.8,
             "#7fbc41"
            ],
            [
             0.9,
             "#4d9221"
            ],
            [
             1,
             "#276419"
            ]
           ],
           "sequential": [
            [
             0,
             "#0d0887"
            ],
            [
             0.1111111111111111,
             "#46039f"
            ],
            [
             0.2222222222222222,
             "#7201a8"
            ],
            [
             0.3333333333333333,
             "#9c179e"
            ],
            [
             0.4444444444444444,
             "#bd3786"
            ],
            [
             0.5555555555555556,
             "#d8576b"
            ],
            [
             0.6666666666666666,
             "#ed7953"
            ],
            [
             0.7777777777777778,
             "#fb9f3a"
            ],
            [
             0.8888888888888888,
             "#fdca26"
            ],
            [
             1,
             "#f0f921"
            ]
           ],
           "sequentialminus": [
            [
             0,
             "#0d0887"
            ],
            [
             0.1111111111111111,
             "#46039f"
            ],
            [
             0.2222222222222222,
             "#7201a8"
            ],
            [
             0.3333333333333333,
             "#9c179e"
            ],
            [
             0.4444444444444444,
             "#bd3786"
            ],
            [
             0.5555555555555556,
             "#d8576b"
            ],
            [
             0.6666666666666666,
             "#ed7953"
            ],
            [
             0.7777777777777778,
             "#fb9f3a"
            ],
            [
             0.8888888888888888,
             "#fdca26"
            ],
            [
             1,
             "#f0f921"
            ]
           ]
          },
          "colorway": [
           "#636efa",
           "#EF553B",
           "#00cc96",
           "#ab63fa",
           "#FFA15A",
           "#19d3f3",
           "#FF6692",
           "#B6E880",
           "#FF97FF",
           "#FECB52"
          ],
          "font": {
           "color": "#2a3f5f"
          },
          "geo": {
           "bgcolor": "white",
           "lakecolor": "white",
           "landcolor": "#E5ECF6",
           "showlakes": true,
           "showland": true,
           "subunitcolor": "white"
          },
          "hoverlabel": {
           "align": "left"
          },
          "hovermode": "closest",
          "mapbox": {
           "style": "light"
          },
          "paper_bgcolor": "white",
          "plot_bgcolor": "#E5ECF6",
          "polar": {
           "angularaxis": {
            "gridcolor": "white",
            "linecolor": "white",
            "ticks": ""
           },
           "bgcolor": "#E5ECF6",
           "radialaxis": {
            "gridcolor": "white",
            "linecolor": "white",
            "ticks": ""
           }
          },
          "scene": {
           "xaxis": {
            "backgroundcolor": "#E5ECF6",
            "gridcolor": "white",
            "gridwidth": 2,
            "linecolor": "white",
            "showbackground": true,
            "ticks": "",
            "zerolinecolor": "white"
           },
           "yaxis": {
            "backgroundcolor": "#E5ECF6",
            "gridcolor": "white",
            "gridwidth": 2,
            "linecolor": "white",
            "showbackground": true,
            "ticks": "",
            "zerolinecolor": "white"
           },
           "zaxis": {
            "backgroundcolor": "#E5ECF6",
            "gridcolor": "white",
            "gridwidth": 2,
            "linecolor": "white",
            "showbackground": true,
            "ticks": "",
            "zerolinecolor": "white"
           }
          },
          "shapedefaults": {
           "line": {
            "color": "#2a3f5f"
           }
          },
          "ternary": {
           "aaxis": {
            "gridcolor": "white",
            "linecolor": "white",
            "ticks": ""
           },
           "baxis": {
            "gridcolor": "white",
            "linecolor": "white",
            "ticks": ""
           },
           "bgcolor": "#E5ECF6",
           "caxis": {
            "gridcolor": "white",
            "linecolor": "white",
            "ticks": ""
           }
          },
          "title": {
           "x": 0.05
          },
          "xaxis": {
           "automargin": true,
           "gridcolor": "white",
           "linecolor": "white",
           "ticks": "",
           "title": {
            "standoff": 15
           },
           "zerolinecolor": "white",
           "zerolinewidth": 2
          },
          "yaxis": {
           "automargin": true,
           "gridcolor": "white",
           "linecolor": "white",
           "ticks": "",
           "title": {
            "standoff": 15
           },
           "zerolinecolor": "white",
           "zerolinewidth": 2
          }
         }
        },
        "title": {
         "text": "nucleus_neun_avg_int_in_CA"
        },
        "xaxis": {
         "anchor": "y",
         "domain": [
          0,
          1
         ],
         "range": [
          0,
          255
         ],
         "title": {
          "text": "nucleus_neun_avg_int"
         }
        },
        "yaxis": {
         "anchor": "x",
         "domain": [
          0,
          1
         ],
         "title": {
          "text": "count"
         }
        }
       }
      }
     },
     "metadata": {},
     "output_type": "display_data"
    },
    {
     "data": {
      "application/vnd.plotly.v1+json": {
       "config": {
        "plotlyServerURL": "https://plot.ly"
       },
       "data": [
        {
         "alignmentgroup": "True",
         "bingroup": "x",
         "hovertemplate": "variable=nucleus_neun_avg_int<br>nucleus_neun_avg_int=%{x}<br>count=%{y}<extra></extra>",
         "legendgroup": "nucleus_neun_avg_int",
         "marker": {
          "color": "#636efa",
          "pattern": {
           "shape": ""
          }
         },
         "name": "nucleus_neun_avg_int",
         "nbinsx": 256,
         "offsetgroup": "nucleus_neun_avg_int",
         "orientation": "v",
         "showlegend": true,
         "type": "histogram",
         "x": [
          55.98671096345515,
          31.361370716510905,
          71.51094890510949,
          116.01212121212122,
          61.07058823529412,
          180.4871406959153,
          71.75,
          61.990566037735846,
          45.184615384615384,
          213.73843416370107,
          24.91176470588235,
          116.45964912280702,
          203.37964774951075,
          184.99253731343285,
          44.83458646616541,
          16.17241379310345,
          172.68373493975903,
          173.08064516129033,
          118.9274193548387,
          60.54375,
          47.625,
          147.60487804878048,
          199.97292993630575,
          198.7405063291139,
          126.26059322033899,
          159.00602409638554,
          12.063047285464098,
          191.70427350427352,
          74.41643059490085,
          23.583333333333332,
          138.07042253521126,
          80.00238095238095,
          84.42890995260663,
          86.03361344537815,
          201.10757575757575,
          86.07851239669421,
          57.642405063291136,
          98.088948787062,
          64.65019011406844,
          34.05450236966825,
          134.69246861924685,
          120.06818181818181,
          186.50886524822695,
          88.2506329113924,
          36.82251082251082,
          101.78769230769231,
          70.62995594713657,
          165.72494669509595,
          89.17054263565892,
          106.62093862815884,
          94.00291545189505,
          65.69747899159664,
          51.642857142857146,
          185.798828125,
          220.6,
          17.25609756097561,
          25.126436781609197,
          53.63265306122449,
          159.55421686746988,
          90.87135922330097,
          54.45728643216081,
          28.208333333333332,
          73.25483870967741,
          120.46341463414635,
          127.60087719298245,
          219.0578125,
          88.4069264069264,
          75.4176245210728,
          74.37261146496816,
          43.17427385892116,
          198.8445171849427,
          193.5174129353234,
          201.37051039697542,
          68.10726643598616,
          211.74098360655736,
          66.68707482993197,
          87.92463768115942,
          58.718468468468465,
          111.91458333333334,
          74.36532507739938,
          62.71615720524017,
          106.23725490196078,
          43.3130081300813,
          189.24307692307693,
          87.31724137931035,
          92.78598484848484,
          67.42090395480226,
          84.51984126984127,
          211.40862422997947,
          67.66857142857143,
          85.68016194331983,
          184.4320652173913,
          66.95918367346938,
          9.160337552742616,
          197.5437616387337,
          102.76771653543307,
          78.59948979591837,
          51.76315789473684,
          62.9867374005305,
          100.25905292479109,
          9.991935483870968,
          105.85990338164251,
          76.62612612612612,
          56.57848837209303,
          92.68571428571428,
          195.8656330749354,
          70.97864768683274,
          15.693236714975846,
          76.84615384615384,
          44.31901840490798,
          75.05154639175258,
          41.46976744186046,
          101.29078014184397,
          100.55882352941177,
          137.16135881104034,
          101.90196078431373,
          14.69078947368421,
          94.56495468277946,
          101.4024024024024,
          107.85333333333334,
          100.423828125,
          153.07462686567163,
          35.853658536585364,
          118.66885964912281,
          70.39299610894942,
          82.97326203208556,
          158.4018691588785,
          67.29597701149426,
          104.66920152091255,
          11.349152542372881,
          70.90489130434783,
          95.699604743083,
          81.97506925207756,
          73.38345864661655,
          185.9240506329114,
          97.49468085106383,
          97.6375,
          90.12316715542522,
          42.42718446601942,
          113.18733509234829,
          51.624548736462096,
          104.4625,
          179.27009222661397,
          18.711111111111112,
          37.09885931558935,
          120.05847953216374,
          129.8711433756806,
          20.453551912568305,
          11.143790849673202,
          76.44844124700239,
          73.11061946902655,
          95.2433234421365,
          35.285714285714285,
          75.89402173913044,
          60.672222222222224,
          87.48259860788863,
          203.94631901840492,
          44.31320754716981,
          86.86617100371747,
          90.22658610271904,
          67.37270341207349,
          63.583673469387755,
          15.301003344481606,
          12.304878048780488,
          80.81847133757962,
          84.19281045751634,
          101.44190871369294,
          38.95744680851064,
          105.45378151260505,
          144.93995381062356,
          53.04054054054054,
          87.33809523809524,
          12.304761904761905,
          197.59958506224066,
          13.095607235142118,
          85.40566037735849,
          81.9696261682243,
          74.72222222222223,
          195.3556942277691,
          32.35230352303523,
          10.88495575221239,
          9.621052631578948,
          65.00508905852418,
          66.1604938271605,
          22.12121212121212,
          21.004405286343612,
          106.7969696969697,
          41.406639004149376,
          91.73854447439354,
          84.85964912280701,
          141.81074168797954,
          168.2158273381295,
          146.864768683274,
          96.61764705882354,
          65.34246575342466,
          60.63157894736842,
          61.1703056768559,
          165.68676470588235,
          64.39748953974896,
          78.13548387096775,
          85.97350993377484,
          187.40350877192984,
          75.60888888888888,
          70.28735632183908,
          71.0034965034965,
          10.554901960784314,
          114.85046728971963,
          56.78431372549019,
          12.379084967320262,
          111.07082152974505,
          187.04075691411936,
          56.22097378277154,
          66.84065934065934,
          51.208333333333336,
          99.37777777777778,
          194.61237785016286,
          135.32954545454547,
          67.83208955223881,
          30.44871794871795,
          142.275,
          82.48907103825137,
          100.847533632287,
          111.23206751054852,
          58.51136363636363,
          52.425438596491226,
          21.629850746268655,
          140.7788944723618,
          196.52739726027397,
          41.285714285714285,
          70.16138328530259,
          100.58695652173913,
          70.47154471544715,
          12.005449591280653,
          73.33834586466165,
          32.95673076923077,
          104.7360774818402,
          13.638095238095238,
          90.25838926174497,
          86.35277777777777,
          218.33810888252148,
          57.06744868035191,
          71.20626631853786,
          86.7196261682243,
          106.63849765258216,
          93.97278911564626,
          156.252688172043,
          104.59688581314879,
          82.09433962264151,
          19.234256926952142,
          80.82527881040892,
          189.91666666666666,
          85.66292134831461,
          104.14690721649484,
          124.96703296703296,
          121.8018018018018,
          163.25873015873015,
          42.16334661354582,
          105.15647921760392,
          101.06354515050167,
          62.34146341463415,
          90.85714285714286,
          53.919571045576404,
          112.5685618729097,
          14.861486486486486,
          128.22169811320754,
          87.1178247734139,
          172.05645161290323,
          12.662650602409638,
          77.36065573770492,
          90.50530035335689,
          68.76644736842105,
          177.44,
          55.75416666666667,
          92.44884488448845,
          12.405109489051094,
          22.885167464114833,
          181.53358925143954,
          64.64561403508772,
          39.65482233502538,
          77.15873015873017,
          56.59440559440559,
          71.21489971346705,
          161.9737335834897,
          29.230576441102755,
          43.186119873817034,
          15.80625,
          90.26036866359448,
          181.0581395348837,
          100.95882352941176,
          147.18083182640146,
          152.225,
          150.2122905027933,
          11.5,
          58.62081784386617,
          47.33830845771144,
          73.35454545454546,
          82.10121457489879,
          80.11439114391143,
          82.62461538461538,
          235.67254901960786,
          10.375,
          58.900383141762454,
          14.393700787401574,
          133.81621621621622,
          196.97799511002444,
          94.95673076923077,
          87.32876712328768,
          144.45679012345678,
          55.73202614379085,
          15.042735042735043,
          13.65625,
          66.0031545741325,
          60.632,
          111.08951965065502,
          118.83850931677019,
          150.09612403100775,
          85.86548223350253,
          117.6120218579235,
          97.5579268292683,
          78.56836461126005,
          68.01282051282051,
          45.888888888888886,
          9.422818791946309,
          228.92428198433421,
          30.018633540372672,
          82.94466403162055,
          102.66478873239437,
          182.2041884816754,
          20.209302325581394,
          76.5695067264574,
          7.771929824561403,
          61.30994152046784,
          125.89497716894977,
          8.480519480519481,
          87.24653739612188,
          118.2995867768595,
          15.649275362318841,
          9.547445255474452,
          58.82954545454545,
          68.38,
          114.6978021978022,
          67.63779527559055,
          73.99547511312217,
          147.981220657277,
          113.0466472303207,
          94.3010033444816,
          139.22712933753942,
          13.93733681462141,
          80.62333333333333,
          29.753623188405797,
          76.6840579710145,
          111.02947845804988,
          154.9358108108108,
          82.5373665480427,
          131.83870967741936,
          77.07123287671233,
          94.62,
          17.715625,
          57.083941605839414,
          97.44755244755245,
          86.54237288135593,
          7.309210526315789,
          80.84166666666667,
          84.5764192139738,
          44.76260162601626,
          91.57039711191335,
          210.90413533834587,
          125.2896174863388,
          103.10377358490567,
          95.39306358381504,
          99.47927461139896,
          76.03048780487805,
          117.47315436241611,
          78.35153583617748,
          116.74461538461539,
          73.63559322033899,
          167.84761904761905,
          69.94767441860465,
          77.95336787564767,
          192.0287081339713,
          63.87417218543046,
          87.98031496062993,
          20.09271523178808,
          9.254901960784315,
          83.15625,
          64.65402843601896,
          43.80373831775701,
          102.38666666666667,
          110.94949494949495,
          88.65873015873017,
          81.5709090909091,
          70.83,
          63.230366492146594,
          59.27639751552795,
          199.08080808080808,
          121.19142857142857,
          187.35471698113207,
          5.83982683982684,
          97.64204545454545,
          120.06605922551253,
          79,
          75.80952380952381,
          177.69505494505495,
          53.375,
          71.8740157480315,
          47.82330827067669,
          164.275,
          116.6980198019802,
          71.63921568627451,
          72.45564516129032,
          96.79896907216495,
          48.1875,
          85.37278106508876,
          9.929752066115702,
          100.5925925925926,
          159.83288409703505,
          42.81730769230769,
          60.81060606060606,
          5.090909090909091,
          39.09254498714653,
          69.95965417867436,
          55.347266881028936,
          54.05154639175258,
          38.536121673003805,
          12.95608108108108,
          185.31496062992127,
          139.2190889370933,
          93.30044843049328,
          91.81401617250674,
          82.70080321285141,
          125.86285714285714,
          133.57178217821783,
          37.20518867924528,
          78.60701754385966,
          68.87603305785125,
          73.11924119241192,
          102.74178403755869,
          89.88535031847134,
          193.46743295019158,
          76.4338028169014,
          45.45192307692308,
          9.856060606060606,
          94.20652173913044,
          94.74038461538461,
          9.730666666666666,
          18.496794871794872,
          95.41224489795918,
          167.0400890868597,
          137.62724014336916,
          70.28807947019868,
          52.65172413793103,
          36.01823708206687,
          83.5375,
          82.50854700854701,
          99.69444444444444,
          14.384223918575064,
          139.36660929432014,
          69.9203187250996,
          127.8986013986014,
          103.68883610451306,
          88.72161172161172,
          13.103503184713375,
          38.87375415282392,
          83.22907488986785,
          61.167910447761194,
          77.58315334773218,
          13.817927170868348,
          98.28783382789318,
          79.51685393258427,
          50.81122448979592,
          134.59415584415584,
          32.205128205128204,
          15.960365853658537,
          17.252525252525253,
          61.27390180878553,
          52.88135593220339,
          13.307843137254903,
          173.8197969543147,
          12.413793103448276,
          17.009090909090908,
          200.34014869888475,
          67.37777777777778,
          107.6170731707317,
          57.36144578313253,
          87.02463054187191,
          81.29605263157895,
          148.9047619047619,
          74.60852713178295,
          195.22477876106194,
          12.163934426229508,
          28.6,
          85.64075067024129,
          15.848970251716247,
          40.31612903225806,
          122.57719714964371,
          32.91608391608391,
          72.77450980392157,
          176.44055944055944,
          15.22279792746114,
          172.60922330097088,
          37.44635193133047,
          64.3170731707317,
          87.67076167076166,
          121.57582938388626,
          73.03422982885085,
          23.628808864265928,
          36.6958762886598,
          44.16526610644258,
          27.49003984063745,
          89.02112676056338,
          93.1144578313253,
          170.75280898876406,
          30.33222591362126,
          136.66666666666666,
          53.64782608695652,
          71.48275862068965,
          13.009118541033434,
          145.5788590604027,
          11.842287694974004,
          67.68316831683168,
          89.69742489270386,
          40.44387755102041,
          91.08461538461539,
          167.99122807017545,
          107.95874263261297,
          70.27859237536657,
          63.99598393574297,
          83.12765957446808,
          7.73536299765808,
          208.4624145785877,
          172.95477386934672,
          43.484162895927604,
          82.13650793650794,
          10.281437125748504,
          36.383783783783784,
          75.24909747292419,
          6.558659217877095,
          78.90082644628099,
          65.85271317829458,
          92.4108527131783,
          10.057142857142857,
          71.475,
          74.22077922077922,
          84.38046272493574,
          65.1541755888651,
          77.4463768115942,
          68.34406438631791,
          113.84097035040432,
          74.6793349168646,
          181.69121140142516,
          104.57591623036649,
          183.6993006993007,
          85.03307888040712,
          44.75675675675676,
          7.041269841269841,
          107.94418604651163,
          30.789115646258505,
          102.84615384615384,
          202.93909626719056,
          60.23275862068966,
          76.89655172413794,
          17.957831325301203,
          52.23880597014925,
          45.54320987654321,
          82.29251700680273,
          13.067073170731707,
          107.28539823008849,
          114.60557768924303,
          83.07407407407408,
          59.78165938864629,
          178.58116883116884,
          161.97964721845318,
          121.58244111349036,
          86.8274111675127,
          5.1381578947368425,
          12.492890995260664,
          98.1608040201005,
          72.64315352697095,
          65.67164179104478,
          48.425414364640886,
          66.68680089485458,
          11.760180995475114,
          97.89562289562289,
          111.60279441117764,
          36.20401337792642,
          48.84805653710247,
          155.11475409836066,
          84.79411764705883,
          59.68181818181818,
          135.91647855530474,
          8.950146627565982,
          75.68298368298369,
          88.9068493150685,
          162.7669172932331,
          28.761061946902654,
          8.223333333333333,
          67.63718820861678,
          38.19303797468354,
          74.55813953488372,
          47.52272727272727,
          11.061224489795919,
          30.87769784172662,
          90.22739018087856,
          19.008982035928145,
          51.5,
          10.913333333333334,
          6.639130434782609,
          8.003194888178914,
          85.55182072829132,
          61.89835164835165,
          68.3655589123867,
          112.1660777385159,
          21.20366972477064,
          87.79495268138801,
          163.7553516819572,
          114.62593984962406,
          66.62037037037037,
          6.938271604938271,
          47.285714285714285,
          5.824451410658307,
          131.4983606557377,
          23.858823529411765,
          86.88198757763975,
          89.125,
          5.260273972602739,
          79.72168284789645,
          66.58863636363637,
          70.39864864864865,
          136.82894736842104,
          83.43006993006993,
          5.1,
          139.73091603053436,
          33.789855072463766,
          66.02898550724638,
          22.26605504587156,
          17.272,
          48.13240418118467,
          46.35202492211838,
          95.99361022364218,
          85.95373665480427,
          71.90268456375838,
          93.00956937799043,
          66.39494163424125,
          24.26050420168067,
          136.6734693877551,
          72.01724137931035,
          56.26938775510204,
          50.74285714285714,
          134.2508896797153,
          53.90163934426229,
          27.62704918032787,
          14.424131627056672,
          79.61556064073227,
          92.6479217603912,
          63.42430278884462,
          14.53763440860215,
          22.3875,
          12.494809688581315,
          51.44444444444444,
          67.90031152647975,
          64.2810707456979,
          104.27300613496932,
          118.42677165354331,
          93.81524926686217,
          183.8535031847134,
          71.3238341968912,
          59.888888888888886,
          179.6395061728395,
          145.065,
          177.28932038834952,
          10.28735632183908,
          63.37339055793991,
          64.19183673469388,
          21.28125,
          42.45454545454545,
          51.873684210526314,
          42.32596685082873,
          54.53383458646616,
          80.6574074074074,
          149.6043613707165,
          76.6174142480211,
          60.61073825503356,
          98.182156133829,
          41.638513513513516,
          58.93286219081272,
          74.44363636363636,
          89.13011152416357,
          140.78738738738738,
          102.63617886178862,
          62.71052631578947,
          84.1576923076923,
          110.82641509433962,
          85.89100817438693,
          29.93189964157706,
          26.95983086680761,
          88.6218487394958,
          12.10204081632653,
          15.257907542579076,
          53.10089020771513,
          61.354304635761586,
          61.57297297297297,
          55.94827586206897,
          67.86559139784946,
          65.77348066298343,
          52.8743961352657,
          23.514705882352942,
          50.864285714285714,
          73.6,
          59.47072599531616,
          8.87741935483871,
          81.13594470046083,
          86.58403361344538,
          162.48391812865498,
          59.93485342019544,
          138.07344632768363,
          113.5709219858156,
          57.94512195121951,
          207.79417475728155,
          123.26621160409556,
          85.9875,
          20.51307847082495,
          139.73251028806584,
          33.98434442270059,
          76.25320512820512,
          51.85123966942149,
          90.56473829201101,
          8.9581589958159,
          63.5,
          181.2188940092166,
          70.93684210526315,
          62.32786885245902,
          58.726907630522085,
          11.407202216066482,
          45.921195652173914,
          121.65,
          94.11538461538461,
          38.69767441860465,
          138.89361702127658,
          14.246666666666666,
          73.39088729016787,
          65.44983818770227,
          102.35240963855422,
          105.66946778711484,
          27.552901023890787,
          111.35955056179775,
          116.15918367346939,
          161.34319526627218,
          80.45954692556634,
          71.87591240875912,
          39.39349112426036,
          179.8425,
          92.97202797202797,
          43.54385964912281,
          84.26646706586827,
          97.98789346246973,
          109.28235294117647,
          53.92982456140351,
          19.46124031007752,
          64.90675241157557,
          91.06138107416879,
          56.43030303030303,
          71.13333333333334,
          63.649289099526065,
          14.995169082125605,
          105.65916398713826,
          31.827956989247312,
          71.37084398976982,
          147.4793388429752,
          105.84810126582279,
          62.51063829787234,
          103.72784810126582,
          118.52857142857142,
          151.7055393586006,
          9.566265060240964,
          145.5786963434022,
          91.91737891737891,
          94.11235955056179,
          103.46612466124661,
          89.09268292682927,
          98.48874598070739,
          59.03875968992248,
          33.872832369942195,
          80.05750798722045,
          79.7645259938838,
          171.57260726072607,
          31.025641025641026,
          169.34408602150538,
          10.063829787234043,
          62.517605633802816,
          88.15044247787611,
          83.44642857142857,
          99.66903914590748,
          83.6218487394958,
          52.72755417956656,
          69.88079470198676,
          69.11295681063123,
          88.39106145251397,
          173.05021834061137,
          101.108,
          61.58391608391609,
          60.19444444444444,
          56.91836734693877,
          97.4669603524229,
          14.34108527131783,
          163.14561664190194,
          43.96527777777778,
          122.54411764705883,
          10.147058823529411,
          5.947368421052632,
          78.75515463917526,
          107.2931506849315,
          23.60649819494585,
          65.67857142857143,
          100.37328767123287,
          153.02777777777777,
          8.174757281553399,
          37.18339100346021,
          159.87344913151364,
          58.96835443037975,
          11.631799163179917,
          43.84651162790698,
          151.40594059405942,
          49.14141414141414,
          8.128048780487806,
          86.68695652173913,
          107.11290322580645,
          140.34151785714286,
          116.49407114624506,
          11.579075425790755,
          35.50684931506849,
          187.00822368421052,
          16.53551912568306,
          108.69190600522194,
          21.718685831622178,
          172.82692307692307,
          66.62457337883959,
          22.874045801526716,
          97.05521472392638,
          19.2710027100271,
          71.3641975308642,
          101.92746113989638,
          14.829787234042554,
          82.3128078817734,
          146.31610044313146,
          172.97773654916512,
          22.976833976833976,
          9.226190476190476,
          89.61471861471861,
          77.91497975708502,
          28.6,
          43.83587786259542,
          78.96551724137932,
          49.19230769230769,
          146.58116883116884,
          99.9164265129683,
          25.149295774647886,
          102.5469387755102,
          11.194379391100703,
          52.48780487804878,
          46.50785340314136,
          92.66871165644172,
          9.820512820512821,
          97.93150684931507,
          69.1404255319149,
          188.95138888888889,
          36.91988130563798,
          42.626666666666665,
          116.21197007481297,
          10.73791348600509,
          104.6686046511628,
          130.2771362586605,
          39.72937293729373,
          105.04347826086956,
          86.87445887445888,
          25.448051948051948,
          20.957920792079207,
          104.92039800995025,
          122.07142857142857,
          103.46883468834689,
          179.4026622296173,
          82.5609756097561,
          8.934959349593496,
          93.2468085106383,
          108.62198391420911,
          208.40173410404626,
          99.15,
          103.60975609756098,
          133.21963824289406,
          63.847133757961785,
          12.32183908045977,
          100.77892561983471,
          55.73076923076923,
          29.21217712177122,
          54.54736842105263,
          64.52777777777777,
          153.93509615384616,
          206.44084278768233,
          13.680232558139535,
          13.833333333333334,
          46.86521739130435,
          11.554140127388536,
          172.76829268292684,
          20,
          73.6355421686747,
          79.12820512820512,
          83.64971751412429,
          146.16629213483145,
          23.50438596491228,
          106.68617021276596,
          17.778280542986426,
          15.334070796460177,
          218.86875,
          137.09113924050632,
          95.88050314465409,
          78.66122448979591,
          92.07868852459016,
          188.03533568904592,
          111.98225806451613,
          14.520547945205479,
          64.29473684210527,
          176.2854578096948,
          14.73873873873874,
          100.75943396226415,
          10.511627906976743,
          58.01327433628319,
          103.74874371859296,
          109.28985507246377,
          28.15359477124183,
          16.218884120171673,
          83.76216216216216,
          28.748538011695906,
          25.0765306122449,
          198.53658536585365,
          69.60051546391753,
          73.91836734693878,
          124.25688073394495,
          148.5234899328859,
          83.60383386581469,
          30.5,
          58.40869565217391,
          80.86899563318778,
          11.884615384615385,
          59.64935064935065,
          113.11616161616162,
          74.95951417004049,
          75.80065359477125,
          111.00354609929079,
          66.59706959706959,
          225.0598006644518,
          88.48863636363636,
          60.874233128834355,
          140.68541666666667,
          77.13297872340425,
          155.32085561497325,
          82.55663430420712,
          116.15018315018315,
          120.53714285714285,
          78.64652567975831,
          84.09846153846154,
          96.27586206896552,
          132.1809523809524,
          83.1996336996337,
          130.63326653306612,
          58.52358490566038,
          59.075630252100844,
          81.57657657657657,
          109.96644295302013,
          102.71236559139786,
          11.11166253101737,
          10.863753213367609,
          51.8021978021978,
          11.231168831168832,
          18.098101265822784,
          128.05217391304348,
          117.94303797468355,
          147.8234265734266,
          65.60730593607306,
          129.25526315789475,
          69.27472527472527,
          15.101522842639595,
          122.1338199513382,
          100.94930875576037,
          76.30051813471502,
          206.89165186500887,
          118.2605633802817,
          92.3971119133574,
          20.36413043478261,
          16.632653061224488,
          166.23031496062993,
          20.55,
          102.41549295774648,
          69.15671641791045,
          57.95384615384615,
          159.2964509394572,
          105.5326530612245,
          61.60294117647059,
          45.014652014652015,
          69.78453038674033,
          117.26470588235294,
          121.54140127388536,
          77.87951807228916,
          66.03693931398416,
          120.32911392405063,
          70.67575757575757,
          84.36986301369863,
          12.115606936416185,
          103.83225806451613,
          82.76171875,
          81.87349397590361,
          163.53018867924527,
          92.06172839506173,
          87.01136363636364,
          134.04683840749414,
          16.587336244541486,
          99.35775862068965,
          27.362433862433864,
          103.412,
          153.1853546910755,
          122.5576923076923,
          100.30967741935484,
          55.723404255319146,
          8.608365019011407,
          46.39798488664987,
          93.2874251497006,
          130.75745526838966,
          135.23333333333332,
          64.05670103092784,
          86.26729559748428,
          41.31460674157304,
          80.69250645994832,
          165.7677642980936,
          76.31399317406144,
          115.33333333333333,
          54.592727272727274,
          12.164948453608247,
          119.22608695652174,
          50.765853658536585,
          168.1873015873016,
          190.95874263261297,
          90.40584415584415,
          130.5507900677201,
          137.87376725838266,
          79.7859778597786,
          61.4954128440367,
          85.1355140186916,
          191.6889692585895,
          10.281464530892448,
          221.01129943502823,
          33.59375,
          21.3159509202454,
          13.58891454965358,
          150.0354430379747,
          17.341463414634145,
          74.58730158730158,
          138.7478260869565,
          89.72413793103448,
          62.81424148606811,
          80.87254901960785,
          14.612068965517242,
          17.83756345177665,
          89.06333333333333,
          90.08125,
          37.666666666666664,
          11.920265780730897,
          13.945454545454545,
          12.168508287292818,
          90.75287356321839,
          106.45238095238095,
          98.12015503875969,
          225.15437392795883,
          203.88727858293075,
          16.35141509433962,
          8.798507462686567,
          100.88085106382978,
          71.72727272727273,
          17.387453874538746,
          46.70247933884298,
          62.47978436657682,
          154.54814814814816,
          91.84166666666667,
          26.98501872659176,
          17.923076923076923,
          114.29735682819383,
          82.82926829268293,
          25.037037037037038,
          19.6125,
          120.22648752399232,
          54.66064981949459,
          69.06666666666666,
          108.45194805194805,
          18.09206349206349,
          66.81410256410257,
          27.12,
          22.54131054131054,
          117.53003533568905,
          181.97747747747746,
          52.94805194805195,
          209.44795539033458,
          67.28313253012048,
          74.76676384839651,
          11.779904306220097,
          116.70285714285714,
          71.43272727272728,
          80.81163434903047,
          43.91459074733096,
          12.033018867924529,
          58.9182156133829,
          84.82790697674419,
          138.23613963039014,
          69.34333333333333,
          134.34018264840182,
          62.0234375,
          91.98017621145374,
          91.18684210526315,
          81.22112211221122,
          100.06488549618321,
          123.06711409395973,
          12.11144578313253,
          105.04301075268818,
          90.5576323987539,
          75.92266666666667,
          150.21732522796353,
          33.59832635983263,
          107.39646464646465,
          140.6193656093489,
          118.51015228426395,
          57.4984520123839,
          31.54798761609907,
          95.9978354978355,
          71.21883656509695,
          99.34722222222223,
          26.212598425196852,
          116.58233890214797,
          65.29752066115702,
          75.125,
          194.60411311053986,
          193.97206703910615,
          17.891666666666666,
          88.36015325670498,
          11.918181818181818,
          47.4,
          131.9806576402321,
          77.0749279538905,
          98.65682656826569,
          97.53235294117647,
          49.603846153846156,
          154.672131147541,
          48.07987220447284,
          152.51939655172413,
          40.22979797979798,
          27.750788643533124,
          11.559055118110237,
          82.65384615384616,
          22.927835051546392,
          75.78481012658227,
          79.8173076923077,
          103.04270462633453,
          20.87378640776699,
          64.52604166666667,
          39.871428571428574,
          104.07407407407408,
          162.61242603550295,
          17.341685649202734,
          177.08389261744966,
          57.15363881401617,
          77.11556603773585,
          110.2,
          9.59375,
          110.55395683453237,
          17.358974358974358,
          69.70951156812339,
          94.39948453608247,
          107.96927374301676,
          35.38775510204081,
          56.77469135802469,
          119.34182590233546,
          97.30268199233717,
          71.09429280397022,
          115.71468926553672,
          126.12747875354107,
          58.73873873873874,
          96.29381443298969,
          13.400749063670412,
          78.98867924528302,
          104.8734793187348,
          10.346633416458852,
          54.10795454545455,
          43.753768844221106,
          70.31147540983606,
          35.65,
          155.91197183098592,
          104.08517350157729,
          98.571875,
          25.63013698630137,
          143.1657848324515,
          17.416376306620208,
          142.0051724137931,
          9.724550898203592,
          99.35781990521328,
          98.75193798449612,
          77.60138248847926,
          123.73548387096774,
          33.40418118466899,
          103.21176470588236,
          94.80890052356021,
          43.04545454545455,
          93.72012578616352,
          100.96503496503496,
          11.0893470790378,
          11.799539170506913,
          204.7626582278481,
          169.66666666666666,
          15.5,
          32.418238993710695,
          11.929765886287626,
          26.167213114754098,
          96.80496453900709,
          92.11801242236025,
          94.50354609929079,
          13.881188118811881,
          78.21052631578948,
          178.72541743970316,
          132.5121951219512,
          12.101214574898785,
          114.52432432432433,
          77.33846153846154,
          47.07913669064748,
          17.216101694915253,
          79.4054054054054,
          163.5137614678899,
          127.8224043715847,
          19.10810810810811,
          104.00461893764434,
          19.509578544061302,
          13.613636363636363,
          10.853896103896103,
          40.935483870967744,
          45.22222222222222,
          90.28169014084507,
          126.19377990430623,
          13.55,
          98.93529411764706,
          142.5339233038348,
          109.05528846153847,
          18.23404255319149,
          52.77567567567568,
          146.8951612903226,
          73.02325581395348,
          97.45614035087719,
          185.14057971014492,
          55.638888888888886,
          55.01020408163265,
          155.7037914691943,
          19.34355828220859,
          66.88025889967638,
          12.74074074074074,
          82.46238938053098,
          14.973821989528796,
          93.66167023554604,
          175.5,
          93.53400503778337,
          15.37799043062201,
          167.95922746781116,
          13.736170212765957,
          81.08372093023256,
          9.638443935926773,
          9.096345514950166,
          66.37745098039215,
          83.05420054200542,
          19.191222570532915,
          65.73654390934844,
          129.44052863436124,
          108.60655737704919,
          131.38340807174887,
          16.70812182741117,
          35.867867867867865,
          91.5880149812734,
          112.86708860759494,
          117.94017094017094,
          168.80869565217392,
          171.8561872909699,
          11.260162601626016,
          12.929971988795518,
          12.175059952038369,
          15.408759124087592,
          10.08108108108108,
          59.215102974828376,
          59.62251655629139,
          107.44806517311609,
          86.36712328767123,
          51.027190332326285,
          80.02941176470588,
          62.1551724137931,
          14.730382293762576,
          8.78448275862069,
          166.2125237191651,
          88.72222222222223,
          73.13671875,
          70.49714285714286,
          71.23243243243243,
          147.58409090909092,
          166.5253863134658,
          137.9189814814815,
          26.272357723577237,
          70.32162162162162,
          122.87650602409639,
          35.22865013774105,
          54.743801652892564,
          96.6390243902439,
          165.38847117794487,
          118.31845238095238,
          169.27586206896552,
          80.17027027027027,
          153.00173913043477,
          82.9875,
          166.00632911392404,
          91.43157894736842,
          116.92489270386267,
          52.13563829787234,
          138.03361344537817,
          68.47717842323651,
          135.1,
          39.52336448598131,
          113.13747228381375,
          88.84,
          156.39652870493993,
          55.79253112033195,
          51.78260869565217,
          66.6025,
          91.9971346704871,
          42.04245283018868,
          8.75,
          87.47447447447448,
          63.73295454545455,
          8.685121107266436,
          170.61904761904762,
          160.2375809935205,
          20.56338028169014,
          27.661290322580644,
          50.587982832618025,
          11.306695464362852,
          83.55801104972376,
          71.66285714285715,
          78.61686746987952,
          124.32027649769586,
          170.72666666666666,
          99.72079772079772,
          122.421768707483,
          66.00655737704918,
          9.408450704225352,
          7.437931034482759,
          83.60091743119266,
          19.242424242424242,
          119.35121951219512,
          55.43911439114391,
          101.6421052631579,
          65.05445544554455,
          62.128571428571426,
          131.63063063063063,
          110.20661157024793,
          95.30678466076697,
          81.50556438791733,
          180.43119266055047,
          194.06806282722513,
          112.41203703703704,
          18.835411471321695,
          22.818181818181817,
          65.920245398773,
          106.8108108108108,
          146.05571847507332,
          83.11848341232228,
          164.8184438040346,
          64.34078212290503,
          10.961340206185566,
          109.78583765112262,
          129.91549295774647,
          87.32835820895522,
          50.64310954063604,
          118.49883990719258,
          104.67592592592592,
          84.43478260869566,
          20.713740458015266,
          80.91981132075472,
          184.37250554323725,
          12.055555555555555,
          40.114754098360656,
          89.74615384615385,
          181.2690166975881,
          57.11363636363637,
          87.91849529780565,
          109.92391304347827,
          76.90265486725664,
          78.42651296829972,
          9.326086956521738,
          56.532085561497325,
          10.129277566539924,
          40.89041095890411,
          80.68085106382979,
          93.73087818696884,
          85.11797752808988,
          118.92622950819673,
          97.5807453416149,
          90.44951923076923,
          98.95077720207254,
          86.90851063829787,
          147.9385026737968,
          77.13730569948187,
          12.90643274853801,
          93.23948220064725,
          103.50965250965251,
          74.75384615384615,
          12.343537414965986,
          165.88650306748465,
          93.36084905660377,
          181.2560975609756,
          33.183673469387756,
          82.22758620689655,
          37.33476394849785,
          124.23809523809524,
          101.2520325203252,
          84.02836879432624,
          96.02102102102103,
          108.86652977412732,
          120.07377049180327,
          124.03083700440529,
          73.12401055408971,
          74.73714285714286,
          70.57974683544303,
          11.629770992366412,
          77.24913494809688,
          96.56052631578947,
          107.84962406015038,
          55.72222222222222,
          153.8782816229117,
          11.565853658536586,
          203.91620111731842,
          45.890728476821195,
          171.1590909090909,
          93.08802816901408,
          124.57022471910112,
          82.33468286099865,
          95.4,
          94.97142857142858,
          37,
          59.95454545454545,
          41.62972292191436,
          42.234657039711195,
          75.81345565749236,
          33.02588996763754,
          94.0031847133758,
          101.91094619666048,
          91.6415770609319,
          13.025236593059937,
          12.303482587064677,
          96.43376623376624,
          48.32426778242678,
          81.42792281498298,
          91.36247723132969,
          95.32692307692308,
          128.8490566037736,
          69.42348754448399,
          9.601941747572816,
          35.42448979591837,
          96.27567567567567,
          101.57716049382717,
          206.7948717948718,
          101.47321428571429,
          80.55524861878453,
          69.22485207100591,
          76.72727272727273,
          60.59206798866855,
          91.0615034168565,
          110.71801566579634,
          73.18032786885246,
          9.629213483146067,
          39,
          93.76872964169381,
          10.041570438799075,
          195.18035714285713,
          150.0375782881002,
          13.380597014925373,
          23.103448275862068,
          86.76608187134502,
          17.467105263157894,
          68.44444444444444,
          86.06091370558376,
          81.4080459770115,
          54.40344827586207,
          9.79646017699115,
          89.51490514905149,
          92.63294797687861,
          158.2794830371567,
          67.73548387096774,
          88.95939086294416,
          9.24793388429752,
          155.20356234096693,
          110.28493150684932,
          60.0625,
          85.83941605839416,
          14.063953488372093,
          92.56341463414634,
          56.05792682926829,
          41.752252252252255,
          10.911917098445596,
          144.21818181818182,
          85.58484848484848,
          11.82857142857143,
          31.96551724137931,
          53.719298245614034,
          81.0592885375494,
          102.90726817042606,
          90.32456140350877,
          195.5621414913958,
          89.224,
          74.91091954022988,
          12.528795811518325,
          116.79256965944272,
          72.76271186440678,
          25.722972972972972,
          69.90262172284645,
          181.1370106761566,
          99.53561253561253,
          10.759450171821307,
          13.285714285714286,
          32.06737588652482,
          70.146875,
          10.813333333333333,
          11.437837837837838,
          71.38786279683377,
          19.110588235294117,
          158.60843373493975,
          24.22,
          48.42424242424242,
          12.486486486486486,
          76.63783783783784,
          103.94505494505495,
          87.71816881258941,
          73.1236559139785,
          79.04191616766467,
          89.57869249394673,
          71.37007874015748,
          26.457013574660632,
          54.457364341085274,
          83.30722891566265,
          26.36986301369863,
          10.95959595959596,
          55.63235294117647,
          69.39558232931726,
          27.964285714285715,
          6.609467455621302,
          51.870253164556964,
          47.093896713615024,
          74.40609137055837,
          17.37051792828685,
          74.56,
          40.74874371859296,
          22.07509881422925,
          11.718446601941748,
          65.33333333333333,
          77.85057471264368,
          35.88073394495413,
          159.06554307116104,
          9.949416342412452,
          51.20866141732284,
          73.18836565096953,
          93.4,
          55.56375838926174,
          42.19897959183673,
          7.339915373765868,
          12.490322580645161,
          12.074626865671641,
          7.4766355140186915,
          161.51785714285714,
          12.439306358381502,
          73.05343511450381,
          96.13559322033899,
          66.46818181818182,
          6.705128205128205,
          15.566037735849056,
          127.01763668430335,
          32.159774436090224,
          62.05793450881612,
          136.6701030927835,
          8.606060606060606,
          56.23348017621145,
          52.720588235294116,
          44.645669291338585,
          15.230263157894736,
          9.987654320987655,
          29.644927536231883,
          9.875,
          60.19389978213508,
          64.94925373134329,
          54.573170731707314,
          100.23333333333333,
          37.73109243697479,
          75.16666666666667,
          64.21065375302663,
          134.8736176935229,
          51.97089947089947,
          77.00817438692098,
          6.094594594594595,
          77.0906432748538,
          33.04347826086956,
          29.974358974358974,
          65.58630136986301,
          107.14425427872861,
          101.9045643153527,
          98.3849765258216,
          74.52847380410023,
          65.76691729323308,
          7.749333333333333,
          153.60816944024205,
          72.55755395683454,
          62.15902140672783,
          58.8052738336714,
          11.368421052631579,
          158.11315789473684,
          64.16183574879227,
          105.41652021089631,
          138.5670588235294,
          80.71428571428571,
          63.220618556701034,
          73.08333333333333,
          68.14414414414415,
          53.017361111111114,
          83.64425770308124,
          109.3072033898305,
          68.64411027568923,
          82.54128440366972,
          74.17765042979943,
          74.38839285714286,
          79.36111111111111,
          65.57460317460317,
          72.97123893805309,
          81.21474358974359,
          57.057432432432435,
          39.55813953488372,
          79.0974358974359,
          8.930455635491606,
          157.93214285714285,
          71.56593406593407,
          75.27334851936219,
          16.946875,
          123.09667673716012,
          75.11409395973155,
          110.78876404494382,
          123.9502262443439,
          13.265536723163843,
          53.80952380952381,
          99.36764705882354,
          169.99180327868854,
          36.30508474576271,
          177.8345864661654,
          17.55593220338983,
          13.6340206185567,
          133.81739130434784,
          106.5,
          73.83180428134557,
          13.713541666666666,
          158.71290322580646,
          58.79643765903308,
          72.76068376068376,
          100.76377952755905,
          55.55673758865248,
          59.8517745302714,
          56.13701923076923,
          84.39304812834224,
          56.914027149321264,
          160.705,
          82.3598615916955,
          76.52777777777777,
          9.096,
          85.39914163090128,
          73.51155115511551,
          29.704918032786885,
          78.1364705882353,
          67.55867346938776,
          7.66321243523316,
          43.82954545454545,
          85.87719298245614,
          74.74803149606299,
          86.25490196078431,
          8.348258706467663,
          73.92961876832844,
          143.46218487394958,
          109.36086956521739,
          69.43003412969283,
          92.74613003095975,
          80.90169491525424,
          75.8361581920904,
          87.7707182320442,
          73.935,
          55.48412698412698,
          66.79428571428572,
          12.161290322580646,
          153.18911917098447,
          154.43579766536965,
          75.6952380952381,
          105.93736501079914,
          86.4718875502008,
          72.66582278481013,
          14.416,
          69.27049180327869,
          27.8644578313253,
          11.946428571428571,
          80.35158501440922,
          9.685224839400428,
          7.547297297297297,
          97.58033573141486,
          119.65060240963855,
          92.64984227129338,
          61.78139534883721,
          54.47089947089947,
          74.60753880266076,
          175.8662613981763,
          51.64874551971326,
          91.51282051282051,
          160.597875569044,
          138.52447552447552,
          24.92056074766355,
          12.429487179487179,
          75.92427616926503,
          165.82654867256636,
          84.03107344632768,
          79.03669724770643,
          10.240853658536585,
          16.86021505376344,
          23.658620689655173,
          58.33064516129032,
          10.84433962264151,
          13.487046632124352,
          192.82578397212544,
          157.14634146341464,
          185.39020537124802,
          153.47172859450728,
          12.220930232558139,
          165.30885122410547,
          104.23509933774834,
          72.3202614379085,
          18.839080459770116,
          62.21551724137931,
          14.28374655647383,
          155.8808080808081,
          23.772972972972973,
          38.776744186046514,
          12.214912280701755
         ],
         "xaxis": "x",
         "yaxis": "y"
        }
       ],
       "layout": {
        "barmode": "relative",
        "legend": {
         "title": {
          "text": "variable"
         },
         "tracegroupgap": 0
        },
        "template": {
         "data": {
          "bar": [
           {
            "error_x": {
             "color": "#2a3f5f"
            },
            "error_y": {
             "color": "#2a3f5f"
            },
            "marker": {
             "line": {
              "color": "#E5ECF6",
              "width": 0.5
             },
             "pattern": {
              "fillmode": "overlay",
              "size": 10,
              "solidity": 0.2
             }
            },
            "type": "bar"
           }
          ],
          "barpolar": [
           {
            "marker": {
             "line": {
              "color": "#E5ECF6",
              "width": 0.5
             },
             "pattern": {
              "fillmode": "overlay",
              "size": 10,
              "solidity": 0.2
             }
            },
            "type": "barpolar"
           }
          ],
          "carpet": [
           {
            "aaxis": {
             "endlinecolor": "#2a3f5f",
             "gridcolor": "white",
             "linecolor": "white",
             "minorgridcolor": "white",
             "startlinecolor": "#2a3f5f"
            },
            "baxis": {
             "endlinecolor": "#2a3f5f",
             "gridcolor": "white",
             "linecolor": "white",
             "minorgridcolor": "white",
             "startlinecolor": "#2a3f5f"
            },
            "type": "carpet"
           }
          ],
          "choropleth": [
           {
            "colorbar": {
             "outlinewidth": 0,
             "ticks": ""
            },
            "type": "choropleth"
           }
          ],
          "contour": [
           {
            "colorbar": {
             "outlinewidth": 0,
             "ticks": ""
            },
            "colorscale": [
             [
              0,
              "#0d0887"
             ],
             [
              0.1111111111111111,
              "#46039f"
             ],
             [
              0.2222222222222222,
              "#7201a8"
             ],
             [
              0.3333333333333333,
              "#9c179e"
             ],
             [
              0.4444444444444444,
              "#bd3786"
             ],
             [
              0.5555555555555556,
              "#d8576b"
             ],
             [
              0.6666666666666666,
              "#ed7953"
             ],
             [
              0.7777777777777778,
              "#fb9f3a"
             ],
             [
              0.8888888888888888,
              "#fdca26"
             ],
             [
              1,
              "#f0f921"
             ]
            ],
            "type": "contour"
           }
          ],
          "contourcarpet": [
           {
            "colorbar": {
             "outlinewidth": 0,
             "ticks": ""
            },
            "type": "contourcarpet"
           }
          ],
          "heatmap": [
           {
            "colorbar": {
             "outlinewidth": 0,
             "ticks": ""
            },
            "colorscale": [
             [
              0,
              "#0d0887"
             ],
             [
              0.1111111111111111,
              "#46039f"
             ],
             [
              0.2222222222222222,
              "#7201a8"
             ],
             [
              0.3333333333333333,
              "#9c179e"
             ],
             [
              0.4444444444444444,
              "#bd3786"
             ],
             [
              0.5555555555555556,
              "#d8576b"
             ],
             [
              0.6666666666666666,
              "#ed7953"
             ],
             [
              0.7777777777777778,
              "#fb9f3a"
             ],
             [
              0.8888888888888888,
              "#fdca26"
             ],
             [
              1,
              "#f0f921"
             ]
            ],
            "type": "heatmap"
           }
          ],
          "heatmapgl": [
           {
            "colorbar": {
             "outlinewidth": 0,
             "ticks": ""
            },
            "colorscale": [
             [
              0,
              "#0d0887"
             ],
             [
              0.1111111111111111,
              "#46039f"
             ],
             [
              0.2222222222222222,
              "#7201a8"
             ],
             [
              0.3333333333333333,
              "#9c179e"
             ],
             [
              0.4444444444444444,
              "#bd3786"
             ],
             [
              0.5555555555555556,
              "#d8576b"
             ],
             [
              0.6666666666666666,
              "#ed7953"
             ],
             [
              0.7777777777777778,
              "#fb9f3a"
             ],
             [
              0.8888888888888888,
              "#fdca26"
             ],
             [
              1,
              "#f0f921"
             ]
            ],
            "type": "heatmapgl"
           }
          ],
          "histogram": [
           {
            "marker": {
             "pattern": {
              "fillmode": "overlay",
              "size": 10,
              "solidity": 0.2
             }
            },
            "type": "histogram"
           }
          ],
          "histogram2d": [
           {
            "colorbar": {
             "outlinewidth": 0,
             "ticks": ""
            },
            "colorscale": [
             [
              0,
              "#0d0887"
             ],
             [
              0.1111111111111111,
              "#46039f"
             ],
             [
              0.2222222222222222,
              "#7201a8"
             ],
             [
              0.3333333333333333,
              "#9c179e"
             ],
             [
              0.4444444444444444,
              "#bd3786"
             ],
             [
              0.5555555555555556,
              "#d8576b"
             ],
             [
              0.6666666666666666,
              "#ed7953"
             ],
             [
              0.7777777777777778,
              "#fb9f3a"
             ],
             [
              0.8888888888888888,
              "#fdca26"
             ],
             [
              1,
              "#f0f921"
             ]
            ],
            "type": "histogram2d"
           }
          ],
          "histogram2dcontour": [
           {
            "colorbar": {
             "outlinewidth": 0,
             "ticks": ""
            },
            "colorscale": [
             [
              0,
              "#0d0887"
             ],
             [
              0.1111111111111111,
              "#46039f"
             ],
             [
              0.2222222222222222,
              "#7201a8"
             ],
             [
              0.3333333333333333,
              "#9c179e"
             ],
             [
              0.4444444444444444,
              "#bd3786"
             ],
             [
              0.5555555555555556,
              "#d8576b"
             ],
             [
              0.6666666666666666,
              "#ed7953"
             ],
             [
              0.7777777777777778,
              "#fb9f3a"
             ],
             [
              0.8888888888888888,
              "#fdca26"
             ],
             [
              1,
              "#f0f921"
             ]
            ],
            "type": "histogram2dcontour"
           }
          ],
          "mesh3d": [
           {
            "colorbar": {
             "outlinewidth": 0,
             "ticks": ""
            },
            "type": "mesh3d"
           }
          ],
          "parcoords": [
           {
            "line": {
             "colorbar": {
              "outlinewidth": 0,
              "ticks": ""
             }
            },
            "type": "parcoords"
           }
          ],
          "pie": [
           {
            "automargin": true,
            "type": "pie"
           }
          ],
          "scatter": [
           {
            "fillpattern": {
             "fillmode": "overlay",
             "size": 10,
             "solidity": 0.2
            },
            "type": "scatter"
           }
          ],
          "scatter3d": [
           {
            "line": {
             "colorbar": {
              "outlinewidth": 0,
              "ticks": ""
             }
            },
            "marker": {
             "colorbar": {
              "outlinewidth": 0,
              "ticks": ""
             }
            },
            "type": "scatter3d"
           }
          ],
          "scattercarpet": [
           {
            "marker": {
             "colorbar": {
              "outlinewidth": 0,
              "ticks": ""
             }
            },
            "type": "scattercarpet"
           }
          ],
          "scattergeo": [
           {
            "marker": {
             "colorbar": {
              "outlinewidth": 0,
              "ticks": ""
             }
            },
            "type": "scattergeo"
           }
          ],
          "scattergl": [
           {
            "marker": {
             "colorbar": {
              "outlinewidth": 0,
              "ticks": ""
             }
            },
            "type": "scattergl"
           }
          ],
          "scattermapbox": [
           {
            "marker": {
             "colorbar": {
              "outlinewidth": 0,
              "ticks": ""
             }
            },
            "type": "scattermapbox"
           }
          ],
          "scatterpolar": [
           {
            "marker": {
             "colorbar": {
              "outlinewidth": 0,
              "ticks": ""
             }
            },
            "type": "scatterpolar"
           }
          ],
          "scatterpolargl": [
           {
            "marker": {
             "colorbar": {
              "outlinewidth": 0,
              "ticks": ""
             }
            },
            "type": "scatterpolargl"
           }
          ],
          "scatterternary": [
           {
            "marker": {
             "colorbar": {
              "outlinewidth": 0,
              "ticks": ""
             }
            },
            "type": "scatterternary"
           }
          ],
          "surface": [
           {
            "colorbar": {
             "outlinewidth": 0,
             "ticks": ""
            },
            "colorscale": [
             [
              0,
              "#0d0887"
             ],
             [
              0.1111111111111111,
              "#46039f"
             ],
             [
              0.2222222222222222,
              "#7201a8"
             ],
             [
              0.3333333333333333,
              "#9c179e"
             ],
             [
              0.4444444444444444,
              "#bd3786"
             ],
             [
              0.5555555555555556,
              "#d8576b"
             ],
             [
              0.6666666666666666,
              "#ed7953"
             ],
             [
              0.7777777777777778,
              "#fb9f3a"
             ],
             [
              0.8888888888888888,
              "#fdca26"
             ],
             [
              1,
              "#f0f921"
             ]
            ],
            "type": "surface"
           }
          ],
          "table": [
           {
            "cells": {
             "fill": {
              "color": "#EBF0F8"
             },
             "line": {
              "color": "white"
             }
            },
            "header": {
             "fill": {
              "color": "#C8D4E3"
             },
             "line": {
              "color": "white"
             }
            },
            "type": "table"
           }
          ]
         },
         "layout": {
          "annotationdefaults": {
           "arrowcolor": "#2a3f5f",
           "arrowhead": 0,
           "arrowwidth": 1
          },
          "autotypenumbers": "strict",
          "coloraxis": {
           "colorbar": {
            "outlinewidth": 0,
            "ticks": ""
           }
          },
          "colorscale": {
           "diverging": [
            [
             0,
             "#8e0152"
            ],
            [
             0.1,
             "#c51b7d"
            ],
            [
             0.2,
             "#de77ae"
            ],
            [
             0.3,
             "#f1b6da"
            ],
            [
             0.4,
             "#fde0ef"
            ],
            [
             0.5,
             "#f7f7f7"
            ],
            [
             0.6,
             "#e6f5d0"
            ],
            [
             0.7,
             "#b8e186"
            ],
            [
             0.8,
             "#7fbc41"
            ],
            [
             0.9,
             "#4d9221"
            ],
            [
             1,
             "#276419"
            ]
           ],
           "sequential": [
            [
             0,
             "#0d0887"
            ],
            [
             0.1111111111111111,
             "#46039f"
            ],
            [
             0.2222222222222222,
             "#7201a8"
            ],
            [
             0.3333333333333333,
             "#9c179e"
            ],
            [
             0.4444444444444444,
             "#bd3786"
            ],
            [
             0.5555555555555556,
             "#d8576b"
            ],
            [
             0.6666666666666666,
             "#ed7953"
            ],
            [
             0.7777777777777778,
             "#fb9f3a"
            ],
            [
             0.8888888888888888,
             "#fdca26"
            ],
            [
             1,
             "#f0f921"
            ]
           ],
           "sequentialminus": [
            [
             0,
             "#0d0887"
            ],
            [
             0.1111111111111111,
             "#46039f"
            ],
            [
             0.2222222222222222,
             "#7201a8"
            ],
            [
             0.3333333333333333,
             "#9c179e"
            ],
            [
             0.4444444444444444,
             "#bd3786"
            ],
            [
             0.5555555555555556,
             "#d8576b"
            ],
            [
             0.6666666666666666,
             "#ed7953"
            ],
            [
             0.7777777777777778,
             "#fb9f3a"
            ],
            [
             0.8888888888888888,
             "#fdca26"
            ],
            [
             1,
             "#f0f921"
            ]
           ]
          },
          "colorway": [
           "#636efa",
           "#EF553B",
           "#00cc96",
           "#ab63fa",
           "#FFA15A",
           "#19d3f3",
           "#FF6692",
           "#B6E880",
           "#FF97FF",
           "#FECB52"
          ],
          "font": {
           "color": "#2a3f5f"
          },
          "geo": {
           "bgcolor": "white",
           "lakecolor": "white",
           "landcolor": "#E5ECF6",
           "showlakes": true,
           "showland": true,
           "subunitcolor": "white"
          },
          "hoverlabel": {
           "align": "left"
          },
          "hovermode": "closest",
          "mapbox": {
           "style": "light"
          },
          "paper_bgcolor": "white",
          "plot_bgcolor": "#E5ECF6",
          "polar": {
           "angularaxis": {
            "gridcolor": "white",
            "linecolor": "white",
            "ticks": ""
           },
           "bgcolor": "#E5ECF6",
           "radialaxis": {
            "gridcolor": "white",
            "linecolor": "white",
            "ticks": ""
           }
          },
          "scene": {
           "xaxis": {
            "backgroundcolor": "#E5ECF6",
            "gridcolor": "white",
            "gridwidth": 2,
            "linecolor": "white",
            "showbackground": true,
            "ticks": "",
            "zerolinecolor": "white"
           },
           "yaxis": {
            "backgroundcolor": "#E5ECF6",
            "gridcolor": "white",
            "gridwidth": 2,
            "linecolor": "white",
            "showbackground": true,
            "ticks": "",
            "zerolinecolor": "white"
           },
           "zaxis": {
            "backgroundcolor": "#E5ECF6",
            "gridcolor": "white",
            "gridwidth": 2,
            "linecolor": "white",
            "showbackground": true,
            "ticks": "",
            "zerolinecolor": "white"
           }
          },
          "shapedefaults": {
           "line": {
            "color": "#2a3f5f"
           }
          },
          "ternary": {
           "aaxis": {
            "gridcolor": "white",
            "linecolor": "white",
            "ticks": ""
           },
           "baxis": {
            "gridcolor": "white",
            "linecolor": "white",
            "ticks": ""
           },
           "bgcolor": "#E5ECF6",
           "caxis": {
            "gridcolor": "white",
            "linecolor": "white",
            "ticks": ""
           }
          },
          "title": {
           "x": 0.05
          },
          "xaxis": {
           "automargin": true,
           "gridcolor": "white",
           "linecolor": "white",
           "ticks": "",
           "title": {
            "standoff": 15
           },
           "zerolinecolor": "white",
           "zerolinewidth": 2
          },
          "yaxis": {
           "automargin": true,
           "gridcolor": "white",
           "linecolor": "white",
           "ticks": "",
           "title": {
            "standoff": 15
           },
           "zerolinecolor": "white",
           "zerolinewidth": 2
          }
         }
        },
        "title": {
         "text": "nucleus_neun_avg_int_in_DG"
        },
        "xaxis": {
         "anchor": "y",
         "domain": [
          0,
          1
         ],
         "range": [
          0,
          255
         ],
         "title": {
          "text": "nucleus_neun_avg_int"
         }
        },
        "yaxis": {
         "anchor": "x",
         "domain": [
          0,
          1
         ],
         "title": {
          "text": "count"
         }
        }
       }
      }
     },
     "metadata": {},
     "output_type": "display_data"
    },
    {
     "data": {
      "application/vnd.plotly.v1+json": {
       "config": {
        "plotlyServerURL": "https://plot.ly"
       },
       "data": [
        {
         "alignmentgroup": "True",
         "bingroup": "x",
         "hovertemplate": "variable=cytoplasm_calbindin_avg_int<br>cytoplasm_calbindin_avg_int=%{x}<br>count=%{y}<extra></extra>",
         "legendgroup": "cytoplasm_calbindin_avg_int",
         "marker": {
          "color": "#636efa",
          "pattern": {
           "shape": ""
          }
         },
         "name": "cytoplasm_calbindin_avg_int",
         "nbinsx": 256,
         "offsetgroup": "cytoplasm_calbindin_avg_int",
         "orientation": "v",
         "showlegend": true,
         "type": "histogram",
         "x": [
          12.485148514851485,
          14.086705202312139,
          15.710280373831775,
          8.805755395683454,
          15.851145038167939,
          12.31547619047619,
          11.206703910614525,
          17.634328358208954,
          4.98989898989899,
          10.078125,
          12.6,
          17.027522935779817,
          15.817427385892117,
          20.621761658031087,
          8.835616438356164,
          12.363636363636363,
          11.826732673267326,
          13.216450216450216,
          17.330708661417322,
          16.986301369863014,
          11.859154929577464,
          13.656441717791411,
          10.203821656050955,
          16.428571428571427,
          13.6015625,
          12.6875,
          15.96111111111111,
          12.089473684210526,
          18.32941176470588,
          17.61081081081081,
          13.080536912751677,
          10.468599033816425,
          18.604743083003953,
          16.65702479338843,
          10.435185185185185,
          13.276119402985074,
          18.305555555555557,
          18.284615384615385,
          20.15909090909091,
          12.572972972972973,
          11.790476190476191,
          24.664893617021278,
          23.12574850299401,
          12.17032967032967,
          19.900414937759336,
          16.967741935483872,
          12.548192771084338,
          30.93548387096774,
          17.485714285714284,
          10.57920792079208,
          31.86285714285714,
          26.27038626609442,
          20.74590163934426,
          19.58100558659218,
          18.273972602739725,
          13.318181818181818,
          26.639024390243904,
          13.613138686131387,
          16.148325358851675,
          20.52238805970149,
          24.269430051813472,
          15.30188679245283,
          30.944444444444443,
          25.17241379310345,
          17.360759493670887,
          26.029761904761905,
          28.220338983050848,
          26.96323529411765,
          28.775757575757577,
          13.285714285714286,
          12.119617224880383,
          7.703703703703703,
          28.33103448275862,
          27.333333333333332,
          17.25563909774436,
          13.405555555555555,
          20.207792207792206,
          28.596491228070175,
          23.92,
          30.21917808219178,
          22.183673469387756,
          9.467948717948717,
          23.92929292929293,
          29.757575757575758,
          23.32034632034632,
          27.865079365079364,
          21.885057471264368,
          24.95959595959596,
          24.827751196172247,
          18.315315315315317,
          26.73949579831933,
          31.593984962406015,
          42.51485148514851,
          23.503225806451614,
          28.505681818181817,
          27.317365269461078,
          32.57425742574257,
          12.635135135135135,
          32.3072625698324,
          27.567164179104477,
          30.5,
          32.43125,
          26.585987261146496,
          27.62420382165605,
          25.544303797468356,
          25.15126050420168,
          38.77439024390244,
          32.656716417910445,
          22.748427672955973,
          36.407407407407405,
          24.983193277310924,
          21.34355828220859,
          35.7420814479638,
          31.42603550295858,
          34.231884057971016,
          20.75,
          30.74576271186441,
          22.529761904761905,
          25.647398843930635,
          36.72,
          35.81395348837209,
          28.583892617449663,
          19.898477157360407,
          23.535135135135135,
          25.830303030303032,
          32.874213836477985,
          29.524324324324326,
          22.99137931034483,
          19.5207100591716,
          32.53431372549019,
          19.60169491525424,
          15.417218543046358,
          25.633333333333333,
          11.192307692307692,
          33.64242424242424,
          19.862068965517242,
          26.977678571428573,
          30.56179775280899,
          23.32051282051282,
          35.71223021582734,
          28.285714285714285,
          17.612903225806452,
          18.314917127071823,
          13.609137055837563,
          15.982758620689655,
          21.86127167630058,
          28.852941176470587,
          25.586206896551722,
          34.53211009174312,
          16.142857142857142,
          29.37012987012987,
          31.027322404371585,
          22.966887417218544,
          30.449101796407184,
          27.525547445255473,
          26.725806451612904,
          28.670212765957448,
          18.98181818181818,
          13.852941176470589,
          27.76073619631902,
          28.95679012345679,
          20.740932642487046,
          33.40594059405941,
          27.613496932515336,
          31.765432098765434,
          26.27027027027027,
          30.352657004830917,
          27.364532019704434,
          30.32777777777778,
          23.653846153846153,
          30.98507462686567,
          30.19409282700422,
          27.43979057591623,
          27.6,
          30.21938775510204,
          24.36024844720497,
          26.116883116883116,
          22.817391304347826,
          16.674897119341562,
          30.371859296482413,
          31.777227722772277,
          19.2680412371134,
          25.267175572519083,
          23.944444444444443,
          19.33495145631068,
          31.22566371681416,
          24.013333333333332,
          34.21153846153846,
          34.3125,
          27.64039408866995,
          23.407608695652176,
          25.262569832402235,
          22.91275167785235,
          21.646153846153847,
          22.045871559633028,
          20.83125,
          11.669230769230769,
          23.755555555555556,
          21.670886075949365,
          20.096385542168676,
          22.43918918918919,
          31.492424242424242,
          29.059880239520957,
          24.316901408450704,
          19.3411214953271,
          24.11801242236025,
          27.194174757281555,
          32.122727272727275,
          26.96551724137931,
          23.95035460992908,
          25.69191919191919,
          28.664516129032258,
          24.258928571428573,
          20.833333333333332,
          22.510204081632654,
          19.586363636363636,
          27.62727272727273,
          28.801020408163264,
          19.384615384615383,
          25.68354430379747,
          16.685082872928177,
          27.937888198757765,
          11.718446601941748,
          27.943502824858758,
          19.132450331125828,
          25.02803738317757,
          19.653846153846153,
          25.829787234042552,
          18.970588235294116,
          22.36774193548387,
          24.560606060606062,
          16.794871794871796,
          27.132275132275133,
          20.533333333333335,
          12.280701754385966,
          26.4,
          25.052884615384617,
          7.637362637362638,
          17.544776119402986,
          22.461111111111112,
          10.433823529411764,
          27.057377049180328,
          34.98290598290598,
          11.1010101010101,
          34.81196581196581,
          29.034965034965033,
          30.325581395348838,
          30.579617834394906,
          19.71851851851852,
          35.56521739130435,
          18.150943396226417,
          28.3265306122449,
          29.32,
          11.040201005025125,
          27.9921875,
          19.181818181818183,
          23.65573770491803,
          27.145454545454545,
          11.456140350877194,
          15.033333333333333,
          6.520661157024794,
          14.974193548387097,
          18.585106382978722,
          14.8,
          20.235897435897435,
          4.7548076923076925,
          14.738095238095237,
          21.133333333333333,
          20.098159509202453,
          12.135265700483092,
          16.227941176470587,
          11.298507462686567,
          23.70673076923077,
          24.74074074074074,
          10.359281437125748,
          21.337962962962962,
          29.202797202797203,
          38.01075268817204,
          16.033333333333335,
          26.187772925764193,
          25.648809523809526,
          27.47142857142857,
          26.251121076233183,
          18.09547738693467,
          23.11904761904762,
          28.990243902439026,
          20.907894736842106,
          21.849056603773583,
          30.374429223744293,
          32.1,
          10.145299145299145,
          33.46979865771812,
          24.944444444444443,
          17.689655172413794,
          21.482456140350877,
          25.31718061674009,
          37.73943661971831,
          22.884892086330936,
          34.680952380952384,
          25.256944444444443,
          33.7,
          18.923076923076923,
          29.68,
          29.453271028037385,
          28.25824175824176,
          30.916201117318437,
          22.243589743589745,
          19.22012578616352,
          29.81081081081081,
          28.10828025477707,
          22.336,
          16.93069306930693,
          10.848484848484848,
          21.755905511811022,
          27.842767295597483,
          22.573529411764707,
          23.390243902439025,
          29.076271186440678,
          21.705479452054796,
          13.208333333333334,
          26.950819672131146,
          22.565217391304348,
          28.642487046632123,
          23.45394736842105,
          14.052631578947368,
          36.149484536082475,
          26.896551724137932,
          18.658986175115206,
          22,
          29.240875912408757,
          26.125,
          18.1375,
          27.6242774566474,
          23.443181818181817,
          19.73076923076923,
          32.16339869281046,
          25.21556886227545,
          26.231578947368423,
          35.598765432098766,
          24.395833333333332,
          36.25136612021858,
          29.610687022900763,
          28.918367346938776,
          29.916666666666668,
          13.207317073170731,
          13.918181818181818,
          35.157407407407405,
          15.627906976744185,
          28.309941520467838,
          23.392156862745097,
          18.377659574468087,
          31.183098591549296,
          31.307692307692307,
          29.75,
          21.33116883116883,
          41.30434782608695,
          27.806629834254142,
          27.96268656716418,
          33.49418604651163,
          39.1140350877193,
          34.03319502074689,
          26.356589147286822,
          16.630872483221477,
          20.38888888888889,
          32.78666666666667,
          30.703125,
          35.17857142857143,
          31.382075471698112,
          26.861244019138756,
          29.67816091954023,
          26.050847457627118,
          21.662983425414364,
          28.240506329113924,
          29.39423076923077,
          29.88235294117647,
          28.67,
          20.6231884057971,
          15.130434782608695,
          23.983050847457626,
          29.447619047619046,
          14.767441860465116,
          30.006451612903227,
          27.7248322147651,
          24.760479041916167,
          17.574468085106382,
          27.253086419753085,
          34.64705882352941,
          9.59235668789809,
          30.776785714285715,
          29.007407407407406,
          34.80203045685279,
          29.230337078651687,
          26.867924528301888,
          34.55384615384615,
          15.669811320754716,
          25.58108108108108,
          33.78709677419355,
          23.873333333333335,
          23.828282828282827,
          22.23076923076923,
          18.445544554455445,
          23.700854700854702,
          19.505681818181817,
          28.225274725274726,
          17.97142857142857,
          24.916666666666668,
          24.536945812807883,
          21.873333333333335,
          22.17391304347826,
          29.13888888888889,
          25.264248704663213,
          25.844827586206897,
          18.04621848739496,
          24.37,
          26.646706586826348,
          19.481012658227847,
          33.28947368421053,
          32.050251256281406,
          18.942446043165468,
          26.44148936170213,
          28.337579617834393,
          17.36842105263158,
          21.130434782608695,
          21.34463276836158,
          21.052083333333332,
          21.321100917431192,
          22.630434782608695,
          24.46451612903226,
          24.25,
          27.983425414364643,
          23.37125748502994,
          30.636904761904763,
          23.73170731707317,
          26.201183431952664,
          31.688524590163933,
          22.848780487804877,
          21.37313432835821,
          24.258536585365853,
          26.509615384615383,
          31.736,
          25.28181818181818,
          28.29268292682927,
          22.149425287356323,
          29.8265306122449,
          30.06756756756757,
          22.540772532188843,
          34.523809523809526,
          27.37857142857143,
          29.340336134453782,
          20.28421052631579,
          26.91946308724832,
          28.375,
          18.968036529680365,
          20.99468085106383,
          21.849056603773583,
          39.36206896551724,
          23.52112676056338,
          26.11046511627907,
          19.522935779816514,
          16.9390243902439,
          29.967871485943775,
          30.142322097378276,
          26.333333333333332,
          31.443661971830984,
          27.525925925925925,
          20.721854304635762,
          23,
          28.064864864864866,
          23.46829268292683,
          33.569060773480665,
          15.006578947368421,
          20.6875,
          14.64375,
          27.651162790697676,
          26.59493670886076,
          27.289473684210527,
          21.164556962025316,
          23.175213675213676,
          40.08955223880597,
          33.94186046511628,
          21.57766990291262,
          25.87735849056604,
          22.622549019607842,
          32.294736842105266,
          22.423645320197043,
          23.878172588832488,
          29.586206896551722,
          31.855555555555554,
          31.544871794871796,
          23.040268456375838,
          23.326424870466322,
          36.86666666666667,
          35.604838709677416,
          28.533333333333335,
          28.276119402985074,
          10.793388429752065,
          26.07638888888889,
          17.131147540983605,
          27.232558139534884,
          33.11904761904762,
          37.508,
          22.280254777070063,
          23.72316384180791,
          11.359477124183007,
          33.62686567164179,
          29.938356164383563,
          19.216374269005847,
          15.419753086419753,
          23.43850267379679,
          31.914110429447852,
          26.69811320754717,
          20.55855855855856,
          23.4375,
          27.467741935483872,
          21.474885844748858,
          20.365853658536587,
          21.330645161290324,
          24.4020618556701,
          22.101190476190474,
          27.133333333333333,
          20.16568047337278,
          17.37984496124031,
          18.852941176470587,
          16.983333333333334,
          19.16788321167883,
          25.989690721649485,
          23.28855721393035,
          15.064102564102564,
          18.634408602150536,
          22.857142857142858,
          18.1864406779661,
          20.75,
          12.741573033707866,
          19.539772727272727,
          14.173076923076923,
          25.486166007905137,
          15.027972027972028,
          22.46583850931677,
          12.949308755760368,
          8.302083333333334,
          22.362068965517242,
          18.674418604651162,
          18.92349726775956,
          19.144444444444446,
          19.88235294117647,
          14.901098901098901,
          21.785340314136125,
          12.807339449541285,
          17.413333333333334,
          15.208333333333334,
          18.51824817518248,
          15.864077669902912,
          19.720647773279353,
          33.169154228855724,
          20.20979020979021,
          13.247863247863247,
          18.16883116883117,
          37.1044776119403,
          24.343023255813954,
          19.792899408284022,
          26.162303664921467,
          29.20408163265306,
          10.39010989010989,
          22.909574468085108,
          23.681818181818183,
          15.502487562189055,
          21.48148148148148,
          17.843243243243244,
          22.130434782608695,
          23.66824644549763,
          22.112,
          11.574850299401197,
          14.44186046511628,
          30.768421052631577,
          21.61320754716981,
          24.27848101265823,
          19.387096774193548,
          18.654676258992804,
          25.185714285714287,
          16.055084745762713,
          9.433734939759036,
          28.17948717948718,
          26.28148148148148,
          25.675324675324674,
          21.58823529411765,
          25.6890243902439,
          12.857142857142858,
          29.8,
          23.15340909090909,
          19.0234375,
          15.090909090909092,
          27.482758620689655,
          22.51219512195122,
          23.357615894039736,
          18.664893617021278,
          19.193103448275863,
          18.791907514450866,
          26.66187050359712,
          29.72027972027972,
          28.10843373493976,
          16.535211267605632,
          19.96987951807229,
          23.606382978723403,
          17.492424242424242,
          29.157894736842106,
          24.916666666666668,
          27.979057591623036,
          22.94375,
          19.0990990990991,
          6.144444444444445,
          26.625850340136054,
          21.42105263157895,
          26.50537634408602,
          33.61940298507463,
          32.90909090909091,
          23.66875,
          24.666666666666668,
          24.661458333333332,
          34.916256157635466,
          16.65546218487395,
          16.322916666666668,
          35.02358490566038,
          37.29245283018868,
          37.3986013986014,
          23.52755905511811,
          8.52093023255814,
          19.485507246376812,
          22.04,
          38.56804733727811,
          22.95744680851064,
          23.849462365591396,
          34.78846153846154,
          13.803921568627452,
          30.27848101265823,
          29.55263157894737,
          25.494949494949495,
          24.44078947368421,
          23.09090909090909,
          26.184684684684683,
          35.85858585858586,
          20.503184713375795,
          32.322274881516584,
          35.24,
          21.376404494382022,
          20.77310924369748,
          32.383720930232556,
          41.55392156862745,
          27.20769230769231,
          30.79113924050633,
          24.30188679245283,
          39.3671875,
          37.71889400921659,
          27.710743801652892,
          23.9375,
          17.510309278350515,
          35.93087557603687,
          37.04137931034483,
          25.434782608695652,
          25.095238095238095,
          24.09375,
          32.86224489795919,
          29.220588235294116,
          34.51322751322751,
          12.376237623762377,
          29.83050847457627,
          25.190243902439025,
          32.10614525139665,
          30.51764705882353,
          46.22516556291391,
          20.107954545454547,
          31.71875,
          38.595652173913045,
          14.756410256410257,
          35.49162011173184,
          20.920245398773005,
          23.755102040816325,
          30.4375,
          33.141891891891895,
          38.96875,
          30.918367346938776,
          22.274074074074075,
          45.053254437869825,
          31.649214659685864,
          25.063063063063062,
          21.267281105990783,
          34.231884057971016,
          42.42929292929293,
          22.841269841269842,
          34.854838709677416,
          22.669172932330827,
          27.63225806451613,
          38.23015873015873,
          19.865591397849464,
          33.56704980842912,
          37.29302325581396,
          29.38364779874214,
          35.38532110091743,
          28.523364485981308,
          31.366013071895424,
          37.73684210526316,
          17.261363636363637,
          33.3,
          41.73517786561265,
          25.806451612903224,
          14.268292682926829,
          23.096938775510203,
          33.25,
          39.47422680412371,
          33.532544378698226,
          32.66836734693877,
          23.23972602739726,
          34.575,
          22.29824561403509,
          31.633333333333333,
          25.244755244755243,
          25.156756756756756,
          30.8659793814433,
          26.819277108433734,
          25.822580645161292,
          29.16793893129771,
          41.63975155279503,
          30.871134020618555,
          25.79187817258883,
          24.17948717948718,
          43.178030303030305,
          37.375,
          26.276699029126213,
          26.1864406779661,
          25.85632183908046,
          26.11111111111111,
          30.67005076142132,
          23.46846846846847,
          45.69047619047619,
          29.0521327014218,
          37.53023255813954,
          30.366336633663366,
          25.166666666666668,
          39.88636363636363,
          35.902255639097746,
          28.21551724137931,
          23.555555555555557,
          43.32804232804233,
          22.574585635359117,
          23.074324324324323,
          31.24271844660194,
          31.178217821782177,
          22.565714285714286,
          33.628571428571426,
          30.193548387096776,
          34.74829931972789,
          29.320987654320987,
          42.52320675105485,
          24.266666666666666,
          24.103703703703705,
          25.326241134751772,
          16.83941605839416,
          18.779661016949152,
          29.722772277227723,
          43.922374429223744,
          50.157575757575756,
          30.878048780487806,
          33.190140845070424,
          24.239766081871345,
          20.6734693877551,
          17.28301886792453,
          32.65448504983389,
          33.49411764705882,
          26.12258064516129,
          25.271356783919597,
          31.57894736842105,
          18.95731707317073,
          35.42920353982301,
          34.65765765765766,
          27.630872483221477,
          38.66115702479339,
          19.051948051948052,
          30.04268292682927,
          20.405,
          23.634615384615383,
          41.15846994535519,
          37.3469387755102,
          41.60775862068966,
          26.068571428571428,
          18.464052287581698,
          35.21568627450981,
          32.63793103448276,
          37.26701570680628,
          40.455026455026456,
          41.65966386554622,
          31.390243902439025,
          35.751937984496124,
          35.98235294117647,
          22.875968992248062,
          42.84756097560975,
          37.084848484848486,
          28.556521739130435,
          36.04225352112676,
          28.604166666666668,
          36.77,
          35.7093023255814,
          38.05882352941177,
          38.80681818181818,
          24.43820224719101,
          21.97285067873303,
          24.07734806629834,
          42.97156398104266,
          24.786666666666665,
          38.36969696969697,
          32.3921568627451,
          38.29045643153527,
          37.44886363636363,
          26.387096774193548,
          41.59143968871595,
          32.6025641025641,
          15.761006289308176,
          24.763358778625953,
          13.090909090909092,
          28.016,
          25.85,
          29.744394618834082,
          28.38888888888889,
          30.942857142857143,
          28.85786802030457,
          40.75213675213675,
          30.426829268292682,
          26.164634146341463,
          36.03448275862069,
          30.262295081967213,
          37.355450236966824,
          33.54477611940298,
          36.91935483870968,
          42.55652173913043,
          27.007751937984494,
          37.01418439716312,
          39.68441064638783,
          31.58139534883721,
          21.862745098039216,
          29.452830188679247,
          31.725274725274726,
          26.252032520325205,
          22.058064516129033,
          27.37593984962406,
          45.98009950248756,
          42.25868725868726,
          31.36046511627907,
          27.9609375,
          34.8099173553719,
          35.69767441860465,
          20.26382978723404,
          30.669117647058822,
          25.236363636363638,
          26.842424242424244,
          40.80597014925373,
          37.30177514792899,
          29.796992481203006,
          41.19672131147541,
          27.63348416289593,
          38.183673469387756,
          35.31666666666667,
          28.94904458598726,
          37.738461538461536,
          33.25165562913907,
          35.67910447761194,
          38.67557251908397,
          25.828729281767956,
          24,
          23.29268292682927,
          32.053333333333335,
          36.2109375,
          35.09504132231405,
          29.886904761904763,
          31.115537848605577,
          27.137931034482758,
          30.670212765957448,
          30.886904761904763,
          36.582089552238806,
          35.03623188405797,
          37.64393939393939,
          43.11940298507463,
          17.79375,
          29.556451612903224,
          24.044444444444444,
          36.05050505050505,
          23.104046242774565,
          29.825301204819276,
          35.377049180327866,
          35.18828451882845,
          34.8,
          42.85775862068966,
          33.34965034965035,
          46.632,
          41.19230769230769,
          40.51948051948052,
          45.60408163265306,
          29.97222222222222,
          12.440677966101696,
          32.77114427860697,
          27.95145631067961,
          32.696969696969695,
          33.705128205128204,
          3.7155172413793105,
          12.661290322580646,
          11.716535433070867,
          42.95785440613027,
          22.439306358381504,
          27.746341463414634,
          25.698492462311556,
          29.16190476190476,
          35.366515837104075,
          32.113821138211385,
          30.671361502347416,
          28.99236641221374,
          33.78403755868545,
          23.081218274111674,
          33.80275229357798,
          28.368932038834952,
          30.76086956521739,
          37.109375,
          30.936842105263157,
          31.914893617021278,
          32.11578947368421,
          34.405797101449274,
          25.177033492822968,
          34.225806451612904,
          38.6839378238342,
          25.112676056338028,
          40.75806451612903,
          27.470338983050848,
          37.04744525547445,
          24.112,
          32.785714285714285,
          29.337349397590362,
          43.13333333333333,
          36.10144927536232,
          23.855263157894736,
          42.15,
          26.684491978609625,
          32.02803738317757,
          29.74534161490683,
          31.48125,
          30.580357142857142,
          29.13679245283019,
          33.529411764705884,
          24.07547169811321,
          20.272151898734176,
          23.62015503875969,
          33.23430962343096,
          41.3875,
          35.752066115702476,
          25.495,
          42.51111111111111,
          35.474489795918366,
          30.301526717557252,
          31.779166666666665,
          26.261682242990656,
          24.62727272727273,
          25.07377049180328,
          32.408,
          32.787234042553195,
          35.345,
          27.877828054298643,
          34.21028037383178,
          32.2967032967033,
          14.454106280193237,
          24.050847457627118,
          27.644736842105264,
          26.826446280991735,
          27.42811501597444,
          20.87142857142857,
          21.24561403508772,
          28.346153846153847,
          17.345549738219894,
          25.81645569620253,
          22.103092783505154,
          9.915384615384616,
          24.27972027972028,
          29.10655737704918,
          24.54054054054054,
          18.232558139534884,
          23.36,
          26.492753623188406,
          23.46232876712329,
          29.828358208955223,
          18.020689655172415,
          26.658227848101266,
          33.19047619047619,
          27.696202531645568,
          22.344036697247706,
          13.817518248175183,
          27.272727272727273,
          32.394444444444446,
          5.494252873563219,
          12.430769230769231,
          30.86013986013986,
          26.98830409356725,
          29.98326359832636,
          11.210191082802547,
          17.537037037037038,
          33.11678832116788,
          36.18032786885246,
          22.206278026905828,
          16.31055900621118,
          30.098039215686274,
          32.764150943396224,
          21.157894736842106,
          32.359683794466406,
          25.544871794871796,
          29.748538011695906,
          29.650717703349283,
          33.13815789473684,
          32.21527777777778,
          36.515337423312886,
          32.28834355828221,
          32.09836065573771,
          16.044025157232703,
          16.806896551724137,
          36.86021505376344,
          26.485714285714284,
          35.95864661654135,
          28.94941634241245,
          24.81761006289308,
          32.73988439306358,
          24.24022346368715,
          27.584699453551913,
          30.897727272727273,
          18.401960784313726,
          15.981012658227849,
          33.08301886792453,
          36.77064220183486,
          19.871287128712872,
          32.214285714285715,
          31.272727272727273,
          27.598726114649683,
          33.44268774703557,
          27.083333333333332,
          35.22680412371134,
          35.333333333333336,
          29.107382550335572,
          19.32867132867133,
          29.707865168539325,
          32.89230769230769,
          26.62837837837838,
          22.12060301507538,
          22.535947712418302,
          30.304166666666667,
          24.814569536423843,
          36.8235294117647,
          32.73076923076923,
          21.466666666666665,
          32.96296296296296,
          31.153061224489797,
          30.5,
          31.478947368421053,
          29.11320754716981,
          31.992957746478872,
          27.932270916334662,
          34.79087452471483,
          25.321637426900583,
          40.41538461538462,
          17.26923076923077,
          35.380116959064324,
          28.851162790697675,
          36.5078125,
          34.99261992619926,
          13.81651376146789,
          33.67400881057269,
          34.06896551724138,
          24.742081447963802,
          42.2125,
          14.140625,
          24.2,
          36.20812182741117,
          23,
          38.096296296296295,
          21.585227272727273,
          38.846846846846844,
          41.94505494505494,
          38.93314763231198,
          47.223880597014926,
          43.25581395348837,
          38.56737588652482,
          29.86036036036036,
          38.36641221374046,
          27.783783783783782,
          32.32484076433121,
          27.574324324324323,
          37.16847826086956,
          23.9625,
          33.56896551724138,
          23.14723926380368,
          54.559322033898304,
          34.680851063829785,
          28.977272727272727,
          43.44502617801047,
          39.72636815920398,
          28.680232558139537,
          29.122549019607842,
          25.576576576576578,
          37.64563106796116,
          30.309178743961354,
          39.58232931726908,
          45.48344370860927,
          26.62091503267974,
          28.95731707317073,
          17.945945945945947,
          39.015686274509804,
          39.59126984126984,
          47.73640167364017,
          47.32830188679245,
          29.06048387096774,
          41.34736842105263,
          20.838709677419356,
          22.8,
          39.351351351351354,
          46.98701298701299,
          37.41142857142857,
          31.427083333333332,
          31.03960396039604,
          28.38372093023256,
          26.19871794871795,
          42.084942084942085,
          38.18238993710692,
          34.59668508287293,
          38.33050847457627,
          35.622727272727275,
          44.74698795180723,
          29.959349593495936,
          32.7979797979798,
          37.87677725118483,
          35.4384236453202,
          22.142857142857142,
          23.55,
          27.2570281124498,
          46.268115942028984,
          42.518181818181816,
          35.58620689655172,
          43.25837320574163,
          36.65277777777778,
          34.824786324786324,
          33.19642857142857,
          31.221556886227546,
          47.09417040358744,
          23.9921875,
          32.61797752808989,
          31.586206896551722,
          44.00869565217391,
          34.89171974522293,
          42.92820512820513,
          42.85945945945946,
          48.09139784946237,
          45.14341085271318,
          49.668103448275865,
          35.888888888888886,
          33.317460317460316,
          34.473684210526315,
          27.17351598173516,
          42.36929460580913,
          36.516129032258064,
          37.19277108433735,
          51.556451612903224,
          29.731060606060606,
          41.97463768115942,
          44.034220532319395,
          35.59448818897638,
          40.267857142857146,
          36.33870967741935,
          33.3757225433526,
          33.149532710280376,
          45.469298245614034,
          27.681818181818183,
          35.72586872586873,
          33.790983606557376,
          44.80239520958084,
          21.92156862745098,
          45.013698630136986,
          45.76923076923077,
          23.892045454545453,
          34.18378378378378,
          31.567961165048544,
          30.07843137254902,
          27.18471337579618,
          49.81454545454545,
          31.295,
          38.91119691119691,
          36.72592592592593,
          36.838862559241704,
          44.19521912350598,
          29.52216748768473,
          28.800925925925927,
          41.67605633802817,
          36.863945578231295,
          38.50898203592814,
          32.12041884816754,
          32.11538461538461,
          43.314516129032256,
          26.41810344827586,
          43.53007518796993,
          44.77297297297297,
          51.70531400966183,
          31.08450704225352,
          21.02777777777778,
          38.81526104417671,
          30.98709677419355,
          34.35746606334842,
          21.710280373831775,
          32.25,
          49.16793893129771,
          35.04666666666667,
          39.96756756756757,
          42.8715953307393,
          36.80748663101604,
          47.67065868263473,
          50.674157303370784,
          35.32258064516129,
          47.81447963800905,
          47.59154929577465,
          21.48695652173913,
          35.58849557522124,
          33.00418410041841,
          31.544554455445546,
          20.57668711656442,
          43.47945205479452,
          38.81111111111111,
          29.156133828996282,
          36.45882352941177,
          46.21673003802282,
          49.95754716981132,
          48.76608187134503,
          42.48117154811715,
          36.710407239819006,
          53.14049586776859,
          45.60966542750929,
          44.4041095890411,
          34.18636363636364,
          45.518691588785046,
          27.3224043715847,
          41.2265625,
          48.864541832669325,
          43.00387596899225,
          37.36086956521739,
          33.913223140495866,
          49.95569620253165,
          45.922330097087375,
          28.556122448979593,
          39.83098591549296,
          27.891025641025642,
          38.1910569105691,
          35.05150214592275,
          45.50990099009901,
          50.907766990291265,
          41.774809160305345,
          47.63703703703704,
          42.55023923444976,
          41.25870646766169,
          36.24873096446701,
          43.833333333333336,
          38.03056768558952,
          38.42920353982301,
          41.640625,
          40.50612244897959,
          45.504950495049506,
          40.60406091370558,
          38.93377483443709,
          42.592039800995025,
          36.06866952789699,
          46.53813559322034,
          43.28426395939086,
          29.79381443298969,
          39.86614173228347,
          46.7752808988764,
          43.675,
          51.735099337748345,
          46.97222222222222,
          40.10943396226415,
          41.80193236714976,
          42.458064516129035,
          43.252873563218394,
          44.83443708609271,
          42.05882352941177,
          40.409937888198755,
          22.588957055214724,
          49.97709923664122,
          36.80975609756098,
          51.92805755395683,
          48.64976958525346,
          36.936708860759495,
          40.83011583011583,
          44.986111111111114,
          38.43362831858407,
          31.554794520547944,
          52.90686274509804,
          21.903508771929825,
          42.54970760233918,
          38.6,
          43.82746478873239,
          42.33905579399141,
          39.4975845410628,
          46.98031496062992,
          42.48207171314741,
          30.661654135338345,
          44.096774193548384,
          37.414414414414416,
          56.067873303167424,
          42.01081081081081,
          31.04739336492891,
          50.721189591078065,
          35.89325842696629,
          33.21666666666667,
          34.58914728682171,
          37.79187817258883,
          34.13793103448276,
          43.26587301587302,
          46.03636363636364,
          44.09787234042553,
          32.72463768115942,
          33.8375,
          35.439490445859875,
          34.24669603524229,
          43.2,
          44.58943089430894,
          41.322784810126585,
          33.22834645669291,
          44.31872509960159,
          34.02962962962963,
          39.163120567375884,
          32.635627530364374,
          23.17948717948718,
          26.65680473372781,
          24.183098591549296,
          38.96969696969697,
          25.239583333333332
         ],
         "xaxis": "x",
         "yaxis": "y"
        }
       ],
       "layout": {
        "barmode": "relative",
        "legend": {
         "title": {
          "text": "variable"
         },
         "tracegroupgap": 0
        },
        "template": {
         "data": {
          "bar": [
           {
            "error_x": {
             "color": "#2a3f5f"
            },
            "error_y": {
             "color": "#2a3f5f"
            },
            "marker": {
             "line": {
              "color": "#E5ECF6",
              "width": 0.5
             },
             "pattern": {
              "fillmode": "overlay",
              "size": 10,
              "solidity": 0.2
             }
            },
            "type": "bar"
           }
          ],
          "barpolar": [
           {
            "marker": {
             "line": {
              "color": "#E5ECF6",
              "width": 0.5
             },
             "pattern": {
              "fillmode": "overlay",
              "size": 10,
              "solidity": 0.2
             }
            },
            "type": "barpolar"
           }
          ],
          "carpet": [
           {
            "aaxis": {
             "endlinecolor": "#2a3f5f",
             "gridcolor": "white",
             "linecolor": "white",
             "minorgridcolor": "white",
             "startlinecolor": "#2a3f5f"
            },
            "baxis": {
             "endlinecolor": "#2a3f5f",
             "gridcolor": "white",
             "linecolor": "white",
             "minorgridcolor": "white",
             "startlinecolor": "#2a3f5f"
            },
            "type": "carpet"
           }
          ],
          "choropleth": [
           {
            "colorbar": {
             "outlinewidth": 0,
             "ticks": ""
            },
            "type": "choropleth"
           }
          ],
          "contour": [
           {
            "colorbar": {
             "outlinewidth": 0,
             "ticks": ""
            },
            "colorscale": [
             [
              0,
              "#0d0887"
             ],
             [
              0.1111111111111111,
              "#46039f"
             ],
             [
              0.2222222222222222,
              "#7201a8"
             ],
             [
              0.3333333333333333,
              "#9c179e"
             ],
             [
              0.4444444444444444,
              "#bd3786"
             ],
             [
              0.5555555555555556,
              "#d8576b"
             ],
             [
              0.6666666666666666,
              "#ed7953"
             ],
             [
              0.7777777777777778,
              "#fb9f3a"
             ],
             [
              0.8888888888888888,
              "#fdca26"
             ],
             [
              1,
              "#f0f921"
             ]
            ],
            "type": "contour"
           }
          ],
          "contourcarpet": [
           {
            "colorbar": {
             "outlinewidth": 0,
             "ticks": ""
            },
            "type": "contourcarpet"
           }
          ],
          "heatmap": [
           {
            "colorbar": {
             "outlinewidth": 0,
             "ticks": ""
            },
            "colorscale": [
             [
              0,
              "#0d0887"
             ],
             [
              0.1111111111111111,
              "#46039f"
             ],
             [
              0.2222222222222222,
              "#7201a8"
             ],
             [
              0.3333333333333333,
              "#9c179e"
             ],
             [
              0.4444444444444444,
              "#bd3786"
             ],
             [
              0.5555555555555556,
              "#d8576b"
             ],
             [
              0.6666666666666666,
              "#ed7953"
             ],
             [
              0.7777777777777778,
              "#fb9f3a"
             ],
             [
              0.8888888888888888,
              "#fdca26"
             ],
             [
              1,
              "#f0f921"
             ]
            ],
            "type": "heatmap"
           }
          ],
          "heatmapgl": [
           {
            "colorbar": {
             "outlinewidth": 0,
             "ticks": ""
            },
            "colorscale": [
             [
              0,
              "#0d0887"
             ],
             [
              0.1111111111111111,
              "#46039f"
             ],
             [
              0.2222222222222222,
              "#7201a8"
             ],
             [
              0.3333333333333333,
              "#9c179e"
             ],
             [
              0.4444444444444444,
              "#bd3786"
             ],
             [
              0.5555555555555556,
              "#d8576b"
             ],
             [
              0.6666666666666666,
              "#ed7953"
             ],
             [
              0.7777777777777778,
              "#fb9f3a"
             ],
             [
              0.8888888888888888,
              "#fdca26"
             ],
             [
              1,
              "#f0f921"
             ]
            ],
            "type": "heatmapgl"
           }
          ],
          "histogram": [
           {
            "marker": {
             "pattern": {
              "fillmode": "overlay",
              "size": 10,
              "solidity": 0.2
             }
            },
            "type": "histogram"
           }
          ],
          "histogram2d": [
           {
            "colorbar": {
             "outlinewidth": 0,
             "ticks": ""
            },
            "colorscale": [
             [
              0,
              "#0d0887"
             ],
             [
              0.1111111111111111,
              "#46039f"
             ],
             [
              0.2222222222222222,
              "#7201a8"
             ],
             [
              0.3333333333333333,
              "#9c179e"
             ],
             [
              0.4444444444444444,
              "#bd3786"
             ],
             [
              0.5555555555555556,
              "#d8576b"
             ],
             [
              0.6666666666666666,
              "#ed7953"
             ],
             [
              0.7777777777777778,
              "#fb9f3a"
             ],
             [
              0.8888888888888888,
              "#fdca26"
             ],
             [
              1,
              "#f0f921"
             ]
            ],
            "type": "histogram2d"
           }
          ],
          "histogram2dcontour": [
           {
            "colorbar": {
             "outlinewidth": 0,
             "ticks": ""
            },
            "colorscale": [
             [
              0,
              "#0d0887"
             ],
             [
              0.1111111111111111,
              "#46039f"
             ],
             [
              0.2222222222222222,
              "#7201a8"
             ],
             [
              0.3333333333333333,
              "#9c179e"
             ],
             [
              0.4444444444444444,
              "#bd3786"
             ],
             [
              0.5555555555555556,
              "#d8576b"
             ],
             [
              0.6666666666666666,
              "#ed7953"
             ],
             [
              0.7777777777777778,
              "#fb9f3a"
             ],
             [
              0.8888888888888888,
              "#fdca26"
             ],
             [
              1,
              "#f0f921"
             ]
            ],
            "type": "histogram2dcontour"
           }
          ],
          "mesh3d": [
           {
            "colorbar": {
             "outlinewidth": 0,
             "ticks": ""
            },
            "type": "mesh3d"
           }
          ],
          "parcoords": [
           {
            "line": {
             "colorbar": {
              "outlinewidth": 0,
              "ticks": ""
             }
            },
            "type": "parcoords"
           }
          ],
          "pie": [
           {
            "automargin": true,
            "type": "pie"
           }
          ],
          "scatter": [
           {
            "fillpattern": {
             "fillmode": "overlay",
             "size": 10,
             "solidity": 0.2
            },
            "type": "scatter"
           }
          ],
          "scatter3d": [
           {
            "line": {
             "colorbar": {
              "outlinewidth": 0,
              "ticks": ""
             }
            },
            "marker": {
             "colorbar": {
              "outlinewidth": 0,
              "ticks": ""
             }
            },
            "type": "scatter3d"
           }
          ],
          "scattercarpet": [
           {
            "marker": {
             "colorbar": {
              "outlinewidth": 0,
              "ticks": ""
             }
            },
            "type": "scattercarpet"
           }
          ],
          "scattergeo": [
           {
            "marker": {
             "colorbar": {
              "outlinewidth": 0,
              "ticks": ""
             }
            },
            "type": "scattergeo"
           }
          ],
          "scattergl": [
           {
            "marker": {
             "colorbar": {
              "outlinewidth": 0,
              "ticks": ""
             }
            },
            "type": "scattergl"
           }
          ],
          "scattermapbox": [
           {
            "marker": {
             "colorbar": {
              "outlinewidth": 0,
              "ticks": ""
             }
            },
            "type": "scattermapbox"
           }
          ],
          "scatterpolar": [
           {
            "marker": {
             "colorbar": {
              "outlinewidth": 0,
              "ticks": ""
             }
            },
            "type": "scatterpolar"
           }
          ],
          "scatterpolargl": [
           {
            "marker": {
             "colorbar": {
              "outlinewidth": 0,
              "ticks": ""
             }
            },
            "type": "scatterpolargl"
           }
          ],
          "scatterternary": [
           {
            "marker": {
             "colorbar": {
              "outlinewidth": 0,
              "ticks": ""
             }
            },
            "type": "scatterternary"
           }
          ],
          "surface": [
           {
            "colorbar": {
             "outlinewidth": 0,
             "ticks": ""
            },
            "colorscale": [
             [
              0,
              "#0d0887"
             ],
             [
              0.1111111111111111,
              "#46039f"
             ],
             [
              0.2222222222222222,
              "#7201a8"
             ],
             [
              0.3333333333333333,
              "#9c179e"
             ],
             [
              0.4444444444444444,
              "#bd3786"
             ],
             [
              0.5555555555555556,
              "#d8576b"
             ],
             [
              0.6666666666666666,
              "#ed7953"
             ],
             [
              0.7777777777777778,
              "#fb9f3a"
             ],
             [
              0.8888888888888888,
              "#fdca26"
             ],
             [
              1,
              "#f0f921"
             ]
            ],
            "type": "surface"
           }
          ],
          "table": [
           {
            "cells": {
             "fill": {
              "color": "#EBF0F8"
             },
             "line": {
              "color": "white"
             }
            },
            "header": {
             "fill": {
              "color": "#C8D4E3"
             },
             "line": {
              "color": "white"
             }
            },
            "type": "table"
           }
          ]
         },
         "layout": {
          "annotationdefaults": {
           "arrowcolor": "#2a3f5f",
           "arrowhead": 0,
           "arrowwidth": 1
          },
          "autotypenumbers": "strict",
          "coloraxis": {
           "colorbar": {
            "outlinewidth": 0,
            "ticks": ""
           }
          },
          "colorscale": {
           "diverging": [
            [
             0,
             "#8e0152"
            ],
            [
             0.1,
             "#c51b7d"
            ],
            [
             0.2,
             "#de77ae"
            ],
            [
             0.3,
             "#f1b6da"
            ],
            [
             0.4,
             "#fde0ef"
            ],
            [
             0.5,
             "#f7f7f7"
            ],
            [
             0.6,
             "#e6f5d0"
            ],
            [
             0.7,
             "#b8e186"
            ],
            [
             0.8,
             "#7fbc41"
            ],
            [
             0.9,
             "#4d9221"
            ],
            [
             1,
             "#276419"
            ]
           ],
           "sequential": [
            [
             0,
             "#0d0887"
            ],
            [
             0.1111111111111111,
             "#46039f"
            ],
            [
             0.2222222222222222,
             "#7201a8"
            ],
            [
             0.3333333333333333,
             "#9c179e"
            ],
            [
             0.4444444444444444,
             "#bd3786"
            ],
            [
             0.5555555555555556,
             "#d8576b"
            ],
            [
             0.6666666666666666,
             "#ed7953"
            ],
            [
             0.7777777777777778,
             "#fb9f3a"
            ],
            [
             0.8888888888888888,
             "#fdca26"
            ],
            [
             1,
             "#f0f921"
            ]
           ],
           "sequentialminus": [
            [
             0,
             "#0d0887"
            ],
            [
             0.1111111111111111,
             "#46039f"
            ],
            [
             0.2222222222222222,
             "#7201a8"
            ],
            [
             0.3333333333333333,
             "#9c179e"
            ],
            [
             0.4444444444444444,
             "#bd3786"
            ],
            [
             0.5555555555555556,
             "#d8576b"
            ],
            [
             0.6666666666666666,
             "#ed7953"
            ],
            [
             0.7777777777777778,
             "#fb9f3a"
            ],
            [
             0.8888888888888888,
             "#fdca26"
            ],
            [
             1,
             "#f0f921"
            ]
           ]
          },
          "colorway": [
           "#636efa",
           "#EF553B",
           "#00cc96",
           "#ab63fa",
           "#FFA15A",
           "#19d3f3",
           "#FF6692",
           "#B6E880",
           "#FF97FF",
           "#FECB52"
          ],
          "font": {
           "color": "#2a3f5f"
          },
          "geo": {
           "bgcolor": "white",
           "lakecolor": "white",
           "landcolor": "#E5ECF6",
           "showlakes": true,
           "showland": true,
           "subunitcolor": "white"
          },
          "hoverlabel": {
           "align": "left"
          },
          "hovermode": "closest",
          "mapbox": {
           "style": "light"
          },
          "paper_bgcolor": "white",
          "plot_bgcolor": "#E5ECF6",
          "polar": {
           "angularaxis": {
            "gridcolor": "white",
            "linecolor": "white",
            "ticks": ""
           },
           "bgcolor": "#E5ECF6",
           "radialaxis": {
            "gridcolor": "white",
            "linecolor": "white",
            "ticks": ""
           }
          },
          "scene": {
           "xaxis": {
            "backgroundcolor": "#E5ECF6",
            "gridcolor": "white",
            "gridwidth": 2,
            "linecolor": "white",
            "showbackground": true,
            "ticks": "",
            "zerolinecolor": "white"
           },
           "yaxis": {
            "backgroundcolor": "#E5ECF6",
            "gridcolor": "white",
            "gridwidth": 2,
            "linecolor": "white",
            "showbackground": true,
            "ticks": "",
            "zerolinecolor": "white"
           },
           "zaxis": {
            "backgroundcolor": "#E5ECF6",
            "gridcolor": "white",
            "gridwidth": 2,
            "linecolor": "white",
            "showbackground": true,
            "ticks": "",
            "zerolinecolor": "white"
           }
          },
          "shapedefaults": {
           "line": {
            "color": "#2a3f5f"
           }
          },
          "ternary": {
           "aaxis": {
            "gridcolor": "white",
            "linecolor": "white",
            "ticks": ""
           },
           "baxis": {
            "gridcolor": "white",
            "linecolor": "white",
            "ticks": ""
           },
           "bgcolor": "#E5ECF6",
           "caxis": {
            "gridcolor": "white",
            "linecolor": "white",
            "ticks": ""
           }
          },
          "title": {
           "x": 0.05
          },
          "xaxis": {
           "automargin": true,
           "gridcolor": "white",
           "linecolor": "white",
           "ticks": "",
           "title": {
            "standoff": 15
           },
           "zerolinecolor": "white",
           "zerolinewidth": 2
          },
          "yaxis": {
           "automargin": true,
           "gridcolor": "white",
           "linecolor": "white",
           "ticks": "",
           "title": {
            "standoff": 15
           },
           "zerolinecolor": "white",
           "zerolinewidth": 2
          }
         }
        },
        "title": {
         "text": "cytoplasm_calbindin_avg_int_in_CA"
        },
        "xaxis": {
         "anchor": "y",
         "domain": [
          0,
          1
         ],
         "range": [
          0,
          255
         ],
         "title": {
          "text": "cytoplasm_calbindin_avg_int"
         }
        },
        "yaxis": {
         "anchor": "x",
         "domain": [
          0,
          1
         ],
         "title": {
          "text": "count"
         }
        }
       }
      }
     },
     "metadata": {},
     "output_type": "display_data"
    },
    {
     "data": {
      "application/vnd.plotly.v1+json": {
       "config": {
        "plotlyServerURL": "https://plot.ly"
       },
       "data": [
        {
         "alignmentgroup": "True",
         "bingroup": "x",
         "hovertemplate": "variable=cytoplasm_calbindin_avg_int<br>cytoplasm_calbindin_avg_int=%{x}<br>count=%{y}<extra></extra>",
         "legendgroup": "cytoplasm_calbindin_avg_int",
         "marker": {
          "color": "#636efa",
          "pattern": {
           "shape": ""
          }
         },
         "name": "cytoplasm_calbindin_avg_int",
         "nbinsx": 256,
         "offsetgroup": "cytoplasm_calbindin_avg_int",
         "orientation": "v",
         "showlegend": true,
         "type": "histogram",
         "x": [
          11.37012987012987,
          9.78225806451613,
          14.853333333333333,
          22.302816901408452,
          17.5078125,
          32.183673469387756,
          14.949367088607595,
          15.676190476190476,
          16.195652173913043,
          45.324022346368714,
          13.551724137931034,
          27.326241134751772,
          50.53503184713376,
          35.95333333333333,
          14.79816513761468,
          21.70149253731343,
          41.60765550239235,
          27.990521327014218,
          25.024390243902438,
          15.866071428571429,
          16.333333333333332,
          29.661016949152543,
          41.54109589041096,
          38.57541899441341,
          22.01156069364162,
          32.439655172413794,
          13.382488479262673,
          36.76056338028169,
          18.41988950276243,
          14.765432098765432,
          27.115044247787612,
          11.318181818181818,
          10.864864864864865,
          12.9079754601227,
          54.40689655172414,
          15.293706293706293,
          24.463917525773194,
          14.707142857142857,
          19.333333333333332,
          22.12686567164179,
          33.513513513513516,
          19.942307692307693,
          51.16279069767442,
          13.699115044247788,
          24.55294117647059,
          13.625,
          9.261363636363637,
          29.247524752475247,
          6.019417475728155,
          8.166666666666666,
          8.648936170212766,
          12.376470588235295,
          7.378640776699029,
          32.44881889763779,
          48.432432432432435,
          7.375,
          19,
          13.46875,
          39.702127659574465,
          8.24793388429752,
          33.970873786407765,
          11.333333333333334,
          19.783783783783782,
          21.0625,
          15.736,
          62.263440860215056,
          6.774647887323944,
          12.565217391304348,
          13.392857142857142,
          7.990196078431373,
          44.41095890410959,
          39.471698113207545,
          40.90340909090909,
          8.776119402985074,
          40.02197802197802,
          6.354166666666667,
          10.397849462365592,
          15.551948051948052,
          30.204761904761906,
          16.308333333333334,
          10.938271604938272,
          18.027210884353742,
          7.031914893617022,
          46.01470588235294,
          8.007142857142858,
          31.487179487179485,
          14.054794520547945,
          15.475409836065573,
          63.63716814159292,
          16.13533834586466,
          9.820689655172414,
          23.377622377622377,
          8.461538461538462,
          6.109756097560975,
          46.58904109589041,
          27.042105263157893,
          11.203389830508474,
          22.230215827338128,
          9.75,
          14.08148148148148,
          16.331632653061224,
          30.4921875,
          12.145454545454545,
          7.117021276595745,
          22.29310344827586,
          47.23076923076923,
          25.177966101694917,
          20.481081081081083,
          13.712121212121213,
          18.52054794520548,
          7.937062937062937,
          7.613138686131387,
          22.897435897435898,
          19.541353383458645,
          34.84431137724551,
          10.926829268292684,
          22.194690265486727,
          8.859649122807017,
          24.75409836065574,
          15.76984126984127,
          32.74025974025974,
          34.47872340425532,
          22.027027027027028,
          22.232758620689655,
          14.18840579710145,
          16.46564885496183,
          29.737704918032787,
          12.32394366197183,
          7.867924528301887,
          17.876190476190477,
          16.01098901098901,
          9.939759036144578,
          16.372340425531913,
          28.187878787878788,
          42.22377622377623,
          13.697478991596638,
          16.397959183673468,
          19.15671641791045,
          7.870967741935484,
          24.186274509803923,
          10.833333333333334,
          13.973214285714286,
          43.775510204081634,
          26.606060606060606,
          9.1010101010101,
          25.651006711409394,
          10.223529411764705,
          15.058394160583942,
          21.152542372881356,
          9.64963503649635,
          7.704545454545454,
          15.977443609022556,
          11.576923076923077,
          8.641509433962264,
          11.833333333333334,
          27.8,
          67.15037593984962,
          8.355140186915888,
          27.68235294117647,
          32.123893805309734,
          9.330769230769231,
          9.681818181818182,
          9.65137614678899,
          13.441666666666666,
          30.79136690647482,
          14.89655172413793,
          19.023255813953487,
          4.6,
          21.7375,
          33.99074074074074,
          20.367088607594937,
          20.54022988505747,
          12.0625,
          52.91269841269841,
          21.63583815028902,
          32.68055555555556,
          13.926470588235293,
          11.82089552238806,
          37.71084337349398,
          27.36231884057971,
          11.383561643835616,
          13.672268907563025,
          10.272058823529411,
          16.707964601769913,
          6.557142857142857,
          12.28125,
          20.272,
          25.081481481481482,
          32.291666666666664,
          25.5609756097561,
          24.114754098360656,
          61.49438202247191,
          73.30434782608695,
          12.44186046511628,
          31.94495412844037,
          8.03,
          14.387387387387387,
          35.11258278145695,
          21.727272727272727,
          8.709090909090909,
          25.542857142857144,
          58.42176870748299,
          10.571428571428571,
          8.418367346938776,
          18.035714285714285,
          17.75,
          33.92079207920792,
          9.39568345323741,
          16.906666666666666,
          6.702970297029703,
          51.431693989071036,
          14.8,
          21.82758620689655,
          23.73015873015873,
          2.797979797979798,
          68.49268292682927,
          40.4,
          13.236486486486486,
          23.743362831858406,
          22.019607843137255,
          27.884615384615383,
          9.839622641509434,
          26.603174603174605,
          11.81060606060606,
          18.19090909090909,
          33.89528795811518,
          42.62222222222222,
          57.58381502890173,
          5.654545454545454,
          6.920529801324503,
          17.557251908396946,
          13.168067226890756,
          15.078947368421053,
          15.671532846715328,
          24.098484848484848,
          14.858757062146893,
          7.984732824427481,
          17.45054945054945,
          29.939393939393938,
          60.81,
          19.391304347826086,
          16.205479452054796,
          18.022058823529413,
          19.857988165680474,
          18.125,
          33.22818791946309,
          28.03448275862069,
          20.903225806451612,
          9.824324324324325,
          17.5968992248062,
          45.25806451612903,
          20.135593220338983,
          25.51764705882353,
          41.760330578512395,
          15.091743119266056,
          55.66459627329193,
          20.456692913385826,
          26.571428571428573,
          9.935064935064934,
          26.822222222222223,
          9.348837209302326,
          12.578231292517007,
          14.545454545454545,
          10.848920863309353,
          35.85606060606061,
          20.475409836065573,
          42.71212121212121,
          11.804347826086957,
          12.507246376811594,
          23.62987012987013,
          12.578947368421053,
          46.95789473684211,
          13.016806722689076,
          18.394736842105264,
          26.74342105263158,
          16.68421052631579,
          52.87577639751553,
          11.450381679389313,
          18.714285714285715,
          27.62589928057554,
          14.428571428571429,
          10.867924528301886,
          40.575,
          10.701149425287356,
          14.256,
          9.157303370786517,
          17.151315789473685,
          42.837606837606835,
          14.53125,
          26.983333333333334,
          47.541666666666664,
          26.54375,
          16.89156626506024,
          18.224489795918366,
          10.325,
          5.527027027027027,
          19.081632653061224,
          12.247524752475247,
          4.522058823529412,
          70.59872611464968,
          12.548872180451127,
          41.32692307692308,
          6.2844827586206895,
          24.530434782608694,
          49.652542372881356,
          9.593939393939394,
          16.58974358974359,
          26.666666666666668,
          23.056910569105693,
          26.044444444444444,
          10.471153846153847,
          18.697674418604652,
          21.923076923076923,
          33.351351351351354,
          29.64516129032258,
          43.62011173184357,
          19.710526315789473,
          25.025,
          11.122137404580153,
          21.262135922330096,
          19.52112676056338,
          11.870588235294118,
          11.381818181818181,
          52.484848484848484,
          16.04123711340206,
          14.662068965517241,
          22.55045871559633,
          28.89156626506024,
          31.341463414634145,
          23.83132530120482,
          9.932773109243698,
          14.542857142857143,
          39.372727272727275,
          7.89873417721519,
          27.555555555555557,
          27.08653846153846,
          9.369426751592357,
          16.38095238095238,
          29.4,
          21.88888888888889,
          26.098765432098766,
          16.288659793814432,
          12.466666666666667,
          50.99230769230769,
          30.105263157894736,
          16.236641221374047,
          37.1875,
          16.041666666666668,
          14.75438596491228,
          9.886363636363637,
          10.759615384615385,
          19.946902654867255,
          27.448979591836736,
          40.89473684210526,
          42.93421052631579,
          17.272727272727273,
          27.765625,
          15.391304347826088,
          22.075862068965517,
          19.11627906976744,
          12.6,
          15.289473684210526,
          25.6,
          12.823076923076924,
          15.978494623655914,
          8.676829268292684,
          58.47852760736196,
          46.872549019607845,
          20.177570093457945,
          18.342105263157894,
          21.098039215686274,
          8.5,
          30.50769230769231,
          14.571428571428571,
          37.89393939393939,
          16.64885496183206,
          38.380434782608695,
          13.864197530864198,
          24.58677685950413,
          58.443708609271525,
          10.185185185185185,
          10.862385321100918,
          19.47244094488189,
          10.192982456140351,
          18.04032258064516,
          14.391304347826088,
          11.338235294117647,
          12.63953488372093,
          22.64788732394366,
          18.013698630136986,
          18.522727272727273,
          18.857142857142858,
          25.348314606741575,
          25.598130841121495,
          69.4,
          32.13461538461539,
          59.10493827160494,
          7.075862068965518,
          7.509433962264151,
          29.854368932038835,
          7.611111111111111,
          18.448529411764707,
          53.10526315789474,
          16.641975308641975,
          13.764705882352942,
          16.718954248366014,
          55.07857142857143,
          31.314814814814813,
          17.194915254237287,
          15.166666666666666,
          16.73793103448276,
          20.613636363636363,
          13.884892086330936,
          10.563829787234043,
          11.520325203252032,
          51.71739130434783,
          17.038961038961038,
          20.24418604651163,
          10.227848101265822,
          14.304347826086957,
          19.5,
          21.296296296296298,
          7.5,
          13.882352941176471,
          31.91358024691358,
          47.01898734177215,
          41.378151260504204,
          12.413793103448276,
          29.984126984126984,
          20.6,
          37.46938775510204,
          40.51655629139073,
          17.09039548022599,
          12.102272727272727,
          12.4375,
          10.434108527131784,
          21.703703703703702,
          24.114035087719298,
          49.088235294117645,
          17.658536585365855,
          11.113636363636363,
          8.93421052631579,
          19.229885057471265,
          8.355555555555556,
          9.136363636363637,
          12.666666666666666,
          12.571428571428571,
          60.37864077669903,
          46.48717948717949,
          17.386363636363637,
          19.938053097345133,
          16.810344827586206,
          15.563636363636364,
          8.71875,
          33.875,
          18.3943661971831,
          33.04201680672269,
          10.63768115942029,
          45.09,
          31.640350877192983,
          9.788990825688073,
          22.578680203045685,
          22.38125,
          28.774509803921568,
          24.87037037037037,
          21.25925925925926,
          15.746376811594203,
          21.803571428571427,
          11.494736842105263,
          20.344827586206897,
          41.6,
          17.47872340425532,
          27.027397260273972,
          6.659090909090909,
          12.583333333333334,
          16.068493150684933,
          15.095,
          51.72631578947368,
          18.298969072164947,
          20.794871794871796,
          48.796875,
          20.163636363636364,
          46.26923076923077,
          12.405172413793103,
          28.891304347826086,
          11.554545454545455,
          47.4,
          26.50632911392405,
          53.18604651162791,
          20.384615384615383,
          9.730337078651685,
          32.69512195121951,
          22.26950354609929,
          14.05813953488372,
          31.38,
          14.326732673267326,
          14.645569620253164,
          55.2,
          18.853448275862068,
          55.93478260869565,
          18.5875,
          13.509803921568627,
          14.651162790697674,
          25.779661016949152,
          20.356164383561644,
          8.378947368421052,
          9.17032967032967,
          18.788819875776397,
          19.42608695652174,
          12.058394160583942,
          30.428571428571427,
          46.514925373134325,
          16.054794520547944,
          50.67857142857143,
          15.546296296296296,
          13.981132075471699,
          18.26923076923077,
          28.446700507614214,
          15.76605504587156,
          13.575,
          10.682051282051281,
          18.149253731343283,
          30.986928104575163,
          36.39655172413793,
          18.47107438016529,
          9.158227848101266,
          32.57017543859649,
          14.810344827586206,
          13.262295081967213,
          56.17605633802817,
          41.536,
          20.703703703703702,
          43.849557522123895,
          12.088235294117647,
          17.48125,
          18.916666666666668,
          13.497041420118343,
          22.567164179104477,
          21.68,
          21.75,
          19.253333333333334,
          28.75,
          20.063063063063062,
          15.708955223880597,
          18.36144578313253,
          12.584158415841584,
          14.846153846153847,
          11.590062111801242,
          27.142857142857142,
          49.824561403508774,
          23.128712871287128,
          25.883116883116884,
          19.253521126760564,
          14.545454545454545,
          16.49775784753363,
          50.889763779527556,
          16.511111111111113,
          20.384615384615383,
          43.95652173913044,
          7.984496124031008,
          13.417266187050359,
          19.652694610778443,
          10.990196078431373,
          13.625,
          14.411764705882353,
          26.1640625,
          35.17557251908397,
          35.9746835443038,
          18.13907284768212,
          15.563218390804598,
          46.45454545454545,
          54.54010695187166,
          29.050505050505052,
          9.96078431372549,
          16.67479674796748,
          7.016528925619835,
          10.408333333333333,
          16.75,
          10.932515337423313,
          11.04109589041096,
          15.785340314136125,
          29.197802197802197,
          29.19047619047619,
          26.570247933884296,
          19.517241379310345,
          18.144144144144143,
          34.39041095890411,
          15.598837209302326,
          17.67391304347826,
          32.0650406504065,
          11.469135802469136,
          38.523809523809526,
          6.5396825396825395,
          59.69948186528497,
          13.323529411764707,
          12.267241379310345,
          6.681318681318682,
          19.298969072164947,
          22.085365853658537,
          17.670731707317074,
          12.407407407407407,
          13.270588235294118,
          13.146496815286625,
          8.951612903225806,
          8.277777777777779,
          20.572916666666668,
          8.302197802197803,
          6.343949044585988,
          4.895652173913043,
          17.137931034482758,
          11,
          20.806122448979593,
          16.821656050955415,
          8.027777777777779,
          33.2969696969697,
          27.270676691729324,
          12.908163265306122,
          9.548872180451127,
          10.88888888888889,
          6.8708133971291865,
          29.3,
          6.648936170212766,
          18.23008849557522,
          11.642857142857142,
          10.617977528089888,
          27.6,
          12.308219178082192,
          7.37,
          32.16574585635359,
          7.733333333333333,
          12.725806451612904,
          30.97945205479452,
          1.5396825396825398,
          14.408163265306122,
          11.026315789473685,
          5.2444444444444445,
          10.172727272727272,
          8.756756756756756,
          16.252100840336134,
          8.973684210526315,
          9.791044776119403,
          17.32323232323232,
          12.885245901639344,
          9.488888888888889,
          38.16778523489933,
          10.675862068965516,
          16.404761904761905,
          12.375,
          29.86470588235294,
          17.092105263157894,
          10.887096774193548,
          14.668539325842696,
          7.540816326530612,
          12.45631067961165,
          24.21323529411765,
          10.313559322033898,
          13.698795180722891,
          14.26530612244898,
          7.868421052631579,
          16.45736434108527,
          11.154362416107382,
          8.234234234234235,
          35.38709677419355,
          14.76595744680851,
          37.89915966386555,
          14.844660194174757,
          8.666666666666666,
          36.283088235294116,
          29.157894736842106,
          51.96341463414634,
          11.669902912621358,
          10.564356435643564,
          11.081632653061224,
          13.981481481481481,
          15.895104895104895,
          18.4,
          7.953488372093023,
          23.928571428571427,
          10.16,
          29.164835164835164,
          22.682242990654206,
          4.261904761904762,
          12.910112359550562,
          30.314814814814813,
          16.595092024539877,
          14.544642857142858,
          15.791304347826086,
          40.13461538461539,
          33.42857142857143,
          9.027397260273972,
          31.847058823529412,
          28.865853658536587,
          23.473684210526315,
          16.563025210084035,
          10.24561403508772,
          12.291390728476822,
          17.08695652173913,
          9.81981981981982,
          28.133333333333333,
          13.8,
          19.173076923076923,
          11.947368421052632,
          23.88421052631579,
          13.67816091954023,
          14.444444444444445,
          14.158415841584159,
          18.573170731707318,
          5.842592592592593,
          17.191011235955056,
          4.247058823529412,
          15.503496503496503,
          12.536363636363637,
          20.935897435897434,
          14.31081081081081,
          48.234693877551024,
          37.193548387096776,
          9.621212121212121,
          40.304,
          41.12380952380953,
          30.929577464788732,
          16.85792349726776,
          31.652631578947368,
          19.224358974358974,
          19.983606557377048,
          10.548076923076923,
          22.646341463414632,
          11.101851851851851,
          9.505376344086022,
          38.51111111111111,
          18.141304347826086,
          16.420289855072465,
          16.2,
          16.39455782312925,
          6.8,
          46.78832116788321,
          15.7578125,
          14.44,
          50.36470588235294,
          12.282051282051283,
          18.26771653543307,
          25.166666666666668,
          19.767241379310345,
          12.054054054054054,
          10.072916666666666,
          19.51818181818182,
          22.347560975609756,
          40.80909090909091,
          21.34426229508197,
          27.42105263157895,
          14.396341463414634,
          46.03361344537815,
          14.322222222222223,
          16.461077844311376,
          11.947368421052632,
          26.0561797752809,
          38.93805309734513,
          15.171641791044776,
          12.384615384615385,
          22.336206896551722,
          19.603174603174605,
          12.993377483443709,
          22.93103448275862,
          15.204081632653061,
          8.24390243902439,
          24.748344370860927,
          10.681159420289855,
          19.692857142857143,
          44.37837837837838,
          16.193877551020407,
          14.304347826086957,
          9.661764705882353,
          36.16,
          34.741721854304636,
          22.59090909090909,
          53.10952380952381,
          21.559055118110237,
          20.614583333333332,
          27.435643564356436,
          7.62962962962963,
          24.536363636363635,
          19.214285714285715,
          13.781609195402298,
          20.24561403508772,
          10.362637362637363,
          36.52,
          25.33783783783784,
          39.110236220472444,
          15.518518518518519,
          13.7125,
          25.976190476190474,
          16.70754716981132,
          19.81578947368421,
          14.072463768115941,
          17.769784172661872,
          20.172727272727272,
          9.470588235294118,
          17.791304347826088,
          39.7972972972973,
          31.875968992248062,
          24.32846715328467,
          20.454545454545453,
          14.354166666666666,
          20.141304347826086,
          19.185714285714287,
          57.702586206896555,
          16.72,
          23.01388888888889,
          21.508196721311474,
          12.928571428571429,
          15.763513513513514,
          12.420168067226891,
          18.662650602409638,
          10.591836734693878,
          21.372881355932204,
          49.91803278688525,
          13.042016806722689,
          18.128,
          39,
          10.738095238095237,
          18.5,
          28.5,
          37.2125,
          7.5375,
          22.330827067669173,
          20.545454545454547,
          28.403508771929825,
          20.459016393442624,
          14.159420289855072,
          10.639344262295081,
          12.35483870967742,
          57.01234567901235,
          16.86111111111111,
          24.360655737704917,
          25.549382716049383,
          35.48780487804878,
          13.982608695652173,
          9.151162790697674,
          15.571428571428571,
          12.603174603174603,
          15.774193548387096,
          22.80625,
          17.73170731707317,
          8.488888888888889,
          31.27433628318584,
          47.92307692307692,
          14.347826086956522,
          11,
          37.42622950819672,
          16.817204301075268,
          21.530864197530864,
          17.46896551724138,
          24.306451612903224,
          20.45,
          30.875,
          28.339285714285715,
          18.53271028037383,
          11.9,
          15.762589928057555,
          23.514018691588785,
          14.89516129032258,
          16.875,
          22.01492537313433,
          22.103092783505154,
          24.52980132450331,
          53.24698795180723,
          37.76428571428571,
          18.882978723404257,
          39.79527559055118,
          15.313333333333333,
          27.561904761904763,
          42.51851851851852,
          18.67105263157895,
          32.70454545454545,
          19.32323232323232,
          16.327433628318584,
          11.679611650485437,
          27.65,
          25.166666666666668,
          16.982142857142858,
          57.53367875647668,
          16.76923076923077,
          17.58252427184466,
          20.485714285714284,
          17.78472222222222,
          47.29896907216495,
          25.25,
          27.485714285714284,
          28.125,
          22.00990099009901,
          18.175824175824175,
          33.61616161616162,
          17.17142857142857,
          33.89887640449438,
          15.313559322033898,
          16.05128205128205,
          42.177215189873415,
          70.63736263736264,
          22.5,
          31.5,
          27.725490196078432,
          14.349112426035504,
          43.50375939849624,
          18.09933774834437,
          17.206060606060607,
          13.72549019607843,
          18.78,
          33.39795918367347,
          11.746268656716419,
          14.4,
          20.654929577464788,
          13.876811594202898,
          61.52892561983471,
          54.1375,
          26.03676470588235,
          23.597560975609756,
          15.24,
          50.18079096045198,
          22.402985074626866,
          16.903030303030302,
          26.564705882352943,
          41.56410256410256,
          25.254545454545454,
          36.45544554455446,
          22.172932330827066,
          13.282051282051283,
          16.59285714285714,
          25.16470588235294,
          18.557894736842105,
          14.985401459854014,
          38.255319148936174,
          13.74436090225564,
          21.856060606060606,
          56.60283687943262,
          12.441379310344828,
          15.693693693693694,
          28.802325581395348,
          45.6,
          27.761904761904763,
          12,
          17.453125,
          20.36,
          24.09,
          29.818791946308725,
          26.59090909090909,
          15.853658536585366,
          19.462962962962962,
          23.842105263157894,
          21.23076923076923,
          61.92424242424242,
          10.100917431192661,
          22.103174603174605,
          21.569444444444443,
          15.927710843373495,
          43.83030303030303,
          18.604938271604937,
          24,
          43.65625,
          20.033898305084747,
          18.45,
          12.3875,
          9.556962025316455,
          18.233333333333334,
          39.816326530612244,
          25.139130434782608,
          17.28205128205128,
          25.273809523809526,
          11.421052631578947,
          22.504,
          5.453781512605042,
          15.89080459770115,
          17.95945945945946,
          20.872832369942195,
          18.398373983739837,
          45.486486486486484,
          42.21678321678322,
          32.798449612403104,
          19.803030303030305,
          41.42028985507246,
          20.559322033898304,
          24.397058823529413,
          42.42622950819672,
          22.094240837696336,
          15.1015625,
          72.81987577639751,
          24.07792207792208,
          19.319148936170212,
          17.673076923076923,
          28.807692307692307,
          40.51754385964912,
          12.770114942528735,
          18.89156626506024,
          44.48101265822785,
          23.072580645161292,
          53.7536231884058,
          41.41538461538462,
          22.64485981308411,
          26.4822695035461,
          30.866666666666667,
          31.67808219178082,
          33.732142857142854,
          20.226277372262775,
          25.7,
          17.616666666666667,
          39.648936170212764,
          22.17763157894737,
          24.012820512820515,
          30.88034188034188,
          33.80740740740741,
          20.41509433962264,
          56.62204724409449,
          14.925925925925926,
          30.5125,
          47.970588235294116,
          22.348684210526315,
          23.236842105263158,
          17.124260355029588,
          20.75,
          53.833333333333336,
          37.15384615384615,
          28.36842105263158,
          30.39,
          16.876237623762375,
          22.217741935483872,
          23.00877192982456,
          37.48780487804878,
          39.72839506172839,
          19.580952380952382,
          35.611111111111114,
          31.5,
          23.979166666666668,
          45.188311688311686,
          22.066666666666666,
          17.74757281553398,
          20.387096774193548,
          18.705263157894738,
          16.2680412371134,
          21.81451612903226,
          60.398305084745765,
          46.308724832214764,
          25.713333333333335,
          36.026785714285715,
          42.833333333333336,
          20.20253164556962,
          25.3828125,
          14.134328358208956,
          47.59322033898305,
          20.94047619047619,
          73.04255319148936,
          49.31707317073171,
          11.860294117647058,
          31.115853658536587,
          41.22222222222222,
          15.2890625,
          24.432,
          43.616279069767444,
          17.047619047619047,
          25.228813559322035,
          21.580645161290324,
          23.431506849315067,
          33.915789473684214,
          27.21951219512195,
          10.7,
          19.642857142857142,
          18.125,
          33.07142857142857,
          14.21311475409836,
          28.12849162011173,
          40.603960396039604,
          20.509090909090908,
          70.82,
          60.7578125,
          17.52054794520548,
          22.55,
          24.737704918032787,
          15.03370786516854,
          17.157894736842106,
          20,
          9.834319526627219,
          41.43859649122807,
          18.094594594594593,
          12.671140939597315,
          23.364197530864196,
          35.68840579710145,
          34.01,
          23.59016393442623,
          19.38235294117647,
          31.445652173913043,
          34.73267326732673,
          17.867469879518072,
          26.62727272727273,
          24.26618705035971,
          38.72727272727273,
          18.631147540983605,
          17.95138888888889,
          38.60550458715596,
          45.34074074074074,
          25.857843137254903,
          58.82876712328767,
          23.22818791946309,
          21.887417218543046,
          34.30718954248366,
          41.148514851485146,
          31.426470588235293,
          33.1025641025641,
          21.344155844155843,
          28.926666666666666,
          29.895522388059703,
          21.09090909090909,
          36.827586206896555,
          11.202380952380953,
          29.745098039215687,
          23.302013422818792,
          12.893617021276595,
          23.226666666666667,
          13.684563758389261,
          20.97142857142857,
          38.34188034188034,
          19.622377622377623,
          15.824561403508772,
          18.42391304347826,
          27.56756756756757,
          45.94656488549618,
          22.73103448275862,
          21.153846153846153,
          50.18518518518518,
          42.981651376146786,
          19.263736263736263,
          13.592,
          15.690140845070422,
          18.34131736526946,
          23.844444444444445,
          22.4375,
          23.805555555555557,
          24.615384615384617,
          20.70754716981132,
          47.016666666666666,
          50.535135135135135,
          20.81761006289308,
          19.486666666666668,
          23.737179487179485,
          23.322147651006713,
          33.87301587301587,
          23.45098039215686,
          9.345454545454546,
          41.43589743589744,
          14.724770642201834,
          42.51219512195122,
          21.083333333333332,
          30.867768595041323,
          22.467105263157894,
          19.615384615384617,
          19.62135922330097,
          20.051020408163264,
          12.742268041237113,
          21.238095238095237,
          18.203252032520325,
          29.865671641791046,
          21.72463768115942,
          21.431372549019606,
          29.926315789473684,
          31.5,
          41.42342342342342,
          19.979057591623036,
          49.88666666666666,
          21.5875,
          19.008130081300813,
          31.311827956989248,
          36.38036809815951,
          21.02020202020202,
          24.83050847457627,
          30.63768115942029,
          23.437956204379564,
          23.053571428571427,
          25.43076923076923,
          22.87012987012987,
          40.02247191011236,
          22.228571428571428,
          30.142857142857142,
          9.71774193548387,
          40.89430894308943,
          21.779310344827586,
          13.830645161290322,
          15.263157894736842,
          23.425675675675677,
          18.645569620253166,
          15.884615384615385,
          17.466019417475728,
          25.266666666666666,
          15.182926829268293,
          22.788990825688074,
          46.40769230769231,
          26.986842105263158,
          18.875912408759124,
          25.656934306569344,
          33.10294117647059,
          24.231182795698924,
          36.072463768115945,
          27.738095238095237,
          26.64,
          25.072916666666668,
          10.537037037037036,
          38.75,
          24.328767123287673,
          23.060606060606062,
          37.9875,
          18.272727272727273,
          24.636363636363637,
          19.429906542056074,
          16.245098039215687,
          12.492753623188406,
          65.28488372093024,
          28.503496503496503,
          23.836363636363636,
          14.714285714285714,
          17.3463687150838,
          15.9,
          14.951807228915662,
          36.95,
          33.42553191489362,
          17.46728971962617,
          16.41304347826087,
          40.04347826086956,
          17.65,
          21.366412213740457,
          31.322580645161292,
          26.491803278688526,
          17.347826086956523,
          19.7,
          7.326530612244898,
          47.09230769230769,
          16.006134969325153,
          25.838383838383837,
          33.77536231884058,
          22.30263157894737,
          11.693877551020408,
          14.957317073170731,
          30.782608695652176,
          35.689655172413794,
          21.348484848484848,
          21.93617021276596,
          22.27480916030534,
          22.26605504587156,
          37.583333333333336,
          30.770642201834864,
          33.38297872340426,
          29.905172413793103,
          37.7,
          30.317073170731707,
          14.194871794871794,
          59.82702702702703,
          19.52238805970149,
          24.316901408450704,
          33.1858407079646,
          24.234567901234566,
          28.5968992248062,
          33.76190476190476,
          32.39090909090909,
          18.544776119402986,
          27.91549295774648,
          29.333333333333332,
          29.23008849557522,
          10.535087719298245,
          42.98913043478261,
          11.097560975609756,
          23.680555555555557,
          21.098765432098766,
          20.151785714285715,
          18.948275862068964,
          32.53781512605042,
          7.417582417582418,
          34.59477124183007,
          13.074074074074074,
          27.68888888888889,
          34.592592592592595,
          15.617486338797814,
          20.8203125,
          23.908045977011493,
          19.913385826771652,
          26.85542168674699,
          44.916666666666664,
          30.5625,
          23.262135922330096,
          21.33644859813084,
          15.405797101449275,
          14.12396694214876,
          21.29605263157895,
          24.938931297709924,
          23.792792792792792,
          38.97692307692308,
          20.264150943396228,
          13.717171717171718,
          16.78985507246377,
          21.534246575342465,
          19.097744360902254,
          17.553571428571427,
          36.7247191011236,
          19.074626865671643,
          8.37,
          16.662337662337663,
          23.94047619047619,
          47.39473684210526,
          52.843537414965986,
          26.174757281553397,
          22.010526315789473,
          29.892857142857142,
          28.14516129032258,
          22.492227979274613,
          17.08910891089109,
          19.90909090909091,
          40.098591549295776,
          24.975609756097562,
          49.13186813186813,
          19.40909090909091,
          40.10655737704918,
          18.96551724137931,
          42.103896103896105,
          27.021505376344088,
          38.17164179104478,
          19.753424657534246,
          20.57894736842105,
          20.965217391304346,
          29.162790697674417,
          20.16867469879518,
          34.4375,
          33.017857142857146,
          50.37647058823529,
          15.184466019417476,
          27.276923076923076,
          26.86092715231788,
          10.477064220183486,
          36.47422680412371,
          26.418181818181818,
          21.816176470588236,
          17.061946902654867,
          23.211180124223603,
          38.64705882352941,
          36.00653594771242,
          15.822222222222223,
          16.836879432624112,
          19.867924528301888,
          24.080213903743317,
          26.11,
          18.098484848484848,
          17.646616541353385,
          29.913978494623656,
          41.5945945945946,
          36.5625,
          35.09649122807018,
          22.164556962025316,
          11.67,
          31.917293233082706,
          19.636363636363637,
          25.95945945945946,
          23.937007874015748,
          22.68807339449541,
          20.506172839506174,
          24.601941747572816,
          26.44385026737968,
          26.466666666666665,
          21.442105263157895,
          19.874015748031496,
          39.28125,
          48.390243902439025,
          60.32183908045977,
          19.85981308411215,
          20.74829931972789,
          21.8015873015873,
          22.940594059405942,
          32.40522875816993,
          26.383333333333333,
          26.19178082191781,
          37.81818181818182,
          31.243697478991596,
          21.78523489932886,
          34.16197183098591,
          11.322033898305085,
          13.614457831325302,
          18.926829268292682,
          27.653846153846153,
          32.65822784810127,
          25.107142857142858,
          16.11038961038961,
          26.82051282051282,
          36.73737373737374,
          21.283464566929133,
          22.306122448979593,
          17.182692307692307,
          53.45945945945946,
          36.815384615384616,
          19.153153153153152,
          27.10144927536232,
          19.8,
          22.914285714285715,
          21.43362831858407,
          16.514619883040936,
          21.63013698630137,
          26.43243243243243,
          26.450331125827816,
          26.73394495412844,
          16.672727272727272,
          19.433333333333334,
          15.536585365853659,
          23.82758620689655,
          16.762962962962963,
          30.854014598540147,
          43.795180722891565,
          16.42142857142857,
          18.47682119205298,
          9.445255474452555,
          32.76,
          19.64,
          32.38095238095238,
          55.2421875,
          27.92,
          48.79389312977099,
          19.951612903225808,
          23.81981981981982,
          28.060606060606062,
          22.48,
          18.080645161290324,
          19.977272727272727,
          19.483870967741936,
          35.90963855421687,
          27.896551724137932,
          32.23148148148148,
          20.557471264367816,
          19.910569105691057,
          16.644444444444446,
          21.72,
          30.756756756756758,
          40.05084745762712,
          20.366666666666667,
          23.31578947368421,
          30.22151898734177,
          31.689075630252102,
          66.69072164948453,
          22.620253164556964,
          47.26618705035971,
          11.096296296296297,
          52.067669172932334,
          25.914285714285715,
          23.59259259259259,
          21.842105263157894,
          21.261682242990656,
          19.924242424242426,
          28.25,
          21.19626168224299,
          21.503875968992247,
          14.865168539325843,
          20.235772357723576,
          33.91616766467066,
          33.80681818181818,
          18.034965034965033,
          27.183908045977013,
          24.803571428571427,
          37.89565217391304,
          21.493617021276595,
          25.73381294964029,
          28.81578947368421,
          25.840579710144926,
          17.666666666666668,
          29.247191011235955,
          19.4,
          22.7,
          22.503937007874015,
          47.20754716981132,
          22.34,
          19.526785714285715,
          25.6,
          29.25581395348837,
          15.94767441860465,
          12.971153846153847,
          25.79032258064516,
          27.35593220338983,
          13.586466165413533,
          18.25263157894737,
          17.807142857142857,
          34.036144578313255,
          55.08064516129032,
          50.83892617449664,
          22.157894736842106,
          28.364864864864863,
          20.543307086614174,
          16.64748201438849,
          15.847058823529412,
          20.542857142857144,
          19.283185840707965,
          31.114285714285714,
          28.79850746268657,
          21.696,
          25.25,
          44.65714285714286,
          13.438202247191011,
          26.228571428571428,
          18.63917525773196,
          55.328,
          18.653846153846153,
          21.7,
          16.043478260869566,
          23.14864864864865,
          15.194690265486726,
          18.90983606557377,
          25.45614035087719,
          12.612244897959183,
          20.107692307692307,
          26.95294117647059,
          17.806818181818183,
          22.136363636363637,
          18.28301886792453,
          16.05109489051095,
          20.86764705882353,
          36.71969696969697,
          55.35971223021583,
          11.274193548387096,
          9.578313253012048,
          13.11320754716981,
          45.54347826086956,
          22.25925925925926,
          23.368,
          20.810055865921786,
          49.005076142131976,
          27,
          42.713178294573645,
          18.550847457627118,
          13.378947368421052,
          14.918032786885245,
          20.25,
          9.484662576687116,
          33.602409638554214,
          16.270588235294117,
          47.755868544600936,
          11.96,
          17.706521739130434,
          32.28,
          16.83050847457627,
          14.82876712328767,
          37.219251336898395,
          16.669421487603305,
          19.633333333333333,
          11.948148148148148,
          22.98611111111111,
          26.580357142857142,
          17.45,
          18.671875,
          18.21212121212121,
          26.283333333333335,
          24.25,
          19.520325203252032,
          21.943396226415093,
          30.795454545454547,
          9.833333333333334,
          15.666666666666666,
          12.241379310344827,
          15.228187919463087,
          20.091743119266056,
          14.195876288659793,
          21.5,
          11.044117647058824,
          21.39423076923077,
          21.347826086956523,
          7.145833333333333,
          33.022222222222226,
          18.675,
          20.29032258064516,
          10.694736842105263,
          26.22077922077922,
          19.17948717948718,
          12.075471698113208,
          13.360169491525424,
          13.582608695652175,
          9.904761904761905,
          30.174757281553397,
          39.62307692307692,
          8.813186813186814,
          15.94,
          17.991869918699187,
          18.67391304347826,
          22.736263736263737,
          16.11304347826087,
          24.603603603603602,
          10.2874251497006,
          16.879518072289155,
          36.80419580419581,
          28.839285714285715,
          11.827586206896552,
          10.404494382022472,
          9.724409448818898,
          14.704347826086957,
          9.43,
          9.586666666666666,
          39.48148148148148,
          15.261194029850746,
          11.394736842105264,
          5.935483870967742,
          32.94845360824742,
          6.972972972972973,
          16.74251497005988,
          25.99009900990099,
          26.86013986013986,
          10.00943396226415,
          8.156028368794326,
          1.926605504587156,
          8.543478260869565,
          9.786516853932584,
          11,
          13.675213675213675,
          18.060606060606062,
          28.26890756302521,
          28.471910112359552,
          12.32258064516129,
          5.683168316831683,
          5.25,
          52.92056074766355,
          9.745098039215685,
          17.041095890410958,
          18.486842105263158,
          13.075471698113208,
          35.83571428571429,
          11.918604651162791,
          24.930434782608696,
          30.53142857142857,
          12.152380952380952,
          18.836879432624112,
          17.75,
          12.344086021505376,
          18.875776397515526,
          9.8,
          22.42452830188679,
          8.984126984126984,
          14.608695652173912,
          17.227272727272727,
          14.482758620689655,
          27.45744680851064,
          7.784090909090909,
          15.021428571428572,
          16.693693693693692,
          15.144578313253012,
          17.27710843373494,
          14.771186440677965,
          19.377659574468087,
          38.01015228426396,
          12.302752293577981,
          11.114583333333334,
          10.596330275229358,
          24.953846153846154,
          19.983471074380166,
          28.76086956521739,
          24.380165289256198,
          9.962616822429906,
          7.123076923076923,
          11.464,
          35.73118279569893,
          14.858490566037736,
          58.38150289017341,
          9.7,
          11.645569620253164,
          35.59047619047619,
          10.069767441860465,
          23.5,
          14.178082191780822,
          49.7319587628866,
          10.301075268817204,
          8.909090909090908,
          16.642105263157895,
          23.166666666666668,
          16.533333333333335,
          7.6183206106870225,
          8.606741573033707,
          17.75,
          37.75903614457831,
          10.135416666666666,
          11.73076923076923,
          8.690721649484535,
          22.365168539325843,
          9.02247191011236,
          8.95890410958904,
          14.168,
          7.587628865979381,
          12.137614678899082,
          9.735632183908047,
          25.82170542635659,
          12.664233576642335,
          11.176470588235293,
          17.7292817679558,
          8.845238095238095,
          49.814207650273225,
          25.923809523809524,
          8.338028169014084,
          10.533834586466165,
          12.536363636363637,
          21.54022988505747,
          18.14364640883978,
          21.894736842105264,
          16.87142857142857,
          15.696428571428571,
          22.74436090225564,
          36.06299212598425,
          43.64705882352941,
          14.236842105263158,
          26.179856115107913,
          10.310344827586206,
          18.55,
          18.029197080291972,
          29.650943396226417,
          3.7884615384615383,
          11.818181818181818,
          21.65625,
          23.296296296296298,
          4.807017543859649,
          29.63758389261745,
          28.580645161290324,
          13.183333333333334,
          12.580645161290322,
          16.63157894736842,
          21.618181818181817,
          49,
          9.52127659574468,
          28.41509433962264,
          44.1609756097561,
          34.98,
          28.115384615384617,
          13.991150442477876,
          15.620915032679738,
          40.292682926829265,
          25.315217391304348,
          16.907563025210084,
          22.476744186046513,
          16.683060109289617,
          13.656565656565656,
          17.270967741935483,
          17.345070422535212,
          18.38888888888889,
          40.3757225433526,
          24.803468208092486,
          37.32620320855615,
          40.293103448275865,
          17.243243243243242,
          41.36734693877551,
          30.604477611940297,
          17.988636363636363,
          18.78494623655914,
          33.13793103448276,
          14.75287356321839,
          30.288,
          15.714285714285714,
          20.472868217054263,
          18.942857142857143
         ],
         "xaxis": "x",
         "yaxis": "y"
        }
       ],
       "layout": {
        "barmode": "relative",
        "legend": {
         "title": {
          "text": "variable"
         },
         "tracegroupgap": 0
        },
        "template": {
         "data": {
          "bar": [
           {
            "error_x": {
             "color": "#2a3f5f"
            },
            "error_y": {
             "color": "#2a3f5f"
            },
            "marker": {
             "line": {
              "color": "#E5ECF6",
              "width": 0.5
             },
             "pattern": {
              "fillmode": "overlay",
              "size": 10,
              "solidity": 0.2
             }
            },
            "type": "bar"
           }
          ],
          "barpolar": [
           {
            "marker": {
             "line": {
              "color": "#E5ECF6",
              "width": 0.5
             },
             "pattern": {
              "fillmode": "overlay",
              "size": 10,
              "solidity": 0.2
             }
            },
            "type": "barpolar"
           }
          ],
          "carpet": [
           {
            "aaxis": {
             "endlinecolor": "#2a3f5f",
             "gridcolor": "white",
             "linecolor": "white",
             "minorgridcolor": "white",
             "startlinecolor": "#2a3f5f"
            },
            "baxis": {
             "endlinecolor": "#2a3f5f",
             "gridcolor": "white",
             "linecolor": "white",
             "minorgridcolor": "white",
             "startlinecolor": "#2a3f5f"
            },
            "type": "carpet"
           }
          ],
          "choropleth": [
           {
            "colorbar": {
             "outlinewidth": 0,
             "ticks": ""
            },
            "type": "choropleth"
           }
          ],
          "contour": [
           {
            "colorbar": {
             "outlinewidth": 0,
             "ticks": ""
            },
            "colorscale": [
             [
              0,
              "#0d0887"
             ],
             [
              0.1111111111111111,
              "#46039f"
             ],
             [
              0.2222222222222222,
              "#7201a8"
             ],
             [
              0.3333333333333333,
              "#9c179e"
             ],
             [
              0.4444444444444444,
              "#bd3786"
             ],
             [
              0.5555555555555556,
              "#d8576b"
             ],
             [
              0.6666666666666666,
              "#ed7953"
             ],
             [
              0.7777777777777778,
              "#fb9f3a"
             ],
             [
              0.8888888888888888,
              "#fdca26"
             ],
             [
              1,
              "#f0f921"
             ]
            ],
            "type": "contour"
           }
          ],
          "contourcarpet": [
           {
            "colorbar": {
             "outlinewidth": 0,
             "ticks": ""
            },
            "type": "contourcarpet"
           }
          ],
          "heatmap": [
           {
            "colorbar": {
             "outlinewidth": 0,
             "ticks": ""
            },
            "colorscale": [
             [
              0,
              "#0d0887"
             ],
             [
              0.1111111111111111,
              "#46039f"
             ],
             [
              0.2222222222222222,
              "#7201a8"
             ],
             [
              0.3333333333333333,
              "#9c179e"
             ],
             [
              0.4444444444444444,
              "#bd3786"
             ],
             [
              0.5555555555555556,
              "#d8576b"
             ],
             [
              0.6666666666666666,
              "#ed7953"
             ],
             [
              0.7777777777777778,
              "#fb9f3a"
             ],
             [
              0.8888888888888888,
              "#fdca26"
             ],
             [
              1,
              "#f0f921"
             ]
            ],
            "type": "heatmap"
           }
          ],
          "heatmapgl": [
           {
            "colorbar": {
             "outlinewidth": 0,
             "ticks": ""
            },
            "colorscale": [
             [
              0,
              "#0d0887"
             ],
             [
              0.1111111111111111,
              "#46039f"
             ],
             [
              0.2222222222222222,
              "#7201a8"
             ],
             [
              0.3333333333333333,
              "#9c179e"
             ],
             [
              0.4444444444444444,
              "#bd3786"
             ],
             [
              0.5555555555555556,
              "#d8576b"
             ],
             [
              0.6666666666666666,
              "#ed7953"
             ],
             [
              0.7777777777777778,
              "#fb9f3a"
             ],
             [
              0.8888888888888888,
              "#fdca26"
             ],
             [
              1,
              "#f0f921"
             ]
            ],
            "type": "heatmapgl"
           }
          ],
          "histogram": [
           {
            "marker": {
             "pattern": {
              "fillmode": "overlay",
              "size": 10,
              "solidity": 0.2
             }
            },
            "type": "histogram"
           }
          ],
          "histogram2d": [
           {
            "colorbar": {
             "outlinewidth": 0,
             "ticks": ""
            },
            "colorscale": [
             [
              0,
              "#0d0887"
             ],
             [
              0.1111111111111111,
              "#46039f"
             ],
             [
              0.2222222222222222,
              "#7201a8"
             ],
             [
              0.3333333333333333,
              "#9c179e"
             ],
             [
              0.4444444444444444,
              "#bd3786"
             ],
             [
              0.5555555555555556,
              "#d8576b"
             ],
             [
              0.6666666666666666,
              "#ed7953"
             ],
             [
              0.7777777777777778,
              "#fb9f3a"
             ],
             [
              0.8888888888888888,
              "#fdca26"
             ],
             [
              1,
              "#f0f921"
             ]
            ],
            "type": "histogram2d"
           }
          ],
          "histogram2dcontour": [
           {
            "colorbar": {
             "outlinewidth": 0,
             "ticks": ""
            },
            "colorscale": [
             [
              0,
              "#0d0887"
             ],
             [
              0.1111111111111111,
              "#46039f"
             ],
             [
              0.2222222222222222,
              "#7201a8"
             ],
             [
              0.3333333333333333,
              "#9c179e"
             ],
             [
              0.4444444444444444,
              "#bd3786"
             ],
             [
              0.5555555555555556,
              "#d8576b"
             ],
             [
              0.6666666666666666,
              "#ed7953"
             ],
             [
              0.7777777777777778,
              "#fb9f3a"
             ],
             [
              0.8888888888888888,
              "#fdca26"
             ],
             [
              1,
              "#f0f921"
             ]
            ],
            "type": "histogram2dcontour"
           }
          ],
          "mesh3d": [
           {
            "colorbar": {
             "outlinewidth": 0,
             "ticks": ""
            },
            "type": "mesh3d"
           }
          ],
          "parcoords": [
           {
            "line": {
             "colorbar": {
              "outlinewidth": 0,
              "ticks": ""
             }
            },
            "type": "parcoords"
           }
          ],
          "pie": [
           {
            "automargin": true,
            "type": "pie"
           }
          ],
          "scatter": [
           {
            "fillpattern": {
             "fillmode": "overlay",
             "size": 10,
             "solidity": 0.2
            },
            "type": "scatter"
           }
          ],
          "scatter3d": [
           {
            "line": {
             "colorbar": {
              "outlinewidth": 0,
              "ticks": ""
             }
            },
            "marker": {
             "colorbar": {
              "outlinewidth": 0,
              "ticks": ""
             }
            },
            "type": "scatter3d"
           }
          ],
          "scattercarpet": [
           {
            "marker": {
             "colorbar": {
              "outlinewidth": 0,
              "ticks": ""
             }
            },
            "type": "scattercarpet"
           }
          ],
          "scattergeo": [
           {
            "marker": {
             "colorbar": {
              "outlinewidth": 0,
              "ticks": ""
             }
            },
            "type": "scattergeo"
           }
          ],
          "scattergl": [
           {
            "marker": {
             "colorbar": {
              "outlinewidth": 0,
              "ticks": ""
             }
            },
            "type": "scattergl"
           }
          ],
          "scattermapbox": [
           {
            "marker": {
             "colorbar": {
              "outlinewidth": 0,
              "ticks": ""
             }
            },
            "type": "scattermapbox"
           }
          ],
          "scatterpolar": [
           {
            "marker": {
             "colorbar": {
              "outlinewidth": 0,
              "ticks": ""
             }
            },
            "type": "scatterpolar"
           }
          ],
          "scatterpolargl": [
           {
            "marker": {
             "colorbar": {
              "outlinewidth": 0,
              "ticks": ""
             }
            },
            "type": "scatterpolargl"
           }
          ],
          "scatterternary": [
           {
            "marker": {
             "colorbar": {
              "outlinewidth": 0,
              "ticks": ""
             }
            },
            "type": "scatterternary"
           }
          ],
          "surface": [
           {
            "colorbar": {
             "outlinewidth": 0,
             "ticks": ""
            },
            "colorscale": [
             [
              0,
              "#0d0887"
             ],
             [
              0.1111111111111111,
              "#46039f"
             ],
             [
              0.2222222222222222,
              "#7201a8"
             ],
             [
              0.3333333333333333,
              "#9c179e"
             ],
             [
              0.4444444444444444,
              "#bd3786"
             ],
             [
              0.5555555555555556,
              "#d8576b"
             ],
             [
              0.6666666666666666,
              "#ed7953"
             ],
             [
              0.7777777777777778,
              "#fb9f3a"
             ],
             [
              0.8888888888888888,
              "#fdca26"
             ],
             [
              1,
              "#f0f921"
             ]
            ],
            "type": "surface"
           }
          ],
          "table": [
           {
            "cells": {
             "fill": {
              "color": "#EBF0F8"
             },
             "line": {
              "color": "white"
             }
            },
            "header": {
             "fill": {
              "color": "#C8D4E3"
             },
             "line": {
              "color": "white"
             }
            },
            "type": "table"
           }
          ]
         },
         "layout": {
          "annotationdefaults": {
           "arrowcolor": "#2a3f5f",
           "arrowhead": 0,
           "arrowwidth": 1
          },
          "autotypenumbers": "strict",
          "coloraxis": {
           "colorbar": {
            "outlinewidth": 0,
            "ticks": ""
           }
          },
          "colorscale": {
           "diverging": [
            [
             0,
             "#8e0152"
            ],
            [
             0.1,
             "#c51b7d"
            ],
            [
             0.2,
             "#de77ae"
            ],
            [
             0.3,
             "#f1b6da"
            ],
            [
             0.4,
             "#fde0ef"
            ],
            [
             0.5,
             "#f7f7f7"
            ],
            [
             0.6,
             "#e6f5d0"
            ],
            [
             0.7,
             "#b8e186"
            ],
            [
             0.8,
             "#7fbc41"
            ],
            [
             0.9,
             "#4d9221"
            ],
            [
             1,
             "#276419"
            ]
           ],
           "sequential": [
            [
             0,
             "#0d0887"
            ],
            [
             0.1111111111111111,
             "#46039f"
            ],
            [
             0.2222222222222222,
             "#7201a8"
            ],
            [
             0.3333333333333333,
             "#9c179e"
            ],
            [
             0.4444444444444444,
             "#bd3786"
            ],
            [
             0.5555555555555556,
             "#d8576b"
            ],
            [
             0.6666666666666666,
             "#ed7953"
            ],
            [
             0.7777777777777778,
             "#fb9f3a"
            ],
            [
             0.8888888888888888,
             "#fdca26"
            ],
            [
             1,
             "#f0f921"
            ]
           ],
           "sequentialminus": [
            [
             0,
             "#0d0887"
            ],
            [
             0.1111111111111111,
             "#46039f"
            ],
            [
             0.2222222222222222,
             "#7201a8"
            ],
            [
             0.3333333333333333,
             "#9c179e"
            ],
            [
             0.4444444444444444,
             "#bd3786"
            ],
            [
             0.5555555555555556,
             "#d8576b"
            ],
            [
             0.6666666666666666,
             "#ed7953"
            ],
            [
             0.7777777777777778,
             "#fb9f3a"
            ],
            [
             0.8888888888888888,
             "#fdca26"
            ],
            [
             1,
             "#f0f921"
            ]
           ]
          },
          "colorway": [
           "#636efa",
           "#EF553B",
           "#00cc96",
           "#ab63fa",
           "#FFA15A",
           "#19d3f3",
           "#FF6692",
           "#B6E880",
           "#FF97FF",
           "#FECB52"
          ],
          "font": {
           "color": "#2a3f5f"
          },
          "geo": {
           "bgcolor": "white",
           "lakecolor": "white",
           "landcolor": "#E5ECF6",
           "showlakes": true,
           "showland": true,
           "subunitcolor": "white"
          },
          "hoverlabel": {
           "align": "left"
          },
          "hovermode": "closest",
          "mapbox": {
           "style": "light"
          },
          "paper_bgcolor": "white",
          "plot_bgcolor": "#E5ECF6",
          "polar": {
           "angularaxis": {
            "gridcolor": "white",
            "linecolor": "white",
            "ticks": ""
           },
           "bgcolor": "#E5ECF6",
           "radialaxis": {
            "gridcolor": "white",
            "linecolor": "white",
            "ticks": ""
           }
          },
          "scene": {
           "xaxis": {
            "backgroundcolor": "#E5ECF6",
            "gridcolor": "white",
            "gridwidth": 2,
            "linecolor": "white",
            "showbackground": true,
            "ticks": "",
            "zerolinecolor": "white"
           },
           "yaxis": {
            "backgroundcolor": "#E5ECF6",
            "gridcolor": "white",
            "gridwidth": 2,
            "linecolor": "white",
            "showbackground": true,
            "ticks": "",
            "zerolinecolor": "white"
           },
           "zaxis": {
            "backgroundcolor": "#E5ECF6",
            "gridcolor": "white",
            "gridwidth": 2,
            "linecolor": "white",
            "showbackground": true,
            "ticks": "",
            "zerolinecolor": "white"
           }
          },
          "shapedefaults": {
           "line": {
            "color": "#2a3f5f"
           }
          },
          "ternary": {
           "aaxis": {
            "gridcolor": "white",
            "linecolor": "white",
            "ticks": ""
           },
           "baxis": {
            "gridcolor": "white",
            "linecolor": "white",
            "ticks": ""
           },
           "bgcolor": "#E5ECF6",
           "caxis": {
            "gridcolor": "white",
            "linecolor": "white",
            "ticks": ""
           }
          },
          "title": {
           "x": 0.05
          },
          "xaxis": {
           "automargin": true,
           "gridcolor": "white",
           "linecolor": "white",
           "ticks": "",
           "title": {
            "standoff": 15
           },
           "zerolinecolor": "white",
           "zerolinewidth": 2
          },
          "yaxis": {
           "automargin": true,
           "gridcolor": "white",
           "linecolor": "white",
           "ticks": "",
           "title": {
            "standoff": 15
           },
           "zerolinecolor": "white",
           "zerolinewidth": 2
          }
         }
        },
        "title": {
         "text": "cytoplasm_calbindin_avg_int_in_DG"
        },
        "xaxis": {
         "anchor": "y",
         "domain": [
          0,
          1
         ],
         "range": [
          0,
          255
         ],
         "title": {
          "text": "cytoplasm_calbindin_avg_int"
         }
        },
        "yaxis": {
         "anchor": "x",
         "domain": [
          0,
          1
         ],
         "title": {
          "text": "count"
         }
        }
       }
      }
     },
     "metadata": {},
     "output_type": "display_data"
    }
   ],
   "source": [
    "# Select all column names in 'final_df' that contain the substring 'avg_int'\n",
    "avg_int_columns = [col for col in final_df.columns if 'avg_int' in col]\n",
    "\n",
    "# Loop over all extracted channel average intensities\n",
    "for column_name in avg_int_columns:\n",
    "\n",
    "    # Plot the average_intensity distribution in order to make an informed decision on the threshold\n",
    "    for roi_name in roi_names:\n",
    "\n",
    "        # Filter rows in final_df where ROI matches roi_name \n",
    "        filtered_df = final_df[(final_df[\"ROI\"] == roi_name)]\n",
    "\n",
    "        # Get the values of the 'label' column in filtered_df as a list\n",
    "        avg_int_values = filtered_df[column_name]\n",
    "\n",
    "        # Plot a histogram with 256 bins and a title indicating the column and ROI\n",
    "        fig = px.histogram(avg_int_values, nbins=256, \n",
    "                           title=f\"{column_name}_in_{roi_name}\",\n",
    "                           labels={'value': column_name, 'count': 'Frequency'},\n",
    "                           range_x=[0, 255])\n",
    "        \n",
    "        # Show the plot\n",
    "        fig.show() "
   ]
  },
  {
   "cell_type": "markdown",
   "metadata": {},
   "source": [
    "<h3>Select cells positive for a marker based on average intensity</h3>\n",
    "\n",
    "1. Define in <code>column name</code> the column you want to use to filter your positive cells.\n",
    "2. Define in <code>min_max_avg_int</code> the min and max values within which cells will be considered positive for a marker"
   ]
  },
  {
   "cell_type": "code",
   "execution_count": 54,
   "metadata": {},
   "outputs": [
    {
     "data": {
      "text/plain": [
       "[('ki67', 0, 'nucleus'), ('neun', 1, 'nucleus'), ('calbindin', 2, 'cytoplasm')]"
      ]
     },
     "execution_count": 54,
     "metadata": {},
     "output_type": "execute_result"
    }
   ],
   "source": [
    "markers"
   ]
  },
  {
   "cell_type": "code",
   "execution_count": null,
   "metadata": {},
   "outputs": [],
   "source": [
    "#TODO: Create a dictionary with min_max_avg_int for each channel\n",
    "# Give the possibility to define populations for the same marker, thinking about Neun High and Low"
   ]
  },
  {
   "cell_type": "code",
   "execution_count": 53,
   "metadata": {},
   "outputs": [],
   "source": [
    "# Input the column name for the average intensity you want to use to filter your positive cells (i.e. \"nucleus_neun_avg_int\"), by default avg_int_columns[0]\n",
    "column_name = avg_int_columns[1]\n",
    "\n",
    "# Define the min, max avg_int values within which cells will be considered as marker+ for each channel\n",
    "min_max_avg_int = (115, 255)\n",
    "\n",
    "# Create an empty list to store all stats extracted from each image\n",
    "stats = []\n",
    "\n",
    "for roi_name in roi_names:\n",
    "\n",
    "    # Initialize an empty list to hold the extracted dataframes on a per channel basis\n",
    "    props_list = []\n",
    "\n",
    "    # Extract marker name from column_name\n",
    "    column_info = column_name.split(\"_\")\n",
    "    marker = column_info[1]\n",
    "    marker\n",
    "\n",
    "    # Retrieve the first and second values (channel and location) of the corresponding tuple\n",
    "    for item in markers:\n",
    "        if item[0] == marker:\n",
    "            channel = item[1]\n",
    "            location = item[2]\n",
    "            break  # Stop searching once the marker is found\n",
    "\n",
    "    # Read the nuclei predictions per ROI\n",
    "    nuclei_labels = tifffile.imread(nuclei_preds_path / roi_name / f\"{file_and_ext}.tiff\")\n",
    "\n",
    "    # Filter rows in final_df where ROI matches roi_name and column_name is higher than threshold\n",
    "    filtered_df = final_df[(final_df[\"ROI\"] == roi_name) & (final_df[column_name] > min_max_avg_int[0]) & (final_df[column_name] < min_max_avg_int[1])]\n",
    "\n",
    "\n",
    "    # Get the values of the 'label' column in filtered_df as a list\n",
    "    label_values = filtered_df[\"label\"].tolist()\n",
    "\n",
    "    # Create a boolean mask where each element is True if the corresponding value in 'nuclei_labels' \n",
    "    # is found in 'label_values', and False otherwise\n",
    "    mask = np.isin(nuclei_labels, label_values)\n",
    "\n",
    "    # Use the mask to set values in 'nuclei_labels' that are not in 'label_values' to 0,\n",
    "    # creating a new array 'filtered_labels' with only the specified values retained\n",
    "    filtered_labels = np.where(mask, nuclei_labels, 0)\n",
    "\n",
    "    viewer.add_labels(filtered_labels, name=f\"{marker}_+_in_{roi_name}\")\n",
    "\n",
    "    # Extract your information of interest\n",
    "    total_nuclei = len(np.unique(nuclei_labels)) - 1\n",
    "    marker_pos_nuclei = len(np.unique(filtered_labels)) - 1\n",
    "\n",
    "    # Calculate \"%_marker+_cells\" and avoid division by zero errors\n",
    "    try:\n",
    "        perc_marker_pos_cells = (marker_pos_nuclei * 100) / total_nuclei\n",
    "    except ZeroDivisionError:\n",
    "        perc_marker_pos_cells = 0\n",
    "\n",
    "    # Create a dictionary containing all extracted info per masked image\n",
    "    stats_dict = {\n",
    "                \"filename\": filename,\n",
    "                \"ROI\": roi_name,\n",
    "                \"based_on\": column_name,\n",
    "                \"marker\": marker,\n",
    "                \"marker_ch\": channel,\n",
    "                \"location\": location,\n",
    "                \"min_max_avg_int\": min_max_avg_int,\n",
    "                \"total_nuclei\": total_nuclei,\n",
    "                \"marker+_nuclei\": marker_pos_nuclei,\n",
    "                \"%_marker+_cells\": perc_marker_pos_cells,\n",
    "                \"slicing_factor\": slicing_factor\n",
    "                }\n",
    "    \n",
    "    # Append the current data point to the stats_list\n",
    "    stats.append(stats_dict)  \n"
   ]
  },
  {
   "cell_type": "markdown",
   "metadata": {},
   "source": [
    "<h3>Save number of positive cells based on each marker</h3>"
   ]
  },
  {
   "cell_type": "code",
   "execution_count": 51,
   "metadata": {},
   "outputs": [
    {
     "name": "stdout",
     "output_type": "stream",
     "text": [
      "Output folder already exists: ./results/\n"
     ]
    },
    {
     "data": {
      "text/html": [
       "<div>\n",
       "<style scoped>\n",
       "    .dataframe tbody tr th:only-of-type {\n",
       "        vertical-align: middle;\n",
       "    }\n",
       "\n",
       "    .dataframe tbody tr th {\n",
       "        vertical-align: top;\n",
       "    }\n",
       "\n",
       "    .dataframe thead th {\n",
       "        text-align: right;\n",
       "    }\n",
       "</style>\n",
       "<table border=\"1\" class=\"dataframe\">\n",
       "  <thead>\n",
       "    <tr style=\"text-align: right;\">\n",
       "      <th></th>\n",
       "      <th>filename</th>\n",
       "      <th>ROI</th>\n",
       "      <th>based_on</th>\n",
       "      <th>marker</th>\n",
       "      <th>marker_ch</th>\n",
       "      <th>location</th>\n",
       "      <th>min_max_avg_int</th>\n",
       "      <th>total_nuclei</th>\n",
       "      <th>marker+_nuclei</th>\n",
       "      <th>%_marker+_cells</th>\n",
       "      <th>slicing_factor</th>\n",
       "    </tr>\n",
       "  </thead>\n",
       "  <tbody>\n",
       "    <tr>\n",
       "      <th>0</th>\n",
       "      <td>HI 1  Contralateral Mouse 8  slide 6 Neun Red ...</td>\n",
       "      <td>CA</td>\n",
       "      <td>cytoplasm_calbindin_avg_int</td>\n",
       "      <td>calbindin</td>\n",
       "      <td>2</td>\n",
       "      <td>cytoplasm</td>\n",
       "      <td>(50, 65535)</td>\n",
       "      <td>1331</td>\n",
       "      <td>12</td>\n",
       "      <td>0.901578</td>\n",
       "      <td>NaN</td>\n",
       "    </tr>\n",
       "    <tr>\n",
       "      <th>1</th>\n",
       "      <td>HI 1  Contralateral Mouse 8  slide 6 Neun Red ...</td>\n",
       "      <td>DG</td>\n",
       "      <td>cytoplasm_calbindin_avg_int</td>\n",
       "      <td>calbindin</td>\n",
       "      <td>2</td>\n",
       "      <td>cytoplasm</td>\n",
       "      <td>(50, 65535)</td>\n",
       "      <td>1747</td>\n",
       "      <td>75</td>\n",
       "      <td>4.293074</td>\n",
       "      <td>NaN</td>\n",
       "    </tr>\n",
       "    <tr>\n",
       "      <th>2</th>\n",
       "      <td>HI 1  Contralateral Mouse 8  slide 6 Neun Red ...</td>\n",
       "      <td>CA</td>\n",
       "      <td>cytoplasm_calbindin_avg_int</td>\n",
       "      <td>calbindin</td>\n",
       "      <td>2</td>\n",
       "      <td>cytoplasm</td>\n",
       "      <td>(50, 255)</td>\n",
       "      <td>1331</td>\n",
       "      <td>12</td>\n",
       "      <td>0.901578</td>\n",
       "      <td>NaN</td>\n",
       "    </tr>\n",
       "    <tr>\n",
       "      <th>3</th>\n",
       "      <td>HI 1  Contralateral Mouse 8  slide 6 Neun Red ...</td>\n",
       "      <td>DG</td>\n",
       "      <td>cytoplasm_calbindin_avg_int</td>\n",
       "      <td>calbindin</td>\n",
       "      <td>2</td>\n",
       "      <td>cytoplasm</td>\n",
       "      <td>(50, 255)</td>\n",
       "      <td>1747</td>\n",
       "      <td>75</td>\n",
       "      <td>4.293074</td>\n",
       "      <td>NaN</td>\n",
       "    </tr>\n",
       "    <tr>\n",
       "      <th>4</th>\n",
       "      <td>HI 1  Contralateral Mouse 8  slide 6 Neun Red ...</td>\n",
       "      <td>CA</td>\n",
       "      <td>cytoplasm_calbindin_avg_int</td>\n",
       "      <td>calbindin</td>\n",
       "      <td>2</td>\n",
       "      <td>cytoplasm</td>\n",
       "      <td>(50, 255)</td>\n",
       "      <td>1331</td>\n",
       "      <td>12</td>\n",
       "      <td>0.901578</td>\n",
       "      <td>NaN</td>\n",
       "    </tr>\n",
       "    <tr>\n",
       "      <th>5</th>\n",
       "      <td>HI 1  Contralateral Mouse 8  slide 6 Neun Red ...</td>\n",
       "      <td>DG</td>\n",
       "      <td>cytoplasm_calbindin_avg_int</td>\n",
       "      <td>calbindin</td>\n",
       "      <td>2</td>\n",
       "      <td>cytoplasm</td>\n",
       "      <td>(50, 255)</td>\n",
       "      <td>1747</td>\n",
       "      <td>75</td>\n",
       "      <td>4.293074</td>\n",
       "      <td>NaN</td>\n",
       "    </tr>\n",
       "  </tbody>\n",
       "</table>\n",
       "</div>"
      ],
      "text/plain": [
       "                                            filename ROI  \\\n",
       "0  HI 1  Contralateral Mouse 8  slide 6 Neun Red ...  CA   \n",
       "1  HI 1  Contralateral Mouse 8  slide 6 Neun Red ...  DG   \n",
       "2  HI 1  Contralateral Mouse 8  slide 6 Neun Red ...  CA   \n",
       "3  HI 1  Contralateral Mouse 8  slide 6 Neun Red ...  DG   \n",
       "4  HI 1  Contralateral Mouse 8  slide 6 Neun Red ...  CA   \n",
       "5  HI 1  Contralateral Mouse 8  slide 6 Neun Red ...  DG   \n",
       "\n",
       "                      based_on     marker  marker_ch   location  \\\n",
       "0  cytoplasm_calbindin_avg_int  calbindin          2  cytoplasm   \n",
       "1  cytoplasm_calbindin_avg_int  calbindin          2  cytoplasm   \n",
       "2  cytoplasm_calbindin_avg_int  calbindin          2  cytoplasm   \n",
       "3  cytoplasm_calbindin_avg_int  calbindin          2  cytoplasm   \n",
       "4  cytoplasm_calbindin_avg_int  calbindin          2  cytoplasm   \n",
       "5  cytoplasm_calbindin_avg_int  calbindin          2  cytoplasm   \n",
       "\n",
       "  min_max_avg_int  total_nuclei  marker+_nuclei  %_marker+_cells  \\\n",
       "0     (50, 65535)          1331              12         0.901578   \n",
       "1     (50, 65535)          1747              75         4.293074   \n",
       "2       (50, 255)          1331              12         0.901578   \n",
       "3       (50, 255)          1747              75         4.293074   \n",
       "4       (50, 255)          1331              12         0.901578   \n",
       "5       (50, 255)          1747              75         4.293074   \n",
       "\n",
       "   slicing_factor  \n",
       "0             NaN  \n",
       "1             NaN  \n",
       "2             NaN  \n",
       "3             NaN  \n",
       "4             NaN  \n",
       "5             NaN  "
      ]
     },
     "execution_count": 51,
     "metadata": {},
     "output_type": "execute_result"
    }
   ],
   "source": [
    "# Define output folder for results\n",
    "results_folder = \"./results/\"\n",
    "\n",
    "# Create the necessary folder structure if it does not exist\n",
    "try:\n",
    "    os.mkdir(str(results_folder))\n",
    "    print(f\"Output folder created: {results_folder}\")\n",
    "except FileExistsError:\n",
    "    print(f\"Output folder already exists: {results_folder}\")\n",
    "\n",
    "# Transform into a dataframe to store it as .csv later\n",
    "df = pd.DataFrame(stats)\n",
    "\n",
    "# Define the .csv path\n",
    "csv_path = \"./results/marker_+_label_avg_int_2D.csv\"\n",
    "\n",
    "# Append to the .csv with new data points each round\n",
    "df.to_csv(csv_path, mode=\"a\", index=False, header=not os.path.isfile(csv_path))\n",
    "\n",
    "# Show the updated .csv \n",
    "csv_df = pd.read_csv(csv_path)\n",
    "\n",
    "csv_df"
   ]
  }
 ],
 "metadata": {
  "kernelspec": {
   "display_name": "microglia_GPU",
   "language": "python",
   "name": "python3"
  },
  "language_info": {
   "codemirror_mode": {
    "name": "ipython",
    "version": 3
   },
   "file_extension": ".py",
   "mimetype": "text/x-python",
   "name": "python",
   "nbconvert_exporter": "python",
   "pygments_lexer": "ipython3",
   "version": "3.9.19"
  }
 },
 "nbformat": 4,
 "nbformat_minor": 2
}
