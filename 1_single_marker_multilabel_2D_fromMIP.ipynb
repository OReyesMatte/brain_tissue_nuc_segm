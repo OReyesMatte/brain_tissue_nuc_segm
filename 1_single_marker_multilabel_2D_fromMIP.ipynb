{
 "cells": [
  {
   "cell_type": "markdown",
   "metadata": {},
   "source": [
    "<h2>Manually inspect images, define ROIs with labels and extract nuclei numbers positive for a cell marker within each label (3D stack to 2D MIP)</h2>"
   ]
  },
  {
   "cell_type": "code",
   "execution_count": 29,
   "metadata": {},
   "outputs": [],
   "source": [
    "from pathlib import Path\n",
    "import czifile\n",
    "import nd2\n",
    "import napari\n",
    "import os\n",
    "import numpy as np\n",
    "import pandas as pd\n",
    "from utils import segment_nuclei_2d, segment_marker_positive_nuclei"
   ]
  },
  {
   "cell_type": "markdown",
   "metadata": {},
   "source": [
    "<h3>Define the directory where your images are stored (.nd2 or .czi files)</h3>"
   ]
  },
  {
   "cell_type": "code",
   "execution_count": 30,
   "metadata": {},
   "outputs": [
    {
     "data": {
      "text/plain": [
       "['raw_data\\\\test_data\\\\HI 1  Contralateral Mouse 8  slide 6 Neun Red Calb Green KI67 Magenta 40x technical replica 1.czi',\n",
       " 'raw_data\\\\test_data\\\\HI 1  Ipsilateral Mouse 8  slide 6 Neun Red Calb Green KI67 Magenta 40x technical replica 1.czi']"
      ]
     },
     "execution_count": 30,
     "metadata": {},
     "output_type": "execute_result"
    }
   ],
   "source": [
    "# Copy the path where your images are stored, ideally inside the raw_data directory\n",
    "directory_path = Path(\"./raw_data/test_data\")\n",
    "\n",
    "# Create an empty list to store all image filepaths within the dataset directory\n",
    "images = []\n",
    "\n",
    "# Create an empty list to store all stats extracted from each image\n",
    "stats = []\n",
    "\n",
    "# Iterate through the .czi and .nd2 files in the directory\n",
    "for file_path in directory_path.glob(\"*.czi\"):\n",
    "    images.append(str(file_path))\n",
    "    \n",
    "for file_path in directory_path.glob(\"*.nd2\"):\n",
    "    images.append(str(file_path))\n",
    "    \n",
    "images"
   ]
  },
  {
   "cell_type": "markdown",
   "metadata": {},
   "source": [
    "<h3>Open each image in the directory</h3>\n",
    "You can do so by changing the number within the brackets below <code>image = images[0]</code>"
   ]
  },
  {
   "cell_type": "code",
   "execution_count": 31,
   "metadata": {},
   "outputs": [
    {
     "name": "stdout",
     "output_type": "stream",
     "text": [
      "Image displayed: HI 1  Ipsilateral Mouse 8  slide 6 Neun Red Calb Green KI67 Magenta 40x technical replica 1\n",
      "Array shape: (4, 12, 3798, 2877)\n",
      "MIP Array shape: (4, 3798, 2877)\n"
     ]
    }
   ],
   "source": [
    "# Explore a different image to crop (0 defines the first image in the directory)\n",
    "image = images[1]\n",
    "\n",
    "# Read path storing raw image and extract filename\n",
    "file_path = Path(image)\n",
    "filename = file_path.stem\n",
    "\n",
    "# Read the image file (either .czi or .nd2)\n",
    "try:\n",
    "    img = czifile.imread(image)\n",
    "    # Remove singleton dimensions\n",
    "    img = img.squeeze()\n",
    "    # Perform MIP on all channels\n",
    "    img_mip = np.max(img, axis=1)\n",
    "\n",
    "except ValueError:\n",
    "    img = nd2.imread(image)\n",
    "    # Perform MIP on all channels\n",
    "    img_mip = np.max(img, axis=0)\n",
    "\n",
    "# Show image in Napari to define ROI\n",
    "viewer = napari.Viewer(ndisplay=2)\n",
    "viewer.add_image(img_mip)\n",
    "\n",
    "# Feedback for researcher\n",
    "print(f\"Image displayed: {filename}\")\n",
    "print(f\"Array shape: {img.shape}\")\n",
    "print(f\"MIP Array shape: {img_mip.shape}\")"
   ]
  },
  {
   "cell_type": "markdown",
   "metadata": {},
   "source": [
    "<h3>Label your regions of interest in Napari and explore the signal of your marker of interest</h3>\n",
    "\n",
    "Make sure to set <code>n edit dim = 3</code> so the label propagates across all channels. Name your regions of interest as either <code>DG</code>, <code>CA1</code>, <code>CA3</code> or <code>HIPPO</code>. Select the <code>img_mip</code> layer and hover each pixel to later on set a threshold above which cells will be considered positive for said marker."
   ]
  },
  {
   "cell_type": "markdown",
   "metadata": {},
   "source": [
    "<video controls>\n",
    "  <source src=\"./assets/napari_labels.mp4\" type=\"video/mp4\">\n",
    "  Your browser does not support the video tag.\n",
    "</video>"
   ]
  },
  {
   "cell_type": "code",
   "execution_count": 32,
   "metadata": {},
   "outputs": [
    {
     "name": "stdout",
     "output_type": "stream",
     "text": [
      "The following labels will be analyzed: ['full_image']\n"
     ]
    }
   ],
   "source": [
    "# Code snippet to analyze cropped regions (ROIs) defined by labels or the full image if no ROI is drawn in Napari\n",
    "\n",
    "# Initialize empty list to store the label name and Numpy arrays so we can loop across the different ROIs\n",
    "layer_names = []\n",
    "layer_labels = []\n",
    "\n",
    "if len(viewer.layers) == 1:\n",
    "\n",
    "    # Extract the xy dimensions of the input image\n",
    "    img_shape = viewer.layers[0].data.shape\n",
    "    img_xy_dims = img.shape[-2:]\n",
    "\n",
    "    # Create a label covering the entire image\n",
    "    label = np.ones(img_xy_dims)\n",
    "\n",
    "    # Add a name and the label to its corresponding list\n",
    "    layer_names.append(\"full_image\")\n",
    "    layer_labels.append(label)\n",
    "\n",
    "else:\n",
    "\n",
    "    for layer in viewer.layers:\n",
    "\n",
    "        # Extract the label names\n",
    "        label_name = layer.name\n",
    "        # Ignore img_mip since it is not a user defined label\n",
    "        if label_name == \"img_mip\":\n",
    "            pass\n",
    "        else:\n",
    "            # Store label names\n",
    "            layer_names.append(label_name)\n",
    "            # Get the label data as a NumPy array to mask the image\n",
    "            label = layer.data \n",
    "            layer_labels.append(label)\n",
    "\n",
    "# Print the defined ROIs that will be analyzed\n",
    "print(f\"The following labels will be analyzed: {layer_names}\")\n"
   ]
  },
  {
   "cell_type": "code",
   "execution_count": null,
   "metadata": {},
   "outputs": [],
   "source": [
    "#TODO: Save user-defined ROIs in a ROI folder under directory_path/ROI as .tiff files\n",
    "# Subfolders for each user-defined label region\n",
    "# Store using the same filename as the input image to make things easier"
   ]
  },
  {
   "cell_type": "markdown",
   "metadata": {},
   "source": [
    "<h3>Define your nuclei/marker stacks and your marker/erosion thresholds</h3>\n",
    "\n",
    "Modify the values for <code>nuclei_channel</code>, <code>marker_channel</code>, <code>nuclei_channel_threshold</code> and <code>erosion_factor</code>"
   ]
  },
  {
   "cell_type": "code",
   "execution_count": 33,
   "metadata": {},
   "outputs": [],
   "source": [
    "# Define the nuclei and markers of interest channel order ('Remember in Python one starts counting from zero')\n",
    "nuclei_channel = 3\n",
    "marker_channel = 1\n",
    "\n",
    "# Define the intensity threshold above which a cell is considered positive for a marker\n",
    "marker_channel_threshold = 40\n",
    "\n",
    "# Sets the amount of erosion that is applied to areas where the marker+ signal colocalizes with nuclear signal\n",
    "# The higher the value, the stricter the conditions to consider a nuclei as marker+\n",
    "erosion_factor = 3\n",
    "\n",
    "# Slice the nuclei and marker stack\n",
    "nuclei_img = img_mip[nuclei_channel, :, :]\n",
    "marker_img = img_mip[marker_channel, :, :]"
   ]
  },
  {
   "cell_type": "markdown",
   "metadata": {},
   "source": [
    "<h3>Mask the input image with the user defined labels and extract data</h3>"
   ]
  },
  {
   "cell_type": "code",
   "execution_count": 34,
   "metadata": {},
   "outputs": [],
   "source": [
    "for label_name, label_array in zip(layer_names, layer_labels):\n",
    "\n",
    "    # Perform maximum intensity projection (MIP) from the label stack\n",
    "    label_mip = np.max(label_array, axis=0)\n",
    "\n",
    "    # We will create a mask where label_mip is greater than or equal to 1\n",
    "    mask = label_mip >= 1\n",
    "\n",
    "    # Apply the mask to nuclei_img and marker_img, setting all other pixels to 0\n",
    "    masked_nuclei_img = np.where(mask, nuclei_img, 0)\n",
    "    masked_marker_img = np.where(mask, marker_img, 0)\n",
    "    viewer.add_image(masked_nuclei_img, name=f\"{label_name}_nuclei\")\n",
    "    viewer.add_image(masked_marker_img, name=f\"{label_name}_marker\")\n",
    "\n",
    "    # Segment nuclei and return labels\n",
    "    nuclei_labels = segment_nuclei_2d(masked_nuclei_img)\n",
    "    viewer.add_labels(nuclei_labels, name=f\"{label_name}_nuclei_labels\")\n",
    "    # Select marker positive nuclei\n",
    "    marker_mip, processed_region_labels = segment_marker_positive_nuclei (nuclei_labels, masked_marker_img, marker_channel_threshold, erosion_factor)\n",
    "    viewer.add_labels(processed_region_labels, name=f\"{label_name}_marker+_nuclei\")\n",
    "\n",
    "    # Extract your information of interest\n",
    "    total_nuclei = len(np.unique(nuclei_labels)) - 1\n",
    "    marker_pos_nuclei = len(np.unique(processed_region_labels)) - 1\n",
    "\n",
    "    # Create a dictionary containing all extracted info per masked image\n",
    "    stats_dict = {\n",
    "                \"filename\": filename,\n",
    "                \"ROI\": label_name,\n",
    "                \"total_nuclei\": total_nuclei,\n",
    "                \"marker+_nuclei\": marker_pos_nuclei,\n",
    "                \"%_marker+_cells\": (marker_pos_nuclei * 100) / total_nuclei,\n",
    "                \"nuclei_ch\": nuclei_channel,\n",
    "                \"marker_ch\": marker_channel,\n",
    "                \"marker_int_threshold\": marker_channel_threshold,\n",
    "                \"erosion_factor\": erosion_factor\n",
    "                }\n",
    "\n",
    "    # Append the current data point to the stats_list\n",
    "    stats.append(stats_dict)    "
   ]
  },
  {
   "cell_type": "markdown",
   "metadata": {},
   "source": [
    "<h3>Data saving</h3>\n"
   ]
  },
  {
   "cell_type": "code",
   "execution_count": 35,
   "metadata": {},
   "outputs": [
    {
     "name": "stdout",
     "output_type": "stream",
     "text": [
      "Output folder already exists: ./results/\n"
     ]
    },
    {
     "data": {
      "text/html": [
       "<div>\n",
       "<style scoped>\n",
       "    .dataframe tbody tr th:only-of-type {\n",
       "        vertical-align: middle;\n",
       "    }\n",
       "\n",
       "    .dataframe tbody tr th {\n",
       "        vertical-align: top;\n",
       "    }\n",
       "\n",
       "    .dataframe thead th {\n",
       "        text-align: right;\n",
       "    }\n",
       "</style>\n",
       "<table border=\"1\" class=\"dataframe\">\n",
       "  <thead>\n",
       "    <tr style=\"text-align: right;\">\n",
       "      <th></th>\n",
       "      <th>filename</th>\n",
       "      <th>ROI</th>\n",
       "      <th>total_nuclei</th>\n",
       "      <th>marker+_nuclei</th>\n",
       "      <th>%_marker+_cells</th>\n",
       "      <th>nuclei_ch</th>\n",
       "      <th>marker_ch</th>\n",
       "      <th>marker_int_threshold</th>\n",
       "      <th>erosion_factor</th>\n",
       "    </tr>\n",
       "  </thead>\n",
       "  <tbody>\n",
       "    <tr>\n",
       "      <th>0</th>\n",
       "      <td>HI 1  Ipsilateral Mouse 8  slide 6 Neun Red Ca...</td>\n",
       "      <td>full_image</td>\n",
       "      <td>5172</td>\n",
       "      <td>2154</td>\n",
       "      <td>41.647332</td>\n",
       "      <td>3</td>\n",
       "      <td>1</td>\n",
       "      <td>40</td>\n",
       "      <td>3</td>\n",
       "    </tr>\n",
       "  </tbody>\n",
       "</table>\n",
       "</div>"
      ],
      "text/plain": [
       "                                            filename         ROI  \\\n",
       "0  HI 1  Ipsilateral Mouse 8  slide 6 Neun Red Ca...  full_image   \n",
       "\n",
       "   total_nuclei  marker+_nuclei  %_marker+_cells  nuclei_ch  marker_ch  \\\n",
       "0          5172            2154        41.647332          3          1   \n",
       "\n",
       "   marker_int_threshold  erosion_factor  \n",
       "0                    40               3  "
      ]
     },
     "execution_count": 35,
     "metadata": {},
     "output_type": "execute_result"
    }
   ],
   "source": [
    "# Define output folder for results\n",
    "results_folder = \"./results/\"\n",
    "\n",
    "# Create the necessary folder structure if it does not exist\n",
    "try:\n",
    "    os.mkdir(str(results_folder))\n",
    "    print(f\"Output folder created: {results_folder}\")\n",
    "except FileExistsError:\n",
    "    print(f\"Output folder already exists: {results_folder}\")\n",
    "\n",
    "# Transform into a dataframe to store it as .csv later\n",
    "df = pd.DataFrame(stats)\n",
    "\n",
    "# Overwrite the .csv with new data points each round\n",
    "df.to_csv(\"./results/marker_+_label_2D.csv\", index=True)\n",
    "\n",
    "df"
   ]
  }
 ],
 "metadata": {
  "kernelspec": {
   "display_name": "microglia_GPU",
   "language": "python",
   "name": "python3"
  },
  "language_info": {
   "codemirror_mode": {
    "name": "ipython",
    "version": 3
   },
   "file_extension": ".py",
   "mimetype": "text/x-python",
   "name": "python",
   "nbconvert_exporter": "python",
   "pygments_lexer": "ipython3",
   "version": "3.9.19"
  }
 },
 "nbformat": 4,
 "nbformat_minor": 2
}
