{
 "cells": [
  {
   "cell_type": "markdown",
   "metadata": {},
   "source": [
    "<h2>Manually inspect images, define ROIs with labels and extract nuclei numbers positive for a cell marker within each label (3D stack to 2D MIP)</h2>"
   ]
  },
  {
   "cell_type": "code",
   "execution_count": 1,
   "metadata": {},
   "outputs": [],
   "source": [
    "from pathlib import Path\n",
    "import czifile\n",
    "import nd2\n",
    "import tifffile\n",
    "import napari\n",
    "import os\n",
    "import numpy as np\n",
    "import pandas as pd\n",
    "from utils import list_images, read_image, segment_nuclei_2d, segment_marker_positive_nuclei"
   ]
  },
  {
   "cell_type": "markdown",
   "metadata": {},
   "source": [
    "<h3>Define the directory where your images are stored (.nd2 or .czi files)</h3>"
   ]
  },
  {
   "cell_type": "code",
   "execution_count": 2,
   "metadata": {},
   "outputs": [
    {
     "data": {
      "text/plain": [
       "['raw_data\\\\test_data\\\\HI 1  Contralateral Mouse 8  slide 6 Neun Red Calb Green KI67 Magenta 40x technical replica 1.czi',\n",
       " 'raw_data\\\\test_data\\\\HI 1  Ipsilateral Mouse 8  slide 6 Neun Red Calb Green KI67 Magenta 40x technical replica 1.czi']"
      ]
     },
     "execution_count": 2,
     "metadata": {},
     "output_type": "execute_result"
    }
   ],
   "source": [
    "# Copy the path where your images are stored, ideally inside the raw_data directory\n",
    "directory_path = Path(\"./raw_data/test_data\")\n",
    "\n",
    "# Iterate through the .czi and .nd2 files in the directory\n",
    "images = list_images(directory_path)\n",
    "\n",
    "images"
   ]
  },
  {
   "cell_type": "markdown",
   "metadata": {},
   "source": [
    "<h3>Open each image in the directory</h3>\n",
    "You can do so by changing the number within the brackets below <code>image = images[0]</code>. By changing the <code>slicing factor</code> you lose resolution but speed up processing times (check the results)."
   ]
  },
  {
   "cell_type": "code",
   "execution_count": 3,
   "metadata": {},
   "outputs": [
    {
     "name": "stdout",
     "output_type": "stream",
     "text": [
      "Image displayed: HI 1  Contralateral Mouse 8  slide 6 Neun Red Calb Green KI67 Magenta 40x technical replica 1\n",
      "Original Array shape: (4, 14, 3803, 2891)\n",
      "MIP Array shape: (4, 951, 723)\n"
     ]
    },
    {
     "name": "stderr",
     "output_type": "stream",
     "text": [
      "Invalid schema for package 'ome-types', please run 'npe2 validate ome-types' to check for manifest errors.\n"
     ]
    },
    {
     "data": {
      "text/plain": [
       "<Image layer 'img_mip' at 0x2958deb0250>"
      ]
     },
     "execution_count": 3,
     "metadata": {},
     "output_type": "execute_result"
    }
   ],
   "source": [
    "# Explore a different image to crop (0 defines the first image in the directory)\n",
    "image = images[0]\n",
    "\n",
    "# Image size reduction to improve processing times (slicing, not lossless compression)\n",
    "slicing_factor = 4 # Use 2 or 4 for compression (None for lossless)\n",
    "\n",
    "# Generate maximum intensity projection and extract filename\n",
    "img_mip, filename = read_image(image, slicing_factor)\n",
    "\n",
    "# Show image in Napari to define ROI\n",
    "viewer = napari.Viewer(ndisplay=2)\n",
    "viewer.add_image(img_mip)"
   ]
  },
  {
   "cell_type": "markdown",
   "metadata": {},
   "source": [
    "<h3>Label your regions of interest in Napari and explore the signal of your marker of interest</h3>\n",
    "\n",
    "Make sure to set <code>n edit dim = 3</code> so the label propagates across all channels. Name your regions of interest as i.e. <code>DG</code>, <code>CA1</code>, <code>CA3</code> or <code>HIPPO</code>. If you do not draw any ROI the entire image will be analyzed.\n",
    "\n",
    "Fnally the <code>img_mip</code> layer and play with the contrast limit to later set a threshold above which cells will be considered positive for said marker."
   ]
  },
  {
   "cell_type": "markdown",
   "metadata": {},
   "source": [
    "<video controls>\n",
    "  <source src=\"./assets/napari_labels.mp4\" type=\"video/mp4\">\n",
    "  Your browser does not support the video tag.\n",
    "</video>"
   ]
  },
  {
   "cell_type": "code",
   "execution_count": null,
   "metadata": {},
   "outputs": [],
   "source": [
    "# Code snippet to analyze cropped regions (ROIs) defined by labels or the full image if no ROI is drawn in Napari\n",
    "\n",
    "# Initialize empty list to store the label name and Numpy arrays so we can loop across the different ROIs\n",
    "layer_names = []\n",
    "layer_labels = []\n",
    "\n",
    "if len(viewer.layers) == 1:\n",
    "\n",
    "    # Extract the xy dimensions of the input image\n",
    "    img_shape = viewer.layers[0].data.shape\n",
    "    img_xy_dims = img_shape[-2:]\n",
    "\n",
    "    # Create a label covering the entire image\n",
    "    label = np.ones(img_xy_dims)\n",
    "\n",
    "    # Add a name and the label to its corresponding list\n",
    "    layer_names.append(\"full_image\")\n",
    "    layer_labels.append(label)\n",
    "\n",
    "else:\n",
    "\n",
    "    for layer in viewer.layers:\n",
    "\n",
    "        # Extract the label names\n",
    "        label_name = layer.name\n",
    "        # Ignore img_mip since it is not a user defined label\n",
    "        if label_name == \"img_mip\":\n",
    "            pass\n",
    "        else:\n",
    "            # Store label names\n",
    "            layer_names.append(label_name)\n",
    "            # Get the label data as a NumPy array to mask the image\n",
    "            label = layer.data \n",
    "            layer_labels.append(label)\n",
    "\n",
    "# Print the defined ROIs that will be analyzed\n",
    "print(f\"The following labels will be analyzed: {layer_names}\")\n"
   ]
  },
  {
   "cell_type": "markdown",
   "metadata": {},
   "source": [
    "<h3>Save user-defined label ROIs as .tiff files</h3>"
   ]
  },
  {
   "cell_type": "code",
   "execution_count": null,
   "metadata": {},
   "outputs": [],
   "source": [
    "# Save user-defined ROIs in a ROI folder under directory_path/ROI as .tiff files\n",
    "# Subfolders for each user-defined label region\n",
    "# Store using the same filename as the input image to make things easier\n",
    "\n",
    "for label_name, label_array in zip(layer_names, layer_labels):\n",
    "\n",
    "    if label_name == \"full_image\":\n",
    "        print(\"Full image analyzed, no need to store ROIs\")\n",
    "        pass\n",
    "\n",
    "    else:\n",
    "\n",
    "        # Perform maximum intensity projection (MIP) from the label stack\n",
    "        label_mip = np.max(label_array, axis=0)\n",
    "\n",
    "        # We will create a mask where label_mip is greater than or equal to 1\n",
    "        mask = (label_mip >= 1).astype(np.uint8)\n",
    "\n",
    "        # Create ROI directory if it does not exist\n",
    "        try:\n",
    "            os.makedirs(directory_path / \"ROIs\" / label_name)\n",
    "        except FileExistsError:\n",
    "            pass\n",
    "\n",
    "        # Construct path to store\n",
    "        roi_path = directory_path / \"ROIs\" / label_name / f\"{filename}.tiff\"\n",
    "\n",
    "        # Save mask (binary image)\n",
    "        tifffile.imwrite(roi_path, mask)"
   ]
  },
  {
   "cell_type": "markdown",
   "metadata": {},
   "source": [
    "<h3>Define your nuclei/marker stacks and your marker/erosion thresholds</h3>\n",
    "\n",
    "Modify the values for <code>nuclei_channel</code>, <code>marker_channel</code>, <code>nuclei_channel_threshold</code> and <code>erosion_factor</code>"
   ]
  },
  {
   "cell_type": "code",
   "execution_count": null,
   "metadata": {},
   "outputs": [],
   "source": [
    "# Define the nuclei and markers of interest channel order ('Remember in Python one starts counting from zero')\n",
    "nuclei_channel = 3\n",
    "marker_channel = 1\n",
    "\n",
    "# Define the intensity threshold above which a cell is considered positive for a marker\n",
    "marker_channel_threshold = 40\n",
    "\n",
    "# Define your nuclei diameter, it speeds up nuclei detection, if unknown leave it as None\n",
    "cellpose_nuclei_diameter = None\n",
    "\n",
    "# Define the amount of blur applied to nuclei\n",
    "# Blurs the mip_nuclei image to even out high intensity foci within the nucleus, the higher the value blurriness increases\n",
    "# High values help segment sparse nuclei (CA and CTX regions) but as a drawback it merges nuclei entities that are very close together (DG region)\n",
    "gaussian_sigma = 0\n",
    "\n",
    "# Sets the amount of erosion that is applied to areas where the marker+ signal colocalizes with nuclear signal\n",
    "# The higher the value, the stricter the conditions to consider a nuclei as marker+\n",
    "erosion_factor = 4\n",
    "\n",
    "# Slice the nuclei and marker stack\n",
    "nuclei_img = img_mip[nuclei_channel, :, :]\n",
    "marker_img = img_mip[marker_channel, :, :]"
   ]
  },
  {
   "cell_type": "markdown",
   "metadata": {},
   "source": [
    "<h3>Mask the input image with the user defined labels and extract data</h3>"
   ]
  },
  {
   "cell_type": "code",
   "execution_count": null,
   "metadata": {},
   "outputs": [],
   "source": [
    "# Create an empty list to store all stats extracted from each image\n",
    "stats = []\n",
    "\n",
    "for label_name, label_array in zip(layer_names, layer_labels):\n",
    "\n",
    "    # Perform maximum intensity projection (MIP) from the label stack\n",
    "    label_mip = np.max(label_array, axis=0)\n",
    "\n",
    "    # We will create a mask where label_mip is greater than or equal to 1\n",
    "    mask = label_mip >= 1\n",
    "\n",
    "    # Apply the mask to nuclei_img and marker_img, setting all other pixels to 0\n",
    "    masked_nuclei_img = np.where(mask, nuclei_img, 0)\n",
    "    masked_marker_img = np.where(mask, marker_img, 0)\n",
    "    viewer.add_image(masked_nuclei_img, name=f\"{label_name}_nuclei\")\n",
    "    viewer.add_image(masked_marker_img, name=f\"{label_name}_marker\")\n",
    "\n",
    "    # Segment nuclei and return labels\n",
    "    nuclei_labels = segment_nuclei_2d(masked_nuclei_img, gaussian_sigma, cellpose_nuclei_diameter)\n",
    "    viewer.add_labels(nuclei_labels, name=f\"{label_name}_nuclei_labels\")\n",
    "    # Select marker positive nuclei\n",
    "    nuclei_and_marker, eroded_nuclei_and_marker, marker_mip, processed_region_labels = segment_marker_positive_nuclei (nuclei_labels, masked_marker_img, marker_channel_threshold, erosion_factor)\n",
    "    viewer.add_image(nuclei_and_marker, name=f\"{label_name}_marker_nuclei_coloc\")\n",
    "    viewer.add_image(eroded_nuclei_and_marker, name=f\"{label_name}_marker_nuclei_eroded\")\n",
    "    viewer.add_labels(processed_region_labels, name=f\"{label_name}_marker+_nuclei\")\n",
    "\n",
    "    # Extract your information of interest\n",
    "    total_nuclei = len(np.unique(nuclei_labels)) - 1\n",
    "    marker_pos_nuclei = len(np.unique(processed_region_labels)) - 1\n",
    "\n",
    "    # Calculate \"%_marker+_cells\" and avoid division by zero errors\n",
    "    try:\n",
    "        perc_marker_pos_cells = (marker_pos_nuclei * 100) / total_nuclei\n",
    "    except ZeroDivisionError:\n",
    "        perc_marker_pos_cells = 0\n",
    "\n",
    "    # Create a dictionary containing all extracted info per masked image\n",
    "    stats_dict = {\n",
    "                \"filename\": filename,\n",
    "                \"ROI\": label_name,\n",
    "                \"total_nuclei\": total_nuclei,\n",
    "                \"marker+_nuclei\": marker_pos_nuclei,\n",
    "                \"%_marker+_cells\": perc_marker_pos_cells,\n",
    "                \"nuclei_ch\": nuclei_channel,\n",
    "                \"marker_ch\": marker_channel,\n",
    "                \"marker_int_threshold\": marker_channel_threshold,\n",
    "                \"erosion_factor\": erosion_factor,\n",
    "                \"cellpose_nuclei_diameter\": cellpose_nuclei_diameter,\n",
    "                \"gaussian_sigma\": gaussian_sigma,\n",
    "                \"slicing_factor\": slicing_factor\n",
    "                }\n",
    "\n",
    "    # Append the current data point to the stats_list\n",
    "    stats.append(stats_dict)    "
   ]
  },
  {
   "cell_type": "markdown",
   "metadata": {},
   "source": [
    "<h3>Data saving</h3>\n"
   ]
  },
  {
   "cell_type": "code",
   "execution_count": null,
   "metadata": {},
   "outputs": [],
   "source": [
    "# Define output folder for results\n",
    "results_folder = \"./results/\"\n",
    "\n",
    "# Create the necessary folder structure if it does not exist\n",
    "try:\n",
    "    os.mkdir(str(results_folder))\n",
    "    print(f\"Output folder created: {results_folder}\")\n",
    "except FileExistsError:\n",
    "    print(f\"Output folder already exists: {results_folder}\")\n",
    "\n",
    "# Transform into a dataframe to store it as .csv later\n",
    "df = pd.DataFrame(stats)\n",
    "\n",
    "# Define the .csv path\n",
    "csv_path = \"./results/marker_+_label_2D.csv\"\n",
    "\n",
    "# Append to the .csv with new data points each round\n",
    "df.to_csv(csv_path, mode=\"a\", index=True, header=not os.path.isfile(csv_path))\n",
    "\n",
    "# Show the updated .csv \n",
    "csv_df = pd.read_csv(csv_path)\n",
    "\n",
    "csv_df"
   ]
  }
 ],
 "metadata": {
  "kernelspec": {
   "display_name": "microglia_GPU",
   "language": "python",
   "name": "python3"
  },
  "language_info": {
   "codemirror_mode": {
    "name": "ipython",
    "version": 3
   },
   "file_extension": ".py",
   "mimetype": "text/x-python",
   "name": "python",
   "nbconvert_exporter": "python",
   "pygments_lexer": "ipython3",
   "version": "3.9.19"
  }
 },
 "nbformat": 4,
 "nbformat_minor": 2
}
