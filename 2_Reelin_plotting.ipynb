{
 "cells": [
  {
   "cell_type": "code",
   "execution_count": 33,
   "metadata": {},
   "outputs": [],
   "source": [
    "import pandas as pd\n",
    "import plotly.express as px"
   ]
  },
  {
   "cell_type": "code",
   "execution_count": null,
   "metadata": {},
   "outputs": [],
   "source": [
    "# Define the path to your results\n",
    "csv_path = \"./results/Reelin_summary_2D.csv\"\n",
    "\n",
    "# Read the CSV file\n",
    "df = pd.read_csv(csv_path, index_col=0)\n",
    "\n",
    "df"
   ]
  },
  {
   "cell_type": "code",
   "execution_count": 20,
   "metadata": {},
   "outputs": [],
   "source": [
    "# Create a new column for combined sex and tissue location\n",
    "df['condition_location'] = df['condition'] + '_' + df['brain_location']\n",
    "\n",
    "# Rename Sham_Contralateral and Sham_Ipsilateral to just Sham\n",
    "df.loc[df['condition_location'].str.contains('Sham', case=False, na=False), 'condition_location'] = 'Sham'\n",
    "\n",
    "# Remove outliers before plotting the data\n",
    "df.drop(index=12, inplace=True)"
   ]
  },
  {
   "cell_type": "code",
   "execution_count": null,
   "metadata": {},
   "outputs": [],
   "source": [
    "fig = px.box(\n",
    "    df,\n",
    "    x=\"condition_location\",\n",
    "    y=\"%_neun+_cells\",\n",
    "    color=\"condition\",\n",
    "    points=\"all\",\n",
    "    hover_data=[df.index, \"filename\", \"mouse_id\"],\n",
    "    title=\"% Neun+ Cells per Condition Location\",\n",
    "    labels={\"%_neun+_cells\": \"% Neun+ Cells\", \"condition_location\": \"Condition Location\"}\n",
    ")\n",
    "\n",
    "# Display the plot\n",
    "fig.show()"
   ]
  },
  {
   "cell_type": "code",
   "execution_count": null,
   "metadata": {},
   "outputs": [],
   "source": [
    "fig = px.box(\n",
    "    df,\n",
    "    x=\"condition_location\",\n",
    "    y=\"%_reelin+_cells\",\n",
    "    color=\"condition\",\n",
    "    points=\"all\",\n",
    "    hover_data=[df.index, \"filename\", \"mouse_id\"],\n",
    "    title=\"% Reelin+ Cells per Condition Location\",\n",
    "    labels={\"%_reelin+_cells\": \"% Reelin+ Cells\", \"condition_location\": \"Condition Location\"}\n",
    ")\n",
    "\n",
    "# Display the plot\n",
    "fig.show()"
   ]
  },
  {
   "cell_type": "code",
   "execution_count": null,
   "metadata": {},
   "outputs": [],
   "source": [
    "fig = px.box(\n",
    "    df,\n",
    "    x=\"condition_location\",\n",
    "    y=\"%_gad67+_cells\",\n",
    "    color=\"condition\",\n",
    "    points=\"all\",\n",
    "    hover_data=[df.index, \"filename\", \"mouse_id\"],\n",
    "    title=\"% GAD67+ Cells per Condition Location\",\n",
    "    labels={\"%_gad67+_cells\": \"% GAD67+ Cells\", \"condition_location\": \"Condition Location\"}\n",
    ")\n",
    "\n",
    "# Display the plot\n",
    "fig.show()"
   ]
  },
  {
   "cell_type": "code",
   "execution_count": null,
   "metadata": {},
   "outputs": [],
   "source": [
    "fig = px.box(\n",
    "    df,\n",
    "    x=\"condition_location\",\n",
    "    y=\"%_cajal_cells\",\n",
    "    color=\"condition\",\n",
    "    points=\"all\",\n",
    "    hover_data=[df.index, \"filename\", \"mouse_id\"],\n",
    "    title=\"% Cajal Cells per Condition Location\",\n",
    "    labels={\"%_cajal_cells\": \"% Cajal Cells\", \"condition_location\": \"Condition Location\"}\n",
    ")\n",
    "\n",
    "# Display the plot\n",
    "fig.show()"
   ]
  },
  {
   "cell_type": "code",
   "execution_count": null,
   "metadata": {},
   "outputs": [],
   "source": [
    "# Define the path to your results\n",
    "csv_path = \"./results/Reelin_per_label_results.csv\"\n",
    "\n",
    "# Read the CSV file\n",
    "df = pd.read_csv(csv_path, index_col=0)\n",
    "\n",
    "df"
   ]
  },
  {
   "cell_type": "code",
   "execution_count": 35,
   "metadata": {},
   "outputs": [],
   "source": [
    "# Create a new column for combined sex and tissue location\n",
    "df['condition_location'] = df['condition'] + '_' + df['brain_location']\n",
    "\n",
    "# Rename Sham_Contralateral and Sham_Ipsilateral to just Sham\n",
    "df.loc[df['condition_location'].str.contains('Sham', case=False, na=False), 'condition_location'] = 'Sham'"
   ]
  },
  {
   "cell_type": "code",
   "execution_count": null,
   "metadata": {},
   "outputs": [],
   "source": [
    "# Count occurrences of neun+_cluster per filename\n",
    "cluster_counts = df.groupby(['filename', 'condition_location'])['neun+_cluster'].value_counts().unstack(fill_value=0)\n",
    "\n",
    "# Rename columns for clarity\n",
    "cluster_counts.columns = [\"low_neun+\", \"neun_-\", \"high_neun+\"]  # Mapping based on the cluster values (0, 1, 2)\n",
    "\n",
    "# Calculate total label counts and then percentages \n",
    "cluster_counts[\"label_count\"] = cluster_counts[\"low_neun+\"] + cluster_counts[\"neun_-\"] + cluster_counts[\"high_neun+\"]\n",
    "cluster_counts[\"%_neun_-\"] = cluster_counts[\"neun_-\"] / cluster_counts[\"label_count\"] * 100\n",
    "cluster_counts[\"%_low_neun+\"] = cluster_counts[\"low_neun+\"] / cluster_counts[\"label_count\"] * 100\n",
    "cluster_counts[\"%_high_neun+\"] = cluster_counts[\"high_neun+\"] / cluster_counts[\"label_count\"] * 100\n",
    "\n",
    "# Reset the index to convert 'filename' and 'condition_location' to columns\n",
    "cluster_counts = cluster_counts.reset_index()\n",
    "\n",
    "cluster_counts"
   ]
  },
  {
   "cell_type": "code",
   "execution_count": null,
   "metadata": {},
   "outputs": [],
   "source": [
    "# Create the box plot\n",
    "fig = px.box(\n",
    "    cluster_counts,\n",
    "    x='condition_location',\n",
    "    y='%_high_neun+',\n",
    "    color='condition_location',\n",
    "    points=\"all\",  # Display all points\n",
    "    hover_data=['filename'],\n",
    "    title='% of High_Neun+ cells by Tissue Location'\n",
    ")\n",
    "\n",
    "# Show the plot\n",
    "fig.show()"
   ]
  }
 ],
 "metadata": {
  "kernelspec": {
   "display_name": "microglia_GPU",
   "language": "python",
   "name": "python3"
  },
  "language_info": {
   "codemirror_mode": {
    "name": "ipython",
    "version": 3
   },
   "file_extension": ".py",
   "mimetype": "text/x-python",
   "name": "python",
   "nbconvert_exporter": "python",
   "pygments_lexer": "ipython3",
   "version": "3.9.19"
  }
 },
 "nbformat": 4,
 "nbformat_minor": 2
}
