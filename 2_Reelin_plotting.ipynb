{
 "cells": [
  {
   "cell_type": "code",
   "execution_count": 47,
   "metadata": {},
   "outputs": [],
   "source": [
    "import pandas as pd\n",
    "import plotly.express as px"
   ]
  },
  {
   "cell_type": "code",
   "execution_count": 48,
   "metadata": {},
   "outputs": [
    {
     "data": {
      "text/html": [
       "<div>\n",
       "<style scoped>\n",
       "    .dataframe tbody tr th:only-of-type {\n",
       "        vertical-align: middle;\n",
       "    }\n",
       "\n",
       "    .dataframe tbody tr th {\n",
       "        vertical-align: top;\n",
       "    }\n",
       "\n",
       "    .dataframe thead th {\n",
       "        text-align: right;\n",
       "    }\n",
       "</style>\n",
       "<table border=\"1\" class=\"dataframe\">\n",
       "  <thead>\n",
       "    <tr style=\"text-align: right;\">\n",
       "      <th></th>\n",
       "      <th>filename</th>\n",
       "      <th>condition</th>\n",
       "      <th>condition_nr</th>\n",
       "      <th>brain_location</th>\n",
       "      <th>mouse_id</th>\n",
       "      <th>slide_nr</th>\n",
       "      <th>tech_replica</th>\n",
       "      <th>total_nuclei</th>\n",
       "      <th>neun+_nuclei</th>\n",
       "      <th>reelin+_nuclei</th>\n",
       "      <th>gad67+_nuclei</th>\n",
       "      <th>cajal_nuclei</th>\n",
       "      <th>%_neun+_cells</th>\n",
       "      <th>%_reelin+_cells</th>\n",
       "      <th>%_gad67+_cells</th>\n",
       "      <th>%_cajal_cells</th>\n",
       "    </tr>\n",
       "  </thead>\n",
       "  <tbody>\n",
       "    <tr>\n",
       "      <th>0</th>\n",
       "      <td>HI 1 Contralateral Mouse 8 Slide09 GAD67green ...</td>\n",
       "      <td>HI</td>\n",
       "      <td>1</td>\n",
       "      <td>Contralateral</td>\n",
       "      <td>8</td>\n",
       "      <td>9</td>\n",
       "      <td>1</td>\n",
       "      <td>4675</td>\n",
       "      <td>1353</td>\n",
       "      <td>98</td>\n",
       "      <td>32</td>\n",
       "      <td>80</td>\n",
       "      <td>28.941176</td>\n",
       "      <td>2.096257</td>\n",
       "      <td>0.684492</td>\n",
       "      <td>1.711230</td>\n",
       "    </tr>\n",
       "    <tr>\n",
       "      <th>1</th>\n",
       "      <td>HI 1 Contralateral Mouse 8 Slide09 GAD67green ...</td>\n",
       "      <td>HI</td>\n",
       "      <td>1</td>\n",
       "      <td>Contralateral</td>\n",
       "      <td>8</td>\n",
       "      <td>9</td>\n",
       "      <td>2</td>\n",
       "      <td>4911</td>\n",
       "      <td>1837</td>\n",
       "      <td>106</td>\n",
       "      <td>40</td>\n",
       "      <td>79</td>\n",
       "      <td>37.405824</td>\n",
       "      <td>2.158420</td>\n",
       "      <td>0.814498</td>\n",
       "      <td>1.608634</td>\n",
       "    </tr>\n",
       "    <tr>\n",
       "      <th>2</th>\n",
       "      <td>HI 1 Ipsilateral Mouse 8 Slide16 GAD67green Ne...</td>\n",
       "      <td>HI</td>\n",
       "      <td>1</td>\n",
       "      <td>Ipsilateral</td>\n",
       "      <td>8</td>\n",
       "      <td>6</td>\n",
       "      <td>1</td>\n",
       "      <td>3591</td>\n",
       "      <td>1796</td>\n",
       "      <td>109</td>\n",
       "      <td>115</td>\n",
       "      <td>68</td>\n",
       "      <td>50.013924</td>\n",
       "      <td>3.035366</td>\n",
       "      <td>3.202451</td>\n",
       "      <td>1.893623</td>\n",
       "    </tr>\n",
       "    <tr>\n",
       "      <th>3</th>\n",
       "      <td>HI 1 Ipsilateral Mouse 8 Slide16 GAD67green Ne...</td>\n",
       "      <td>HI</td>\n",
       "      <td>1</td>\n",
       "      <td>Ipsilateral</td>\n",
       "      <td>8</td>\n",
       "      <td>6</td>\n",
       "      <td>2</td>\n",
       "      <td>3737</td>\n",
       "      <td>2726</td>\n",
       "      <td>263</td>\n",
       "      <td>162</td>\n",
       "      <td>26</td>\n",
       "      <td>72.946214</td>\n",
       "      <td>7.037731</td>\n",
       "      <td>4.335028</td>\n",
       "      <td>0.695745</td>\n",
       "    </tr>\n",
       "    <tr>\n",
       "      <th>4</th>\n",
       "      <td>HI 2 Contralateral Mouse 10 Slide08 GAD67green...</td>\n",
       "      <td>HI</td>\n",
       "      <td>2</td>\n",
       "      <td>Contralateral</td>\n",
       "      <td>10</td>\n",
       "      <td>8</td>\n",
       "      <td>1</td>\n",
       "      <td>3897</td>\n",
       "      <td>1526</td>\n",
       "      <td>113</td>\n",
       "      <td>35</td>\n",
       "      <td>75</td>\n",
       "      <td>39.158327</td>\n",
       "      <td>2.899666</td>\n",
       "      <td>0.898127</td>\n",
       "      <td>1.924557</td>\n",
       "    </tr>\n",
       "    <tr>\n",
       "      <th>5</th>\n",
       "      <td>HI 2 Contralateral Mouse 10 Slide08 GAD67green...</td>\n",
       "      <td>HI</td>\n",
       "      <td>2</td>\n",
       "      <td>Contralateral</td>\n",
       "      <td>10</td>\n",
       "      <td>8</td>\n",
       "      <td>2</td>\n",
       "      <td>4027</td>\n",
       "      <td>1707</td>\n",
       "      <td>114</td>\n",
       "      <td>91</td>\n",
       "      <td>78</td>\n",
       "      <td>42.388875</td>\n",
       "      <td>2.830891</td>\n",
       "      <td>2.259747</td>\n",
       "      <td>1.936926</td>\n",
       "    </tr>\n",
       "    <tr>\n",
       "      <th>6</th>\n",
       "      <td>HI 2 Ipsilateral Mouse 10 Slide08 GAD67green N...</td>\n",
       "      <td>HI</td>\n",
       "      <td>2</td>\n",
       "      <td>Ipsilateral</td>\n",
       "      <td>10</td>\n",
       "      <td>8</td>\n",
       "      <td>1</td>\n",
       "      <td>4058</td>\n",
       "      <td>566</td>\n",
       "      <td>74</td>\n",
       "      <td>18</td>\n",
       "      <td>57</td>\n",
       "      <td>13.947758</td>\n",
       "      <td>1.823558</td>\n",
       "      <td>0.443568</td>\n",
       "      <td>1.404633</td>\n",
       "    </tr>\n",
       "    <tr>\n",
       "      <th>7</th>\n",
       "      <td>HI 2 Ipsilateral Mouse 10 Slide08 GAD67green N...</td>\n",
       "      <td>HI</td>\n",
       "      <td>2</td>\n",
       "      <td>Ipsilateral</td>\n",
       "      <td>10</td>\n",
       "      <td>8</td>\n",
       "      <td>2</td>\n",
       "      <td>3089</td>\n",
       "      <td>693</td>\n",
       "      <td>83</td>\n",
       "      <td>24</td>\n",
       "      <td>66</td>\n",
       "      <td>22.434445</td>\n",
       "      <td>2.686954</td>\n",
       "      <td>0.776950</td>\n",
       "      <td>2.136614</td>\n",
       "    </tr>\n",
       "    <tr>\n",
       "      <th>8</th>\n",
       "      <td>HI 3 Contralateral Mouse 11 Slide09 GAD67green...</td>\n",
       "      <td>HI</td>\n",
       "      <td>3</td>\n",
       "      <td>Contralateral</td>\n",
       "      <td>11</td>\n",
       "      <td>9</td>\n",
       "      <td>1</td>\n",
       "      <td>4308</td>\n",
       "      <td>2689</td>\n",
       "      <td>118</td>\n",
       "      <td>48</td>\n",
       "      <td>55</td>\n",
       "      <td>62.418756</td>\n",
       "      <td>2.739090</td>\n",
       "      <td>1.114206</td>\n",
       "      <td>1.276695</td>\n",
       "    </tr>\n",
       "    <tr>\n",
       "      <th>9</th>\n",
       "      <td>HI 3 Contralateral Mouse 11 Slide09 GAD67green...</td>\n",
       "      <td>HI</td>\n",
       "      <td>3</td>\n",
       "      <td>Contralateral</td>\n",
       "      <td>11</td>\n",
       "      <td>9</td>\n",
       "      <td>2</td>\n",
       "      <td>4577</td>\n",
       "      <td>2899</td>\n",
       "      <td>138</td>\n",
       "      <td>36</td>\n",
       "      <td>59</td>\n",
       "      <td>63.338431</td>\n",
       "      <td>3.015075</td>\n",
       "      <td>0.786541</td>\n",
       "      <td>1.289054</td>\n",
       "    </tr>\n",
       "    <tr>\n",
       "      <th>10</th>\n",
       "      <td>HI 3 Ipsilateral Mouse 11 Slide09 GAD67green N...</td>\n",
       "      <td>HI</td>\n",
       "      <td>3</td>\n",
       "      <td>Ipsilateral</td>\n",
       "      <td>11</td>\n",
       "      <td>9</td>\n",
       "      <td>1</td>\n",
       "      <td>3587</td>\n",
       "      <td>1452</td>\n",
       "      <td>85</td>\n",
       "      <td>21</td>\n",
       "      <td>51</td>\n",
       "      <td>40.479509</td>\n",
       "      <td>2.369668</td>\n",
       "      <td>0.585447</td>\n",
       "      <td>1.421801</td>\n",
       "    </tr>\n",
       "    <tr>\n",
       "      <th>11</th>\n",
       "      <td>HI 3 Ipsilateral Mouse 11 Slide09 GAD67green N...</td>\n",
       "      <td>HI</td>\n",
       "      <td>3</td>\n",
       "      <td>Ipsilateral</td>\n",
       "      <td>11</td>\n",
       "      <td>9</td>\n",
       "      <td>2</td>\n",
       "      <td>4162</td>\n",
       "      <td>1506</td>\n",
       "      <td>110</td>\n",
       "      <td>7</td>\n",
       "      <td>76</td>\n",
       "      <td>36.184527</td>\n",
       "      <td>2.642960</td>\n",
       "      <td>0.168188</td>\n",
       "      <td>1.826045</td>\n",
       "    </tr>\n",
       "    <tr>\n",
       "      <th>12</th>\n",
       "      <td>Sham 1 Contralateral Mouse 6 Slide09 GAD67gree...</td>\n",
       "      <td>Sham</td>\n",
       "      <td>1</td>\n",
       "      <td>Contralateral</td>\n",
       "      <td>6</td>\n",
       "      <td>9</td>\n",
       "      <td>1</td>\n",
       "      <td>4146</td>\n",
       "      <td>1297</td>\n",
       "      <td>2597</td>\n",
       "      <td>746</td>\n",
       "      <td>1562</td>\n",
       "      <td>31.283164</td>\n",
       "      <td>62.638688</td>\n",
       "      <td>17.993247</td>\n",
       "      <td>37.674867</td>\n",
       "    </tr>\n",
       "    <tr>\n",
       "      <th>13</th>\n",
       "      <td>Sham 1 Contralateral Mouse 6 Slide09 GAD67gree...</td>\n",
       "      <td>Sham</td>\n",
       "      <td>1</td>\n",
       "      <td>Contralateral</td>\n",
       "      <td>6</td>\n",
       "      <td>9</td>\n",
       "      <td>2</td>\n",
       "      <td>3960</td>\n",
       "      <td>945</td>\n",
       "      <td>65</td>\n",
       "      <td>26</td>\n",
       "      <td>56</td>\n",
       "      <td>23.863636</td>\n",
       "      <td>1.641414</td>\n",
       "      <td>0.656566</td>\n",
       "      <td>1.414141</td>\n",
       "    </tr>\n",
       "    <tr>\n",
       "      <th>14</th>\n",
       "      <td>Sham 1 Ipsilateral Mouse 6 Slide09 GAD67green ...</td>\n",
       "      <td>Sham</td>\n",
       "      <td>1</td>\n",
       "      <td>Ipsilateral</td>\n",
       "      <td>6</td>\n",
       "      <td>9</td>\n",
       "      <td>1</td>\n",
       "      <td>4123</td>\n",
       "      <td>1263</td>\n",
       "      <td>91</td>\n",
       "      <td>124</td>\n",
       "      <td>54</td>\n",
       "      <td>30.633034</td>\n",
       "      <td>2.207131</td>\n",
       "      <td>3.007519</td>\n",
       "      <td>1.309726</td>\n",
       "    </tr>\n",
       "    <tr>\n",
       "      <th>15</th>\n",
       "      <td>Sham 1 Ipsilateral Mouse 6 Slide09 GAD67green ...</td>\n",
       "      <td>Sham</td>\n",
       "      <td>1</td>\n",
       "      <td>Ipsilateral</td>\n",
       "      <td>6</td>\n",
       "      <td>9</td>\n",
       "      <td>2</td>\n",
       "      <td>3898</td>\n",
       "      <td>1116</td>\n",
       "      <td>43</td>\n",
       "      <td>26</td>\n",
       "      <td>32</td>\n",
       "      <td>28.630067</td>\n",
       "      <td>1.103130</td>\n",
       "      <td>0.667009</td>\n",
       "      <td>0.820934</td>\n",
       "    </tr>\n",
       "    <tr>\n",
       "      <th>16</th>\n",
       "      <td>Sham 2 Contralateral Mouse 7 Slide12 GAD67gree...</td>\n",
       "      <td>Sham</td>\n",
       "      <td>2</td>\n",
       "      <td>Contralateral</td>\n",
       "      <td>7</td>\n",
       "      <td>2</td>\n",
       "      <td>1</td>\n",
       "      <td>5517</td>\n",
       "      <td>2930</td>\n",
       "      <td>172</td>\n",
       "      <td>54</td>\n",
       "      <td>74</td>\n",
       "      <td>53.108574</td>\n",
       "      <td>3.117636</td>\n",
       "      <td>0.978793</td>\n",
       "      <td>1.341309</td>\n",
       "    </tr>\n",
       "    <tr>\n",
       "      <th>17</th>\n",
       "      <td>Sham 2 Contralateral Mouse 7 Slide12 GAD67gree...</td>\n",
       "      <td>Sham</td>\n",
       "      <td>2</td>\n",
       "      <td>Contralateral</td>\n",
       "      <td>7</td>\n",
       "      <td>2</td>\n",
       "      <td>2</td>\n",
       "      <td>5841</td>\n",
       "      <td>2963</td>\n",
       "      <td>131</td>\n",
       "      <td>17</td>\n",
       "      <td>59</td>\n",
       "      <td>50.727615</td>\n",
       "      <td>2.242767</td>\n",
       "      <td>0.291046</td>\n",
       "      <td>1.010101</td>\n",
       "    </tr>\n",
       "    <tr>\n",
       "      <th>18</th>\n",
       "      <td>Sham 2 Ipsilateral Mouse 7 Slide12 GAD67green ...</td>\n",
       "      <td>Sham</td>\n",
       "      <td>2</td>\n",
       "      <td>Ipsilateral</td>\n",
       "      <td>7</td>\n",
       "      <td>2</td>\n",
       "      <td>1</td>\n",
       "      <td>4152</td>\n",
       "      <td>2049</td>\n",
       "      <td>95</td>\n",
       "      <td>22</td>\n",
       "      <td>54</td>\n",
       "      <td>49.349711</td>\n",
       "      <td>2.288054</td>\n",
       "      <td>0.529865</td>\n",
       "      <td>1.300578</td>\n",
       "    </tr>\n",
       "    <tr>\n",
       "      <th>19</th>\n",
       "      <td>Sham 2 Ipsilateral Mouse 7 Slide12 GAD67green ...</td>\n",
       "      <td>Sham</td>\n",
       "      <td>2</td>\n",
       "      <td>Ipsilateral</td>\n",
       "      <td>7</td>\n",
       "      <td>2</td>\n",
       "      <td>2</td>\n",
       "      <td>3992</td>\n",
       "      <td>2297</td>\n",
       "      <td>141</td>\n",
       "      <td>55</td>\n",
       "      <td>49</td>\n",
       "      <td>57.540080</td>\n",
       "      <td>3.532064</td>\n",
       "      <td>1.377756</td>\n",
       "      <td>1.227455</td>\n",
       "    </tr>\n",
       "  </tbody>\n",
       "</table>\n",
       "</div>"
      ],
      "text/plain": [
       "                                             filename condition  condition_nr  \\\n",
       "0   HI 1 Contralateral Mouse 8 Slide09 GAD67green ...        HI             1   \n",
       "1   HI 1 Contralateral Mouse 8 Slide09 GAD67green ...        HI             1   \n",
       "2   HI 1 Ipsilateral Mouse 8 Slide16 GAD67green Ne...        HI             1   \n",
       "3   HI 1 Ipsilateral Mouse 8 Slide16 GAD67green Ne...        HI             1   \n",
       "4   HI 2 Contralateral Mouse 10 Slide08 GAD67green...        HI             2   \n",
       "5   HI 2 Contralateral Mouse 10 Slide08 GAD67green...        HI             2   \n",
       "6   HI 2 Ipsilateral Mouse 10 Slide08 GAD67green N...        HI             2   \n",
       "7   HI 2 Ipsilateral Mouse 10 Slide08 GAD67green N...        HI             2   \n",
       "8   HI 3 Contralateral Mouse 11 Slide09 GAD67green...        HI             3   \n",
       "9   HI 3 Contralateral Mouse 11 Slide09 GAD67green...        HI             3   \n",
       "10  HI 3 Ipsilateral Mouse 11 Slide09 GAD67green N...        HI             3   \n",
       "11  HI 3 Ipsilateral Mouse 11 Slide09 GAD67green N...        HI             3   \n",
       "12  Sham 1 Contralateral Mouse 6 Slide09 GAD67gree...      Sham             1   \n",
       "13  Sham 1 Contralateral Mouse 6 Slide09 GAD67gree...      Sham             1   \n",
       "14  Sham 1 Ipsilateral Mouse 6 Slide09 GAD67green ...      Sham             1   \n",
       "15  Sham 1 Ipsilateral Mouse 6 Slide09 GAD67green ...      Sham             1   \n",
       "16  Sham 2 Contralateral Mouse 7 Slide12 GAD67gree...      Sham             2   \n",
       "17  Sham 2 Contralateral Mouse 7 Slide12 GAD67gree...      Sham             2   \n",
       "18  Sham 2 Ipsilateral Mouse 7 Slide12 GAD67green ...      Sham             2   \n",
       "19  Sham 2 Ipsilateral Mouse 7 Slide12 GAD67green ...      Sham             2   \n",
       "\n",
       "   brain_location  mouse_id  slide_nr  tech_replica  total_nuclei  \\\n",
       "0   Contralateral         8         9             1          4675   \n",
       "1   Contralateral         8         9             2          4911   \n",
       "2     Ipsilateral         8         6             1          3591   \n",
       "3     Ipsilateral         8         6             2          3737   \n",
       "4   Contralateral        10         8             1          3897   \n",
       "5   Contralateral        10         8             2          4027   \n",
       "6     Ipsilateral        10         8             1          4058   \n",
       "7     Ipsilateral        10         8             2          3089   \n",
       "8   Contralateral        11         9             1          4308   \n",
       "9   Contralateral        11         9             2          4577   \n",
       "10    Ipsilateral        11         9             1          3587   \n",
       "11    Ipsilateral        11         9             2          4162   \n",
       "12  Contralateral         6         9             1          4146   \n",
       "13  Contralateral         6         9             2          3960   \n",
       "14    Ipsilateral         6         9             1          4123   \n",
       "15    Ipsilateral         6         9             2          3898   \n",
       "16  Contralateral         7         2             1          5517   \n",
       "17  Contralateral         7         2             2          5841   \n",
       "18    Ipsilateral         7         2             1          4152   \n",
       "19    Ipsilateral         7         2             2          3992   \n",
       "\n",
       "    neun+_nuclei  reelin+_nuclei  gad67+_nuclei  cajal_nuclei  %_neun+_cells  \\\n",
       "0           1353              98             32            80      28.941176   \n",
       "1           1837             106             40            79      37.405824   \n",
       "2           1796             109            115            68      50.013924   \n",
       "3           2726             263            162            26      72.946214   \n",
       "4           1526             113             35            75      39.158327   \n",
       "5           1707             114             91            78      42.388875   \n",
       "6            566              74             18            57      13.947758   \n",
       "7            693              83             24            66      22.434445   \n",
       "8           2689             118             48            55      62.418756   \n",
       "9           2899             138             36            59      63.338431   \n",
       "10          1452              85             21            51      40.479509   \n",
       "11          1506             110              7            76      36.184527   \n",
       "12          1297            2597            746          1562      31.283164   \n",
       "13           945              65             26            56      23.863636   \n",
       "14          1263              91            124            54      30.633034   \n",
       "15          1116              43             26            32      28.630067   \n",
       "16          2930             172             54            74      53.108574   \n",
       "17          2963             131             17            59      50.727615   \n",
       "18          2049              95             22            54      49.349711   \n",
       "19          2297             141             55            49      57.540080   \n",
       "\n",
       "    %_reelin+_cells  %_gad67+_cells  %_cajal_cells  \n",
       "0          2.096257        0.684492       1.711230  \n",
       "1          2.158420        0.814498       1.608634  \n",
       "2          3.035366        3.202451       1.893623  \n",
       "3          7.037731        4.335028       0.695745  \n",
       "4          2.899666        0.898127       1.924557  \n",
       "5          2.830891        2.259747       1.936926  \n",
       "6          1.823558        0.443568       1.404633  \n",
       "7          2.686954        0.776950       2.136614  \n",
       "8          2.739090        1.114206       1.276695  \n",
       "9          3.015075        0.786541       1.289054  \n",
       "10         2.369668        0.585447       1.421801  \n",
       "11         2.642960        0.168188       1.826045  \n",
       "12        62.638688       17.993247      37.674867  \n",
       "13         1.641414        0.656566       1.414141  \n",
       "14         2.207131        3.007519       1.309726  \n",
       "15         1.103130        0.667009       0.820934  \n",
       "16         3.117636        0.978793       1.341309  \n",
       "17         2.242767        0.291046       1.010101  \n",
       "18         2.288054        0.529865       1.300578  \n",
       "19         3.532064        1.377756       1.227455  "
      ]
     },
     "execution_count": 48,
     "metadata": {},
     "output_type": "execute_result"
    }
   ],
   "source": [
    "# Define the path to your results\n",
    "csv_path = \"./results/Reelin_summary_2D.csv\"\n",
    "\n",
    "# Read the CSV file\n",
    "df = pd.read_csv(csv_path, index_col=0)\n",
    "\n",
    "df"
   ]
  },
  {
   "cell_type": "code",
   "execution_count": 49,
   "metadata": {},
   "outputs": [],
   "source": [
    "# Create a new column for combined sex and tissue location\n",
    "df['condition_location'] = df['condition'] + '_' + df['brain_location']\n",
    "\n",
    "# Rename Sham_Contralateral and Sham_Ipsilateral to just Sham\n",
    "df.loc[df['condition_location'].str.contains('Sham', case=False, na=False), 'condition_location'] = 'Sham'\n",
    "\n",
    "# Remove outliers before plotting the data\n",
    "df.drop(index=12, inplace=True)"
   ]
  },
  {
   "cell_type": "code",
   "execution_count": 50,
   "metadata": {},
   "outputs": [
    {
     "data": {
      "application/vnd.plotly.v1+json": {
       "config": {
        "plotlyServerURL": "https://plot.ly"
       },
       "data": [
        {
         "alignmentgroup": "True",
         "boxpoints": "all",
         "customdata": [
          [
           0,
           "HI 1 Contralateral Mouse 8 Slide09 GAD67green NeuNpink Reelinred 40x 4x4 technical replica 1",
           8
          ],
          [
           1,
           "HI 1 Contralateral Mouse 8 Slide09 GAD67green NeuNpink Reelinred 40x 4x4 technical replica 2",
           8
          ],
          [
           2,
           "HI 1 Ipsilateral Mouse 8 Slide16 GAD67green NeuNpink Reelinred 40x 4x4 technical replica 1",
           8
          ],
          [
           3,
           "HI 1 Ipsilateral Mouse 8 Slide16 GAD67green NeuNpink Reelinred 40x 4x4 technical replica 2",
           8
          ],
          [
           4,
           "HI 2 Contralateral Mouse 10 Slide08 GAD67green NeuNpink Reelinred 40x 4x4 technical replica 1",
           10
          ],
          [
           5,
           "HI 2 Contralateral Mouse 10 Slide08 GAD67green NeuNpink Reelinred 40x 4x4 technical replica 2",
           10
          ],
          [
           6,
           "HI 2 Ipsilateral Mouse 10 Slide08 GAD67green NeuNpink Reelinred 40x 4x4 technical replica 1",
           10
          ],
          [
           7,
           "HI 2 Ipsilateral Mouse 10 Slide08 GAD67green NeuNpink Reelinred 40x 4x4 technical replica 2",
           10
          ],
          [
           8,
           "HI 3 Contralateral Mouse 11 Slide09 GAD67green NeuNpink Reelinred 40x 4x4 technical replica 1",
           11
          ],
          [
           9,
           "HI 3 Contralateral Mouse 11 Slide09 GAD67green NeuNpink Reelinred 40x 4x4 technical replica 2",
           11
          ],
          [
           10,
           "HI 3 Ipsilateral Mouse 11 Slide09 GAD67green NeuNpink Reelinred 40x 4x4 technical replica 1",
           11
          ],
          [
           11,
           "HI 3 Ipsilateral Mouse 11 Slide09 GAD67green NeuNpink Reelinred 40x 4x4 technical replica 2",
           11
          ]
         ],
         "hovertemplate": "condition=HI<br>Condition Location=%{x}<br>% Neun+ Cells=%{y}<br>index=%{customdata[0]}<br>filename=%{customdata[1]}<br>mouse_id=%{customdata[2]}<extra></extra>",
         "legendgroup": "HI",
         "marker": {
          "color": "#636efa"
         },
         "name": "HI",
         "notched": false,
         "offsetgroup": "HI",
         "orientation": "v",
         "showlegend": true,
         "type": "box",
         "x": [
          "HI_Contralateral",
          "HI_Contralateral",
          "HI_Ipsilateral",
          "HI_Ipsilateral",
          "HI_Contralateral",
          "HI_Contralateral",
          "HI_Ipsilateral",
          "HI_Ipsilateral",
          "HI_Contralateral",
          "HI_Contralateral",
          "HI_Ipsilateral",
          "HI_Ipsilateral"
         ],
         "x0": " ",
         "xaxis": "x",
         "y": [
          28.94117647058824,
          37.4058236611688,
          50.01392369813423,
          72.94621354027295,
          39.15832691814216,
          42.38887509312143,
          13.947757516017743,
          22.434444804143737,
          62.41875580315692,
          63.33843128686913,
          40.47950933928074,
          36.18452666987025
         ],
         "y0": " ",
         "yaxis": "y"
        },
        {
         "alignmentgroup": "True",
         "boxpoints": "all",
         "customdata": [
          [
           13,
           "Sham 1 Contralateral Mouse 6 Slide09 GAD67green NeuNpink Reelinred 40x 4x4 technical replica 2",
           6
          ],
          [
           14,
           "Sham 1 Ipsilateral Mouse 6 Slide09 GAD67green NeuNpink Reelinred 40x 4x4 technical replica 1",
           6
          ],
          [
           15,
           "Sham 1 Ipsilateral Mouse 6 Slide09 GAD67green NeuNpink Reelinred 40x 4x4 technical replica 2",
           6
          ],
          [
           16,
           "Sham 2 Contralateral Mouse 7 Slide12 GAD67green NeuNpink Reelinred 40x 4x4 technical replica 1",
           7
          ],
          [
           17,
           "Sham 2 Contralateral Mouse 7 Slide12 GAD67green NeuNpink Reelinred 40x 4x4 technical replica 2",
           7
          ],
          [
           18,
           "Sham 2 Ipsilateral Mouse 7 Slide12 GAD67green NeuNpink Reelinred 40x 4x4 technical replica 1",
           7
          ],
          [
           19,
           "Sham 2 Ipsilateral Mouse 7 Slide12 GAD67green NeuNpink Reelinred 40x 4x4 technical replica 2",
           7
          ]
         ],
         "hovertemplate": "condition=Sham<br>Condition Location=%{x}<br>% Neun+ Cells=%{y}<br>index=%{customdata[0]}<br>filename=%{customdata[1]}<br>mouse_id=%{customdata[2]}<extra></extra>",
         "legendgroup": "Sham",
         "marker": {
          "color": "#EF553B"
         },
         "name": "Sham",
         "notched": false,
         "offsetgroup": "Sham",
         "orientation": "v",
         "showlegend": true,
         "type": "box",
         "x": [
          "Sham",
          "Sham",
          "Sham",
          "Sham",
          "Sham",
          "Sham",
          "Sham"
         ],
         "x0": " ",
         "xaxis": "x",
         "y": [
          23.863636363636363,
          30.633034198399223,
          28.63006670087224,
          53.10857350009063,
          50.7276151343948,
          49.34971098265896,
          57.54008016032064
         ],
         "y0": " ",
         "yaxis": "y"
        }
       ],
       "layout": {
        "boxmode": "group",
        "legend": {
         "title": {
          "text": "condition"
         },
         "tracegroupgap": 0
        },
        "template": {
         "data": {
          "bar": [
           {
            "error_x": {
             "color": "#2a3f5f"
            },
            "error_y": {
             "color": "#2a3f5f"
            },
            "marker": {
             "line": {
              "color": "#E5ECF6",
              "width": 0.5
             },
             "pattern": {
              "fillmode": "overlay",
              "size": 10,
              "solidity": 0.2
             }
            },
            "type": "bar"
           }
          ],
          "barpolar": [
           {
            "marker": {
             "line": {
              "color": "#E5ECF6",
              "width": 0.5
             },
             "pattern": {
              "fillmode": "overlay",
              "size": 10,
              "solidity": 0.2
             }
            },
            "type": "barpolar"
           }
          ],
          "carpet": [
           {
            "aaxis": {
             "endlinecolor": "#2a3f5f",
             "gridcolor": "white",
             "linecolor": "white",
             "minorgridcolor": "white",
             "startlinecolor": "#2a3f5f"
            },
            "baxis": {
             "endlinecolor": "#2a3f5f",
             "gridcolor": "white",
             "linecolor": "white",
             "minorgridcolor": "white",
             "startlinecolor": "#2a3f5f"
            },
            "type": "carpet"
           }
          ],
          "choropleth": [
           {
            "colorbar": {
             "outlinewidth": 0,
             "ticks": ""
            },
            "type": "choropleth"
           }
          ],
          "contour": [
           {
            "colorbar": {
             "outlinewidth": 0,
             "ticks": ""
            },
            "colorscale": [
             [
              0,
              "#0d0887"
             ],
             [
              0.1111111111111111,
              "#46039f"
             ],
             [
              0.2222222222222222,
              "#7201a8"
             ],
             [
              0.3333333333333333,
              "#9c179e"
             ],
             [
              0.4444444444444444,
              "#bd3786"
             ],
             [
              0.5555555555555556,
              "#d8576b"
             ],
             [
              0.6666666666666666,
              "#ed7953"
             ],
             [
              0.7777777777777778,
              "#fb9f3a"
             ],
             [
              0.8888888888888888,
              "#fdca26"
             ],
             [
              1,
              "#f0f921"
             ]
            ],
            "type": "contour"
           }
          ],
          "contourcarpet": [
           {
            "colorbar": {
             "outlinewidth": 0,
             "ticks": ""
            },
            "type": "contourcarpet"
           }
          ],
          "heatmap": [
           {
            "colorbar": {
             "outlinewidth": 0,
             "ticks": ""
            },
            "colorscale": [
             [
              0,
              "#0d0887"
             ],
             [
              0.1111111111111111,
              "#46039f"
             ],
             [
              0.2222222222222222,
              "#7201a8"
             ],
             [
              0.3333333333333333,
              "#9c179e"
             ],
             [
              0.4444444444444444,
              "#bd3786"
             ],
             [
              0.5555555555555556,
              "#d8576b"
             ],
             [
              0.6666666666666666,
              "#ed7953"
             ],
             [
              0.7777777777777778,
              "#fb9f3a"
             ],
             [
              0.8888888888888888,
              "#fdca26"
             ],
             [
              1,
              "#f0f921"
             ]
            ],
            "type": "heatmap"
           }
          ],
          "heatmapgl": [
           {
            "colorbar": {
             "outlinewidth": 0,
             "ticks": ""
            },
            "colorscale": [
             [
              0,
              "#0d0887"
             ],
             [
              0.1111111111111111,
              "#46039f"
             ],
             [
              0.2222222222222222,
              "#7201a8"
             ],
             [
              0.3333333333333333,
              "#9c179e"
             ],
             [
              0.4444444444444444,
              "#bd3786"
             ],
             [
              0.5555555555555556,
              "#d8576b"
             ],
             [
              0.6666666666666666,
              "#ed7953"
             ],
             [
              0.7777777777777778,
              "#fb9f3a"
             ],
             [
              0.8888888888888888,
              "#fdca26"
             ],
             [
              1,
              "#f0f921"
             ]
            ],
            "type": "heatmapgl"
           }
          ],
          "histogram": [
           {
            "marker": {
             "pattern": {
              "fillmode": "overlay",
              "size": 10,
              "solidity": 0.2
             }
            },
            "type": "histogram"
           }
          ],
          "histogram2d": [
           {
            "colorbar": {
             "outlinewidth": 0,
             "ticks": ""
            },
            "colorscale": [
             [
              0,
              "#0d0887"
             ],
             [
              0.1111111111111111,
              "#46039f"
             ],
             [
              0.2222222222222222,
              "#7201a8"
             ],
             [
              0.3333333333333333,
              "#9c179e"
             ],
             [
              0.4444444444444444,
              "#bd3786"
             ],
             [
              0.5555555555555556,
              "#d8576b"
             ],
             [
              0.6666666666666666,
              "#ed7953"
             ],
             [
              0.7777777777777778,
              "#fb9f3a"
             ],
             [
              0.8888888888888888,
              "#fdca26"
             ],
             [
              1,
              "#f0f921"
             ]
            ],
            "type": "histogram2d"
           }
          ],
          "histogram2dcontour": [
           {
            "colorbar": {
             "outlinewidth": 0,
             "ticks": ""
            },
            "colorscale": [
             [
              0,
              "#0d0887"
             ],
             [
              0.1111111111111111,
              "#46039f"
             ],
             [
              0.2222222222222222,
              "#7201a8"
             ],
             [
              0.3333333333333333,
              "#9c179e"
             ],
             [
              0.4444444444444444,
              "#bd3786"
             ],
             [
              0.5555555555555556,
              "#d8576b"
             ],
             [
              0.6666666666666666,
              "#ed7953"
             ],
             [
              0.7777777777777778,
              "#fb9f3a"
             ],
             [
              0.8888888888888888,
              "#fdca26"
             ],
             [
              1,
              "#f0f921"
             ]
            ],
            "type": "histogram2dcontour"
           }
          ],
          "mesh3d": [
           {
            "colorbar": {
             "outlinewidth": 0,
             "ticks": ""
            },
            "type": "mesh3d"
           }
          ],
          "parcoords": [
           {
            "line": {
             "colorbar": {
              "outlinewidth": 0,
              "ticks": ""
             }
            },
            "type": "parcoords"
           }
          ],
          "pie": [
           {
            "automargin": true,
            "type": "pie"
           }
          ],
          "scatter": [
           {
            "fillpattern": {
             "fillmode": "overlay",
             "size": 10,
             "solidity": 0.2
            },
            "type": "scatter"
           }
          ],
          "scatter3d": [
           {
            "line": {
             "colorbar": {
              "outlinewidth": 0,
              "ticks": ""
             }
            },
            "marker": {
             "colorbar": {
              "outlinewidth": 0,
              "ticks": ""
             }
            },
            "type": "scatter3d"
           }
          ],
          "scattercarpet": [
           {
            "marker": {
             "colorbar": {
              "outlinewidth": 0,
              "ticks": ""
             }
            },
            "type": "scattercarpet"
           }
          ],
          "scattergeo": [
           {
            "marker": {
             "colorbar": {
              "outlinewidth": 0,
              "ticks": ""
             }
            },
            "type": "scattergeo"
           }
          ],
          "scattergl": [
           {
            "marker": {
             "colorbar": {
              "outlinewidth": 0,
              "ticks": ""
             }
            },
            "type": "scattergl"
           }
          ],
          "scattermapbox": [
           {
            "marker": {
             "colorbar": {
              "outlinewidth": 0,
              "ticks": ""
             }
            },
            "type": "scattermapbox"
           }
          ],
          "scatterpolar": [
           {
            "marker": {
             "colorbar": {
              "outlinewidth": 0,
              "ticks": ""
             }
            },
            "type": "scatterpolar"
           }
          ],
          "scatterpolargl": [
           {
            "marker": {
             "colorbar": {
              "outlinewidth": 0,
              "ticks": ""
             }
            },
            "type": "scatterpolargl"
           }
          ],
          "scatterternary": [
           {
            "marker": {
             "colorbar": {
              "outlinewidth": 0,
              "ticks": ""
             }
            },
            "type": "scatterternary"
           }
          ],
          "surface": [
           {
            "colorbar": {
             "outlinewidth": 0,
             "ticks": ""
            },
            "colorscale": [
             [
              0,
              "#0d0887"
             ],
             [
              0.1111111111111111,
              "#46039f"
             ],
             [
              0.2222222222222222,
              "#7201a8"
             ],
             [
              0.3333333333333333,
              "#9c179e"
             ],
             [
              0.4444444444444444,
              "#bd3786"
             ],
             [
              0.5555555555555556,
              "#d8576b"
             ],
             [
              0.6666666666666666,
              "#ed7953"
             ],
             [
              0.7777777777777778,
              "#fb9f3a"
             ],
             [
              0.8888888888888888,
              "#fdca26"
             ],
             [
              1,
              "#f0f921"
             ]
            ],
            "type": "surface"
           }
          ],
          "table": [
           {
            "cells": {
             "fill": {
              "color": "#EBF0F8"
             },
             "line": {
              "color": "white"
             }
            },
            "header": {
             "fill": {
              "color": "#C8D4E3"
             },
             "line": {
              "color": "white"
             }
            },
            "type": "table"
           }
          ]
         },
         "layout": {
          "annotationdefaults": {
           "arrowcolor": "#2a3f5f",
           "arrowhead": 0,
           "arrowwidth": 1
          },
          "autotypenumbers": "strict",
          "coloraxis": {
           "colorbar": {
            "outlinewidth": 0,
            "ticks": ""
           }
          },
          "colorscale": {
           "diverging": [
            [
             0,
             "#8e0152"
            ],
            [
             0.1,
             "#c51b7d"
            ],
            [
             0.2,
             "#de77ae"
            ],
            [
             0.3,
             "#f1b6da"
            ],
            [
             0.4,
             "#fde0ef"
            ],
            [
             0.5,
             "#f7f7f7"
            ],
            [
             0.6,
             "#e6f5d0"
            ],
            [
             0.7,
             "#b8e186"
            ],
            [
             0.8,
             "#7fbc41"
            ],
            [
             0.9,
             "#4d9221"
            ],
            [
             1,
             "#276419"
            ]
           ],
           "sequential": [
            [
             0,
             "#0d0887"
            ],
            [
             0.1111111111111111,
             "#46039f"
            ],
            [
             0.2222222222222222,
             "#7201a8"
            ],
            [
             0.3333333333333333,
             "#9c179e"
            ],
            [
             0.4444444444444444,
             "#bd3786"
            ],
            [
             0.5555555555555556,
             "#d8576b"
            ],
            [
             0.6666666666666666,
             "#ed7953"
            ],
            [
             0.7777777777777778,
             "#fb9f3a"
            ],
            [
             0.8888888888888888,
             "#fdca26"
            ],
            [
             1,
             "#f0f921"
            ]
           ],
           "sequentialminus": [
            [
             0,
             "#0d0887"
            ],
            [
             0.1111111111111111,
             "#46039f"
            ],
            [
             0.2222222222222222,
             "#7201a8"
            ],
            [
             0.3333333333333333,
             "#9c179e"
            ],
            [
             0.4444444444444444,
             "#bd3786"
            ],
            [
             0.5555555555555556,
             "#d8576b"
            ],
            [
             0.6666666666666666,
             "#ed7953"
            ],
            [
             0.7777777777777778,
             "#fb9f3a"
            ],
            [
             0.8888888888888888,
             "#fdca26"
            ],
            [
             1,
             "#f0f921"
            ]
           ]
          },
          "colorway": [
           "#636efa",
           "#EF553B",
           "#00cc96",
           "#ab63fa",
           "#FFA15A",
           "#19d3f3",
           "#FF6692",
           "#B6E880",
           "#FF97FF",
           "#FECB52"
          ],
          "font": {
           "color": "#2a3f5f"
          },
          "geo": {
           "bgcolor": "white",
           "lakecolor": "white",
           "landcolor": "#E5ECF6",
           "showlakes": true,
           "showland": true,
           "subunitcolor": "white"
          },
          "hoverlabel": {
           "align": "left"
          },
          "hovermode": "closest",
          "mapbox": {
           "style": "light"
          },
          "paper_bgcolor": "white",
          "plot_bgcolor": "#E5ECF6",
          "polar": {
           "angularaxis": {
            "gridcolor": "white",
            "linecolor": "white",
            "ticks": ""
           },
           "bgcolor": "#E5ECF6",
           "radialaxis": {
            "gridcolor": "white",
            "linecolor": "white",
            "ticks": ""
           }
          },
          "scene": {
           "xaxis": {
            "backgroundcolor": "#E5ECF6",
            "gridcolor": "white",
            "gridwidth": 2,
            "linecolor": "white",
            "showbackground": true,
            "ticks": "",
            "zerolinecolor": "white"
           },
           "yaxis": {
            "backgroundcolor": "#E5ECF6",
            "gridcolor": "white",
            "gridwidth": 2,
            "linecolor": "white",
            "showbackground": true,
            "ticks": "",
            "zerolinecolor": "white"
           },
           "zaxis": {
            "backgroundcolor": "#E5ECF6",
            "gridcolor": "white",
            "gridwidth": 2,
            "linecolor": "white",
            "showbackground": true,
            "ticks": "",
            "zerolinecolor": "white"
           }
          },
          "shapedefaults": {
           "line": {
            "color": "#2a3f5f"
           }
          },
          "ternary": {
           "aaxis": {
            "gridcolor": "white",
            "linecolor": "white",
            "ticks": ""
           },
           "baxis": {
            "gridcolor": "white",
            "linecolor": "white",
            "ticks": ""
           },
           "bgcolor": "#E5ECF6",
           "caxis": {
            "gridcolor": "white",
            "linecolor": "white",
            "ticks": ""
           }
          },
          "title": {
           "x": 0.05
          },
          "xaxis": {
           "automargin": true,
           "gridcolor": "white",
           "linecolor": "white",
           "ticks": "",
           "title": {
            "standoff": 15
           },
           "zerolinecolor": "white",
           "zerolinewidth": 2
          },
          "yaxis": {
           "automargin": true,
           "gridcolor": "white",
           "linecolor": "white",
           "ticks": "",
           "title": {
            "standoff": 15
           },
           "zerolinecolor": "white",
           "zerolinewidth": 2
          }
         }
        },
        "title": {
         "text": "% Neun+ Cells per Condition Location"
        },
        "xaxis": {
         "anchor": "y",
         "domain": [
          0,
          1
         ],
         "title": {
          "text": "Condition Location"
         }
        },
        "yaxis": {
         "anchor": "x",
         "domain": [
          0,
          1
         ],
         "title": {
          "text": "% Neun+ Cells"
         }
        }
       }
      }
     },
     "metadata": {},
     "output_type": "display_data"
    }
   ],
   "source": [
    "fig = px.box(\n",
    "    df,\n",
    "    x=\"condition_location\",\n",
    "    y=\"%_neun+_cells\",\n",
    "    color=\"condition\",\n",
    "    points=\"all\",\n",
    "    hover_data=[df.index, \"filename\", \"mouse_id\"],\n",
    "    title=\"% Neun+ Cells per Condition Location\",\n",
    "    labels={\"%_neun+_cells\": \"% Neun+ Cells\", \"condition_location\": \"Condition Location\"}\n",
    ")\n",
    "\n",
    "# Display the plot\n",
    "fig.show()"
   ]
  },
  {
   "cell_type": "code",
   "execution_count": 51,
   "metadata": {},
   "outputs": [
    {
     "data": {
      "application/vnd.plotly.v1+json": {
       "config": {
        "plotlyServerURL": "https://plot.ly"
       },
       "data": [
        {
         "alignmentgroup": "True",
         "boxpoints": "all",
         "customdata": [
          [
           0,
           "HI 1 Contralateral Mouse 8 Slide09 GAD67green NeuNpink Reelinred 40x 4x4 technical replica 1",
           8
          ],
          [
           1,
           "HI 1 Contralateral Mouse 8 Slide09 GAD67green NeuNpink Reelinred 40x 4x4 technical replica 2",
           8
          ],
          [
           2,
           "HI 1 Ipsilateral Mouse 8 Slide16 GAD67green NeuNpink Reelinred 40x 4x4 technical replica 1",
           8
          ],
          [
           3,
           "HI 1 Ipsilateral Mouse 8 Slide16 GAD67green NeuNpink Reelinred 40x 4x4 technical replica 2",
           8
          ],
          [
           4,
           "HI 2 Contralateral Mouse 10 Slide08 GAD67green NeuNpink Reelinred 40x 4x4 technical replica 1",
           10
          ],
          [
           5,
           "HI 2 Contralateral Mouse 10 Slide08 GAD67green NeuNpink Reelinred 40x 4x4 technical replica 2",
           10
          ],
          [
           6,
           "HI 2 Ipsilateral Mouse 10 Slide08 GAD67green NeuNpink Reelinred 40x 4x4 technical replica 1",
           10
          ],
          [
           7,
           "HI 2 Ipsilateral Mouse 10 Slide08 GAD67green NeuNpink Reelinred 40x 4x4 technical replica 2",
           10
          ],
          [
           8,
           "HI 3 Contralateral Mouse 11 Slide09 GAD67green NeuNpink Reelinred 40x 4x4 technical replica 1",
           11
          ],
          [
           9,
           "HI 3 Contralateral Mouse 11 Slide09 GAD67green NeuNpink Reelinred 40x 4x4 technical replica 2",
           11
          ],
          [
           10,
           "HI 3 Ipsilateral Mouse 11 Slide09 GAD67green NeuNpink Reelinred 40x 4x4 technical replica 1",
           11
          ],
          [
           11,
           "HI 3 Ipsilateral Mouse 11 Slide09 GAD67green NeuNpink Reelinred 40x 4x4 technical replica 2",
           11
          ]
         ],
         "hovertemplate": "condition=HI<br>Condition Location=%{x}<br>% Reelin+ Cells=%{y}<br>index=%{customdata[0]}<br>filename=%{customdata[1]}<br>mouse_id=%{customdata[2]}<extra></extra>",
         "legendgroup": "HI",
         "marker": {
          "color": "#636efa"
         },
         "name": "HI",
         "notched": false,
         "offsetgroup": "HI",
         "orientation": "v",
         "showlegend": true,
         "type": "box",
         "x": [
          "HI_Contralateral",
          "HI_Contralateral",
          "HI_Ipsilateral",
          "HI_Ipsilateral",
          "HI_Contralateral",
          "HI_Contralateral",
          "HI_Ipsilateral",
          "HI_Ipsilateral",
          "HI_Contralateral",
          "HI_Contralateral",
          "HI_Ipsilateral",
          "HI_Ipsilateral"
         ],
         "x0": " ",
         "xaxis": "x",
         "y": [
          2.0962566844919786,
          2.1584198737528,
          3.03536619326093,
          7.037730800107037,
          2.89966641005902,
          2.830891482493171,
          1.823558403154263,
          2.686953706701198,
          2.7390900649953576,
          3.0150753768844223,
          2.3696682464454977,
          2.642960115329169
         ],
         "y0": " ",
         "yaxis": "y"
        },
        {
         "alignmentgroup": "True",
         "boxpoints": "all",
         "customdata": [
          [
           13,
           "Sham 1 Contralateral Mouse 6 Slide09 GAD67green NeuNpink Reelinred 40x 4x4 technical replica 2",
           6
          ],
          [
           14,
           "Sham 1 Ipsilateral Mouse 6 Slide09 GAD67green NeuNpink Reelinred 40x 4x4 technical replica 1",
           6
          ],
          [
           15,
           "Sham 1 Ipsilateral Mouse 6 Slide09 GAD67green NeuNpink Reelinred 40x 4x4 technical replica 2",
           6
          ],
          [
           16,
           "Sham 2 Contralateral Mouse 7 Slide12 GAD67green NeuNpink Reelinred 40x 4x4 technical replica 1",
           7
          ],
          [
           17,
           "Sham 2 Contralateral Mouse 7 Slide12 GAD67green NeuNpink Reelinred 40x 4x4 technical replica 2",
           7
          ],
          [
           18,
           "Sham 2 Ipsilateral Mouse 7 Slide12 GAD67green NeuNpink Reelinred 40x 4x4 technical replica 1",
           7
          ],
          [
           19,
           "Sham 2 Ipsilateral Mouse 7 Slide12 GAD67green NeuNpink Reelinred 40x 4x4 technical replica 2",
           7
          ]
         ],
         "hovertemplate": "condition=Sham<br>Condition Location=%{x}<br>% Reelin+ Cells=%{y}<br>index=%{customdata[0]}<br>filename=%{customdata[1]}<br>mouse_id=%{customdata[2]}<extra></extra>",
         "legendgroup": "Sham",
         "marker": {
          "color": "#EF553B"
         },
         "name": "Sham",
         "notched": false,
         "offsetgroup": "Sham",
         "orientation": "v",
         "showlegend": true,
         "type": "box",
         "x": [
          "Sham",
          "Sham",
          "Sham",
          "Sham",
          "Sham",
          "Sham",
          "Sham"
         ],
         "x0": " ",
         "xaxis": "x",
         "y": [
          1.6414141414141414,
          2.2071307300509337,
          1.103129810159056,
          3.117636396592351,
          2.2427666495463106,
          2.2880539499036607,
          3.532064128256513
         ],
         "y0": " ",
         "yaxis": "y"
        }
       ],
       "layout": {
        "boxmode": "group",
        "legend": {
         "title": {
          "text": "condition"
         },
         "tracegroupgap": 0
        },
        "template": {
         "data": {
          "bar": [
           {
            "error_x": {
             "color": "#2a3f5f"
            },
            "error_y": {
             "color": "#2a3f5f"
            },
            "marker": {
             "line": {
              "color": "#E5ECF6",
              "width": 0.5
             },
             "pattern": {
              "fillmode": "overlay",
              "size": 10,
              "solidity": 0.2
             }
            },
            "type": "bar"
           }
          ],
          "barpolar": [
           {
            "marker": {
             "line": {
              "color": "#E5ECF6",
              "width": 0.5
             },
             "pattern": {
              "fillmode": "overlay",
              "size": 10,
              "solidity": 0.2
             }
            },
            "type": "barpolar"
           }
          ],
          "carpet": [
           {
            "aaxis": {
             "endlinecolor": "#2a3f5f",
             "gridcolor": "white",
             "linecolor": "white",
             "minorgridcolor": "white",
             "startlinecolor": "#2a3f5f"
            },
            "baxis": {
             "endlinecolor": "#2a3f5f",
             "gridcolor": "white",
             "linecolor": "white",
             "minorgridcolor": "white",
             "startlinecolor": "#2a3f5f"
            },
            "type": "carpet"
           }
          ],
          "choropleth": [
           {
            "colorbar": {
             "outlinewidth": 0,
             "ticks": ""
            },
            "type": "choropleth"
           }
          ],
          "contour": [
           {
            "colorbar": {
             "outlinewidth": 0,
             "ticks": ""
            },
            "colorscale": [
             [
              0,
              "#0d0887"
             ],
             [
              0.1111111111111111,
              "#46039f"
             ],
             [
              0.2222222222222222,
              "#7201a8"
             ],
             [
              0.3333333333333333,
              "#9c179e"
             ],
             [
              0.4444444444444444,
              "#bd3786"
             ],
             [
              0.5555555555555556,
              "#d8576b"
             ],
             [
              0.6666666666666666,
              "#ed7953"
             ],
             [
              0.7777777777777778,
              "#fb9f3a"
             ],
             [
              0.8888888888888888,
              "#fdca26"
             ],
             [
              1,
              "#f0f921"
             ]
            ],
            "type": "contour"
           }
          ],
          "contourcarpet": [
           {
            "colorbar": {
             "outlinewidth": 0,
             "ticks": ""
            },
            "type": "contourcarpet"
           }
          ],
          "heatmap": [
           {
            "colorbar": {
             "outlinewidth": 0,
             "ticks": ""
            },
            "colorscale": [
             [
              0,
              "#0d0887"
             ],
             [
              0.1111111111111111,
              "#46039f"
             ],
             [
              0.2222222222222222,
              "#7201a8"
             ],
             [
              0.3333333333333333,
              "#9c179e"
             ],
             [
              0.4444444444444444,
              "#bd3786"
             ],
             [
              0.5555555555555556,
              "#d8576b"
             ],
             [
              0.6666666666666666,
              "#ed7953"
             ],
             [
              0.7777777777777778,
              "#fb9f3a"
             ],
             [
              0.8888888888888888,
              "#fdca26"
             ],
             [
              1,
              "#f0f921"
             ]
            ],
            "type": "heatmap"
           }
          ],
          "heatmapgl": [
           {
            "colorbar": {
             "outlinewidth": 0,
             "ticks": ""
            },
            "colorscale": [
             [
              0,
              "#0d0887"
             ],
             [
              0.1111111111111111,
              "#46039f"
             ],
             [
              0.2222222222222222,
              "#7201a8"
             ],
             [
              0.3333333333333333,
              "#9c179e"
             ],
             [
              0.4444444444444444,
              "#bd3786"
             ],
             [
              0.5555555555555556,
              "#d8576b"
             ],
             [
              0.6666666666666666,
              "#ed7953"
             ],
             [
              0.7777777777777778,
              "#fb9f3a"
             ],
             [
              0.8888888888888888,
              "#fdca26"
             ],
             [
              1,
              "#f0f921"
             ]
            ],
            "type": "heatmapgl"
           }
          ],
          "histogram": [
           {
            "marker": {
             "pattern": {
              "fillmode": "overlay",
              "size": 10,
              "solidity": 0.2
             }
            },
            "type": "histogram"
           }
          ],
          "histogram2d": [
           {
            "colorbar": {
             "outlinewidth": 0,
             "ticks": ""
            },
            "colorscale": [
             [
              0,
              "#0d0887"
             ],
             [
              0.1111111111111111,
              "#46039f"
             ],
             [
              0.2222222222222222,
              "#7201a8"
             ],
             [
              0.3333333333333333,
              "#9c179e"
             ],
             [
              0.4444444444444444,
              "#bd3786"
             ],
             [
              0.5555555555555556,
              "#d8576b"
             ],
             [
              0.6666666666666666,
              "#ed7953"
             ],
             [
              0.7777777777777778,
              "#fb9f3a"
             ],
             [
              0.8888888888888888,
              "#fdca26"
             ],
             [
              1,
              "#f0f921"
             ]
            ],
            "type": "histogram2d"
           }
          ],
          "histogram2dcontour": [
           {
            "colorbar": {
             "outlinewidth": 0,
             "ticks": ""
            },
            "colorscale": [
             [
              0,
              "#0d0887"
             ],
             [
              0.1111111111111111,
              "#46039f"
             ],
             [
              0.2222222222222222,
              "#7201a8"
             ],
             [
              0.3333333333333333,
              "#9c179e"
             ],
             [
              0.4444444444444444,
              "#bd3786"
             ],
             [
              0.5555555555555556,
              "#d8576b"
             ],
             [
              0.6666666666666666,
              "#ed7953"
             ],
             [
              0.7777777777777778,
              "#fb9f3a"
             ],
             [
              0.8888888888888888,
              "#fdca26"
             ],
             [
              1,
              "#f0f921"
             ]
            ],
            "type": "histogram2dcontour"
           }
          ],
          "mesh3d": [
           {
            "colorbar": {
             "outlinewidth": 0,
             "ticks": ""
            },
            "type": "mesh3d"
           }
          ],
          "parcoords": [
           {
            "line": {
             "colorbar": {
              "outlinewidth": 0,
              "ticks": ""
             }
            },
            "type": "parcoords"
           }
          ],
          "pie": [
           {
            "automargin": true,
            "type": "pie"
           }
          ],
          "scatter": [
           {
            "fillpattern": {
             "fillmode": "overlay",
             "size": 10,
             "solidity": 0.2
            },
            "type": "scatter"
           }
          ],
          "scatter3d": [
           {
            "line": {
             "colorbar": {
              "outlinewidth": 0,
              "ticks": ""
             }
            },
            "marker": {
             "colorbar": {
              "outlinewidth": 0,
              "ticks": ""
             }
            },
            "type": "scatter3d"
           }
          ],
          "scattercarpet": [
           {
            "marker": {
             "colorbar": {
              "outlinewidth": 0,
              "ticks": ""
             }
            },
            "type": "scattercarpet"
           }
          ],
          "scattergeo": [
           {
            "marker": {
             "colorbar": {
              "outlinewidth": 0,
              "ticks": ""
             }
            },
            "type": "scattergeo"
           }
          ],
          "scattergl": [
           {
            "marker": {
             "colorbar": {
              "outlinewidth": 0,
              "ticks": ""
             }
            },
            "type": "scattergl"
           }
          ],
          "scattermapbox": [
           {
            "marker": {
             "colorbar": {
              "outlinewidth": 0,
              "ticks": ""
             }
            },
            "type": "scattermapbox"
           }
          ],
          "scatterpolar": [
           {
            "marker": {
             "colorbar": {
              "outlinewidth": 0,
              "ticks": ""
             }
            },
            "type": "scatterpolar"
           }
          ],
          "scatterpolargl": [
           {
            "marker": {
             "colorbar": {
              "outlinewidth": 0,
              "ticks": ""
             }
            },
            "type": "scatterpolargl"
           }
          ],
          "scatterternary": [
           {
            "marker": {
             "colorbar": {
              "outlinewidth": 0,
              "ticks": ""
             }
            },
            "type": "scatterternary"
           }
          ],
          "surface": [
           {
            "colorbar": {
             "outlinewidth": 0,
             "ticks": ""
            },
            "colorscale": [
             [
              0,
              "#0d0887"
             ],
             [
              0.1111111111111111,
              "#46039f"
             ],
             [
              0.2222222222222222,
              "#7201a8"
             ],
             [
              0.3333333333333333,
              "#9c179e"
             ],
             [
              0.4444444444444444,
              "#bd3786"
             ],
             [
              0.5555555555555556,
              "#d8576b"
             ],
             [
              0.6666666666666666,
              "#ed7953"
             ],
             [
              0.7777777777777778,
              "#fb9f3a"
             ],
             [
              0.8888888888888888,
              "#fdca26"
             ],
             [
              1,
              "#f0f921"
             ]
            ],
            "type": "surface"
           }
          ],
          "table": [
           {
            "cells": {
             "fill": {
              "color": "#EBF0F8"
             },
             "line": {
              "color": "white"
             }
            },
            "header": {
             "fill": {
              "color": "#C8D4E3"
             },
             "line": {
              "color": "white"
             }
            },
            "type": "table"
           }
          ]
         },
         "layout": {
          "annotationdefaults": {
           "arrowcolor": "#2a3f5f",
           "arrowhead": 0,
           "arrowwidth": 1
          },
          "autotypenumbers": "strict",
          "coloraxis": {
           "colorbar": {
            "outlinewidth": 0,
            "ticks": ""
           }
          },
          "colorscale": {
           "diverging": [
            [
             0,
             "#8e0152"
            ],
            [
             0.1,
             "#c51b7d"
            ],
            [
             0.2,
             "#de77ae"
            ],
            [
             0.3,
             "#f1b6da"
            ],
            [
             0.4,
             "#fde0ef"
            ],
            [
             0.5,
             "#f7f7f7"
            ],
            [
             0.6,
             "#e6f5d0"
            ],
            [
             0.7,
             "#b8e186"
            ],
            [
             0.8,
             "#7fbc41"
            ],
            [
             0.9,
             "#4d9221"
            ],
            [
             1,
             "#276419"
            ]
           ],
           "sequential": [
            [
             0,
             "#0d0887"
            ],
            [
             0.1111111111111111,
             "#46039f"
            ],
            [
             0.2222222222222222,
             "#7201a8"
            ],
            [
             0.3333333333333333,
             "#9c179e"
            ],
            [
             0.4444444444444444,
             "#bd3786"
            ],
            [
             0.5555555555555556,
             "#d8576b"
            ],
            [
             0.6666666666666666,
             "#ed7953"
            ],
            [
             0.7777777777777778,
             "#fb9f3a"
            ],
            [
             0.8888888888888888,
             "#fdca26"
            ],
            [
             1,
             "#f0f921"
            ]
           ],
           "sequentialminus": [
            [
             0,
             "#0d0887"
            ],
            [
             0.1111111111111111,
             "#46039f"
            ],
            [
             0.2222222222222222,
             "#7201a8"
            ],
            [
             0.3333333333333333,
             "#9c179e"
            ],
            [
             0.4444444444444444,
             "#bd3786"
            ],
            [
             0.5555555555555556,
             "#d8576b"
            ],
            [
             0.6666666666666666,
             "#ed7953"
            ],
            [
             0.7777777777777778,
             "#fb9f3a"
            ],
            [
             0.8888888888888888,
             "#fdca26"
            ],
            [
             1,
             "#f0f921"
            ]
           ]
          },
          "colorway": [
           "#636efa",
           "#EF553B",
           "#00cc96",
           "#ab63fa",
           "#FFA15A",
           "#19d3f3",
           "#FF6692",
           "#B6E880",
           "#FF97FF",
           "#FECB52"
          ],
          "font": {
           "color": "#2a3f5f"
          },
          "geo": {
           "bgcolor": "white",
           "lakecolor": "white",
           "landcolor": "#E5ECF6",
           "showlakes": true,
           "showland": true,
           "subunitcolor": "white"
          },
          "hoverlabel": {
           "align": "left"
          },
          "hovermode": "closest",
          "mapbox": {
           "style": "light"
          },
          "paper_bgcolor": "white",
          "plot_bgcolor": "#E5ECF6",
          "polar": {
           "angularaxis": {
            "gridcolor": "white",
            "linecolor": "white",
            "ticks": ""
           },
           "bgcolor": "#E5ECF6",
           "radialaxis": {
            "gridcolor": "white",
            "linecolor": "white",
            "ticks": ""
           }
          },
          "scene": {
           "xaxis": {
            "backgroundcolor": "#E5ECF6",
            "gridcolor": "white",
            "gridwidth": 2,
            "linecolor": "white",
            "showbackground": true,
            "ticks": "",
            "zerolinecolor": "white"
           },
           "yaxis": {
            "backgroundcolor": "#E5ECF6",
            "gridcolor": "white",
            "gridwidth": 2,
            "linecolor": "white",
            "showbackground": true,
            "ticks": "",
            "zerolinecolor": "white"
           },
           "zaxis": {
            "backgroundcolor": "#E5ECF6",
            "gridcolor": "white",
            "gridwidth": 2,
            "linecolor": "white",
            "showbackground": true,
            "ticks": "",
            "zerolinecolor": "white"
           }
          },
          "shapedefaults": {
           "line": {
            "color": "#2a3f5f"
           }
          },
          "ternary": {
           "aaxis": {
            "gridcolor": "white",
            "linecolor": "white",
            "ticks": ""
           },
           "baxis": {
            "gridcolor": "white",
            "linecolor": "white",
            "ticks": ""
           },
           "bgcolor": "#E5ECF6",
           "caxis": {
            "gridcolor": "white",
            "linecolor": "white",
            "ticks": ""
           }
          },
          "title": {
           "x": 0.05
          },
          "xaxis": {
           "automargin": true,
           "gridcolor": "white",
           "linecolor": "white",
           "ticks": "",
           "title": {
            "standoff": 15
           },
           "zerolinecolor": "white",
           "zerolinewidth": 2
          },
          "yaxis": {
           "automargin": true,
           "gridcolor": "white",
           "linecolor": "white",
           "ticks": "",
           "title": {
            "standoff": 15
           },
           "zerolinecolor": "white",
           "zerolinewidth": 2
          }
         }
        },
        "title": {
         "text": "% Reelin+ Cells per Condition Location"
        },
        "xaxis": {
         "anchor": "y",
         "domain": [
          0,
          1
         ],
         "title": {
          "text": "Condition Location"
         }
        },
        "yaxis": {
         "anchor": "x",
         "domain": [
          0,
          1
         ],
         "title": {
          "text": "% Reelin+ Cells"
         }
        }
       }
      }
     },
     "metadata": {},
     "output_type": "display_data"
    }
   ],
   "source": [
    "fig = px.box(\n",
    "    df,\n",
    "    x=\"condition_location\",\n",
    "    y=\"%_reelin+_cells\",\n",
    "    color=\"condition\",\n",
    "    points=\"all\",\n",
    "    hover_data=[df.index, \"filename\", \"mouse_id\"],\n",
    "    title=\"% Reelin+ Cells per Condition Location\",\n",
    "    labels={\"%_reelin+_cells\": \"% Reelin+ Cells\", \"condition_location\": \"Condition Location\"}\n",
    ")\n",
    "\n",
    "# Display the plot\n",
    "fig.show()"
   ]
  },
  {
   "cell_type": "code",
   "execution_count": 52,
   "metadata": {},
   "outputs": [
    {
     "data": {
      "application/vnd.plotly.v1+json": {
       "config": {
        "plotlyServerURL": "https://plot.ly"
       },
       "data": [
        {
         "alignmentgroup": "True",
         "boxpoints": "all",
         "customdata": [
          [
           0,
           "HI 1 Contralateral Mouse 8 Slide09 GAD67green NeuNpink Reelinred 40x 4x4 technical replica 1",
           8
          ],
          [
           1,
           "HI 1 Contralateral Mouse 8 Slide09 GAD67green NeuNpink Reelinred 40x 4x4 technical replica 2",
           8
          ],
          [
           2,
           "HI 1 Ipsilateral Mouse 8 Slide16 GAD67green NeuNpink Reelinred 40x 4x4 technical replica 1",
           8
          ],
          [
           3,
           "HI 1 Ipsilateral Mouse 8 Slide16 GAD67green NeuNpink Reelinred 40x 4x4 technical replica 2",
           8
          ],
          [
           4,
           "HI 2 Contralateral Mouse 10 Slide08 GAD67green NeuNpink Reelinred 40x 4x4 technical replica 1",
           10
          ],
          [
           5,
           "HI 2 Contralateral Mouse 10 Slide08 GAD67green NeuNpink Reelinred 40x 4x4 technical replica 2",
           10
          ],
          [
           6,
           "HI 2 Ipsilateral Mouse 10 Slide08 GAD67green NeuNpink Reelinred 40x 4x4 technical replica 1",
           10
          ],
          [
           7,
           "HI 2 Ipsilateral Mouse 10 Slide08 GAD67green NeuNpink Reelinred 40x 4x4 technical replica 2",
           10
          ],
          [
           8,
           "HI 3 Contralateral Mouse 11 Slide09 GAD67green NeuNpink Reelinred 40x 4x4 technical replica 1",
           11
          ],
          [
           9,
           "HI 3 Contralateral Mouse 11 Slide09 GAD67green NeuNpink Reelinred 40x 4x4 technical replica 2",
           11
          ],
          [
           10,
           "HI 3 Ipsilateral Mouse 11 Slide09 GAD67green NeuNpink Reelinred 40x 4x4 technical replica 1",
           11
          ],
          [
           11,
           "HI 3 Ipsilateral Mouse 11 Slide09 GAD67green NeuNpink Reelinred 40x 4x4 technical replica 2",
           11
          ]
         ],
         "hovertemplate": "condition=HI<br>Condition Location=%{x}<br>% GAD67+ Cells=%{y}<br>index=%{customdata[0]}<br>filename=%{customdata[1]}<br>mouse_id=%{customdata[2]}<extra></extra>",
         "legendgroup": "HI",
         "marker": {
          "color": "#636efa"
         },
         "name": "HI",
         "notched": false,
         "offsetgroup": "HI",
         "orientation": "v",
         "showlegend": true,
         "type": "box",
         "x": [
          "HI_Contralateral",
          "HI_Contralateral",
          "HI_Ipsilateral",
          "HI_Ipsilateral",
          "HI_Contralateral",
          "HI_Contralateral",
          "HI_Ipsilateral",
          "HI_Ipsilateral",
          "HI_Contralateral",
          "HI_Contralateral",
          "HI_Ipsilateral",
          "HI_Ipsilateral"
         ],
         "x0": " ",
         "xaxis": "x",
         "y": [
          0.6844919786096256,
          0.8144980655670943,
          3.2024505708716235,
          4.335028097404335,
          0.8981267641775725,
          2.259746709709461,
          0.4435682602267126,
          0.7769504694075753,
          1.1142061281337048,
          0.7865414026655014,
          0.5854474491218288,
          0.1681883709754925
         ],
         "y0": " ",
         "yaxis": "y"
        },
        {
         "alignmentgroup": "True",
         "boxpoints": "all",
         "customdata": [
          [
           13,
           "Sham 1 Contralateral Mouse 6 Slide09 GAD67green NeuNpink Reelinred 40x 4x4 technical replica 2",
           6
          ],
          [
           14,
           "Sham 1 Ipsilateral Mouse 6 Slide09 GAD67green NeuNpink Reelinred 40x 4x4 technical replica 1",
           6
          ],
          [
           15,
           "Sham 1 Ipsilateral Mouse 6 Slide09 GAD67green NeuNpink Reelinred 40x 4x4 technical replica 2",
           6
          ],
          [
           16,
           "Sham 2 Contralateral Mouse 7 Slide12 GAD67green NeuNpink Reelinred 40x 4x4 technical replica 1",
           7
          ],
          [
           17,
           "Sham 2 Contralateral Mouse 7 Slide12 GAD67green NeuNpink Reelinred 40x 4x4 technical replica 2",
           7
          ],
          [
           18,
           "Sham 2 Ipsilateral Mouse 7 Slide12 GAD67green NeuNpink Reelinred 40x 4x4 technical replica 1",
           7
          ],
          [
           19,
           "Sham 2 Ipsilateral Mouse 7 Slide12 GAD67green NeuNpink Reelinred 40x 4x4 technical replica 2",
           7
          ]
         ],
         "hovertemplate": "condition=Sham<br>Condition Location=%{x}<br>% GAD67+ Cells=%{y}<br>index=%{customdata[0]}<br>filename=%{customdata[1]}<br>mouse_id=%{customdata[2]}<extra></extra>",
         "legendgroup": "Sham",
         "marker": {
          "color": "#EF553B"
         },
         "name": "Sham",
         "notched": false,
         "offsetgroup": "Sham",
         "orientation": "v",
         "showlegend": true,
         "type": "box",
         "x": [
          "Sham",
          "Sham",
          "Sham",
          "Sham",
          "Sham",
          "Sham",
          "Sham"
         ],
         "x0": " ",
         "xaxis": "x",
         "y": [
          0.6565656565656566,
          3.007518796992481,
          0.6670087224217548,
          0.9787928221859706,
          0.2910460537579181,
          0.5298651252408478,
          1.377755511022044
         ],
         "y0": " ",
         "yaxis": "y"
        }
       ],
       "layout": {
        "boxmode": "group",
        "legend": {
         "title": {
          "text": "condition"
         },
         "tracegroupgap": 0
        },
        "template": {
         "data": {
          "bar": [
           {
            "error_x": {
             "color": "#2a3f5f"
            },
            "error_y": {
             "color": "#2a3f5f"
            },
            "marker": {
             "line": {
              "color": "#E5ECF6",
              "width": 0.5
             },
             "pattern": {
              "fillmode": "overlay",
              "size": 10,
              "solidity": 0.2
             }
            },
            "type": "bar"
           }
          ],
          "barpolar": [
           {
            "marker": {
             "line": {
              "color": "#E5ECF6",
              "width": 0.5
             },
             "pattern": {
              "fillmode": "overlay",
              "size": 10,
              "solidity": 0.2
             }
            },
            "type": "barpolar"
           }
          ],
          "carpet": [
           {
            "aaxis": {
             "endlinecolor": "#2a3f5f",
             "gridcolor": "white",
             "linecolor": "white",
             "minorgridcolor": "white",
             "startlinecolor": "#2a3f5f"
            },
            "baxis": {
             "endlinecolor": "#2a3f5f",
             "gridcolor": "white",
             "linecolor": "white",
             "minorgridcolor": "white",
             "startlinecolor": "#2a3f5f"
            },
            "type": "carpet"
           }
          ],
          "choropleth": [
           {
            "colorbar": {
             "outlinewidth": 0,
             "ticks": ""
            },
            "type": "choropleth"
           }
          ],
          "contour": [
           {
            "colorbar": {
             "outlinewidth": 0,
             "ticks": ""
            },
            "colorscale": [
             [
              0,
              "#0d0887"
             ],
             [
              0.1111111111111111,
              "#46039f"
             ],
             [
              0.2222222222222222,
              "#7201a8"
             ],
             [
              0.3333333333333333,
              "#9c179e"
             ],
             [
              0.4444444444444444,
              "#bd3786"
             ],
             [
              0.5555555555555556,
              "#d8576b"
             ],
             [
              0.6666666666666666,
              "#ed7953"
             ],
             [
              0.7777777777777778,
              "#fb9f3a"
             ],
             [
              0.8888888888888888,
              "#fdca26"
             ],
             [
              1,
              "#f0f921"
             ]
            ],
            "type": "contour"
           }
          ],
          "contourcarpet": [
           {
            "colorbar": {
             "outlinewidth": 0,
             "ticks": ""
            },
            "type": "contourcarpet"
           }
          ],
          "heatmap": [
           {
            "colorbar": {
             "outlinewidth": 0,
             "ticks": ""
            },
            "colorscale": [
             [
              0,
              "#0d0887"
             ],
             [
              0.1111111111111111,
              "#46039f"
             ],
             [
              0.2222222222222222,
              "#7201a8"
             ],
             [
              0.3333333333333333,
              "#9c179e"
             ],
             [
              0.4444444444444444,
              "#bd3786"
             ],
             [
              0.5555555555555556,
              "#d8576b"
             ],
             [
              0.6666666666666666,
              "#ed7953"
             ],
             [
              0.7777777777777778,
              "#fb9f3a"
             ],
             [
              0.8888888888888888,
              "#fdca26"
             ],
             [
              1,
              "#f0f921"
             ]
            ],
            "type": "heatmap"
           }
          ],
          "heatmapgl": [
           {
            "colorbar": {
             "outlinewidth": 0,
             "ticks": ""
            },
            "colorscale": [
             [
              0,
              "#0d0887"
             ],
             [
              0.1111111111111111,
              "#46039f"
             ],
             [
              0.2222222222222222,
              "#7201a8"
             ],
             [
              0.3333333333333333,
              "#9c179e"
             ],
             [
              0.4444444444444444,
              "#bd3786"
             ],
             [
              0.5555555555555556,
              "#d8576b"
             ],
             [
              0.6666666666666666,
              "#ed7953"
             ],
             [
              0.7777777777777778,
              "#fb9f3a"
             ],
             [
              0.8888888888888888,
              "#fdca26"
             ],
             [
              1,
              "#f0f921"
             ]
            ],
            "type": "heatmapgl"
           }
          ],
          "histogram": [
           {
            "marker": {
             "pattern": {
              "fillmode": "overlay",
              "size": 10,
              "solidity": 0.2
             }
            },
            "type": "histogram"
           }
          ],
          "histogram2d": [
           {
            "colorbar": {
             "outlinewidth": 0,
             "ticks": ""
            },
            "colorscale": [
             [
              0,
              "#0d0887"
             ],
             [
              0.1111111111111111,
              "#46039f"
             ],
             [
              0.2222222222222222,
              "#7201a8"
             ],
             [
              0.3333333333333333,
              "#9c179e"
             ],
             [
              0.4444444444444444,
              "#bd3786"
             ],
             [
              0.5555555555555556,
              "#d8576b"
             ],
             [
              0.6666666666666666,
              "#ed7953"
             ],
             [
              0.7777777777777778,
              "#fb9f3a"
             ],
             [
              0.8888888888888888,
              "#fdca26"
             ],
             [
              1,
              "#f0f921"
             ]
            ],
            "type": "histogram2d"
           }
          ],
          "histogram2dcontour": [
           {
            "colorbar": {
             "outlinewidth": 0,
             "ticks": ""
            },
            "colorscale": [
             [
              0,
              "#0d0887"
             ],
             [
              0.1111111111111111,
              "#46039f"
             ],
             [
              0.2222222222222222,
              "#7201a8"
             ],
             [
              0.3333333333333333,
              "#9c179e"
             ],
             [
              0.4444444444444444,
              "#bd3786"
             ],
             [
              0.5555555555555556,
              "#d8576b"
             ],
             [
              0.6666666666666666,
              "#ed7953"
             ],
             [
              0.7777777777777778,
              "#fb9f3a"
             ],
             [
              0.8888888888888888,
              "#fdca26"
             ],
             [
              1,
              "#f0f921"
             ]
            ],
            "type": "histogram2dcontour"
           }
          ],
          "mesh3d": [
           {
            "colorbar": {
             "outlinewidth": 0,
             "ticks": ""
            },
            "type": "mesh3d"
           }
          ],
          "parcoords": [
           {
            "line": {
             "colorbar": {
              "outlinewidth": 0,
              "ticks": ""
             }
            },
            "type": "parcoords"
           }
          ],
          "pie": [
           {
            "automargin": true,
            "type": "pie"
           }
          ],
          "scatter": [
           {
            "fillpattern": {
             "fillmode": "overlay",
             "size": 10,
             "solidity": 0.2
            },
            "type": "scatter"
           }
          ],
          "scatter3d": [
           {
            "line": {
             "colorbar": {
              "outlinewidth": 0,
              "ticks": ""
             }
            },
            "marker": {
             "colorbar": {
              "outlinewidth": 0,
              "ticks": ""
             }
            },
            "type": "scatter3d"
           }
          ],
          "scattercarpet": [
           {
            "marker": {
             "colorbar": {
              "outlinewidth": 0,
              "ticks": ""
             }
            },
            "type": "scattercarpet"
           }
          ],
          "scattergeo": [
           {
            "marker": {
             "colorbar": {
              "outlinewidth": 0,
              "ticks": ""
             }
            },
            "type": "scattergeo"
           }
          ],
          "scattergl": [
           {
            "marker": {
             "colorbar": {
              "outlinewidth": 0,
              "ticks": ""
             }
            },
            "type": "scattergl"
           }
          ],
          "scattermapbox": [
           {
            "marker": {
             "colorbar": {
              "outlinewidth": 0,
              "ticks": ""
             }
            },
            "type": "scattermapbox"
           }
          ],
          "scatterpolar": [
           {
            "marker": {
             "colorbar": {
              "outlinewidth": 0,
              "ticks": ""
             }
            },
            "type": "scatterpolar"
           }
          ],
          "scatterpolargl": [
           {
            "marker": {
             "colorbar": {
              "outlinewidth": 0,
              "ticks": ""
             }
            },
            "type": "scatterpolargl"
           }
          ],
          "scatterternary": [
           {
            "marker": {
             "colorbar": {
              "outlinewidth": 0,
              "ticks": ""
             }
            },
            "type": "scatterternary"
           }
          ],
          "surface": [
           {
            "colorbar": {
             "outlinewidth": 0,
             "ticks": ""
            },
            "colorscale": [
             [
              0,
              "#0d0887"
             ],
             [
              0.1111111111111111,
              "#46039f"
             ],
             [
              0.2222222222222222,
              "#7201a8"
             ],
             [
              0.3333333333333333,
              "#9c179e"
             ],
             [
              0.4444444444444444,
              "#bd3786"
             ],
             [
              0.5555555555555556,
              "#d8576b"
             ],
             [
              0.6666666666666666,
              "#ed7953"
             ],
             [
              0.7777777777777778,
              "#fb9f3a"
             ],
             [
              0.8888888888888888,
              "#fdca26"
             ],
             [
              1,
              "#f0f921"
             ]
            ],
            "type": "surface"
           }
          ],
          "table": [
           {
            "cells": {
             "fill": {
              "color": "#EBF0F8"
             },
             "line": {
              "color": "white"
             }
            },
            "header": {
             "fill": {
              "color": "#C8D4E3"
             },
             "line": {
              "color": "white"
             }
            },
            "type": "table"
           }
          ]
         },
         "layout": {
          "annotationdefaults": {
           "arrowcolor": "#2a3f5f",
           "arrowhead": 0,
           "arrowwidth": 1
          },
          "autotypenumbers": "strict",
          "coloraxis": {
           "colorbar": {
            "outlinewidth": 0,
            "ticks": ""
           }
          },
          "colorscale": {
           "diverging": [
            [
             0,
             "#8e0152"
            ],
            [
             0.1,
             "#c51b7d"
            ],
            [
             0.2,
             "#de77ae"
            ],
            [
             0.3,
             "#f1b6da"
            ],
            [
             0.4,
             "#fde0ef"
            ],
            [
             0.5,
             "#f7f7f7"
            ],
            [
             0.6,
             "#e6f5d0"
            ],
            [
             0.7,
             "#b8e186"
            ],
            [
             0.8,
             "#7fbc41"
            ],
            [
             0.9,
             "#4d9221"
            ],
            [
             1,
             "#276419"
            ]
           ],
           "sequential": [
            [
             0,
             "#0d0887"
            ],
            [
             0.1111111111111111,
             "#46039f"
            ],
            [
             0.2222222222222222,
             "#7201a8"
            ],
            [
             0.3333333333333333,
             "#9c179e"
            ],
            [
             0.4444444444444444,
             "#bd3786"
            ],
            [
             0.5555555555555556,
             "#d8576b"
            ],
            [
             0.6666666666666666,
             "#ed7953"
            ],
            [
             0.7777777777777778,
             "#fb9f3a"
            ],
            [
             0.8888888888888888,
             "#fdca26"
            ],
            [
             1,
             "#f0f921"
            ]
           ],
           "sequentialminus": [
            [
             0,
             "#0d0887"
            ],
            [
             0.1111111111111111,
             "#46039f"
            ],
            [
             0.2222222222222222,
             "#7201a8"
            ],
            [
             0.3333333333333333,
             "#9c179e"
            ],
            [
             0.4444444444444444,
             "#bd3786"
            ],
            [
             0.5555555555555556,
             "#d8576b"
            ],
            [
             0.6666666666666666,
             "#ed7953"
            ],
            [
             0.7777777777777778,
             "#fb9f3a"
            ],
            [
             0.8888888888888888,
             "#fdca26"
            ],
            [
             1,
             "#f0f921"
            ]
           ]
          },
          "colorway": [
           "#636efa",
           "#EF553B",
           "#00cc96",
           "#ab63fa",
           "#FFA15A",
           "#19d3f3",
           "#FF6692",
           "#B6E880",
           "#FF97FF",
           "#FECB52"
          ],
          "font": {
           "color": "#2a3f5f"
          },
          "geo": {
           "bgcolor": "white",
           "lakecolor": "white",
           "landcolor": "#E5ECF6",
           "showlakes": true,
           "showland": true,
           "subunitcolor": "white"
          },
          "hoverlabel": {
           "align": "left"
          },
          "hovermode": "closest",
          "mapbox": {
           "style": "light"
          },
          "paper_bgcolor": "white",
          "plot_bgcolor": "#E5ECF6",
          "polar": {
           "angularaxis": {
            "gridcolor": "white",
            "linecolor": "white",
            "ticks": ""
           },
           "bgcolor": "#E5ECF6",
           "radialaxis": {
            "gridcolor": "white",
            "linecolor": "white",
            "ticks": ""
           }
          },
          "scene": {
           "xaxis": {
            "backgroundcolor": "#E5ECF6",
            "gridcolor": "white",
            "gridwidth": 2,
            "linecolor": "white",
            "showbackground": true,
            "ticks": "",
            "zerolinecolor": "white"
           },
           "yaxis": {
            "backgroundcolor": "#E5ECF6",
            "gridcolor": "white",
            "gridwidth": 2,
            "linecolor": "white",
            "showbackground": true,
            "ticks": "",
            "zerolinecolor": "white"
           },
           "zaxis": {
            "backgroundcolor": "#E5ECF6",
            "gridcolor": "white",
            "gridwidth": 2,
            "linecolor": "white",
            "showbackground": true,
            "ticks": "",
            "zerolinecolor": "white"
           }
          },
          "shapedefaults": {
           "line": {
            "color": "#2a3f5f"
           }
          },
          "ternary": {
           "aaxis": {
            "gridcolor": "white",
            "linecolor": "white",
            "ticks": ""
           },
           "baxis": {
            "gridcolor": "white",
            "linecolor": "white",
            "ticks": ""
           },
           "bgcolor": "#E5ECF6",
           "caxis": {
            "gridcolor": "white",
            "linecolor": "white",
            "ticks": ""
           }
          },
          "title": {
           "x": 0.05
          },
          "xaxis": {
           "automargin": true,
           "gridcolor": "white",
           "linecolor": "white",
           "ticks": "",
           "title": {
            "standoff": 15
           },
           "zerolinecolor": "white",
           "zerolinewidth": 2
          },
          "yaxis": {
           "automargin": true,
           "gridcolor": "white",
           "linecolor": "white",
           "ticks": "",
           "title": {
            "standoff": 15
           },
           "zerolinecolor": "white",
           "zerolinewidth": 2
          }
         }
        },
        "title": {
         "text": "% GAD67+ Cells per Condition Location"
        },
        "xaxis": {
         "anchor": "y",
         "domain": [
          0,
          1
         ],
         "title": {
          "text": "Condition Location"
         }
        },
        "yaxis": {
         "anchor": "x",
         "domain": [
          0,
          1
         ],
         "title": {
          "text": "% GAD67+ Cells"
         }
        }
       }
      }
     },
     "metadata": {},
     "output_type": "display_data"
    }
   ],
   "source": [
    "fig = px.box(\n",
    "    df,\n",
    "    x=\"condition_location\",\n",
    "    y=\"%_gad67+_cells\",\n",
    "    color=\"condition\",\n",
    "    points=\"all\",\n",
    "    hover_data=[df.index, \"filename\", \"mouse_id\"],\n",
    "    title=\"% GAD67+ Cells per Condition Location\",\n",
    "    labels={\"%_gad67+_cells\": \"% GAD67+ Cells\", \"condition_location\": \"Condition Location\"}\n",
    ")\n",
    "\n",
    "# Display the plot\n",
    "fig.show()"
   ]
  },
  {
   "cell_type": "code",
   "execution_count": 53,
   "metadata": {},
   "outputs": [
    {
     "data": {
      "application/vnd.plotly.v1+json": {
       "config": {
        "plotlyServerURL": "https://plot.ly"
       },
       "data": [
        {
         "alignmentgroup": "True",
         "boxpoints": "all",
         "customdata": [
          [
           0,
           "HI 1 Contralateral Mouse 8 Slide09 GAD67green NeuNpink Reelinred 40x 4x4 technical replica 1",
           8
          ],
          [
           1,
           "HI 1 Contralateral Mouse 8 Slide09 GAD67green NeuNpink Reelinred 40x 4x4 technical replica 2",
           8
          ],
          [
           2,
           "HI 1 Ipsilateral Mouse 8 Slide16 GAD67green NeuNpink Reelinred 40x 4x4 technical replica 1",
           8
          ],
          [
           3,
           "HI 1 Ipsilateral Mouse 8 Slide16 GAD67green NeuNpink Reelinred 40x 4x4 technical replica 2",
           8
          ],
          [
           4,
           "HI 2 Contralateral Mouse 10 Slide08 GAD67green NeuNpink Reelinred 40x 4x4 technical replica 1",
           10
          ],
          [
           5,
           "HI 2 Contralateral Mouse 10 Slide08 GAD67green NeuNpink Reelinred 40x 4x4 technical replica 2",
           10
          ],
          [
           6,
           "HI 2 Ipsilateral Mouse 10 Slide08 GAD67green NeuNpink Reelinred 40x 4x4 technical replica 1",
           10
          ],
          [
           7,
           "HI 2 Ipsilateral Mouse 10 Slide08 GAD67green NeuNpink Reelinred 40x 4x4 technical replica 2",
           10
          ],
          [
           8,
           "HI 3 Contralateral Mouse 11 Slide09 GAD67green NeuNpink Reelinred 40x 4x4 technical replica 1",
           11
          ],
          [
           9,
           "HI 3 Contralateral Mouse 11 Slide09 GAD67green NeuNpink Reelinred 40x 4x4 technical replica 2",
           11
          ],
          [
           10,
           "HI 3 Ipsilateral Mouse 11 Slide09 GAD67green NeuNpink Reelinred 40x 4x4 technical replica 1",
           11
          ],
          [
           11,
           "HI 3 Ipsilateral Mouse 11 Slide09 GAD67green NeuNpink Reelinred 40x 4x4 technical replica 2",
           11
          ]
         ],
         "hovertemplate": "condition=HI<br>Condition Location=%{x}<br>% Cajal Cells=%{y}<br>index=%{customdata[0]}<br>filename=%{customdata[1]}<br>mouse_id=%{customdata[2]}<extra></extra>",
         "legendgroup": "HI",
         "marker": {
          "color": "#636efa"
         },
         "name": "HI",
         "notched": false,
         "offsetgroup": "HI",
         "orientation": "v",
         "showlegend": true,
         "type": "box",
         "x": [
          "HI_Contralateral",
          "HI_Contralateral",
          "HI_Ipsilateral",
          "HI_Ipsilateral",
          "HI_Contralateral",
          "HI_Contralateral",
          "HI_Ipsilateral",
          "HI_Ipsilateral",
          "HI_Contralateral",
          "HI_Contralateral",
          "HI_Ipsilateral",
          "HI_Ipsilateral"
         ],
         "x0": " ",
         "xaxis": "x",
         "y": [
          1.711229946524064,
          1.6086336794950111,
          1.893622946254525,
          0.6957452502006958,
          1.924557351809084,
          1.936925751179538,
          1.404632824051257,
          2.136613790870832,
          1.27669452181987,
          1.289053965479572,
          1.4218009478672986,
          1.826045170591062
         ],
         "y0": " ",
         "yaxis": "y"
        },
        {
         "alignmentgroup": "True",
         "boxpoints": "all",
         "customdata": [
          [
           13,
           "Sham 1 Contralateral Mouse 6 Slide09 GAD67green NeuNpink Reelinred 40x 4x4 technical replica 2",
           6
          ],
          [
           14,
           "Sham 1 Ipsilateral Mouse 6 Slide09 GAD67green NeuNpink Reelinred 40x 4x4 technical replica 1",
           6
          ],
          [
           15,
           "Sham 1 Ipsilateral Mouse 6 Slide09 GAD67green NeuNpink Reelinred 40x 4x4 technical replica 2",
           6
          ],
          [
           16,
           "Sham 2 Contralateral Mouse 7 Slide12 GAD67green NeuNpink Reelinred 40x 4x4 technical replica 1",
           7
          ],
          [
           17,
           "Sham 2 Contralateral Mouse 7 Slide12 GAD67green NeuNpink Reelinred 40x 4x4 technical replica 2",
           7
          ],
          [
           18,
           "Sham 2 Ipsilateral Mouse 7 Slide12 GAD67green NeuNpink Reelinred 40x 4x4 technical replica 1",
           7
          ],
          [
           19,
           "Sham 2 Ipsilateral Mouse 7 Slide12 GAD67green NeuNpink Reelinred 40x 4x4 technical replica 2",
           7
          ]
         ],
         "hovertemplate": "condition=Sham<br>Condition Location=%{x}<br>% Cajal Cells=%{y}<br>index=%{customdata[0]}<br>filename=%{customdata[1]}<br>mouse_id=%{customdata[2]}<extra></extra>",
         "legendgroup": "Sham",
         "marker": {
          "color": "#EF553B"
         },
         "name": "Sham",
         "notched": false,
         "offsetgroup": "Sham",
         "orientation": "v",
         "showlegend": true,
         "type": "box",
         "x": [
          "Sham",
          "Sham",
          "Sham",
          "Sham",
          "Sham",
          "Sham",
          "Sham"
         ],
         "x0": " ",
         "xaxis": "x",
         "y": [
          1.414141414141414,
          1.3097259277225322,
          0.8209338122113905,
          1.3413086822548486,
          1.0101010101010102,
          1.300578034682081,
          1.2274549098196392
         ],
         "y0": " ",
         "yaxis": "y"
        }
       ],
       "layout": {
        "boxmode": "group",
        "legend": {
         "title": {
          "text": "condition"
         },
         "tracegroupgap": 0
        },
        "template": {
         "data": {
          "bar": [
           {
            "error_x": {
             "color": "#2a3f5f"
            },
            "error_y": {
             "color": "#2a3f5f"
            },
            "marker": {
             "line": {
              "color": "#E5ECF6",
              "width": 0.5
             },
             "pattern": {
              "fillmode": "overlay",
              "size": 10,
              "solidity": 0.2
             }
            },
            "type": "bar"
           }
          ],
          "barpolar": [
           {
            "marker": {
             "line": {
              "color": "#E5ECF6",
              "width": 0.5
             },
             "pattern": {
              "fillmode": "overlay",
              "size": 10,
              "solidity": 0.2
             }
            },
            "type": "barpolar"
           }
          ],
          "carpet": [
           {
            "aaxis": {
             "endlinecolor": "#2a3f5f",
             "gridcolor": "white",
             "linecolor": "white",
             "minorgridcolor": "white",
             "startlinecolor": "#2a3f5f"
            },
            "baxis": {
             "endlinecolor": "#2a3f5f",
             "gridcolor": "white",
             "linecolor": "white",
             "minorgridcolor": "white",
             "startlinecolor": "#2a3f5f"
            },
            "type": "carpet"
           }
          ],
          "choropleth": [
           {
            "colorbar": {
             "outlinewidth": 0,
             "ticks": ""
            },
            "type": "choropleth"
           }
          ],
          "contour": [
           {
            "colorbar": {
             "outlinewidth": 0,
             "ticks": ""
            },
            "colorscale": [
             [
              0,
              "#0d0887"
             ],
             [
              0.1111111111111111,
              "#46039f"
             ],
             [
              0.2222222222222222,
              "#7201a8"
             ],
             [
              0.3333333333333333,
              "#9c179e"
             ],
             [
              0.4444444444444444,
              "#bd3786"
             ],
             [
              0.5555555555555556,
              "#d8576b"
             ],
             [
              0.6666666666666666,
              "#ed7953"
             ],
             [
              0.7777777777777778,
              "#fb9f3a"
             ],
             [
              0.8888888888888888,
              "#fdca26"
             ],
             [
              1,
              "#f0f921"
             ]
            ],
            "type": "contour"
           }
          ],
          "contourcarpet": [
           {
            "colorbar": {
             "outlinewidth": 0,
             "ticks": ""
            },
            "type": "contourcarpet"
           }
          ],
          "heatmap": [
           {
            "colorbar": {
             "outlinewidth": 0,
             "ticks": ""
            },
            "colorscale": [
             [
              0,
              "#0d0887"
             ],
             [
              0.1111111111111111,
              "#46039f"
             ],
             [
              0.2222222222222222,
              "#7201a8"
             ],
             [
              0.3333333333333333,
              "#9c179e"
             ],
             [
              0.4444444444444444,
              "#bd3786"
             ],
             [
              0.5555555555555556,
              "#d8576b"
             ],
             [
              0.6666666666666666,
              "#ed7953"
             ],
             [
              0.7777777777777778,
              "#fb9f3a"
             ],
             [
              0.8888888888888888,
              "#fdca26"
             ],
             [
              1,
              "#f0f921"
             ]
            ],
            "type": "heatmap"
           }
          ],
          "heatmapgl": [
           {
            "colorbar": {
             "outlinewidth": 0,
             "ticks": ""
            },
            "colorscale": [
             [
              0,
              "#0d0887"
             ],
             [
              0.1111111111111111,
              "#46039f"
             ],
             [
              0.2222222222222222,
              "#7201a8"
             ],
             [
              0.3333333333333333,
              "#9c179e"
             ],
             [
              0.4444444444444444,
              "#bd3786"
             ],
             [
              0.5555555555555556,
              "#d8576b"
             ],
             [
              0.6666666666666666,
              "#ed7953"
             ],
             [
              0.7777777777777778,
              "#fb9f3a"
             ],
             [
              0.8888888888888888,
              "#fdca26"
             ],
             [
              1,
              "#f0f921"
             ]
            ],
            "type": "heatmapgl"
           }
          ],
          "histogram": [
           {
            "marker": {
             "pattern": {
              "fillmode": "overlay",
              "size": 10,
              "solidity": 0.2
             }
            },
            "type": "histogram"
           }
          ],
          "histogram2d": [
           {
            "colorbar": {
             "outlinewidth": 0,
             "ticks": ""
            },
            "colorscale": [
             [
              0,
              "#0d0887"
             ],
             [
              0.1111111111111111,
              "#46039f"
             ],
             [
              0.2222222222222222,
              "#7201a8"
             ],
             [
              0.3333333333333333,
              "#9c179e"
             ],
             [
              0.4444444444444444,
              "#bd3786"
             ],
             [
              0.5555555555555556,
              "#d8576b"
             ],
             [
              0.6666666666666666,
              "#ed7953"
             ],
             [
              0.7777777777777778,
              "#fb9f3a"
             ],
             [
              0.8888888888888888,
              "#fdca26"
             ],
             [
              1,
              "#f0f921"
             ]
            ],
            "type": "histogram2d"
           }
          ],
          "histogram2dcontour": [
           {
            "colorbar": {
             "outlinewidth": 0,
             "ticks": ""
            },
            "colorscale": [
             [
              0,
              "#0d0887"
             ],
             [
              0.1111111111111111,
              "#46039f"
             ],
             [
              0.2222222222222222,
              "#7201a8"
             ],
             [
              0.3333333333333333,
              "#9c179e"
             ],
             [
              0.4444444444444444,
              "#bd3786"
             ],
             [
              0.5555555555555556,
              "#d8576b"
             ],
             [
              0.6666666666666666,
              "#ed7953"
             ],
             [
              0.7777777777777778,
              "#fb9f3a"
             ],
             [
              0.8888888888888888,
              "#fdca26"
             ],
             [
              1,
              "#f0f921"
             ]
            ],
            "type": "histogram2dcontour"
           }
          ],
          "mesh3d": [
           {
            "colorbar": {
             "outlinewidth": 0,
             "ticks": ""
            },
            "type": "mesh3d"
           }
          ],
          "parcoords": [
           {
            "line": {
             "colorbar": {
              "outlinewidth": 0,
              "ticks": ""
             }
            },
            "type": "parcoords"
           }
          ],
          "pie": [
           {
            "automargin": true,
            "type": "pie"
           }
          ],
          "scatter": [
           {
            "fillpattern": {
             "fillmode": "overlay",
             "size": 10,
             "solidity": 0.2
            },
            "type": "scatter"
           }
          ],
          "scatter3d": [
           {
            "line": {
             "colorbar": {
              "outlinewidth": 0,
              "ticks": ""
             }
            },
            "marker": {
             "colorbar": {
              "outlinewidth": 0,
              "ticks": ""
             }
            },
            "type": "scatter3d"
           }
          ],
          "scattercarpet": [
           {
            "marker": {
             "colorbar": {
              "outlinewidth": 0,
              "ticks": ""
             }
            },
            "type": "scattercarpet"
           }
          ],
          "scattergeo": [
           {
            "marker": {
             "colorbar": {
              "outlinewidth": 0,
              "ticks": ""
             }
            },
            "type": "scattergeo"
           }
          ],
          "scattergl": [
           {
            "marker": {
             "colorbar": {
              "outlinewidth": 0,
              "ticks": ""
             }
            },
            "type": "scattergl"
           }
          ],
          "scattermapbox": [
           {
            "marker": {
             "colorbar": {
              "outlinewidth": 0,
              "ticks": ""
             }
            },
            "type": "scattermapbox"
           }
          ],
          "scatterpolar": [
           {
            "marker": {
             "colorbar": {
              "outlinewidth": 0,
              "ticks": ""
             }
            },
            "type": "scatterpolar"
           }
          ],
          "scatterpolargl": [
           {
            "marker": {
             "colorbar": {
              "outlinewidth": 0,
              "ticks": ""
             }
            },
            "type": "scatterpolargl"
           }
          ],
          "scatterternary": [
           {
            "marker": {
             "colorbar": {
              "outlinewidth": 0,
              "ticks": ""
             }
            },
            "type": "scatterternary"
           }
          ],
          "surface": [
           {
            "colorbar": {
             "outlinewidth": 0,
             "ticks": ""
            },
            "colorscale": [
             [
              0,
              "#0d0887"
             ],
             [
              0.1111111111111111,
              "#46039f"
             ],
             [
              0.2222222222222222,
              "#7201a8"
             ],
             [
              0.3333333333333333,
              "#9c179e"
             ],
             [
              0.4444444444444444,
              "#bd3786"
             ],
             [
              0.5555555555555556,
              "#d8576b"
             ],
             [
              0.6666666666666666,
              "#ed7953"
             ],
             [
              0.7777777777777778,
              "#fb9f3a"
             ],
             [
              0.8888888888888888,
              "#fdca26"
             ],
             [
              1,
              "#f0f921"
             ]
            ],
            "type": "surface"
           }
          ],
          "table": [
           {
            "cells": {
             "fill": {
              "color": "#EBF0F8"
             },
             "line": {
              "color": "white"
             }
            },
            "header": {
             "fill": {
              "color": "#C8D4E3"
             },
             "line": {
              "color": "white"
             }
            },
            "type": "table"
           }
          ]
         },
         "layout": {
          "annotationdefaults": {
           "arrowcolor": "#2a3f5f",
           "arrowhead": 0,
           "arrowwidth": 1
          },
          "autotypenumbers": "strict",
          "coloraxis": {
           "colorbar": {
            "outlinewidth": 0,
            "ticks": ""
           }
          },
          "colorscale": {
           "diverging": [
            [
             0,
             "#8e0152"
            ],
            [
             0.1,
             "#c51b7d"
            ],
            [
             0.2,
             "#de77ae"
            ],
            [
             0.3,
             "#f1b6da"
            ],
            [
             0.4,
             "#fde0ef"
            ],
            [
             0.5,
             "#f7f7f7"
            ],
            [
             0.6,
             "#e6f5d0"
            ],
            [
             0.7,
             "#b8e186"
            ],
            [
             0.8,
             "#7fbc41"
            ],
            [
             0.9,
             "#4d9221"
            ],
            [
             1,
             "#276419"
            ]
           ],
           "sequential": [
            [
             0,
             "#0d0887"
            ],
            [
             0.1111111111111111,
             "#46039f"
            ],
            [
             0.2222222222222222,
             "#7201a8"
            ],
            [
             0.3333333333333333,
             "#9c179e"
            ],
            [
             0.4444444444444444,
             "#bd3786"
            ],
            [
             0.5555555555555556,
             "#d8576b"
            ],
            [
             0.6666666666666666,
             "#ed7953"
            ],
            [
             0.7777777777777778,
             "#fb9f3a"
            ],
            [
             0.8888888888888888,
             "#fdca26"
            ],
            [
             1,
             "#f0f921"
            ]
           ],
           "sequentialminus": [
            [
             0,
             "#0d0887"
            ],
            [
             0.1111111111111111,
             "#46039f"
            ],
            [
             0.2222222222222222,
             "#7201a8"
            ],
            [
             0.3333333333333333,
             "#9c179e"
            ],
            [
             0.4444444444444444,
             "#bd3786"
            ],
            [
             0.5555555555555556,
             "#d8576b"
            ],
            [
             0.6666666666666666,
             "#ed7953"
            ],
            [
             0.7777777777777778,
             "#fb9f3a"
            ],
            [
             0.8888888888888888,
             "#fdca26"
            ],
            [
             1,
             "#f0f921"
            ]
           ]
          },
          "colorway": [
           "#636efa",
           "#EF553B",
           "#00cc96",
           "#ab63fa",
           "#FFA15A",
           "#19d3f3",
           "#FF6692",
           "#B6E880",
           "#FF97FF",
           "#FECB52"
          ],
          "font": {
           "color": "#2a3f5f"
          },
          "geo": {
           "bgcolor": "white",
           "lakecolor": "white",
           "landcolor": "#E5ECF6",
           "showlakes": true,
           "showland": true,
           "subunitcolor": "white"
          },
          "hoverlabel": {
           "align": "left"
          },
          "hovermode": "closest",
          "mapbox": {
           "style": "light"
          },
          "paper_bgcolor": "white",
          "plot_bgcolor": "#E5ECF6",
          "polar": {
           "angularaxis": {
            "gridcolor": "white",
            "linecolor": "white",
            "ticks": ""
           },
           "bgcolor": "#E5ECF6",
           "radialaxis": {
            "gridcolor": "white",
            "linecolor": "white",
            "ticks": ""
           }
          },
          "scene": {
           "xaxis": {
            "backgroundcolor": "#E5ECF6",
            "gridcolor": "white",
            "gridwidth": 2,
            "linecolor": "white",
            "showbackground": true,
            "ticks": "",
            "zerolinecolor": "white"
           },
           "yaxis": {
            "backgroundcolor": "#E5ECF6",
            "gridcolor": "white",
            "gridwidth": 2,
            "linecolor": "white",
            "showbackground": true,
            "ticks": "",
            "zerolinecolor": "white"
           },
           "zaxis": {
            "backgroundcolor": "#E5ECF6",
            "gridcolor": "white",
            "gridwidth": 2,
            "linecolor": "white",
            "showbackground": true,
            "ticks": "",
            "zerolinecolor": "white"
           }
          },
          "shapedefaults": {
           "line": {
            "color": "#2a3f5f"
           }
          },
          "ternary": {
           "aaxis": {
            "gridcolor": "white",
            "linecolor": "white",
            "ticks": ""
           },
           "baxis": {
            "gridcolor": "white",
            "linecolor": "white",
            "ticks": ""
           },
           "bgcolor": "#E5ECF6",
           "caxis": {
            "gridcolor": "white",
            "linecolor": "white",
            "ticks": ""
           }
          },
          "title": {
           "x": 0.05
          },
          "xaxis": {
           "automargin": true,
           "gridcolor": "white",
           "linecolor": "white",
           "ticks": "",
           "title": {
            "standoff": 15
           },
           "zerolinecolor": "white",
           "zerolinewidth": 2
          },
          "yaxis": {
           "automargin": true,
           "gridcolor": "white",
           "linecolor": "white",
           "ticks": "",
           "title": {
            "standoff": 15
           },
           "zerolinecolor": "white",
           "zerolinewidth": 2
          }
         }
        },
        "title": {
         "text": "% Cajal Cells per Condition Location"
        },
        "xaxis": {
         "anchor": "y",
         "domain": [
          0,
          1
         ],
         "title": {
          "text": "Condition Location"
         }
        },
        "yaxis": {
         "anchor": "x",
         "domain": [
          0,
          1
         ],
         "title": {
          "text": "% Cajal Cells"
         }
        }
       }
      }
     },
     "metadata": {},
     "output_type": "display_data"
    }
   ],
   "source": [
    "fig = px.box(\n",
    "    df,\n",
    "    x=\"condition_location\",\n",
    "    y=\"%_cajal_cells\",\n",
    "    color=\"condition\",\n",
    "    points=\"all\",\n",
    "    hover_data=[df.index, \"filename\", \"mouse_id\"],\n",
    "    title=\"% Cajal Cells per Condition Location\",\n",
    "    labels={\"%_cajal_cells\": \"% Cajal Cells\", \"condition_location\": \"Condition Location\"}\n",
    ")\n",
    "\n",
    "# Display the plot\n",
    "fig.show()"
   ]
  }
 ],
 "metadata": {
  "kernelspec": {
   "display_name": "microglia_GPU",
   "language": "python",
   "name": "python3"
  },
  "language_info": {
   "codemirror_mode": {
    "name": "ipython",
    "version": 3
   },
   "file_extension": ".py",
   "mimetype": "text/x-python",
   "name": "python",
   "nbconvert_exporter": "python",
   "pygments_lexer": "ipython3",
   "version": "3.9.19"
  }
 },
 "nbformat": 4,
 "nbformat_minor": 2
}
