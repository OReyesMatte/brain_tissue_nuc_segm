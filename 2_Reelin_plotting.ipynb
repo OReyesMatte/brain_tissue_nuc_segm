{
 "cells": [
  {
   "cell_type": "code",
   "execution_count": 30,
   "metadata": {},
   "outputs": [],
   "source": [
    "import pandas as pd\n",
    "import plotly.express as px"
   ]
  },
  {
   "cell_type": "code",
   "execution_count": 31,
   "metadata": {},
   "outputs": [],
   "source": [
    "# Define the path to your results\n",
    "csv_path = \"./results/Reelin_summary_2D.csv\"\n",
    "\n",
    "# Read the CSV file\n",
    "df = pd.read_csv(csv_path, index_col=0)"
   ]
  },
  {
   "cell_type": "code",
   "execution_count": 32,
   "metadata": {},
   "outputs": [],
   "source": [
    "# Create a new column for combined sex and tissue location\n",
    "df['condition_location'] = df['condition'] + '_' + df['brain_location']\n",
    "\n",
    "# Rename Sham_Contralateral and Sham_Ipsilateral to just Sham\n",
    "df.loc[df['condition_location'].str.contains('Sham', case=False, na=False), 'condition_location'] = 'Sham'\n",
    "\n",
    "# Remove outliers before plotting the data\n",
    "df.drop(index=12, inplace=True)"
   ]
  },
  {
   "cell_type": "code",
   "execution_count": 33,
   "metadata": {},
   "outputs": [
    {
     "data": {
      "application/vnd.plotly.v1+json": {
       "config": {
        "plotlyServerURL": "https://plot.ly"
       },
       "data": [
        {
         "alignmentgroup": "True",
         "boxpoints": "all",
         "customdata": [
          [
           0,
           "HI 1 Contralateral Mouse 8 Slide09 GAD67green NeuNpink Reelinred 40x 4x4 technical replica 1",
           8
          ],
          [
           1,
           "HI 1 Contralateral Mouse 8 Slide09 GAD67green NeuNpink Reelinred 40x 4x4 technical replica 2",
           8
          ],
          [
           2,
           "HI 1 Ipsilateral Mouse 8 Slide16 GAD67green NeuNpink Reelinred 40x 4x4 technical replica 1",
           8
          ],
          [
           3,
           "HI 1 Ipsilateral Mouse 8 Slide16 GAD67green NeuNpink Reelinred 40x 4x4 technical replica 2",
           8
          ],
          [
           4,
           "HI 2 Contralateral Mouse 10 Slide08 GAD67green NeuNpink Reelinred 40x 4x4 technical replica 1",
           10
          ],
          [
           5,
           "HI 2 Contralateral Mouse 10 Slide08 GAD67green NeuNpink Reelinred 40x 4x4 technical replica 2",
           10
          ],
          [
           6,
           "HI 2 Ipsilateral Mouse 10 Slide08 GAD67green NeuNpink Reelinred 40x 4x4 technical replica 1",
           10
          ],
          [
           7,
           "HI 2 Ipsilateral Mouse 10 Slide08 GAD67green NeuNpink Reelinred 40x 4x4 technical replica 2",
           10
          ],
          [
           8,
           "HI 3 Contralateral Mouse 11 Slide09 GAD67green NeuNpink Reelinred 40x 4x4 technical replica 1",
           11
          ],
          [
           9,
           "HI 3 Contralateral Mouse 11 Slide09 GAD67green NeuNpink Reelinred 40x 4x4 technical replica 2",
           11
          ],
          [
           10,
           "HI 3 Ipsilateral Mouse 11 Slide09 GAD67green NeuNpink Reelinred 40x 4x4 technical replica 1",
           11
          ],
          [
           11,
           "HI 3 Ipsilateral Mouse 11 Slide09 GAD67green NeuNpink Reelinred 40x 4x4 technical replica 2",
           11
          ]
         ],
         "hovertemplate": "condition=HI<br>Condition Location=%{x}<br>% Neun+ Cells=%{y}<br>index=%{customdata[0]}<br>filename=%{customdata[1]}<br>mouse_id=%{customdata[2]}<extra></extra>",
         "legendgroup": "HI",
         "marker": {
          "color": "#636efa"
         },
         "name": "HI",
         "notched": false,
         "offsetgroup": "HI",
         "orientation": "v",
         "showlegend": true,
         "type": "box",
         "x": [
          "HI_Contralateral",
          "HI_Contralateral",
          "HI_Ipsilateral",
          "HI_Ipsilateral",
          "HI_Contralateral",
          "HI_Contralateral",
          "HI_Ipsilateral",
          "HI_Ipsilateral",
          "HI_Contralateral",
          "HI_Contralateral",
          "HI_Ipsilateral",
          "HI_Ipsilateral"
         ],
         "x0": " ",
         "xaxis": "x",
         "y": [
          28.94117647058824,
          37.4058236611688,
          50.01392369813423,
          72.94621354027295,
          39.15832691814216,
          42.38887509312143,
          13.947757516017743,
          22.434444804143737,
          62.41875580315692,
          63.33843128686913,
          40.47950933928074,
          36.18452666987025
         ],
         "y0": " ",
         "yaxis": "y"
        },
        {
         "alignmentgroup": "True",
         "boxpoints": "all",
         "customdata": [
          [
           13,
           "Sham 1 Contralateral Mouse 6 Slide09 GAD67green NeuNpink Reelinred 40x 4x4 technical replica 2",
           6
          ],
          [
           14,
           "Sham 1 Ipsilateral Mouse 6 Slide09 GAD67green NeuNpink Reelinred 40x 4x4 technical replica 1",
           6
          ],
          [
           15,
           "Sham 1 Ipsilateral Mouse 6 Slide09 GAD67green NeuNpink Reelinred 40x 4x4 technical replica 2",
           6
          ],
          [
           16,
           "Sham 2 Contralateral Mouse 7 Slide12 GAD67green NeuNpink Reelinred 40x 4x4 technical replica 1",
           7
          ],
          [
           17,
           "Sham 2 Contralateral Mouse 7 Slide12 GAD67green NeuNpink Reelinred 40x 4x4 technical replica 2",
           7
          ],
          [
           18,
           "Sham 2 Ipsilateral Mouse 7 Slide12 GAD67green NeuNpink Reelinred 40x 4x4 technical replica 1",
           7
          ],
          [
           19,
           "Sham 2 Ipsilateral Mouse 7 Slide12 GAD67green NeuNpink Reelinred 40x 4x4 technical replica 2",
           7
          ]
         ],
         "hovertemplate": "condition=Sham<br>Condition Location=%{x}<br>% Neun+ Cells=%{y}<br>index=%{customdata[0]}<br>filename=%{customdata[1]}<br>mouse_id=%{customdata[2]}<extra></extra>",
         "legendgroup": "Sham",
         "marker": {
          "color": "#EF553B"
         },
         "name": "Sham",
         "notched": false,
         "offsetgroup": "Sham",
         "orientation": "v",
         "showlegend": true,
         "type": "box",
         "x": [
          "Sham",
          "Sham",
          "Sham",
          "Sham",
          "Sham",
          "Sham",
          "Sham"
         ],
         "x0": " ",
         "xaxis": "x",
         "y": [
          23.863636363636363,
          30.633034198399223,
          28.63006670087224,
          53.10857350009063,
          50.7276151343948,
          49.34971098265896,
          57.54008016032064
         ],
         "y0": " ",
         "yaxis": "y"
        }
       ],
       "layout": {
        "boxmode": "group",
        "legend": {
         "title": {
          "text": "condition"
         },
         "tracegroupgap": 0
        },
        "template": {
         "data": {
          "bar": [
           {
            "error_x": {
             "color": "#2a3f5f"
            },
            "error_y": {
             "color": "#2a3f5f"
            },
            "marker": {
             "line": {
              "color": "#E5ECF6",
              "width": 0.5
             },
             "pattern": {
              "fillmode": "overlay",
              "size": 10,
              "solidity": 0.2
             }
            },
            "type": "bar"
           }
          ],
          "barpolar": [
           {
            "marker": {
             "line": {
              "color": "#E5ECF6",
              "width": 0.5
             },
             "pattern": {
              "fillmode": "overlay",
              "size": 10,
              "solidity": 0.2
             }
            },
            "type": "barpolar"
           }
          ],
          "carpet": [
           {
            "aaxis": {
             "endlinecolor": "#2a3f5f",
             "gridcolor": "white",
             "linecolor": "white",
             "minorgridcolor": "white",
             "startlinecolor": "#2a3f5f"
            },
            "baxis": {
             "endlinecolor": "#2a3f5f",
             "gridcolor": "white",
             "linecolor": "white",
             "minorgridcolor": "white",
             "startlinecolor": "#2a3f5f"
            },
            "type": "carpet"
           }
          ],
          "choropleth": [
           {
            "colorbar": {
             "outlinewidth": 0,
             "ticks": ""
            },
            "type": "choropleth"
           }
          ],
          "contour": [
           {
            "colorbar": {
             "outlinewidth": 0,
             "ticks": ""
            },
            "colorscale": [
             [
              0,
              "#0d0887"
             ],
             [
              0.1111111111111111,
              "#46039f"
             ],
             [
              0.2222222222222222,
              "#7201a8"
             ],
             [
              0.3333333333333333,
              "#9c179e"
             ],
             [
              0.4444444444444444,
              "#bd3786"
             ],
             [
              0.5555555555555556,
              "#d8576b"
             ],
             [
              0.6666666666666666,
              "#ed7953"
             ],
             [
              0.7777777777777778,
              "#fb9f3a"
             ],
             [
              0.8888888888888888,
              "#fdca26"
             ],
             [
              1,
              "#f0f921"
             ]
            ],
            "type": "contour"
           }
          ],
          "contourcarpet": [
           {
            "colorbar": {
             "outlinewidth": 0,
             "ticks": ""
            },
            "type": "contourcarpet"
           }
          ],
          "heatmap": [
           {
            "colorbar": {
             "outlinewidth": 0,
             "ticks": ""
            },
            "colorscale": [
             [
              0,
              "#0d0887"
             ],
             [
              0.1111111111111111,
              "#46039f"
             ],
             [
              0.2222222222222222,
              "#7201a8"
             ],
             [
              0.3333333333333333,
              "#9c179e"
             ],
             [
              0.4444444444444444,
              "#bd3786"
             ],
             [
              0.5555555555555556,
              "#d8576b"
             ],
             [
              0.6666666666666666,
              "#ed7953"
             ],
             [
              0.7777777777777778,
              "#fb9f3a"
             ],
             [
              0.8888888888888888,
              "#fdca26"
             ],
             [
              1,
              "#f0f921"
             ]
            ],
            "type": "heatmap"
           }
          ],
          "heatmapgl": [
           {
            "colorbar": {
             "outlinewidth": 0,
             "ticks": ""
            },
            "colorscale": [
             [
              0,
              "#0d0887"
             ],
             [
              0.1111111111111111,
              "#46039f"
             ],
             [
              0.2222222222222222,
              "#7201a8"
             ],
             [
              0.3333333333333333,
              "#9c179e"
             ],
             [
              0.4444444444444444,
              "#bd3786"
             ],
             [
              0.5555555555555556,
              "#d8576b"
             ],
             [
              0.6666666666666666,
              "#ed7953"
             ],
             [
              0.7777777777777778,
              "#fb9f3a"
             ],
             [
              0.8888888888888888,
              "#fdca26"
             ],
             [
              1,
              "#f0f921"
             ]
            ],
            "type": "heatmapgl"
           }
          ],
          "histogram": [
           {
            "marker": {
             "pattern": {
              "fillmode": "overlay",
              "size": 10,
              "solidity": 0.2
             }
            },
            "type": "histogram"
           }
          ],
          "histogram2d": [
           {
            "colorbar": {
             "outlinewidth": 0,
             "ticks": ""
            },
            "colorscale": [
             [
              0,
              "#0d0887"
             ],
             [
              0.1111111111111111,
              "#46039f"
             ],
             [
              0.2222222222222222,
              "#7201a8"
             ],
             [
              0.3333333333333333,
              "#9c179e"
             ],
             [
              0.4444444444444444,
              "#bd3786"
             ],
             [
              0.5555555555555556,
              "#d8576b"
             ],
             [
              0.6666666666666666,
              "#ed7953"
             ],
             [
              0.7777777777777778,
              "#fb9f3a"
             ],
             [
              0.8888888888888888,
              "#fdca26"
             ],
             [
              1,
              "#f0f921"
             ]
            ],
            "type": "histogram2d"
           }
          ],
          "histogram2dcontour": [
           {
            "colorbar": {
             "outlinewidth": 0,
             "ticks": ""
            },
            "colorscale": [
             [
              0,
              "#0d0887"
             ],
             [
              0.1111111111111111,
              "#46039f"
             ],
             [
              0.2222222222222222,
              "#7201a8"
             ],
             [
              0.3333333333333333,
              "#9c179e"
             ],
             [
              0.4444444444444444,
              "#bd3786"
             ],
             [
              0.5555555555555556,
              "#d8576b"
             ],
             [
              0.6666666666666666,
              "#ed7953"
             ],
             [
              0.7777777777777778,
              "#fb9f3a"
             ],
             [
              0.8888888888888888,
              "#fdca26"
             ],
             [
              1,
              "#f0f921"
             ]
            ],
            "type": "histogram2dcontour"
           }
          ],
          "mesh3d": [
           {
            "colorbar": {
             "outlinewidth": 0,
             "ticks": ""
            },
            "type": "mesh3d"
           }
          ],
          "parcoords": [
           {
            "line": {
             "colorbar": {
              "outlinewidth": 0,
              "ticks": ""
             }
            },
            "type": "parcoords"
           }
          ],
          "pie": [
           {
            "automargin": true,
            "type": "pie"
           }
          ],
          "scatter": [
           {
            "fillpattern": {
             "fillmode": "overlay",
             "size": 10,
             "solidity": 0.2
            },
            "type": "scatter"
           }
          ],
          "scatter3d": [
           {
            "line": {
             "colorbar": {
              "outlinewidth": 0,
              "ticks": ""
             }
            },
            "marker": {
             "colorbar": {
              "outlinewidth": 0,
              "ticks": ""
             }
            },
            "type": "scatter3d"
           }
          ],
          "scattercarpet": [
           {
            "marker": {
             "colorbar": {
              "outlinewidth": 0,
              "ticks": ""
             }
            },
            "type": "scattercarpet"
           }
          ],
          "scattergeo": [
           {
            "marker": {
             "colorbar": {
              "outlinewidth": 0,
              "ticks": ""
             }
            },
            "type": "scattergeo"
           }
          ],
          "scattergl": [
           {
            "marker": {
             "colorbar": {
              "outlinewidth": 0,
              "ticks": ""
             }
            },
            "type": "scattergl"
           }
          ],
          "scattermapbox": [
           {
            "marker": {
             "colorbar": {
              "outlinewidth": 0,
              "ticks": ""
             }
            },
            "type": "scattermapbox"
           }
          ],
          "scatterpolar": [
           {
            "marker": {
             "colorbar": {
              "outlinewidth": 0,
              "ticks": ""
             }
            },
            "type": "scatterpolar"
           }
          ],
          "scatterpolargl": [
           {
            "marker": {
             "colorbar": {
              "outlinewidth": 0,
              "ticks": ""
             }
            },
            "type": "scatterpolargl"
           }
          ],
          "scatterternary": [
           {
            "marker": {
             "colorbar": {
              "outlinewidth": 0,
              "ticks": ""
             }
            },
            "type": "scatterternary"
           }
          ],
          "surface": [
           {
            "colorbar": {
             "outlinewidth": 0,
             "ticks": ""
            },
            "colorscale": [
             [
              0,
              "#0d0887"
             ],
             [
              0.1111111111111111,
              "#46039f"
             ],
             [
              0.2222222222222222,
              "#7201a8"
             ],
             [
              0.3333333333333333,
              "#9c179e"
             ],
             [
              0.4444444444444444,
              "#bd3786"
             ],
             [
              0.5555555555555556,
              "#d8576b"
             ],
             [
              0.6666666666666666,
              "#ed7953"
             ],
             [
              0.7777777777777778,
              "#fb9f3a"
             ],
             [
              0.8888888888888888,
              "#fdca26"
             ],
             [
              1,
              "#f0f921"
             ]
            ],
            "type": "surface"
           }
          ],
          "table": [
           {
            "cells": {
             "fill": {
              "color": "#EBF0F8"
             },
             "line": {
              "color": "white"
             }
            },
            "header": {
             "fill": {
              "color": "#C8D4E3"
             },
             "line": {
              "color": "white"
             }
            },
            "type": "table"
           }
          ]
         },
         "layout": {
          "annotationdefaults": {
           "arrowcolor": "#2a3f5f",
           "arrowhead": 0,
           "arrowwidth": 1
          },
          "autotypenumbers": "strict",
          "coloraxis": {
           "colorbar": {
            "outlinewidth": 0,
            "ticks": ""
           }
          },
          "colorscale": {
           "diverging": [
            [
             0,
             "#8e0152"
            ],
            [
             0.1,
             "#c51b7d"
            ],
            [
             0.2,
             "#de77ae"
            ],
            [
             0.3,
             "#f1b6da"
            ],
            [
             0.4,
             "#fde0ef"
            ],
            [
             0.5,
             "#f7f7f7"
            ],
            [
             0.6,
             "#e6f5d0"
            ],
            [
             0.7,
             "#b8e186"
            ],
            [
             0.8,
             "#7fbc41"
            ],
            [
             0.9,
             "#4d9221"
            ],
            [
             1,
             "#276419"
            ]
           ],
           "sequential": [
            [
             0,
             "#0d0887"
            ],
            [
             0.1111111111111111,
             "#46039f"
            ],
            [
             0.2222222222222222,
             "#7201a8"
            ],
            [
             0.3333333333333333,
             "#9c179e"
            ],
            [
             0.4444444444444444,
             "#bd3786"
            ],
            [
             0.5555555555555556,
             "#d8576b"
            ],
            [
             0.6666666666666666,
             "#ed7953"
            ],
            [
             0.7777777777777778,
             "#fb9f3a"
            ],
            [
             0.8888888888888888,
             "#fdca26"
            ],
            [
             1,
             "#f0f921"
            ]
           ],
           "sequentialminus": [
            [
             0,
             "#0d0887"
            ],
            [
             0.1111111111111111,
             "#46039f"
            ],
            [
             0.2222222222222222,
             "#7201a8"
            ],
            [
             0.3333333333333333,
             "#9c179e"
            ],
            [
             0.4444444444444444,
             "#bd3786"
            ],
            [
             0.5555555555555556,
             "#d8576b"
            ],
            [
             0.6666666666666666,
             "#ed7953"
            ],
            [
             0.7777777777777778,
             "#fb9f3a"
            ],
            [
             0.8888888888888888,
             "#fdca26"
            ],
            [
             1,
             "#f0f921"
            ]
           ]
          },
          "colorway": [
           "#636efa",
           "#EF553B",
           "#00cc96",
           "#ab63fa",
           "#FFA15A",
           "#19d3f3",
           "#FF6692",
           "#B6E880",
           "#FF97FF",
           "#FECB52"
          ],
          "font": {
           "color": "#2a3f5f"
          },
          "geo": {
           "bgcolor": "white",
           "lakecolor": "white",
           "landcolor": "#E5ECF6",
           "showlakes": true,
           "showland": true,
           "subunitcolor": "white"
          },
          "hoverlabel": {
           "align": "left"
          },
          "hovermode": "closest",
          "mapbox": {
           "style": "light"
          },
          "paper_bgcolor": "white",
          "plot_bgcolor": "#E5ECF6",
          "polar": {
           "angularaxis": {
            "gridcolor": "white",
            "linecolor": "white",
            "ticks": ""
           },
           "bgcolor": "#E5ECF6",
           "radialaxis": {
            "gridcolor": "white",
            "linecolor": "white",
            "ticks": ""
           }
          },
          "scene": {
           "xaxis": {
            "backgroundcolor": "#E5ECF6",
            "gridcolor": "white",
            "gridwidth": 2,
            "linecolor": "white",
            "showbackground": true,
            "ticks": "",
            "zerolinecolor": "white"
           },
           "yaxis": {
            "backgroundcolor": "#E5ECF6",
            "gridcolor": "white",
            "gridwidth": 2,
            "linecolor": "white",
            "showbackground": true,
            "ticks": "",
            "zerolinecolor": "white"
           },
           "zaxis": {
            "backgroundcolor": "#E5ECF6",
            "gridcolor": "white",
            "gridwidth": 2,
            "linecolor": "white",
            "showbackground": true,
            "ticks": "",
            "zerolinecolor": "white"
           }
          },
          "shapedefaults": {
           "line": {
            "color": "#2a3f5f"
           }
          },
          "ternary": {
           "aaxis": {
            "gridcolor": "white",
            "linecolor": "white",
            "ticks": ""
           },
           "baxis": {
            "gridcolor": "white",
            "linecolor": "white",
            "ticks": ""
           },
           "bgcolor": "#E5ECF6",
           "caxis": {
            "gridcolor": "white",
            "linecolor": "white",
            "ticks": ""
           }
          },
          "title": {
           "x": 0.05
          },
          "xaxis": {
           "automargin": true,
           "gridcolor": "white",
           "linecolor": "white",
           "ticks": "",
           "title": {
            "standoff": 15
           },
           "zerolinecolor": "white",
           "zerolinewidth": 2
          },
          "yaxis": {
           "automargin": true,
           "gridcolor": "white",
           "linecolor": "white",
           "ticks": "",
           "title": {
            "standoff": 15
           },
           "zerolinecolor": "white",
           "zerolinewidth": 2
          }
         }
        },
        "title": {
         "text": "% Neun+ Cells per Condition Location"
        },
        "xaxis": {
         "anchor": "y",
         "domain": [
          0,
          1
         ],
         "title": {
          "text": "Condition Location"
         }
        },
        "yaxis": {
         "anchor": "x",
         "domain": [
          0,
          1
         ],
         "title": {
          "text": "% Neun+ Cells"
         }
        }
       }
      }
     },
     "metadata": {},
     "output_type": "display_data"
    }
   ],
   "source": [
    "fig = px.box(\n",
    "    df,\n",
    "    x=\"condition_location\",\n",
    "    y=\"%_neun+_cells\",\n",
    "    color=\"condition\",\n",
    "    points=\"all\",\n",
    "    hover_data=[df.index, \"filename\", \"mouse_id\"],\n",
    "    title=\"% Neun+ Cells per Condition Location\",\n",
    "    labels={\"%_neun+_cells\": \"% Neun+ Cells\", \"condition_location\": \"Condition Location\"}\n",
    ")\n",
    "\n",
    "# Display the plot\n",
    "fig.show()"
   ]
  },
  {
   "cell_type": "code",
   "execution_count": 34,
   "metadata": {},
   "outputs": [
    {
     "data": {
      "application/vnd.plotly.v1+json": {
       "config": {
        "plotlyServerURL": "https://plot.ly"
       },
       "data": [
        {
         "alignmentgroup": "True",
         "boxpoints": "all",
         "customdata": [
          [
           0,
           "HI 1 Contralateral Mouse 8 Slide09 GAD67green NeuNpink Reelinred 40x 4x4 technical replica 1",
           8
          ],
          [
           1,
           "HI 1 Contralateral Mouse 8 Slide09 GAD67green NeuNpink Reelinred 40x 4x4 technical replica 2",
           8
          ],
          [
           2,
           "HI 1 Ipsilateral Mouse 8 Slide16 GAD67green NeuNpink Reelinred 40x 4x4 technical replica 1",
           8
          ],
          [
           3,
           "HI 1 Ipsilateral Mouse 8 Slide16 GAD67green NeuNpink Reelinred 40x 4x4 technical replica 2",
           8
          ],
          [
           4,
           "HI 2 Contralateral Mouse 10 Slide08 GAD67green NeuNpink Reelinred 40x 4x4 technical replica 1",
           10
          ],
          [
           5,
           "HI 2 Contralateral Mouse 10 Slide08 GAD67green NeuNpink Reelinred 40x 4x4 technical replica 2",
           10
          ],
          [
           6,
           "HI 2 Ipsilateral Mouse 10 Slide08 GAD67green NeuNpink Reelinred 40x 4x4 technical replica 1",
           10
          ],
          [
           7,
           "HI 2 Ipsilateral Mouse 10 Slide08 GAD67green NeuNpink Reelinred 40x 4x4 technical replica 2",
           10
          ],
          [
           8,
           "HI 3 Contralateral Mouse 11 Slide09 GAD67green NeuNpink Reelinred 40x 4x4 technical replica 1",
           11
          ],
          [
           9,
           "HI 3 Contralateral Mouse 11 Slide09 GAD67green NeuNpink Reelinred 40x 4x4 technical replica 2",
           11
          ],
          [
           10,
           "HI 3 Ipsilateral Mouse 11 Slide09 GAD67green NeuNpink Reelinred 40x 4x4 technical replica 1",
           11
          ],
          [
           11,
           "HI 3 Ipsilateral Mouse 11 Slide09 GAD67green NeuNpink Reelinred 40x 4x4 technical replica 2",
           11
          ]
         ],
         "hovertemplate": "condition=HI<br>Condition Location=%{x}<br>% Reelin+ Cells=%{y}<br>index=%{customdata[0]}<br>filename=%{customdata[1]}<br>mouse_id=%{customdata[2]}<extra></extra>",
         "legendgroup": "HI",
         "marker": {
          "color": "#636efa"
         },
         "name": "HI",
         "notched": false,
         "offsetgroup": "HI",
         "orientation": "v",
         "showlegend": true,
         "type": "box",
         "x": [
          "HI_Contralateral",
          "HI_Contralateral",
          "HI_Ipsilateral",
          "HI_Ipsilateral",
          "HI_Contralateral",
          "HI_Contralateral",
          "HI_Ipsilateral",
          "HI_Ipsilateral",
          "HI_Contralateral",
          "HI_Contralateral",
          "HI_Ipsilateral",
          "HI_Ipsilateral"
         ],
         "x0": " ",
         "xaxis": "x",
         "y": [
          2.0962566844919786,
          2.1584198737528,
          3.03536619326093,
          7.037730800107037,
          2.89966641005902,
          2.830891482493171,
          1.823558403154263,
          2.686953706701198,
          2.7390900649953576,
          3.0150753768844223,
          2.3696682464454977,
          2.642960115329169
         ],
         "y0": " ",
         "yaxis": "y"
        },
        {
         "alignmentgroup": "True",
         "boxpoints": "all",
         "customdata": [
          [
           13,
           "Sham 1 Contralateral Mouse 6 Slide09 GAD67green NeuNpink Reelinred 40x 4x4 technical replica 2",
           6
          ],
          [
           14,
           "Sham 1 Ipsilateral Mouse 6 Slide09 GAD67green NeuNpink Reelinred 40x 4x4 technical replica 1",
           6
          ],
          [
           15,
           "Sham 1 Ipsilateral Mouse 6 Slide09 GAD67green NeuNpink Reelinred 40x 4x4 technical replica 2",
           6
          ],
          [
           16,
           "Sham 2 Contralateral Mouse 7 Slide12 GAD67green NeuNpink Reelinred 40x 4x4 technical replica 1",
           7
          ],
          [
           17,
           "Sham 2 Contralateral Mouse 7 Slide12 GAD67green NeuNpink Reelinred 40x 4x4 technical replica 2",
           7
          ],
          [
           18,
           "Sham 2 Ipsilateral Mouse 7 Slide12 GAD67green NeuNpink Reelinred 40x 4x4 technical replica 1",
           7
          ],
          [
           19,
           "Sham 2 Ipsilateral Mouse 7 Slide12 GAD67green NeuNpink Reelinred 40x 4x4 technical replica 2",
           7
          ]
         ],
         "hovertemplate": "condition=Sham<br>Condition Location=%{x}<br>% Reelin+ Cells=%{y}<br>index=%{customdata[0]}<br>filename=%{customdata[1]}<br>mouse_id=%{customdata[2]}<extra></extra>",
         "legendgroup": "Sham",
         "marker": {
          "color": "#EF553B"
         },
         "name": "Sham",
         "notched": false,
         "offsetgroup": "Sham",
         "orientation": "v",
         "showlegend": true,
         "type": "box",
         "x": [
          "Sham",
          "Sham",
          "Sham",
          "Sham",
          "Sham",
          "Sham",
          "Sham"
         ],
         "x0": " ",
         "xaxis": "x",
         "y": [
          1.6414141414141414,
          2.2071307300509337,
          1.103129810159056,
          3.117636396592351,
          2.2427666495463106,
          2.2880539499036607,
          3.532064128256513
         ],
         "y0": " ",
         "yaxis": "y"
        }
       ],
       "layout": {
        "boxmode": "group",
        "legend": {
         "title": {
          "text": "condition"
         },
         "tracegroupgap": 0
        },
        "template": {
         "data": {
          "bar": [
           {
            "error_x": {
             "color": "#2a3f5f"
            },
            "error_y": {
             "color": "#2a3f5f"
            },
            "marker": {
             "line": {
              "color": "#E5ECF6",
              "width": 0.5
             },
             "pattern": {
              "fillmode": "overlay",
              "size": 10,
              "solidity": 0.2
             }
            },
            "type": "bar"
           }
          ],
          "barpolar": [
           {
            "marker": {
             "line": {
              "color": "#E5ECF6",
              "width": 0.5
             },
             "pattern": {
              "fillmode": "overlay",
              "size": 10,
              "solidity": 0.2
             }
            },
            "type": "barpolar"
           }
          ],
          "carpet": [
           {
            "aaxis": {
             "endlinecolor": "#2a3f5f",
             "gridcolor": "white",
             "linecolor": "white",
             "minorgridcolor": "white",
             "startlinecolor": "#2a3f5f"
            },
            "baxis": {
             "endlinecolor": "#2a3f5f",
             "gridcolor": "white",
             "linecolor": "white",
             "minorgridcolor": "white",
             "startlinecolor": "#2a3f5f"
            },
            "type": "carpet"
           }
          ],
          "choropleth": [
           {
            "colorbar": {
             "outlinewidth": 0,
             "ticks": ""
            },
            "type": "choropleth"
           }
          ],
          "contour": [
           {
            "colorbar": {
             "outlinewidth": 0,
             "ticks": ""
            },
            "colorscale": [
             [
              0,
              "#0d0887"
             ],
             [
              0.1111111111111111,
              "#46039f"
             ],
             [
              0.2222222222222222,
              "#7201a8"
             ],
             [
              0.3333333333333333,
              "#9c179e"
             ],
             [
              0.4444444444444444,
              "#bd3786"
             ],
             [
              0.5555555555555556,
              "#d8576b"
             ],
             [
              0.6666666666666666,
              "#ed7953"
             ],
             [
              0.7777777777777778,
              "#fb9f3a"
             ],
             [
              0.8888888888888888,
              "#fdca26"
             ],
             [
              1,
              "#f0f921"
             ]
            ],
            "type": "contour"
           }
          ],
          "contourcarpet": [
           {
            "colorbar": {
             "outlinewidth": 0,
             "ticks": ""
            },
            "type": "contourcarpet"
           }
          ],
          "heatmap": [
           {
            "colorbar": {
             "outlinewidth": 0,
             "ticks": ""
            },
            "colorscale": [
             [
              0,
              "#0d0887"
             ],
             [
              0.1111111111111111,
              "#46039f"
             ],
             [
              0.2222222222222222,
              "#7201a8"
             ],
             [
              0.3333333333333333,
              "#9c179e"
             ],
             [
              0.4444444444444444,
              "#bd3786"
             ],
             [
              0.5555555555555556,
              "#d8576b"
             ],
             [
              0.6666666666666666,
              "#ed7953"
             ],
             [
              0.7777777777777778,
              "#fb9f3a"
             ],
             [
              0.8888888888888888,
              "#fdca26"
             ],
             [
              1,
              "#f0f921"
             ]
            ],
            "type": "heatmap"
           }
          ],
          "heatmapgl": [
           {
            "colorbar": {
             "outlinewidth": 0,
             "ticks": ""
            },
            "colorscale": [
             [
              0,
              "#0d0887"
             ],
             [
              0.1111111111111111,
              "#46039f"
             ],
             [
              0.2222222222222222,
              "#7201a8"
             ],
             [
              0.3333333333333333,
              "#9c179e"
             ],
             [
              0.4444444444444444,
              "#bd3786"
             ],
             [
              0.5555555555555556,
              "#d8576b"
             ],
             [
              0.6666666666666666,
              "#ed7953"
             ],
             [
              0.7777777777777778,
              "#fb9f3a"
             ],
             [
              0.8888888888888888,
              "#fdca26"
             ],
             [
              1,
              "#f0f921"
             ]
            ],
            "type": "heatmapgl"
           }
          ],
          "histogram": [
           {
            "marker": {
             "pattern": {
              "fillmode": "overlay",
              "size": 10,
              "solidity": 0.2
             }
            },
            "type": "histogram"
           }
          ],
          "histogram2d": [
           {
            "colorbar": {
             "outlinewidth": 0,
             "ticks": ""
            },
            "colorscale": [
             [
              0,
              "#0d0887"
             ],
             [
              0.1111111111111111,
              "#46039f"
             ],
             [
              0.2222222222222222,
              "#7201a8"
             ],
             [
              0.3333333333333333,
              "#9c179e"
             ],
             [
              0.4444444444444444,
              "#bd3786"
             ],
             [
              0.5555555555555556,
              "#d8576b"
             ],
             [
              0.6666666666666666,
              "#ed7953"
             ],
             [
              0.7777777777777778,
              "#fb9f3a"
             ],
             [
              0.8888888888888888,
              "#fdca26"
             ],
             [
              1,
              "#f0f921"
             ]
            ],
            "type": "histogram2d"
           }
          ],
          "histogram2dcontour": [
           {
            "colorbar": {
             "outlinewidth": 0,
             "ticks": ""
            },
            "colorscale": [
             [
              0,
              "#0d0887"
             ],
             [
              0.1111111111111111,
              "#46039f"
             ],
             [
              0.2222222222222222,
              "#7201a8"
             ],
             [
              0.3333333333333333,
              "#9c179e"
             ],
             [
              0.4444444444444444,
              "#bd3786"
             ],
             [
              0.5555555555555556,
              "#d8576b"
             ],
             [
              0.6666666666666666,
              "#ed7953"
             ],
             [
              0.7777777777777778,
              "#fb9f3a"
             ],
             [
              0.8888888888888888,
              "#fdca26"
             ],
             [
              1,
              "#f0f921"
             ]
            ],
            "type": "histogram2dcontour"
           }
          ],
          "mesh3d": [
           {
            "colorbar": {
             "outlinewidth": 0,
             "ticks": ""
            },
            "type": "mesh3d"
           }
          ],
          "parcoords": [
           {
            "line": {
             "colorbar": {
              "outlinewidth": 0,
              "ticks": ""
             }
            },
            "type": "parcoords"
           }
          ],
          "pie": [
           {
            "automargin": true,
            "type": "pie"
           }
          ],
          "scatter": [
           {
            "fillpattern": {
             "fillmode": "overlay",
             "size": 10,
             "solidity": 0.2
            },
            "type": "scatter"
           }
          ],
          "scatter3d": [
           {
            "line": {
             "colorbar": {
              "outlinewidth": 0,
              "ticks": ""
             }
            },
            "marker": {
             "colorbar": {
              "outlinewidth": 0,
              "ticks": ""
             }
            },
            "type": "scatter3d"
           }
          ],
          "scattercarpet": [
           {
            "marker": {
             "colorbar": {
              "outlinewidth": 0,
              "ticks": ""
             }
            },
            "type": "scattercarpet"
           }
          ],
          "scattergeo": [
           {
            "marker": {
             "colorbar": {
              "outlinewidth": 0,
              "ticks": ""
             }
            },
            "type": "scattergeo"
           }
          ],
          "scattergl": [
           {
            "marker": {
             "colorbar": {
              "outlinewidth": 0,
              "ticks": ""
             }
            },
            "type": "scattergl"
           }
          ],
          "scattermapbox": [
           {
            "marker": {
             "colorbar": {
              "outlinewidth": 0,
              "ticks": ""
             }
            },
            "type": "scattermapbox"
           }
          ],
          "scatterpolar": [
           {
            "marker": {
             "colorbar": {
              "outlinewidth": 0,
              "ticks": ""
             }
            },
            "type": "scatterpolar"
           }
          ],
          "scatterpolargl": [
           {
            "marker": {
             "colorbar": {
              "outlinewidth": 0,
              "ticks": ""
             }
            },
            "type": "scatterpolargl"
           }
          ],
          "scatterternary": [
           {
            "marker": {
             "colorbar": {
              "outlinewidth": 0,
              "ticks": ""
             }
            },
            "type": "scatterternary"
           }
          ],
          "surface": [
           {
            "colorbar": {
             "outlinewidth": 0,
             "ticks": ""
            },
            "colorscale": [
             [
              0,
              "#0d0887"
             ],
             [
              0.1111111111111111,
              "#46039f"
             ],
             [
              0.2222222222222222,
              "#7201a8"
             ],
             [
              0.3333333333333333,
              "#9c179e"
             ],
             [
              0.4444444444444444,
              "#bd3786"
             ],
             [
              0.5555555555555556,
              "#d8576b"
             ],
             [
              0.6666666666666666,
              "#ed7953"
             ],
             [
              0.7777777777777778,
              "#fb9f3a"
             ],
             [
              0.8888888888888888,
              "#fdca26"
             ],
             [
              1,
              "#f0f921"
             ]
            ],
            "type": "surface"
           }
          ],
          "table": [
           {
            "cells": {
             "fill": {
              "color": "#EBF0F8"
             },
             "line": {
              "color": "white"
             }
            },
            "header": {
             "fill": {
              "color": "#C8D4E3"
             },
             "line": {
              "color": "white"
             }
            },
            "type": "table"
           }
          ]
         },
         "layout": {
          "annotationdefaults": {
           "arrowcolor": "#2a3f5f",
           "arrowhead": 0,
           "arrowwidth": 1
          },
          "autotypenumbers": "strict",
          "coloraxis": {
           "colorbar": {
            "outlinewidth": 0,
            "ticks": ""
           }
          },
          "colorscale": {
           "diverging": [
            [
             0,
             "#8e0152"
            ],
            [
             0.1,
             "#c51b7d"
            ],
            [
             0.2,
             "#de77ae"
            ],
            [
             0.3,
             "#f1b6da"
            ],
            [
             0.4,
             "#fde0ef"
            ],
            [
             0.5,
             "#f7f7f7"
            ],
            [
             0.6,
             "#e6f5d0"
            ],
            [
             0.7,
             "#b8e186"
            ],
            [
             0.8,
             "#7fbc41"
            ],
            [
             0.9,
             "#4d9221"
            ],
            [
             1,
             "#276419"
            ]
           ],
           "sequential": [
            [
             0,
             "#0d0887"
            ],
            [
             0.1111111111111111,
             "#46039f"
            ],
            [
             0.2222222222222222,
             "#7201a8"
            ],
            [
             0.3333333333333333,
             "#9c179e"
            ],
            [
             0.4444444444444444,
             "#bd3786"
            ],
            [
             0.5555555555555556,
             "#d8576b"
            ],
            [
             0.6666666666666666,
             "#ed7953"
            ],
            [
             0.7777777777777778,
             "#fb9f3a"
            ],
            [
             0.8888888888888888,
             "#fdca26"
            ],
            [
             1,
             "#f0f921"
            ]
           ],
           "sequentialminus": [
            [
             0,
             "#0d0887"
            ],
            [
             0.1111111111111111,
             "#46039f"
            ],
            [
             0.2222222222222222,
             "#7201a8"
            ],
            [
             0.3333333333333333,
             "#9c179e"
            ],
            [
             0.4444444444444444,
             "#bd3786"
            ],
            [
             0.5555555555555556,
             "#d8576b"
            ],
            [
             0.6666666666666666,
             "#ed7953"
            ],
            [
             0.7777777777777778,
             "#fb9f3a"
            ],
            [
             0.8888888888888888,
             "#fdca26"
            ],
            [
             1,
             "#f0f921"
            ]
           ]
          },
          "colorway": [
           "#636efa",
           "#EF553B",
           "#00cc96",
           "#ab63fa",
           "#FFA15A",
           "#19d3f3",
           "#FF6692",
           "#B6E880",
           "#FF97FF",
           "#FECB52"
          ],
          "font": {
           "color": "#2a3f5f"
          },
          "geo": {
           "bgcolor": "white",
           "lakecolor": "white",
           "landcolor": "#E5ECF6",
           "showlakes": true,
           "showland": true,
           "subunitcolor": "white"
          },
          "hoverlabel": {
           "align": "left"
          },
          "hovermode": "closest",
          "mapbox": {
           "style": "light"
          },
          "paper_bgcolor": "white",
          "plot_bgcolor": "#E5ECF6",
          "polar": {
           "angularaxis": {
            "gridcolor": "white",
            "linecolor": "white",
            "ticks": ""
           },
           "bgcolor": "#E5ECF6",
           "radialaxis": {
            "gridcolor": "white",
            "linecolor": "white",
            "ticks": ""
           }
          },
          "scene": {
           "xaxis": {
            "backgroundcolor": "#E5ECF6",
            "gridcolor": "white",
            "gridwidth": 2,
            "linecolor": "white",
            "showbackground": true,
            "ticks": "",
            "zerolinecolor": "white"
           },
           "yaxis": {
            "backgroundcolor": "#E5ECF6",
            "gridcolor": "white",
            "gridwidth": 2,
            "linecolor": "white",
            "showbackground": true,
            "ticks": "",
            "zerolinecolor": "white"
           },
           "zaxis": {
            "backgroundcolor": "#E5ECF6",
            "gridcolor": "white",
            "gridwidth": 2,
            "linecolor": "white",
            "showbackground": true,
            "ticks": "",
            "zerolinecolor": "white"
           }
          },
          "shapedefaults": {
           "line": {
            "color": "#2a3f5f"
           }
          },
          "ternary": {
           "aaxis": {
            "gridcolor": "white",
            "linecolor": "white",
            "ticks": ""
           },
           "baxis": {
            "gridcolor": "white",
            "linecolor": "white",
            "ticks": ""
           },
           "bgcolor": "#E5ECF6",
           "caxis": {
            "gridcolor": "white",
            "linecolor": "white",
            "ticks": ""
           }
          },
          "title": {
           "x": 0.05
          },
          "xaxis": {
           "automargin": true,
           "gridcolor": "white",
           "linecolor": "white",
           "ticks": "",
           "title": {
            "standoff": 15
           },
           "zerolinecolor": "white",
           "zerolinewidth": 2
          },
          "yaxis": {
           "automargin": true,
           "gridcolor": "white",
           "linecolor": "white",
           "ticks": "",
           "title": {
            "standoff": 15
           },
           "zerolinecolor": "white",
           "zerolinewidth": 2
          }
         }
        },
        "title": {
         "text": "% Reelin+ Cells per Condition Location"
        },
        "xaxis": {
         "anchor": "y",
         "domain": [
          0,
          1
         ],
         "title": {
          "text": "Condition Location"
         }
        },
        "yaxis": {
         "anchor": "x",
         "domain": [
          0,
          1
         ],
         "title": {
          "text": "% Reelin+ Cells"
         }
        }
       }
      }
     },
     "metadata": {},
     "output_type": "display_data"
    }
   ],
   "source": [
    "fig = px.box(\n",
    "    df,\n",
    "    x=\"condition_location\",\n",
    "    y=\"%_reelin+_cells\",\n",
    "    color=\"condition\",\n",
    "    points=\"all\",\n",
    "    hover_data=[df.index, \"filename\", \"mouse_id\"],\n",
    "    title=\"% Reelin+ Cells per Condition Location\",\n",
    "    labels={\"%_reelin+_cells\": \"% Reelin+ Cells\", \"condition_location\": \"Condition Location\"}\n",
    ")\n",
    "\n",
    "# Display the plot\n",
    "fig.show()"
   ]
  },
  {
   "cell_type": "code",
   "execution_count": 35,
   "metadata": {},
   "outputs": [
    {
     "data": {
      "application/vnd.plotly.v1+json": {
       "config": {
        "plotlyServerURL": "https://plot.ly"
       },
       "data": [
        {
         "alignmentgroup": "True",
         "boxpoints": "all",
         "customdata": [
          [
           0,
           "HI 1 Contralateral Mouse 8 Slide09 GAD67green NeuNpink Reelinred 40x 4x4 technical replica 1",
           8
          ],
          [
           1,
           "HI 1 Contralateral Mouse 8 Slide09 GAD67green NeuNpink Reelinred 40x 4x4 technical replica 2",
           8
          ],
          [
           2,
           "HI 1 Ipsilateral Mouse 8 Slide16 GAD67green NeuNpink Reelinred 40x 4x4 technical replica 1",
           8
          ],
          [
           3,
           "HI 1 Ipsilateral Mouse 8 Slide16 GAD67green NeuNpink Reelinred 40x 4x4 technical replica 2",
           8
          ],
          [
           4,
           "HI 2 Contralateral Mouse 10 Slide08 GAD67green NeuNpink Reelinred 40x 4x4 technical replica 1",
           10
          ],
          [
           5,
           "HI 2 Contralateral Mouse 10 Slide08 GAD67green NeuNpink Reelinred 40x 4x4 technical replica 2",
           10
          ],
          [
           6,
           "HI 2 Ipsilateral Mouse 10 Slide08 GAD67green NeuNpink Reelinred 40x 4x4 technical replica 1",
           10
          ],
          [
           7,
           "HI 2 Ipsilateral Mouse 10 Slide08 GAD67green NeuNpink Reelinred 40x 4x4 technical replica 2",
           10
          ],
          [
           8,
           "HI 3 Contralateral Mouse 11 Slide09 GAD67green NeuNpink Reelinred 40x 4x4 technical replica 1",
           11
          ],
          [
           9,
           "HI 3 Contralateral Mouse 11 Slide09 GAD67green NeuNpink Reelinred 40x 4x4 technical replica 2",
           11
          ],
          [
           10,
           "HI 3 Ipsilateral Mouse 11 Slide09 GAD67green NeuNpink Reelinred 40x 4x4 technical replica 1",
           11
          ],
          [
           11,
           "HI 3 Ipsilateral Mouse 11 Slide09 GAD67green NeuNpink Reelinred 40x 4x4 technical replica 2",
           11
          ]
         ],
         "hovertemplate": "condition=HI<br>Condition Location=%{x}<br>% GAD67+ Cells=%{y}<br>index=%{customdata[0]}<br>filename=%{customdata[1]}<br>mouse_id=%{customdata[2]}<extra></extra>",
         "legendgroup": "HI",
         "marker": {
          "color": "#636efa"
         },
         "name": "HI",
         "notched": false,
         "offsetgroup": "HI",
         "orientation": "v",
         "showlegend": true,
         "type": "box",
         "x": [
          "HI_Contralateral",
          "HI_Contralateral",
          "HI_Ipsilateral",
          "HI_Ipsilateral",
          "HI_Contralateral",
          "HI_Contralateral",
          "HI_Ipsilateral",
          "HI_Ipsilateral",
          "HI_Contralateral",
          "HI_Contralateral",
          "HI_Ipsilateral",
          "HI_Ipsilateral"
         ],
         "x0": " ",
         "xaxis": "x",
         "y": [
          0.6844919786096256,
          0.8144980655670943,
          3.2024505708716235,
          4.335028097404335,
          0.8981267641775725,
          2.259746709709461,
          0.4435682602267126,
          0.7769504694075753,
          1.1142061281337048,
          0.7865414026655014,
          0.5854474491218288,
          0.1681883709754925
         ],
         "y0": " ",
         "yaxis": "y"
        },
        {
         "alignmentgroup": "True",
         "boxpoints": "all",
         "customdata": [
          [
           13,
           "Sham 1 Contralateral Mouse 6 Slide09 GAD67green NeuNpink Reelinred 40x 4x4 technical replica 2",
           6
          ],
          [
           14,
           "Sham 1 Ipsilateral Mouse 6 Slide09 GAD67green NeuNpink Reelinred 40x 4x4 technical replica 1",
           6
          ],
          [
           15,
           "Sham 1 Ipsilateral Mouse 6 Slide09 GAD67green NeuNpink Reelinred 40x 4x4 technical replica 2",
           6
          ],
          [
           16,
           "Sham 2 Contralateral Mouse 7 Slide12 GAD67green NeuNpink Reelinred 40x 4x4 technical replica 1",
           7
          ],
          [
           17,
           "Sham 2 Contralateral Mouse 7 Slide12 GAD67green NeuNpink Reelinred 40x 4x4 technical replica 2",
           7
          ],
          [
           18,
           "Sham 2 Ipsilateral Mouse 7 Slide12 GAD67green NeuNpink Reelinred 40x 4x4 technical replica 1",
           7
          ],
          [
           19,
           "Sham 2 Ipsilateral Mouse 7 Slide12 GAD67green NeuNpink Reelinred 40x 4x4 technical replica 2",
           7
          ]
         ],
         "hovertemplate": "condition=Sham<br>Condition Location=%{x}<br>% GAD67+ Cells=%{y}<br>index=%{customdata[0]}<br>filename=%{customdata[1]}<br>mouse_id=%{customdata[2]}<extra></extra>",
         "legendgroup": "Sham",
         "marker": {
          "color": "#EF553B"
         },
         "name": "Sham",
         "notched": false,
         "offsetgroup": "Sham",
         "orientation": "v",
         "showlegend": true,
         "type": "box",
         "x": [
          "Sham",
          "Sham",
          "Sham",
          "Sham",
          "Sham",
          "Sham",
          "Sham"
         ],
         "x0": " ",
         "xaxis": "x",
         "y": [
          0.6565656565656566,
          3.007518796992481,
          0.6670087224217548,
          0.9787928221859706,
          0.2910460537579181,
          0.5298651252408478,
          1.377755511022044
         ],
         "y0": " ",
         "yaxis": "y"
        }
       ],
       "layout": {
        "boxmode": "group",
        "legend": {
         "title": {
          "text": "condition"
         },
         "tracegroupgap": 0
        },
        "template": {
         "data": {
          "bar": [
           {
            "error_x": {
             "color": "#2a3f5f"
            },
            "error_y": {
             "color": "#2a3f5f"
            },
            "marker": {
             "line": {
              "color": "#E5ECF6",
              "width": 0.5
             },
             "pattern": {
              "fillmode": "overlay",
              "size": 10,
              "solidity": 0.2
             }
            },
            "type": "bar"
           }
          ],
          "barpolar": [
           {
            "marker": {
             "line": {
              "color": "#E5ECF6",
              "width": 0.5
             },
             "pattern": {
              "fillmode": "overlay",
              "size": 10,
              "solidity": 0.2
             }
            },
            "type": "barpolar"
           }
          ],
          "carpet": [
           {
            "aaxis": {
             "endlinecolor": "#2a3f5f",
             "gridcolor": "white",
             "linecolor": "white",
             "minorgridcolor": "white",
             "startlinecolor": "#2a3f5f"
            },
            "baxis": {
             "endlinecolor": "#2a3f5f",
             "gridcolor": "white",
             "linecolor": "white",
             "minorgridcolor": "white",
             "startlinecolor": "#2a3f5f"
            },
            "type": "carpet"
           }
          ],
          "choropleth": [
           {
            "colorbar": {
             "outlinewidth": 0,
             "ticks": ""
            },
            "type": "choropleth"
           }
          ],
          "contour": [
           {
            "colorbar": {
             "outlinewidth": 0,
             "ticks": ""
            },
            "colorscale": [
             [
              0,
              "#0d0887"
             ],
             [
              0.1111111111111111,
              "#46039f"
             ],
             [
              0.2222222222222222,
              "#7201a8"
             ],
             [
              0.3333333333333333,
              "#9c179e"
             ],
             [
              0.4444444444444444,
              "#bd3786"
             ],
             [
              0.5555555555555556,
              "#d8576b"
             ],
             [
              0.6666666666666666,
              "#ed7953"
             ],
             [
              0.7777777777777778,
              "#fb9f3a"
             ],
             [
              0.8888888888888888,
              "#fdca26"
             ],
             [
              1,
              "#f0f921"
             ]
            ],
            "type": "contour"
           }
          ],
          "contourcarpet": [
           {
            "colorbar": {
             "outlinewidth": 0,
             "ticks": ""
            },
            "type": "contourcarpet"
           }
          ],
          "heatmap": [
           {
            "colorbar": {
             "outlinewidth": 0,
             "ticks": ""
            },
            "colorscale": [
             [
              0,
              "#0d0887"
             ],
             [
              0.1111111111111111,
              "#46039f"
             ],
             [
              0.2222222222222222,
              "#7201a8"
             ],
             [
              0.3333333333333333,
              "#9c179e"
             ],
             [
              0.4444444444444444,
              "#bd3786"
             ],
             [
              0.5555555555555556,
              "#d8576b"
             ],
             [
              0.6666666666666666,
              "#ed7953"
             ],
             [
              0.7777777777777778,
              "#fb9f3a"
             ],
             [
              0.8888888888888888,
              "#fdca26"
             ],
             [
              1,
              "#f0f921"
             ]
            ],
            "type": "heatmap"
           }
          ],
          "heatmapgl": [
           {
            "colorbar": {
             "outlinewidth": 0,
             "ticks": ""
            },
            "colorscale": [
             [
              0,
              "#0d0887"
             ],
             [
              0.1111111111111111,
              "#46039f"
             ],
             [
              0.2222222222222222,
              "#7201a8"
             ],
             [
              0.3333333333333333,
              "#9c179e"
             ],
             [
              0.4444444444444444,
              "#bd3786"
             ],
             [
              0.5555555555555556,
              "#d8576b"
             ],
             [
              0.6666666666666666,
              "#ed7953"
             ],
             [
              0.7777777777777778,
              "#fb9f3a"
             ],
             [
              0.8888888888888888,
              "#fdca26"
             ],
             [
              1,
              "#f0f921"
             ]
            ],
            "type": "heatmapgl"
           }
          ],
          "histogram": [
           {
            "marker": {
             "pattern": {
              "fillmode": "overlay",
              "size": 10,
              "solidity": 0.2
             }
            },
            "type": "histogram"
           }
          ],
          "histogram2d": [
           {
            "colorbar": {
             "outlinewidth": 0,
             "ticks": ""
            },
            "colorscale": [
             [
              0,
              "#0d0887"
             ],
             [
              0.1111111111111111,
              "#46039f"
             ],
             [
              0.2222222222222222,
              "#7201a8"
             ],
             [
              0.3333333333333333,
              "#9c179e"
             ],
             [
              0.4444444444444444,
              "#bd3786"
             ],
             [
              0.5555555555555556,
              "#d8576b"
             ],
             [
              0.6666666666666666,
              "#ed7953"
             ],
             [
              0.7777777777777778,
              "#fb9f3a"
             ],
             [
              0.8888888888888888,
              "#fdca26"
             ],
             [
              1,
              "#f0f921"
             ]
            ],
            "type": "histogram2d"
           }
          ],
          "histogram2dcontour": [
           {
            "colorbar": {
             "outlinewidth": 0,
             "ticks": ""
            },
            "colorscale": [
             [
              0,
              "#0d0887"
             ],
             [
              0.1111111111111111,
              "#46039f"
             ],
             [
              0.2222222222222222,
              "#7201a8"
             ],
             [
              0.3333333333333333,
              "#9c179e"
             ],
             [
              0.4444444444444444,
              "#bd3786"
             ],
             [
              0.5555555555555556,
              "#d8576b"
             ],
             [
              0.6666666666666666,
              "#ed7953"
             ],
             [
              0.7777777777777778,
              "#fb9f3a"
             ],
             [
              0.8888888888888888,
              "#fdca26"
             ],
             [
              1,
              "#f0f921"
             ]
            ],
            "type": "histogram2dcontour"
           }
          ],
          "mesh3d": [
           {
            "colorbar": {
             "outlinewidth": 0,
             "ticks": ""
            },
            "type": "mesh3d"
           }
          ],
          "parcoords": [
           {
            "line": {
             "colorbar": {
              "outlinewidth": 0,
              "ticks": ""
             }
            },
            "type": "parcoords"
           }
          ],
          "pie": [
           {
            "automargin": true,
            "type": "pie"
           }
          ],
          "scatter": [
           {
            "fillpattern": {
             "fillmode": "overlay",
             "size": 10,
             "solidity": 0.2
            },
            "type": "scatter"
           }
          ],
          "scatter3d": [
           {
            "line": {
             "colorbar": {
              "outlinewidth": 0,
              "ticks": ""
             }
            },
            "marker": {
             "colorbar": {
              "outlinewidth": 0,
              "ticks": ""
             }
            },
            "type": "scatter3d"
           }
          ],
          "scattercarpet": [
           {
            "marker": {
             "colorbar": {
              "outlinewidth": 0,
              "ticks": ""
             }
            },
            "type": "scattercarpet"
           }
          ],
          "scattergeo": [
           {
            "marker": {
             "colorbar": {
              "outlinewidth": 0,
              "ticks": ""
             }
            },
            "type": "scattergeo"
           }
          ],
          "scattergl": [
           {
            "marker": {
             "colorbar": {
              "outlinewidth": 0,
              "ticks": ""
             }
            },
            "type": "scattergl"
           }
          ],
          "scattermapbox": [
           {
            "marker": {
             "colorbar": {
              "outlinewidth": 0,
              "ticks": ""
             }
            },
            "type": "scattermapbox"
           }
          ],
          "scatterpolar": [
           {
            "marker": {
             "colorbar": {
              "outlinewidth": 0,
              "ticks": ""
             }
            },
            "type": "scatterpolar"
           }
          ],
          "scatterpolargl": [
           {
            "marker": {
             "colorbar": {
              "outlinewidth": 0,
              "ticks": ""
             }
            },
            "type": "scatterpolargl"
           }
          ],
          "scatterternary": [
           {
            "marker": {
             "colorbar": {
              "outlinewidth": 0,
              "ticks": ""
             }
            },
            "type": "scatterternary"
           }
          ],
          "surface": [
           {
            "colorbar": {
             "outlinewidth": 0,
             "ticks": ""
            },
            "colorscale": [
             [
              0,
              "#0d0887"
             ],
             [
              0.1111111111111111,
              "#46039f"
             ],
             [
              0.2222222222222222,
              "#7201a8"
             ],
             [
              0.3333333333333333,
              "#9c179e"
             ],
             [
              0.4444444444444444,
              "#bd3786"
             ],
             [
              0.5555555555555556,
              "#d8576b"
             ],
             [
              0.6666666666666666,
              "#ed7953"
             ],
             [
              0.7777777777777778,
              "#fb9f3a"
             ],
             [
              0.8888888888888888,
              "#fdca26"
             ],
             [
              1,
              "#f0f921"
             ]
            ],
            "type": "surface"
           }
          ],
          "table": [
           {
            "cells": {
             "fill": {
              "color": "#EBF0F8"
             },
             "line": {
              "color": "white"
             }
            },
            "header": {
             "fill": {
              "color": "#C8D4E3"
             },
             "line": {
              "color": "white"
             }
            },
            "type": "table"
           }
          ]
         },
         "layout": {
          "annotationdefaults": {
           "arrowcolor": "#2a3f5f",
           "arrowhead": 0,
           "arrowwidth": 1
          },
          "autotypenumbers": "strict",
          "coloraxis": {
           "colorbar": {
            "outlinewidth": 0,
            "ticks": ""
           }
          },
          "colorscale": {
           "diverging": [
            [
             0,
             "#8e0152"
            ],
            [
             0.1,
             "#c51b7d"
            ],
            [
             0.2,
             "#de77ae"
            ],
            [
             0.3,
             "#f1b6da"
            ],
            [
             0.4,
             "#fde0ef"
            ],
            [
             0.5,
             "#f7f7f7"
            ],
            [
             0.6,
             "#e6f5d0"
            ],
            [
             0.7,
             "#b8e186"
            ],
            [
             0.8,
             "#7fbc41"
            ],
            [
             0.9,
             "#4d9221"
            ],
            [
             1,
             "#276419"
            ]
           ],
           "sequential": [
            [
             0,
             "#0d0887"
            ],
            [
             0.1111111111111111,
             "#46039f"
            ],
            [
             0.2222222222222222,
             "#7201a8"
            ],
            [
             0.3333333333333333,
             "#9c179e"
            ],
            [
             0.4444444444444444,
             "#bd3786"
            ],
            [
             0.5555555555555556,
             "#d8576b"
            ],
            [
             0.6666666666666666,
             "#ed7953"
            ],
            [
             0.7777777777777778,
             "#fb9f3a"
            ],
            [
             0.8888888888888888,
             "#fdca26"
            ],
            [
             1,
             "#f0f921"
            ]
           ],
           "sequentialminus": [
            [
             0,
             "#0d0887"
            ],
            [
             0.1111111111111111,
             "#46039f"
            ],
            [
             0.2222222222222222,
             "#7201a8"
            ],
            [
             0.3333333333333333,
             "#9c179e"
            ],
            [
             0.4444444444444444,
             "#bd3786"
            ],
            [
             0.5555555555555556,
             "#d8576b"
            ],
            [
             0.6666666666666666,
             "#ed7953"
            ],
            [
             0.7777777777777778,
             "#fb9f3a"
            ],
            [
             0.8888888888888888,
             "#fdca26"
            ],
            [
             1,
             "#f0f921"
            ]
           ]
          },
          "colorway": [
           "#636efa",
           "#EF553B",
           "#00cc96",
           "#ab63fa",
           "#FFA15A",
           "#19d3f3",
           "#FF6692",
           "#B6E880",
           "#FF97FF",
           "#FECB52"
          ],
          "font": {
           "color": "#2a3f5f"
          },
          "geo": {
           "bgcolor": "white",
           "lakecolor": "white",
           "landcolor": "#E5ECF6",
           "showlakes": true,
           "showland": true,
           "subunitcolor": "white"
          },
          "hoverlabel": {
           "align": "left"
          },
          "hovermode": "closest",
          "mapbox": {
           "style": "light"
          },
          "paper_bgcolor": "white",
          "plot_bgcolor": "#E5ECF6",
          "polar": {
           "angularaxis": {
            "gridcolor": "white",
            "linecolor": "white",
            "ticks": ""
           },
           "bgcolor": "#E5ECF6",
           "radialaxis": {
            "gridcolor": "white",
            "linecolor": "white",
            "ticks": ""
           }
          },
          "scene": {
           "xaxis": {
            "backgroundcolor": "#E5ECF6",
            "gridcolor": "white",
            "gridwidth": 2,
            "linecolor": "white",
            "showbackground": true,
            "ticks": "",
            "zerolinecolor": "white"
           },
           "yaxis": {
            "backgroundcolor": "#E5ECF6",
            "gridcolor": "white",
            "gridwidth": 2,
            "linecolor": "white",
            "showbackground": true,
            "ticks": "",
            "zerolinecolor": "white"
           },
           "zaxis": {
            "backgroundcolor": "#E5ECF6",
            "gridcolor": "white",
            "gridwidth": 2,
            "linecolor": "white",
            "showbackground": true,
            "ticks": "",
            "zerolinecolor": "white"
           }
          },
          "shapedefaults": {
           "line": {
            "color": "#2a3f5f"
           }
          },
          "ternary": {
           "aaxis": {
            "gridcolor": "white",
            "linecolor": "white",
            "ticks": ""
           },
           "baxis": {
            "gridcolor": "white",
            "linecolor": "white",
            "ticks": ""
           },
           "bgcolor": "#E5ECF6",
           "caxis": {
            "gridcolor": "white",
            "linecolor": "white",
            "ticks": ""
           }
          },
          "title": {
           "x": 0.05
          },
          "xaxis": {
           "automargin": true,
           "gridcolor": "white",
           "linecolor": "white",
           "ticks": "",
           "title": {
            "standoff": 15
           },
           "zerolinecolor": "white",
           "zerolinewidth": 2
          },
          "yaxis": {
           "automargin": true,
           "gridcolor": "white",
           "linecolor": "white",
           "ticks": "",
           "title": {
            "standoff": 15
           },
           "zerolinecolor": "white",
           "zerolinewidth": 2
          }
         }
        },
        "title": {
         "text": "% GAD67+ Cells per Condition Location"
        },
        "xaxis": {
         "anchor": "y",
         "domain": [
          0,
          1
         ],
         "title": {
          "text": "Condition Location"
         }
        },
        "yaxis": {
         "anchor": "x",
         "domain": [
          0,
          1
         ],
         "title": {
          "text": "% GAD67+ Cells"
         }
        }
       }
      }
     },
     "metadata": {},
     "output_type": "display_data"
    }
   ],
   "source": [
    "fig = px.box(\n",
    "    df,\n",
    "    x=\"condition_location\",\n",
    "    y=\"%_gad67+_cells\",\n",
    "    color=\"condition\",\n",
    "    points=\"all\",\n",
    "    hover_data=[df.index, \"filename\", \"mouse_id\"],\n",
    "    title=\"% GAD67+ Cells per Condition Location\",\n",
    "    labels={\"%_gad67+_cells\": \"% GAD67+ Cells\", \"condition_location\": \"Condition Location\"}\n",
    ")\n",
    "\n",
    "# Display the plot\n",
    "fig.show()"
   ]
  },
  {
   "cell_type": "code",
   "execution_count": 36,
   "metadata": {},
   "outputs": [
    {
     "data": {
      "application/vnd.plotly.v1+json": {
       "config": {
        "plotlyServerURL": "https://plot.ly"
       },
       "data": [
        {
         "alignmentgroup": "True",
         "boxpoints": "all",
         "customdata": [
          [
           0,
           "HI 1 Contralateral Mouse 8 Slide09 GAD67green NeuNpink Reelinred 40x 4x4 technical replica 1",
           8
          ],
          [
           1,
           "HI 1 Contralateral Mouse 8 Slide09 GAD67green NeuNpink Reelinred 40x 4x4 technical replica 2",
           8
          ],
          [
           2,
           "HI 1 Ipsilateral Mouse 8 Slide16 GAD67green NeuNpink Reelinred 40x 4x4 technical replica 1",
           8
          ],
          [
           3,
           "HI 1 Ipsilateral Mouse 8 Slide16 GAD67green NeuNpink Reelinred 40x 4x4 technical replica 2",
           8
          ],
          [
           4,
           "HI 2 Contralateral Mouse 10 Slide08 GAD67green NeuNpink Reelinred 40x 4x4 technical replica 1",
           10
          ],
          [
           5,
           "HI 2 Contralateral Mouse 10 Slide08 GAD67green NeuNpink Reelinred 40x 4x4 technical replica 2",
           10
          ],
          [
           6,
           "HI 2 Ipsilateral Mouse 10 Slide08 GAD67green NeuNpink Reelinred 40x 4x4 technical replica 1",
           10
          ],
          [
           7,
           "HI 2 Ipsilateral Mouse 10 Slide08 GAD67green NeuNpink Reelinred 40x 4x4 technical replica 2",
           10
          ],
          [
           8,
           "HI 3 Contralateral Mouse 11 Slide09 GAD67green NeuNpink Reelinred 40x 4x4 technical replica 1",
           11
          ],
          [
           9,
           "HI 3 Contralateral Mouse 11 Slide09 GAD67green NeuNpink Reelinred 40x 4x4 technical replica 2",
           11
          ],
          [
           10,
           "HI 3 Ipsilateral Mouse 11 Slide09 GAD67green NeuNpink Reelinred 40x 4x4 technical replica 1",
           11
          ],
          [
           11,
           "HI 3 Ipsilateral Mouse 11 Slide09 GAD67green NeuNpink Reelinred 40x 4x4 technical replica 2",
           11
          ]
         ],
         "hovertemplate": "condition=HI<br>Condition Location=%{x}<br>% Cajal Cells=%{y}<br>index=%{customdata[0]}<br>filename=%{customdata[1]}<br>mouse_id=%{customdata[2]}<extra></extra>",
         "legendgroup": "HI",
         "marker": {
          "color": "#636efa"
         },
         "name": "HI",
         "notched": false,
         "offsetgroup": "HI",
         "orientation": "v",
         "showlegend": true,
         "type": "box",
         "x": [
          "HI_Contralateral",
          "HI_Contralateral",
          "HI_Ipsilateral",
          "HI_Ipsilateral",
          "HI_Contralateral",
          "HI_Contralateral",
          "HI_Ipsilateral",
          "HI_Ipsilateral",
          "HI_Contralateral",
          "HI_Contralateral",
          "HI_Ipsilateral",
          "HI_Ipsilateral"
         ],
         "x0": " ",
         "xaxis": "x",
         "y": [
          1.711229946524064,
          1.6086336794950111,
          1.893622946254525,
          0.6957452502006958,
          1.924557351809084,
          1.936925751179538,
          1.404632824051257,
          2.136613790870832,
          1.27669452181987,
          1.289053965479572,
          1.4218009478672986,
          1.826045170591062
         ],
         "y0": " ",
         "yaxis": "y"
        },
        {
         "alignmentgroup": "True",
         "boxpoints": "all",
         "customdata": [
          [
           13,
           "Sham 1 Contralateral Mouse 6 Slide09 GAD67green NeuNpink Reelinred 40x 4x4 technical replica 2",
           6
          ],
          [
           14,
           "Sham 1 Ipsilateral Mouse 6 Slide09 GAD67green NeuNpink Reelinred 40x 4x4 technical replica 1",
           6
          ],
          [
           15,
           "Sham 1 Ipsilateral Mouse 6 Slide09 GAD67green NeuNpink Reelinred 40x 4x4 technical replica 2",
           6
          ],
          [
           16,
           "Sham 2 Contralateral Mouse 7 Slide12 GAD67green NeuNpink Reelinred 40x 4x4 technical replica 1",
           7
          ],
          [
           17,
           "Sham 2 Contralateral Mouse 7 Slide12 GAD67green NeuNpink Reelinred 40x 4x4 technical replica 2",
           7
          ],
          [
           18,
           "Sham 2 Ipsilateral Mouse 7 Slide12 GAD67green NeuNpink Reelinred 40x 4x4 technical replica 1",
           7
          ],
          [
           19,
           "Sham 2 Ipsilateral Mouse 7 Slide12 GAD67green NeuNpink Reelinred 40x 4x4 technical replica 2",
           7
          ]
         ],
         "hovertemplate": "condition=Sham<br>Condition Location=%{x}<br>% Cajal Cells=%{y}<br>index=%{customdata[0]}<br>filename=%{customdata[1]}<br>mouse_id=%{customdata[2]}<extra></extra>",
         "legendgroup": "Sham",
         "marker": {
          "color": "#EF553B"
         },
         "name": "Sham",
         "notched": false,
         "offsetgroup": "Sham",
         "orientation": "v",
         "showlegend": true,
         "type": "box",
         "x": [
          "Sham",
          "Sham",
          "Sham",
          "Sham",
          "Sham",
          "Sham",
          "Sham"
         ],
         "x0": " ",
         "xaxis": "x",
         "y": [
          1.414141414141414,
          1.3097259277225322,
          0.8209338122113905,
          1.3413086822548486,
          1.0101010101010102,
          1.300578034682081,
          1.2274549098196392
         ],
         "y0": " ",
         "yaxis": "y"
        }
       ],
       "layout": {
        "boxmode": "group",
        "legend": {
         "title": {
          "text": "condition"
         },
         "tracegroupgap": 0
        },
        "template": {
         "data": {
          "bar": [
           {
            "error_x": {
             "color": "#2a3f5f"
            },
            "error_y": {
             "color": "#2a3f5f"
            },
            "marker": {
             "line": {
              "color": "#E5ECF6",
              "width": 0.5
             },
             "pattern": {
              "fillmode": "overlay",
              "size": 10,
              "solidity": 0.2
             }
            },
            "type": "bar"
           }
          ],
          "barpolar": [
           {
            "marker": {
             "line": {
              "color": "#E5ECF6",
              "width": 0.5
             },
             "pattern": {
              "fillmode": "overlay",
              "size": 10,
              "solidity": 0.2
             }
            },
            "type": "barpolar"
           }
          ],
          "carpet": [
           {
            "aaxis": {
             "endlinecolor": "#2a3f5f",
             "gridcolor": "white",
             "linecolor": "white",
             "minorgridcolor": "white",
             "startlinecolor": "#2a3f5f"
            },
            "baxis": {
             "endlinecolor": "#2a3f5f",
             "gridcolor": "white",
             "linecolor": "white",
             "minorgridcolor": "white",
             "startlinecolor": "#2a3f5f"
            },
            "type": "carpet"
           }
          ],
          "choropleth": [
           {
            "colorbar": {
             "outlinewidth": 0,
             "ticks": ""
            },
            "type": "choropleth"
           }
          ],
          "contour": [
           {
            "colorbar": {
             "outlinewidth": 0,
             "ticks": ""
            },
            "colorscale": [
             [
              0,
              "#0d0887"
             ],
             [
              0.1111111111111111,
              "#46039f"
             ],
             [
              0.2222222222222222,
              "#7201a8"
             ],
             [
              0.3333333333333333,
              "#9c179e"
             ],
             [
              0.4444444444444444,
              "#bd3786"
             ],
             [
              0.5555555555555556,
              "#d8576b"
             ],
             [
              0.6666666666666666,
              "#ed7953"
             ],
             [
              0.7777777777777778,
              "#fb9f3a"
             ],
             [
              0.8888888888888888,
              "#fdca26"
             ],
             [
              1,
              "#f0f921"
             ]
            ],
            "type": "contour"
           }
          ],
          "contourcarpet": [
           {
            "colorbar": {
             "outlinewidth": 0,
             "ticks": ""
            },
            "type": "contourcarpet"
           }
          ],
          "heatmap": [
           {
            "colorbar": {
             "outlinewidth": 0,
             "ticks": ""
            },
            "colorscale": [
             [
              0,
              "#0d0887"
             ],
             [
              0.1111111111111111,
              "#46039f"
             ],
             [
              0.2222222222222222,
              "#7201a8"
             ],
             [
              0.3333333333333333,
              "#9c179e"
             ],
             [
              0.4444444444444444,
              "#bd3786"
             ],
             [
              0.5555555555555556,
              "#d8576b"
             ],
             [
              0.6666666666666666,
              "#ed7953"
             ],
             [
              0.7777777777777778,
              "#fb9f3a"
             ],
             [
              0.8888888888888888,
              "#fdca26"
             ],
             [
              1,
              "#f0f921"
             ]
            ],
            "type": "heatmap"
           }
          ],
          "heatmapgl": [
           {
            "colorbar": {
             "outlinewidth": 0,
             "ticks": ""
            },
            "colorscale": [
             [
              0,
              "#0d0887"
             ],
             [
              0.1111111111111111,
              "#46039f"
             ],
             [
              0.2222222222222222,
              "#7201a8"
             ],
             [
              0.3333333333333333,
              "#9c179e"
             ],
             [
              0.4444444444444444,
              "#bd3786"
             ],
             [
              0.5555555555555556,
              "#d8576b"
             ],
             [
              0.6666666666666666,
              "#ed7953"
             ],
             [
              0.7777777777777778,
              "#fb9f3a"
             ],
             [
              0.8888888888888888,
              "#fdca26"
             ],
             [
              1,
              "#f0f921"
             ]
            ],
            "type": "heatmapgl"
           }
          ],
          "histogram": [
           {
            "marker": {
             "pattern": {
              "fillmode": "overlay",
              "size": 10,
              "solidity": 0.2
             }
            },
            "type": "histogram"
           }
          ],
          "histogram2d": [
           {
            "colorbar": {
             "outlinewidth": 0,
             "ticks": ""
            },
            "colorscale": [
             [
              0,
              "#0d0887"
             ],
             [
              0.1111111111111111,
              "#46039f"
             ],
             [
              0.2222222222222222,
              "#7201a8"
             ],
             [
              0.3333333333333333,
              "#9c179e"
             ],
             [
              0.4444444444444444,
              "#bd3786"
             ],
             [
              0.5555555555555556,
              "#d8576b"
             ],
             [
              0.6666666666666666,
              "#ed7953"
             ],
             [
              0.7777777777777778,
              "#fb9f3a"
             ],
             [
              0.8888888888888888,
              "#fdca26"
             ],
             [
              1,
              "#f0f921"
             ]
            ],
            "type": "histogram2d"
           }
          ],
          "histogram2dcontour": [
           {
            "colorbar": {
             "outlinewidth": 0,
             "ticks": ""
            },
            "colorscale": [
             [
              0,
              "#0d0887"
             ],
             [
              0.1111111111111111,
              "#46039f"
             ],
             [
              0.2222222222222222,
              "#7201a8"
             ],
             [
              0.3333333333333333,
              "#9c179e"
             ],
             [
              0.4444444444444444,
              "#bd3786"
             ],
             [
              0.5555555555555556,
              "#d8576b"
             ],
             [
              0.6666666666666666,
              "#ed7953"
             ],
             [
              0.7777777777777778,
              "#fb9f3a"
             ],
             [
              0.8888888888888888,
              "#fdca26"
             ],
             [
              1,
              "#f0f921"
             ]
            ],
            "type": "histogram2dcontour"
           }
          ],
          "mesh3d": [
           {
            "colorbar": {
             "outlinewidth": 0,
             "ticks": ""
            },
            "type": "mesh3d"
           }
          ],
          "parcoords": [
           {
            "line": {
             "colorbar": {
              "outlinewidth": 0,
              "ticks": ""
             }
            },
            "type": "parcoords"
           }
          ],
          "pie": [
           {
            "automargin": true,
            "type": "pie"
           }
          ],
          "scatter": [
           {
            "fillpattern": {
             "fillmode": "overlay",
             "size": 10,
             "solidity": 0.2
            },
            "type": "scatter"
           }
          ],
          "scatter3d": [
           {
            "line": {
             "colorbar": {
              "outlinewidth": 0,
              "ticks": ""
             }
            },
            "marker": {
             "colorbar": {
              "outlinewidth": 0,
              "ticks": ""
             }
            },
            "type": "scatter3d"
           }
          ],
          "scattercarpet": [
           {
            "marker": {
             "colorbar": {
              "outlinewidth": 0,
              "ticks": ""
             }
            },
            "type": "scattercarpet"
           }
          ],
          "scattergeo": [
           {
            "marker": {
             "colorbar": {
              "outlinewidth": 0,
              "ticks": ""
             }
            },
            "type": "scattergeo"
           }
          ],
          "scattergl": [
           {
            "marker": {
             "colorbar": {
              "outlinewidth": 0,
              "ticks": ""
             }
            },
            "type": "scattergl"
           }
          ],
          "scattermapbox": [
           {
            "marker": {
             "colorbar": {
              "outlinewidth": 0,
              "ticks": ""
             }
            },
            "type": "scattermapbox"
           }
          ],
          "scatterpolar": [
           {
            "marker": {
             "colorbar": {
              "outlinewidth": 0,
              "ticks": ""
             }
            },
            "type": "scatterpolar"
           }
          ],
          "scatterpolargl": [
           {
            "marker": {
             "colorbar": {
              "outlinewidth": 0,
              "ticks": ""
             }
            },
            "type": "scatterpolargl"
           }
          ],
          "scatterternary": [
           {
            "marker": {
             "colorbar": {
              "outlinewidth": 0,
              "ticks": ""
             }
            },
            "type": "scatterternary"
           }
          ],
          "surface": [
           {
            "colorbar": {
             "outlinewidth": 0,
             "ticks": ""
            },
            "colorscale": [
             [
              0,
              "#0d0887"
             ],
             [
              0.1111111111111111,
              "#46039f"
             ],
             [
              0.2222222222222222,
              "#7201a8"
             ],
             [
              0.3333333333333333,
              "#9c179e"
             ],
             [
              0.4444444444444444,
              "#bd3786"
             ],
             [
              0.5555555555555556,
              "#d8576b"
             ],
             [
              0.6666666666666666,
              "#ed7953"
             ],
             [
              0.7777777777777778,
              "#fb9f3a"
             ],
             [
              0.8888888888888888,
              "#fdca26"
             ],
             [
              1,
              "#f0f921"
             ]
            ],
            "type": "surface"
           }
          ],
          "table": [
           {
            "cells": {
             "fill": {
              "color": "#EBF0F8"
             },
             "line": {
              "color": "white"
             }
            },
            "header": {
             "fill": {
              "color": "#C8D4E3"
             },
             "line": {
              "color": "white"
             }
            },
            "type": "table"
           }
          ]
         },
         "layout": {
          "annotationdefaults": {
           "arrowcolor": "#2a3f5f",
           "arrowhead": 0,
           "arrowwidth": 1
          },
          "autotypenumbers": "strict",
          "coloraxis": {
           "colorbar": {
            "outlinewidth": 0,
            "ticks": ""
           }
          },
          "colorscale": {
           "diverging": [
            [
             0,
             "#8e0152"
            ],
            [
             0.1,
             "#c51b7d"
            ],
            [
             0.2,
             "#de77ae"
            ],
            [
             0.3,
             "#f1b6da"
            ],
            [
             0.4,
             "#fde0ef"
            ],
            [
             0.5,
             "#f7f7f7"
            ],
            [
             0.6,
             "#e6f5d0"
            ],
            [
             0.7,
             "#b8e186"
            ],
            [
             0.8,
             "#7fbc41"
            ],
            [
             0.9,
             "#4d9221"
            ],
            [
             1,
             "#276419"
            ]
           ],
           "sequential": [
            [
             0,
             "#0d0887"
            ],
            [
             0.1111111111111111,
             "#46039f"
            ],
            [
             0.2222222222222222,
             "#7201a8"
            ],
            [
             0.3333333333333333,
             "#9c179e"
            ],
            [
             0.4444444444444444,
             "#bd3786"
            ],
            [
             0.5555555555555556,
             "#d8576b"
            ],
            [
             0.6666666666666666,
             "#ed7953"
            ],
            [
             0.7777777777777778,
             "#fb9f3a"
            ],
            [
             0.8888888888888888,
             "#fdca26"
            ],
            [
             1,
             "#f0f921"
            ]
           ],
           "sequentialminus": [
            [
             0,
             "#0d0887"
            ],
            [
             0.1111111111111111,
             "#46039f"
            ],
            [
             0.2222222222222222,
             "#7201a8"
            ],
            [
             0.3333333333333333,
             "#9c179e"
            ],
            [
             0.4444444444444444,
             "#bd3786"
            ],
            [
             0.5555555555555556,
             "#d8576b"
            ],
            [
             0.6666666666666666,
             "#ed7953"
            ],
            [
             0.7777777777777778,
             "#fb9f3a"
            ],
            [
             0.8888888888888888,
             "#fdca26"
            ],
            [
             1,
             "#f0f921"
            ]
           ]
          },
          "colorway": [
           "#636efa",
           "#EF553B",
           "#00cc96",
           "#ab63fa",
           "#FFA15A",
           "#19d3f3",
           "#FF6692",
           "#B6E880",
           "#FF97FF",
           "#FECB52"
          ],
          "font": {
           "color": "#2a3f5f"
          },
          "geo": {
           "bgcolor": "white",
           "lakecolor": "white",
           "landcolor": "#E5ECF6",
           "showlakes": true,
           "showland": true,
           "subunitcolor": "white"
          },
          "hoverlabel": {
           "align": "left"
          },
          "hovermode": "closest",
          "mapbox": {
           "style": "light"
          },
          "paper_bgcolor": "white",
          "plot_bgcolor": "#E5ECF6",
          "polar": {
           "angularaxis": {
            "gridcolor": "white",
            "linecolor": "white",
            "ticks": ""
           },
           "bgcolor": "#E5ECF6",
           "radialaxis": {
            "gridcolor": "white",
            "linecolor": "white",
            "ticks": ""
           }
          },
          "scene": {
           "xaxis": {
            "backgroundcolor": "#E5ECF6",
            "gridcolor": "white",
            "gridwidth": 2,
            "linecolor": "white",
            "showbackground": true,
            "ticks": "",
            "zerolinecolor": "white"
           },
           "yaxis": {
            "backgroundcolor": "#E5ECF6",
            "gridcolor": "white",
            "gridwidth": 2,
            "linecolor": "white",
            "showbackground": true,
            "ticks": "",
            "zerolinecolor": "white"
           },
           "zaxis": {
            "backgroundcolor": "#E5ECF6",
            "gridcolor": "white",
            "gridwidth": 2,
            "linecolor": "white",
            "showbackground": true,
            "ticks": "",
            "zerolinecolor": "white"
           }
          },
          "shapedefaults": {
           "line": {
            "color": "#2a3f5f"
           }
          },
          "ternary": {
           "aaxis": {
            "gridcolor": "white",
            "linecolor": "white",
            "ticks": ""
           },
           "baxis": {
            "gridcolor": "white",
            "linecolor": "white",
            "ticks": ""
           },
           "bgcolor": "#E5ECF6",
           "caxis": {
            "gridcolor": "white",
            "linecolor": "white",
            "ticks": ""
           }
          },
          "title": {
           "x": 0.05
          },
          "xaxis": {
           "automargin": true,
           "gridcolor": "white",
           "linecolor": "white",
           "ticks": "",
           "title": {
            "standoff": 15
           },
           "zerolinecolor": "white",
           "zerolinewidth": 2
          },
          "yaxis": {
           "automargin": true,
           "gridcolor": "white",
           "linecolor": "white",
           "ticks": "",
           "title": {
            "standoff": 15
           },
           "zerolinecolor": "white",
           "zerolinewidth": 2
          }
         }
        },
        "title": {
         "text": "% Cajal Cells per Condition Location"
        },
        "xaxis": {
         "anchor": "y",
         "domain": [
          0,
          1
         ],
         "title": {
          "text": "Condition Location"
         }
        },
        "yaxis": {
         "anchor": "x",
         "domain": [
          0,
          1
         ],
         "title": {
          "text": "% Cajal Cells"
         }
        }
       }
      }
     },
     "metadata": {},
     "output_type": "display_data"
    }
   ],
   "source": [
    "fig = px.box(\n",
    "    df,\n",
    "    x=\"condition_location\",\n",
    "    y=\"%_cajal_cells\",\n",
    "    color=\"condition\",\n",
    "    points=\"all\",\n",
    "    hover_data=[df.index, \"filename\", \"mouse_id\"],\n",
    "    title=\"% Cajal Cells per Condition Location\",\n",
    "    labels={\"%_cajal_cells\": \"% Cajal Cells\", \"condition_location\": \"Condition Location\"}\n",
    ")\n",
    "\n",
    "# Display the plot\n",
    "fig.show()"
   ]
  },
  {
   "cell_type": "code",
   "execution_count": 37,
   "metadata": {},
   "outputs": [],
   "source": [
    "# Define the path to your results\n",
    "csv_path = \"./results/Reelin_per_label_results.csv\"\n",
    "\n",
    "# Read the CSV file\n",
    "df = pd.read_csv(csv_path, index_col=0)"
   ]
  },
  {
   "cell_type": "code",
   "execution_count": 38,
   "metadata": {},
   "outputs": [],
   "source": [
    "# Create a new column for combined sex and tissue location\n",
    "df['condition_location'] = df['condition'] + '_' + df['brain_location']\n",
    "\n",
    "# Rename Sham_Contralateral and Sham_Ipsilateral to just Sham\n",
    "df.loc[df['condition_location'].str.contains('Sham', case=False, na=False), 'condition_location'] = 'Sham'"
   ]
  },
  {
   "cell_type": "code",
   "execution_count": 39,
   "metadata": {},
   "outputs": [
    {
     "data": {
      "text/html": [
       "<div>\n",
       "<style scoped>\n",
       "    .dataframe tbody tr th:only-of-type {\n",
       "        vertical-align: middle;\n",
       "    }\n",
       "\n",
       "    .dataframe tbody tr th {\n",
       "        vertical-align: top;\n",
       "    }\n",
       "\n",
       "    .dataframe thead th {\n",
       "        text-align: right;\n",
       "    }\n",
       "</style>\n",
       "<table border=\"1\" class=\"dataframe\">\n",
       "  <thead>\n",
       "    <tr style=\"text-align: right;\">\n",
       "      <th></th>\n",
       "      <th>filename</th>\n",
       "      <th>condition_location</th>\n",
       "      <th>low_neun+</th>\n",
       "      <th>neun_-</th>\n",
       "      <th>high_neun+</th>\n",
       "      <th>label_count</th>\n",
       "      <th>%_neun_-</th>\n",
       "      <th>%_low_neun+</th>\n",
       "      <th>%_high_neun+</th>\n",
       "    </tr>\n",
       "  </thead>\n",
       "  <tbody>\n",
       "    <tr>\n",
       "      <th>0</th>\n",
       "      <td>HI 1 Contralateral Mouse 8 Slide09 GAD67green ...</td>\n",
       "      <td>HI_Contralateral</td>\n",
       "      <td>1075</td>\n",
       "      <td>3595</td>\n",
       "      <td>5</td>\n",
       "      <td>4675</td>\n",
       "      <td>76.898396</td>\n",
       "      <td>22.994652</td>\n",
       "      <td>0.106952</td>\n",
       "    </tr>\n",
       "    <tr>\n",
       "      <th>1</th>\n",
       "      <td>HI 1 Contralateral Mouse 8 Slide09 GAD67green ...</td>\n",
       "      <td>HI_Contralateral</td>\n",
       "      <td>1223</td>\n",
       "      <td>3449</td>\n",
       "      <td>239</td>\n",
       "      <td>4911</td>\n",
       "      <td>70.230096</td>\n",
       "      <td>24.903278</td>\n",
       "      <td>4.866626</td>\n",
       "    </tr>\n",
       "    <tr>\n",
       "      <th>2</th>\n",
       "      <td>HI 1 Ipsilateral Mouse 8 Slide16 GAD67green Ne...</td>\n",
       "      <td>HI_Ipsilateral</td>\n",
       "      <td>1218</td>\n",
       "      <td>2203</td>\n",
       "      <td>170</td>\n",
       "      <td>3591</td>\n",
       "      <td>61.347814</td>\n",
       "      <td>33.918129</td>\n",
       "      <td>4.734057</td>\n",
       "    </tr>\n",
       "    <tr>\n",
       "      <th>3</th>\n",
       "      <td>HI 1 Ipsilateral Mouse 8 Slide16 GAD67green Ne...</td>\n",
       "      <td>HI_Ipsilateral</td>\n",
       "      <td>1604</td>\n",
       "      <td>1600</td>\n",
       "      <td>533</td>\n",
       "      <td>3737</td>\n",
       "      <td>42.815092</td>\n",
       "      <td>42.922130</td>\n",
       "      <td>14.262778</td>\n",
       "    </tr>\n",
       "    <tr>\n",
       "      <th>4</th>\n",
       "      <td>HI 2 Contralateral Mouse 10 Slide08 GAD67green...</td>\n",
       "      <td>HI_Contralateral</td>\n",
       "      <td>1101</td>\n",
       "      <td>2766</td>\n",
       "      <td>30</td>\n",
       "      <td>3897</td>\n",
       "      <td>70.977675</td>\n",
       "      <td>28.252502</td>\n",
       "      <td>0.769823</td>\n",
       "    </tr>\n",
       "    <tr>\n",
       "      <th>5</th>\n",
       "      <td>HI 2 Contralateral Mouse 10 Slide08 GAD67green...</td>\n",
       "      <td>HI_Contralateral</td>\n",
       "      <td>1129</td>\n",
       "      <td>2788</td>\n",
       "      <td>110</td>\n",
       "      <td>4027</td>\n",
       "      <td>69.232679</td>\n",
       "      <td>28.035759</td>\n",
       "      <td>2.731562</td>\n",
       "    </tr>\n",
       "    <tr>\n",
       "      <th>6</th>\n",
       "      <td>HI 2 Ipsilateral Mouse 10 Slide08 GAD67green N...</td>\n",
       "      <td>HI_Ipsilateral</td>\n",
       "      <td>266</td>\n",
       "      <td>3780</td>\n",
       "      <td>12</td>\n",
       "      <td>4058</td>\n",
       "      <td>93.149335</td>\n",
       "      <td>6.554953</td>\n",
       "      <td>0.295712</td>\n",
       "    </tr>\n",
       "    <tr>\n",
       "      <th>7</th>\n",
       "      <td>HI 2 Ipsilateral Mouse 10 Slide08 GAD67green N...</td>\n",
       "      <td>HI_Ipsilateral</td>\n",
       "      <td>329</td>\n",
       "      <td>2743</td>\n",
       "      <td>17</td>\n",
       "      <td>3089</td>\n",
       "      <td>88.798964</td>\n",
       "      <td>10.650696</td>\n",
       "      <td>0.550340</td>\n",
       "    </tr>\n",
       "    <tr>\n",
       "      <th>8</th>\n",
       "      <td>HI 3 Contralateral Mouse 11 Slide09 GAD67green...</td>\n",
       "      <td>HI_Contralateral</td>\n",
       "      <td>1293</td>\n",
       "      <td>2028</td>\n",
       "      <td>987</td>\n",
       "      <td>4308</td>\n",
       "      <td>47.075209</td>\n",
       "      <td>30.013928</td>\n",
       "      <td>22.910864</td>\n",
       "    </tr>\n",
       "    <tr>\n",
       "      <th>9</th>\n",
       "      <td>HI 3 Contralateral Mouse 11 Slide09 GAD67green...</td>\n",
       "      <td>HI_Contralateral</td>\n",
       "      <td>1282</td>\n",
       "      <td>2057</td>\n",
       "      <td>1238</td>\n",
       "      <td>4577</td>\n",
       "      <td>44.942102</td>\n",
       "      <td>28.009613</td>\n",
       "      <td>27.048285</td>\n",
       "    </tr>\n",
       "    <tr>\n",
       "      <th>10</th>\n",
       "      <td>HI 3 Ipsilateral Mouse 11 Slide09 GAD67green N...</td>\n",
       "      <td>HI_Ipsilateral</td>\n",
       "      <td>947</td>\n",
       "      <td>2534</td>\n",
       "      <td>106</td>\n",
       "      <td>3587</td>\n",
       "      <td>70.643992</td>\n",
       "      <td>26.400892</td>\n",
       "      <td>2.955116</td>\n",
       "    </tr>\n",
       "    <tr>\n",
       "      <th>11</th>\n",
       "      <td>HI 3 Ipsilateral Mouse 11 Slide09 GAD67green N...</td>\n",
       "      <td>HI_Ipsilateral</td>\n",
       "      <td>919</td>\n",
       "      <td>3123</td>\n",
       "      <td>120</td>\n",
       "      <td>4162</td>\n",
       "      <td>75.036040</td>\n",
       "      <td>22.080730</td>\n",
       "      <td>2.883229</td>\n",
       "    </tr>\n",
       "    <tr>\n",
       "      <th>12</th>\n",
       "      <td>Sham 1 Contralateral Mouse 6 Slide09 GAD67gree...</td>\n",
       "      <td>Sham</td>\n",
       "      <td>945</td>\n",
       "      <td>3194</td>\n",
       "      <td>7</td>\n",
       "      <td>4146</td>\n",
       "      <td>77.038109</td>\n",
       "      <td>22.793054</td>\n",
       "      <td>0.168837</td>\n",
       "    </tr>\n",
       "    <tr>\n",
       "      <th>13</th>\n",
       "      <td>Sham 1 Contralateral Mouse 6 Slide09 GAD67gree...</td>\n",
       "      <td>Sham</td>\n",
       "      <td>671</td>\n",
       "      <td>3287</td>\n",
       "      <td>2</td>\n",
       "      <td>3960</td>\n",
       "      <td>83.005051</td>\n",
       "      <td>16.944444</td>\n",
       "      <td>0.050505</td>\n",
       "    </tr>\n",
       "    <tr>\n",
       "      <th>14</th>\n",
       "      <td>Sham 1 Ipsilateral Mouse 6 Slide09 GAD67green ...</td>\n",
       "      <td>Sham</td>\n",
       "      <td>988</td>\n",
       "      <td>3120</td>\n",
       "      <td>15</td>\n",
       "      <td>4123</td>\n",
       "      <td>75.673054</td>\n",
       "      <td>23.963134</td>\n",
       "      <td>0.363813</td>\n",
       "    </tr>\n",
       "    <tr>\n",
       "      <th>15</th>\n",
       "      <td>Sham 1 Ipsilateral Mouse 6 Slide09 GAD67green ...</td>\n",
       "      <td>Sham</td>\n",
       "      <td>782</td>\n",
       "      <td>3114</td>\n",
       "      <td>2</td>\n",
       "      <td>3898</td>\n",
       "      <td>79.887122</td>\n",
       "      <td>20.061570</td>\n",
       "      <td>0.051308</td>\n",
       "    </tr>\n",
       "    <tr>\n",
       "      <th>16</th>\n",
       "      <td>Sham 2 Contralateral Mouse 7 Slide12 GAD67gree...</td>\n",
       "      <td>Sham</td>\n",
       "      <td>1353</td>\n",
       "      <td>3267</td>\n",
       "      <td>897</td>\n",
       "      <td>5517</td>\n",
       "      <td>59.216966</td>\n",
       "      <td>24.524198</td>\n",
       "      <td>16.258836</td>\n",
       "    </tr>\n",
       "    <tr>\n",
       "      <th>17</th>\n",
       "      <td>Sham 2 Contralateral Mouse 7 Slide12 GAD67gree...</td>\n",
       "      <td>Sham</td>\n",
       "      <td>1239</td>\n",
       "      <td>3576</td>\n",
       "      <td>1026</td>\n",
       "      <td>5841</td>\n",
       "      <td>61.222393</td>\n",
       "      <td>21.212121</td>\n",
       "      <td>17.565485</td>\n",
       "    </tr>\n",
       "    <tr>\n",
       "      <th>18</th>\n",
       "      <td>Sham 2 Ipsilateral Mouse 7 Slide12 GAD67green ...</td>\n",
       "      <td>Sham</td>\n",
       "      <td>992</td>\n",
       "      <td>2540</td>\n",
       "      <td>620</td>\n",
       "      <td>4152</td>\n",
       "      <td>61.175337</td>\n",
       "      <td>23.892100</td>\n",
       "      <td>14.932563</td>\n",
       "    </tr>\n",
       "    <tr>\n",
       "      <th>19</th>\n",
       "      <td>Sham 2 Ipsilateral Mouse 7 Slide12 GAD67green ...</td>\n",
       "      <td>Sham</td>\n",
       "      <td>1119</td>\n",
       "      <td>2090</td>\n",
       "      <td>783</td>\n",
       "      <td>3992</td>\n",
       "      <td>52.354709</td>\n",
       "      <td>28.031062</td>\n",
       "      <td>19.614228</td>\n",
       "    </tr>\n",
       "  </tbody>\n",
       "</table>\n",
       "</div>"
      ],
      "text/plain": [
       "                                             filename condition_location  \\\n",
       "0   HI 1 Contralateral Mouse 8 Slide09 GAD67green ...   HI_Contralateral   \n",
       "1   HI 1 Contralateral Mouse 8 Slide09 GAD67green ...   HI_Contralateral   \n",
       "2   HI 1 Ipsilateral Mouse 8 Slide16 GAD67green Ne...     HI_Ipsilateral   \n",
       "3   HI 1 Ipsilateral Mouse 8 Slide16 GAD67green Ne...     HI_Ipsilateral   \n",
       "4   HI 2 Contralateral Mouse 10 Slide08 GAD67green...   HI_Contralateral   \n",
       "5   HI 2 Contralateral Mouse 10 Slide08 GAD67green...   HI_Contralateral   \n",
       "6   HI 2 Ipsilateral Mouse 10 Slide08 GAD67green N...     HI_Ipsilateral   \n",
       "7   HI 2 Ipsilateral Mouse 10 Slide08 GAD67green N...     HI_Ipsilateral   \n",
       "8   HI 3 Contralateral Mouse 11 Slide09 GAD67green...   HI_Contralateral   \n",
       "9   HI 3 Contralateral Mouse 11 Slide09 GAD67green...   HI_Contralateral   \n",
       "10  HI 3 Ipsilateral Mouse 11 Slide09 GAD67green N...     HI_Ipsilateral   \n",
       "11  HI 3 Ipsilateral Mouse 11 Slide09 GAD67green N...     HI_Ipsilateral   \n",
       "12  Sham 1 Contralateral Mouse 6 Slide09 GAD67gree...               Sham   \n",
       "13  Sham 1 Contralateral Mouse 6 Slide09 GAD67gree...               Sham   \n",
       "14  Sham 1 Ipsilateral Mouse 6 Slide09 GAD67green ...               Sham   \n",
       "15  Sham 1 Ipsilateral Mouse 6 Slide09 GAD67green ...               Sham   \n",
       "16  Sham 2 Contralateral Mouse 7 Slide12 GAD67gree...               Sham   \n",
       "17  Sham 2 Contralateral Mouse 7 Slide12 GAD67gree...               Sham   \n",
       "18  Sham 2 Ipsilateral Mouse 7 Slide12 GAD67green ...               Sham   \n",
       "19  Sham 2 Ipsilateral Mouse 7 Slide12 GAD67green ...               Sham   \n",
       "\n",
       "    low_neun+  neun_-  high_neun+  label_count   %_neun_-  %_low_neun+  \\\n",
       "0        1075    3595           5         4675  76.898396    22.994652   \n",
       "1        1223    3449         239         4911  70.230096    24.903278   \n",
       "2        1218    2203         170         3591  61.347814    33.918129   \n",
       "3        1604    1600         533         3737  42.815092    42.922130   \n",
       "4        1101    2766          30         3897  70.977675    28.252502   \n",
       "5        1129    2788         110         4027  69.232679    28.035759   \n",
       "6         266    3780          12         4058  93.149335     6.554953   \n",
       "7         329    2743          17         3089  88.798964    10.650696   \n",
       "8        1293    2028         987         4308  47.075209    30.013928   \n",
       "9        1282    2057        1238         4577  44.942102    28.009613   \n",
       "10        947    2534         106         3587  70.643992    26.400892   \n",
       "11        919    3123         120         4162  75.036040    22.080730   \n",
       "12        945    3194           7         4146  77.038109    22.793054   \n",
       "13        671    3287           2         3960  83.005051    16.944444   \n",
       "14        988    3120          15         4123  75.673054    23.963134   \n",
       "15        782    3114           2         3898  79.887122    20.061570   \n",
       "16       1353    3267         897         5517  59.216966    24.524198   \n",
       "17       1239    3576        1026         5841  61.222393    21.212121   \n",
       "18        992    2540         620         4152  61.175337    23.892100   \n",
       "19       1119    2090         783         3992  52.354709    28.031062   \n",
       "\n",
       "    %_high_neun+  \n",
       "0       0.106952  \n",
       "1       4.866626  \n",
       "2       4.734057  \n",
       "3      14.262778  \n",
       "4       0.769823  \n",
       "5       2.731562  \n",
       "6       0.295712  \n",
       "7       0.550340  \n",
       "8      22.910864  \n",
       "9      27.048285  \n",
       "10      2.955116  \n",
       "11      2.883229  \n",
       "12      0.168837  \n",
       "13      0.050505  \n",
       "14      0.363813  \n",
       "15      0.051308  \n",
       "16     16.258836  \n",
       "17     17.565485  \n",
       "18     14.932563  \n",
       "19     19.614228  "
      ]
     },
     "execution_count": 39,
     "metadata": {},
     "output_type": "execute_result"
    }
   ],
   "source": [
    "# Count occurrences of neun+_cluster per filename\n",
    "cluster_counts = df.groupby(['filename', 'condition_location'])['neun+_cluster'].value_counts().unstack(fill_value=0)\n",
    "\n",
    "# Rename columns for clarity\n",
    "cluster_counts.columns = [\"low_neun+\", \"neun_-\", \"high_neun+\"]  # Mapping based on the cluster values (0, 1, 2)\n",
    "\n",
    "# Calculate total label counts and then percentages \n",
    "cluster_counts[\"label_count\"] = cluster_counts[\"low_neun+\"] + cluster_counts[\"neun_-\"] + cluster_counts[\"high_neun+\"]\n",
    "cluster_counts[\"%_neun_-\"] = cluster_counts[\"neun_-\"] / cluster_counts[\"label_count\"] * 100\n",
    "cluster_counts[\"%_low_neun+\"] = cluster_counts[\"low_neun+\"] / cluster_counts[\"label_count\"] * 100\n",
    "cluster_counts[\"%_high_neun+\"] = cluster_counts[\"high_neun+\"] / cluster_counts[\"label_count\"] * 100\n",
    "\n",
    "# Reset the index to convert 'filename' and 'condition_location' to columns\n",
    "cluster_counts = cluster_counts.reset_index()\n",
    "\n",
    "cluster_counts"
   ]
  },
  {
   "cell_type": "code",
   "execution_count": 40,
   "metadata": {},
   "outputs": [
    {
     "data": {
      "application/vnd.plotly.v1+json": {
       "config": {
        "plotlyServerURL": "https://plot.ly"
       },
       "data": [
        {
         "alignmentgroup": "True",
         "boxpoints": "all",
         "customdata": [
          [
           "HI 1 Contralateral Mouse 8 Slide09 GAD67green NeuNpink Reelinred 40x 4x4 technical replica 1"
          ],
          [
           "HI 1 Contralateral Mouse 8 Slide09 GAD67green NeuNpink Reelinred 40x 4x4 technical replica 2"
          ],
          [
           "HI 1 Ipsilateral Mouse 8 Slide16 GAD67green NeuNpink Reelinred 40x 4x4 technical replica 1"
          ],
          [
           "HI 1 Ipsilateral Mouse 8 Slide16 GAD67green NeuNpink Reelinred 40x 4x4 technical replica 2"
          ],
          [
           "HI 2 Contralateral Mouse 10 Slide08 GAD67green NeuNpink Reelinred 40x 4x4 technical replica 1"
          ],
          [
           "HI 2 Contralateral Mouse 10 Slide08 GAD67green NeuNpink Reelinred 40x 4x4 technical replica 2"
          ],
          [
           "HI 2 Ipsilateral Mouse 10 Slide08 GAD67green NeuNpink Reelinred 40x 4x4 technical replica 1"
          ],
          [
           "HI 2 Ipsilateral Mouse 10 Slide08 GAD67green NeuNpink Reelinred 40x 4x4 technical replica 2"
          ],
          [
           "HI 3 Contralateral Mouse 11 Slide09 GAD67green NeuNpink Reelinred 40x 4x4 technical replica 1"
          ],
          [
           "HI 3 Contralateral Mouse 11 Slide09 GAD67green NeuNpink Reelinred 40x 4x4 technical replica 2"
          ],
          [
           "HI 3 Ipsilateral Mouse 11 Slide09 GAD67green NeuNpink Reelinred 40x 4x4 technical replica 1"
          ],
          [
           "HI 3 Ipsilateral Mouse 11 Slide09 GAD67green NeuNpink Reelinred 40x 4x4 technical replica 2"
          ],
          [
           "Sham 1 Contralateral Mouse 6 Slide09 GAD67green NeuNpink Reelinred 40x 4x4 technical replica 1"
          ],
          [
           "Sham 1 Contralateral Mouse 6 Slide09 GAD67green NeuNpink Reelinred 40x 4x4 technical replica 2"
          ],
          [
           "Sham 1 Ipsilateral Mouse 6 Slide09 GAD67green NeuNpink Reelinred 40x 4x4 technical replica 1"
          ],
          [
           "Sham 1 Ipsilateral Mouse 6 Slide09 GAD67green NeuNpink Reelinred 40x 4x4 technical replica 2"
          ],
          [
           "Sham 2 Contralateral Mouse 7 Slide12 GAD67green NeuNpink Reelinred 40x 4x4 technical replica 1"
          ],
          [
           "Sham 2 Contralateral Mouse 7 Slide12 GAD67green NeuNpink Reelinred 40x 4x4 technical replica 2"
          ],
          [
           "Sham 2 Ipsilateral Mouse 7 Slide12 GAD67green NeuNpink Reelinred 40x 4x4 technical replica 1"
          ],
          [
           "Sham 2 Ipsilateral Mouse 7 Slide12 GAD67green NeuNpink Reelinred 40x 4x4 technical replica 2"
          ]
         ],
         "hovertemplate": "Neun_levels=%_neun_-<br>condition_location=%{x}<br>Percentage=%{y}<br>filename=%{customdata[0]}<extra></extra>",
         "legendgroup": "%_neun_-",
         "marker": {
          "color": "#636efa"
         },
         "name": "%_neun_-",
         "notched": false,
         "offsetgroup": "%_neun_-",
         "orientation": "v",
         "showlegend": true,
         "type": "box",
         "x": [
          "HI_Contralateral",
          "HI_Contralateral",
          "HI_Ipsilateral",
          "HI_Ipsilateral",
          "HI_Contralateral",
          "HI_Contralateral",
          "HI_Ipsilateral",
          "HI_Ipsilateral",
          "HI_Contralateral",
          "HI_Contralateral",
          "HI_Ipsilateral",
          "HI_Ipsilateral",
          "Sham",
          "Sham",
          "Sham",
          "Sham",
          "Sham",
          "Sham",
          "Sham",
          "Sham"
         ],
         "x0": " ",
         "xaxis": "x",
         "y": [
          76.89839572192514,
          70.2300957035227,
          61.34781397939293,
          42.815092320042815,
          70.97767513471901,
          69.2326794139558,
          93.14933464760966,
          88.79896406604078,
          47.07520891364902,
          44.9421018134149,
          70.64399219403401,
          75.03604036520903,
          77.03810902074288,
          83.0050505050505,
          75.6730536017463,
          79.88712160082093,
          59.216965742251226,
          61.22239342578326,
          61.175337186897885,
          52.35470941883767
         ],
         "y0": " ",
         "yaxis": "y"
        },
        {
         "alignmentgroup": "True",
         "boxpoints": "all",
         "customdata": [
          [
           "HI 1 Contralateral Mouse 8 Slide09 GAD67green NeuNpink Reelinred 40x 4x4 technical replica 1"
          ],
          [
           "HI 1 Contralateral Mouse 8 Slide09 GAD67green NeuNpink Reelinred 40x 4x4 technical replica 2"
          ],
          [
           "HI 1 Ipsilateral Mouse 8 Slide16 GAD67green NeuNpink Reelinred 40x 4x4 technical replica 1"
          ],
          [
           "HI 1 Ipsilateral Mouse 8 Slide16 GAD67green NeuNpink Reelinred 40x 4x4 technical replica 2"
          ],
          [
           "HI 2 Contralateral Mouse 10 Slide08 GAD67green NeuNpink Reelinred 40x 4x4 technical replica 1"
          ],
          [
           "HI 2 Contralateral Mouse 10 Slide08 GAD67green NeuNpink Reelinred 40x 4x4 technical replica 2"
          ],
          [
           "HI 2 Ipsilateral Mouse 10 Slide08 GAD67green NeuNpink Reelinred 40x 4x4 technical replica 1"
          ],
          [
           "HI 2 Ipsilateral Mouse 10 Slide08 GAD67green NeuNpink Reelinred 40x 4x4 technical replica 2"
          ],
          [
           "HI 3 Contralateral Mouse 11 Slide09 GAD67green NeuNpink Reelinred 40x 4x4 technical replica 1"
          ],
          [
           "HI 3 Contralateral Mouse 11 Slide09 GAD67green NeuNpink Reelinred 40x 4x4 technical replica 2"
          ],
          [
           "HI 3 Ipsilateral Mouse 11 Slide09 GAD67green NeuNpink Reelinred 40x 4x4 technical replica 1"
          ],
          [
           "HI 3 Ipsilateral Mouse 11 Slide09 GAD67green NeuNpink Reelinred 40x 4x4 technical replica 2"
          ],
          [
           "Sham 1 Contralateral Mouse 6 Slide09 GAD67green NeuNpink Reelinred 40x 4x4 technical replica 1"
          ],
          [
           "Sham 1 Contralateral Mouse 6 Slide09 GAD67green NeuNpink Reelinred 40x 4x4 technical replica 2"
          ],
          [
           "Sham 1 Ipsilateral Mouse 6 Slide09 GAD67green NeuNpink Reelinred 40x 4x4 technical replica 1"
          ],
          [
           "Sham 1 Ipsilateral Mouse 6 Slide09 GAD67green NeuNpink Reelinred 40x 4x4 technical replica 2"
          ],
          [
           "Sham 2 Contralateral Mouse 7 Slide12 GAD67green NeuNpink Reelinred 40x 4x4 technical replica 1"
          ],
          [
           "Sham 2 Contralateral Mouse 7 Slide12 GAD67green NeuNpink Reelinred 40x 4x4 technical replica 2"
          ],
          [
           "Sham 2 Ipsilateral Mouse 7 Slide12 GAD67green NeuNpink Reelinred 40x 4x4 technical replica 1"
          ],
          [
           "Sham 2 Ipsilateral Mouse 7 Slide12 GAD67green NeuNpink Reelinred 40x 4x4 technical replica 2"
          ]
         ],
         "hovertemplate": "Neun_levels=%_low_neun+<br>condition_location=%{x}<br>Percentage=%{y}<br>filename=%{customdata[0]}<extra></extra>",
         "legendgroup": "%_low_neun+",
         "marker": {
          "color": "#EF553B"
         },
         "name": "%_low_neun+",
         "notched": false,
         "offsetgroup": "%_low_neun+",
         "orientation": "v",
         "showlegend": true,
         "type": "box",
         "x": [
          "HI_Contralateral",
          "HI_Contralateral",
          "HI_Ipsilateral",
          "HI_Ipsilateral",
          "HI_Contralateral",
          "HI_Contralateral",
          "HI_Ipsilateral",
          "HI_Ipsilateral",
          "HI_Contralateral",
          "HI_Contralateral",
          "HI_Ipsilateral",
          "HI_Ipsilateral",
          "Sham",
          "Sham",
          "Sham",
          "Sham",
          "Sham",
          "Sham",
          "Sham",
          "Sham"
         ],
         "x0": " ",
         "xaxis": "x",
         "y": [
          22.994652406417114,
          24.903278354713905,
          33.91812865497076,
          42.922130050842924,
          28.25250192455735,
          28.035758629252545,
          6.554953178905865,
          10.650696018128844,
          30.013927576601674,
          28.00961328381036,
          26.40089211039866,
          22.080730418068235,
          22.793053545586105,
          16.944444444444446,
          23.963133640552993,
          20.061570035915853,
          24.524197933659597,
          21.21212121212121,
          23.892100192678228,
          28.031062124248496
         ],
         "y0": " ",
         "yaxis": "y"
        },
        {
         "alignmentgroup": "True",
         "boxpoints": "all",
         "customdata": [
          [
           "HI 1 Contralateral Mouse 8 Slide09 GAD67green NeuNpink Reelinred 40x 4x4 technical replica 1"
          ],
          [
           "HI 1 Contralateral Mouse 8 Slide09 GAD67green NeuNpink Reelinred 40x 4x4 technical replica 2"
          ],
          [
           "HI 1 Ipsilateral Mouse 8 Slide16 GAD67green NeuNpink Reelinred 40x 4x4 technical replica 1"
          ],
          [
           "HI 1 Ipsilateral Mouse 8 Slide16 GAD67green NeuNpink Reelinred 40x 4x4 technical replica 2"
          ],
          [
           "HI 2 Contralateral Mouse 10 Slide08 GAD67green NeuNpink Reelinred 40x 4x4 technical replica 1"
          ],
          [
           "HI 2 Contralateral Mouse 10 Slide08 GAD67green NeuNpink Reelinred 40x 4x4 technical replica 2"
          ],
          [
           "HI 2 Ipsilateral Mouse 10 Slide08 GAD67green NeuNpink Reelinred 40x 4x4 technical replica 1"
          ],
          [
           "HI 2 Ipsilateral Mouse 10 Slide08 GAD67green NeuNpink Reelinred 40x 4x4 technical replica 2"
          ],
          [
           "HI 3 Contralateral Mouse 11 Slide09 GAD67green NeuNpink Reelinred 40x 4x4 technical replica 1"
          ],
          [
           "HI 3 Contralateral Mouse 11 Slide09 GAD67green NeuNpink Reelinred 40x 4x4 technical replica 2"
          ],
          [
           "HI 3 Ipsilateral Mouse 11 Slide09 GAD67green NeuNpink Reelinred 40x 4x4 technical replica 1"
          ],
          [
           "HI 3 Ipsilateral Mouse 11 Slide09 GAD67green NeuNpink Reelinred 40x 4x4 technical replica 2"
          ],
          [
           "Sham 1 Contralateral Mouse 6 Slide09 GAD67green NeuNpink Reelinred 40x 4x4 technical replica 1"
          ],
          [
           "Sham 1 Contralateral Mouse 6 Slide09 GAD67green NeuNpink Reelinred 40x 4x4 technical replica 2"
          ],
          [
           "Sham 1 Ipsilateral Mouse 6 Slide09 GAD67green NeuNpink Reelinred 40x 4x4 technical replica 1"
          ],
          [
           "Sham 1 Ipsilateral Mouse 6 Slide09 GAD67green NeuNpink Reelinred 40x 4x4 technical replica 2"
          ],
          [
           "Sham 2 Contralateral Mouse 7 Slide12 GAD67green NeuNpink Reelinred 40x 4x4 technical replica 1"
          ],
          [
           "Sham 2 Contralateral Mouse 7 Slide12 GAD67green NeuNpink Reelinred 40x 4x4 technical replica 2"
          ],
          [
           "Sham 2 Ipsilateral Mouse 7 Slide12 GAD67green NeuNpink Reelinred 40x 4x4 technical replica 1"
          ],
          [
           "Sham 2 Ipsilateral Mouse 7 Slide12 GAD67green NeuNpink Reelinred 40x 4x4 technical replica 2"
          ]
         ],
         "hovertemplate": "Neun_levels=%_high_neun+<br>condition_location=%{x}<br>Percentage=%{y}<br>filename=%{customdata[0]}<extra></extra>",
         "legendgroup": "%_high_neun+",
         "marker": {
          "color": "#00cc96"
         },
         "name": "%_high_neun+",
         "notched": false,
         "offsetgroup": "%_high_neun+",
         "orientation": "v",
         "showlegend": true,
         "type": "box",
         "x": [
          "HI_Contralateral",
          "HI_Contralateral",
          "HI_Ipsilateral",
          "HI_Ipsilateral",
          "HI_Contralateral",
          "HI_Contralateral",
          "HI_Ipsilateral",
          "HI_Ipsilateral",
          "HI_Contralateral",
          "HI_Contralateral",
          "HI_Ipsilateral",
          "HI_Ipsilateral",
          "Sham",
          "Sham",
          "Sham",
          "Sham",
          "Sham",
          "Sham",
          "Sham",
          "Sham"
         ],
         "x0": " ",
         "xaxis": "x",
         "y": [
          0.10695187165775401,
          4.866625941763388,
          4.734057365636312,
          14.262777629114263,
          0.7698229407236336,
          2.7315619567916563,
          0.2957121734844751,
          0.5503399158303658,
          22.910863509749305,
          27.048284902774743,
          2.9551156955673266,
          2.883229216722729,
          0.1688374336710082,
          0.050505050505050504,
          0.36381275770070337,
          0.0513083632632119,
          16.25883632408918,
          17.565485362095533,
          14.932562620423893,
          19.614228456913825
         ],
         "y0": " ",
         "yaxis": "y"
        }
       ],
       "layout": {
        "boxmode": "group",
        "legend": {
         "title": {
          "text": "Neun_levels"
         },
         "tracegroupgap": 0
        },
        "template": {
         "data": {
          "bar": [
           {
            "error_x": {
             "color": "#2a3f5f"
            },
            "error_y": {
             "color": "#2a3f5f"
            },
            "marker": {
             "line": {
              "color": "#E5ECF6",
              "width": 0.5
             },
             "pattern": {
              "fillmode": "overlay",
              "size": 10,
              "solidity": 0.2
             }
            },
            "type": "bar"
           }
          ],
          "barpolar": [
           {
            "marker": {
             "line": {
              "color": "#E5ECF6",
              "width": 0.5
             },
             "pattern": {
              "fillmode": "overlay",
              "size": 10,
              "solidity": 0.2
             }
            },
            "type": "barpolar"
           }
          ],
          "carpet": [
           {
            "aaxis": {
             "endlinecolor": "#2a3f5f",
             "gridcolor": "white",
             "linecolor": "white",
             "minorgridcolor": "white",
             "startlinecolor": "#2a3f5f"
            },
            "baxis": {
             "endlinecolor": "#2a3f5f",
             "gridcolor": "white",
             "linecolor": "white",
             "minorgridcolor": "white",
             "startlinecolor": "#2a3f5f"
            },
            "type": "carpet"
           }
          ],
          "choropleth": [
           {
            "colorbar": {
             "outlinewidth": 0,
             "ticks": ""
            },
            "type": "choropleth"
           }
          ],
          "contour": [
           {
            "colorbar": {
             "outlinewidth": 0,
             "ticks": ""
            },
            "colorscale": [
             [
              0,
              "#0d0887"
             ],
             [
              0.1111111111111111,
              "#46039f"
             ],
             [
              0.2222222222222222,
              "#7201a8"
             ],
             [
              0.3333333333333333,
              "#9c179e"
             ],
             [
              0.4444444444444444,
              "#bd3786"
             ],
             [
              0.5555555555555556,
              "#d8576b"
             ],
             [
              0.6666666666666666,
              "#ed7953"
             ],
             [
              0.7777777777777778,
              "#fb9f3a"
             ],
             [
              0.8888888888888888,
              "#fdca26"
             ],
             [
              1,
              "#f0f921"
             ]
            ],
            "type": "contour"
           }
          ],
          "contourcarpet": [
           {
            "colorbar": {
             "outlinewidth": 0,
             "ticks": ""
            },
            "type": "contourcarpet"
           }
          ],
          "heatmap": [
           {
            "colorbar": {
             "outlinewidth": 0,
             "ticks": ""
            },
            "colorscale": [
             [
              0,
              "#0d0887"
             ],
             [
              0.1111111111111111,
              "#46039f"
             ],
             [
              0.2222222222222222,
              "#7201a8"
             ],
             [
              0.3333333333333333,
              "#9c179e"
             ],
             [
              0.4444444444444444,
              "#bd3786"
             ],
             [
              0.5555555555555556,
              "#d8576b"
             ],
             [
              0.6666666666666666,
              "#ed7953"
             ],
             [
              0.7777777777777778,
              "#fb9f3a"
             ],
             [
              0.8888888888888888,
              "#fdca26"
             ],
             [
              1,
              "#f0f921"
             ]
            ],
            "type": "heatmap"
           }
          ],
          "heatmapgl": [
           {
            "colorbar": {
             "outlinewidth": 0,
             "ticks": ""
            },
            "colorscale": [
             [
              0,
              "#0d0887"
             ],
             [
              0.1111111111111111,
              "#46039f"
             ],
             [
              0.2222222222222222,
              "#7201a8"
             ],
             [
              0.3333333333333333,
              "#9c179e"
             ],
             [
              0.4444444444444444,
              "#bd3786"
             ],
             [
              0.5555555555555556,
              "#d8576b"
             ],
             [
              0.6666666666666666,
              "#ed7953"
             ],
             [
              0.7777777777777778,
              "#fb9f3a"
             ],
             [
              0.8888888888888888,
              "#fdca26"
             ],
             [
              1,
              "#f0f921"
             ]
            ],
            "type": "heatmapgl"
           }
          ],
          "histogram": [
           {
            "marker": {
             "pattern": {
              "fillmode": "overlay",
              "size": 10,
              "solidity": 0.2
             }
            },
            "type": "histogram"
           }
          ],
          "histogram2d": [
           {
            "colorbar": {
             "outlinewidth": 0,
             "ticks": ""
            },
            "colorscale": [
             [
              0,
              "#0d0887"
             ],
             [
              0.1111111111111111,
              "#46039f"
             ],
             [
              0.2222222222222222,
              "#7201a8"
             ],
             [
              0.3333333333333333,
              "#9c179e"
             ],
             [
              0.4444444444444444,
              "#bd3786"
             ],
             [
              0.5555555555555556,
              "#d8576b"
             ],
             [
              0.6666666666666666,
              "#ed7953"
             ],
             [
              0.7777777777777778,
              "#fb9f3a"
             ],
             [
              0.8888888888888888,
              "#fdca26"
             ],
             [
              1,
              "#f0f921"
             ]
            ],
            "type": "histogram2d"
           }
          ],
          "histogram2dcontour": [
           {
            "colorbar": {
             "outlinewidth": 0,
             "ticks": ""
            },
            "colorscale": [
             [
              0,
              "#0d0887"
             ],
             [
              0.1111111111111111,
              "#46039f"
             ],
             [
              0.2222222222222222,
              "#7201a8"
             ],
             [
              0.3333333333333333,
              "#9c179e"
             ],
             [
              0.4444444444444444,
              "#bd3786"
             ],
             [
              0.5555555555555556,
              "#d8576b"
             ],
             [
              0.6666666666666666,
              "#ed7953"
             ],
             [
              0.7777777777777778,
              "#fb9f3a"
             ],
             [
              0.8888888888888888,
              "#fdca26"
             ],
             [
              1,
              "#f0f921"
             ]
            ],
            "type": "histogram2dcontour"
           }
          ],
          "mesh3d": [
           {
            "colorbar": {
             "outlinewidth": 0,
             "ticks": ""
            },
            "type": "mesh3d"
           }
          ],
          "parcoords": [
           {
            "line": {
             "colorbar": {
              "outlinewidth": 0,
              "ticks": ""
             }
            },
            "type": "parcoords"
           }
          ],
          "pie": [
           {
            "automargin": true,
            "type": "pie"
           }
          ],
          "scatter": [
           {
            "fillpattern": {
             "fillmode": "overlay",
             "size": 10,
             "solidity": 0.2
            },
            "type": "scatter"
           }
          ],
          "scatter3d": [
           {
            "line": {
             "colorbar": {
              "outlinewidth": 0,
              "ticks": ""
             }
            },
            "marker": {
             "colorbar": {
              "outlinewidth": 0,
              "ticks": ""
             }
            },
            "type": "scatter3d"
           }
          ],
          "scattercarpet": [
           {
            "marker": {
             "colorbar": {
              "outlinewidth": 0,
              "ticks": ""
             }
            },
            "type": "scattercarpet"
           }
          ],
          "scattergeo": [
           {
            "marker": {
             "colorbar": {
              "outlinewidth": 0,
              "ticks": ""
             }
            },
            "type": "scattergeo"
           }
          ],
          "scattergl": [
           {
            "marker": {
             "colorbar": {
              "outlinewidth": 0,
              "ticks": ""
             }
            },
            "type": "scattergl"
           }
          ],
          "scattermapbox": [
           {
            "marker": {
             "colorbar": {
              "outlinewidth": 0,
              "ticks": ""
             }
            },
            "type": "scattermapbox"
           }
          ],
          "scatterpolar": [
           {
            "marker": {
             "colorbar": {
              "outlinewidth": 0,
              "ticks": ""
             }
            },
            "type": "scatterpolar"
           }
          ],
          "scatterpolargl": [
           {
            "marker": {
             "colorbar": {
              "outlinewidth": 0,
              "ticks": ""
             }
            },
            "type": "scatterpolargl"
           }
          ],
          "scatterternary": [
           {
            "marker": {
             "colorbar": {
              "outlinewidth": 0,
              "ticks": ""
             }
            },
            "type": "scatterternary"
           }
          ],
          "surface": [
           {
            "colorbar": {
             "outlinewidth": 0,
             "ticks": ""
            },
            "colorscale": [
             [
              0,
              "#0d0887"
             ],
             [
              0.1111111111111111,
              "#46039f"
             ],
             [
              0.2222222222222222,
              "#7201a8"
             ],
             [
              0.3333333333333333,
              "#9c179e"
             ],
             [
              0.4444444444444444,
              "#bd3786"
             ],
             [
              0.5555555555555556,
              "#d8576b"
             ],
             [
              0.6666666666666666,
              "#ed7953"
             ],
             [
              0.7777777777777778,
              "#fb9f3a"
             ],
             [
              0.8888888888888888,
              "#fdca26"
             ],
             [
              1,
              "#f0f921"
             ]
            ],
            "type": "surface"
           }
          ],
          "table": [
           {
            "cells": {
             "fill": {
              "color": "#EBF0F8"
             },
             "line": {
              "color": "white"
             }
            },
            "header": {
             "fill": {
              "color": "#C8D4E3"
             },
             "line": {
              "color": "white"
             }
            },
            "type": "table"
           }
          ]
         },
         "layout": {
          "annotationdefaults": {
           "arrowcolor": "#2a3f5f",
           "arrowhead": 0,
           "arrowwidth": 1
          },
          "autotypenumbers": "strict",
          "coloraxis": {
           "colorbar": {
            "outlinewidth": 0,
            "ticks": ""
           }
          },
          "colorscale": {
           "diverging": [
            [
             0,
             "#8e0152"
            ],
            [
             0.1,
             "#c51b7d"
            ],
            [
             0.2,
             "#de77ae"
            ],
            [
             0.3,
             "#f1b6da"
            ],
            [
             0.4,
             "#fde0ef"
            ],
            [
             0.5,
             "#f7f7f7"
            ],
            [
             0.6,
             "#e6f5d0"
            ],
            [
             0.7,
             "#b8e186"
            ],
            [
             0.8,
             "#7fbc41"
            ],
            [
             0.9,
             "#4d9221"
            ],
            [
             1,
             "#276419"
            ]
           ],
           "sequential": [
            [
             0,
             "#0d0887"
            ],
            [
             0.1111111111111111,
             "#46039f"
            ],
            [
             0.2222222222222222,
             "#7201a8"
            ],
            [
             0.3333333333333333,
             "#9c179e"
            ],
            [
             0.4444444444444444,
             "#bd3786"
            ],
            [
             0.5555555555555556,
             "#d8576b"
            ],
            [
             0.6666666666666666,
             "#ed7953"
            ],
            [
             0.7777777777777778,
             "#fb9f3a"
            ],
            [
             0.8888888888888888,
             "#fdca26"
            ],
            [
             1,
             "#f0f921"
            ]
           ],
           "sequentialminus": [
            [
             0,
             "#0d0887"
            ],
            [
             0.1111111111111111,
             "#46039f"
            ],
            [
             0.2222222222222222,
             "#7201a8"
            ],
            [
             0.3333333333333333,
             "#9c179e"
            ],
            [
             0.4444444444444444,
             "#bd3786"
            ],
            [
             0.5555555555555556,
             "#d8576b"
            ],
            [
             0.6666666666666666,
             "#ed7953"
            ],
            [
             0.7777777777777778,
             "#fb9f3a"
            ],
            [
             0.8888888888888888,
             "#fdca26"
            ],
            [
             1,
             "#f0f921"
            ]
           ]
          },
          "colorway": [
           "#636efa",
           "#EF553B",
           "#00cc96",
           "#ab63fa",
           "#FFA15A",
           "#19d3f3",
           "#FF6692",
           "#B6E880",
           "#FF97FF",
           "#FECB52"
          ],
          "font": {
           "color": "#2a3f5f"
          },
          "geo": {
           "bgcolor": "white",
           "lakecolor": "white",
           "landcolor": "#E5ECF6",
           "showlakes": true,
           "showland": true,
           "subunitcolor": "white"
          },
          "hoverlabel": {
           "align": "left"
          },
          "hovermode": "closest",
          "mapbox": {
           "style": "light"
          },
          "paper_bgcolor": "white",
          "plot_bgcolor": "#E5ECF6",
          "polar": {
           "angularaxis": {
            "gridcolor": "white",
            "linecolor": "white",
            "ticks": ""
           },
           "bgcolor": "#E5ECF6",
           "radialaxis": {
            "gridcolor": "white",
            "linecolor": "white",
            "ticks": ""
           }
          },
          "scene": {
           "xaxis": {
            "backgroundcolor": "#E5ECF6",
            "gridcolor": "white",
            "gridwidth": 2,
            "linecolor": "white",
            "showbackground": true,
            "ticks": "",
            "zerolinecolor": "white"
           },
           "yaxis": {
            "backgroundcolor": "#E5ECF6",
            "gridcolor": "white",
            "gridwidth": 2,
            "linecolor": "white",
            "showbackground": true,
            "ticks": "",
            "zerolinecolor": "white"
           },
           "zaxis": {
            "backgroundcolor": "#E5ECF6",
            "gridcolor": "white",
            "gridwidth": 2,
            "linecolor": "white",
            "showbackground": true,
            "ticks": "",
            "zerolinecolor": "white"
           }
          },
          "shapedefaults": {
           "line": {
            "color": "#2a3f5f"
           }
          },
          "ternary": {
           "aaxis": {
            "gridcolor": "white",
            "linecolor": "white",
            "ticks": ""
           },
           "baxis": {
            "gridcolor": "white",
            "linecolor": "white",
            "ticks": ""
           },
           "bgcolor": "#E5ECF6",
           "caxis": {
            "gridcolor": "white",
            "linecolor": "white",
            "ticks": ""
           }
          },
          "title": {
           "x": 0.05
          },
          "xaxis": {
           "automargin": true,
           "gridcolor": "white",
           "linecolor": "white",
           "ticks": "",
           "title": {
            "standoff": 15
           },
           "zerolinecolor": "white",
           "zerolinewidth": 2
          },
          "yaxis": {
           "automargin": true,
           "gridcolor": "white",
           "linecolor": "white",
           "ticks": "",
           "title": {
            "standoff": 15
           },
           "zerolinecolor": "white",
           "zerolinewidth": 2
          }
         }
        },
        "title": {
         "text": "% of Neun+ cells by Tissue Location and Neun_levels"
        },
        "xaxis": {
         "anchor": "y",
         "domain": [
          0,
          1
         ],
         "title": {
          "text": "condition_location"
         }
        },
        "yaxis": {
         "anchor": "x",
         "domain": [
          0,
          1
         ],
         "title": {
          "text": "Percentage"
         }
        }
       }
      }
     },
     "metadata": {},
     "output_type": "display_data"
    }
   ],
   "source": [
    "# Melt the dataframe to get it in long format\n",
    "cluster_counts_melted = cluster_counts.melt(\n",
    "    id_vars=['condition_location', 'filename'], \n",
    "    value_vars=['%_neun_-', '%_low_neun+', '%_high_neun+'], \n",
    "    var_name='Neun_levels', \n",
    "    value_name='Percentage'\n",
    ")\n",
    "\n",
    "# Create the box plot with the melted dataframe\n",
    "fig = px.box(\n",
    "    cluster_counts_melted,\n",
    "    x='condition_location',\n",
    "    y='Percentage',\n",
    "    color='Neun_levels',\n",
    "    points=\"all\",  # Display all points\n",
    "    hover_data=['filename'],\n",
    "    title='% of Neun+ cells by Tissue Location and Neun_levels',\n",
    "    boxmode='group'  # Group the box plots\n",
    ")\n",
    "\n",
    "# Show the plot\n",
    "fig.show()"
   ]
  },
  {
   "cell_type": "code",
   "execution_count": 41,
   "metadata": {},
   "outputs": [
    {
     "data": {
      "application/vnd.plotly.v1+json": {
       "config": {
        "plotlyServerURL": "https://plot.ly"
       },
       "data": [
        {
         "alignmentgroup": "True",
         "boxpoints": "all",
         "customdata": [
          [
           "HI 1 Contralateral Mouse 8 Slide09 GAD67green NeuNpink Reelinred 40x 4x4 technical replica 1"
          ],
          [
           "HI 1 Contralateral Mouse 8 Slide09 GAD67green NeuNpink Reelinred 40x 4x4 technical replica 2"
          ],
          [
           "HI 2 Contralateral Mouse 10 Slide08 GAD67green NeuNpink Reelinred 40x 4x4 technical replica 1"
          ],
          [
           "HI 2 Contralateral Mouse 10 Slide08 GAD67green NeuNpink Reelinred 40x 4x4 technical replica 2"
          ],
          [
           "HI 3 Contralateral Mouse 11 Slide09 GAD67green NeuNpink Reelinred 40x 4x4 technical replica 1"
          ],
          [
           "HI 3 Contralateral Mouse 11 Slide09 GAD67green NeuNpink Reelinred 40x 4x4 technical replica 2"
          ],
          [
           "HI 1 Contralateral Mouse 8 Slide09 GAD67green NeuNpink Reelinred 40x 4x4 technical replica 1"
          ],
          [
           "HI 1 Contralateral Mouse 8 Slide09 GAD67green NeuNpink Reelinred 40x 4x4 technical replica 2"
          ],
          [
           "HI 2 Contralateral Mouse 10 Slide08 GAD67green NeuNpink Reelinred 40x 4x4 technical replica 1"
          ],
          [
           "HI 2 Contralateral Mouse 10 Slide08 GAD67green NeuNpink Reelinred 40x 4x4 technical replica 2"
          ],
          [
           "HI 3 Contralateral Mouse 11 Slide09 GAD67green NeuNpink Reelinred 40x 4x4 technical replica 1"
          ],
          [
           "HI 3 Contralateral Mouse 11 Slide09 GAD67green NeuNpink Reelinred 40x 4x4 technical replica 2"
          ],
          [
           "HI 1 Contralateral Mouse 8 Slide09 GAD67green NeuNpink Reelinred 40x 4x4 technical replica 1"
          ],
          [
           "HI 1 Contralateral Mouse 8 Slide09 GAD67green NeuNpink Reelinred 40x 4x4 technical replica 2"
          ],
          [
           "HI 2 Contralateral Mouse 10 Slide08 GAD67green NeuNpink Reelinred 40x 4x4 technical replica 1"
          ],
          [
           "HI 2 Contralateral Mouse 10 Slide08 GAD67green NeuNpink Reelinred 40x 4x4 technical replica 2"
          ],
          [
           "HI 3 Contralateral Mouse 11 Slide09 GAD67green NeuNpink Reelinred 40x 4x4 technical replica 1"
          ],
          [
           "HI 3 Contralateral Mouse 11 Slide09 GAD67green NeuNpink Reelinred 40x 4x4 technical replica 2"
          ]
         ],
         "hovertemplate": "condition_location=HI_Contralateral<br>Neun_levels=%{x}<br>Percentage=%{y}<br>filename=%{customdata[0]}<extra></extra>",
         "legendgroup": "HI_Contralateral",
         "marker": {
          "color": "#636efa"
         },
         "name": "HI_Contralateral",
         "notched": false,
         "offsetgroup": "HI_Contralateral",
         "orientation": "v",
         "showlegend": true,
         "type": "box",
         "x": [
          "%_neun_-",
          "%_neun_-",
          "%_neun_-",
          "%_neun_-",
          "%_neun_-",
          "%_neun_-",
          "%_low_neun+",
          "%_low_neun+",
          "%_low_neun+",
          "%_low_neun+",
          "%_low_neun+",
          "%_low_neun+",
          "%_high_neun+",
          "%_high_neun+",
          "%_high_neun+",
          "%_high_neun+",
          "%_high_neun+",
          "%_high_neun+"
         ],
         "x0": " ",
         "xaxis": "x",
         "y": [
          76.89839572192514,
          70.2300957035227,
          70.97767513471901,
          69.2326794139558,
          47.07520891364902,
          44.9421018134149,
          22.994652406417114,
          24.903278354713905,
          28.25250192455735,
          28.035758629252545,
          30.013927576601674,
          28.00961328381036,
          0.10695187165775401,
          4.866625941763388,
          0.7698229407236336,
          2.7315619567916563,
          22.910863509749305,
          27.048284902774743
         ],
         "y0": " ",
         "yaxis": "y"
        },
        {
         "alignmentgroup": "True",
         "boxpoints": "all",
         "customdata": [
          [
           "HI 1 Ipsilateral Mouse 8 Slide16 GAD67green NeuNpink Reelinred 40x 4x4 technical replica 1"
          ],
          [
           "HI 1 Ipsilateral Mouse 8 Slide16 GAD67green NeuNpink Reelinred 40x 4x4 technical replica 2"
          ],
          [
           "HI 2 Ipsilateral Mouse 10 Slide08 GAD67green NeuNpink Reelinred 40x 4x4 technical replica 1"
          ],
          [
           "HI 2 Ipsilateral Mouse 10 Slide08 GAD67green NeuNpink Reelinred 40x 4x4 technical replica 2"
          ],
          [
           "HI 3 Ipsilateral Mouse 11 Slide09 GAD67green NeuNpink Reelinred 40x 4x4 technical replica 1"
          ],
          [
           "HI 3 Ipsilateral Mouse 11 Slide09 GAD67green NeuNpink Reelinred 40x 4x4 technical replica 2"
          ],
          [
           "HI 1 Ipsilateral Mouse 8 Slide16 GAD67green NeuNpink Reelinred 40x 4x4 technical replica 1"
          ],
          [
           "HI 1 Ipsilateral Mouse 8 Slide16 GAD67green NeuNpink Reelinred 40x 4x4 technical replica 2"
          ],
          [
           "HI 2 Ipsilateral Mouse 10 Slide08 GAD67green NeuNpink Reelinred 40x 4x4 technical replica 1"
          ],
          [
           "HI 2 Ipsilateral Mouse 10 Slide08 GAD67green NeuNpink Reelinred 40x 4x4 technical replica 2"
          ],
          [
           "HI 3 Ipsilateral Mouse 11 Slide09 GAD67green NeuNpink Reelinred 40x 4x4 technical replica 1"
          ],
          [
           "HI 3 Ipsilateral Mouse 11 Slide09 GAD67green NeuNpink Reelinred 40x 4x4 technical replica 2"
          ],
          [
           "HI 1 Ipsilateral Mouse 8 Slide16 GAD67green NeuNpink Reelinred 40x 4x4 technical replica 1"
          ],
          [
           "HI 1 Ipsilateral Mouse 8 Slide16 GAD67green NeuNpink Reelinred 40x 4x4 technical replica 2"
          ],
          [
           "HI 2 Ipsilateral Mouse 10 Slide08 GAD67green NeuNpink Reelinred 40x 4x4 technical replica 1"
          ],
          [
           "HI 2 Ipsilateral Mouse 10 Slide08 GAD67green NeuNpink Reelinred 40x 4x4 technical replica 2"
          ],
          [
           "HI 3 Ipsilateral Mouse 11 Slide09 GAD67green NeuNpink Reelinred 40x 4x4 technical replica 1"
          ],
          [
           "HI 3 Ipsilateral Mouse 11 Slide09 GAD67green NeuNpink Reelinred 40x 4x4 technical replica 2"
          ]
         ],
         "hovertemplate": "condition_location=HI_Ipsilateral<br>Neun_levels=%{x}<br>Percentage=%{y}<br>filename=%{customdata[0]}<extra></extra>",
         "legendgroup": "HI_Ipsilateral",
         "marker": {
          "color": "#EF553B"
         },
         "name": "HI_Ipsilateral",
         "notched": false,
         "offsetgroup": "HI_Ipsilateral",
         "orientation": "v",
         "showlegend": true,
         "type": "box",
         "x": [
          "%_neun_-",
          "%_neun_-",
          "%_neun_-",
          "%_neun_-",
          "%_neun_-",
          "%_neun_-",
          "%_low_neun+",
          "%_low_neun+",
          "%_low_neun+",
          "%_low_neun+",
          "%_low_neun+",
          "%_low_neun+",
          "%_high_neun+",
          "%_high_neun+",
          "%_high_neun+",
          "%_high_neun+",
          "%_high_neun+",
          "%_high_neun+"
         ],
         "x0": " ",
         "xaxis": "x",
         "y": [
          61.34781397939293,
          42.815092320042815,
          93.14933464760966,
          88.79896406604078,
          70.64399219403401,
          75.03604036520903,
          33.91812865497076,
          42.922130050842924,
          6.554953178905865,
          10.650696018128844,
          26.40089211039866,
          22.080730418068235,
          4.734057365636312,
          14.262777629114263,
          0.2957121734844751,
          0.5503399158303658,
          2.9551156955673266,
          2.883229216722729
         ],
         "y0": " ",
         "yaxis": "y"
        },
        {
         "alignmentgroup": "True",
         "boxpoints": "all",
         "customdata": [
          [
           "Sham 1 Contralateral Mouse 6 Slide09 GAD67green NeuNpink Reelinred 40x 4x4 technical replica 1"
          ],
          [
           "Sham 1 Contralateral Mouse 6 Slide09 GAD67green NeuNpink Reelinred 40x 4x4 technical replica 2"
          ],
          [
           "Sham 1 Ipsilateral Mouse 6 Slide09 GAD67green NeuNpink Reelinred 40x 4x4 technical replica 1"
          ],
          [
           "Sham 1 Ipsilateral Mouse 6 Slide09 GAD67green NeuNpink Reelinred 40x 4x4 technical replica 2"
          ],
          [
           "Sham 2 Contralateral Mouse 7 Slide12 GAD67green NeuNpink Reelinred 40x 4x4 technical replica 1"
          ],
          [
           "Sham 2 Contralateral Mouse 7 Slide12 GAD67green NeuNpink Reelinred 40x 4x4 technical replica 2"
          ],
          [
           "Sham 2 Ipsilateral Mouse 7 Slide12 GAD67green NeuNpink Reelinred 40x 4x4 technical replica 1"
          ],
          [
           "Sham 2 Ipsilateral Mouse 7 Slide12 GAD67green NeuNpink Reelinred 40x 4x4 technical replica 2"
          ],
          [
           "Sham 1 Contralateral Mouse 6 Slide09 GAD67green NeuNpink Reelinred 40x 4x4 technical replica 1"
          ],
          [
           "Sham 1 Contralateral Mouse 6 Slide09 GAD67green NeuNpink Reelinred 40x 4x4 technical replica 2"
          ],
          [
           "Sham 1 Ipsilateral Mouse 6 Slide09 GAD67green NeuNpink Reelinred 40x 4x4 technical replica 1"
          ],
          [
           "Sham 1 Ipsilateral Mouse 6 Slide09 GAD67green NeuNpink Reelinred 40x 4x4 technical replica 2"
          ],
          [
           "Sham 2 Contralateral Mouse 7 Slide12 GAD67green NeuNpink Reelinred 40x 4x4 technical replica 1"
          ],
          [
           "Sham 2 Contralateral Mouse 7 Slide12 GAD67green NeuNpink Reelinred 40x 4x4 technical replica 2"
          ],
          [
           "Sham 2 Ipsilateral Mouse 7 Slide12 GAD67green NeuNpink Reelinred 40x 4x4 technical replica 1"
          ],
          [
           "Sham 2 Ipsilateral Mouse 7 Slide12 GAD67green NeuNpink Reelinred 40x 4x4 technical replica 2"
          ],
          [
           "Sham 1 Contralateral Mouse 6 Slide09 GAD67green NeuNpink Reelinred 40x 4x4 technical replica 1"
          ],
          [
           "Sham 1 Contralateral Mouse 6 Slide09 GAD67green NeuNpink Reelinred 40x 4x4 technical replica 2"
          ],
          [
           "Sham 1 Ipsilateral Mouse 6 Slide09 GAD67green NeuNpink Reelinred 40x 4x4 technical replica 1"
          ],
          [
           "Sham 1 Ipsilateral Mouse 6 Slide09 GAD67green NeuNpink Reelinred 40x 4x4 technical replica 2"
          ],
          [
           "Sham 2 Contralateral Mouse 7 Slide12 GAD67green NeuNpink Reelinred 40x 4x4 technical replica 1"
          ],
          [
           "Sham 2 Contralateral Mouse 7 Slide12 GAD67green NeuNpink Reelinred 40x 4x4 technical replica 2"
          ],
          [
           "Sham 2 Ipsilateral Mouse 7 Slide12 GAD67green NeuNpink Reelinred 40x 4x4 technical replica 1"
          ],
          [
           "Sham 2 Ipsilateral Mouse 7 Slide12 GAD67green NeuNpink Reelinred 40x 4x4 technical replica 2"
          ]
         ],
         "hovertemplate": "condition_location=Sham<br>Neun_levels=%{x}<br>Percentage=%{y}<br>filename=%{customdata[0]}<extra></extra>",
         "legendgroup": "Sham",
         "marker": {
          "color": "#00cc96"
         },
         "name": "Sham",
         "notched": false,
         "offsetgroup": "Sham",
         "orientation": "v",
         "showlegend": true,
         "type": "box",
         "x": [
          "%_neun_-",
          "%_neun_-",
          "%_neun_-",
          "%_neun_-",
          "%_neun_-",
          "%_neun_-",
          "%_neun_-",
          "%_neun_-",
          "%_low_neun+",
          "%_low_neun+",
          "%_low_neun+",
          "%_low_neun+",
          "%_low_neun+",
          "%_low_neun+",
          "%_low_neun+",
          "%_low_neun+",
          "%_high_neun+",
          "%_high_neun+",
          "%_high_neun+",
          "%_high_neun+",
          "%_high_neun+",
          "%_high_neun+",
          "%_high_neun+",
          "%_high_neun+"
         ],
         "x0": " ",
         "xaxis": "x",
         "y": [
          77.03810902074288,
          83.0050505050505,
          75.6730536017463,
          79.88712160082093,
          59.216965742251226,
          61.22239342578326,
          61.175337186897885,
          52.35470941883767,
          22.793053545586105,
          16.944444444444446,
          23.963133640552993,
          20.061570035915853,
          24.524197933659597,
          21.21212121212121,
          23.892100192678228,
          28.031062124248496,
          0.1688374336710082,
          0.050505050505050504,
          0.36381275770070337,
          0.0513083632632119,
          16.25883632408918,
          17.565485362095533,
          14.932562620423893,
          19.614228456913825
         ],
         "y0": " ",
         "yaxis": "y"
        }
       ],
       "layout": {
        "boxmode": "group",
        "legend": {
         "title": {
          "text": "condition_location"
         },
         "tracegroupgap": 0
        },
        "template": {
         "data": {
          "bar": [
           {
            "error_x": {
             "color": "#2a3f5f"
            },
            "error_y": {
             "color": "#2a3f5f"
            },
            "marker": {
             "line": {
              "color": "#E5ECF6",
              "width": 0.5
             },
             "pattern": {
              "fillmode": "overlay",
              "size": 10,
              "solidity": 0.2
             }
            },
            "type": "bar"
           }
          ],
          "barpolar": [
           {
            "marker": {
             "line": {
              "color": "#E5ECF6",
              "width": 0.5
             },
             "pattern": {
              "fillmode": "overlay",
              "size": 10,
              "solidity": 0.2
             }
            },
            "type": "barpolar"
           }
          ],
          "carpet": [
           {
            "aaxis": {
             "endlinecolor": "#2a3f5f",
             "gridcolor": "white",
             "linecolor": "white",
             "minorgridcolor": "white",
             "startlinecolor": "#2a3f5f"
            },
            "baxis": {
             "endlinecolor": "#2a3f5f",
             "gridcolor": "white",
             "linecolor": "white",
             "minorgridcolor": "white",
             "startlinecolor": "#2a3f5f"
            },
            "type": "carpet"
           }
          ],
          "choropleth": [
           {
            "colorbar": {
             "outlinewidth": 0,
             "ticks": ""
            },
            "type": "choropleth"
           }
          ],
          "contour": [
           {
            "colorbar": {
             "outlinewidth": 0,
             "ticks": ""
            },
            "colorscale": [
             [
              0,
              "#0d0887"
             ],
             [
              0.1111111111111111,
              "#46039f"
             ],
             [
              0.2222222222222222,
              "#7201a8"
             ],
             [
              0.3333333333333333,
              "#9c179e"
             ],
             [
              0.4444444444444444,
              "#bd3786"
             ],
             [
              0.5555555555555556,
              "#d8576b"
             ],
             [
              0.6666666666666666,
              "#ed7953"
             ],
             [
              0.7777777777777778,
              "#fb9f3a"
             ],
             [
              0.8888888888888888,
              "#fdca26"
             ],
             [
              1,
              "#f0f921"
             ]
            ],
            "type": "contour"
           }
          ],
          "contourcarpet": [
           {
            "colorbar": {
             "outlinewidth": 0,
             "ticks": ""
            },
            "type": "contourcarpet"
           }
          ],
          "heatmap": [
           {
            "colorbar": {
             "outlinewidth": 0,
             "ticks": ""
            },
            "colorscale": [
             [
              0,
              "#0d0887"
             ],
             [
              0.1111111111111111,
              "#46039f"
             ],
             [
              0.2222222222222222,
              "#7201a8"
             ],
             [
              0.3333333333333333,
              "#9c179e"
             ],
             [
              0.4444444444444444,
              "#bd3786"
             ],
             [
              0.5555555555555556,
              "#d8576b"
             ],
             [
              0.6666666666666666,
              "#ed7953"
             ],
             [
              0.7777777777777778,
              "#fb9f3a"
             ],
             [
              0.8888888888888888,
              "#fdca26"
             ],
             [
              1,
              "#f0f921"
             ]
            ],
            "type": "heatmap"
           }
          ],
          "heatmapgl": [
           {
            "colorbar": {
             "outlinewidth": 0,
             "ticks": ""
            },
            "colorscale": [
             [
              0,
              "#0d0887"
             ],
             [
              0.1111111111111111,
              "#46039f"
             ],
             [
              0.2222222222222222,
              "#7201a8"
             ],
             [
              0.3333333333333333,
              "#9c179e"
             ],
             [
              0.4444444444444444,
              "#bd3786"
             ],
             [
              0.5555555555555556,
              "#d8576b"
             ],
             [
              0.6666666666666666,
              "#ed7953"
             ],
             [
              0.7777777777777778,
              "#fb9f3a"
             ],
             [
              0.8888888888888888,
              "#fdca26"
             ],
             [
              1,
              "#f0f921"
             ]
            ],
            "type": "heatmapgl"
           }
          ],
          "histogram": [
           {
            "marker": {
             "pattern": {
              "fillmode": "overlay",
              "size": 10,
              "solidity": 0.2
             }
            },
            "type": "histogram"
           }
          ],
          "histogram2d": [
           {
            "colorbar": {
             "outlinewidth": 0,
             "ticks": ""
            },
            "colorscale": [
             [
              0,
              "#0d0887"
             ],
             [
              0.1111111111111111,
              "#46039f"
             ],
             [
              0.2222222222222222,
              "#7201a8"
             ],
             [
              0.3333333333333333,
              "#9c179e"
             ],
             [
              0.4444444444444444,
              "#bd3786"
             ],
             [
              0.5555555555555556,
              "#d8576b"
             ],
             [
              0.6666666666666666,
              "#ed7953"
             ],
             [
              0.7777777777777778,
              "#fb9f3a"
             ],
             [
              0.8888888888888888,
              "#fdca26"
             ],
             [
              1,
              "#f0f921"
             ]
            ],
            "type": "histogram2d"
           }
          ],
          "histogram2dcontour": [
           {
            "colorbar": {
             "outlinewidth": 0,
             "ticks": ""
            },
            "colorscale": [
             [
              0,
              "#0d0887"
             ],
             [
              0.1111111111111111,
              "#46039f"
             ],
             [
              0.2222222222222222,
              "#7201a8"
             ],
             [
              0.3333333333333333,
              "#9c179e"
             ],
             [
              0.4444444444444444,
              "#bd3786"
             ],
             [
              0.5555555555555556,
              "#d8576b"
             ],
             [
              0.6666666666666666,
              "#ed7953"
             ],
             [
              0.7777777777777778,
              "#fb9f3a"
             ],
             [
              0.8888888888888888,
              "#fdca26"
             ],
             [
              1,
              "#f0f921"
             ]
            ],
            "type": "histogram2dcontour"
           }
          ],
          "mesh3d": [
           {
            "colorbar": {
             "outlinewidth": 0,
             "ticks": ""
            },
            "type": "mesh3d"
           }
          ],
          "parcoords": [
           {
            "line": {
             "colorbar": {
              "outlinewidth": 0,
              "ticks": ""
             }
            },
            "type": "parcoords"
           }
          ],
          "pie": [
           {
            "automargin": true,
            "type": "pie"
           }
          ],
          "scatter": [
           {
            "fillpattern": {
             "fillmode": "overlay",
             "size": 10,
             "solidity": 0.2
            },
            "type": "scatter"
           }
          ],
          "scatter3d": [
           {
            "line": {
             "colorbar": {
              "outlinewidth": 0,
              "ticks": ""
             }
            },
            "marker": {
             "colorbar": {
              "outlinewidth": 0,
              "ticks": ""
             }
            },
            "type": "scatter3d"
           }
          ],
          "scattercarpet": [
           {
            "marker": {
             "colorbar": {
              "outlinewidth": 0,
              "ticks": ""
             }
            },
            "type": "scattercarpet"
           }
          ],
          "scattergeo": [
           {
            "marker": {
             "colorbar": {
              "outlinewidth": 0,
              "ticks": ""
             }
            },
            "type": "scattergeo"
           }
          ],
          "scattergl": [
           {
            "marker": {
             "colorbar": {
              "outlinewidth": 0,
              "ticks": ""
             }
            },
            "type": "scattergl"
           }
          ],
          "scattermapbox": [
           {
            "marker": {
             "colorbar": {
              "outlinewidth": 0,
              "ticks": ""
             }
            },
            "type": "scattermapbox"
           }
          ],
          "scatterpolar": [
           {
            "marker": {
             "colorbar": {
              "outlinewidth": 0,
              "ticks": ""
             }
            },
            "type": "scatterpolar"
           }
          ],
          "scatterpolargl": [
           {
            "marker": {
             "colorbar": {
              "outlinewidth": 0,
              "ticks": ""
             }
            },
            "type": "scatterpolargl"
           }
          ],
          "scatterternary": [
           {
            "marker": {
             "colorbar": {
              "outlinewidth": 0,
              "ticks": ""
             }
            },
            "type": "scatterternary"
           }
          ],
          "surface": [
           {
            "colorbar": {
             "outlinewidth": 0,
             "ticks": ""
            },
            "colorscale": [
             [
              0,
              "#0d0887"
             ],
             [
              0.1111111111111111,
              "#46039f"
             ],
             [
              0.2222222222222222,
              "#7201a8"
             ],
             [
              0.3333333333333333,
              "#9c179e"
             ],
             [
              0.4444444444444444,
              "#bd3786"
             ],
             [
              0.5555555555555556,
              "#d8576b"
             ],
             [
              0.6666666666666666,
              "#ed7953"
             ],
             [
              0.7777777777777778,
              "#fb9f3a"
             ],
             [
              0.8888888888888888,
              "#fdca26"
             ],
             [
              1,
              "#f0f921"
             ]
            ],
            "type": "surface"
           }
          ],
          "table": [
           {
            "cells": {
             "fill": {
              "color": "#EBF0F8"
             },
             "line": {
              "color": "white"
             }
            },
            "header": {
             "fill": {
              "color": "#C8D4E3"
             },
             "line": {
              "color": "white"
             }
            },
            "type": "table"
           }
          ]
         },
         "layout": {
          "annotationdefaults": {
           "arrowcolor": "#2a3f5f",
           "arrowhead": 0,
           "arrowwidth": 1
          },
          "autotypenumbers": "strict",
          "coloraxis": {
           "colorbar": {
            "outlinewidth": 0,
            "ticks": ""
           }
          },
          "colorscale": {
           "diverging": [
            [
             0,
             "#8e0152"
            ],
            [
             0.1,
             "#c51b7d"
            ],
            [
             0.2,
             "#de77ae"
            ],
            [
             0.3,
             "#f1b6da"
            ],
            [
             0.4,
             "#fde0ef"
            ],
            [
             0.5,
             "#f7f7f7"
            ],
            [
             0.6,
             "#e6f5d0"
            ],
            [
             0.7,
             "#b8e186"
            ],
            [
             0.8,
             "#7fbc41"
            ],
            [
             0.9,
             "#4d9221"
            ],
            [
             1,
             "#276419"
            ]
           ],
           "sequential": [
            [
             0,
             "#0d0887"
            ],
            [
             0.1111111111111111,
             "#46039f"
            ],
            [
             0.2222222222222222,
             "#7201a8"
            ],
            [
             0.3333333333333333,
             "#9c179e"
            ],
            [
             0.4444444444444444,
             "#bd3786"
            ],
            [
             0.5555555555555556,
             "#d8576b"
            ],
            [
             0.6666666666666666,
             "#ed7953"
            ],
            [
             0.7777777777777778,
             "#fb9f3a"
            ],
            [
             0.8888888888888888,
             "#fdca26"
            ],
            [
             1,
             "#f0f921"
            ]
           ],
           "sequentialminus": [
            [
             0,
             "#0d0887"
            ],
            [
             0.1111111111111111,
             "#46039f"
            ],
            [
             0.2222222222222222,
             "#7201a8"
            ],
            [
             0.3333333333333333,
             "#9c179e"
            ],
            [
             0.4444444444444444,
             "#bd3786"
            ],
            [
             0.5555555555555556,
             "#d8576b"
            ],
            [
             0.6666666666666666,
             "#ed7953"
            ],
            [
             0.7777777777777778,
             "#fb9f3a"
            ],
            [
             0.8888888888888888,
             "#fdca26"
            ],
            [
             1,
             "#f0f921"
            ]
           ]
          },
          "colorway": [
           "#636efa",
           "#EF553B",
           "#00cc96",
           "#ab63fa",
           "#FFA15A",
           "#19d3f3",
           "#FF6692",
           "#B6E880",
           "#FF97FF",
           "#FECB52"
          ],
          "font": {
           "color": "#2a3f5f"
          },
          "geo": {
           "bgcolor": "white",
           "lakecolor": "white",
           "landcolor": "#E5ECF6",
           "showlakes": true,
           "showland": true,
           "subunitcolor": "white"
          },
          "hoverlabel": {
           "align": "left"
          },
          "hovermode": "closest",
          "mapbox": {
           "style": "light"
          },
          "paper_bgcolor": "white",
          "plot_bgcolor": "#E5ECF6",
          "polar": {
           "angularaxis": {
            "gridcolor": "white",
            "linecolor": "white",
            "ticks": ""
           },
           "bgcolor": "#E5ECF6",
           "radialaxis": {
            "gridcolor": "white",
            "linecolor": "white",
            "ticks": ""
           }
          },
          "scene": {
           "xaxis": {
            "backgroundcolor": "#E5ECF6",
            "gridcolor": "white",
            "gridwidth": 2,
            "linecolor": "white",
            "showbackground": true,
            "ticks": "",
            "zerolinecolor": "white"
           },
           "yaxis": {
            "backgroundcolor": "#E5ECF6",
            "gridcolor": "white",
            "gridwidth": 2,
            "linecolor": "white",
            "showbackground": true,
            "ticks": "",
            "zerolinecolor": "white"
           },
           "zaxis": {
            "backgroundcolor": "#E5ECF6",
            "gridcolor": "white",
            "gridwidth": 2,
            "linecolor": "white",
            "showbackground": true,
            "ticks": "",
            "zerolinecolor": "white"
           }
          },
          "shapedefaults": {
           "line": {
            "color": "#2a3f5f"
           }
          },
          "ternary": {
           "aaxis": {
            "gridcolor": "white",
            "linecolor": "white",
            "ticks": ""
           },
           "baxis": {
            "gridcolor": "white",
            "linecolor": "white",
            "ticks": ""
           },
           "bgcolor": "#E5ECF6",
           "caxis": {
            "gridcolor": "white",
            "linecolor": "white",
            "ticks": ""
           }
          },
          "title": {
           "x": 0.05
          },
          "xaxis": {
           "automargin": true,
           "gridcolor": "white",
           "linecolor": "white",
           "ticks": "",
           "title": {
            "standoff": 15
           },
           "zerolinecolor": "white",
           "zerolinewidth": 2
          },
          "yaxis": {
           "automargin": true,
           "gridcolor": "white",
           "linecolor": "white",
           "ticks": "",
           "title": {
            "standoff": 15
           },
           "zerolinecolor": "white",
           "zerolinewidth": 2
          }
         }
        },
        "title": {
         "text": "% of Neun+ cells by Neun_levels and Tissue Location"
        },
        "xaxis": {
         "anchor": "y",
         "domain": [
          0,
          1
         ],
         "title": {
          "text": "Neun_levels"
         }
        },
        "yaxis": {
         "anchor": "x",
         "domain": [
          0,
          1
         ],
         "title": {
          "text": "Percentage"
         }
        }
       }
      }
     },
     "metadata": {},
     "output_type": "display_data"
    }
   ],
   "source": [
    "# Create the box plot with the melted dataframe\n",
    "fig = px.box(\n",
    "    cluster_counts_melted,\n",
    "    x='Neun_levels',  # Display conditions on the x-axis\n",
    "    y='Percentage',\n",
    "    color='condition_location',  # Color based on condition location\n",
    "    points=\"all\",  # Display all points\n",
    "    hover_data=['filename'],\n",
    "    title='% of Neun+ cells by Neun_levels and Tissue Location',\n",
    "    boxmode='group'  # Group the box plots\n",
    ")\n",
    "\n",
    "# Show the plot\n",
    "fig.show()"
   ]
  }
 ],
 "metadata": {
  "kernelspec": {
   "display_name": "microglia_GPU",
   "language": "python",
   "name": "python3"
  },
  "language_info": {
   "codemirror_mode": {
    "name": "ipython",
    "version": 3
   },
   "file_extension": ".py",
   "mimetype": "text/x-python",
   "name": "python",
   "nbconvert_exporter": "python",
   "pygments_lexer": "ipython3",
   "version": "3.9.19"
  }
 },
 "nbformat": 4,
 "nbformat_minor": 2
}
